{
 "cells": [
  {
   "cell_type": "markdown",
   "metadata": {},
   "source": [
    "# TWAS FUSION for one gene ENSG00000153814 (JAZF1) with 36 tissues"
   ]
  },
  {
   "cell_type": "markdown",
   "metadata": {},
   "source": [
    "## Extraction of data \n",
    "Done locally to extract the data for each tissues and transformed them into plink trio "
   ]
  },
  {
   "cell_type": "code",
   "execution_count": 1,
   "metadata": {},
   "outputs": [
    {
     "name": "stderr",
     "output_type": "stream",
     "text": [
      "Warning message in gzfile(file, \"rb\"):\n",
      "“cannot open compressed file '/home/hs3163/Downloads/ENSG00000153814.11.GTEx_V8.rds', probable reason 'No such file or directory'”\n"
     ]
    },
    {
     "ename": "ERROR",
     "evalue": "Error in gzfile(file, \"rb\"): cannot open the connection\n",
     "output_type": "error",
     "traceback": [
      "Error in gzfile(file, \"rb\"): cannot open the connection\nTraceback:\n",
      "1. readRDS(\"~/Downloads/ENSG00000153814.11.GTEx_V8.rds\")",
      "2. gzfile(file, \"rb\")"
     ]
    }
   ],
   "source": [
    "dat = readRDS(\"~//ENSG00000153814.11.GTEx_V8.rds\")\n",
    "\n",
    "dat$X%>%colnames()\n",
    "\n",
    "bim = dat$X%>%colnames()\n",
    "\n",
    "bim = read.table( text = bim, sep = \"_\")\n",
    "bim$V1 = 7\n",
    "bim = bim%>%mutate(name = dat$X%>%colnames(), zero = 0  )%>%select(V1,name,zero,V2,V3,V4)\n",
    "colnames(bim) = c(\"chr\",\"id\",\"posg\",\"pos\",\"ref\",\"alt\")\n",
    "install.packages(\"genio\")\n",
    "library(\"genio\")\n",
    "\n",
    "output_path_pre = paste(\"~/Project/one_gene/\")\n",
    "output_path_named = paste(\"/cache/GTEx_V8.ENSG00000153814.11\")\n",
    "\n",
    "working = tibble(tissue = y)\n",
    "working = working%>%filter(!str_detect(tissue,\"Brain\"))\n",
    "working = working%>%mutate(\n",
    "  fam = map(tissue, ~dat$y[[which(names(dat$y) == .x )]]%>%as_tibble(rownames = \"fam_ID\")%>%mutate(sample_ID = fam_ID,V2 = 0, V3 = 0, V4 = 0)%>%select(\"fam\" = fam_ID, \"id\" = sample_ID, \"pat\" = V2, \"mat\" = V3, \"sex\" = V4,\"pheno\" = V1)),\n",
    "  fam_sample = map(fam,~.x$fam),\n",
    "  bed_prime = map(fam_sample, ~dat$X%>%as_tibble(rownames = NA)%>%filter(rownames(dat$X%>%as_tibble(rownames = NA)) %in% .x ))\n",
    "  \n",
    "  )\n",
    "\n",
    "\n",
    "working = working%>%mutate(bed = map(bed_prime,~.x%>%as.matrix(rownames.force = TRUE)%>%t()))\n",
    "working = working%>%mutate(output_path = map_chr(tissue, ~paste(c(output_path_pre,.x,output_path_named),collapse = \"\") ))\n",
    "\n",
    "working%>%mutate(output = pmap(list(bed,fam,output_path),function(first,second,third) write_plink(third, first, bim = bim, fam = second) ) )\n",
    "working$tissue%>%as_tibble()%>%write_delim(\"~/tissue.out\",delim = \"\\t\")\n"
   ]
  },
  {
   "cell_type": "code",
   "execution_count": 185,
   "metadata": {},
   "outputs": [
    {
     "ename": "ERROR",
     "evalue": "Error in eval(expr, envir, enclos): object 'dat' not found\n",
     "output_type": "error",
     "traceback": [
      "Error in eval(expr, envir, enclos): object 'dat' not found\nTraceback:\n"
     ]
    }
   ],
   "source": []
  },
  {
   "cell_type": "markdown",
   "metadata": {},
   "source": [
    "## Make needed file\n",
    "Done on the cluster."
   ]
  },
  {
   "cell_type": "code",
   "execution_count": null,
   "metadata": {},
   "outputs": [],
   "source": [
    "\n",
    "\n",
    "cd ~/Project/one_gene\n",
    "for i in `ls` ; do \n",
    "touch one_gene/$i/cache/GTEx_V8.ENSG00000153814.exp \n",
    "touch one_gene/$i/cache/GTEx_V8.ENSG00000153814.pheno ; done\n",
    "head /home/hs3163/Project/Alz/data/RSM_Alz_region_list_DLPFC.txt > rg_ls\n",
    "cat /home/hs3163/Project/Alz/data/RSM_Alz_region_list_DLPFC.txt | grep ENSG00000153814 >> rg_ls\n",
    "tail -36 tissue.out > tissue.out\n",
    "\n",
    "\n",
    "\n",
    "cd ~/Project/one_gene\n",
    "for i in `cat ~/Project/one_gene/passed_tissue` ; do echo ~/Project/one_gene/$i/ ; done\n",
    "\n",
    "\n"
   ]
  },
  {
   "cell_type": "markdown",
   "metadata": {},
   "source": [
    "## Command to run fusion for each genes"
   ]
  },
  {
   "cell_type": "code",
   "execution_count": null,
   "metadata": {},
   "outputs": [],
   "source": [
    "\n",
    "\n",
    "for tissue in `cat ~/Project/one_gene/passed_tissue`; do\n",
    "cd $tissue\n",
    "nohup sos run ~/GIT/neuro-twas/workflow/twas_fusion.ipynb compute_wgt  \\\n",
    "  --gwas_sumstat /home/hs3163/Project/Alz/data/AD_sumstats_Jansenetal_2019sept.txt \\\n",
    "  --molecular-pheno  /home/hs3163/Project/one_gene/GTEx_V8.txt  \\\n",
    "  --wd /home/hs3163/Project/one_gene/$tissue/ \\\n",
    "  --genotype_list /home/hs3163/Project/Rosmap/data/Rosmap_wgs_genotype_list.txt \\\n",
    "  --region_list /home/hs3163/Project/one_gene/GTEx_V8.txt \\\n",
    "  --region_name 1 \\\n",
    "  --data_start 2 \\\n",
    "  --window 500000 \\\n",
    "  --container /mnt/mfs/statgen/containers/twas_latest.sif \\\n",
    "  --model bslmm blup lasso top1 enet \\\n",
    "  --job_size 1 \\\n",
    "  --asso_mem \"60G\" -s build \\\n",
    "  -J 6 -q csg -c /home/hs3163/GIT/neuro-twas/code/csg.yml &\n",
    "cd ..\n",
    "done\n",
    "\n",
    "  \n",
    "\n",
    "for sumstat in `cat ~/Project/one_gene/data/sumstat_list`;do\n",
    "    mkdir $sumstat\n",
    "    cd $sumstat\n",
    "    for tissue in `cat ~/Project/one_gene/passed_tissue`; do\n",
    "    mkdir $tissue\n",
    "    cd $tissue\n",
    "    nohup sos run ~/GIT/neuro-twas/workflow/twas_fusion.ipynb association_test  \\\n",
    "    --gwas_sumstat /home/hs3163/Project/one_gene/data/$sumstat \\\n",
    "    --molecular-pheno  /home/hs3163/Project/one_gene/GTEx_V8.txt  \\\n",
    "    --wd /home/hs3163/Project/one_gene/$sumstat/$tissue/ \\\n",
    "    --weights_path /home/hs3163/Project/one_gene/$tissue/WEIGHTS \\\n",
    "    --genotype_list /home/hs3163/Project/one_gene/data/geno_list \\\n",
    "    --region_list /home/hs3163/Project/one_gene/GTEx_V8.txt \\\n",
    "    --region_name 1 \\\n",
    "    --data_start 2 \\\n",
    "    --window 500000 \\\n",
    "    --container /mnt/mfs/statgen/containers/twas_latest.sif \\\n",
    "    --model bslmm blup lasso top1 enet \\\n",
    "    --job_size 1  -s build\\\n",
    "    --max_impute 1 \\\n",
    "    --asso_mem \"60G\" \\\n",
    "    -J 6 -q csg -c /home/hs3163/GIT/neuro-twas/code/csg.yml &\n",
    "    cd .. ;\n",
    "    done\n",
    "    cd ..;\n",
    "    done"
   ]
  },
  {
   "cell_type": "code",
   "execution_count": null,
   "metadata": {},
   "outputs": [],
   "source": []
  },
  {
   "cell_type": "code",
   "execution_count": null,
   "metadata": {},
   "outputs": [],
   "source": []
  },
  {
   "cell_type": "code",
   "execution_count": null,
   "metadata": {},
   "outputs": [],
   "source": []
  },
  {
   "cell_type": "code",
   "execution_count": null,
   "metadata": {},
   "outputs": [],
   "source": []
  },
  {
   "cell_type": "markdown",
   "metadata": {},
   "source": [
    "## Analysis of estimated weights"
   ]
  },
  {
   "cell_type": "code",
   "execution_count": 2,
   "metadata": {},
   "outputs": [
    {
     "name": "stderr",
     "output_type": "stream",
     "text": [
      "\n",
      "Attaching package: ‘dplyr’\n",
      "\n",
      "\n",
      "The following objects are masked from ‘package:stats’:\n",
      "\n",
      "    filter, lag\n",
      "\n",
      "\n",
      "The following objects are masked from ‘package:base’:\n",
      "\n",
      "    intersect, setdiff, setequal, union\n",
      "\n",
      "\n",
      "Loading required package: magrittr\n",
      "\n",
      "\n",
      "Attaching package: ‘magrittr’\n",
      "\n",
      "\n",
      "The following object is masked from ‘package:tidyr’:\n",
      "\n",
      "    extract\n",
      "\n",
      "\n",
      "The following object is masked from ‘package:purrr’:\n",
      "\n",
      "    set_names\n",
      "\n",
      "\n"
     ]
    }
   ],
   "source": [
    "library(dplyr)\n",
    "library(readr)\n",
    "library(tibble)\n",
    "library(ggplot2)\n",
    "library(purrr)\n",
    "library(tidyr)\n",
    "library(\"ggpubr\")"
   ]
  },
  {
   "cell_type": "code",
   "execution_count": 2,
   "metadata": {},
   "outputs": [
    {
     "name": "stderr",
     "output_type": "stream",
     "text": [
      "\n",
      "\u001b[36m──\u001b[39m \u001b[1m\u001b[1mColumn specification\u001b[1m\u001b[22m \u001b[36m────────────────────────────────────────────────────────\u001b[39m\n",
      "cols(\n",
      "  X1 = \u001b[31mcol_character()\u001b[39m\n",
      ")\n",
      "\n",
      "\n",
      "\n",
      "\u001b[36m──\u001b[39m \u001b[1m\u001b[1mColumn specification\u001b[1m\u001b[22m \u001b[36m────────────────────────────────────────────────────────\u001b[39m\n",
      "cols(\n",
      "  X1 = \u001b[32mcol_double()\u001b[39m,\n",
      "  CHR = \u001b[32mcol_double()\u001b[39m,\n",
      "  POS = \u001b[32mcol_double()\u001b[39m,\n",
      "  REF = \u001b[31mcol_character()\u001b[39m,\n",
      "  ALT = \u001b[31mcol_character()\u001b[39m,\n",
      "  SNP = \u001b[31mcol_character()\u001b[39m,\n",
      "  BETA = \u001b[32mcol_double()\u001b[39m,\n",
      "  SE = \u001b[32mcol_double()\u001b[39m,\n",
      "  P = \u001b[32mcol_double()\u001b[39m,\n",
      "  cood38 = \u001b[32mcol_double()\u001b[39m,\n",
      "  cood37 = \u001b[32mcol_double()\u001b[39m,\n",
      "  qc = \u001b[32mcol_double()\u001b[39m,\n",
      "  Dif = \u001b[32mcol_double()\u001b[39m,\n",
      "  SNP_new = \u001b[31mcol_character()\u001b[39m,\n",
      "  A1 = \u001b[31mcol_character()\u001b[39m,\n",
      "  A2 = \u001b[31mcol_character()\u001b[39m,\n",
      "  Z = \u001b[32mcol_double()\u001b[39m\n",
      ")\n",
      "\n",
      "\n",
      "\n",
      "\u001b[36m──\u001b[39m \u001b[1m\u001b[1mColumn specification\u001b[1m\u001b[22m \u001b[36m────────────────────────────────────────────────────────\u001b[39m\n",
      "cols(\n",
      "  X1 = \u001b[32mcol_double()\u001b[39m,\n",
      "  X2 = \u001b[31mcol_character()\u001b[39m,\n",
      "  X3 = \u001b[32mcol_double()\u001b[39m,\n",
      "  X4 = \u001b[32mcol_double()\u001b[39m,\n",
      "  X5 = \u001b[31mcol_character()\u001b[39m,\n",
      "  X6 = \u001b[31mcol_character()\u001b[39m\n",
      ")\n",
      "\n",
      "\n"
     ]
    }
   ],
   "source": [
    "dir = \"/home/hs3163/Project/one_gene/\" \n",
    "tissue = read_delim(\"/home/hs3163/Project/one_gene/passed_tissue\",delim = \"\\t\",col_names = F )\n",
    "Asthma.sumstat = read_delim(\"/home/hs3163/Project/one_gene/data/Asthma.sumstat\",delim = \"\\t\" )\n",
    "\n",
    "bim = read_delim(\"~/Project/one_gene/data/GTEx.ref.bim\",delim= \"\\t\",col_names = F)\n",
    "Mark_1 = \"chr7_27868489_C_A_b38\"\n",
    "Mark_2 = \"chr7_28274005_C_A_b38\""
   ]
  },
  {
   "cell_type": "code",
   "execution_count": 8,
   "metadata": {},
   "outputs": [],
   "source": [
    "bim$X2%>%as.tibble()%>%write_delim(\"~/JAZF1_SNP\",delim = \"\\t\")"
   ]
  },
  {
   "cell_type": "code",
   "execution_count": 254,
   "metadata": {},
   "outputs": [
    {
     "name": "stderr",
     "output_type": "stream",
     "text": [
      "Warning message:\n",
      "“Unknown or uninitialised column: `X3`.”\n"
     ]
    },
    {
     "ename": "ERROR",
     "evalue": "Error: Problem with `filter()` input `..1`.\n\u001b[34mℹ\u001b[39m Input `..1` is `X3 %in% overlapped`.\n\u001b[31m✖\u001b[39m object 'X3' not found\n",
     "output_type": "error",
     "traceback": [
      "Error: Problem with `filter()` input `..1`.\n\u001b[34mℹ\u001b[39m Input `..1` is `X3 %in% overlapped`.\n\u001b[31m✖\u001b[39m object 'X3' not found\nTraceback:\n",
      "1. Asthma.sumstat %>% filter(X3 %in% overlapped)",
      "2. filter(., X3 %in% overlapped)",
      "3. filter.data.frame(., X3 %in% overlapped)",
      "4. filter_rows(.data, ...)",
      "5. withCallingHandlers({\n .     dots <- new_quosures(flatten(imap(dots, function(dot, index) {\n .         env_filter$current_expression <- index\n .         expand_if_across(dot)\n .     })))\n .     mask$eval_all_filter(dots, env_filter)\n . }, error = function(e) {\n .     local_call_step(dots = dots, .index = env_filter$current_expression, \n .         .fn = \"filter\")\n .     abort(c(cnd_bullet_header(), i = cnd_bullet_input_info(), \n .         x = conditionMessage(e), i = cnd_bullet_cur_group_label()), \n .         class = \"dplyr_error\")\n . })",
      "6. mask$eval_all_filter(dots, env_filter)",
      "7. X3 %in% overlapped",
      "8. .handleSimpleError(function (e) \n . {\n .     local_call_step(dots = dots, .index = env_filter$current_expression, \n .         .fn = \"filter\")\n .     abort(c(cnd_bullet_header(), i = cnd_bullet_input_info(), \n .         x = conditionMessage(e), i = cnd_bullet_cur_group_label()), \n .         class = \"dplyr_error\")\n . }, \"object 'X3' not found\", base::quote(X3 %in% overlapped))",
      "9. h(simpleError(msg, call))",
      "10. abort(c(cnd_bullet_header(), i = cnd_bullet_input_info(), x = conditionMessage(e), \n  .     i = cnd_bullet_cur_group_label()), class = \"dplyr_error\")",
      "11. signal_abort(cnd)"
     ]
    }
   ],
   "source": [
    "overlapped = intersect(Asthma.sumstat$X3,bim$X4)\n",
    "Asthma.sumstat%>%filter(X3%in% overlapped)\n",
    "bim%>%filter(X4%in% overlapped)\n",
    "overlap_snv = tibble(\n",
    "UKB_id = Asthma.sumstat%>%filter(X3%in% overlapped)%>%pull(X11),\n",
    "UKB_ref= Asthma.sumstat%>%filter(X3%in% overlapped)%>%pull(X4),\n",
    "UKB_alt= Asthma.sumstat%>%filter(X3%in% overlapped)%>%pull(X5),\n",
    "GTEX_id= bim%>%filter(X2%in% overlapped),\n",
    "GTEX_ref= bim%>%filter(X5%in% overlapped),\n",
    "GTEX_alt= bim%>%filter(X6%in% overlapped)\n",
    ")"
   ]
  },
  {
   "cell_type": "code",
   "execution_count": 250,
   "metadata": {},
   "outputs": [
    {
     "ename": "ERROR",
     "evalue": "Error: Tibble columns must have compatible sizes.\n* Size 150: Existing data.\n* Size 151: Column `GTEX_id`.\n\u001b[34mℹ\u001b[39m Only values of size one are recycled.\n",
     "output_type": "error",
     "traceback": [
      "Error: Tibble columns must have compatible sizes.\n* Size 150: Existing data.\n* Size 151: Column `GTEX_id`.\n\u001b[34mℹ\u001b[39m Only values of size one are recycled.\nTraceback:\n",
      "1. tibble(UKB_id = Asthma.sumstat %>% filter(X3 %in% overlapped) %>% \n .     pull(X11), UKB_ref = Asthma.sumstat %>% filter(X3 %in% overlapped) %>% \n .     pull(X4), UKB_alt = Asthma.sumstat %>% filter(X3 %in% overlapped) %>% \n .     pull(X5), GTEX_id = bim %>% filter(X4 %in% overlapped) %>% \n .     pull(X2), GTEX_ref = bim %>% filter(X4 %in% overlapped) %>% \n .     pull(X5), GTEX_alt = bim %>% filter(X4 %in% overlapped) %>% \n .     pull(X6))",
      "2. tibble_quos(xs[!is.null], .rows, .name_repair)",
      "3. vectbl_recycle_rows(res, first_size, j, given_col_names[[j]])",
      "4. cnd_signal(error_incompatible_size(n, name, size, \"Existing data\"))",
      "5. signal_abort(cnd)"
     ]
    }
   ],
   "source": [
    "overlap_snv = tibble(\n",
    "UKB_id = Asthma.sumstat%>%filter(X3%in% overlapped)%>%pull(X11),\n",
    "UKB_ref= Asthma.sumstat%>%filter(X3%in% overlapped)%>%pull(X4),\n",
    "UKB_alt= Asthma.sumstat%>%filter(X3%in% overlapped)%>%pull(X5),\n",
    "GTEX_id= bim%>%filter(X4%in% overlapped)%>%pull(X2),\n",
    "GTEX_ref= bim%>%filter(X4%in% overlapped)%>%pull(X5),\n",
    "GTEX_alt= bim%>%filter(X4%in% overlapped)%>%pull(X6)\n",
    ")"
   ]
  },
  {
   "cell_type": "code",
   "execution_count": 3,
   "metadata": {},
   "outputs": [
    {
     "name": "stderr",
     "output_type": "stream",
     "text": [
      "The following objects are masked from file:/home/hs3163/Project/one_gene/Artery_Tibial/WEIGHTS/GTEx_V8.ENSG00000153814.wgt.RDat:\n",
      "\n",
      "    cv.performance, hsq, hsq.pv, N.tot, snps, wgt.matrix\n",
      "\n",
      "\n",
      "The following objects are masked from file:/home/hs3163/Project/one_gene/Liver/WEIGHTS/GTEx_V8.ENSG00000153814.wgt.RDat:\n",
      "\n",
      "    cv.performance, hsq, hsq.pv, N.tot, snps, wgt.matrix\n",
      "\n",
      "\n",
      "The following objects are masked from file:/home/hs3163/Project/one_gene/Artery_Tibial/WEIGHTS/GTEx_V8.ENSG00000153814.wgt.RDat:\n",
      "\n",
      "    cv.performance, hsq, hsq.pv, N.tot, snps, wgt.matrix\n",
      "\n",
      "\n",
      "The following objects are masked from file:/home/hs3163/Project/one_gene/Lung/WEIGHTS/GTEx_V8.ENSG00000153814.wgt.RDat:\n",
      "\n",
      "    cv.performance, hsq, hsq.pv, N.tot, snps, wgt.matrix\n",
      "\n",
      "\n",
      "The following objects are masked from file:/home/hs3163/Project/one_gene/Liver/WEIGHTS/GTEx_V8.ENSG00000153814.wgt.RDat:\n",
      "\n",
      "    cv.performance, hsq, hsq.pv, N.tot, snps, wgt.matrix\n",
      "\n",
      "\n",
      "The following objects are masked from file:/home/hs3163/Project/one_gene/Artery_Tibial/WEIGHTS/GTEx_V8.ENSG00000153814.wgt.RDat:\n",
      "\n",
      "    cv.performance, hsq, hsq.pv, N.tot, snps, wgt.matrix\n",
      "\n",
      "\n",
      "The following objects are masked from file:/home/hs3163/Project/one_gene/Muscle_Skeletal/WEIGHTS/GTEx_V8.ENSG00000153814.wgt.RDat:\n",
      "\n",
      "    cv.performance, hsq, hsq.pv, N.tot, snps, wgt.matrix\n",
      "\n",
      "\n",
      "The following objects are masked from file:/home/hs3163/Project/one_gene/Lung/WEIGHTS/GTEx_V8.ENSG00000153814.wgt.RDat:\n",
      "\n",
      "    cv.performance, hsq, hsq.pv, N.tot, snps, wgt.matrix\n",
      "\n",
      "\n",
      "The following objects are masked from file:/home/hs3163/Project/one_gene/Liver/WEIGHTS/GTEx_V8.ENSG00000153814.wgt.RDat:\n",
      "\n",
      "    cv.performance, hsq, hsq.pv, N.tot, snps, wgt.matrix\n",
      "\n",
      "\n",
      "The following objects are masked from file:/home/hs3163/Project/one_gene/Artery_Tibial/WEIGHTS/GTEx_V8.ENSG00000153814.wgt.RDat:\n",
      "\n",
      "    cv.performance, hsq, hsq.pv, N.tot, snps, wgt.matrix\n",
      "\n",
      "\n",
      "The following objects are masked from file:/home/hs3163/Project/one_gene/Spleen/WEIGHTS/GTEx_V8.ENSG00000153814.wgt.RDat:\n",
      "\n",
      "    cv.performance, hsq, hsq.pv, N.tot, snps, wgt.matrix\n",
      "\n",
      "\n",
      "The following objects are masked from file:/home/hs3163/Project/one_gene/Muscle_Skeletal/WEIGHTS/GTEx_V8.ENSG00000153814.wgt.RDat:\n",
      "\n",
      "    cv.performance, hsq, hsq.pv, N.tot, snps, wgt.matrix\n",
      "\n",
      "\n",
      "The following objects are masked from file:/home/hs3163/Project/one_gene/Lung/WEIGHTS/GTEx_V8.ENSG00000153814.wgt.RDat:\n",
      "\n",
      "    cv.performance, hsq, hsq.pv, N.tot, snps, wgt.matrix\n",
      "\n",
      "\n",
      "The following objects are masked from file:/home/hs3163/Project/one_gene/Liver/WEIGHTS/GTEx_V8.ENSG00000153814.wgt.RDat:\n",
      "\n",
      "    cv.performance, hsq, hsq.pv, N.tot, snps, wgt.matrix\n",
      "\n",
      "\n",
      "The following objects are masked from file:/home/hs3163/Project/one_gene/Artery_Tibial/WEIGHTS/GTEx_V8.ENSG00000153814.wgt.RDat:\n",
      "\n",
      "    cv.performance, hsq, hsq.pv, N.tot, snps, wgt.matrix\n",
      "\n",
      "\n",
      "The following objects are masked from file:/home/hs3163/Project/one_gene/Stomach/WEIGHTS/GTEx_V8.ENSG00000153814.wgt.RDat:\n",
      "\n",
      "    cv.performance, hsq, hsq.pv, N.tot, snps, wgt.matrix\n",
      "\n",
      "\n",
      "The following objects are masked from file:/home/hs3163/Project/one_gene/Spleen/WEIGHTS/GTEx_V8.ENSG00000153814.wgt.RDat:\n",
      "\n",
      "    cv.performance, hsq, hsq.pv, N.tot, snps, wgt.matrix\n",
      "\n",
      "\n",
      "The following objects are masked from file:/home/hs3163/Project/one_gene/Muscle_Skeletal/WEIGHTS/GTEx_V8.ENSG00000153814.wgt.RDat:\n",
      "\n",
      "    cv.performance, hsq, hsq.pv, N.tot, snps, wgt.matrix\n",
      "\n",
      "\n",
      "The following objects are masked from file:/home/hs3163/Project/one_gene/Lung/WEIGHTS/GTEx_V8.ENSG00000153814.wgt.RDat:\n",
      "\n",
      "    cv.performance, hsq, hsq.pv, N.tot, snps, wgt.matrix\n",
      "\n",
      "\n",
      "The following objects are masked from file:/home/hs3163/Project/one_gene/Liver/WEIGHTS/GTEx_V8.ENSG00000153814.wgt.RDat:\n",
      "\n",
      "    cv.performance, hsq, hsq.pv, N.tot, snps, wgt.matrix\n",
      "\n",
      "\n",
      "The following objects are masked from file:/home/hs3163/Project/one_gene/Artery_Tibial/WEIGHTS/GTEx_V8.ENSG00000153814.wgt.RDat:\n",
      "\n",
      "    cv.performance, hsq, hsq.pv, N.tot, snps, wgt.matrix\n",
      "\n",
      "\n",
      "The following objects are masked from file:/home/hs3163/Project/one_gene/Thyroid/WEIGHTS/GTEx_V8.ENSG00000153814.wgt.RDat:\n",
      "\n",
      "    cv.performance, hsq, hsq.pv, N.tot, snps, wgt.matrix\n",
      "\n",
      "\n",
      "The following objects are masked from file:/home/hs3163/Project/one_gene/Stomach/WEIGHTS/GTEx_V8.ENSG00000153814.wgt.RDat:\n",
      "\n",
      "    cv.performance, hsq, hsq.pv, N.tot, snps, wgt.matrix\n",
      "\n",
      "\n",
      "The following objects are masked from file:/home/hs3163/Project/one_gene/Spleen/WEIGHTS/GTEx_V8.ENSG00000153814.wgt.RDat:\n",
      "\n",
      "    cv.performance, hsq, hsq.pv, N.tot, snps, wgt.matrix\n",
      "\n",
      "\n",
      "The following objects are masked from file:/home/hs3163/Project/one_gene/Muscle_Skeletal/WEIGHTS/GTEx_V8.ENSG00000153814.wgt.RDat:\n",
      "\n",
      "    cv.performance, hsq, hsq.pv, N.tot, snps, wgt.matrix\n",
      "\n",
      "\n",
      "The following objects are masked from file:/home/hs3163/Project/one_gene/Lung/WEIGHTS/GTEx_V8.ENSG00000153814.wgt.RDat:\n",
      "\n",
      "    cv.performance, hsq, hsq.pv, N.tot, snps, wgt.matrix\n",
      "\n",
      "\n",
      "The following objects are masked from file:/home/hs3163/Project/one_gene/Liver/WEIGHTS/GTEx_V8.ENSG00000153814.wgt.RDat:\n",
      "\n",
      "    cv.performance, hsq, hsq.pv, N.tot, snps, wgt.matrix\n",
      "\n",
      "\n",
      "The following objects are masked from file:/home/hs3163/Project/one_gene/Artery_Tibial/WEIGHTS/GTEx_V8.ENSG00000153814.wgt.RDat:\n",
      "\n",
      "    cv.performance, hsq, hsq.pv, N.tot, snps, wgt.matrix\n",
      "\n",
      "\n"
     ]
    }
   ],
   "source": [
    "tissue = tissue%>%mutate(path = map_chr(X1,~paste(c(dir,.x,\"/WEIGHTS/GTEx_V8.ENSG00000153814.wgt.RDat\"),collapse = \"\" )),\n",
    "                env = map(path,~attach(.x)),\n",
    "                best_m = map_dbl(env,~which(.x$cv.performance[2,] == min(.x$cv.performance[2,]))%>%as.numeric)         \n",
    "               )"
   ]
  },
  {
   "cell_type": "code",
   "execution_count": 4,
   "metadata": {},
   "outputs": [],
   "source": [
    "data = tissue%>%mutate(Wgt_mtrix = map2(best_m,env,~.y$wgt.matrix[,.x]),\n",
    "                         best_pval = map_dbl(env,~min(.x$cv.performance[2,])%>%as.numeric())\n",
    "                        )"
   ]
  },
  {
   "cell_type": "code",
   "execution_count": 15,
   "metadata": {},
   "outputs": [
    {
     "data": {
      "text/html": [
       "32230"
      ],
      "text/latex": [
       "32230"
      ],
      "text/markdown": [
       "32230"
      ],
      "text/plain": [
       "[1] 32230"
      ]
     },
     "metadata": {},
     "output_type": "display_data"
    }
   ],
   "source": [
    "data$Wgt_mtrix[[1]]%>%length"
   ]
  },
  {
   "cell_type": "markdown",
   "metadata": {},
   "source": [
    "## Visualization of weight"
   ]
  },
  {
   "cell_type": "code",
   "execution_count": 24,
   "metadata": {},
   "outputs": [],
   "source": [
    "vis_pos = data%>%mutate(tissue = X1,Wgt_mtrix = map(Wgt_mtrix, ~.x%>%as_tibble%>%mutate(pos = 1:32230)))%>%unnest(Wgt_mtrix)\n"
   ]
  },
  {
   "cell_type": "code",
   "execution_count": null,
   "metadata": {},
   "outputs": [],
   "source": []
  },
  {
   "cell_type": "code",
   "execution_count": 32,
   "metadata": {},
   "outputs": [
    {
     "name": "stderr",
     "output_type": "stream",
     "text": [
      "Warning message:\n",
      "“Removed 32230 rows containing missing values (geom_point).”\n"
     ]
    },
    {
     "data": {
      "image/png": "[encoded data removed]",
      "text/plain": [
       "plot without title"
      ]
     },
     "metadata": {
      "image/png": {
       "height": 420,
       "width": 420
      }
     },
     "output_type": "display_data"
    }
   ],
   "source": [
    "vis_pos%>%ggplot(aes(x = pos, y = value,fill = X1))+geom_point()+facet_grid(~tissue)"
   ]
  },
  {
   "cell_type": "code",
   "execution_count": null,
   "metadata": {},
   "outputs": [],
   "source": [
    "vis_pos%>%filter()"
   ]
  },
  {
   "cell_type": "code",
   "execution_count": 50,
   "metadata": {},
   "outputs": [
    {
     "data": {
      "image/png": "[encoded data removed]",
      "text/plain": [
       "plot without title"
      ]
     },
     "metadata": {
      "image/png": {
       "height": 420,
       "width": 420
      }
     },
     "output_type": "display_data"
    }
   ],
   "source": [
    "vis_pos%>%filter(X1 %in% c(\"Liver\",\"Muscle_Skeletal\",\"Lung\",\"Artery_Tibial\"))%>%ggplot(aes(x = pos, y = value,fill = X1))+geom_point()+facet_grid(rows = vars(tissue))"
   ]
  },
  {
   "cell_type": "code",
   "execution_count": null,
   "metadata": {},
   "outputs": [],
   "source": []
  },
  {
   "cell_type": "code",
   "execution_count": 38,
   "metadata": {},
   "outputs": [
    {
     "data": {
      "image/png": "[encoded data removed]",
      "text/plain": [
       "plot without title"
      ]
     },
     "metadata": {
      "image/png": {
       "height": 420,
       "width": 420
      }
     },
     "output_type": "display_data"
    }
   ],
   "source": [
    "vis_pos%>%filter(!X1 %in% c(\"Liver\",\"Muscle_Skeletal\",\"Stomach\",\"Whole_Blood\",\"Spleen\"))%>%ggplot(aes(x = pos, y = value,fill = X1))+geom_point()+facet_grid(~tissue)"
   ]
  },
  {
   "cell_type": "code",
   "execution_count": null,
   "metadata": {},
   "outputs": [],
   "source": []
  },
  {
   "cell_type": "code",
   "execution_count": null,
   "metadata": {},
   "outputs": [],
   "source": []
  },
  {
   "cell_type": "code",
   "execution_count": 141,
   "metadata": {},
   "outputs": [],
   "source": [
    "data = data%>%mutate(v_whole = map_dbl(Wgt_mtrix,~.x%>%var() ),\n",
    "                    region_1_mark = map_dbl(env,~which(.x$snps$V2 == Mark_1)),\n",
    "                    region_2_mark = map_dbl(env,~which(.x$snps$V2 == Mark_2)),\n",
    "                    Wgt_mtrix_region_1 = map2(Wgt_mtrix,region_1_mark,~.x[1:.y]),\n",
    "                    Wgt_mtrix_region_2 = map2(Wgt_mtrix,region_2_mark,~.x[.y:length(.x)]),\n",
    "                    Wgt_mtrix_overlap = pmap(list(Wgt_mtrix,region_1_mark,region_2_mark),function(first,second,third) first[(second+1):(third-1)]),\n",
    "                     v_region_1 = map_dbl(Wgt_mtrix_region_1,~.x%>%var() ),\n",
    "                     v_region_2 = map_dbl(Wgt_mtrix_region_2,~.x%>%var() ),\n",
    "                     s_region_1 = map_dbl(Wgt_mtrix_region_1,~.x^2%>%sum() ),\n",
    "                     s_region_2 = map_dbl(Wgt_mtrix_region_2,~.x^2%>%sum() ),\n",
    "                     s_whole = map_dbl(Wgt_mtrix,~.x^2%>%sum() ),\n",
    "                     s_overlap = map_dbl(Wgt_mtrix_overlap,~.x^2%>%sum() )\n",
    "                    )"
   ]
  },
  {
   "cell_type": "code",
   "execution_count": 151,
   "metadata": {},
   "outputs": [],
   "source": [
    "vis = data%>%select(X1,best_m,best_pval,s_whole,s_region_1,\"s_region_3\" = s_region_2,\"s_region_2\" = s_overlap)%>%mutate(sum =s_region_1 + s_region_2 + s_region_3 )"
   ]
  },
  {
   "cell_type": "code",
   "execution_count": 156,
   "metadata": {},
   "outputs": [],
   "source": [
    "vis = vis%>%pivot_longer(cols =c(\"s_whole\",\"s_region_1\",\"s_region_2\",\"s_region_3\") ,names_to = \"region\", values_to = \"sum_of_square\", names_prefix = \"s_\")"
   ]
  },
  {
   "cell_type": "code",
   "execution_count": 175,
   "metadata": {},
   "outputs": [
    {
     "data": {
      "text/html": [
       "<table class=\"dataframe\">\n",
       "<caption>A tibble: 8 × 8</caption>\n",
       "<thead>\n",
       "\t<tr><th scope=col>X1</th><th scope=col>best_m</th><th scope=col>best_pval</th><th scope=col>s_whole</th><th scope=col>s_region_1</th><th scope=col>s_region_3</th><th scope=col>s_region_2</th><th scope=col>sum</th></tr>\n",
       "\t<tr><th scope=col>&lt;chr&gt;</th><th scope=col>&lt;dbl&gt;</th><th scope=col>&lt;dbl&gt;</th><th scope=col>&lt;dbl&gt;</th><th scope=col>&lt;dbl&gt;</th><th scope=col>&lt;dbl&gt;</th><th scope=col>&lt;dbl&gt;</th><th scope=col>&lt;dbl&gt;</th></tr>\n",
       "</thead>\n",
       "<tbody>\n",
       "\t<tr><td>Artery_Tibial  </td><td>3</td><td>0.36542621</td><td>1.047274e-03</td><td>0.000000e+00</td><td>8.743264e-04</td><td>1.729478e-04</td><td>1.047274e-03</td></tr>\n",
       "\t<tr><td>Liver          </td><td>3</td><td>0.03346111</td><td>4.330034e-02</td><td>1.237488e-03</td><td>3.081815e-03</td><td>3.898104e-02</td><td>4.330034e-02</td></tr>\n",
       "\t<tr><td>Lung           </td><td>3</td><td>0.27695198</td><td>2.678634e-03</td><td>4.258074e-06</td><td>2.673446e-03</td><td>9.296026e-07</td><td>2.678634e-03</td></tr>\n",
       "\t<tr><td>Muscle_Skeletal</td><td>3</td><td>0.02394978</td><td>8.454899e-03</td><td>1.277725e-03</td><td>7.645897e-04</td><td>6.412584e-03</td><td>8.454899e-03</td></tr>\n",
       "\t<tr><td>Spleen         </td><td>3</td><td>0.23607770</td><td>          NA</td><td>          NA</td><td>          NA</td><td>          NA</td><td>          NA</td></tr>\n",
       "\t<tr><td>Stomach        </td><td>4</td><td>0.43275125</td><td>2.679138e+04</td><td>8.824762e+03</td><td>1.218241e+04</td><td>5.784214e+03</td><td>2.679138e+04</td></tr>\n",
       "\t<tr><td>Thyroid        </td><td>3</td><td>0.33383781</td><td>3.258497e-03</td><td>0.000000e+00</td><td>3.258497e-03</td><td>0.000000e+00</td><td>3.258497e-03</td></tr>\n",
       "\t<tr><td>Whole_Blood    </td><td>4</td><td>0.01092036</td><td>4.975442e+04</td><td>1.746660e+04</td><td>2.112348e+04</td><td>1.116434e+04</td><td>4.975442e+04</td></tr>\n",
       "</tbody>\n",
       "</table>\n"
      ],
      "text/latex": [
       "A tibble: 8 × 8\n",
       "\\begin{tabular}{llllllll}\n",
       " X1 & best\\_m & best\\_pval & s\\_whole & s\\_region\\_1 & s\\_region\\_3 & s\\_region\\_2 & sum\\\\\n",
       " <chr> & <dbl> & <dbl> & <dbl> & <dbl> & <dbl> & <dbl> & <dbl>\\\\\n",
       "\\hline\n",
       "\t Artery\\_Tibial   & 3 & 0.36542621 & 1.047274e-03 & 0.000000e+00 & 8.743264e-04 & 1.729478e-04 & 1.047274e-03\\\\\n",
       "\t Liver           & 3 & 0.03346111 & 4.330034e-02 & 1.237488e-03 & 3.081815e-03 & 3.898104e-02 & 4.330034e-02\\\\\n",
       "\t Lung            & 3 & 0.27695198 & 2.678634e-03 & 4.258074e-06 & 2.673446e-03 & 9.296026e-07 & 2.678634e-03\\\\\n",
       "\t Muscle\\_Skeletal & 3 & 0.02394978 & 8.454899e-03 & 1.277725e-03 & 7.645897e-04 & 6.412584e-03 & 8.454899e-03\\\\\n",
       "\t Spleen          & 3 & 0.23607770 &           NA &           NA &           NA &           NA &           NA\\\\\n",
       "\t Stomach         & 4 & 0.43275125 & 2.679138e+04 & 8.824762e+03 & 1.218241e+04 & 5.784214e+03 & 2.679138e+04\\\\\n",
       "\t Thyroid         & 3 & 0.33383781 & 3.258497e-03 & 0.000000e+00 & 3.258497e-03 & 0.000000e+00 & 3.258497e-03\\\\\n",
       "\t Whole\\_Blood     & 4 & 0.01092036 & 4.975442e+04 & 1.746660e+04 & 2.112348e+04 & 1.116434e+04 & 4.975442e+04\\\\\n",
       "\\end{tabular}\n"
      ],
      "text/markdown": [
       "\n",
       "A tibble: 8 × 8\n",
       "\n",
       "| X1 &lt;chr&gt; | best_m &lt;dbl&gt; | best_pval &lt;dbl&gt; | s_whole &lt;dbl&gt; | s_region_1 &lt;dbl&gt; | s_region_3 &lt;dbl&gt; | s_region_2 &lt;dbl&gt; | sum &lt;dbl&gt; |\n",
       "|---|---|---|---|---|---|---|---|\n",
       "| Artery_Tibial   | 3 | 0.36542621 | 1.047274e-03 | 0.000000e+00 | 8.743264e-04 | 1.729478e-04 | 1.047274e-03 |\n",
       "| Liver           | 3 | 0.03346111 | 4.330034e-02 | 1.237488e-03 | 3.081815e-03 | 3.898104e-02 | 4.330034e-02 |\n",
       "| Lung            | 3 | 0.27695198 | 2.678634e-03 | 4.258074e-06 | 2.673446e-03 | 9.296026e-07 | 2.678634e-03 |\n",
       "| Muscle_Skeletal | 3 | 0.02394978 | 8.454899e-03 | 1.277725e-03 | 7.645897e-04 | 6.412584e-03 | 8.454899e-03 |\n",
       "| Spleen          | 3 | 0.23607770 |           NA |           NA |           NA |           NA |           NA |\n",
       "| Stomach         | 4 | 0.43275125 | 2.679138e+04 | 8.824762e+03 | 1.218241e+04 | 5.784214e+03 | 2.679138e+04 |\n",
       "| Thyroid         | 3 | 0.33383781 | 3.258497e-03 | 0.000000e+00 | 3.258497e-03 | 0.000000e+00 | 3.258497e-03 |\n",
       "| Whole_Blood     | 4 | 0.01092036 | 4.975442e+04 | 1.746660e+04 | 2.112348e+04 | 1.116434e+04 | 4.975442e+04 |\n",
       "\n"
      ],
      "text/plain": [
       "  X1              best_m best_pval  s_whole      s_region_1   s_region_3  \n",
       "1 Artery_Tibial   3      0.36542621 1.047274e-03 0.000000e+00 8.743264e-04\n",
       "2 Liver           3      0.03346111 4.330034e-02 1.237488e-03 3.081815e-03\n",
       "3 Lung            3      0.27695198 2.678634e-03 4.258074e-06 2.673446e-03\n",
       "4 Muscle_Skeletal 3      0.02394978 8.454899e-03 1.277725e-03 7.645897e-04\n",
       "5 Spleen          3      0.23607770           NA           NA           NA\n",
       "6 Stomach         4      0.43275125 2.679138e+04 8.824762e+03 1.218241e+04\n",
       "7 Thyroid         3      0.33383781 3.258497e-03 0.000000e+00 3.258497e-03\n",
       "8 Whole_Blood     4      0.01092036 4.975442e+04 1.746660e+04 2.112348e+04\n",
       "  s_region_2   sum         \n",
       "1 1.729478e-04 1.047274e-03\n",
       "2 3.898104e-02 4.330034e-02\n",
       "3 9.296026e-07 2.678634e-03\n",
       "4 6.412584e-03 8.454899e-03\n",
       "5           NA           NA\n",
       "6 5.784214e+03 2.679138e+04\n",
       "7 0.000000e+00 3.258497e-03\n",
       "8 1.116434e+04 4.975442e+04"
      ]
     },
     "metadata": {},
     "output_type": "display_data"
    }
   ],
   "source": [
    "data%>%select(X1,best_m,best_pval,s_whole,s_region_1,\"s_region_3\" = s_region_2,\"s_region_2\" = s_overlap)%>%mutate(sum =s_region_1 + s_region_2 + s_region_3 )"
   ]
  },
  {
   "cell_type": "code",
   "execution_count": 174,
   "metadata": {},
   "outputs": [
    {
     "data": {
      "image/png": "[encoded data removed]",
      "text/plain": [
       "plot without title"
      ]
     },
     "metadata": {
      "image/png": {
       "height": 420,
       "width": 420
      }
     },
     "output_type": "display_data"
    },
    {
     "data": {
      "image/png": "[encoded data removed]",
      "text/plain": [
       "plot without title"
      ]
     },
     "metadata": {
      "image/png": {
       "height": 420,
       "width": 420
      }
     },
     "output_type": "display_data"
    }
   ],
   "source": [
    "vis%>%filter(X1 %in% c(\"Liver\",\"Muscle_Skeletal\",\"Whole_Blood\"))%>%ggplot(aes(x = region,y = sum_of_square/sum,fill = X1))+geom_col(position = \"dodge\")+facet_grid(~X1)\n",
    "vis%>%filter(!X1 %in% c(\"Liver\",\"Muscle_Skeletal\",\"Whole_Blood\",\"Spleen\"))%>%ggplot(aes(x = region,y = sum_of_square/sum,fill = X1))+geom_col(position = \"dodge\")+facet_grid(~X1)\n"
   ]
  },
  {
   "cell_type": "markdown",
   "metadata": {},
   "source": [
    "## Difference from Reference Genome"
   ]
  },
  {
   "cell_type": "code",
   "execution_count": 256,
   "metadata": {},
   "outputs": [
    {
     "data": {
      "text/html": [
       "<table class=\"dataframe\">\n",
       "<caption>A grouped_df: 15 × 2</caption>\n",
       "<thead>\n",
       "\t<tr><th scope=col>qc</th><th scope=col>n</th></tr>\n",
       "\t<tr><th scope=col>&lt;dbl&gt;</th><th scope=col>&lt;int&gt;</th></tr>\n",
       "</thead>\n",
       "<tbody>\n",
       "\t<tr><td>-28</td><td>   1</td></tr>\n",
       "\t<tr><td>-24</td><td>   1</td></tr>\n",
       "\t<tr><td>-14</td><td>   1</td></tr>\n",
       "\t<tr><td>-11</td><td>   1</td></tr>\n",
       "\t<tr><td> -9</td><td>   1</td></tr>\n",
       "\t<tr><td> -8</td><td>   2</td></tr>\n",
       "\t<tr><td> -6</td><td>   1</td></tr>\n",
       "\t<tr><td> -5</td><td>   2</td></tr>\n",
       "\t<tr><td> -4</td><td>   2</td></tr>\n",
       "\t<tr><td> -3</td><td>   3</td></tr>\n",
       "\t<tr><td> -2</td><td>   2</td></tr>\n",
       "\t<tr><td> -1</td><td>   8</td></tr>\n",
       "\t<tr><td>  0</td><td>9372</td></tr>\n",
       "\t<tr><td>  1</td><td> 358</td></tr>\n",
       "\t<tr><td> NA</td><td> 122</td></tr>\n",
       "</tbody>\n",
       "</table>\n"
      ],
      "text/latex": [
       "A grouped\\_df: 15 × 2\n",
       "\\begin{tabular}{ll}\n",
       " qc & n\\\\\n",
       " <dbl> & <int>\\\\\n",
       "\\hline\n",
       "\t -28 &    1\\\\\n",
       "\t -24 &    1\\\\\n",
       "\t -14 &    1\\\\\n",
       "\t -11 &    1\\\\\n",
       "\t  -9 &    1\\\\\n",
       "\t  -8 &    2\\\\\n",
       "\t  -6 &    1\\\\\n",
       "\t  -5 &    2\\\\\n",
       "\t  -4 &    2\\\\\n",
       "\t  -3 &    3\\\\\n",
       "\t  -2 &    2\\\\\n",
       "\t  -1 &    8\\\\\n",
       "\t   0 & 9372\\\\\n",
       "\t   1 &  358\\\\\n",
       "\t  NA &  122\\\\\n",
       "\\end{tabular}\n"
      ],
      "text/markdown": [
       "\n",
       "A grouped_df: 15 × 2\n",
       "\n",
       "| qc &lt;dbl&gt; | n &lt;int&gt; |\n",
       "|---|---|\n",
       "| -28 |    1 |\n",
       "| -24 |    1 |\n",
       "| -14 |    1 |\n",
       "| -11 |    1 |\n",
       "|  -9 |    1 |\n",
       "|  -8 |    2 |\n",
       "|  -6 |    1 |\n",
       "|  -5 |    2 |\n",
       "|  -4 |    2 |\n",
       "|  -3 |    3 |\n",
       "|  -2 |    2 |\n",
       "|  -1 |    8 |\n",
       "|   0 | 9372 |\n",
       "|   1 |  358 |\n",
       "|  NA |  122 |\n",
       "\n"
      ],
      "text/plain": [
       "   qc  n   \n",
       "1  -28    1\n",
       "2  -24    1\n",
       "3  -14    1\n",
       "4  -11    1\n",
       "5   -9    1\n",
       "6   -8    2\n",
       "7   -6    1\n",
       "8   -5    2\n",
       "9   -4    2\n",
       "10  -3    3\n",
       "11  -2    2\n",
       "12  -1    8\n",
       "13   0 9372\n",
       "14   1  358\n",
       "15  NA  122"
      ]
     },
     "metadata": {},
     "output_type": "display_data"
    }
   ],
   "source": [
    "Asthma.sumstat%>%group_by(qc)%>%count"
   ]
  },
  {
   "cell_type": "code",
   "execution_count": 262,
   "metadata": {},
   "outputs": [
    {
     "data": {
      "text/html": [
       "<table class=\"dataframe\">\n",
       "<caption>A spec_tbl_df: 1 × 17</caption>\n",
       "<thead>\n",
       "\t<tr><th scope=col>X1</th><th scope=col>CHR</th><th scope=col>POS</th><th scope=col>REF</th><th scope=col>ALT</th><th scope=col>SNP</th><th scope=col>BETA</th><th scope=col>SE</th><th scope=col>P</th><th scope=col>cood38</th><th scope=col>cood37</th><th scope=col>qc</th><th scope=col>Dif</th><th scope=col>SNP_new</th><th scope=col>A1</th><th scope=col>A2</th><th scope=col>Z</th></tr>\n",
       "\t<tr><th scope=col>&lt;dbl&gt;</th><th scope=col>&lt;dbl&gt;</th><th scope=col>&lt;dbl&gt;</th><th scope=col>&lt;chr&gt;</th><th scope=col>&lt;chr&gt;</th><th scope=col>&lt;chr&gt;</th><th scope=col>&lt;dbl&gt;</th><th scope=col>&lt;dbl&gt;</th><th scope=col>&lt;dbl&gt;</th><th scope=col>&lt;dbl&gt;</th><th scope=col>&lt;dbl&gt;</th><th scope=col>&lt;dbl&gt;</th><th scope=col>&lt;dbl&gt;</th><th scope=col>&lt;chr&gt;</th><th scope=col>&lt;chr&gt;</th><th scope=col>&lt;chr&gt;</th><th scope=col>&lt;dbl&gt;</th></tr>\n",
       "</thead>\n",
       "<tbody>\n",
       "\t<tr><td>6072235</td><td>7</td><td>28321666</td><td>CAT</td><td>C</td><td>chr7_28282019_C_CAT_b38</td><td>0.00178698</td><td>0.000939794</td><td>0.0572415</td><td>28282019</td><td>28321638</td><td>-28</td><td>-39647</td><td>chr7_28282019_C_CAT_b38</td><td>CAT</td><td>C</td><td>1.901459</td></tr>\n",
       "</tbody>\n",
       "</table>\n"
      ],
      "text/latex": [
       "A spec\\_tbl\\_df: 1 × 17\n",
       "\\begin{tabular}{lllllllllllllllll}\n",
       " X1 & CHR & POS & REF & ALT & SNP & BETA & SE & P & cood38 & cood37 & qc & Dif & SNP\\_new & A1 & A2 & Z\\\\\n",
       " <dbl> & <dbl> & <dbl> & <chr> & <chr> & <chr> & <dbl> & <dbl> & <dbl> & <dbl> & <dbl> & <dbl> & <dbl> & <chr> & <chr> & <chr> & <dbl>\\\\\n",
       "\\hline\n",
       "\t 6072235 & 7 & 28321666 & CAT & C & chr7\\_28282019\\_C\\_CAT\\_b38 & 0.00178698 & 0.000939794 & 0.0572415 & 28282019 & 28321638 & -28 & -39647 & chr7\\_28282019\\_C\\_CAT\\_b38 & CAT & C & 1.901459\\\\\n",
       "\\end{tabular}\n"
      ],
      "text/markdown": [
       "\n",
       "A spec_tbl_df: 1 × 17\n",
       "\n",
       "| X1 &lt;dbl&gt; | CHR &lt;dbl&gt; | POS &lt;dbl&gt; | REF &lt;chr&gt; | ALT &lt;chr&gt; | SNP &lt;chr&gt; | BETA &lt;dbl&gt; | SE &lt;dbl&gt; | P &lt;dbl&gt; | cood38 &lt;dbl&gt; | cood37 &lt;dbl&gt; | qc &lt;dbl&gt; | Dif &lt;dbl&gt; | SNP_new &lt;chr&gt; | A1 &lt;chr&gt; | A2 &lt;chr&gt; | Z &lt;dbl&gt; |\n",
       "|---|---|---|---|---|---|---|---|---|---|---|---|---|---|---|---|---|\n",
       "| 6072235 | 7 | 28321666 | CAT | C | chr7_28282019_C_CAT_b38 | 0.00178698 | 0.000939794 | 0.0572415 | 28282019 | 28321638 | -28 | -39647 | chr7_28282019_C_CAT_b38 | CAT | C | 1.901459 |\n",
       "\n"
      ],
      "text/plain": [
       "  X1      CHR POS      REF ALT SNP                     BETA       SE         \n",
       "1 6072235 7   28321666 CAT C   chr7_28282019_C_CAT_b38 0.00178698 0.000939794\n",
       "  P         cood38   cood37   qc  Dif    SNP_new                 A1  A2\n",
       "1 0.0572415 28282019 28321638 -28 -39647 chr7_28282019_C_CAT_b38 CAT C \n",
       "  Z       \n",
       "1 1.901459"
      ]
     },
     "metadata": {},
     "output_type": "display_data"
    },
    {
     "data": {
      "text/html": [
       "<table class=\"dataframe\">\n",
       "<caption>A spec_tbl_df: 0 × 6</caption>\n",
       "<thead>\n",
       "\t<tr><th scope=col>X1</th><th scope=col>X2</th><th scope=col>X3</th><th scope=col>X4</th><th scope=col>X5</th><th scope=col>X6</th></tr>\n",
       "\t<tr><th scope=col>&lt;dbl&gt;</th><th scope=col>&lt;chr&gt;</th><th scope=col>&lt;dbl&gt;</th><th scope=col>&lt;dbl&gt;</th><th scope=col>&lt;chr&gt;</th><th scope=col>&lt;chr&gt;</th></tr>\n",
       "</thead>\n",
       "<tbody>\n",
       "</tbody>\n",
       "</table>\n"
      ],
      "text/latex": [
       "A spec\\_tbl\\_df: 0 × 6\n",
       "\\begin{tabular}{llllll}\n",
       " X1 & X2 & X3 & X4 & X5 & X6\\\\\n",
       " <dbl> & <chr> & <dbl> & <dbl> & <chr> & <chr>\\\\\n",
       "\\hline\n",
       "\\end{tabular}\n"
      ],
      "text/markdown": [
       "\n",
       "A spec_tbl_df: 0 × 6\n",
       "\n",
       "| X1 &lt;dbl&gt; | X2 &lt;chr&gt; | X3 &lt;dbl&gt; | X4 &lt;dbl&gt; | X5 &lt;chr&gt; | X6 &lt;chr&gt; |\n",
       "|---|---|---|---|---|---|\n",
       "\n"
      ],
      "text/plain": [
       "     X1 X2 X3 X4 X5 X6"
      ]
     },
     "metadata": {},
     "output_type": "display_data"
    }
   ],
   "source": [
    "Asthma.sumstat%>%filter(qc == -28)\n",
    "bim%>%filter(X2 == \"chr7_28321666_C_CAT_b38\")"
   ]
  },
  {
   "cell_type": "markdown",
   "metadata": {},
   "source": [
    "## TWAS result with FUSION"
   ]
  },
  {
   "cell_type": "markdown",
   "metadata": {},
   "source": [
    "30000 variants where 20000 of them are imputed\n",
    "Filter out rare variates, at mvsusie \n",
    "Mv Susie to get better estimates with extracted tissues from prior."
   ]
  },
  {
   "cell_type": "code",
   "execution_count": null,
   "metadata": {},
   "outputs": [],
   "source": [
    "phenotype = c(\"Asthma\",\"diabetes\",\"WAIST\")\n",
    "tissue = read_delim(\"~/Project/one_gene/passed_tissue\",delim = \"\\t\",col_names = F)$X1\n",
    "working = tibble(tissue = rep(tissue,3))%>%mutate(phenotype = c(rep(phenotype[1],8),rep(phenotype[2],8),rep(phenotype[3],8)),\n",
    "                                                 path = map2(phenotype,tissue,~paste(c(\"~/Project/one_gene/\",.x,\".sumstat/\",.y,\"/result/\",.x,\"_chr7.twas.txt\"),collapse = \"\")),\n",
    "                                                 data = map(path,~read_delim(.x,delim = \"\\t\"))\n",
    "                                                 )"
   ]
  },
  {
   "cell_type": "code",
   "execution_count": 288,
   "metadata": {},
   "outputs": [
    {
     "data": {
      "text/html": [
       "<table class=\"dataframe\">\n",
       "<caption>A tibble: 7 × 16</caption>\n",
       "<thead>\n",
       "\t<tr><th scope=col>tissue</th><th scope=col>phenotype</th><th scope=col>HSQ</th><th scope=col>BEST.GWAS.Z</th><th scope=col>EQTL.ID</th><th scope=col>EQTL.R2</th><th scope=col>EQTL.Z</th><th scope=col>EQTL.GWAS.Z</th><th scope=col>NSNP</th><th scope=col>NWGT</th><th scope=col>MODEL</th><th scope=col>MODELCV.R2</th><th scope=col>MODELCV.PV</th><th scope=col>TWAS.Z</th><th scope=col>TWAS.P</th><th scope=col>TWAS.P.Adj</th></tr>\n",
       "\t<tr><th scope=col>&lt;chr&gt;</th><th scope=col>&lt;chr&gt;</th><th scope=col>&lt;dbl&gt;</th><th scope=col>&lt;dbl&gt;</th><th scope=col>&lt;chr&gt;</th><th scope=col>&lt;dbl&gt;</th><th scope=col>&lt;dbl&gt;</th><th scope=col>&lt;dbl&gt;</th><th scope=col>&lt;dbl&gt;</th><th scope=col>&lt;dbl&gt;</th><th scope=col>&lt;chr&gt;</th><th scope=col>&lt;dbl&gt;</th><th scope=col>&lt;dbl&gt;</th><th scope=col>&lt;dbl&gt;</th><th scope=col>&lt;dbl&gt;</th><th scope=col>&lt;dbl&gt;</th></tr>\n",
       "</thead>\n",
       "<tbody>\n",
       "\t<tr><td>Liver          </td><td>Asthma  </td><td>0.603</td><td>  7.4</td><td>chr7_28199847_A_G_b38</td><td> 0.114000</td><td>-6.44</td><td>  6.360</td><td>25248</td><td>22</td><td>lasso</td><td>0.180</td><td>0.033</td><td>-7.08</td><td>1.46e-12</td><td>2.920e-11</td></tr>\n",
       "\t<tr><td>Muscle_Skeletal</td><td>Asthma  </td><td>0.174</td><td>  7.4</td><td>chr7_28149792_T_C_b38</td><td> 0.036900</td><td> 6.41</td><td> -4.720</td><td>25248</td><td>10</td><td>lasso</td><td>0.070</td><td>0.024</td><td>-4.29</td><td>1.81e-05</td><td>3.077e-04</td></tr>\n",
       "\t<tr><td>Artery_Tibial  </td><td>diabetes</td><td>0.107</td><td> -8.9</td><td>chr7_28220789_G_A_b38</td><td>-0.000609</td><td>-4.27</td><td>  0.664</td><td>25248</td><td> 4</td><td>lasso</td><td>0.013</td><td>0.370</td><td>-3.85</td><td>1.20e-04</td><td>1.800e-03</td></tr>\n",
       "\t<tr><td>Liver          </td><td>diabetes</td><td>0.603</td><td> -8.9</td><td>chr7_28199847_A_G_b38</td><td> 0.114000</td><td>-6.44</td><td>  5.170</td><td>25248</td><td>22</td><td>lasso</td><td>0.180</td><td>0.033</td><td>-4.79</td><td>1.69e-06</td><td>3.042e-05</td></tr>\n",
       "\t<tr><td>Muscle_Skeletal</td><td>diabetes</td><td>0.174</td><td> -8.9</td><td>chr7_28149792_T_C_b38</td><td> 0.036900</td><td> 6.41</td><td> -8.560</td><td>25248</td><td>10</td><td>lasso</td><td>0.070</td><td>0.024</td><td>-7.06</td><td>1.63e-12</td><td>3.097e-11</td></tr>\n",
       "\t<tr><td>Artery_Tibial  </td><td>WAIST   </td><td>0.107</td><td>-12.8</td><td>chr7_28220789_G_A_b38</td><td>-0.000609</td><td>-4.27</td><td> -1.250</td><td>25248</td><td> 4</td><td>lasso</td><td>0.013</td><td>0.370</td><td>-4.13</td><td>3.68e-05</td><td>5.888e-04</td></tr>\n",
       "\t<tr><td>Muscle_Skeletal</td><td>WAIST   </td><td>0.174</td><td>-12.8</td><td>chr7_28149792_T_C_b38</td><td> 0.036900</td><td> 6.41</td><td>-12.300</td><td>25248</td><td>10</td><td>lasso</td><td>0.070</td><td>0.024</td><td>-8.20</td><td>2.38e-16</td><td>4.998e-15</td></tr>\n",
       "</tbody>\n",
       "</table>\n"
      ],
      "text/latex": [
       "A tibble: 7 × 16\n",
       "\\begin{tabular}{llllllllllllllll}\n",
       " tissue & phenotype & HSQ & BEST.GWAS.Z & EQTL.ID & EQTL.R2 & EQTL.Z & EQTL.GWAS.Z & NSNP & NWGT & MODEL & MODELCV.R2 & MODELCV.PV & TWAS.Z & TWAS.P & TWAS.P.Adj\\\\\n",
       " <chr> & <chr> & <dbl> & <dbl> & <chr> & <dbl> & <dbl> & <dbl> & <dbl> & <dbl> & <chr> & <dbl> & <dbl> & <dbl> & <dbl> & <dbl>\\\\\n",
       "\\hline\n",
       "\t Liver           & Asthma   & 0.603 &   7.4 & chr7\\_28199847\\_A\\_G\\_b38 &  0.114000 & -6.44 &   6.360 & 25248 & 22 & lasso & 0.180 & 0.033 & -7.08 & 1.46e-12 & 2.920e-11\\\\\n",
       "\t Muscle\\_Skeletal & Asthma   & 0.174 &   7.4 & chr7\\_28149792\\_T\\_C\\_b38 &  0.036900 &  6.41 &  -4.720 & 25248 & 10 & lasso & 0.070 & 0.024 & -4.29 & 1.81e-05 & 3.077e-04\\\\\n",
       "\t Artery\\_Tibial   & diabetes & 0.107 &  -8.9 & chr7\\_28220789\\_G\\_A\\_b38 & -0.000609 & -4.27 &   0.664 & 25248 &  4 & lasso & 0.013 & 0.370 & -3.85 & 1.20e-04 & 1.800e-03\\\\\n",
       "\t Liver           & diabetes & 0.603 &  -8.9 & chr7\\_28199847\\_A\\_G\\_b38 &  0.114000 & -6.44 &   5.170 & 25248 & 22 & lasso & 0.180 & 0.033 & -4.79 & 1.69e-06 & 3.042e-05\\\\\n",
       "\t Muscle\\_Skeletal & diabetes & 0.174 &  -8.9 & chr7\\_28149792\\_T\\_C\\_b38 &  0.036900 &  6.41 &  -8.560 & 25248 & 10 & lasso & 0.070 & 0.024 & -7.06 & 1.63e-12 & 3.097e-11\\\\\n",
       "\t Artery\\_Tibial   & WAIST    & 0.107 & -12.8 & chr7\\_28220789\\_G\\_A\\_b38 & -0.000609 & -4.27 &  -1.250 & 25248 &  4 & lasso & 0.013 & 0.370 & -4.13 & 3.68e-05 & 5.888e-04\\\\\n",
       "\t Muscle\\_Skeletal & WAIST    & 0.174 & -12.8 & chr7\\_28149792\\_T\\_C\\_b38 &  0.036900 &  6.41 & -12.300 & 25248 & 10 & lasso & 0.070 & 0.024 & -8.20 & 2.38e-16 & 4.998e-15\\\\\n",
       "\\end{tabular}\n"
      ],
      "text/markdown": [
       "\n",
       "A tibble: 7 × 16\n",
       "\n",
       "| tissue &lt;chr&gt; | phenotype &lt;chr&gt; | HSQ &lt;dbl&gt; | BEST.GWAS.Z &lt;dbl&gt; | EQTL.ID &lt;chr&gt; | EQTL.R2 &lt;dbl&gt; | EQTL.Z &lt;dbl&gt; | EQTL.GWAS.Z &lt;dbl&gt; | NSNP &lt;dbl&gt; | NWGT &lt;dbl&gt; | MODEL &lt;chr&gt; | MODELCV.R2 &lt;dbl&gt; | MODELCV.PV &lt;dbl&gt; | TWAS.Z &lt;dbl&gt; | TWAS.P &lt;dbl&gt; | TWAS.P.Adj &lt;dbl&gt; |\n",
       "|---|---|---|---|---|---|---|---|---|---|---|---|---|---|---|---|\n",
       "| Liver           | Asthma   | 0.603 |   7.4 | chr7_28199847_A_G_b38 |  0.114000 | -6.44 |   6.360 | 25248 | 22 | lasso | 0.180 | 0.033 | -7.08 | 1.46e-12 | 2.920e-11 |\n",
       "| Muscle_Skeletal | Asthma   | 0.174 |   7.4 | chr7_28149792_T_C_b38 |  0.036900 |  6.41 |  -4.720 | 25248 | 10 | lasso | 0.070 | 0.024 | -4.29 | 1.81e-05 | 3.077e-04 |\n",
       "| Artery_Tibial   | diabetes | 0.107 |  -8.9 | chr7_28220789_G_A_b38 | -0.000609 | -4.27 |   0.664 | 25248 |  4 | lasso | 0.013 | 0.370 | -3.85 | 1.20e-04 | 1.800e-03 |\n",
       "| Liver           | diabetes | 0.603 |  -8.9 | chr7_28199847_A_G_b38 |  0.114000 | -6.44 |   5.170 | 25248 | 22 | lasso | 0.180 | 0.033 | -4.79 | 1.69e-06 | 3.042e-05 |\n",
       "| Muscle_Skeletal | diabetes | 0.174 |  -8.9 | chr7_28149792_T_C_b38 |  0.036900 |  6.41 |  -8.560 | 25248 | 10 | lasso | 0.070 | 0.024 | -7.06 | 1.63e-12 | 3.097e-11 |\n",
       "| Artery_Tibial   | WAIST    | 0.107 | -12.8 | chr7_28220789_G_A_b38 | -0.000609 | -4.27 |  -1.250 | 25248 |  4 | lasso | 0.013 | 0.370 | -4.13 | 3.68e-05 | 5.888e-04 |\n",
       "| Muscle_Skeletal | WAIST    | 0.174 | -12.8 | chr7_28149792_T_C_b38 |  0.036900 |  6.41 | -12.300 | 25248 | 10 | lasso | 0.070 | 0.024 | -8.20 | 2.38e-16 | 4.998e-15 |\n",
       "\n"
      ],
      "text/plain": [
       "  tissue          phenotype HSQ   BEST.GWAS.Z EQTL.ID               EQTL.R2  \n",
       "1 Liver           Asthma    0.603   7.4       chr7_28199847_A_G_b38  0.114000\n",
       "2 Muscle_Skeletal Asthma    0.174   7.4       chr7_28149792_T_C_b38  0.036900\n",
       "3 Artery_Tibial   diabetes  0.107  -8.9       chr7_28220789_G_A_b38 -0.000609\n",
       "4 Liver           diabetes  0.603  -8.9       chr7_28199847_A_G_b38  0.114000\n",
       "5 Muscle_Skeletal diabetes  0.174  -8.9       chr7_28149792_T_C_b38  0.036900\n",
       "6 Artery_Tibial   WAIST     0.107 -12.8       chr7_28220789_G_A_b38 -0.000609\n",
       "7 Muscle_Skeletal WAIST     0.174 -12.8       chr7_28149792_T_C_b38  0.036900\n",
       "  EQTL.Z EQTL.GWAS.Z NSNP  NWGT MODEL MODELCV.R2 MODELCV.PV TWAS.Z TWAS.P  \n",
       "1 -6.44    6.360     25248 22   lasso 0.180      0.033      -7.08  1.46e-12\n",
       "2  6.41   -4.720     25248 10   lasso 0.070      0.024      -4.29  1.81e-05\n",
       "3 -4.27    0.664     25248  4   lasso 0.013      0.370      -3.85  1.20e-04\n",
       "4 -6.44    5.170     25248 22   lasso 0.180      0.033      -4.79  1.69e-06\n",
       "5  6.41   -8.560     25248 10   lasso 0.070      0.024      -7.06  1.63e-12\n",
       "6 -4.27   -1.250     25248  4   lasso 0.013      0.370      -4.13  3.68e-05\n",
       "7  6.41  -12.300     25248 10   lasso 0.070      0.024      -8.20  2.38e-16\n",
       "  TWAS.P.Adj\n",
       "1 2.920e-11 \n",
       "2 3.077e-04 \n",
       "3 1.800e-03 \n",
       "4 3.042e-05 \n",
       "5 3.097e-11 \n",
       "6 5.888e-04 \n",
       "7 4.998e-15 "
      ]
     },
     "metadata": {},
     "output_type": "display_data"
    }
   ],
   "source": [
    "working%>%select(-path)%>%unnest(data)%>%select(-c(FILE:P1),-BEST.GWAS.ID,-PANEL)%>%mutate(TWAS.P.Adj = p.adjust(TWAS.P))%>%filter(TWAS.P.Adj < 0.05)"
   ]
  },
  {
   "cell_type": "code",
   "execution_count": 284,
   "metadata": {},
   "outputs": [
    {
     "data": {
      "text/html": [
       "<table class=\"dataframe\">\n",
       "<caption>A tibble: 9 × 18</caption>\n",
       "<thead>\n",
       "\t<tr><th scope=col>tissue</th><th scope=col>phenotype</th><th scope=col>PANEL</th><th scope=col>HSQ</th><th scope=col>BEST.GWAS.ID</th><th scope=col>BEST.GWAS.Z</th><th scope=col>EQTL.ID</th><th scope=col>EQTL.R2</th><th scope=col>EQTL.Z</th><th scope=col>EQTL.GWAS.Z</th><th scope=col>NSNP</th><th scope=col>NWGT</th><th scope=col>MODEL</th><th scope=col>MODELCV.R2</th><th scope=col>MODELCV.PV</th><th scope=col>TWAS.Z</th><th scope=col>TWAS.P</th><th scope=col>TWAS.P.Adj</th></tr>\n",
       "\t<tr><th scope=col>&lt;chr&gt;</th><th scope=col>&lt;chr&gt;</th><th scope=col>&lt;lgl&gt;</th><th scope=col>&lt;dbl&gt;</th><th scope=col>&lt;chr&gt;</th><th scope=col>&lt;dbl&gt;</th><th scope=col>&lt;chr&gt;</th><th scope=col>&lt;dbl&gt;</th><th scope=col>&lt;dbl&gt;</th><th scope=col>&lt;dbl&gt;</th><th scope=col>&lt;dbl&gt;</th><th scope=col>&lt;dbl&gt;</th><th scope=col>&lt;chr&gt;</th><th scope=col>&lt;dbl&gt;</th><th scope=col>&lt;dbl&gt;</th><th scope=col>&lt;dbl&gt;</th><th scope=col>&lt;dbl&gt;</th><th scope=col>&lt;dbl&gt;</th></tr>\n",
       "</thead>\n",
       "<tbody>\n",
       "\t<tr><td>Liver          </td><td>Asthma  </td><td>NA</td><td>0.603</td><td>chr7_28132967_T_C_b38</td><td>  7.4</td><td>chr7_28199847_A_G_b38</td><td>0.1140</td><td>-6.44</td><td>  6.360</td><td>25248</td><td>22</td><td>lasso</td><td>0.180</td><td>0.033</td><td>-7.080</td><td>1.46e-12</td><td>2.920e-11</td></tr>\n",
       "\t<tr><td>Muscle_Skeletal</td><td>Asthma  </td><td>NA</td><td>0.174</td><td>chr7_28132967_T_C_b38</td><td>  7.4</td><td>chr7_28149792_T_C_b38</td><td>0.0369</td><td> 6.41</td><td> -4.720</td><td>25248</td><td>10</td><td>lasso</td><td>0.070</td><td>0.024</td><td>-4.290</td><td>1.81e-05</td><td>3.077e-04</td></tr>\n",
       "\t<tr><td>Whole_Blood    </td><td>Asthma  </td><td>NA</td><td>0.193</td><td>chr7_28132967_T_C_b38</td><td>  7.4</td><td>chr7_28250210_C_T_b38</td><td>0.0821</td><td>-6.29</td><td>  1.230</td><td>25248</td><td> 1</td><td>top1 </td><td>0.082</td><td>0.011</td><td>-1.230</td><td>2.20e-01</td><td>1.000e+00</td></tr>\n",
       "\t<tr><td>Liver          </td><td>diabetes</td><td>NA</td><td>0.603</td><td>chr7_28154778_C_A_b38</td><td> -8.9</td><td>chr7_28199847_A_G_b38</td><td>0.1140</td><td>-6.44</td><td>  5.170</td><td>25248</td><td>22</td><td>lasso</td><td>0.180</td><td>0.033</td><td>-4.790</td><td>1.69e-06</td><td>3.042e-05</td></tr>\n",
       "\t<tr><td>Muscle_Skeletal</td><td>diabetes</td><td>NA</td><td>0.174</td><td>chr7_28154778_C_A_b38</td><td> -8.9</td><td>chr7_28149792_T_C_b38</td><td>0.0369</td><td> 6.41</td><td> -8.560</td><td>25248</td><td>10</td><td>lasso</td><td>0.070</td><td>0.024</td><td>-7.060</td><td>1.63e-12</td><td>3.097e-11</td></tr>\n",
       "\t<tr><td>Whole_Blood    </td><td>diabetes</td><td>NA</td><td>0.193</td><td>chr7_28154778_C_A_b38</td><td> -8.9</td><td>chr7_28250210_C_T_b38</td><td>0.0821</td><td>-6.29</td><td> -0.615</td><td>25248</td><td> 1</td><td>top1 </td><td>0.082</td><td>0.011</td><td> 0.615</td><td>5.38e-01</td><td>1.000e+00</td></tr>\n",
       "\t<tr><td>Liver          </td><td>WAIST   </td><td>NA</td><td>0.603</td><td>chr7_28165684_T_C_b38</td><td>-12.8</td><td>chr7_28199847_A_G_b38</td><td>0.1140</td><td>-6.44</td><td>  1.340</td><td>25248</td><td>22</td><td>lasso</td><td>0.180</td><td>0.033</td><td>-1.100</td><td>2.72e-01</td><td>1.000e+00</td></tr>\n",
       "\t<tr><td>Muscle_Skeletal</td><td>WAIST   </td><td>NA</td><td>0.174</td><td>chr7_28165684_T_C_b38</td><td>-12.8</td><td>chr7_28149792_T_C_b38</td><td>0.0369</td><td> 6.41</td><td>-12.300</td><td>25248</td><td>10</td><td>lasso</td><td>0.070</td><td>0.024</td><td>-8.200</td><td>2.38e-16</td><td>4.998e-15</td></tr>\n",
       "\t<tr><td>Whole_Blood    </td><td>WAIST   </td><td>NA</td><td>0.193</td><td>chr7_28165684_T_C_b38</td><td>-12.8</td><td>chr7_28250210_C_T_b38</td><td>0.0821</td><td>-6.29</td><td>  0.946</td><td>25248</td><td> 1</td><td>top1 </td><td>0.082</td><td>0.011</td><td>-0.946</td><td>3.44e-01</td><td>1.000e+00</td></tr>\n",
       "</tbody>\n",
       "</table>\n"
      ],
      "text/latex": [
       "A tibble: 9 × 18\n",
       "\\begin{tabular}{llllllllllllllllll}\n",
       " tissue & phenotype & PANEL & HSQ & BEST.GWAS.ID & BEST.GWAS.Z & EQTL.ID & EQTL.R2 & EQTL.Z & EQTL.GWAS.Z & NSNP & NWGT & MODEL & MODELCV.R2 & MODELCV.PV & TWAS.Z & TWAS.P & TWAS.P.Adj\\\\\n",
       " <chr> & <chr> & <lgl> & <dbl> & <chr> & <dbl> & <chr> & <dbl> & <dbl> & <dbl> & <dbl> & <dbl> & <chr> & <dbl> & <dbl> & <dbl> & <dbl> & <dbl>\\\\\n",
       "\\hline\n",
       "\t Liver           & Asthma   & NA & 0.603 & chr7\\_28132967\\_T\\_C\\_b38 &   7.4 & chr7\\_28199847\\_A\\_G\\_b38 & 0.1140 & -6.44 &   6.360 & 25248 & 22 & lasso & 0.180 & 0.033 & -7.080 & 1.46e-12 & 2.920e-11\\\\\n",
       "\t Muscle\\_Skeletal & Asthma   & NA & 0.174 & chr7\\_28132967\\_T\\_C\\_b38 &   7.4 & chr7\\_28149792\\_T\\_C\\_b38 & 0.0369 &  6.41 &  -4.720 & 25248 & 10 & lasso & 0.070 & 0.024 & -4.290 & 1.81e-05 & 3.077e-04\\\\\n",
       "\t Whole\\_Blood     & Asthma   & NA & 0.193 & chr7\\_28132967\\_T\\_C\\_b38 &   7.4 & chr7\\_28250210\\_C\\_T\\_b38 & 0.0821 & -6.29 &   1.230 & 25248 &  1 & top1  & 0.082 & 0.011 & -1.230 & 2.20e-01 & 1.000e+00\\\\\n",
       "\t Liver           & diabetes & NA & 0.603 & chr7\\_28154778\\_C\\_A\\_b38 &  -8.9 & chr7\\_28199847\\_A\\_G\\_b38 & 0.1140 & -6.44 &   5.170 & 25248 & 22 & lasso & 0.180 & 0.033 & -4.790 & 1.69e-06 & 3.042e-05\\\\\n",
       "\t Muscle\\_Skeletal & diabetes & NA & 0.174 & chr7\\_28154778\\_C\\_A\\_b38 &  -8.9 & chr7\\_28149792\\_T\\_C\\_b38 & 0.0369 &  6.41 &  -8.560 & 25248 & 10 & lasso & 0.070 & 0.024 & -7.060 & 1.63e-12 & 3.097e-11\\\\\n",
       "\t Whole\\_Blood     & diabetes & NA & 0.193 & chr7\\_28154778\\_C\\_A\\_b38 &  -8.9 & chr7\\_28250210\\_C\\_T\\_b38 & 0.0821 & -6.29 &  -0.615 & 25248 &  1 & top1  & 0.082 & 0.011 &  0.615 & 5.38e-01 & 1.000e+00\\\\\n",
       "\t Liver           & WAIST    & NA & 0.603 & chr7\\_28165684\\_T\\_C\\_b38 & -12.8 & chr7\\_28199847\\_A\\_G\\_b38 & 0.1140 & -6.44 &   1.340 & 25248 & 22 & lasso & 0.180 & 0.033 & -1.100 & 2.72e-01 & 1.000e+00\\\\\n",
       "\t Muscle\\_Skeletal & WAIST    & NA & 0.174 & chr7\\_28165684\\_T\\_C\\_b38 & -12.8 & chr7\\_28149792\\_T\\_C\\_b38 & 0.0369 &  6.41 & -12.300 & 25248 & 10 & lasso & 0.070 & 0.024 & -8.200 & 2.38e-16 & 4.998e-15\\\\\n",
       "\t Whole\\_Blood     & WAIST    & NA & 0.193 & chr7\\_28165684\\_T\\_C\\_b38 & -12.8 & chr7\\_28250210\\_C\\_T\\_b38 & 0.0821 & -6.29 &   0.946 & 25248 &  1 & top1  & 0.082 & 0.011 & -0.946 & 3.44e-01 & 1.000e+00\\\\\n",
       "\\end{tabular}\n"
      ],
      "text/markdown": [
       "\n",
       "A tibble: 9 × 18\n",
       "\n",
       "| tissue &lt;chr&gt; | phenotype &lt;chr&gt; | PANEL &lt;lgl&gt; | HSQ &lt;dbl&gt; | BEST.GWAS.ID &lt;chr&gt; | BEST.GWAS.Z &lt;dbl&gt; | EQTL.ID &lt;chr&gt; | EQTL.R2 &lt;dbl&gt; | EQTL.Z &lt;dbl&gt; | EQTL.GWAS.Z &lt;dbl&gt; | NSNP &lt;dbl&gt; | NWGT &lt;dbl&gt; | MODEL &lt;chr&gt; | MODELCV.R2 &lt;dbl&gt; | MODELCV.PV &lt;dbl&gt; | TWAS.Z &lt;dbl&gt; | TWAS.P &lt;dbl&gt; | TWAS.P.Adj &lt;dbl&gt; |\n",
       "|---|---|---|---|---|---|---|---|---|---|---|---|---|---|---|---|---|---|\n",
       "| Liver           | Asthma   | NA | 0.603 | chr7_28132967_T_C_b38 |   7.4 | chr7_28199847_A_G_b38 | 0.1140 | -6.44 |   6.360 | 25248 | 22 | lasso | 0.180 | 0.033 | -7.080 | 1.46e-12 | 2.920e-11 |\n",
       "| Muscle_Skeletal | Asthma   | NA | 0.174 | chr7_28132967_T_C_b38 |   7.4 | chr7_28149792_T_C_b38 | 0.0369 |  6.41 |  -4.720 | 25248 | 10 | lasso | 0.070 | 0.024 | -4.290 | 1.81e-05 | 3.077e-04 |\n",
       "| Whole_Blood     | Asthma   | NA | 0.193 | chr7_28132967_T_C_b38 |   7.4 | chr7_28250210_C_T_b38 | 0.0821 | -6.29 |   1.230 | 25248 |  1 | top1  | 0.082 | 0.011 | -1.230 | 2.20e-01 | 1.000e+00 |\n",
       "| Liver           | diabetes | NA | 0.603 | chr7_28154778_C_A_b38 |  -8.9 | chr7_28199847_A_G_b38 | 0.1140 | -6.44 |   5.170 | 25248 | 22 | lasso | 0.180 | 0.033 | -4.790 | 1.69e-06 | 3.042e-05 |\n",
       "| Muscle_Skeletal | diabetes | NA | 0.174 | chr7_28154778_C_A_b38 |  -8.9 | chr7_28149792_T_C_b38 | 0.0369 |  6.41 |  -8.560 | 25248 | 10 | lasso | 0.070 | 0.024 | -7.060 | 1.63e-12 | 3.097e-11 |\n",
       "| Whole_Blood     | diabetes | NA | 0.193 | chr7_28154778_C_A_b38 |  -8.9 | chr7_28250210_C_T_b38 | 0.0821 | -6.29 |  -0.615 | 25248 |  1 | top1  | 0.082 | 0.011 |  0.615 | 5.38e-01 | 1.000e+00 |\n",
       "| Liver           | WAIST    | NA | 0.603 | chr7_28165684_T_C_b38 | -12.8 | chr7_28199847_A_G_b38 | 0.1140 | -6.44 |   1.340 | 25248 | 22 | lasso | 0.180 | 0.033 | -1.100 | 2.72e-01 | 1.000e+00 |\n",
       "| Muscle_Skeletal | WAIST    | NA | 0.174 | chr7_28165684_T_C_b38 | -12.8 | chr7_28149792_T_C_b38 | 0.0369 |  6.41 | -12.300 | 25248 | 10 | lasso | 0.070 | 0.024 | -8.200 | 2.38e-16 | 4.998e-15 |\n",
       "| Whole_Blood     | WAIST    | NA | 0.193 | chr7_28165684_T_C_b38 | -12.8 | chr7_28250210_C_T_b38 | 0.0821 | -6.29 |   0.946 | 25248 |  1 | top1  | 0.082 | 0.011 | -0.946 | 3.44e-01 | 1.000e+00 |\n",
       "\n"
      ],
      "text/plain": [
       "  tissue          phenotype PANEL HSQ   BEST.GWAS.ID          BEST.GWAS.Z\n",
       "1 Liver           Asthma    NA    0.603 chr7_28132967_T_C_b38   7.4      \n",
       "2 Muscle_Skeletal Asthma    NA    0.174 chr7_28132967_T_C_b38   7.4      \n",
       "3 Whole_Blood     Asthma    NA    0.193 chr7_28132967_T_C_b38   7.4      \n",
       "4 Liver           diabetes  NA    0.603 chr7_28154778_C_A_b38  -8.9      \n",
       "5 Muscle_Skeletal diabetes  NA    0.174 chr7_28154778_C_A_b38  -8.9      \n",
       "6 Whole_Blood     diabetes  NA    0.193 chr7_28154778_C_A_b38  -8.9      \n",
       "7 Liver           WAIST     NA    0.603 chr7_28165684_T_C_b38 -12.8      \n",
       "8 Muscle_Skeletal WAIST     NA    0.174 chr7_28165684_T_C_b38 -12.8      \n",
       "9 Whole_Blood     WAIST     NA    0.193 chr7_28165684_T_C_b38 -12.8      \n",
       "  EQTL.ID               EQTL.R2 EQTL.Z EQTL.GWAS.Z NSNP  NWGT MODEL MODELCV.R2\n",
       "1 chr7_28199847_A_G_b38 0.1140  -6.44    6.360     25248 22   lasso 0.180     \n",
       "2 chr7_28149792_T_C_b38 0.0369   6.41   -4.720     25248 10   lasso 0.070     \n",
       "3 chr7_28250210_C_T_b38 0.0821  -6.29    1.230     25248  1   top1  0.082     \n",
       "4 chr7_28199847_A_G_b38 0.1140  -6.44    5.170     25248 22   lasso 0.180     \n",
       "5 chr7_28149792_T_C_b38 0.0369   6.41   -8.560     25248 10   lasso 0.070     \n",
       "6 chr7_28250210_C_T_b38 0.0821  -6.29   -0.615     25248  1   top1  0.082     \n",
       "7 chr7_28199847_A_G_b38 0.1140  -6.44    1.340     25248 22   lasso 0.180     \n",
       "8 chr7_28149792_T_C_b38 0.0369   6.41  -12.300     25248 10   lasso 0.070     \n",
       "9 chr7_28250210_C_T_b38 0.0821  -6.29    0.946     25248  1   top1  0.082     \n",
       "  MODELCV.PV TWAS.Z TWAS.P   TWAS.P.Adj\n",
       "1 0.033      -7.080 1.46e-12 2.920e-11 \n",
       "2 0.024      -4.290 1.81e-05 3.077e-04 \n",
       "3 0.011      -1.230 2.20e-01 1.000e+00 \n",
       "4 0.033      -4.790 1.69e-06 3.042e-05 \n",
       "5 0.024      -7.060 1.63e-12 3.097e-11 \n",
       "6 0.011       0.615 5.38e-01 1.000e+00 \n",
       "7 0.033      -1.100 2.72e-01 1.000e+00 \n",
       "8 0.024      -8.200 2.38e-16 4.998e-15 \n",
       "9 0.011      -0.946 3.44e-01 1.000e+00 "
      ]
     },
     "metadata": {},
     "output_type": "display_data"
    }
   ],
   "source": [
    "result = working%>%select(-path)%>%unnest(data)%>%select(-c(FILE:P1))%>%mutate(TWAS.P.Adj = p.adjust(TWAS.P))\n",
    "result%>%filter(MODELCV.PV < 0.05)"
   ]
  },
  {
   "cell_type": "code",
   "execution_count": 289,
   "metadata": {},
   "outputs": [
    {
     "data": {
      "text/html": [
       "<table class=\"dataframe\">\n",
       "<caption>A tibble: 24 × 17</caption>\n",
       "<thead>\n",
       "\t<tr><th scope=col>tissue</th><th scope=col>phenotype</th><th scope=col>PANEL</th><th scope=col>HSQ</th><th scope=col>BEST.GWAS.Z</th><th scope=col>EQTL.ID</th><th scope=col>EQTL.R2</th><th scope=col>EQTL.Z</th><th scope=col>EQTL.GWAS.Z</th><th scope=col>NSNP</th><th scope=col>NWGT</th><th scope=col>MODEL</th><th scope=col>MODELCV.R2</th><th scope=col>MODELCV.PV</th><th scope=col>TWAS.Z</th><th scope=col>TWAS.P</th><th scope=col>TWAS.P.Adj</th></tr>\n",
       "\t<tr><th scope=col>&lt;chr&gt;</th><th scope=col>&lt;chr&gt;</th><th scope=col>&lt;lgl&gt;</th><th scope=col>&lt;dbl&gt;</th><th scope=col>&lt;dbl&gt;</th><th scope=col>&lt;chr&gt;</th><th scope=col>&lt;dbl&gt;</th><th scope=col>&lt;dbl&gt;</th><th scope=col>&lt;dbl&gt;</th><th scope=col>&lt;dbl&gt;</th><th scope=col>&lt;dbl&gt;</th><th scope=col>&lt;chr&gt;</th><th scope=col>&lt;dbl&gt;</th><th scope=col>&lt;dbl&gt;</th><th scope=col>&lt;dbl&gt;</th><th scope=col>&lt;dbl&gt;</th><th scope=col>&lt;dbl&gt;</th></tr>\n",
       "</thead>\n",
       "<tbody>\n",
       "\t<tr><td>Artery_Tibial  </td><td>Asthma  </td><td>NA</td><td>0.107</td><td>  7.4</td><td>chr7_28220789_G_A_b38</td><td>-0.000609</td><td>-4.27</td><td> -0.0364</td><td>25248</td><td> 4</td><td>lasso</td><td>0.0130</td><td>0.370</td><td>-0.7210</td><td>4.71e-01</td><td>1.000e+00</td></tr>\n",
       "\t<tr><td>Liver          </td><td>Asthma  </td><td>NA</td><td>0.603</td><td>  7.4</td><td>chr7_28199847_A_G_b38</td><td> 0.114000</td><td>-6.44</td><td>  6.3600</td><td>25248</td><td>22</td><td>lasso</td><td>0.1800</td><td>0.033</td><td>-7.0800</td><td>1.46e-12</td><td>2.920e-11</td></tr>\n",
       "\t<tr><td>Lung           </td><td>Asthma  </td><td>NA</td><td>0.169</td><td>  7.4</td><td>chr7_28993192_T_C_b38</td><td> 0.005170</td><td>-4.38</td><td>  0.0687</td><td>25248</td><td> 6</td><td>lasso</td><td>0.0210</td><td>0.280</td><td>-1.0100</td><td>3.10e-01</td><td>1.000e+00</td></tr>\n",
       "\t<tr><td>Muscle_Skeletal</td><td>Asthma  </td><td>NA</td><td>0.174</td><td>  7.4</td><td>chr7_28149792_T_C_b38</td><td> 0.036900</td><td> 6.41</td><td> -4.7200</td><td>25248</td><td>10</td><td>lasso</td><td>0.0700</td><td>0.024</td><td>-4.2900</td><td>1.81e-05</td><td>3.077e-04</td></tr>\n",
       "\t<tr><td>Spleen         </td><td>Asthma  </td><td>NA</td><td>0.491</td><td>   NA</td><td>NA                   </td><td>       NA</td><td>   NA</td><td>      NA</td><td>    0</td><td> 0</td><td>lasso</td><td>0.0960</td><td>0.240</td><td>     NA</td><td>      NA</td><td>       NA</td></tr>\n",
       "\t<tr><td>Stomach        </td><td>Asthma  </td><td>NA</td><td>0.250</td><td>  7.4</td><td>chr7_29009538_T_C_b38</td><td> 0.003520</td><td>-3.71</td><td>  0.1870</td><td>25248</td><td> 1</td><td>top1 </td><td>0.0035</td><td>0.430</td><td>-0.1870</td><td>8.52e-01</td><td>1.000e+00</td></tr>\n",
       "\t<tr><td>Thyroid        </td><td>Asthma  </td><td>NA</td><td>0.189</td><td>  7.4</td><td>chr7_28660950_C_T_b38</td><td> 0.007190</td><td>-4.53</td><td>  0.3310</td><td>25248</td><td> 2</td><td>lasso</td><td>0.0110</td><td>0.330</td><td>-0.5070</td><td>6.12e-01</td><td>1.000e+00</td></tr>\n",
       "\t<tr><td>Whole_Blood    </td><td>Asthma  </td><td>NA</td><td>0.193</td><td>  7.4</td><td>chr7_28250210_C_T_b38</td><td> 0.082100</td><td>-6.29</td><td>  1.2300</td><td>25248</td><td> 1</td><td>top1 </td><td>0.0820</td><td>0.011</td><td>-1.2300</td><td>2.20e-01</td><td>1.000e+00</td></tr>\n",
       "\t<tr><td>Artery_Tibial  </td><td>diabetes</td><td>NA</td><td>0.107</td><td> -8.9</td><td>chr7_28220789_G_A_b38</td><td>-0.000609</td><td>-4.27</td><td>  0.6640</td><td>25248</td><td> 4</td><td>lasso</td><td>0.0130</td><td>0.370</td><td>-3.8500</td><td>1.20e-04</td><td>1.800e-03</td></tr>\n",
       "\t<tr><td>Liver          </td><td>diabetes</td><td>NA</td><td>0.603</td><td> -8.9</td><td>chr7_28199847_A_G_b38</td><td> 0.114000</td><td>-6.44</td><td>  5.1700</td><td>25248</td><td>22</td><td>lasso</td><td>0.1800</td><td>0.033</td><td>-4.7900</td><td>1.69e-06</td><td>3.042e-05</td></tr>\n",
       "\t<tr><td>Lung           </td><td>diabetes</td><td>NA</td><td>0.169</td><td> -8.9</td><td>chr7_28993192_T_C_b38</td><td> 0.005170</td><td>-4.38</td><td>  0.7900</td><td>25248</td><td> 6</td><td>lasso</td><td>0.0210</td><td>0.280</td><td>-1.3800</td><td>1.69e-01</td><td>1.000e+00</td></tr>\n",
       "\t<tr><td>Muscle_Skeletal</td><td>diabetes</td><td>NA</td><td>0.174</td><td> -8.9</td><td>chr7_28149792_T_C_b38</td><td> 0.036900</td><td> 6.41</td><td> -8.5600</td><td>25248</td><td>10</td><td>lasso</td><td>0.0700</td><td>0.024</td><td>-7.0600</td><td>1.63e-12</td><td>3.097e-11</td></tr>\n",
       "\t<tr><td>Spleen         </td><td>diabetes</td><td>NA</td><td>0.491</td><td>   NA</td><td>NA                   </td><td>       NA</td><td>   NA</td><td>      NA</td><td>    0</td><td> 0</td><td>lasso</td><td>0.0960</td><td>0.240</td><td>     NA</td><td>      NA</td><td>       NA</td></tr>\n",
       "\t<tr><td>Stomach        </td><td>diabetes</td><td>NA</td><td>0.250</td><td> -8.9</td><td>chr7_29009538_T_C_b38</td><td> 0.003520</td><td>-3.71</td><td>  0.0246</td><td>25248</td><td> 1</td><td>top1 </td><td>0.0035</td><td>0.430</td><td>-0.0246</td><td>9.80e-01</td><td>1.000e+00</td></tr>\n",
       "\t<tr><td>Thyroid        </td><td>diabetes</td><td>NA</td><td>0.189</td><td> -8.9</td><td>chr7_28660950_C_T_b38</td><td> 0.007190</td><td>-4.53</td><td>  0.0391</td><td>25248</td><td> 2</td><td>lasso</td><td>0.0110</td><td>0.330</td><td> 0.0199</td><td>9.84e-01</td><td>1.000e+00</td></tr>\n",
       "\t<tr><td>Whole_Blood    </td><td>diabetes</td><td>NA</td><td>0.193</td><td> -8.9</td><td>chr7_28250210_C_T_b38</td><td> 0.082100</td><td>-6.29</td><td> -0.6150</td><td>25248</td><td> 1</td><td>top1 </td><td>0.0820</td><td>0.011</td><td> 0.6150</td><td>5.38e-01</td><td>1.000e+00</td></tr>\n",
       "\t<tr><td>Artery_Tibial  </td><td>WAIST   </td><td>NA</td><td>0.107</td><td>-12.8</td><td>chr7_28220789_G_A_b38</td><td>-0.000609</td><td>-4.27</td><td> -1.2500</td><td>25248</td><td> 4</td><td>lasso</td><td>0.0130</td><td>0.370</td><td>-4.1300</td><td>3.68e-05</td><td>5.888e-04</td></tr>\n",
       "\t<tr><td>Liver          </td><td>WAIST   </td><td>NA</td><td>0.603</td><td>-12.8</td><td>chr7_28199847_A_G_b38</td><td> 0.114000</td><td>-6.44</td><td>  1.3400</td><td>25248</td><td>22</td><td>lasso</td><td>0.1800</td><td>0.033</td><td>-1.1000</td><td>2.72e-01</td><td>1.000e+00</td></tr>\n",
       "\t<tr><td>Lung           </td><td>WAIST   </td><td>NA</td><td>0.169</td><td>-12.8</td><td>chr7_28993192_T_C_b38</td><td> 0.005170</td><td>-4.38</td><td> -1.0100</td><td>25248</td><td> 6</td><td>lasso</td><td>0.0210</td><td>0.280</td><td> 1.1500</td><td>2.48e-01</td><td>1.000e+00</td></tr>\n",
       "\t<tr><td>Muscle_Skeletal</td><td>WAIST   </td><td>NA</td><td>0.174</td><td>-12.8</td><td>chr7_28149792_T_C_b38</td><td> 0.036900</td><td> 6.41</td><td>-12.3000</td><td>25248</td><td>10</td><td>lasso</td><td>0.0700</td><td>0.024</td><td>-8.2000</td><td>2.38e-16</td><td>4.998e-15</td></tr>\n",
       "\t<tr><td>Spleen         </td><td>WAIST   </td><td>NA</td><td>0.491</td><td>   NA</td><td>NA                   </td><td>       NA</td><td>   NA</td><td>      NA</td><td>    0</td><td> 0</td><td>lasso</td><td>0.0960</td><td>0.240</td><td>     NA</td><td>      NA</td><td>       NA</td></tr>\n",
       "\t<tr><td>Stomach        </td><td>WAIST   </td><td>NA</td><td>0.250</td><td>-12.8</td><td>chr7_29009538_T_C_b38</td><td> 0.003520</td><td>-3.71</td><td>  0.5600</td><td>25248</td><td> 1</td><td>top1 </td><td>0.0035</td><td>0.430</td><td>-0.5600</td><td>5.75e-01</td><td>1.000e+00</td></tr>\n",
       "\t<tr><td>Thyroid        </td><td>WAIST   </td><td>NA</td><td>0.189</td><td>-12.8</td><td>chr7_28660950_C_T_b38</td><td> 0.007190</td><td>-4.53</td><td>  0.8340</td><td>25248</td><td> 2</td><td>lasso</td><td>0.0110</td><td>0.330</td><td>-0.3250</td><td>7.45e-01</td><td>1.000e+00</td></tr>\n",
       "\t<tr><td>Whole_Blood    </td><td>WAIST   </td><td>NA</td><td>0.193</td><td>-12.8</td><td>chr7_28250210_C_T_b38</td><td> 0.082100</td><td>-6.29</td><td>  0.9460</td><td>25248</td><td> 1</td><td>top1 </td><td>0.0820</td><td>0.011</td><td>-0.9460</td><td>3.44e-01</td><td>1.000e+00</td></tr>\n",
       "</tbody>\n",
       "</table>\n"
      ],
      "text/latex": [
       "A tibble: 24 × 17\n",
       "\\begin{tabular}{lllllllllllllllll}\n",
       " tissue & phenotype & PANEL & HSQ & BEST.GWAS.Z & EQTL.ID & EQTL.R2 & EQTL.Z & EQTL.GWAS.Z & NSNP & NWGT & MODEL & MODELCV.R2 & MODELCV.PV & TWAS.Z & TWAS.P & TWAS.P.Adj\\\\\n",
       " <chr> & <chr> & <lgl> & <dbl> & <dbl> & <chr> & <dbl> & <dbl> & <dbl> & <dbl> & <dbl> & <chr> & <dbl> & <dbl> & <dbl> & <dbl> & <dbl>\\\\\n",
       "\\hline\n",
       "\t Artery\\_Tibial   & Asthma   & NA & 0.107 &   7.4 & chr7\\_28220789\\_G\\_A\\_b38 & -0.000609 & -4.27 &  -0.0364 & 25248 &  4 & lasso & 0.0130 & 0.370 & -0.7210 & 4.71e-01 & 1.000e+00\\\\\n",
       "\t Liver           & Asthma   & NA & 0.603 &   7.4 & chr7\\_28199847\\_A\\_G\\_b38 &  0.114000 & -6.44 &   6.3600 & 25248 & 22 & lasso & 0.1800 & 0.033 & -7.0800 & 1.46e-12 & 2.920e-11\\\\\n",
       "\t Lung            & Asthma   & NA & 0.169 &   7.4 & chr7\\_28993192\\_T\\_C\\_b38 &  0.005170 & -4.38 &   0.0687 & 25248 &  6 & lasso & 0.0210 & 0.280 & -1.0100 & 3.10e-01 & 1.000e+00\\\\\n",
       "\t Muscle\\_Skeletal & Asthma   & NA & 0.174 &   7.4 & chr7\\_28149792\\_T\\_C\\_b38 &  0.036900 &  6.41 &  -4.7200 & 25248 & 10 & lasso & 0.0700 & 0.024 & -4.2900 & 1.81e-05 & 3.077e-04\\\\\n",
       "\t Spleen          & Asthma   & NA & 0.491 &    NA & NA                    &        NA &    NA &       NA &     0 &  0 & lasso & 0.0960 & 0.240 &      NA &       NA &        NA\\\\\n",
       "\t Stomach         & Asthma   & NA & 0.250 &   7.4 & chr7\\_29009538\\_T\\_C\\_b38 &  0.003520 & -3.71 &   0.1870 & 25248 &  1 & top1  & 0.0035 & 0.430 & -0.1870 & 8.52e-01 & 1.000e+00\\\\\n",
       "\t Thyroid         & Asthma   & NA & 0.189 &   7.4 & chr7\\_28660950\\_C\\_T\\_b38 &  0.007190 & -4.53 &   0.3310 & 25248 &  2 & lasso & 0.0110 & 0.330 & -0.5070 & 6.12e-01 & 1.000e+00\\\\\n",
       "\t Whole\\_Blood     & Asthma   & NA & 0.193 &   7.4 & chr7\\_28250210\\_C\\_T\\_b38 &  0.082100 & -6.29 &   1.2300 & 25248 &  1 & top1  & 0.0820 & 0.011 & -1.2300 & 2.20e-01 & 1.000e+00\\\\\n",
       "\t Artery\\_Tibial   & diabetes & NA & 0.107 &  -8.9 & chr7\\_28220789\\_G\\_A\\_b38 & -0.000609 & -4.27 &   0.6640 & 25248 &  4 & lasso & 0.0130 & 0.370 & -3.8500 & 1.20e-04 & 1.800e-03\\\\\n",
       "\t Liver           & diabetes & NA & 0.603 &  -8.9 & chr7\\_28199847\\_A\\_G\\_b38 &  0.114000 & -6.44 &   5.1700 & 25248 & 22 & lasso & 0.1800 & 0.033 & -4.7900 & 1.69e-06 & 3.042e-05\\\\\n",
       "\t Lung            & diabetes & NA & 0.169 &  -8.9 & chr7\\_28993192\\_T\\_C\\_b38 &  0.005170 & -4.38 &   0.7900 & 25248 &  6 & lasso & 0.0210 & 0.280 & -1.3800 & 1.69e-01 & 1.000e+00\\\\\n",
       "\t Muscle\\_Skeletal & diabetes & NA & 0.174 &  -8.9 & chr7\\_28149792\\_T\\_C\\_b38 &  0.036900 &  6.41 &  -8.5600 & 25248 & 10 & lasso & 0.0700 & 0.024 & -7.0600 & 1.63e-12 & 3.097e-11\\\\\n",
       "\t Spleen          & diabetes & NA & 0.491 &    NA & NA                    &        NA &    NA &       NA &     0 &  0 & lasso & 0.0960 & 0.240 &      NA &       NA &        NA\\\\\n",
       "\t Stomach         & diabetes & NA & 0.250 &  -8.9 & chr7\\_29009538\\_T\\_C\\_b38 &  0.003520 & -3.71 &   0.0246 & 25248 &  1 & top1  & 0.0035 & 0.430 & -0.0246 & 9.80e-01 & 1.000e+00\\\\\n",
       "\t Thyroid         & diabetes & NA & 0.189 &  -8.9 & chr7\\_28660950\\_C\\_T\\_b38 &  0.007190 & -4.53 &   0.0391 & 25248 &  2 & lasso & 0.0110 & 0.330 &  0.0199 & 9.84e-01 & 1.000e+00\\\\\n",
       "\t Whole\\_Blood     & diabetes & NA & 0.193 &  -8.9 & chr7\\_28250210\\_C\\_T\\_b38 &  0.082100 & -6.29 &  -0.6150 & 25248 &  1 & top1  & 0.0820 & 0.011 &  0.6150 & 5.38e-01 & 1.000e+00\\\\\n",
       "\t Artery\\_Tibial   & WAIST    & NA & 0.107 & -12.8 & chr7\\_28220789\\_G\\_A\\_b38 & -0.000609 & -4.27 &  -1.2500 & 25248 &  4 & lasso & 0.0130 & 0.370 & -4.1300 & 3.68e-05 & 5.888e-04\\\\\n",
       "\t Liver           & WAIST    & NA & 0.603 & -12.8 & chr7\\_28199847\\_A\\_G\\_b38 &  0.114000 & -6.44 &   1.3400 & 25248 & 22 & lasso & 0.1800 & 0.033 & -1.1000 & 2.72e-01 & 1.000e+00\\\\\n",
       "\t Lung            & WAIST    & NA & 0.169 & -12.8 & chr7\\_28993192\\_T\\_C\\_b38 &  0.005170 & -4.38 &  -1.0100 & 25248 &  6 & lasso & 0.0210 & 0.280 &  1.1500 & 2.48e-01 & 1.000e+00\\\\\n",
       "\t Muscle\\_Skeletal & WAIST    & NA & 0.174 & -12.8 & chr7\\_28149792\\_T\\_C\\_b38 &  0.036900 &  6.41 & -12.3000 & 25248 & 10 & lasso & 0.0700 & 0.024 & -8.2000 & 2.38e-16 & 4.998e-15\\\\\n",
       "\t Spleen          & WAIST    & NA & 0.491 &    NA & NA                    &        NA &    NA &       NA &     0 &  0 & lasso & 0.0960 & 0.240 &      NA &       NA &        NA\\\\\n",
       "\t Stomach         & WAIST    & NA & 0.250 & -12.8 & chr7\\_29009538\\_T\\_C\\_b38 &  0.003520 & -3.71 &   0.5600 & 25248 &  1 & top1  & 0.0035 & 0.430 & -0.5600 & 5.75e-01 & 1.000e+00\\\\\n",
       "\t Thyroid         & WAIST    & NA & 0.189 & -12.8 & chr7\\_28660950\\_C\\_T\\_b38 &  0.007190 & -4.53 &   0.8340 & 25248 &  2 & lasso & 0.0110 & 0.330 & -0.3250 & 7.45e-01 & 1.000e+00\\\\\n",
       "\t Whole\\_Blood     & WAIST    & NA & 0.193 & -12.8 & chr7\\_28250210\\_C\\_T\\_b38 &  0.082100 & -6.29 &   0.9460 & 25248 &  1 & top1  & 0.0820 & 0.011 & -0.9460 & 3.44e-01 & 1.000e+00\\\\\n",
       "\\end{tabular}\n"
      ],
      "text/markdown": [
       "\n",
       "A tibble: 24 × 17\n",
       "\n",
       "| tissue &lt;chr&gt; | phenotype &lt;chr&gt; | PANEL &lt;lgl&gt; | HSQ &lt;dbl&gt; | BEST.GWAS.Z &lt;dbl&gt; | EQTL.ID &lt;chr&gt; | EQTL.R2 &lt;dbl&gt; | EQTL.Z &lt;dbl&gt; | EQTL.GWAS.Z &lt;dbl&gt; | NSNP &lt;dbl&gt; | NWGT &lt;dbl&gt; | MODEL &lt;chr&gt; | MODELCV.R2 &lt;dbl&gt; | MODELCV.PV &lt;dbl&gt; | TWAS.Z &lt;dbl&gt; | TWAS.P &lt;dbl&gt; | TWAS.P.Adj &lt;dbl&gt; |\n",
       "|---|---|---|---|---|---|---|---|---|---|---|---|---|---|---|---|---|\n",
       "| Artery_Tibial   | Asthma   | NA | 0.107 |   7.4 | chr7_28220789_G_A_b38 | -0.000609 | -4.27 |  -0.0364 | 25248 |  4 | lasso | 0.0130 | 0.370 | -0.7210 | 4.71e-01 | 1.000e+00 |\n",
       "| Liver           | Asthma   | NA | 0.603 |   7.4 | chr7_28199847_A_G_b38 |  0.114000 | -6.44 |   6.3600 | 25248 | 22 | lasso | 0.1800 | 0.033 | -7.0800 | 1.46e-12 | 2.920e-11 |\n",
       "| Lung            | Asthma   | NA | 0.169 |   7.4 | chr7_28993192_T_C_b38 |  0.005170 | -4.38 |   0.0687 | 25248 |  6 | lasso | 0.0210 | 0.280 | -1.0100 | 3.10e-01 | 1.000e+00 |\n",
       "| Muscle_Skeletal | Asthma   | NA | 0.174 |   7.4 | chr7_28149792_T_C_b38 |  0.036900 |  6.41 |  -4.7200 | 25248 | 10 | lasso | 0.0700 | 0.024 | -4.2900 | 1.81e-05 | 3.077e-04 |\n",
       "| Spleen          | Asthma   | NA | 0.491 |    NA | NA                    |        NA |    NA |       NA |     0 |  0 | lasso | 0.0960 | 0.240 |      NA |       NA |        NA |\n",
       "| Stomach         | Asthma   | NA | 0.250 |   7.4 | chr7_29009538_T_C_b38 |  0.003520 | -3.71 |   0.1870 | 25248 |  1 | top1  | 0.0035 | 0.430 | -0.1870 | 8.52e-01 | 1.000e+00 |\n",
       "| Thyroid         | Asthma   | NA | 0.189 |   7.4 | chr7_28660950_C_T_b38 |  0.007190 | -4.53 |   0.3310 | 25248 |  2 | lasso | 0.0110 | 0.330 | -0.5070 | 6.12e-01 | 1.000e+00 |\n",
       "| Whole_Blood     | Asthma   | NA | 0.193 |   7.4 | chr7_28250210_C_T_b38 |  0.082100 | -6.29 |   1.2300 | 25248 |  1 | top1  | 0.0820 | 0.011 | -1.2300 | 2.20e-01 | 1.000e+00 |\n",
       "| Artery_Tibial   | diabetes | NA | 0.107 |  -8.9 | chr7_28220789_G_A_b38 | -0.000609 | -4.27 |   0.6640 | 25248 |  4 | lasso | 0.0130 | 0.370 | -3.8500 | 1.20e-04 | 1.800e-03 |\n",
       "| Liver           | diabetes | NA | 0.603 |  -8.9 | chr7_28199847_A_G_b38 |  0.114000 | -6.44 |   5.1700 | 25248 | 22 | lasso | 0.1800 | 0.033 | -4.7900 | 1.69e-06 | 3.042e-05 |\n",
       "| Lung            | diabetes | NA | 0.169 |  -8.9 | chr7_28993192_T_C_b38 |  0.005170 | -4.38 |   0.7900 | 25248 |  6 | lasso | 0.0210 | 0.280 | -1.3800 | 1.69e-01 | 1.000e+00 |\n",
       "| Muscle_Skeletal | diabetes | NA | 0.174 |  -8.9 | chr7_28149792_T_C_b38 |  0.036900 |  6.41 |  -8.5600 | 25248 | 10 | lasso | 0.0700 | 0.024 | -7.0600 | 1.63e-12 | 3.097e-11 |\n",
       "| Spleen          | diabetes | NA | 0.491 |    NA | NA                    |        NA |    NA |       NA |     0 |  0 | lasso | 0.0960 | 0.240 |      NA |       NA |        NA |\n",
       "| Stomach         | diabetes | NA | 0.250 |  -8.9 | chr7_29009538_T_C_b38 |  0.003520 | -3.71 |   0.0246 | 25248 |  1 | top1  | 0.0035 | 0.430 | -0.0246 | 9.80e-01 | 1.000e+00 |\n",
       "| Thyroid         | diabetes | NA | 0.189 |  -8.9 | chr7_28660950_C_T_b38 |  0.007190 | -4.53 |   0.0391 | 25248 |  2 | lasso | 0.0110 | 0.330 |  0.0199 | 9.84e-01 | 1.000e+00 |\n",
       "| Whole_Blood     | diabetes | NA | 0.193 |  -8.9 | chr7_28250210_C_T_b38 |  0.082100 | -6.29 |  -0.6150 | 25248 |  1 | top1  | 0.0820 | 0.011 |  0.6150 | 5.38e-01 | 1.000e+00 |\n",
       "| Artery_Tibial   | WAIST    | NA | 0.107 | -12.8 | chr7_28220789_G_A_b38 | -0.000609 | -4.27 |  -1.2500 | 25248 |  4 | lasso | 0.0130 | 0.370 | -4.1300 | 3.68e-05 | 5.888e-04 |\n",
       "| Liver           | WAIST    | NA | 0.603 | -12.8 | chr7_28199847_A_G_b38 |  0.114000 | -6.44 |   1.3400 | 25248 | 22 | lasso | 0.1800 | 0.033 | -1.1000 | 2.72e-01 | 1.000e+00 |\n",
       "| Lung            | WAIST    | NA | 0.169 | -12.8 | chr7_28993192_T_C_b38 |  0.005170 | -4.38 |  -1.0100 | 25248 |  6 | lasso | 0.0210 | 0.280 |  1.1500 | 2.48e-01 | 1.000e+00 |\n",
       "| Muscle_Skeletal | WAIST    | NA | 0.174 | -12.8 | chr7_28149792_T_C_b38 |  0.036900 |  6.41 | -12.3000 | 25248 | 10 | lasso | 0.0700 | 0.024 | -8.2000 | 2.38e-16 | 4.998e-15 |\n",
       "| Spleen          | WAIST    | NA | 0.491 |    NA | NA                    |        NA |    NA |       NA |     0 |  0 | lasso | 0.0960 | 0.240 |      NA |       NA |        NA |\n",
       "| Stomach         | WAIST    | NA | 0.250 | -12.8 | chr7_29009538_T_C_b38 |  0.003520 | -3.71 |   0.5600 | 25248 |  1 | top1  | 0.0035 | 0.430 | -0.5600 | 5.75e-01 | 1.000e+00 |\n",
       "| Thyroid         | WAIST    | NA | 0.189 | -12.8 | chr7_28660950_C_T_b38 |  0.007190 | -4.53 |   0.8340 | 25248 |  2 | lasso | 0.0110 | 0.330 | -0.3250 | 7.45e-01 | 1.000e+00 |\n",
       "| Whole_Blood     | WAIST    | NA | 0.193 | -12.8 | chr7_28250210_C_T_b38 |  0.082100 | -6.29 |   0.9460 | 25248 |  1 | top1  | 0.0820 | 0.011 | -0.9460 | 3.44e-01 | 1.000e+00 |\n",
       "\n"
      ],
      "text/plain": [
       "   tissue          phenotype PANEL HSQ   BEST.GWAS.Z EQTL.ID              \n",
       "1  Artery_Tibial   Asthma    NA    0.107   7.4       chr7_28220789_G_A_b38\n",
       "2  Liver           Asthma    NA    0.603   7.4       chr7_28199847_A_G_b38\n",
       "3  Lung            Asthma    NA    0.169   7.4       chr7_28993192_T_C_b38\n",
       "4  Muscle_Skeletal Asthma    NA    0.174   7.4       chr7_28149792_T_C_b38\n",
       "5  Spleen          Asthma    NA    0.491    NA       NA                   \n",
       "6  Stomach         Asthma    NA    0.250   7.4       chr7_29009538_T_C_b38\n",
       "7  Thyroid         Asthma    NA    0.189   7.4       chr7_28660950_C_T_b38\n",
       "8  Whole_Blood     Asthma    NA    0.193   7.4       chr7_28250210_C_T_b38\n",
       "9  Artery_Tibial   diabetes  NA    0.107  -8.9       chr7_28220789_G_A_b38\n",
       "10 Liver           diabetes  NA    0.603  -8.9       chr7_28199847_A_G_b38\n",
       "11 Lung            diabetes  NA    0.169  -8.9       chr7_28993192_T_C_b38\n",
       "12 Muscle_Skeletal diabetes  NA    0.174  -8.9       chr7_28149792_T_C_b38\n",
       "13 Spleen          diabetes  NA    0.491    NA       NA                   \n",
       "14 Stomach         diabetes  NA    0.250  -8.9       chr7_29009538_T_C_b38\n",
       "15 Thyroid         diabetes  NA    0.189  -8.9       chr7_28660950_C_T_b38\n",
       "16 Whole_Blood     diabetes  NA    0.193  -8.9       chr7_28250210_C_T_b38\n",
       "17 Artery_Tibial   WAIST     NA    0.107 -12.8       chr7_28220789_G_A_b38\n",
       "18 Liver           WAIST     NA    0.603 -12.8       chr7_28199847_A_G_b38\n",
       "19 Lung            WAIST     NA    0.169 -12.8       chr7_28993192_T_C_b38\n",
       "20 Muscle_Skeletal WAIST     NA    0.174 -12.8       chr7_28149792_T_C_b38\n",
       "21 Spleen          WAIST     NA    0.491    NA       NA                   \n",
       "22 Stomach         WAIST     NA    0.250 -12.8       chr7_29009538_T_C_b38\n",
       "23 Thyroid         WAIST     NA    0.189 -12.8       chr7_28660950_C_T_b38\n",
       "24 Whole_Blood     WAIST     NA    0.193 -12.8       chr7_28250210_C_T_b38\n",
       "   EQTL.R2   EQTL.Z EQTL.GWAS.Z NSNP  NWGT MODEL MODELCV.R2 MODELCV.PV TWAS.Z \n",
       "1  -0.000609 -4.27   -0.0364    25248  4   lasso 0.0130     0.370      -0.7210\n",
       "2   0.114000 -6.44    6.3600    25248 22   lasso 0.1800     0.033      -7.0800\n",
       "3   0.005170 -4.38    0.0687    25248  6   lasso 0.0210     0.280      -1.0100\n",
       "4   0.036900  6.41   -4.7200    25248 10   lasso 0.0700     0.024      -4.2900\n",
       "5         NA    NA        NA        0  0   lasso 0.0960     0.240           NA\n",
       "6   0.003520 -3.71    0.1870    25248  1   top1  0.0035     0.430      -0.1870\n",
       "7   0.007190 -4.53    0.3310    25248  2   lasso 0.0110     0.330      -0.5070\n",
       "8   0.082100 -6.29    1.2300    25248  1   top1  0.0820     0.011      -1.2300\n",
       "9  -0.000609 -4.27    0.6640    25248  4   lasso 0.0130     0.370      -3.8500\n",
       "10  0.114000 -6.44    5.1700    25248 22   lasso 0.1800     0.033      -4.7900\n",
       "11  0.005170 -4.38    0.7900    25248  6   lasso 0.0210     0.280      -1.3800\n",
       "12  0.036900  6.41   -8.5600    25248 10   lasso 0.0700     0.024      -7.0600\n",
       "13        NA    NA        NA        0  0   lasso 0.0960     0.240           NA\n",
       "14  0.003520 -3.71    0.0246    25248  1   top1  0.0035     0.430      -0.0246\n",
       "15  0.007190 -4.53    0.0391    25248  2   lasso 0.0110     0.330       0.0199\n",
       "16  0.082100 -6.29   -0.6150    25248  1   top1  0.0820     0.011       0.6150\n",
       "17 -0.000609 -4.27   -1.2500    25248  4   lasso 0.0130     0.370      -4.1300\n",
       "18  0.114000 -6.44    1.3400    25248 22   lasso 0.1800     0.033      -1.1000\n",
       "19  0.005170 -4.38   -1.0100    25248  6   lasso 0.0210     0.280       1.1500\n",
       "20  0.036900  6.41  -12.3000    25248 10   lasso 0.0700     0.024      -8.2000\n",
       "21        NA    NA        NA        0  0   lasso 0.0960     0.240           NA\n",
       "22  0.003520 -3.71    0.5600    25248  1   top1  0.0035     0.430      -0.5600\n",
       "23  0.007190 -4.53    0.8340    25248  2   lasso 0.0110     0.330      -0.3250\n",
       "24  0.082100 -6.29    0.9460    25248  1   top1  0.0820     0.011      -0.9460\n",
       "   TWAS.P   TWAS.P.Adj\n",
       "1  4.71e-01 1.000e+00 \n",
       "2  1.46e-12 2.920e-11 \n",
       "3  3.10e-01 1.000e+00 \n",
       "4  1.81e-05 3.077e-04 \n",
       "5        NA        NA \n",
       "6  8.52e-01 1.000e+00 \n",
       "7  6.12e-01 1.000e+00 \n",
       "8  2.20e-01 1.000e+00 \n",
       "9  1.20e-04 1.800e-03 \n",
       "10 1.69e-06 3.042e-05 \n",
       "11 1.69e-01 1.000e+00 \n",
       "12 1.63e-12 3.097e-11 \n",
       "13       NA        NA \n",
       "14 9.80e-01 1.000e+00 \n",
       "15 9.84e-01 1.000e+00 \n",
       "16 5.38e-01 1.000e+00 \n",
       "17 3.68e-05 5.888e-04 \n",
       "18 2.72e-01 1.000e+00 \n",
       "19 2.48e-01 1.000e+00 \n",
       "20 2.38e-16 4.998e-15 \n",
       "21       NA        NA \n",
       "22 5.75e-01 1.000e+00 \n",
       "23 7.45e-01 1.000e+00 \n",
       "24 3.44e-01 1.000e+00 "
      ]
     },
     "metadata": {},
     "output_type": "display_data"
    }
   ],
   "source": [
    "result%>%filter(  )%>%select(-BEST.GWAS.ID)"
   ]
  },
  {
   "cell_type": "code",
   "execution_count": null,
   "metadata": {},
   "outputs": [],
   "source": []
  },
  {
   "cell_type": "markdown",
   "metadata": {},
   "source": [
    "## Uni SuSiE"
   ]
  },
  {
   "cell_type": "code",
   "execution_count": null,
   "metadata": {},
   "outputs": [],
   "source": [
    "for tissue in `cat ~/Project/one_gene/passed_tissue`; do\n",
    "mkdir $tissue\n",
    "cd $tissue\n",
    "nohup sos run ~/GIT/neuro-twas/workflow/uni_susie.ipynb susie_cv  \\\n",
    "  --molecular-pheno  /home/hs3163/Project/one_gene/GTEx_V8.txt  \\\n",
    "  --wd \"/mnt/mfs/statgen/neuro-twas/JAZF1_uni_non/$tissue/\" \\\n",
    "  --genotype_list /home/hs3163/Project/Rosmap/data/Rosmap_wgs_genotype_list.txt \\\n",
    "  --region_list /home/hs3163/Project/one_gene/GTEx_V8.txt \\\n",
    "  --region_name 1 \\\n",
    "  --data_start 2 \\\n",
    "  --window 500000 \\\n",
    "  --container /mnt/mfs/statgen/containers/twas_latest.sif \\\n",
    "  --cv_times 100 \\\n",
    "  --job_size 1 \\\n",
    "  --MAF 0 \\\n",
    "  -s build \\\n",
    "  -J 6 -q csg -c /home/hs3163/GIT/neuro-twas/code/csg.yml &\n",
    "cd ..\n",
    "done\n",
    "\n"
   ]
  },
  {
   "cell_type": "code",
   "execution_count": null,
   "metadata": {},
   "outputs": [],
   "source": [
    "for tissue in `cat ~/Project/one_gene/passed_tissue`; do\n",
    "cp -r ~/Project/one_gene/$tissue ./JAZF1_uni/\n",
    "done\n",
    "\n",
    "for tissue in `cat ~/Project/one_gene/passed_tissue`; do\n",
    "rm -r  ./JAZF1_uni_non/$tissue/susie\n",
    "done\n",
    "\n",
    "\n",
    "\n",
    "\n",
    "for tissue in `cat ~/Project/one_gene/passed_tissue`; do\n",
    "cp -r  ./JAZF1_uni_non/$tissue/susie/GTEx_V8.ENSG00000153814.susie.model.cv.RData ./JAZF1_uni_non/$tissue/susie/GTEx_V8.ENSG00000153814.uni_weight.cv.RData\n",
    "done\n"
   ]
  },
  {
   "cell_type": "code",
   "execution_count": null,
   "metadata": {},
   "outputs": [],
   "source": []
  },
  {
   "cell_type": "code",
   "execution_count": null,
   "metadata": {},
   "outputs": [],
   "source": []
  },
  {
   "cell_type": "code",
   "execution_count": null,
   "metadata": {},
   "outputs": [],
   "source": []
  },
  {
   "cell_type": "markdown",
   "metadata": {},
   "source": [
    "# MV SuSIE for JAZF1\n",
    "## With filter out prior"
   ]
  },
  {
   "cell_type": "code",
   "execution_count": null,
   "metadata": {},
   "outputs": [],
   "source": [
    "nohup sos run /home/hs3163/GIT/neuro-twas/workflow/mv_susie.ipynb mv_susie \\\n",
    "--molecular_pheno_dir \"/mnt/mfs/statgen/neuro-twas/JAZF1/mole_pheno_ls\" \\\n",
    "--region_list \"/mnt/mfs/statgen/neuro-twas/JAZF1//region_list\" \\\n",
    "--wd \"/mnt/mfs/statgen/neuro-twas/JAZF1/\" \\\n",
    "--name_prefix \"GTEx_V8\" \\\n",
    "--container /mnt/mfs/statgen/containers/twas_latest.sif \\\n",
    "--impute TRUE --job_size 1 \\\n",
    "--cv_times 100 \\\n",
    "--mixture_prior '~/Project//one_gene/data/GTEx_V8_strong_z.ed_8tissue.rds' \\\n",
    "--extract_snp \"/mnt/mfs/statgen/neuro-twas/JAZF1/JAZF1_SNP\" \\\n",
    "-J 200 -q csg -c /home/hs3163/GIT/neuro-twas/code/csg.yml  \\\n",
    "-s build &\n",
    "\n",
    "\n",
    "\n",
    "nohup sos run /home/hs3163/GIT/neuro-twas/workflow/mv_susie.ipynb fusion_tf \\\n",
    "--molecular_pheno_dir \"/mnt/mfs/statgen/neuro-twas/JAZF1/mole_pheno_ls_ft\" \\\n",
    "--region_list \"/mnt/mfs/statgen/neuro-twas/JAZF1//region_list\" \\\n",
    "--wd \"/mnt/mfs/statgen/neuro-twas/JAZF1/\" \\\n",
    "--name_prefix \"GTEx_V8\" \\\n",
    "--container /mnt/mfs/statgen/containers/twas_latest.sif \\\n",
    "--impute TRUE --job_size 1 \\\n",
    "--cv_times 100 \\\n",
    "--mixture_prior '~/Project//one_gene/data/GTEx_V8_strong_z.ed_8tissue.rds' \\\n",
    "--extract_snp \"/mnt/mfs/statgen/neuro-twas/JAZF1/JAZF1_SNP\" \\\n",
    "-J 200 -q csg -c /home/hs3163/GIT/neuro-twas/code/csg.yml  &\n",
    "\n",
    "#### Filter out uncommon variants\n",
    "\n",
    "nohup sos run /home/hs3163/GIT/neuro-twas/workflow/mv_susie.ipynb snp_exclude \\\n",
    "--molecular_pheno_dir \"/mnt/mfs/statgen/neuro-twas/JAZF1/mole_pheno_ls\" \\\n",
    "--region_list \"/mnt/mfs/statgen/neuro-twas/JAZF1//region_list\" \\\n",
    "--wd \"/mnt/mfs/statgen/neuro-twas/JAZF1/\" \\\n",
    "--name_prefix \"GTEx_V8\" \\\n",
    "--container /mnt/mfs/statgen/containers/twas_latest.sif \\\n",
    "--impute TRUE --job_size 1 \\\n",
    "--cv_times 100 \\\n",
    "--mixture_prior '~/Project/one_gene/data/GTEx_V8_strong_z.ed_8tissue.rds' \\\n",
    "--extract_snp \"/mnt/mfs/statgen/neuro-twas/JAZF1/wgt/common_variant\" \\\n",
    "-J 200 -q csg -c /home/hs3163/GIT/neuro-twas/code/csg.yml  &\n",
    "\n",
    "\n",
    "#### Association testing \n",
    "\n",
    "for sumstat in `cat ~/Project/one_gene/data/sumstat_list`;do\n",
    "    mkdir $sumstat\n",
    "    cd $sumstat\n",
    "    for tissue in `cat ~/Project/one_gene/passed_tissue`; do\n",
    "    mkdir $tissue\n",
    "    cd $tissue\n",
    "    nohup sos run ~/GIT/neuro-twas/workflow/twas_fusion.ipynb association_test  \\\n",
    "    --gwas_sumstat /home/hs3163/Project/one_gene/data/$sumstat \\\n",
    "    --molecular-pheno  /home/hs3163/Project/one_gene/GTEx_V8.txt  \\\n",
    "    --wd /mnt/mfs/statgen/neuro-twas/JAZF1/AT_result/$sumstat/$tissue/ \\\n",
    "    --weights_path /mnt/mfs/statgen/neuro-twas/JAZF1/wgt/$tissue/ \\\n",
    "    --weights_list /mnt/mfs/statgen/neuro-twas/JAZF1/wgt/$tissue/All_wgt_list.txt \\\n",
    "    --genotype_list /mnt/mfs/statgen/neuro-twas/JAZF1/geno_list \\\n",
    "    --region_list /home/hs3163/Project/one_gene/GTEx_V8.txt \\\n",
    "    --region_name 1 \\\n",
    "    --data_start 2 \\\n",
    "    --window 500000 \\\n",
    "    --container /mnt/mfs/statgen/containers/twas_latest.sif \\\n",
    "    --model bslmm blup lasso top1 enet \\\n",
    "    --job_size 1 \\\n",
    "    --max_impute 0.5 \\\n",
    "    --asso_mem \"60G\" \\\n",
    "    -J 6 -q csg -c /home/hs3163/GIT/neuro-twas/code/csg.yml &\n",
    "    cd .. ;\n",
    "    done\n",
    "    cd ..;\n",
    "    done\n",
    "\n",
    "#### CV\n",
    "\n",
    "nohup sos run /home/hs3163/GIT/neuro-twas/workflow/mv_susie.ipynb mv_susie_cv \\\n",
    "--molecular_pheno_dir \"/mnt/mfs/statgen/neuro-twas/JAZF1/mole_pheno_ls\" \\\n",
    "--region_list \"/mnt/mfs/statgen/neuro-twas/JAZF1//region_list\" \\\n",
    "--wd \"/mnt/mfs/statgen/neuro-twas/JAZF1/\" \\\n",
    "--name_prefix \"GTEx_V8\" \\\n",
    "--container /mnt/mfs/statgen/containers/twas_latest.sif \\\n",
    "--impute TRUE --job_size 1 \\\n",
    "--cv_times 100 \\\n",
    "--mixture_prior '~/Project//one_gene/data/GTEx_V8_strong_z.ed_8tissue.rds' \\\n",
    "--extract_snp \"/mnt/mfs/statgen/neuro-twas/JAZF1/JAZF1_SNP\" \\\n",
    "-J 200 -q csg -c /home/hs3163/GIT/neuro-twas/code/csg.yml  \\\n",
    "-s build &\n",
    "\n",
    "\n",
    "### TF for CVed data\n",
    "\n",
    "nohup sos run /home/hs3163/GIT/neuro-twas/workflow/mv_susie.ipynb fusion_tf_cv \\\n",
    "--molecular_pheno_dir \"/mnt/mfs/statgen/neuro-twas/JAZF1/mole_pheno_ls_ft\" \\\n",
    "--region_list \"/mnt/mfs/statgen/neuro-twas/JAZF1//region_list\" \\\n",
    "--wd \"/mnt/mfs/statgen/neuro-twas/JAZF1/\" \\\n",
    "--name_prefix \"GTEx_V8\" \\\n",
    "--container /mnt/mfs/statgen/containers/twas_latest.sif \\\n",
    "--impute TRUE --job_size 1 \\\n",
    "--cv_times 100 \\\n",
    "--mixture_prior '~/Project//one_gene/data/GTEx_V8_strong_z.ed_8tissue.rds' \\\n",
    "--extract_snp \"/mnt/mfs/statgen/neuro-twas/JAZF1/JAZF1_SNP\" \\\n",
    "-J 200 -q csg -c /home/hs3163/GIT/neuro-twas/code/csg.yml  &\n",
    "\n",
    "#### Association testing for CV dataset for consistancy\n",
    "\n",
    "for sumstat in `cat ~/Project/one_gene/data/sumstat_list`;do\n",
    "    mkdir $sumstat\n",
    "    cd $sumstat\n",
    "    for tissue in `cat ~/Project/one_gene/passed_tissue`; do\n",
    "    mkdir $tissue\n",
    "    cd $tissue\n",
    "    nohup sos run ~/GIT/neuro-twas/workflow/twas_fusion.ipynb association_test  \\\n",
    "    --gwas_sumstat /home/hs3163/Project/one_gene/data/$sumstat \\\n",
    "    --molecular-pheno  /home/hs3163/Project/one_gene/GTEx_V8.txt  \\\n",
    "    --wd /mnt/mfs/statgen/neuro-twas/JAZF1/AT_result/$sumstat/$tissue/ \\\n",
    "    --weights_path /mnt/mfs/statgen/neuro-twas/JAZF1/wgt/$tissue/ \\\n",
    "    --weights_list /mnt/mfs/statgen/neuro-twas/JAZF1/wgt/$tissue/All_wgt_list.txt \\\n",
    "    --genotype_list /mnt/mfs/statgen/neuro-twas/JAZF1/geno_list \\\n",
    "    --region_list /home/hs3163/Project/one_gene/GTEx_V8.txt \\\n",
    "    --region_name 1 \\\n",
    "    --data_start 2 \\\n",
    "    --window 500000 \\\n",
    "    --container /mnt/mfs/statgen/containers/twas_latest.sif \\\n",
    "    --model bslmm blup lasso top1 enet \\\n",
    "    --job_size 1 \\\n",
    "    --max_impute 0.5 \\\n",
    "    --asso_mem \"60G\" \\\n",
    "    -J 6 -q csg -c /home/hs3163/GIT/neuro-twas/code/csg.yml &\n",
    "    cd .. ;\n",
    "    done\n",
    "    cd ..;\n",
    "    done\n",
    "\n",
    "\n",
    "\n"
   ]
  },
  {
   "cell_type": "markdown",
   "metadata": {},
   "source": [
    "## With Default prior"
   ]
  },
  {
   "cell_type": "code",
   "execution_count": null,
   "metadata": {},
   "outputs": [],
   "source": [
    "\n",
    "#### CV\n",
    "\n",
    "nohup sos run /home/hs3163/GIT/neuro-twas/workflow/mv_susie.ipynb mv_susie_cv \\\n",
    "--molecular_pheno_dir \"/mnt/mfs/statgen/neuro-twas/JAZF1/mole_pheno_ls\" \\\n",
    "--region_list \"/mnt/mfs/statgen/neuro-twas/JAZF1//region_list\" \\\n",
    "--wd \"/mnt/mfs/statgen/neuro-twas/JAZF1_default/\" \\\n",
    "--name_prefix \"GTEx_V8\" \\\n",
    "--container /mnt/mfs/statgen/containers/twas_latest.sif \\\n",
    "--impute TRUE --job_size 1 \\\n",
    "--cv_times 100 \\\n",
    "--extract_snp \"/mnt/mfs/statgen/neuro-twas/JAZF1/JAZF1_SNP\" \\\n",
    "-J 200 -q csg -c /home/hs3163/GIT/neuro-twas/code/csg.yml  \\\n",
    "-s build &\n",
    "\n",
    "\n",
    "\n"
   ]
  },
  {
   "cell_type": "markdown",
   "metadata": {},
   "source": [
    "## With teem"
   ]
  },
  {
   "cell_type": "code",
   "execution_count": null,
   "metadata": {},
   "outputs": [],
   "source": [
    "\n",
    "#### CV\n",
    "\n",
    "nohup sos run /home/hs3163/GIT/neuro-twas/workflow/mv_susie.ipynb mv_susie_cv \\\n",
    "--molecular_pheno_dir \"/mnt/mfs/statgen/neuro-twas/JAZF1/mole_pheno_ls\" \\\n",
    "--region_list \"/mnt/mfs/statgen/neuro-twas/JAZF1//region_list\" \\\n",
    "--wd \"/mnt/mfs/statgen/neuro-twas/JAZF1_teem/\" \\\n",
    "--name_prefix \"GTEx_V8\" \\\n",
    "--container /mnt/mfs/statgen/containers/twas_latest.sif \\\n",
    "--impute TRUE --job_size 1 \\\n",
    "--mixture_prior '~/Project//one_gene/data/GTEx_V8_strong_z.teem_8tissue.rds' \\\n",
    "--cv_times 100 \\\n",
    "--extract_snp \"/mnt/mfs/statgen/neuro-twas/JAZF1/JAZF1_SNP\" \\\n",
    "-J 200 -q csg -c /home/hs3163/GIT/neuro-twas/code/csg.yml  \\\n",
    "-s build &\n",
    "\n",
    "\n",
    "### TF for CVed data\n",
    "\n",
    "nohup sos run /home/hs3163/GIT/neuro-twas/workflow/mv_susie.ipynb fusion_tf_cv \\\n",
    "--molecular_pheno_dir \"/mnt/mfs/statgen/neuro-twas/JAZF1/mole_pheno_ls_ft\" \\\n",
    "--region_list \"/mnt/mfs/statgen/neuro-twas/JAZF1//region_list\" \\\n",
    "--wd \"/mnt/mfs/statgen/neuro-twas/JAZF1/\" \\\n",
    "--name_prefix \"GTEx_V8\" \\\n",
    "--container /mnt/mfs/statgen/containers/twas_latest.sif \\\n",
    "--impute TRUE --job_size 1 \\\n",
    "--cv_times 100 \\\n",
    "--mixture_prior '~/Project//one_gene/data/GTEx_V8_strong_z.ed_8tissue.rds' \\\n",
    "--extract_snp \"/mnt/mfs/statgen/neuro-twas/JAZF1/JAZF1_SNP\" \\\n",
    "-J 200 -q csg -c /home/hs3163/GIT/neuro-twas/code/csg.yml  &\n",
    "\n",
    "#### Association testing for CV dataset for consistancy\n",
    "\n",
    "for sumstat in `cat ~/Project/one_gene/data/sumstat_list`;do\n",
    "    mkdir $sumstat\n",
    "    cd $sumstat\n",
    "    for tissue in `cat ~/Project/one_gene/passed_tissue`; do\n",
    "    mkdir $tissue\n",
    "    cd $tissue\n",
    "    nohup sos run ~/GIT/neuro-twas/workflow/twas_fusion.ipynb association_test  \\\n",
    "    --gwas_sumstat /home/hs3163/Project/one_gene/data/$sumstat \\\n",
    "    --molecular-pheno  /home/hs3163/Project/one_gene/GTEx_V8.txt  \\\n",
    "    --wd /mnt/mfs/statgen/neuro-twas/JAZF1/AT_result/$sumstat/$tissue/ \\\n",
    "    --weights_path /mnt/mfs/statgen/neuro-twas/JAZF1/wgt/$tissue/ \\\n",
    "    --weights_list /mnt/mfs/statgen/neuro-twas/JAZF1/wgt/$tissue/All_wgt_list.txt \\\n",
    "    --genotype_list /mnt/mfs/statgen/neuro-twas/JAZF1/geno_list \\\n",
    "    --region_list /home/hs3163/Project/one_gene/GTEx_V8.txt \\\n",
    "    --region_name 1 \\\n",
    "    --data_start 2 \\\n",
    "    --window 500000 \\\n",
    "    --container /mnt/mfs/statgen/containers/twas_latest.sif \\\n",
    "    --model bslmm blup lasso top1 enet \\\n",
    "    --job_size 1 \\\n",
    "    --max_impute 0.5 \\\n",
    "    --asso_mem \"60G\" \\\n",
    "    -J 6 -q csg -c /home/hs3163/GIT/neuro-twas/code/csg.yml &\n",
    "    cd .. ;\n",
    "    done\n",
    "    cd ..;\n",
    "    done\n",
    "\n"
   ]
  },
  {
   "cell_type": "markdown",
   "metadata": {},
   "source": [
    "## Selected tissues whose pip is significant predictor of Lung pip"
   ]
  },
  {
   "cell_type": "code",
   "execution_count": null,
   "metadata": {},
   "outputs": [],
   "source": [
    "\n",
    "nohup sos run /home/hs3163/GIT/neuro-twas/workflow/mv_susie.ipynb mv_susie_cv \\\n",
    "--molecular_pheno_dir \"/mnt/mfs/statgen/neuro-twas/JAZF1_selected/mole_pheno_ls\" \\\n",
    "--region_list \"/mnt/mfs/statgen/neuro-twas/JAZF1_selected//region_list\" \\\n",
    "--wd \"/mnt/mfs/statgen/neuro-twas/JAZF1_selected/\" \\\n",
    "--name_prefix \"GTEx_V8\" \\\n",
    "--container /mnt/mfs/statgen/containers/twas_latest.sif \\\n",
    "--impute TRUE --job_size 1 \\\n",
    "--mixture_prior '~/Project//one_gene/data/GTEx_V8_strong_z.ed_selected_tissue.rds' \\\n",
    "--cv_times 100 \\\n",
    "--extract_snp \"/mnt/mfs/statgen/neuro-twas/JAZF1_selected/JAZF1_SNP\" \\\n",
    "-J 200 -q neurology -c /home/hs3163/GIT/neuro-twas/code/csg.yml   &\n",
    "\n"
   ]
  },
  {
   "cell_type": "markdown",
   "metadata": {},
   "source": [
    "## Selected tissues whose pip is significant predictor of Lung pip, Default"
   ]
  },
  {
   "cell_type": "code",
   "execution_count": null,
   "metadata": {},
   "outputs": [],
   "source": [
    "\n",
    "nohup sos run /home/hs3163/GIT/neuro-twas/workflow/mv_susie.ipynb mv_susie_cv \\\n",
    "--molecular_pheno_dir \"/mnt/mfs/statgen/neuro-twas/JAZF1_selected_default//mole_pheno_ls\" \\\n",
    "--region_list \"/mnt/mfs/statgen/neuro-twas/JAZF1_selected_default///region_list\" \\\n",
    "--wd \"/mnt/mfs/statgen/neuro-twas/JAZF1_selected_default//\" \\\n",
    "--name_prefix \"GTEx_V8\" \\\n",
    "--container /mnt/mfs/statgen/containers/twas_latest.sif \\\n",
    "--impute TRUE --job_size 1 \\\n",
    "--cv_times 100 \\\n",
    "--extract_snp \"/mnt/mfs/statgen/neuro-twas/JAZF1_selected_default//JAZF1_SNP\" \\\n",
    "-J 200 -q neurology -c /home/hs3163/GIT/neuro-twas/code/csg.yml   &\n",
    "\n"
   ]
  },
  {
   "cell_type": "markdown",
   "metadata": {},
   "source": [
    "## 3 Tissue who have high cor in high weight factor"
   ]
  },
  {
   "cell_type": "code",
   "execution_count": null,
   "metadata": {},
   "outputs": [],
   "source": [
    "nohup sos run /home/hs3163/GIT/neuro-twas/workflow/mv_susie.ipynb mv_susie_cv \\\n",
    "--molecular_pheno_dir \"/mnt/mfs/statgen/neuro-twas/JAZF1_3T//mole_pheno_ls\" \\\n",
    "--region_list \"/mnt/mfs/statgen/neuro-twas/JAZF1_3T///region_list\" \\\n",
    "--wd \"/mnt/mfs/statgen/neuro-twas/JAZF1_3T//\" \\\n",
    "--name_prefix \"GTEx_V8\" \\\n",
    "--container /mnt/mfs/statgen/containers/twas_latest.sif \\\n",
    "--impute TRUE --job_size 1 \\\n",
    "--mixture_prior '~/Project//one_gene/data/GTEx_V8_strong_z.ed_3_tissue.rds' \\\n",
    "--cv_times 100 \\\n",
    "--extract_snp \"/mnt/mfs/statgen/neuro-twas/JAZF1_3T//JAZF1_SNP\" \\\n",
    "-J 200 -q neurology -c /home/hs3163/GIT/neuro-twas/code/csg.yml   &\n",
    "\n"
   ]
  },
  {
   "cell_type": "markdown",
   "metadata": {},
   "source": [
    "## 3 Tissue who have high cor in high weight factor,Default"
   ]
  },
  {
   "cell_type": "code",
   "execution_count": 17,
   "metadata": {},
   "outputs": [
    {
     "ename": "ERROR",
     "evalue": "Error in parse(text = x, srcfile = src): <text>:1:7: unexpected symbol\n1: nohup sos\n          ^\n",
     "output_type": "error",
     "traceback": [
      "Error in parse(text = x, srcfile = src): <text>:1:7: unexpected symbol\n1: nohup sos\n          ^\nTraceback:\n"
     ]
    }
   ],
   "source": [
    "nohup sos run /home/hs3163/GIT/neuro-twas/workflow/mv_susie.ipynb mv_susie_cv \\\n",
    "--molecular_pheno_dir \"/mnt/mfs/statgen/neuro-twas/JAZF1_3T_Default///mole_pheno_ls\" \\\n",
    "--region_list \"/mnt/mfs/statgen/neuro-twas/JAZF1_3T_Default////region_list\" \\\n",
    "--wd \"/mnt/mfs/statgen/neuro-twas/JAZF1_3T_Default///\" \\\n",
    "--name_prefix \"GTEx_V8\" \\\n",
    "--container /mnt/mfs/statgen/containers/twas_latest.sif \\\n",
    "--impute TRUE --job_size 1 \\\n",
    "--cv_times 100 \\\n",
    "--extract_snp \"/mnt/mfs/statgen/neuro-twas/JAZF1_3T_Default///JAZF1_SNP\" \\\n",
    "-J 200 -q neurology -c /home/hs3163/GIT/neuro-twas/code/csg.yml   &"
   ]
  },
  {
   "cell_type": "markdown",
   "metadata": {},
   "source": [
    "## 5 Tissue"
   ]
  },
  {
   "cell_type": "code",
   "execution_count": null,
   "metadata": {},
   "outputs": [],
   "source": [
    "\n",
    "#### CV\n",
    "\n",
    "nohup sos run /home/hs3163/GIT/neuro-twas/workflow/mv_susie.ipynb mv_susie_cv \\\n",
    "--molecular_pheno_dir \"/mnt/mfs/statgen/neuro-twas/JAZF1_4ted/mole_pheno_ls\" \\\n",
    "--region_list \"/mnt/mfs/statgen/neuro-twas/JAZF1_4ted//region_list\" \\\n",
    "--wd \"/mnt/mfs/statgen/neuro-twas/JAZF1_4ted/\" \\\n",
    "--name_prefix \"GTEx_V8\" \\\n",
    "--container /mnt/mfs/statgen/containers/twas_latest.sif \\\n",
    "--impute TRUE --job_size 1 \\\n",
    "--mixture_prior '~/Project//one_gene/data/GTEx_V8_strong_z.ed_5tissue.rds' \\\n",
    "--cv_times 100 \\\n",
    "--extract_snp \"/mnt/mfs/statgen/neuro-twas/JAZF1_4ted/JAZF1_SNP\" \\\n",
    "-J 200 -q csg -c /home/hs3163/GIT/neuro-twas/code/csg.yml   &\n",
    "\n"
   ]
  },
  {
   "cell_type": "markdown",
   "metadata": {},
   "source": [
    "## Hisample, common"
   ]
  },
  {
   "cell_type": "code",
   "execution_count": null,
   "metadata": {},
   "outputs": [],
   "source": [
    "nohup sos run /home/hs3163/GIT/neuro-twas/workflow/mv_susie.ipynb mv_susie_cv \\\n",
    "--molecular_pheno_dir \"/mnt/mfs/statgen/neuro-twas/JAZF1_hisample_Default//mole_pheno_ls\" \\\n",
    "--region_list \"/mnt/mfs/statgen/neuro-twas/JAZF1_hisample_Default//region_list\" \\\n",
    "--wd \"/mnt/mfs/statgen/neuro-twas/JAZF1_hisample_Default/\" \\\n",
    "--name_prefix \"GTEx_V8\" \\\n",
    "--container /mnt/mfs/statgen/containers/twas_latest.sif \\\n",
    "--impute TRUE --job_size 1 \\\n",
    "--cv_times 100 \\\n",
    "--extract_snp \"/mnt/mfs/statgen/neuro-twas/JAZF1_hisample_Default/JAZF1_SNP\" \\\n",
    "-J 200 -q csg -c /home/hs3163/GIT/neuro-twas/code/csg.yml   &\n",
    "\n",
    "\n",
    "\n",
    "nohup sos run /home/hs3163/GIT/neuro-twas/workflow/mv_susie.ipynb mv_susie_cv \\\n",
    "--molecular_pheno_dir \"/mnt/mfs/statgen/neuro-twas/JAZF1_hisample_Default_rare///mole_pheno_ls\" \\\n",
    "--region_list \"/mnt/mfs/statgen/neuro-twas/JAZF1_hisample_Default_rare//region_list\" \\\n",
    "--wd \"/mnt/mfs/statgen/neuro-twas/JAZF1_hisample_Default_rare/\" \\\n",
    "--name_prefix \"GTEx_V8\" \\\n",
    "--container /mnt/mfs/statgen/containers/twas_latest.sif \\\n",
    "--impute TRUE --job_size 1 \\\n",
    "--cv_times 100 \\\n",
    "--MAF 0.0015 \\\n",
    "--extract_snp \"/mnt/mfs/statgen/neuro-twas/JAZF1_hisample_Default/JAZF1_SNP\" \\\n",
    "-J 200 -q csg -c /home/hs3163/GIT/neuro-twas/code/csg.yml   &"
   ]
  },
  {
   "cell_type": "markdown",
   "metadata": {},
   "source": [
    "## Hisample, Rare,Prior"
   ]
  },
  {
   "cell_type": "code",
   "execution_count": null,
   "metadata": {},
   "outputs": [],
   "source": [
    "nohup sos run /home/hs3163/GIT/neuro-twas/workflow/mv_susie.ipynb mv_susie_cv \\\n",
    "--molecular_pheno_dir \"/mnt/mfs/statgen/neuro-twas/JAZF1_hisample_rare///mole_pheno_ls\" \\\n",
    "--region_list \"/mnt/mfs/statgen/neuro-twas/JAZF1_hisample_rare//region_list\" \\\n",
    "--wd \"/mnt/mfs/statgen/neuro-twas/JAZF1_hisample_rare/\" \\\n",
    "--name_prefix \"GTEx_V8\" \\\n",
    "--container /mnt/mfs/statgen/containers/twas_latest.sif \\\n",
    "--impute TRUE --job_size 1 \\\n",
    "--cv_times 100 \\\n",
    "--MAF 0.0015 \\\n",
    "--mixture_prior '~/Project//one_gene/data/GTEx_V8_strong_z.ed_hisample.rds' \\\n",
    "--extract_snp \"/mnt/mfs/statgen/neuro-twas/JAZF1_hisample_rare/JAZF1_SNP\" \\\n",
    "-J 200 -q csg -c /home/hs3163/GIT/neuro-twas/code/csg.yml   &"
   ]
  },
  {
   "cell_type": "markdown",
   "metadata": {},
   "source": [
    "## Rare variants"
   ]
  },
  {
   "cell_type": "code",
   "execution_count": null,
   "metadata": {},
   "outputs": [],
   "source": [
    "#### Rare Variant(Mod MVSuSiE cutoof to 0.0015 to allow maximum amount of variant while keep imputation under 50)\n",
    "\n",
    "nohup sos run /home/hs3163/GIT/neuro-twas/workflow/mv_susie.ipynb mv_susie_cv \\\n",
    "--molecular_pheno_dir \"/mnt/mfs/statgen/neuro-twas/JAZF1_rare/mole_pheno_ls\" \\\n",
    "--region_list \"/mnt/mfs/statgen/neuro-twas/JAZF1_rare//region_list\" \\\n",
    "--wd \"/mnt/mfs/statgen/neuro-twas/JAZF1_rare/\" \\\n",
    "--name_prefix \"GTEx_V8\" \\\n",
    "--container /mnt/mfs/statgen/containers/twas_latest.sif \\\n",
    "--impute TRUE --job_size 1 \\\n",
    "--mixture_prior '~/Project//one_gene/data/GTEx_V8_strong_z.ed_8tissue.rds' \\\n",
    "--cv_times 100 \\\n",
    "--extract_snp \"/mnt/mfs/statgen/neuro-twas/JAZF1_rare/JAZF1_SNP\" \\\n",
    "-J 200 -q csg -c /home/hs3163/GIT/neuro-twas/code/csg.yml   &\n",
    "\n",
    "\n",
    "\n",
    "nohup sos run /home/hs3163/GIT/neuro-twas/workflow/mv_susie.ipynb mv_susie_cv \\\n",
    "--molecular_pheno_dir \"/mnt/mfs/statgen/neuro-twas/JAZF1_rare_default/mole_pheno_ls\" \\\n",
    "--region_list \"/mnt/mfs/statgen/neuro-twas/JAZF1_rare_default//region_list\" \\\n",
    "--wd \"/mnt/mfs/statgen/neuro-twas/JAZF1_rare_default/\" \\\n",
    "--name_prefix \"GTEx_V8\" \\\n",
    "--container /mnt/mfs/statgen/containers/twas_latest.sif \\\n",
    "--impute TRUE --job_size 1 \\\n",
    "--cv_times 100 \\\n",
    "--extract_snp \"/mnt/mfs/statgen/neuro-twas/JAZF1_rare/JAZF1_SNP\" \\\n",
    "-J 200 -q csg -c /home/hs3163/GIT/neuro-twas/code/csg.yml   &\n",
    "\n",
    "\n",
    "\n",
    "\n"
   ]
  },
  {
   "cell_type": "markdown",
   "metadata": {},
   "source": [
    "## Comparison of performance"
   ]
  },
  {
   "cell_type": "code",
   "execution_count": 3,
   "metadata": {},
   "outputs": [
    {
     "name": "stderr",
     "output_type": "stream",
     "text": [
      "The following object is masked from file:/mnt/mfs/statgen/neuro-twas/JAZF1_4ted/mv_cv.RData (pos = 4):\n",
      "\n",
      "    output\n",
      "\n",
      "\n"
     ]
    }
   ],
   "source": [
    "t = attach(\"/mnt/mfs/statgen/neuro-twas/JAZF1_4ted/mv_cv.RData\")\n"
   ]
  },
  {
   "cell_type": "code",
   "execution_count": null,
   "metadata": {},
   "outputs": [],
   "source": [
    "t$output"
   ]
  },
  {
   "cell_type": "markdown",
   "metadata": {},
   "source": [
    "## TWAS result with MvSuSIE"
   ]
  },
  {
   "cell_type": "code",
   "execution_count": 55,
   "metadata": {},
   "outputs": [
    {
     "data": {
      "text/html": [
       "0.809641372141372"
      ],
      "text/latex": [
       "0.809641372141372"
      ],
      "text/markdown": [
       "0.809641372141372"
      ],
      "text/plain": [
       "[1] 0.8096414"
      ]
     },
     "metadata": {},
     "output_type": "display_data"
    }
   ],
   "source": [
    "intersect(Spleen$snps$V2,Asthma.sumstat$SNP)%>%length/length(Spleen$snps$V2)"
   ]
  },
  {
   "cell_type": "code",
   "execution_count": null,
   "metadata": {},
   "outputs": [],
   "source": [
    "phenotype = c(\"Asthma\",\"diabetes\",\"WAIST\")\n",
    "tissue = read_delim(\"~/Project/one_gene/passed_tissue\",delim = \"\\t\",col_names = F)$X1\n",
    "working = tibble(tissue = rep(tissue,3))%>%mutate(phenotype = c(rep(phenotype[1],8),rep(phenotype[2],8),rep(phenotype[3],8)),\n",
    "                                                 path = map2(phenotype,tissue,~paste(c(\"/mnt/mfs/statgen/neuro-twas/JAZF1/AT_result/\",.x,\".sumstat/\",.y,\"/result/\",.x,\"_chr7.twas.txt\"),collapse = \"\")),\n",
    "                                                 data = map(path,~read_delim(.x,delim = \"\\t\"))\n",
    "                                                 )"
   ]
  },
  {
   "cell_type": "code",
   "execution_count": 40,
   "metadata": {},
   "outputs": [
    {
     "data": {
      "text/html": [
       "<table class=\"dataframe\">\n",
       "<caption>A tibble: 14 × 12</caption>\n",
       "<thead>\n",
       "\t<tr><th scope=col>tissue</th><th scope=col>phenotype</th><th scope=col>BEST.GWAS.ID</th><th scope=col>BEST.GWAS.Z</th><th scope=col>NSNP</th><th scope=col>NWGT</th><th scope=col>MODEL</th><th scope=col>MODELCV.R2</th><th scope=col>MODELCV.PV</th><th scope=col>TWAS.Z</th><th scope=col>TWAS.P</th><th scope=col>TWAS.P.Adj</th></tr>\n",
       "\t<tr><th scope=col>&lt;chr&gt;</th><th scope=col>&lt;chr&gt;</th><th scope=col>&lt;chr&gt;</th><th scope=col>&lt;dbl&gt;</th><th scope=col>&lt;dbl&gt;</th><th scope=col>&lt;dbl&gt;</th><th scope=col>&lt;chr&gt;</th><th scope=col>&lt;dbl&gt;</th><th scope=col>&lt;dbl&gt;</th><th scope=col>&lt;dbl&gt;</th><th scope=col>&lt;dbl&gt;</th><th scope=col>&lt;dbl&gt;</th></tr>\n",
       "</thead>\n",
       "<tbody>\n",
       "\t<tr><td>Artery_Tibial  </td><td>Asthma  </td><td>chr7_28132967_T_C_b38</td><td> 7.4</td><td>6083</td><td>6083</td><td>mv_susie</td><td>0.0095</td><td>0.34</td><td>-5.22</td><td>1.77e-07</td><td>3.3630e-06</td></tr>\n",
       "\t<tr><td>Liver          </td><td>Asthma  </td><td>chr7_28132967_T_C_b38</td><td> 7.4</td><td>6083</td><td>6083</td><td>mv_susie</td><td>0.0650</td><td>0.25</td><td>-7.28</td><td>3.22e-13</td><td>7.7280e-12</td></tr>\n",
       "\t<tr><td>Lung           </td><td>Asthma  </td><td>chr7_28132967_T_C_b38</td><td> 7.4</td><td>6083</td><td>6083</td><td>mv_susie</td><td>0.0110</td><td>0.35</td><td>-6.35</td><td>2.11e-10</td><td>4.2200e-09</td></tr>\n",
       "\t<tr><td>Muscle_Skeletal</td><td>Asthma  </td><td>chr7_28132967_T_C_b38</td><td> 7.4</td><td>6083</td><td>6083</td><td>mv_susie</td><td>0.0320</td><td>0.13</td><td>-6.76</td><td>1.37e-11</td><td>3.0140e-10</td></tr>\n",
       "\t<tr><td>Spleen         </td><td>Asthma  </td><td>chr7_28132967_T_C_b38</td><td> 7.4</td><td>6083</td><td>6083</td><td>mv_susie</td><td>0.0290</td><td>0.33</td><td>-7.03</td><td>2.09e-12</td><td>4.8070e-11</td></tr>\n",
       "\t<tr><td>Stomach        </td><td>Asthma  </td><td>chr7_28132967_T_C_b38</td><td> 7.4</td><td>6083</td><td>6083</td><td>mv_susie</td><td>0.0041</td><td>0.42</td><td>-6.40</td><td>1.56e-10</td><td>3.2760e-09</td></tr>\n",
       "\t<tr><td>Whole_Blood    </td><td>Asthma  </td><td>chr7_28132967_T_C_b38</td><td> 7.4</td><td>6083</td><td>6083</td><td>mv_susie</td><td>0.0290</td><td>0.20</td><td>-4.79</td><td>1.65e-06</td><td>2.8050e-05</td></tr>\n",
       "\t<tr><td>Artery_Tibial  </td><td>diabetes</td><td>chr7_28154778_C_A_b38</td><td>-8.9</td><td>6083</td><td>6083</td><td>mv_susie</td><td>0.0095</td><td>0.34</td><td>-4.09</td><td>4.40e-05</td><td>5.2800e-04</td></tr>\n",
       "\t<tr><td>Liver          </td><td>diabetes</td><td>chr7_28154778_C_A_b38</td><td>-8.9</td><td>6083</td><td>6083</td><td>mv_susie</td><td>0.0650</td><td>0.25</td><td>-4.85</td><td>1.26e-06</td><td>2.2680e-05</td></tr>\n",
       "\t<tr><td>Lung           </td><td>diabetes</td><td>chr7_28154778_C_A_b38</td><td>-8.9</td><td>6083</td><td>6083</td><td>mv_susie</td><td>0.0110</td><td>0.35</td><td>-4.39</td><td>1.12e-05</td><td>1.4560e-04</td></tr>\n",
       "\t<tr><td>Muscle_Skeletal</td><td>diabetes</td><td>chr7_28154778_C_A_b38</td><td>-8.9</td><td>6083</td><td>6083</td><td>mv_susie</td><td>0.0320</td><td>0.13</td><td>-4.71</td><td>2.46e-06</td><td>3.6900e-05</td></tr>\n",
       "\t<tr><td>Spleen         </td><td>diabetes</td><td>chr7_28154778_C_A_b38</td><td>-8.9</td><td>6083</td><td>6083</td><td>mv_susie</td><td>0.0290</td><td>0.33</td><td>-4.76</td><td>1.94e-06</td><td>3.1040e-05</td></tr>\n",
       "\t<tr><td>Stomach        </td><td>diabetes</td><td>chr7_28154778_C_A_b38</td><td>-8.9</td><td>6083</td><td>6083</td><td>mv_susie</td><td>0.0041</td><td>0.42</td><td>-4.48</td><td>7.34e-06</td><td>1.0276e-04</td></tr>\n",
       "\t<tr><td>Whole_Blood    </td><td>diabetes</td><td>chr7_28154778_C_A_b38</td><td>-8.9</td><td>6083</td><td>6083</td><td>mv_susie</td><td>0.0290</td><td>0.20</td><td>-3.29</td><td>9.98e-04</td><td>1.0978e-02</td></tr>\n",
       "</tbody>\n",
       "</table>\n"
      ],
      "text/latex": [
       "A tibble: 14 × 12\n",
       "\\begin{tabular}{llllllllllll}\n",
       " tissue & phenotype & BEST.GWAS.ID & BEST.GWAS.Z & NSNP & NWGT & MODEL & MODELCV.R2 & MODELCV.PV & TWAS.Z & TWAS.P & TWAS.P.Adj\\\\\n",
       " <chr> & <chr> & <chr> & <dbl> & <dbl> & <dbl> & <chr> & <dbl> & <dbl> & <dbl> & <dbl> & <dbl>\\\\\n",
       "\\hline\n",
       "\t Artery\\_Tibial   & Asthma   & chr7\\_28132967\\_T\\_C\\_b38 &  7.4 & 6083 & 6083 & mv\\_susie & 0.0095 & 0.34 & -5.22 & 1.77e-07 & 3.3630e-06\\\\\n",
       "\t Liver           & Asthma   & chr7\\_28132967\\_T\\_C\\_b38 &  7.4 & 6083 & 6083 & mv\\_susie & 0.0650 & 0.25 & -7.28 & 3.22e-13 & 7.7280e-12\\\\\n",
       "\t Lung            & Asthma   & chr7\\_28132967\\_T\\_C\\_b38 &  7.4 & 6083 & 6083 & mv\\_susie & 0.0110 & 0.35 & -6.35 & 2.11e-10 & 4.2200e-09\\\\\n",
       "\t Muscle\\_Skeletal & Asthma   & chr7\\_28132967\\_T\\_C\\_b38 &  7.4 & 6083 & 6083 & mv\\_susie & 0.0320 & 0.13 & -6.76 & 1.37e-11 & 3.0140e-10\\\\\n",
       "\t Spleen          & Asthma   & chr7\\_28132967\\_T\\_C\\_b38 &  7.4 & 6083 & 6083 & mv\\_susie & 0.0290 & 0.33 & -7.03 & 2.09e-12 & 4.8070e-11\\\\\n",
       "\t Stomach         & Asthma   & chr7\\_28132967\\_T\\_C\\_b38 &  7.4 & 6083 & 6083 & mv\\_susie & 0.0041 & 0.42 & -6.40 & 1.56e-10 & 3.2760e-09\\\\\n",
       "\t Whole\\_Blood     & Asthma   & chr7\\_28132967\\_T\\_C\\_b38 &  7.4 & 6083 & 6083 & mv\\_susie & 0.0290 & 0.20 & -4.79 & 1.65e-06 & 2.8050e-05\\\\\n",
       "\t Artery\\_Tibial   & diabetes & chr7\\_28154778\\_C\\_A\\_b38 & -8.9 & 6083 & 6083 & mv\\_susie & 0.0095 & 0.34 & -4.09 & 4.40e-05 & 5.2800e-04\\\\\n",
       "\t Liver           & diabetes & chr7\\_28154778\\_C\\_A\\_b38 & -8.9 & 6083 & 6083 & mv\\_susie & 0.0650 & 0.25 & -4.85 & 1.26e-06 & 2.2680e-05\\\\\n",
       "\t Lung            & diabetes & chr7\\_28154778\\_C\\_A\\_b38 & -8.9 & 6083 & 6083 & mv\\_susie & 0.0110 & 0.35 & -4.39 & 1.12e-05 & 1.4560e-04\\\\\n",
       "\t Muscle\\_Skeletal & diabetes & chr7\\_28154778\\_C\\_A\\_b38 & -8.9 & 6083 & 6083 & mv\\_susie & 0.0320 & 0.13 & -4.71 & 2.46e-06 & 3.6900e-05\\\\\n",
       "\t Spleen          & diabetes & chr7\\_28154778\\_C\\_A\\_b38 & -8.9 & 6083 & 6083 & mv\\_susie & 0.0290 & 0.33 & -4.76 & 1.94e-06 & 3.1040e-05\\\\\n",
       "\t Stomach         & diabetes & chr7\\_28154778\\_C\\_A\\_b38 & -8.9 & 6083 & 6083 & mv\\_susie & 0.0041 & 0.42 & -4.48 & 7.34e-06 & 1.0276e-04\\\\\n",
       "\t Whole\\_Blood     & diabetes & chr7\\_28154778\\_C\\_A\\_b38 & -8.9 & 6083 & 6083 & mv\\_susie & 0.0290 & 0.20 & -3.29 & 9.98e-04 & 1.0978e-02\\\\\n",
       "\\end{tabular}\n"
      ],
      "text/markdown": [
       "\n",
       "A tibble: 14 × 12\n",
       "\n",
       "| tissue &lt;chr&gt; | phenotype &lt;chr&gt; | BEST.GWAS.ID &lt;chr&gt; | BEST.GWAS.Z &lt;dbl&gt; | NSNP &lt;dbl&gt; | NWGT &lt;dbl&gt; | MODEL &lt;chr&gt; | MODELCV.R2 &lt;dbl&gt; | MODELCV.PV &lt;dbl&gt; | TWAS.Z &lt;dbl&gt; | TWAS.P &lt;dbl&gt; | TWAS.P.Adj &lt;dbl&gt; |\n",
       "|---|---|---|---|---|---|---|---|---|---|---|---|\n",
       "| Artery_Tibial   | Asthma   | chr7_28132967_T_C_b38 |  7.4 | 6083 | 6083 | mv_susie | 0.0095 | 0.34 | -5.22 | 1.77e-07 | 3.3630e-06 |\n",
       "| Liver           | Asthma   | chr7_28132967_T_C_b38 |  7.4 | 6083 | 6083 | mv_susie | 0.0650 | 0.25 | -7.28 | 3.22e-13 | 7.7280e-12 |\n",
       "| Lung            | Asthma   | chr7_28132967_T_C_b38 |  7.4 | 6083 | 6083 | mv_susie | 0.0110 | 0.35 | -6.35 | 2.11e-10 | 4.2200e-09 |\n",
       "| Muscle_Skeletal | Asthma   | chr7_28132967_T_C_b38 |  7.4 | 6083 | 6083 | mv_susie | 0.0320 | 0.13 | -6.76 | 1.37e-11 | 3.0140e-10 |\n",
       "| Spleen          | Asthma   | chr7_28132967_T_C_b38 |  7.4 | 6083 | 6083 | mv_susie | 0.0290 | 0.33 | -7.03 | 2.09e-12 | 4.8070e-11 |\n",
       "| Stomach         | Asthma   | chr7_28132967_T_C_b38 |  7.4 | 6083 | 6083 | mv_susie | 0.0041 | 0.42 | -6.40 | 1.56e-10 | 3.2760e-09 |\n",
       "| Whole_Blood     | Asthma   | chr7_28132967_T_C_b38 |  7.4 | 6083 | 6083 | mv_susie | 0.0290 | 0.20 | -4.79 | 1.65e-06 | 2.8050e-05 |\n",
       "| Artery_Tibial   | diabetes | chr7_28154778_C_A_b38 | -8.9 | 6083 | 6083 | mv_susie | 0.0095 | 0.34 | -4.09 | 4.40e-05 | 5.2800e-04 |\n",
       "| Liver           | diabetes | chr7_28154778_C_A_b38 | -8.9 | 6083 | 6083 | mv_susie | 0.0650 | 0.25 | -4.85 | 1.26e-06 | 2.2680e-05 |\n",
       "| Lung            | diabetes | chr7_28154778_C_A_b38 | -8.9 | 6083 | 6083 | mv_susie | 0.0110 | 0.35 | -4.39 | 1.12e-05 | 1.4560e-04 |\n",
       "| Muscle_Skeletal | diabetes | chr7_28154778_C_A_b38 | -8.9 | 6083 | 6083 | mv_susie | 0.0320 | 0.13 | -4.71 | 2.46e-06 | 3.6900e-05 |\n",
       "| Spleen          | diabetes | chr7_28154778_C_A_b38 | -8.9 | 6083 | 6083 | mv_susie | 0.0290 | 0.33 | -4.76 | 1.94e-06 | 3.1040e-05 |\n",
       "| Stomach         | diabetes | chr7_28154778_C_A_b38 | -8.9 | 6083 | 6083 | mv_susie | 0.0041 | 0.42 | -4.48 | 7.34e-06 | 1.0276e-04 |\n",
       "| Whole_Blood     | diabetes | chr7_28154778_C_A_b38 | -8.9 | 6083 | 6083 | mv_susie | 0.0290 | 0.20 | -3.29 | 9.98e-04 | 1.0978e-02 |\n",
       "\n"
      ],
      "text/plain": [
       "   tissue          phenotype BEST.GWAS.ID          BEST.GWAS.Z NSNP NWGT\n",
       "1  Artery_Tibial   Asthma    chr7_28132967_T_C_b38  7.4        6083 6083\n",
       "2  Liver           Asthma    chr7_28132967_T_C_b38  7.4        6083 6083\n",
       "3  Lung            Asthma    chr7_28132967_T_C_b38  7.4        6083 6083\n",
       "4  Muscle_Skeletal Asthma    chr7_28132967_T_C_b38  7.4        6083 6083\n",
       "5  Spleen          Asthma    chr7_28132967_T_C_b38  7.4        6083 6083\n",
       "6  Stomach         Asthma    chr7_28132967_T_C_b38  7.4        6083 6083\n",
       "7  Whole_Blood     Asthma    chr7_28132967_T_C_b38  7.4        6083 6083\n",
       "8  Artery_Tibial   diabetes  chr7_28154778_C_A_b38 -8.9        6083 6083\n",
       "9  Liver           diabetes  chr7_28154778_C_A_b38 -8.9        6083 6083\n",
       "10 Lung            diabetes  chr7_28154778_C_A_b38 -8.9        6083 6083\n",
       "11 Muscle_Skeletal diabetes  chr7_28154778_C_A_b38 -8.9        6083 6083\n",
       "12 Spleen          diabetes  chr7_28154778_C_A_b38 -8.9        6083 6083\n",
       "13 Stomach         diabetes  chr7_28154778_C_A_b38 -8.9        6083 6083\n",
       "14 Whole_Blood     diabetes  chr7_28154778_C_A_b38 -8.9        6083 6083\n",
       "   MODEL    MODELCV.R2 MODELCV.PV TWAS.Z TWAS.P   TWAS.P.Adj\n",
       "1  mv_susie 0.0095     0.34       -5.22  1.77e-07 3.3630e-06\n",
       "2  mv_susie 0.0650     0.25       -7.28  3.22e-13 7.7280e-12\n",
       "3  mv_susie 0.0110     0.35       -6.35  2.11e-10 4.2200e-09\n",
       "4  mv_susie 0.0320     0.13       -6.76  1.37e-11 3.0140e-10\n",
       "5  mv_susie 0.0290     0.33       -7.03  2.09e-12 4.8070e-11\n",
       "6  mv_susie 0.0041     0.42       -6.40  1.56e-10 3.2760e-09\n",
       "7  mv_susie 0.0290     0.20       -4.79  1.65e-06 2.8050e-05\n",
       "8  mv_susie 0.0095     0.34       -4.09  4.40e-05 5.2800e-04\n",
       "9  mv_susie 0.0650     0.25       -4.85  1.26e-06 2.2680e-05\n",
       "10 mv_susie 0.0110     0.35       -4.39  1.12e-05 1.4560e-04\n",
       "11 mv_susie 0.0320     0.13       -4.71  2.46e-06 3.6900e-05\n",
       "12 mv_susie 0.0290     0.33       -4.76  1.94e-06 3.1040e-05\n",
       "13 mv_susie 0.0041     0.42       -4.48  7.34e-06 1.0276e-04\n",
       "14 mv_susie 0.0290     0.20       -3.29  9.98e-04 1.0978e-02"
      ]
     },
     "metadata": {},
     "output_type": "display_data"
    }
   ],
   "source": [
    "result_mv = working%>%select(-path)%>%unnest(data)%>%select(-c(FILE:P1),-PANEL,-HSQ,-c(EQTL.ID:EQTL.GWAS.Z))%>%mutate(TWAS.P.Adj = p.adjust(TWAS.P))\n",
    "result_mv%>%filter(TWAS.P.Adj < 0.05)"
   ]
  },
  {
   "cell_type": "code",
   "execution_count": 180,
   "metadata": {},
   "outputs": [
    {
     "data": {
      "text/html": [
       "<table class=\"dataframe\">\n",
       "<caption>A tibble: 8 × 3</caption>\n",
       "<thead>\n",
       "\t<tr><th scope=col>tissue</th><th scope=col>old_pv</th><th scope=col>new_PV</th></tr>\n",
       "\t<tr><th scope=col>&lt;chr&gt;</th><th scope=col>&lt;dbl&gt;</th><th scope=col>&lt;dbl&gt;</th></tr>\n",
       "</thead>\n",
       "<tbody>\n",
       "\t<tr><td>Artery_Tibial  </td><td>0.34</td><td>0.3419</td></tr>\n",
       "\t<tr><td>Liver          </td><td>0.25</td><td>0.1974</td></tr>\n",
       "\t<tr><td>Lung           </td><td>0.35</td><td>0.3113</td></tr>\n",
       "\t<tr><td>Muscle_Skeletal</td><td>0.13</td><td>0.0889</td></tr>\n",
       "\t<tr><td>Spleen         </td><td>0.33</td><td>0.3209</td></tr>\n",
       "\t<tr><td>Stomach        </td><td>0.42</td><td>0.5413</td></tr>\n",
       "\t<tr><td>Thyroid        </td><td>0.49</td><td>0.5242</td></tr>\n",
       "\t<tr><td>Whole_Blood    </td><td>0.20</td><td>0.1541</td></tr>\n",
       "</tbody>\n",
       "</table>\n"
      ],
      "text/latex": [
       "A tibble: 8 × 3\n",
       "\\begin{tabular}{lll}\n",
       " tissue & old\\_pv & new\\_PV\\\\\n",
       " <chr> & <dbl> & <dbl>\\\\\n",
       "\\hline\n",
       "\t Artery\\_Tibial   & 0.34 & 0.3419\\\\\n",
       "\t Liver           & 0.25 & 0.1974\\\\\n",
       "\t Lung            & 0.35 & 0.3113\\\\\n",
       "\t Muscle\\_Skeletal & 0.13 & 0.0889\\\\\n",
       "\t Spleen          & 0.33 & 0.3209\\\\\n",
       "\t Stomach         & 0.42 & 0.5413\\\\\n",
       "\t Thyroid         & 0.49 & 0.5242\\\\\n",
       "\t Whole\\_Blood     & 0.20 & 0.1541\\\\\n",
       "\\end{tabular}\n"
      ],
      "text/markdown": [
       "\n",
       "A tibble: 8 × 3\n",
       "\n",
       "| tissue &lt;chr&gt; | old_pv &lt;dbl&gt; | new_PV &lt;dbl&gt; |\n",
       "|---|---|---|\n",
       "| Artery_Tibial   | 0.34 | 0.3419 |\n",
       "| Liver           | 0.25 | 0.1974 |\n",
       "| Lung            | 0.35 | 0.3113 |\n",
       "| Muscle_Skeletal | 0.13 | 0.0889 |\n",
       "| Spleen          | 0.33 | 0.3209 |\n",
       "| Stomach         | 0.42 | 0.5413 |\n",
       "| Thyroid         | 0.49 | 0.5242 |\n",
       "| Whole_Blood     | 0.20 | 0.1541 |\n",
       "\n"
      ],
      "text/plain": [
       "  tissue          old_pv new_PV\n",
       "1 Artery_Tibial   0.34   0.3419\n",
       "2 Liver           0.25   0.1974\n",
       "3 Lung            0.35   0.3113\n",
       "4 Muscle_Skeletal 0.13   0.0889\n",
       "5 Spleen          0.33   0.3209\n",
       "6 Stomach         0.42   0.5413\n",
       "7 Thyroid         0.49   0.5242\n",
       "8 Whole_Blood     0.20   0.1541"
      ]
     },
     "metadata": {},
     "output_type": "display_data"
    }
   ],
   "source": []
  },
  {
   "cell_type": "code",
   "execution_count": 178,
   "metadata": {},
   "outputs": [
    {
     "data": {
      "text/html": [
       "<table class=\"dataframe\">\n",
       "<caption>A tibble: 10 × 12</caption>\n",
       "<thead>\n",
       "\t<tr><th scope=col>tissue</th><th scope=col>phenotype</th><th scope=col>BEST.GWAS.ID</th><th scope=col>BEST.GWAS.Z</th><th scope=col>NSNP</th><th scope=col>NWGT</th><th scope=col>MODEL</th><th scope=col>MODELCV.R2</th><th scope=col>MODELCV.PV</th><th scope=col>TWAS.Z</th><th scope=col>TWAS.P</th><th scope=col>TWAS.P.Adj</th></tr>\n",
       "\t<tr><th scope=col>&lt;chr&gt;</th><th scope=col>&lt;chr&gt;</th><th scope=col>&lt;chr&gt;</th><th scope=col>&lt;dbl&gt;</th><th scope=col>&lt;dbl&gt;</th><th scope=col>&lt;dbl&gt;</th><th scope=col>&lt;chr&gt;</th><th scope=col>&lt;dbl&gt;</th><th scope=col>&lt;dbl&gt;</th><th scope=col>&lt;dbl&gt;</th><th scope=col>&lt;dbl&gt;</th><th scope=col>&lt;dbl&gt;</th></tr>\n",
       "</thead>\n",
       "<tbody>\n",
       "\t<tr><td>Thyroid        </td><td>Asthma  </td><td>chr7_28132967_T_C_b38</td><td> 7.4</td><td>6083</td><td>6083</td><td>mv_susie</td><td>-0.00013</td><td>0.49</td><td>-2.230</td><td>0.0257</td><td>0.2570</td></tr>\n",
       "\t<tr><td>Thyroid        </td><td>diabetes</td><td>chr7_28154778_C_A_b38</td><td>-8.9</td><td>6083</td><td>6083</td><td>mv_susie</td><td>-0.00013</td><td>0.49</td><td>-1.780</td><td>0.0746</td><td>0.4476</td></tr>\n",
       "\t<tr><td>Artery_Tibial  </td><td>WAIST   </td><td>chr7_28165684_T_C_b38</td><td>12.8</td><td>6083</td><td>6083</td><td>mv_susie</td><td> 0.00950</td><td>0.34</td><td>-1.660</td><td>0.0972</td><td>0.4775</td></tr>\n",
       "\t<tr><td>Liver          </td><td>WAIST   </td><td>chr7_28165684_T_C_b38</td><td>12.8</td><td>6083</td><td>6083</td><td>mv_susie</td><td> 0.06500</td><td>0.25</td><td>-2.000</td><td>0.0459</td><td>0.4131</td></tr>\n",
       "\t<tr><td>Lung           </td><td>WAIST   </td><td>chr7_28165684_T_C_b38</td><td>12.8</td><td>6083</td><td>6083</td><td>mv_susie</td><td> 0.01100</td><td>0.35</td><td>-1.480</td><td>0.1400</td><td>0.4775</td></tr>\n",
       "\t<tr><td>Muscle_Skeletal</td><td>WAIST   </td><td>chr7_28165684_T_C_b38</td><td>12.8</td><td>6083</td><td>6083</td><td>mv_susie</td><td> 0.03200</td><td>0.13</td><td>-1.960</td><td>0.0498</td><td>0.4131</td></tr>\n",
       "\t<tr><td>Spleen         </td><td>WAIST   </td><td>chr7_28165684_T_C_b38</td><td>12.8</td><td>6083</td><td>6083</td><td>mv_susie</td><td> 0.02900</td><td>0.33</td><td>-1.980</td><td>0.0478</td><td>0.4131</td></tr>\n",
       "\t<tr><td>Stomach        </td><td>WAIST   </td><td>chr7_28165684_T_C_b38</td><td>12.8</td><td>6083</td><td>6083</td><td>mv_susie</td><td> 0.00410</td><td>0.42</td><td>-1.670</td><td>0.0955</td><td>0.4775</td></tr>\n",
       "\t<tr><td>Thyroid        </td><td>WAIST   </td><td>chr7_28165684_T_C_b38</td><td>12.8</td><td>6083</td><td>6083</td><td>mv_susie</td><td>-0.00013</td><td>0.49</td><td> 0.529</td><td>0.5970</td><td>1.0000</td></tr>\n",
       "\t<tr><td>Whole_Blood    </td><td>WAIST   </td><td>chr7_28165684_T_C_b38</td><td>12.8</td><td>6083</td><td>6083</td><td>mv_susie</td><td> 0.02900</td><td>0.20</td><td>-0.421</td><td>0.6740</td><td>1.0000</td></tr>\n",
       "</tbody>\n",
       "</table>\n"
      ],
      "text/latex": [
       "A tibble: 10 × 12\n",
       "\\begin{tabular}{llllllllllll}\n",
       " tissue & phenotype & BEST.GWAS.ID & BEST.GWAS.Z & NSNP & NWGT & MODEL & MODELCV.R2 & MODELCV.PV & TWAS.Z & TWAS.P & TWAS.P.Adj\\\\\n",
       " <chr> & <chr> & <chr> & <dbl> & <dbl> & <dbl> & <chr> & <dbl> & <dbl> & <dbl> & <dbl> & <dbl>\\\\\n",
       "\\hline\n",
       "\t Thyroid         & Asthma   & chr7\\_28132967\\_T\\_C\\_b38 &  7.4 & 6083 & 6083 & mv\\_susie & -0.00013 & 0.49 & -2.230 & 0.0257 & 0.2570\\\\\n",
       "\t Thyroid         & diabetes & chr7\\_28154778\\_C\\_A\\_b38 & -8.9 & 6083 & 6083 & mv\\_susie & -0.00013 & 0.49 & -1.780 & 0.0746 & 0.4476\\\\\n",
       "\t Artery\\_Tibial   & WAIST    & chr7\\_28165684\\_T\\_C\\_b38 & 12.8 & 6083 & 6083 & mv\\_susie &  0.00950 & 0.34 & -1.660 & 0.0972 & 0.4775\\\\\n",
       "\t Liver           & WAIST    & chr7\\_28165684\\_T\\_C\\_b38 & 12.8 & 6083 & 6083 & mv\\_susie &  0.06500 & 0.25 & -2.000 & 0.0459 & 0.4131\\\\\n",
       "\t Lung            & WAIST    & chr7\\_28165684\\_T\\_C\\_b38 & 12.8 & 6083 & 6083 & mv\\_susie &  0.01100 & 0.35 & -1.480 & 0.1400 & 0.4775\\\\\n",
       "\t Muscle\\_Skeletal & WAIST    & chr7\\_28165684\\_T\\_C\\_b38 & 12.8 & 6083 & 6083 & mv\\_susie &  0.03200 & 0.13 & -1.960 & 0.0498 & 0.4131\\\\\n",
       "\t Spleen          & WAIST    & chr7\\_28165684\\_T\\_C\\_b38 & 12.8 & 6083 & 6083 & mv\\_susie &  0.02900 & 0.33 & -1.980 & 0.0478 & 0.4131\\\\\n",
       "\t Stomach         & WAIST    & chr7\\_28165684\\_T\\_C\\_b38 & 12.8 & 6083 & 6083 & mv\\_susie &  0.00410 & 0.42 & -1.670 & 0.0955 & 0.4775\\\\\n",
       "\t Thyroid         & WAIST    & chr7\\_28165684\\_T\\_C\\_b38 & 12.8 & 6083 & 6083 & mv\\_susie & -0.00013 & 0.49 &  0.529 & 0.5970 & 1.0000\\\\\n",
       "\t Whole\\_Blood     & WAIST    & chr7\\_28165684\\_T\\_C\\_b38 & 12.8 & 6083 & 6083 & mv\\_susie &  0.02900 & 0.20 & -0.421 & 0.6740 & 1.0000\\\\\n",
       "\\end{tabular}\n"
      ],
      "text/markdown": [
       "\n",
       "A tibble: 10 × 12\n",
       "\n",
       "| tissue &lt;chr&gt; | phenotype &lt;chr&gt; | BEST.GWAS.ID &lt;chr&gt; | BEST.GWAS.Z &lt;dbl&gt; | NSNP &lt;dbl&gt; | NWGT &lt;dbl&gt; | MODEL &lt;chr&gt; | MODELCV.R2 &lt;dbl&gt; | MODELCV.PV &lt;dbl&gt; | TWAS.Z &lt;dbl&gt; | TWAS.P &lt;dbl&gt; | TWAS.P.Adj &lt;dbl&gt; |\n",
       "|---|---|---|---|---|---|---|---|---|---|---|---|\n",
       "| Thyroid         | Asthma   | chr7_28132967_T_C_b38 |  7.4 | 6083 | 6083 | mv_susie | -0.00013 | 0.49 | -2.230 | 0.0257 | 0.2570 |\n",
       "| Thyroid         | diabetes | chr7_28154778_C_A_b38 | -8.9 | 6083 | 6083 | mv_susie | -0.00013 | 0.49 | -1.780 | 0.0746 | 0.4476 |\n",
       "| Artery_Tibial   | WAIST    | chr7_28165684_T_C_b38 | 12.8 | 6083 | 6083 | mv_susie |  0.00950 | 0.34 | -1.660 | 0.0972 | 0.4775 |\n",
       "| Liver           | WAIST    | chr7_28165684_T_C_b38 | 12.8 | 6083 | 6083 | mv_susie |  0.06500 | 0.25 | -2.000 | 0.0459 | 0.4131 |\n",
       "| Lung            | WAIST    | chr7_28165684_T_C_b38 | 12.8 | 6083 | 6083 | mv_susie |  0.01100 | 0.35 | -1.480 | 0.1400 | 0.4775 |\n",
       "| Muscle_Skeletal | WAIST    | chr7_28165684_T_C_b38 | 12.8 | 6083 | 6083 | mv_susie |  0.03200 | 0.13 | -1.960 | 0.0498 | 0.4131 |\n",
       "| Spleen          | WAIST    | chr7_28165684_T_C_b38 | 12.8 | 6083 | 6083 | mv_susie |  0.02900 | 0.33 | -1.980 | 0.0478 | 0.4131 |\n",
       "| Stomach         | WAIST    | chr7_28165684_T_C_b38 | 12.8 | 6083 | 6083 | mv_susie |  0.00410 | 0.42 | -1.670 | 0.0955 | 0.4775 |\n",
       "| Thyroid         | WAIST    | chr7_28165684_T_C_b38 | 12.8 | 6083 | 6083 | mv_susie | -0.00013 | 0.49 |  0.529 | 0.5970 | 1.0000 |\n",
       "| Whole_Blood     | WAIST    | chr7_28165684_T_C_b38 | 12.8 | 6083 | 6083 | mv_susie |  0.02900 | 0.20 | -0.421 | 0.6740 | 1.0000 |\n",
       "\n"
      ],
      "text/plain": [
       "   tissue          phenotype BEST.GWAS.ID          BEST.GWAS.Z NSNP NWGT\n",
       "1  Thyroid         Asthma    chr7_28132967_T_C_b38  7.4        6083 6083\n",
       "2  Thyroid         diabetes  chr7_28154778_C_A_b38 -8.9        6083 6083\n",
       "3  Artery_Tibial   WAIST     chr7_28165684_T_C_b38 12.8        6083 6083\n",
       "4  Liver           WAIST     chr7_28165684_T_C_b38 12.8        6083 6083\n",
       "5  Lung            WAIST     chr7_28165684_T_C_b38 12.8        6083 6083\n",
       "6  Muscle_Skeletal WAIST     chr7_28165684_T_C_b38 12.8        6083 6083\n",
       "7  Spleen          WAIST     chr7_28165684_T_C_b38 12.8        6083 6083\n",
       "8  Stomach         WAIST     chr7_28165684_T_C_b38 12.8        6083 6083\n",
       "9  Thyroid         WAIST     chr7_28165684_T_C_b38 12.8        6083 6083\n",
       "10 Whole_Blood     WAIST     chr7_28165684_T_C_b38 12.8        6083 6083\n",
       "   MODEL    MODELCV.R2 MODELCV.PV TWAS.Z TWAS.P TWAS.P.Adj\n",
       "1  mv_susie -0.00013   0.49       -2.230 0.0257 0.2570    \n",
       "2  mv_susie -0.00013   0.49       -1.780 0.0746 0.4476    \n",
       "3  mv_susie  0.00950   0.34       -1.660 0.0972 0.4775    \n",
       "4  mv_susie  0.06500   0.25       -2.000 0.0459 0.4131    \n",
       "5  mv_susie  0.01100   0.35       -1.480 0.1400 0.4775    \n",
       "6  mv_susie  0.03200   0.13       -1.960 0.0498 0.4131    \n",
       "7  mv_susie  0.02900   0.33       -1.980 0.0478 0.4131    \n",
       "8  mv_susie  0.00410   0.42       -1.670 0.0955 0.4775    \n",
       "9  mv_susie -0.00013   0.49        0.529 0.5970 1.0000    \n",
       "10 mv_susie  0.02900   0.20       -0.421 0.6740 1.0000    "
      ]
     },
     "metadata": {},
     "output_type": "display_data"
    }
   ],
   "source": [
    "result_mv%>%filter(TWAS.P.Adj >= 0.05)"
   ]
  },
  {
   "cell_type": "code",
   "execution_count": 87,
   "metadata": {},
   "outputs": [
    {
     "name": "stderr",
     "output_type": "stream",
     "text": [
      "The following object is masked _by_ .GlobalEnv:\n",
      "\n",
      "    full_model\n",
      "\n",
      "\n",
      "The following object is masked from file:/mnt/mfs/statgen/neuro-twas/JAZF1/result/GTEx_V8.ENSG00000153814.mv_susie.model.cv.RData (pos = 3):\n",
      "\n",
      "    full_model\n",
      "\n",
      "\n",
      "The following object is masked from file:/mnt/mfs/statgen/neuro-twas/JAZF1/result/GTEx_V8.ENSG00000153814.mv_susie.model.cv.RData (pos = 4):\n",
      "\n",
      "    full_model\n",
      "\n",
      "\n",
      "The following object is masked from file:/mnt/mfs/statgen/neuro-twas/JAZF1/result/GTEx_V8.ENSG00000153814.mv_susie.model.cv.RData (pos = 5):\n",
      "\n",
      "    full_model\n",
      "\n",
      "\n"
     ]
    },
    {
     "data": {
      "text/html": [
       "6656"
      ],
      "text/latex": [
       "6656"
      ],
      "text/markdown": [
       "6656"
      ],
      "text/plain": [
       "[1] 6656"
      ]
     },
     "metadata": {},
     "output_type": "display_data"
    }
   ],
   "source": [
    "a = attach(\"/mnt/mfs/statgen/neuro-twas/JAZF1/result/GTEx_V8.ENSG00000153814.mv_susie.model.cv.RData\")\n",
    "\n",
    "a$full_model$sets$cs"
   ]
  },
  {
   "cell_type": "code",
   "execution_count": 102,
   "metadata": {},
   "outputs": [
    {
     "data": {
      "text/html": [
       "<dl>\n",
       "\t<dt>$L2</dt>\n",
       "\t\t<dd>3818</dd>\n",
       "\t<dt>$L1</dt>\n",
       "\t\t<dd><style>\n",
       ".list-inline {list-style: none; margin:0; padding: 0}\n",
       ".list-inline>li {display: inline-block}\n",
       ".list-inline>li:not(:last-child)::after {content: \"\\00b7\"; padding: 0 .5ex}\n",
       "</style>\n",
       "<ol class=list-inline><li>3442</li><li>3443</li><li>3446</li><li>3490</li><li>3497</li><li>3501</li><li>3503</li><li>3504</li><li>3506</li><li>3518</li><li>3522</li><li>3567</li><li>3576</li><li>3583</li><li>3690</li></ol>\n",
       "</dd>\n",
       "</dl>\n"
      ],
      "text/latex": [
       "\\begin{description}\n",
       "\\item[\\$L2] 3818\n",
       "\\item[\\$L1] \\begin{enumerate*}\n",
       "\\item 3442\n",
       "\\item 3443\n",
       "\\item 3446\n",
       "\\item 3490\n",
       "\\item 3497\n",
       "\\item 3501\n",
       "\\item 3503\n",
       "\\item 3504\n",
       "\\item 3506\n",
       "\\item 3518\n",
       "\\item 3522\n",
       "\\item 3567\n",
       "\\item 3576\n",
       "\\item 3583\n",
       "\\item 3690\n",
       "\\end{enumerate*}\n",
       "\n",
       "\\end{description}\n"
      ],
      "text/markdown": [
       "$L2\n",
       ":   3818\n",
       "$L1\n",
       ":   1. 3442\n",
       "2. 3443\n",
       "3. 3446\n",
       "4. 3490\n",
       "5. 3497\n",
       "6. 3501\n",
       "7. 3503\n",
       "8. 3504\n",
       "9. 3506\n",
       "10. 3518\n",
       "11. 3522\n",
       "12. 3567\n",
       "13. 3576\n",
       "14. 3583\n",
       "15. 3690\n",
       "\n",
       "\n",
       "\n",
       "\n",
       "\n"
      ],
      "text/plain": [
       "$L2\n",
       "[1] 3818\n",
       "\n",
       "$L1\n",
       " [1] 3442 3443 3446 3490 3497 3501 3503 3504 3506 3518 3522 3567 3576 3583 3690\n"
      ]
     },
     "metadata": {},
     "output_type": "display_data"
    },
    {
     "data": {
      "text/html": [
       "<table class=\"dataframe\">\n",
       "<caption>A data.frame: 2 × 3</caption>\n",
       "<thead>\n",
       "\t<tr><th></th><th scope=col>min.abs.corr</th><th scope=col>mean.abs.corr</th><th scope=col>median.abs.corr</th></tr>\n",
       "\t<tr><th></th><th scope=col>&lt;dbl&gt;</th><th scope=col>&lt;dbl&gt;</th><th scope=col>&lt;dbl&gt;</th></tr>\n",
       "</thead>\n",
       "<tbody>\n",
       "\t<tr><th scope=row>L2</th><td>1.000000</td><td>1.0000000</td><td>1.0000000</td></tr>\n",
       "\t<tr><th scope=row>L1</th><td>0.517289</td><td>0.8099096</td><td>0.9046772</td></tr>\n",
       "</tbody>\n",
       "</table>\n"
      ],
      "text/latex": [
       "A data.frame: 2 × 3\n",
       "\\begin{tabular}{r|lll}\n",
       "  & min.abs.corr & mean.abs.corr & median.abs.corr\\\\\n",
       "  & <dbl> & <dbl> & <dbl>\\\\\n",
       "\\hline\n",
       "\tL2 & 1.000000 & 1.0000000 & 1.0000000\\\\\n",
       "\tL1 & 0.517289 & 0.8099096 & 0.9046772\\\\\n",
       "\\end{tabular}\n"
      ],
      "text/markdown": [
       "\n",
       "A data.frame: 2 × 3\n",
       "\n",
       "| <!--/--> | min.abs.corr &lt;dbl&gt; | mean.abs.corr &lt;dbl&gt; | median.abs.corr &lt;dbl&gt; |\n",
       "|---|---|---|---|\n",
       "| L2 | 1.000000 | 1.0000000 | 1.0000000 |\n",
       "| L1 | 0.517289 | 0.8099096 | 0.9046772 |\n",
       "\n"
      ],
      "text/plain": [
       "   min.abs.corr mean.abs.corr median.abs.corr\n",
       "L2 1.000000     1.0000000     1.0000000      \n",
       "L1 0.517289     0.8099096     0.9046772      "
      ]
     },
     "metadata": {},
     "output_type": "display_data"
    }
   ],
   "source": [
    "# Credible set\n",
    "a$full_model$sets$cs\n",
    "a$full_model$sets$purity\n",
    "b = (a$full_model$sets$cs%>%unlist%>%as.numeric)"
   ]
  },
  {
   "cell_type": "code",
   "execution_count": 135,
   "metadata": {},
   "outputs": [
    {
     "data": {
      "text/html": [
       "57698"
      ],
      "text/latex": [
       "57698"
      ],
      "text/markdown": [
       "57698"
      ],
      "text/plain": [
       "[1] 57698"
      ]
     },
     "metadata": {},
     "output_type": "display_data"
    },
    {
     "data": {
      "text/html": [
       "0.272616323180761"
      ],
      "text/latex": [
       "0.272616323180761"
      ],
      "text/markdown": [
       "0.272616323180761"
      ],
      "text/plain": [
       "[1] 0.2726163"
      ]
     },
     "metadata": {},
     "output_type": "display_data"
    },
    {
     "data": {
      "text/html": [
       "0.000313377942131276"
      ],
      "text/latex": [
       "0.000313377942131276"
      ],
      "text/markdown": [
       "0.000313377942131276"
      ],
      "text/plain": [
       "[1] 0.0003133779"
      ]
     },
     "metadata": {},
     "output_type": "display_data"
    },
    {
     "data": {
      "text/html": [
       "0.999827337785372"
      ],
      "text/latex": [
       "0.999827337785372"
      ],
      "text/markdown": [
       "0.999827337785372"
      ],
      "text/plain": [
       "[1] 0.9998273"
      ]
     },
     "metadata": {},
     "output_type": "display_data"
    },
    {
     "data": {
      "text/html": [
       "7696"
      ],
      "text/latex": [
       "7696"
      ],
      "text/markdown": [
       "7696"
      ],
      "text/plain": [
       "[1] 7696"
      ]
     },
     "metadata": {},
     "output_type": "display_data"
    },
    {
     "data": {
      "text/html": [
       "0.00525282689609468"
      ],
      "text/latex": [
       "0.00525282689609468"
      ],
      "text/markdown": [
       "0.00525282689609468"
      ],
      "text/plain": [
       "[1] 0.005252827"
      ]
     },
     "metadata": {},
     "output_type": "display_data"
    },
    {
     "data": {
      "text/html": [
       "0.00353680564949455"
      ],
      "text/latex": [
       "0.00353680564949455"
      ],
      "text/markdown": [
       "0.00353680564949455"
      ],
      "text/plain": [
       "[1] 0.003536806"
      ]
     },
     "metadata": {},
     "output_type": "display_data"
    },
    {
     "data": {
      "text/html": [
       "0.0304651874047046"
      ],
      "text/latex": [
       "0.0304651874047046"
      ],
      "text/markdown": [
       "0.0304651874047046"
      ],
      "text/plain": [
       "[1] 0.03046519"
      ]
     },
     "metadata": {},
     "output_type": "display_data"
    },
    {
     "data": {
      "text/html": [
       "0.00428994686705438"
      ],
      "text/latex": [
       "0.00428994686705438"
      ],
      "text/markdown": [
       "0.00428994686705438"
      ],
      "text/plain": [
       "[1] 0.004289947"
      ]
     },
     "metadata": {},
     "output_type": "display_data"
    },
    {
     "data": {
      "text/html": [
       "0.1335541293482"
      ],
      "text/latex": [
       "0.1335541293482"
      ],
      "text/markdown": [
       "0.1335541293482"
      ],
      "text/plain": [
       "[1] 0.1335541"
      ]
     },
     "metadata": {},
     "output_type": "display_data"
    },
    {
     "data": {
      "text/html": [
       "0.040163230619292"
      ],
      "text/latex": [
       "0.040163230619292"
      ],
      "text/markdown": [
       "0.040163230619292"
      ],
      "text/plain": [
       "[1] 0.04016323"
      ]
     },
     "metadata": {},
     "output_type": "display_data"
    },
    {
     "data": {
      "text/html": [
       "9.72885694736186e-05"
      ],
      "text/latex": [
       "9.72885694736186e-05"
      ],
      "text/markdown": [
       "9.72885694736186e-05"
      ],
      "text/plain": [
       "[1] 9.728857e-05"
      ]
     },
     "metadata": {},
     "output_type": "display_data"
    },
    {
     "data": {
      "text/html": [
       "0.272616323180761"
      ],
      "text/latex": [
       "0.272616323180761"
      ],
      "text/markdown": [
       "0.272616323180761"
      ],
      "text/plain": [
       "[1] 0.2726163"
      ]
     },
     "metadata": {},
     "output_type": "display_data"
    }
   ],
   "source": [
    "# The largest one\n",
    "which(a$full_model$coef == a$full_model$coef%>%max())\n",
    "\n",
    "a$full_model$coef%>%max()\n",
    "# The largest one among the CS\n",
    "a$full_model$coef[b,]%>%max()\n",
    "# PIP\n",
    "a$full_model$pip[3818]\n",
    "a$full_model$pip%>%length\n",
    "a$full_model$coef%>%\n",
    "\n",
    "a$full_model$coef[,1]%>%max()\n",
    "a$full_model$coef[,2]%>%max()\n",
    "a$full_model$coef[,3]%>%max()\n",
    "a$full_model$coef[,4]%>%max()\n",
    "a$full_model$coef[,5]%>%max()\n",
    "a$full_model$coef[,6]%>%max()\n",
    "a$full_model$coef[,7]%>%max()\n",
    "a$full_model$coef[,8]%>%max()"
   ]
  },
  {
   "cell_type": "code",
   "execution_count": 173,
   "metadata": {},
   "outputs": [
    {
     "data": {
      "text/html": [
       "<style>\n",
       ".list-inline {list-style: none; margin:0; padding: 0}\n",
       ".list-inline>li {display: inline-block}\n",
       ".list-inline>li:not(:last-child)::after {content: \"\\00b7\"; padding: 0 .5ex}\n",
       "</style>\n",
       "<ol class=list-inline><li>0.3125</li><li>1.3125</li><li>2.3125</li><li>3.3125</li><li>7.0625</li></ol>\n"
      ],
      "text/latex": [
       "\\begin{enumerate*}\n",
       "\\item 0.3125\n",
       "\\item 1.3125\n",
       "\\item 2.3125\n",
       "\\item 3.3125\n",
       "\\item 7.0625\n",
       "\\end{enumerate*}\n"
      ],
      "text/markdown": [
       "1. 0.3125\n",
       "2. 1.3125\n",
       "3. 2.3125\n",
       "4. 3.3125\n",
       "5. 7.0625\n",
       "\n",
       "\n"
      ],
      "text/plain": [
       "[1] 0.3125 1.3125 2.3125 3.3125 7.0625"
      ]
     },
     "metadata": {},
     "output_type": "display_data"
    }
   ],
   "source": [
    "colMax <- function(data) sapply(data, max, na.rm = TRUE)\n",
    "\n",
    "abs = abs(a$full_model$coef)\n",
    "max = colMax(abs%>%as_tibble)\n",
    "max_id = which(abs[b+1,] %in% max)\n",
    "max_id/16"
   ]
  },
  {
   "cell_type": "code",
   "execution_count": 171,
   "metadata": {},
   "outputs": [
    {
     "data": {
      "text/html": [
       "<style>\n",
       ".list-inline {list-style: none; margin:0; padding: 0}\n",
       ".list-inline>li {display: inline-block}\n",
       ".list-inline>li:not(:last-child)::after {content: \"\\00b7\"; padding: 0 .5ex}\n",
       "</style>\n",
       "<ol class=list-inline><li>0.0158075337256525</li><li>0.0938514082642634</li><li>0.0313429033918754</li><li>0.0494911160847157</li><li>0.272616323180761</li></ol>\n"
      ],
      "text/latex": [
       "\\begin{enumerate*}\n",
       "\\item 0.0158075337256525\n",
       "\\item 0.0938514082642634\n",
       "\\item 0.0313429033918754\n",
       "\\item 0.0494911160847157\n",
       "\\item 0.272616323180761\n",
       "\\end{enumerate*}\n"
      ],
      "text/markdown": [
       "1. 0.0158075337256525\n",
       "2. 0.0938514082642634\n",
       "3. 0.0313429033918754\n",
       "4. 0.0494911160847157\n",
       "5. 0.272616323180761\n",
       "\n",
       "\n"
      ],
      "text/plain": [
       "[1] 0.01580753 0.09385141 0.03134290 0.04949112 0.27261632"
      ]
     },
     "metadata": {},
     "output_type": "display_data"
    },
    {
     "data": {
      "text/html": [],
      "text/latex": [],
      "text/markdown": [],
      "text/plain": [
       "named integer(0)"
      ]
     },
     "metadata": {},
     "output_type": "display_data"
    }
   ],
   "source": [
    "abs[b+1,][max_id]\n",
    "which(max == abs[b+1,][49] )"
   ]
  },
  {
   "cell_type": "code",
   "execution_count": 154,
   "metadata": {},
   "outputs": [
    {
     "ename": "ERROR",
     "evalue": "Error in max(abs): invalid 'type' (builtin) of argument\n",
     "output_type": "error",
     "traceback": [
      "Error in max(abs): invalid 'type' (builtin) of argument\nTraceback:\n",
      "1. colMax(a$full_model$coef %>% as_tibble)",
      "2. sapply(data, max(abs), na.rm = TRUE)   # at line 1 of file <text>",
      "3. match.fun(FUN)"
     ]
    }
   ],
   "source": [
    "max = colMax(a$full_model$coef%>%as_tibble)\n",
    "which(a$full_model$coef[b+1,] %in% max)\n"
   ]
  },
  {
   "cell_type": "code",
   "execution_count": 176,
   "metadata": {},
   "outputs": [
    {
     "data": {
      "text/html": [
       "<style>\n",
       ".list-inline {list-style: none; margin:0; padding: 0}\n",
       ".list-inline>li {display: inline-block}\n",
       ".list-inline>li:not(:last-child)::after {content: \"\\00b7\"; padding: 0 .5ex}\n",
       "</style>\n",
       "<ol class=list-inline><li>0.00525282689609468</li><li>-0.0675348197565896</li><li>-0.00146936441303658</li><li>-0.00271945795862571</li><li>0.1335541293482</li><li>0.040163230619292</li><li>-0.0103291994070232</li><li>0.0027149973537723</li></ol>\n"
      ],
      "text/latex": [
       "\\begin{enumerate*}\n",
       "\\item 0.00525282689609468\n",
       "\\item -0.0675348197565896\n",
       "\\item -0.00146936441303658\n",
       "\\item -0.00271945795862571\n",
       "\\item 0.1335541293482\n",
       "\\item 0.040163230619292\n",
       "\\item -0.0103291994070232\n",
       "\\item 0.0027149973537723\n",
       "\\end{enumerate*}\n"
      ],
      "text/markdown": [
       "1. 0.00525282689609468\n",
       "2. -0.0675348197565896\n",
       "3. -0.00146936441303658\n",
       "4. -0.00271945795862571\n",
       "5. 0.1335541293482\n",
       "6. 0.040163230619292\n",
       "7. -0.0103291994070232\n",
       "8. 0.0027149973537723\n",
       "\n",
       "\n"
      ],
      "text/plain": [
       "[1]  0.005252827 -0.067534820 -0.001469364 -0.002719458  0.133554129\n",
       "[6]  0.040163231 -0.010329199  0.002714997"
      ]
     },
     "metadata": {},
     "output_type": "display_data"
    },
    {
     "data": {
      "text/html": [
       "<table class=\"dataframe\">\n",
       "<caption>A matrix: 16 × 8 of type dbl</caption>\n",
       "<tbody>\n",
       "\t<tr><td>-0.0033449811</td><td> 0.003536806</td><td> 0.0304651874</td><td> 0.004289947</td><td> 0.047553736</td><td>-0.0011561946</td><td>-1.129280e-03</td><td> 2.726163e-01</td></tr>\n",
       "\t<tr><td>-0.0005811328</td><td>-0.007535368</td><td>-0.0023503357</td><td>-0.003911205</td><td>-0.003742955</td><td>-0.0011001927</td><td>-1.014839e-03</td><td>-8.378977e-04</td></tr>\n",
       "\t<tr><td>-0.0002537522</td><td>-0.002777719</td><td>-0.0008214189</td><td>-0.001414708</td><td>-0.001375875</td><td>-0.0003823060</td><td>-3.682700e-04</td><td>-3.176568e-04</td></tr>\n",
       "\t<tr><td>-0.0005811328</td><td>-0.007535368</td><td>-0.0023503357</td><td>-0.003911205</td><td>-0.003742955</td><td>-0.0011001927</td><td>-1.014839e-03</td><td>-8.378977e-04</td></tr>\n",
       "\t<tr><td>-0.0158075337</td><td>-0.093851408</td><td>-0.0313429034</td><td>-0.049491116</td><td>-0.048357659</td><td>-0.0187167296</td><td>-2.756856e-03</td><td>-1.175838e-02</td></tr>\n",
       "\t<tr><td>-0.0002340162</td><td>-0.003195166</td><td>-0.0009584611</td><td>-0.001611558</td><td>-0.001860321</td><td>-0.0005776536</td><td>-2.382729e-04</td><td>-3.561588e-04</td></tr>\n",
       "\t<tr><td>-0.0111312011</td><td>-0.068766658</td><td>-0.0228543073</td><td>-0.036235014</td><td>-0.035371170</td><td>-0.0136150935</td><td>-1.788139e-03</td><td>-8.567266e-03</td></tr>\n",
       "\t<tr><td>-0.0001904650</td><td>-0.002840859</td><td>-0.0008668316</td><td>-0.001449602</td><td>-0.001608756</td><td>-0.0005113562</td><td>-2.054617e-04</td><td>-2.952103e-04</td></tr>\n",
       "\t<tr><td>-0.0111312011</td><td>-0.068766658</td><td>-0.0228543073</td><td>-0.036235014</td><td>-0.035371170</td><td>-0.0136150935</td><td>-1.788139e-03</td><td>-8.567266e-03</td></tr>\n",
       "\t<tr><td>-0.0111312011</td><td>-0.068766658</td><td>-0.0228543073</td><td>-0.036235014</td><td>-0.035371170</td><td>-0.0136150935</td><td>-1.788139e-03</td><td>-8.567266e-03</td></tr>\n",
       "\t<tr><td>-0.0001793232</td><td>-0.003183893</td><td>-0.0009247384</td><td>-0.001595308</td><td>-0.001667294</td><td>-0.0006431769</td><td>-3.806959e-04</td><td>-3.743553e-04</td></tr>\n",
       "\t<tr><td>-0.0003033578</td><td>-0.005341086</td><td>-0.0015612664</td><td>-0.002714771</td><td>-0.002802017</td><td>-0.0010799505</td><td>-6.782059e-04</td><td>-6.385899e-04</td></tr>\n",
       "\t<tr><td> 0.0010897652</td><td> 0.002287085</td><td> 0.0009162433</td><td> 0.002154771</td><td> 0.001698936</td><td> 0.0007032868</td><td> 6.915129e-05</td><td> 2.145590e-04</td></tr>\n",
       "\t<tr><td> 0.0006820796</td><td> 0.001283558</td><td> 0.0005047795</td><td> 0.001169199</td><td> 0.000927595</td><td> 0.0003914026</td><td> 3.286132e-05</td><td> 9.337986e-05</td></tr>\n",
       "\t<tr><td> 0.0006820796</td><td> 0.001283558</td><td> 0.0005047795</td><td> 0.001169199</td><td> 0.000927595</td><td> 0.0003914026</td><td> 3.286132e-05</td><td> 9.337986e-05</td></tr>\n",
       "\t<tr><td>-0.0029660927</td><td>-0.018465556</td><td>-0.0070246288</td><td>-0.008956229</td><td>-0.006915005</td><td>-0.0044970452</td><td>-7.436943e-04</td><td>-1.375632e-03</td></tr>\n",
       "</tbody>\n",
       "</table>\n"
      ],
      "text/latex": [
       "A matrix: 16 × 8 of type dbl\n",
       "\\begin{tabular}{llllllll}\n",
       "\t -0.0033449811 &  0.003536806 &  0.0304651874 &  0.004289947 &  0.047553736 & -0.0011561946 & -1.129280e-03 &  2.726163e-01\\\\\n",
       "\t -0.0005811328 & -0.007535368 & -0.0023503357 & -0.003911205 & -0.003742955 & -0.0011001927 & -1.014839e-03 & -8.378977e-04\\\\\n",
       "\t -0.0002537522 & -0.002777719 & -0.0008214189 & -0.001414708 & -0.001375875 & -0.0003823060 & -3.682700e-04 & -3.176568e-04\\\\\n",
       "\t -0.0005811328 & -0.007535368 & -0.0023503357 & -0.003911205 & -0.003742955 & -0.0011001927 & -1.014839e-03 & -8.378977e-04\\\\\n",
       "\t -0.0158075337 & -0.093851408 & -0.0313429034 & -0.049491116 & -0.048357659 & -0.0187167296 & -2.756856e-03 & -1.175838e-02\\\\\n",
       "\t -0.0002340162 & -0.003195166 & -0.0009584611 & -0.001611558 & -0.001860321 & -0.0005776536 & -2.382729e-04 & -3.561588e-04\\\\\n",
       "\t -0.0111312011 & -0.068766658 & -0.0228543073 & -0.036235014 & -0.035371170 & -0.0136150935 & -1.788139e-03 & -8.567266e-03\\\\\n",
       "\t -0.0001904650 & -0.002840859 & -0.0008668316 & -0.001449602 & -0.001608756 & -0.0005113562 & -2.054617e-04 & -2.952103e-04\\\\\n",
       "\t -0.0111312011 & -0.068766658 & -0.0228543073 & -0.036235014 & -0.035371170 & -0.0136150935 & -1.788139e-03 & -8.567266e-03\\\\\n",
       "\t -0.0111312011 & -0.068766658 & -0.0228543073 & -0.036235014 & -0.035371170 & -0.0136150935 & -1.788139e-03 & -8.567266e-03\\\\\n",
       "\t -0.0001793232 & -0.003183893 & -0.0009247384 & -0.001595308 & -0.001667294 & -0.0006431769 & -3.806959e-04 & -3.743553e-04\\\\\n",
       "\t -0.0003033578 & -0.005341086 & -0.0015612664 & -0.002714771 & -0.002802017 & -0.0010799505 & -6.782059e-04 & -6.385899e-04\\\\\n",
       "\t  0.0010897652 &  0.002287085 &  0.0009162433 &  0.002154771 &  0.001698936 &  0.0007032868 &  6.915129e-05 &  2.145590e-04\\\\\n",
       "\t  0.0006820796 &  0.001283558 &  0.0005047795 &  0.001169199 &  0.000927595 &  0.0003914026 &  3.286132e-05 &  9.337986e-05\\\\\n",
       "\t  0.0006820796 &  0.001283558 &  0.0005047795 &  0.001169199 &  0.000927595 &  0.0003914026 &  3.286132e-05 &  9.337986e-05\\\\\n",
       "\t -0.0029660927 & -0.018465556 & -0.0070246288 & -0.008956229 & -0.006915005 & -0.0044970452 & -7.436943e-04 & -1.375632e-03\\\\\n",
       "\\end{tabular}\n"
      ],
      "text/markdown": [
       "\n",
       "A matrix: 16 × 8 of type dbl\n",
       "\n",
       "| -0.0033449811 |  0.003536806 |  0.0304651874 |  0.004289947 |  0.047553736 | -0.0011561946 | -1.129280e-03 |  2.726163e-01 |\n",
       "| -0.0005811328 | -0.007535368 | -0.0023503357 | -0.003911205 | -0.003742955 | -0.0011001927 | -1.014839e-03 | -8.378977e-04 |\n",
       "| -0.0002537522 | -0.002777719 | -0.0008214189 | -0.001414708 | -0.001375875 | -0.0003823060 | -3.682700e-04 | -3.176568e-04 |\n",
       "| -0.0005811328 | -0.007535368 | -0.0023503357 | -0.003911205 | -0.003742955 | -0.0011001927 | -1.014839e-03 | -8.378977e-04 |\n",
       "| -0.0158075337 | -0.093851408 | -0.0313429034 | -0.049491116 | -0.048357659 | -0.0187167296 | -2.756856e-03 | -1.175838e-02 |\n",
       "| -0.0002340162 | -0.003195166 | -0.0009584611 | -0.001611558 | -0.001860321 | -0.0005776536 | -2.382729e-04 | -3.561588e-04 |\n",
       "| -0.0111312011 | -0.068766658 | -0.0228543073 | -0.036235014 | -0.035371170 | -0.0136150935 | -1.788139e-03 | -8.567266e-03 |\n",
       "| -0.0001904650 | -0.002840859 | -0.0008668316 | -0.001449602 | -0.001608756 | -0.0005113562 | -2.054617e-04 | -2.952103e-04 |\n",
       "| -0.0111312011 | -0.068766658 | -0.0228543073 | -0.036235014 | -0.035371170 | -0.0136150935 | -1.788139e-03 | -8.567266e-03 |\n",
       "| -0.0111312011 | -0.068766658 | -0.0228543073 | -0.036235014 | -0.035371170 | -0.0136150935 | -1.788139e-03 | -8.567266e-03 |\n",
       "| -0.0001793232 | -0.003183893 | -0.0009247384 | -0.001595308 | -0.001667294 | -0.0006431769 | -3.806959e-04 | -3.743553e-04 |\n",
       "| -0.0003033578 | -0.005341086 | -0.0015612664 | -0.002714771 | -0.002802017 | -0.0010799505 | -6.782059e-04 | -6.385899e-04 |\n",
       "|  0.0010897652 |  0.002287085 |  0.0009162433 |  0.002154771 |  0.001698936 |  0.0007032868 |  6.915129e-05 |  2.145590e-04 |\n",
       "|  0.0006820796 |  0.001283558 |  0.0005047795 |  0.001169199 |  0.000927595 |  0.0003914026 |  3.286132e-05 |  9.337986e-05 |\n",
       "|  0.0006820796 |  0.001283558 |  0.0005047795 |  0.001169199 |  0.000927595 |  0.0003914026 |  3.286132e-05 |  9.337986e-05 |\n",
       "| -0.0029660927 | -0.018465556 | -0.0070246288 | -0.008956229 | -0.006915005 | -0.0044970452 | -7.436943e-04 | -1.375632e-03 |\n",
       "\n"
      ],
      "text/plain": [
       "      [,1]          [,2]         [,3]          [,4]         [,5]        \n",
       " [1,] -0.0033449811  0.003536806  0.0304651874  0.004289947  0.047553736\n",
       " [2,] -0.0005811328 -0.007535368 -0.0023503357 -0.003911205 -0.003742955\n",
       " [3,] -0.0002537522 -0.002777719 -0.0008214189 -0.001414708 -0.001375875\n",
       " [4,] -0.0005811328 -0.007535368 -0.0023503357 -0.003911205 -0.003742955\n",
       " [5,] -0.0158075337 -0.093851408 -0.0313429034 -0.049491116 -0.048357659\n",
       " [6,] -0.0002340162 -0.003195166 -0.0009584611 -0.001611558 -0.001860321\n",
       " [7,] -0.0111312011 -0.068766658 -0.0228543073 -0.036235014 -0.035371170\n",
       " [8,] -0.0001904650 -0.002840859 -0.0008668316 -0.001449602 -0.001608756\n",
       " [9,] -0.0111312011 -0.068766658 -0.0228543073 -0.036235014 -0.035371170\n",
       "[10,] -0.0111312011 -0.068766658 -0.0228543073 -0.036235014 -0.035371170\n",
       "[11,] -0.0001793232 -0.003183893 -0.0009247384 -0.001595308 -0.001667294\n",
       "[12,] -0.0003033578 -0.005341086 -0.0015612664 -0.002714771 -0.002802017\n",
       "[13,]  0.0010897652  0.002287085  0.0009162433  0.002154771  0.001698936\n",
       "[14,]  0.0006820796  0.001283558  0.0005047795  0.001169199  0.000927595\n",
       "[15,]  0.0006820796  0.001283558  0.0005047795  0.001169199  0.000927595\n",
       "[16,] -0.0029660927 -0.018465556 -0.0070246288 -0.008956229 -0.006915005\n",
       "      [,6]          [,7]          [,8]         \n",
       " [1,] -0.0011561946 -1.129280e-03  2.726163e-01\n",
       " [2,] -0.0011001927 -1.014839e-03 -8.378977e-04\n",
       " [3,] -0.0003823060 -3.682700e-04 -3.176568e-04\n",
       " [4,] -0.0011001927 -1.014839e-03 -8.378977e-04\n",
       " [5,] -0.0187167296 -2.756856e-03 -1.175838e-02\n",
       " [6,] -0.0005776536 -2.382729e-04 -3.561588e-04\n",
       " [7,] -0.0136150935 -1.788139e-03 -8.567266e-03\n",
       " [8,] -0.0005113562 -2.054617e-04 -2.952103e-04\n",
       " [9,] -0.0136150935 -1.788139e-03 -8.567266e-03\n",
       "[10,] -0.0136150935 -1.788139e-03 -8.567266e-03\n",
       "[11,] -0.0006431769 -3.806959e-04 -3.743553e-04\n",
       "[12,] -0.0010799505 -6.782059e-04 -6.385899e-04\n",
       "[13,]  0.0007032868  6.915129e-05  2.145590e-04\n",
       "[14,]  0.0003914026  3.286132e-05  9.337986e-05\n",
       "[15,]  0.0003914026  3.286132e-05  9.337986e-05\n",
       "[16,] -0.0044970452 -7.436943e-04 -1.375632e-03"
      ]
     },
     "metadata": {},
     "output_type": "display_data"
    }
   ],
   "source": [
    "a$full_model$intercept\n",
    "a$full_model$coef[b+1,]"
   ]
  },
  {
   "cell_type": "markdown",
   "metadata": {},
   "source": [
    "## Diag of CV"
   ]
  },
  {
   "cell_type": "code",
   "execution_count": 4,
   "metadata": {},
   "outputs": [],
   "source": [
    "model = attach(\"/mnt/mfs/statgen/neuro-twas/JAZF1_rare/result/GTEx_V8.ENSG00000153814.mv_susie.model.RData\")"
   ]
  },
  {
   "cell_type": "code",
   "execution_count": 6,
   "metadata": {},
   "outputs": [
    {
     "data": {
      "text/html": [
       "<dl>\n",
       "\t<dt>$cs</dt>\n",
       "\t\t<dd><dl>\n",
       "\t<dt>$L2</dt>\n",
       "\t\t<dd>7797</dd>\n",
       "\t<dt>$L1</dt>\n",
       "\t\t<dd><style>\n",
       ".list-inline {list-style: none; margin:0; padding: 0}\n",
       ".list-inline>li {display: inline-block}\n",
       ".list-inline>li:not(:last-child)::after {content: \"\\00b7\"; padding: 0 .5ex}\n",
       "</style>\n",
       "<ol class=list-inline><li>6918</li><li>6921</li><li>6929</li><li>7019</li><li>7030</li><li>7042</li><li>7044</li><li>7046</li><li>7049</li><li>7073</li><li>7081</li><li>7168</li><li>7511</li></ol>\n",
       "</dd>\n",
       "</dl>\n",
       "</dd>\n",
       "\t<dt>$purity</dt>\n",
       "\t\t<dd><table class=\"dataframe\">\n",
       "<caption>A data.frame: 2 × 3</caption>\n",
       "<thead>\n",
       "\t<tr><th></th><th scope=col>min.abs.corr</th><th scope=col>mean.abs.corr</th><th scope=col>median.abs.corr</th></tr>\n",
       "\t<tr><th></th><th scope=col>&lt;dbl&gt;</th><th scope=col>&lt;dbl&gt;</th><th scope=col>&lt;dbl&gt;</th></tr>\n",
       "</thead>\n",
       "<tbody>\n",
       "\t<tr><th scope=row>L2</th><td>1.000000</td><td>1.0000000</td><td>1.0000000</td></tr>\n",
       "\t<tr><th scope=row>L1</th><td>0.517289</td><td>0.8743678</td><td>0.9158703</td></tr>\n",
       "</tbody>\n",
       "</table>\n",
       "</dd>\n",
       "\t<dt>$cs_index</dt>\n",
       "\t\t<dd><style>\n",
       ".list-inline {list-style: none; margin:0; padding: 0}\n",
       ".list-inline>li {display: inline-block}\n",
       ".list-inline>li:not(:last-child)::after {content: \"\\00b7\"; padding: 0 .5ex}\n",
       "</style>\n",
       "<ol class=list-inline><li>2</li><li>1</li></ol>\n",
       "</dd>\n",
       "\t<dt>$coverage</dt>\n",
       "\t\t<dd><style>\n",
       ".list-inline {list-style: none; margin:0; padding: 0}\n",
       ".list-inline>li {display: inline-block}\n",
       ".list-inline>li:not(:last-child)::after {content: \"\\00b7\"; padding: 0 .5ex}\n",
       "</style>\n",
       "<ol class=list-inline><li>0.99982345895947</li><li>0.952404257634227</li></ol>\n",
       "</dd>\n",
       "\t<dt>$requested_coverage</dt>\n",
       "\t\t<dd>0.95</dd>\n",
       "</dl>\n"
      ],
      "text/latex": [
       "\\begin{description}\n",
       "\\item[\\$cs] \\begin{description}\n",
       "\\item[\\$L2] 7797\n",
       "\\item[\\$L1] \\begin{enumerate*}\n",
       "\\item 6918\n",
       "\\item 6921\n",
       "\\item 6929\n",
       "\\item 7019\n",
       "\\item 7030\n",
       "\\item 7042\n",
       "\\item 7044\n",
       "\\item 7046\n",
       "\\item 7049\n",
       "\\item 7073\n",
       "\\item 7081\n",
       "\\item 7168\n",
       "\\item 7511\n",
       "\\end{enumerate*}\n",
       "\n",
       "\\end{description}\n",
       "\n",
       "\\item[\\$purity] A data.frame: 2 × 3\n",
       "\\begin{tabular}{r|lll}\n",
       "  & min.abs.corr & mean.abs.corr & median.abs.corr\\\\\n",
       "  & <dbl> & <dbl> & <dbl>\\\\\n",
       "\\hline\n",
       "\tL2 & 1.000000 & 1.0000000 & 1.0000000\\\\\n",
       "\tL1 & 0.517289 & 0.8743678 & 0.9158703\\\\\n",
       "\\end{tabular}\n",
       "\n",
       "\\item[\\$cs\\_index] \\begin{enumerate*}\n",
       "\\item 2\n",
       "\\item 1\n",
       "\\end{enumerate*}\n",
       "\n",
       "\\item[\\$coverage] \\begin{enumerate*}\n",
       "\\item 0.99982345895947\n",
       "\\item 0.952404257634227\n",
       "\\end{enumerate*}\n",
       "\n",
       "\\item[\\$requested\\_coverage] 0.95\n",
       "\\end{description}\n"
      ],
      "text/markdown": [
       "$cs\n",
       ":   $L2\n",
       ":   7797\n",
       "$L1\n",
       ":   1. 6918\n",
       "2. 6921\n",
       "3. 6929\n",
       "4. 7019\n",
       "5. 7030\n",
       "6. 7042\n",
       "7. 7044\n",
       "8. 7046\n",
       "9. 7049\n",
       "10. 7073\n",
       "11. 7081\n",
       "12. 7168\n",
       "13. 7511\n",
       "\n",
       "\n",
       "\n",
       "\n",
       "\n",
       "\n",
       "$purity\n",
       ":   \n",
       "A data.frame: 2 × 3\n",
       "\n",
       "| <!--/--> | min.abs.corr &lt;dbl&gt; | mean.abs.corr &lt;dbl&gt; | median.abs.corr &lt;dbl&gt; |\n",
       "|---|---|---|---|\n",
       "| L2 | 1.000000 | 1.0000000 | 1.0000000 |\n",
       "| L1 | 0.517289 | 0.8743678 | 0.9158703 |\n",
       "\n",
       "\n",
       "$cs_index\n",
       ":   1. 2\n",
       "2. 1\n",
       "\n",
       "\n",
       "\n",
       "$coverage\n",
       ":   1. 0.99982345895947\n",
       "2. 0.952404257634227\n",
       "\n",
       "\n",
       "\n",
       "$requested_coverage\n",
       ":   0.95\n",
       "\n",
       "\n"
      ],
      "text/plain": [
       "$cs\n",
       "$cs$L2\n",
       "[1] 7797\n",
       "\n",
       "$cs$L1\n",
       " [1] 6918 6921 6929 7019 7030 7042 7044 7046 7049 7073 7081 7168 7511\n",
       "\n",
       "\n",
       "$purity\n",
       "   min.abs.corr mean.abs.corr median.abs.corr\n",
       "L2     1.000000     1.0000000       1.0000000\n",
       "L1     0.517289     0.8743678       0.9158703\n",
       "\n",
       "$cs_index\n",
       "[1] 2 1\n",
       "\n",
       "$coverage\n",
       "[1] 0.9998235 0.9524043\n",
       "\n",
       "$requested_coverage\n",
       "[1] 0.95\n"
      ]
     },
     "metadata": {},
     "output_type": "display_data"
    }
   ],
   "source": [
    "model$m_ENSG00000153814$sets"
   ]
  },
  {
   "cell_type": "code",
   "execution_count": 9,
   "metadata": {},
   "outputs": [],
   "source": [
    "b = model$m_ENSG00000153814$sets$cs%>%unlist()"
   ]
  },
  {
   "cell_type": "code",
   "execution_count": 19,
   "metadata": {},
   "outputs": [
    {
     "name": "stderr",
     "output_type": "stream",
     "text": [
      "\n",
      "Attaching package: ‘dplyr’\n",
      "\n",
      "\n",
      "The following objects are masked from ‘package:stats’:\n",
      "\n",
      "    filter, lag\n",
      "\n",
      "\n",
      "The following objects are masked from ‘package:base’:\n",
      "\n",
      "    intersect, setdiff, setequal, union\n",
      "\n",
      "\n"
     ]
    },
    {
     "ename": "ERROR",
     "evalue": "Error in library(\"plink2R\"): there is no package called ‘plink2R’\n",
     "output_type": "error",
     "traceback": [
      "Error in library(\"plink2R\"): there is no package called ‘plink2R’\nTraceback:\n",
      "1. library(\"plink2R\")"
     ]
    }
   ],
   "source": []
  },
  {
   "cell_type": "code",
   "execution_count": 31,
   "metadata": {},
   "outputs": [
    {
     "data": {
      "text/html": [
       "<style>\n",
       ".list-inline {list-style: none; margin:0; padding: 0}\n",
       ".list-inline>li {display: inline-block}\n",
       ".list-inline>li:not(:last-child)::after {content: \"\\00b7\"; padding: 0 .5ex}\n",
       "</style>\n",
       "<ol class=list-inline><li>0.357142857142857</li><li>1.35714285714286</li><li>2.35714285714286</li><li>3.35714285714286</li><li>7.07142857142857</li></ol>\n"
      ],
      "text/latex": [
       "\\begin{enumerate*}\n",
       "\\item 0.357142857142857\n",
       "\\item 1.35714285714286\n",
       "\\item 2.35714285714286\n",
       "\\item 3.35714285714286\n",
       "\\item 7.07142857142857\n",
       "\\end{enumerate*}\n"
      ],
      "text/markdown": [
       "1. 0.357142857142857\n",
       "2. 1.35714285714286\n",
       "3. 2.35714285714286\n",
       "4. 3.35714285714286\n",
       "5. 7.07142857142857\n",
       "\n",
       "\n"
      ],
      "text/plain": [
       "[1] 0.3571429 1.3571429 2.3571429 3.3571429 7.0714286"
      ]
     },
     "metadata": {},
     "output_type": "display_data"
    }
   ],
   "source": [
    "b = model$m_ENSG00000153814$sets$cs%>%unlist()\n",
    "colMax <- function(data) sapply(data, max, na.rm = TRUE)\n",
    "abs = abs(model$m_ENSG00000153814$coef)\n",
    "max = colMax(abs%>%as_tibble)\n",
    "max_id = which(abs[b+1,] %in% max)\n",
    "max_id/14\n"
   ]
  },
  {
   "cell_type": "code",
   "execution_count": 34,
   "metadata": {},
   "outputs": [
    {
     "data": {
      "text/plain": [
       "\n",
       "Call:\n",
       "lm(formula = c(1, 2, NA, NA) ~ c(1, 2, 4, 3))\n",
       "\n",
       "Residuals:\n",
       "ALL 2 residuals are 0: no residual degrees of freedom!\n",
       "\n",
       "Coefficients:\n",
       "              Estimate Std. Error t value Pr(>|t|)\n",
       "(Intercept)          0         NA      NA       NA\n",
       "c(1, 2, 4, 3)        1         NA      NA       NA\n",
       "\n",
       "Residual standard error: NaN on 0 degrees of freedom\n",
       "  (2 observations deleted due to missingness)\n",
       "Multiple R-squared:      1,\tAdjusted R-squared:    NaN \n",
       "F-statistic:   NaN on 1 and 0 DF,  p-value: NA\n"
      ]
     },
     "metadata": {},
     "output_type": "display_data"
    }
   ],
   "source": []
  },
  {
   "cell_type": "code",
   "execution_count": 12,
   "metadata": {},
   "outputs": [],
   "source": [
    "\n",
    "\n",
    "#molc_pheno\n",
    "a = c(\n",
    "'./Artery_Tibial/'\n",
    ",'./Liver/'\n",
    ",'./Lung/'\n",
    ",'./Muscle_Skeletal/'\n",
    ",'./Spleen/'\n",
    ",'./Stomach/'\n",
    ",'./Thyroid/'\n",
    ",'./Whole_Blood/'\n",
    "\n",
    ")\n",
    "\n",
    "tibble( `#molc_pheno` = a )%>%write_delim(\"/mnt/mfs/statgen/neuro-twas/JAZF1/mole_pheno_ls_ft\" , \"\\t\")\n"
   ]
  },
  {
   "cell_type": "code",
   "execution_count": null,
   "metadata": {},
   "outputs": [],
   "source": [
    "library(\"dplyr\")\n",
    "library(\"plink2R\")\n",
    "library(\"tibble\")\n",
    "library(\"readr\")\n",
    "library(\"purrr\")\n",
    "#Load the input\n",
    "genos = read_plink('/mnt/mfs/statgen/neuro-twas/JAZF1/cache/GTEx_V8.ENSG00000153814.merged')\n",
    "molecular_pheno = read_delim('/mnt/mfs/statgen/neuro-twas/JAZF1/mole_pheno_ls_ft',delim = '\\t')\n",
    "full_model = attach('/mnt/mfs/statgen/neuro-twas/JAZF1/result/GTEx_V8.ENSG00000153814.mv_susie.model.RData')$m_ENSG00000153814\n",
    "X_dat = attach('/mnt/mfs/statgen/neuro-twas/JAZF1/result/GTEx_V8.ENSG00000153814.transformed_XY.RData')$scaled_ENSG00000153814\n",
    "X_snps = colnames(X_dat[[1]])\n",
    "#Get all the components\n",
    "pval = NA\n",
    "rsq = NA\n",
    "hsq.pv = NA\n",
    "N.tot = nrow(genos$bed)\n",
    "cv.performance_tol = rbind(\n",
    "rsq = rsq, \n",
    "pval = pval\n",
    ")\n",
    "## Filter out the snps that are not in the bim for consistancy\n",
    "snps = genos$bim%>%filter(V2 %in% X_snps )\n",
    "\n",
    "# Create output for each tissue saperately\n",
    "\n",
    "for(i in 1:nrow(molecular_pheno) ){\n",
    "wgt.matrix = full_model$coef[2:nrow(full_model$coef),i]%>%as.matrix()\n",
    "hsq = full_model$hsq[i]\n",
    "dir = \"/mnt/mfs/statgen/neuro-twas/JAZF1/wgt/\"\n",
    "tis = read.table(text = molecular_pheno[[i,2]], sep = \"/\", as.is = TRUE)\n",
    "tis = tis[[length(tis)]]\n",
    "sur = \"/GTEx_V8.ENSG00000153814.mv.wgt.RDat\"\n",
    "out = paste(collapse = \"\",c(dir,tis,sur))\n",
    "cv.performance = cv.performance_tol\n",
    "colnames(cv.performance) = \"mv_susie\"\n",
    "# make the folders\n",
    "cmd0 = paste(c(\"mkdir \",dir),collapse = \"\")\n",
    "system(cmd0,ignore.stdout=TRUE,ignore.stderr=TRUE)\n",
    "cmd1 = paste(c(\"mkdir \",dir,tis),collapse = \"\")\n",
    "system(cmd1,ignore.stdout=TRUE,ignore.stderr=TRUE)\n",
    "# save the files\n",
    "save(\n",
    "wgt.matrix,\n",
    "snps,\n",
    "cv.performance,\n",
    "hsq, hsq.pv, N.tot,\n",
    "file = out\n",
    ")    }\n"
   ]
  },
  {
   "cell_type": "code",
   "execution_count": 4,
   "metadata": {},
   "outputs": [],
   "source": [
    "library(\"dplyr\")\n",
    "library(\"tibble\")\n",
    "library(\"readr\")\n",
    "library(\"purrr\")"
   ]
  },
  {
   "cell_type": "code",
   "execution_count": 5,
   "metadata": {},
   "outputs": [
    {
     "name": "stderr",
     "output_type": "stream",
     "text": [
      "\n",
      "\u001b[36m──\u001b[39m \u001b[1m\u001b[1mColumn specification\u001b[1m\u001b[22m \u001b[36m────────────────────────────────────────────────────────\u001b[39m\n",
      "cols(\n",
      "  `#molc_pheno` = \u001b[31mcol_character()\u001b[39m\n",
      ")\n",
      "\n",
      "\n"
     ]
    }
   ],
   "source": [
    "molecular_pheno = read_delim('/mnt/mfs/statgen/neuro-twas/JAZF1/mole_pheno_ls_ft',delim = '\\t')\n",
    "full_model = attach('/mnt/mfs/statgen/neuro-twas/JAZF1/result/GTEx_V8.ENSG00000153814.mv_susie.model.RData')$m_ENSG00000153814\n",
    "X_dat = attach('/mnt/mfs/statgen/neuro-twas/JAZF1/result/GTEx_V8.ENSG00000153814.transformed_XY.RData')$scaled_ENSG00000153814\n",
    "X_snps = colnames(X_dat[[1]])"
   ]
  },
  {
   "cell_type": "code",
   "execution_count": 7,
   "metadata": {},
   "outputs": [
    {
     "name": "stderr",
     "output_type": "stream",
     "text": [
      "\n",
      "\u001b[36m──\u001b[39m \u001b[1m\u001b[1mColumn specification\u001b[1m\u001b[22m \u001b[36m────────────────────────────────────────────────────────\u001b[39m\n",
      "cols(\n",
      "  X1 = \u001b[31mcol_character()\u001b[39m\n",
      ")\n",
      "\n",
      "\n"
     ]
    }
   ],
   "source": [
    "snps = read_delim('/mnt/mfs/statgen/neuro-twas/JAZF1/JAZF1_SNP',delim = \"\\t\",col_names = F)"
   ]
  },
  {
   "cell_type": "code",
   "execution_count": 9,
   "metadata": {},
   "outputs": [],
   "source": [
    "pval = NA\n",
    "rsq = NA\n",
    "hsq.pv = NA\n",
    "N.tot = nrow(snps)\n",
    "cv.performance_tol = rbind(\n",
    "rsq = rsq, \n",
    "pval = pval\n",
    ")"
   ]
  },
  {
   "cell_type": "code",
   "execution_count": 12,
   "metadata": {},
   "outputs": [],
   "source": [
    "for(i in 1:nrow(molecular_pheno) ){\n",
    "wgt.matrix = full_model$coef[2:nrow(full_model$coef),i]%>%as.matrix()\n",
    "hsq = full_model$hsq[i]\n",
    "dir = \"/mnt/mfs/statgen/neuro-twas/JAZF1/wgt/\"\n",
    "tis = read.table(text = molecular_pheno[[i,1]], sep = \"/\", as.is = TRUE)\n",
    "tis = tis[[length(tis)]]\n",
    "sur = \"/GTEx_V8.ENSG00000153814.mv.wgt.RDat\"\n",
    "out = paste(collapse = \"\",c(dir,tis,sur))\n",
    "cv.performance = cv.performance_tol\n",
    "colnames(cv.performance) = \"mv_susie\"\n",
    "# make the folders\n",
    "cmd0 = paste(c(\"mkdir \",dir),collapse = \"\")\n",
    "system(cmd0,ignore.stdout=TRUE,ignore.stderr=TRUE)\n",
    "cmd1 = paste(c(\"mkdir \",dir,tis),collapse = \"\")\n",
    "system(cmd1,ignore.stdout=TRUE,ignore.stderr=TRUE)\n",
    "# save the files\n",
    "save(\n",
    "wgt.matrix,\n",
    "snps,\n",
    "cv.performance,\n",
    "hsq, hsq.pv, N.tot,\n",
    "file = out\n",
    ")    }"
   ]
  },
  {
   "cell_type": "code",
   "execution_count": 16,
   "metadata": {},
   "outputs": [],
   "source": [
    "tis = read.table(text = molecular_pheno[[i,1]], sep = \"/\", as.is = TRUE)"
   ]
  },
  {
   "cell_type": "code",
   "execution_count": 20,
   "metadata": {},
   "outputs": [
    {
     "data": {
      "text/html": [
       "<table class=\"dataframe\">\n",
       "<caption>A data.frame: 1 × 3</caption>\n",
       "<thead>\n",
       "\t<tr><th scope=col>V1</th><th scope=col>V2</th><th scope=col>V3</th></tr>\n",
       "\t<tr><th scope=col>&lt;chr&gt;</th><th scope=col>&lt;chr&gt;</th><th scope=col>&lt;lgl&gt;</th></tr>\n",
       "</thead>\n",
       "<tbody>\n",
       "\t<tr><td>.</td><td>Whole_Blood</td><td>NA</td></tr>\n",
       "</tbody>\n",
       "</table>\n"
      ],
      "text/latex": [
       "A data.frame: 1 × 3\n",
       "\\begin{tabular}{lll}\n",
       " V1 & V2 & V3\\\\\n",
       " <chr> & <chr> & <lgl>\\\\\n",
       "\\hline\n",
       "\t . & Whole\\_Blood & NA\\\\\n",
       "\\end{tabular}\n"
      ],
      "text/markdown": [
       "\n",
       "A data.frame: 1 × 3\n",
       "\n",
       "| V1 &lt;chr&gt; | V2 &lt;chr&gt; | V3 &lt;lgl&gt; |\n",
       "|---|---|---|\n",
       "| . | Whole_Blood | NA |\n",
       "\n"
      ],
      "text/plain": [
       "  V1 V2          V3\n",
       "1 .  Whole_Blood NA"
      ]
     },
     "metadata": {},
     "output_type": "display_data"
    }
   ],
   "source": [
    "tis"
   ]
  },
  {
   "cell_type": "markdown",
   "metadata": {},
   "source": [
    "## Performance analysis"
   ]
  },
  {
   "cell_type": "code",
   "execution_count": 42,
   "metadata": {},
   "outputs": [
    {
     "name": "stderr",
     "output_type": "stream",
     "text": [
      "The following object is masked from file:/mnt/mfs//statgen/neuro-twas/JAZF1_teem/result/GTEx_V8.ENSG00000153814.mv_susie.model.cv.RData:\n",
      "\n",
      "    full_model\n",
      "\n",
      "\n"
     ]
    }
   ],
   "source": [
    "teem = attach(\"/mnt/mfs//statgen/neuro-twas/JAZF1_teem/result/GTEx_V8.ENSG00000153814.mv_susie.model.cv.RData\")\n",
    "five_tissue_ed = attach(\"/mnt/mfs//statgen/neuro-twas/JAZF1_4ted//result/GTEx_V8.ENSG00000153814.mv_susie.model.cv.RData\")"
   ]
  },
  {
   "cell_type": "code",
   "execution_count": 46,
   "metadata": {},
   "outputs": [
    {
     "data": {
      "text/html": [
       "<style>\n",
       ".dl-inline {width: auto; margin:0; padding: 0}\n",
       ".dl-inline>dt, .dl-inline>dd {float: none; width: auto; display: inline-block}\n",
       ".dl-inline>dt::after {content: \":\\0020\"; padding-right: .5ex}\n",
       ".dl-inline>dt:not(:first-of-type) {padding-left: .5ex}\n",
       "</style><dl class=dl-inline><dt>V1</dt><dd>0.398817393800847</dd><dt>V2</dt><dd>0.233017884638369</dd><dt>V3</dt><dd>0.324328143694747</dd><dt>V4</dt><dd>0.137181526223216</dd><dt>V5</dt><dd>0.255013379375564</dd><dt>V6</dt><dd>0.428594042614601</dd><dt>V7</dt><dd>0.429347443500857</dd><dt>V8</dt><dd>0.189749709364212</dd></dl>\n"
      ],
      "text/latex": [
       "\\begin{description*}\n",
       "\\item[V1] 0.398817393800847\n",
       "\\item[V2] 0.233017884638369\n",
       "\\item[V3] 0.324328143694747\n",
       "\\item[V4] 0.137181526223216\n",
       "\\item[V5] 0.255013379375564\n",
       "\\item[V6] 0.428594042614601\n",
       "\\item[V7] 0.429347443500857\n",
       "\\item[V8] 0.189749709364212\n",
       "\\end{description*}\n"
      ],
      "text/markdown": [
       "V1\n",
       ":   0.398817393800847V2\n",
       ":   0.233017884638369V3\n",
       ":   0.324328143694747V4\n",
       ":   0.137181526223216V5\n",
       ":   0.255013379375564V6\n",
       ":   0.428594042614601V7\n",
       ":   0.429347443500857V8\n",
       ":   0.189749709364212\n",
       "\n"
      ],
      "text/plain": [
       "       V1        V2        V3        V4        V5        V6        V7        V8 \n",
       "0.3988174 0.2330179 0.3243281 0.1371815 0.2550134 0.4285940 0.4293474 0.1897497 "
      ]
     },
     "metadata": {},
     "output_type": "display_data"
    },
    {
     "data": {
      "text/html": [
       "<style>\n",
       ".dl-inline {width: auto; margin:0; padding: 0}\n",
       ".dl-inline>dt, .dl-inline>dd {float: none; width: auto; display: inline-block}\n",
       ".dl-inline>dt::after {content: \":\\0020\"; padding-right: .5ex}\n",
       ".dl-inline>dt:not(:first-of-type) {padding-left: .5ex}\n",
       "</style><dl class=dl-inline><dt>V1</dt><dd>0.33742889782333</dd><dt>V2</dt><dd>0.282917769797976</dd><dt>V3</dt><dd>0.345545663559725</dd><dt>V4</dt><dd>0.143628590459141</dd><dt>V5</dt><dd>0.184661250978711</dd></dl>\n"
      ],
      "text/latex": [
       "\\begin{description*}\n",
       "\\item[V1] 0.33742889782333\n",
       "\\item[V2] 0.282917769797976\n",
       "\\item[V3] 0.345545663559725\n",
       "\\item[V4] 0.143628590459141\n",
       "\\item[V5] 0.184661250978711\n",
       "\\end{description*}\n"
      ],
      "text/markdown": [
       "V1\n",
       ":   0.33742889782333V2\n",
       ":   0.282917769797976V3\n",
       ":   0.345545663559725V4\n",
       ":   0.143628590459141V5\n",
       ":   0.184661250978711\n",
       "\n"
      ],
      "text/plain": [
       "       V1        V2        V3        V4        V5 \n",
       "0.3374289 0.2829178 0.3455457 0.1436286 0.1846613 "
      ]
     },
     "metadata": {},
     "output_type": "display_data"
    }
   ],
   "source": [
    "teem$full_model$pval\n",
    "five_tissue_ed = five_tissue_ed$full_model$pval\n",
    "five_tissue_ed = c(five_tissue_ed[1:4],NA,NA,NA,five_tissue_ed[5])"
   ]
  },
  {
   "cell_type": "code",
   "execution_count": 56,
   "metadata": {},
   "outputs": [
    {
     "data": {
      "text/html": [
       "<table class=\"dataframe\">\n",
       "<caption>A tibble: 8 × 5</caption>\n",
       "<thead>\n",
       "\t<tr><th scope=col>tissue</th><th scope=col>ed</th><th scope=col>default</th><th scope=col>teem</th><th scope=col>five_tissue_ed</th></tr>\n",
       "\t<tr><th scope=col>&lt;chr&gt;</th><th scope=col>&lt;dbl&gt;</th><th scope=col>&lt;dbl&gt;</th><th scope=col>&lt;dbl&gt;</th><th scope=col>&lt;dbl&gt;</th></tr>\n",
       "</thead>\n",
       "<tbody>\n",
       "\t<tr><td>Artery_Tibial  </td><td>0.34</td><td>0.3419</td><td>0.3988174</td><td>0.3374289</td></tr>\n",
       "\t<tr><td>Liver          </td><td>0.25</td><td>0.1974</td><td>0.2330179</td><td>0.2829178</td></tr>\n",
       "\t<tr><td>Lung           </td><td>0.35</td><td>0.3113</td><td>0.3243281</td><td>0.3455457</td></tr>\n",
       "\t<tr><td>Muscle_Skeletal</td><td>0.13</td><td>0.0889</td><td>0.1371815</td><td>0.1436286</td></tr>\n",
       "\t<tr><td>Spleen         </td><td>0.33</td><td>0.3209</td><td>0.2550134</td><td>       NA</td></tr>\n",
       "\t<tr><td>Stomach        </td><td>0.42</td><td>0.5413</td><td>0.4285940</td><td>       NA</td></tr>\n",
       "\t<tr><td>Thyroid        </td><td>0.49</td><td>0.5242</td><td>0.4293474</td><td>       NA</td></tr>\n",
       "\t<tr><td>Whole_Blood    </td><td>0.20</td><td>0.1541</td><td>0.1897497</td><td>0.1846613</td></tr>\n",
       "</tbody>\n",
       "</table>\n"
      ],
      "text/latex": [
       "A tibble: 8 × 5\n",
       "\\begin{tabular}{lllll}\n",
       " tissue & ed & default & teem & five\\_tissue\\_ed\\\\\n",
       " <chr> & <dbl> & <dbl> & <dbl> & <dbl>\\\\\n",
       "\\hline\n",
       "\t Artery\\_Tibial   & 0.34 & 0.3419 & 0.3988174 & 0.3374289\\\\\n",
       "\t Liver           & 0.25 & 0.1974 & 0.2330179 & 0.2829178\\\\\n",
       "\t Lung            & 0.35 & 0.3113 & 0.3243281 & 0.3455457\\\\\n",
       "\t Muscle\\_Skeletal & 0.13 & 0.0889 & 0.1371815 & 0.1436286\\\\\n",
       "\t Spleen          & 0.33 & 0.3209 & 0.2550134 &        NA\\\\\n",
       "\t Stomach         & 0.42 & 0.5413 & 0.4285940 &        NA\\\\\n",
       "\t Thyroid         & 0.49 & 0.5242 & 0.4293474 &        NA\\\\\n",
       "\t Whole\\_Blood     & 0.20 & 0.1541 & 0.1897497 & 0.1846613\\\\\n",
       "\\end{tabular}\n"
      ],
      "text/markdown": [
       "\n",
       "A tibble: 8 × 5\n",
       "\n",
       "| tissue &lt;chr&gt; | ed &lt;dbl&gt; | default &lt;dbl&gt; | teem &lt;dbl&gt; | five_tissue_ed &lt;dbl&gt; |\n",
       "|---|---|---|---|---|\n",
       "| Artery_Tibial   | 0.34 | 0.3419 | 0.3988174 | 0.3374289 |\n",
       "| Liver           | 0.25 | 0.1974 | 0.2330179 | 0.2829178 |\n",
       "| Lung            | 0.35 | 0.3113 | 0.3243281 | 0.3455457 |\n",
       "| Muscle_Skeletal | 0.13 | 0.0889 | 0.1371815 | 0.1436286 |\n",
       "| Spleen          | 0.33 | 0.3209 | 0.2550134 |        NA |\n",
       "| Stomach         | 0.42 | 0.5413 | 0.4285940 |        NA |\n",
       "| Thyroid         | 0.49 | 0.5242 | 0.4293474 |        NA |\n",
       "| Whole_Blood     | 0.20 | 0.1541 | 0.1897497 | 0.1846613 |\n",
       "\n"
      ],
      "text/plain": [
       "  tissue          ed   default teem      five_tissue_ed\n",
       "1 Artery_Tibial   0.34 0.3419  0.3988174 0.3374289     \n",
       "2 Liver           0.25 0.1974  0.2330179 0.2829178     \n",
       "3 Lung            0.35 0.3113  0.3243281 0.3455457     \n",
       "4 Muscle_Skeletal 0.13 0.0889  0.1371815 0.1436286     \n",
       "5 Spleen          0.33 0.3209  0.2550134        NA     \n",
       "6 Stomach         0.42 0.5413  0.4285940        NA     \n",
       "7 Thyroid         0.49 0.5242  0.4293474        NA     \n",
       "8 Whole_Blood     0.20 0.1541  0.1897497 0.1846613     "
      ]
     },
     "metadata": {},
     "output_type": "display_data"
    }
   ],
   "source": [
    "tibble(tissue = result_mv$tissue[1:8], ed = result_mv$MODELCV.PV[1:8], default = c(0.3419,0.1974,0.3113,0.0889,0.3209,0.5413,0.5242,0.1541), teem = teem$full_model$pval , five_tissue_ed = five_tissue_ed )"
   ]
  },
  {
   "cell_type": "markdown",
   "metadata": {},
   "source": [
    "## Strongest signal"
   ]
  },
  {
   "cell_type": "markdown",
   "metadata": {},
   "source": [
    "### Rare variants"
   ]
  },
  {
   "cell_type": "code",
   "execution_count": 58,
   "metadata": {},
   "outputs": [
    {
     "name": "stderr",
     "output_type": "stream",
     "text": [
      "The following object is masked from file:/mnt/mfs/statgen/neuro-twas/JAZF1_rare/result/GTEx_V8.ENSG00000153814.mv_susie.model.RData (pos = 12):\n",
      "\n",
      "    m_ENSG00000153814\n",
      "\n",
      "\n"
     ]
    }
   ],
   "source": [
    "model_rare = attach(\"/mnt/mfs/statgen/neuro-twas/JAZF1_rare/result/GTEx_V8.ENSG00000153814.mv_susie.model.RData\")"
   ]
  },
  {
   "cell_type": "code",
   "execution_count": 69,
   "metadata": {},
   "outputs": [
    {
     "data": {
      "text/html": [
       "<style>\n",
       ".list-inline {list-style: none; margin:0; padding: 0}\n",
       ".list-inline>li {display: inline-block}\n",
       ".list-inline>li:not(:last-child)::after {content: \"\\00b7\"; padding: 0 .5ex}\n",
       "</style>\n",
       "<ol class=list-inline><li>0.357142857142857</li><li>1.35714285714286</li><li>2.35714285714286</li><li>3.35714285714286</li><li>7.07142857142857</li></ol>\n"
      ],
      "text/latex": [
       "\\begin{enumerate*}\n",
       "\\item 0.357142857142857\n",
       "\\item 1.35714285714286\n",
       "\\item 2.35714285714286\n",
       "\\item 3.35714285714286\n",
       "\\item 7.07142857142857\n",
       "\\end{enumerate*}\n"
      ],
      "text/markdown": [
       "1. 0.357142857142857\n",
       "2. 1.35714285714286\n",
       "3. 2.35714285714286\n",
       "4. 3.35714285714286\n",
       "5. 7.07142857142857\n",
       "\n",
       "\n"
      ],
      "text/plain": [
       "[1] 0.3571429 1.3571429 2.3571429 3.3571429 7.0714286"
      ]
     },
     "metadata": {},
     "output_type": "display_data"
    }
   ],
   "source": [
    "b = model_rare$m_ENSG00000153814$sets$cs%>%unlist()\n",
    "colMax <- function(data) sapply(data, max, na.rm = TRUE)\n",
    "abs = abs(model_rare$m_ENSG00000153814$coef)\n",
    "max = colMax(abs%>%as_tibble)\n",
    "max_id = which(abs[b+1,] %in% max)\n",
    "max_id/14%>%ceiling()%>%round()"
   ]
  },
  {
   "cell_type": "code",
   "execution_count": 70,
   "metadata": {},
   "outputs": [
    {
     "data": {
      "text/html": [
       "<table class=\"dataframe\">\n",
       "<caption>A matrix: 14 × 8 of type dbl</caption>\n",
       "<tbody>\n",
       "\t<tr><td>0.0032497581</td><td>0.003528059</td><td>0.0304910579</td><td>0.004318398</td><td>0.047514093</td><td>0.0011112697</td><td>1.025125e-03</td><td>0.2727287794</td></tr>\n",
       "\t<tr><td>0.0005343570</td><td>0.006508202</td><td>0.0020515634</td><td>0.003398921</td><td>0.003242896</td><td>0.0009654691</td><td>9.024378e-04</td><td>0.0007443365</td></tr>\n",
       "\t<tr><td>0.0002413677</td><td>0.002493939</td><td>0.0007467614</td><td>0.001279077</td><td>0.001239504</td><td>0.0003497937</td><td>3.416384e-04</td><td>0.0002939020</td></tr>\n",
       "\t<tr><td>0.0005343570</td><td>0.006508202</td><td>0.0020515634</td><td>0.003398921</td><td>0.003242896</td><td>0.0009654691</td><td>9.024378e-04</td><td>0.0007443365</td></tr>\n",
       "\t<tr><td>0.0171860914</td><td>0.098184672</td><td>0.0332418128</td><td>0.052222620</td><td>0.050801854</td><td>0.0198823372</td><td>3.466986e-03</td><td>0.0127539628</td></tr>\n",
       "\t<tr><td>0.0002039093</td><td>0.002612604</td><td>0.0007916902</td><td>0.001326286</td><td>0.001524547</td><td>0.0004777607</td><td>2.047947e-04</td><td>0.0002986442</td></tr>\n",
       "\t<tr><td>0.0120396931</td><td>0.071431091</td><td>0.0240707209</td><td>0.037966447</td><td>0.036896643</td><td>0.0143646629</td><td>2.285306e-03</td><td>0.0092309060</td></tr>\n",
       "\t<tr><td>0.0001624735</td><td>0.002269385</td><td>0.0006990208</td><td>0.001164934</td><td>0.001287921</td><td>0.0004131100</td><td>1.725881e-04</td><td>0.0002418058</td></tr>\n",
       "\t<tr><td>0.0120396931</td><td>0.071431091</td><td>0.0240707209</td><td>0.037966447</td><td>0.036896643</td><td>0.0143646629</td><td>2.285306e-03</td><td>0.0092309060</td></tr>\n",
       "\t<tr><td>0.0120396931</td><td>0.071431091</td><td>0.0240707209</td><td>0.037966447</td><td>0.036896643</td><td>0.0143646629</td><td>2.285306e-03</td><td>0.0092309060</td></tr>\n",
       "\t<tr><td>0.0001469419</td><td>0.002438609</td><td>0.0007136996</td><td>0.001227474</td><td>0.001279414</td><td>0.0004964229</td><td>2.985336e-04</td><td>0.0002915051</td></tr>\n",
       "\t<tr><td>0.0002492761</td><td>0.004105228</td><td>0.0012090838</td><td>0.002095839</td><td>0.002157680</td><td>0.0008364442</td><td>5.327989e-04</td><td>0.0004988132</td></tr>\n",
       "\t<tr><td>0.0008695983</td><td>0.001804669</td><td>0.0007291813</td><td>0.001706391</td><td>0.001342615</td><td>0.0005583835</td><td>6.377065e-05</td><td>0.0001756551</td></tr>\n",
       "\t<tr><td>0.0028256224</td><td>0.016998937</td><td>0.0065231924</td><td>0.008307160</td><td>0.006399531</td><td>0.0041763300</td><td>7.644514e-04</td><td>0.0013315802</td></tr>\n",
       "</tbody>\n",
       "</table>\n"
      ],
      "text/latex": [
       "A matrix: 14 × 8 of type dbl\n",
       "\\begin{tabular}{llllllll}\n",
       "\t 0.0032497581 & 0.003528059 & 0.0304910579 & 0.004318398 & 0.047514093 & 0.0011112697 & 1.025125e-03 & 0.2727287794\\\\\n",
       "\t 0.0005343570 & 0.006508202 & 0.0020515634 & 0.003398921 & 0.003242896 & 0.0009654691 & 9.024378e-04 & 0.0007443365\\\\\n",
       "\t 0.0002413677 & 0.002493939 & 0.0007467614 & 0.001279077 & 0.001239504 & 0.0003497937 & 3.416384e-04 & 0.0002939020\\\\\n",
       "\t 0.0005343570 & 0.006508202 & 0.0020515634 & 0.003398921 & 0.003242896 & 0.0009654691 & 9.024378e-04 & 0.0007443365\\\\\n",
       "\t 0.0171860914 & 0.098184672 & 0.0332418128 & 0.052222620 & 0.050801854 & 0.0198823372 & 3.466986e-03 & 0.0127539628\\\\\n",
       "\t 0.0002039093 & 0.002612604 & 0.0007916902 & 0.001326286 & 0.001524547 & 0.0004777607 & 2.047947e-04 & 0.0002986442\\\\\n",
       "\t 0.0120396931 & 0.071431091 & 0.0240707209 & 0.037966447 & 0.036896643 & 0.0143646629 & 2.285306e-03 & 0.0092309060\\\\\n",
       "\t 0.0001624735 & 0.002269385 & 0.0006990208 & 0.001164934 & 0.001287921 & 0.0004131100 & 1.725881e-04 & 0.0002418058\\\\\n",
       "\t 0.0120396931 & 0.071431091 & 0.0240707209 & 0.037966447 & 0.036896643 & 0.0143646629 & 2.285306e-03 & 0.0092309060\\\\\n",
       "\t 0.0120396931 & 0.071431091 & 0.0240707209 & 0.037966447 & 0.036896643 & 0.0143646629 & 2.285306e-03 & 0.0092309060\\\\\n",
       "\t 0.0001469419 & 0.002438609 & 0.0007136996 & 0.001227474 & 0.001279414 & 0.0004964229 & 2.985336e-04 & 0.0002915051\\\\\n",
       "\t 0.0002492761 & 0.004105228 & 0.0012090838 & 0.002095839 & 0.002157680 & 0.0008364442 & 5.327989e-04 & 0.0004988132\\\\\n",
       "\t 0.0008695983 & 0.001804669 & 0.0007291813 & 0.001706391 & 0.001342615 & 0.0005583835 & 6.377065e-05 & 0.0001756551\\\\\n",
       "\t 0.0028256224 & 0.016998937 & 0.0065231924 & 0.008307160 & 0.006399531 & 0.0041763300 & 7.644514e-04 & 0.0013315802\\\\\n",
       "\\end{tabular}\n"
      ],
      "text/markdown": [
       "\n",
       "A matrix: 14 × 8 of type dbl\n",
       "\n",
       "| 0.0032497581 | 0.003528059 | 0.0304910579 | 0.004318398 | 0.047514093 | 0.0011112697 | 1.025125e-03 | 0.2727287794 |\n",
       "| 0.0005343570 | 0.006508202 | 0.0020515634 | 0.003398921 | 0.003242896 | 0.0009654691 | 9.024378e-04 | 0.0007443365 |\n",
       "| 0.0002413677 | 0.002493939 | 0.0007467614 | 0.001279077 | 0.001239504 | 0.0003497937 | 3.416384e-04 | 0.0002939020 |\n",
       "| 0.0005343570 | 0.006508202 | 0.0020515634 | 0.003398921 | 0.003242896 | 0.0009654691 | 9.024378e-04 | 0.0007443365 |\n",
       "| 0.0171860914 | 0.098184672 | 0.0332418128 | 0.052222620 | 0.050801854 | 0.0198823372 | 3.466986e-03 | 0.0127539628 |\n",
       "| 0.0002039093 | 0.002612604 | 0.0007916902 | 0.001326286 | 0.001524547 | 0.0004777607 | 2.047947e-04 | 0.0002986442 |\n",
       "| 0.0120396931 | 0.071431091 | 0.0240707209 | 0.037966447 | 0.036896643 | 0.0143646629 | 2.285306e-03 | 0.0092309060 |\n",
       "| 0.0001624735 | 0.002269385 | 0.0006990208 | 0.001164934 | 0.001287921 | 0.0004131100 | 1.725881e-04 | 0.0002418058 |\n",
       "| 0.0120396931 | 0.071431091 | 0.0240707209 | 0.037966447 | 0.036896643 | 0.0143646629 | 2.285306e-03 | 0.0092309060 |\n",
       "| 0.0120396931 | 0.071431091 | 0.0240707209 | 0.037966447 | 0.036896643 | 0.0143646629 | 2.285306e-03 | 0.0092309060 |\n",
       "| 0.0001469419 | 0.002438609 | 0.0007136996 | 0.001227474 | 0.001279414 | 0.0004964229 | 2.985336e-04 | 0.0002915051 |\n",
       "| 0.0002492761 | 0.004105228 | 0.0012090838 | 0.002095839 | 0.002157680 | 0.0008364442 | 5.327989e-04 | 0.0004988132 |\n",
       "| 0.0008695983 | 0.001804669 | 0.0007291813 | 0.001706391 | 0.001342615 | 0.0005583835 | 6.377065e-05 | 0.0001756551 |\n",
       "| 0.0028256224 | 0.016998937 | 0.0065231924 | 0.008307160 | 0.006399531 | 0.0041763300 | 7.644514e-04 | 0.0013315802 |\n",
       "\n"
      ],
      "text/plain": [
       "      [,1]         [,2]        [,3]         [,4]        [,5]       \n",
       " [1,] 0.0032497581 0.003528059 0.0304910579 0.004318398 0.047514093\n",
       " [2,] 0.0005343570 0.006508202 0.0020515634 0.003398921 0.003242896\n",
       " [3,] 0.0002413677 0.002493939 0.0007467614 0.001279077 0.001239504\n",
       " [4,] 0.0005343570 0.006508202 0.0020515634 0.003398921 0.003242896\n",
       " [5,] 0.0171860914 0.098184672 0.0332418128 0.052222620 0.050801854\n",
       " [6,] 0.0002039093 0.002612604 0.0007916902 0.001326286 0.001524547\n",
       " [7,] 0.0120396931 0.071431091 0.0240707209 0.037966447 0.036896643\n",
       " [8,] 0.0001624735 0.002269385 0.0006990208 0.001164934 0.001287921\n",
       " [9,] 0.0120396931 0.071431091 0.0240707209 0.037966447 0.036896643\n",
       "[10,] 0.0120396931 0.071431091 0.0240707209 0.037966447 0.036896643\n",
       "[11,] 0.0001469419 0.002438609 0.0007136996 0.001227474 0.001279414\n",
       "[12,] 0.0002492761 0.004105228 0.0012090838 0.002095839 0.002157680\n",
       "[13,] 0.0008695983 0.001804669 0.0007291813 0.001706391 0.001342615\n",
       "[14,] 0.0028256224 0.016998937 0.0065231924 0.008307160 0.006399531\n",
       "      [,6]         [,7]         [,8]        \n",
       " [1,] 0.0011112697 1.025125e-03 0.2727287794\n",
       " [2,] 0.0009654691 9.024378e-04 0.0007443365\n",
       " [3,] 0.0003497937 3.416384e-04 0.0002939020\n",
       " [4,] 0.0009654691 9.024378e-04 0.0007443365\n",
       " [5,] 0.0198823372 3.466986e-03 0.0127539628\n",
       " [6,] 0.0004777607 2.047947e-04 0.0002986442\n",
       " [7,] 0.0143646629 2.285306e-03 0.0092309060\n",
       " [8,] 0.0004131100 1.725881e-04 0.0002418058\n",
       " [9,] 0.0143646629 2.285306e-03 0.0092309060\n",
       "[10,] 0.0143646629 2.285306e-03 0.0092309060\n",
       "[11,] 0.0004964229 2.985336e-04 0.0002915051\n",
       "[12,] 0.0008364442 5.327989e-04 0.0004988132\n",
       "[13,] 0.0005583835 6.377065e-05 0.0001756551\n",
       "[14,] 0.0041763300 7.644514e-04 0.0013315802"
      ]
     },
     "metadata": {},
     "output_type": "display_data"
    }
   ],
   "source": [
    "abs[b+1,]"
   ]
  },
  {
   "cell_type": "markdown",
   "metadata": {},
   "source": [
    "### Common variants"
   ]
  },
  {
   "cell_type": "code",
   "execution_count": 65,
   "metadata": {},
   "outputs": [
    {
     "name": "stderr",
     "output_type": "stream",
     "text": [
      "The following object is masked from file:/mnt/mfs/statgen/neuro-twas/JAZF1_rare/result/GTEx_V8.ENSG00000153814.mv_susie.model.RData (pos = 3):\n",
      "\n",
      "    m_ENSG00000153814\n",
      "\n",
      "\n",
      "The following object is masked from file:/mnt/mfs/statgen/neuro-twas/JAZF1_rare/result/GTEx_V8.ENSG00000153814.mv_susie.model.RData (pos = 13):\n",
      "\n",
      "    m_ENSG00000153814\n",
      "\n",
      "\n"
     ]
    }
   ],
   "source": [
    "model = attach(\"/mnt/mfs/statgen/neuro-twas/JAZF1/result/GTEx_V8.ENSG00000153814.mv_susie.model.RData\")"
   ]
  },
  {
   "cell_type": "code",
   "execution_count": 71,
   "metadata": {},
   "outputs": [
    {
     "data": {
      "text/html": [
       "<style>\n",
       ".list-inline {list-style: none; margin:0; padding: 0}\n",
       ".list-inline>li {display: inline-block}\n",
       ".list-inline>li:not(:last-child)::after {content: \"\\00b7\"; padding: 0 .5ex}\n",
       "</style>\n",
       "<ol class=list-inline><li>0.3125</li><li>1.3125</li><li>2.3125</li><li>3.3125</li><li>7.0625</li></ol>\n"
      ],
      "text/latex": [
       "\\begin{enumerate*}\n",
       "\\item 0.3125\n",
       "\\item 1.3125\n",
       "\\item 2.3125\n",
       "\\item 3.3125\n",
       "\\item 7.0625\n",
       "\\end{enumerate*}\n"
      ],
      "text/markdown": [
       "1. 0.3125\n",
       "2. 1.3125\n",
       "3. 2.3125\n",
       "4. 3.3125\n",
       "5. 7.0625\n",
       "\n",
       "\n"
      ],
      "text/plain": [
       "[1] 0.3125 1.3125 2.3125 3.3125 7.0625"
      ]
     },
     "metadata": {},
     "output_type": "display_data"
    }
   ],
   "source": [
    "b = model$m_ENSG00000153814$sets$cs%>%unlist()\n",
    "colMax <- function(data) sapply(data, max, na.rm = TRUE)\n",
    "abs = abs(model$m_ENSG00000153814$coef)\n",
    "max = colMax(abs%>%as_tibble)\n",
    "max_id = which(abs[b+1,] %in% max)\n",
    "max_id/16%>%ceiling()"
   ]
  },
  {
   "cell_type": "code",
   "execution_count": 81,
   "metadata": {},
   "outputs": [
    {
     "data": {
      "text/html": [
       "<style>\n",
       ".dl-inline {width: auto; margin:0; padding: 0}\n",
       ".dl-inline>dt, .dl-inline>dd {float: none; width: auto; display: inline-block}\n",
       ".dl-inline>dt::after {content: \":\\0020\"; padding-right: .5ex}\n",
       ".dl-inline>dt:not(:first-of-type) {padding-left: .5ex}\n",
       "</style><dl class=dl-inline><dt>V1</dt><dd>0.0139298649403066</dd><dt>V2</dt><dd>0.0960412975305976</dd><dt>V3</dt><dd>0.0356012851449407</dd><dt>V4</dt><dd>0.0372786475771656</dd><dt>V5</dt><dd>0.132069246625339</dd><dt>V6</dt><dd>0.0399430759043416</dd><dt>V7</dt><dd>0.0104473099140855</dd><dt>V8</dt><dd>0.273213085248497</dd></dl>\n"
      ],
      "text/latex": [
       "\\begin{description*}\n",
       "\\item[V1] 0.0139298649403066\n",
       "\\item[V2] 0.0960412975305976\n",
       "\\item[V3] 0.0356012851449407\n",
       "\\item[V4] 0.0372786475771656\n",
       "\\item[V5] 0.132069246625339\n",
       "\\item[V6] 0.0399430759043416\n",
       "\\item[V7] 0.0104473099140855\n",
       "\\item[V8] 0.273213085248497\n",
       "\\end{description*}\n"
      ],
      "text/markdown": [
       "V1\n",
       ":   0.0139298649403066V2\n",
       ":   0.0960412975305976V3\n",
       ":   0.0356012851449407V4\n",
       ":   0.0372786475771656V5\n",
       ":   0.132069246625339V6\n",
       ":   0.0399430759043416V7\n",
       ":   0.0104473099140855V8\n",
       ":   0.273213085248497\n",
       "\n"
      ],
      "text/plain": [
       "        V1         V2         V3         V4         V5         V6         V7 \n",
       "0.01392986 0.09604130 0.03560129 0.03727865 0.13206925 0.03994308 0.01044731 \n",
       "        V8 \n",
       "0.27321309 "
      ]
     },
     "metadata": {},
     "output_type": "display_data"
    }
   ],
   "source": [
    "max"
   ]
  },
  {
   "cell_type": "code",
   "execution_count": 73,
   "metadata": {},
   "outputs": [
    {
     "data": {
      "text/html": [
       "<table class=\"dataframe\">\n",
       "<caption>A matrix: 16 × 8 of type dbl</caption>\n",
       "<tbody>\n",
       "\t<tr><td>0.0033449811</td><td>0.003536806</td><td>0.0304651874</td><td>0.004289947</td><td>0.047553736</td><td>0.0011561946</td><td>1.129280e-03</td><td>2.726163e-01</td></tr>\n",
       "\t<tr><td>0.0005811328</td><td>0.007535368</td><td>0.0023503357</td><td>0.003911205</td><td>0.003742955</td><td>0.0011001927</td><td>1.014839e-03</td><td>8.378977e-04</td></tr>\n",
       "\t<tr><td>0.0002537522</td><td>0.002777719</td><td>0.0008214189</td><td>0.001414708</td><td>0.001375875</td><td>0.0003823060</td><td>3.682700e-04</td><td>3.176568e-04</td></tr>\n",
       "\t<tr><td>0.0005811328</td><td>0.007535368</td><td>0.0023503357</td><td>0.003911205</td><td>0.003742955</td><td>0.0011001927</td><td>1.014839e-03</td><td>8.378977e-04</td></tr>\n",
       "\t<tr><td>0.0158075337</td><td>0.093851408</td><td>0.0313429034</td><td>0.049491116</td><td>0.048357659</td><td>0.0187167296</td><td>2.756856e-03</td><td>1.175838e-02</td></tr>\n",
       "\t<tr><td>0.0002340162</td><td>0.003195166</td><td>0.0009584611</td><td>0.001611558</td><td>0.001860321</td><td>0.0005776536</td><td>2.382729e-04</td><td>3.561588e-04</td></tr>\n",
       "\t<tr><td>0.0111312011</td><td>0.068766658</td><td>0.0228543073</td><td>0.036235014</td><td>0.035371170</td><td>0.0136150935</td><td>1.788139e-03</td><td>8.567266e-03</td></tr>\n",
       "\t<tr><td>0.0001904650</td><td>0.002840859</td><td>0.0008668316</td><td>0.001449602</td><td>0.001608756</td><td>0.0005113562</td><td>2.054617e-04</td><td>2.952103e-04</td></tr>\n",
       "\t<tr><td>0.0111312011</td><td>0.068766658</td><td>0.0228543073</td><td>0.036235014</td><td>0.035371170</td><td>0.0136150935</td><td>1.788139e-03</td><td>8.567266e-03</td></tr>\n",
       "\t<tr><td>0.0111312011</td><td>0.068766658</td><td>0.0228543073</td><td>0.036235014</td><td>0.035371170</td><td>0.0136150935</td><td>1.788139e-03</td><td>8.567266e-03</td></tr>\n",
       "\t<tr><td>0.0001793232</td><td>0.003183893</td><td>0.0009247384</td><td>0.001595308</td><td>0.001667294</td><td>0.0006431769</td><td>3.806959e-04</td><td>3.743553e-04</td></tr>\n",
       "\t<tr><td>0.0003033578</td><td>0.005341086</td><td>0.0015612664</td><td>0.002714771</td><td>0.002802017</td><td>0.0010799505</td><td>6.782059e-04</td><td>6.385899e-04</td></tr>\n",
       "\t<tr><td>0.0010897652</td><td>0.002287085</td><td>0.0009162433</td><td>0.002154771</td><td>0.001698936</td><td>0.0007032868</td><td>6.915129e-05</td><td>2.145590e-04</td></tr>\n",
       "\t<tr><td>0.0006820796</td><td>0.001283558</td><td>0.0005047795</td><td>0.001169199</td><td>0.000927595</td><td>0.0003914026</td><td>3.286132e-05</td><td>9.337986e-05</td></tr>\n",
       "\t<tr><td>0.0006820796</td><td>0.001283558</td><td>0.0005047795</td><td>0.001169199</td><td>0.000927595</td><td>0.0003914026</td><td>3.286132e-05</td><td>9.337986e-05</td></tr>\n",
       "\t<tr><td>0.0029660927</td><td>0.018465556</td><td>0.0070246288</td><td>0.008956229</td><td>0.006915005</td><td>0.0044970452</td><td>7.436943e-04</td><td>1.375632e-03</td></tr>\n",
       "</tbody>\n",
       "</table>\n"
      ],
      "text/latex": [
       "A matrix: 16 × 8 of type dbl\n",
       "\\begin{tabular}{llllllll}\n",
       "\t 0.0033449811 & 0.003536806 & 0.0304651874 & 0.004289947 & 0.047553736 & 0.0011561946 & 1.129280e-03 & 2.726163e-01\\\\\n",
       "\t 0.0005811328 & 0.007535368 & 0.0023503357 & 0.003911205 & 0.003742955 & 0.0011001927 & 1.014839e-03 & 8.378977e-04\\\\\n",
       "\t 0.0002537522 & 0.002777719 & 0.0008214189 & 0.001414708 & 0.001375875 & 0.0003823060 & 3.682700e-04 & 3.176568e-04\\\\\n",
       "\t 0.0005811328 & 0.007535368 & 0.0023503357 & 0.003911205 & 0.003742955 & 0.0011001927 & 1.014839e-03 & 8.378977e-04\\\\\n",
       "\t 0.0158075337 & 0.093851408 & 0.0313429034 & 0.049491116 & 0.048357659 & 0.0187167296 & 2.756856e-03 & 1.175838e-02\\\\\n",
       "\t 0.0002340162 & 0.003195166 & 0.0009584611 & 0.001611558 & 0.001860321 & 0.0005776536 & 2.382729e-04 & 3.561588e-04\\\\\n",
       "\t 0.0111312011 & 0.068766658 & 0.0228543073 & 0.036235014 & 0.035371170 & 0.0136150935 & 1.788139e-03 & 8.567266e-03\\\\\n",
       "\t 0.0001904650 & 0.002840859 & 0.0008668316 & 0.001449602 & 0.001608756 & 0.0005113562 & 2.054617e-04 & 2.952103e-04\\\\\n",
       "\t 0.0111312011 & 0.068766658 & 0.0228543073 & 0.036235014 & 0.035371170 & 0.0136150935 & 1.788139e-03 & 8.567266e-03\\\\\n",
       "\t 0.0111312011 & 0.068766658 & 0.0228543073 & 0.036235014 & 0.035371170 & 0.0136150935 & 1.788139e-03 & 8.567266e-03\\\\\n",
       "\t 0.0001793232 & 0.003183893 & 0.0009247384 & 0.001595308 & 0.001667294 & 0.0006431769 & 3.806959e-04 & 3.743553e-04\\\\\n",
       "\t 0.0003033578 & 0.005341086 & 0.0015612664 & 0.002714771 & 0.002802017 & 0.0010799505 & 6.782059e-04 & 6.385899e-04\\\\\n",
       "\t 0.0010897652 & 0.002287085 & 0.0009162433 & 0.002154771 & 0.001698936 & 0.0007032868 & 6.915129e-05 & 2.145590e-04\\\\\n",
       "\t 0.0006820796 & 0.001283558 & 0.0005047795 & 0.001169199 & 0.000927595 & 0.0003914026 & 3.286132e-05 & 9.337986e-05\\\\\n",
       "\t 0.0006820796 & 0.001283558 & 0.0005047795 & 0.001169199 & 0.000927595 & 0.0003914026 & 3.286132e-05 & 9.337986e-05\\\\\n",
       "\t 0.0029660927 & 0.018465556 & 0.0070246288 & 0.008956229 & 0.006915005 & 0.0044970452 & 7.436943e-04 & 1.375632e-03\\\\\n",
       "\\end{tabular}\n"
      ],
      "text/markdown": [
       "\n",
       "A matrix: 16 × 8 of type dbl\n",
       "\n",
       "| 0.0033449811 | 0.003536806 | 0.0304651874 | 0.004289947 | 0.047553736 | 0.0011561946 | 1.129280e-03 | 2.726163e-01 |\n",
       "| 0.0005811328 | 0.007535368 | 0.0023503357 | 0.003911205 | 0.003742955 | 0.0011001927 | 1.014839e-03 | 8.378977e-04 |\n",
       "| 0.0002537522 | 0.002777719 | 0.0008214189 | 0.001414708 | 0.001375875 | 0.0003823060 | 3.682700e-04 | 3.176568e-04 |\n",
       "| 0.0005811328 | 0.007535368 | 0.0023503357 | 0.003911205 | 0.003742955 | 0.0011001927 | 1.014839e-03 | 8.378977e-04 |\n",
       "| 0.0158075337 | 0.093851408 | 0.0313429034 | 0.049491116 | 0.048357659 | 0.0187167296 | 2.756856e-03 | 1.175838e-02 |\n",
       "| 0.0002340162 | 0.003195166 | 0.0009584611 | 0.001611558 | 0.001860321 | 0.0005776536 | 2.382729e-04 | 3.561588e-04 |\n",
       "| 0.0111312011 | 0.068766658 | 0.0228543073 | 0.036235014 | 0.035371170 | 0.0136150935 | 1.788139e-03 | 8.567266e-03 |\n",
       "| 0.0001904650 | 0.002840859 | 0.0008668316 | 0.001449602 | 0.001608756 | 0.0005113562 | 2.054617e-04 | 2.952103e-04 |\n",
       "| 0.0111312011 | 0.068766658 | 0.0228543073 | 0.036235014 | 0.035371170 | 0.0136150935 | 1.788139e-03 | 8.567266e-03 |\n",
       "| 0.0111312011 | 0.068766658 | 0.0228543073 | 0.036235014 | 0.035371170 | 0.0136150935 | 1.788139e-03 | 8.567266e-03 |\n",
       "| 0.0001793232 | 0.003183893 | 0.0009247384 | 0.001595308 | 0.001667294 | 0.0006431769 | 3.806959e-04 | 3.743553e-04 |\n",
       "| 0.0003033578 | 0.005341086 | 0.0015612664 | 0.002714771 | 0.002802017 | 0.0010799505 | 6.782059e-04 | 6.385899e-04 |\n",
       "| 0.0010897652 | 0.002287085 | 0.0009162433 | 0.002154771 | 0.001698936 | 0.0007032868 | 6.915129e-05 | 2.145590e-04 |\n",
       "| 0.0006820796 | 0.001283558 | 0.0005047795 | 0.001169199 | 0.000927595 | 0.0003914026 | 3.286132e-05 | 9.337986e-05 |\n",
       "| 0.0006820796 | 0.001283558 | 0.0005047795 | 0.001169199 | 0.000927595 | 0.0003914026 | 3.286132e-05 | 9.337986e-05 |\n",
       "| 0.0029660927 | 0.018465556 | 0.0070246288 | 0.008956229 | 0.006915005 | 0.0044970452 | 7.436943e-04 | 1.375632e-03 |\n",
       "\n"
      ],
      "text/plain": [
       "      [,1]         [,2]        [,3]         [,4]        [,5]       \n",
       " [1,] 0.0033449811 0.003536806 0.0304651874 0.004289947 0.047553736\n",
       " [2,] 0.0005811328 0.007535368 0.0023503357 0.003911205 0.003742955\n",
       " [3,] 0.0002537522 0.002777719 0.0008214189 0.001414708 0.001375875\n",
       " [4,] 0.0005811328 0.007535368 0.0023503357 0.003911205 0.003742955\n",
       " [5,] 0.0158075337 0.093851408 0.0313429034 0.049491116 0.048357659\n",
       " [6,] 0.0002340162 0.003195166 0.0009584611 0.001611558 0.001860321\n",
       " [7,] 0.0111312011 0.068766658 0.0228543073 0.036235014 0.035371170\n",
       " [8,] 0.0001904650 0.002840859 0.0008668316 0.001449602 0.001608756\n",
       " [9,] 0.0111312011 0.068766658 0.0228543073 0.036235014 0.035371170\n",
       "[10,] 0.0111312011 0.068766658 0.0228543073 0.036235014 0.035371170\n",
       "[11,] 0.0001793232 0.003183893 0.0009247384 0.001595308 0.001667294\n",
       "[12,] 0.0003033578 0.005341086 0.0015612664 0.002714771 0.002802017\n",
       "[13,] 0.0010897652 0.002287085 0.0009162433 0.002154771 0.001698936\n",
       "[14,] 0.0006820796 0.001283558 0.0005047795 0.001169199 0.000927595\n",
       "[15,] 0.0006820796 0.001283558 0.0005047795 0.001169199 0.000927595\n",
       "[16,] 0.0029660927 0.018465556 0.0070246288 0.008956229 0.006915005\n",
       "      [,6]         [,7]         [,8]        \n",
       " [1,] 0.0011561946 1.129280e-03 2.726163e-01\n",
       " [2,] 0.0011001927 1.014839e-03 8.378977e-04\n",
       " [3,] 0.0003823060 3.682700e-04 3.176568e-04\n",
       " [4,] 0.0011001927 1.014839e-03 8.378977e-04\n",
       " [5,] 0.0187167296 2.756856e-03 1.175838e-02\n",
       " [6,] 0.0005776536 2.382729e-04 3.561588e-04\n",
       " [7,] 0.0136150935 1.788139e-03 8.567266e-03\n",
       " [8,] 0.0005113562 2.054617e-04 2.952103e-04\n",
       " [9,] 0.0136150935 1.788139e-03 8.567266e-03\n",
       "[10,] 0.0136150935 1.788139e-03 8.567266e-03\n",
       "[11,] 0.0006431769 3.806959e-04 3.743553e-04\n",
       "[12,] 0.0010799505 6.782059e-04 6.385899e-04\n",
       "[13,] 0.0007032868 6.915129e-05 2.145590e-04\n",
       "[14,] 0.0003914026 3.286132e-05 9.337986e-05\n",
       "[15,] 0.0003914026 3.286132e-05 9.337986e-05\n",
       "[16,] 0.0044970452 7.436943e-04 1.375632e-03"
      ]
     },
     "metadata": {},
     "output_type": "display_data"
    }
   ],
   "source": [
    "abs[b+1,]"
   ]
  },
  {
   "cell_type": "markdown",
   "metadata": {},
   "source": [
    "## teem"
   ]
  },
  {
   "cell_type": "code",
   "execution_count": 80,
   "metadata": {},
   "outputs": [
    {
     "data": {
      "text/html": [
       "<style>\n",
       ".list-inline {list-style: none; margin:0; padding: 0}\n",
       ".list-inline>li {display: inline-block}\n",
       ".list-inline>li:not(:last-child)::after {content: \"\\00b7\"; padding: 0 .5ex}\n",
       "</style>\n",
       "<ol class=list-inline><li>0.416666666666667</li><li>1.41666666666667</li><li>2.08333333333333</li><li>3.41666666666667</li><li>7.08333333333333</li></ol>\n"
      ],
      "text/latex": [
       "\\begin{enumerate*}\n",
       "\\item 0.416666666666667\n",
       "\\item 1.41666666666667\n",
       "\\item 2.08333333333333\n",
       "\\item 3.41666666666667\n",
       "\\item 7.08333333333333\n",
       "\\end{enumerate*}\n"
      ],
      "text/markdown": [
       "1. 0.416666666666667\n",
       "2. 1.41666666666667\n",
       "3. 2.08333333333333\n",
       "4. 3.41666666666667\n",
       "5. 7.08333333333333\n",
       "\n",
       "\n"
      ],
      "text/plain": [
       "[1] 0.4166667 1.4166667 2.0833333 3.4166667 7.0833333"
      ]
     },
     "metadata": {},
     "output_type": "display_data"
    }
   ],
   "source": [
    "b = teem$full_model$sets$cs%>%unlist()\n",
    "colMax <- function(data) sapply(data, max, na.rm = TRUE)\n",
    "abs = abs(teem$full_model$coef)\n",
    "max = colMax(abs%>%as_tibble)\n",
    "max_id = which(abs[b+1,] %in% max)\n",
    "max_id/12%>%ceiling()"
   ]
  },
  {
   "cell_type": "code",
   "execution_count": 79,
   "metadata": {},
   "outputs": [
    {
     "data": {
      "text/html": [
       "<table class=\"dataframe\">\n",
       "<caption>A matrix: 12 × 8 of type dbl</caption>\n",
       "<tbody>\n",
       "\t<tr><td>0.0001108409</td><td>0.004335632</td><td>0.035601285</td><td>0.010668460</td><td>0.055550309</td><td>0.0007030809</td><td>0.0056345487</td><td>0.2732130852</td></tr>\n",
       "\t<tr><td>0.0009963123</td><td>0.013983470</td><td>0.003384973</td><td>0.005345817</td><td>0.005491504</td><td>0.0016625074</td><td>0.0015276515</td><td>0.0009105434</td></tr>\n",
       "\t<tr><td>0.0004409864</td><td>0.005448077</td><td>0.001251605</td><td>0.002032202</td><td>0.002117879</td><td>0.0006117234</td><td>0.0005815236</td><td>0.0003658045</td></tr>\n",
       "\t<tr><td>0.0009963123</td><td>0.013983470</td><td>0.003384973</td><td>0.005345817</td><td>0.005491504</td><td>0.0016625074</td><td>0.0015276515</td><td>0.0009105434</td></tr>\n",
       "\t<tr><td>0.0139298649</td><td>0.096041298</td><td>0.025371123</td><td>0.037278648</td><td>0.039623175</td><td>0.0150656230</td><td>0.0017401464</td><td>0.0068101672</td></tr>\n",
       "\t<tr><td>0.0003205353</td><td>0.004752331</td><td>0.001125020</td><td>0.001780285</td><td>0.002218216</td><td>0.0006876114</td><td>0.0002710586</td><td>0.0002968789</td></tr>\n",
       "\t<tr><td>0.0102275993</td><td>0.073093570</td><td>0.019177460</td><td>0.028323767</td><td>0.030083345</td><td>0.0114177164</td><td>0.0011422037</td><td>0.0051317492</td></tr>\n",
       "\t<tr><td>0.0102275993</td><td>0.073093570</td><td>0.019177460</td><td>0.028323767</td><td>0.030083345</td><td>0.0114177164</td><td>0.0011422037</td><td>0.0051317492</td></tr>\n",
       "\t<tr><td>0.0102275993</td><td>0.073093570</td><td>0.019177460</td><td>0.028323767</td><td>0.030083345</td><td>0.0114177164</td><td>0.0011422037</td><td>0.0051317492</td></tr>\n",
       "\t<tr><td>0.0003338137</td><td>0.006327622</td><td>0.001446483</td><td>0.002353066</td><td>0.002638942</td><td>0.0009436389</td><td>0.0006038005</td><td>0.0004493030</td></tr>\n",
       "\t<tr><td>0.0005259479</td><td>0.009918740</td><td>0.002288140</td><td>0.003757441</td><td>0.004155082</td><td>0.0014851929</td><td>0.0010100578</td><td>0.0007252766</td></tr>\n",
       "\t<tr><td>0.0065599424</td><td>0.046088636</td><td>0.013426516</td><td>0.016030943</td><td>0.013931550</td><td>0.0080237036</td><td>0.0012668899</td><td>0.0015869625</td></tr>\n",
       "</tbody>\n",
       "</table>\n"
      ],
      "text/latex": [
       "A matrix: 12 × 8 of type dbl\n",
       "\\begin{tabular}{llllllll}\n",
       "\t 0.0001108409 & 0.004335632 & 0.035601285 & 0.010668460 & 0.055550309 & 0.0007030809 & 0.0056345487 & 0.2732130852\\\\\n",
       "\t 0.0009963123 & 0.013983470 & 0.003384973 & 0.005345817 & 0.005491504 & 0.0016625074 & 0.0015276515 & 0.0009105434\\\\\n",
       "\t 0.0004409864 & 0.005448077 & 0.001251605 & 0.002032202 & 0.002117879 & 0.0006117234 & 0.0005815236 & 0.0003658045\\\\\n",
       "\t 0.0009963123 & 0.013983470 & 0.003384973 & 0.005345817 & 0.005491504 & 0.0016625074 & 0.0015276515 & 0.0009105434\\\\\n",
       "\t 0.0139298649 & 0.096041298 & 0.025371123 & 0.037278648 & 0.039623175 & 0.0150656230 & 0.0017401464 & 0.0068101672\\\\\n",
       "\t 0.0003205353 & 0.004752331 & 0.001125020 & 0.001780285 & 0.002218216 & 0.0006876114 & 0.0002710586 & 0.0002968789\\\\\n",
       "\t 0.0102275993 & 0.073093570 & 0.019177460 & 0.028323767 & 0.030083345 & 0.0114177164 & 0.0011422037 & 0.0051317492\\\\\n",
       "\t 0.0102275993 & 0.073093570 & 0.019177460 & 0.028323767 & 0.030083345 & 0.0114177164 & 0.0011422037 & 0.0051317492\\\\\n",
       "\t 0.0102275993 & 0.073093570 & 0.019177460 & 0.028323767 & 0.030083345 & 0.0114177164 & 0.0011422037 & 0.0051317492\\\\\n",
       "\t 0.0003338137 & 0.006327622 & 0.001446483 & 0.002353066 & 0.002638942 & 0.0009436389 & 0.0006038005 & 0.0004493030\\\\\n",
       "\t 0.0005259479 & 0.009918740 & 0.002288140 & 0.003757441 & 0.004155082 & 0.0014851929 & 0.0010100578 & 0.0007252766\\\\\n",
       "\t 0.0065599424 & 0.046088636 & 0.013426516 & 0.016030943 & 0.013931550 & 0.0080237036 & 0.0012668899 & 0.0015869625\\\\\n",
       "\\end{tabular}\n"
      ],
      "text/markdown": [
       "\n",
       "A matrix: 12 × 8 of type dbl\n",
       "\n",
       "| 0.0001108409 | 0.004335632 | 0.035601285 | 0.010668460 | 0.055550309 | 0.0007030809 | 0.0056345487 | 0.2732130852 |\n",
       "| 0.0009963123 | 0.013983470 | 0.003384973 | 0.005345817 | 0.005491504 | 0.0016625074 | 0.0015276515 | 0.0009105434 |\n",
       "| 0.0004409864 | 0.005448077 | 0.001251605 | 0.002032202 | 0.002117879 | 0.0006117234 | 0.0005815236 | 0.0003658045 |\n",
       "| 0.0009963123 | 0.013983470 | 0.003384973 | 0.005345817 | 0.005491504 | 0.0016625074 | 0.0015276515 | 0.0009105434 |\n",
       "| 0.0139298649 | 0.096041298 | 0.025371123 | 0.037278648 | 0.039623175 | 0.0150656230 | 0.0017401464 | 0.0068101672 |\n",
       "| 0.0003205353 | 0.004752331 | 0.001125020 | 0.001780285 | 0.002218216 | 0.0006876114 | 0.0002710586 | 0.0002968789 |\n",
       "| 0.0102275993 | 0.073093570 | 0.019177460 | 0.028323767 | 0.030083345 | 0.0114177164 | 0.0011422037 | 0.0051317492 |\n",
       "| 0.0102275993 | 0.073093570 | 0.019177460 | 0.028323767 | 0.030083345 | 0.0114177164 | 0.0011422037 | 0.0051317492 |\n",
       "| 0.0102275993 | 0.073093570 | 0.019177460 | 0.028323767 | 0.030083345 | 0.0114177164 | 0.0011422037 | 0.0051317492 |\n",
       "| 0.0003338137 | 0.006327622 | 0.001446483 | 0.002353066 | 0.002638942 | 0.0009436389 | 0.0006038005 | 0.0004493030 |\n",
       "| 0.0005259479 | 0.009918740 | 0.002288140 | 0.003757441 | 0.004155082 | 0.0014851929 | 0.0010100578 | 0.0007252766 |\n",
       "| 0.0065599424 | 0.046088636 | 0.013426516 | 0.016030943 | 0.013931550 | 0.0080237036 | 0.0012668899 | 0.0015869625 |\n",
       "\n"
      ],
      "text/plain": [
       "      [,1]         [,2]        [,3]        [,4]        [,5]        [,6]        \n",
       " [1,] 0.0001108409 0.004335632 0.035601285 0.010668460 0.055550309 0.0007030809\n",
       " [2,] 0.0009963123 0.013983470 0.003384973 0.005345817 0.005491504 0.0016625074\n",
       " [3,] 0.0004409864 0.005448077 0.001251605 0.002032202 0.002117879 0.0006117234\n",
       " [4,] 0.0009963123 0.013983470 0.003384973 0.005345817 0.005491504 0.0016625074\n",
       " [5,] 0.0139298649 0.096041298 0.025371123 0.037278648 0.039623175 0.0150656230\n",
       " [6,] 0.0003205353 0.004752331 0.001125020 0.001780285 0.002218216 0.0006876114\n",
       " [7,] 0.0102275993 0.073093570 0.019177460 0.028323767 0.030083345 0.0114177164\n",
       " [8,] 0.0102275993 0.073093570 0.019177460 0.028323767 0.030083345 0.0114177164\n",
       " [9,] 0.0102275993 0.073093570 0.019177460 0.028323767 0.030083345 0.0114177164\n",
       "[10,] 0.0003338137 0.006327622 0.001446483 0.002353066 0.002638942 0.0009436389\n",
       "[11,] 0.0005259479 0.009918740 0.002288140 0.003757441 0.004155082 0.0014851929\n",
       "[12,] 0.0065599424 0.046088636 0.013426516 0.016030943 0.013931550 0.0080237036\n",
       "      [,7]         [,8]        \n",
       " [1,] 0.0056345487 0.2732130852\n",
       " [2,] 0.0015276515 0.0009105434\n",
       " [3,] 0.0005815236 0.0003658045\n",
       " [4,] 0.0015276515 0.0009105434\n",
       " [5,] 0.0017401464 0.0068101672\n",
       " [6,] 0.0002710586 0.0002968789\n",
       " [7,] 0.0011422037 0.0051317492\n",
       " [8,] 0.0011422037 0.0051317492\n",
       " [9,] 0.0011422037 0.0051317492\n",
       "[10,] 0.0006038005 0.0004493030\n",
       "[11,] 0.0010100578 0.0007252766\n",
       "[12,] 0.0012668899 0.0015869625"
      ]
     },
     "metadata": {},
     "output_type": "display_data"
    }
   ],
   "source": [
    "abs[b+1,]"
   ]
  },
  {
   "cell_type": "markdown",
   "metadata": {},
   "source": [
    "## Selected"
   ]
  },
  {
   "cell_type": "code",
   "execution_count": 1,
   "metadata": {},
   "outputs": [],
   "source": [
    "selected = attach(\"/mnt/mfs/statgen/neuro-twas/JAZF1_selected/result/GTEx_V8.ENSG00000153814.mv_susie.model.RData\")"
   ]
  },
  {
   "cell_type": "code",
   "execution_count": 16,
   "metadata": {},
   "outputs": [
    {
     "data": {
      "text/html": [
       "<style>\n",
       ".list-inline {list-style: none; margin:0; padding: 0}\n",
       ".list-inline>li {display: inline-block}\n",
       ".list-inline>li:not(:last-child)::after {content: \"\\00b7\"; padding: 0 .5ex}\n",
       "</style>\n",
       "<ol class=list-inline><li>0.363636363636364</li><li>1.36363636363636</li><li>2.36363636363636</li></ol>\n"
      ],
      "text/latex": [
       "\\begin{enumerate*}\n",
       "\\item 0.363636363636364\n",
       "\\item 1.36363636363636\n",
       "\\item 2.36363636363636\n",
       "\\end{enumerate*}\n"
      ],
      "text/markdown": [
       "1. 0.363636363636364\n",
       "2. 1.36363636363636\n",
       "3. 2.36363636363636\n",
       "\n",
       "\n"
      ],
      "text/plain": [
       "[1] 0.3636364 1.3636364 2.3636364"
      ]
     },
     "metadata": {},
     "output_type": "display_data"
    }
   ],
   "source": [
    "b = selected$m_ENSG00000153814$sets$cs%>%unlist()\n",
    "colMax <- function(data) sapply(data, max, na.rm = TRUE)\n",
    "abs = abs(selected$m_ENSG00000153814$coef)\n",
    "max = colMax(abs%>%as_tibble)\n",
    "max_id = which(abs[b+1,] %in% max)\n",
    "max_id/11%>%ceiling()"
   ]
  },
  {
   "cell_type": "code",
   "execution_count": 5,
   "metadata": {},
   "outputs": [
    {
     "data": {
      "text/html": [
       "<table class=\"dataframe\">\n",
       "<caption>A matrix: 11 × 5 of type dbl</caption>\n",
       "<tbody>\n",
       "\t<tr><td>0.0004601462</td><td>0.006494869</td><td>0.002106867</td><td>0.003294993</td><td>0.0007935185</td></tr>\n",
       "\t<tr><td>0.0004597414</td><td>0.005377274</td><td>0.001679724</td><td>0.002738092</td><td>0.0006434002</td></tr>\n",
       "\t<tr><td>0.0004601462</td><td>0.006494869</td><td>0.002106867</td><td>0.003294993</td><td>0.0007935185</td></tr>\n",
       "\t<tr><td>0.0127841613</td><td>0.080158132</td><td>0.028017059</td><td>0.043214903</td><td>0.0017233086</td></tr>\n",
       "\t<tr><td>0.0009355391</td><td>0.014265387</td><td>0.004455967</td><td>0.008667486</td><td>0.0009399371</td></tr>\n",
       "\t<tr><td>0.0007765198</td><td>0.006658158</td><td>0.002255186</td><td>0.003913047</td><td>0.0005221092</td></tr>\n",
       "\t<tr><td>0.0109847626</td><td>0.071646735</td><td>0.024956037</td><td>0.038591405</td><td>0.0013228448</td></tr>\n",
       "\t<tr><td>0.0005826416</td><td>0.009879643</td><td>0.003128583</td><td>0.005817693</td><td>0.0006286699</td></tr>\n",
       "\t<tr><td>0.0109847626</td><td>0.071646735</td><td>0.024956037</td><td>0.038591405</td><td>0.0013228448</td></tr>\n",
       "\t<tr><td>0.0109847626</td><td>0.071646735</td><td>0.024956037</td><td>0.038591405</td><td>0.0013228448</td></tr>\n",
       "\t<tr><td>0.0071368243</td><td>0.047464749</td><td>0.018370258</td><td>0.018113682</td><td>0.0015677987</td></tr>\n",
       "</tbody>\n",
       "</table>\n"
      ],
      "text/latex": [
       "A matrix: 11 × 5 of type dbl\n",
       "\\begin{tabular}{lllll}\n",
       "\t 0.0004601462 & 0.006494869 & 0.002106867 & 0.003294993 & 0.0007935185\\\\\n",
       "\t 0.0004597414 & 0.005377274 & 0.001679724 & 0.002738092 & 0.0006434002\\\\\n",
       "\t 0.0004601462 & 0.006494869 & 0.002106867 & 0.003294993 & 0.0007935185\\\\\n",
       "\t 0.0127841613 & 0.080158132 & 0.028017059 & 0.043214903 & 0.0017233086\\\\\n",
       "\t 0.0009355391 & 0.014265387 & 0.004455967 & 0.008667486 & 0.0009399371\\\\\n",
       "\t 0.0007765198 & 0.006658158 & 0.002255186 & 0.003913047 & 0.0005221092\\\\\n",
       "\t 0.0109847626 & 0.071646735 & 0.024956037 & 0.038591405 & 0.0013228448\\\\\n",
       "\t 0.0005826416 & 0.009879643 & 0.003128583 & 0.005817693 & 0.0006286699\\\\\n",
       "\t 0.0109847626 & 0.071646735 & 0.024956037 & 0.038591405 & 0.0013228448\\\\\n",
       "\t 0.0109847626 & 0.071646735 & 0.024956037 & 0.038591405 & 0.0013228448\\\\\n",
       "\t 0.0071368243 & 0.047464749 & 0.018370258 & 0.018113682 & 0.0015677987\\\\\n",
       "\\end{tabular}\n"
      ],
      "text/markdown": [
       "\n",
       "A matrix: 11 × 5 of type dbl\n",
       "\n",
       "| 0.0004601462 | 0.006494869 | 0.002106867 | 0.003294993 | 0.0007935185 |\n",
       "| 0.0004597414 | 0.005377274 | 0.001679724 | 0.002738092 | 0.0006434002 |\n",
       "| 0.0004601462 | 0.006494869 | 0.002106867 | 0.003294993 | 0.0007935185 |\n",
       "| 0.0127841613 | 0.080158132 | 0.028017059 | 0.043214903 | 0.0017233086 |\n",
       "| 0.0009355391 | 0.014265387 | 0.004455967 | 0.008667486 | 0.0009399371 |\n",
       "| 0.0007765198 | 0.006658158 | 0.002255186 | 0.003913047 | 0.0005221092 |\n",
       "| 0.0109847626 | 0.071646735 | 0.024956037 | 0.038591405 | 0.0013228448 |\n",
       "| 0.0005826416 | 0.009879643 | 0.003128583 | 0.005817693 | 0.0006286699 |\n",
       "| 0.0109847626 | 0.071646735 | 0.024956037 | 0.038591405 | 0.0013228448 |\n",
       "| 0.0109847626 | 0.071646735 | 0.024956037 | 0.038591405 | 0.0013228448 |\n",
       "| 0.0071368243 | 0.047464749 | 0.018370258 | 0.018113682 | 0.0015677987 |\n",
       "\n"
      ],
      "text/plain": [
       "      [,1]         [,2]        [,3]        [,4]        [,5]        \n",
       " [1,] 0.0004601462 0.006494869 0.002106867 0.003294993 0.0007935185\n",
       " [2,] 0.0004597414 0.005377274 0.001679724 0.002738092 0.0006434002\n",
       " [3,] 0.0004601462 0.006494869 0.002106867 0.003294993 0.0007935185\n",
       " [4,] 0.0127841613 0.080158132 0.028017059 0.043214903 0.0017233086\n",
       " [5,] 0.0009355391 0.014265387 0.004455967 0.008667486 0.0009399371\n",
       " [6,] 0.0007765198 0.006658158 0.002255186 0.003913047 0.0005221092\n",
       " [7,] 0.0109847626 0.071646735 0.024956037 0.038591405 0.0013228448\n",
       " [8,] 0.0005826416 0.009879643 0.003128583 0.005817693 0.0006286699\n",
       " [9,] 0.0109847626 0.071646735 0.024956037 0.038591405 0.0013228448\n",
       "[10,] 0.0109847626 0.071646735 0.024956037 0.038591405 0.0013228448\n",
       "[11,] 0.0071368243 0.047464749 0.018370258 0.018113682 0.0015677987"
      ]
     },
     "metadata": {},
     "output_type": "display_data"
    }
   ],
   "source": [
    "abs[b+1,]"
   ]
  },
  {
   "cell_type": "code",
   "execution_count": null,
   "metadata": {},
   "outputs": [],
   "source": [
    "nohup sos run ~/GIT/neuro-twas/workflow/mixture_prior.ipynb plot_U \\\n",
    "        --model_data '~/Project//one_gene/data/GTEx_V8_strong_z.ed_8tissue.rds'  \\\n",
    "        --name \"\"  \\\n",
    "        --container /mnt/mfs/statgen/containers/twas_latest.sif \\\n",
    "        --tol 0  \\\n",
    "        --cwd /home/hs3163/Project/one_gene/data/ \\\n",
    "        -J 50 -q neurology -c ~/GIT/neuro-twas/code/csg.yml -s build &"
   ]
  },
  {
   "cell_type": "code",
   "execution_count": null,
   "metadata": {},
   "outputs": [],
   "source": [
    "nohup sos run ~/GIT/neuro-twas/workflow/mixture_prior.ipynb plot_U \\\n",
    "        --model_data '~/Project//one_gene/data/GTEx_V8_strong_z.ed_selected_tissue.rds'  \\\n",
    "        --name \"\"  \\\n",
    "        --container /mnt/mfs/statgen/containers/twas_latest.sif \\\n",
    "        --tol 0.1  \\\n",
    "        --cwd /home/hs3163/Project/one_gene/data/ \\\n",
    "        -J 50 -q neurology -c ~/GIT/neuro-twas/code/csg.yml -s build &"
   ]
  },
  {
   "cell_type": "code",
   "execution_count": null,
   "metadata": {},
   "outputs": [],
   "source": [
    "nohup sos run ~/GIT/neuro-twas/workflow/mixture_prior.ipynb plot_U \\\n",
    "        --model_data '~/Project//one_gene/data/GTEx_V8_strong_z.ed.rds'  \\\n",
    "        --name \"\"  \\\n",
    "        --container /mnt/mfs/statgen/containers/twas_latest.sif \\\n",
    "        --tol 0.1  \\\n",
    "        --cwd /home/hs3163/Project/one_gene/data/ \\\n",
    "        -J 50 -q neurology -c ~/GIT/neuro-twas/code/csg.yml -s build &"
   ]
  },
  {
   "cell_type": "markdown",
   "metadata": {},
   "source": [
    "## Redo FUSION analysis with Asthma SNPs"
   ]
  },
  {
   "cell_type": "markdown",
   "metadata": {},
   "source": [
    "### Create subset genotype\n",
    "LOG: due to an accident running the following command, the original GTEx_V8.ENSG00000153814"
   ]
  },
  {
   "cell_type": "code",
   "execution_count": null,
   "metadata": {},
   "outputs": [],
   "source": [
    "for tissue in `cat ~/Project/one_gene/passed_tissue`; do\n",
    "cp -r ./one_gene_reanalysis/$tissue/cache ./one_gene/$tissue/\n",
    "done"
   ]
  },
  {
   "cell_type": "code",
   "execution_count": null,
   "metadata": {},
   "outputs": [],
   "source": [
    "for tissue in `cat ~/Project/one_gene/passed_tissue`; do\n",
    "cp -r ./one_gene/$tissue ./one_gene_reanalysis/\n",
    "plink --bfile ./one_gene/$tissue/cache/GTEx_V8.ENSG00000153814 --make-bed --extract ./one_gene/data/Asthma_snps --out ./one_gene_reanalysis/$tissue/cache/GTEx_V8.ENSG00000153814\n",
    "done"
   ]
  },
  {
   "cell_type": "markdown",
   "metadata": {},
   "source": [
    "### Redo the analysis"
   ]
  },
  {
   "cell_type": "code",
   "execution_count": null,
   "metadata": {},
   "outputs": [],
   "source": [
    "for tissue in `cat ~/Project/one_gene/passed_tissue`; do\n",
    "cd $tissue\n",
    "nohup sos run ~/GIT/neuro-twas/workflow/twas_fusion.ipynb compute_wgt  \\\n",
    "  --gwas_sumstat /home/hs3163/Project/Alz/data/AD_sumstats_Jansenetal_2019sept.txt \\\n",
    "  --molecular-pheno  /home/hs3163/Project/one_gene/GTEx_V8.txt  \\\n",
    "  --wd /home/hs3163/Project/one_gene_reanalysis/$tissue/ \\\n",
    "  --genotype_list /home/hs3163/Project/Rosmap/data/Rosmap_wgs_genotype_list.txt \\\n",
    "  --region_list /home/hs3163/Project/one_gene/GTEx_V8.txt \\\n",
    "  --region_name 1 \\\n",
    "  --data_start 2 \\\n",
    "  --window 500000 \\\n",
    "  --container /mnt/mfs/statgen/containers/twas_latest.sif \\\n",
    "  --model bslmm blup lasso top1 enet \\\n",
    "  --job_size 1 \\\n",
    "  --asso_mem \"60G\" -s build \\\n",
    "  -J 6 -q csg -c /home/hs3163/GIT/neuro-twas/code/csg.yml &\n",
    "cd ..\n",
    "done"
   ]
  },
  {
   "cell_type": "code",
   "execution_count": null,
   "metadata": {},
   "outputs": [],
   "source": [
    "\n",
    "for sumstat in `cat ~/Project/one_gene/data/sumstat_list`;do\n",
    "    mkdir $sumstat\n",
    "    cd $sumstat\n",
    "    for tissue in `cat ~/Project/one_gene/passed_tissue`; do\n",
    "    mkdir $tissue\n",
    "    cd $tissue\n",
    "    nohup sos run ~/GIT/neuro-twas/workflow/twas_fusion.ipynb association_test  \\\n",
    "    --gwas_sumstat /home/hs3163/Project/one_gene/data/$sumstat \\\n",
    "    --molecular-pheno  /home/hs3163/Project/one_gene/GTEx_V8.txt  \\\n",
    "    --wd /home/hs3163/Project/one_gene_reanalysis/$sumstat/$tissue/ \\\n",
    "    --weights_path /home/hs3163/Project/one_gene_reanalysis/$tissue/WEIGHTS \\\n",
    "    --genotype_list /home/hs3163/Project/one_gene/data/geno_list \\\n",
    "    --region_list /home/hs3163/Project/one_gene/GTEx_V8.txt \\\n",
    "    --region_name 1 \\\n",
    "    --data_start 2 \\\n",
    "    --window 500000 \\\n",
    "    --container /mnt/mfs/statgen/containers/twas_latest.sif \\\n",
    "    --model bslmm blup lasso top1 enet \\\n",
    "    --job_size 1  -s build\\\n",
    "    --max_impute 1 \\\n",
    "    --asso_mem \"60G\" \\\n",
    "    -J 6 -q csg -c /home/hs3163/GIT/neuro-twas/code/csg.yml &\n",
    "    cd .. ;\n",
    "    done\n",
    "    cd ..;\n",
    "    done"
   ]
  }
 ],
 "metadata": {
  "kernelspec": {
   "display_name": "R",
   "language": "R",
   "name": "ir"
  },
  "language_info": {
   "codemirror_mode": "r",
   "file_extension": ".r",
   "mimetype": "text/x-r-source",
   "name": "R",
   "pygments_lexer": "r",
   "version": "4.0.0"
  }
 },
 "nbformat": 4,
 "nbformat_minor": 4
}
