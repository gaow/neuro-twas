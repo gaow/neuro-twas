{
 "cells": [
  {
   "cell_type": "markdown",
   "metadata": {},
   "source": [
    "# Comparison of SuSiE and Singleton MvSuSiE"
   ]
  },
  {
   "cell_type": "code",
   "execution_count": 14,
   "metadata": {},
   "outputs": [],
   "source": [
    "library(dplyr)\n",
    "library(readr)\n",
    "library(tibble)\n",
    "library(ggplot2)\n",
    "library(purrr)\n",
    "library(tidyr)\n",
    "library(\"ggpubr\")\n",
    "library(susieR)"
   ]
  },
  {
   "cell_type": "markdown",
   "metadata": {},
   "source": [
    "## Generation of Singleton Prior"
   ]
  },
  {
   "cell_type": "code",
   "execution_count": 4,
   "metadata": {},
   "outputs": [
    {
     "data": {
      "text/html": [
       "<table class=\"dataframe\">\n",
       "<caption>A matrix: 8 × 8 of type dbl</caption>\n",
       "<thead>\n",
       "\t<tr><th></th><th scope=col>Artery_Tibial</th><th scope=col>Liver</th><th scope=col>Lung</th><th scope=col>Muscle_Skeletal</th><th scope=col>Spleen</th><th scope=col>Stomach</th><th scope=col>Thyroid</th><th scope=col>Whole_Blood</th></tr>\n",
       "</thead>\n",
       "<tbody>\n",
       "\t<tr><th scope=row>Artery_Tibial</th><td>0</td><td>0</td><td>0</td><td>0</td><td>0</td><td>0</td><td>0</td><td>0</td></tr>\n",
       "\t<tr><th scope=row>Liver</th><td>0</td><td>0</td><td>0</td><td>0</td><td>0</td><td>0</td><td>0</td><td>0</td></tr>\n",
       "\t<tr><th scope=row>Lung</th><td>0</td><td>0</td><td>0</td><td>0</td><td>0</td><td>0</td><td>0</td><td>0</td></tr>\n",
       "\t<tr><th scope=row>Muscle_Skeletal</th><td>0</td><td>0</td><td>0</td><td>0</td><td>0</td><td>0</td><td>0</td><td>0</td></tr>\n",
       "\t<tr><th scope=row>Spleen</th><td>0</td><td>0</td><td>0</td><td>0</td><td>0</td><td>0</td><td>0</td><td>0</td></tr>\n",
       "\t<tr><th scope=row>Stomach</th><td>0</td><td>0</td><td>0</td><td>0</td><td>0</td><td>0</td><td>0</td><td>0</td></tr>\n",
       "\t<tr><th scope=row>Thyroid</th><td>0</td><td>0</td><td>0</td><td>0</td><td>0</td><td>0</td><td>0</td><td>0</td></tr>\n",
       "\t<tr><th scope=row>Whole_Blood</th><td>0</td><td>0</td><td>0</td><td>0</td><td>0</td><td>0</td><td>0</td><td>1</td></tr>\n",
       "</tbody>\n",
       "</table>\n"
      ],
      "text/latex": [
       "A matrix: 8 × 8 of type dbl\n",
       "\\begin{tabular}{r|llllllll}\n",
       "  & Artery\\_Tibial & Liver & Lung & Muscle\\_Skeletal & Spleen & Stomach & Thyroid & Whole\\_Blood\\\\\n",
       "\\hline\n",
       "\tArtery\\_Tibial & 0 & 0 & 0 & 0 & 0 & 0 & 0 & 0\\\\\n",
       "\tLiver & 0 & 0 & 0 & 0 & 0 & 0 & 0 & 0\\\\\n",
       "\tLung & 0 & 0 & 0 & 0 & 0 & 0 & 0 & 0\\\\\n",
       "\tMuscle\\_Skeletal & 0 & 0 & 0 & 0 & 0 & 0 & 0 & 0\\\\\n",
       "\tSpleen & 0 & 0 & 0 & 0 & 0 & 0 & 0 & 0\\\\\n",
       "\tStomach & 0 & 0 & 0 & 0 & 0 & 0 & 0 & 0\\\\\n",
       "\tThyroid & 0 & 0 & 0 & 0 & 0 & 0 & 0 & 0\\\\\n",
       "\tWhole\\_Blood & 0 & 0 & 0 & 0 & 0 & 0 & 0 & 1\\\\\n",
       "\\end{tabular}\n"
      ],
      "text/markdown": [
       "\n",
       "A matrix: 8 × 8 of type dbl\n",
       "\n",
       "| <!--/--> | Artery_Tibial | Liver | Lung | Muscle_Skeletal | Spleen | Stomach | Thyroid | Whole_Blood |\n",
       "|---|---|---|---|---|---|---|---|---|\n",
       "| Artery_Tibial | 0 | 0 | 0 | 0 | 0 | 0 | 0 | 0 |\n",
       "| Liver | 0 | 0 | 0 | 0 | 0 | 0 | 0 | 0 |\n",
       "| Lung | 0 | 0 | 0 | 0 | 0 | 0 | 0 | 0 |\n",
       "| Muscle_Skeletal | 0 | 0 | 0 | 0 | 0 | 0 | 0 | 0 |\n",
       "| Spleen | 0 | 0 | 0 | 0 | 0 | 0 | 0 | 0 |\n",
       "| Stomach | 0 | 0 | 0 | 0 | 0 | 0 | 0 | 0 |\n",
       "| Thyroid | 0 | 0 | 0 | 0 | 0 | 0 | 0 | 0 |\n",
       "| Whole_Blood | 0 | 0 | 0 | 0 | 0 | 0 | 0 | 1 |\n",
       "\n"
      ],
      "text/plain": [
       "                Artery_Tibial Liver Lung Muscle_Skeletal Spleen Stomach Thyroid\n",
       "Artery_Tibial   0             0     0    0               0      0       0      \n",
       "Liver           0             0     0    0               0      0       0      \n",
       "Lung            0             0     0    0               0      0       0      \n",
       "Muscle_Skeletal 0             0     0    0               0      0       0      \n",
       "Spleen          0             0     0    0               0      0       0      \n",
       "Stomach         0             0     0    0               0      0       0      \n",
       "Thyroid         0             0     0    0               0      0       0      \n",
       "Whole_Blood     0             0     0    0               0      0       0      \n",
       "                Whole_Blood\n",
       "Artery_Tibial   0          \n",
       "Liver           0          \n",
       "Lung            0          \n",
       "Muscle_Skeletal 0          \n",
       "Spleen          0          \n",
       "Stomach         0          \n",
       "Thyroid         0          \n",
       "Whole_Blood     1          "
      ]
     },
     "metadata": {},
     "output_type": "display_data"
    }
   ],
   "source": [
    "Prior = readRDS(\"~/Project//one_gene/data/GTEx_V8_strong_z.ed_8tissue.rds\")\n",
    "tissue = Prior$U$Artery_Tibial%>%colnames()\n",
    "mtr = matrix(0, nrow = 8, ncol = 8,dimnames = list(tissue,tissue))\n",
    "mtr[colnames(mtr) == \"Whole_Blood\",colnames(mtr) == \"Whole_Blood\"] = 1\n",
    "mtr%>%saveRDS(\"~/Project//one_gene/data/GTEx_V8_strong_z.ed_Whole_Blood.rds\")"
   ]
  },
  {
   "cell_type": "markdown",
   "metadata": {},
   "source": [
    "## Uni SuSiE"
   ]
  },
  {
   "cell_type": "code",
   "execution_count": null,
   "metadata": {},
   "outputs": [],
   "source": [
    "for tissue in `echo Whole_Blood`; do\n",
    "nohup sos run ~/GIT/neuro-twas/workflow/uni_susie.ipynb susie_cv  \\\n",
    "  --molecular-pheno  /home/hs3163/Project/one_gene/GTEx_V8.txt  \\\n",
    "  --wd \"/mnt/mfs/statgen/neuro-twas/JAZF1_uni_non/$tissue/\" \\\n",
    "  --genotype_list /home/hs3163/Project/Rosmap/data/Rosmap_wgs_genotype_list.txt \\\n",
    "  --region_list /home/hs3163/Project/one_gene/GTEx_V8.txt \\\n",
    "  --region_name 1 \\\n",
    "  --data_start 2 \\\n",
    "  --window 500000 \\\n",
    "  --container /mnt/mfs/statgen/containers/twas_latest.sif \\\n",
    "  --cv_times 100 \\\n",
    "  --job_size 1 \\\n",
    "  --MAF 0 \\\n",
    "  -s build \\\n",
    "  -J 6 -q csg -c /home/hs3163/GIT/neuro-twas/code/csg.yml &\n",
    "done"
   ]
  },
  {
   "cell_type": "markdown",
   "metadata": {},
   "source": [
    "## Running MV_Susie singleton"
   ]
  },
  {
   "cell_type": "code",
   "execution_count": null,
   "metadata": {},
   "outputs": [],
   "source": [
    "for tissue in `echo Whole_Blood`; do\n",
    "nohup sos run /home/hs3163/GIT/neuro-twas/workflow/mv_susie.ipynb mv_susie_cv \\\n",
    "--molecular_pheno_dir \"/mnt/mfs/statgen/neuro-twas/JAZF1/mole_pheno_ls\" \\\n",
    "--region_list \"/mnt/mfs/statgen/neuro-twas/JAZF1//region_list\" \\\n",
    "--wd /mnt/mfs/statgen/neuro-twas/JAZF1_diag/$tissue/ \\\n",
    "--name_prefix \"GTEx_V8\" \\\n",
    "--container /mnt/mfs/statgen/containers/twas_latest.sif \\\n",
    "--impute TRUE --job_size 1 \\\n",
    "--mixture_prior ~/Project//one_gene/data/GTEx_V8_strong_z.ed_$tissue.rds \\\n",
    "--cv_times 100 \\\n",
    "--MAF 0 \\\n",
    "--extract_snp \"/mnt/mfs/statgen/neuro-twas/JAZF1_uni_non//Whole_Blood/whole_blood_snps\" \\\n",
    "-J 200 -q csg -c /home/hs3163/GIT/neuro-twas/code/csg.yml   &\n",
    "done"
   ]
  },
  {
   "cell_type": "markdown",
   "metadata": {},
   "source": [
    "## Loading data"
   ]
  },
  {
   "cell_type": "code",
   "execution_count": 11,
   "metadata": {},
   "outputs": [
    {
     "name": "stderr",
     "output_type": "stream",
     "text": [
      "The following object is masked from file:/mnt/mfs/statgen/neuro-twas/JAZF1_diag/Whole_Blood/result/GTEx_V8.ENSG00000153814.mv_susie.model.RData (pos = 5):\n",
      "\n",
      "    m_ENSG00000153814\n",
      "\n",
      "\n",
      "The following object is masked from file:/mnt/mfs/statgen/neuro-twas/JAZF1_diag/Whole_Blood/result/GTEx_V8.ENSG00000153814.mv_susie.model.RData (pos = 6):\n",
      "\n",
      "    m_ENSG00000153814\n",
      "\n",
      "\n"
     ]
    }
   ],
   "source": [
    "whole_blood_mv = attach(\"/mnt/mfs/statgen/neuro-twas/JAZF1_diag/Whole_Blood/result/GTEx_V8.ENSG00000153814.mv_susie.model.RData\")$m_ENSG00000153814"
   ]
  },
  {
   "cell_type": "code",
   "execution_count": 12,
   "metadata": {},
   "outputs": [
    {
     "name": "stderr",
     "output_type": "stream",
     "text": [
      "The following object is masked from file:/mnt/mfs//statgen/neuro-twas/JAZF1_uni_non/Whole_Blood/susie/GTEx_V8.ENSG00000153814.uni_weight.cv.RData (pos = 4):\n",
      "\n",
      "    fitted1\n",
      "\n",
      "\n",
      "The following object is masked from file:/mnt/mfs//statgen/neuro-twas/JAZF1_uni_non/Whole_Blood/susie/GTEx_V8.ENSG00000153814.uni_weight.cv.RData (pos = 5):\n",
      "\n",
      "    fitted1\n",
      "\n",
      "\n"
     ]
    }
   ],
   "source": [
    "whole_blood_susie = attach(\"/mnt/mfs//statgen/neuro-twas/JAZF1_uni_non/Whole_Blood/susie/GTEx_V8.ENSG00000153814.uni_weight.cv.RData\")$fitted1"
   ]
  },
  {
   "cell_type": "code",
   "execution_count": 21,
   "metadata": {},
   "outputs": [],
   "source": [
    "lm"
   ]
  },
  {
   "cell_type": "markdown",
   "metadata": {},
   "source": [
    "## Comparison of PIP"
   ]
  },
  {
   "cell_type": "code",
   "execution_count": 25,
   "metadata": {},
   "outputs": [
    {
     "name": "stderr",
     "output_type": "stream",
     "text": [
      "Warning message:\n",
      "“The `x` argument of `as_tibble.matrix()` must have unique column names if `.name_repair` is omitted as of tibble 2.0.0.\n",
      "Using compatibility `.name_repair`.\n",
      "\u001b[90mThis warning is displayed once every 8 hours.\u001b[39m\n",
      "\u001b[90mCall `lifecycle::last_warnings()` to see where this warning was generated.\u001b[39m”\n"
     ]
    },
    {
     "data": {
      "text/plain": [
       "\n",
       "\tWelch Two Sample t-test\n",
       "\n",
       "data:  pip[, 1] and pip[, 2]\n",
       "t = -6.3216, df = 58471, p-value = 2.608e-10\n",
       "alternative hypothesis: true difference in means is not equal to 0\n",
       "95 percent confidence interval:\n",
       " -0.0004027081 -0.0002120902\n",
       "sample estimates:\n",
       "   mean of x    mean of y \n",
       "3.419973e-05 3.415989e-04 \n"
      ]
     },
     "metadata": {},
     "output_type": "display_data"
    }
   ],
   "source": [
    "pip = cbind(whole_blood_mv$pip,whole_blood_susie$pip)%>%as_tibble\n",
    "t.test(pip[,1],pip[,2])"
   ]
  },
  {
   "cell_type": "code",
   "execution_count": 30,
   "metadata": {},
   "outputs": [
    {
     "data": {
      "text/plain": [
       "\n",
       "Call:\n",
       "lm(formula = V1 ~ V2, data = pip)\n",
       "\n",
       "Residuals:\n",
       "      Min        1Q    Median        3Q       Max \n",
       "-0.080850  0.000048  0.000141  0.000167  0.022094 \n",
       "\n",
       "Coefficients:\n",
       "              Estimate Std. Error t value Pr(>|t|)    \n",
       "(Intercept) -2.999e-04  5.092e-06  -58.91   <2e-16 ***\n",
       "V2           9.782e-01  8.599e-04 1137.52   <2e-16 ***\n",
       "---\n",
       "Signif. codes:  0 ‘***’ 0.001 ‘**’ 0.01 ‘*’ 0.05 ‘.’ 0.1 ‘ ’ 1\n",
       "\n",
       "Residual standard error: 0.0008693 on 29238 degrees of freedom\n",
       "Multiple R-squared:  0.9779,\tAdjusted R-squared:  0.9779 \n",
       "F-statistic: 1.294e+06 on 1 and 29238 DF,  p-value: < 2.2e-16\n"
      ]
     },
     "metadata": {},
     "output_type": "display_data"
    }
   ],
   "source": [
    "lm(V1~V2,data = pip )%>%summary"
   ]
  },
  {
   "cell_type": "markdown",
   "metadata": {},
   "source": [
    "## Comparison of Coef"
   ]
  },
  {
   "cell_type": "code",
   "execution_count": 31,
   "metadata": {},
   "outputs": [],
   "source": [
    "coef = cbind(whole_blood_mv$coef[,8],whole_blood_susie%>%coef.susie)%>%as_tibble"
   ]
  },
  {
   "cell_type": "code",
   "execution_count": 32,
   "metadata": {},
   "outputs": [
    {
     "data": {
      "text/plain": [
       "\n",
       "\tWelch Two Sample t-test\n",
       "\n",
       "data:  coef[, 1] and coef[, 2]\n",
       "t = 1.6084, df = 58449, p-value = 0.1077\n",
       "alternative hypothesis: true difference in means is not equal to 0\n",
       "95 percent confidence interval:\n",
       " -4.712598e-06  4.783076e-05\n",
       "sample estimates:\n",
       "    mean of x     mean of y \n",
       " 9.443668e-06 -1.211541e-05 \n"
      ]
     },
     "metadata": {},
     "output_type": "display_data"
    }
   ],
   "source": [
    "t.test(coef[,1],coef[,2])"
   ]
  },
  {
   "cell_type": "code",
   "execution_count": 33,
   "metadata": {},
   "outputs": [
    {
     "data": {
      "text/plain": [
       "\n",
       "Call:\n",
       "lm(formula = V1 ~ V2, data = coef)\n",
       "\n",
       "Residuals:\n",
       "       Min         1Q     Median         3Q        Max \n",
       "-0.0060873 -0.0000026  0.0000016  0.0000052  0.0109162 \n",
       "\n",
       "Coefficients:\n",
       "              Estimate Std. Error   t value Pr(>|t|)    \n",
       "(Intercept) -2.370e-06  6.074e-07    -3.902 9.57e-05 ***\n",
       "V2          -9.751e-01  3.705e-04 -2631.618  < 2e-16 ***\n",
       "---\n",
       "Signif. codes:  0 ‘***’ 0.001 ‘**’ 0.01 ‘*’ 0.05 ‘.’ 0.1 ‘ ’ 1\n",
       "\n",
       "Residual standard error: 0.0001039 on 29239 degrees of freedom\n",
       "Multiple R-squared:  0.9958,\tAdjusted R-squared:  0.9958 \n",
       "F-statistic: 6.925e+06 on 1 and 29239 DF,  p-value: < 2.2e-16\n"
      ]
     },
     "metadata": {},
     "output_type": "display_data"
    }
   ],
   "source": [
    "lm(V1~V2,data = coef )%>%summary"
   ]
  },
  {
   "cell_type": "markdown",
   "metadata": {},
   "source": [
    "## Comparison of fitted result"
   ]
  },
  {
   "cell_type": "code",
   "execution_count": 34,
   "metadata": {},
   "outputs": [
    {
     "name": "stderr",
     "output_type": "stream",
     "text": [
      "Warning message in cbind(whole_blood_mv$fitted[, 8], whole_blood_susie$fitted):\n",
      "“number of rows of result is not a multiple of vector length (arg 2)”\n"
     ]
    }
   ],
   "source": []
  },
  {
   "cell_type": "code",
   "execution_count": 54,
   "metadata": {},
   "outputs": [
    {
     "name": "stderr",
     "output_type": "stream",
     "text": [
      "\n",
      "\u001b[36m──\u001b[39m \u001b[1m\u001b[1mColumn specification\u001b[1m\u001b[22m \u001b[36m────────────────────────────────────────────────────────\u001b[39m\n",
      "cols(\n",
      "  X1 = \u001b[31mcol_character()\u001b[39m,\n",
      "  X2 = \u001b[31mcol_character()\u001b[39m,\n",
      "  X3 = \u001b[32mcol_double()\u001b[39m,\n",
      "  X4 = \u001b[32mcol_double()\u001b[39m,\n",
      "  X5 = \u001b[32mcol_double()\u001b[39m,\n",
      "  X6 = \u001b[32mcol_double()\u001b[39m\n",
      ")\n",
      "\n",
      "\n"
     ]
    }
   ],
   "source": [
    "samples = read_delim(\"/mnt/mfs/statgen/neuro-twas/JAZF1_diag/Whole_Blood//cache//GTEx_V8.ENSG00000153814.merged.fam\",col_names = F,delim = \" \")"
   ]
  },
  {
   "cell_type": "code",
   "execution_count": null,
   "metadata": {},
   "outputs": [],
   "source": []
  },
  {
   "cell_type": "code",
   "execution_count": 58,
   "metadata": {},
   "outputs": [],
   "source": [
    "samples = samples%>%mutate(X1 = map_chr(X1,~paste(c(.x,.x),collapse = \":\")))"
   ]
  },
  {
   "cell_type": "code",
   "execution_count": 71,
   "metadata": {},
   "outputs": [],
   "source": [
    "samples_uni = whole_blood_susie$fitted%>%names()%>%as_tibble%>%select(X1 = value )"
   ]
  },
  {
   "cell_type": "code",
   "execution_count": 75,
   "metadata": {},
   "outputs": [],
   "source": [
    "overlap = which(samples$X1  %in% samples_uni$X1)"
   ]
  },
  {
   "cell_type": "code",
   "execution_count": 76,
   "metadata": {},
   "outputs": [],
   "source": [
    "fitted = cbind(whole_blood_mv$fitted[overlap,8],whole_blood_susie$fitted)%>%as_tibble"
   ]
  },
  {
   "cell_type": "code",
   "execution_count": 87,
   "metadata": {},
   "outputs": [
    {
     "data": {
      "text/plain": [
       "\n",
       "\tWelch Two Sample t-test\n",
       "\n",
       "data:  fitted[, 1] and fitted[, 2]\n",
       "t = 0.0030061, df = 1316.6, p-value = 0.9976\n",
       "alternative hypothesis: true difference in means is not equal to 0\n",
       "95 percent confidence interval:\n",
       " -0.03097463  0.03106970\n",
       "sample estimates:\n",
       "    mean of x     mean of y \n",
       " 4.753643e-05 -3.034496e-15 \n"
      ]
     },
     "metadata": {},
     "output_type": "display_data"
    }
   ],
   "source": [
    "t.test(fitted[,1],fitted[,2])"
   ]
  },
  {
   "cell_type": "code",
   "execution_count": 88,
   "metadata": {},
   "outputs": [
    {
     "data": {
      "text/plain": [
       "\n",
       "Call:\n",
       "lm(formula = V1 ~ V2, data = fitted)\n",
       "\n",
       "Residuals:\n",
       "     Min       1Q   Median       3Q      Max \n",
       "-0.46153 -0.20646  0.07307  0.17785  0.65266 \n",
       "\n",
       "Coefficients:\n",
       "             Estimate Std. Error t value Pr(>|t|)    \n",
       "(Intercept) 4.754e-05  9.971e-03   0.005    0.996    \n",
       "V2          2.640e-01  3.247e-02   8.131 2.07e-15 ***\n",
       "---\n",
       "Signif. codes:  0 ‘***’ 0.001 ‘**’ 0.01 ‘*’ 0.05 ‘.’ 0.1 ‘ ’ 1\n",
       "\n",
       "Residual standard error: 0.2581 on 668 degrees of freedom\n",
       "Multiple R-squared:  0.09006,\tAdjusted R-squared:  0.0887 \n",
       "F-statistic: 66.12 on 1 and 668 DF,  p-value: 2.067e-15\n"
      ]
     },
     "metadata": {},
     "output_type": "display_data"
    }
   ],
   "source": [
    "lm(V1~V2,data = fitted )%>%summary"
   ]
  },
  {
   "cell_type": "code",
   "execution_count": 90,
   "metadata": {},
   "outputs": [
    {
     "data": {
      "text/html": [
       "0.0318494068686704"
      ],
      "text/latex": [
       "0.0318494068686704"
      ],
      "text/markdown": [
       "0.0318494068686704"
      ],
      "text/plain": [
       "[1] 0.03184941"
      ]
     },
     "metadata": {},
     "output_type": "display_data"
    }
   ],
   "source": [
    "sum(fitted[,1])"
   ]
  },
  {
   "cell_type": "code",
   "execution_count": 89,
   "metadata": {},
   "outputs": [
    {
     "data": {
      "text/html": [
       "-2.03309591384482e-12"
      ],
      "text/latex": [
       "-2.03309591384482e-12"
      ],
      "text/markdown": [
       "-2.03309591384482e-12"
      ],
      "text/plain": [
       "[1] -2.033096e-12"
      ]
     },
     "metadata": {},
     "output_type": "display_data"
    }
   ],
   "source": [
    "sum(fitted[,2])"
   ]
  },
  {
   "cell_type": "code",
   "execution_count": null,
   "metadata": {},
   "outputs": [],
   "source": []
  }
 ],
 "metadata": {
  "kernelspec": {
   "display_name": "R",
   "language": "R",
   "name": "ir"
  },
  "language_info": {
   "codemirror_mode": "r",
   "file_extension": ".r",
   "mimetype": "text/x-r-source",
   "name": "R",
   "pygments_lexer": "r",
   "version": "3.6.3"
  }
 },
 "nbformat": 4,
 "nbformat_minor": 4
}
