{
 "cells": [
  {
   "cell_type": "code",
   "execution_count": 211,
   "metadata": {},
   "outputs": [],
   "source": [
    "opt = list()\n",
    "opt$sumstats = \"/home/hs3163/Project/one_gene/data/WAIST.sumstat\"\n",
    "opt$weights = \"/home/hs3163/Project/one_gene/Whole_Blood/WEIGHTS/GTEx_V8.weights_list.txt\"\n",
    "opt$weights_dir = \"/\"\n",
    "opt$ref_ld_chr = \"/home/hs3163/Project/one_gene/data/GTEx.ref\" \n",
    "opt$chr =  7 \n",
    "opt$max_impute = 0.5 \n",
    "opt$out = \"/home/hs3163/Project/one_gene/WAIST.sumstat/Whole_Blood/result/WAIST_chr7.twas.txt\"\n"
   ]
  },
  {
   "cell_type": "code",
   "execution_count": 212,
   "metadata": {},
   "outputs": [],
   "source": [
    "library(dplyr)\n",
    "library(tibble)\n",
    "library(readr)"
   ]
  },
  {
   "cell_type": "code",
   "execution_count": 213,
   "metadata": {},
   "outputs": [
    {
     "name": "stderr",
     "output_type": "stream",
     "text": [
      "\n",
      "\u001b[36m──\u001b[39m \u001b[1m\u001b[1mColumn specification\u001b[1m\u001b[22m \u001b[36m────────────────────────────────────────────────────────\u001b[39m\n",
      "cols(\n",
      "  X1 = \u001b[32mcol_double()\u001b[39m,\n",
      "  CHR = \u001b[32mcol_double()\u001b[39m,\n",
      "  POS = \u001b[32mcol_double()\u001b[39m,\n",
      "  REF = \u001b[31mcol_character()\u001b[39m,\n",
      "  ALT = \u001b[31mcol_character()\u001b[39m,\n",
      "  SNP = \u001b[31mcol_character()\u001b[39m,\n",
      "  BETA = \u001b[32mcol_double()\u001b[39m,\n",
      "  SE = \u001b[32mcol_double()\u001b[39m,\n",
      "  P = \u001b[32mcol_double()\u001b[39m,\n",
      "  cood38 = \u001b[32mcol_double()\u001b[39m,\n",
      "  cood37 = \u001b[32mcol_double()\u001b[39m,\n",
      "  qc = \u001b[32mcol_double()\u001b[39m,\n",
      "  Dif = \u001b[32mcol_double()\u001b[39m,\n",
      "  SNP_new = \u001b[31mcol_character()\u001b[39m,\n",
      "  A1 = \u001b[31mcol_character()\u001b[39m,\n",
      "  A2 = \u001b[31mcol_character()\u001b[39m\n",
      ")\n",
      "\n",
      "\n"
     ]
    }
   ],
   "source": [
    "sumstat = read_delim(\"/home/hs3163/Project/one_gene/data/WAIST.sumstat\",delim = \"\\t\")\n",
    "sumstat = sumstat%>%mutate(A1 = REF,A2 = ALT)\n",
    "sumstat%>%write_delim(\"/home/hs3163/Project/one_gene/data/WAIST.sumstat\",delim = \"\\t\")"
   ]
  },
  {
   "cell_type": "code",
   "execution_count": 214,
   "metadata": {},
   "outputs": [],
   "source": [
    "allele.qc = function(a1,a2,ref1,ref2) {\n",
    "        a1 = toupper(a1)\n",
    "        a2 = toupper(a2)\n",
    "        ref1 = toupper(ref1)\n",
    "        ref2 = toupper(ref2)\n",
    "\n",
    "\tref = ref1\n",
    "\tflip = ref\n",
    "\tflip[ref == \"A\"] = \"T\"\n",
    "\tflip[ref == \"T\"] = \"A\"\n",
    "\tflip[ref == \"G\"] = \"C\"\n",
    "\tflip[ref == \"C\"] = \"G\"\n",
    "\tflip1 = flip\n",
    "\n",
    "\tref = ref2\n",
    "\tflip = ref\n",
    "\tflip[ref == \"A\"] = \"T\"\n",
    "\tflip[ref == \"T\"] = \"A\"\n",
    "\tflip[ref == \"G\"] = \"C\"\n",
    "\tflip[ref == \"C\"] = \"G\"\n",
    "\tflip2 = flip;\n",
    "\n",
    "\tsnp = list()\n",
    "\tsnp[[\"keep\"]] = !((a1==\"A\" & a2==\"T\") | (a1==\"T\" & a2==\"A\") | (a1==\"C\" & a2==\"G\") | (a1==\"G\" & a2==\"C\"))\n",
    "\tsnp[[\"keep\"]][ a1 != \"A\" & a1 != \"T\" & a1 != \"G\" & a1 != \"C\" ] = F\n",
    "\tsnp[[\"keep\"]][ a2 != \"A\" & a2 != \"T\" & a2 != \"G\" & a2 != \"C\" ] = F\n",
    "\tsnp[[\"flip\"]] = (a1 == ref2 & a2 == ref1) | (a1 == flip2 & a2 == flip1)\n",
    "\n",
    "\treturn(snp)\n",
    "}"
   ]
  },
  {
   "cell_type": "code",
   "execution_count": 215,
   "metadata": {},
   "outputs": [
    {
     "name": "stderr",
     "output_type": "stream",
     "text": [
      "Warning message in read.table(opt$weights, head = T, as.is = T):\n",
      "“incomplete final line found by readTableHeader on '/home/hs3163/Project/one_gene/Whole_Blood/WEIGHTS/GTEx_V8.weights_list.txt'”\n"
     ]
    }
   ],
   "source": [
    "sumstat = read.table(opt$sumstats,head=T,as.is=T)\n",
    "wgtlist = read.table(opt$weights,head=T,as.is=T)\n",
    "wgtlist = wgtlist[ as.character(wgtlist$CHR) == as.character(opt$chr) , ]\n",
    "chr = unique(wgtlist$CHR)\n",
    "N = nrow(wgtlist)\n",
    "out.tbl = data.frame( \"PANEL\" = rep(NA,N) , \"FILE\" = character(N) , \"ID\" = character(N) , \"CHR\" = numeric(N) , \"P0\" = character(N) , \"P1\" = character(N) ,\"HSQ\" = numeric(N) , \"BEST.GWAS.ID\" = character(N) , \"BEST.GWAS.Z\" = numeric(N) , \"EQTL.ID\" = character(N) , \"EQTL.R2\" = numeric(N) , \"EQTL.Z\" = numeric(N) , \"EQTL.GWAS.Z\" = numeric(N) , \"NSNP\" = numeric(N) , \"NWGT\" = numeric(N) , \"MODEL\" = character(N) , \"MODELCV.R2\" = character(N) , \"MODELCV.PV\" = character(N) , \"TWAS.Z\" = numeric(N) , \"TWAS.P\" = numeric(N) , stringsAsFactors=FALSE )"
   ]
  },
  {
   "cell_type": "code",
   "execution_count": 216,
   "metadata": {},
   "outputs": [],
   "source": [
    "genos = list()\n",
    "genos$bim = read.table(\"/home/hs3163/Project/one_gene/data/GTEx.ref.bim\")"
   ]
  },
  {
   "cell_type": "code",
   "execution_count": 217,
   "metadata": {},
   "outputs": [],
   "source": [
    "genos$bim = genos$bim%>%filter(V4 > sumstat$cood38[1],V4 < sumstat$cood38[nrow(sumstat)])"
   ]
  },
  {
   "cell_type": "code",
   "execution_count": 218,
   "metadata": {},
   "outputs": [],
   "source": [
    "sumstat = sumstat%>%mutate(A1 = REF,A2 = ALT)"
   ]
  },
  {
   "cell_type": "code",
   "execution_count": 219,
   "metadata": {},
   "outputs": [],
   "source": [
    "m = match( genos$bim[,2] , sumstat$SNP )\n",
    "sum.missing = is.na(m)"
   ]
  },
  {
   "cell_type": "code",
   "execution_count": null,
   "metadata": {},
   "outputs": [],
   "source": []
  },
  {
   "cell_type": "code",
   "execution_count": 220,
   "metadata": {},
   "outputs": [],
   "source": [
    "sumstat = sumstat[m,]\n",
    "sumstat$SNP = genos$bim[,2]"
   ]
  },
  {
   "cell_type": "code",
   "execution_count": 176,
   "metadata": {},
   "outputs": [],
   "source": []
  },
  {
   "cell_type": "code",
   "execution_count": 221,
   "metadata": {},
   "outputs": [],
   "source": [
    "sumstat$A1[ sum.missing ] = as.character(genos$bim[sum.missing,5])\n",
    "sumstat$A2[ sum.missing ] = as.character(genos$bim[sum.missing,6])"
   ]
  },
  {
   "cell_type": "code",
   "execution_count": null,
   "metadata": {},
   "outputs": [],
   "source": []
  },
  {
   "cell_type": "code",
   "execution_count": null,
   "metadata": {},
   "outputs": [],
   "source": []
  },
  {
   "cell_type": "code",
   "execution_count": 223,
   "metadata": {},
   "outputs": [],
   "source": [
    "qc = allele.qc( sumstat$A1 , sumstat$A2 , genos$bim[,5] , genos$bim[,6] )"
   ]
  },
  {
   "cell_type": "code",
   "execution_count": 224,
   "metadata": {},
   "outputs": [],
   "source": [
    "sumstat$Z[ qc$flip ] = -1 * sumstat$Z[ qc$flip ]"
   ]
  },
  {
   "cell_type": "code",
   "execution_count": 225,
   "metadata": {},
   "outputs": [],
   "source": [
    "sumstat$A1[ qc$flip ] = genos$bim[qc$flip,5]\n",
    "sumstat$A2[ qc$flip ] = genos$bim[qc$flip,6]"
   ]
  },
  {
   "cell_type": "code",
   "execution_count": 107,
   "metadata": {},
   "outputs": [],
   "source": []
  },
  {
   "cell_type": "code",
   "execution_count": 226,
   "metadata": {},
   "outputs": [],
   "source": [
    "if ( sum(!qc$keep) > 0 ) {\n",
    "\tgenos$bim = genos$bim[qc$keep,]\n",
    "\tgenos$bed = genos$bed[,qc$keep]\n",
    "\tsumstat = sumstat[qc$keep,]\n",
    "}"
   ]
  },
  {
   "cell_type": "code",
   "execution_count": 227,
   "metadata": {},
   "outputs": [],
   "source": [
    "FAIL.ctr = 0\n",
    "w = 1\n"
   ]
  },
  {
   "cell_type": "code",
   "execution_count": 228,
   "metadata": {},
   "outputs": [],
   "source": [
    "wgt.file = paste(opt$weights_dir,\"/\",wgtlist$WGT[w],sep='')"
   ]
  },
  {
   "cell_type": "code",
   "execution_count": 229,
   "metadata": {},
   "outputs": [
    {
     "data": {
      "text/html": [
       "'///home/hs3163/Project/one_gene/Whole_Blood/WEIGHTS/GTEx_V8.ENSG00000153814.wgt.RDat'"
      ],
      "text/latex": [
       "'///home/hs3163/Project/one\\_gene/Whole\\_Blood/WEIGHTS/GTEx\\_V8.ENSG00000153814.wgt.RDat'"
      ],
      "text/markdown": [
       "'///home/hs3163/Project/one_gene/Whole_Blood/WEIGHTS/GTEx_V8.ENSG00000153814.wgt.RDat'"
      ],
      "text/plain": [
       "[1] \"///home/hs3163/Project/one_gene/Whole_Blood/WEIGHTS/GTEx_V8.ENSG00000153814.wgt.RDat\""
      ]
     },
     "metadata": {},
     "output_type": "display_data"
    }
   ],
   "source": [
    "wgt.file"
   ]
  },
  {
   "cell_type": "code",
   "execution_count": 230,
   "metadata": {},
   "outputs": [],
   "source": [
    "\tload(wgt.file)\n",
    "\n"
   ]
  },
  {
   "cell_type": "code",
   "execution_count": 202,
   "metadata": {},
   "outputs": [],
   "source": [
    "\t# Remove NAs (these should not be here)\n",
    "\twgt.matrix[is.na(wgt.matrix)] = 0\n",
    "m = match( snps[,2] , genos$bim[,2] )\n",
    "\tm.keep = !is.na(m)"
   ]
  },
  {
   "cell_type": "code",
   "execution_count": 231,
   "metadata": {},
   "outputs": [],
   "source": [
    "snps = snps[m.keep,]"
   ]
  },
  {
   "cell_type": "code",
   "execution_count": 232,
   "metadata": {},
   "outputs": [],
   "source": [
    "cur.bim = genos$bim[m[m.keep],]"
   ]
  },
  {
   "cell_type": "code",
   "execution_count": 233,
   "metadata": {},
   "outputs": [
    {
     "data": {
      "text/html": [
       "<table class=\"dataframe\">\n",
       "<caption>A data.frame: 32220 × 6</caption>\n",
       "<thead>\n",
       "\t<tr><th></th><th scope=col>V1</th><th scope=col>V2</th><th scope=col>V3</th><th scope=col>V4</th><th scope=col>V5</th><th scope=col>V6</th></tr>\n",
       "\t<tr><th></th><th scope=col>&lt;int&gt;</th><th scope=col>&lt;fct&gt;</th><th scope=col>&lt;int&gt;</th><th scope=col>&lt;int&gt;</th><th scope=col>&lt;fct&gt;</th><th scope=col>&lt;fct&gt;</th></tr>\n",
       "</thead>\n",
       "<tbody>\n",
       "\t<tr><th scope=row>NA</th><td>NA</td><td>NA                   </td><td>NA</td><td>      NA</td><td>NA</td><td>NA</td></tr>\n",
       "\t<tr><th scope=row>NA.1</th><td>NA</td><td>NA                   </td><td>NA</td><td>      NA</td><td>NA</td><td>NA</td></tr>\n",
       "\t<tr><th scope=row>NA.2</th><td>NA</td><td>NA                   </td><td>NA</td><td>      NA</td><td>NA</td><td>NA</td></tr>\n",
       "\t<tr><th scope=row>NA.3</th><td>NA</td><td>NA                   </td><td>NA</td><td>      NA</td><td>NA</td><td>NA</td></tr>\n",
       "\t<tr><th scope=row>NA.4</th><td>NA</td><td>NA                   </td><td>NA</td><td>      NA</td><td>NA</td><td>NA</td></tr>\n",
       "\t<tr><th scope=row>NA.5</th><td>NA</td><td>NA                   </td><td>NA</td><td>      NA</td><td>NA</td><td>NA</td></tr>\n",
       "\t<tr><th scope=row>4</th><td> 7</td><td>chr7_27181165_C_A_b38</td><td> 0</td><td>27181165</td><td>C </td><td>A </td></tr>\n",
       "\t<tr><th scope=row>8</th><td> 7</td><td>chr7_27181189_C_T_b38</td><td> 0</td><td>27181189</td><td>C </td><td>T </td></tr>\n",
       "\t<tr><th scope=row>9</th><td> 7</td><td>chr7_27181212_A_G_b38</td><td> 0</td><td>27181212</td><td>A </td><td>G </td></tr>\n",
       "\t<tr><th scope=row>NA.6</th><td>NA</td><td>NA                   </td><td>NA</td><td>      NA</td><td>NA</td><td>NA</td></tr>\n",
       "\t<tr><th scope=row>NA.7</th><td>NA</td><td>NA                   </td><td>NA</td><td>      NA</td><td>NA</td><td>NA</td></tr>\n",
       "\t<tr><th scope=row>NA.8</th><td>NA</td><td>NA                   </td><td>NA</td><td>      NA</td><td>NA</td><td>NA</td></tr>\n",
       "\t<tr><th scope=row>NA.9</th><td>NA</td><td>NA                   </td><td>NA</td><td>      NA</td><td>NA</td><td>NA</td></tr>\n",
       "\t<tr><th scope=row>NA.10</th><td>NA</td><td>NA                   </td><td>NA</td><td>      NA</td><td>NA</td><td>NA</td></tr>\n",
       "\t<tr><th scope=row>11</th><td> 7</td><td>chr7_27181221_G_A_b38</td><td> 0</td><td>27181221</td><td>G </td><td>A </td></tr>\n",
       "\t<tr><th scope=row>NA.11</th><td>NA</td><td>NA                   </td><td>NA</td><td>      NA</td><td>NA</td><td>NA</td></tr>\n",
       "\t<tr><th scope=row>NA.12</th><td>NA</td><td>NA                   </td><td>NA</td><td>      NA</td><td>NA</td><td>NA</td></tr>\n",
       "\t<tr><th scope=row>NA.13</th><td>NA</td><td>NA                   </td><td>NA</td><td>      NA</td><td>NA</td><td>NA</td></tr>\n",
       "\t<tr><th scope=row>15</th><td> 7</td><td>chr7_27181462_G_A_b38</td><td> 0</td><td>27181462</td><td>G </td><td>A </td></tr>\n",
       "\t<tr><th scope=row>NA.14</th><td>NA</td><td>NA                   </td><td>NA</td><td>      NA</td><td>NA</td><td>NA</td></tr>\n",
       "\t<tr><th scope=row>NA.15</th><td>NA</td><td>NA                   </td><td>NA</td><td>      NA</td><td>NA</td><td>NA</td></tr>\n",
       "\t<tr><th scope=row>NA.16</th><td>NA</td><td>NA                   </td><td>NA</td><td>      NA</td><td>NA</td><td>NA</td></tr>\n",
       "\t<tr><th scope=row>16</th><td> 7</td><td>chr7_27181518_A_G_b38</td><td> 0</td><td>27181518</td><td>A </td><td>G </td></tr>\n",
       "\t<tr><th scope=row>17</th><td> 7</td><td>chr7_27181597_G_A_b38</td><td> 0</td><td>27181597</td><td>G </td><td>A </td></tr>\n",
       "\t<tr><th scope=row>NA.17</th><td>NA</td><td>NA                   </td><td>NA</td><td>      NA</td><td>NA</td><td>NA</td></tr>\n",
       "\t<tr><th scope=row>NA.18</th><td>NA</td><td>NA                   </td><td>NA</td><td>      NA</td><td>NA</td><td>NA</td></tr>\n",
       "\t<tr><th scope=row>18</th><td> 7</td><td>chr7_27181604_A_G_b38</td><td> 0</td><td>27181604</td><td>A </td><td>G </td></tr>\n",
       "\t<tr><th scope=row>19</th><td> 7</td><td>chr7_27181608_C_T_b38</td><td> 0</td><td>27181608</td><td>C </td><td>T </td></tr>\n",
       "\t<tr><th scope=row>NA.19</th><td>NA</td><td>NA                   </td><td>NA</td><td>      NA</td><td>NA</td><td>NA</td></tr>\n",
       "\t<tr><th scope=row>NA.20</th><td>NA</td><td>NA                   </td><td>NA</td><td>      NA</td><td>NA</td><td>NA</td></tr>\n",
       "\t<tr><th scope=row>⋮</th><td>⋮</td><td>⋮</td><td>⋮</td><td>⋮</td><td>⋮</td><td>⋮</td></tr>\n",
       "\t<tr><th scope=row>NA.23543</th><td>NA</td><td>NA                   </td><td>NA</td><td>      NA</td><td>NA</td><td>NA</td></tr>\n",
       "\t<tr><th scope=row>12785</th><td> 7</td><td>chr7_27988861_A_C_b38</td><td> 0</td><td>27988861</td><td>A </td><td>C </td></tr>\n",
       "\t<tr><th scope=row>NA.23544</th><td>NA</td><td>NA                   </td><td>NA</td><td>      NA</td><td>NA</td><td>NA</td></tr>\n",
       "\t<tr><th scope=row>NA.23545</th><td>NA</td><td>NA                   </td><td>NA</td><td>      NA</td><td>NA</td><td>NA</td></tr>\n",
       "\t<tr><th scope=row>NA.23546</th><td>NA</td><td>NA                   </td><td>NA</td><td>      NA</td><td>NA</td><td>NA</td></tr>\n",
       "\t<tr><th scope=row>12786</th><td> 7</td><td>chr7_27988867_T_C_b38</td><td> 0</td><td>27988867</td><td>T </td><td>C </td></tr>\n",
       "\t<tr><th scope=row>12787</th><td> 7</td><td>chr7_27989102_A_C_b38</td><td> 0</td><td>27989102</td><td>A </td><td>C </td></tr>\n",
       "\t<tr><th scope=row>NA.23547</th><td>NA</td><td>NA                   </td><td>NA</td><td>      NA</td><td>NA</td><td>NA</td></tr>\n",
       "\t<tr><th scope=row>NA.23548</th><td>NA</td><td>NA                   </td><td>NA</td><td>      NA</td><td>NA</td><td>NA</td></tr>\n",
       "\t<tr><th scope=row>12788</th><td> 7</td><td>chr7_27989138_A_G_b38</td><td> 0</td><td>27989138</td><td>A </td><td>G </td></tr>\n",
       "\t<tr><th scope=row>12789</th><td> 7</td><td>chr7_27989151_T_C_b38</td><td> 0</td><td>27989151</td><td>T </td><td>C </td></tr>\n",
       "\t<tr><th scope=row>NA.23549</th><td>NA</td><td>NA                   </td><td>NA</td><td>      NA</td><td>NA</td><td>NA</td></tr>\n",
       "\t<tr><th scope=row>12790</th><td> 7</td><td>chr7_27989352_G_T_b38</td><td> 0</td><td>27989352</td><td>G </td><td>T </td></tr>\n",
       "\t<tr><th scope=row>NA.23550</th><td>NA</td><td>NA                   </td><td>NA</td><td>      NA</td><td>NA</td><td>NA</td></tr>\n",
       "\t<tr><th scope=row>12791</th><td> 7</td><td>chr7_27989370_T_C_b38</td><td> 0</td><td>27989370</td><td>T </td><td>C </td></tr>\n",
       "\t<tr><th scope=row>12792</th><td> 7</td><td>chr7_27989490_C_T_b38</td><td> 0</td><td>27989490</td><td>C </td><td>T </td></tr>\n",
       "\t<tr><th scope=row>12794</th><td> 7</td><td>chr7_27989620_A_G_b38</td><td> 0</td><td>27989620</td><td>A </td><td>G </td></tr>\n",
       "\t<tr><th scope=row>NA.23551</th><td>NA</td><td>NA                   </td><td>NA</td><td>      NA</td><td>NA</td><td>NA</td></tr>\n",
       "\t<tr><th scope=row>NA.23552</th><td>NA</td><td>NA                   </td><td>NA</td><td>      NA</td><td>NA</td><td>NA</td></tr>\n",
       "\t<tr><th scope=row>NA.23553</th><td>NA</td><td>NA                   </td><td>NA</td><td>      NA</td><td>NA</td><td>NA</td></tr>\n",
       "\t<tr><th scope=row>12795</th><td> 7</td><td>chr7_27989637_G_A_b38</td><td> 0</td><td>27989637</td><td>G </td><td>A </td></tr>\n",
       "\t<tr><th scope=row>NA.23554</th><td>NA</td><td>NA                   </td><td>NA</td><td>      NA</td><td>NA</td><td>NA</td></tr>\n",
       "\t<tr><th scope=row>12796</th><td> 7</td><td>chr7_27989747_C_T_b38</td><td> 0</td><td>27989747</td><td>C </td><td>T </td></tr>\n",
       "\t<tr><th scope=row>12797</th><td> 7</td><td>chr7_27990100_A_C_b38</td><td> 0</td><td>27990100</td><td>A </td><td>C </td></tr>\n",
       "\t<tr><th scope=row>NA.23555</th><td>NA</td><td>NA                   </td><td>NA</td><td>      NA</td><td>NA</td><td>NA</td></tr>\n",
       "\t<tr><th scope=row>12798</th><td> 7</td><td>chr7_27990200_C_T_b38</td><td> 0</td><td>27990200</td><td>C </td><td>T </td></tr>\n",
       "\t<tr><th scope=row>12799</th><td> 7</td><td>chr7_27990275_A_G_b38</td><td> 0</td><td>27990275</td><td>A </td><td>G </td></tr>\n",
       "\t<tr><th scope=row>NA.23556</th><td>NA</td><td>NA                   </td><td>NA</td><td>      NA</td><td>NA</td><td>NA</td></tr>\n",
       "\t<tr><th scope=row>NA.23557</th><td>NA</td><td>NA                   </td><td>NA</td><td>      NA</td><td>NA</td><td>NA</td></tr>\n",
       "\t<tr><th scope=row>NA.23558</th><td>NA</td><td>NA                   </td><td>NA</td><td>      NA</td><td>NA</td><td>NA</td></tr>\n",
       "</tbody>\n",
       "</table>\n"
      ],
      "text/latex": [
       "A data.frame: 32220 × 6\n",
       "\\begin{tabular}{r|llllll}\n",
       "  & V1 & V2 & V3 & V4 & V5 & V6\\\\\n",
       "  & <int> & <fct> & <int> & <int> & <fct> & <fct>\\\\\n",
       "\\hline\n",
       "\tNA & NA & NA                    & NA &       NA & NA & NA\\\\\n",
       "\tNA.1 & NA & NA                    & NA &       NA & NA & NA\\\\\n",
       "\tNA.2 & NA & NA                    & NA &       NA & NA & NA\\\\\n",
       "\tNA.3 & NA & NA                    & NA &       NA & NA & NA\\\\\n",
       "\tNA.4 & NA & NA                    & NA &       NA & NA & NA\\\\\n",
       "\tNA.5 & NA & NA                    & NA &       NA & NA & NA\\\\\n",
       "\t4 &  7 & chr7\\_27181165\\_C\\_A\\_b38 &  0 & 27181165 & C  & A \\\\\n",
       "\t8 &  7 & chr7\\_27181189\\_C\\_T\\_b38 &  0 & 27181189 & C  & T \\\\\n",
       "\t9 &  7 & chr7\\_27181212\\_A\\_G\\_b38 &  0 & 27181212 & A  & G \\\\\n",
       "\tNA.6 & NA & NA                    & NA &       NA & NA & NA\\\\\n",
       "\tNA.7 & NA & NA                    & NA &       NA & NA & NA\\\\\n",
       "\tNA.8 & NA & NA                    & NA &       NA & NA & NA\\\\\n",
       "\tNA.9 & NA & NA                    & NA &       NA & NA & NA\\\\\n",
       "\tNA.10 & NA & NA                    & NA &       NA & NA & NA\\\\\n",
       "\t11 &  7 & chr7\\_27181221\\_G\\_A\\_b38 &  0 & 27181221 & G  & A \\\\\n",
       "\tNA.11 & NA & NA                    & NA &       NA & NA & NA\\\\\n",
       "\tNA.12 & NA & NA                    & NA &       NA & NA & NA\\\\\n",
       "\tNA.13 & NA & NA                    & NA &       NA & NA & NA\\\\\n",
       "\t15 &  7 & chr7\\_27181462\\_G\\_A\\_b38 &  0 & 27181462 & G  & A \\\\\n",
       "\tNA.14 & NA & NA                    & NA &       NA & NA & NA\\\\\n",
       "\tNA.15 & NA & NA                    & NA &       NA & NA & NA\\\\\n",
       "\tNA.16 & NA & NA                    & NA &       NA & NA & NA\\\\\n",
       "\t16 &  7 & chr7\\_27181518\\_A\\_G\\_b38 &  0 & 27181518 & A  & G \\\\\n",
       "\t17 &  7 & chr7\\_27181597\\_G\\_A\\_b38 &  0 & 27181597 & G  & A \\\\\n",
       "\tNA.17 & NA & NA                    & NA &       NA & NA & NA\\\\\n",
       "\tNA.18 & NA & NA                    & NA &       NA & NA & NA\\\\\n",
       "\t18 &  7 & chr7\\_27181604\\_A\\_G\\_b38 &  0 & 27181604 & A  & G \\\\\n",
       "\t19 &  7 & chr7\\_27181608\\_C\\_T\\_b38 &  0 & 27181608 & C  & T \\\\\n",
       "\tNA.19 & NA & NA                    & NA &       NA & NA & NA\\\\\n",
       "\tNA.20 & NA & NA                    & NA &       NA & NA & NA\\\\\n",
       "\t⋮ & ⋮ & ⋮ & ⋮ & ⋮ & ⋮ & ⋮\\\\\n",
       "\tNA.23543 & NA & NA                    & NA &       NA & NA & NA\\\\\n",
       "\t12785 &  7 & chr7\\_27988861\\_A\\_C\\_b38 &  0 & 27988861 & A  & C \\\\\n",
       "\tNA.23544 & NA & NA                    & NA &       NA & NA & NA\\\\\n",
       "\tNA.23545 & NA & NA                    & NA &       NA & NA & NA\\\\\n",
       "\tNA.23546 & NA & NA                    & NA &       NA & NA & NA\\\\\n",
       "\t12786 &  7 & chr7\\_27988867\\_T\\_C\\_b38 &  0 & 27988867 & T  & C \\\\\n",
       "\t12787 &  7 & chr7\\_27989102\\_A\\_C\\_b38 &  0 & 27989102 & A  & C \\\\\n",
       "\tNA.23547 & NA & NA                    & NA &       NA & NA & NA\\\\\n",
       "\tNA.23548 & NA & NA                    & NA &       NA & NA & NA\\\\\n",
       "\t12788 &  7 & chr7\\_27989138\\_A\\_G\\_b38 &  0 & 27989138 & A  & G \\\\\n",
       "\t12789 &  7 & chr7\\_27989151\\_T\\_C\\_b38 &  0 & 27989151 & T  & C \\\\\n",
       "\tNA.23549 & NA & NA                    & NA &       NA & NA & NA\\\\\n",
       "\t12790 &  7 & chr7\\_27989352\\_G\\_T\\_b38 &  0 & 27989352 & G  & T \\\\\n",
       "\tNA.23550 & NA & NA                    & NA &       NA & NA & NA\\\\\n",
       "\t12791 &  7 & chr7\\_27989370\\_T\\_C\\_b38 &  0 & 27989370 & T  & C \\\\\n",
       "\t12792 &  7 & chr7\\_27989490\\_C\\_T\\_b38 &  0 & 27989490 & C  & T \\\\\n",
       "\t12794 &  7 & chr7\\_27989620\\_A\\_G\\_b38 &  0 & 27989620 & A  & G \\\\\n",
       "\tNA.23551 & NA & NA                    & NA &       NA & NA & NA\\\\\n",
       "\tNA.23552 & NA & NA                    & NA &       NA & NA & NA\\\\\n",
       "\tNA.23553 & NA & NA                    & NA &       NA & NA & NA\\\\\n",
       "\t12795 &  7 & chr7\\_27989637\\_G\\_A\\_b38 &  0 & 27989637 & G  & A \\\\\n",
       "\tNA.23554 & NA & NA                    & NA &       NA & NA & NA\\\\\n",
       "\t12796 &  7 & chr7\\_27989747\\_C\\_T\\_b38 &  0 & 27989747 & C  & T \\\\\n",
       "\t12797 &  7 & chr7\\_27990100\\_A\\_C\\_b38 &  0 & 27990100 & A  & C \\\\\n",
       "\tNA.23555 & NA & NA                    & NA &       NA & NA & NA\\\\\n",
       "\t12798 &  7 & chr7\\_27990200\\_C\\_T\\_b38 &  0 & 27990200 & C  & T \\\\\n",
       "\t12799 &  7 & chr7\\_27990275\\_A\\_G\\_b38 &  0 & 27990275 & A  & G \\\\\n",
       "\tNA.23556 & NA & NA                    & NA &       NA & NA & NA\\\\\n",
       "\tNA.23557 & NA & NA                    & NA &       NA & NA & NA\\\\\n",
       "\tNA.23558 & NA & NA                    & NA &       NA & NA & NA\\\\\n",
       "\\end{tabular}\n"
      ],
      "text/markdown": [
       "\n",
       "A data.frame: 32220 × 6\n",
       "\n",
       "| <!--/--> | V1 &lt;int&gt; | V2 &lt;fct&gt; | V3 &lt;int&gt; | V4 &lt;int&gt; | V5 &lt;fct&gt; | V6 &lt;fct&gt; |\n",
       "|---|---|---|---|---|---|---|\n",
       "| NA | NA | NA                    | NA |       NA | NA | NA |\n",
       "| NA.1 | NA | NA                    | NA |       NA | NA | NA |\n",
       "| NA.2 | NA | NA                    | NA |       NA | NA | NA |\n",
       "| NA.3 | NA | NA                    | NA |       NA | NA | NA |\n",
       "| NA.4 | NA | NA                    | NA |       NA | NA | NA |\n",
       "| NA.5 | NA | NA                    | NA |       NA | NA | NA |\n",
       "| 4 |  7 | chr7_27181165_C_A_b38 |  0 | 27181165 | C  | A  |\n",
       "| 8 |  7 | chr7_27181189_C_T_b38 |  0 | 27181189 | C  | T  |\n",
       "| 9 |  7 | chr7_27181212_A_G_b38 |  0 | 27181212 | A  | G  |\n",
       "| NA.6 | NA | NA                    | NA |       NA | NA | NA |\n",
       "| NA.7 | NA | NA                    | NA |       NA | NA | NA |\n",
       "| NA.8 | NA | NA                    | NA |       NA | NA | NA |\n",
       "| NA.9 | NA | NA                    | NA |       NA | NA | NA |\n",
       "| NA.10 | NA | NA                    | NA |       NA | NA | NA |\n",
       "| 11 |  7 | chr7_27181221_G_A_b38 |  0 | 27181221 | G  | A  |\n",
       "| NA.11 | NA | NA                    | NA |       NA | NA | NA |\n",
       "| NA.12 | NA | NA                    | NA |       NA | NA | NA |\n",
       "| NA.13 | NA | NA                    | NA |       NA | NA | NA |\n",
       "| 15 |  7 | chr7_27181462_G_A_b38 |  0 | 27181462 | G  | A  |\n",
       "| NA.14 | NA | NA                    | NA |       NA | NA | NA |\n",
       "| NA.15 | NA | NA                    | NA |       NA | NA | NA |\n",
       "| NA.16 | NA | NA                    | NA |       NA | NA | NA |\n",
       "| 16 |  7 | chr7_27181518_A_G_b38 |  0 | 27181518 | A  | G  |\n",
       "| 17 |  7 | chr7_27181597_G_A_b38 |  0 | 27181597 | G  | A  |\n",
       "| NA.17 | NA | NA                    | NA |       NA | NA | NA |\n",
       "| NA.18 | NA | NA                    | NA |       NA | NA | NA |\n",
       "| 18 |  7 | chr7_27181604_A_G_b38 |  0 | 27181604 | A  | G  |\n",
       "| 19 |  7 | chr7_27181608_C_T_b38 |  0 | 27181608 | C  | T  |\n",
       "| NA.19 | NA | NA                    | NA |       NA | NA | NA |\n",
       "| NA.20 | NA | NA                    | NA |       NA | NA | NA |\n",
       "| ⋮ | ⋮ | ⋮ | ⋮ | ⋮ | ⋮ | ⋮ |\n",
       "| NA.23543 | NA | NA                    | NA |       NA | NA | NA |\n",
       "| 12785 |  7 | chr7_27988861_A_C_b38 |  0 | 27988861 | A  | C  |\n",
       "| NA.23544 | NA | NA                    | NA |       NA | NA | NA |\n",
       "| NA.23545 | NA | NA                    | NA |       NA | NA | NA |\n",
       "| NA.23546 | NA | NA                    | NA |       NA | NA | NA |\n",
       "| 12786 |  7 | chr7_27988867_T_C_b38 |  0 | 27988867 | T  | C  |\n",
       "| 12787 |  7 | chr7_27989102_A_C_b38 |  0 | 27989102 | A  | C  |\n",
       "| NA.23547 | NA | NA                    | NA |       NA | NA | NA |\n",
       "| NA.23548 | NA | NA                    | NA |       NA | NA | NA |\n",
       "| 12788 |  7 | chr7_27989138_A_G_b38 |  0 | 27989138 | A  | G  |\n",
       "| 12789 |  7 | chr7_27989151_T_C_b38 |  0 | 27989151 | T  | C  |\n",
       "| NA.23549 | NA | NA                    | NA |       NA | NA | NA |\n",
       "| 12790 |  7 | chr7_27989352_G_T_b38 |  0 | 27989352 | G  | T  |\n",
       "| NA.23550 | NA | NA                    | NA |       NA | NA | NA |\n",
       "| 12791 |  7 | chr7_27989370_T_C_b38 |  0 | 27989370 | T  | C  |\n",
       "| 12792 |  7 | chr7_27989490_C_T_b38 |  0 | 27989490 | C  | T  |\n",
       "| 12794 |  7 | chr7_27989620_A_G_b38 |  0 | 27989620 | A  | G  |\n",
       "| NA.23551 | NA | NA                    | NA |       NA | NA | NA |\n",
       "| NA.23552 | NA | NA                    | NA |       NA | NA | NA |\n",
       "| NA.23553 | NA | NA                    | NA |       NA | NA | NA |\n",
       "| 12795 |  7 | chr7_27989637_G_A_b38 |  0 | 27989637 | G  | A  |\n",
       "| NA.23554 | NA | NA                    | NA |       NA | NA | NA |\n",
       "| 12796 |  7 | chr7_27989747_C_T_b38 |  0 | 27989747 | C  | T  |\n",
       "| 12797 |  7 | chr7_27990100_A_C_b38 |  0 | 27990100 | A  | C  |\n",
       "| NA.23555 | NA | NA                    | NA |       NA | NA | NA |\n",
       "| 12798 |  7 | chr7_27990200_C_T_b38 |  0 | 27990200 | C  | T  |\n",
       "| 12799 |  7 | chr7_27990275_A_G_b38 |  0 | 27990275 | A  | G  |\n",
       "| NA.23556 | NA | NA                    | NA |       NA | NA | NA |\n",
       "| NA.23557 | NA | NA                    | NA |       NA | NA | NA |\n",
       "| NA.23558 | NA | NA                    | NA |       NA | NA | NA |\n",
       "\n"
      ],
      "text/plain": [
       "         V1 V2                    V3 V4       V5 V6\n",
       "NA       NA NA                    NA       NA NA NA\n",
       "NA.1     NA NA                    NA       NA NA NA\n",
       "NA.2     NA NA                    NA       NA NA NA\n",
       "NA.3     NA NA                    NA       NA NA NA\n",
       "NA.4     NA NA                    NA       NA NA NA\n",
       "NA.5     NA NA                    NA       NA NA NA\n",
       "4         7 chr7_27181165_C_A_b38  0 27181165 C  A \n",
       "8         7 chr7_27181189_C_T_b38  0 27181189 C  T \n",
       "9         7 chr7_27181212_A_G_b38  0 27181212 A  G \n",
       "NA.6     NA NA                    NA       NA NA NA\n",
       "NA.7     NA NA                    NA       NA NA NA\n",
       "NA.8     NA NA                    NA       NA NA NA\n",
       "NA.9     NA NA                    NA       NA NA NA\n",
       "NA.10    NA NA                    NA       NA NA NA\n",
       "11        7 chr7_27181221_G_A_b38  0 27181221 G  A \n",
       "NA.11    NA NA                    NA       NA NA NA\n",
       "NA.12    NA NA                    NA       NA NA NA\n",
       "NA.13    NA NA                    NA       NA NA NA\n",
       "15        7 chr7_27181462_G_A_b38  0 27181462 G  A \n",
       "NA.14    NA NA                    NA       NA NA NA\n",
       "NA.15    NA NA                    NA       NA NA NA\n",
       "NA.16    NA NA                    NA       NA NA NA\n",
       "16        7 chr7_27181518_A_G_b38  0 27181518 A  G \n",
       "17        7 chr7_27181597_G_A_b38  0 27181597 G  A \n",
       "NA.17    NA NA                    NA       NA NA NA\n",
       "NA.18    NA NA                    NA       NA NA NA\n",
       "18        7 chr7_27181604_A_G_b38  0 27181604 A  G \n",
       "19        7 chr7_27181608_C_T_b38  0 27181608 C  T \n",
       "NA.19    NA NA                    NA       NA NA NA\n",
       "NA.20    NA NA                    NA       NA NA NA\n",
       "⋮        ⋮  ⋮                     ⋮  ⋮        ⋮  ⋮ \n",
       "NA.23543 NA NA                    NA       NA NA NA\n",
       "12785     7 chr7_27988861_A_C_b38  0 27988861 A  C \n",
       "NA.23544 NA NA                    NA       NA NA NA\n",
       "NA.23545 NA NA                    NA       NA NA NA\n",
       "NA.23546 NA NA                    NA       NA NA NA\n",
       "12786     7 chr7_27988867_T_C_b38  0 27988867 T  C \n",
       "12787     7 chr7_27989102_A_C_b38  0 27989102 A  C \n",
       "NA.23547 NA NA                    NA       NA NA NA\n",
       "NA.23548 NA NA                    NA       NA NA NA\n",
       "12788     7 chr7_27989138_A_G_b38  0 27989138 A  G \n",
       "12789     7 chr7_27989151_T_C_b38  0 27989151 T  C \n",
       "NA.23549 NA NA                    NA       NA NA NA\n",
       "12790     7 chr7_27989352_G_T_b38  0 27989352 G  T \n",
       "NA.23550 NA NA                    NA       NA NA NA\n",
       "12791     7 chr7_27989370_T_C_b38  0 27989370 T  C \n",
       "12792     7 chr7_27989490_C_T_b38  0 27989490 C  T \n",
       "12794     7 chr7_27989620_A_G_b38  0 27989620 A  G \n",
       "NA.23551 NA NA                    NA       NA NA NA\n",
       "NA.23552 NA NA                    NA       NA NA NA\n",
       "NA.23553 NA NA                    NA       NA NA NA\n",
       "12795     7 chr7_27989637_G_A_b38  0 27989637 G  A \n",
       "NA.23554 NA NA                    NA       NA NA NA\n",
       "12796     7 chr7_27989747_C_T_b38  0 27989747 C  T \n",
       "12797     7 chr7_27990100_A_C_b38  0 27990100 A  C \n",
       "NA.23555 NA NA                    NA       NA NA NA\n",
       "12798     7 chr7_27990200_C_T_b38  0 27990200 C  T \n",
       "12799     7 chr7_27990275_A_G_b38  0 27990275 A  G \n",
       "NA.23556 NA NA                    NA       NA NA NA\n",
       "NA.23557 NA NA                    NA       NA NA NA\n",
       "NA.23558 NA NA                    NA       NA NA NA"
      ]
     },
     "metadata": {},
     "output_type": "display_data"
    }
   ],
   "source": [
    "cur.bim"
   ]
  },
  {
   "cell_type": "code",
   "execution_count": 234,
   "metadata": {},
   "outputs": [
    {
     "ename": "ERROR",
     "evalue": "Error in array(x, c(length(x), 1L), if (!is.null(names(x))) list(names(x), : 'data' must be of a vector type, was 'NULL'\n",
     "output_type": "error",
     "traceback": [
      "Error in array(x, c(length(x), 1L), if (!is.null(names(x))) list(names(x), : 'data' must be of a vector type, was 'NULL'\nTraceback:\n",
      "1. scale(genos$bed[, m[m.keep]])",
      "2. scale.default(genos$bed[, m[m.keep]])",
      "3. as.matrix(x)",
      "4. as.matrix.default(x)",
      "5. array(x, c(length(x), 1L), if (!is.null(names(x))) list(names(x), \n .     NULL) else NULL)"
     ]
    }
   ],
   "source": [
    "\n",
    "\t# Match up the SNPs and weights\n",
    "\tsnps = snps[m.keep,]\n",
    "\twgt.matrix = wgt.matrix[m.keep,,drop=F]\n",
    "\tcur.genos = scale(genos$bed[,m[m.keep]])\n",
    "\tcur.bim = genos$bim[m[m.keep],]"
   ]
  },
  {
   "cell_type": "code",
   "execution_count": null,
   "metadata": {},
   "outputs": [],
   "source": [
    "a1 = toupper(a1)\n",
    "a2 = toupper(a2)\n",
    "ref1 = toupper(ref1)\n",
    "ref2 = toupper(ref2)\n",
    "\n",
    "\tref = ref1\n",
    "\tflip = ref\n",
    "\tflip[ref == \"A\"] = \"T\"\n",
    "\tflip[ref == \"T\"] = \"A\"\n",
    "\tflip[ref == \"G\"] = \"C\"\n",
    "\tflip[ref == \"C\"] = \"G\"\n",
    "\tflip1 = flip\n",
    "\n",
    "\tref = ref2\n",
    "\tflip = ref\n",
    "\tflip[ref == \"A\"] = \"T\"\n",
    "\tflip[ref == \"T\"] = \"A\"\n",
    "\tflip[ref == \"G\"] = \"C\"\n",
    "\tflip[ref == \"C\"] = \"G\"\n",
    "\tflip2 = flip;\n",
    "\n",
    "\tsnp = list()\n",
    "\tsnp[[\"keep\"]] = !((a1==\"A\" & a2==\"T\") | (a1==\"T\" & a2==\"A\") | (a1==\"C\" & a2==\"G\") | (a1==\"G\" & a2==\"C\"))\n",
    "\tsnp[[\"keep\"]][ a1 != \"A\" & a1 != \"T\" & a1 != \"G\" & a1 != \"C\" ] = F\n",
    "\tsnp[[\"keep\"]][ a2 != \"A\" & a2 != \"T\" & a2 != \"G\" & a2 != \"C\" ] = F\n",
    "\tsnp[[\"flip\"]] = (a1 == ref2 & a2 == ref1) | (a1 == flip2 & a2 == flip1)\n",
    "\n"
   ]
  }
 ],
 "metadata": {
  "kernelspec": {
   "display_name": "R",
   "language": "R",
   "name": "ir"
  },
  "language_info": {
   "codemirror_mode": "r",
   "file_extension": ".r",
   "mimetype": "text/x-r-source",
   "name": "R",
   "pygments_lexer": "r",
   "version": "3.6.3"
  }
 },
 "nbformat": 4,
 "nbformat_minor": 4
}
