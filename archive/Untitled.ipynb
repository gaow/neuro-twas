{
 "cells": [
  {
   "cell_type": "code",
   "execution_count": null,
   "id": "6a2bfab1-3a5f-4be3-a0b0-29e1cef0eed0",
   "metadata": {},
   "outputs": [],
   "source": [
    "input_1$bhat%>%nrow\n",
    "input_1$Z = input_1$bhat/(input_1$sbhat)\n",
    "input_1$Z = input_1$Z%>%as_tibble()%>%cbind('SNP' = input_1$snps )\n",
    "R = R[which(rownames(R)%in%input_1$snps),which(colnames(R)%in%input_1$snps)]\n",
    "input_1$Z = input_1$Z[which(input_1$snps%in%rownames(R)),]\n",
    "input_1$Z%>%nrow\n",
    "nrow(R)"
   ]
  }
 ],
 "metadata": {
  "kernelspec": {
   "display_name": "R",
   "language": "R",
   "name": "ir"
  },
  "language_info": {
   "codemirror_mode": "r",
   "file_extension": ".r",
   "mimetype": "text/x-r-source",
   "name": "R",
   "pygments_lexer": "r",
   "version": "4.0.0"
  }
 },
 "nbformat": 4,
 "nbformat_minor": 5
}
