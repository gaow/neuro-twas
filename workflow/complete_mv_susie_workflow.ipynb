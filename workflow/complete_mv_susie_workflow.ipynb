{
 "cells": [
  {
   "cell_type": "markdown",
   "metadata": {},
   "source": [
    "# Complete documentation of reexcution of TWAS Rosmap MV Susie analysis\n",
    "Plan:\n",
    "1. Estimation of whole genome uni susie\n",
    "2. Prior estimation with the new flashier pipeline\n",
    "2.5 estimation of GCTA heritability for whole genome\n",
    "2.5 reestimation of GCTA heritability\n",
    "3. whole genome merging, remove extracted snps\n"
   ]
  },
  {
   "cell_type": "markdown",
   "metadata": {},
   "source": [
    "# Data reformatting"
   ]
  },
  {
   "cell_type": "code",
   "execution_count": null,
   "metadata": {},
   "outputs": [],
   "source": [
    "sos run ~/GIT/neuro-twas/Workflow/SOS_ROSMAP_gene_exp_processing.ipynb \\\n",
    "    --ref \"/home/hs3163/Project/Rosmap/data/patient_key_WGS.txt\" \\\n",
    "    --name_col 2 \\\n",
    "    --real_name_col 1 \\\n",
    "    --gene_exp \"/mnt/mfs/ctcn/datasets/rosmap/rnaseq/dlpfcTissue/batch0-m5/values/residuals/geneTpmResidualsAgeGenderAdj.txt\" \\\n",
    "    --start_at 2 \\\n",
    "    --output \"/home/hs3163/Project/Rosmap/data/gene_exp/DLPFC\" \\\n",
    "    -J 6 -q csg -c ~/system_file/csg.yml\n",
    "\n",
    "sos run ~/GIT/neuro-twas/Workflow/SOS_ROSMAP_gene_exp_processing.ipynb \\\n",
    "    --ref \"/home/hs3163/Project/Rosmap/data/patient_key_WGS.txt\" \\\n",
    "    --name_col 2 \\\n",
    "    --real_name_col 1 \\\n",
    "    --gene_exp \"/mnt/mfs/ctcn/datasets/rosmap/rnaseq/pccTissue/mbatch1-5/values/residuals/geneTpmResidualsAgeGenderAdj.txt\" \\\n",
    "    --start_at 2 \\\n",
    "    --output \"/home/hs3163/Project/Rosmap/data/gene_exp/PCC\" \\\n",
    "    -J 6 -q csg -c ~/system_file/csg.yml\n",
    "\n",
    "sos run ~/GIT/neuro-twas/Workflow/SOS_ROSMAP_gene_exp_processing.ipynb \\\n",
    "    --ref \"/home/hs3163/Project/Rosmap/data/patient_key_WGS.txt\" \\\n",
    "    --name_col 2 \\\n",
    "    --real_name_col 1 \\\n",
    "    --gene_exp \"/mnt/mfs/ctcn/datasets/rosmap/rnaseq/acTissue/mbatch1-4/values/residuals/geneTpmResidualsAgeGenderAdj.txt\" \\\n",
    "    --start_at 2 \\\n",
    "    --output \"/home/hs3163/Project/Rosmap/data/gene_exp/AC\" &"
   ]
  },
  {
   "cell_type": "code",
   "execution_count": null,
   "metadata": {},
   "outputs": [],
   "source": []
  },
  {
   "cell_type": "markdown",
   "metadata": {},
   "source": [
    "## Generation of Whole genome prior\n",
    "with modified windows and shared SNPs"
   ]
  },
  {
   "cell_type": "code",
   "execution_count": null,
   "metadata": {},
   "outputs": [],
   "source": [
    "nohup sos run ~/GIT/neuro-twas/Workflow/susie-wgs-prior.ipynb susie  \\\n",
    "  --molecular-pheno  /home/hs3163/Project/Rosmap/data/gene_exp/AC/geneTpmResidualsAgeGenderAdj_rename.txt  \\\n",
    "  --wd /home/hs3163/Project/Genome_prior/AC \\\n",
    "  --genotype_list /home/hs3163/Project/Rosmap/data/Rosmap_wgs_genotype_list.txt \\\n",
    "  --region_list /home/hs3163/Project/Rosmap/data/gene_exp/AC/geneTpmResidualsAgeGenderAdj_rename_region_list.txt \\\n",
    "  --region_name 1 \\\n",
    "  --data_start 2 \\\n",
    "  --window 500000 \\\n",
    "  --container /mnt/mfs/statgen/containers/twas_latest.sif \\\n",
    "  --job_size 1\\\n",
    "  -J 50 -q csg -c /mnt/mfs/statgen/pbs_template/csg.yml -s build &"
   ]
  },
  {
   "cell_type": "code",
   "execution_count": null,
   "metadata": {},
   "outputs": [],
   "source": [
    "nohup sos run ~/GIT/neuro-twas/Workflow/susie-wgs-prior.ipynb susie  \\\n",
    "  --molecular-pheno  /home/hs3163/Project/Rosmap/data/gene_exp/PCC/geneTpmResidualsAgeGenderAdj_rename.txt  \\\n",
    "  --wd /home/hs3163/Project/Genome_prior/PCC \\\n",
    "  --genotype_list /home/hs3163/Project/Rosmap/data/Rosmap_wgs_genotype_list.txt \\\n",
    "  --region_list /home/hs3163/Project/Rosmap/data/gene_exp/PCC/geneTpmResidualsAgeGenderAdj_rename_region_list.txt \\\n",
    "  --region_name 1 \\\n",
    "  --data_start 2 \\\n",
    "  --window 500000 \\\n",
    "  --container /mnt/mfs/statgen/containers/twas_latest.sif \\\n",
    "  --job_size 1\\\n",
    "  -J 50 -q csg -c ~/GIT/neuro-twas/template/csg.yml -s build &"
   ]
  },
  {
   "cell_type": "code",
   "execution_count": null,
   "metadata": {},
   "outputs": [],
   "source": [
    "nohup sos run ~/GIT/neuro-twas/Workflow/susie-wgs-prior.ipynb susie  \\\n",
    "  --molecular-pheno  /home/hs3163/Project/Rosmap/data/gene_exp/DLPFC/geneTpmResidualsAgeGenderAdj_rename.txt  \\\n",
    "  --wd /home/hs3163/Project/Genome_prior/DLPFC \\\n",
    "  --genotype_list /home/hs3163/Project/Rosmap/data/Rosmap_wgs_genotype_list.txt \\\n",
    "  --region_list /home/hs3163/Project/Rosmap/data/gene_exp/DLPFC/geneTpmResidualsAgeGenderAdj_rename_region_list.txt \\\n",
    "  --region_name 1 \\\n",
    "  --data_start 2 \\\n",
    "  --window 500000 \\\n",
    "  --container /mnt/mfs/statgen/containers/twas_latest.sif \\\n",
    "  --job_size 1\\\n",
    "  -J 50 -q csg -c ~/GIT/neuro-twas/template/csg.yml -s build &"
   ]
  },
  {
   "cell_type": "markdown",
   "metadata": {},
   "source": [
    "# Compute the mixture prior ( Use the updated version)"
   ]
  },
  {
   "cell_type": "markdown",
   "metadata": {},
   "source": [
    "## Merging the tissues"
   ]
  },
  {
   "cell_type": "code",
   "execution_count": null,
   "metadata": {},
   "outputs": [],
   "source": [
    "nohup sos run ~/GIT/bioworkflows/multivariate-fine-mapping/mixture_prior.ipynb convert_plink \\\n",
    "--molecular_pheno /home/hs3163/Project/Genome_prior/data/molc_dir    \\\n",
    "--analysis-units /home/hs3163/Project/Genome_prior/data/rds_list_test  \\\n",
    "--cwd   /home/hs3163/Project/Genome_prior/mixture_prior/output \\\n",
    "--name \"geneTpmResidualsAgeGenderAdj_rename\" \\\n",
    "--container /mnt/mfs/statgen/containers/twas_latest.sif \\\n",
    "-s build &"
   ]
  },
  {
   "cell_type": "markdown",
   "metadata": {},
   "source": [
    "## Extracting the strongest, null .etc signals"
   ]
  },
  {
   "cell_type": "code",
   "execution_count": null,
   "metadata": {},
   "outputs": [],
   "source": [
    "    cd /home/hs3163/Project/Genome_prior/mixture_prior/output/RDS/  && ls *.rds | sed 's/\\.rds//g' > analysis_units.txt && cd -\n",
    "    nohup sos run ~/GIT/bioworkflows/multivariate-fine-mapping/mixture_prior.ipynb extract_effects \\\n",
    "        --analysis-units /home/hs3163/Project/Genome_prior/mixture_prior/output/RDS/analysis_units.txt \\\n",
    "        --datadir /home/hs3163/Project/Genome_prior/mixture_prior/output/RDS/ \\\n",
    "        --name 'susie'  \\\n",
    "        --container /mnt/mfs/statgen/containers/twas_latest.sif \\\n",
    "        --cwd /home/hs3163/Project/Genome_prior/mixture_prior/output/ &"
   ]
  },
  {
   "cell_type": "markdown",
   "metadata": {},
   "source": [
    "## Create flashr output\n"
   ]
  },
  {
   "cell_type": "code",
   "execution_count": null,
   "metadata": {},
   "outputs": [],
   "source": [
    "nohup sos run ~/GIT/bioworkflows/multivariate-fine-mapping/mixture_prior.ipynb flash \\\n",
    "        --analysis-units /home/hs3163/Project/Genome_prior/mixture_prior/output/RDS/analysis_units.txt \\\n",
    "        --datadir /home/hs3163/Project/Genome_prior/mixture_prior/output/RDS/ \\\n",
    "        --name 'susie'  \\\n",
    "        --container /mnt/mfs/statgen/containers/twas_latest.sif \\\n",
    "        --cwd /home/hs3163/Project/Genome_prior/mixture_prior/output/ \\\n",
    "        -J 50 -q csg -c ~/GIT/neuro-twas/template/csg.yml -s build &\n",
    "        \n",
    "nohup sos run ~/GIT/bioworkflows/multivariate-fine-mapping/mixture_prior.ipynb flash_nonneg \\\n",
    "        --analysis-units /home/hs3163/Project/Genome_prior/mixture_prior/output/RDS/analysis_units.txt \\\n",
    "        --datadir /home/hs3163/Project/Genome_prior/mixture_prior/output/RDS/ \\\n",
    "        --name 'susie'  \\\n",
    "        --container /mnt/mfs/statgen/containers/twas_latest.sif \\\n",
    "        --cwd /home/hs3163/Project/Genome_prior/mixture_prior/output/ \\\n",
    "        -J 50 -q csg -c ~/GIT/neuro-twas/template/csg.yml -s build &\n",
    "\n",
    "nohup sos run ~/GIT/bioworkflows/multivariate-fine-mapping/mixture_prior.ipynb pca \\\n",
    "        --analysis-units /home/hs3163/Project/Genome_prior/mixture_prior/output/RDS/analysis_units.txt \\\n",
    "        --datadir /home/hs3163/Project/Genome_prior/mixture_prior/output/RDS/ \\\n",
    "        --name 'susie'  \\\n",
    "        --container /mnt/mfs/statgen/containers/twas_latest.sif \\\n",
    "        --cwd /home/hs3163/Project/Genome_prior/mixture_prior/output/ \\\n",
    "        -J 50 -q csg -c ~/GIT/neuro-twas/template/csg.yml -s build &\n",
    "        \n",
    "nohup sos run ~/GIT/bioworkflows/multivariate-fine-mapping/mixture_prior.ipynb canonical \\\n",
    "        --analysis-units /home/hs3163/Project/Genome_prior/mixture_prior/output/RDS/analysis_units.txt \\\n",
    "        --datadir /home/hs3163/Project/Genome_prior/mixture_prior/output/RDS/ \\\n",
    "        --name 'susie'  \\\n",
    "        --container /mnt/mfs/statgen/containers/twas_latest.sif \\\n",
    "        --cwd /home/hs3163/Project/Genome_prior/mixture_prior/output/ \\\n",
    "        -J 50 -q csg -c ~/GIT/neuro-twas/template/csg.yml -s build &\n"
   ]
  },
  {
   "cell_type": "markdown",
   "metadata": {},
   "source": [
    "## Extreme Deconvolution"
   ]
  },
  {
   "cell_type": "code",
   "execution_count": null,
   "metadata": {},
   "outputs": [],
   "source": [
    "for m in /home/hs3163/Project/Genome_prior/mixture_prior/output/RDS/; do\n",
    "    sos run mixture_prior.ipynb ud \\\n",
    "        --datadir $m --name `basename $m` &> ed_$m.log\n",
    "    sos run mixture_prior.ipynb ud --ud-method teem \\\n",
    "        --datadir $m --name `basename $m` &> teem_$m.log\n",
    "    sos run mixture_prior.ipynb ed \\\n",
    "        --datadir $m --name `basename $m` &> bovy_$m.log\n",
    "done\n",
    "\n",
    "nohup sos run ~/GIT/bioworkflows/multivariate-fine-mapping/mixture_prior.ipynb ud \\\n",
    "        --analysis-units /home/hs3163/Project/Genome_prior/mixture_prior/output/RDS/analysis_units.txt \\\n",
    "        --datadir /home/hs3163/Project/Genome_prior/mixture_prior/output/RDS/ \\\n",
    "        --name 'susie'  \\\n",
    "        --container /mnt/mfs/statgen/containers/twas_latest.sif \\\n",
    "        --cwd /home/hs3163/Project/Genome_prior/mixture_prior/output/ \\\n",
    "        -J 50 -q csg -c ~/GIT/neuro-twas/template/csg.yml -s build &\n",
    "\n",
    "nohup sos run ~/GIT/bioworkflows/multivariate-fine-mapping/mixture_prior.ipynb ud --ud-method teem  \\\n",
    "        --analysis-units /home/hs3163/Project/Genome_prior/mixture_prior/output/RDS/analysis_units.txt \\\n",
    "        --datadir /home/hs3163/Project/Genome_prior/mixture_prior/output/RDS/ \\\n",
    "        --name 'susie'  \\\n",
    "        --container /mnt/mfs/statgen/containers/twas_latest.sif \\\n",
    "        --cwd /home/hs3163/Project/Genome_prior/mixture_prior/output/ \\\n",
    "        -J 50 -q csg -c ~/GIT/neuro-twas/template/csg.yml -s build &\n",
    "        \n",
    "nohup sos run ~/GIT/bioworkflows/multivariate-fine-mapping/mixture_prior.ipynb ed \\\n",
    "        --analysis-units /home/hs3163/Project/Genome_prior/mixture_prior/output/RDS/analysis_units.txt \\\n",
    "        --datadir /home/hs3163/Project/Genome_prior/mixture_prior/output/RDS/ \\\n",
    "        --name 'susie'  \\\n",
    "        --container /mnt/mfs/statgen/containers/twas_latest.sif \\\n",
    "        --cwd /home/hs3163/Project/Genome_prior/mixture_prior/output/ \\\n",
    "        -J 50 -q csg -c ~/GIT/neuro-twas/template/csg.yml -s build &\n",
    "\n"
   ]
  },
  {
   "cell_type": "markdown",
   "metadata": {},
   "source": [
    "# MV SuSie with mixture prior"
   ]
  },
  {
   "cell_type": "code",
   "execution_count": null,
   "metadata": {},
   "outputs": [],
   "source": [
    "nohup sos run ~/GIT/neuro-twas/Workflow/mv_susie.ipynb mv_susie \\\n",
    "--molecular_pheno_dir \"/mnt/mfs/statgen/neuro-twas/mv_wg/molecular_phenotype_list\" \\\n",
    "--region_list /mnt/mfs/statgen/neuro-twas/mv_wg/wg_rds_list_final \\\n",
    "--wd \"/mnt/mfs/statgen/neuro-twas/whole_genome_0504/\" \\\n",
    "--name_prefix \"geneTpmResidualsAgeGenderAdj_rename\" \\\n",
    "--container /mnt/mfs/statgen/containers/twas_latest.sif \\\n",
    "--impute TRUE --job_size 1 \\\n",
    "--cv_times 100 \\\n",
    "--mixture_prior '/home/hs3163/Project/Genome_prior/mixture_prior/output/susie.ed.rds' \\\n",
    "-J 200 -q csg -c ~/GIT/neuro-twas/template/csg.yml -s build &\n",
    "\n",
    "nohup sos run ~/GIT/neuro-twas/Workflow/mv_susie.ipynb mv_susie \\\n",
    "--molecular_pheno_dir \"/mnt/mfs/statgen/neuro-twas/mv_wg/molecular_phenotype_list\" \\\n",
    "--region_list /mnt/mfs/statgen/neuro-twas/mv_wg/wg_rds_list_final \\\n",
    "--wd \"/mnt/mfs/statgen/neuro-twas/whole_genome_0504/\" \\\n",
    "--name_prefix \"geneTpmResidualsAgeGenderAdj_rename\" \\\n",
    "--container /mnt/mfs/statgen/containers/twas_latest.sif \\\n",
    "--impute TRUE --job_size 1 \\\n",
    "--cv_times 100 \\\n",
    "--mixture_prior '/home/hs3163/Project/Genome_prior/mixture_prior/output/susie.ed_bovy.rds' \\\n",
    "-J 200 -q csg -c ~/GIT/neuro-twas/template/csg.yml -s build &\n",
    "\n",
    "nohup sos run ~/GIT/neuro-twas/Workflow/mv_susie.ipynb mv_susie \\\n",
    "--molecular_pheno_dir \"/mnt/mfs/statgen/neuro-twas/mv_wg/molecular_phenotype_list\" \\\n",
    "--region_list /mnt/mfs/statgen/neuro-twas/mv_wg/wg_rds_list_final \\\n",
    "--wd \"/mnt/mfs/statgen/neuro-twas/whole_genome_0504/\" \\\n",
    "--name_prefix \"geneTpmResidualsAgeGenderAdj_rename\" \\\n",
    "--container /mnt/mfs/statgen/containers/twas_latest.sif \\\n",
    "--impute TRUE --job_size 1 \\\n",
    "--cv_times 100 \\\n",
    "--mixture_prior '/home/hs3163/Project/Genome_prior/mixture_prior/output/susie.teem.rds' \\\n",
    "-J 200 -q csg -c ~/GIT/neuro-twas/template/csg.yml -s build &"
   ]
  }
 ],
 "metadata": {
  "kernelspec": {
   "display_name": "SoS",
   "language": "sos",
   "name": "sos"
  },
  "language_info": {
   "codemirror_mode": "sos",
   "file_extension": ".sos",
   "mimetype": "text/x-sos",
   "name": "sos",
   "nbconvert_exporter": "sos_notebook.converter.SoS_Exporter",
   "pygments_lexer": "sos"
  }
 },
 "nbformat": 4,
 "nbformat_minor": 4
}
