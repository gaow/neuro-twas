{
 "cells": [
  {
   "cell_type": "markdown",
   "metadata": {
    "kernel": "SoS"
   },
   "source": [
    "# Complete documentation of excution of TWAS Rosmap MV Susie analysis\n",
    "Complete workflow to generate multivariate susie TWAS result for the ROSMAP data set."
   ]
  },
  {
   "cell_type": "markdown",
   "metadata": {
    "kernel": "SoS"
   },
   "source": [
    "## Overview\n",
    "1. Data Reformating\n",
    "2. Univariate SuSiE\n",
    "2. Estimation of whole genome prior\n",
    "3. multivariate susie\n",
    "4. Reformatting of mv SuSiE result\n",
    "5. Association testing"
   ]
  },
  {
   "cell_type": "markdown",
   "metadata": {
    "kernel": "SoS"
   },
   "source": [
    "## Data reformatting\n",
    "This step transform the format of ROSMAP RNA-Seq data and annotate the posistion of each genes"
   ]
  },
  {
   "cell_type": "code",
   "execution_count": null,
   "metadata": {
    "kernel": "SoS"
   },
   "outputs": [],
   "source": [
    "sos run /home/hs3163/GIT/neuro-twas/workflow/rosmap_reformatting.ipynb \\\n",
    "    --ref \"/home/hs3163/Project/Rosmap/data/patient_key_WGS.txt\" \\\n",
    "    --name_col 2 \\\n",
    "    --real_name_col 1 \\\n",
    "    --gene_exp \"/mnt/mfs/ctcn/datasets/rosmap/rnaseq/dlpfcTissue/batch0-m5/values/residuals/geneTpmResidualsAgeGenderAdj.txt\" \\\n",
    "    --start_at 2 \\\n",
    "    --output \"/home/hs3163/Project/Rosmap/data/gene_exp/DLPFC\" \\\n",
    "    -J 6 -q csg -c ~/system_file/csg.yml\n",
    "\n",
    "sos run /home/hs3163/GIT/neuro-twas/workflow/rosmap_reformatting.ipynb \\\n",
    "    --ref \"/home/hs3163/Project/Rosmap/data/patient_key_WGS.txt\" \\\n",
    "    --name_col 2 \\\n",
    "    --real_name_col 1 \\\n",
    "    --gene_exp \"/mnt/mfs/ctcn/datasets/rosmap/rnaseq/pccTissue/mbatch1-5/values/residuals/geneTpmResidualsAgeGenderAdj.txt\" \\\n",
    "    --start_at 2 \\\n",
    "    --output \"/home/hs3163/Project/Rosmap/data/gene_exp/PCC\" \\\n",
    "    -J 6 -q csg -c ~/system_file/csg.yml\n",
    "\n",
    "sos run /home/hs3163/GIT/neuro-twas/workflow/rosmap_reformatting.ipynb \\\n",
    "    --ref \"/home/hs3163/Project/Rosmap/data/patient_key_WGS.txt\" \\\n",
    "    --name_col 2 \\\n",
    "    --real_name_col 1 \\\n",
    "    --gene_exp \"/mnt/mfs/ctcn/datasets/rosmap/rnaseq/acTissue/mbatch1-4/values/residuals/geneTpmResidualsAgeGenderAdj.txt\" \\\n",
    "    --start_at 2 \\\n",
    "    --output \"/home/hs3163/Project/Rosmap/data/gene_exp/AC\" &"
   ]
  },
  {
   "cell_type": "markdown",
   "metadata": {
    "kernel": "SoS"
   },
   "source": [
    "## Generation of Whole genome prior\n",
    "with modified windows and shared SNPs"
   ]
  },
  {
   "cell_type": "code",
   "execution_count": null,
   "metadata": {
    "kernel": "SoS"
   },
   "outputs": [],
   "source": [
    "nohup sos run ~/GIT/neuro-twas/workflow/uni_susie.ipynb susie  \\\n",
    "  --molecular-pheno  /home/hs3163/Project/Rosmap/data/gene_exp/AC/geneTpmResidualsAgeGenderAdj_rename.txt  \\\n",
    "  --wd /home/hs3163/Project/Genome_prior/AC \\\n",
    "  --genotype_list /home/hs3163/Project/Rosmap/data/Rosmap_wgs_genotype_list.txt \\\n",
    "  --region_list /home/hs3163/Project/Rosmap/data/gene_exp/AC/geneTpmResidualsAgeGenderAdj_rename_region_list.txt \\\n",
    "  --region_name 1 \\\n",
    "  --data_start 2 \\\n",
    "  --window 500000 \\\n",
    "  --container /mnt/mfs/statgen/containers/twas_latest.sif \\\n",
    "  --job_size 1\\\n",
    "  -J 50 -q csg -c /mnt/mfs/statgen/pbs_template/csg.yml -s build &"
   ]
  },
  {
   "cell_type": "code",
   "execution_count": null,
   "metadata": {
    "kernel": "SoS"
   },
   "outputs": [],
   "source": [
    "nohup sos run ~/GIT/neuro-twas/workflow/uni_susie.ipynb susie  \\\n",
    "  --molecular-pheno  /home/hs3163/Project/Rosmap/data/gene_exp/PCC/geneTpmResidualsAgeGenderAdj_rename.txt  \\\n",
    "  --wd /home/hs3163/Project/Genome_prior/PCC \\\n",
    "  --genotype_list /home/hs3163/Project/Rosmap/data/Rosmap_wgs_genotype_list.txt \\\n",
    "  --region_list /home/hs3163/Project/Rosmap/data/gene_exp/PCC/geneTpmResidualsAgeGenderAdj_rename_region_list.txt \\\n",
    "  --region_name 1 \\\n",
    "  --data_start 2 \\\n",
    "  --window 500000 \\\n",
    "  --container /mnt/mfs/statgen/containers/twas_latest.sif \\\n",
    "  --job_size 1\\\n",
    "  -J 50 -q csg -c ~/GIT/neuro-twas/template/csg.yml -s build &"
   ]
  },
  {
   "cell_type": "code",
   "execution_count": null,
   "metadata": {
    "kernel": "SoS"
   },
   "outputs": [],
   "source": [
    "nohup sos run /home/hs3163/GIT/neuro-twas/workflow/uni_susie.ipynb susie  \\\n",
    "  --molecular-pheno  /home/hs3163/Project/Rosmap/data/gene_exp/DLPFC/geneTpmResidualsAgeGenderAdj_rename.txt  \\\n",
    "  --wd /home/hs3163/Project/Genome_prior/DLPFC \\\n",
    "  --genotype_list /home/hs3163/Project/Rosmap/data/Rosmap_wgs_genotype_list.txt \\\n",
    "  --region_list /home/hs3163/Project/Rosmap/data/gene_exp/DLPFC/geneTpmResidualsAgeGenderAdj_rename_region_list.txt \\\n",
    "  --region_name 1 \\\n",
    "  --data_start 2 \\\n",
    "  --window 500000 \\\n",
    "  --container /mnt/mfs/statgen/containers/twas_latest.sif \\\n",
    "  --job_size 1\\\n",
    "  -J 50 -q csg -c ~/GIT/neuro-twas/template/csg.yml -s build &"
   ]
  },
  {
   "cell_type": "markdown",
   "metadata": {
    "kernel": "SoS"
   },
   "source": [
    "### Compute the mixture prior ( Use the updated version)"
   ]
  },
  {
   "cell_type": "markdown",
   "metadata": {
    "kernel": "SoS"
   },
   "source": [
    "#### Merging the tissues"
   ]
  },
  {
   "cell_type": "code",
   "execution_count": null,
   "metadata": {
    "kernel": "SoS"
   },
   "outputs": [],
   "source": [
    "nohup sos run ~/GIT/bioworkflows/multivariate-fine-mapping/mixture_prior.ipynb merge \\\n",
    "--molecular_pheno /home/hs3163/Project/Genome_prior/data/molc_dir    \\\n",
    "--analysis-units /home/hs3163/Project/Genome_prior/data/rds_list  \\\n",
    "--cwd   /home/hs3163/Project/Genome_prior/mixture_prior/output \\\n",
    "--name \"geneTpmResidualsAgeGenderAdj_rename\" \\\n",
    "--container /mnt/mfs/statgen/containers/twas_latest.sif \\\n",
    "-s build &"
   ]
  },
  {
   "cell_type": "markdown",
   "metadata": {
    "kernel": "SoS"
   },
   "source": [
    "#### Extracting the strongest, null .etc signals"
   ]
  },
  {
   "cell_type": "code",
   "execution_count": null,
   "metadata": {
    "kernel": "SoS"
   },
   "outputs": [],
   "source": [
    "    cd /home/hs3163/Project/Genome_prior/mixture_prior/output/RDS/  && ls *.rds | sed 's/\\.rds//g' > analysis_units.txt && cd -\n",
    "    nohup sos run ~/GIT/bioworkflows/multivariate-fine-mapping/mixture_prior.ipynb extract_effects \\\n",
    "        --analysis-units /home/hs3163/Project/Genome_prior/mixture_prior/output/RDS/analysis_units.txt \\\n",
    "        --datadir /home/hs3163/Project/Genome_prior/mixture_prior/output/RDS/ \\\n",
    "        --name 'susie'  \\\n",
    "        --container /mnt/mfs/statgen/containers/twas_latest.sif \\\n",
    "        --cwd /home/hs3163/Project/Genome_prior/mixture_prior/output/ &"
   ]
  },
  {
   "cell_type": "markdown",
   "metadata": {
    "kernel": "SoS"
   },
   "source": [
    "#### Create flashr output\n"
   ]
  },
  {
   "cell_type": "code",
   "execution_count": null,
   "metadata": {
    "kernel": "SoS"
   },
   "outputs": [],
   "source": [
    "nohup sos run ~/GIT/bioworkflows/multivariate-fine-mapping/mixture_prior.ipynb flash \\\n",
    "        --analysis-units /home/hs3163/Project/Genome_prior/mixture_prior/output/RDS/analysis_units.txt \\\n",
    "        --datadir /home/hs3163/Project/Genome_prior/mixture_prior/output/RDS/ \\\n",
    "        --name 'susie'  \\\n",
    "        --container /mnt/mfs/statgen/containers/twas_latest.sif \\\n",
    "        --cwd /home/hs3163/Project/Genome_prior/mixture_prior/output/ &  \\\n",
    "        -J 50 -q csg -c /home/hs3163/GIT/neuro-twas/code/csg.yml -s build &\n",
    "        \n",
    "nohup sos run ~/GIT/bioworkflows/multivariate-fine-mapping/mixture_prior.ipynb flash_nonneg \\\n",
    "        --analysis-units /home/hs3163/Project/Genome_prior/mixture_prior/output/RDS/analysis_units.txt \\\n",
    "        --datadir /home/hs3163/Project/Genome_prior/mixture_prior/output/RDS/ \\\n",
    "        --name 'susie'  \\\n",
    "        --container /mnt/mfs/statgen/containers/twas_latest.sif \\\n",
    "        --cwd /home/hs3163/Project/Genome_prior/mixture_prior/output/ \\\n",
    "        -J 50 -q csg -c /home/hs3163/GIT/neuro-twas/code/csg.yml -s build &\n",
    "\n",
    "nohup sos run ~/GIT/bioworkflows/multivariate-fine-mapping/mixture_prior.ipynb pca \\\n",
    "        --analysis-units /home/hs3163/Project/Genome_prior/mixture_prior/output/RDS/analysis_units.txt \\\n",
    "        --datadir /home/hs3163/Project/Genome_prior/mixture_prior/output/RDS/ \\\n",
    "        --name 'susie'  \\\n",
    "        --container /mnt/mfs/statgen/containers/twas_latest.sif \\\n",
    "        --cwd /home/hs3163/Project/Genome_prior/mixture_prior/output/ \\\n",
    "        -J 50 -q csg -c /home/hs3163/GIT/neuro-twas/code/csg.yml -s build &\n",
    "        \n",
    "nohup sos run ~/GIT/bioworkflows/multivariate-fine-mapping/mixture_prior.ipynb canonical \\\n",
    "        --analysis-units /home/hs3163/Project/Genome_prior/mixture_prior/output/RDS/analysis_units.txt \\\n",
    "        --datadir /home/hs3163/Project/Genome_prior/mixture_prior/output/RDS/ \\\n",
    "        --name 'susie'  \\\n",
    "        --container /mnt/mfs/statgen/containers/twas_latest.sif \\\n",
    "        --cwd /home/hs3163/Project/Genome_prior/mixture_prior/output/ \\\n",
    "        -J 50 -q csg -c /home/hs3163/GIT/neuro-twas/code/csg.yml -s build &\n"
   ]
  },
  {
   "cell_type": "markdown",
   "metadata": {
    "kernel": "SoS"
   },
   "source": [
    "#### Extreme Deconvolution"
   ]
  },
  {
   "cell_type": "code",
   "execution_count": null,
   "metadata": {
    "kernel": "SoS"
   },
   "outputs": [],
   "source": [
    "nohup sos dryrun ~/GIT/bioworkflows/multivariate-fine-mapping/mixture_prior.ipynb ud \\\n",
    "        --analysis-units /home/hs3163/Project/Genome_prior/mixture_prior/output/RDS/analysis_units.txt \\\n",
    "        --datadir /home/hs3163/Project/Genome_prior/mixture_prior/output/RDS/ \\\n",
    "        --name 'susie'  \\\n",
    "        --container /mnt/mfs/statgen/containers/twas_latest.sif \\\n",
    "        --cwd /home/hs3163/Project/Genome_prior/mixture_prior/output/ \\\n",
    "        --scale_only  \"canonical\" &\n",
    "        \\\n",
    "        -J 50 -q csg -c ~/GIT/neuro-twas/template/csg.yml -s build &\n",
    "\n",
    "nohup sos run ~/GIT/bioworkflows/multivariate-fine-mapping/mixture_prior.ipynb ud --ud-method teem  \\\n",
    "        --analysis-units /home/hs3163/Project/Genome_prior/mixture_prior/output/RDS/analysis_units.txt  \\\n",
    "        --datadir /home/hs3163/Project/Genome_prior/mixture_prior/output/RDS/ \\\n",
    "        --name 'susie'  \\\n",
    "        --container /mnt/mfs/statgen/containers/twas_latest.sif \\\n",
    "        --cwd /home/hs3163/Project/Genome_prior/mixture_prior/output/ \\\n",
    "        --scale_only  \"/home/hs3163/Project/Genome_prior/mixture_prior/output/susie.canonical.rds\" &\n",
    "        \\\n",
    "        -J 50 -q csg -c ~/GIT/neuro-twas/template/csg.yml -s build &\n",
    "        \n",
    "nohup sos run ~/GIT/bioworkflows/multivariate-fine-mapping/mixture_prior.ipynb ed \\\n",
    "        --analysis-units /home/hs3163/Project/Genome_prior/mixture_prior/output/RDS/analysis_units.txt \\\n",
    "        --datadir /home/hs3163/Project/Genome_prior/mixture_prior/output/RDS/ \\\n",
    "        --name 'susie'  \\\n",
    "        --container /mnt/mfs/statgen/containers/twas_latest.sif \\\n",
    "        --cwd /home/hs3163/Project/Genome_prior/mixture_prior/output/ &\n",
    "        \\\n",
    "        -J 50 -q csg -c ~/GIT/neuro-twas/template/csg.yml -s build &\n",
    "\n"
   ]
  },
  {
   "cell_type": "code",
   "execution_count": null,
   "metadata": {
    "kernel": "SoS"
   },
   "outputs": [],
   "source": [
    "nohup sos run ~/GIT/bioworkflows/multivariate-fine-mapping/mixture_prior.ipynb plot_U \\\n",
    "        --model_data /home/hs3163/Project/Genome_prior/mixture_prior/output/susie.ed.rds \\\n",
    "        --name \"\"  \\\n",
    "        --container /mnt/mfs/statgen/containers/twas_latest.sif \\\n",
    "        --tol \"0.06\"  \\\n",
    "        --cwd /home/hs3163/Project/Genome_prior/mixture_prior/output/ \\\n",
    "        -J 50 -q csg -c ~/GIT/neuro-twas/template/csg.yml -s build &"
   ]
  },
  {
   "cell_type": "markdown",
   "metadata": {
    "kernel": "SoS"
   },
   "source": [
    "## MV SuSiE\n",
    "### Extracting Overlapped SNPs"
   ]
  },
  {
   "cell_type": "code",
   "execution_count": null,
   "metadata": {
    "kernel": "SoS"
   },
   "outputs": [],
   "source": [
    "nohup sos run ~/GIT/neuro-twas/workflow/mv_susie.ipynb snp_exclude \\\n",
    "--molecular_pheno_dir \"/mnt/mfs/statgen/neuro-twas/mv_wg/molecular_phenotype_list\" \\\n",
    "--region_list /mnt/mfs/statgen/neuro-twas/mv_wg/wg_rds_list_final \\\n",
    "--wd \"/mnt/mfs/statgen/neuro-twas/whole_genome_0504/\" \\\n",
    "--name_prefix \"geneTpmResidualsAgeGenderAdj_rename\" \\\n",
    "--container /mnt/mfs/statgen/containers/twas_latest.sif \\\n",
    "--impute TRUE --job_size 1 \\\n",
    "--cv_times 100 \\\n",
    "--mixture_prior '/home/hs3163/Project/Genome_prior/mixture_prior/output/susie.ed.rds' \\\n",
    "--extract_snp \"~/Project/Alz/data/AD_sumstats_SNP\" \\\n",
    "-J 200 -q csg -c ~/GIT/neuro-twas/code/csg.yml -s build &"
   ]
  },
  {
   "cell_type": "markdown",
   "metadata": {
    "kernel": "SoS"
   },
   "source": [
    "### Removing the genes whithout overlapping snvs"
   ]
  },
  {
   "cell_type": "code",
   "execution_count": null,
   "metadata": {
    "kernel": "SoS"
   },
   "outputs": [],
   "source": [
    "bash: cd /mnt/mfs/statgen/neuro-twas/whole_genome_0504/cache\n",
    "      ls *.bed > keep\n",
    "R:\n",
    "    library(readr)\n",
    "    library(dplyr)\n",
    "    library(tibble)\n",
    "    list = read.table(\"./keep\",sep = \".\")\n",
    "    gene_list = read_delim(\"/mnt/mfs/statgen/neuro-twas/mv_wg/wg_rds_list_final\",delim = \"\\t\")\n",
    "    gene_list = gene_list%>%filter(`#region` %in% list$V2 )\n",
    "    gene_list%>%write_delim(\"wg_rds_list_final\",delim = \"\\t\")    "
   ]
  },
  {
   "cell_type": "markdown",
   "metadata": {
    "kernel": "SoS"
   },
   "source": [
    "### Weight estimation With three types of mixture prior"
   ]
  },
  {
   "cell_type": "code",
   "execution_count": null,
   "metadata": {
    "kernel": "SoS"
   },
   "outputs": [],
   "source": [
    "nohup sos run /home/hs3163/GIT/neuro-twas/workflow/mv_susie.ipynb mv_susie \\\n",
    "--molecular_pheno_dir \"/mnt/mfs/statgen/neuro-twas/mv_wg/molecular_phenotype_list\" \\\n",
    "--region_list /mnt/mfs/statgen/neuro-twas/whole_genome_0504/wg_rds_list_final \\\n",
    "--wd \"/mnt/mfs/statgen/neuro-twas/whole_genome_0504/\" \\\n",
    "--name_prefix \"geneTpmResidualsAgeGenderAdj_rename\" \\\n",
    "--container /mnt/mfs/statgen/containers/twas_latest.sif \\\n",
    "--impute TRUE --job_size 1 \\\n",
    "--cv_times 100 \\\n",
    "--mixture_prior '/home/hs3163/Project/Genome_prior/mixture_prior/output/susie.teem.rds' \\\n",
    "--extract_snp \"~/Project/Alz/data/AD_sumstats_SNP\" \\\n",
    "-J 200 -q csg -c /home/hs3163/GIT/neuro-twas/code/csg.yml -s build &\n",
    "\n",
    "nohup sos run ~/GIT/neuro-twas/Workflow/mv_susie.ipynb mv_susie \\\n",
    "--molecular_pheno_dir \"/mnt/mfs/statgen/neuro-twas/mv_wg/molecular_phenotype_list\" \\\n",
    "--region_list /mnt/mfs/statgen/neuro-twas/mv_wg/wg_rds_list_final \\\n",
    "--wd \"/mnt/mfs/statgen/neuro-twas/whole_genome_0504/\" \\\n",
    "--name_prefix \"geneTpmResidualsAgeGenderAdj_rename\" \\\n",
    "--container /mnt/mfs/statgen/containers/twas_latest.sif \\\n",
    "--impute TRUE --job_size 1 \\\n",
    "--cv_times 100 \\\n",
    "--mixture_prior '/home/hs3163/Project/Genome_prior/mixture_prior/output/susie.ed_bovy.rds' \\\n",
    "-J 200 -q csg -c ~/GIT/neuro-twas/template/csg.yml -s build &\n",
    "\n",
    "nohup sos run ~/GIT/neuro-twas/Workflow/mv_susie.ipynb mv_susie \\\n",
    "--molecular_pheno_dir \"/mnt/mfs/statgen/neuro-twas/mv_wg/molecular_phenotype_list\" \\\n",
    "--region_list /mnt/mfs/statgen/neuro-twas/mv_wg/wg_rds_list_final \\\n",
    "--wd \"/mnt/mfs/statgen/neuro-twas/whole_genome_0504/\" \\\n",
    "--name_prefix \"geneTpmResidualsAgeGenderAdj_rename\" \\\n",
    "--container /mnt/mfs/statgen/containers/twas_latest.sif \\\n",
    "--impute TRUE --job_size 1 \\\n",
    "--cv_times 100 \\\n",
    "--mixture_prior '/home/hs3163/Project/Genome_prior/mixture_prior/output/susie.teem.rds' \\\n",
    "-J 200 -q csg -c ~/GIT/neuro-twas/template/csg.yml -s build &"
   ]
  },
  {
   "cell_type": "markdown",
   "metadata": {
    "kernel": "SoS"
   },
   "source": [
    "### Output Reformatting"
   ]
  },
  {
   "cell_type": "code",
   "execution_count": null,
   "metadata": {
    "kernel": "SoS"
   },
   "outputs": [],
   "source": [
    "nohup sos run /home/hs3163/GIT/neuro-twas/workflow/mv_susie.ipynb fusion_tf \\\n",
    "--molecular_pheno_dir /mnt/mfs/statgen/neuro-twas/mv_wg/molecular_phenotype_list   --region_list /mnt/mfs/statgen/neuro-twas/whole_genome_0504/wg_rds_list_final \\\n",
    "--wd /mnt/mfs/statgen/neuro-twas/mv_wg/wg_rds_list_final \\\n",
    "--name_prefix \"geneTpmResidualsAgeGenderAdj_rename\" \\\n",
    "--container /mnt/mfs/statgen/containers/twas_latest.sif \\\n",
    "--extract_snp \"~/Project/Alz/data/AD_sumstats_SNP\" \\\n",
    "--impute TRUE --cv_times 2  &\n",
    "\n",
    "\n",
    "\n",
    "nohup sos dryrun /home/hs3163/GIT/neuro-twas/workflow/mv_susie.ipynb fusion_tf \\\n",
    "--molecular_pheno_dir /mnt/mfs/statgen/neuro-twas/mv_wg/molecular_phenotype_list   \\\n",
    "--region_list /home/hs3163/Project/mwe/mv_susie_mwe/region_list \\\n",
    "--wd /mnt/mfs/statgen/neuro-twas/mv_wg/wg_rds_list_final \\\n",
    "--name_prefix \"geneTpmResidualsAgeGenderAdj_rename\" \\\n",
    "--container /mnt/mfs/statgen/containers/twas_latest.sif \\\n",
    "--extract_snp \"~/Project/Alz/data/AD_sumstats_SNP\" \\\n",
    "--impute TRUE --cv_times 2  &\n",
    "\n",
    "\n",
    "\n",
    "nohup sos run /home/hs3163/GIT/neuro-twas/workflow/mv_susie.ipynb fusion_tf \\\n",
    "--molecular_pheno_dir /mnt/mfs/statgen/neuro-twas/whole_genome_0504/molecular_phenotype_list \\\n",
    "--region_list /mnt/mfs/statgen/neuro-twas/whole_genome_0504/wg_rds_list_test \\\n",
    "--wd /mnt/mfs/statgen/neuro-twas/whole_genome_0504/ \\\n",
    "--name_prefix \"geneTpmResidualsAgeGenderAdj_rename\" \\\n",
    "--container /mnt/mfs/statgen/containers/twas_latest.sif \\\n",
    "--extract_snp \"~/Project/Alz/data/AD_sumstats_SNP\" --impute TRUE \\\n",
    "--cv_times 2 &\n",
    "\n",
    "\n",
    "\n",
    "\n"
   ]
  },
  {
   "cell_type": "markdown",
   "metadata": {
    "kernel": "SoS"
   },
   "source": [
    "## Association testing"
   ]
  },
  {
   "cell_type": "code",
   "execution_count": null,
   "metadata": {
    "kernel": "SoS"
   },
   "outputs": [],
   "source": [
    "wd=\"whole_genome_0504\"\n",
    "\n",
    "nohup sos run /home/hs3163/GIT/neuro-twas/workflow/twas_fusion.ipynb association_test  \\\n",
    "  --gwas_sumstat /home/hs3163/Project/Alz/data/AD_sumstats_Jansenetal_2019sept.txt \\\n",
    "  --molecular-pheno /home/hs3163/Project/Rosmap/data/gene_exp/DLPFC/geneTpmResidualsAgeGenderAdj_rename.txt \\\n",
    "  --wd /mnt/mfs/statgen/neuro-twas/$wd/wgt/DLPFC \\\n",
    "  --genotype_list /home/hs3163/Project/Rosmap/data/Rosmap_wgs_genotype_list.txt \\\n",
    "  --region_list /home/hs3163/Project/mwe/mv_susie_mwe/region_list \\\n",
    "  --region_name 1 \\\n",
    "  --data_start 2 \\\n",
    "  --window 500000 \\\n",
    "  --weights_path /mnt/mfs/statgen/neuro-twas/$wd/wgt/DLPFC \\\n",
    "  --weights_list /mnt/mfs/statgen/neuro-twas/$wd/wgt/DLPFC/All_wgt_list.txt \\\n",
    "  --container /mnt/mfs/statgen/containers/twas_latest.sif \\\n",
    "  --job_size 1\\\n",
    "  --max_impute 1\\\n",
    "  --asso_mem \"50G\" \\\n",
    "  -J 40 -q csg -c /home/hs3163/GIT/neuro-twas/code/csg.yml &\n",
    "  -s build &\n",
    "\n",
    "nohup sos run ~/GIT/neuro-twas/workflow/twas_fusion.ipynb association_test  \\\n",
    "  --gwas_sumstat /home/hs3163/Project/Alz/data/AD_sumstats_Jansenetal_2019sept.txt \\\n",
    "  --molecular-pheno /home/hs3163/Project/Rosmap/data/gene_exp/DLPFC/geneTpmResidualsAgeGenderAdj_rename.txt \\\n",
    "  --wd /mnt/mfs/statgen/neuro-twas/$wd/wgt/PCC \\\n",
    "  --genotype_list /home/hs3163/Project/Rosmap/data/Rosmap_wgs_genotype_list.txt \\\n",
    "  --region_list /home/hs3163/Project/mwe/mv_susie_mwe/region_list \\\n",
    "  --region_name 1 \\\n",
    "  --data_start 2 \\\n",
    "  --window 500000 \\\n",
    "  --weights_path /mnt/mfs/statgen/neuro-twas/$wd/wgt/PCC \\\n",
    "  --weights_list /mnt/mfs/statgen/neuro-twas/$wd/wgt/PCC/All_wgt_list.txt \\\n",
    "  --container /mnt/mfs/statgen/containers/twas_latest.sif \\\n",
    "  --job_size 1\\\n",
    "  --max_impute 1\\\n",
    "  --asso_mem \"50G\" \\\n",
    "  -J 40 -q csg -c /home/hs3163/GIT/neuro-twas/code/csg.yml \\\n",
    "  -s build &\n",
    "\n",
    "nohup sos run /home/hs3163/GIT/neuro-twas/workflow/twas_fusion.ipynb association_test  \\\n",
    "  --gwas_sumstat /home/hs3163/Project/Alz/data/AD_sumstats_Jansenetal_2019sept.txt \\\n",
    "  --molecular-pheno /home/hs3163/Project/Rosmap/data/gene_exp/DLPFC/geneTpmResidualsAgeGenderAdj_rename.txt \\\n",
    "  --wd /mnt/mfs/statgen/neuro-twas/$wd/wgt/AC \\\n",
    "  --genotype_list /home/hs3163/Project/Rosmap/data/Rosmap_wgs_genotype_list.txt \\\n",
    "  --region_list /home/hs3163/Project/mwe/mv_susie_mwe/region_list \\\n",
    "  --region_name 1 \\\n",
    "  --data_start 2 \\\n",
    "  --window 500000 \\\n",
    "  --weights_path /mnt/mfs/statgen/neuro-twas/$wd/wgt/AC \\\n",
    "  --weights_list /mnt/mfs/statgen/neuro-twas/$wd/wgt/AC/All_wgt_list.txt \\\n",
    "  --container /mnt/mfs/statgen/containers/twas_latest.sif \\\n",
    "  --job_size 1\\\n",
    "  --max_impute 1\\\n",
    "  --asso_mem \"50G\" \\\n",
    "  -J 40 -q csg -c /home/hs3163/GIT/neuro-twas/code/csg.yml \\\n",
    "  -s build &"
   ]
  }
 ],
 "metadata": {
  "kernelspec": {
   "display_name": "SoS",
   "language": "sos",
   "name": "sos"
  },
  "language_info": {
   "codemirror_mode": "sos",
   "file_extension": ".sos",
   "mimetype": "text/x-sos",
   "name": "sos",
   "nbconvert_exporter": "sos_notebook.converter.SoS_Exporter",
   "pygments_lexer": "sos"
  },
  "sos": {
   "kernels": [
    [
     "SoS",
     "sos",
     "",
     ""
    ]
   ],
   "version": "0.20.1"
  }
 },
 "nbformat": 4,
 "nbformat_minor": 4
}
