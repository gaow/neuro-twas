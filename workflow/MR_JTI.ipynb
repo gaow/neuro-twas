{
 "cells": [
  {
   "cell_type": "code",
   "execution_count": 32,
   "metadata": {
    "kernel": "Markdown"
   },
   "outputs": [
    {
     "data": {
      "text/markdown": [
       "# MR-JTI workflow\n",
       "\n",
       "## Overview\n",
       "\n",
       "This notebook shows the workflow for MR-JTI, which utilizes imputation to perform trait prediction according to multi-tissue relationship gene expression. MR-JTI acheives a higher prediction accuracy by leveraging multi-tissue information and also performes Causal Inference on trait and gene expression.\n",
       "\n",
       " \n",
       "`Goal`  \n",
       "  \n",
       "     1. Imputation prediction for genes\n",
       "  \n",
       "     2. Causal Inference between Trait and Gene Expression\n",
       "     \n",
       "  \n",
       "`Model`\n",
       "  \n",
       "     Y = Trait\n",
       "  \n",
       "     X = Predicted expression Gene A\n",
       "  \n",
       "     Data = transcriptome data as the information about the mapping between Gene A's expression and SNP.\n"
      ]
     },
     "metadata": {},
     "output_type": "display_data"
    }
   ],
   "source": [
    "# MR-JTI workflow\n",
    "\n",
    "## Overview\n",
    "\n",
    "This notebook shows the workflow for MR-JTI, which utilizes imputation to perform trait prediction according to multi-tissue relationship gene expression. MR-JTI acheives a higher prediction accuracy by leveraging multi-tissue information and also performes Causal Inference on trait and gene expression.\n",
    "\n",
    " \n",
    "`Goal`  \n",
    "  \n",
    "     1. Imputation prediction for genes\n",
    "  \n",
    "     2. Causal Inference between Trait and Gene Expression\n",
    "     \n",
    "  \n",
    "`Model`\n",
    "  \n",
    "     Y = Trait\n",
    "  \n",
    "     X = Predicted expression Gene A\n",
    "  \n",
    "     Data = transcriptome data as the information about the mapping between Gene A's expression and SNP.\n"
   ]
  },
  {
   "cell_type": "code",
   "execution_count": null,
   "metadata": {
    "kernel": "Markdown"
   },
   "outputs": [],
   "source": []
  },
  {
   "cell_type": "code",
   "execution_count": 42,
   "metadata": {
    "kernel": "Markdown"
   },
   "outputs": [
    {
     "data": {
      "text/markdown": [
       "## Command Interface\n"
      ]
     },
     "metadata": {},
     "output_type": "display_data"
    }
   ],
   "source": [
    "## Command Interface"
   ]
  },
  {
   "cell_type": "code",
   "execution_count": 16,
   "metadata": {
    "kernel": "SoS"
   },
   "outputs": [
    {
     "name": "stdout",
     "output_type": "stream",
     "text": [
      "/Users/malong/Documents/neuro_twas"
     ]
    }
   ],
   "source": [
    "%cd '/Users/malong/Documents/neuro_twas'"
   ]
  },
  {
   "cell_type": "code",
   "execution_count": 25,
   "metadata": {
    "kernel": "Markdown"
   },
   "outputs": [
    {
     "data": {
      "text/markdown": [
       "## MWE\n",
       "\n",
       "The minimal working example files can be downloaded from dropbox https://www.dropbox.com/sh/i9elg3m4wav4o5g/AAABdxZbVyBclbfa_1KKVftDa?dl=0.\n",
       "In here we assume the folder structure is the same as this link.\n"
      ]
     },
     "metadata": {},
     "output_type": "display_data"
    }
   ],
   "source": [
    "## MWE\n",
    "\n",
    "The minimal working example files can be downloaded from dropbox https://www.dropbox.com/sh/i9elg3m4wav4o5g/AAABdxZbVyBclbfa_1KKVftDa?dl=0.\n",
    "In here we assume the folder structure is the same as this link."
   ]
  },
  {
   "cell_type": "code",
   "execution_count": 26,
   "metadata": {
    "kernel": "SoS"
   },
   "outputs": [
    {
     "ename": "ParsingError",
     "evalue": "File contains parsing errors: \n\t[line  2]: nohup sos run ～/0324_MR_JTI.ipynb JTI \\\n  --tissue=Adipose_Subcutaneous \\\n  --geneid=ENSG00000182957 \\     # for_each 'geneid'\n  --genotype_path=${example_file_dir}/jti_example_geno.bed \\\n  --expression_path=${example_file_dir}/jti_example_exp.txt \\\n\nInvalid statements: SyntaxError('invalid syntax', ('<string>', 1, 7, 'nohup sos run ～/0324_MR_JTI.ipynb JTI \\\\\\n'))",
     "execution_count": 26,
     "output_type": "error",
     "status": "error",
     "traceback": [
      "\u001b[91mFile contains parsing errors: \n\t[line  2]: nohup sos run ～/0324_MR_JTI.ipynb JTI \\\n  --tissue=Adipose_Subcutaneous \\\n  --geneid=ENSG00000182957 \\     # for_each 'geneid'\n  --genotype_path=${example_file_dir}/jti_example_geno.bed \\\n  --expression_path=${example_file_dir}/jti_example_exp.txt \\\n\nInvalid statements: SyntaxError('invalid syntax', ('<string>', 1, 7, 'nohup sos run ～/0324_MR_JTI.ipynb JTI \\\\\\n'))\u001b[0m"
     ]
    }
   ],
   "source": [
    "nohup sos run ~/GIT/neuro-twas/workflow/MR_JTI.ipynb JTI \\\n",
    "  --tissue Adipose_Subcutaneous \\\n",
    "  --geneid ENSG00000182957 \\\n",
    "  --genotype_path ./data/jti_example_geno.bed \\\n",
    "  --expression_path ./data/jti_example_exp.txt \\\n",
    "  --tmp_folder ./tmp \\\n",
    "  --script_dir /home/hs3163/JTI_src/ \\\n",
    "  --gencode_path ./gencode.v32.GRCh37.txt \\\n",
    "  --plink_path \"/Users/Shared/OneDrive/Wang_Lab/plink_mac_20201019/plink\"\\\n",
    "  --wd ./ \\\n",
    "  --container /mnt/mfs/statgen/containers/twas_latest.sif \\\n",
    "  -J 50 -q csg -c ~/GIT/neuro-twas/code/csg.yml   &\n",
    "\n",
    "\n",
    "nohup sos run ~/GIT/neuro-twas/workflow/MR_JTI.ipynb JTI \\\n",
    "  --tissue Adipose_Subcutaneous \\\n",
    "  --geneid ENSG00000182957 \\\n",
    "  --genotype_path ./data/jti_example_geno.bed \\\n",
    "  --expression_path ./data/jti_example_exp.txt \\\n",
    "  --tmp_folder ./tmp \\\n",
    "  --gencode_path ./gencode.v32.GRCh37.txt \\\n",
    "  --plink_path \"/Users/Shared/OneDrive/Wang_Lab/plink_mac_20201019/plink\"\\\n",
    "  --wd ./ \\\n",
    "  --container /mnt/mfs/statgen/containers/mrjti.sif &\n",
    "\n",
    "\n",
    "\n",
    " \n",
    "\n",
    "\n",
    "\n",
    "nohub sos run ~/0324_MR_JTI.ipynb MR \\\n",
    "  --df_path ${example_file_dir}/mrjti_example.txt \\\n",
    "  --n_genes 100 \\\n",
    "  --out_path ${example_file_dir}/mrjti_result.csv\n"
   ]
  },
  {
   "cell_type": "code",
   "execution_count": null,
   "metadata": {
    "kernel": "SoS"
   },
   "outputs": [],
   "source": [
    "nohup sos run ~/GIT/neuro-twas/workflow/MR_JTI.ipynb JTI \\\n",
    "  --tissue=Adipose_Subcutaneous \\\n",
    "  --geneid=ENSG00000182957 \\     # for_each 'geneid'\n",
    "  --genotype_path=${example_file_dir}/jti_example_geno.bed \\\n",
    "  --expression_path=${example_file_dir}/jti_example_exp.txt \\\n",
    "  --tmp_folder=${example_file_dir}/tmp \\\n",
    "  --gencode_path ${example_file_dir}/gencode.v32.GRCh37.txt \\\n",
    "  --plink_path \"/Users/Shared/OneDrive/Wang_Lab/plink_mac_20201019/plink\"\\\n",
    "  --out_path ${example_file_dir}     #--outpath ${_output}\n",
    " &\n",
    "    \n",
    "    \n",
    "nohub sos docker run -it --rm --name my-running-script -v \"$PWD\":/usr/src/myapp -w /usr/src/myapp python:2 python /Users/malong/Vpy27/bin/MetaXcan.py\n",
    "  --model_db_path ${input_folder}/${model}_${tissue}.db \\\n",
    "  --covariance_directory ${input_folder}/${model}_${tissue}.txt.gz \\\n",
    "  --gwas_file ${input_folder}/${trait}.txt.gz \\\n",
    "  --snp_column rsid \\\n",
    "  --effect_allele_column eff_allele \\\n",
    "  --non_effect_allele_column ref_allele \\\n",
    "  --beta_column beta \\\n",
    "  --se_column se \\\n",
    "  --output_file ${output_folder}/${trait}_${model}_${tissue}.csv"
   ]
  },
  {
   "cell_type": "code",
   "execution_count": null,
   "metadata": {
    "kernel": "SoS"
   },
   "outputs": [],
   "source": [
    "nohup sos run ~/GIT/neuro-twas/workflow/MR_JTI.ipynb fusion_tf \\\n",
    "  --tissue_list \"/mnt/mfs/statgen/neuro-twas/JAZF1_JTI/tissue_list\" \\\n",
    "  --geneid \"ENSG00000153814\" \\\n",
    "  --genotype_path \"/mnt/mfs/statgen/neuro-twas/JAZF1/cache/GTEx_V8.ENSG00000153814.merged\" \\\n",
    "  --molecular_pheno \"/mnt/mfs/statgen/neuro-twas/JAZF1/named_exp.txt\" \\\n",
    "  --script_dir /home/hs3163/JTI_src/ \\\n",
    "  --gencode_path \"/mnt/mfs/statgen/neuro-twas/JAZF1_JTI/genecode\" \\\n",
    "  --similarity \"~/tissue_similarity_tbl_8by49.txt\" \\\n",
    "  --wd ./ \\\n",
    "  --prefix \"JAZF1_JTI_8\" \\\n",
    "  --container /mnt/mfs/statgen/containers/twas_latest.sif \\\n",
    "  -J 50 -q csg -c ~/GIT/neuro-twas/code/csg.yml  -s build &\n",
    "\n",
    "\n",
    "nohup sos run ~/GIT/neuro-twas/workflow/MR_JTI.ipynb JTI \\\n",
    "  --tissue_list \"/mnt/mfs/statgen/neuro-twas/JAZF1_JTI/tissue_list\" \\\n",
    "  --geneid \"ENSG00000153814\" \\\n",
    "  --genotype_path \"/mnt/mfs/statgen/neuro-twas/JAZF1/cache/GTEx_V8.ENSG00000153814.merged\" \\\n",
    "  --molecular_pheno \"/mnt/mfs/statgen/neuro-twas/JAZF1/named_exp.txt\" \\\n",
    "  --script_dir /home/hs3163/JTI_src/ \\\n",
    "  --gencode_path \"/mnt/mfs/statgen/neuro-twas/JAZF1_JTI/genecode\" \\\n",
    "  --wd ./ \\\n",
    "  --similarity \"/mnt/mfs/statgen/neuro-twas/JAZF1/tissue_similarity_tbl_2by49.txt\" \\\n",
    "  --container /mnt/mfs/statgen/containers/twas_latest.sif  \\\n",
    "  -J 50 -q csg -c ~/GIT/neuro-twas/code/csg.yml  -s build &\n",
    "\n",
    "nohup sos run ~/GIT/neuro-twas/workflow/MR_JTI.ipynb fusion_tf \\\n",
    "  --tissue_list \"/mnt/mfs/statgen/neuro-twas/JAZF1_JTI/tissue_list\" \\\n",
    "  --geneid \"ENSG00000153814\" \\\n",
    "  --genotype_path \"/mnt/mfs/statgen/neuro-twas/JAZF1/cache/GTEx_V8.ENSG00000153814.merged\" \\\n",
    "  --molecular_pheno \"/mnt/mfs/statgen/neuro-twas/JAZF1/named_exp.txt\" \\\n",
    "  --script_dir /home/hs3163/JTI_src/ \\\n",
    "  --similarity \"/mnt/mfs/statgen/neuro-twas/JAZF1/tissue_similarity_tbl_2by49.txt\" \\\n",
    "  --gencode_path \"/mnt/mfs/statgen/neuro-twas/JAZF1_JTI/genecode\" \\\n",
    "  --wd ./ \\\n",
    "  --container /mnt/mfs/statgen/containers/twas_latest.sif \\\n",
    "  -J 50 -q csg -c ~/GIT/neuro-twas/code/csg.yml  -s build  &\n",
    "\n",
    "\n",
    "nohup sos run ~/GIT/neuro-twas/workflow/MR_JTI.ipynb association_test \\\n",
    "  --tissue_list \"/mnt/mfs/statgen/neuro-twas/JAZF1_JTI8/tissue_list\" \\\n",
    "  --geneid \"ENSG00000153814\" \\\n",
    "  --genotype_path \"/mnt/mfs/statgen/neuro-twas/JAZF1/cache/GTEx_V8.ENSG00000153814.merged\" \\\n",
    "  --molecular_pheno \"/mnt/mfs/statgen/neuro-twas/JAZF1/named_exp.txt\" \\\n",
    "  --script_dir /home/hs3163/JTI_src/ \\\n",
    "  --similarity \"/mnt/mfs/statgen/neuro-twas/JAZF1/tissue_similarity_tbl_8by49.txt\" \\\n",
    "  --gencode_path \"/mnt/mfs/statgen/neuro-twas/JAZF1_JTI8/genecode\" \\\n",
    "  --gwas_sumstat /home/hs3163/Project/one_gene/data/Asthma.sumstat \\\n",
    "  --wd ./ \\\n",
    "  --container /mnt/mfs/statgen/containers/twas_latest.sif & \\\n",
    "  -J 50 -q csg -c ~/GIT/neuro-twas/code/csg.yml  -s build  &"
   ]
  },
  {
   "cell_type": "code",
   "execution_count": null,
   "metadata": {
    "kernel": "SoS"
   },
   "outputs": [],
   "source": [
    "for i in {5..9}\n",
    "do \n",
    "\n",
    "nohup sos run ~/GIT/neuro-twas/workflow/MR_JTI.ipynb fusion_tf \\\n",
    "  --tissue_list \"/mnt/mfs/statgen/neuro-twas/JAZF1_JTI/tissue_list\" \\\n",
    "  --geneid \"ENSG00000153814\" \\\n",
    "  --genotype_path \"/mnt/mfs/statgen/neuro-twas/JAZF1/cache/GTEx_V8.ENSG00000153814.merged\" \\\n",
    "  --molecular_pheno \"/mnt/mfs/statgen/neuro-twas/JAZF1/named_exp.txt\" \\\n",
    "  --script_dir /home/hs3163/JTI_src/ \\\n",
    "  --similarity ~/tissue_similarity_tbl_8by49_sim0.$i.txt \\\n",
    "  --gencode_path \"/mnt/mfs/statgen/neuro-twas/JAZF1_JTI/genecode\" \\\n",
    "  --wd  /mnt/mfs/statgen/neuro-twas/JAZF1_JTI_sim$i/ \\\n",
    "  --container /mnt/mfs/statgen/containers/twas_latest.sif &\n",
    "\n",
    "done\n",
    "\n",
    "\n",
    "\n",
    "for i in {5..9}\n",
    "do \n",
    "\n",
    "nohup sos run ~/GIT/neuro-twas/workflow/MR_JTI.ipynb association_test \\\n",
    "  --tissue_list \"/mnt/mfs/statgen/neuro-twas/JAZF1_JTI/tissue_list\" \\\n",
    "  --geneid \"ENSG00000153814\" \\\n",
    "  --genotype_path \"/mnt/mfs/statgen/neuro-twas/JAZF1/cache/GTEx_V8.ENSG00000153814.merged\" \\\n",
    "  --molecular_pheno \"/mnt/mfs/statgen/neuro-twas/JAZF1/named_exp.txt\" \\\n",
    "  --script_dir /home/hs3163/JTI_src/ \\\n",
    "  --similarity ~/tissue_similarity_tbl_8by49_sim0.$i.txt \\\n",
    "  --gencode_path \"/mnt/mfs/statgen/neuro-twas/JAZF1_JTI/genecode\" \\\n",
    "  --wd  /mnt/mfs/statgen/neuro-twas/JAZF1_JTI_sim$i/ \\\n",
    "  --gwas_sumstat /home/hs3163/Project/one_gene/data/Asthma.sumstat \\\n",
    "  --container /mnt/mfs/statgen/containers/twas_latest.sif &\n",
    "\n",
    "done\n",
    "\n",
    "\n",
    "for i in {5..9}\n",
    "do \n",
    "\n",
    "head -100 /mnt/mfs/statgen/neuro-twas/JAZF1_JTI_sim/Asthma_chr7.twas.txt \n",
    "\n",
    "done\n",
    "\n",
    "\n",
    "\n",
    "\n"
   ]
  },
  {
   "cell_type": "code",
   "execution_count": null,
   "metadata": {
    "kernel": "SoS"
   },
   "outputs": [],
   "source": []
  },
  {
   "cell_type": "code",
   "execution_count": 36,
   "metadata": {
    "kernel": "Markdown"
   },
   "outputs": [
    {
     "data": {
      "text/markdown": [
       "## Global Parameter Setting\n"
      ]
     },
     "metadata": {},
     "output_type": "display_data"
    }
   ],
   "source": [
    "## Global Parameter Setting"
   ]
  },
  {
   "cell_type": "code",
   "execution_count": 17,
   "metadata": {
    "kernel": "SoS"
   },
   "outputs": [],
   "source": [
    "[global]\n",
    "# path to the working directory\n",
    "parameter: wd = path\n",
    "# path to script where you put software JTI script\n",
    "parameter: script_dir = f'{wd:a}/src'\n",
    "# path to exmpale file \n",
    "parameter: example_file_dir = f'{wd:a}/data'\n",
    "# path to JTI python script\n",
    "parameter: py_script_dir = f'{wd:a}/src/MetaXcan'\n",
    "# path to output file\n",
    "parameter: out_path = f'{wd:a}/result'\n",
    "# path to your local PLINK software\n",
    "parameter: plink_path = \"plink\"\n",
    "# provide the geneid which will be used to locate chromosome position\n",
    "parameter: geneid = \"chr\"\n",
    "# genotype file in PLINK format \n",
    "parameter: genotype_path = path\n",
    "# expression file\n",
    "parameter: expression_path = f'{wd:a}/jti_example_exp.txt'\n",
    "# path for temperary files, will be clened up after model training\n",
    "parameter: tmp_folder = f'{wd:a}/tmp'\n",
    "# the gene annotation file\n",
    "parameter: gencode_path = f'{wd:a}/gencode.v32.GRCh37.txt'\n",
    "# the gene annotation file\n",
    "parameter: container = 'gaow/twas'\n",
    "# The molecular phenotype of interest of a gene, a samplesize * tissues matrixs, column name is the tissue.\n",
    "parameter: molecular_pheno = path\n",
    "# A list of tissue of interest\n",
    "parameter: tissue_list = path\n",
    "# Name Prefix\n",
    "parameter: prefix = \"JAZF1_JTI\"\n",
    "# list of regions\n",
    "parameter: similarity = path\n",
    "tissue = [x.strip().split() for x in open(tissue_list).readlines() if x.strip() and not x.strip().startswith('#')]"
   ]
  },
  {
   "cell_type": "code",
   "execution_count": 29,
   "metadata": {
    "kernel": "Markdown"
   },
   "outputs": [
    {
     "data": {
      "text/markdown": [
       "## JTI Input\n",
       "\n",
       "* --tissue, target tissue name \n",
       "\n",
       "* --geneid, gene id The ENSG gene ID. Provide the real ENSG gene ID which will be used to find the chromosome and position for the gene.\n",
       "\n",
       "* --genotype_path, Genotype file in plink bfile format '.bed, .bim, .fam', used for data preprocessing in QC, filtering, calculating MAF, call rate, and R-sq,\n",
       "it contains a snp matrix for snp name and family information. The example file here is like: ${genotype_path}.bed/fam/bim\n",
       "\n",
       "      jti_example_geno.bed\n",
       "      jti_example_geno.bim\n",
       "      jti_example_geno.fam\n",
       "\n",
       "* --expression_path, expression data that will be used to normalize and residulize for age, gender, PCs, PEERs, and so on. It contains tissue name, sample id and expression level\n",
       "\n",
       "* --gencode_path, gene annotation file in .txt format, includes each gene's gene id, name, strand and so on. We use the colum 'geneid' as the list to iterate our workflow through all the genes.\n",
       "\n",
       "* --plink_path\n",
       "\n",
       "       Path to plink software. If not specified, you will need to add the path of plink to $PATH in ~/.bash_profile\n"
      ]
     },
     "metadata": {},
     "output_type": "display_data"
    }
   ],
   "source": [
    "## JTI Input\n",
    "\n",
    "* --tissue, target tissue name \n",
    "\n",
    "* --geneid, gene id The ENSG gene ID. Provide the real ENSG gene ID which will be used to find the chromosome and position for the gene.\n",
    "\n",
    "* --genotype_path, Genotype file in plink bfile format '.bed, .bim, .fam', used for data preprocessing in QC, filtering, calculating MAF, call rate, and R-sq,\n",
    "it contains a snp matrix for snp name and family information. The example file here is like: ${genotype_path}.bed/fam/bim\n",
    "\n",
    "      jti_example_geno.bed\n",
    "      jti_example_geno.bim\n",
    "      jti_example_geno.fam\n",
    "\n",
    "* --expression_path, expression data that will be used to normalize and residulize for age, gender, PCs, PEERs, and so on. It contains tissue name, sample id and expression level\n",
    "\n",
    "* --gencode_path, gene annotation file in .txt format, includes each gene's gene id, name, strand and so on. We use the colum 'geneid' as the list to iterate our workflow through all the genes.\n",
    "\n",
    "* --plink_path\n",
    "\n",
    "       Path to plink software. If not specified, you will need to add the path of plink to $PATH in ~/.bash_profile\n"
   ]
  },
  {
   "cell_type": "code",
   "execution_count": 1,
   "metadata": {
    "kernel": "SoS"
   },
   "outputs": [
    {
     "name": "stderr",
     "output_type": "stream",
     "text": [
      "Failed to switch to language Markdown: No subkernel named Markdown is found. Please make sure that you have the kernel installed (listed in the output of \"jupyter kernelspec list\" and usable in jupyter by itself), install appropriate language module (e.g. \"pip install sos-r\"), restart jupyter notebook and try again.\n"
     ]
    }
   ],
   "source": [
    "[Input_processing]\n",
    "input: molecular_pheno, for_each = \"tissue\"\n",
    "output: f'{wd:a}/cache/{prefix}_{next(iter(_tissue))}.txt'\n",
    "task: trunk_workers = 1, trunk_size = 1, walltime = '4h',  mem = '6G', tags = f'{step_name}_{_output:bn}'   \n",
    "R: expand = \"$[ ]\", stderr = f'{_output}.stderr', stdout = f'{_output}.stdout',container = container\n",
    "    library(\"dplyr\")\n",
    "    library(\"tibble\")\n",
    "    library(\"purrr\")\n",
    "    library(\"readr\")\n",
    "    library(\"tidyr\")\n",
    "    library(\"stringr\")\n",
    "    exp = read_delim(\"$[_input]\",\"\\t\")\n",
    "    similarity = read_delim(\"$[similarity]\",\"\\t\")\n",
    "    exp_w = exp%>%mutate(sampleid = read.table(text = sampleid,sep = \":\")$V1)%>%\n",
    "    pivot_longer(names_to = \"tissue\", values_to = \"exp\", cols = colnames(exp)[1:ncol(exp)-1])%>%\n",
    "    na.omit%>%select(tissue,sampleid,exp )%>%mutate(exp_w = map_dbl(tissue, ~similarity%>%filter(name == .x)%>%pull(\"$[next(iter(_tissue))]\")))%>%arrange(tissue)\n",
    "    exp_w%>%write_delim(\"$[_output]\",\"\\t\")"
   ]
  },
  {
   "cell_type": "code",
   "execution_count": 2,
   "metadata": {
    "kernel": "SoS"
   },
   "outputs": [],
   "source": [
    "[JTI]\n",
    "input: output_from(\"Input_processing\",group_with = \"tissue\")\n",
    "output: f'{wd:a}/result/{geneid}_{next(iter(_tissue))}.txt'\n",
    "task: trunk_workers = 1, trunk_size = 1, walltime = '4h',  mem = '60G', tags = f'{step_name}_{_output:bn}'   \n",
    "R: expand = \"$[ ]\", stderr = f'{_output}.stderr', stdout = f'{_output}.stdout',container = container\n",
    "    library('glmnet')\n",
    "    tissue = \"$[next(iter(_tissue))]\"\n",
    "    geneid = \"$[geneid]\"\n",
    "    genotype_path = \"$[genotype_path]\"\n",
    "    expression_path = $[_input:r] \n",
    "    tmp_folder = '$[wd:a]/cache/'\n",
    "    gencode_path = \"$[gencode_path]\" \n",
    "    plink_path = \"plink\"\n",
    "    out_path =\"$[_output:d]\"\n",
    "    \n",
    "    cat(' INFO loading gene position annotation ...\\n')\n",
    "    #load gene annotation file\n",
    "    gencode<-read.table(gencode_path,header = T,stringsAsFactors = F)\n",
    "    \n",
    "    cat(' INFO mkdir tmp folders ...\\n')\n",
    "    #mkdir tmp folder. will be cleaned\n",
    "    options(warn=-1)\n",
    "    dir.create(tmp_folder)\n",
    "    dir.create(paste0(tmp_folder,'/',tissue,'_',geneid))\n",
    "    tmp_folder=paste0(tmp_folder,'/',tissue,'_',geneid)\n",
    "    options(warn=0)\n",
    "    \n",
    "    #get chr pos for the gene\n",
    "    chr=as.numeric(sub('^...','',gencode[which(gencode$geneid==geneid),'chr']))\n",
    "    pos_from=max(1,gencode[which(gencode$geneid==geneid),'left']-1000000)\n",
    "    pos_to=gencode[which(gencode$geneid==geneid),'left']+1000000\n",
    "    \n",
    "    cat(' INFO generating dosage genotype data ...\\n')\n",
    "    #extract genotypes from plink file to dosage file\n",
    "    cmd=paste0(plink_path,' --bfile ',genotype_path,' --chr ',chr,' --from-bp ',pos_from,' --to-bp ',pos_to,' --recode A --out ',tmp_folder,'/',geneid)\n",
    "    system(cmd,ignore.stdout=T,ignore.stderr=T)\n",
    "    cmd=paste0(plink_path,' --bfile ',genotype_path,' --chr ',chr,' --from-bp ',pos_from,' --to-bp ',pos_to,' --make-bed --out ',tmp_folder,'/',geneid)\n",
    "    system(cmd,ignore.stdout=T,ignore.stderr=T)\n",
    "    \n",
    "    #load dosage file\n",
    "    dosage_raw<-try(read.table(paste0(tmp_folder,'/',geneid,'.raw'),header = T,stringsAsFactors = F))\n",
    "    if('try-error' %in% class(dosage_raw)){stop('no SNP available for this gene')}\n",
    "    dosage<-dosage_raw[,-c(1,3:6)]  #rm some cols\n",
    "    colnames(dosage)<-c('sampleid',colnames(dosage)[-1])\n",
    "    dosage[,-1]<-round(apply(dosage[,-1], 2, function(x) ifelse(is.na(x),mean(x,na.rm=T),x)),3) #post imputation imputation. NA replaced by mean\n",
    "    \n",
    "                             \n",
    "                             \n",
    "    #load SNP info (alleles)\n",
    "    snp_info_raw<-read.table(paste0(tmp_folder,'/',geneid,'.bim'),stringsAsFactors = F)\n",
    "    snp_info_raw$counted_allele<-snp_info_raw$V5\n",
    "    snp_info_raw$ref_allele<-snp_info_raw$V6\n",
    "    snp_info_raw$chr_bp<-paste0(snp_info_raw$V1,'_',snp_info_raw$V4)\n",
    "    colnames(snp_info_raw)[2]<-'rsid'\n",
    "    snp_info<-snp_info_raw[,c('rsid','chr_bp','ref_allele','counted_allele')]\n",
    "    \n",
    "    #load expression\n",
    "    cat(' INFO loading expression data ...\\n')\n",
    "    exp<-read.table(expression_path,header = T,stringsAsFactors = F)\n",
    "    \n",
    "    \n",
    "    #model training\n",
    "    cat(' INFO initializing model training ...\\n')\n",
    "    #fit single tissue model to get lambda range \n",
    "    exp_st<-exp[exp$tissue==tissue,] #load single tissue data\n",
    "    d_st<-merge(exp_st,dosage,by='sampleid') #merge\n",
    "    set.seed(as.numeric(sub('^....','',geneid))) \n",
    "    fit_st<-cv.glmnet(x=as.matrix(d_st[,6:ncol(d_st)]),y=as.matrix(d_st[,'exp']), nfolds = 5,keep = T,alpha=0.5) \n",
    "    lambda_list<-fit_st$lambda[max(1,which(fit_st$lambda==fit_st$lambda.min)-10):min(length(fit_st$lambda),which(fit_st$lambda==fit_st$lambda.min)+10)] \n",
    "    \n",
    "    #generate dataframe for grid search and performance collection\n",
    "    r_matrix<-as.data.frame(matrix(data=NA,nrow=(4*4),ncol=5))\n",
    "    i_loop<-1\n",
    "    for (exp_power in c(1,4,16,64)){\n",
    "        r_matrix[i_loop,1]<-c(exp_power)\n",
    "        i_loop=i_loop+1\n",
    "    }\n",
    "    colnames(r_matrix)<-c('exp_power','lambda','window','r_test','p_test')\n",
    "    r_matrix$window='1m'\n",
    "    \n",
    "    #sample id map for each fold (fold=5)\n",
    "    d_tmp<-merge(exp,dosage,by='sampleid')\n",
    "    sample_all<-unique(d_tmp$sampleid)\n",
    "    set.seed(as.numeric(sub('^....','',geneid))+1)\n",
    "    id_map<-data.frame(sampleid=sample_all,id_map=sample(rep(seq(1,5),ceiling(length(sample_all)/5)),length(sample_all)),stringsAsFactors = F)\n",
    "    \n",
    "    #beta list of each hyper-parameter pairs\n",
    "    beta_list<-list()\n",
    "    \n",
    "    cat(' INFO grid searching ...\\n')\n",
    "    #grid search for hyper-parameter pairs\n",
    "    for (j in 1:nrow(r_matrix)){\n",
    "      exp_power=r_matrix[j,1]\n",
    "      exp$w<-(exp$exp_w)^exp_power\n",
    "      \n",
    "      #merge\n",
    "      d<-merge(exp,dosage,by='sampleid')\n",
    "      \n",
    "      #rm tissues with low similarity levels (w<0.1)\n",
    "      d<-d[d[,'w']>=0.1,]; d<-d[!is.na(d[,1]),]\n",
    "      \n",
    "      #id map\n",
    "      d<-merge(id_map,d,by='sampleid')\n",
    "      \n",
    "      #target tissue position (the performance will be only estimated in the target tissue)\n",
    "      tt_pos<-which(d$tissue==tissue)\n",
    "      \n",
    "      #cross-tissue weighted elastic net\n",
    "      set.seed(as.numeric(sub('^....','',geneid))+2)\n",
    "      ans<-try(cv.glmnet(x=as.matrix(d[,7:ncol(d)]),y=as.matrix(d[,'exp']),weights=d[,'w'],foldid=d[,'id_map'],lambda=lambda_list,keep = T,pmax=200)) \n",
    "      if ('try-error' %in% class(ans)){\n",
    "        r_matrix[j,'r_test']<-0\n",
    "      }else{\n",
    "        #correlation between pred and obs expression levels\n",
    "        cor_ans<-cor.test(ans$fit.preval[tt_pos,which(ans$lambda==ans$lambda.min)],d[tt_pos,'exp'])\n",
    "        \n",
    "        r_matrix[j,'r_test']<-cor_ans$estimate\n",
    "        r_matrix[j,'p_test']<-cor_ans$p.value\n",
    "        r_matrix[j,'lambda']<-ans$lambda.min\n",
    "        \n",
    "        #collect the weights\n",
    "        beta_list[[j]]<-as.numeric(ans$glmnet.fit$beta[,which(ans$lambda==ans$lambda.min)])\n",
    "        \n",
    "      }\n",
    "    }\n",
    "    \n",
    "    #find the best hyperparameters with the largest r_test\n",
    "    best_row=which.max(r_matrix[,'r_test'])[1]\n",
    "    r_test=r_matrix[best_row,'r_test']\n",
    "    p_test=r_matrix[best_row,'p_test']\n",
    "    \n",
    "    cat(' INFO the r = ',r_test,', p = ',p_test,' \\n')\n",
    "    \n",
    "    #---output---\n",
    "      snp_info$gene<-geneid\n",
    "      snp_info$r2<-r_test^2\n",
    "      snp_info$p<-p_test\n",
    "      snp_info$lambda<-r_matrix[best_row,'lambda']\n",
    "      snp_info$weight<-beta_list[[best_row]]\n",
    "      snp_info<-snp_info[,c(5,1:4,9,6:8)]\n",
    "      weight_file<-snp_info\n",
    "      write.table(weight_file,paste0(out_path,'/',geneid,'_',tissue,'.txt'),quote = F,row.names = F,sep = '\\t')\n",
    "\n",
    "\n",
    "    \n",
    "    #cleaning\n",
    "    cat(' INFO cleaning tmp folder \\n')\n",
    "    cmd=paste0('rm -r ',tmp_folder)\n",
    "    system(cmd,wait = T)\n",
    "    cat(' INFO done \\n')    "
   ]
  },
  {
   "cell_type": "code",
   "execution_count": null,
   "metadata": {
    "kernel": "SoS"
   },
   "outputs": [],
   "source": [
    "[fusion_tf_1]\n",
    "input: output_from(\"JTI\",group_with = \"tissue\")\n",
    "output: f'{wd:a}/result/{prefix}.{geneid}_{next(iter(_tissue))}.wgt.RDat'\n",
    "task: trunk_workers = 1, trunk_size = 1, walltime = '12h',  mem = '6G', tags = f'{step_name}_{_index}'\n",
    "R: expand= \"$[ ]\", stderr = f'{_input[0]}.split.stderr', stdout = f'{_input[0]}.split.stderr',container = container\n",
    "    library(\"dplyr\")\n",
    "    library(\"plink2R\")\n",
    "    library(\"tibble\")\n",
    "    library(\"readr\")\n",
    "    library(\"purrr\")\n",
    "    output = read_delim(\"$[_input]\",\"\\t\")\n",
    "    bim = read_delim(\"$[genotype_path].bim\",delim = \"\\t\",col_name = F)\n",
    "    exp = read_delim(\"$[wd:a]/cache/$[prefix]_$[next(iter(_tissue))].txt\",delim = \"\\t\")\n",
    "    snps = bim%>%filter(X2 %in% output$rsid)%>%as.data.frame\n",
    "    wgt.matrix = tibble(JTI = output$weight)%>%as.matrix\n",
    "    cv.performance = data.frame(JTI = c(output$r2[[1]],output$p[[1]]))\n",
    "    rownames(cv.performance) = c(\"rsq\",\"pval\")\n",
    "    hsq <- hsq.pv <- NA\n",
    "    N.tot = exp%>%filter(exp_w == 1)%>%nrow\n",
    "    save(\n",
    "    snps,\n",
    "    wgt.matrix,\n",
    "    cv.performance,\n",
    "    hsq ,\n",
    "    hsq.pv,\n",
    "    N.tot,\n",
    "    file = \"$[_output]\"\n",
    "    )"
   ]
  },
  {
   "cell_type": "code",
   "execution_count": 1,
   "metadata": {
    "kernel": "SoS"
   },
   "outputs": [],
   "source": [
    "[fusion_tf_2]\n",
    "input:  group_by = 'all'\n",
    "output: f'{wd:a}/result/All_wgt_list.txt'\n",
    "task: trunk_workers = 1, trunk_size = 1, walltime = '12h',  mem = '6G', tags = f'{step_name}_{_index}'\n",
    "R: expand= \"$[ ]\", stderr = f'{_input[0]}.split.stderr', stdout = f'{_input[0]}.split.stderr',container = container\n",
    "    library(\"dplyr\")\n",
    "    library(\"tibble\")\n",
    "    library(\"readr\")\n",
    "    library(\"purrr\")\n",
    "    library(\"stringr\")\n",
    "    genecode = read_delim(\"$[gencode_path]\",\"\\t\")\n",
    "    genecode = genecode%>%filter(geneid == \"$[geneid]\")\n",
    "    out_tmp = tibble(WGT = c($[_input:r,]),\n",
    "                     ID = \"$[geneid]\" ,\n",
    "                     CHR = str_remove(genecode$chr, \"chr\"),\n",
    "                     P0 = genecode$left,\n",
    "                     P1 = genecode$left\n",
    "                      )\n",
    "    out_tmp%>%write_delim(\"$[_output]\",\"\\t\")"
   ]
  },
  {
   "cell_type": "code",
   "execution_count": null,
   "metadata": {
    "kernel": "SoS"
   },
   "outputs": [],
   "source": [
    "[association_test]\n",
    "parameter: weights_list = f'{wd:a}/result/All_wgt_list.txt'\n",
    "chrom_list = list(set(get_output(f'cut -f 3 {weights_list} | tail -n+2').strip().split(\"\\n\")))\n",
    "# Path to GWAS summary statistics data (association results between SNP and disease in a GWAS)\n",
    "parameter: gwas_sumstat = path\n",
    "parameter: max_impute = 0.5\n",
    "parameter: asso_mem = \"6G\"\n",
    "input: gwas_sumstat, for_each = \"chrom_list\"\n",
    "output:f'{wd:a}/{gwas_sumstat:bn}_chr{_chrom_list}.twas.txt'\n",
    "\n",
    "task: trunk_workers = 1, trunk_size = 1, walltime = '4h',  mem = asso_mem, tags = f'{step_name}_{_output[0]:bn}'\n",
    "bash: expand= \"$[ ]\", stderr = f'{_output:n}.stderr', stdout = f'{_output:n}.stdout', container = container, volumes = [f'{genotype_path:and}:{genotype_path:and}']\n",
    "    FUSION.assoc_test.R \\\n",
    "    --sumstats $[_input] \\\n",
    "    --weights $[weights_list] \\\n",
    "    --weights_dir / \\\n",
    "    --ref_ld_chr $[genotype_path:a] \\\n",
    "    --chr $[_chrom_list] \\\n",
    "    --max_impute $[max_impute] \\\n",
    "    --out $[_output]"
   ]
  },
  {
   "cell_type": "code",
   "execution_count": 34,
   "metadata": {
    "kernel": "Markdown"
   },
   "outputs": [
    {
     "data": {
      "text/markdown": [
       "## AssoTest Input\n",
       "\n",
       "* --db_path, prediciton model, pre-trained and in db format\n",
       "\n",
       "* --snp_cov, snp covariance matrix estimated from a reference dataset (e.g., 1000g, GTEx). The covariance matrix is needed for association test using GWAS summary statistics.\n"
      ]
     },
     "metadata": {},
     "output_type": "display_data"
    }
   ],
   "source": [
    "## AssoTest Input\n",
    "\n",
    "* --db_path, prediciton model, pre-trained and in db format\n",
    "\n",
    "* --snp_cov, snp covariance matrix estimated from a reference dataset (e.g., 1000g, GTEx). The covariance matrix is needed for association test using GWAS summary statistics."
   ]
  },
  {
   "cell_type": "code",
   "execution_count": null,
   "metadata": {
    "kernel": "Bash"
   },
   "outputs": [],
   "source": [
    "    FUSION.assoc_test.R \\\n",
    "    --sumstats /home/hs3163/Project/one_gene/data/Asthma.sumstat \\\n",
    "    --weights /mnt/mfs/statgen/neuro-twas/JAZF1_JTI/result/All_wgt_list.txt \\\n",
    "    --weights_dir / \\\n",
    "    --ref_ld_chr /home/hs3163/Project/one_gene/data/GTEx.ref.bed  \\\n",
    "    --chr 7 \\\n",
    "    --max_impute 0.5 \\\n",
    "    --out Asthma_chr7.twas.txt\n",
    "    \n",
    "    \n",
    "    FUSION.assoc_test.R \\\n",
    "    --sumstats $[_input] \\\n",
    "    --weights $[weights_list] \\\n",
    "    --weights_dir / \\\n",
    "    --ref_ld_chr $[geno_file:an] \\\n",
    "    --chr $[_chrom_list] \\\n",
    "    --max_impute $[max_impute] \\\n",
    "    --out $[_output]"
   ]
  },
  {
   "cell_type": "code",
   "execution_count": 35,
   "metadata": {
    "kernel": "Markdown"
   },
   "outputs": [
    {
     "data": {
      "text/markdown": [
       "## MR Input\n",
       "\n",
       "* -- mrjti_example, The SNP, eQTL and GWAS estimation information\n"
      ]
     },
     "metadata": {},
     "output_type": "display_data"
    }
   ],
   "source": [
    "## MR Input\n",
    "\n",
    "* -- mrjti_example, The SNP, eQTL and GWAS estimation information"
   ]
  },
  {
   "cell_type": "code",
   "execution_count": 22,
   "metadata": {
    "kernel": "SoS"
   },
   "outputs": [],
   "source": [
    "\n",
    "input: ./mrjti_example.txt\n",
    "output: 'mrjti_result.csv'\n",
    "bash: expand = \"${ }\", stderr = f'{_output[0]}.stderr', stdout = f'{_output[0]}.stdout'\n",
    "    Rscript ${script_dir}/MR-JTI.r \\\n",
    "        --df_path ${example_file_dir}/mrjti_example.txt \\\n",
    "        --n_genes 100 \\\n",
    "        --out_path ${example_file_dir}/mrjti_result.csv"
   ]
  }
 ],
 "metadata": {
  "kernelspec": {
   "display_name": "SoS",
   "language": "sos",
   "name": "sos"
  },
  "language_info": {
   "codemirror_mode": "sos",
   "file_extension": ".sos",
   "mimetype": "text/x-sos",
   "name": "sos",
   "nbconvert_exporter": "sos_notebook.converter.SoS_Exporter",
   "pygments_lexer": "sos"
  },
  "sos": {
   "kernels": [
    [
     "Bash",
     "bash",
     "Bash",
     "#E6EEFF",
     "shell"
    ],
    [
     "Markdown",
     "markdown",
     "markdown",
     "",
     "markdown"
    ],
    [
     "SoS",
     "sos",
     "",
     "",
     "sos"
    ]
   ],
   "version": "0.20.1"
  }
 },
 "nbformat": 4,
 "nbformat_minor": 5
}
