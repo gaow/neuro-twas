{
 "cells": [
  {
   "cell_type": "code",
   "execution_count": null,
   "id": "a3772a14-5b7b-4862-8bd6-2a7021ad8956",
   "metadata": {},
   "outputs": [],
   "source": [
    "  plink \\\n",
    "  --allow-no-sex \\\n",
    "  --bfile /home/hs3163/Project/Genome_prior/AC/cache/geneTpmResidualsAgeGenderAdj_rename.ENSG00000000419 \\\n",
    "  --mac 1 \\\n",
    "  --make-bed \\\n",
    "  --merge-list /mnt/mfs/statgen/neuro-twas/whole_genome_0504/cache/geneTpmResidualsAgeGenderAdj_rename.ENSG00000000419.merged_list \\\n",
    "  --out /mnt/mfs/statgen/neuro-twas/whole_genome_0504/cache/geneTpmResidualsAgeGenderAdj_rename.ENSG00000000419.merged_test"
   ]
  },
  {
   "cell_type": "code",
   "execution_count": 1,
   "id": "22bc62e9-9831-4656-99a1-6da09583e4cc",
   "metadata": {},
   "outputs": [
    {
     "name": "stderr",
     "output_type": "stream",
     "text": [
      "── \u001b[1mAttaching packages\u001b[22m ─────────────────────────────────────── tidyverse 1.3.0 ──\n",
      "\n",
      "\u001b[32m✔\u001b[39m \u001b[34mggplot2\u001b[39m 3.3.3     \u001b[32m✔\u001b[39m \u001b[34mpurrr  \u001b[39m 0.3.4\n",
      "\u001b[32m✔\u001b[39m \u001b[34mtibble \u001b[39m 3.1.0     \u001b[32m✔\u001b[39m \u001b[34mdplyr  \u001b[39m 1.0.5\n",
      "\u001b[32m✔\u001b[39m \u001b[34mtidyr  \u001b[39m 1.1.3     \u001b[32m✔\u001b[39m \u001b[34mstringr\u001b[39m 1.4.0\n",
      "\u001b[32m✔\u001b[39m \u001b[34mreadr  \u001b[39m 1.4.0     \u001b[32m✔\u001b[39m \u001b[34mforcats\u001b[39m 0.5.1\n",
      "\n",
      "── \u001b[1mConflicts\u001b[22m ────────────────────────────────────────── tidyverse_conflicts() ──\n",
      "\u001b[31m✖\u001b[39m \u001b[34mdplyr\u001b[39m::\u001b[32mfilter()\u001b[39m masks \u001b[34mstats\u001b[39m::filter()\n",
      "\u001b[31m✖\u001b[39m \u001b[34mdplyr\u001b[39m::\u001b[32mlag()\u001b[39m    masks \u001b[34mstats\u001b[39m::lag()\n",
      "\n"
     ]
    }
   ],
   "source": [
    "library(\"tidyverse\")"
   ]
  },
  {
   "cell_type": "code",
   "execution_count": 2,
   "id": "96a48b1e-e859-4a04-a426-4e9288f2379c",
   "metadata": {},
   "outputs": [],
   "source": [
    "a = readRDS(\"/mnt/mfs/statgen/neuro-twas/TWAS_sumstat/table_1_anno.rds\")"
   ]
  },
  {
   "cell_type": "code",
   "execution_count": 2,
   "id": "1893fe7c-90d0-46cf-a499-bbc26da2bb2b",
   "metadata": {},
   "outputs": [
    {
     "ename": "ERROR",
     "evalue": "Error in eval(expr, envir, enclos): object 'a' not found\n",
     "output_type": "error",
     "traceback": [
      "Error in eval(expr, envir, enclos): object 'a' not found\nTraceback:\n"
     ]
    }
   ],
   "source": [
    "a$ensembl_id"
   ]
  },
  {
   "cell_type": "code",
   "execution_count": 4,
   "id": "a95b8dc2-761b-4bc6-ad6b-d5369a56ba00",
   "metadata": {},
   "outputs": [
    {
     "name": "stderr",
     "output_type": "stream",
     "text": [
      "\n",
      "\u001b[36m──\u001b[39m \u001b[1m\u001b[1mColumn specification\u001b[1m\u001b[22m \u001b[36m────────────────────────────────────────────────────────\u001b[39m\n",
      "cols(\n",
      "  X1 = \u001b[31mcol_character()\u001b[39m\n",
      ")\n",
      "\n",
      "\n"
     ]
    }
   ],
   "source": [
    "b = read_delim(\"/mnt/mfs/statgen/neuro-twas/TWAS_sumstat/analysis_units.txt\",\"\\t\",col_names = F)"
   ]
  },
  {
   "cell_type": "code",
   "execution_count": 5,
   "id": "8442ec2b-b57a-497f-b074-1c01814241e7",
   "metadata": {},
   "outputs": [
    {
     "name": "stderr",
     "output_type": "stream",
     "text": [
      "Warning message in stri_detect_regex(string, pattern, negate = negate, opts_regex = opts(pattern)):\n",
      "“longer object length is not a multiple of shorter object length”\n"
     ]
    },
    {
     "data": {
      "text/html": [
       "<table class=\"dataframe\">\n",
       "<caption>A spec_tbl_df: 0 x 1</caption>\n",
       "<thead>\n",
       "\t<tr><th scope=col>X1</th></tr>\n",
       "\t<tr><th scope=col>&lt;chr&gt;</th></tr>\n",
       "</thead>\n",
       "<tbody>\n",
       "</tbody>\n",
       "</table>\n"
      ],
      "text/latex": [
       "A spec\\_tbl\\_df: 0 x 1\n",
       "\\begin{tabular}{l}\n",
       " X1\\\\\n",
       " <chr>\\\\\n",
       "\\hline\n",
       "\\end{tabular}\n"
      ],
      "text/markdown": [
       "\n",
       "A spec_tbl_df: 0 x 1\n",
       "\n",
       "| X1 &lt;chr&gt; |\n",
       "|---|\n",
       "\n"
      ],
      "text/plain": [
       "     X1"
      ]
     },
     "metadata": {},
     "output_type": "display_data"
    }
   ],
   "source": [
    "b%>%filter(any(str_detect(X1,a$ensembl_id)))"
   ]
  },
  {
   "cell_type": "code",
   "execution_count": 6,
   "id": "1e35eb00-d67f-4402-88b1-9aea99f7ab2d",
   "metadata": {},
   "outputs": [
    {
     "name": "stderr",
     "output_type": "stream",
     "text": [
      "Warning message in stri_detect_regex(string, pattern, negate = negate, opts_regex = opts(pattern)):\n",
      "“longer object length is not a multiple of shorter object length”\n"
     ]
    },
    {
     "data": {
      "text/html": [
       "0"
      ],
      "text/latex": [
       "0"
      ],
      "text/markdown": [
       "0"
      ],
      "text/plain": [
       "[1] 0"
      ]
     },
     "metadata": {},
     "output_type": "display_data"
    }
   ],
   "source": [
    "str_detect(b$X1,a$ensembl_id)%>%na.omit()%>%sum"
   ]
  },
  {
   "cell_type": "code",
   "execution_count": 13,
   "id": "b409fc9a-b1b0-4951-9cc7-bc8ed9225256",
   "metadata": {},
   "outputs": [
    {
     "data": {
      "text/html": [
       "<style>\n",
       ".list-inline {list-style: none; margin:0; padding: 0}\n",
       ".list-inline>li {display: inline-block}\n",
       ".list-inline>li:not(:last-child)::after {content: \"\\00b7\"; padding: 0 .5ex}\n",
       "</style>\n",
       "<ol class=list-inline><li>FALSE</li><li>FALSE</li><li>FALSE</li><li>FALSE</li><li>FALSE</li><li>FALSE</li><li>FALSE</li><li>FALSE</li><li>FALSE</li><li>FALSE</li><li>FALSE</li><li>FALSE</li><li>FALSE</li><li>FALSE</li><li>FALSE</li><li>FALSE</li><li>FALSE</li><li>FALSE</li><li>FALSE</li><li>FALSE</li><li>FALSE</li><li>FALSE</li><li>FALSE</li><li>FALSE</li><li>FALSE</li><li>FALSE</li><li>FALSE</li><li>FALSE</li><li>FALSE</li><li>FALSE</li></ol>\n"
      ],
      "text/latex": [
       "\\begin{enumerate*}\n",
       "\\item FALSE\n",
       "\\item FALSE\n",
       "\\item FALSE\n",
       "\\item FALSE\n",
       "\\item FALSE\n",
       "\\item FALSE\n",
       "\\item FALSE\n",
       "\\item FALSE\n",
       "\\item FALSE\n",
       "\\item FALSE\n",
       "\\item FALSE\n",
       "\\item FALSE\n",
       "\\item FALSE\n",
       "\\item FALSE\n",
       "\\item FALSE\n",
       "\\item FALSE\n",
       "\\item FALSE\n",
       "\\item FALSE\n",
       "\\item FALSE\n",
       "\\item FALSE\n",
       "\\item FALSE\n",
       "\\item FALSE\n",
       "\\item FALSE\n",
       "\\item FALSE\n",
       "\\item FALSE\n",
       "\\item FALSE\n",
       "\\item FALSE\n",
       "\\item FALSE\n",
       "\\item FALSE\n",
       "\\item FALSE\n",
       "\\end{enumerate*}\n"
      ],
      "text/markdown": [
       "1. FALSE\n",
       "2. FALSE\n",
       "3. FALSE\n",
       "4. FALSE\n",
       "5. FALSE\n",
       "6. FALSE\n",
       "7. FALSE\n",
       "8. FALSE\n",
       "9. FALSE\n",
       "10. FALSE\n",
       "11. FALSE\n",
       "12. FALSE\n",
       "13. FALSE\n",
       "14. FALSE\n",
       "15. FALSE\n",
       "16. FALSE\n",
       "17. FALSE\n",
       "18. FALSE\n",
       "19. FALSE\n",
       "20. FALSE\n",
       "21. FALSE\n",
       "22. FALSE\n",
       "23. FALSE\n",
       "24. FALSE\n",
       "25. FALSE\n",
       "26. FALSE\n",
       "27. FALSE\n",
       "28. FALSE\n",
       "29. FALSE\n",
       "30. FALSE\n",
       "\n",
       "\n"
      ],
      "text/plain": [
       " [1] FALSE FALSE FALSE FALSE FALSE FALSE FALSE FALSE FALSE FALSE FALSE FALSE\n",
       "[13] FALSE FALSE FALSE FALSE FALSE FALSE FALSE FALSE FALSE FALSE FALSE FALSE\n",
       "[25] FALSE FALSE FALSE FALSE FALSE FALSE"
      ]
     },
     "metadata": {},
     "output_type": "display_data"
    }
   ],
   "source": [
    "a$ensembl_id%in%b$X1"
   ]
  },
  {
   "cell_type": "code",
   "execution_count": 14,
   "id": "3a167d03-d3bb-411e-a625-c41c361a0457",
   "metadata": {},
   "outputs": [
    {
     "data": {
      "text/html": [
       "<ol>\n",
       "\t<li>TRUE</li>\n",
       "\t<li>TRUE</li>\n",
       "\t<li>TRUE</li>\n",
       "\t<li>TRUE</li>\n",
       "\t<li>FALSE</li>\n",
       "\t<li>TRUE</li>\n",
       "\t<li>TRUE</li>\n",
       "\t<li>TRUE</li>\n",
       "\t<li>TRUE</li>\n",
       "\t<li>FALSE</li>\n",
       "\t<li>TRUE</li>\n",
       "\t<li>TRUE</li>\n",
       "\t<li>TRUE</li>\n",
       "\t<li>TRUE</li>\n",
       "\t<li>TRUE</li>\n",
       "\t<li>TRUE</li>\n",
       "\t<li>TRUE</li>\n",
       "\t<li>TRUE</li>\n",
       "\t<li>TRUE</li>\n",
       "\t<li>TRUE</li>\n",
       "\t<li>TRUE</li>\n",
       "\t<li>TRUE</li>\n",
       "\t<li>TRUE</li>\n",
       "\t<li>FALSE</li>\n",
       "\t<li>TRUE</li>\n",
       "\t<li>TRUE</li>\n",
       "\t<li>&lt;NA&gt;</li>\n",
       "\t<li>TRUE</li>\n",
       "\t<li>TRUE</li>\n",
       "\t<li>TRUE</li>\n",
       "</ol>\n"
      ],
      "text/latex": [
       "\\begin{enumerate}\n",
       "\\item TRUE\n",
       "\\item TRUE\n",
       "\\item TRUE\n",
       "\\item TRUE\n",
       "\\item FALSE\n",
       "\\item TRUE\n",
       "\\item TRUE\n",
       "\\item TRUE\n",
       "\\item TRUE\n",
       "\\item FALSE\n",
       "\\item TRUE\n",
       "\\item TRUE\n",
       "\\item TRUE\n",
       "\\item TRUE\n",
       "\\item TRUE\n",
       "\\item TRUE\n",
       "\\item TRUE\n",
       "\\item TRUE\n",
       "\\item TRUE\n",
       "\\item TRUE\n",
       "\\item TRUE\n",
       "\\item TRUE\n",
       "\\item TRUE\n",
       "\\item FALSE\n",
       "\\item TRUE\n",
       "\\item TRUE\n",
       "\\item <NA>\n",
       "\\item TRUE\n",
       "\\item TRUE\n",
       "\\item TRUE\n",
       "\\end{enumerate}\n"
      ],
      "text/markdown": [
       "1. TRUE\n",
       "2. TRUE\n",
       "3. TRUE\n",
       "4. TRUE\n",
       "5. FALSE\n",
       "6. TRUE\n",
       "7. TRUE\n",
       "8. TRUE\n",
       "9. TRUE\n",
       "10. FALSE\n",
       "11. TRUE\n",
       "12. TRUE\n",
       "13. TRUE\n",
       "14. TRUE\n",
       "15. TRUE\n",
       "16. TRUE\n",
       "17. TRUE\n",
       "18. TRUE\n",
       "19. TRUE\n",
       "20. TRUE\n",
       "21. TRUE\n",
       "22. TRUE\n",
       "23. TRUE\n",
       "24. FALSE\n",
       "25. TRUE\n",
       "26. TRUE\n",
       "27. &lt;NA&gt;\n",
       "28. TRUE\n",
       "29. TRUE\n",
       "30. TRUE\n",
       "\n",
       "\n"
      ],
      "text/plain": [
       "[[1]]\n",
       "[1] TRUE\n",
       "\n",
       "[[2]]\n",
       "[1] TRUE\n",
       "\n",
       "[[3]]\n",
       "[1] TRUE\n",
       "\n",
       "[[4]]\n",
       "[1] TRUE\n",
       "\n",
       "[[5]]\n",
       "[1] FALSE\n",
       "\n",
       "[[6]]\n",
       "[1] TRUE\n",
       "\n",
       "[[7]]\n",
       "[1] TRUE\n",
       "\n",
       "[[8]]\n",
       "[1] TRUE\n",
       "\n",
       "[[9]]\n",
       "[1] TRUE\n",
       "\n",
       "[[10]]\n",
       "[1] FALSE\n",
       "\n",
       "[[11]]\n",
       "[1] TRUE\n",
       "\n",
       "[[12]]\n",
       "[1] TRUE\n",
       "\n",
       "[[13]]\n",
       "[1] TRUE\n",
       "\n",
       "[[14]]\n",
       "[1] TRUE\n",
       "\n",
       "[[15]]\n",
       "[1] TRUE\n",
       "\n",
       "[[16]]\n",
       "[1] TRUE\n",
       "\n",
       "[[17]]\n",
       "[1] TRUE\n",
       "\n",
       "[[18]]\n",
       "[1] TRUE\n",
       "\n",
       "[[19]]\n",
       "[1] TRUE\n",
       "\n",
       "[[20]]\n",
       "[1] TRUE\n",
       "\n",
       "[[21]]\n",
       "[1] TRUE\n",
       "\n",
       "[[22]]\n",
       "[1] TRUE\n",
       "\n",
       "[[23]]\n",
       "[1] TRUE\n",
       "\n",
       "[[24]]\n",
       "[1] FALSE\n",
       "\n",
       "[[25]]\n",
       "[1] TRUE\n",
       "\n",
       "[[26]]\n",
       "[1] TRUE\n",
       "\n",
       "[[27]]\n",
       "[1] NA\n",
       "\n",
       "[[28]]\n",
       "[1] TRUE\n",
       "\n",
       "[[29]]\n",
       "[1] TRUE\n",
       "\n",
       "[[30]]\n",
       "[1] TRUE\n"
      ]
     },
     "metadata": {},
     "output_type": "display_data"
    }
   ],
   "source": [
    "map(a$ensembl_id%>%as.list(),~str_detect(b$X1,.x)%>%any())"
   ]
  },
  {
   "cell_type": "code",
   "execution_count": 7,
   "id": "fdaa2ede-160f-4c0a-91d1-b65d30e78ebf",
   "metadata": {},
   "outputs": [],
   "source": [
    "b = b%>%mutate(X2 = map_dbl(X1,~str_detect(na.omit(a$ensembl_id),.x)%>%any ))"
   ]
  },
  {
   "cell_type": "code",
   "execution_count": 8,
   "id": "a7f6af0c-68f4-4521-8718-15429e126864",
   "metadata": {},
   "outputs": [],
   "source": [
    "b = b%>%mutate(X3 = map(X1,~read.table(text = .x,sep = \".\")$V2))"
   ]
  },
  {
   "cell_type": "code",
   "execution_count": 9,
   "id": "7881a9ba-f492-4895-b4f7-79e6d1ef7052",
   "metadata": {},
   "outputs": [],
   "source": [
    "c = b%>%filter(X3 %in%a$ensembl_id )%>%select(X1)"
   ]
  },
  {
   "cell_type": "code",
   "execution_count": 10,
   "id": "27c403cb-ac6b-4211-a2a8-f92cbec7deb0",
   "metadata": {},
   "outputs": [],
   "source": [
    "c%>%write_delim(\"/mnt/mfs/statgen/neuro-twas/TWAS_sumstat/table_1_analysis_unit.txt\")"
   ]
  },
  {
   "cell_type": "code",
   "execution_count": 11,
   "id": "97511a7d-eb75-4734-9279-0f85ef405df6",
   "metadata": {},
   "outputs": [],
   "source": [
    "a = readRDS(\"/mnt/mfs/statgen/neuro-twas/TWAS_sumstat/susie_rss.ed_bovy.rds\")"
   ]
  },
  {
   "cell_type": "code",
   "execution_count": 14,
   "id": "45dfcd13-f404-4555-92f5-04f73ff320ed",
   "metadata": {},
   "outputs": [],
   "source": [
    "a$U = map(a$U,~.x[1:3,1:3])"
   ]
  },
  {
   "cell_type": "code",
   "execution_count": 16,
   "id": "c5a0da4a-3b64-4bf4-bad3-a4c2aea48918",
   "metadata": {},
   "outputs": [],
   "source": [
    "a%>%saveRDS(\"/mnt/mfs/statgen/neuro-twas/TWAS_sumstat/susie_rss.ed_bovy_eqtl.rds\")"
   ]
  },
  {
   "cell_type": "code",
   "execution_count": 17,
   "id": "33aa02ef-9d90-4c72-a923-f8214de4bc2d",
   "metadata": {},
   "outputs": [],
   "source": [
    "b = readRDS(\"/mnt/mfs/statgen/neuro-twas/TWAS_sumstat/null_z_cor.rds\")"
   ]
  },
  {
   "cell_type": "code",
   "execution_count": 19,
   "id": "a6eda838-0dae-4267-b4ef-e44d4f3a205e",
   "metadata": {},
   "outputs": [],
   "source": [
    "b[1:3,1:3]%>%saveRDS(\"/mnt/mfs/statgen/neuro-twas/TWAS_sumstat/null_z_cor_eqtl.rds\")"
   ]
  },
  {
   "cell_type": "code",
   "execution_count": 3,
   "id": "d6179435-6571-480c-91c8-c0fe4b50942a",
   "metadata": {},
   "outputs": [
    {
     "name": "stderr",
     "output_type": "stream",
     "text": [
      "Warning message in gzfile(file, \"rb\"):\n",
      "“cannot open file '/home/hs3163/Project/Genome_prior/mixture_prior/output/RDS': it is a directory”\n"
     ]
    },
    {
     "ename": "ERROR",
     "evalue": "Error in gzfile(file, \"rb\"): cannot open the connection\n",
     "output_type": "error",
     "traceback": [
      "Error in gzfile(file, \"rb\"): cannot open the connection\nTraceback:\n",
      "1. readRDS(\"/home/hs3163/Project/Genome_prior/mixture_prior/output/RDS\")",
      "2. gzfile(file, \"rb\")"
     ]
    }
   ],
   "source": [
    "c = readRDS(\"/home/hs3163/Project/Genome_prior/mixture_prior/output/RDS\")"
   ]
  },
  {
   "cell_type": "code",
   "execution_count": 7,
   "id": "68d32890-87be-493c-9db4-9ad30625a860",
   "metadata": {},
   "outputs": [
    {
     "name": "stderr",
     "output_type": "stream",
     "text": [
      "\n",
      "\u001b[36m──\u001b[39m \u001b[1m\u001b[1mColumn specification\u001b[1m\u001b[22m \u001b[36m────────────────────────────────────────────────────────\u001b[39m\n",
      "cols(\n",
      "  X1 = \u001b[31mcol_character()\u001b[39m\n",
      ")\n",
      "\n",
      "\n"
     ]
    }
   ],
   "source": [
    "c = read_delim(\"/mnt/mfs/statgen/neuro-twas/TWAS_sumstat/table_1_analysis_unit.txt\",delim = \"\\t\")"
   ]
  },
  {
   "cell_type": "code",
   "execution_count": 8,
   "id": "d61a2164-ae9c-4d6d-8c29-386c791787b4",
   "metadata": {},
   "outputs": [
    {
     "name": "stderr",
     "output_type": "stream",
     "text": [
      "Warning message in gzfile(file, \"rb\"):\n",
      "“cannot open compressed file '/mnt/mfs/statgen/neuro-twas/TWAS_sumstat/susie_rss_eqtl/geneTpmResidualsAgeGenderAdj_rename.ENSG00000078487.LDoriginal.mvsusierss.rds', probable reason 'No such file or directory'”\n",
      "Warning message in gzfile(file, \"rb\"):\n",
      "“cannot open compressed file '/mnt/mfs/statgen/neuro-twas/TWAS_sumstat/susie_rss_eqtl/geneTpmResidualsAgeGenderAdj_rename.ENSG00000196126.LDoriginal.mvsusierss.rds', probable reason 'No such file or directory'”\n"
     ]
    }
   ],
   "source": [
    "c = c%>%mutate(X2 = str_remove_all(X1,\".uni_weight\"),\n",
    "           X3 = map_chr(X2,~paste(c(\"/mnt/mfs/statgen/neuro-twas/TWAS_sumstat/susie_rss_eqtl/\",.x,\".LDoriginal.mvsusierss.rds\"),collapse = \"\")),\n",
    "           X4 = map(X3,~readRDS(.x)%>%tryCatch(error = function(e) return(NA)))\n",
    "          )"
   ]
  },
  {
   "cell_type": "code",
   "execution_count": 30,
   "id": "7f3fa739-b883-4f88-ad25-e5755cc72918",
   "metadata": {},
   "outputs": [],
   "source": [
    "cs_gene_1 = c%>%filter(!is.na(X4))%>%mutate(X5 = map(X4,~.x$variable_names[.x$sets$cs%>%unlist]),n_cs =  map_dbl(X4,~.x$sets$cs%>%length))%>%select(-X4,-X1,-X2)%>%filter(n_cs > 0)%>%pull(gene_id)"
   ]
  },
  {
   "cell_type": "code",
   "execution_count": 31,
   "id": "4140afd2-5621-41b7-aa30-9d7704b537ed",
   "metadata": {},
   "outputs": [
    {
     "data": {
      "text/html": [
       "<style>\n",
       ".list-inline {list-style: none; margin:0; padding: 0}\n",
       ".list-inline>li {display: inline-block}\n",
       ".list-inline>li:not(:last-child)::after {content: \"\\00b7\"; padding: 0 .5ex}\n",
       "</style>\n",
       "<ol class=list-inline><li>'m_ENSG00000064687'</li><li>'m_ENSG00000103510'</li><li>'m_ENSG00000120885'</li><li>'m_ENSG00000134463'</li><li>'m_ENSG00000136717'</li><li>'m_ENSG00000138613'</li><li>'m_ENSG00000140090'</li><li>'m_ENSG00000161929'</li><li>'m_ENSG00000198087'</li><li>'m_ENSG00000203710'</li><li>'m_ENSG00000264538'</li></ol>\n"
      ],
      "text/latex": [
       "\\begin{enumerate*}\n",
       "\\item 'm\\_ENSG00000064687'\n",
       "\\item 'm\\_ENSG00000103510'\n",
       "\\item 'm\\_ENSG00000120885'\n",
       "\\item 'm\\_ENSG00000134463'\n",
       "\\item 'm\\_ENSG00000136717'\n",
       "\\item 'm\\_ENSG00000138613'\n",
       "\\item 'm\\_ENSG00000140090'\n",
       "\\item 'm\\_ENSG00000161929'\n",
       "\\item 'm\\_ENSG00000198087'\n",
       "\\item 'm\\_ENSG00000203710'\n",
       "\\item 'm\\_ENSG00000264538'\n",
       "\\end{enumerate*}\n"
      ],
      "text/markdown": [
       "1. 'm_ENSG00000064687'\n",
       "2. 'm_ENSG00000103510'\n",
       "3. 'm_ENSG00000120885'\n",
       "4. 'm_ENSG00000134463'\n",
       "5. 'm_ENSG00000136717'\n",
       "6. 'm_ENSG00000138613'\n",
       "7. 'm_ENSG00000140090'\n",
       "8. 'm_ENSG00000161929'\n",
       "9. 'm_ENSG00000198087'\n",
       "10. 'm_ENSG00000203710'\n",
       "11. 'm_ENSG00000264538'\n",
       "\n",
       "\n"
      ],
      "text/plain": [
       " [1] \"m_ENSG00000064687\" \"m_ENSG00000103510\" \"m_ENSG00000120885\"\n",
       " [4] \"m_ENSG00000134463\" \"m_ENSG00000136717\" \"m_ENSG00000138613\"\n",
       " [7] \"m_ENSG00000140090\" \"m_ENSG00000161929\" \"m_ENSG00000198087\"\n",
       "[10] \"m_ENSG00000203710\" \"m_ENSG00000264538\""
      ]
     },
     "metadata": {},
     "output_type": "display_data"
    }
   ],
   "source": [
    "cs_gene_1"
   ]
  },
  {
   "cell_type": "code",
   "execution_count": 15,
   "id": "1b29854a-c18a-443f-a9c2-dc1622e60fa4",
   "metadata": {},
   "outputs": [
    {
     "data": {
      "text/html": [
       "<table class=\"dataframe\">\n",
       "<caption>A tibble: 24 x 5</caption>\n",
       "<thead>\n",
       "\t<tr><th scope=col>X3</th><th scope=col>X9</th><th scope=col>X10</th><th scope=col>gene_id</th><th scope=col>X5</th></tr>\n",
       "\t<tr><th scope=col>&lt;chr&gt;</th><th scope=col>&lt;chr&gt;</th><th scope=col>&lt;list&gt;</th><th scope=col>&lt;chr&gt;</th><th scope=col>&lt;list&gt;</th></tr>\n",
       "</thead>\n",
       "<tbody>\n",
       "\t<tr><td>/mnt/mfs/statgen/neuro-twas/TWAS_sumstat/susie_rss_eqtl_cor/geneTpmResidualsAgeGenderAdj_rename.ENSG00000002587.LDoriginal.mvsusierss.rds</td><td>/mnt/mfs/statgen/neuro-twas/mv_wg/result_arch/geneTpmResidualsAgeGenderAdj_rename.ENSG00000002587.mv_susie.model.RData</td><td>&lt;environment: 0x564f9f9dba20&gt;</td><td>m_ENSG00000002587</td><td></td></tr>\n",
       "\t<tr><td>/mnt/mfs/statgen/neuro-twas/TWAS_sumstat/susie_rss_eqtl_cor/geneTpmResidualsAgeGenderAdj_rename.ENSG00000064687.LDoriginal.mvsusierss.rds</td><td>/mnt/mfs/statgen/neuro-twas/mv_wg/result_arch/geneTpmResidualsAgeGenderAdj_rename.ENSG00000064687.mv_susie.model.RData</td><td>&lt;environment: 0x564f9f9c0120&gt;</td><td>m_ENSG00000064687</td><td>19:1032702_C_T, 19:1032756_C_T, 19:1033360_A_T</td></tr>\n",
       "\t<tr><td>/mnt/mfs/statgen/neuro-twas/TWAS_sumstat/susie_rss_eqtl_cor/geneTpmResidualsAgeGenderAdj_rename.ENSG00000073921.LDoriginal.mvsusierss.rds</td><td>/mnt/mfs/statgen/neuro-twas/mv_wg/result_arch/geneTpmResidualsAgeGenderAdj_rename.ENSG00000073921.mv_susie.model.RData</td><td>&lt;environment: 0x564f9f99ff98&gt;</td><td>m_ENSG00000073921</td><td></td></tr>\n",
       "\t<tr><td>/mnt/mfs/statgen/neuro-twas/TWAS_sumstat/susie_rss_eqtl_cor/geneTpmResidualsAgeGenderAdj_rename.ENSG00000087589.LDoriginal.mvsusierss.rds</td><td>/mnt/mfs/statgen/neuro-twas/mv_wg/result_arch/geneTpmResidualsAgeGenderAdj_rename.ENSG00000087589.mv_susie.model.RData</td><td>&lt;environment: 0x564fa5009f38&gt;</td><td>m_ENSG00000087589</td><td></td></tr>\n",
       "\t<tr><td>/mnt/mfs/statgen/neuro-twas/TWAS_sumstat/susie_rss_eqtl_cor/geneTpmResidualsAgeGenderAdj_rename.ENSG00000103510.LDoriginal.mvsusierss.rds</td><td>/mnt/mfs/statgen/neuro-twas/mv_wg/result_arch/geneTpmResidualsAgeGenderAdj_rename.ENSG00000103510.mv_susie.model.RData</td><td>&lt;environment: 0x564fa5001ef0&gt;</td><td>m_ENSG00000103510</td><td>16:31138445_A_G, 16:31143993_C_T</td></tr>\n",
       "\t<tr><td>/mnt/mfs/statgen/neuro-twas/TWAS_sumstat/susie_rss_eqtl_cor/geneTpmResidualsAgeGenderAdj_rename.ENSG00000105383.LDoriginal.mvsusierss.rds</td><td>/mnt/mfs/statgen/neuro-twas/mv_wg/result_arch/geneTpmResidualsAgeGenderAdj_rename.ENSG00000105383.mv_susie.model.RData</td><td>&lt;environment: 0x564fa4fa8aa0&gt;</td><td>m_ENSG00000105383</td><td></td></tr>\n",
       "\t<tr><td>/mnt/mfs/statgen/neuro-twas/TWAS_sumstat/susie_rss_eqtl_cor/geneTpmResidualsAgeGenderAdj_rename.ENSG00000108798.LDoriginal.mvsusierss.rds</td><td>/mnt/mfs/statgen/neuro-twas/mv_wg/result_arch/geneTpmResidualsAgeGenderAdj_rename.ENSG00000108798.mv_susie.model.RData</td><td>&lt;environment: 0x564fa4f436a0&gt;</td><td>m_ENSG00000108798</td><td></td></tr>\n",
       "\t<tr><td>/mnt/mfs/statgen/neuro-twas/TWAS_sumstat/susie_rss_eqtl_cor/geneTpmResidualsAgeGenderAdj_rename.ENSG00000110077.LDoriginal.mvsusierss.rds</td><td>/mnt/mfs/statgen/neuro-twas/mv_wg/result_arch/geneTpmResidualsAgeGenderAdj_rename.ENSG00000110077.mv_susie.model.RData</td><td>&lt;environment: 0x564fa4ec53d8&gt;</td><td>m_ENSG00000110077</td><td></td></tr>\n",
       "\t<tr><td>/mnt/mfs/statgen/neuro-twas/TWAS_sumstat/susie_rss_eqtl_cor/geneTpmResidualsAgeGenderAdj_rename.ENSG00000120885.LDoriginal.mvsusierss.rds</td><td>/mnt/mfs/statgen/neuro-twas/mv_wg/result_arch/geneTpmResidualsAgeGenderAdj_rename.ENSG00000120885.mv_susie.model.RData</td><td>&lt;environment: 0x564fa4d11330&gt;</td><td>m_ENSG00000120885</td><td>8:27459205_A_C, 8:27458104_C_G</td></tr>\n",
       "\t<tr><td>/mnt/mfs/statgen/neuro-twas/TWAS_sumstat/susie_rss_eqtl_cor/geneTpmResidualsAgeGenderAdj_rename.ENSG00000120899.LDoriginal.mvsusierss.rds</td><td>/mnt/mfs/statgen/neuro-twas/mv_wg/result_arch/geneTpmResidualsAgeGenderAdj_rename.ENSG00000120899.mv_susie.model.RData</td><td>&lt;environment: 0x564fa4a9c160&gt;</td><td>m_ENSG00000120899</td><td></td></tr>\n",
       "\t<tr><td>/mnt/mfs/statgen/neuro-twas/TWAS_sumstat/susie_rss_eqtl_cor/geneTpmResidualsAgeGenderAdj_rename.ENSG00000130203.LDoriginal.mvsusierss.rds</td><td>/mnt/mfs/statgen/neuro-twas/mv_wg/result_arch/geneTpmResidualsAgeGenderAdj_rename.ENSG00000130203.mv_susie.model.RData</td><td>&lt;environment: 0x564fa50013c8&gt;</td><td>m_ENSG00000130203</td><td></td></tr>\n",
       "\t<tr><td>/mnt/mfs/statgen/neuro-twas/TWAS_sumstat/susie_rss_eqtl_cor/geneTpmResidualsAgeGenderAdj_rename.ENSG00000134463.LDoriginal.mvsusierss.rds</td><td>/mnt/mfs/statgen/neuro-twas/mv_wg/result_arch/geneTpmResidualsAgeGenderAdj_rename.ENSG00000134463.mv_susie.model.RData</td><td>&lt;environment: 0x564fa4f95ee0&gt;</td><td>m_ENSG00000134463</td><td>10:11822747_C_T, 10:11832356_C_T, 10:11825742_C_G</td></tr>\n",
       "\t<tr><td>/mnt/mfs/statgen/neuro-twas/TWAS_sumstat/susie_rss_eqtl_cor/geneTpmResidualsAgeGenderAdj_rename.ENSG00000136717.LDoriginal.mvsusierss.rds</td><td>/mnt/mfs/statgen/neuro-twas/mv_wg/result_arch/geneTpmResidualsAgeGenderAdj_rename.ENSG00000136717.mv_susie.model.RData</td><td>&lt;environment: 0x564fa4f2d5d8&gt;</td><td>m_ENSG00000136717</td><td>2:127446528_C_T, 2:127446853_C_T</td></tr>\n",
       "\t<tr><td>/mnt/mfs/statgen/neuro-twas/TWAS_sumstat/susie_rss_eqtl_cor/geneTpmResidualsAgeGenderAdj_rename.ENSG00000137642.LDoriginal.mvsusierss.rds</td><td>/mnt/mfs/statgen/neuro-twas/mv_wg/result_arch/geneTpmResidualsAgeGenderAdj_rename.ENSG00000137642.mv_susie.model.RData</td><td>&lt;environment: 0x564fa4ebb7d8&gt;</td><td>m_ENSG00000137642</td><td></td></tr>\n",
       "\t<tr><td>/mnt/mfs/statgen/neuro-twas/TWAS_sumstat/susie_rss_eqtl_cor/geneTpmResidualsAgeGenderAdj_rename.ENSG00000137845.LDoriginal.mvsusierss.rds</td><td>/mnt/mfs/statgen/neuro-twas/mv_wg/result_arch/geneTpmResidualsAgeGenderAdj_rename.ENSG00000137845.mv_susie.model.RData</td><td>&lt;environment: 0x564fa4b73578&gt;</td><td>m_ENSG00000137845</td><td></td></tr>\n",
       "\t<tr><td>/mnt/mfs/statgen/neuro-twas/TWAS_sumstat/susie_rss_eqtl_cor/geneTpmResidualsAgeGenderAdj_rename.ENSG00000138613.LDoriginal.mvsusierss.rds</td><td>/mnt/mfs/statgen/neuro-twas/mv_wg/result_arch/geneTpmResidualsAgeGenderAdj_rename.ENSG00000138613.mv_susie.model.RData</td><td>&lt;environment: 0x564fa4810a78&gt;</td><td>m_ENSG00000138613</td><td>15:63515503_G_T, 15:63552102_C_T, 15:63516266_C_G, 15:63516759_A_G, 15:63550357_A_G</td></tr>\n",
       "\t<tr><td>/mnt/mfs/statgen/neuro-twas/TWAS_sumstat/susie_rss_eqtl_cor/geneTpmResidualsAgeGenderAdj_rename.ENSG00000140090.LDoriginal.mvsusierss.rds</td><td>/mnt/mfs/statgen/neuro-twas/mv_wg/result_arch/geneTpmResidualsAgeGenderAdj_rename.ENSG00000140090.mv_susie.model.RData</td><td>&lt;environment: 0x564fa472a278&gt;</td><td>m_ENSG00000140090</td><td>14:92791013_A_C, 14:92785560_A_G, 14:92781334_C_T, 14:92762023_C_T, 14:92761152_A_G</td></tr>\n",
       "\t<tr><td>/mnt/mfs/statgen/neuro-twas/TWAS_sumstat/susie_rss_eqtl_cor/geneTpmResidualsAgeGenderAdj_rename.ENSG00000158859.LDoriginal.mvsusierss.rds</td><td>/mnt/mfs/statgen/neuro-twas/mv_wg/result_arch/geneTpmResidualsAgeGenderAdj_rename.ENSG00000158859.mv_susie.model.RData</td><td>&lt;environment: 0x564fa4ffde40&gt;</td><td>m_ENSG00000158859</td><td></td></tr>\n",
       "\t<tr><td>/mnt/mfs/statgen/neuro-twas/TWAS_sumstat/susie_rss_eqtl_cor/geneTpmResidualsAgeGenderAdj_rename.ENSG00000161929.LDoriginal.mvsusierss.rds</td><td>/mnt/mfs/statgen/neuro-twas/mv_wg/result_arch/geneTpmResidualsAgeGenderAdj_rename.ENSG00000161929.mv_susie.model.RData</td><td>&lt;environment: 0x564fa4f8e898&gt;</td><td>m_ENSG00000161929</td><td>17:5062571_A_G, 17:5066005_A_G, 17:5126876_C_T, 17:5125085_A_C, 17:5054705_C_T</td></tr>\n",
       "\t<tr><td>/mnt/mfs/statgen/neuro-twas/TWAS_sumstat/susie_rss_eqtl_cor/geneTpmResidualsAgeGenderAdj_rename.ENSG00000168918.LDoriginal.mvsusierss.rds</td><td>/mnt/mfs/statgen/neuro-twas/mv_wg/result_arch/geneTpmResidualsAgeGenderAdj_rename.ENSG00000168918.mv_susie.model.RData</td><td>&lt;environment: 0x564fa4f117c8&gt;</td><td>m_ENSG00000168918</td><td></td></tr>\n",
       "\t<tr><td>/mnt/mfs/statgen/neuro-twas/TWAS_sumstat/susie_rss_eqtl_cor/geneTpmResidualsAgeGenderAdj_rename.ENSG00000198087.LDoriginal.mvsusierss.rds</td><td>/mnt/mfs/statgen/neuro-twas/mv_wg/result_arch/geneTpmResidualsAgeGenderAdj_rename.ENSG00000198087.mv_susie.model.RData</td><td>&lt;environment: 0x564fa4b47ba8&gt;</td><td>m_ENSG00000198087</td><td>6:47482194_A_G, 6:47485098_A_G, 6:47513076_A_G, 6:47503303_A_G</td></tr>\n",
       "\t<tr><td>/mnt/mfs/statgen/neuro-twas/TWAS_sumstat/susie_rss_eqtl_cor/geneTpmResidualsAgeGenderAdj_rename.ENSG00000203710.LDoriginal.mvsusierss.rds</td><td>/mnt/mfs/statgen/neuro-twas/mv_wg/result_arch/geneTpmResidualsAgeGenderAdj_rename.ENSG00000203710.mv_susie.model.RData</td><td>&lt;environment: 0x564fa4ffbc18&gt;</td><td>m_ENSG00000203710</td><td><span style=white-space:pre-wrap>1:207693163_G_GC , 1:207688436_G_GTA, 1:207687374_A_T  , 1:207783507_C_T  , 1:207782154_C_T  , 1:207694357_C_T  </span></td></tr>\n",
       "\t<tr><td>/mnt/mfs/statgen/neuro-twas/TWAS_sumstat/susie_rss_eqtl_cor/geneTpmResidualsAgeGenderAdj_rename.ENSG00000264538.LDoriginal.mvsusierss.rds</td><td>/mnt/mfs/statgen/neuro-twas/mv_wg/result_arch/geneTpmResidualsAgeGenderAdj_rename.ENSG00000264538.mv_susie.model.RData</td><td>&lt;environment: 0x564fa4f7f4b8&gt;</td><td>m_ENSG00000264538</td><td><span style=white-space:pre-wrap>17:30365691_C_T  , 17:30380381_A_G  , 17:30290188_C_CAG, 17:30290151_A_G  </span></td></tr>\n",
       "\t<tr><td>/mnt/mfs/statgen/neuro-twas/TWAS_sumstat/susie_rss_eqtl_cor/geneTpmResidualsAgeGenderAdj_rename.ENSG00000265148.LDoriginal.mvsusierss.rds</td><td>/mnt/mfs/statgen/neuro-twas/mv_wg/result_arch/geneTpmResidualsAgeGenderAdj_rename.ENSG00000265148.mv_susie.model.RData</td><td>&lt;environment: 0x564fa4f03010&gt;</td><td>m_ENSG00000265148</td><td></td></tr>\n",
       "</tbody>\n",
       "</table>\n"
      ],
      "text/latex": [
       "A tibble: 24 x 5\n",
       "\\begin{tabular}{lllll}\n",
       " X3 & X9 & X10 & gene\\_id & X5\\\\\n",
       " <chr> & <chr> & <list> & <chr> & <list>\\\\\n",
       "\\hline\n",
       "\t /mnt/mfs/statgen/neuro-twas/TWAS\\_sumstat/susie\\_rss\\_eqtl\\_cor/geneTpmResidualsAgeGenderAdj\\_rename.ENSG00000002587.LDoriginal.mvsusierss.rds & /mnt/mfs/statgen/neuro-twas/mv\\_wg/result\\_arch/geneTpmResidualsAgeGenderAdj\\_rename.ENSG00000002587.mv\\_susie.model.RData & <environment: 0x564f9f9dba20> & m\\_ENSG00000002587 & \\\\\n",
       "\t /mnt/mfs/statgen/neuro-twas/TWAS\\_sumstat/susie\\_rss\\_eqtl\\_cor/geneTpmResidualsAgeGenderAdj\\_rename.ENSG00000064687.LDoriginal.mvsusierss.rds & /mnt/mfs/statgen/neuro-twas/mv\\_wg/result\\_arch/geneTpmResidualsAgeGenderAdj\\_rename.ENSG00000064687.mv\\_susie.model.RData & <environment: 0x564f9f9c0120> & m\\_ENSG00000064687 & 19:1032702\\_C\\_T, 19:1032756\\_C\\_T, 19:1033360\\_A\\_T\\\\\n",
       "\t /mnt/mfs/statgen/neuro-twas/TWAS\\_sumstat/susie\\_rss\\_eqtl\\_cor/geneTpmResidualsAgeGenderAdj\\_rename.ENSG00000073921.LDoriginal.mvsusierss.rds & /mnt/mfs/statgen/neuro-twas/mv\\_wg/result\\_arch/geneTpmResidualsAgeGenderAdj\\_rename.ENSG00000073921.mv\\_susie.model.RData & <environment: 0x564f9f99ff98> & m\\_ENSG00000073921 & \\\\\n",
       "\t /mnt/mfs/statgen/neuro-twas/TWAS\\_sumstat/susie\\_rss\\_eqtl\\_cor/geneTpmResidualsAgeGenderAdj\\_rename.ENSG00000087589.LDoriginal.mvsusierss.rds & /mnt/mfs/statgen/neuro-twas/mv\\_wg/result\\_arch/geneTpmResidualsAgeGenderAdj\\_rename.ENSG00000087589.mv\\_susie.model.RData & <environment: 0x564fa5009f38> & m\\_ENSG00000087589 & \\\\\n",
       "\t /mnt/mfs/statgen/neuro-twas/TWAS\\_sumstat/susie\\_rss\\_eqtl\\_cor/geneTpmResidualsAgeGenderAdj\\_rename.ENSG00000103510.LDoriginal.mvsusierss.rds & /mnt/mfs/statgen/neuro-twas/mv\\_wg/result\\_arch/geneTpmResidualsAgeGenderAdj\\_rename.ENSG00000103510.mv\\_susie.model.RData & <environment: 0x564fa5001ef0> & m\\_ENSG00000103510 & 16:31138445\\_A\\_G, 16:31143993\\_C\\_T\\\\\n",
       "\t /mnt/mfs/statgen/neuro-twas/TWAS\\_sumstat/susie\\_rss\\_eqtl\\_cor/geneTpmResidualsAgeGenderAdj\\_rename.ENSG00000105383.LDoriginal.mvsusierss.rds & /mnt/mfs/statgen/neuro-twas/mv\\_wg/result\\_arch/geneTpmResidualsAgeGenderAdj\\_rename.ENSG00000105383.mv\\_susie.model.RData & <environment: 0x564fa4fa8aa0> & m\\_ENSG00000105383 & \\\\\n",
       "\t /mnt/mfs/statgen/neuro-twas/TWAS\\_sumstat/susie\\_rss\\_eqtl\\_cor/geneTpmResidualsAgeGenderAdj\\_rename.ENSG00000108798.LDoriginal.mvsusierss.rds & /mnt/mfs/statgen/neuro-twas/mv\\_wg/result\\_arch/geneTpmResidualsAgeGenderAdj\\_rename.ENSG00000108798.mv\\_susie.model.RData & <environment: 0x564fa4f436a0> & m\\_ENSG00000108798 & \\\\\n",
       "\t /mnt/mfs/statgen/neuro-twas/TWAS\\_sumstat/susie\\_rss\\_eqtl\\_cor/geneTpmResidualsAgeGenderAdj\\_rename.ENSG00000110077.LDoriginal.mvsusierss.rds & /mnt/mfs/statgen/neuro-twas/mv\\_wg/result\\_arch/geneTpmResidualsAgeGenderAdj\\_rename.ENSG00000110077.mv\\_susie.model.RData & <environment: 0x564fa4ec53d8> & m\\_ENSG00000110077 & \\\\\n",
       "\t /mnt/mfs/statgen/neuro-twas/TWAS\\_sumstat/susie\\_rss\\_eqtl\\_cor/geneTpmResidualsAgeGenderAdj\\_rename.ENSG00000120885.LDoriginal.mvsusierss.rds & /mnt/mfs/statgen/neuro-twas/mv\\_wg/result\\_arch/geneTpmResidualsAgeGenderAdj\\_rename.ENSG00000120885.mv\\_susie.model.RData & <environment: 0x564fa4d11330> & m\\_ENSG00000120885 & 8:27459205\\_A\\_C, 8:27458104\\_C\\_G\\\\\n",
       "\t /mnt/mfs/statgen/neuro-twas/TWAS\\_sumstat/susie\\_rss\\_eqtl\\_cor/geneTpmResidualsAgeGenderAdj\\_rename.ENSG00000120899.LDoriginal.mvsusierss.rds & /mnt/mfs/statgen/neuro-twas/mv\\_wg/result\\_arch/geneTpmResidualsAgeGenderAdj\\_rename.ENSG00000120899.mv\\_susie.model.RData & <environment: 0x564fa4a9c160> & m\\_ENSG00000120899 & \\\\\n",
       "\t /mnt/mfs/statgen/neuro-twas/TWAS\\_sumstat/susie\\_rss\\_eqtl\\_cor/geneTpmResidualsAgeGenderAdj\\_rename.ENSG00000130203.LDoriginal.mvsusierss.rds & /mnt/mfs/statgen/neuro-twas/mv\\_wg/result\\_arch/geneTpmResidualsAgeGenderAdj\\_rename.ENSG00000130203.mv\\_susie.model.RData & <environment: 0x564fa50013c8> & m\\_ENSG00000130203 & \\\\\n",
       "\t /mnt/mfs/statgen/neuro-twas/TWAS\\_sumstat/susie\\_rss\\_eqtl\\_cor/geneTpmResidualsAgeGenderAdj\\_rename.ENSG00000134463.LDoriginal.mvsusierss.rds & /mnt/mfs/statgen/neuro-twas/mv\\_wg/result\\_arch/geneTpmResidualsAgeGenderAdj\\_rename.ENSG00000134463.mv\\_susie.model.RData & <environment: 0x564fa4f95ee0> & m\\_ENSG00000134463 & 10:11822747\\_C\\_T, 10:11832356\\_C\\_T, 10:11825742\\_C\\_G\\\\\n",
       "\t /mnt/mfs/statgen/neuro-twas/TWAS\\_sumstat/susie\\_rss\\_eqtl\\_cor/geneTpmResidualsAgeGenderAdj\\_rename.ENSG00000136717.LDoriginal.mvsusierss.rds & /mnt/mfs/statgen/neuro-twas/mv\\_wg/result\\_arch/geneTpmResidualsAgeGenderAdj\\_rename.ENSG00000136717.mv\\_susie.model.RData & <environment: 0x564fa4f2d5d8> & m\\_ENSG00000136717 & 2:127446528\\_C\\_T, 2:127446853\\_C\\_T\\\\\n",
       "\t /mnt/mfs/statgen/neuro-twas/TWAS\\_sumstat/susie\\_rss\\_eqtl\\_cor/geneTpmResidualsAgeGenderAdj\\_rename.ENSG00000137642.LDoriginal.mvsusierss.rds & /mnt/mfs/statgen/neuro-twas/mv\\_wg/result\\_arch/geneTpmResidualsAgeGenderAdj\\_rename.ENSG00000137642.mv\\_susie.model.RData & <environment: 0x564fa4ebb7d8> & m\\_ENSG00000137642 & \\\\\n",
       "\t /mnt/mfs/statgen/neuro-twas/TWAS\\_sumstat/susie\\_rss\\_eqtl\\_cor/geneTpmResidualsAgeGenderAdj\\_rename.ENSG00000137845.LDoriginal.mvsusierss.rds & /mnt/mfs/statgen/neuro-twas/mv\\_wg/result\\_arch/geneTpmResidualsAgeGenderAdj\\_rename.ENSG00000137845.mv\\_susie.model.RData & <environment: 0x564fa4b73578> & m\\_ENSG00000137845 & \\\\\n",
       "\t /mnt/mfs/statgen/neuro-twas/TWAS\\_sumstat/susie\\_rss\\_eqtl\\_cor/geneTpmResidualsAgeGenderAdj\\_rename.ENSG00000138613.LDoriginal.mvsusierss.rds & /mnt/mfs/statgen/neuro-twas/mv\\_wg/result\\_arch/geneTpmResidualsAgeGenderAdj\\_rename.ENSG00000138613.mv\\_susie.model.RData & <environment: 0x564fa4810a78> & m\\_ENSG00000138613 & 15:63515503\\_G\\_T, 15:63552102\\_C\\_T, 15:63516266\\_C\\_G, 15:63516759\\_A\\_G, 15:63550357\\_A\\_G\\\\\n",
       "\t /mnt/mfs/statgen/neuro-twas/TWAS\\_sumstat/susie\\_rss\\_eqtl\\_cor/geneTpmResidualsAgeGenderAdj\\_rename.ENSG00000140090.LDoriginal.mvsusierss.rds & /mnt/mfs/statgen/neuro-twas/mv\\_wg/result\\_arch/geneTpmResidualsAgeGenderAdj\\_rename.ENSG00000140090.mv\\_susie.model.RData & <environment: 0x564fa472a278> & m\\_ENSG00000140090 & 14:92791013\\_A\\_C, 14:92785560\\_A\\_G, 14:92781334\\_C\\_T, 14:92762023\\_C\\_T, 14:92761152\\_A\\_G\\\\\n",
       "\t /mnt/mfs/statgen/neuro-twas/TWAS\\_sumstat/susie\\_rss\\_eqtl\\_cor/geneTpmResidualsAgeGenderAdj\\_rename.ENSG00000158859.LDoriginal.mvsusierss.rds & /mnt/mfs/statgen/neuro-twas/mv\\_wg/result\\_arch/geneTpmResidualsAgeGenderAdj\\_rename.ENSG00000158859.mv\\_susie.model.RData & <environment: 0x564fa4ffde40> & m\\_ENSG00000158859 & \\\\\n",
       "\t /mnt/mfs/statgen/neuro-twas/TWAS\\_sumstat/susie\\_rss\\_eqtl\\_cor/geneTpmResidualsAgeGenderAdj\\_rename.ENSG00000161929.LDoriginal.mvsusierss.rds & /mnt/mfs/statgen/neuro-twas/mv\\_wg/result\\_arch/geneTpmResidualsAgeGenderAdj\\_rename.ENSG00000161929.mv\\_susie.model.RData & <environment: 0x564fa4f8e898> & m\\_ENSG00000161929 & 17:5062571\\_A\\_G, 17:5066005\\_A\\_G, 17:5126876\\_C\\_T, 17:5125085\\_A\\_C, 17:5054705\\_C\\_T\\\\\n",
       "\t /mnt/mfs/statgen/neuro-twas/TWAS\\_sumstat/susie\\_rss\\_eqtl\\_cor/geneTpmResidualsAgeGenderAdj\\_rename.ENSG00000168918.LDoriginal.mvsusierss.rds & /mnt/mfs/statgen/neuro-twas/mv\\_wg/result\\_arch/geneTpmResidualsAgeGenderAdj\\_rename.ENSG00000168918.mv\\_susie.model.RData & <environment: 0x564fa4f117c8> & m\\_ENSG00000168918 & \\\\\n",
       "\t /mnt/mfs/statgen/neuro-twas/TWAS\\_sumstat/susie\\_rss\\_eqtl\\_cor/geneTpmResidualsAgeGenderAdj\\_rename.ENSG00000198087.LDoriginal.mvsusierss.rds & /mnt/mfs/statgen/neuro-twas/mv\\_wg/result\\_arch/geneTpmResidualsAgeGenderAdj\\_rename.ENSG00000198087.mv\\_susie.model.RData & <environment: 0x564fa4b47ba8> & m\\_ENSG00000198087 & 6:47482194\\_A\\_G, 6:47485098\\_A\\_G, 6:47513076\\_A\\_G, 6:47503303\\_A\\_G\\\\\n",
       "\t /mnt/mfs/statgen/neuro-twas/TWAS\\_sumstat/susie\\_rss\\_eqtl\\_cor/geneTpmResidualsAgeGenderAdj\\_rename.ENSG00000203710.LDoriginal.mvsusierss.rds & /mnt/mfs/statgen/neuro-twas/mv\\_wg/result\\_arch/geneTpmResidualsAgeGenderAdj\\_rename.ENSG00000203710.mv\\_susie.model.RData & <environment: 0x564fa4ffbc18> & m\\_ENSG00000203710 & 1:207693163\\_G\\_GC , 1:207688436\\_G\\_GTA, 1:207687374\\_A\\_T  , 1:207783507\\_C\\_T  , 1:207782154\\_C\\_T  , 1:207694357\\_C\\_T  \\\\\n",
       "\t /mnt/mfs/statgen/neuro-twas/TWAS\\_sumstat/susie\\_rss\\_eqtl\\_cor/geneTpmResidualsAgeGenderAdj\\_rename.ENSG00000264538.LDoriginal.mvsusierss.rds & /mnt/mfs/statgen/neuro-twas/mv\\_wg/result\\_arch/geneTpmResidualsAgeGenderAdj\\_rename.ENSG00000264538.mv\\_susie.model.RData & <environment: 0x564fa4f7f4b8> & m\\_ENSG00000264538 & 17:30365691\\_C\\_T  , 17:30380381\\_A\\_G  , 17:30290188\\_C\\_CAG, 17:30290151\\_A\\_G  \\\\\n",
       "\t /mnt/mfs/statgen/neuro-twas/TWAS\\_sumstat/susie\\_rss\\_eqtl\\_cor/geneTpmResidualsAgeGenderAdj\\_rename.ENSG00000265148.LDoriginal.mvsusierss.rds & /mnt/mfs/statgen/neuro-twas/mv\\_wg/result\\_arch/geneTpmResidualsAgeGenderAdj\\_rename.ENSG00000265148.mv\\_susie.model.RData & <environment: 0x564fa4f03010> & m\\_ENSG00000265148 & \\\\\n",
       "\\end{tabular}\n"
      ],
      "text/markdown": [
       "\n",
       "A tibble: 24 x 5\n",
       "\n",
       "| X3 &lt;chr&gt; | X9 &lt;chr&gt; | X10 &lt;list&gt; | gene_id &lt;chr&gt; | X5 &lt;list&gt; |\n",
       "|---|---|---|---|---|\n",
       "| /mnt/mfs/statgen/neuro-twas/TWAS_sumstat/susie_rss_eqtl_cor/geneTpmResidualsAgeGenderAdj_rename.ENSG00000002587.LDoriginal.mvsusierss.rds | /mnt/mfs/statgen/neuro-twas/mv_wg/result_arch/geneTpmResidualsAgeGenderAdj_rename.ENSG00000002587.mv_susie.model.RData | &lt;environment: 0x564f9f9dba20&gt; | m_ENSG00000002587 | <!----> |\n",
       "| /mnt/mfs/statgen/neuro-twas/TWAS_sumstat/susie_rss_eqtl_cor/geneTpmResidualsAgeGenderAdj_rename.ENSG00000064687.LDoriginal.mvsusierss.rds | /mnt/mfs/statgen/neuro-twas/mv_wg/result_arch/geneTpmResidualsAgeGenderAdj_rename.ENSG00000064687.mv_susie.model.RData | &lt;environment: 0x564f9f9c0120&gt; | m_ENSG00000064687 | 19:1032702_C_T, 19:1032756_C_T, 19:1033360_A_T |\n",
       "| /mnt/mfs/statgen/neuro-twas/TWAS_sumstat/susie_rss_eqtl_cor/geneTpmResidualsAgeGenderAdj_rename.ENSG00000073921.LDoriginal.mvsusierss.rds | /mnt/mfs/statgen/neuro-twas/mv_wg/result_arch/geneTpmResidualsAgeGenderAdj_rename.ENSG00000073921.mv_susie.model.RData | &lt;environment: 0x564f9f99ff98&gt; | m_ENSG00000073921 | <!----> |\n",
       "| /mnt/mfs/statgen/neuro-twas/TWAS_sumstat/susie_rss_eqtl_cor/geneTpmResidualsAgeGenderAdj_rename.ENSG00000087589.LDoriginal.mvsusierss.rds | /mnt/mfs/statgen/neuro-twas/mv_wg/result_arch/geneTpmResidualsAgeGenderAdj_rename.ENSG00000087589.mv_susie.model.RData | &lt;environment: 0x564fa5009f38&gt; | m_ENSG00000087589 | <!----> |\n",
       "| /mnt/mfs/statgen/neuro-twas/TWAS_sumstat/susie_rss_eqtl_cor/geneTpmResidualsAgeGenderAdj_rename.ENSG00000103510.LDoriginal.mvsusierss.rds | /mnt/mfs/statgen/neuro-twas/mv_wg/result_arch/geneTpmResidualsAgeGenderAdj_rename.ENSG00000103510.mv_susie.model.RData | &lt;environment: 0x564fa5001ef0&gt; | m_ENSG00000103510 | 16:31138445_A_G, 16:31143993_C_T |\n",
       "| /mnt/mfs/statgen/neuro-twas/TWAS_sumstat/susie_rss_eqtl_cor/geneTpmResidualsAgeGenderAdj_rename.ENSG00000105383.LDoriginal.mvsusierss.rds | /mnt/mfs/statgen/neuro-twas/mv_wg/result_arch/geneTpmResidualsAgeGenderAdj_rename.ENSG00000105383.mv_susie.model.RData | &lt;environment: 0x564fa4fa8aa0&gt; | m_ENSG00000105383 | <!----> |\n",
       "| /mnt/mfs/statgen/neuro-twas/TWAS_sumstat/susie_rss_eqtl_cor/geneTpmResidualsAgeGenderAdj_rename.ENSG00000108798.LDoriginal.mvsusierss.rds | /mnt/mfs/statgen/neuro-twas/mv_wg/result_arch/geneTpmResidualsAgeGenderAdj_rename.ENSG00000108798.mv_susie.model.RData | &lt;environment: 0x564fa4f436a0&gt; | m_ENSG00000108798 | <!----> |\n",
       "| /mnt/mfs/statgen/neuro-twas/TWAS_sumstat/susie_rss_eqtl_cor/geneTpmResidualsAgeGenderAdj_rename.ENSG00000110077.LDoriginal.mvsusierss.rds | /mnt/mfs/statgen/neuro-twas/mv_wg/result_arch/geneTpmResidualsAgeGenderAdj_rename.ENSG00000110077.mv_susie.model.RData | &lt;environment: 0x564fa4ec53d8&gt; | m_ENSG00000110077 | <!----> |\n",
       "| /mnt/mfs/statgen/neuro-twas/TWAS_sumstat/susie_rss_eqtl_cor/geneTpmResidualsAgeGenderAdj_rename.ENSG00000120885.LDoriginal.mvsusierss.rds | /mnt/mfs/statgen/neuro-twas/mv_wg/result_arch/geneTpmResidualsAgeGenderAdj_rename.ENSG00000120885.mv_susie.model.RData | &lt;environment: 0x564fa4d11330&gt; | m_ENSG00000120885 | 8:27459205_A_C, 8:27458104_C_G |\n",
       "| /mnt/mfs/statgen/neuro-twas/TWAS_sumstat/susie_rss_eqtl_cor/geneTpmResidualsAgeGenderAdj_rename.ENSG00000120899.LDoriginal.mvsusierss.rds | /mnt/mfs/statgen/neuro-twas/mv_wg/result_arch/geneTpmResidualsAgeGenderAdj_rename.ENSG00000120899.mv_susie.model.RData | &lt;environment: 0x564fa4a9c160&gt; | m_ENSG00000120899 | <!----> |\n",
       "| /mnt/mfs/statgen/neuro-twas/TWAS_sumstat/susie_rss_eqtl_cor/geneTpmResidualsAgeGenderAdj_rename.ENSG00000130203.LDoriginal.mvsusierss.rds | /mnt/mfs/statgen/neuro-twas/mv_wg/result_arch/geneTpmResidualsAgeGenderAdj_rename.ENSG00000130203.mv_susie.model.RData | &lt;environment: 0x564fa50013c8&gt; | m_ENSG00000130203 | <!----> |\n",
       "| /mnt/mfs/statgen/neuro-twas/TWAS_sumstat/susie_rss_eqtl_cor/geneTpmResidualsAgeGenderAdj_rename.ENSG00000134463.LDoriginal.mvsusierss.rds | /mnt/mfs/statgen/neuro-twas/mv_wg/result_arch/geneTpmResidualsAgeGenderAdj_rename.ENSG00000134463.mv_susie.model.RData | &lt;environment: 0x564fa4f95ee0&gt; | m_ENSG00000134463 | 10:11822747_C_T, 10:11832356_C_T, 10:11825742_C_G |\n",
       "| /mnt/mfs/statgen/neuro-twas/TWAS_sumstat/susie_rss_eqtl_cor/geneTpmResidualsAgeGenderAdj_rename.ENSG00000136717.LDoriginal.mvsusierss.rds | /mnt/mfs/statgen/neuro-twas/mv_wg/result_arch/geneTpmResidualsAgeGenderAdj_rename.ENSG00000136717.mv_susie.model.RData | &lt;environment: 0x564fa4f2d5d8&gt; | m_ENSG00000136717 | 2:127446528_C_T, 2:127446853_C_T |\n",
       "| /mnt/mfs/statgen/neuro-twas/TWAS_sumstat/susie_rss_eqtl_cor/geneTpmResidualsAgeGenderAdj_rename.ENSG00000137642.LDoriginal.mvsusierss.rds | /mnt/mfs/statgen/neuro-twas/mv_wg/result_arch/geneTpmResidualsAgeGenderAdj_rename.ENSG00000137642.mv_susie.model.RData | &lt;environment: 0x564fa4ebb7d8&gt; | m_ENSG00000137642 | <!----> |\n",
       "| /mnt/mfs/statgen/neuro-twas/TWAS_sumstat/susie_rss_eqtl_cor/geneTpmResidualsAgeGenderAdj_rename.ENSG00000137845.LDoriginal.mvsusierss.rds | /mnt/mfs/statgen/neuro-twas/mv_wg/result_arch/geneTpmResidualsAgeGenderAdj_rename.ENSG00000137845.mv_susie.model.RData | &lt;environment: 0x564fa4b73578&gt; | m_ENSG00000137845 | <!----> |\n",
       "| /mnt/mfs/statgen/neuro-twas/TWAS_sumstat/susie_rss_eqtl_cor/geneTpmResidualsAgeGenderAdj_rename.ENSG00000138613.LDoriginal.mvsusierss.rds | /mnt/mfs/statgen/neuro-twas/mv_wg/result_arch/geneTpmResidualsAgeGenderAdj_rename.ENSG00000138613.mv_susie.model.RData | &lt;environment: 0x564fa4810a78&gt; | m_ENSG00000138613 | 15:63515503_G_T, 15:63552102_C_T, 15:63516266_C_G, 15:63516759_A_G, 15:63550357_A_G |\n",
       "| /mnt/mfs/statgen/neuro-twas/TWAS_sumstat/susie_rss_eqtl_cor/geneTpmResidualsAgeGenderAdj_rename.ENSG00000140090.LDoriginal.mvsusierss.rds | /mnt/mfs/statgen/neuro-twas/mv_wg/result_arch/geneTpmResidualsAgeGenderAdj_rename.ENSG00000140090.mv_susie.model.RData | &lt;environment: 0x564fa472a278&gt; | m_ENSG00000140090 | 14:92791013_A_C, 14:92785560_A_G, 14:92781334_C_T, 14:92762023_C_T, 14:92761152_A_G |\n",
       "| /mnt/mfs/statgen/neuro-twas/TWAS_sumstat/susie_rss_eqtl_cor/geneTpmResidualsAgeGenderAdj_rename.ENSG00000158859.LDoriginal.mvsusierss.rds | /mnt/mfs/statgen/neuro-twas/mv_wg/result_arch/geneTpmResidualsAgeGenderAdj_rename.ENSG00000158859.mv_susie.model.RData | &lt;environment: 0x564fa4ffde40&gt; | m_ENSG00000158859 | <!----> |\n",
       "| /mnt/mfs/statgen/neuro-twas/TWAS_sumstat/susie_rss_eqtl_cor/geneTpmResidualsAgeGenderAdj_rename.ENSG00000161929.LDoriginal.mvsusierss.rds | /mnt/mfs/statgen/neuro-twas/mv_wg/result_arch/geneTpmResidualsAgeGenderAdj_rename.ENSG00000161929.mv_susie.model.RData | &lt;environment: 0x564fa4f8e898&gt; | m_ENSG00000161929 | 17:5062571_A_G, 17:5066005_A_G, 17:5126876_C_T, 17:5125085_A_C, 17:5054705_C_T |\n",
       "| /mnt/mfs/statgen/neuro-twas/TWAS_sumstat/susie_rss_eqtl_cor/geneTpmResidualsAgeGenderAdj_rename.ENSG00000168918.LDoriginal.mvsusierss.rds | /mnt/mfs/statgen/neuro-twas/mv_wg/result_arch/geneTpmResidualsAgeGenderAdj_rename.ENSG00000168918.mv_susie.model.RData | &lt;environment: 0x564fa4f117c8&gt; | m_ENSG00000168918 | <!----> |\n",
       "| /mnt/mfs/statgen/neuro-twas/TWAS_sumstat/susie_rss_eqtl_cor/geneTpmResidualsAgeGenderAdj_rename.ENSG00000198087.LDoriginal.mvsusierss.rds | /mnt/mfs/statgen/neuro-twas/mv_wg/result_arch/geneTpmResidualsAgeGenderAdj_rename.ENSG00000198087.mv_susie.model.RData | &lt;environment: 0x564fa4b47ba8&gt; | m_ENSG00000198087 | 6:47482194_A_G, 6:47485098_A_G, 6:47513076_A_G, 6:47503303_A_G |\n",
       "| /mnt/mfs/statgen/neuro-twas/TWAS_sumstat/susie_rss_eqtl_cor/geneTpmResidualsAgeGenderAdj_rename.ENSG00000203710.LDoriginal.mvsusierss.rds | /mnt/mfs/statgen/neuro-twas/mv_wg/result_arch/geneTpmResidualsAgeGenderAdj_rename.ENSG00000203710.mv_susie.model.RData | &lt;environment: 0x564fa4ffbc18&gt; | m_ENSG00000203710 | 1:207693163_G_GC , 1:207688436_G_GTA, 1:207687374_A_T  , 1:207783507_C_T  , 1:207782154_C_T  , 1:207694357_C_T   |\n",
       "| /mnt/mfs/statgen/neuro-twas/TWAS_sumstat/susie_rss_eqtl_cor/geneTpmResidualsAgeGenderAdj_rename.ENSG00000264538.LDoriginal.mvsusierss.rds | /mnt/mfs/statgen/neuro-twas/mv_wg/result_arch/geneTpmResidualsAgeGenderAdj_rename.ENSG00000264538.mv_susie.model.RData | &lt;environment: 0x564fa4f7f4b8&gt; | m_ENSG00000264538 | 17:30365691_C_T  , 17:30380381_A_G  , 17:30290188_C_CAG, 17:30290151_A_G   |\n",
       "| /mnt/mfs/statgen/neuro-twas/TWAS_sumstat/susie_rss_eqtl_cor/geneTpmResidualsAgeGenderAdj_rename.ENSG00000265148.LDoriginal.mvsusierss.rds | /mnt/mfs/statgen/neuro-twas/mv_wg/result_arch/geneTpmResidualsAgeGenderAdj_rename.ENSG00000265148.mv_susie.model.RData | &lt;environment: 0x564fa4f03010&gt; | m_ENSG00000265148 | <!----> |\n",
       "\n"
      ],
      "text/plain": [
       "   X3                                                                                                                                       \n",
       "1  /mnt/mfs/statgen/neuro-twas/TWAS_sumstat/susie_rss_eqtl_cor/geneTpmResidualsAgeGenderAdj_rename.ENSG00000002587.LDoriginal.mvsusierss.rds\n",
       "2  /mnt/mfs/statgen/neuro-twas/TWAS_sumstat/susie_rss_eqtl_cor/geneTpmResidualsAgeGenderAdj_rename.ENSG00000064687.LDoriginal.mvsusierss.rds\n",
       "3  /mnt/mfs/statgen/neuro-twas/TWAS_sumstat/susie_rss_eqtl_cor/geneTpmResidualsAgeGenderAdj_rename.ENSG00000073921.LDoriginal.mvsusierss.rds\n",
       "4  /mnt/mfs/statgen/neuro-twas/TWAS_sumstat/susie_rss_eqtl_cor/geneTpmResidualsAgeGenderAdj_rename.ENSG00000087589.LDoriginal.mvsusierss.rds\n",
       "5  /mnt/mfs/statgen/neuro-twas/TWAS_sumstat/susie_rss_eqtl_cor/geneTpmResidualsAgeGenderAdj_rename.ENSG00000103510.LDoriginal.mvsusierss.rds\n",
       "6  /mnt/mfs/statgen/neuro-twas/TWAS_sumstat/susie_rss_eqtl_cor/geneTpmResidualsAgeGenderAdj_rename.ENSG00000105383.LDoriginal.mvsusierss.rds\n",
       "7  /mnt/mfs/statgen/neuro-twas/TWAS_sumstat/susie_rss_eqtl_cor/geneTpmResidualsAgeGenderAdj_rename.ENSG00000108798.LDoriginal.mvsusierss.rds\n",
       "8  /mnt/mfs/statgen/neuro-twas/TWAS_sumstat/susie_rss_eqtl_cor/geneTpmResidualsAgeGenderAdj_rename.ENSG00000110077.LDoriginal.mvsusierss.rds\n",
       "9  /mnt/mfs/statgen/neuro-twas/TWAS_sumstat/susie_rss_eqtl_cor/geneTpmResidualsAgeGenderAdj_rename.ENSG00000120885.LDoriginal.mvsusierss.rds\n",
       "10 /mnt/mfs/statgen/neuro-twas/TWAS_sumstat/susie_rss_eqtl_cor/geneTpmResidualsAgeGenderAdj_rename.ENSG00000120899.LDoriginal.mvsusierss.rds\n",
       "11 /mnt/mfs/statgen/neuro-twas/TWAS_sumstat/susie_rss_eqtl_cor/geneTpmResidualsAgeGenderAdj_rename.ENSG00000130203.LDoriginal.mvsusierss.rds\n",
       "12 /mnt/mfs/statgen/neuro-twas/TWAS_sumstat/susie_rss_eqtl_cor/geneTpmResidualsAgeGenderAdj_rename.ENSG00000134463.LDoriginal.mvsusierss.rds\n",
       "13 /mnt/mfs/statgen/neuro-twas/TWAS_sumstat/susie_rss_eqtl_cor/geneTpmResidualsAgeGenderAdj_rename.ENSG00000136717.LDoriginal.mvsusierss.rds\n",
       "14 /mnt/mfs/statgen/neuro-twas/TWAS_sumstat/susie_rss_eqtl_cor/geneTpmResidualsAgeGenderAdj_rename.ENSG00000137642.LDoriginal.mvsusierss.rds\n",
       "15 /mnt/mfs/statgen/neuro-twas/TWAS_sumstat/susie_rss_eqtl_cor/geneTpmResidualsAgeGenderAdj_rename.ENSG00000137845.LDoriginal.mvsusierss.rds\n",
       "16 /mnt/mfs/statgen/neuro-twas/TWAS_sumstat/susie_rss_eqtl_cor/geneTpmResidualsAgeGenderAdj_rename.ENSG00000138613.LDoriginal.mvsusierss.rds\n",
       "17 /mnt/mfs/statgen/neuro-twas/TWAS_sumstat/susie_rss_eqtl_cor/geneTpmResidualsAgeGenderAdj_rename.ENSG00000140090.LDoriginal.mvsusierss.rds\n",
       "18 /mnt/mfs/statgen/neuro-twas/TWAS_sumstat/susie_rss_eqtl_cor/geneTpmResidualsAgeGenderAdj_rename.ENSG00000158859.LDoriginal.mvsusierss.rds\n",
       "19 /mnt/mfs/statgen/neuro-twas/TWAS_sumstat/susie_rss_eqtl_cor/geneTpmResidualsAgeGenderAdj_rename.ENSG00000161929.LDoriginal.mvsusierss.rds\n",
       "20 /mnt/mfs/statgen/neuro-twas/TWAS_sumstat/susie_rss_eqtl_cor/geneTpmResidualsAgeGenderAdj_rename.ENSG00000168918.LDoriginal.mvsusierss.rds\n",
       "21 /mnt/mfs/statgen/neuro-twas/TWAS_sumstat/susie_rss_eqtl_cor/geneTpmResidualsAgeGenderAdj_rename.ENSG00000198087.LDoriginal.mvsusierss.rds\n",
       "22 /mnt/mfs/statgen/neuro-twas/TWAS_sumstat/susie_rss_eqtl_cor/geneTpmResidualsAgeGenderAdj_rename.ENSG00000203710.LDoriginal.mvsusierss.rds\n",
       "23 /mnt/mfs/statgen/neuro-twas/TWAS_sumstat/susie_rss_eqtl_cor/geneTpmResidualsAgeGenderAdj_rename.ENSG00000264538.LDoriginal.mvsusierss.rds\n",
       "24 /mnt/mfs/statgen/neuro-twas/TWAS_sumstat/susie_rss_eqtl_cor/geneTpmResidualsAgeGenderAdj_rename.ENSG00000265148.LDoriginal.mvsusierss.rds\n",
       "   X9                                                                                                                    \n",
       "1  /mnt/mfs/statgen/neuro-twas/mv_wg/result_arch/geneTpmResidualsAgeGenderAdj_rename.ENSG00000002587.mv_susie.model.RData\n",
       "2  /mnt/mfs/statgen/neuro-twas/mv_wg/result_arch/geneTpmResidualsAgeGenderAdj_rename.ENSG00000064687.mv_susie.model.RData\n",
       "3  /mnt/mfs/statgen/neuro-twas/mv_wg/result_arch/geneTpmResidualsAgeGenderAdj_rename.ENSG00000073921.mv_susie.model.RData\n",
       "4  /mnt/mfs/statgen/neuro-twas/mv_wg/result_arch/geneTpmResidualsAgeGenderAdj_rename.ENSG00000087589.mv_susie.model.RData\n",
       "5  /mnt/mfs/statgen/neuro-twas/mv_wg/result_arch/geneTpmResidualsAgeGenderAdj_rename.ENSG00000103510.mv_susie.model.RData\n",
       "6  /mnt/mfs/statgen/neuro-twas/mv_wg/result_arch/geneTpmResidualsAgeGenderAdj_rename.ENSG00000105383.mv_susie.model.RData\n",
       "7  /mnt/mfs/statgen/neuro-twas/mv_wg/result_arch/geneTpmResidualsAgeGenderAdj_rename.ENSG00000108798.mv_susie.model.RData\n",
       "8  /mnt/mfs/statgen/neuro-twas/mv_wg/result_arch/geneTpmResidualsAgeGenderAdj_rename.ENSG00000110077.mv_susie.model.RData\n",
       "9  /mnt/mfs/statgen/neuro-twas/mv_wg/result_arch/geneTpmResidualsAgeGenderAdj_rename.ENSG00000120885.mv_susie.model.RData\n",
       "10 /mnt/mfs/statgen/neuro-twas/mv_wg/result_arch/geneTpmResidualsAgeGenderAdj_rename.ENSG00000120899.mv_susie.model.RData\n",
       "11 /mnt/mfs/statgen/neuro-twas/mv_wg/result_arch/geneTpmResidualsAgeGenderAdj_rename.ENSG00000130203.mv_susie.model.RData\n",
       "12 /mnt/mfs/statgen/neuro-twas/mv_wg/result_arch/geneTpmResidualsAgeGenderAdj_rename.ENSG00000134463.mv_susie.model.RData\n",
       "13 /mnt/mfs/statgen/neuro-twas/mv_wg/result_arch/geneTpmResidualsAgeGenderAdj_rename.ENSG00000136717.mv_susie.model.RData\n",
       "14 /mnt/mfs/statgen/neuro-twas/mv_wg/result_arch/geneTpmResidualsAgeGenderAdj_rename.ENSG00000137642.mv_susie.model.RData\n",
       "15 /mnt/mfs/statgen/neuro-twas/mv_wg/result_arch/geneTpmResidualsAgeGenderAdj_rename.ENSG00000137845.mv_susie.model.RData\n",
       "16 /mnt/mfs/statgen/neuro-twas/mv_wg/result_arch/geneTpmResidualsAgeGenderAdj_rename.ENSG00000138613.mv_susie.model.RData\n",
       "17 /mnt/mfs/statgen/neuro-twas/mv_wg/result_arch/geneTpmResidualsAgeGenderAdj_rename.ENSG00000140090.mv_susie.model.RData\n",
       "18 /mnt/mfs/statgen/neuro-twas/mv_wg/result_arch/geneTpmResidualsAgeGenderAdj_rename.ENSG00000158859.mv_susie.model.RData\n",
       "19 /mnt/mfs/statgen/neuro-twas/mv_wg/result_arch/geneTpmResidualsAgeGenderAdj_rename.ENSG00000161929.mv_susie.model.RData\n",
       "20 /mnt/mfs/statgen/neuro-twas/mv_wg/result_arch/geneTpmResidualsAgeGenderAdj_rename.ENSG00000168918.mv_susie.model.RData\n",
       "21 /mnt/mfs/statgen/neuro-twas/mv_wg/result_arch/geneTpmResidualsAgeGenderAdj_rename.ENSG00000198087.mv_susie.model.RData\n",
       "22 /mnt/mfs/statgen/neuro-twas/mv_wg/result_arch/geneTpmResidualsAgeGenderAdj_rename.ENSG00000203710.mv_susie.model.RData\n",
       "23 /mnt/mfs/statgen/neuro-twas/mv_wg/result_arch/geneTpmResidualsAgeGenderAdj_rename.ENSG00000264538.mv_susie.model.RData\n",
       "24 /mnt/mfs/statgen/neuro-twas/mv_wg/result_arch/geneTpmResidualsAgeGenderAdj_rename.ENSG00000265148.mv_susie.model.RData\n",
       "   X10                           gene_id          \n",
       "1  <environment: 0x564f9f9dba20> m_ENSG00000002587\n",
       "2  <environment: 0x564f9f9c0120> m_ENSG00000064687\n",
       "3  <environment: 0x564f9f99ff98> m_ENSG00000073921\n",
       "4  <environment: 0x564fa5009f38> m_ENSG00000087589\n",
       "5  <environment: 0x564fa5001ef0> m_ENSG00000103510\n",
       "6  <environment: 0x564fa4fa8aa0> m_ENSG00000105383\n",
       "7  <environment: 0x564fa4f436a0> m_ENSG00000108798\n",
       "8  <environment: 0x564fa4ec53d8> m_ENSG00000110077\n",
       "9  <environment: 0x564fa4d11330> m_ENSG00000120885\n",
       "10 <environment: 0x564fa4a9c160> m_ENSG00000120899\n",
       "11 <environment: 0x564fa50013c8> m_ENSG00000130203\n",
       "12 <environment: 0x564fa4f95ee0> m_ENSG00000134463\n",
       "13 <environment: 0x564fa4f2d5d8> m_ENSG00000136717\n",
       "14 <environment: 0x564fa4ebb7d8> m_ENSG00000137642\n",
       "15 <environment: 0x564fa4b73578> m_ENSG00000137845\n",
       "16 <environment: 0x564fa4810a78> m_ENSG00000138613\n",
       "17 <environment: 0x564fa472a278> m_ENSG00000140090\n",
       "18 <environment: 0x564fa4ffde40> m_ENSG00000158859\n",
       "19 <environment: 0x564fa4f8e898> m_ENSG00000161929\n",
       "20 <environment: 0x564fa4f117c8> m_ENSG00000168918\n",
       "21 <environment: 0x564fa4b47ba8> m_ENSG00000198087\n",
       "22 <environment: 0x564fa4ffbc18> m_ENSG00000203710\n",
       "23 <environment: 0x564fa4f7f4b8> m_ENSG00000264538\n",
       "24 <environment: 0x564fa4f03010> m_ENSG00000265148\n",
       "   X5                                                                                                              \n",
       "1                                                                                                                  \n",
       "2  19:1032702_C_T, 19:1032756_C_T, 19:1033360_A_T                                                                  \n",
       "3                                                                                                                  \n",
       "4                                                                                                                  \n",
       "5  16:31138445_A_G, 16:31143993_C_T                                                                                \n",
       "6                                                                                                                  \n",
       "7                                                                                                                  \n",
       "8                                                                                                                  \n",
       "9  8:27459205_A_C, 8:27458104_C_G                                                                                  \n",
       "10                                                                                                                 \n",
       "11                                                                                                                 \n",
       "12 10:11822747_C_T, 10:11832356_C_T, 10:11825742_C_G                                                               \n",
       "13 2:127446528_C_T, 2:127446853_C_T                                                                                \n",
       "14                                                                                                                 \n",
       "15                                                                                                                 \n",
       "16 15:63515503_G_T, 15:63552102_C_T, 15:63516266_C_G, 15:63516759_A_G, 15:63550357_A_G                             \n",
       "17 14:92791013_A_C, 14:92785560_A_G, 14:92781334_C_T, 14:92762023_C_T, 14:92761152_A_G                             \n",
       "18                                                                                                                 \n",
       "19 17:5062571_A_G, 17:5066005_A_G, 17:5126876_C_T, 17:5125085_A_C, 17:5054705_C_T                                  \n",
       "20                                                                                                                 \n",
       "21 6:47482194_A_G, 6:47485098_A_G, 6:47513076_A_G, 6:47503303_A_G                                                  \n",
       "22 1:207693163_G_GC , 1:207688436_G_GTA, 1:207687374_A_T  , 1:207783507_C_T  , 1:207782154_C_T  , 1:207694357_C_T  \n",
       "23 17:30365691_C_T  , 17:30380381_A_G  , 17:30290188_C_CAG, 17:30290151_A_G                                        \n",
       "24                                                                                                                 "
      ]
     },
     "metadata": {},
     "output_type": "display_data"
    }
   ],
   "source": [
    "c%>%filter(!is.na(X4))%>%mutate(X5 = map(X4,~.x$variable_names[.x$sets$cs%>%unlist]))%>%select(-X4,-X1,-X2)"
   ]
  },
  {
   "cell_type": "code",
   "execution_count": 6,
   "id": "ab2f7eb1-d366-4436-bdfb-94445645641b",
   "metadata": {},
   "outputs": [
    {
     "name": "stderr",
     "output_type": "stream",
     "text": [
      "Warning message in gzfile(file, \"rb\"):\n",
      "“cannot open compressed file '/mnt/mfs/statgen/neuro-twas/TWAS_sumstat/susie_rss_eqtl/geneTpmResidualsAgeGenderAdj_rename.ENSG00000064687.LDoriginal.mvsusierss.rds', probable reason 'No such file or directory'”\n",
      "Warning message in gzfile(file, \"rb\"):\n",
      "“cannot open compressed file '/mnt/mfs/statgen/neuro-twas/TWAS_sumstat/susie_rss_eqtl/geneTpmResidualsAgeGenderAdj_rename.ENSG00000078487.LDoriginal.mvsusierss.rds', probable reason 'No such file or directory'”\n",
      "Warning message in gzfile(file, \"rb\"):\n",
      "“cannot open compressed file '/mnt/mfs/statgen/neuro-twas/TWAS_sumstat/susie_rss_eqtl/geneTpmResidualsAgeGenderAdj_rename.ENSG00000103510.LDoriginal.mvsusierss.rds', probable reason 'No such file or directory'”\n",
      "Warning message in gzfile(file, \"rb\"):\n",
      "“cannot open compressed file '/mnt/mfs/statgen/neuro-twas/TWAS_sumstat/susie_rss_eqtl/geneTpmResidualsAgeGenderAdj_rename.ENSG00000120885.LDoriginal.mvsusierss.rds', probable reason 'No such file or directory'”\n",
      "Warning message in gzfile(file, \"rb\"):\n",
      "“cannot open compressed file '/mnt/mfs/statgen/neuro-twas/TWAS_sumstat/susie_rss_eqtl/geneTpmResidualsAgeGenderAdj_rename.ENSG00000136717.LDoriginal.mvsusierss.rds', probable reason 'No such file or directory'”\n",
      "Warning message in gzfile(file, \"rb\"):\n",
      "“cannot open compressed file '/mnt/mfs/statgen/neuro-twas/TWAS_sumstat/susie_rss_eqtl/geneTpmResidualsAgeGenderAdj_rename.ENSG00000138613.LDoriginal.mvsusierss.rds', probable reason 'No such file or directory'”\n",
      "Warning message in gzfile(file, \"rb\"):\n",
      "“cannot open compressed file '/mnt/mfs/statgen/neuro-twas/TWAS_sumstat/susie_rss_eqtl/geneTpmResidualsAgeGenderAdj_rename.ENSG00000140090.LDoriginal.mvsusierss.rds', probable reason 'No such file or directory'”\n",
      "Warning message in gzfile(file, \"rb\"):\n",
      "“cannot open compressed file '/mnt/mfs/statgen/neuro-twas/TWAS_sumstat/susie_rss_eqtl/geneTpmResidualsAgeGenderAdj_rename.ENSG00000161929.LDoriginal.mvsusierss.rds', probable reason 'No such file or directory'”\n",
      "Warning message in gzfile(file, \"rb\"):\n",
      "“cannot open compressed file '/mnt/mfs/statgen/neuro-twas/TWAS_sumstat/susie_rss_eqtl/geneTpmResidualsAgeGenderAdj_rename.ENSG00000196126.LDoriginal.mvsusierss.rds', probable reason 'No such file or directory'”\n",
      "Warning message in gzfile(file, \"rb\"):\n",
      "“cannot open compressed file '/mnt/mfs/statgen/neuro-twas/TWAS_sumstat/susie_rss_eqtl/geneTpmResidualsAgeGenderAdj_rename.ENSG00000198087.LDoriginal.mvsusierss.rds', probable reason 'No such file or directory'”\n",
      "Warning message in gzfile(file, \"rb\"):\n",
      "“cannot open compressed file '/mnt/mfs/statgen/neuro-twas/TWAS_sumstat/susie_rss_eqtl/geneTpmResidualsAgeGenderAdj_rename.ENSG00000264538.LDoriginal.mvsusierss.rds', probable reason 'No such file or directory'”\n"
     ]
    }
   ],
   "source": [
    "c = c%>%mutate( X6 = map_chr(X2,~paste(c(\"/mnt/mfs/statgen/neuro-twas/TWAS_sumstat/susie_rss_eqtl/\",.x,\".LDoriginal.mvsusierss.rds\"),collapse = \"\")),\n",
    "           X7 = map(X6,~readRDS(.x)%>%tryCatch(error = function(e) return(NA))))"
   ]
  },
  {
   "cell_type": "code",
   "execution_count": 7,
   "id": "005851d7-04d3-49af-878c-2dcbce11d9f6",
   "metadata": {},
   "outputs": [
    {
     "data": {
      "text/html": [
       "<table class=\"dataframe\">\n",
       "<caption>A tibble: 15 x 2</caption>\n",
       "<thead>\n",
       "\t<tr><th scope=col>X6</th><th scope=col>X8</th></tr>\n",
       "\t<tr><th scope=col>&lt;chr&gt;</th><th scope=col>&lt;list&gt;</th></tr>\n",
       "</thead>\n",
       "<tbody>\n",
       "\t<tr><td>/mnt/mfs/statgen/neuro-twas/TWAS_sumstat/susie_rss_eqtl/geneTpmResidualsAgeGenderAdj_rename.ENSG00000002587.LDoriginal.mvsusierss.rds</td><td>NULL</td></tr>\n",
       "\t<tr><td>/mnt/mfs/statgen/neuro-twas/TWAS_sumstat/susie_rss_eqtl/geneTpmResidualsAgeGenderAdj_rename.ENSG00000073921.LDoriginal.mvsusierss.rds</td><td>NULL</td></tr>\n",
       "\t<tr><td>/mnt/mfs/statgen/neuro-twas/TWAS_sumstat/susie_rss_eqtl/geneTpmResidualsAgeGenderAdj_rename.ENSG00000087589.LDoriginal.mvsusierss.rds</td><td>NULL</td></tr>\n",
       "\t<tr><td>/mnt/mfs/statgen/neuro-twas/TWAS_sumstat/susie_rss_eqtl/geneTpmResidualsAgeGenderAdj_rename.ENSG00000105383.LDoriginal.mvsusierss.rds</td><td>NULL</td></tr>\n",
       "\t<tr><td>/mnt/mfs/statgen/neuro-twas/TWAS_sumstat/susie_rss_eqtl/geneTpmResidualsAgeGenderAdj_rename.ENSG00000108798.LDoriginal.mvsusierss.rds</td><td>NULL</td></tr>\n",
       "\t<tr><td>/mnt/mfs/statgen/neuro-twas/TWAS_sumstat/susie_rss_eqtl/geneTpmResidualsAgeGenderAdj_rename.ENSG00000110077.LDoriginal.mvsusierss.rds</td><td>NULL</td></tr>\n",
       "\t<tr><td>/mnt/mfs/statgen/neuro-twas/TWAS_sumstat/susie_rss_eqtl/geneTpmResidualsAgeGenderAdj_rename.ENSG00000120899.LDoriginal.mvsusierss.rds</td><td>NULL</td></tr>\n",
       "\t<tr><td>/mnt/mfs/statgen/neuro-twas/TWAS_sumstat/susie_rss_eqtl/geneTpmResidualsAgeGenderAdj_rename.ENSG00000130203.LDoriginal.mvsusierss.rds</td><td>NULL</td></tr>\n",
       "\t<tr><td>/mnt/mfs/statgen/neuro-twas/TWAS_sumstat/susie_rss_eqtl/geneTpmResidualsAgeGenderAdj_rename.ENSG00000134463.LDoriginal.mvsusierss.rds</td><td>2142, 2211, 2167</td></tr>\n",
       "\t<tr><td>/mnt/mfs/statgen/neuro-twas/TWAS_sumstat/susie_rss_eqtl/geneTpmResidualsAgeGenderAdj_rename.ENSG00000137642.LDoriginal.mvsusierss.rds</td><td>NULL</td></tr>\n",
       "\t<tr><td>/mnt/mfs/statgen/neuro-twas/TWAS_sumstat/susie_rss_eqtl/geneTpmResidualsAgeGenderAdj_rename.ENSG00000137845.LDoriginal.mvsusierss.rds</td><td>NULL</td></tr>\n",
       "\t<tr><td>/mnt/mfs/statgen/neuro-twas/TWAS_sumstat/susie_rss_eqtl/geneTpmResidualsAgeGenderAdj_rename.ENSG00000158859.LDoriginal.mvsusierss.rds</td><td>NULL</td></tr>\n",
       "\t<tr><td>/mnt/mfs/statgen/neuro-twas/TWAS_sumstat/susie_rss_eqtl/geneTpmResidualsAgeGenderAdj_rename.ENSG00000168918.LDoriginal.mvsusierss.rds</td><td>NULL</td></tr>\n",
       "\t<tr><td>/mnt/mfs/statgen/neuro-twas/TWAS_sumstat/susie_rss_eqtl/geneTpmResidualsAgeGenderAdj_rename.ENSG00000203710.LDoriginal.mvsusierss.rds</td><td>1628, 1617, 1614, 1736, 1730, 1634</td></tr>\n",
       "\t<tr><td>/mnt/mfs/statgen/neuro-twas/TWAS_sumstat/susie_rss_eqtl/geneTpmResidualsAgeGenderAdj_rename.ENSG00000265148.LDoriginal.mvsusierss.rds</td><td>NULL</td></tr>\n",
       "</tbody>\n",
       "</table>\n"
      ],
      "text/latex": [
       "A tibble: 15 x 2\n",
       "\\begin{tabular}{ll}\n",
       " X6 & X8\\\\\n",
       " <chr> & <list>\\\\\n",
       "\\hline\n",
       "\t /mnt/mfs/statgen/neuro-twas/TWAS\\_sumstat/susie\\_rss\\_eqtl/geneTpmResidualsAgeGenderAdj\\_rename.ENSG00000002587.LDoriginal.mvsusierss.rds & NULL\\\\\n",
       "\t /mnt/mfs/statgen/neuro-twas/TWAS\\_sumstat/susie\\_rss\\_eqtl/geneTpmResidualsAgeGenderAdj\\_rename.ENSG00000073921.LDoriginal.mvsusierss.rds & NULL\\\\\n",
       "\t /mnt/mfs/statgen/neuro-twas/TWAS\\_sumstat/susie\\_rss\\_eqtl/geneTpmResidualsAgeGenderAdj\\_rename.ENSG00000087589.LDoriginal.mvsusierss.rds & NULL\\\\\n",
       "\t /mnt/mfs/statgen/neuro-twas/TWAS\\_sumstat/susie\\_rss\\_eqtl/geneTpmResidualsAgeGenderAdj\\_rename.ENSG00000105383.LDoriginal.mvsusierss.rds & NULL\\\\\n",
       "\t /mnt/mfs/statgen/neuro-twas/TWAS\\_sumstat/susie\\_rss\\_eqtl/geneTpmResidualsAgeGenderAdj\\_rename.ENSG00000108798.LDoriginal.mvsusierss.rds & NULL\\\\\n",
       "\t /mnt/mfs/statgen/neuro-twas/TWAS\\_sumstat/susie\\_rss\\_eqtl/geneTpmResidualsAgeGenderAdj\\_rename.ENSG00000110077.LDoriginal.mvsusierss.rds & NULL\\\\\n",
       "\t /mnt/mfs/statgen/neuro-twas/TWAS\\_sumstat/susie\\_rss\\_eqtl/geneTpmResidualsAgeGenderAdj\\_rename.ENSG00000120899.LDoriginal.mvsusierss.rds & NULL\\\\\n",
       "\t /mnt/mfs/statgen/neuro-twas/TWAS\\_sumstat/susie\\_rss\\_eqtl/geneTpmResidualsAgeGenderAdj\\_rename.ENSG00000130203.LDoriginal.mvsusierss.rds & NULL\\\\\n",
       "\t /mnt/mfs/statgen/neuro-twas/TWAS\\_sumstat/susie\\_rss\\_eqtl/geneTpmResidualsAgeGenderAdj\\_rename.ENSG00000134463.LDoriginal.mvsusierss.rds & 2142, 2211, 2167\\\\\n",
       "\t /mnt/mfs/statgen/neuro-twas/TWAS\\_sumstat/susie\\_rss\\_eqtl/geneTpmResidualsAgeGenderAdj\\_rename.ENSG00000137642.LDoriginal.mvsusierss.rds & NULL\\\\\n",
       "\t /mnt/mfs/statgen/neuro-twas/TWAS\\_sumstat/susie\\_rss\\_eqtl/geneTpmResidualsAgeGenderAdj\\_rename.ENSG00000137845.LDoriginal.mvsusierss.rds & NULL\\\\\n",
       "\t /mnt/mfs/statgen/neuro-twas/TWAS\\_sumstat/susie\\_rss\\_eqtl/geneTpmResidualsAgeGenderAdj\\_rename.ENSG00000158859.LDoriginal.mvsusierss.rds & NULL\\\\\n",
       "\t /mnt/mfs/statgen/neuro-twas/TWAS\\_sumstat/susie\\_rss\\_eqtl/geneTpmResidualsAgeGenderAdj\\_rename.ENSG00000168918.LDoriginal.mvsusierss.rds & NULL\\\\\n",
       "\t /mnt/mfs/statgen/neuro-twas/TWAS\\_sumstat/susie\\_rss\\_eqtl/geneTpmResidualsAgeGenderAdj\\_rename.ENSG00000203710.LDoriginal.mvsusierss.rds & 1628, 1617, 1614, 1736, 1730, 1634\\\\\n",
       "\t /mnt/mfs/statgen/neuro-twas/TWAS\\_sumstat/susie\\_rss\\_eqtl/geneTpmResidualsAgeGenderAdj\\_rename.ENSG00000265148.LDoriginal.mvsusierss.rds & NULL\\\\\n",
       "\\end{tabular}\n"
      ],
      "text/markdown": [
       "\n",
       "A tibble: 15 x 2\n",
       "\n",
       "| X6 &lt;chr&gt; | X8 &lt;list&gt; |\n",
       "|---|---|\n",
       "| /mnt/mfs/statgen/neuro-twas/TWAS_sumstat/susie_rss_eqtl/geneTpmResidualsAgeGenderAdj_rename.ENSG00000002587.LDoriginal.mvsusierss.rds | NULL |\n",
       "| /mnt/mfs/statgen/neuro-twas/TWAS_sumstat/susie_rss_eqtl/geneTpmResidualsAgeGenderAdj_rename.ENSG00000073921.LDoriginal.mvsusierss.rds | NULL |\n",
       "| /mnt/mfs/statgen/neuro-twas/TWAS_sumstat/susie_rss_eqtl/geneTpmResidualsAgeGenderAdj_rename.ENSG00000087589.LDoriginal.mvsusierss.rds | NULL |\n",
       "| /mnt/mfs/statgen/neuro-twas/TWAS_sumstat/susie_rss_eqtl/geneTpmResidualsAgeGenderAdj_rename.ENSG00000105383.LDoriginal.mvsusierss.rds | NULL |\n",
       "| /mnt/mfs/statgen/neuro-twas/TWAS_sumstat/susie_rss_eqtl/geneTpmResidualsAgeGenderAdj_rename.ENSG00000108798.LDoriginal.mvsusierss.rds | NULL |\n",
       "| /mnt/mfs/statgen/neuro-twas/TWAS_sumstat/susie_rss_eqtl/geneTpmResidualsAgeGenderAdj_rename.ENSG00000110077.LDoriginal.mvsusierss.rds | NULL |\n",
       "| /mnt/mfs/statgen/neuro-twas/TWAS_sumstat/susie_rss_eqtl/geneTpmResidualsAgeGenderAdj_rename.ENSG00000120899.LDoriginal.mvsusierss.rds | NULL |\n",
       "| /mnt/mfs/statgen/neuro-twas/TWAS_sumstat/susie_rss_eqtl/geneTpmResidualsAgeGenderAdj_rename.ENSG00000130203.LDoriginal.mvsusierss.rds | NULL |\n",
       "| /mnt/mfs/statgen/neuro-twas/TWAS_sumstat/susie_rss_eqtl/geneTpmResidualsAgeGenderAdj_rename.ENSG00000134463.LDoriginal.mvsusierss.rds | 2142, 2211, 2167 |\n",
       "| /mnt/mfs/statgen/neuro-twas/TWAS_sumstat/susie_rss_eqtl/geneTpmResidualsAgeGenderAdj_rename.ENSG00000137642.LDoriginal.mvsusierss.rds | NULL |\n",
       "| /mnt/mfs/statgen/neuro-twas/TWAS_sumstat/susie_rss_eqtl/geneTpmResidualsAgeGenderAdj_rename.ENSG00000137845.LDoriginal.mvsusierss.rds | NULL |\n",
       "| /mnt/mfs/statgen/neuro-twas/TWAS_sumstat/susie_rss_eqtl/geneTpmResidualsAgeGenderAdj_rename.ENSG00000158859.LDoriginal.mvsusierss.rds | NULL |\n",
       "| /mnt/mfs/statgen/neuro-twas/TWAS_sumstat/susie_rss_eqtl/geneTpmResidualsAgeGenderAdj_rename.ENSG00000168918.LDoriginal.mvsusierss.rds | NULL |\n",
       "| /mnt/mfs/statgen/neuro-twas/TWAS_sumstat/susie_rss_eqtl/geneTpmResidualsAgeGenderAdj_rename.ENSG00000203710.LDoriginal.mvsusierss.rds | 1628, 1617, 1614, 1736, 1730, 1634 |\n",
       "| /mnt/mfs/statgen/neuro-twas/TWAS_sumstat/susie_rss_eqtl/geneTpmResidualsAgeGenderAdj_rename.ENSG00000265148.LDoriginal.mvsusierss.rds | NULL |\n",
       "\n"
      ],
      "text/plain": [
       "   X6                                                                                                                                   \n",
       "1  /mnt/mfs/statgen/neuro-twas/TWAS_sumstat/susie_rss_eqtl/geneTpmResidualsAgeGenderAdj_rename.ENSG00000002587.LDoriginal.mvsusierss.rds\n",
       "2  /mnt/mfs/statgen/neuro-twas/TWAS_sumstat/susie_rss_eqtl/geneTpmResidualsAgeGenderAdj_rename.ENSG00000073921.LDoriginal.mvsusierss.rds\n",
       "3  /mnt/mfs/statgen/neuro-twas/TWAS_sumstat/susie_rss_eqtl/geneTpmResidualsAgeGenderAdj_rename.ENSG00000087589.LDoriginal.mvsusierss.rds\n",
       "4  /mnt/mfs/statgen/neuro-twas/TWAS_sumstat/susie_rss_eqtl/geneTpmResidualsAgeGenderAdj_rename.ENSG00000105383.LDoriginal.mvsusierss.rds\n",
       "5  /mnt/mfs/statgen/neuro-twas/TWAS_sumstat/susie_rss_eqtl/geneTpmResidualsAgeGenderAdj_rename.ENSG00000108798.LDoriginal.mvsusierss.rds\n",
       "6  /mnt/mfs/statgen/neuro-twas/TWAS_sumstat/susie_rss_eqtl/geneTpmResidualsAgeGenderAdj_rename.ENSG00000110077.LDoriginal.mvsusierss.rds\n",
       "7  /mnt/mfs/statgen/neuro-twas/TWAS_sumstat/susie_rss_eqtl/geneTpmResidualsAgeGenderAdj_rename.ENSG00000120899.LDoriginal.mvsusierss.rds\n",
       "8  /mnt/mfs/statgen/neuro-twas/TWAS_sumstat/susie_rss_eqtl/geneTpmResidualsAgeGenderAdj_rename.ENSG00000130203.LDoriginal.mvsusierss.rds\n",
       "9  /mnt/mfs/statgen/neuro-twas/TWAS_sumstat/susie_rss_eqtl/geneTpmResidualsAgeGenderAdj_rename.ENSG00000134463.LDoriginal.mvsusierss.rds\n",
       "10 /mnt/mfs/statgen/neuro-twas/TWAS_sumstat/susie_rss_eqtl/geneTpmResidualsAgeGenderAdj_rename.ENSG00000137642.LDoriginal.mvsusierss.rds\n",
       "11 /mnt/mfs/statgen/neuro-twas/TWAS_sumstat/susie_rss_eqtl/geneTpmResidualsAgeGenderAdj_rename.ENSG00000137845.LDoriginal.mvsusierss.rds\n",
       "12 /mnt/mfs/statgen/neuro-twas/TWAS_sumstat/susie_rss_eqtl/geneTpmResidualsAgeGenderAdj_rename.ENSG00000158859.LDoriginal.mvsusierss.rds\n",
       "13 /mnt/mfs/statgen/neuro-twas/TWAS_sumstat/susie_rss_eqtl/geneTpmResidualsAgeGenderAdj_rename.ENSG00000168918.LDoriginal.mvsusierss.rds\n",
       "14 /mnt/mfs/statgen/neuro-twas/TWAS_sumstat/susie_rss_eqtl/geneTpmResidualsAgeGenderAdj_rename.ENSG00000203710.LDoriginal.mvsusierss.rds\n",
       "15 /mnt/mfs/statgen/neuro-twas/TWAS_sumstat/susie_rss_eqtl/geneTpmResidualsAgeGenderAdj_rename.ENSG00000265148.LDoriginal.mvsusierss.rds\n",
       "   X8                                \n",
       "1  NULL                              \n",
       "2  NULL                              \n",
       "3  NULL                              \n",
       "4  NULL                              \n",
       "5  NULL                              \n",
       "6  NULL                              \n",
       "7  NULL                              \n",
       "8  NULL                              \n",
       "9  2142, 2211, 2167                  \n",
       "10 NULL                              \n",
       "11 NULL                              \n",
       "12 NULL                              \n",
       "13 NULL                              \n",
       "14 1628, 1617, 1614, 1736, 1730, 1634\n",
       "15 NULL                              "
      ]
     },
     "metadata": {},
     "output_type": "display_data"
    }
   ],
   "source": [
    "c%>%filter(!is.na(X7))%>%mutate(X8 = map(X7,~.x$sets$cs))%>%select(X6,X8)"
   ]
  },
  {
   "cell_type": "code",
   "execution_count": 8,
   "id": "027d0712-480f-4e9b-bcf6-35ef06d80bea",
   "metadata": {},
   "outputs": [],
   "source": [
    "d = attach(\"/mnt/mfs/statgen/neuro-twas/mv_wg/result_arch/geneTpmResidualsAgeGenderAdj_rename.ENSG00000134463.mv_susie.model.RData\")"
   ]
  },
  {
   "cell_type": "code",
   "execution_count": 9,
   "id": "e37d8dde-2e9e-43b3-9a85-fabb893f0e2b",
   "metadata": {},
   "outputs": [
    {
     "data": {
      "text/html": [
       "<dl>\n",
       "\t<dt>$L2</dt>\n",
       "\t\t<dd>1976</dd>\n",
       "\t<dt>$L3</dt>\n",
       "\t\t<dd><style>\n",
       ".list-inline {list-style: none; margin:0; padding: 0}\n",
       ".list-inline>li {display: inline-block}\n",
       ".list-inline>li:not(:last-child)::after {content: \"\\00b7\"; padding: 0 .5ex}\n",
       "</style>\n",
       "<ol class=list-inline><li>1995</li><li>2012</li><li>2045</li><li>2048</li></ol>\n",
       "</dd>\n",
       "\t<dt>$L1</dt>\n",
       "\t\t<dd><style>\n",
       ".list-inline {list-style: none; margin:0; padding: 0}\n",
       ".list-inline>li {display: inline-block}\n",
       ".list-inline>li:not(:last-child)::after {content: \"\\00b7\"; padding: 0 .5ex}\n",
       "</style>\n",
       "<ol class=list-inline><li>2092</li><li>2213</li><li>2214</li></ol>\n",
       "</dd>\n",
       "</dl>\n"
      ],
      "text/latex": [
       "\\begin{description}\n",
       "\\item[\\$L2] 1976\n",
       "\\item[\\$L3] \\begin{enumerate*}\n",
       "\\item 1995\n",
       "\\item 2012\n",
       "\\item 2045\n",
       "\\item 2048\n",
       "\\end{enumerate*}\n",
       "\n",
       "\\item[\\$L1] \\begin{enumerate*}\n",
       "\\item 2092\n",
       "\\item 2213\n",
       "\\item 2214\n",
       "\\end{enumerate*}\n",
       "\n",
       "\\end{description}\n"
      ],
      "text/markdown": [
       "$L2\n",
       ":   1976\n",
       "$L3\n",
       ":   1. 1995\n",
       "2. 2012\n",
       "3. 2045\n",
       "4. 2048\n",
       "\n",
       "\n",
       "\n",
       "$L1\n",
       ":   1. 2092\n",
       "2. 2213\n",
       "3. 2214\n",
       "\n",
       "\n",
       "\n",
       "\n",
       "\n"
      ],
      "text/plain": [
       "$L2\n",
       "[1] 1976\n",
       "\n",
       "$L3\n",
       "[1] 1995 2012 2045 2048\n",
       "\n",
       "$L1\n",
       "[1] 2092 2213 2214\n"
      ]
     },
     "metadata": {},
     "output_type": "display_data"
    }
   ],
   "source": [
    "d$m_ENSG00000134463$sets$cs"
   ]
  },
  {
   "cell_type": "code",
   "execution_count": 52,
   "id": "1d1fd301-b44a-4e35-a501-9a545e56cbaa",
   "metadata": {},
   "outputs": [
    {
     "name": "stderr",
     "output_type": "stream",
     "text": [
      "The following object is masked from file:/mnt/mfs/statgen/neuro-twas/mv_wg/result/geneTpmResidualsAgeGenderAdj_rename.ENSG00000203710.mv_susie.model.RData (pos = 3):\n",
      "\n",
      "    m_ENSG00000203710\n",
      "\n",
      "\n",
      "The following object is masked from file:/mnt/mfs/statgen/neuro-twas/mv_wg/result_arch/geneTpmResidualsAgeGenderAdj_rename.ENSG00000203710.mv_susie.model.RData (pos = 4):\n",
      "\n",
      "    m_ENSG00000203710\n",
      "\n",
      "\n",
      "The following object is masked from file:/mnt/mfs/statgen/neuro-twas/mv_wg/result/geneTpmResidualsAgeGenderAdj_rename.ENSG00000203710.mv_susie.model.RData (pos = 5):\n",
      "\n",
      "    m_ENSG00000203710\n",
      "\n",
      "\n",
      "The following object is masked from file:/mnt/mfs/statgen/neuro-twas/whole_genome_0504/result/geneTpmResidualsAgeGenderAdj_rename.ENSG00000203710.mv_susie.model.RData:\n",
      "\n",
      "    m_ENSG00000203710\n",
      "\n",
      "\n",
      "The following object is masked from file:/mnt/mfs/statgen/neuro-twas/mv_wg/result_arch/geneTpmResidualsAgeGenderAdj_rename.ENSG00000203710.mv_susie.model.RData (pos = 7):\n",
      "\n",
      "    m_ENSG00000203710\n",
      "\n",
      "\n"
     ]
    }
   ],
   "source": [
    "e = attach(\"/mnt/mfs/statgen/neuro-twas/mv_wg/result_arch/geneTpmResidualsAgeGenderAdj_rename.ENSG00000203710.mv_susie.model.RData\")"
   ]
  },
  {
   "cell_type": "code",
   "execution_count": 53,
   "id": "f57aa6c6-8cf2-473d-8cca-816f65ce78e1",
   "metadata": {},
   "outputs": [],
   "source": [
    "snp1 = see$variable_names[e$m_ENSG00000203710$sets$cs%>%unlist]"
   ]
  },
  {
   "cell_type": "code",
   "execution_count": 23,
   "id": "f7cdaed6-8c9e-4aff-906e-6b2d77f3fa72",
   "metadata": {},
   "outputs": [
    {
     "data": {
      "text/html": [
       "<style>\n",
       ".list-inline {list-style: none; margin:0; padding: 0}\n",
       ".list-inline>li {display: inline-block}\n",
       ".list-inline>li:not(:last-child)::after {content: \"\\00b7\"; padding: 0 .5ex}\n",
       "</style>\n",
       "<ol class=list-inline><li>'X1'</li><li>'X2'</li><li>'X3'</li><li>'X4'</li><li>'X6'</li><li>'X7'</li></ol>\n"
      ],
      "text/latex": [
       "\\begin{enumerate*}\n",
       "\\item 'X1'\n",
       "\\item 'X2'\n",
       "\\item 'X3'\n",
       "\\item 'X4'\n",
       "\\item 'X6'\n",
       "\\item 'X7'\n",
       "\\end{enumerate*}\n"
      ],
      "text/markdown": [
       "1. 'X1'\n",
       "2. 'X2'\n",
       "3. 'X3'\n",
       "4. 'X4'\n",
       "5. 'X6'\n",
       "6. 'X7'\n",
       "\n",
       "\n"
      ],
      "text/plain": [
       "[1] \"X1\" \"X2\" \"X3\" \"X4\" \"X6\" \"X7\""
      ]
     },
     "metadata": {},
     "output_type": "display_data"
    }
   ],
   "source": [
    "colnames(c)"
   ]
  },
  {
   "cell_type": "code",
   "execution_count": 54,
   "id": "82fc5ed1-b46e-4dc4-97c8-a49d1b871415",
   "metadata": {},
   "outputs": [],
   "source": [
    "see = (c%>%filter(!is.na(X7))%>%pull(X7))[[14]]"
   ]
  },
  {
   "cell_type": "code",
   "execution_count": 55,
   "id": "27a20836-a068-42db-b23d-1f8277f15618",
   "metadata": {},
   "outputs": [],
   "source": [
    "snp2 = see$variable_names[see$sets$cs%>%unlist]"
   ]
  },
  {
   "cell_type": "code",
   "execution_count": 56,
   "id": "647ed7e6-860d-4d5d-8e0d-88f27bca0b97",
   "metadata": {},
   "outputs": [
    {
     "data": {
      "text/html": [
       "<style>\n",
       ".list-inline {list-style: none; margin:0; padding: 0}\n",
       ".list-inline>li {display: inline-block}\n",
       ".list-inline>li:not(:last-child)::after {content: \"\\00b7\"; padding: 0 .5ex}\n",
       "</style>\n",
       "<ol class=list-inline><li>'1:207679455_C_CCT'</li><li>'1:207683624_A_G'</li><li>'1:207688436_G_GTA'</li><li>'1:207698044_C_T'</li><li>'1:207738021_C_T'</li><li>'1:207746785_A_C'</li><li>'1:207780048_A_T'</li><li>'1:207782769_A_G'</li><li>'1:207782931_A_G'</li><li>'1:207784968_A_G'</li></ol>\n"
      ],
      "text/latex": [
       "\\begin{enumerate*}\n",
       "\\item '1:207679455\\_C\\_CCT'\n",
       "\\item '1:207683624\\_A\\_G'\n",
       "\\item '1:207688436\\_G\\_GTA'\n",
       "\\item '1:207698044\\_C\\_T'\n",
       "\\item '1:207738021\\_C\\_T'\n",
       "\\item '1:207746785\\_A\\_C'\n",
       "\\item '1:207780048\\_A\\_T'\n",
       "\\item '1:207782769\\_A\\_G'\n",
       "\\item '1:207782931\\_A\\_G'\n",
       "\\item '1:207784968\\_A\\_G'\n",
       "\\end{enumerate*}\n"
      ],
      "text/markdown": [
       "1. '1:207679455_C_CCT'\n",
       "2. '1:207683624_A_G'\n",
       "3. '1:207688436_G_GTA'\n",
       "4. '1:207698044_C_T'\n",
       "5. '1:207738021_C_T'\n",
       "6. '1:207746785_A_C'\n",
       "7. '1:207780048_A_T'\n",
       "8. '1:207782769_A_G'\n",
       "9. '1:207782931_A_G'\n",
       "10. '1:207784968_A_G'\n",
       "\n",
       "\n"
      ],
      "text/plain": [
       " [1] \"1:207679455_C_CCT\" \"1:207683624_A_G\"   \"1:207688436_G_GTA\"\n",
       " [4] \"1:207698044_C_T\"   \"1:207738021_C_T\"   \"1:207746785_A_C\"  \n",
       " [7] \"1:207780048_A_T\"   \"1:207782769_A_G\"   \"1:207782931_A_G\"  \n",
       "[10] \"1:207784968_A_G\"  "
      ]
     },
     "metadata": {},
     "output_type": "display_data"
    },
    {
     "data": {
      "text/html": [
       "<style>\n",
       ".list-inline {list-style: none; margin:0; padding: 0}\n",
       ".list-inline>li {display: inline-block}\n",
       ".list-inline>li:not(:last-child)::after {content: \"\\00b7\"; padding: 0 .5ex}\n",
       "</style>\n",
       "<ol class=list-inline><li>'1:207693163_G_GC'</li><li>'1:207688436_G_GTA'</li><li>'1:207687374_A_T'</li><li>'1:207783507_C_T'</li><li>'1:207782154_C_T'</li><li>'1:207694357_C_T'</li></ol>\n"
      ],
      "text/latex": [
       "\\begin{enumerate*}\n",
       "\\item '1:207693163\\_G\\_GC'\n",
       "\\item '1:207688436\\_G\\_GTA'\n",
       "\\item '1:207687374\\_A\\_T'\n",
       "\\item '1:207783507\\_C\\_T'\n",
       "\\item '1:207782154\\_C\\_T'\n",
       "\\item '1:207694357\\_C\\_T'\n",
       "\\end{enumerate*}\n"
      ],
      "text/markdown": [
       "1. '1:207693163_G_GC'\n",
       "2. '1:207688436_G_GTA'\n",
       "3. '1:207687374_A_T'\n",
       "4. '1:207783507_C_T'\n",
       "5. '1:207782154_C_T'\n",
       "6. '1:207694357_C_T'\n",
       "\n",
       "\n"
      ],
      "text/plain": [
       "[1] \"1:207693163_G_GC\"  \"1:207688436_G_GTA\" \"1:207687374_A_T\"  \n",
       "[4] \"1:207783507_C_T\"   \"1:207782154_C_T\"   \"1:207694357_C_T\"  "
      ]
     },
     "metadata": {},
     "output_type": "display_data"
    }
   ],
   "source": [
    "complete_analysis_snps\n",
    "new_snps"
   ]
  },
  {
   "cell_type": "code",
   "execution_count": 57,
   "id": "ed97c3ef-bbf3-4271-a48c-39dee2d8b864",
   "metadata": {},
   "outputs": [
    {
     "data": {
      "text/html": [
       "<strong>$L1</strong> = <style>\n",
       ".list-inline {list-style: none; margin:0; padding: 0}\n",
       ".list-inline>li {display: inline-block}\n",
       ".list-inline>li:not(:last-child)::after {content: \"\\00b7\"; padding: 0 .5ex}\n",
       "</style>\n",
       "<ol class=list-inline><li>1596</li><li>1602</li><li>1617</li><li>1642</li><li>1649</li><li>1657</li><li>1728</li><li>1733</li><li>1735</li><li>1737</li></ol>\n"
      ],
      "text/latex": [
       "\\textbf{\\$L1} = \\begin{enumerate*}\n",
       "\\item 1596\n",
       "\\item 1602\n",
       "\\item 1617\n",
       "\\item 1642\n",
       "\\item 1649\n",
       "\\item 1657\n",
       "\\item 1728\n",
       "\\item 1733\n",
       "\\item 1735\n",
       "\\item 1737\n",
       "\\end{enumerate*}\n"
      ],
      "text/markdown": [
       "**$L1** = 1. 1596\n",
       "2. 1602\n",
       "3. 1617\n",
       "4. 1642\n",
       "5. 1649\n",
       "6. 1657\n",
       "7. 1728\n",
       "8. 1733\n",
       "9. 1735\n",
       "10. 1737\n",
       "\n",
       "\n"
      ],
      "text/plain": [
       "$L1\n",
       " [1] 1596 1602 1617 1642 1649 1657 1728 1733 1735 1737\n"
      ]
     },
     "metadata": {},
     "output_type": "display_data"
    },
    {
     "data": {
      "text/html": [
       "<dl>\n",
       "\t<dt>$L1</dt>\n",
       "\t\t<dd>1628</dd>\n",
       "\t<dt>$L2</dt>\n",
       "\t\t<dd>1617</dd>\n",
       "\t<dt>$L3</dt>\n",
       "\t\t<dd>1614</dd>\n",
       "\t<dt>$L4</dt>\n",
       "\t\t<dd>1736</dd>\n",
       "\t<dt>$L5</dt>\n",
       "\t\t<dd>1730</dd>\n",
       "\t<dt>$L10</dt>\n",
       "\t\t<dd>1634</dd>\n",
       "</dl>\n"
      ],
      "text/latex": [
       "\\begin{description}\n",
       "\\item[\\$L1] 1628\n",
       "\\item[\\$L2] 1617\n",
       "\\item[\\$L3] 1614\n",
       "\\item[\\$L4] 1736\n",
       "\\item[\\$L5] 1730\n",
       "\\item[\\$L10] 1634\n",
       "\\end{description}\n"
      ],
      "text/markdown": [
       "$L1\n",
       ":   1628\n",
       "$L2\n",
       ":   1617\n",
       "$L3\n",
       ":   1614\n",
       "$L4\n",
       ":   1736\n",
       "$L5\n",
       ":   1730\n",
       "$L10\n",
       ":   1634\n",
       "\n",
       "\n"
      ],
      "text/plain": [
       "$L1\n",
       "[1] 1628\n",
       "\n",
       "$L2\n",
       "[1] 1617\n",
       "\n",
       "$L3\n",
       "[1] 1614\n",
       "\n",
       "$L4\n",
       "[1] 1736\n",
       "\n",
       "$L5\n",
       "[1] 1730\n",
       "\n",
       "$L10\n",
       "[1] 1634\n"
      ]
     },
     "metadata": {},
     "output_type": "display_data"
    }
   ],
   "source": [
    "e$m_ENSG00000203710$sets$cs\n",
    "see$sets$cs"
   ]
  },
  {
   "cell_type": "code",
   "execution_count": 9,
   "id": "6e15bb5a-5d9c-477d-92ca-4f4a9310a4a7",
   "metadata": {},
   "outputs": [],
   "source": [
    "c = c%>%mutate( X9 = map_chr(X2,~paste(c(\"/mnt/mfs/statgen/neuro-twas/mv_wg/result_arch/\",.x,\".mv_susie.model.RData\"),collapse = \"\")),\n",
    "           X10 = map(X9,~attach(.x)%>%tryCatch(error = function(e) return(NA))))"
   ]
  },
  {
   "cell_type": "code",
   "execution_count": 152,
   "id": "f41cf6d3-99c2-4818-a416-37be61e50c75",
   "metadata": {},
   "outputs": [
    {
     "data": {
      "text/html": [
       "<style>\n",
       ".list-inline {list-style: none; margin:0; padding: 0}\n",
       ".list-inline>li {display: inline-block}\n",
       ".list-inline>li:not(:last-child)::after {content: \"\\00b7\"; padding: 0 .5ex}\n",
       "</style>\n",
       "<ol class=list-inline><li>'X1'</li><li>'X2'</li><li>'X3'</li><li>'gene_id'</li><li>'X9'</li><li>'X10'</li><li>'X4'</li></ol>\n"
      ],
      "text/latex": [
       "\\begin{enumerate*}\n",
       "\\item 'X1'\n",
       "\\item 'X2'\n",
       "\\item 'X3'\n",
       "\\item 'gene\\_id'\n",
       "\\item 'X9'\n",
       "\\item 'X10'\n",
       "\\item 'X4'\n",
       "\\end{enumerate*}\n"
      ],
      "text/markdown": [
       "1. 'X1'\n",
       "2. 'X2'\n",
       "3. 'X3'\n",
       "4. 'gene_id'\n",
       "5. 'X9'\n",
       "6. 'X10'\n",
       "7. 'X4'\n",
       "\n",
       "\n"
      ],
      "text/plain": [
       "[1] \"X1\"      \"X2\"      \"X3\"      \"gene_id\" \"X9\"      \"X10\"     \"X4\"     "
      ]
     },
     "metadata": {},
     "output_type": "display_data"
    }
   ],
   "source": [
    "colnames(c)"
   ]
  },
  {
   "cell_type": "code",
   "execution_count": 3,
   "id": "afc71f6c-d498-427f-b89f-4ab2a55a368e",
   "metadata": {},
   "outputs": [
    {
     "ename": "ERROR",
     "evalue": "Error in eval(expr, envir, enclos): object 'RDatalist' not found\n",
     "output_type": "error",
     "traceback": [
      "Error in eval(expr, envir, enclos): object 'RDatalist' not found\nTraceback:\n"
     ]
    }
   ],
   "source": [
    "a = RDatalist[[3]]$m_ENSG00000073921$sigma2\n"
   ]
  },
  {
   "cell_type": "code",
   "execution_count": 1,
   "id": "993cc669-0ae1-4d69-906a-0ac9d15ef5a8",
   "metadata": {},
   "outputs": [],
   "source": [
    "a = readRDS(\"~/Project/Genome_prior/mixture_prior/output//RDS/geneTpmResidualsAgeGenderAdj_rename.ENSG00000000419.uni_weight.rds\")"
   ]
  },
  {
   "cell_type": "code",
   "execution_count": 2,
   "id": "692aa8df-da0a-45bc-86cb-e3d63dec9b77",
   "metadata": {},
   "outputs": [
    {
     "data": {
      "text/html": [
       "<table class=\"dataframe\">\n",
       "<caption>A matrix: 3641 x 3 of type dbl</caption>\n",
       "<thead>\n",
       "\t<tr><th scope=col>AC</th><th scope=col>PCC</th><th scope=col>DLPFC</th></tr>\n",
       "</thead>\n",
       "<tbody>\n",
       "\t<tr><td>-0.034531769</td><td> 0.019471895</td><td> 0.0199349211</td></tr>\n",
       "\t<tr><td> 0.075625686</td><td> 0.028073202</td><td> 0.0233564193</td></tr>\n",
       "\t<tr><td>-0.008502357</td><td> 0.008340666</td><td> 0.0476266354</td></tr>\n",
       "\t<tr><td>-0.019659278</td><td> 0.026838223</td><td>-0.0358340977</td></tr>\n",
       "\t<tr><td>-0.020405020</td><td> 0.026838223</td><td>-0.0350072063</td></tr>\n",
       "\t<tr><td>-0.023790114</td><td>-0.027201395</td><td> 0.0306276310</td></tr>\n",
       "\t<tr><td>-0.008502357</td><td> 0.008340666</td><td> 0.0476882310</td></tr>\n",
       "\t<tr><td> 0.002928466</td><td> 0.018412730</td><td> 0.0125396231</td></tr>\n",
       "\t<tr><td>-0.009603805</td><td>-0.002043391</td><td> 0.0454541073</td></tr>\n",
       "\t<tr><td> 0.012573294</td><td>          NA</td><td> 0.0002309774</td></tr>\n",
       "\t<tr><td> 0.034614843</td><td>-0.061087739</td><td>-0.0104418898</td></tr>\n",
       "\t<tr><td> 0.004906444</td><td>-0.008340829</td><td> 0.0202644220</td></tr>\n",
       "\t<tr><td>-0.032381456</td><td>-0.016257408</td><td> 0.0142758301</td></tr>\n",
       "\t<tr><td>-0.019659278</td><td> 0.026838223</td><td>-0.0358340977</td></tr>\n",
       "\t<tr><td> 0.025973348</td><td> 0.042311387</td><td>-0.0466958525</td></tr>\n",
       "\t<tr><td> 0.006274432</td><td> 0.018412730</td><td> 0.0087981685</td></tr>\n",
       "\t<tr><td> 0.004906444</td><td>-0.007621527</td><td> 0.0212745267</td></tr>\n",
       "\t<tr><td> 0.034614843</td><td>-0.061087739</td><td>-0.0104418898</td></tr>\n",
       "\t<tr><td> 0.002928466</td><td> 0.018412730</td><td> 0.0125396231</td></tr>\n",
       "\t<tr><td> 0.001980788</td><td> 0.021817019</td><td> 0.0100697666</td></tr>\n",
       "\t<tr><td>-0.013998791</td><td>-0.050662913</td><td> 0.0509888796</td></tr>\n",
       "\t<tr><td> 0.002928466</td><td> 0.018412730</td><td> 0.0125396231</td></tr>\n",
       "\t<tr><td>-0.021040129</td><td>-0.042574414</td><td> 0.0429367330</td></tr>\n",
       "\t<tr><td> 0.078784037</td><td> 0.017889388</td><td> 0.0170415974</td></tr>\n",
       "\t<tr><td>-0.005566623</td><td> 0.017470242</td><td> 0.0148223968</td></tr>\n",
       "\t<tr><td>-0.013030855</td><td> 0.006133039</td><td> 0.0447326707</td></tr>\n",
       "\t<tr><td> 0.036159606</td><td>-0.055567368</td><td>-0.0099111914</td></tr>\n",
       "\t<tr><td>-0.024224884</td><td> 0.012529102</td><td> 0.0308787405</td></tr>\n",
       "\t<tr><td>-0.024224884</td><td> 0.012529102</td><td> 0.0308787405</td></tr>\n",
       "\t<tr><td>-0.021040129</td><td>-0.042574414</td><td> 0.0429367330</td></tr>\n",
       "\t<tr><td>...</td><td>...</td><td>...</td></tr>\n",
       "\t<tr><td>NA</td><td> 0.058467143</td><td> 0.003425386</td></tr>\n",
       "\t<tr><td>NA</td><td> 0.079081544</td><td>-0.034353761</td></tr>\n",
       "\t<tr><td>NA</td><td>-0.013838670</td><td> 0.002088033</td></tr>\n",
       "\t<tr><td>NA</td><td> 0.072411699</td><td> 0.002277693</td></tr>\n",
       "\t<tr><td>NA</td><td> 0.062843444</td><td>-0.038171523</td></tr>\n",
       "\t<tr><td>NA</td><td> 0.079081544</td><td>-0.034353761</td></tr>\n",
       "\t<tr><td>NA</td><td> 0.058467143</td><td> 0.008494204</td></tr>\n",
       "\t<tr><td>NA</td><td>-0.013838670</td><td> 0.002088033</td></tr>\n",
       "\t<tr><td>NA</td><td> 0.001856357</td><td>          NA</td></tr>\n",
       "\t<tr><td>NA</td><td> 0.006455310</td><td>          NA</td></tr>\n",
       "\t<tr><td>NA</td><td> 0.006455310</td><td>          NA</td></tr>\n",
       "\t<tr><td>NA</td><td> 0.006455310</td><td>          NA</td></tr>\n",
       "\t<tr><td>NA</td><td> 0.006455310</td><td>          NA</td></tr>\n",
       "\t<tr><td>NA</td><td> 0.006455310</td><td>          NA</td></tr>\n",
       "\t<tr><td>NA</td><td> 0.006455310</td><td>          NA</td></tr>\n",
       "\t<tr><td>NA</td><td> 0.006455310</td><td>          NA</td></tr>\n",
       "\t<tr><td>NA</td><td> 0.011251779</td><td>-0.006346160</td></tr>\n",
       "\t<tr><td>NA</td><td>-0.036447492</td><td>-0.064042229</td></tr>\n",
       "\t<tr><td>NA</td><td>          NA</td><td> 0.058789255</td></tr>\n",
       "\t<tr><td>NA</td><td>          NA</td><td>-0.009704038</td></tr>\n",
       "\t<tr><td>NA</td><td>          NA</td><td>-0.015563296</td></tr>\n",
       "\t<tr><td>NA</td><td>          NA</td><td> 0.014432939</td></tr>\n",
       "\t<tr><td>NA</td><td>          NA</td><td>-0.002892399</td></tr>\n",
       "\t<tr><td>NA</td><td>          NA</td><td>-0.045931113</td></tr>\n",
       "\t<tr><td>NA</td><td>          NA</td><td> 0.025363139</td></tr>\n",
       "\t<tr><td>NA</td><td>          NA</td><td>-0.036847998</td></tr>\n",
       "\t<tr><td>NA</td><td>          NA</td><td> 0.047321801</td></tr>\n",
       "\t<tr><td>NA</td><td>          NA</td><td>-0.036847998</td></tr>\n",
       "\t<tr><td>NA</td><td>          NA</td><td>-0.049183768</td></tr>\n",
       "\t<tr><td>NA</td><td>          NA</td><td> 0.090738248</td></tr>\n",
       "</tbody>\n",
       "</table>\n"
      ],
      "text/latex": [
       "A matrix: 3641 x 3 of type dbl\n",
       "\\begin{tabular}{lll}\n",
       " AC & PCC & DLPFC\\\\\n",
       "\\hline\n",
       "\t -0.034531769 &  0.019471895 &  0.0199349211\\\\\n",
       "\t  0.075625686 &  0.028073202 &  0.0233564193\\\\\n",
       "\t -0.008502357 &  0.008340666 &  0.0476266354\\\\\n",
       "\t -0.019659278 &  0.026838223 & -0.0358340977\\\\\n",
       "\t -0.020405020 &  0.026838223 & -0.0350072063\\\\\n",
       "\t -0.023790114 & -0.027201395 &  0.0306276310\\\\\n",
       "\t -0.008502357 &  0.008340666 &  0.0476882310\\\\\n",
       "\t  0.002928466 &  0.018412730 &  0.0125396231\\\\\n",
       "\t -0.009603805 & -0.002043391 &  0.0454541073\\\\\n",
       "\t  0.012573294 &           NA &  0.0002309774\\\\\n",
       "\t  0.034614843 & -0.061087739 & -0.0104418898\\\\\n",
       "\t  0.004906444 & -0.008340829 &  0.0202644220\\\\\n",
       "\t -0.032381456 & -0.016257408 &  0.0142758301\\\\\n",
       "\t -0.019659278 &  0.026838223 & -0.0358340977\\\\\n",
       "\t  0.025973348 &  0.042311387 & -0.0466958525\\\\\n",
       "\t  0.006274432 &  0.018412730 &  0.0087981685\\\\\n",
       "\t  0.004906444 & -0.007621527 &  0.0212745267\\\\\n",
       "\t  0.034614843 & -0.061087739 & -0.0104418898\\\\\n",
       "\t  0.002928466 &  0.018412730 &  0.0125396231\\\\\n",
       "\t  0.001980788 &  0.021817019 &  0.0100697666\\\\\n",
       "\t -0.013998791 & -0.050662913 &  0.0509888796\\\\\n",
       "\t  0.002928466 &  0.018412730 &  0.0125396231\\\\\n",
       "\t -0.021040129 & -0.042574414 &  0.0429367330\\\\\n",
       "\t  0.078784037 &  0.017889388 &  0.0170415974\\\\\n",
       "\t -0.005566623 &  0.017470242 &  0.0148223968\\\\\n",
       "\t -0.013030855 &  0.006133039 &  0.0447326707\\\\\n",
       "\t  0.036159606 & -0.055567368 & -0.0099111914\\\\\n",
       "\t -0.024224884 &  0.012529102 &  0.0308787405\\\\\n",
       "\t -0.024224884 &  0.012529102 &  0.0308787405\\\\\n",
       "\t -0.021040129 & -0.042574414 &  0.0429367330\\\\\n",
       "\t ... & ... & ...\\\\\n",
       "\t NA &  0.058467143 &  0.003425386\\\\\n",
       "\t NA &  0.079081544 & -0.034353761\\\\\n",
       "\t NA & -0.013838670 &  0.002088033\\\\\n",
       "\t NA &  0.072411699 &  0.002277693\\\\\n",
       "\t NA &  0.062843444 & -0.038171523\\\\\n",
       "\t NA &  0.079081544 & -0.034353761\\\\\n",
       "\t NA &  0.058467143 &  0.008494204\\\\\n",
       "\t NA & -0.013838670 &  0.002088033\\\\\n",
       "\t NA &  0.001856357 &           NA\\\\\n",
       "\t NA &  0.006455310 &           NA\\\\\n",
       "\t NA &  0.006455310 &           NA\\\\\n",
       "\t NA &  0.006455310 &           NA\\\\\n",
       "\t NA &  0.006455310 &           NA\\\\\n",
       "\t NA &  0.006455310 &           NA\\\\\n",
       "\t NA &  0.006455310 &           NA\\\\\n",
       "\t NA &  0.006455310 &           NA\\\\\n",
       "\t NA &  0.011251779 & -0.006346160\\\\\n",
       "\t NA & -0.036447492 & -0.064042229\\\\\n",
       "\t NA &           NA &  0.058789255\\\\\n",
       "\t NA &           NA & -0.009704038\\\\\n",
       "\t NA &           NA & -0.015563296\\\\\n",
       "\t NA &           NA &  0.014432939\\\\\n",
       "\t NA &           NA & -0.002892399\\\\\n",
       "\t NA &           NA & -0.045931113\\\\\n",
       "\t NA &           NA &  0.025363139\\\\\n",
       "\t NA &           NA & -0.036847998\\\\\n",
       "\t NA &           NA &  0.047321801\\\\\n",
       "\t NA &           NA & -0.036847998\\\\\n",
       "\t NA &           NA & -0.049183768\\\\\n",
       "\t NA &           NA &  0.090738248\\\\\n",
       "\\end{tabular}\n"
      ],
      "text/markdown": [
       "\n",
       "A matrix: 3641 x 3 of type dbl\n",
       "\n",
       "| AC | PCC | DLPFC |\n",
       "|---|---|---|\n",
       "| -0.034531769 |  0.019471895 |  0.0199349211 |\n",
       "|  0.075625686 |  0.028073202 |  0.0233564193 |\n",
       "| -0.008502357 |  0.008340666 |  0.0476266354 |\n",
       "| -0.019659278 |  0.026838223 | -0.0358340977 |\n",
       "| -0.020405020 |  0.026838223 | -0.0350072063 |\n",
       "| -0.023790114 | -0.027201395 |  0.0306276310 |\n",
       "| -0.008502357 |  0.008340666 |  0.0476882310 |\n",
       "|  0.002928466 |  0.018412730 |  0.0125396231 |\n",
       "| -0.009603805 | -0.002043391 |  0.0454541073 |\n",
       "|  0.012573294 |           NA |  0.0002309774 |\n",
       "|  0.034614843 | -0.061087739 | -0.0104418898 |\n",
       "|  0.004906444 | -0.008340829 |  0.0202644220 |\n",
       "| -0.032381456 | -0.016257408 |  0.0142758301 |\n",
       "| -0.019659278 |  0.026838223 | -0.0358340977 |\n",
       "|  0.025973348 |  0.042311387 | -0.0466958525 |\n",
       "|  0.006274432 |  0.018412730 |  0.0087981685 |\n",
       "|  0.004906444 | -0.007621527 |  0.0212745267 |\n",
       "|  0.034614843 | -0.061087739 | -0.0104418898 |\n",
       "|  0.002928466 |  0.018412730 |  0.0125396231 |\n",
       "|  0.001980788 |  0.021817019 |  0.0100697666 |\n",
       "| -0.013998791 | -0.050662913 |  0.0509888796 |\n",
       "|  0.002928466 |  0.018412730 |  0.0125396231 |\n",
       "| -0.021040129 | -0.042574414 |  0.0429367330 |\n",
       "|  0.078784037 |  0.017889388 |  0.0170415974 |\n",
       "| -0.005566623 |  0.017470242 |  0.0148223968 |\n",
       "| -0.013030855 |  0.006133039 |  0.0447326707 |\n",
       "|  0.036159606 | -0.055567368 | -0.0099111914 |\n",
       "| -0.024224884 |  0.012529102 |  0.0308787405 |\n",
       "| -0.024224884 |  0.012529102 |  0.0308787405 |\n",
       "| -0.021040129 | -0.042574414 |  0.0429367330 |\n",
       "| ... | ... | ... |\n",
       "| NA |  0.058467143 |  0.003425386 |\n",
       "| NA |  0.079081544 | -0.034353761 |\n",
       "| NA | -0.013838670 |  0.002088033 |\n",
       "| NA |  0.072411699 |  0.002277693 |\n",
       "| NA |  0.062843444 | -0.038171523 |\n",
       "| NA |  0.079081544 | -0.034353761 |\n",
       "| NA |  0.058467143 |  0.008494204 |\n",
       "| NA | -0.013838670 |  0.002088033 |\n",
       "| NA |  0.001856357 |           NA |\n",
       "| NA |  0.006455310 |           NA |\n",
       "| NA |  0.006455310 |           NA |\n",
       "| NA |  0.006455310 |           NA |\n",
       "| NA |  0.006455310 |           NA |\n",
       "| NA |  0.006455310 |           NA |\n",
       "| NA |  0.006455310 |           NA |\n",
       "| NA |  0.006455310 |           NA |\n",
       "| NA |  0.011251779 | -0.006346160 |\n",
       "| NA | -0.036447492 | -0.064042229 |\n",
       "| NA |           NA |  0.058789255 |\n",
       "| NA |           NA | -0.009704038 |\n",
       "| NA |           NA | -0.015563296 |\n",
       "| NA |           NA |  0.014432939 |\n",
       "| NA |           NA | -0.002892399 |\n",
       "| NA |           NA | -0.045931113 |\n",
       "| NA |           NA |  0.025363139 |\n",
       "| NA |           NA | -0.036847998 |\n",
       "| NA |           NA |  0.047321801 |\n",
       "| NA |           NA | -0.036847998 |\n",
       "| NA |           NA | -0.049183768 |\n",
       "| NA |           NA |  0.090738248 |\n",
       "\n"
      ],
      "text/plain": [
       "      AC           PCC          DLPFC        \n",
       " [1,] -0.034531769  0.019471895  0.0199349211\n",
       " [2,]  0.075625686  0.028073202  0.0233564193\n",
       " [3,] -0.008502357  0.008340666  0.0476266354\n",
       " [4,] -0.019659278  0.026838223 -0.0358340977\n",
       " [5,] -0.020405020  0.026838223 -0.0350072063\n",
       " [6,] -0.023790114 -0.027201395  0.0306276310\n",
       " [7,] -0.008502357  0.008340666  0.0476882310\n",
       " [8,]  0.002928466  0.018412730  0.0125396231\n",
       " [9,] -0.009603805 -0.002043391  0.0454541073\n",
       "[10,]  0.012573294           NA  0.0002309774\n",
       "[11,]  0.034614843 -0.061087739 -0.0104418898\n",
       "[12,]  0.004906444 -0.008340829  0.0202644220\n",
       "[13,] -0.032381456 -0.016257408  0.0142758301\n",
       "[14,] -0.019659278  0.026838223 -0.0358340977\n",
       "[15,]  0.025973348  0.042311387 -0.0466958525\n",
       "[16,]  0.006274432  0.018412730  0.0087981685\n",
       "[17,]  0.004906444 -0.007621527  0.0212745267\n",
       "[18,]  0.034614843 -0.061087739 -0.0104418898\n",
       "[19,]  0.002928466  0.018412730  0.0125396231\n",
       "[20,]  0.001980788  0.021817019  0.0100697666\n",
       "[21,] -0.013998791 -0.050662913  0.0509888796\n",
       "[22,]  0.002928466  0.018412730  0.0125396231\n",
       "[23,] -0.021040129 -0.042574414  0.0429367330\n",
       "[24,]  0.078784037  0.017889388  0.0170415974\n",
       "[25,] -0.005566623  0.017470242  0.0148223968\n",
       "[26,] -0.013030855  0.006133039  0.0447326707\n",
       "[27,]  0.036159606 -0.055567368 -0.0099111914\n",
       "[28,] -0.024224884  0.012529102  0.0308787405\n",
       "[29,] -0.024224884  0.012529102  0.0308787405\n",
       "[30,] -0.021040129 -0.042574414  0.0429367330\n",
       "[31,] ...          ...          ...          \n",
       "[32,] NA            0.058467143  0.003425386 \n",
       "[33,] NA            0.079081544 -0.034353761 \n",
       "[34,] NA           -0.013838670  0.002088033 \n",
       "[35,] NA            0.072411699  0.002277693 \n",
       "[36,] NA            0.062843444 -0.038171523 \n",
       "[37,] NA            0.079081544 -0.034353761 \n",
       "[38,] NA            0.058467143  0.008494204 \n",
       "[39,] NA           -0.013838670  0.002088033 \n",
       "[40,] NA            0.001856357           NA \n",
       "[41,] NA            0.006455310           NA \n",
       "[42,] NA            0.006455310           NA \n",
       "[43,] NA            0.006455310           NA \n",
       "[44,] NA            0.006455310           NA \n",
       "[45,] NA            0.006455310           NA \n",
       "[46,] NA            0.006455310           NA \n",
       "[47,] NA            0.006455310           NA \n",
       "[48,] NA            0.011251779 -0.006346160 \n",
       "[49,] NA           -0.036447492 -0.064042229 \n",
       "[50,] NA                     NA  0.058789255 \n",
       "[51,] NA                     NA -0.009704038 \n",
       "[52,] NA                     NA -0.015563296 \n",
       "[53,] NA                     NA  0.014432939 \n",
       "[54,] NA                     NA -0.002892399 \n",
       "[55,] NA                     NA -0.045931113 \n",
       "[56,] NA                     NA  0.025363139 \n",
       "[57,] NA                     NA -0.036847998 \n",
       "[58,] NA                     NA  0.047321801 \n",
       "[59,] NA                     NA -0.036847998 \n",
       "[60,] NA                     NA -0.049183768 \n",
       "[61,] NA                     NA  0.090738248 "
      ]
     },
     "metadata": {},
     "output_type": "display_data"
    }
   ],
   "source": [
    "a$bhat"
   ]
  },
  {
   "cell_type": "code",
   "execution_count": 145,
   "id": "6f786cea-626e-4de6-bbb7-06ab732ae6c3",
   "metadata": {},
   "outputs": [
    {
     "data": {
      "text/html": [
       "<table class=\"dataframe\">\n",
       "<caption>A matrix: 3 x 3 of type dbl</caption>\n",
       "<tbody>\n",
       "\t<tr><td>1.0172550</td><td>0.5727101</td><td>0.5534032</td></tr>\n",
       "\t<tr><td>0.5727101</td><td>1.0067327</td><td>0.5728316</td></tr>\n",
       "\t<tr><td>0.5534032</td><td>0.5728316</td><td>0.9988442</td></tr>\n",
       "</tbody>\n",
       "</table>\n"
      ],
      "text/latex": [
       "A matrix: 3 x 3 of type dbl\n",
       "\\begin{tabular}{lll}\n",
       "\t 1.0172550 & 0.5727101 & 0.5534032\\\\\n",
       "\t 0.5727101 & 1.0067327 & 0.5728316\\\\\n",
       "\t 0.5534032 & 0.5728316 & 0.9988442\\\\\n",
       "\\end{tabular}\n"
      ],
      "text/markdown": [
       "\n",
       "A matrix: 3 x 3 of type dbl\n",
       "\n",
       "| 1.0172550 | 0.5727101 | 0.5534032 |\n",
       "| 0.5727101 | 1.0067327 | 0.5728316 |\n",
       "| 0.5534032 | 0.5728316 | 0.9988442 |\n",
       "\n"
      ],
      "text/plain": [
       "     [,1]      [,2]      [,3]     \n",
       "[1,] 1.0172550 0.5727101 0.5534032\n",
       "[2,] 0.5727101 1.0067327 0.5728316\n",
       "[3,] 0.5534032 0.5728316 0.9988442"
      ]
     },
     "metadata": {},
     "output_type": "display_data"
    }
   ],
   "source": [
    "RDatalist[[5]]$m_ENSG00000087589$sigma2\n",
    "\n",
    "\n"
   ]
  },
  {
   "cell_type": "code",
   "execution_count": null,
   "id": "49a0aa0f-ff5d-4849-aca1-585d51979b24",
   "metadata": {},
   "outputs": [],
   "source": []
  },
  {
   "cell_type": "code",
   "execution_count": 11,
   "id": "35be4152-5968-41c5-b1ba-d13a57a7f239",
   "metadata": {},
   "outputs": [],
   "source": [
    "c = c%>%mutate(gene_id = str_replace_all(X2,\"geneTpmResidualsAgeGenderAdj_rename.\",\"m_\"))"
   ]
  },
  {
   "cell_type": "code",
   "execution_count": 14,
   "id": "fe8b1ea9-3dd9-444e-82d8-4c7b520a7108",
   "metadata": {},
   "outputs": [
    {
     "data": {
      "text/html": [
       "<style>\n",
       ".list-inline {list-style: none; margin:0; padding: 0}\n",
       ".list-inline>li {display: inline-block}\n",
       ".list-inline>li:not(:last-child)::after {content: \"\\00b7\"; padding: 0 .5ex}\n",
       "</style>\n",
       "<ol class=list-inline><li>'X1'</li><li>'X2'</li><li>'X3'</li><li>'X4'</li><li>'X9'</li><li>'X10'</li><li>'gene_id'</li></ol>\n"
      ],
      "text/latex": [
       "\\begin{enumerate*}\n",
       "\\item 'X1'\n",
       "\\item 'X2'\n",
       "\\item 'X3'\n",
       "\\item 'X4'\n",
       "\\item 'X9'\n",
       "\\item 'X10'\n",
       "\\item 'gene\\_id'\n",
       "\\end{enumerate*}\n"
      ],
      "text/markdown": [
       "1. 'X1'\n",
       "2. 'X2'\n",
       "3. 'X3'\n",
       "4. 'X4'\n",
       "5. 'X9'\n",
       "6. 'X10'\n",
       "7. 'gene_id'\n",
       "\n",
       "\n"
      ],
      "text/plain": [
       "[1] \"X1\"      \"X2\"      \"X3\"      \"X4\"      \"X9\"      \"X10\"     \"gene_id\""
      ]
     },
     "metadata": {},
     "output_type": "display_data"
    }
   ],
   "source": [
    "colnames(c)"
   ]
  },
  {
   "cell_type": "code",
   "execution_count": 99,
   "id": "8f5f8d6e-d0e1-46f9-b9aa-d6aee6757177",
   "metadata": {},
   "outputs": [
    {
     "data": {
      "text/html": [
       "<table class=\"dataframe\">\n",
       "<caption>A tibble: 26 x 6</caption>\n",
       "<thead>\n",
       "\t<tr><th scope=col>X1</th><th scope=col>X2</th><th scope=col>X3</th><th scope=col>gene_id</th><th scope=col>X9</th><th scope=col>X10</th></tr>\n",
       "\t<tr><th scope=col>&lt;chr&gt;</th><th scope=col>&lt;chr&gt;</th><th scope=col>&lt;chr&gt;</th><th scope=col>&lt;chr&gt;</th><th scope=col>&lt;chr&gt;</th><th scope=col>&lt;list&gt;</th></tr>\n",
       "</thead>\n",
       "<tbody>\n",
       "\t<tr><td>geneTpmResidualsAgeGenderAdj_rename.ENSG00000002587.uni_weight</td><td>geneTpmResidualsAgeGenderAdj_rename.ENSG00000002587</td><td>/mnt/mfs/statgen/neuro-twas/TWAS_sumstat/susie_rss_eqtl_ori_prior/geneTpmResidualsAgeGenderAdj_rename.ENSG00000002587.LDoriginal.mvsusierss.rds</td><td>m_ENSG00000002587</td><td>/mnt/mfs/statgen/neuro-twas/mv_wg/result_arch/geneTpmResidualsAgeGenderAdj_rename.ENSG00000002587.mv_susie.model.RData</td><td>&lt;environment: 0x564156270f30&gt;</td></tr>\n",
       "\t<tr><td>geneTpmResidualsAgeGenderAdj_rename.ENSG00000064687.uni_weight</td><td>geneTpmResidualsAgeGenderAdj_rename.ENSG00000064687</td><td>/mnt/mfs/statgen/neuro-twas/TWAS_sumstat/susie_rss_eqtl_ori_prior/geneTpmResidualsAgeGenderAdj_rename.ENSG00000064687.LDoriginal.mvsusierss.rds</td><td>m_ENSG00000064687</td><td>/mnt/mfs/statgen/neuro-twas/mv_wg/result_arch/geneTpmResidualsAgeGenderAdj_rename.ENSG00000064687.mv_susie.model.RData</td><td>&lt;environment: 0x56413db494c8&gt;</td></tr>\n",
       "\t<tr><td>geneTpmResidualsAgeGenderAdj_rename.ENSG00000073921.uni_weight</td><td>geneTpmResidualsAgeGenderAdj_rename.ENSG00000073921</td><td>/mnt/mfs/statgen/neuro-twas/TWAS_sumstat/susie_rss_eqtl_ori_prior/geneTpmResidualsAgeGenderAdj_rename.ENSG00000073921.LDoriginal.mvsusierss.rds</td><td>m_ENSG00000073921</td><td>/mnt/mfs/statgen/neuro-twas/mv_wg/result_arch/geneTpmResidualsAgeGenderAdj_rename.ENSG00000073921.mv_susie.model.RData</td><td>&lt;environment: 0x564152486690&gt;</td></tr>\n",
       "\t<tr><td>geneTpmResidualsAgeGenderAdj_rename.ENSG00000078487.uni_weight</td><td>geneTpmResidualsAgeGenderAdj_rename.ENSG00000078487</td><td>/mnt/mfs/statgen/neuro-twas/TWAS_sumstat/susie_rss_eqtl_ori_prior/geneTpmResidualsAgeGenderAdj_rename.ENSG00000078487.LDoriginal.mvsusierss.rds</td><td>m_ENSG00000078487</td><td>/mnt/mfs/statgen/neuro-twas/mv_wg/result_arch/geneTpmResidualsAgeGenderAdj_rename.ENSG00000078487.mv_susie.model.RData</td><td>&lt;environment: 0x56415456ec68&gt;</td></tr>\n",
       "\t<tr><td>geneTpmResidualsAgeGenderAdj_rename.ENSG00000087589.uni_weight</td><td>geneTpmResidualsAgeGenderAdj_rename.ENSG00000087589</td><td>/mnt/mfs/statgen/neuro-twas/TWAS_sumstat/susie_rss_eqtl_ori_prior/geneTpmResidualsAgeGenderAdj_rename.ENSG00000087589.LDoriginal.mvsusierss.rds</td><td>m_ENSG00000087589</td><td>/mnt/mfs/statgen/neuro-twas/mv_wg/result_arch/geneTpmResidualsAgeGenderAdj_rename.ENSG00000087589.mv_susie.model.RData</td><td>&lt;environment: 0x56415cae6208&gt;</td></tr>\n",
       "\t<tr><td>geneTpmResidualsAgeGenderAdj_rename.ENSG00000103510.uni_weight</td><td>geneTpmResidualsAgeGenderAdj_rename.ENSG00000103510</td><td>/mnt/mfs/statgen/neuro-twas/TWAS_sumstat/susie_rss_eqtl_ori_prior/geneTpmResidualsAgeGenderAdj_rename.ENSG00000103510.LDoriginal.mvsusierss.rds</td><td>m_ENSG00000103510</td><td>/mnt/mfs/statgen/neuro-twas/mv_wg/result_arch/geneTpmResidualsAgeGenderAdj_rename.ENSG00000103510.mv_susie.model.RData</td><td>&lt;environment: 0x5641556b6f10&gt;</td></tr>\n",
       "\t<tr><td>geneTpmResidualsAgeGenderAdj_rename.ENSG00000105383.uni_weight</td><td>geneTpmResidualsAgeGenderAdj_rename.ENSG00000105383</td><td>/mnt/mfs/statgen/neuro-twas/TWAS_sumstat/susie_rss_eqtl_ori_prior/geneTpmResidualsAgeGenderAdj_rename.ENSG00000105383.LDoriginal.mvsusierss.rds</td><td>m_ENSG00000105383</td><td>/mnt/mfs/statgen/neuro-twas/mv_wg/result_arch/geneTpmResidualsAgeGenderAdj_rename.ENSG00000105383.mv_susie.model.RData</td><td>&lt;environment: 0x5641227a9f10&gt;</td></tr>\n",
       "\t<tr><td>geneTpmResidualsAgeGenderAdj_rename.ENSG00000108798.uni_weight</td><td>geneTpmResidualsAgeGenderAdj_rename.ENSG00000108798</td><td>/mnt/mfs/statgen/neuro-twas/TWAS_sumstat/susie_rss_eqtl_ori_prior/geneTpmResidualsAgeGenderAdj_rename.ENSG00000108798.LDoriginal.mvsusierss.rds</td><td>m_ENSG00000108798</td><td>/mnt/mfs/statgen/neuro-twas/mv_wg/result_arch/geneTpmResidualsAgeGenderAdj_rename.ENSG00000108798.mv_susie.model.RData</td><td>&lt;environment: 0x56415c1c4f10&gt;</td></tr>\n",
       "\t<tr><td>geneTpmResidualsAgeGenderAdj_rename.ENSG00000110077.uni_weight</td><td>geneTpmResidualsAgeGenderAdj_rename.ENSG00000110077</td><td>/mnt/mfs/statgen/neuro-twas/TWAS_sumstat/susie_rss_eqtl_ori_prior/geneTpmResidualsAgeGenderAdj_rename.ENSG00000110077.LDoriginal.mvsusierss.rds</td><td>m_ENSG00000110077</td><td>/mnt/mfs/statgen/neuro-twas/mv_wg/result_arch/geneTpmResidualsAgeGenderAdj_rename.ENSG00000110077.mv_susie.model.RData</td><td>&lt;environment: 0x5641675e56f0&gt;</td></tr>\n",
       "\t<tr><td>geneTpmResidualsAgeGenderAdj_rename.ENSG00000120885.uni_weight</td><td>geneTpmResidualsAgeGenderAdj_rename.ENSG00000120885</td><td>/mnt/mfs/statgen/neuro-twas/TWAS_sumstat/susie_rss_eqtl_ori_prior/geneTpmResidualsAgeGenderAdj_rename.ENSG00000120885.LDoriginal.mvsusierss.rds</td><td>m_ENSG00000120885</td><td>/mnt/mfs/statgen/neuro-twas/mv_wg/result_arch/geneTpmResidualsAgeGenderAdj_rename.ENSG00000120885.mv_susie.model.RData</td><td>&lt;environment: 0x5641523bf160&gt;</td></tr>\n",
       "\t<tr><td>geneTpmResidualsAgeGenderAdj_rename.ENSG00000120899.uni_weight</td><td>geneTpmResidualsAgeGenderAdj_rename.ENSG00000120899</td><td>/mnt/mfs/statgen/neuro-twas/TWAS_sumstat/susie_rss_eqtl_ori_prior/geneTpmResidualsAgeGenderAdj_rename.ENSG00000120899.LDoriginal.mvsusierss.rds</td><td>m_ENSG00000120899</td><td>/mnt/mfs/statgen/neuro-twas/mv_wg/result_arch/geneTpmResidualsAgeGenderAdj_rename.ENSG00000120899.mv_susie.model.RData</td><td>&lt;environment: 0x5641494e33b8&gt;</td></tr>\n",
       "\t<tr><td>geneTpmResidualsAgeGenderAdj_rename.ENSG00000130203.uni_weight</td><td>geneTpmResidualsAgeGenderAdj_rename.ENSG00000130203</td><td>/mnt/mfs/statgen/neuro-twas/TWAS_sumstat/susie_rss_eqtl_ori_prior/geneTpmResidualsAgeGenderAdj_rename.ENSG00000130203.LDoriginal.mvsusierss.rds</td><td>m_ENSG00000130203</td><td>/mnt/mfs/statgen/neuro-twas/mv_wg/result_arch/geneTpmResidualsAgeGenderAdj_rename.ENSG00000130203.mv_susie.model.RData</td><td>&lt;environment: 0x56413edbcc10&gt;</td></tr>\n",
       "\t<tr><td>geneTpmResidualsAgeGenderAdj_rename.ENSG00000134463.uni_weight</td><td>geneTpmResidualsAgeGenderAdj_rename.ENSG00000134463</td><td>/mnt/mfs/statgen/neuro-twas/TWAS_sumstat/susie_rss_eqtl_ori_prior/geneTpmResidualsAgeGenderAdj_rename.ENSG00000134463.LDoriginal.mvsusierss.rds</td><td>m_ENSG00000134463</td><td>/mnt/mfs/statgen/neuro-twas/mv_wg/result_arch/geneTpmResidualsAgeGenderAdj_rename.ENSG00000134463.mv_susie.model.RData</td><td>&lt;environment: 0x564152fe95c8&gt;</td></tr>\n",
       "\t<tr><td>geneTpmResidualsAgeGenderAdj_rename.ENSG00000136717.uni_weight</td><td>geneTpmResidualsAgeGenderAdj_rename.ENSG00000136717</td><td>/mnt/mfs/statgen/neuro-twas/TWAS_sumstat/susie_rss_eqtl_ori_prior/geneTpmResidualsAgeGenderAdj_rename.ENSG00000136717.LDoriginal.mvsusierss.rds</td><td>m_ENSG00000136717</td><td>/mnt/mfs/statgen/neuro-twas/mv_wg/result_arch/geneTpmResidualsAgeGenderAdj_rename.ENSG00000136717.mv_susie.model.RData</td><td>&lt;environment: 0x56414a95b8a0&gt;</td></tr>\n",
       "\t<tr><td>geneTpmResidualsAgeGenderAdj_rename.ENSG00000137642.uni_weight</td><td>geneTpmResidualsAgeGenderAdj_rename.ENSG00000137642</td><td>/mnt/mfs/statgen/neuro-twas/TWAS_sumstat/susie_rss_eqtl_ori_prior/geneTpmResidualsAgeGenderAdj_rename.ENSG00000137642.LDoriginal.mvsusierss.rds</td><td>m_ENSG00000137642</td><td>/mnt/mfs/statgen/neuro-twas/mv_wg/result_arch/geneTpmResidualsAgeGenderAdj_rename.ENSG00000137642.mv_susie.model.RData</td><td>&lt;environment: 0x56414b538f28&gt;</td></tr>\n",
       "\t<tr><td>geneTpmResidualsAgeGenderAdj_rename.ENSG00000137845.uni_weight</td><td>geneTpmResidualsAgeGenderAdj_rename.ENSG00000137845</td><td>/mnt/mfs/statgen/neuro-twas/TWAS_sumstat/susie_rss_eqtl_ori_prior/geneTpmResidualsAgeGenderAdj_rename.ENSG00000137845.LDoriginal.mvsusierss.rds</td><td>m_ENSG00000137845</td><td>/mnt/mfs/statgen/neuro-twas/mv_wg/result_arch/geneTpmResidualsAgeGenderAdj_rename.ENSG00000137845.mv_susie.model.RData</td><td>&lt;environment: 0x5641505fb8d0&gt;</td></tr>\n",
       "\t<tr><td>geneTpmResidualsAgeGenderAdj_rename.ENSG00000138613.uni_weight</td><td>geneTpmResidualsAgeGenderAdj_rename.ENSG00000138613</td><td>/mnt/mfs/statgen/neuro-twas/TWAS_sumstat/susie_rss_eqtl_ori_prior/geneTpmResidualsAgeGenderAdj_rename.ENSG00000138613.LDoriginal.mvsusierss.rds</td><td>m_ENSG00000138613</td><td>/mnt/mfs/statgen/neuro-twas/mv_wg/result_arch/geneTpmResidualsAgeGenderAdj_rename.ENSG00000138613.mv_susie.model.RData</td><td>&lt;environment: 0x564151255df0&gt;</td></tr>\n",
       "\t<tr><td>geneTpmResidualsAgeGenderAdj_rename.ENSG00000140090.uni_weight</td><td>geneTpmResidualsAgeGenderAdj_rename.ENSG00000140090</td><td>/mnt/mfs/statgen/neuro-twas/TWAS_sumstat/susie_rss_eqtl_ori_prior/geneTpmResidualsAgeGenderAdj_rename.ENSG00000140090.LDoriginal.mvsusierss.rds</td><td>m_ENSG00000140090</td><td>/mnt/mfs/statgen/neuro-twas/mv_wg/result_arch/geneTpmResidualsAgeGenderAdj_rename.ENSG00000140090.mv_susie.model.RData</td><td>&lt;environment: 0x564138684350&gt;</td></tr>\n",
       "\t<tr><td>geneTpmResidualsAgeGenderAdj_rename.ENSG00000158859.uni_weight</td><td>geneTpmResidualsAgeGenderAdj_rename.ENSG00000158859</td><td>/mnt/mfs/statgen/neuro-twas/TWAS_sumstat/susie_rss_eqtl_ori_prior/geneTpmResidualsAgeGenderAdj_rename.ENSG00000158859.LDoriginal.mvsusierss.rds</td><td>m_ENSG00000158859</td><td>/mnt/mfs/statgen/neuro-twas/mv_wg/result_arch/geneTpmResidualsAgeGenderAdj_rename.ENSG00000158859.mv_susie.model.RData</td><td>&lt;environment: 0x5641394819e8&gt;</td></tr>\n",
       "\t<tr><td>geneTpmResidualsAgeGenderAdj_rename.ENSG00000161929.uni_weight</td><td>geneTpmResidualsAgeGenderAdj_rename.ENSG00000161929</td><td>/mnt/mfs/statgen/neuro-twas/TWAS_sumstat/susie_rss_eqtl_ori_prior/geneTpmResidualsAgeGenderAdj_rename.ENSG00000161929.LDoriginal.mvsusierss.rds</td><td>m_ENSG00000161929</td><td>/mnt/mfs/statgen/neuro-twas/mv_wg/result_arch/geneTpmResidualsAgeGenderAdj_rename.ENSG00000161929.mv_susie.model.RData</td><td>&lt;environment: 0x5641576e2820&gt;</td></tr>\n",
       "\t<tr><td>geneTpmResidualsAgeGenderAdj_rename.ENSG00000168918.uni_weight</td><td>geneTpmResidualsAgeGenderAdj_rename.ENSG00000168918</td><td>/mnt/mfs/statgen/neuro-twas/TWAS_sumstat/susie_rss_eqtl_ori_prior/geneTpmResidualsAgeGenderAdj_rename.ENSG00000168918.LDoriginal.mvsusierss.rds</td><td>m_ENSG00000168918</td><td>/mnt/mfs/statgen/neuro-twas/mv_wg/result_arch/geneTpmResidualsAgeGenderAdj_rename.ENSG00000168918.mv_susie.model.RData</td><td>&lt;environment: 0x5641583b5590&gt;</td></tr>\n",
       "\t<tr><td>geneTpmResidualsAgeGenderAdj_rename.ENSG00000196126.uni_weight</td><td>geneTpmResidualsAgeGenderAdj_rename.ENSG00000196126</td><td>/mnt/mfs/statgen/neuro-twas/TWAS_sumstat/susie_rss_eqtl_ori_prior/geneTpmResidualsAgeGenderAdj_rename.ENSG00000196126.LDoriginal.mvsusierss.rds</td><td>m_ENSG00000196126</td><td>/mnt/mfs/statgen/neuro-twas/mv_wg/result_arch/geneTpmResidualsAgeGenderAdj_rename.ENSG00000196126.mv_susie.model.RData</td><td>&lt;environment: 0x564143d23770&gt;</td></tr>\n",
       "\t<tr><td>geneTpmResidualsAgeGenderAdj_rename.ENSG00000198087.uni_weight</td><td>geneTpmResidualsAgeGenderAdj_rename.ENSG00000198087</td><td>/mnt/mfs/statgen/neuro-twas/TWAS_sumstat/susie_rss_eqtl_ori_prior/geneTpmResidualsAgeGenderAdj_rename.ENSG00000198087.LDoriginal.mvsusierss.rds</td><td>m_ENSG00000198087</td><td>/mnt/mfs/statgen/neuro-twas/mv_wg/result_arch/geneTpmResidualsAgeGenderAdj_rename.ENSG00000198087.mv_susie.model.RData</td><td>&lt;environment: 0x5641451a8ec8&gt;</td></tr>\n",
       "\t<tr><td>geneTpmResidualsAgeGenderAdj_rename.ENSG00000203710.uni_weight</td><td>geneTpmResidualsAgeGenderAdj_rename.ENSG00000203710</td><td>/mnt/mfs/statgen/neuro-twas/TWAS_sumstat/susie_rss_eqtl_ori_prior/geneTpmResidualsAgeGenderAdj_rename.ENSG00000203710.LDoriginal.mvsusierss.rds</td><td>m_ENSG00000203710</td><td>/mnt/mfs/statgen/neuro-twas/mv_wg/result_arch/geneTpmResidualsAgeGenderAdj_rename.ENSG00000203710.mv_susie.model.RData</td><td>&lt;environment: 0x564123fde9f8&gt;</td></tr>\n",
       "\t<tr><td>geneTpmResidualsAgeGenderAdj_rename.ENSG00000264538.uni_weight</td><td>geneTpmResidualsAgeGenderAdj_rename.ENSG00000264538</td><td>/mnt/mfs/statgen/neuro-twas/TWAS_sumstat/susie_rss_eqtl_ori_prior/geneTpmResidualsAgeGenderAdj_rename.ENSG00000264538.LDoriginal.mvsusierss.rds</td><td>m_ENSG00000264538</td><td>/mnt/mfs/statgen/neuro-twas/mv_wg/result_arch/geneTpmResidualsAgeGenderAdj_rename.ENSG00000264538.mv_susie.model.RData</td><td>&lt;environment: 0x56415821d5c0&gt;</td></tr>\n",
       "\t<tr><td>geneTpmResidualsAgeGenderAdj_rename.ENSG00000265148.uni_weight</td><td>geneTpmResidualsAgeGenderAdj_rename.ENSG00000265148</td><td>/mnt/mfs/statgen/neuro-twas/TWAS_sumstat/susie_rss_eqtl_ori_prior/geneTpmResidualsAgeGenderAdj_rename.ENSG00000265148.LDoriginal.mvsusierss.rds</td><td>m_ENSG00000265148</td><td>/mnt/mfs/statgen/neuro-twas/mv_wg/result_arch/geneTpmResidualsAgeGenderAdj_rename.ENSG00000265148.mv_susie.model.RData</td><td>&lt;environment: 0x56415754a038&gt;</td></tr>\n",
       "</tbody>\n",
       "</table>\n"
      ],
      "text/latex": [
       "A tibble: 26 x 6\n",
       "\\begin{tabular}{llllll}\n",
       " X1 & X2 & X3 & gene\\_id & X9 & X10\\\\\n",
       " <chr> & <chr> & <chr> & <chr> & <chr> & <list>\\\\\n",
       "\\hline\n",
       "\t geneTpmResidualsAgeGenderAdj\\_rename.ENSG00000002587.uni\\_weight & geneTpmResidualsAgeGenderAdj\\_rename.ENSG00000002587 & /mnt/mfs/statgen/neuro-twas/TWAS\\_sumstat/susie\\_rss\\_eqtl\\_ori\\_prior/geneTpmResidualsAgeGenderAdj\\_rename.ENSG00000002587.LDoriginal.mvsusierss.rds & m\\_ENSG00000002587 & /mnt/mfs/statgen/neuro-twas/mv\\_wg/result\\_arch/geneTpmResidualsAgeGenderAdj\\_rename.ENSG00000002587.mv\\_susie.model.RData & <environment: 0x564156270f30>\\\\\n",
       "\t geneTpmResidualsAgeGenderAdj\\_rename.ENSG00000064687.uni\\_weight & geneTpmResidualsAgeGenderAdj\\_rename.ENSG00000064687 & /mnt/mfs/statgen/neuro-twas/TWAS\\_sumstat/susie\\_rss\\_eqtl\\_ori\\_prior/geneTpmResidualsAgeGenderAdj\\_rename.ENSG00000064687.LDoriginal.mvsusierss.rds & m\\_ENSG00000064687 & /mnt/mfs/statgen/neuro-twas/mv\\_wg/result\\_arch/geneTpmResidualsAgeGenderAdj\\_rename.ENSG00000064687.mv\\_susie.model.RData & <environment: 0x56413db494c8>\\\\\n",
       "\t geneTpmResidualsAgeGenderAdj\\_rename.ENSG00000073921.uni\\_weight & geneTpmResidualsAgeGenderAdj\\_rename.ENSG00000073921 & /mnt/mfs/statgen/neuro-twas/TWAS\\_sumstat/susie\\_rss\\_eqtl\\_ori\\_prior/geneTpmResidualsAgeGenderAdj\\_rename.ENSG00000073921.LDoriginal.mvsusierss.rds & m\\_ENSG00000073921 & /mnt/mfs/statgen/neuro-twas/mv\\_wg/result\\_arch/geneTpmResidualsAgeGenderAdj\\_rename.ENSG00000073921.mv\\_susie.model.RData & <environment: 0x564152486690>\\\\\n",
       "\t geneTpmResidualsAgeGenderAdj\\_rename.ENSG00000078487.uni\\_weight & geneTpmResidualsAgeGenderAdj\\_rename.ENSG00000078487 & /mnt/mfs/statgen/neuro-twas/TWAS\\_sumstat/susie\\_rss\\_eqtl\\_ori\\_prior/geneTpmResidualsAgeGenderAdj\\_rename.ENSG00000078487.LDoriginal.mvsusierss.rds & m\\_ENSG00000078487 & /mnt/mfs/statgen/neuro-twas/mv\\_wg/result\\_arch/geneTpmResidualsAgeGenderAdj\\_rename.ENSG00000078487.mv\\_susie.model.RData & <environment: 0x56415456ec68>\\\\\n",
       "\t geneTpmResidualsAgeGenderAdj\\_rename.ENSG00000087589.uni\\_weight & geneTpmResidualsAgeGenderAdj\\_rename.ENSG00000087589 & /mnt/mfs/statgen/neuro-twas/TWAS\\_sumstat/susie\\_rss\\_eqtl\\_ori\\_prior/geneTpmResidualsAgeGenderAdj\\_rename.ENSG00000087589.LDoriginal.mvsusierss.rds & m\\_ENSG00000087589 & /mnt/mfs/statgen/neuro-twas/mv\\_wg/result\\_arch/geneTpmResidualsAgeGenderAdj\\_rename.ENSG00000087589.mv\\_susie.model.RData & <environment: 0x56415cae6208>\\\\\n",
       "\t geneTpmResidualsAgeGenderAdj\\_rename.ENSG00000103510.uni\\_weight & geneTpmResidualsAgeGenderAdj\\_rename.ENSG00000103510 & /mnt/mfs/statgen/neuro-twas/TWAS\\_sumstat/susie\\_rss\\_eqtl\\_ori\\_prior/geneTpmResidualsAgeGenderAdj\\_rename.ENSG00000103510.LDoriginal.mvsusierss.rds & m\\_ENSG00000103510 & /mnt/mfs/statgen/neuro-twas/mv\\_wg/result\\_arch/geneTpmResidualsAgeGenderAdj\\_rename.ENSG00000103510.mv\\_susie.model.RData & <environment: 0x5641556b6f10>\\\\\n",
       "\t geneTpmResidualsAgeGenderAdj\\_rename.ENSG00000105383.uni\\_weight & geneTpmResidualsAgeGenderAdj\\_rename.ENSG00000105383 & /mnt/mfs/statgen/neuro-twas/TWAS\\_sumstat/susie\\_rss\\_eqtl\\_ori\\_prior/geneTpmResidualsAgeGenderAdj\\_rename.ENSG00000105383.LDoriginal.mvsusierss.rds & m\\_ENSG00000105383 & /mnt/mfs/statgen/neuro-twas/mv\\_wg/result\\_arch/geneTpmResidualsAgeGenderAdj\\_rename.ENSG00000105383.mv\\_susie.model.RData & <environment: 0x5641227a9f10>\\\\\n",
       "\t geneTpmResidualsAgeGenderAdj\\_rename.ENSG00000108798.uni\\_weight & geneTpmResidualsAgeGenderAdj\\_rename.ENSG00000108798 & /mnt/mfs/statgen/neuro-twas/TWAS\\_sumstat/susie\\_rss\\_eqtl\\_ori\\_prior/geneTpmResidualsAgeGenderAdj\\_rename.ENSG00000108798.LDoriginal.mvsusierss.rds & m\\_ENSG00000108798 & /mnt/mfs/statgen/neuro-twas/mv\\_wg/result\\_arch/geneTpmResidualsAgeGenderAdj\\_rename.ENSG00000108798.mv\\_susie.model.RData & <environment: 0x56415c1c4f10>\\\\\n",
       "\t geneTpmResidualsAgeGenderAdj\\_rename.ENSG00000110077.uni\\_weight & geneTpmResidualsAgeGenderAdj\\_rename.ENSG00000110077 & /mnt/mfs/statgen/neuro-twas/TWAS\\_sumstat/susie\\_rss\\_eqtl\\_ori\\_prior/geneTpmResidualsAgeGenderAdj\\_rename.ENSG00000110077.LDoriginal.mvsusierss.rds & m\\_ENSG00000110077 & /mnt/mfs/statgen/neuro-twas/mv\\_wg/result\\_arch/geneTpmResidualsAgeGenderAdj\\_rename.ENSG00000110077.mv\\_susie.model.RData & <environment: 0x5641675e56f0>\\\\\n",
       "\t geneTpmResidualsAgeGenderAdj\\_rename.ENSG00000120885.uni\\_weight & geneTpmResidualsAgeGenderAdj\\_rename.ENSG00000120885 & /mnt/mfs/statgen/neuro-twas/TWAS\\_sumstat/susie\\_rss\\_eqtl\\_ori\\_prior/geneTpmResidualsAgeGenderAdj\\_rename.ENSG00000120885.LDoriginal.mvsusierss.rds & m\\_ENSG00000120885 & /mnt/mfs/statgen/neuro-twas/mv\\_wg/result\\_arch/geneTpmResidualsAgeGenderAdj\\_rename.ENSG00000120885.mv\\_susie.model.RData & <environment: 0x5641523bf160>\\\\\n",
       "\t geneTpmResidualsAgeGenderAdj\\_rename.ENSG00000120899.uni\\_weight & geneTpmResidualsAgeGenderAdj\\_rename.ENSG00000120899 & /mnt/mfs/statgen/neuro-twas/TWAS\\_sumstat/susie\\_rss\\_eqtl\\_ori\\_prior/geneTpmResidualsAgeGenderAdj\\_rename.ENSG00000120899.LDoriginal.mvsusierss.rds & m\\_ENSG00000120899 & /mnt/mfs/statgen/neuro-twas/mv\\_wg/result\\_arch/geneTpmResidualsAgeGenderAdj\\_rename.ENSG00000120899.mv\\_susie.model.RData & <environment: 0x5641494e33b8>\\\\\n",
       "\t geneTpmResidualsAgeGenderAdj\\_rename.ENSG00000130203.uni\\_weight & geneTpmResidualsAgeGenderAdj\\_rename.ENSG00000130203 & /mnt/mfs/statgen/neuro-twas/TWAS\\_sumstat/susie\\_rss\\_eqtl\\_ori\\_prior/geneTpmResidualsAgeGenderAdj\\_rename.ENSG00000130203.LDoriginal.mvsusierss.rds & m\\_ENSG00000130203 & /mnt/mfs/statgen/neuro-twas/mv\\_wg/result\\_arch/geneTpmResidualsAgeGenderAdj\\_rename.ENSG00000130203.mv\\_susie.model.RData & <environment: 0x56413edbcc10>\\\\\n",
       "\t geneTpmResidualsAgeGenderAdj\\_rename.ENSG00000134463.uni\\_weight & geneTpmResidualsAgeGenderAdj\\_rename.ENSG00000134463 & /mnt/mfs/statgen/neuro-twas/TWAS\\_sumstat/susie\\_rss\\_eqtl\\_ori\\_prior/geneTpmResidualsAgeGenderAdj\\_rename.ENSG00000134463.LDoriginal.mvsusierss.rds & m\\_ENSG00000134463 & /mnt/mfs/statgen/neuro-twas/mv\\_wg/result\\_arch/geneTpmResidualsAgeGenderAdj\\_rename.ENSG00000134463.mv\\_susie.model.RData & <environment: 0x564152fe95c8>\\\\\n",
       "\t geneTpmResidualsAgeGenderAdj\\_rename.ENSG00000136717.uni\\_weight & geneTpmResidualsAgeGenderAdj\\_rename.ENSG00000136717 & /mnt/mfs/statgen/neuro-twas/TWAS\\_sumstat/susie\\_rss\\_eqtl\\_ori\\_prior/geneTpmResidualsAgeGenderAdj\\_rename.ENSG00000136717.LDoriginal.mvsusierss.rds & m\\_ENSG00000136717 & /mnt/mfs/statgen/neuro-twas/mv\\_wg/result\\_arch/geneTpmResidualsAgeGenderAdj\\_rename.ENSG00000136717.mv\\_susie.model.RData & <environment: 0x56414a95b8a0>\\\\\n",
       "\t geneTpmResidualsAgeGenderAdj\\_rename.ENSG00000137642.uni\\_weight & geneTpmResidualsAgeGenderAdj\\_rename.ENSG00000137642 & /mnt/mfs/statgen/neuro-twas/TWAS\\_sumstat/susie\\_rss\\_eqtl\\_ori\\_prior/geneTpmResidualsAgeGenderAdj\\_rename.ENSG00000137642.LDoriginal.mvsusierss.rds & m\\_ENSG00000137642 & /mnt/mfs/statgen/neuro-twas/mv\\_wg/result\\_arch/geneTpmResidualsAgeGenderAdj\\_rename.ENSG00000137642.mv\\_susie.model.RData & <environment: 0x56414b538f28>\\\\\n",
       "\t geneTpmResidualsAgeGenderAdj\\_rename.ENSG00000137845.uni\\_weight & geneTpmResidualsAgeGenderAdj\\_rename.ENSG00000137845 & /mnt/mfs/statgen/neuro-twas/TWAS\\_sumstat/susie\\_rss\\_eqtl\\_ori\\_prior/geneTpmResidualsAgeGenderAdj\\_rename.ENSG00000137845.LDoriginal.mvsusierss.rds & m\\_ENSG00000137845 & /mnt/mfs/statgen/neuro-twas/mv\\_wg/result\\_arch/geneTpmResidualsAgeGenderAdj\\_rename.ENSG00000137845.mv\\_susie.model.RData & <environment: 0x5641505fb8d0>\\\\\n",
       "\t geneTpmResidualsAgeGenderAdj\\_rename.ENSG00000138613.uni\\_weight & geneTpmResidualsAgeGenderAdj\\_rename.ENSG00000138613 & /mnt/mfs/statgen/neuro-twas/TWAS\\_sumstat/susie\\_rss\\_eqtl\\_ori\\_prior/geneTpmResidualsAgeGenderAdj\\_rename.ENSG00000138613.LDoriginal.mvsusierss.rds & m\\_ENSG00000138613 & /mnt/mfs/statgen/neuro-twas/mv\\_wg/result\\_arch/geneTpmResidualsAgeGenderAdj\\_rename.ENSG00000138613.mv\\_susie.model.RData & <environment: 0x564151255df0>\\\\\n",
       "\t geneTpmResidualsAgeGenderAdj\\_rename.ENSG00000140090.uni\\_weight & geneTpmResidualsAgeGenderAdj\\_rename.ENSG00000140090 & /mnt/mfs/statgen/neuro-twas/TWAS\\_sumstat/susie\\_rss\\_eqtl\\_ori\\_prior/geneTpmResidualsAgeGenderAdj\\_rename.ENSG00000140090.LDoriginal.mvsusierss.rds & m\\_ENSG00000140090 & /mnt/mfs/statgen/neuro-twas/mv\\_wg/result\\_arch/geneTpmResidualsAgeGenderAdj\\_rename.ENSG00000140090.mv\\_susie.model.RData & <environment: 0x564138684350>\\\\\n",
       "\t geneTpmResidualsAgeGenderAdj\\_rename.ENSG00000158859.uni\\_weight & geneTpmResidualsAgeGenderAdj\\_rename.ENSG00000158859 & /mnt/mfs/statgen/neuro-twas/TWAS\\_sumstat/susie\\_rss\\_eqtl\\_ori\\_prior/geneTpmResidualsAgeGenderAdj\\_rename.ENSG00000158859.LDoriginal.mvsusierss.rds & m\\_ENSG00000158859 & /mnt/mfs/statgen/neuro-twas/mv\\_wg/result\\_arch/geneTpmResidualsAgeGenderAdj\\_rename.ENSG00000158859.mv\\_susie.model.RData & <environment: 0x5641394819e8>\\\\\n",
       "\t geneTpmResidualsAgeGenderAdj\\_rename.ENSG00000161929.uni\\_weight & geneTpmResidualsAgeGenderAdj\\_rename.ENSG00000161929 & /mnt/mfs/statgen/neuro-twas/TWAS\\_sumstat/susie\\_rss\\_eqtl\\_ori\\_prior/geneTpmResidualsAgeGenderAdj\\_rename.ENSG00000161929.LDoriginal.mvsusierss.rds & m\\_ENSG00000161929 & /mnt/mfs/statgen/neuro-twas/mv\\_wg/result\\_arch/geneTpmResidualsAgeGenderAdj\\_rename.ENSG00000161929.mv\\_susie.model.RData & <environment: 0x5641576e2820>\\\\\n",
       "\t geneTpmResidualsAgeGenderAdj\\_rename.ENSG00000168918.uni\\_weight & geneTpmResidualsAgeGenderAdj\\_rename.ENSG00000168918 & /mnt/mfs/statgen/neuro-twas/TWAS\\_sumstat/susie\\_rss\\_eqtl\\_ori\\_prior/geneTpmResidualsAgeGenderAdj\\_rename.ENSG00000168918.LDoriginal.mvsusierss.rds & m\\_ENSG00000168918 & /mnt/mfs/statgen/neuro-twas/mv\\_wg/result\\_arch/geneTpmResidualsAgeGenderAdj\\_rename.ENSG00000168918.mv\\_susie.model.RData & <environment: 0x5641583b5590>\\\\\n",
       "\t geneTpmResidualsAgeGenderAdj\\_rename.ENSG00000196126.uni\\_weight & geneTpmResidualsAgeGenderAdj\\_rename.ENSG00000196126 & /mnt/mfs/statgen/neuro-twas/TWAS\\_sumstat/susie\\_rss\\_eqtl\\_ori\\_prior/geneTpmResidualsAgeGenderAdj\\_rename.ENSG00000196126.LDoriginal.mvsusierss.rds & m\\_ENSG00000196126 & /mnt/mfs/statgen/neuro-twas/mv\\_wg/result\\_arch/geneTpmResidualsAgeGenderAdj\\_rename.ENSG00000196126.mv\\_susie.model.RData & <environment: 0x564143d23770>\\\\\n",
       "\t geneTpmResidualsAgeGenderAdj\\_rename.ENSG00000198087.uni\\_weight & geneTpmResidualsAgeGenderAdj\\_rename.ENSG00000198087 & /mnt/mfs/statgen/neuro-twas/TWAS\\_sumstat/susie\\_rss\\_eqtl\\_ori\\_prior/geneTpmResidualsAgeGenderAdj\\_rename.ENSG00000198087.LDoriginal.mvsusierss.rds & m\\_ENSG00000198087 & /mnt/mfs/statgen/neuro-twas/mv\\_wg/result\\_arch/geneTpmResidualsAgeGenderAdj\\_rename.ENSG00000198087.mv\\_susie.model.RData & <environment: 0x5641451a8ec8>\\\\\n",
       "\t geneTpmResidualsAgeGenderAdj\\_rename.ENSG00000203710.uni\\_weight & geneTpmResidualsAgeGenderAdj\\_rename.ENSG00000203710 & /mnt/mfs/statgen/neuro-twas/TWAS\\_sumstat/susie\\_rss\\_eqtl\\_ori\\_prior/geneTpmResidualsAgeGenderAdj\\_rename.ENSG00000203710.LDoriginal.mvsusierss.rds & m\\_ENSG00000203710 & /mnt/mfs/statgen/neuro-twas/mv\\_wg/result\\_arch/geneTpmResidualsAgeGenderAdj\\_rename.ENSG00000203710.mv\\_susie.model.RData & <environment: 0x564123fde9f8>\\\\\n",
       "\t geneTpmResidualsAgeGenderAdj\\_rename.ENSG00000264538.uni\\_weight & geneTpmResidualsAgeGenderAdj\\_rename.ENSG00000264538 & /mnt/mfs/statgen/neuro-twas/TWAS\\_sumstat/susie\\_rss\\_eqtl\\_ori\\_prior/geneTpmResidualsAgeGenderAdj\\_rename.ENSG00000264538.LDoriginal.mvsusierss.rds & m\\_ENSG00000264538 & /mnt/mfs/statgen/neuro-twas/mv\\_wg/result\\_arch/geneTpmResidualsAgeGenderAdj\\_rename.ENSG00000264538.mv\\_susie.model.RData & <environment: 0x56415821d5c0>\\\\\n",
       "\t geneTpmResidualsAgeGenderAdj\\_rename.ENSG00000265148.uni\\_weight & geneTpmResidualsAgeGenderAdj\\_rename.ENSG00000265148 & /mnt/mfs/statgen/neuro-twas/TWAS\\_sumstat/susie\\_rss\\_eqtl\\_ori\\_prior/geneTpmResidualsAgeGenderAdj\\_rename.ENSG00000265148.LDoriginal.mvsusierss.rds & m\\_ENSG00000265148 & /mnt/mfs/statgen/neuro-twas/mv\\_wg/result\\_arch/geneTpmResidualsAgeGenderAdj\\_rename.ENSG00000265148.mv\\_susie.model.RData & <environment: 0x56415754a038>\\\\\n",
       "\\end{tabular}\n"
      ],
      "text/markdown": [
       "\n",
       "A tibble: 26 x 6\n",
       "\n",
       "| X1 &lt;chr&gt; | X2 &lt;chr&gt; | X3 &lt;chr&gt; | gene_id &lt;chr&gt; | X9 &lt;chr&gt; | X10 &lt;list&gt; |\n",
       "|---|---|---|---|---|---|\n",
       "| geneTpmResidualsAgeGenderAdj_rename.ENSG00000002587.uni_weight | geneTpmResidualsAgeGenderAdj_rename.ENSG00000002587 | /mnt/mfs/statgen/neuro-twas/TWAS_sumstat/susie_rss_eqtl_ori_prior/geneTpmResidualsAgeGenderAdj_rename.ENSG00000002587.LDoriginal.mvsusierss.rds | m_ENSG00000002587 | /mnt/mfs/statgen/neuro-twas/mv_wg/result_arch/geneTpmResidualsAgeGenderAdj_rename.ENSG00000002587.mv_susie.model.RData | &lt;environment: 0x564156270f30&gt; |\n",
       "| geneTpmResidualsAgeGenderAdj_rename.ENSG00000064687.uni_weight | geneTpmResidualsAgeGenderAdj_rename.ENSG00000064687 | /mnt/mfs/statgen/neuro-twas/TWAS_sumstat/susie_rss_eqtl_ori_prior/geneTpmResidualsAgeGenderAdj_rename.ENSG00000064687.LDoriginal.mvsusierss.rds | m_ENSG00000064687 | /mnt/mfs/statgen/neuro-twas/mv_wg/result_arch/geneTpmResidualsAgeGenderAdj_rename.ENSG00000064687.mv_susie.model.RData | &lt;environment: 0x56413db494c8&gt; |\n",
       "| geneTpmResidualsAgeGenderAdj_rename.ENSG00000073921.uni_weight | geneTpmResidualsAgeGenderAdj_rename.ENSG00000073921 | /mnt/mfs/statgen/neuro-twas/TWAS_sumstat/susie_rss_eqtl_ori_prior/geneTpmResidualsAgeGenderAdj_rename.ENSG00000073921.LDoriginal.mvsusierss.rds | m_ENSG00000073921 | /mnt/mfs/statgen/neuro-twas/mv_wg/result_arch/geneTpmResidualsAgeGenderAdj_rename.ENSG00000073921.mv_susie.model.RData | &lt;environment: 0x564152486690&gt; |\n",
       "| geneTpmResidualsAgeGenderAdj_rename.ENSG00000078487.uni_weight | geneTpmResidualsAgeGenderAdj_rename.ENSG00000078487 | /mnt/mfs/statgen/neuro-twas/TWAS_sumstat/susie_rss_eqtl_ori_prior/geneTpmResidualsAgeGenderAdj_rename.ENSG00000078487.LDoriginal.mvsusierss.rds | m_ENSG00000078487 | /mnt/mfs/statgen/neuro-twas/mv_wg/result_arch/geneTpmResidualsAgeGenderAdj_rename.ENSG00000078487.mv_susie.model.RData | &lt;environment: 0x56415456ec68&gt; |\n",
       "| geneTpmResidualsAgeGenderAdj_rename.ENSG00000087589.uni_weight | geneTpmResidualsAgeGenderAdj_rename.ENSG00000087589 | /mnt/mfs/statgen/neuro-twas/TWAS_sumstat/susie_rss_eqtl_ori_prior/geneTpmResidualsAgeGenderAdj_rename.ENSG00000087589.LDoriginal.mvsusierss.rds | m_ENSG00000087589 | /mnt/mfs/statgen/neuro-twas/mv_wg/result_arch/geneTpmResidualsAgeGenderAdj_rename.ENSG00000087589.mv_susie.model.RData | &lt;environment: 0x56415cae6208&gt; |\n",
       "| geneTpmResidualsAgeGenderAdj_rename.ENSG00000103510.uni_weight | geneTpmResidualsAgeGenderAdj_rename.ENSG00000103510 | /mnt/mfs/statgen/neuro-twas/TWAS_sumstat/susie_rss_eqtl_ori_prior/geneTpmResidualsAgeGenderAdj_rename.ENSG00000103510.LDoriginal.mvsusierss.rds | m_ENSG00000103510 | /mnt/mfs/statgen/neuro-twas/mv_wg/result_arch/geneTpmResidualsAgeGenderAdj_rename.ENSG00000103510.mv_susie.model.RData | &lt;environment: 0x5641556b6f10&gt; |\n",
       "| geneTpmResidualsAgeGenderAdj_rename.ENSG00000105383.uni_weight | geneTpmResidualsAgeGenderAdj_rename.ENSG00000105383 | /mnt/mfs/statgen/neuro-twas/TWAS_sumstat/susie_rss_eqtl_ori_prior/geneTpmResidualsAgeGenderAdj_rename.ENSG00000105383.LDoriginal.mvsusierss.rds | m_ENSG00000105383 | /mnt/mfs/statgen/neuro-twas/mv_wg/result_arch/geneTpmResidualsAgeGenderAdj_rename.ENSG00000105383.mv_susie.model.RData | &lt;environment: 0x5641227a9f10&gt; |\n",
       "| geneTpmResidualsAgeGenderAdj_rename.ENSG00000108798.uni_weight | geneTpmResidualsAgeGenderAdj_rename.ENSG00000108798 | /mnt/mfs/statgen/neuro-twas/TWAS_sumstat/susie_rss_eqtl_ori_prior/geneTpmResidualsAgeGenderAdj_rename.ENSG00000108798.LDoriginal.mvsusierss.rds | m_ENSG00000108798 | /mnt/mfs/statgen/neuro-twas/mv_wg/result_arch/geneTpmResidualsAgeGenderAdj_rename.ENSG00000108798.mv_susie.model.RData | &lt;environment: 0x56415c1c4f10&gt; |\n",
       "| geneTpmResidualsAgeGenderAdj_rename.ENSG00000110077.uni_weight | geneTpmResidualsAgeGenderAdj_rename.ENSG00000110077 | /mnt/mfs/statgen/neuro-twas/TWAS_sumstat/susie_rss_eqtl_ori_prior/geneTpmResidualsAgeGenderAdj_rename.ENSG00000110077.LDoriginal.mvsusierss.rds | m_ENSG00000110077 | /mnt/mfs/statgen/neuro-twas/mv_wg/result_arch/geneTpmResidualsAgeGenderAdj_rename.ENSG00000110077.mv_susie.model.RData | &lt;environment: 0x5641675e56f0&gt; |\n",
       "| geneTpmResidualsAgeGenderAdj_rename.ENSG00000120885.uni_weight | geneTpmResidualsAgeGenderAdj_rename.ENSG00000120885 | /mnt/mfs/statgen/neuro-twas/TWAS_sumstat/susie_rss_eqtl_ori_prior/geneTpmResidualsAgeGenderAdj_rename.ENSG00000120885.LDoriginal.mvsusierss.rds | m_ENSG00000120885 | /mnt/mfs/statgen/neuro-twas/mv_wg/result_arch/geneTpmResidualsAgeGenderAdj_rename.ENSG00000120885.mv_susie.model.RData | &lt;environment: 0x5641523bf160&gt; |\n",
       "| geneTpmResidualsAgeGenderAdj_rename.ENSG00000120899.uni_weight | geneTpmResidualsAgeGenderAdj_rename.ENSG00000120899 | /mnt/mfs/statgen/neuro-twas/TWAS_sumstat/susie_rss_eqtl_ori_prior/geneTpmResidualsAgeGenderAdj_rename.ENSG00000120899.LDoriginal.mvsusierss.rds | m_ENSG00000120899 | /mnt/mfs/statgen/neuro-twas/mv_wg/result_arch/geneTpmResidualsAgeGenderAdj_rename.ENSG00000120899.mv_susie.model.RData | &lt;environment: 0x5641494e33b8&gt; |\n",
       "| geneTpmResidualsAgeGenderAdj_rename.ENSG00000130203.uni_weight | geneTpmResidualsAgeGenderAdj_rename.ENSG00000130203 | /mnt/mfs/statgen/neuro-twas/TWAS_sumstat/susie_rss_eqtl_ori_prior/geneTpmResidualsAgeGenderAdj_rename.ENSG00000130203.LDoriginal.mvsusierss.rds | m_ENSG00000130203 | /mnt/mfs/statgen/neuro-twas/mv_wg/result_arch/geneTpmResidualsAgeGenderAdj_rename.ENSG00000130203.mv_susie.model.RData | &lt;environment: 0x56413edbcc10&gt; |\n",
       "| geneTpmResidualsAgeGenderAdj_rename.ENSG00000134463.uni_weight | geneTpmResidualsAgeGenderAdj_rename.ENSG00000134463 | /mnt/mfs/statgen/neuro-twas/TWAS_sumstat/susie_rss_eqtl_ori_prior/geneTpmResidualsAgeGenderAdj_rename.ENSG00000134463.LDoriginal.mvsusierss.rds | m_ENSG00000134463 | /mnt/mfs/statgen/neuro-twas/mv_wg/result_arch/geneTpmResidualsAgeGenderAdj_rename.ENSG00000134463.mv_susie.model.RData | &lt;environment: 0x564152fe95c8&gt; |\n",
       "| geneTpmResidualsAgeGenderAdj_rename.ENSG00000136717.uni_weight | geneTpmResidualsAgeGenderAdj_rename.ENSG00000136717 | /mnt/mfs/statgen/neuro-twas/TWAS_sumstat/susie_rss_eqtl_ori_prior/geneTpmResidualsAgeGenderAdj_rename.ENSG00000136717.LDoriginal.mvsusierss.rds | m_ENSG00000136717 | /mnt/mfs/statgen/neuro-twas/mv_wg/result_arch/geneTpmResidualsAgeGenderAdj_rename.ENSG00000136717.mv_susie.model.RData | &lt;environment: 0x56414a95b8a0&gt; |\n",
       "| geneTpmResidualsAgeGenderAdj_rename.ENSG00000137642.uni_weight | geneTpmResidualsAgeGenderAdj_rename.ENSG00000137642 | /mnt/mfs/statgen/neuro-twas/TWAS_sumstat/susie_rss_eqtl_ori_prior/geneTpmResidualsAgeGenderAdj_rename.ENSG00000137642.LDoriginal.mvsusierss.rds | m_ENSG00000137642 | /mnt/mfs/statgen/neuro-twas/mv_wg/result_arch/geneTpmResidualsAgeGenderAdj_rename.ENSG00000137642.mv_susie.model.RData | &lt;environment: 0x56414b538f28&gt; |\n",
       "| geneTpmResidualsAgeGenderAdj_rename.ENSG00000137845.uni_weight | geneTpmResidualsAgeGenderAdj_rename.ENSG00000137845 | /mnt/mfs/statgen/neuro-twas/TWAS_sumstat/susie_rss_eqtl_ori_prior/geneTpmResidualsAgeGenderAdj_rename.ENSG00000137845.LDoriginal.mvsusierss.rds | m_ENSG00000137845 | /mnt/mfs/statgen/neuro-twas/mv_wg/result_arch/geneTpmResidualsAgeGenderAdj_rename.ENSG00000137845.mv_susie.model.RData | &lt;environment: 0x5641505fb8d0&gt; |\n",
       "| geneTpmResidualsAgeGenderAdj_rename.ENSG00000138613.uni_weight | geneTpmResidualsAgeGenderAdj_rename.ENSG00000138613 | /mnt/mfs/statgen/neuro-twas/TWAS_sumstat/susie_rss_eqtl_ori_prior/geneTpmResidualsAgeGenderAdj_rename.ENSG00000138613.LDoriginal.mvsusierss.rds | m_ENSG00000138613 | /mnt/mfs/statgen/neuro-twas/mv_wg/result_arch/geneTpmResidualsAgeGenderAdj_rename.ENSG00000138613.mv_susie.model.RData | &lt;environment: 0x564151255df0&gt; |\n",
       "| geneTpmResidualsAgeGenderAdj_rename.ENSG00000140090.uni_weight | geneTpmResidualsAgeGenderAdj_rename.ENSG00000140090 | /mnt/mfs/statgen/neuro-twas/TWAS_sumstat/susie_rss_eqtl_ori_prior/geneTpmResidualsAgeGenderAdj_rename.ENSG00000140090.LDoriginal.mvsusierss.rds | m_ENSG00000140090 | /mnt/mfs/statgen/neuro-twas/mv_wg/result_arch/geneTpmResidualsAgeGenderAdj_rename.ENSG00000140090.mv_susie.model.RData | &lt;environment: 0x564138684350&gt; |\n",
       "| geneTpmResidualsAgeGenderAdj_rename.ENSG00000158859.uni_weight | geneTpmResidualsAgeGenderAdj_rename.ENSG00000158859 | /mnt/mfs/statgen/neuro-twas/TWAS_sumstat/susie_rss_eqtl_ori_prior/geneTpmResidualsAgeGenderAdj_rename.ENSG00000158859.LDoriginal.mvsusierss.rds | m_ENSG00000158859 | /mnt/mfs/statgen/neuro-twas/mv_wg/result_arch/geneTpmResidualsAgeGenderAdj_rename.ENSG00000158859.mv_susie.model.RData | &lt;environment: 0x5641394819e8&gt; |\n",
       "| geneTpmResidualsAgeGenderAdj_rename.ENSG00000161929.uni_weight | geneTpmResidualsAgeGenderAdj_rename.ENSG00000161929 | /mnt/mfs/statgen/neuro-twas/TWAS_sumstat/susie_rss_eqtl_ori_prior/geneTpmResidualsAgeGenderAdj_rename.ENSG00000161929.LDoriginal.mvsusierss.rds | m_ENSG00000161929 | /mnt/mfs/statgen/neuro-twas/mv_wg/result_arch/geneTpmResidualsAgeGenderAdj_rename.ENSG00000161929.mv_susie.model.RData | &lt;environment: 0x5641576e2820&gt; |\n",
       "| geneTpmResidualsAgeGenderAdj_rename.ENSG00000168918.uni_weight | geneTpmResidualsAgeGenderAdj_rename.ENSG00000168918 | /mnt/mfs/statgen/neuro-twas/TWAS_sumstat/susie_rss_eqtl_ori_prior/geneTpmResidualsAgeGenderAdj_rename.ENSG00000168918.LDoriginal.mvsusierss.rds | m_ENSG00000168918 | /mnt/mfs/statgen/neuro-twas/mv_wg/result_arch/geneTpmResidualsAgeGenderAdj_rename.ENSG00000168918.mv_susie.model.RData | &lt;environment: 0x5641583b5590&gt; |\n",
       "| geneTpmResidualsAgeGenderAdj_rename.ENSG00000196126.uni_weight | geneTpmResidualsAgeGenderAdj_rename.ENSG00000196126 | /mnt/mfs/statgen/neuro-twas/TWAS_sumstat/susie_rss_eqtl_ori_prior/geneTpmResidualsAgeGenderAdj_rename.ENSG00000196126.LDoriginal.mvsusierss.rds | m_ENSG00000196126 | /mnt/mfs/statgen/neuro-twas/mv_wg/result_arch/geneTpmResidualsAgeGenderAdj_rename.ENSG00000196126.mv_susie.model.RData | &lt;environment: 0x564143d23770&gt; |\n",
       "| geneTpmResidualsAgeGenderAdj_rename.ENSG00000198087.uni_weight | geneTpmResidualsAgeGenderAdj_rename.ENSG00000198087 | /mnt/mfs/statgen/neuro-twas/TWAS_sumstat/susie_rss_eqtl_ori_prior/geneTpmResidualsAgeGenderAdj_rename.ENSG00000198087.LDoriginal.mvsusierss.rds | m_ENSG00000198087 | /mnt/mfs/statgen/neuro-twas/mv_wg/result_arch/geneTpmResidualsAgeGenderAdj_rename.ENSG00000198087.mv_susie.model.RData | &lt;environment: 0x5641451a8ec8&gt; |\n",
       "| geneTpmResidualsAgeGenderAdj_rename.ENSG00000203710.uni_weight | geneTpmResidualsAgeGenderAdj_rename.ENSG00000203710 | /mnt/mfs/statgen/neuro-twas/TWAS_sumstat/susie_rss_eqtl_ori_prior/geneTpmResidualsAgeGenderAdj_rename.ENSG00000203710.LDoriginal.mvsusierss.rds | m_ENSG00000203710 | /mnt/mfs/statgen/neuro-twas/mv_wg/result_arch/geneTpmResidualsAgeGenderAdj_rename.ENSG00000203710.mv_susie.model.RData | &lt;environment: 0x564123fde9f8&gt; |\n",
       "| geneTpmResidualsAgeGenderAdj_rename.ENSG00000264538.uni_weight | geneTpmResidualsAgeGenderAdj_rename.ENSG00000264538 | /mnt/mfs/statgen/neuro-twas/TWAS_sumstat/susie_rss_eqtl_ori_prior/geneTpmResidualsAgeGenderAdj_rename.ENSG00000264538.LDoriginal.mvsusierss.rds | m_ENSG00000264538 | /mnt/mfs/statgen/neuro-twas/mv_wg/result_arch/geneTpmResidualsAgeGenderAdj_rename.ENSG00000264538.mv_susie.model.RData | &lt;environment: 0x56415821d5c0&gt; |\n",
       "| geneTpmResidualsAgeGenderAdj_rename.ENSG00000265148.uni_weight | geneTpmResidualsAgeGenderAdj_rename.ENSG00000265148 | /mnt/mfs/statgen/neuro-twas/TWAS_sumstat/susie_rss_eqtl_ori_prior/geneTpmResidualsAgeGenderAdj_rename.ENSG00000265148.LDoriginal.mvsusierss.rds | m_ENSG00000265148 | /mnt/mfs/statgen/neuro-twas/mv_wg/result_arch/geneTpmResidualsAgeGenderAdj_rename.ENSG00000265148.mv_susie.model.RData | &lt;environment: 0x56415754a038&gt; |\n",
       "\n"
      ],
      "text/plain": [
       "   X1                                                            \n",
       "1  geneTpmResidualsAgeGenderAdj_rename.ENSG00000002587.uni_weight\n",
       "2  geneTpmResidualsAgeGenderAdj_rename.ENSG00000064687.uni_weight\n",
       "3  geneTpmResidualsAgeGenderAdj_rename.ENSG00000073921.uni_weight\n",
       "4  geneTpmResidualsAgeGenderAdj_rename.ENSG00000078487.uni_weight\n",
       "5  geneTpmResidualsAgeGenderAdj_rename.ENSG00000087589.uni_weight\n",
       "6  geneTpmResidualsAgeGenderAdj_rename.ENSG00000103510.uni_weight\n",
       "7  geneTpmResidualsAgeGenderAdj_rename.ENSG00000105383.uni_weight\n",
       "8  geneTpmResidualsAgeGenderAdj_rename.ENSG00000108798.uni_weight\n",
       "9  geneTpmResidualsAgeGenderAdj_rename.ENSG00000110077.uni_weight\n",
       "10 geneTpmResidualsAgeGenderAdj_rename.ENSG00000120885.uni_weight\n",
       "11 geneTpmResidualsAgeGenderAdj_rename.ENSG00000120899.uni_weight\n",
       "12 geneTpmResidualsAgeGenderAdj_rename.ENSG00000130203.uni_weight\n",
       "13 geneTpmResidualsAgeGenderAdj_rename.ENSG00000134463.uni_weight\n",
       "14 geneTpmResidualsAgeGenderAdj_rename.ENSG00000136717.uni_weight\n",
       "15 geneTpmResidualsAgeGenderAdj_rename.ENSG00000137642.uni_weight\n",
       "16 geneTpmResidualsAgeGenderAdj_rename.ENSG00000137845.uni_weight\n",
       "17 geneTpmResidualsAgeGenderAdj_rename.ENSG00000138613.uni_weight\n",
       "18 geneTpmResidualsAgeGenderAdj_rename.ENSG00000140090.uni_weight\n",
       "19 geneTpmResidualsAgeGenderAdj_rename.ENSG00000158859.uni_weight\n",
       "20 geneTpmResidualsAgeGenderAdj_rename.ENSG00000161929.uni_weight\n",
       "21 geneTpmResidualsAgeGenderAdj_rename.ENSG00000168918.uni_weight\n",
       "22 geneTpmResidualsAgeGenderAdj_rename.ENSG00000196126.uni_weight\n",
       "23 geneTpmResidualsAgeGenderAdj_rename.ENSG00000198087.uni_weight\n",
       "24 geneTpmResidualsAgeGenderAdj_rename.ENSG00000203710.uni_weight\n",
       "25 geneTpmResidualsAgeGenderAdj_rename.ENSG00000264538.uni_weight\n",
       "26 geneTpmResidualsAgeGenderAdj_rename.ENSG00000265148.uni_weight\n",
       "   X2                                                 \n",
       "1  geneTpmResidualsAgeGenderAdj_rename.ENSG00000002587\n",
       "2  geneTpmResidualsAgeGenderAdj_rename.ENSG00000064687\n",
       "3  geneTpmResidualsAgeGenderAdj_rename.ENSG00000073921\n",
       "4  geneTpmResidualsAgeGenderAdj_rename.ENSG00000078487\n",
       "5  geneTpmResidualsAgeGenderAdj_rename.ENSG00000087589\n",
       "6  geneTpmResidualsAgeGenderAdj_rename.ENSG00000103510\n",
       "7  geneTpmResidualsAgeGenderAdj_rename.ENSG00000105383\n",
       "8  geneTpmResidualsAgeGenderAdj_rename.ENSG00000108798\n",
       "9  geneTpmResidualsAgeGenderAdj_rename.ENSG00000110077\n",
       "10 geneTpmResidualsAgeGenderAdj_rename.ENSG00000120885\n",
       "11 geneTpmResidualsAgeGenderAdj_rename.ENSG00000120899\n",
       "12 geneTpmResidualsAgeGenderAdj_rename.ENSG00000130203\n",
       "13 geneTpmResidualsAgeGenderAdj_rename.ENSG00000134463\n",
       "14 geneTpmResidualsAgeGenderAdj_rename.ENSG00000136717\n",
       "15 geneTpmResidualsAgeGenderAdj_rename.ENSG00000137642\n",
       "16 geneTpmResidualsAgeGenderAdj_rename.ENSG00000137845\n",
       "17 geneTpmResidualsAgeGenderAdj_rename.ENSG00000138613\n",
       "18 geneTpmResidualsAgeGenderAdj_rename.ENSG00000140090\n",
       "19 geneTpmResidualsAgeGenderAdj_rename.ENSG00000158859\n",
       "20 geneTpmResidualsAgeGenderAdj_rename.ENSG00000161929\n",
       "21 geneTpmResidualsAgeGenderAdj_rename.ENSG00000168918\n",
       "22 geneTpmResidualsAgeGenderAdj_rename.ENSG00000196126\n",
       "23 geneTpmResidualsAgeGenderAdj_rename.ENSG00000198087\n",
       "24 geneTpmResidualsAgeGenderAdj_rename.ENSG00000203710\n",
       "25 geneTpmResidualsAgeGenderAdj_rename.ENSG00000264538\n",
       "26 geneTpmResidualsAgeGenderAdj_rename.ENSG00000265148\n",
       "   X3                                                                                                                                             \n",
       "1  /mnt/mfs/statgen/neuro-twas/TWAS_sumstat/susie_rss_eqtl_ori_prior/geneTpmResidualsAgeGenderAdj_rename.ENSG00000002587.LDoriginal.mvsusierss.rds\n",
       "2  /mnt/mfs/statgen/neuro-twas/TWAS_sumstat/susie_rss_eqtl_ori_prior/geneTpmResidualsAgeGenderAdj_rename.ENSG00000064687.LDoriginal.mvsusierss.rds\n",
       "3  /mnt/mfs/statgen/neuro-twas/TWAS_sumstat/susie_rss_eqtl_ori_prior/geneTpmResidualsAgeGenderAdj_rename.ENSG00000073921.LDoriginal.mvsusierss.rds\n",
       "4  /mnt/mfs/statgen/neuro-twas/TWAS_sumstat/susie_rss_eqtl_ori_prior/geneTpmResidualsAgeGenderAdj_rename.ENSG00000078487.LDoriginal.mvsusierss.rds\n",
       "5  /mnt/mfs/statgen/neuro-twas/TWAS_sumstat/susie_rss_eqtl_ori_prior/geneTpmResidualsAgeGenderAdj_rename.ENSG00000087589.LDoriginal.mvsusierss.rds\n",
       "6  /mnt/mfs/statgen/neuro-twas/TWAS_sumstat/susie_rss_eqtl_ori_prior/geneTpmResidualsAgeGenderAdj_rename.ENSG00000103510.LDoriginal.mvsusierss.rds\n",
       "7  /mnt/mfs/statgen/neuro-twas/TWAS_sumstat/susie_rss_eqtl_ori_prior/geneTpmResidualsAgeGenderAdj_rename.ENSG00000105383.LDoriginal.mvsusierss.rds\n",
       "8  /mnt/mfs/statgen/neuro-twas/TWAS_sumstat/susie_rss_eqtl_ori_prior/geneTpmResidualsAgeGenderAdj_rename.ENSG00000108798.LDoriginal.mvsusierss.rds\n",
       "9  /mnt/mfs/statgen/neuro-twas/TWAS_sumstat/susie_rss_eqtl_ori_prior/geneTpmResidualsAgeGenderAdj_rename.ENSG00000110077.LDoriginal.mvsusierss.rds\n",
       "10 /mnt/mfs/statgen/neuro-twas/TWAS_sumstat/susie_rss_eqtl_ori_prior/geneTpmResidualsAgeGenderAdj_rename.ENSG00000120885.LDoriginal.mvsusierss.rds\n",
       "11 /mnt/mfs/statgen/neuro-twas/TWAS_sumstat/susie_rss_eqtl_ori_prior/geneTpmResidualsAgeGenderAdj_rename.ENSG00000120899.LDoriginal.mvsusierss.rds\n",
       "12 /mnt/mfs/statgen/neuro-twas/TWAS_sumstat/susie_rss_eqtl_ori_prior/geneTpmResidualsAgeGenderAdj_rename.ENSG00000130203.LDoriginal.mvsusierss.rds\n",
       "13 /mnt/mfs/statgen/neuro-twas/TWAS_sumstat/susie_rss_eqtl_ori_prior/geneTpmResidualsAgeGenderAdj_rename.ENSG00000134463.LDoriginal.mvsusierss.rds\n",
       "14 /mnt/mfs/statgen/neuro-twas/TWAS_sumstat/susie_rss_eqtl_ori_prior/geneTpmResidualsAgeGenderAdj_rename.ENSG00000136717.LDoriginal.mvsusierss.rds\n",
       "15 /mnt/mfs/statgen/neuro-twas/TWAS_sumstat/susie_rss_eqtl_ori_prior/geneTpmResidualsAgeGenderAdj_rename.ENSG00000137642.LDoriginal.mvsusierss.rds\n",
       "16 /mnt/mfs/statgen/neuro-twas/TWAS_sumstat/susie_rss_eqtl_ori_prior/geneTpmResidualsAgeGenderAdj_rename.ENSG00000137845.LDoriginal.mvsusierss.rds\n",
       "17 /mnt/mfs/statgen/neuro-twas/TWAS_sumstat/susie_rss_eqtl_ori_prior/geneTpmResidualsAgeGenderAdj_rename.ENSG00000138613.LDoriginal.mvsusierss.rds\n",
       "18 /mnt/mfs/statgen/neuro-twas/TWAS_sumstat/susie_rss_eqtl_ori_prior/geneTpmResidualsAgeGenderAdj_rename.ENSG00000140090.LDoriginal.mvsusierss.rds\n",
       "19 /mnt/mfs/statgen/neuro-twas/TWAS_sumstat/susie_rss_eqtl_ori_prior/geneTpmResidualsAgeGenderAdj_rename.ENSG00000158859.LDoriginal.mvsusierss.rds\n",
       "20 /mnt/mfs/statgen/neuro-twas/TWAS_sumstat/susie_rss_eqtl_ori_prior/geneTpmResidualsAgeGenderAdj_rename.ENSG00000161929.LDoriginal.mvsusierss.rds\n",
       "21 /mnt/mfs/statgen/neuro-twas/TWAS_sumstat/susie_rss_eqtl_ori_prior/geneTpmResidualsAgeGenderAdj_rename.ENSG00000168918.LDoriginal.mvsusierss.rds\n",
       "22 /mnt/mfs/statgen/neuro-twas/TWAS_sumstat/susie_rss_eqtl_ori_prior/geneTpmResidualsAgeGenderAdj_rename.ENSG00000196126.LDoriginal.mvsusierss.rds\n",
       "23 /mnt/mfs/statgen/neuro-twas/TWAS_sumstat/susie_rss_eqtl_ori_prior/geneTpmResidualsAgeGenderAdj_rename.ENSG00000198087.LDoriginal.mvsusierss.rds\n",
       "24 /mnt/mfs/statgen/neuro-twas/TWAS_sumstat/susie_rss_eqtl_ori_prior/geneTpmResidualsAgeGenderAdj_rename.ENSG00000203710.LDoriginal.mvsusierss.rds\n",
       "25 /mnt/mfs/statgen/neuro-twas/TWAS_sumstat/susie_rss_eqtl_ori_prior/geneTpmResidualsAgeGenderAdj_rename.ENSG00000264538.LDoriginal.mvsusierss.rds\n",
       "26 /mnt/mfs/statgen/neuro-twas/TWAS_sumstat/susie_rss_eqtl_ori_prior/geneTpmResidualsAgeGenderAdj_rename.ENSG00000265148.LDoriginal.mvsusierss.rds\n",
       "   gene_id          \n",
       "1  m_ENSG00000002587\n",
       "2  m_ENSG00000064687\n",
       "3  m_ENSG00000073921\n",
       "4  m_ENSG00000078487\n",
       "5  m_ENSG00000087589\n",
       "6  m_ENSG00000103510\n",
       "7  m_ENSG00000105383\n",
       "8  m_ENSG00000108798\n",
       "9  m_ENSG00000110077\n",
       "10 m_ENSG00000120885\n",
       "11 m_ENSG00000120899\n",
       "12 m_ENSG00000130203\n",
       "13 m_ENSG00000134463\n",
       "14 m_ENSG00000136717\n",
       "15 m_ENSG00000137642\n",
       "16 m_ENSG00000137845\n",
       "17 m_ENSG00000138613\n",
       "18 m_ENSG00000140090\n",
       "19 m_ENSG00000158859\n",
       "20 m_ENSG00000161929\n",
       "21 m_ENSG00000168918\n",
       "22 m_ENSG00000196126\n",
       "23 m_ENSG00000198087\n",
       "24 m_ENSG00000203710\n",
       "25 m_ENSG00000264538\n",
       "26 m_ENSG00000265148\n",
       "   X9                                                                                                                    \n",
       "1  /mnt/mfs/statgen/neuro-twas/mv_wg/result_arch/geneTpmResidualsAgeGenderAdj_rename.ENSG00000002587.mv_susie.model.RData\n",
       "2  /mnt/mfs/statgen/neuro-twas/mv_wg/result_arch/geneTpmResidualsAgeGenderAdj_rename.ENSG00000064687.mv_susie.model.RData\n",
       "3  /mnt/mfs/statgen/neuro-twas/mv_wg/result_arch/geneTpmResidualsAgeGenderAdj_rename.ENSG00000073921.mv_susie.model.RData\n",
       "4  /mnt/mfs/statgen/neuro-twas/mv_wg/result_arch/geneTpmResidualsAgeGenderAdj_rename.ENSG00000078487.mv_susie.model.RData\n",
       "5  /mnt/mfs/statgen/neuro-twas/mv_wg/result_arch/geneTpmResidualsAgeGenderAdj_rename.ENSG00000087589.mv_susie.model.RData\n",
       "6  /mnt/mfs/statgen/neuro-twas/mv_wg/result_arch/geneTpmResidualsAgeGenderAdj_rename.ENSG00000103510.mv_susie.model.RData\n",
       "7  /mnt/mfs/statgen/neuro-twas/mv_wg/result_arch/geneTpmResidualsAgeGenderAdj_rename.ENSG00000105383.mv_susie.model.RData\n",
       "8  /mnt/mfs/statgen/neuro-twas/mv_wg/result_arch/geneTpmResidualsAgeGenderAdj_rename.ENSG00000108798.mv_susie.model.RData\n",
       "9  /mnt/mfs/statgen/neuro-twas/mv_wg/result_arch/geneTpmResidualsAgeGenderAdj_rename.ENSG00000110077.mv_susie.model.RData\n",
       "10 /mnt/mfs/statgen/neuro-twas/mv_wg/result_arch/geneTpmResidualsAgeGenderAdj_rename.ENSG00000120885.mv_susie.model.RData\n",
       "11 /mnt/mfs/statgen/neuro-twas/mv_wg/result_arch/geneTpmResidualsAgeGenderAdj_rename.ENSG00000120899.mv_susie.model.RData\n",
       "12 /mnt/mfs/statgen/neuro-twas/mv_wg/result_arch/geneTpmResidualsAgeGenderAdj_rename.ENSG00000130203.mv_susie.model.RData\n",
       "13 /mnt/mfs/statgen/neuro-twas/mv_wg/result_arch/geneTpmResidualsAgeGenderAdj_rename.ENSG00000134463.mv_susie.model.RData\n",
       "14 /mnt/mfs/statgen/neuro-twas/mv_wg/result_arch/geneTpmResidualsAgeGenderAdj_rename.ENSG00000136717.mv_susie.model.RData\n",
       "15 /mnt/mfs/statgen/neuro-twas/mv_wg/result_arch/geneTpmResidualsAgeGenderAdj_rename.ENSG00000137642.mv_susie.model.RData\n",
       "16 /mnt/mfs/statgen/neuro-twas/mv_wg/result_arch/geneTpmResidualsAgeGenderAdj_rename.ENSG00000137845.mv_susie.model.RData\n",
       "17 /mnt/mfs/statgen/neuro-twas/mv_wg/result_arch/geneTpmResidualsAgeGenderAdj_rename.ENSG00000138613.mv_susie.model.RData\n",
       "18 /mnt/mfs/statgen/neuro-twas/mv_wg/result_arch/geneTpmResidualsAgeGenderAdj_rename.ENSG00000140090.mv_susie.model.RData\n",
       "19 /mnt/mfs/statgen/neuro-twas/mv_wg/result_arch/geneTpmResidualsAgeGenderAdj_rename.ENSG00000158859.mv_susie.model.RData\n",
       "20 /mnt/mfs/statgen/neuro-twas/mv_wg/result_arch/geneTpmResidualsAgeGenderAdj_rename.ENSG00000161929.mv_susie.model.RData\n",
       "21 /mnt/mfs/statgen/neuro-twas/mv_wg/result_arch/geneTpmResidualsAgeGenderAdj_rename.ENSG00000168918.mv_susie.model.RData\n",
       "22 /mnt/mfs/statgen/neuro-twas/mv_wg/result_arch/geneTpmResidualsAgeGenderAdj_rename.ENSG00000196126.mv_susie.model.RData\n",
       "23 /mnt/mfs/statgen/neuro-twas/mv_wg/result_arch/geneTpmResidualsAgeGenderAdj_rename.ENSG00000198087.mv_susie.model.RData\n",
       "24 /mnt/mfs/statgen/neuro-twas/mv_wg/result_arch/geneTpmResidualsAgeGenderAdj_rename.ENSG00000203710.mv_susie.model.RData\n",
       "25 /mnt/mfs/statgen/neuro-twas/mv_wg/result_arch/geneTpmResidualsAgeGenderAdj_rename.ENSG00000264538.mv_susie.model.RData\n",
       "26 /mnt/mfs/statgen/neuro-twas/mv_wg/result_arch/geneTpmResidualsAgeGenderAdj_rename.ENSG00000265148.mv_susie.model.RData\n",
       "   X10                          \n",
       "1  <environment: 0x564156270f30>\n",
       "2  <environment: 0x56413db494c8>\n",
       "3  <environment: 0x564152486690>\n",
       "4  <environment: 0x56415456ec68>\n",
       "5  <environment: 0x56415cae6208>\n",
       "6  <environment: 0x5641556b6f10>\n",
       "7  <environment: 0x5641227a9f10>\n",
       "8  <environment: 0x56415c1c4f10>\n",
       "9  <environment: 0x5641675e56f0>\n",
       "10 <environment: 0x5641523bf160>\n",
       "11 <environment: 0x5641494e33b8>\n",
       "12 <environment: 0x56413edbcc10>\n",
       "13 <environment: 0x564152fe95c8>\n",
       "14 <environment: 0x56414a95b8a0>\n",
       "15 <environment: 0x56414b538f28>\n",
       "16 <environment: 0x5641505fb8d0>\n",
       "17 <environment: 0x564151255df0>\n",
       "18 <environment: 0x564138684350>\n",
       "19 <environment: 0x5641394819e8>\n",
       "20 <environment: 0x5641576e2820>\n",
       "21 <environment: 0x5641583b5590>\n",
       "22 <environment: 0x564143d23770>\n",
       "23 <environment: 0x5641451a8ec8>\n",
       "24 <environment: 0x564123fde9f8>\n",
       "25 <environment: 0x56415821d5c0>\n",
       "26 <environment: 0x56415754a038>"
      ]
     },
     "metadata": {},
     "output_type": "display_data"
    }
   ],
   "source": [
    "c%>%mutate(model = map2(X10$))"
   ]
  },
  {
   "cell_type": "code",
   "execution_count": 24,
   "id": "39bf84ba-dae5-4bf8-a6a6-7c886d0ad468",
   "metadata": {},
   "outputs": [],
   "source": [
    "V = c%>%mutate(  model = map2(X10,gene_id , ~get(.y,env = .x)),\n",
    "             cs = map_dbl(model, ~.x$sets$cs%>%length))%>%select(X2,gene_id,cs)"
   ]
  },
  {
   "cell_type": "code",
   "execution_count": 44,
   "id": "1d9a464f-9e05-405e-8ecf-b30f03d06fdb",
   "metadata": {},
   "outputs": [],
   "source": [
    "V = c%>%mutate(  model = map2(X10,gene_id , ~get(.y,env = .x)),\n",
    "             V = map(model, ~.x$sigma2))%>%select(X2,gene_id,V)"
   ]
  },
  {
   "cell_type": "code",
   "execution_count": 45,
   "id": "59016841-83a4-4c63-8e60-12f7fd04fd98",
   "metadata": {},
   "outputs": [
    {
     "data": {
      "text/html": [
       "<table class=\"dataframe\">\n",
       "<caption>A tibble: 26 x 3</caption>\n",
       "<thead>\n",
       "\t<tr><th scope=col>X2</th><th scope=col>gene_id</th><th scope=col>V</th></tr>\n",
       "\t<tr><th scope=col>&lt;chr&gt;</th><th scope=col>&lt;chr&gt;</th><th scope=col>&lt;list&gt;</th></tr>\n",
       "</thead>\n",
       "<tbody>\n",
       "\t<tr><td>geneTpmResidualsAgeGenderAdj_rename.ENSG00000002587</td><td>m_ENSG00000002587</td><td>0.99916875, 0.02987007, 0.10888697, 0.02987007, 0.99770581, 0.13927648, 0.10888697, 0.13927648, 0.99687364</td></tr>\n",
       "\t<tr><td>geneTpmResidualsAgeGenderAdj_rename.ENSG00000064687</td><td>m_ENSG00000064687</td><td>1.0066663, 0.3035302, 0.2887621, 0.3035302, 0.9997180, 0.3700784, 0.2887621, 0.3700784, 1.0000547</td></tr>\n",
       "\t<tr><td>geneTpmResidualsAgeGenderAdj_rename.ENSG00000073921</td><td>m_ENSG00000073921</td><td>1.0136248, 0.2708387, 0.2034836, 0.2708387, 1.0071124, 0.3130095, 0.2034836, 0.3130095, 0.9973486</td></tr>\n",
       "\t<tr><td>geneTpmResidualsAgeGenderAdj_rename.ENSG00000078487</td><td>m_ENSG00000078487</td><td>1.0010886, 0.1836792, 0.1560341, 0.1836792, 0.9966278, 0.1922251, 0.1560341, 0.1922251, 0.9979796</td></tr>\n",
       "\t<tr><td>geneTpmResidualsAgeGenderAdj_rename.ENSG00000087589</td><td>m_ENSG00000087589</td><td>1.0172550, 0.5727101, 0.5534032, 0.5727101, 1.0067327, 0.5728316, 0.5534032, 0.5728316, 0.9988442</td></tr>\n",
       "\t<tr><td>geneTpmResidualsAgeGenderAdj_rename.ENSG00000103510</td><td>m_ENSG00000103510</td><td>1.0023872, 0.4228648, 0.4258987, 0.4228648, 0.9966705, 0.4160152, 0.4258987, 0.4160152, 1.0005414</td></tr>\n",
       "\t<tr><td>geneTpmResidualsAgeGenderAdj_rename.ENSG00000105383</td><td>m_ENSG00000105383</td><td>1.0063238, 0.3758449, 0.3223027, 0.3758449, 1.0306425, 0.4895607, 0.3223027, 0.4895607, 1.0081889</td></tr>\n",
       "\t<tr><td>geneTpmResidualsAgeGenderAdj_rename.ENSG00000108798</td><td>m_ENSG00000108798</td><td>1.0190706, 0.6578642, 0.5432847, 0.6578642, 0.9970644, 0.6012055, 0.5432847, 0.6012055, 0.9961410</td></tr>\n",
       "\t<tr><td>geneTpmResidualsAgeGenderAdj_rename.ENSG00000110077</td><td>m_ENSG00000110077</td><td>0.9852084, 0.5498539, 0.5483739, 0.5498539, 0.9982157, 0.6771241, 0.5483739, 0.6771241, 0.9958286</td></tr>\n",
       "\t<tr><td>geneTpmResidualsAgeGenderAdj_rename.ENSG00000120885</td><td>m_ENSG00000120885</td><td>0.9995744, 0.2953208, 0.2757486, 0.2953208, 1.0139433, 0.5014478, 0.2757486, 0.5014478, 1.0021781</td></tr>\n",
       "\t<tr><td>geneTpmResidualsAgeGenderAdj_rename.ENSG00000120899</td><td>m_ENSG00000120899</td><td>1.0074828, 0.2617788, 0.2089852, 0.2617788, 1.0311427, 0.4790458, 0.2089852, 0.4790458, 0.9998963</td></tr>\n",
       "\t<tr><td>geneTpmResidualsAgeGenderAdj_rename.ENSG00000130203</td><td>m_ENSG00000130203</td><td>1.0190260, 0.2837507, 0.4104706, 0.2837507, 1.0432362, 0.6261340, 0.4104706, 0.6261340, 1.0014596</td></tr>\n",
       "\t<tr><td>geneTpmResidualsAgeGenderAdj_rename.ENSG00000134463</td><td>m_ENSG00000134463</td><td>1.0779153, 0.5856612, 0.6325791, 0.5856612, 1.0439140, 0.5705120, 0.6325791, 0.5705120, 1.0000807</td></tr>\n",
       "\t<tr><td>geneTpmResidualsAgeGenderAdj_rename.ENSG00000136717</td><td>m_ENSG00000136717</td><td>1.0563059, 0.4518634, 0.3755891, 0.4518634, 1.0446072, 0.4900065, 0.3755891, 0.4900065, 0.9968255</td></tr>\n",
       "\t<tr><td>geneTpmResidualsAgeGenderAdj_rename.ENSG00000137642</td><td>m_ENSG00000137642</td><td>1.00071156, 0.09802148, 0.12825238, 0.09802148, 1.02422585, 0.47169667, 0.12825238, 0.47169667, 0.99844312</td></tr>\n",
       "\t<tr><td>geneTpmResidualsAgeGenderAdj_rename.ENSG00000137845</td><td>m_ENSG00000137845</td><td>0.99888324, 0.11450316, 0.05603665, 0.11450316, 0.98981517, 0.16633959, 0.05603665, 0.16633959, 0.99870321</td></tr>\n",
       "\t<tr><td>geneTpmResidualsAgeGenderAdj_rename.ENSG00000138613</td><td>m_ENSG00000138613</td><td>1.0205252, 0.4743676, 0.4213086, 0.4743676, 1.0191328, 0.5466011, 0.4213086, 0.5466011, 1.0046558</td></tr>\n",
       "\t<tr><td>geneTpmResidualsAgeGenderAdj_rename.ENSG00000140090</td><td>m_ENSG00000140090</td><td>0.99951308, 0.09614379, 0.16226162, 0.09614379, 0.99780468, 0.30083664, 0.16226162, 0.30083664, 0.99795510</td></tr>\n",
       "\t<tr><td>geneTpmResidualsAgeGenderAdj_rename.ENSG00000158859</td><td>m_ENSG00000158859</td><td>1.0011912, 0.5314253, 0.5500193, 0.5314253, 1.0029398, 0.6291385, 0.5500193, 0.6291385, 0.9963199</td></tr>\n",
       "\t<tr><td>geneTpmResidualsAgeGenderAdj_rename.ENSG00000161929</td><td>m_ENSG00000161929</td><td>0.9976018, 0.4141614, 0.3310253, 0.4141614, 0.9882509, 0.3369001, 0.3310253, 0.3369001, 0.9952139</td></tr>\n",
       "\t<tr><td>geneTpmResidualsAgeGenderAdj_rename.ENSG00000168918</td><td>m_ENSG00000168918</td><td>1.0234619, 0.5097104, 0.4229864, 0.5097104, 1.0334591, 0.5715744, 0.4229864, 0.5715744, 1.0025071</td></tr>\n",
       "\t<tr><td>geneTpmResidualsAgeGenderAdj_rename.ENSG00000196126</td><td>m_ENSG00000196126</td><td>0.9960605, 0.8424066, 0.7692669, 0.8424066, 0.9904306, 0.8494164, 0.7692669, 0.8494164, 1.0026875</td></tr>\n",
       "\t<tr><td>geneTpmResidualsAgeGenderAdj_rename.ENSG00000198087</td><td>m_ENSG00000198087</td><td>1.0046845, 0.1966941, 0.2602888, 0.1966941, 0.9960515, 0.2984314, 0.2602888, 0.2984314, 0.9957411</td></tr>\n",
       "\t<tr><td>geneTpmResidualsAgeGenderAdj_rename.ENSG00000203710</td><td>m_ENSG00000203710</td><td>1.0013997, 0.5704953, 0.3140488, 0.5704953, 1.0081887, 0.3682478, 0.3140488, 0.3682478, 0.9970217</td></tr>\n",
       "\t<tr><td>geneTpmResidualsAgeGenderAdj_rename.ENSG00000264538</td><td>m_ENSG00000264538</td><td>1.0045534, 0.4788876, 0.5667808, 0.4788876, 0.9549608, 0.6210456, 0.5667808, 0.6210456, 1.0260138</td></tr>\n",
       "\t<tr><td>geneTpmResidualsAgeGenderAdj_rename.ENSG00000265148</td><td>m_ENSG00000265148</td><td>1.0142762, 0.3075426, 0.3512626, 0.3075426, 1.0165408, 0.3926954, 0.3512626, 0.3926954, 1.0062380</td></tr>\n",
       "</tbody>\n",
       "</table>\n"
      ],
      "text/latex": [
       "A tibble: 26 x 3\n",
       "\\begin{tabular}{lll}\n",
       " X2 & gene\\_id & V\\\\\n",
       " <chr> & <chr> & <list>\\\\\n",
       "\\hline\n",
       "\t geneTpmResidualsAgeGenderAdj\\_rename.ENSG00000002587 & m\\_ENSG00000002587 & 0.99916875, 0.02987007, 0.10888697, 0.02987007, 0.99770581, 0.13927648, 0.10888697, 0.13927648, 0.99687364\\\\\n",
       "\t geneTpmResidualsAgeGenderAdj\\_rename.ENSG00000064687 & m\\_ENSG00000064687 & 1.0066663, 0.3035302, 0.2887621, 0.3035302, 0.9997180, 0.3700784, 0.2887621, 0.3700784, 1.0000547\\\\\n",
       "\t geneTpmResidualsAgeGenderAdj\\_rename.ENSG00000073921 & m\\_ENSG00000073921 & 1.0136248, 0.2708387, 0.2034836, 0.2708387, 1.0071124, 0.3130095, 0.2034836, 0.3130095, 0.9973486\\\\\n",
       "\t geneTpmResidualsAgeGenderAdj\\_rename.ENSG00000078487 & m\\_ENSG00000078487 & 1.0010886, 0.1836792, 0.1560341, 0.1836792, 0.9966278, 0.1922251, 0.1560341, 0.1922251, 0.9979796\\\\\n",
       "\t geneTpmResidualsAgeGenderAdj\\_rename.ENSG00000087589 & m\\_ENSG00000087589 & 1.0172550, 0.5727101, 0.5534032, 0.5727101, 1.0067327, 0.5728316, 0.5534032, 0.5728316, 0.9988442\\\\\n",
       "\t geneTpmResidualsAgeGenderAdj\\_rename.ENSG00000103510 & m\\_ENSG00000103510 & 1.0023872, 0.4228648, 0.4258987, 0.4228648, 0.9966705, 0.4160152, 0.4258987, 0.4160152, 1.0005414\\\\\n",
       "\t geneTpmResidualsAgeGenderAdj\\_rename.ENSG00000105383 & m\\_ENSG00000105383 & 1.0063238, 0.3758449, 0.3223027, 0.3758449, 1.0306425, 0.4895607, 0.3223027, 0.4895607, 1.0081889\\\\\n",
       "\t geneTpmResidualsAgeGenderAdj\\_rename.ENSG00000108798 & m\\_ENSG00000108798 & 1.0190706, 0.6578642, 0.5432847, 0.6578642, 0.9970644, 0.6012055, 0.5432847, 0.6012055, 0.9961410\\\\\n",
       "\t geneTpmResidualsAgeGenderAdj\\_rename.ENSG00000110077 & m\\_ENSG00000110077 & 0.9852084, 0.5498539, 0.5483739, 0.5498539, 0.9982157, 0.6771241, 0.5483739, 0.6771241, 0.9958286\\\\\n",
       "\t geneTpmResidualsAgeGenderAdj\\_rename.ENSG00000120885 & m\\_ENSG00000120885 & 0.9995744, 0.2953208, 0.2757486, 0.2953208, 1.0139433, 0.5014478, 0.2757486, 0.5014478, 1.0021781\\\\\n",
       "\t geneTpmResidualsAgeGenderAdj\\_rename.ENSG00000120899 & m\\_ENSG00000120899 & 1.0074828, 0.2617788, 0.2089852, 0.2617788, 1.0311427, 0.4790458, 0.2089852, 0.4790458, 0.9998963\\\\\n",
       "\t geneTpmResidualsAgeGenderAdj\\_rename.ENSG00000130203 & m\\_ENSG00000130203 & 1.0190260, 0.2837507, 0.4104706, 0.2837507, 1.0432362, 0.6261340, 0.4104706, 0.6261340, 1.0014596\\\\\n",
       "\t geneTpmResidualsAgeGenderAdj\\_rename.ENSG00000134463 & m\\_ENSG00000134463 & 1.0779153, 0.5856612, 0.6325791, 0.5856612, 1.0439140, 0.5705120, 0.6325791, 0.5705120, 1.0000807\\\\\n",
       "\t geneTpmResidualsAgeGenderAdj\\_rename.ENSG00000136717 & m\\_ENSG00000136717 & 1.0563059, 0.4518634, 0.3755891, 0.4518634, 1.0446072, 0.4900065, 0.3755891, 0.4900065, 0.9968255\\\\\n",
       "\t geneTpmResidualsAgeGenderAdj\\_rename.ENSG00000137642 & m\\_ENSG00000137642 & 1.00071156, 0.09802148, 0.12825238, 0.09802148, 1.02422585, 0.47169667, 0.12825238, 0.47169667, 0.99844312\\\\\n",
       "\t geneTpmResidualsAgeGenderAdj\\_rename.ENSG00000137845 & m\\_ENSG00000137845 & 0.99888324, 0.11450316, 0.05603665, 0.11450316, 0.98981517, 0.16633959, 0.05603665, 0.16633959, 0.99870321\\\\\n",
       "\t geneTpmResidualsAgeGenderAdj\\_rename.ENSG00000138613 & m\\_ENSG00000138613 & 1.0205252, 0.4743676, 0.4213086, 0.4743676, 1.0191328, 0.5466011, 0.4213086, 0.5466011, 1.0046558\\\\\n",
       "\t geneTpmResidualsAgeGenderAdj\\_rename.ENSG00000140090 & m\\_ENSG00000140090 & 0.99951308, 0.09614379, 0.16226162, 0.09614379, 0.99780468, 0.30083664, 0.16226162, 0.30083664, 0.99795510\\\\\n",
       "\t geneTpmResidualsAgeGenderAdj\\_rename.ENSG00000158859 & m\\_ENSG00000158859 & 1.0011912, 0.5314253, 0.5500193, 0.5314253, 1.0029398, 0.6291385, 0.5500193, 0.6291385, 0.9963199\\\\\n",
       "\t geneTpmResidualsAgeGenderAdj\\_rename.ENSG00000161929 & m\\_ENSG00000161929 & 0.9976018, 0.4141614, 0.3310253, 0.4141614, 0.9882509, 0.3369001, 0.3310253, 0.3369001, 0.9952139\\\\\n",
       "\t geneTpmResidualsAgeGenderAdj\\_rename.ENSG00000168918 & m\\_ENSG00000168918 & 1.0234619, 0.5097104, 0.4229864, 0.5097104, 1.0334591, 0.5715744, 0.4229864, 0.5715744, 1.0025071\\\\\n",
       "\t geneTpmResidualsAgeGenderAdj\\_rename.ENSG00000196126 & m\\_ENSG00000196126 & 0.9960605, 0.8424066, 0.7692669, 0.8424066, 0.9904306, 0.8494164, 0.7692669, 0.8494164, 1.0026875\\\\\n",
       "\t geneTpmResidualsAgeGenderAdj\\_rename.ENSG00000198087 & m\\_ENSG00000198087 & 1.0046845, 0.1966941, 0.2602888, 0.1966941, 0.9960515, 0.2984314, 0.2602888, 0.2984314, 0.9957411\\\\\n",
       "\t geneTpmResidualsAgeGenderAdj\\_rename.ENSG00000203710 & m\\_ENSG00000203710 & 1.0013997, 0.5704953, 0.3140488, 0.5704953, 1.0081887, 0.3682478, 0.3140488, 0.3682478, 0.9970217\\\\\n",
       "\t geneTpmResidualsAgeGenderAdj\\_rename.ENSG00000264538 & m\\_ENSG00000264538 & 1.0045534, 0.4788876, 0.5667808, 0.4788876, 0.9549608, 0.6210456, 0.5667808, 0.6210456, 1.0260138\\\\\n",
       "\t geneTpmResidualsAgeGenderAdj\\_rename.ENSG00000265148 & m\\_ENSG00000265148 & 1.0142762, 0.3075426, 0.3512626, 0.3075426, 1.0165408, 0.3926954, 0.3512626, 0.3926954, 1.0062380\\\\\n",
       "\\end{tabular}\n"
      ],
      "text/markdown": [
       "\n",
       "A tibble: 26 x 3\n",
       "\n",
       "| X2 &lt;chr&gt; | gene_id &lt;chr&gt; | V &lt;list&gt; |\n",
       "|---|---|---|\n",
       "| geneTpmResidualsAgeGenderAdj_rename.ENSG00000002587 | m_ENSG00000002587 | 0.99916875, 0.02987007, 0.10888697, 0.02987007, 0.99770581, 0.13927648, 0.10888697, 0.13927648, 0.99687364 |\n",
       "| geneTpmResidualsAgeGenderAdj_rename.ENSG00000064687 | m_ENSG00000064687 | 1.0066663, 0.3035302, 0.2887621, 0.3035302, 0.9997180, 0.3700784, 0.2887621, 0.3700784, 1.0000547 |\n",
       "| geneTpmResidualsAgeGenderAdj_rename.ENSG00000073921 | m_ENSG00000073921 | 1.0136248, 0.2708387, 0.2034836, 0.2708387, 1.0071124, 0.3130095, 0.2034836, 0.3130095, 0.9973486 |\n",
       "| geneTpmResidualsAgeGenderAdj_rename.ENSG00000078487 | m_ENSG00000078487 | 1.0010886, 0.1836792, 0.1560341, 0.1836792, 0.9966278, 0.1922251, 0.1560341, 0.1922251, 0.9979796 |\n",
       "| geneTpmResidualsAgeGenderAdj_rename.ENSG00000087589 | m_ENSG00000087589 | 1.0172550, 0.5727101, 0.5534032, 0.5727101, 1.0067327, 0.5728316, 0.5534032, 0.5728316, 0.9988442 |\n",
       "| geneTpmResidualsAgeGenderAdj_rename.ENSG00000103510 | m_ENSG00000103510 | 1.0023872, 0.4228648, 0.4258987, 0.4228648, 0.9966705, 0.4160152, 0.4258987, 0.4160152, 1.0005414 |\n",
       "| geneTpmResidualsAgeGenderAdj_rename.ENSG00000105383 | m_ENSG00000105383 | 1.0063238, 0.3758449, 0.3223027, 0.3758449, 1.0306425, 0.4895607, 0.3223027, 0.4895607, 1.0081889 |\n",
       "| geneTpmResidualsAgeGenderAdj_rename.ENSG00000108798 | m_ENSG00000108798 | 1.0190706, 0.6578642, 0.5432847, 0.6578642, 0.9970644, 0.6012055, 0.5432847, 0.6012055, 0.9961410 |\n",
       "| geneTpmResidualsAgeGenderAdj_rename.ENSG00000110077 | m_ENSG00000110077 | 0.9852084, 0.5498539, 0.5483739, 0.5498539, 0.9982157, 0.6771241, 0.5483739, 0.6771241, 0.9958286 |\n",
       "| geneTpmResidualsAgeGenderAdj_rename.ENSG00000120885 | m_ENSG00000120885 | 0.9995744, 0.2953208, 0.2757486, 0.2953208, 1.0139433, 0.5014478, 0.2757486, 0.5014478, 1.0021781 |\n",
       "| geneTpmResidualsAgeGenderAdj_rename.ENSG00000120899 | m_ENSG00000120899 | 1.0074828, 0.2617788, 0.2089852, 0.2617788, 1.0311427, 0.4790458, 0.2089852, 0.4790458, 0.9998963 |\n",
       "| geneTpmResidualsAgeGenderAdj_rename.ENSG00000130203 | m_ENSG00000130203 | 1.0190260, 0.2837507, 0.4104706, 0.2837507, 1.0432362, 0.6261340, 0.4104706, 0.6261340, 1.0014596 |\n",
       "| geneTpmResidualsAgeGenderAdj_rename.ENSG00000134463 | m_ENSG00000134463 | 1.0779153, 0.5856612, 0.6325791, 0.5856612, 1.0439140, 0.5705120, 0.6325791, 0.5705120, 1.0000807 |\n",
       "| geneTpmResidualsAgeGenderAdj_rename.ENSG00000136717 | m_ENSG00000136717 | 1.0563059, 0.4518634, 0.3755891, 0.4518634, 1.0446072, 0.4900065, 0.3755891, 0.4900065, 0.9968255 |\n",
       "| geneTpmResidualsAgeGenderAdj_rename.ENSG00000137642 | m_ENSG00000137642 | 1.00071156, 0.09802148, 0.12825238, 0.09802148, 1.02422585, 0.47169667, 0.12825238, 0.47169667, 0.99844312 |\n",
       "| geneTpmResidualsAgeGenderAdj_rename.ENSG00000137845 | m_ENSG00000137845 | 0.99888324, 0.11450316, 0.05603665, 0.11450316, 0.98981517, 0.16633959, 0.05603665, 0.16633959, 0.99870321 |\n",
       "| geneTpmResidualsAgeGenderAdj_rename.ENSG00000138613 | m_ENSG00000138613 | 1.0205252, 0.4743676, 0.4213086, 0.4743676, 1.0191328, 0.5466011, 0.4213086, 0.5466011, 1.0046558 |\n",
       "| geneTpmResidualsAgeGenderAdj_rename.ENSG00000140090 | m_ENSG00000140090 | 0.99951308, 0.09614379, 0.16226162, 0.09614379, 0.99780468, 0.30083664, 0.16226162, 0.30083664, 0.99795510 |\n",
       "| geneTpmResidualsAgeGenderAdj_rename.ENSG00000158859 | m_ENSG00000158859 | 1.0011912, 0.5314253, 0.5500193, 0.5314253, 1.0029398, 0.6291385, 0.5500193, 0.6291385, 0.9963199 |\n",
       "| geneTpmResidualsAgeGenderAdj_rename.ENSG00000161929 | m_ENSG00000161929 | 0.9976018, 0.4141614, 0.3310253, 0.4141614, 0.9882509, 0.3369001, 0.3310253, 0.3369001, 0.9952139 |\n",
       "| geneTpmResidualsAgeGenderAdj_rename.ENSG00000168918 | m_ENSG00000168918 | 1.0234619, 0.5097104, 0.4229864, 0.5097104, 1.0334591, 0.5715744, 0.4229864, 0.5715744, 1.0025071 |\n",
       "| geneTpmResidualsAgeGenderAdj_rename.ENSG00000196126 | m_ENSG00000196126 | 0.9960605, 0.8424066, 0.7692669, 0.8424066, 0.9904306, 0.8494164, 0.7692669, 0.8494164, 1.0026875 |\n",
       "| geneTpmResidualsAgeGenderAdj_rename.ENSG00000198087 | m_ENSG00000198087 | 1.0046845, 0.1966941, 0.2602888, 0.1966941, 0.9960515, 0.2984314, 0.2602888, 0.2984314, 0.9957411 |\n",
       "| geneTpmResidualsAgeGenderAdj_rename.ENSG00000203710 | m_ENSG00000203710 | 1.0013997, 0.5704953, 0.3140488, 0.5704953, 1.0081887, 0.3682478, 0.3140488, 0.3682478, 0.9970217 |\n",
       "| geneTpmResidualsAgeGenderAdj_rename.ENSG00000264538 | m_ENSG00000264538 | 1.0045534, 0.4788876, 0.5667808, 0.4788876, 0.9549608, 0.6210456, 0.5667808, 0.6210456, 1.0260138 |\n",
       "| geneTpmResidualsAgeGenderAdj_rename.ENSG00000265148 | m_ENSG00000265148 | 1.0142762, 0.3075426, 0.3512626, 0.3075426, 1.0165408, 0.3926954, 0.3512626, 0.3926954, 1.0062380 |\n",
       "\n"
      ],
      "text/plain": [
       "   X2                                                  gene_id          \n",
       "1  geneTpmResidualsAgeGenderAdj_rename.ENSG00000002587 m_ENSG00000002587\n",
       "2  geneTpmResidualsAgeGenderAdj_rename.ENSG00000064687 m_ENSG00000064687\n",
       "3  geneTpmResidualsAgeGenderAdj_rename.ENSG00000073921 m_ENSG00000073921\n",
       "4  geneTpmResidualsAgeGenderAdj_rename.ENSG00000078487 m_ENSG00000078487\n",
       "5  geneTpmResidualsAgeGenderAdj_rename.ENSG00000087589 m_ENSG00000087589\n",
       "6  geneTpmResidualsAgeGenderAdj_rename.ENSG00000103510 m_ENSG00000103510\n",
       "7  geneTpmResidualsAgeGenderAdj_rename.ENSG00000105383 m_ENSG00000105383\n",
       "8  geneTpmResidualsAgeGenderAdj_rename.ENSG00000108798 m_ENSG00000108798\n",
       "9  geneTpmResidualsAgeGenderAdj_rename.ENSG00000110077 m_ENSG00000110077\n",
       "10 geneTpmResidualsAgeGenderAdj_rename.ENSG00000120885 m_ENSG00000120885\n",
       "11 geneTpmResidualsAgeGenderAdj_rename.ENSG00000120899 m_ENSG00000120899\n",
       "12 geneTpmResidualsAgeGenderAdj_rename.ENSG00000130203 m_ENSG00000130203\n",
       "13 geneTpmResidualsAgeGenderAdj_rename.ENSG00000134463 m_ENSG00000134463\n",
       "14 geneTpmResidualsAgeGenderAdj_rename.ENSG00000136717 m_ENSG00000136717\n",
       "15 geneTpmResidualsAgeGenderAdj_rename.ENSG00000137642 m_ENSG00000137642\n",
       "16 geneTpmResidualsAgeGenderAdj_rename.ENSG00000137845 m_ENSG00000137845\n",
       "17 geneTpmResidualsAgeGenderAdj_rename.ENSG00000138613 m_ENSG00000138613\n",
       "18 geneTpmResidualsAgeGenderAdj_rename.ENSG00000140090 m_ENSG00000140090\n",
       "19 geneTpmResidualsAgeGenderAdj_rename.ENSG00000158859 m_ENSG00000158859\n",
       "20 geneTpmResidualsAgeGenderAdj_rename.ENSG00000161929 m_ENSG00000161929\n",
       "21 geneTpmResidualsAgeGenderAdj_rename.ENSG00000168918 m_ENSG00000168918\n",
       "22 geneTpmResidualsAgeGenderAdj_rename.ENSG00000196126 m_ENSG00000196126\n",
       "23 geneTpmResidualsAgeGenderAdj_rename.ENSG00000198087 m_ENSG00000198087\n",
       "24 geneTpmResidualsAgeGenderAdj_rename.ENSG00000203710 m_ENSG00000203710\n",
       "25 geneTpmResidualsAgeGenderAdj_rename.ENSG00000264538 m_ENSG00000264538\n",
       "26 geneTpmResidualsAgeGenderAdj_rename.ENSG00000265148 m_ENSG00000265148\n",
       "   V                                                                                                         \n",
       "1  0.99916875, 0.02987007, 0.10888697, 0.02987007, 0.99770581, 0.13927648, 0.10888697, 0.13927648, 0.99687364\n",
       "2  1.0066663, 0.3035302, 0.2887621, 0.3035302, 0.9997180, 0.3700784, 0.2887621, 0.3700784, 1.0000547         \n",
       "3  1.0136248, 0.2708387, 0.2034836, 0.2708387, 1.0071124, 0.3130095, 0.2034836, 0.3130095, 0.9973486         \n",
       "4  1.0010886, 0.1836792, 0.1560341, 0.1836792, 0.9966278, 0.1922251, 0.1560341, 0.1922251, 0.9979796         \n",
       "5  1.0172550, 0.5727101, 0.5534032, 0.5727101, 1.0067327, 0.5728316, 0.5534032, 0.5728316, 0.9988442         \n",
       "6  1.0023872, 0.4228648, 0.4258987, 0.4228648, 0.9966705, 0.4160152, 0.4258987, 0.4160152, 1.0005414         \n",
       "7  1.0063238, 0.3758449, 0.3223027, 0.3758449, 1.0306425, 0.4895607, 0.3223027, 0.4895607, 1.0081889         \n",
       "8  1.0190706, 0.6578642, 0.5432847, 0.6578642, 0.9970644, 0.6012055, 0.5432847, 0.6012055, 0.9961410         \n",
       "9  0.9852084, 0.5498539, 0.5483739, 0.5498539, 0.9982157, 0.6771241, 0.5483739, 0.6771241, 0.9958286         \n",
       "10 0.9995744, 0.2953208, 0.2757486, 0.2953208, 1.0139433, 0.5014478, 0.2757486, 0.5014478, 1.0021781         \n",
       "11 1.0074828, 0.2617788, 0.2089852, 0.2617788, 1.0311427, 0.4790458, 0.2089852, 0.4790458, 0.9998963         \n",
       "12 1.0190260, 0.2837507, 0.4104706, 0.2837507, 1.0432362, 0.6261340, 0.4104706, 0.6261340, 1.0014596         \n",
       "13 1.0779153, 0.5856612, 0.6325791, 0.5856612, 1.0439140, 0.5705120, 0.6325791, 0.5705120, 1.0000807         \n",
       "14 1.0563059, 0.4518634, 0.3755891, 0.4518634, 1.0446072, 0.4900065, 0.3755891, 0.4900065, 0.9968255         \n",
       "15 1.00071156, 0.09802148, 0.12825238, 0.09802148, 1.02422585, 0.47169667, 0.12825238, 0.47169667, 0.99844312\n",
       "16 0.99888324, 0.11450316, 0.05603665, 0.11450316, 0.98981517, 0.16633959, 0.05603665, 0.16633959, 0.99870321\n",
       "17 1.0205252, 0.4743676, 0.4213086, 0.4743676, 1.0191328, 0.5466011, 0.4213086, 0.5466011, 1.0046558         \n",
       "18 0.99951308, 0.09614379, 0.16226162, 0.09614379, 0.99780468, 0.30083664, 0.16226162, 0.30083664, 0.99795510\n",
       "19 1.0011912, 0.5314253, 0.5500193, 0.5314253, 1.0029398, 0.6291385, 0.5500193, 0.6291385, 0.9963199         \n",
       "20 0.9976018, 0.4141614, 0.3310253, 0.4141614, 0.9882509, 0.3369001, 0.3310253, 0.3369001, 0.9952139         \n",
       "21 1.0234619, 0.5097104, 0.4229864, 0.5097104, 1.0334591, 0.5715744, 0.4229864, 0.5715744, 1.0025071         \n",
       "22 0.9960605, 0.8424066, 0.7692669, 0.8424066, 0.9904306, 0.8494164, 0.7692669, 0.8494164, 1.0026875         \n",
       "23 1.0046845, 0.1966941, 0.2602888, 0.1966941, 0.9960515, 0.2984314, 0.2602888, 0.2984314, 0.9957411         \n",
       "24 1.0013997, 0.5704953, 0.3140488, 0.5704953, 1.0081887, 0.3682478, 0.3140488, 0.3682478, 0.9970217         \n",
       "25 1.0045534, 0.4788876, 0.5667808, 0.4788876, 0.9549608, 0.6210456, 0.5667808, 0.6210456, 1.0260138         \n",
       "26 1.0142762, 0.3075426, 0.3512626, 0.3075426, 1.0165408, 0.3926954, 0.3512626, 0.3926954, 1.0062380         "
      ]
     },
     "metadata": {},
     "output_type": "display_data"
    }
   ],
   "source": [
    "V"
   ]
  },
  {
   "cell_type": "code",
   "execution_count": 34,
   "id": "1a844f60-8e8f-42bc-90a2-fc649008ea1e",
   "metadata": {},
   "outputs": [],
   "source": [
    "V%>%filter(cs > 0)%>%pull(gene_id)-> cs_gene_2"
   ]
  },
  {
   "cell_type": "code",
   "execution_count": 176,
   "id": "27512d9a-887f-4d8b-94c3-279a09740f34",
   "metadata": {},
   "outputs": [
    {
     "data": {
      "text/html": [
       "<table class=\"dataframe\">\n",
       "<caption>A matrix: 4 x 4 of type dbl</caption>\n",
       "<tbody>\n",
       "\t<tr><td>0.99916875</td><td>0.02987007</td><td>0.1088870</td><td>0</td></tr>\n",
       "\t<tr><td>0.02987007</td><td>0.99770581</td><td>0.1392765</td><td>0</td></tr>\n",
       "\t<tr><td>0.10888697</td><td>0.13927648</td><td>0.9968736</td><td>0</td></tr>\n",
       "\t<tr><td>0.00000000</td><td>0.00000000</td><td>0.0000000</td><td>1</td></tr>\n",
       "</tbody>\n",
       "</table>\n"
      ],
      "text/latex": [
       "A matrix: 4 x 4 of type dbl\n",
       "\\begin{tabular}{llll}\n",
       "\t 0.99916875 & 0.02987007 & 0.1088870 & 0\\\\\n",
       "\t 0.02987007 & 0.99770581 & 0.1392765 & 0\\\\\n",
       "\t 0.10888697 & 0.13927648 & 0.9968736 & 0\\\\\n",
       "\t 0.00000000 & 0.00000000 & 0.0000000 & 1\\\\\n",
       "\\end{tabular}\n"
      ],
      "text/markdown": [
       "\n",
       "A matrix: 4 x 4 of type dbl\n",
       "\n",
       "| 0.99916875 | 0.02987007 | 0.1088870 | 0 |\n",
       "| 0.02987007 | 0.99770581 | 0.1392765 | 0 |\n",
       "| 0.10888697 | 0.13927648 | 0.9968736 | 0 |\n",
       "| 0.00000000 | 0.00000000 | 0.0000000 | 1 |\n",
       "\n"
      ],
      "text/plain": [
       "     [,1]       [,2]       [,3]      [,4]\n",
       "[1,] 0.99916875 0.02987007 0.1088870 0   \n",
       "[2,] 0.02987007 0.99770581 0.1392765 0   \n",
       "[3,] 0.10888697 0.13927648 0.9968736 0   \n",
       "[4,] 0.00000000 0.00000000 0.0000000 1   "
      ]
     },
     "metadata": {},
     "output_type": "display_data"
    }
   ],
   "source": [
    "cbind(V$V[[1]],c(0,0,0))%>%rbind(c(0,0,0,1))"
   ]
  },
  {
   "cell_type": "code",
   "execution_count": 178,
   "id": "a539f8ed-302e-4d88-8336-12142a3e761d",
   "metadata": {},
   "outputs": [
    {
     "data": {
      "text/html": [
       "<table class=\"dataframe\">\n",
       "<caption>A tibble: 26 x 5</caption>\n",
       "<thead>\n",
       "\t<tr><th scope=col>X2</th><th scope=col>gene_id</th><th scope=col>V</th><th scope=col>V4</th><th scope=col>save</th></tr>\n",
       "\t<tr><th scope=col>&lt;chr&gt;</th><th scope=col>&lt;chr&gt;</th><th scope=col>&lt;list&gt;</th><th scope=col>&lt;list&gt;</th><th scope=col>&lt;list&gt;</th></tr>\n",
       "</thead>\n",
       "<tbody>\n",
       "\t<tr><td>geneTpmResidualsAgeGenderAdj_rename.ENSG00000002587</td><td>m_ENSG00000002587</td><td>0.99916875, 0.02987007, 0.10888697, 0.02987007, 0.99770581, 0.13927648, 0.10888697, 0.13927648, 0.99687364</td><td>0.99916875, 0.02987007, 0.10888697, 0.00000000, 0.02987007, 0.99770581, 0.13927648, 0.00000000, 0.10888697, 0.13927648, 0.99687364, 0.00000000, 0.00000000, 0.00000000, 0.00000000, 1.00000000</td><td>NULL</td></tr>\n",
       "\t<tr><td>geneTpmResidualsAgeGenderAdj_rename.ENSG00000064687</td><td>m_ENSG00000064687</td><td>1.0066663, 0.3035302, 0.2887621, 0.3035302, 0.9997180, 0.3700784, 0.2887621, 0.3700784, 1.0000547</td><td>1.0066663, 0.3035302, 0.2887621, 0.0000000, 0.3035302, 0.9997180, 0.3700784, 0.0000000, 0.2887621, 0.3700784, 1.0000547, 0.0000000, 0.0000000, 0.0000000, 0.0000000, 1.0000000</td><td>NULL</td></tr>\n",
       "\t<tr><td>geneTpmResidualsAgeGenderAdj_rename.ENSG00000073921</td><td>m_ENSG00000073921</td><td>1.0136248, 0.2708387, 0.2034836, 0.2708387, 1.0071124, 0.3130095, 0.2034836, 0.3130095, 0.9973486</td><td>1.0136248, 0.2708387, 0.2034836, 0.0000000, 0.2708387, 1.0071124, 0.3130095, 0.0000000, 0.2034836, 0.3130095, 0.9973486, 0.0000000, 0.0000000, 0.0000000, 0.0000000, 1.0000000</td><td>NULL</td></tr>\n",
       "\t<tr><td>geneTpmResidualsAgeGenderAdj_rename.ENSG00000078487</td><td>m_ENSG00000078487</td><td>1.0010886, 0.1836792, 0.1560341, 0.1836792, 0.9966278, 0.1922251, 0.1560341, 0.1922251, 0.9979796</td><td>1.0010886, 0.1836792, 0.1560341, 0.0000000, 0.1836792, 0.9966278, 0.1922251, 0.0000000, 0.1560341, 0.1922251, 0.9979796, 0.0000000, 0.0000000, 0.0000000, 0.0000000, 1.0000000</td><td>NULL</td></tr>\n",
       "\t<tr><td>geneTpmResidualsAgeGenderAdj_rename.ENSG00000087589</td><td>m_ENSG00000087589</td><td>1.0172550, 0.5727101, 0.5534032, 0.5727101, 1.0067327, 0.5728316, 0.5534032, 0.5728316, 0.9988442</td><td>1.0172550, 0.5727101, 0.5534032, 0.0000000, 0.5727101, 1.0067327, 0.5728316, 0.0000000, 0.5534032, 0.5728316, 0.9988442, 0.0000000, 0.0000000, 0.0000000, 0.0000000, 1.0000000</td><td>NULL</td></tr>\n",
       "\t<tr><td>geneTpmResidualsAgeGenderAdj_rename.ENSG00000103510</td><td>m_ENSG00000103510</td><td>1.0023872, 0.4228648, 0.4258987, 0.4228648, 0.9966705, 0.4160152, 0.4258987, 0.4160152, 1.0005414</td><td>1.0023872, 0.4228648, 0.4258987, 0.0000000, 0.4228648, 0.9966705, 0.4160152, 0.0000000, 0.4258987, 0.4160152, 1.0005414, 0.0000000, 0.0000000, 0.0000000, 0.0000000, 1.0000000</td><td>NULL</td></tr>\n",
       "\t<tr><td>geneTpmResidualsAgeGenderAdj_rename.ENSG00000105383</td><td>m_ENSG00000105383</td><td>1.0063238, 0.3758449, 0.3223027, 0.3758449, 1.0306425, 0.4895607, 0.3223027, 0.4895607, 1.0081889</td><td>1.0063238, 0.3758449, 0.3223027, 0.0000000, 0.3758449, 1.0306425, 0.4895607, 0.0000000, 0.3223027, 0.4895607, 1.0081889, 0.0000000, 0.0000000, 0.0000000, 0.0000000, 1.0000000</td><td>NULL</td></tr>\n",
       "\t<tr><td>geneTpmResidualsAgeGenderAdj_rename.ENSG00000108798</td><td>m_ENSG00000108798</td><td>1.0190706, 0.6578642, 0.5432847, 0.6578642, 0.9970644, 0.6012055, 0.5432847, 0.6012055, 0.9961410</td><td>1.0190706, 0.6578642, 0.5432847, 0.0000000, 0.6578642, 0.9970644, 0.6012055, 0.0000000, 0.5432847, 0.6012055, 0.9961410, 0.0000000, 0.0000000, 0.0000000, 0.0000000, 1.0000000</td><td>NULL</td></tr>\n",
       "\t<tr><td>geneTpmResidualsAgeGenderAdj_rename.ENSG00000110077</td><td>m_ENSG00000110077</td><td>0.9852084, 0.5498539, 0.5483739, 0.5498539, 0.9982157, 0.6771241, 0.5483739, 0.6771241, 0.9958286</td><td>0.9852084, 0.5498539, 0.5483739, 0.0000000, 0.5498539, 0.9982157, 0.6771241, 0.0000000, 0.5483739, 0.6771241, 0.9958286, 0.0000000, 0.0000000, 0.0000000, 0.0000000, 1.0000000</td><td>NULL</td></tr>\n",
       "\t<tr><td>geneTpmResidualsAgeGenderAdj_rename.ENSG00000120885</td><td>m_ENSG00000120885</td><td>0.9995744, 0.2953208, 0.2757486, 0.2953208, 1.0139433, 0.5014478, 0.2757486, 0.5014478, 1.0021781</td><td>0.9995744, 0.2953208, 0.2757486, 0.0000000, 0.2953208, 1.0139433, 0.5014478, 0.0000000, 0.2757486, 0.5014478, 1.0021781, 0.0000000, 0.0000000, 0.0000000, 0.0000000, 1.0000000</td><td>NULL</td></tr>\n",
       "\t<tr><td>geneTpmResidualsAgeGenderAdj_rename.ENSG00000120899</td><td>m_ENSG00000120899</td><td>1.0074828, 0.2617788, 0.2089852, 0.2617788, 1.0311427, 0.4790458, 0.2089852, 0.4790458, 0.9998963</td><td>1.0074828, 0.2617788, 0.2089852, 0.0000000, 0.2617788, 1.0311427, 0.4790458, 0.0000000, 0.2089852, 0.4790458, 0.9998963, 0.0000000, 0.0000000, 0.0000000, 0.0000000, 1.0000000</td><td>NULL</td></tr>\n",
       "\t<tr><td>geneTpmResidualsAgeGenderAdj_rename.ENSG00000130203</td><td>m_ENSG00000130203</td><td>1.0190260, 0.2837507, 0.4104706, 0.2837507, 1.0432362, 0.6261340, 0.4104706, 0.6261340, 1.0014596</td><td>1.0190260, 0.2837507, 0.4104706, 0.0000000, 0.2837507, 1.0432362, 0.6261340, 0.0000000, 0.4104706, 0.6261340, 1.0014596, 0.0000000, 0.0000000, 0.0000000, 0.0000000, 1.0000000</td><td>NULL</td></tr>\n",
       "\t<tr><td>geneTpmResidualsAgeGenderAdj_rename.ENSG00000134463</td><td>m_ENSG00000134463</td><td>1.0779153, 0.5856612, 0.6325791, 0.5856612, 1.0439140, 0.5705120, 0.6325791, 0.5705120, 1.0000807</td><td>1.0779153, 0.5856612, 0.6325791, 0.0000000, 0.5856612, 1.0439140, 0.5705120, 0.0000000, 0.6325791, 0.5705120, 1.0000807, 0.0000000, 0.0000000, 0.0000000, 0.0000000, 1.0000000</td><td>NULL</td></tr>\n",
       "\t<tr><td>geneTpmResidualsAgeGenderAdj_rename.ENSG00000136717</td><td>m_ENSG00000136717</td><td>1.0563059, 0.4518634, 0.3755891, 0.4518634, 1.0446072, 0.4900065, 0.3755891, 0.4900065, 0.9968255</td><td>1.0563059, 0.4518634, 0.3755891, 0.0000000, 0.4518634, 1.0446072, 0.4900065, 0.0000000, 0.3755891, 0.4900065, 0.9968255, 0.0000000, 0.0000000, 0.0000000, 0.0000000, 1.0000000</td><td>NULL</td></tr>\n",
       "\t<tr><td>geneTpmResidualsAgeGenderAdj_rename.ENSG00000137642</td><td>m_ENSG00000137642</td><td>1.00071156, 0.09802148, 0.12825238, 0.09802148, 1.02422585, 0.47169667, 0.12825238, 0.47169667, 0.99844312</td><td>1.00071156, 0.09802148, 0.12825238, 0.00000000, 0.09802148, 1.02422585, 0.47169667, 0.00000000, 0.12825238, 0.47169667, 0.99844312, 0.00000000, 0.00000000, 0.00000000, 0.00000000, 1.00000000</td><td>NULL</td></tr>\n",
       "\t<tr><td>geneTpmResidualsAgeGenderAdj_rename.ENSG00000137845</td><td>m_ENSG00000137845</td><td>0.99888324, 0.11450316, 0.05603665, 0.11450316, 0.98981517, 0.16633959, 0.05603665, 0.16633959, 0.99870321</td><td>0.99888324, 0.11450316, 0.05603665, 0.00000000, 0.11450316, 0.98981517, 0.16633959, 0.00000000, 0.05603665, 0.16633959, 0.99870321, 0.00000000, 0.00000000, 0.00000000, 0.00000000, 1.00000000</td><td>NULL</td></tr>\n",
       "\t<tr><td>geneTpmResidualsAgeGenderAdj_rename.ENSG00000138613</td><td>m_ENSG00000138613</td><td>1.0205252, 0.4743676, 0.4213086, 0.4743676, 1.0191328, 0.5466011, 0.4213086, 0.5466011, 1.0046558</td><td>1.0205252, 0.4743676, 0.4213086, 0.0000000, 0.4743676, 1.0191328, 0.5466011, 0.0000000, 0.4213086, 0.5466011, 1.0046558, 0.0000000, 0.0000000, 0.0000000, 0.0000000, 1.0000000</td><td>NULL</td></tr>\n",
       "\t<tr><td>geneTpmResidualsAgeGenderAdj_rename.ENSG00000140090</td><td>m_ENSG00000140090</td><td>0.99951308, 0.09614379, 0.16226162, 0.09614379, 0.99780468, 0.30083664, 0.16226162, 0.30083664, 0.99795510</td><td>0.99951308, 0.09614379, 0.16226162, 0.00000000, 0.09614379, 0.99780468, 0.30083664, 0.00000000, 0.16226162, 0.30083664, 0.99795510, 0.00000000, 0.00000000, 0.00000000, 0.00000000, 1.00000000</td><td>NULL</td></tr>\n",
       "\t<tr><td>geneTpmResidualsAgeGenderAdj_rename.ENSG00000158859</td><td>m_ENSG00000158859</td><td>1.0011912, 0.5314253, 0.5500193, 0.5314253, 1.0029398, 0.6291385, 0.5500193, 0.6291385, 0.9963199</td><td>1.0011912, 0.5314253, 0.5500193, 0.0000000, 0.5314253, 1.0029398, 0.6291385, 0.0000000, 0.5500193, 0.6291385, 0.9963199, 0.0000000, 0.0000000, 0.0000000, 0.0000000, 1.0000000</td><td>NULL</td></tr>\n",
       "\t<tr><td>geneTpmResidualsAgeGenderAdj_rename.ENSG00000161929</td><td>m_ENSG00000161929</td><td>0.9976018, 0.4141614, 0.3310253, 0.4141614, 0.9882509, 0.3369001, 0.3310253, 0.3369001, 0.9952139</td><td>0.9976018, 0.4141614, 0.3310253, 0.0000000, 0.4141614, 0.9882509, 0.3369001, 0.0000000, 0.3310253, 0.3369001, 0.9952139, 0.0000000, 0.0000000, 0.0000000, 0.0000000, 1.0000000</td><td>NULL</td></tr>\n",
       "\t<tr><td>geneTpmResidualsAgeGenderAdj_rename.ENSG00000168918</td><td>m_ENSG00000168918</td><td>1.0234619, 0.5097104, 0.4229864, 0.5097104, 1.0334591, 0.5715744, 0.4229864, 0.5715744, 1.0025071</td><td>1.0234619, 0.5097104, 0.4229864, 0.0000000, 0.5097104, 1.0334591, 0.5715744, 0.0000000, 0.4229864, 0.5715744, 1.0025071, 0.0000000, 0.0000000, 0.0000000, 0.0000000, 1.0000000</td><td>NULL</td></tr>\n",
       "\t<tr><td>geneTpmResidualsAgeGenderAdj_rename.ENSG00000196126</td><td>m_ENSG00000196126</td><td>0.9960605, 0.8424066, 0.7692669, 0.8424066, 0.9904306, 0.8494164, 0.7692669, 0.8494164, 1.0026875</td><td>0.9960605, 0.8424066, 0.7692669, 0.0000000, 0.8424066, 0.9904306, 0.8494164, 0.0000000, 0.7692669, 0.8494164, 1.0026875, 0.0000000, 0.0000000, 0.0000000, 0.0000000, 1.0000000</td><td>NULL</td></tr>\n",
       "\t<tr><td>geneTpmResidualsAgeGenderAdj_rename.ENSG00000198087</td><td>m_ENSG00000198087</td><td>1.0046845, 0.1966941, 0.2602888, 0.1966941, 0.9960515, 0.2984314, 0.2602888, 0.2984314, 0.9957411</td><td>1.0046845, 0.1966941, 0.2602888, 0.0000000, 0.1966941, 0.9960515, 0.2984314, 0.0000000, 0.2602888, 0.2984314, 0.9957411, 0.0000000, 0.0000000, 0.0000000, 0.0000000, 1.0000000</td><td>NULL</td></tr>\n",
       "\t<tr><td>geneTpmResidualsAgeGenderAdj_rename.ENSG00000203710</td><td>m_ENSG00000203710</td><td>1.0013997, 0.5704953, 0.3140488, 0.5704953, 1.0081887, 0.3682478, 0.3140488, 0.3682478, 0.9970217</td><td>1.0013997, 0.5704953, 0.3140488, 0.0000000, 0.5704953, 1.0081887, 0.3682478, 0.0000000, 0.3140488, 0.3682478, 0.9970217, 0.0000000, 0.0000000, 0.0000000, 0.0000000, 1.0000000</td><td>NULL</td></tr>\n",
       "\t<tr><td>geneTpmResidualsAgeGenderAdj_rename.ENSG00000264538</td><td>m_ENSG00000264538</td><td>1.0045534, 0.4788876, 0.5667808, 0.4788876, 0.9549608, 0.6210456, 0.5667808, 0.6210456, 1.0260138</td><td>1.0045534, 0.4788876, 0.5667808, 0.0000000, 0.4788876, 0.9549608, 0.6210456, 0.0000000, 0.5667808, 0.6210456, 1.0260138, 0.0000000, 0.0000000, 0.0000000, 0.0000000, 1.0000000</td><td>NULL</td></tr>\n",
       "\t<tr><td>geneTpmResidualsAgeGenderAdj_rename.ENSG00000265148</td><td>m_ENSG00000265148</td><td>1.0142762, 0.3075426, 0.3512626, 0.3075426, 1.0165408, 0.3926954, 0.3512626, 0.3926954, 1.0062380</td><td>1.0142762, 0.3075426, 0.3512626, 0.0000000, 0.3075426, 1.0165408, 0.3926954, 0.0000000, 0.3512626, 0.3926954, 1.0062380, 0.0000000, 0.0000000, 0.0000000, 0.0000000, 1.0000000</td><td>NULL</td></tr>\n",
       "</tbody>\n",
       "</table>\n"
      ],
      "text/latex": [
       "A tibble: 26 x 5\n",
       "\\begin{tabular}{lllll}\n",
       " X2 & gene\\_id & V & V4 & save\\\\\n",
       " <chr> & <chr> & <list> & <list> & <list>\\\\\n",
       "\\hline\n",
       "\t geneTpmResidualsAgeGenderAdj\\_rename.ENSG00000002587 & m\\_ENSG00000002587 & 0.99916875, 0.02987007, 0.10888697, 0.02987007, 0.99770581, 0.13927648, 0.10888697, 0.13927648, 0.99687364 & 0.99916875, 0.02987007, 0.10888697, 0.00000000, 0.02987007, 0.99770581, 0.13927648, 0.00000000, 0.10888697, 0.13927648, 0.99687364, 0.00000000, 0.00000000, 0.00000000, 0.00000000, 1.00000000 & NULL\\\\\n",
       "\t geneTpmResidualsAgeGenderAdj\\_rename.ENSG00000064687 & m\\_ENSG00000064687 & 1.0066663, 0.3035302, 0.2887621, 0.3035302, 0.9997180, 0.3700784, 0.2887621, 0.3700784, 1.0000547 & 1.0066663, 0.3035302, 0.2887621, 0.0000000, 0.3035302, 0.9997180, 0.3700784, 0.0000000, 0.2887621, 0.3700784, 1.0000547, 0.0000000, 0.0000000, 0.0000000, 0.0000000, 1.0000000 & NULL\\\\\n",
       "\t geneTpmResidualsAgeGenderAdj\\_rename.ENSG00000073921 & m\\_ENSG00000073921 & 1.0136248, 0.2708387, 0.2034836, 0.2708387, 1.0071124, 0.3130095, 0.2034836, 0.3130095, 0.9973486 & 1.0136248, 0.2708387, 0.2034836, 0.0000000, 0.2708387, 1.0071124, 0.3130095, 0.0000000, 0.2034836, 0.3130095, 0.9973486, 0.0000000, 0.0000000, 0.0000000, 0.0000000, 1.0000000 & NULL\\\\\n",
       "\t geneTpmResidualsAgeGenderAdj\\_rename.ENSG00000078487 & m\\_ENSG00000078487 & 1.0010886, 0.1836792, 0.1560341, 0.1836792, 0.9966278, 0.1922251, 0.1560341, 0.1922251, 0.9979796 & 1.0010886, 0.1836792, 0.1560341, 0.0000000, 0.1836792, 0.9966278, 0.1922251, 0.0000000, 0.1560341, 0.1922251, 0.9979796, 0.0000000, 0.0000000, 0.0000000, 0.0000000, 1.0000000 & NULL\\\\\n",
       "\t geneTpmResidualsAgeGenderAdj\\_rename.ENSG00000087589 & m\\_ENSG00000087589 & 1.0172550, 0.5727101, 0.5534032, 0.5727101, 1.0067327, 0.5728316, 0.5534032, 0.5728316, 0.9988442 & 1.0172550, 0.5727101, 0.5534032, 0.0000000, 0.5727101, 1.0067327, 0.5728316, 0.0000000, 0.5534032, 0.5728316, 0.9988442, 0.0000000, 0.0000000, 0.0000000, 0.0000000, 1.0000000 & NULL\\\\\n",
       "\t geneTpmResidualsAgeGenderAdj\\_rename.ENSG00000103510 & m\\_ENSG00000103510 & 1.0023872, 0.4228648, 0.4258987, 0.4228648, 0.9966705, 0.4160152, 0.4258987, 0.4160152, 1.0005414 & 1.0023872, 0.4228648, 0.4258987, 0.0000000, 0.4228648, 0.9966705, 0.4160152, 0.0000000, 0.4258987, 0.4160152, 1.0005414, 0.0000000, 0.0000000, 0.0000000, 0.0000000, 1.0000000 & NULL\\\\\n",
       "\t geneTpmResidualsAgeGenderAdj\\_rename.ENSG00000105383 & m\\_ENSG00000105383 & 1.0063238, 0.3758449, 0.3223027, 0.3758449, 1.0306425, 0.4895607, 0.3223027, 0.4895607, 1.0081889 & 1.0063238, 0.3758449, 0.3223027, 0.0000000, 0.3758449, 1.0306425, 0.4895607, 0.0000000, 0.3223027, 0.4895607, 1.0081889, 0.0000000, 0.0000000, 0.0000000, 0.0000000, 1.0000000 & NULL\\\\\n",
       "\t geneTpmResidualsAgeGenderAdj\\_rename.ENSG00000108798 & m\\_ENSG00000108798 & 1.0190706, 0.6578642, 0.5432847, 0.6578642, 0.9970644, 0.6012055, 0.5432847, 0.6012055, 0.9961410 & 1.0190706, 0.6578642, 0.5432847, 0.0000000, 0.6578642, 0.9970644, 0.6012055, 0.0000000, 0.5432847, 0.6012055, 0.9961410, 0.0000000, 0.0000000, 0.0000000, 0.0000000, 1.0000000 & NULL\\\\\n",
       "\t geneTpmResidualsAgeGenderAdj\\_rename.ENSG00000110077 & m\\_ENSG00000110077 & 0.9852084, 0.5498539, 0.5483739, 0.5498539, 0.9982157, 0.6771241, 0.5483739, 0.6771241, 0.9958286 & 0.9852084, 0.5498539, 0.5483739, 0.0000000, 0.5498539, 0.9982157, 0.6771241, 0.0000000, 0.5483739, 0.6771241, 0.9958286, 0.0000000, 0.0000000, 0.0000000, 0.0000000, 1.0000000 & NULL\\\\\n",
       "\t geneTpmResidualsAgeGenderAdj\\_rename.ENSG00000120885 & m\\_ENSG00000120885 & 0.9995744, 0.2953208, 0.2757486, 0.2953208, 1.0139433, 0.5014478, 0.2757486, 0.5014478, 1.0021781 & 0.9995744, 0.2953208, 0.2757486, 0.0000000, 0.2953208, 1.0139433, 0.5014478, 0.0000000, 0.2757486, 0.5014478, 1.0021781, 0.0000000, 0.0000000, 0.0000000, 0.0000000, 1.0000000 & NULL\\\\\n",
       "\t geneTpmResidualsAgeGenderAdj\\_rename.ENSG00000120899 & m\\_ENSG00000120899 & 1.0074828, 0.2617788, 0.2089852, 0.2617788, 1.0311427, 0.4790458, 0.2089852, 0.4790458, 0.9998963 & 1.0074828, 0.2617788, 0.2089852, 0.0000000, 0.2617788, 1.0311427, 0.4790458, 0.0000000, 0.2089852, 0.4790458, 0.9998963, 0.0000000, 0.0000000, 0.0000000, 0.0000000, 1.0000000 & NULL\\\\\n",
       "\t geneTpmResidualsAgeGenderAdj\\_rename.ENSG00000130203 & m\\_ENSG00000130203 & 1.0190260, 0.2837507, 0.4104706, 0.2837507, 1.0432362, 0.6261340, 0.4104706, 0.6261340, 1.0014596 & 1.0190260, 0.2837507, 0.4104706, 0.0000000, 0.2837507, 1.0432362, 0.6261340, 0.0000000, 0.4104706, 0.6261340, 1.0014596, 0.0000000, 0.0000000, 0.0000000, 0.0000000, 1.0000000 & NULL\\\\\n",
       "\t geneTpmResidualsAgeGenderAdj\\_rename.ENSG00000134463 & m\\_ENSG00000134463 & 1.0779153, 0.5856612, 0.6325791, 0.5856612, 1.0439140, 0.5705120, 0.6325791, 0.5705120, 1.0000807 & 1.0779153, 0.5856612, 0.6325791, 0.0000000, 0.5856612, 1.0439140, 0.5705120, 0.0000000, 0.6325791, 0.5705120, 1.0000807, 0.0000000, 0.0000000, 0.0000000, 0.0000000, 1.0000000 & NULL\\\\\n",
       "\t geneTpmResidualsAgeGenderAdj\\_rename.ENSG00000136717 & m\\_ENSG00000136717 & 1.0563059, 0.4518634, 0.3755891, 0.4518634, 1.0446072, 0.4900065, 0.3755891, 0.4900065, 0.9968255 & 1.0563059, 0.4518634, 0.3755891, 0.0000000, 0.4518634, 1.0446072, 0.4900065, 0.0000000, 0.3755891, 0.4900065, 0.9968255, 0.0000000, 0.0000000, 0.0000000, 0.0000000, 1.0000000 & NULL\\\\\n",
       "\t geneTpmResidualsAgeGenderAdj\\_rename.ENSG00000137642 & m\\_ENSG00000137642 & 1.00071156, 0.09802148, 0.12825238, 0.09802148, 1.02422585, 0.47169667, 0.12825238, 0.47169667, 0.99844312 & 1.00071156, 0.09802148, 0.12825238, 0.00000000, 0.09802148, 1.02422585, 0.47169667, 0.00000000, 0.12825238, 0.47169667, 0.99844312, 0.00000000, 0.00000000, 0.00000000, 0.00000000, 1.00000000 & NULL\\\\\n",
       "\t geneTpmResidualsAgeGenderAdj\\_rename.ENSG00000137845 & m\\_ENSG00000137845 & 0.99888324, 0.11450316, 0.05603665, 0.11450316, 0.98981517, 0.16633959, 0.05603665, 0.16633959, 0.99870321 & 0.99888324, 0.11450316, 0.05603665, 0.00000000, 0.11450316, 0.98981517, 0.16633959, 0.00000000, 0.05603665, 0.16633959, 0.99870321, 0.00000000, 0.00000000, 0.00000000, 0.00000000, 1.00000000 & NULL\\\\\n",
       "\t geneTpmResidualsAgeGenderAdj\\_rename.ENSG00000138613 & m\\_ENSG00000138613 & 1.0205252, 0.4743676, 0.4213086, 0.4743676, 1.0191328, 0.5466011, 0.4213086, 0.5466011, 1.0046558 & 1.0205252, 0.4743676, 0.4213086, 0.0000000, 0.4743676, 1.0191328, 0.5466011, 0.0000000, 0.4213086, 0.5466011, 1.0046558, 0.0000000, 0.0000000, 0.0000000, 0.0000000, 1.0000000 & NULL\\\\\n",
       "\t geneTpmResidualsAgeGenderAdj\\_rename.ENSG00000140090 & m\\_ENSG00000140090 & 0.99951308, 0.09614379, 0.16226162, 0.09614379, 0.99780468, 0.30083664, 0.16226162, 0.30083664, 0.99795510 & 0.99951308, 0.09614379, 0.16226162, 0.00000000, 0.09614379, 0.99780468, 0.30083664, 0.00000000, 0.16226162, 0.30083664, 0.99795510, 0.00000000, 0.00000000, 0.00000000, 0.00000000, 1.00000000 & NULL\\\\\n",
       "\t geneTpmResidualsAgeGenderAdj\\_rename.ENSG00000158859 & m\\_ENSG00000158859 & 1.0011912, 0.5314253, 0.5500193, 0.5314253, 1.0029398, 0.6291385, 0.5500193, 0.6291385, 0.9963199 & 1.0011912, 0.5314253, 0.5500193, 0.0000000, 0.5314253, 1.0029398, 0.6291385, 0.0000000, 0.5500193, 0.6291385, 0.9963199, 0.0000000, 0.0000000, 0.0000000, 0.0000000, 1.0000000 & NULL\\\\\n",
       "\t geneTpmResidualsAgeGenderAdj\\_rename.ENSG00000161929 & m\\_ENSG00000161929 & 0.9976018, 0.4141614, 0.3310253, 0.4141614, 0.9882509, 0.3369001, 0.3310253, 0.3369001, 0.9952139 & 0.9976018, 0.4141614, 0.3310253, 0.0000000, 0.4141614, 0.9882509, 0.3369001, 0.0000000, 0.3310253, 0.3369001, 0.9952139, 0.0000000, 0.0000000, 0.0000000, 0.0000000, 1.0000000 & NULL\\\\\n",
       "\t geneTpmResidualsAgeGenderAdj\\_rename.ENSG00000168918 & m\\_ENSG00000168918 & 1.0234619, 0.5097104, 0.4229864, 0.5097104, 1.0334591, 0.5715744, 0.4229864, 0.5715744, 1.0025071 & 1.0234619, 0.5097104, 0.4229864, 0.0000000, 0.5097104, 1.0334591, 0.5715744, 0.0000000, 0.4229864, 0.5715744, 1.0025071, 0.0000000, 0.0000000, 0.0000000, 0.0000000, 1.0000000 & NULL\\\\\n",
       "\t geneTpmResidualsAgeGenderAdj\\_rename.ENSG00000196126 & m\\_ENSG00000196126 & 0.9960605, 0.8424066, 0.7692669, 0.8424066, 0.9904306, 0.8494164, 0.7692669, 0.8494164, 1.0026875 & 0.9960605, 0.8424066, 0.7692669, 0.0000000, 0.8424066, 0.9904306, 0.8494164, 0.0000000, 0.7692669, 0.8494164, 1.0026875, 0.0000000, 0.0000000, 0.0000000, 0.0000000, 1.0000000 & NULL\\\\\n",
       "\t geneTpmResidualsAgeGenderAdj\\_rename.ENSG00000198087 & m\\_ENSG00000198087 & 1.0046845, 0.1966941, 0.2602888, 0.1966941, 0.9960515, 0.2984314, 0.2602888, 0.2984314, 0.9957411 & 1.0046845, 0.1966941, 0.2602888, 0.0000000, 0.1966941, 0.9960515, 0.2984314, 0.0000000, 0.2602888, 0.2984314, 0.9957411, 0.0000000, 0.0000000, 0.0000000, 0.0000000, 1.0000000 & NULL\\\\\n",
       "\t geneTpmResidualsAgeGenderAdj\\_rename.ENSG00000203710 & m\\_ENSG00000203710 & 1.0013997, 0.5704953, 0.3140488, 0.5704953, 1.0081887, 0.3682478, 0.3140488, 0.3682478, 0.9970217 & 1.0013997, 0.5704953, 0.3140488, 0.0000000, 0.5704953, 1.0081887, 0.3682478, 0.0000000, 0.3140488, 0.3682478, 0.9970217, 0.0000000, 0.0000000, 0.0000000, 0.0000000, 1.0000000 & NULL\\\\\n",
       "\t geneTpmResidualsAgeGenderAdj\\_rename.ENSG00000264538 & m\\_ENSG00000264538 & 1.0045534, 0.4788876, 0.5667808, 0.4788876, 0.9549608, 0.6210456, 0.5667808, 0.6210456, 1.0260138 & 1.0045534, 0.4788876, 0.5667808, 0.0000000, 0.4788876, 0.9549608, 0.6210456, 0.0000000, 0.5667808, 0.6210456, 1.0260138, 0.0000000, 0.0000000, 0.0000000, 0.0000000, 1.0000000 & NULL\\\\\n",
       "\t geneTpmResidualsAgeGenderAdj\\_rename.ENSG00000265148 & m\\_ENSG00000265148 & 1.0142762, 0.3075426, 0.3512626, 0.3075426, 1.0165408, 0.3926954, 0.3512626, 0.3926954, 1.0062380 & 1.0142762, 0.3075426, 0.3512626, 0.0000000, 0.3075426, 1.0165408, 0.3926954, 0.0000000, 0.3512626, 0.3926954, 1.0062380, 0.0000000, 0.0000000, 0.0000000, 0.0000000, 1.0000000 & NULL\\\\\n",
       "\\end{tabular}\n"
      ],
      "text/markdown": [
       "\n",
       "A tibble: 26 x 5\n",
       "\n",
       "| X2 &lt;chr&gt; | gene_id &lt;chr&gt; | V &lt;list&gt; | V4 &lt;list&gt; | save &lt;list&gt; |\n",
       "|---|---|---|---|---|\n",
       "| geneTpmResidualsAgeGenderAdj_rename.ENSG00000002587 | m_ENSG00000002587 | 0.99916875, 0.02987007, 0.10888697, 0.02987007, 0.99770581, 0.13927648, 0.10888697, 0.13927648, 0.99687364 | 0.99916875, 0.02987007, 0.10888697, 0.00000000, 0.02987007, 0.99770581, 0.13927648, 0.00000000, 0.10888697, 0.13927648, 0.99687364, 0.00000000, 0.00000000, 0.00000000, 0.00000000, 1.00000000 | NULL |\n",
       "| geneTpmResidualsAgeGenderAdj_rename.ENSG00000064687 | m_ENSG00000064687 | 1.0066663, 0.3035302, 0.2887621, 0.3035302, 0.9997180, 0.3700784, 0.2887621, 0.3700784, 1.0000547 | 1.0066663, 0.3035302, 0.2887621, 0.0000000, 0.3035302, 0.9997180, 0.3700784, 0.0000000, 0.2887621, 0.3700784, 1.0000547, 0.0000000, 0.0000000, 0.0000000, 0.0000000, 1.0000000 | NULL |\n",
       "| geneTpmResidualsAgeGenderAdj_rename.ENSG00000073921 | m_ENSG00000073921 | 1.0136248, 0.2708387, 0.2034836, 0.2708387, 1.0071124, 0.3130095, 0.2034836, 0.3130095, 0.9973486 | 1.0136248, 0.2708387, 0.2034836, 0.0000000, 0.2708387, 1.0071124, 0.3130095, 0.0000000, 0.2034836, 0.3130095, 0.9973486, 0.0000000, 0.0000000, 0.0000000, 0.0000000, 1.0000000 | NULL |\n",
       "| geneTpmResidualsAgeGenderAdj_rename.ENSG00000078487 | m_ENSG00000078487 | 1.0010886, 0.1836792, 0.1560341, 0.1836792, 0.9966278, 0.1922251, 0.1560341, 0.1922251, 0.9979796 | 1.0010886, 0.1836792, 0.1560341, 0.0000000, 0.1836792, 0.9966278, 0.1922251, 0.0000000, 0.1560341, 0.1922251, 0.9979796, 0.0000000, 0.0000000, 0.0000000, 0.0000000, 1.0000000 | NULL |\n",
       "| geneTpmResidualsAgeGenderAdj_rename.ENSG00000087589 | m_ENSG00000087589 | 1.0172550, 0.5727101, 0.5534032, 0.5727101, 1.0067327, 0.5728316, 0.5534032, 0.5728316, 0.9988442 | 1.0172550, 0.5727101, 0.5534032, 0.0000000, 0.5727101, 1.0067327, 0.5728316, 0.0000000, 0.5534032, 0.5728316, 0.9988442, 0.0000000, 0.0000000, 0.0000000, 0.0000000, 1.0000000 | NULL |\n",
       "| geneTpmResidualsAgeGenderAdj_rename.ENSG00000103510 | m_ENSG00000103510 | 1.0023872, 0.4228648, 0.4258987, 0.4228648, 0.9966705, 0.4160152, 0.4258987, 0.4160152, 1.0005414 | 1.0023872, 0.4228648, 0.4258987, 0.0000000, 0.4228648, 0.9966705, 0.4160152, 0.0000000, 0.4258987, 0.4160152, 1.0005414, 0.0000000, 0.0000000, 0.0000000, 0.0000000, 1.0000000 | NULL |\n",
       "| geneTpmResidualsAgeGenderAdj_rename.ENSG00000105383 | m_ENSG00000105383 | 1.0063238, 0.3758449, 0.3223027, 0.3758449, 1.0306425, 0.4895607, 0.3223027, 0.4895607, 1.0081889 | 1.0063238, 0.3758449, 0.3223027, 0.0000000, 0.3758449, 1.0306425, 0.4895607, 0.0000000, 0.3223027, 0.4895607, 1.0081889, 0.0000000, 0.0000000, 0.0000000, 0.0000000, 1.0000000 | NULL |\n",
       "| geneTpmResidualsAgeGenderAdj_rename.ENSG00000108798 | m_ENSG00000108798 | 1.0190706, 0.6578642, 0.5432847, 0.6578642, 0.9970644, 0.6012055, 0.5432847, 0.6012055, 0.9961410 | 1.0190706, 0.6578642, 0.5432847, 0.0000000, 0.6578642, 0.9970644, 0.6012055, 0.0000000, 0.5432847, 0.6012055, 0.9961410, 0.0000000, 0.0000000, 0.0000000, 0.0000000, 1.0000000 | NULL |\n",
       "| geneTpmResidualsAgeGenderAdj_rename.ENSG00000110077 | m_ENSG00000110077 | 0.9852084, 0.5498539, 0.5483739, 0.5498539, 0.9982157, 0.6771241, 0.5483739, 0.6771241, 0.9958286 | 0.9852084, 0.5498539, 0.5483739, 0.0000000, 0.5498539, 0.9982157, 0.6771241, 0.0000000, 0.5483739, 0.6771241, 0.9958286, 0.0000000, 0.0000000, 0.0000000, 0.0000000, 1.0000000 | NULL |\n",
       "| geneTpmResidualsAgeGenderAdj_rename.ENSG00000120885 | m_ENSG00000120885 | 0.9995744, 0.2953208, 0.2757486, 0.2953208, 1.0139433, 0.5014478, 0.2757486, 0.5014478, 1.0021781 | 0.9995744, 0.2953208, 0.2757486, 0.0000000, 0.2953208, 1.0139433, 0.5014478, 0.0000000, 0.2757486, 0.5014478, 1.0021781, 0.0000000, 0.0000000, 0.0000000, 0.0000000, 1.0000000 | NULL |\n",
       "| geneTpmResidualsAgeGenderAdj_rename.ENSG00000120899 | m_ENSG00000120899 | 1.0074828, 0.2617788, 0.2089852, 0.2617788, 1.0311427, 0.4790458, 0.2089852, 0.4790458, 0.9998963 | 1.0074828, 0.2617788, 0.2089852, 0.0000000, 0.2617788, 1.0311427, 0.4790458, 0.0000000, 0.2089852, 0.4790458, 0.9998963, 0.0000000, 0.0000000, 0.0000000, 0.0000000, 1.0000000 | NULL |\n",
       "| geneTpmResidualsAgeGenderAdj_rename.ENSG00000130203 | m_ENSG00000130203 | 1.0190260, 0.2837507, 0.4104706, 0.2837507, 1.0432362, 0.6261340, 0.4104706, 0.6261340, 1.0014596 | 1.0190260, 0.2837507, 0.4104706, 0.0000000, 0.2837507, 1.0432362, 0.6261340, 0.0000000, 0.4104706, 0.6261340, 1.0014596, 0.0000000, 0.0000000, 0.0000000, 0.0000000, 1.0000000 | NULL |\n",
       "| geneTpmResidualsAgeGenderAdj_rename.ENSG00000134463 | m_ENSG00000134463 | 1.0779153, 0.5856612, 0.6325791, 0.5856612, 1.0439140, 0.5705120, 0.6325791, 0.5705120, 1.0000807 | 1.0779153, 0.5856612, 0.6325791, 0.0000000, 0.5856612, 1.0439140, 0.5705120, 0.0000000, 0.6325791, 0.5705120, 1.0000807, 0.0000000, 0.0000000, 0.0000000, 0.0000000, 1.0000000 | NULL |\n",
       "| geneTpmResidualsAgeGenderAdj_rename.ENSG00000136717 | m_ENSG00000136717 | 1.0563059, 0.4518634, 0.3755891, 0.4518634, 1.0446072, 0.4900065, 0.3755891, 0.4900065, 0.9968255 | 1.0563059, 0.4518634, 0.3755891, 0.0000000, 0.4518634, 1.0446072, 0.4900065, 0.0000000, 0.3755891, 0.4900065, 0.9968255, 0.0000000, 0.0000000, 0.0000000, 0.0000000, 1.0000000 | NULL |\n",
       "| geneTpmResidualsAgeGenderAdj_rename.ENSG00000137642 | m_ENSG00000137642 | 1.00071156, 0.09802148, 0.12825238, 0.09802148, 1.02422585, 0.47169667, 0.12825238, 0.47169667, 0.99844312 | 1.00071156, 0.09802148, 0.12825238, 0.00000000, 0.09802148, 1.02422585, 0.47169667, 0.00000000, 0.12825238, 0.47169667, 0.99844312, 0.00000000, 0.00000000, 0.00000000, 0.00000000, 1.00000000 | NULL |\n",
       "| geneTpmResidualsAgeGenderAdj_rename.ENSG00000137845 | m_ENSG00000137845 | 0.99888324, 0.11450316, 0.05603665, 0.11450316, 0.98981517, 0.16633959, 0.05603665, 0.16633959, 0.99870321 | 0.99888324, 0.11450316, 0.05603665, 0.00000000, 0.11450316, 0.98981517, 0.16633959, 0.00000000, 0.05603665, 0.16633959, 0.99870321, 0.00000000, 0.00000000, 0.00000000, 0.00000000, 1.00000000 | NULL |\n",
       "| geneTpmResidualsAgeGenderAdj_rename.ENSG00000138613 | m_ENSG00000138613 | 1.0205252, 0.4743676, 0.4213086, 0.4743676, 1.0191328, 0.5466011, 0.4213086, 0.5466011, 1.0046558 | 1.0205252, 0.4743676, 0.4213086, 0.0000000, 0.4743676, 1.0191328, 0.5466011, 0.0000000, 0.4213086, 0.5466011, 1.0046558, 0.0000000, 0.0000000, 0.0000000, 0.0000000, 1.0000000 | NULL |\n",
       "| geneTpmResidualsAgeGenderAdj_rename.ENSG00000140090 | m_ENSG00000140090 | 0.99951308, 0.09614379, 0.16226162, 0.09614379, 0.99780468, 0.30083664, 0.16226162, 0.30083664, 0.99795510 | 0.99951308, 0.09614379, 0.16226162, 0.00000000, 0.09614379, 0.99780468, 0.30083664, 0.00000000, 0.16226162, 0.30083664, 0.99795510, 0.00000000, 0.00000000, 0.00000000, 0.00000000, 1.00000000 | NULL |\n",
       "| geneTpmResidualsAgeGenderAdj_rename.ENSG00000158859 | m_ENSG00000158859 | 1.0011912, 0.5314253, 0.5500193, 0.5314253, 1.0029398, 0.6291385, 0.5500193, 0.6291385, 0.9963199 | 1.0011912, 0.5314253, 0.5500193, 0.0000000, 0.5314253, 1.0029398, 0.6291385, 0.0000000, 0.5500193, 0.6291385, 0.9963199, 0.0000000, 0.0000000, 0.0000000, 0.0000000, 1.0000000 | NULL |\n",
       "| geneTpmResidualsAgeGenderAdj_rename.ENSG00000161929 | m_ENSG00000161929 | 0.9976018, 0.4141614, 0.3310253, 0.4141614, 0.9882509, 0.3369001, 0.3310253, 0.3369001, 0.9952139 | 0.9976018, 0.4141614, 0.3310253, 0.0000000, 0.4141614, 0.9882509, 0.3369001, 0.0000000, 0.3310253, 0.3369001, 0.9952139, 0.0000000, 0.0000000, 0.0000000, 0.0000000, 1.0000000 | NULL |\n",
       "| geneTpmResidualsAgeGenderAdj_rename.ENSG00000168918 | m_ENSG00000168918 | 1.0234619, 0.5097104, 0.4229864, 0.5097104, 1.0334591, 0.5715744, 0.4229864, 0.5715744, 1.0025071 | 1.0234619, 0.5097104, 0.4229864, 0.0000000, 0.5097104, 1.0334591, 0.5715744, 0.0000000, 0.4229864, 0.5715744, 1.0025071, 0.0000000, 0.0000000, 0.0000000, 0.0000000, 1.0000000 | NULL |\n",
       "| geneTpmResidualsAgeGenderAdj_rename.ENSG00000196126 | m_ENSG00000196126 | 0.9960605, 0.8424066, 0.7692669, 0.8424066, 0.9904306, 0.8494164, 0.7692669, 0.8494164, 1.0026875 | 0.9960605, 0.8424066, 0.7692669, 0.0000000, 0.8424066, 0.9904306, 0.8494164, 0.0000000, 0.7692669, 0.8494164, 1.0026875, 0.0000000, 0.0000000, 0.0000000, 0.0000000, 1.0000000 | NULL |\n",
       "| geneTpmResidualsAgeGenderAdj_rename.ENSG00000198087 | m_ENSG00000198087 | 1.0046845, 0.1966941, 0.2602888, 0.1966941, 0.9960515, 0.2984314, 0.2602888, 0.2984314, 0.9957411 | 1.0046845, 0.1966941, 0.2602888, 0.0000000, 0.1966941, 0.9960515, 0.2984314, 0.0000000, 0.2602888, 0.2984314, 0.9957411, 0.0000000, 0.0000000, 0.0000000, 0.0000000, 1.0000000 | NULL |\n",
       "| geneTpmResidualsAgeGenderAdj_rename.ENSG00000203710 | m_ENSG00000203710 | 1.0013997, 0.5704953, 0.3140488, 0.5704953, 1.0081887, 0.3682478, 0.3140488, 0.3682478, 0.9970217 | 1.0013997, 0.5704953, 0.3140488, 0.0000000, 0.5704953, 1.0081887, 0.3682478, 0.0000000, 0.3140488, 0.3682478, 0.9970217, 0.0000000, 0.0000000, 0.0000000, 0.0000000, 1.0000000 | NULL |\n",
       "| geneTpmResidualsAgeGenderAdj_rename.ENSG00000264538 | m_ENSG00000264538 | 1.0045534, 0.4788876, 0.5667808, 0.4788876, 0.9549608, 0.6210456, 0.5667808, 0.6210456, 1.0260138 | 1.0045534, 0.4788876, 0.5667808, 0.0000000, 0.4788876, 0.9549608, 0.6210456, 0.0000000, 0.5667808, 0.6210456, 1.0260138, 0.0000000, 0.0000000, 0.0000000, 0.0000000, 1.0000000 | NULL |\n",
       "| geneTpmResidualsAgeGenderAdj_rename.ENSG00000265148 | m_ENSG00000265148 | 1.0142762, 0.3075426, 0.3512626, 0.3075426, 1.0165408, 0.3926954, 0.3512626, 0.3926954, 1.0062380 | 1.0142762, 0.3075426, 0.3512626, 0.0000000, 0.3075426, 1.0165408, 0.3926954, 0.0000000, 0.3512626, 0.3926954, 1.0062380, 0.0000000, 0.0000000, 0.0000000, 0.0000000, 1.0000000 | NULL |\n",
       "\n"
      ],
      "text/plain": [
       "   X2                                                  gene_id          \n",
       "1  geneTpmResidualsAgeGenderAdj_rename.ENSG00000002587 m_ENSG00000002587\n",
       "2  geneTpmResidualsAgeGenderAdj_rename.ENSG00000064687 m_ENSG00000064687\n",
       "3  geneTpmResidualsAgeGenderAdj_rename.ENSG00000073921 m_ENSG00000073921\n",
       "4  geneTpmResidualsAgeGenderAdj_rename.ENSG00000078487 m_ENSG00000078487\n",
       "5  geneTpmResidualsAgeGenderAdj_rename.ENSG00000087589 m_ENSG00000087589\n",
       "6  geneTpmResidualsAgeGenderAdj_rename.ENSG00000103510 m_ENSG00000103510\n",
       "7  geneTpmResidualsAgeGenderAdj_rename.ENSG00000105383 m_ENSG00000105383\n",
       "8  geneTpmResidualsAgeGenderAdj_rename.ENSG00000108798 m_ENSG00000108798\n",
       "9  geneTpmResidualsAgeGenderAdj_rename.ENSG00000110077 m_ENSG00000110077\n",
       "10 geneTpmResidualsAgeGenderAdj_rename.ENSG00000120885 m_ENSG00000120885\n",
       "11 geneTpmResidualsAgeGenderAdj_rename.ENSG00000120899 m_ENSG00000120899\n",
       "12 geneTpmResidualsAgeGenderAdj_rename.ENSG00000130203 m_ENSG00000130203\n",
       "13 geneTpmResidualsAgeGenderAdj_rename.ENSG00000134463 m_ENSG00000134463\n",
       "14 geneTpmResidualsAgeGenderAdj_rename.ENSG00000136717 m_ENSG00000136717\n",
       "15 geneTpmResidualsAgeGenderAdj_rename.ENSG00000137642 m_ENSG00000137642\n",
       "16 geneTpmResidualsAgeGenderAdj_rename.ENSG00000137845 m_ENSG00000137845\n",
       "17 geneTpmResidualsAgeGenderAdj_rename.ENSG00000138613 m_ENSG00000138613\n",
       "18 geneTpmResidualsAgeGenderAdj_rename.ENSG00000140090 m_ENSG00000140090\n",
       "19 geneTpmResidualsAgeGenderAdj_rename.ENSG00000158859 m_ENSG00000158859\n",
       "20 geneTpmResidualsAgeGenderAdj_rename.ENSG00000161929 m_ENSG00000161929\n",
       "21 geneTpmResidualsAgeGenderAdj_rename.ENSG00000168918 m_ENSG00000168918\n",
       "22 geneTpmResidualsAgeGenderAdj_rename.ENSG00000196126 m_ENSG00000196126\n",
       "23 geneTpmResidualsAgeGenderAdj_rename.ENSG00000198087 m_ENSG00000198087\n",
       "24 geneTpmResidualsAgeGenderAdj_rename.ENSG00000203710 m_ENSG00000203710\n",
       "25 geneTpmResidualsAgeGenderAdj_rename.ENSG00000264538 m_ENSG00000264538\n",
       "26 geneTpmResidualsAgeGenderAdj_rename.ENSG00000265148 m_ENSG00000265148\n",
       "   V                                                                                                         \n",
       "1  0.99916875, 0.02987007, 0.10888697, 0.02987007, 0.99770581, 0.13927648, 0.10888697, 0.13927648, 0.99687364\n",
       "2  1.0066663, 0.3035302, 0.2887621, 0.3035302, 0.9997180, 0.3700784, 0.2887621, 0.3700784, 1.0000547         \n",
       "3  1.0136248, 0.2708387, 0.2034836, 0.2708387, 1.0071124, 0.3130095, 0.2034836, 0.3130095, 0.9973486         \n",
       "4  1.0010886, 0.1836792, 0.1560341, 0.1836792, 0.9966278, 0.1922251, 0.1560341, 0.1922251, 0.9979796         \n",
       "5  1.0172550, 0.5727101, 0.5534032, 0.5727101, 1.0067327, 0.5728316, 0.5534032, 0.5728316, 0.9988442         \n",
       "6  1.0023872, 0.4228648, 0.4258987, 0.4228648, 0.9966705, 0.4160152, 0.4258987, 0.4160152, 1.0005414         \n",
       "7  1.0063238, 0.3758449, 0.3223027, 0.3758449, 1.0306425, 0.4895607, 0.3223027, 0.4895607, 1.0081889         \n",
       "8  1.0190706, 0.6578642, 0.5432847, 0.6578642, 0.9970644, 0.6012055, 0.5432847, 0.6012055, 0.9961410         \n",
       "9  0.9852084, 0.5498539, 0.5483739, 0.5498539, 0.9982157, 0.6771241, 0.5483739, 0.6771241, 0.9958286         \n",
       "10 0.9995744, 0.2953208, 0.2757486, 0.2953208, 1.0139433, 0.5014478, 0.2757486, 0.5014478, 1.0021781         \n",
       "11 1.0074828, 0.2617788, 0.2089852, 0.2617788, 1.0311427, 0.4790458, 0.2089852, 0.4790458, 0.9998963         \n",
       "12 1.0190260, 0.2837507, 0.4104706, 0.2837507, 1.0432362, 0.6261340, 0.4104706, 0.6261340, 1.0014596         \n",
       "13 1.0779153, 0.5856612, 0.6325791, 0.5856612, 1.0439140, 0.5705120, 0.6325791, 0.5705120, 1.0000807         \n",
       "14 1.0563059, 0.4518634, 0.3755891, 0.4518634, 1.0446072, 0.4900065, 0.3755891, 0.4900065, 0.9968255         \n",
       "15 1.00071156, 0.09802148, 0.12825238, 0.09802148, 1.02422585, 0.47169667, 0.12825238, 0.47169667, 0.99844312\n",
       "16 0.99888324, 0.11450316, 0.05603665, 0.11450316, 0.98981517, 0.16633959, 0.05603665, 0.16633959, 0.99870321\n",
       "17 1.0205252, 0.4743676, 0.4213086, 0.4743676, 1.0191328, 0.5466011, 0.4213086, 0.5466011, 1.0046558         \n",
       "18 0.99951308, 0.09614379, 0.16226162, 0.09614379, 0.99780468, 0.30083664, 0.16226162, 0.30083664, 0.99795510\n",
       "19 1.0011912, 0.5314253, 0.5500193, 0.5314253, 1.0029398, 0.6291385, 0.5500193, 0.6291385, 0.9963199         \n",
       "20 0.9976018, 0.4141614, 0.3310253, 0.4141614, 0.9882509, 0.3369001, 0.3310253, 0.3369001, 0.9952139         \n",
       "21 1.0234619, 0.5097104, 0.4229864, 0.5097104, 1.0334591, 0.5715744, 0.4229864, 0.5715744, 1.0025071         \n",
       "22 0.9960605, 0.8424066, 0.7692669, 0.8424066, 0.9904306, 0.8494164, 0.7692669, 0.8494164, 1.0026875         \n",
       "23 1.0046845, 0.1966941, 0.2602888, 0.1966941, 0.9960515, 0.2984314, 0.2602888, 0.2984314, 0.9957411         \n",
       "24 1.0013997, 0.5704953, 0.3140488, 0.5704953, 1.0081887, 0.3682478, 0.3140488, 0.3682478, 0.9970217         \n",
       "25 1.0045534, 0.4788876, 0.5667808, 0.4788876, 0.9549608, 0.6210456, 0.5667808, 0.6210456, 1.0260138         \n",
       "26 1.0142762, 0.3075426, 0.3512626, 0.3075426, 1.0165408, 0.3926954, 0.3512626, 0.3926954, 1.0062380         \n",
       "   V4                                                                                                                                                                                            \n",
       "1  0.99916875, 0.02987007, 0.10888697, 0.00000000, 0.02987007, 0.99770581, 0.13927648, 0.00000000, 0.10888697, 0.13927648, 0.99687364, 0.00000000, 0.00000000, 0.00000000, 0.00000000, 1.00000000\n",
       "2  1.0066663, 0.3035302, 0.2887621, 0.0000000, 0.3035302, 0.9997180, 0.3700784, 0.0000000, 0.2887621, 0.3700784, 1.0000547, 0.0000000, 0.0000000, 0.0000000, 0.0000000, 1.0000000                \n",
       "3  1.0136248, 0.2708387, 0.2034836, 0.0000000, 0.2708387, 1.0071124, 0.3130095, 0.0000000, 0.2034836, 0.3130095, 0.9973486, 0.0000000, 0.0000000, 0.0000000, 0.0000000, 1.0000000                \n",
       "4  1.0010886, 0.1836792, 0.1560341, 0.0000000, 0.1836792, 0.9966278, 0.1922251, 0.0000000, 0.1560341, 0.1922251, 0.9979796, 0.0000000, 0.0000000, 0.0000000, 0.0000000, 1.0000000                \n",
       "5  1.0172550, 0.5727101, 0.5534032, 0.0000000, 0.5727101, 1.0067327, 0.5728316, 0.0000000, 0.5534032, 0.5728316, 0.9988442, 0.0000000, 0.0000000, 0.0000000, 0.0000000, 1.0000000                \n",
       "6  1.0023872, 0.4228648, 0.4258987, 0.0000000, 0.4228648, 0.9966705, 0.4160152, 0.0000000, 0.4258987, 0.4160152, 1.0005414, 0.0000000, 0.0000000, 0.0000000, 0.0000000, 1.0000000                \n",
       "7  1.0063238, 0.3758449, 0.3223027, 0.0000000, 0.3758449, 1.0306425, 0.4895607, 0.0000000, 0.3223027, 0.4895607, 1.0081889, 0.0000000, 0.0000000, 0.0000000, 0.0000000, 1.0000000                \n",
       "8  1.0190706, 0.6578642, 0.5432847, 0.0000000, 0.6578642, 0.9970644, 0.6012055, 0.0000000, 0.5432847, 0.6012055, 0.9961410, 0.0000000, 0.0000000, 0.0000000, 0.0000000, 1.0000000                \n",
       "9  0.9852084, 0.5498539, 0.5483739, 0.0000000, 0.5498539, 0.9982157, 0.6771241, 0.0000000, 0.5483739, 0.6771241, 0.9958286, 0.0000000, 0.0000000, 0.0000000, 0.0000000, 1.0000000                \n",
       "10 0.9995744, 0.2953208, 0.2757486, 0.0000000, 0.2953208, 1.0139433, 0.5014478, 0.0000000, 0.2757486, 0.5014478, 1.0021781, 0.0000000, 0.0000000, 0.0000000, 0.0000000, 1.0000000                \n",
       "11 1.0074828, 0.2617788, 0.2089852, 0.0000000, 0.2617788, 1.0311427, 0.4790458, 0.0000000, 0.2089852, 0.4790458, 0.9998963, 0.0000000, 0.0000000, 0.0000000, 0.0000000, 1.0000000                \n",
       "12 1.0190260, 0.2837507, 0.4104706, 0.0000000, 0.2837507, 1.0432362, 0.6261340, 0.0000000, 0.4104706, 0.6261340, 1.0014596, 0.0000000, 0.0000000, 0.0000000, 0.0000000, 1.0000000                \n",
       "13 1.0779153, 0.5856612, 0.6325791, 0.0000000, 0.5856612, 1.0439140, 0.5705120, 0.0000000, 0.6325791, 0.5705120, 1.0000807, 0.0000000, 0.0000000, 0.0000000, 0.0000000, 1.0000000                \n",
       "14 1.0563059, 0.4518634, 0.3755891, 0.0000000, 0.4518634, 1.0446072, 0.4900065, 0.0000000, 0.3755891, 0.4900065, 0.9968255, 0.0000000, 0.0000000, 0.0000000, 0.0000000, 1.0000000                \n",
       "15 1.00071156, 0.09802148, 0.12825238, 0.00000000, 0.09802148, 1.02422585, 0.47169667, 0.00000000, 0.12825238, 0.47169667, 0.99844312, 0.00000000, 0.00000000, 0.00000000, 0.00000000, 1.00000000\n",
       "16 0.99888324, 0.11450316, 0.05603665, 0.00000000, 0.11450316, 0.98981517, 0.16633959, 0.00000000, 0.05603665, 0.16633959, 0.99870321, 0.00000000, 0.00000000, 0.00000000, 0.00000000, 1.00000000\n",
       "17 1.0205252, 0.4743676, 0.4213086, 0.0000000, 0.4743676, 1.0191328, 0.5466011, 0.0000000, 0.4213086, 0.5466011, 1.0046558, 0.0000000, 0.0000000, 0.0000000, 0.0000000, 1.0000000                \n",
       "18 0.99951308, 0.09614379, 0.16226162, 0.00000000, 0.09614379, 0.99780468, 0.30083664, 0.00000000, 0.16226162, 0.30083664, 0.99795510, 0.00000000, 0.00000000, 0.00000000, 0.00000000, 1.00000000\n",
       "19 1.0011912, 0.5314253, 0.5500193, 0.0000000, 0.5314253, 1.0029398, 0.6291385, 0.0000000, 0.5500193, 0.6291385, 0.9963199, 0.0000000, 0.0000000, 0.0000000, 0.0000000, 1.0000000                \n",
       "20 0.9976018, 0.4141614, 0.3310253, 0.0000000, 0.4141614, 0.9882509, 0.3369001, 0.0000000, 0.3310253, 0.3369001, 0.9952139, 0.0000000, 0.0000000, 0.0000000, 0.0000000, 1.0000000                \n",
       "21 1.0234619, 0.5097104, 0.4229864, 0.0000000, 0.5097104, 1.0334591, 0.5715744, 0.0000000, 0.4229864, 0.5715744, 1.0025071, 0.0000000, 0.0000000, 0.0000000, 0.0000000, 1.0000000                \n",
       "22 0.9960605, 0.8424066, 0.7692669, 0.0000000, 0.8424066, 0.9904306, 0.8494164, 0.0000000, 0.7692669, 0.8494164, 1.0026875, 0.0000000, 0.0000000, 0.0000000, 0.0000000, 1.0000000                \n",
       "23 1.0046845, 0.1966941, 0.2602888, 0.0000000, 0.1966941, 0.9960515, 0.2984314, 0.0000000, 0.2602888, 0.2984314, 0.9957411, 0.0000000, 0.0000000, 0.0000000, 0.0000000, 1.0000000                \n",
       "24 1.0013997, 0.5704953, 0.3140488, 0.0000000, 0.5704953, 1.0081887, 0.3682478, 0.0000000, 0.3140488, 0.3682478, 0.9970217, 0.0000000, 0.0000000, 0.0000000, 0.0000000, 1.0000000                \n",
       "25 1.0045534, 0.4788876, 0.5667808, 0.0000000, 0.4788876, 0.9549608, 0.6210456, 0.0000000, 0.5667808, 0.6210456, 1.0260138, 0.0000000, 0.0000000, 0.0000000, 0.0000000, 1.0000000                \n",
       "26 1.0142762, 0.3075426, 0.3512626, 0.0000000, 0.3075426, 1.0165408, 0.3926954, 0.0000000, 0.3512626, 0.3926954, 1.0062380, 0.0000000, 0.0000000, 0.0000000, 0.0000000, 1.0000000                \n",
       "   save\n",
       "1  NULL\n",
       "2  NULL\n",
       "3  NULL\n",
       "4  NULL\n",
       "5  NULL\n",
       "6  NULL\n",
       "7  NULL\n",
       "8  NULL\n",
       "9  NULL\n",
       "10 NULL\n",
       "11 NULL\n",
       "12 NULL\n",
       "13 NULL\n",
       "14 NULL\n",
       "15 NULL\n",
       "16 NULL\n",
       "17 NULL\n",
       "18 NULL\n",
       "19 NULL\n",
       "20 NULL\n",
       "21 NULL\n",
       "22 NULL\n",
       "23 NULL\n",
       "24 NULL\n",
       "25 NULL\n",
       "26 NULL"
      ]
     },
     "metadata": {},
     "output_type": "display_data"
    }
   ],
   "source": [
    "V%>%mutate(V4 = map(V,~cbind(.x,c(0,0,0))%>%rbind(c(0,0,0,1))),save = map2(V4,X2,~saveRDS(.x, str_replace(.y,\"gene\",\"/mnt/mfs/statgen/neuro-twas/TWAS_sumstat/residcor_2/gene\"))))"
   ]
  },
  {
   "cell_type": "code",
   "execution_count": 47,
   "id": "5c699354-7564-47d8-9277-e422593ed7de",
   "metadata": {},
   "outputs": [
    {
     "data": {
      "text/html": [
       "<table class=\"dataframe\">\n",
       "<caption>A tibble: 26 x 4</caption>\n",
       "<thead>\n",
       "\t<tr><th scope=col>X2</th><th scope=col>gene_id</th><th scope=col>V</th><th scope=col>save</th></tr>\n",
       "\t<tr><th scope=col>&lt;chr&gt;</th><th scope=col>&lt;chr&gt;</th><th scope=col>&lt;list&gt;</th><th scope=col>&lt;list&gt;</th></tr>\n",
       "</thead>\n",
       "<tbody>\n",
       "\t<tr><td>geneTpmResidualsAgeGenderAdj_rename.ENSG00000002587</td><td>m_ENSG00000002587</td><td>0.99916875, 0.02987007, 0.10888697, 0.02987007, 0.99770581, 0.13927648, 0.10888697, 0.13927648, 0.99687364</td><td>NULL</td></tr>\n",
       "\t<tr><td>geneTpmResidualsAgeGenderAdj_rename.ENSG00000064687</td><td>m_ENSG00000064687</td><td>1.0066663, 0.3035302, 0.2887621, 0.3035302, 0.9997180, 0.3700784, 0.2887621, 0.3700784, 1.0000547</td><td>NULL</td></tr>\n",
       "\t<tr><td>geneTpmResidualsAgeGenderAdj_rename.ENSG00000073921</td><td>m_ENSG00000073921</td><td>1.0136248, 0.2708387, 0.2034836, 0.2708387, 1.0071124, 0.3130095, 0.2034836, 0.3130095, 0.9973486</td><td>NULL</td></tr>\n",
       "\t<tr><td>geneTpmResidualsAgeGenderAdj_rename.ENSG00000078487</td><td>m_ENSG00000078487</td><td>1.0010886, 0.1836792, 0.1560341, 0.1836792, 0.9966278, 0.1922251, 0.1560341, 0.1922251, 0.9979796</td><td>NULL</td></tr>\n",
       "\t<tr><td>geneTpmResidualsAgeGenderAdj_rename.ENSG00000087589</td><td>m_ENSG00000087589</td><td>1.0172550, 0.5727101, 0.5534032, 0.5727101, 1.0067327, 0.5728316, 0.5534032, 0.5728316, 0.9988442</td><td>NULL</td></tr>\n",
       "\t<tr><td>geneTpmResidualsAgeGenderAdj_rename.ENSG00000103510</td><td>m_ENSG00000103510</td><td>1.0023872, 0.4228648, 0.4258987, 0.4228648, 0.9966705, 0.4160152, 0.4258987, 0.4160152, 1.0005414</td><td>NULL</td></tr>\n",
       "\t<tr><td>geneTpmResidualsAgeGenderAdj_rename.ENSG00000105383</td><td>m_ENSG00000105383</td><td>1.0063238, 0.3758449, 0.3223027, 0.3758449, 1.0306425, 0.4895607, 0.3223027, 0.4895607, 1.0081889</td><td>NULL</td></tr>\n",
       "\t<tr><td>geneTpmResidualsAgeGenderAdj_rename.ENSG00000108798</td><td>m_ENSG00000108798</td><td>1.0190706, 0.6578642, 0.5432847, 0.6578642, 0.9970644, 0.6012055, 0.5432847, 0.6012055, 0.9961410</td><td>NULL</td></tr>\n",
       "\t<tr><td>geneTpmResidualsAgeGenderAdj_rename.ENSG00000110077</td><td>m_ENSG00000110077</td><td>0.9852084, 0.5498539, 0.5483739, 0.5498539, 0.9982157, 0.6771241, 0.5483739, 0.6771241, 0.9958286</td><td>NULL</td></tr>\n",
       "\t<tr><td>geneTpmResidualsAgeGenderAdj_rename.ENSG00000120885</td><td>m_ENSG00000120885</td><td>0.9995744, 0.2953208, 0.2757486, 0.2953208, 1.0139433, 0.5014478, 0.2757486, 0.5014478, 1.0021781</td><td>NULL</td></tr>\n",
       "\t<tr><td>geneTpmResidualsAgeGenderAdj_rename.ENSG00000120899</td><td>m_ENSG00000120899</td><td>1.0074828, 0.2617788, 0.2089852, 0.2617788, 1.0311427, 0.4790458, 0.2089852, 0.4790458, 0.9998963</td><td>NULL</td></tr>\n",
       "\t<tr><td>geneTpmResidualsAgeGenderAdj_rename.ENSG00000130203</td><td>m_ENSG00000130203</td><td>1.0190260, 0.2837507, 0.4104706, 0.2837507, 1.0432362, 0.6261340, 0.4104706, 0.6261340, 1.0014596</td><td>NULL</td></tr>\n",
       "\t<tr><td>geneTpmResidualsAgeGenderAdj_rename.ENSG00000134463</td><td>m_ENSG00000134463</td><td>1.0779153, 0.5856612, 0.6325791, 0.5856612, 1.0439140, 0.5705120, 0.6325791, 0.5705120, 1.0000807</td><td>NULL</td></tr>\n",
       "\t<tr><td>geneTpmResidualsAgeGenderAdj_rename.ENSG00000136717</td><td>m_ENSG00000136717</td><td>1.0563059, 0.4518634, 0.3755891, 0.4518634, 1.0446072, 0.4900065, 0.3755891, 0.4900065, 0.9968255</td><td>NULL</td></tr>\n",
       "\t<tr><td>geneTpmResidualsAgeGenderAdj_rename.ENSG00000137642</td><td>m_ENSG00000137642</td><td>1.00071156, 0.09802148, 0.12825238, 0.09802148, 1.02422585, 0.47169667, 0.12825238, 0.47169667, 0.99844312</td><td>NULL</td></tr>\n",
       "\t<tr><td>geneTpmResidualsAgeGenderAdj_rename.ENSG00000137845</td><td>m_ENSG00000137845</td><td>0.99888324, 0.11450316, 0.05603665, 0.11450316, 0.98981517, 0.16633959, 0.05603665, 0.16633959, 0.99870321</td><td>NULL</td></tr>\n",
       "\t<tr><td>geneTpmResidualsAgeGenderAdj_rename.ENSG00000138613</td><td>m_ENSG00000138613</td><td>1.0205252, 0.4743676, 0.4213086, 0.4743676, 1.0191328, 0.5466011, 0.4213086, 0.5466011, 1.0046558</td><td>NULL</td></tr>\n",
       "\t<tr><td>geneTpmResidualsAgeGenderAdj_rename.ENSG00000140090</td><td>m_ENSG00000140090</td><td>0.99951308, 0.09614379, 0.16226162, 0.09614379, 0.99780468, 0.30083664, 0.16226162, 0.30083664, 0.99795510</td><td>NULL</td></tr>\n",
       "\t<tr><td>geneTpmResidualsAgeGenderAdj_rename.ENSG00000158859</td><td>m_ENSG00000158859</td><td>1.0011912, 0.5314253, 0.5500193, 0.5314253, 1.0029398, 0.6291385, 0.5500193, 0.6291385, 0.9963199</td><td>NULL</td></tr>\n",
       "\t<tr><td>geneTpmResidualsAgeGenderAdj_rename.ENSG00000161929</td><td>m_ENSG00000161929</td><td>0.9976018, 0.4141614, 0.3310253, 0.4141614, 0.9882509, 0.3369001, 0.3310253, 0.3369001, 0.9952139</td><td>NULL</td></tr>\n",
       "\t<tr><td>geneTpmResidualsAgeGenderAdj_rename.ENSG00000168918</td><td>m_ENSG00000168918</td><td>1.0234619, 0.5097104, 0.4229864, 0.5097104, 1.0334591, 0.5715744, 0.4229864, 0.5715744, 1.0025071</td><td>NULL</td></tr>\n",
       "\t<tr><td>geneTpmResidualsAgeGenderAdj_rename.ENSG00000196126</td><td>m_ENSG00000196126</td><td>0.9960605, 0.8424066, 0.7692669, 0.8424066, 0.9904306, 0.8494164, 0.7692669, 0.8494164, 1.0026875</td><td>NULL</td></tr>\n",
       "\t<tr><td>geneTpmResidualsAgeGenderAdj_rename.ENSG00000198087</td><td>m_ENSG00000198087</td><td>1.0046845, 0.1966941, 0.2602888, 0.1966941, 0.9960515, 0.2984314, 0.2602888, 0.2984314, 0.9957411</td><td>NULL</td></tr>\n",
       "\t<tr><td>geneTpmResidualsAgeGenderAdj_rename.ENSG00000203710</td><td>m_ENSG00000203710</td><td>1.0013997, 0.5704953, 0.3140488, 0.5704953, 1.0081887, 0.3682478, 0.3140488, 0.3682478, 0.9970217</td><td>NULL</td></tr>\n",
       "\t<tr><td>geneTpmResidualsAgeGenderAdj_rename.ENSG00000264538</td><td>m_ENSG00000264538</td><td>1.0045534, 0.4788876, 0.5667808, 0.4788876, 0.9549608, 0.6210456, 0.5667808, 0.6210456, 1.0260138</td><td>NULL</td></tr>\n",
       "\t<tr><td>geneTpmResidualsAgeGenderAdj_rename.ENSG00000265148</td><td>m_ENSG00000265148</td><td>1.0142762, 0.3075426, 0.3512626, 0.3075426, 1.0165408, 0.3926954, 0.3512626, 0.3926954, 1.0062380</td><td>NULL</td></tr>\n",
       "</tbody>\n",
       "</table>\n"
      ],
      "text/latex": [
       "A tibble: 26 x 4\n",
       "\\begin{tabular}{llll}\n",
       " X2 & gene\\_id & V & save\\\\\n",
       " <chr> & <chr> & <list> & <list>\\\\\n",
       "\\hline\n",
       "\t geneTpmResidualsAgeGenderAdj\\_rename.ENSG00000002587 & m\\_ENSG00000002587 & 0.99916875, 0.02987007, 0.10888697, 0.02987007, 0.99770581, 0.13927648, 0.10888697, 0.13927648, 0.99687364 & NULL\\\\\n",
       "\t geneTpmResidualsAgeGenderAdj\\_rename.ENSG00000064687 & m\\_ENSG00000064687 & 1.0066663, 0.3035302, 0.2887621, 0.3035302, 0.9997180, 0.3700784, 0.2887621, 0.3700784, 1.0000547 & NULL\\\\\n",
       "\t geneTpmResidualsAgeGenderAdj\\_rename.ENSG00000073921 & m\\_ENSG00000073921 & 1.0136248, 0.2708387, 0.2034836, 0.2708387, 1.0071124, 0.3130095, 0.2034836, 0.3130095, 0.9973486 & NULL\\\\\n",
       "\t geneTpmResidualsAgeGenderAdj\\_rename.ENSG00000078487 & m\\_ENSG00000078487 & 1.0010886, 0.1836792, 0.1560341, 0.1836792, 0.9966278, 0.1922251, 0.1560341, 0.1922251, 0.9979796 & NULL\\\\\n",
       "\t geneTpmResidualsAgeGenderAdj\\_rename.ENSG00000087589 & m\\_ENSG00000087589 & 1.0172550, 0.5727101, 0.5534032, 0.5727101, 1.0067327, 0.5728316, 0.5534032, 0.5728316, 0.9988442 & NULL\\\\\n",
       "\t geneTpmResidualsAgeGenderAdj\\_rename.ENSG00000103510 & m\\_ENSG00000103510 & 1.0023872, 0.4228648, 0.4258987, 0.4228648, 0.9966705, 0.4160152, 0.4258987, 0.4160152, 1.0005414 & NULL\\\\\n",
       "\t geneTpmResidualsAgeGenderAdj\\_rename.ENSG00000105383 & m\\_ENSG00000105383 & 1.0063238, 0.3758449, 0.3223027, 0.3758449, 1.0306425, 0.4895607, 0.3223027, 0.4895607, 1.0081889 & NULL\\\\\n",
       "\t geneTpmResidualsAgeGenderAdj\\_rename.ENSG00000108798 & m\\_ENSG00000108798 & 1.0190706, 0.6578642, 0.5432847, 0.6578642, 0.9970644, 0.6012055, 0.5432847, 0.6012055, 0.9961410 & NULL\\\\\n",
       "\t geneTpmResidualsAgeGenderAdj\\_rename.ENSG00000110077 & m\\_ENSG00000110077 & 0.9852084, 0.5498539, 0.5483739, 0.5498539, 0.9982157, 0.6771241, 0.5483739, 0.6771241, 0.9958286 & NULL\\\\\n",
       "\t geneTpmResidualsAgeGenderAdj\\_rename.ENSG00000120885 & m\\_ENSG00000120885 & 0.9995744, 0.2953208, 0.2757486, 0.2953208, 1.0139433, 0.5014478, 0.2757486, 0.5014478, 1.0021781 & NULL\\\\\n",
       "\t geneTpmResidualsAgeGenderAdj\\_rename.ENSG00000120899 & m\\_ENSG00000120899 & 1.0074828, 0.2617788, 0.2089852, 0.2617788, 1.0311427, 0.4790458, 0.2089852, 0.4790458, 0.9998963 & NULL\\\\\n",
       "\t geneTpmResidualsAgeGenderAdj\\_rename.ENSG00000130203 & m\\_ENSG00000130203 & 1.0190260, 0.2837507, 0.4104706, 0.2837507, 1.0432362, 0.6261340, 0.4104706, 0.6261340, 1.0014596 & NULL\\\\\n",
       "\t geneTpmResidualsAgeGenderAdj\\_rename.ENSG00000134463 & m\\_ENSG00000134463 & 1.0779153, 0.5856612, 0.6325791, 0.5856612, 1.0439140, 0.5705120, 0.6325791, 0.5705120, 1.0000807 & NULL\\\\\n",
       "\t geneTpmResidualsAgeGenderAdj\\_rename.ENSG00000136717 & m\\_ENSG00000136717 & 1.0563059, 0.4518634, 0.3755891, 0.4518634, 1.0446072, 0.4900065, 0.3755891, 0.4900065, 0.9968255 & NULL\\\\\n",
       "\t geneTpmResidualsAgeGenderAdj\\_rename.ENSG00000137642 & m\\_ENSG00000137642 & 1.00071156, 0.09802148, 0.12825238, 0.09802148, 1.02422585, 0.47169667, 0.12825238, 0.47169667, 0.99844312 & NULL\\\\\n",
       "\t geneTpmResidualsAgeGenderAdj\\_rename.ENSG00000137845 & m\\_ENSG00000137845 & 0.99888324, 0.11450316, 0.05603665, 0.11450316, 0.98981517, 0.16633959, 0.05603665, 0.16633959, 0.99870321 & NULL\\\\\n",
       "\t geneTpmResidualsAgeGenderAdj\\_rename.ENSG00000138613 & m\\_ENSG00000138613 & 1.0205252, 0.4743676, 0.4213086, 0.4743676, 1.0191328, 0.5466011, 0.4213086, 0.5466011, 1.0046558 & NULL\\\\\n",
       "\t geneTpmResidualsAgeGenderAdj\\_rename.ENSG00000140090 & m\\_ENSG00000140090 & 0.99951308, 0.09614379, 0.16226162, 0.09614379, 0.99780468, 0.30083664, 0.16226162, 0.30083664, 0.99795510 & NULL\\\\\n",
       "\t geneTpmResidualsAgeGenderAdj\\_rename.ENSG00000158859 & m\\_ENSG00000158859 & 1.0011912, 0.5314253, 0.5500193, 0.5314253, 1.0029398, 0.6291385, 0.5500193, 0.6291385, 0.9963199 & NULL\\\\\n",
       "\t geneTpmResidualsAgeGenderAdj\\_rename.ENSG00000161929 & m\\_ENSG00000161929 & 0.9976018, 0.4141614, 0.3310253, 0.4141614, 0.9882509, 0.3369001, 0.3310253, 0.3369001, 0.9952139 & NULL\\\\\n",
       "\t geneTpmResidualsAgeGenderAdj\\_rename.ENSG00000168918 & m\\_ENSG00000168918 & 1.0234619, 0.5097104, 0.4229864, 0.5097104, 1.0334591, 0.5715744, 0.4229864, 0.5715744, 1.0025071 & NULL\\\\\n",
       "\t geneTpmResidualsAgeGenderAdj\\_rename.ENSG00000196126 & m\\_ENSG00000196126 & 0.9960605, 0.8424066, 0.7692669, 0.8424066, 0.9904306, 0.8494164, 0.7692669, 0.8494164, 1.0026875 & NULL\\\\\n",
       "\t geneTpmResidualsAgeGenderAdj\\_rename.ENSG00000198087 & m\\_ENSG00000198087 & 1.0046845, 0.1966941, 0.2602888, 0.1966941, 0.9960515, 0.2984314, 0.2602888, 0.2984314, 0.9957411 & NULL\\\\\n",
       "\t geneTpmResidualsAgeGenderAdj\\_rename.ENSG00000203710 & m\\_ENSG00000203710 & 1.0013997, 0.5704953, 0.3140488, 0.5704953, 1.0081887, 0.3682478, 0.3140488, 0.3682478, 0.9970217 & NULL\\\\\n",
       "\t geneTpmResidualsAgeGenderAdj\\_rename.ENSG00000264538 & m\\_ENSG00000264538 & 1.0045534, 0.4788876, 0.5667808, 0.4788876, 0.9549608, 0.6210456, 0.5667808, 0.6210456, 1.0260138 & NULL\\\\\n",
       "\t geneTpmResidualsAgeGenderAdj\\_rename.ENSG00000265148 & m\\_ENSG00000265148 & 1.0142762, 0.3075426, 0.3512626, 0.3075426, 1.0165408, 0.3926954, 0.3512626, 0.3926954, 1.0062380 & NULL\\\\\n",
       "\\end{tabular}\n"
      ],
      "text/markdown": [
       "\n",
       "A tibble: 26 x 4\n",
       "\n",
       "| X2 &lt;chr&gt; | gene_id &lt;chr&gt; | V &lt;list&gt; | save &lt;list&gt; |\n",
       "|---|---|---|---|\n",
       "| geneTpmResidualsAgeGenderAdj_rename.ENSG00000002587 | m_ENSG00000002587 | 0.99916875, 0.02987007, 0.10888697, 0.02987007, 0.99770581, 0.13927648, 0.10888697, 0.13927648, 0.99687364 | NULL |\n",
       "| geneTpmResidualsAgeGenderAdj_rename.ENSG00000064687 | m_ENSG00000064687 | 1.0066663, 0.3035302, 0.2887621, 0.3035302, 0.9997180, 0.3700784, 0.2887621, 0.3700784, 1.0000547 | NULL |\n",
       "| geneTpmResidualsAgeGenderAdj_rename.ENSG00000073921 | m_ENSG00000073921 | 1.0136248, 0.2708387, 0.2034836, 0.2708387, 1.0071124, 0.3130095, 0.2034836, 0.3130095, 0.9973486 | NULL |\n",
       "| geneTpmResidualsAgeGenderAdj_rename.ENSG00000078487 | m_ENSG00000078487 | 1.0010886, 0.1836792, 0.1560341, 0.1836792, 0.9966278, 0.1922251, 0.1560341, 0.1922251, 0.9979796 | NULL |\n",
       "| geneTpmResidualsAgeGenderAdj_rename.ENSG00000087589 | m_ENSG00000087589 | 1.0172550, 0.5727101, 0.5534032, 0.5727101, 1.0067327, 0.5728316, 0.5534032, 0.5728316, 0.9988442 | NULL |\n",
       "| geneTpmResidualsAgeGenderAdj_rename.ENSG00000103510 | m_ENSG00000103510 | 1.0023872, 0.4228648, 0.4258987, 0.4228648, 0.9966705, 0.4160152, 0.4258987, 0.4160152, 1.0005414 | NULL |\n",
       "| geneTpmResidualsAgeGenderAdj_rename.ENSG00000105383 | m_ENSG00000105383 | 1.0063238, 0.3758449, 0.3223027, 0.3758449, 1.0306425, 0.4895607, 0.3223027, 0.4895607, 1.0081889 | NULL |\n",
       "| geneTpmResidualsAgeGenderAdj_rename.ENSG00000108798 | m_ENSG00000108798 | 1.0190706, 0.6578642, 0.5432847, 0.6578642, 0.9970644, 0.6012055, 0.5432847, 0.6012055, 0.9961410 | NULL |\n",
       "| geneTpmResidualsAgeGenderAdj_rename.ENSG00000110077 | m_ENSG00000110077 | 0.9852084, 0.5498539, 0.5483739, 0.5498539, 0.9982157, 0.6771241, 0.5483739, 0.6771241, 0.9958286 | NULL |\n",
       "| geneTpmResidualsAgeGenderAdj_rename.ENSG00000120885 | m_ENSG00000120885 | 0.9995744, 0.2953208, 0.2757486, 0.2953208, 1.0139433, 0.5014478, 0.2757486, 0.5014478, 1.0021781 | NULL |\n",
       "| geneTpmResidualsAgeGenderAdj_rename.ENSG00000120899 | m_ENSG00000120899 | 1.0074828, 0.2617788, 0.2089852, 0.2617788, 1.0311427, 0.4790458, 0.2089852, 0.4790458, 0.9998963 | NULL |\n",
       "| geneTpmResidualsAgeGenderAdj_rename.ENSG00000130203 | m_ENSG00000130203 | 1.0190260, 0.2837507, 0.4104706, 0.2837507, 1.0432362, 0.6261340, 0.4104706, 0.6261340, 1.0014596 | NULL |\n",
       "| geneTpmResidualsAgeGenderAdj_rename.ENSG00000134463 | m_ENSG00000134463 | 1.0779153, 0.5856612, 0.6325791, 0.5856612, 1.0439140, 0.5705120, 0.6325791, 0.5705120, 1.0000807 | NULL |\n",
       "| geneTpmResidualsAgeGenderAdj_rename.ENSG00000136717 | m_ENSG00000136717 | 1.0563059, 0.4518634, 0.3755891, 0.4518634, 1.0446072, 0.4900065, 0.3755891, 0.4900065, 0.9968255 | NULL |\n",
       "| geneTpmResidualsAgeGenderAdj_rename.ENSG00000137642 | m_ENSG00000137642 | 1.00071156, 0.09802148, 0.12825238, 0.09802148, 1.02422585, 0.47169667, 0.12825238, 0.47169667, 0.99844312 | NULL |\n",
       "| geneTpmResidualsAgeGenderAdj_rename.ENSG00000137845 | m_ENSG00000137845 | 0.99888324, 0.11450316, 0.05603665, 0.11450316, 0.98981517, 0.16633959, 0.05603665, 0.16633959, 0.99870321 | NULL |\n",
       "| geneTpmResidualsAgeGenderAdj_rename.ENSG00000138613 | m_ENSG00000138613 | 1.0205252, 0.4743676, 0.4213086, 0.4743676, 1.0191328, 0.5466011, 0.4213086, 0.5466011, 1.0046558 | NULL |\n",
       "| geneTpmResidualsAgeGenderAdj_rename.ENSG00000140090 | m_ENSG00000140090 | 0.99951308, 0.09614379, 0.16226162, 0.09614379, 0.99780468, 0.30083664, 0.16226162, 0.30083664, 0.99795510 | NULL |\n",
       "| geneTpmResidualsAgeGenderAdj_rename.ENSG00000158859 | m_ENSG00000158859 | 1.0011912, 0.5314253, 0.5500193, 0.5314253, 1.0029398, 0.6291385, 0.5500193, 0.6291385, 0.9963199 | NULL |\n",
       "| geneTpmResidualsAgeGenderAdj_rename.ENSG00000161929 | m_ENSG00000161929 | 0.9976018, 0.4141614, 0.3310253, 0.4141614, 0.9882509, 0.3369001, 0.3310253, 0.3369001, 0.9952139 | NULL |\n",
       "| geneTpmResidualsAgeGenderAdj_rename.ENSG00000168918 | m_ENSG00000168918 | 1.0234619, 0.5097104, 0.4229864, 0.5097104, 1.0334591, 0.5715744, 0.4229864, 0.5715744, 1.0025071 | NULL |\n",
       "| geneTpmResidualsAgeGenderAdj_rename.ENSG00000196126 | m_ENSG00000196126 | 0.9960605, 0.8424066, 0.7692669, 0.8424066, 0.9904306, 0.8494164, 0.7692669, 0.8494164, 1.0026875 | NULL |\n",
       "| geneTpmResidualsAgeGenderAdj_rename.ENSG00000198087 | m_ENSG00000198087 | 1.0046845, 0.1966941, 0.2602888, 0.1966941, 0.9960515, 0.2984314, 0.2602888, 0.2984314, 0.9957411 | NULL |\n",
       "| geneTpmResidualsAgeGenderAdj_rename.ENSG00000203710 | m_ENSG00000203710 | 1.0013997, 0.5704953, 0.3140488, 0.5704953, 1.0081887, 0.3682478, 0.3140488, 0.3682478, 0.9970217 | NULL |\n",
       "| geneTpmResidualsAgeGenderAdj_rename.ENSG00000264538 | m_ENSG00000264538 | 1.0045534, 0.4788876, 0.5667808, 0.4788876, 0.9549608, 0.6210456, 0.5667808, 0.6210456, 1.0260138 | NULL |\n",
       "| geneTpmResidualsAgeGenderAdj_rename.ENSG00000265148 | m_ENSG00000265148 | 1.0142762, 0.3075426, 0.3512626, 0.3075426, 1.0165408, 0.3926954, 0.3512626, 0.3926954, 1.0062380 | NULL |\n",
       "\n"
      ],
      "text/plain": [
       "   X2                                                  gene_id          \n",
       "1  geneTpmResidualsAgeGenderAdj_rename.ENSG00000002587 m_ENSG00000002587\n",
       "2  geneTpmResidualsAgeGenderAdj_rename.ENSG00000064687 m_ENSG00000064687\n",
       "3  geneTpmResidualsAgeGenderAdj_rename.ENSG00000073921 m_ENSG00000073921\n",
       "4  geneTpmResidualsAgeGenderAdj_rename.ENSG00000078487 m_ENSG00000078487\n",
       "5  geneTpmResidualsAgeGenderAdj_rename.ENSG00000087589 m_ENSG00000087589\n",
       "6  geneTpmResidualsAgeGenderAdj_rename.ENSG00000103510 m_ENSG00000103510\n",
       "7  geneTpmResidualsAgeGenderAdj_rename.ENSG00000105383 m_ENSG00000105383\n",
       "8  geneTpmResidualsAgeGenderAdj_rename.ENSG00000108798 m_ENSG00000108798\n",
       "9  geneTpmResidualsAgeGenderAdj_rename.ENSG00000110077 m_ENSG00000110077\n",
       "10 geneTpmResidualsAgeGenderAdj_rename.ENSG00000120885 m_ENSG00000120885\n",
       "11 geneTpmResidualsAgeGenderAdj_rename.ENSG00000120899 m_ENSG00000120899\n",
       "12 geneTpmResidualsAgeGenderAdj_rename.ENSG00000130203 m_ENSG00000130203\n",
       "13 geneTpmResidualsAgeGenderAdj_rename.ENSG00000134463 m_ENSG00000134463\n",
       "14 geneTpmResidualsAgeGenderAdj_rename.ENSG00000136717 m_ENSG00000136717\n",
       "15 geneTpmResidualsAgeGenderAdj_rename.ENSG00000137642 m_ENSG00000137642\n",
       "16 geneTpmResidualsAgeGenderAdj_rename.ENSG00000137845 m_ENSG00000137845\n",
       "17 geneTpmResidualsAgeGenderAdj_rename.ENSG00000138613 m_ENSG00000138613\n",
       "18 geneTpmResidualsAgeGenderAdj_rename.ENSG00000140090 m_ENSG00000140090\n",
       "19 geneTpmResidualsAgeGenderAdj_rename.ENSG00000158859 m_ENSG00000158859\n",
       "20 geneTpmResidualsAgeGenderAdj_rename.ENSG00000161929 m_ENSG00000161929\n",
       "21 geneTpmResidualsAgeGenderAdj_rename.ENSG00000168918 m_ENSG00000168918\n",
       "22 geneTpmResidualsAgeGenderAdj_rename.ENSG00000196126 m_ENSG00000196126\n",
       "23 geneTpmResidualsAgeGenderAdj_rename.ENSG00000198087 m_ENSG00000198087\n",
       "24 geneTpmResidualsAgeGenderAdj_rename.ENSG00000203710 m_ENSG00000203710\n",
       "25 geneTpmResidualsAgeGenderAdj_rename.ENSG00000264538 m_ENSG00000264538\n",
       "26 geneTpmResidualsAgeGenderAdj_rename.ENSG00000265148 m_ENSG00000265148\n",
       "   V                                                                                                         \n",
       "1  0.99916875, 0.02987007, 0.10888697, 0.02987007, 0.99770581, 0.13927648, 0.10888697, 0.13927648, 0.99687364\n",
       "2  1.0066663, 0.3035302, 0.2887621, 0.3035302, 0.9997180, 0.3700784, 0.2887621, 0.3700784, 1.0000547         \n",
       "3  1.0136248, 0.2708387, 0.2034836, 0.2708387, 1.0071124, 0.3130095, 0.2034836, 0.3130095, 0.9973486         \n",
       "4  1.0010886, 0.1836792, 0.1560341, 0.1836792, 0.9966278, 0.1922251, 0.1560341, 0.1922251, 0.9979796         \n",
       "5  1.0172550, 0.5727101, 0.5534032, 0.5727101, 1.0067327, 0.5728316, 0.5534032, 0.5728316, 0.9988442         \n",
       "6  1.0023872, 0.4228648, 0.4258987, 0.4228648, 0.9966705, 0.4160152, 0.4258987, 0.4160152, 1.0005414         \n",
       "7  1.0063238, 0.3758449, 0.3223027, 0.3758449, 1.0306425, 0.4895607, 0.3223027, 0.4895607, 1.0081889         \n",
       "8  1.0190706, 0.6578642, 0.5432847, 0.6578642, 0.9970644, 0.6012055, 0.5432847, 0.6012055, 0.9961410         \n",
       "9  0.9852084, 0.5498539, 0.5483739, 0.5498539, 0.9982157, 0.6771241, 0.5483739, 0.6771241, 0.9958286         \n",
       "10 0.9995744, 0.2953208, 0.2757486, 0.2953208, 1.0139433, 0.5014478, 0.2757486, 0.5014478, 1.0021781         \n",
       "11 1.0074828, 0.2617788, 0.2089852, 0.2617788, 1.0311427, 0.4790458, 0.2089852, 0.4790458, 0.9998963         \n",
       "12 1.0190260, 0.2837507, 0.4104706, 0.2837507, 1.0432362, 0.6261340, 0.4104706, 0.6261340, 1.0014596         \n",
       "13 1.0779153, 0.5856612, 0.6325791, 0.5856612, 1.0439140, 0.5705120, 0.6325791, 0.5705120, 1.0000807         \n",
       "14 1.0563059, 0.4518634, 0.3755891, 0.4518634, 1.0446072, 0.4900065, 0.3755891, 0.4900065, 0.9968255         \n",
       "15 1.00071156, 0.09802148, 0.12825238, 0.09802148, 1.02422585, 0.47169667, 0.12825238, 0.47169667, 0.99844312\n",
       "16 0.99888324, 0.11450316, 0.05603665, 0.11450316, 0.98981517, 0.16633959, 0.05603665, 0.16633959, 0.99870321\n",
       "17 1.0205252, 0.4743676, 0.4213086, 0.4743676, 1.0191328, 0.5466011, 0.4213086, 0.5466011, 1.0046558         \n",
       "18 0.99951308, 0.09614379, 0.16226162, 0.09614379, 0.99780468, 0.30083664, 0.16226162, 0.30083664, 0.99795510\n",
       "19 1.0011912, 0.5314253, 0.5500193, 0.5314253, 1.0029398, 0.6291385, 0.5500193, 0.6291385, 0.9963199         \n",
       "20 0.9976018, 0.4141614, 0.3310253, 0.4141614, 0.9882509, 0.3369001, 0.3310253, 0.3369001, 0.9952139         \n",
       "21 1.0234619, 0.5097104, 0.4229864, 0.5097104, 1.0334591, 0.5715744, 0.4229864, 0.5715744, 1.0025071         \n",
       "22 0.9960605, 0.8424066, 0.7692669, 0.8424066, 0.9904306, 0.8494164, 0.7692669, 0.8494164, 1.0026875         \n",
       "23 1.0046845, 0.1966941, 0.2602888, 0.1966941, 0.9960515, 0.2984314, 0.2602888, 0.2984314, 0.9957411         \n",
       "24 1.0013997, 0.5704953, 0.3140488, 0.5704953, 1.0081887, 0.3682478, 0.3140488, 0.3682478, 0.9970217         \n",
       "25 1.0045534, 0.4788876, 0.5667808, 0.4788876, 0.9549608, 0.6210456, 0.5667808, 0.6210456, 1.0260138         \n",
       "26 1.0142762, 0.3075426, 0.3512626, 0.3075426, 1.0165408, 0.3926954, 0.3512626, 0.3926954, 1.0062380         \n",
       "   save\n",
       "1  NULL\n",
       "2  NULL\n",
       "3  NULL\n",
       "4  NULL\n",
       "5  NULL\n",
       "6  NULL\n",
       "7  NULL\n",
       "8  NULL\n",
       "9  NULL\n",
       "10 NULL\n",
       "11 NULL\n",
       "12 NULL\n",
       "13 NULL\n",
       "14 NULL\n",
       "15 NULL\n",
       "16 NULL\n",
       "17 NULL\n",
       "18 NULL\n",
       "19 NULL\n",
       "20 NULL\n",
       "21 NULL\n",
       "22 NULL\n",
       "23 NULL\n",
       "24 NULL\n",
       "25 NULL\n",
       "26 NULL"
      ]
     },
     "metadata": {},
     "output_type": "display_data"
    }
   ],
   "source": [
    "V%>%mutate(save = map2(V,X2,~saveRDS(.x, str_replace(.y,\"gene\",\"/mnt/mfs/statgen/neuro-twas/TWAS_sumstat/residcor_2/gene\"))))"
   ]
  },
  {
   "cell_type": "code",
   "execution_count": 10,
   "id": "b48fc366-6332-4197-9f30-09d15af5968a",
   "metadata": {},
   "outputs": [],
   "source": [
    "converged_gene = c%>%filter(!is.na(X4))%>%select(-X4)%>%pull(gene_id)"
   ]
  },
  {
   "cell_type": "code",
   "execution_count": null,
   "id": "c105ac88-9570-493c-a25b-f6604b92348f",
   "metadata": {},
   "outputs": [],
   "source": [
    "inner_join(V,cor)"
   ]
  },
  {
   "cell_type": "code",
   "execution_count": 11,
   "id": "fc17dfc7-aad3-45f0-b06e-87b7cfab52c9",
   "metadata": {},
   "outputs": [
    {
     "ename": "ERROR",
     "evalue": "Error in converged_gene %in% cs_gene: object 'cs_gene' not found\n",
     "output_type": "error",
     "traceback": [
      "Error in converged_gene %in% cs_gene: object 'cs_gene' not found\nTraceback:\n",
      "1. converged_gene %in% cs_gene"
     ]
    }
   ],
   "source": [
    "converged_gene%in%cs_gene\n"
   ]
  },
  {
   "cell_type": "code",
   "execution_count": 112,
   "id": "fc3e43c7-daf9-496d-93de-568e39de7665",
   "metadata": {},
   "outputs": [
    {
     "data": {
      "text/html": [
       "<style>\n",
       ".list-inline {list-style: none; margin:0; padding: 0}\n",
       ".list-inline>li {display: inline-block}\n",
       ".list-inline>li:not(:last-child)::after {content: \"\\00b7\"; padding: 0 .5ex}\n",
       "</style>\n",
       "<ol class=list-inline><li>FALSE</li><li>FALSE</li><li>FALSE</li><li>FALSE</li><li>FALSE</li><li>FALSE</li><li>FALSE</li><li>TRUE</li><li>FALSE</li></ol>\n"
      ],
      "text/latex": [
       "\\begin{enumerate*}\n",
       "\\item FALSE\n",
       "\\item FALSE\n",
       "\\item FALSE\n",
       "\\item FALSE\n",
       "\\item FALSE\n",
       "\\item FALSE\n",
       "\\item FALSE\n",
       "\\item TRUE\n",
       "\\item FALSE\n",
       "\\end{enumerate*}\n"
      ],
      "text/markdown": [
       "1. FALSE\n",
       "2. FALSE\n",
       "3. FALSE\n",
       "4. FALSE\n",
       "5. FALSE\n",
       "6. FALSE\n",
       "7. FALSE\n",
       "8. TRUE\n",
       "9. FALSE\n",
       "\n",
       "\n"
      ],
      "text/plain": [
       "[1] FALSE FALSE FALSE FALSE FALSE FALSE FALSE  TRUE FALSE"
      ]
     },
     "metadata": {},
     "output_type": "display_data"
    }
   ],
   "source": [
    "cs_gene%in%converged_gene"
   ]
  },
  {
   "cell_type": "code",
   "execution_count": 114,
   "id": "8f2855fb-eef1-46a7-8923-159588099a9d",
   "metadata": {},
   "outputs": [
    {
     "data": {
      "text/html": [
       "<style>\n",
       ".list-inline {list-style: none; margin:0; padding: 0}\n",
       ".list-inline>li {display: inline-block}\n",
       ".list-inline>li:not(:last-child)::after {content: \"\\00b7\"; padding: 0 .5ex}\n",
       "</style>\n",
       "<ol class=list-inline><li>'m_ENSG00000002587'</li><li>'m_ENSG00000073921'</li><li>'m_ENSG00000087589'</li><li>'m_ENSG00000105383'</li><li>'m_ENSG00000108798'</li><li>'m_ENSG00000110077'</li><li>'m_ENSG00000120899'</li><li>'m_ENSG00000130203'</li><li>'m_ENSG00000137642'</li><li>'m_ENSG00000137845'</li><li>'m_ENSG00000158859'</li><li>'m_ENSG00000168918'</li><li>'m_ENSG00000203710'</li><li>'m_ENSG00000265148'</li></ol>\n"
      ],
      "text/latex": [
       "\\begin{enumerate*}\n",
       "\\item 'm\\_ENSG00000002587'\n",
       "\\item 'm\\_ENSG00000073921'\n",
       "\\item 'm\\_ENSG00000087589'\n",
       "\\item 'm\\_ENSG00000105383'\n",
       "\\item 'm\\_ENSG00000108798'\n",
       "\\item 'm\\_ENSG00000110077'\n",
       "\\item 'm\\_ENSG00000120899'\n",
       "\\item 'm\\_ENSG00000130203'\n",
       "\\item 'm\\_ENSG00000137642'\n",
       "\\item 'm\\_ENSG00000137845'\n",
       "\\item 'm\\_ENSG00000158859'\n",
       "\\item 'm\\_ENSG00000168918'\n",
       "\\item 'm\\_ENSG00000203710'\n",
       "\\item 'm\\_ENSG00000265148'\n",
       "\\end{enumerate*}\n"
      ],
      "text/markdown": [
       "1. 'm_ENSG00000002587'\n",
       "2. 'm_ENSG00000073921'\n",
       "3. 'm_ENSG00000087589'\n",
       "4. 'm_ENSG00000105383'\n",
       "5. 'm_ENSG00000108798'\n",
       "6. 'm_ENSG00000110077'\n",
       "7. 'm_ENSG00000120899'\n",
       "8. 'm_ENSG00000130203'\n",
       "9. 'm_ENSG00000137642'\n",
       "10. 'm_ENSG00000137845'\n",
       "11. 'm_ENSG00000158859'\n",
       "12. 'm_ENSG00000168918'\n",
       "13. 'm_ENSG00000203710'\n",
       "14. 'm_ENSG00000265148'\n",
       "\n",
       "\n"
      ],
      "text/plain": [
       " [1] \"m_ENSG00000002587\" \"m_ENSG00000073921\" \"m_ENSG00000087589\"\n",
       " [4] \"m_ENSG00000105383\" \"m_ENSG00000108798\" \"m_ENSG00000110077\"\n",
       " [7] \"m_ENSG00000120899\" \"m_ENSG00000130203\" \"m_ENSG00000137642\"\n",
       "[10] \"m_ENSG00000137845\" \"m_ENSG00000158859\" \"m_ENSG00000168918\"\n",
       "[13] \"m_ENSG00000203710\" \"m_ENSG00000265148\""
      ]
     },
     "metadata": {},
     "output_type": "display_data"
    }
   ],
   "source": [
    "converged_gene"
   ]
  },
  {
   "cell_type": "code",
   "execution_count": 120,
   "id": "e83752f4-38c5-480d-9afe-6cbeea8a9ff8",
   "metadata": {},
   "outputs": [
    {
     "data": {
      "text/html": [
       "<style>\n",
       ".list-inline {list-style: none; margin:0; padding: 0}\n",
       ".list-inline>li {display: inline-block}\n",
       ".list-inline>li:not(:last-child)::after {content: \"\\00b7\"; padding: 0 .5ex}\n",
       "</style>\n",
       "<ol class=list-inline><li>'X1'</li><li>'X2'</li><li>'X3'</li><li>'gene_id'</li><li>'X9'</li><li>'X10'</li><li>'X4'</li></ol>\n"
      ],
      "text/latex": [
       "\\begin{enumerate*}\n",
       "\\item 'X1'\n",
       "\\item 'X2'\n",
       "\\item 'X3'\n",
       "\\item 'gene\\_id'\n",
       "\\item 'X9'\n",
       "\\item 'X10'\n",
       "\\item 'X4'\n",
       "\\end{enumerate*}\n"
      ],
      "text/markdown": [
       "1. 'X1'\n",
       "2. 'X2'\n",
       "3. 'X3'\n",
       "4. 'gene_id'\n",
       "5. 'X9'\n",
       "6. 'X10'\n",
       "7. 'X4'\n",
       "\n",
       "\n"
      ],
      "text/plain": [
       "[1] \"X1\"      \"X2\"      \"X3\"      \"gene_id\" \"X9\"      \"X10\"     \"X4\"     "
      ]
     },
     "metadata": {},
     "output_type": "display_data"
    }
   ],
   "source": [
    "colnames(c)"
   ]
  },
  {
   "cell_type": "code",
   "execution_count": 133,
   "id": "707917c9-1256-4eb7-9c28-04cd39e332bc",
   "metadata": {},
   "outputs": [
    {
     "data": {
      "text/html": [
       "<table class=\"dataframe\">\n",
       "<caption>A matrix: 3 x 3 of type dbl</caption>\n",
       "<thead>\n",
       "\t<tr><th></th><th scope=col>AC</th><th scope=col>DLPFC</th><th scope=col>PCC</th></tr>\n",
       "</thead>\n",
       "<tbody>\n",
       "\t<tr><th scope=row>AC</th><td>1.0000000</td><td>0.1916955</td><td>0.1885282</td></tr>\n",
       "\t<tr><th scope=row>DLPFC</th><td>0.1916955</td><td>1.0000000</td><td>0.2362617</td></tr>\n",
       "\t<tr><th scope=row>PCC</th><td>0.1885282</td><td>0.2362617</td><td>1.0000000</td></tr>\n",
       "</tbody>\n",
       "</table>\n"
      ],
      "text/latex": [
       "A matrix: 3 x 3 of type dbl\n",
       "\\begin{tabular}{r|lll}\n",
       "  & AC & DLPFC & PCC\\\\\n",
       "\\hline\n",
       "\tAC & 1.0000000 & 0.1916955 & 0.1885282\\\\\n",
       "\tDLPFC & 0.1916955 & 1.0000000 & 0.2362617\\\\\n",
       "\tPCC & 0.1885282 & 0.2362617 & 1.0000000\\\\\n",
       "\\end{tabular}\n"
      ],
      "text/markdown": [
       "\n",
       "A matrix: 3 x 3 of type dbl\n",
       "\n",
       "| <!--/--> | AC | DLPFC | PCC |\n",
       "|---|---|---|---|\n",
       "| AC | 1.0000000 | 0.1916955 | 0.1885282 |\n",
       "| DLPFC | 0.1916955 | 1.0000000 | 0.2362617 |\n",
       "| PCC | 0.1885282 | 0.2362617 | 1.0000000 |\n",
       "\n"
      ],
      "text/plain": [
       "      AC        DLPFC     PCC      \n",
       "AC    1.0000000 0.1916955 0.1885282\n",
       "DLPFC 0.1916955 1.0000000 0.2362617\n",
       "PCC   0.1885282 0.2362617 1.0000000"
      ]
     },
     "metadata": {},
     "output_type": "display_data"
    }
   ],
   "source": [
    "(c$X4[[3]])$sigma2"
   ]
  },
  {
   "cell_type": "code",
   "execution_count": 135,
   "id": "509591ad-44f4-49ee-bf7e-22905626742b",
   "metadata": {},
   "outputs": [
    {
     "data": {
      "text/html": [
       "'logical'"
      ],
      "text/latex": [
       "'logical'"
      ],
      "text/markdown": [
       "'logical'"
      ],
      "text/plain": [
       "[1] \"logical\""
      ]
     },
     "metadata": {},
     "output_type": "display_data"
    }
   ],
   "source": [
    "class(c$X4[[2]])"
   ]
  },
  {
   "cell_type": "code",
   "execution_count": 148,
   "id": "7a28d29c-8311-4117-9236-142413c82d97",
   "metadata": {},
   "outputs": [
    {
     "name": "stderr",
     "output_type": "stream",
     "text": [
      "\n",
      "\u001b[36m──\u001b[39m \u001b[1m\u001b[1mColumn specification\u001b[1m\u001b[22m \u001b[36m────────────────────────────────────────────────────────\u001b[39m\n",
      "cols(\n",
      "  X1 = \u001b[31mcol_character()\u001b[39m\n",
      ")\n",
      "\n",
      "\n"
     ]
    }
   ],
   "source": [
    "V_list = read_delim(\"/mnt/mfs/statgen/neuro-twas/mv_wg/result_arch/V_list\",\"\\t\",col_names  = F)"
   ]
  },
  {
   "cell_type": "code",
   "execution_count": null,
   "id": "a8837644-6308-45d4-9c0e-834ff048cd8d",
   "metadata": {},
   "outputs": [],
   "source": [
    "V_list = V_list %>% mutate(env = map(X1,~attach(paste(c(\"/mnt/mfs/statgen/neuro-twas/mv_wg/result_arch/\",.x),collapse = \"\"))),\n",
    "                          V = map(env,~.x$full_model$sigma2))"
   ]
  },
  {
   "cell_type": "code",
   "execution_count": 161,
   "id": "8f6131f5-ed77-4f21-b254-96febb20838a",
   "metadata": {},
   "outputs": [],
   "source": [
    "a = readRDS(\"/mnt/mfs/statgen/neuro-twas/TWAS_sumstat/null_z_cor.rds\")"
   ]
  },
  {
   "cell_type": "code",
   "execution_count": 162,
   "id": "b878909d-63a6-46d9-a218-3d601b0b5c85",
   "metadata": {},
   "outputs": [
    {
     "data": {
      "text/html": [
       "<table class=\"dataframe\">\n",
       "<caption>A matrix: 4 x 4 of type dbl</caption>\n",
       "<thead>\n",
       "\t<tr><th></th><th scope=col>AC</th><th scope=col>DLPFC</th><th scope=col>PCC</th><th scope=col>TWAS_sumstat</th></tr>\n",
       "</thead>\n",
       "<tbody>\n",
       "\t<tr><th scope=row>AC</th><td> 1.000000000</td><td> 0.191695550</td><td>0.188528160</td><td>-0.005253693</td></tr>\n",
       "\t<tr><th scope=row>DLPFC</th><td> 0.191695550</td><td> 1.000000000</td><td>0.236261691</td><td>-0.000648887</td></tr>\n",
       "\t<tr><th scope=row>PCC</th><td> 0.188528160</td><td> 0.236261691</td><td>1.000000000</td><td> 0.002678716</td></tr>\n",
       "\t<tr><th scope=row>TWAS_sumstat</th><td>-0.005253693</td><td>-0.000648887</td><td>0.002678716</td><td> 1.000000000</td></tr>\n",
       "</tbody>\n",
       "</table>\n"
      ],
      "text/latex": [
       "A matrix: 4 x 4 of type dbl\n",
       "\\begin{tabular}{r|llll}\n",
       "  & AC & DLPFC & PCC & TWAS\\_sumstat\\\\\n",
       "\\hline\n",
       "\tAC &  1.000000000 &  0.191695550 & 0.188528160 & -0.005253693\\\\\n",
       "\tDLPFC &  0.191695550 &  1.000000000 & 0.236261691 & -0.000648887\\\\\n",
       "\tPCC &  0.188528160 &  0.236261691 & 1.000000000 &  0.002678716\\\\\n",
       "\tTWAS\\_sumstat & -0.005253693 & -0.000648887 & 0.002678716 &  1.000000000\\\\\n",
       "\\end{tabular}\n"
      ],
      "text/markdown": [
       "\n",
       "A matrix: 4 x 4 of type dbl\n",
       "\n",
       "| <!--/--> | AC | DLPFC | PCC | TWAS_sumstat |\n",
       "|---|---|---|---|---|\n",
       "| AC |  1.000000000 |  0.191695550 | 0.188528160 | -0.005253693 |\n",
       "| DLPFC |  0.191695550 |  1.000000000 | 0.236261691 | -0.000648887 |\n",
       "| PCC |  0.188528160 |  0.236261691 | 1.000000000 |  0.002678716 |\n",
       "| TWAS_sumstat | -0.005253693 | -0.000648887 | 0.002678716 |  1.000000000 |\n",
       "\n"
      ],
      "text/plain": [
       "             AC           DLPFC        PCC         TWAS_sumstat\n",
       "AC            1.000000000  0.191695550 0.188528160 -0.005253693\n",
       "DLPFC         0.191695550  1.000000000 0.236261691 -0.000648887\n",
       "PCC           0.188528160  0.236261691 1.000000000  0.002678716\n",
       "TWAS_sumstat -0.005253693 -0.000648887 0.002678716  1.000000000"
      ]
     },
     "metadata": {},
     "output_type": "display_data"
    }
   ],
   "source": [
    "a"
   ]
  },
  {
   "cell_type": "code",
   "execution_count": 14,
   "id": "172ae6b4-aaca-4a49-a7fa-ba307cdb5969",
   "metadata": {},
   "outputs": [],
   "source": [
    "switch = function(R){\n",
    "  (R[2:3,] = R[3:2,])\n",
    "  (R[,2:3] = R[,3:2])\n",
    "  return(R)\n",
    "}"
   ]
  },
  {
   "cell_type": "code",
   "execution_count": 33,
   "id": "40a3d8e4-2f70-4f06-8b4c-11dbba915f14",
   "metadata": {},
   "outputs": [
    {
     "name": "stderr",
     "output_type": "stream",
     "text": [
      "Warning message in gzfile(file, \"rb\"):\n",
      "“cannot open compressed file '/mnt/mfs/statgen/neuro-twas/TWAS_sumstat/susie_rss_eqtl_ori/geneTpmResidualsAgeGenderAdj_rename.ENSG00000078487.LDoriginal.mvsusierss.rds', probable reason 'No such file or directory'”\n",
      "Warning message in gzfile(file, \"rb\"):\n",
      "“cannot open compressed file '/mnt/mfs/statgen/neuro-twas/TWAS_sumstat/susie_rss_eqtl_ori/geneTpmResidualsAgeGenderAdj_rename.ENSG00000196126.LDoriginal.mvsusierss.rds', probable reason 'No such file or directory'”\n"
     ]
    }
   ],
   "source": [
    "c = c%>%mutate(X2 = str_remove_all(X1,\".uni_weight\"),\n",
    "           cor_path = map_chr(X2,~paste(c(\"/mnt/mfs/statgen/neuro-twas/TWAS_sumstat/susie_rss_eqtl_ori/\",.x,\".LDoriginal.mvsusierss.rds\"),collapse = \"\")),\n",
    "           cor_model = map(cor_path,~readRDS(.x)%>%tryCatch(error = function(e) return(NA)))\n",
    "          )"
   ]
  },
  {
   "cell_type": "code",
   "execution_count": 41,
   "id": "9e328ad5-27ba-48f7-9f86-24e0aa183548",
   "metadata": {},
   "outputs": [],
   "source": [
    "cor = c%>%filter(!is.na(cor_model))%>%mutate(cor_cs = map(cor_model,~.x$variable_names[.x$sets$cs%>%unlist]),cor_n_cs = map(cor_model,~.x$sets$cs%>%length ),cor_sigma = map(cor_model,~.x$sigma2))"
   ]
  },
  {
   "cell_type": "code",
   "execution_count": 42,
   "id": "c68ff029-f814-4629-bfb2-3b4ef7c4931c",
   "metadata": {},
   "outputs": [
    {
     "data": {
      "text/html": [
       "<style>\n",
       ".list-inline {list-style: none; margin:0; padding: 0}\n",
       ".list-inline>li {display: inline-block}\n",
       ".list-inline>li:not(:last-child)::after {content: \"\\00b7\"; padding: 0 .5ex}\n",
       "</style>\n",
       "<ol class=list-inline><li>'X1'</li><li>'X2'</li><li>'X3'</li><li>'X4'</li><li>'X9'</li><li>'X10'</li><li>'gene_id'</li><li>'cor_path'</li><li>'cor_model'</li><li>'cor_cs'</li><li>'cor_n_cs'</li><li>'cor_sigma'</li></ol>\n"
      ],
      "text/latex": [
       "\\begin{enumerate*}\n",
       "\\item 'X1'\n",
       "\\item 'X2'\n",
       "\\item 'X3'\n",
       "\\item 'X4'\n",
       "\\item 'X9'\n",
       "\\item 'X10'\n",
       "\\item 'gene\\_id'\n",
       "\\item 'cor\\_path'\n",
       "\\item 'cor\\_model'\n",
       "\\item 'cor\\_cs'\n",
       "\\item 'cor\\_n\\_cs'\n",
       "\\item 'cor\\_sigma'\n",
       "\\end{enumerate*}\n"
      ],
      "text/markdown": [
       "1. 'X1'\n",
       "2. 'X2'\n",
       "3. 'X3'\n",
       "4. 'X4'\n",
       "5. 'X9'\n",
       "6. 'X10'\n",
       "7. 'gene_id'\n",
       "8. 'cor_path'\n",
       "9. 'cor_model'\n",
       "10. 'cor_cs'\n",
       "11. 'cor_n_cs'\n",
       "12. 'cor_sigma'\n",
       "\n",
       "\n"
      ],
      "text/plain": [
       " [1] \"X1\"        \"X2\"        \"X3\"        \"X4\"        \"X9\"        \"X10\"      \n",
       " [7] \"gene_id\"   \"cor_path\"  \"cor_model\" \"cor_cs\"    \"cor_n_cs\"  \"cor_sigma\""
      ]
     },
     "metadata": {},
     "output_type": "display_data"
    }
   ],
   "source": [
    "colnames(cor)"
   ]
  },
  {
   "cell_type": "code",
   "execution_count": 57,
   "id": "b9fc0380-b1a6-4b0c-aa48-71d573962206",
   "metadata": {},
   "outputs": [
    {
     "name": "stderr",
     "output_type": "stream",
     "text": [
      "Joining, by = c(\"X1\", \"X2\", \"X3\", \"X4\", \"X9\", \"X10\", \"gene_id\", \"cor_path\", \"cor_model\")\n",
      "\n"
     ]
    }
   ],
   "source": [
    "sum = inner_join(cor,c)"
   ]
  },
  {
   "cell_type": "code",
   "execution_count": 58,
   "id": "c19af25f-cc12-4dcf-879f-d48dfc400586",
   "metadata": {},
   "outputs": [
    {
     "name": "stderr",
     "output_type": "stream",
     "text": [
      "Joining, by = c(\"X2\", \"gene_id\")\n",
      "\n"
     ]
    }
   ],
   "source": [
    "sum = inner_join(sum,V)"
   ]
  },
  {
   "cell_type": "code",
   "execution_count": 59,
   "id": "5ab78f97-696c-491c-9279-82a9e283c254",
   "metadata": {},
   "outputs": [],
   "source": [
    "sum = sum%>%rename(new_model = X4, old_model = X10)"
   ]
  },
  {
   "cell_type": "code",
   "execution_count": null,
   "id": "ec4ad8a0-0781-4b32-9988-33fc91c7fb2c",
   "metadata": {},
   "outputs": [],
   "source": [
    "sum%>%mutate(snps_path = )"
   ]
  },
  {
   "cell_type": "code",
   "execution_count": 172,
   "id": "582549f8-a4bf-4353-8212-8104848db554",
   "metadata": {},
   "outputs": [
    {
     "name": "stderr",
     "output_type": "stream",
     "text": [
      "The following object is masked from file:/mnt/mfs/statgen/neuro-twas/mv_wg/result_arch/geneTpmResidualsAgeGenderAdj_rename.ENSG00000002587.mv_susie.model.RData (pos = 86):\n",
      "\n",
      "    m_ENSG00000002587\n",
      "\n",
      "\n"
     ]
    }
   ],
   "source": [
    "test = attach(\"/mnt/mfs/statgen/neuro-twas/mv_wg/result_arch/geneTpmResidualsAgeGenderAdj_rename.ENSG00000002587.mv_susie.model.RData\")"
   ]
  },
  {
   "cell_type": "code",
   "execution_count": 97,
   "id": "7b373755-0c16-4557-814a-1090355de8c8",
   "metadata": {},
   "outputs": [],
   "source": [
    "colnames(test$scaled_ENSG00000105186[[1]])%>%length"
   ]
  },
  {
   "cell_type": "code",
   "execution_count": 173,
   "id": "a501538b-6748-4abf-a659-de07cb0fc7d0",
   "metadata": {},
   "outputs": [
    {
     "data": {
      "text/html": [
       "<table class=\"dataframe\">\n",
       "<caption>A matrix: 3 x 3 of type dbl</caption>\n",
       "<tbody>\n",
       "\t<tr><td>0.99916875</td><td>0.02987007</td><td>0.1088870</td></tr>\n",
       "\t<tr><td>0.02987007</td><td>0.99770581</td><td>0.1392765</td></tr>\n",
       "\t<tr><td>0.10888697</td><td>0.13927648</td><td>0.9968736</td></tr>\n",
       "</tbody>\n",
       "</table>\n"
      ],
      "text/latex": [
       "A matrix: 3 x 3 of type dbl\n",
       "\\begin{tabular}{lll}\n",
       "\t 0.99916875 & 0.02987007 & 0.1088870\\\\\n",
       "\t 0.02987007 & 0.99770581 & 0.1392765\\\\\n",
       "\t 0.10888697 & 0.13927648 & 0.9968736\\\\\n",
       "\\end{tabular}\n"
      ],
      "text/markdown": [
       "\n",
       "A matrix: 3 x 3 of type dbl\n",
       "\n",
       "| 0.99916875 | 0.02987007 | 0.1088870 |\n",
       "| 0.02987007 | 0.99770581 | 0.1392765 |\n",
       "| 0.10888697 | 0.13927648 | 0.9968736 |\n",
       "\n"
      ],
      "text/plain": [
       "     [,1]       [,2]       [,3]     \n",
       "[1,] 0.99916875 0.02987007 0.1088870\n",
       "[2,] 0.02987007 0.99770581 0.1392765\n",
       "[3,] 0.10888697 0.13927648 0.9968736"
      ]
     },
     "metadata": {},
     "output_type": "display_data"
    }
   ],
   "source": [
    "test$m_ENSG00000002587$sigma2"
   ]
  },
  {
   "cell_type": "code",
   "execution_count": 121,
   "id": "7ddc28bb-b0b6-4c89-b316-5cf6de73e913",
   "metadata": {},
   "outputs": [
    {
     "name": "stderr",
     "output_type": "stream",
     "text": [
      "The following object is masked from file:/mnt/mfs/statgen/neuro-twas/mv_wg/result_arch/geneTpmResidualsAgeGenderAdj_rename.ENSG00000002587.transformed_XY.RData (pos = 26):\n",
      "\n",
      "    scaled_ENSG00000002587\n",
      "\n",
      "\n",
      "The following object is masked from file:/mnt/mfs/statgen/neuro-twas/mv_wg/result_arch/geneTpmResidualsAgeGenderAdj_rename.ENSG00000002587.transformed_XY.RData (pos = 27):\n",
      "\n",
      "    scaled_ENSG00000002587\n",
      "\n",
      "\n",
      "The following object is masked from file:/mnt/mfs/statgen/neuro-twas/mv_wg/result_arch/geneTpmResidualsAgeGenderAdj_rename.ENSG00000002587.transformed_XY.RData (pos = 28):\n",
      "\n",
      "    scaled_ENSG00000002587\n",
      "\n",
      "\n",
      "The following object is masked from file:/mnt/mfs/statgen/neuro-twas/mv_wg/result_arch/geneTpmResidualsAgeGenderAdj_rename.ENSG00000002587.transformed_XY.RData (pos = 29):\n",
      "\n",
      "    scaled_ENSG00000002587\n",
      "\n",
      "\n",
      "The following object is masked from file:/mnt/mfs/statgen/neuro-twas/mv_wg/result_arch/geneTpmResidualsAgeGenderAdj_rename.ENSG00000002587.transformed_XY.RData (pos = 30):\n",
      "\n",
      "    scaled_ENSG00000002587\n",
      "\n",
      "\n",
      "The following object is masked from file:/mnt/mfs/statgen/neuro-twas/mv_wg/result_arch/geneTpmResidualsAgeGenderAdj_rename.ENSG00000064687.transformed_XY.RData (pos = 26):\n",
      "\n",
      "    scaled_ENSG00000064687\n",
      "\n",
      "\n",
      "The following object is masked from file:/mnt/mfs/statgen/neuro-twas/mv_wg/result_arch/geneTpmResidualsAgeGenderAdj_rename.ENSG00000073921.transformed_XY.RData (pos = 26):\n",
      "\n",
      "    scaled_ENSG00000073921\n",
      "\n",
      "\n",
      "The following object is masked from file:/mnt/mfs/statgen/neuro-twas/mv_wg/result_arch/geneTpmResidualsAgeGenderAdj_rename.ENSG00000087589.transformed_XY.RData (pos = 26):\n",
      "\n",
      "    scaled_ENSG00000087589\n",
      "\n",
      "\n",
      "The following object is masked from file:/mnt/mfs/statgen/neuro-twas/mv_wg/result_arch/geneTpmResidualsAgeGenderAdj_rename.ENSG00000103510.transformed_XY.RData (pos = 26):\n",
      "\n",
      "    scaled_ENSG00000103510\n",
      "\n",
      "\n",
      "The following object is masked from file:/mnt/mfs/statgen/neuro-twas/mv_wg/result_arch/geneTpmResidualsAgeGenderAdj_rename.ENSG00000105383.transformed_XY.RData (pos = 26):\n",
      "\n",
      "    scaled_ENSG00000105383\n",
      "\n",
      "\n",
      "The following object is masked from file:/mnt/mfs/statgen/neuro-twas/mv_wg/result_arch/geneTpmResidualsAgeGenderAdj_rename.ENSG00000108798.transformed_XY.RData (pos = 26):\n",
      "\n",
      "    scaled_ENSG00000108798\n",
      "\n",
      "\n",
      "The following object is masked from file:/mnt/mfs/statgen/neuro-twas/mv_wg/result_arch/geneTpmResidualsAgeGenderAdj_rename.ENSG00000110077.transformed_XY.RData (pos = 26):\n",
      "\n",
      "    scaled_ENSG00000110077\n",
      "\n",
      "\n",
      "The following object is masked from file:/mnt/mfs/statgen/neuro-twas/mv_wg/result_arch/geneTpmResidualsAgeGenderAdj_rename.ENSG00000120885.transformed_XY.RData (pos = 26):\n",
      "\n",
      "    scaled_ENSG00000120885\n",
      "\n",
      "\n",
      "The following object is masked from file:/mnt/mfs/statgen/neuro-twas/mv_wg/result_arch/geneTpmResidualsAgeGenderAdj_rename.ENSG00000120899.transformed_XY.RData (pos = 26):\n",
      "\n",
      "    scaled_ENSG00000120899\n",
      "\n",
      "\n",
      "The following object is masked from file:/mnt/mfs/statgen/neuro-twas/mv_wg/result_arch/geneTpmResidualsAgeGenderAdj_rename.ENSG00000130203.transformed_XY.RData (pos = 26):\n",
      "\n",
      "    scaled_ENSG00000130203\n",
      "\n",
      "\n",
      "The following object is masked from file:/mnt/mfs/statgen/neuro-twas/mv_wg/result_arch/geneTpmResidualsAgeGenderAdj_rename.ENSG00000134463.transformed_XY.RData (pos = 26):\n",
      "\n",
      "    scaled_ENSG00000134463\n",
      "\n",
      "\n",
      "The following object is masked from file:/mnt/mfs/statgen/neuro-twas/mv_wg/result_arch/geneTpmResidualsAgeGenderAdj_rename.ENSG00000136717.transformed_XY.RData (pos = 26):\n",
      "\n",
      "    scaled_ENSG00000136717\n",
      "\n",
      "\n",
      "The following object is masked from file:/mnt/mfs/statgen/neuro-twas/mv_wg/result_arch/geneTpmResidualsAgeGenderAdj_rename.ENSG00000137642.transformed_XY.RData (pos = 26):\n",
      "\n",
      "    scaled_ENSG00000137642\n",
      "\n",
      "\n",
      "The following object is masked from file:/mnt/mfs/statgen/neuro-twas/mv_wg/result_arch/geneTpmResidualsAgeGenderAdj_rename.ENSG00000137845.transformed_XY.RData (pos = 26):\n",
      "\n",
      "    scaled_ENSG00000137845\n",
      "\n",
      "\n",
      "The following object is masked from file:/mnt/mfs/statgen/neuro-twas/mv_wg/result_arch/geneTpmResidualsAgeGenderAdj_rename.ENSG00000138613.transformed_XY.RData (pos = 26):\n",
      "\n",
      "    scaled_ENSG00000138613\n",
      "\n",
      "\n",
      "The following object is masked from file:/mnt/mfs/statgen/neuro-twas/mv_wg/result_arch/geneTpmResidualsAgeGenderAdj_rename.ENSG00000140090.transformed_XY.RData (pos = 26):\n",
      "\n",
      "    scaled_ENSG00000140090\n",
      "\n",
      "\n",
      "The following object is masked from file:/mnt/mfs/statgen/neuro-twas/mv_wg/result_arch/geneTpmResidualsAgeGenderAdj_rename.ENSG00000158859.transformed_XY.RData (pos = 26):\n",
      "\n",
      "    scaled_ENSG00000158859\n",
      "\n",
      "\n",
      "The following object is masked from file:/mnt/mfs/statgen/neuro-twas/mv_wg/result_arch/geneTpmResidualsAgeGenderAdj_rename.ENSG00000161929.transformed_XY.RData (pos = 26):\n",
      "\n",
      "    scaled_ENSG00000161929\n",
      "\n",
      "\n",
      "The following object is masked from file:/mnt/mfs/statgen/neuro-twas/mv_wg/result_arch/geneTpmResidualsAgeGenderAdj_rename.ENSG00000168918.transformed_XY.RData (pos = 26):\n",
      "\n",
      "    scaled_ENSG00000168918\n",
      "\n",
      "\n",
      "The following object is masked from file:/mnt/mfs/statgen/neuro-twas/mv_wg/result_arch/geneTpmResidualsAgeGenderAdj_rename.ENSG00000198087.transformed_XY.RData (pos = 26):\n",
      "\n",
      "    scaled_ENSG00000198087\n",
      "\n",
      "\n",
      "The following object is masked from file:/mnt/mfs/statgen/neuro-twas/mv_wg/result_arch/geneTpmResidualsAgeGenderAdj_rename.ENSG00000203710.transformed_XY.RData (pos = 26):\n",
      "\n",
      "    scaled_ENSG00000203710\n",
      "\n",
      "\n",
      "The following object is masked from file:/mnt/mfs/statgen/neuro-twas/mv_wg/result_arch/geneTpmResidualsAgeGenderAdj_rename.ENSG00000264538.transformed_XY.RData (pos = 26):\n",
      "\n",
      "    scaled_ENSG00000264538\n",
      "\n",
      "\n",
      "The following object is masked from file:/mnt/mfs/statgen/neuro-twas/mv_wg/result_arch/geneTpmResidualsAgeGenderAdj_rename.ENSG00000265148.transformed_XY.RData (pos = 26):\n",
      "\n",
      "    scaled_ENSG00000265148\n",
      "\n",
      "\n"
     ]
    }
   ],
   "source": [
    "sum = sum%>%mutate(snps_path = X1%>%str_replace(\"gene\",\"/mnt/mfs/statgen/neuro-twas/mv_wg/result_arch/gene\")%>%str_replace(\".uni_weight\",\".transformed_XY.RData\"),\n",
    "                   gene_id_mod = gene_id%>%str_replace(\"m_\",\"scaled_\"),\n",
    "                   snps_env = map(snps_path,~attach(.x)),\n",
    "                    snps = map2(snps_env,gene_id_mod,~colnames(get(.y,env =.x)[[1]])))\n",
    "                  "
   ]
  },
  {
   "cell_type": "code",
   "execution_count": 134,
   "id": "319987f3-33b7-4e4d-8fcb-e819c5578ffb",
   "metadata": {},
   "outputs": [
    {
     "name": "stderr",
     "output_type": "stream",
     "text": [
      "\n",
      "\u001b[36m──\u001b[39m \u001b[1m\u001b[1mColumn specification\u001b[1m\u001b[22m \u001b[36m────────────────────────────────────────────────────────\u001b[39m\n",
      "cols(\n",
      "  X1 = \u001b[31mcol_character()\u001b[39m,\n",
      "  X2 = \u001b[31mcol_character()\u001b[39m\n",
      ")\n",
      "\n",
      "\n"
     ]
    }
   ],
   "source": [
    "fail_list = read_delim(\"/mnt/mfs/statgen/neuro-twas/TWAS_sumstat/susie_rss_eqtl_ori/fail_list\",delim = \":\",col_names = F)%>%pull(X1)%>%str_remove(\".LDoriginal.mvsusierss.stderr\")%>%str_replace(\"geneTpmResidualsAgeGenderAdj_rename.\",\"m_\")"
   ]
  },
  {
   "cell_type": "code",
   "execution_count": 135,
   "id": "ae8213fe-6daa-493f-8d78-d9af24aeca8e",
   "metadata": {},
   "outputs": [
    {
     "data": {
      "text/html": [
       "<style>\n",
       ".list-inline {list-style: none; margin:0; padding: 0}\n",
       ".list-inline>li {display: inline-block}\n",
       ".list-inline>li:not(:last-child)::after {content: \"\\00b7\"; padding: 0 .5ex}\n",
       "</style>\n",
       "<ol class=list-inline><li>'m_ENSG00000064687'</li><li>'m_ENSG00000103510'</li><li>'m_ENSG00000110077'</li><li>'m_ENSG00000130203'</li><li>'m_ENSG00000140090'</li><li>'m_ENSG00000161929'</li><li>'m_ENSG00000168918'</li><li>'m_ENSG00000198087'</li><li>'m_ENSG00000203710'</li><li>'m_ENSG00000264538'</li><li>'m_ENSG00000265148'</li></ol>\n"
      ],
      "text/latex": [
       "\\begin{enumerate*}\n",
       "\\item 'm\\_ENSG00000064687'\n",
       "\\item 'm\\_ENSG00000103510'\n",
       "\\item 'm\\_ENSG00000110077'\n",
       "\\item 'm\\_ENSG00000130203'\n",
       "\\item 'm\\_ENSG00000140090'\n",
       "\\item 'm\\_ENSG00000161929'\n",
       "\\item 'm\\_ENSG00000168918'\n",
       "\\item 'm\\_ENSG00000198087'\n",
       "\\item 'm\\_ENSG00000203710'\n",
       "\\item 'm\\_ENSG00000264538'\n",
       "\\item 'm\\_ENSG00000265148'\n",
       "\\end{enumerate*}\n"
      ],
      "text/markdown": [
       "1. 'm_ENSG00000064687'\n",
       "2. 'm_ENSG00000103510'\n",
       "3. 'm_ENSG00000110077'\n",
       "4. 'm_ENSG00000130203'\n",
       "5. 'm_ENSG00000140090'\n",
       "6. 'm_ENSG00000161929'\n",
       "7. 'm_ENSG00000168918'\n",
       "8. 'm_ENSG00000198087'\n",
       "9. 'm_ENSG00000203710'\n",
       "10. 'm_ENSG00000264538'\n",
       "11. 'm_ENSG00000265148'\n",
       "\n",
       "\n"
      ],
      "text/plain": [
       " [1] \"m_ENSG00000064687\" \"m_ENSG00000103510\" \"m_ENSG00000110077\"\n",
       " [4] \"m_ENSG00000130203\" \"m_ENSG00000140090\" \"m_ENSG00000161929\"\n",
       " [7] \"m_ENSG00000168918\" \"m_ENSG00000198087\" \"m_ENSG00000203710\"\n",
       "[10] \"m_ENSG00000264538\" \"m_ENSG00000265148\""
      ]
     },
     "metadata": {},
     "output_type": "display_data"
    }
   ],
   "source": [
    "fail_list"
   ]
  },
  {
   "cell_type": "code",
   "execution_count": 88,
   "id": "6ab6312f-5ad4-4ca7-8266-d9022564e7c1",
   "metadata": {},
   "outputs": [],
   "source": [
    "sum = sum%>%mutate(new_cs = map(new_model,~.x$variable_names[.x$sets$cs%>%unlist]),new_n_cs = map(new_model,~.x$sets$cs%>%length ),new_sigma = map(new_model,~.x$sigma2))%>%\n",
    "            mutate(old_model = map2(old_model,gene_id , ~get(.y,env = .x)), old_cs = map2(old_model,snps,~.y[.x$sets$cs%>%unlist]),old_n_cs = map(old_model,~.x$sets$cs%>%length ), old_sigma = map(old_model,~.x$sigma2) )"
   ]
  },
  {
   "cell_type": "code",
   "execution_count": 141,
   "id": "36e600df-1ac0-4cc4-9bf9-a703bbfce825",
   "metadata": {},
   "outputs": [],
   "source": [
    "sum = sum%>%mutate(cor_old_prior_path  = map_chr(X2,~paste(c(\"/mnt/mfs/statgen/neuro-twas/TWAS_sumstat/susie_rss_eqtl_cor/\",.x,\".LDoriginal.mvsusierss.rds\"),collapse = \"\")),\n",
    "           cop_model = map(cor_old_prior_path,~readRDS(.x)%>%tryCatch(error = function(e) return(NA))),\n",
    "            cop_cs = map(cop_model, ~.x$variable_names[.x$sets$cs%>%unlist()]) )"
   ]
  },
  {
   "cell_type": "code",
   "execution_count": null,
   "id": "7d804f54-2b4d-4658-998f-84212219b70d",
   "metadata": {},
   "outputs": [],
   "source": []
  },
  {
   "cell_type": "code",
   "execution_count": 149,
   "id": "ef5ada97-07ce-417c-9862-8b0c4eea10d5",
   "metadata": {},
   "outputs": [],
   "source": [
    "result_sum = sum%>%select(gene_id,new_cs,old_cs,cor_cs,cop_cs)%>%mutate(failed = gene_id%in%fail_list,new_cor = map2(new_cs,cor_cs,~intersect(.x,.y)),new_old = map2(new_cs,old_cs,~intersect(.x,.y)),old_cor = map2(old_cs,cor_cs,~intersect(.x,.y)),cor_cop = map2(cor_cs,cop_cs,~intersect(.x,.y)))"
   ]
  },
  {
   "cell_type": "code",
   "execution_count": 168,
   "id": "81ca9eb4-7721-4a88-b56d-785504aec7d2",
   "metadata": {},
   "outputs": [
    {
     "data": {
      "text/html": [
       "<table class=\"dataframe\">\n",
       "<caption>A tibble: 13 x 10</caption>\n",
       "<thead>\n",
       "\t<tr><th scope=col>gene_id</th><th scope=col>new_cs</th><th scope=col>old_cs</th><th scope=col>cor_cs</th><th scope=col>cop_cs</th><th scope=col>failed</th><th scope=col>new_cor</th><th scope=col>new_old</th><th scope=col>old_cor</th><th scope=col>cor_cop</th></tr>\n",
       "\t<tr><th scope=col>&lt;chr&gt;</th><th scope=col>&lt;list&gt;</th><th scope=col>&lt;list&gt;</th><th scope=col>&lt;list&gt;</th><th scope=col>&lt;list&gt;</th><th scope=col>&lt;lgl&gt;</th><th scope=col>&lt;list&gt;</th><th scope=col>&lt;list&gt;</th><th scope=col>&lt;list&gt;</th><th scope=col>&lt;list&gt;</th></tr>\n",
       "</thead>\n",
       "<tbody>\n",
       "\t<tr><td>m_ENSG00000002587</td><td></td><td></td><td></td><td></td><td>FALSE</td><td></td><td></td><td></td><td></td></tr>\n",
       "\t<tr><td>m_ENSG00000073921</td><td></td><td></td><td></td><td></td><td>FALSE</td><td></td><td></td><td></td><td></td></tr>\n",
       "\t<tr><td>m_ENSG00000087589</td><td></td><td></td><td></td><td></td><td>FALSE</td><td></td><td></td><td></td><td></td></tr>\n",
       "\t<tr><td>m_ENSG00000105383</td><td></td><td></td><td></td><td></td><td>FALSE</td><td></td><td></td><td></td><td></td></tr>\n",
       "\t<tr><td>m_ENSG00000108798</td><td></td><td></td><td></td><td></td><td>FALSE</td><td></td><td></td><td></td><td></td></tr>\n",
       "\t<tr><td>m_ENSG00000120885</td><td>8:27459205_A_C, 8:27458104_C_G</td><td></td><td></td><td></td><td>FALSE</td><td></td><td></td><td></td><td></td></tr>\n",
       "\t<tr><td>m_ENSG00000120899</td><td></td><td></td><td></td><td></td><td>FALSE</td><td></td><td></td><td></td><td></td></tr>\n",
       "\t<tr><td>m_ENSG00000134463</td><td>10:11822747_C_T, 10:11832356_C_T, 10:11825742_C_G</td><td>10:11786415_A_G, 10:11797500_A_G, 10:11802849_A_G, 10:11809368_C_T, 10:11809948_A_G, 10:11821218_C_T, 10:11841338_A_G, 10:11841351_A_G</td><td>10:11822747_C_T, 10:11832356_C_T, 10:11825742_C_G</td><td>10:11822747_C_T, 10:11832356_C_T, 10:11825742_C_G</td><td>FALSE</td><td>10:11822747_C_T, 10:11832356_C_T, 10:11825742_C_G</td><td></td><td></td><td>10:11822747_C_T, 10:11832356_C_T, 10:11825742_C_G</td></tr>\n",
       "\t<tr><td>m_ENSG00000136717</td><td>2:127446528_C_T, 2:127446853_C_T</td><td></td><td></td><td></td><td>FALSE</td><td></td><td></td><td></td><td></td></tr>\n",
       "\t<tr><td>m_ENSG00000137642</td><td></td><td></td><td></td><td></td><td>FALSE</td><td></td><td></td><td></td><td></td></tr>\n",
       "\t<tr><td>m_ENSG00000137845</td><td></td><td></td><td></td><td></td><td>FALSE</td><td></td><td></td><td></td><td></td></tr>\n",
       "\t<tr><td>m_ENSG00000138613</td><td>15:63515503_G_T, 15:63552102_C_T, 15:63516266_C_G, 15:63516759_A_G, 15:63550357_A_G</td><td></td><td></td><td></td><td>FALSE</td><td></td><td></td><td></td><td></td></tr>\n",
       "\t<tr><td>m_ENSG00000158859</td><td></td><td></td><td></td><td></td><td>FALSE</td><td></td><td></td><td></td><td></td></tr>\n",
       "</tbody>\n",
       "</table>\n"
      ],
      "text/latex": [
       "A tibble: 13 x 10\n",
       "\\begin{tabular}{llllllllll}\n",
       " gene\\_id & new\\_cs & old\\_cs & cor\\_cs & cop\\_cs & failed & new\\_cor & new\\_old & old\\_cor & cor\\_cop\\\\\n",
       " <chr> & <list> & <list> & <list> & <list> & <lgl> & <list> & <list> & <list> & <list>\\\\\n",
       "\\hline\n",
       "\t m\\_ENSG00000002587 &  &  &  &  & FALSE &  &  &  & \\\\\n",
       "\t m\\_ENSG00000073921 &  &  &  &  & FALSE &  &  &  & \\\\\n",
       "\t m\\_ENSG00000087589 &  &  &  &  & FALSE &  &  &  & \\\\\n",
       "\t m\\_ENSG00000105383 &  &  &  &  & FALSE &  &  &  & \\\\\n",
       "\t m\\_ENSG00000108798 &  &  &  &  & FALSE &  &  &  & \\\\\n",
       "\t m\\_ENSG00000120885 & 8:27459205\\_A\\_C, 8:27458104\\_C\\_G &  &  &  & FALSE &  &  &  & \\\\\n",
       "\t m\\_ENSG00000120899 &  &  &  &  & FALSE &  &  &  & \\\\\n",
       "\t m\\_ENSG00000134463 & 10:11822747\\_C\\_T, 10:11832356\\_C\\_T, 10:11825742\\_C\\_G & 10:11786415\\_A\\_G, 10:11797500\\_A\\_G, 10:11802849\\_A\\_G, 10:11809368\\_C\\_T, 10:11809948\\_A\\_G, 10:11821218\\_C\\_T, 10:11841338\\_A\\_G, 10:11841351\\_A\\_G & 10:11822747\\_C\\_T, 10:11832356\\_C\\_T, 10:11825742\\_C\\_G & 10:11822747\\_C\\_T, 10:11832356\\_C\\_T, 10:11825742\\_C\\_G & FALSE & 10:11822747\\_C\\_T, 10:11832356\\_C\\_T, 10:11825742\\_C\\_G &  &  & 10:11822747\\_C\\_T, 10:11832356\\_C\\_T, 10:11825742\\_C\\_G\\\\\n",
       "\t m\\_ENSG00000136717 & 2:127446528\\_C\\_T, 2:127446853\\_C\\_T &  &  &  & FALSE &  &  &  & \\\\\n",
       "\t m\\_ENSG00000137642 &  &  &  &  & FALSE &  &  &  & \\\\\n",
       "\t m\\_ENSG00000137845 &  &  &  &  & FALSE &  &  &  & \\\\\n",
       "\t m\\_ENSG00000138613 & 15:63515503\\_G\\_T, 15:63552102\\_C\\_T, 15:63516266\\_C\\_G, 15:63516759\\_A\\_G, 15:63550357\\_A\\_G &  &  &  & FALSE &  &  &  & \\\\\n",
       "\t m\\_ENSG00000158859 &  &  &  &  & FALSE &  &  &  & \\\\\n",
       "\\end{tabular}\n"
      ],
      "text/markdown": [
       "\n",
       "A tibble: 13 x 10\n",
       "\n",
       "| gene_id &lt;chr&gt; | new_cs &lt;list&gt; | old_cs &lt;list&gt; | cor_cs &lt;list&gt; | cop_cs &lt;list&gt; | failed &lt;lgl&gt; | new_cor &lt;list&gt; | new_old &lt;list&gt; | old_cor &lt;list&gt; | cor_cop &lt;list&gt; |\n",
       "|---|---|---|---|---|---|---|---|---|---|\n",
       "| m_ENSG00000002587 | <!----> | <!----> | <!----> | <!----> | FALSE | <!----> | <!----> | <!----> | <!----> |\n",
       "| m_ENSG00000073921 | <!----> | <!----> | <!----> | <!----> | FALSE | <!----> | <!----> | <!----> | <!----> |\n",
       "| m_ENSG00000087589 | <!----> | <!----> | <!----> | <!----> | FALSE | <!----> | <!----> | <!----> | <!----> |\n",
       "| m_ENSG00000105383 | <!----> | <!----> | <!----> | <!----> | FALSE | <!----> | <!----> | <!----> | <!----> |\n",
       "| m_ENSG00000108798 | <!----> | <!----> | <!----> | <!----> | FALSE | <!----> | <!----> | <!----> | <!----> |\n",
       "| m_ENSG00000120885 | 8:27459205_A_C, 8:27458104_C_G | <!----> | <!----> | <!----> | FALSE | <!----> | <!----> | <!----> | <!----> |\n",
       "| m_ENSG00000120899 | <!----> | <!----> | <!----> | <!----> | FALSE | <!----> | <!----> | <!----> | <!----> |\n",
       "| m_ENSG00000134463 | 10:11822747_C_T, 10:11832356_C_T, 10:11825742_C_G | 10:11786415_A_G, 10:11797500_A_G, 10:11802849_A_G, 10:11809368_C_T, 10:11809948_A_G, 10:11821218_C_T, 10:11841338_A_G, 10:11841351_A_G | 10:11822747_C_T, 10:11832356_C_T, 10:11825742_C_G | 10:11822747_C_T, 10:11832356_C_T, 10:11825742_C_G | FALSE | 10:11822747_C_T, 10:11832356_C_T, 10:11825742_C_G | <!----> | <!----> | 10:11822747_C_T, 10:11832356_C_T, 10:11825742_C_G |\n",
       "| m_ENSG00000136717 | 2:127446528_C_T, 2:127446853_C_T | <!----> | <!----> | <!----> | FALSE | <!----> | <!----> | <!----> | <!----> |\n",
       "| m_ENSG00000137642 | <!----> | <!----> | <!----> | <!----> | FALSE | <!----> | <!----> | <!----> | <!----> |\n",
       "| m_ENSG00000137845 | <!----> | <!----> | <!----> | <!----> | FALSE | <!----> | <!----> | <!----> | <!----> |\n",
       "| m_ENSG00000138613 | 15:63515503_G_T, 15:63552102_C_T, 15:63516266_C_G, 15:63516759_A_G, 15:63550357_A_G | <!----> | <!----> | <!----> | FALSE | <!----> | <!----> | <!----> | <!----> |\n",
       "| m_ENSG00000158859 | <!----> | <!----> | <!----> | <!----> | FALSE | <!----> | <!----> | <!----> | <!----> |\n",
       "\n"
      ],
      "text/plain": [
       "   gene_id          \n",
       "1  m_ENSG00000002587\n",
       "2  m_ENSG00000073921\n",
       "3  m_ENSG00000087589\n",
       "4  m_ENSG00000105383\n",
       "5  m_ENSG00000108798\n",
       "6  m_ENSG00000120885\n",
       "7  m_ENSG00000120899\n",
       "8  m_ENSG00000134463\n",
       "9  m_ENSG00000136717\n",
       "10 m_ENSG00000137642\n",
       "11 m_ENSG00000137845\n",
       "12 m_ENSG00000138613\n",
       "13 m_ENSG00000158859\n",
       "   new_cs                                                                             \n",
       "1                                                                                     \n",
       "2                                                                                     \n",
       "3                                                                                     \n",
       "4                                                                                     \n",
       "5                                                                                     \n",
       "6  8:27459205_A_C, 8:27458104_C_G                                                     \n",
       "7                                                                                     \n",
       "8  10:11822747_C_T, 10:11832356_C_T, 10:11825742_C_G                                  \n",
       "9  2:127446528_C_T, 2:127446853_C_T                                                   \n",
       "10                                                                                    \n",
       "11                                                                                    \n",
       "12 15:63515503_G_T, 15:63552102_C_T, 15:63516266_C_G, 15:63516759_A_G, 15:63550357_A_G\n",
       "13                                                                                    \n",
       "   old_cs                                                                                                                                \n",
       "1                                                                                                                                        \n",
       "2                                                                                                                                        \n",
       "3                                                                                                                                        \n",
       "4                                                                                                                                        \n",
       "5                                                                                                                                        \n",
       "6                                                                                                                                        \n",
       "7                                                                                                                                        \n",
       "8  10:11786415_A_G, 10:11797500_A_G, 10:11802849_A_G, 10:11809368_C_T, 10:11809948_A_G, 10:11821218_C_T, 10:11841338_A_G, 10:11841351_A_G\n",
       "9                                                                                                                                        \n",
       "10                                                                                                                                       \n",
       "11                                                                                                                                       \n",
       "12                                                                                                                                       \n",
       "13                                                                                                                                       \n",
       "   cor_cs                                           \n",
       "1                                                   \n",
       "2                                                   \n",
       "3                                                   \n",
       "4                                                   \n",
       "5                                                   \n",
       "6                                                   \n",
       "7                                                   \n",
       "8  10:11822747_C_T, 10:11832356_C_T, 10:11825742_C_G\n",
       "9                                                   \n",
       "10                                                  \n",
       "11                                                  \n",
       "12                                                  \n",
       "13                                                  \n",
       "   cop_cs                                            failed\n",
       "1                                                    FALSE \n",
       "2                                                    FALSE \n",
       "3                                                    FALSE \n",
       "4                                                    FALSE \n",
       "5                                                    FALSE \n",
       "6                                                    FALSE \n",
       "7                                                    FALSE \n",
       "8  10:11822747_C_T, 10:11832356_C_T, 10:11825742_C_G FALSE \n",
       "9                                                    FALSE \n",
       "10                                                   FALSE \n",
       "11                                                   FALSE \n",
       "12                                                   FALSE \n",
       "13                                                   FALSE \n",
       "   new_cor                                           new_old old_cor\n",
       "1                                                                   \n",
       "2                                                                   \n",
       "3                                                                   \n",
       "4                                                                   \n",
       "5                                                                   \n",
       "6                                                                   \n",
       "7                                                                   \n",
       "8  10:11822747_C_T, 10:11832356_C_T, 10:11825742_C_G                \n",
       "9                                                                   \n",
       "10                                                                  \n",
       "11                                                                  \n",
       "12                                                                  \n",
       "13                                                                  \n",
       "   cor_cop                                          \n",
       "1                                                   \n",
       "2                                                   \n",
       "3                                                   \n",
       "4                                                   \n",
       "5                                                   \n",
       "6                                                   \n",
       "7                                                   \n",
       "8  10:11822747_C_T, 10:11832356_C_T, 10:11825742_C_G\n",
       "9                                                   \n",
       "10                                                  \n",
       "11                                                  \n",
       "12                                                  \n",
       "13                                                  "
      ]
     },
     "metadata": {},
     "output_type": "display_data"
    }
   ],
   "source": [
    "result_sum%>%filter(!failed)"
   ]
  },
  {
   "cell_type": "code",
   "execution_count": 157,
   "id": "214f0222-3ab8-41da-90c3-9ea42793fbb3",
   "metadata": {},
   "outputs": [],
   "source": [
    "result_sum_tbl = result_sum%>%select(gene_id,\"fail_to_converge_with_cor\" = failed, \"cs_uni_cor_new_prior\" = new_cs, \"cs_from_complete_analysis\" = old_cs, \"cs_unique_cor_new_prior\" = cor_cs, \"cs_unique_cor_old_prior\" = cop_cs )"
   ]
  },
  {
   "cell_type": "code",
   "execution_count": 183,
   "id": "8ab546eb-5c84-4379-bdc8-6c4f50519b48",
   "metadata": {},
   "outputs": [
    {
     "data": {
      "text/html": [
       "<table class=\"dataframe\">\n",
       "<caption>A tibble: 24 x 6</caption>\n",
       "<thead>\n",
       "\t<tr><th scope=col>gene_id</th><th scope=col>fail_to_converge_with_cor</th><th scope=col>cs_uni_cor_new_prior</th><th scope=col>cs_from_complete_analysis</th><th scope=col>cs_unique_cor_new_prior</th><th scope=col>cs_unique_cor_old_prior</th></tr>\n",
       "\t<tr><th scope=col>&lt;chr&gt;</th><th scope=col>&lt;lgl&gt;</th><th scope=col>&lt;list&gt;</th><th scope=col>&lt;list&gt;</th><th scope=col>&lt;list&gt;</th><th scope=col>&lt;list&gt;</th></tr>\n",
       "</thead>\n",
       "<tbody>\n",
       "\t<tr><td>m_ENSG00000002587</td><td>FALSE</td><td></td><td></td><td></td><td></td></tr>\n",
       "\t<tr><td>m_ENSG00000064687</td><td> TRUE</td><td>19:1032702_C_T, 19:1032756_C_T, 19:1033360_A_T</td><td>19:1036552_C_T, 19:1037932_C_G, 19:1038222_C_G, 19:1038445_C_T, 19:1038871_C_G, 19:1038893_C_T, 19:1038995_A_C, 19:1039991_C_T</td><td>19:1032702_C_T, 19:1032756_C_T, 19:1033360_A_T</td><td>19:1032702_C_T, 19:1032756_C_T, 19:1033360_A_T</td></tr>\n",
       "\t<tr><td>m_ENSG00000073921</td><td>FALSE</td><td></td><td></td><td></td><td></td></tr>\n",
       "\t<tr><td>m_ENSG00000087589</td><td>FALSE</td><td></td><td></td><td></td><td></td></tr>\n",
       "\t<tr><td>m_ENSG00000103510</td><td> TRUE</td><td>16:31138445_A_G, 16:31143993_C_T</td><td>16:31117389_C_T  , 16:31117413_C_T  , 16:31118024_A_C  , 16:31121793_A_G  , 16:31124407_A_G  , 16:31125776_C_T  , 16:31128088_A_AAT, 16:31128615_C_T  , 16:31128668_A_C  , 16:31129895_A_G  , 16:31129942_C_T  , 16:31131174_A_G  , 16:31131614_A_G  , 16:31137712_C_T  , 16:31140799_G_T  , 16:31141993_C_T  , 16:31145219_C_T  , 16:31147548_A_G  , 16:31149142_A_G  </td><td>16:31155631_G_T, 16:31155630_C_G</td><td>16:31155631_G_T, 16:31155630_C_G</td></tr>\n",
       "\t<tr><td>m_ENSG00000105383</td><td>FALSE</td><td></td><td></td><td></td><td></td></tr>\n",
       "\t<tr><td>m_ENSG00000108798</td><td>FALSE</td><td></td><td></td><td></td><td></td></tr>\n",
       "\t<tr><td>m_ENSG00000110077</td><td> TRUE</td><td></td><td></td><td>11:60091107_A_C, 11:60092650_A_T, 11:60099810_C_T, 11:60100079_A_T</td><td>11:60099810_C_T, 11:60100079_A_T</td></tr>\n",
       "\t<tr><td>m_ENSG00000120885</td><td>FALSE</td><td>8:27459205_A_C, 8:27458104_C_G</td><td></td><td></td><td></td></tr>\n",
       "\t<tr><td>m_ENSG00000120899</td><td>FALSE</td><td></td><td></td><td></td><td></td></tr>\n",
       "\t<tr><td>m_ENSG00000130203</td><td> TRUE</td><td></td><td></td><td>19:45076477_A_G, 19:45068086_G_T, 19:45066667_G_T, 19:45079243_A_G</td><td>19:45076477_A_G, 19:45068086_G_T, 19:45066667_G_T, 19:45079243_A_G</td></tr>\n",
       "\t<tr><td>m_ENSG00000134463</td><td>FALSE</td><td>10:11822747_C_T, 10:11832356_C_T, 10:11825742_C_G</td><td>10:11786415_A_G, 10:11797500_A_G, 10:11802849_A_G, 10:11809368_C_T, 10:11809948_A_G, 10:11821218_C_T, 10:11841338_A_G, 10:11841351_A_G</td><td>10:11822747_C_T, 10:11832356_C_T, 10:11825742_C_G</td><td>10:11822747_C_T, 10:11832356_C_T, 10:11825742_C_G</td></tr>\n",
       "\t<tr><td>m_ENSG00000136717</td><td>FALSE</td><td>2:127446528_C_T, 2:127446853_C_T</td><td></td><td></td><td></td></tr>\n",
       "\t<tr><td>m_ENSG00000137642</td><td>FALSE</td><td></td><td></td><td></td><td></td></tr>\n",
       "\t<tr><td>m_ENSG00000137845</td><td>FALSE</td><td></td><td></td><td></td><td></td></tr>\n",
       "\t<tr><td>m_ENSG00000138613</td><td>FALSE</td><td>15:63515503_G_T, 15:63552102_C_T, 15:63516266_C_G, 15:63516759_A_G, 15:63550357_A_G</td><td></td><td></td><td></td></tr>\n",
       "\t<tr><td>m_ENSG00000140090</td><td> TRUE</td><td>14:92791013_A_C, 14:92785560_A_G, 14:92781334_C_T, 14:92762023_C_T, 14:92761152_A_G</td><td></td><td>14:92791013_A_C, 14:92785560_A_G, 14:92776189_A_G, 14:92781334_C_T, 14:92785596_A_G, 14:92762023_C_T, 14:92761152_A_G</td><td>14:92791013_A_C, 14:92785560_A_G, 14:92781334_C_T, 14:92762023_C_T, 14:92761152_A_G</td></tr>\n",
       "\t<tr><td>m_ENSG00000158859</td><td>FALSE</td><td></td><td></td><td></td><td></td></tr>\n",
       "\t<tr><td>m_ENSG00000161929</td><td> TRUE</td><td>17:5062571_A_G, 17:5066005_A_G, 17:5126876_C_T, 17:5125085_A_C, 17:5054705_C_T</td><td>17:5124877_C_T , 17:5125249_A_G , 17:5125333_A_T , 17:5126207_A_G , 17:5126224_G_T , 17:5126674_A_G , 17:5128482_A_G , 17:5131160_A_AC, 17:5133734_C_T , 17:5133807_A_G , 17:5134814_A_G </td><td>17:5066005_A_G, 17:5054705_C_T, 17:5062571_A_G, 17:5126876_C_T, 17:5125085_A_C</td><td>17:5066005_A_G, 17:5062571_A_G, 17:4968816_A_G, 17:4970015_G_T, 17:5105047_C_T, 17:5115409_C_T</td></tr>\n",
       "\t<tr><td>m_ENSG00000168918</td><td> TRUE</td><td></td><td></td><td>2:233478747_T_TACAC, 2:233481689_G_T    </td><td>2:233478747_T_TACAC, 2:233481689_G_T    </td></tr>\n",
       "\t<tr><td>m_ENSG00000198087</td><td> TRUE</td><td>6:47482194_A_G, 6:47485098_A_G, 6:47513076_A_G, 6:47503303_A_G</td><td>6:47392833_C_T   , 6:47393789_C_T   , 6:47394200_C_G   , 6:47397662_A_G   , 6:47399122_A_G   , 6:47401044_A_G   , 6:47401280_A_G   , 6:47406337_C_T   , 6:47410742_A_T   , 6:47411370_A_G   , 6:47413777_A_T   , 6:47414135_C_T   , 6:47414316_A_C   , 6:47417588_C_T   , 6:47417768_A_G   , 6:47419490_A_C   , 6:47421416_G_T   , 6:47425026_A_T   , 6:47425459_C_T   , 6:47425729_A_T   , 6:47426546_C_T   , 6:47427990_C_T   , 6:47431114_C_G   , 6:47431898_C_T   , 6:47432497_A_G   , 6:47435420_C_T   , 6:47437667_C_G   , 6:47438005_A_G   , 6:47439428_A_G   , 6:47440155_A_C   , 6:47440849_C_T   , 6:47443563_A_C   , 6:47444070_C_T   , 6:47444982_A_G   , 6:47445540_C_G   , 6:47448469_G_GA  , 6:47450290_A_G   , 6:47454185_A_G   , 6:47454395_A_T   , 6:47462571_A_G   , 6:47462615_C_T   , 6:47466833_C_T   , 6:47469136_A_G   , 6:47475854_C_T   , 6:47477210_A_G   , 6:47477407_C_T   , 6:47477794_A_C   , 6:47489075_A_G   , 6:47489732_C_G   , 6:47490783_A_G   , 6:47491232_A_C   , 6:47498239_A_G   , 6:47498287_A_G   , 6:47499584_A_G   , 6:47507780_A_G   , 6:47513204_A_C   , 6:47514279_A_G   , 6:47517275_C_T   , 6:47517298_A_G   , 6:47521752_C_G   , 6:47524058_C_G   , 6:47529815_C_T   , 6:47532597_G_GTTT, 6:47535562_A_G   , 6:47538351_T_TA  , 6:47548202_C_CA  , 6:47559544_C_T   , 6:47559941_G_T   , 6:47561578_C_T   , 6:47564304_C_T   , 6:47569010_C_T   , 6:47587196_G_T   , 6:47591315_C_T   , 6:47592328_G_GT  </td><td>6:47482194_A_G, 6:47485098_A_G, 6:47513076_A_G, 6:47503303_A_G</td><td>6:47482194_A_G, 6:47485098_A_G, 6:47513076_A_G, 6:47503303_A_G</td></tr>\n",
       "\t<tr><td>m_ENSG00000203710</td><td> TRUE</td><td>1:207693163_G_GC , 1:207688436_G_GTA, 1:207687374_A_T  , 1:207783507_C_T  , 1:207782154_C_T  , 1:207694357_C_T  </td><td>1:207684192_G_T, 1:207685965_A_C, 1:207692049_A_G, 1:207738077_C_T, 1:207747296_A_G, 1:207750568_C_T, 1:207784968_A_G, 1:207786289_A_G, 1:207786542_A_G, 1:207786828_A_G</td><td>1:207774882_A_G  , 1:207770689_A_G  , 1:207688436_G_GTA, 1:207687374_A_T  , 1:207783507_C_T  , 1:207782154_C_T  </td><td>1:207782154_C_T  , 1:207783507_C_T  , 1:207693163_G_GC , 1:207694357_C_T  , 1:207687374_A_T  , 1:207688436_G_GTA</td></tr>\n",
       "\t<tr><td>m_ENSG00000264538</td><td> TRUE</td><td>17:30365691_C_T  , 17:30380381_A_G  , 17:30290188_C_CAG, 17:30290151_A_G  </td><td>17:30289454_C_T   , 17:30289496_A_C   , 17:30289521_A_G   , 17:30289539_A_G   , 17:30289555_A_T   , 17:30289572_C_T   , 17:30289576_C_T   , 17:30289579_C_CA  , 17:30290508_T_TA  , 17:30290515_T_TTTG</td><td>17:30290151_A_G  , 17:30365691_C_T  , 17:30380381_A_G  , 17:30290188_C_CAG, 17:30404896_A_T  , 17:30407759_C_T  </td><td>17:30290151_A_G  , 17:30365691_C_T  , 17:30380381_A_G  , 17:30290188_C_CAG, 17:30404896_A_T  , 17:30407759_C_T  </td></tr>\n",
       "\t<tr><td>m_ENSG00000265148</td><td> TRUE</td><td></td><td></td><td>17:58286977_A_C , 17:58267485_C_G , 17:58314263_C_T , 17:58250200_C_T , 17:58418356_G_GC, 17:58456290_C_T , 17:58318248_A_G , 17:58309413_C_T </td><td>17:58286977_A_C , 17:58267485_C_G , 17:58314263_C_T , 17:58250200_C_T , 17:58418356_G_GC, 17:58309413_C_T , 17:58330298_C_T , 17:58382536_G_GT</td></tr>\n",
       "</tbody>\n",
       "</table>\n"
      ],
      "text/latex": [
       "A tibble: 24 x 6\n",
       "\\begin{tabular}{llllll}\n",
       " gene\\_id & fail\\_to\\_converge\\_with\\_cor & cs\\_uni\\_cor\\_new\\_prior & cs\\_from\\_complete\\_analysis & cs\\_unique\\_cor\\_new\\_prior & cs\\_unique\\_cor\\_old\\_prior\\\\\n",
       " <chr> & <lgl> & <list> & <list> & <list> & <list>\\\\\n",
       "\\hline\n",
       "\t m\\_ENSG00000002587 & FALSE &  &  &  & \\\\\n",
       "\t m\\_ENSG00000064687 &  TRUE & 19:1032702\\_C\\_T, 19:1032756\\_C\\_T, 19:1033360\\_A\\_T & 19:1036552\\_C\\_T, 19:1037932\\_C\\_G, 19:1038222\\_C\\_G, 19:1038445\\_C\\_T, 19:1038871\\_C\\_G, 19:1038893\\_C\\_T, 19:1038995\\_A\\_C, 19:1039991\\_C\\_T & 19:1032702\\_C\\_T, 19:1032756\\_C\\_T, 19:1033360\\_A\\_T & 19:1032702\\_C\\_T, 19:1032756\\_C\\_T, 19:1033360\\_A\\_T\\\\\n",
       "\t m\\_ENSG00000073921 & FALSE &  &  &  & \\\\\n",
       "\t m\\_ENSG00000087589 & FALSE &  &  &  & \\\\\n",
       "\t m\\_ENSG00000103510 &  TRUE & 16:31138445\\_A\\_G, 16:31143993\\_C\\_T & 16:31117389\\_C\\_T  , 16:31117413\\_C\\_T  , 16:31118024\\_A\\_C  , 16:31121793\\_A\\_G  , 16:31124407\\_A\\_G  , 16:31125776\\_C\\_T  , 16:31128088\\_A\\_AAT, 16:31128615\\_C\\_T  , 16:31128668\\_A\\_C  , 16:31129895\\_A\\_G  , 16:31129942\\_C\\_T  , 16:31131174\\_A\\_G  , 16:31131614\\_A\\_G  , 16:31137712\\_C\\_T  , 16:31140799\\_G\\_T  , 16:31141993\\_C\\_T  , 16:31145219\\_C\\_T  , 16:31147548\\_A\\_G  , 16:31149142\\_A\\_G   & 16:31155631\\_G\\_T, 16:31155630\\_C\\_G & 16:31155631\\_G\\_T, 16:31155630\\_C\\_G\\\\\n",
       "\t m\\_ENSG00000105383 & FALSE &  &  &  & \\\\\n",
       "\t m\\_ENSG00000108798 & FALSE &  &  &  & \\\\\n",
       "\t m\\_ENSG00000110077 &  TRUE &  &  & 11:60091107\\_A\\_C, 11:60092650\\_A\\_T, 11:60099810\\_C\\_T, 11:60100079\\_A\\_T & 11:60099810\\_C\\_T, 11:60100079\\_A\\_T\\\\\n",
       "\t m\\_ENSG00000120885 & FALSE & 8:27459205\\_A\\_C, 8:27458104\\_C\\_G &  &  & \\\\\n",
       "\t m\\_ENSG00000120899 & FALSE &  &  &  & \\\\\n",
       "\t m\\_ENSG00000130203 &  TRUE &  &  & 19:45076477\\_A\\_G, 19:45068086\\_G\\_T, 19:45066667\\_G\\_T, 19:45079243\\_A\\_G & 19:45076477\\_A\\_G, 19:45068086\\_G\\_T, 19:45066667\\_G\\_T, 19:45079243\\_A\\_G\\\\\n",
       "\t m\\_ENSG00000134463 & FALSE & 10:11822747\\_C\\_T, 10:11832356\\_C\\_T, 10:11825742\\_C\\_G & 10:11786415\\_A\\_G, 10:11797500\\_A\\_G, 10:11802849\\_A\\_G, 10:11809368\\_C\\_T, 10:11809948\\_A\\_G, 10:11821218\\_C\\_T, 10:11841338\\_A\\_G, 10:11841351\\_A\\_G & 10:11822747\\_C\\_T, 10:11832356\\_C\\_T, 10:11825742\\_C\\_G & 10:11822747\\_C\\_T, 10:11832356\\_C\\_T, 10:11825742\\_C\\_G\\\\\n",
       "\t m\\_ENSG00000136717 & FALSE & 2:127446528\\_C\\_T, 2:127446853\\_C\\_T &  &  & \\\\\n",
       "\t m\\_ENSG00000137642 & FALSE &  &  &  & \\\\\n",
       "\t m\\_ENSG00000137845 & FALSE &  &  &  & \\\\\n",
       "\t m\\_ENSG00000138613 & FALSE & 15:63515503\\_G\\_T, 15:63552102\\_C\\_T, 15:63516266\\_C\\_G, 15:63516759\\_A\\_G, 15:63550357\\_A\\_G &  &  & \\\\\n",
       "\t m\\_ENSG00000140090 &  TRUE & 14:92791013\\_A\\_C, 14:92785560\\_A\\_G, 14:92781334\\_C\\_T, 14:92762023\\_C\\_T, 14:92761152\\_A\\_G &  & 14:92791013\\_A\\_C, 14:92785560\\_A\\_G, 14:92776189\\_A\\_G, 14:92781334\\_C\\_T, 14:92785596\\_A\\_G, 14:92762023\\_C\\_T, 14:92761152\\_A\\_G & 14:92791013\\_A\\_C, 14:92785560\\_A\\_G, 14:92781334\\_C\\_T, 14:92762023\\_C\\_T, 14:92761152\\_A\\_G\\\\\n",
       "\t m\\_ENSG00000158859 & FALSE &  &  &  & \\\\\n",
       "\t m\\_ENSG00000161929 &  TRUE & 17:5062571\\_A\\_G, 17:5066005\\_A\\_G, 17:5126876\\_C\\_T, 17:5125085\\_A\\_C, 17:5054705\\_C\\_T & 17:5124877\\_C\\_T , 17:5125249\\_A\\_G , 17:5125333\\_A\\_T , 17:5126207\\_A\\_G , 17:5126224\\_G\\_T , 17:5126674\\_A\\_G , 17:5128482\\_A\\_G , 17:5131160\\_A\\_AC, 17:5133734\\_C\\_T , 17:5133807\\_A\\_G , 17:5134814\\_A\\_G  & 17:5066005\\_A\\_G, 17:5054705\\_C\\_T, 17:5062571\\_A\\_G, 17:5126876\\_C\\_T, 17:5125085\\_A\\_C & 17:5066005\\_A\\_G, 17:5062571\\_A\\_G, 17:4968816\\_A\\_G, 17:4970015\\_G\\_T, 17:5105047\\_C\\_T, 17:5115409\\_C\\_T\\\\\n",
       "\t m\\_ENSG00000168918 &  TRUE &  &  & 2:233478747\\_T\\_TACAC, 2:233481689\\_G\\_T     & 2:233478747\\_T\\_TACAC, 2:233481689\\_G\\_T    \\\\\n",
       "\t m\\_ENSG00000198087 &  TRUE & 6:47482194\\_A\\_G, 6:47485098\\_A\\_G, 6:47513076\\_A\\_G, 6:47503303\\_A\\_G & 6:47392833\\_C\\_T   , 6:47393789\\_C\\_T   , 6:47394200\\_C\\_G   , 6:47397662\\_A\\_G   , 6:47399122\\_A\\_G   , 6:47401044\\_A\\_G   , 6:47401280\\_A\\_G   , 6:47406337\\_C\\_T   , 6:47410742\\_A\\_T   , 6:47411370\\_A\\_G   , 6:47413777\\_A\\_T   , 6:47414135\\_C\\_T   , 6:47414316\\_A\\_C   , 6:47417588\\_C\\_T   , 6:47417768\\_A\\_G   , 6:47419490\\_A\\_C   , 6:47421416\\_G\\_T   , 6:47425026\\_A\\_T   , 6:47425459\\_C\\_T   , 6:47425729\\_A\\_T   , 6:47426546\\_C\\_T   , 6:47427990\\_C\\_T   , 6:47431114\\_C\\_G   , 6:47431898\\_C\\_T   , 6:47432497\\_A\\_G   , 6:47435420\\_C\\_T   , 6:47437667\\_C\\_G   , 6:47438005\\_A\\_G   , 6:47439428\\_A\\_G   , 6:47440155\\_A\\_C   , 6:47440849\\_C\\_T   , 6:47443563\\_A\\_C   , 6:47444070\\_C\\_T   , 6:47444982\\_A\\_G   , 6:47445540\\_C\\_G   , 6:47448469\\_G\\_GA  , 6:47450290\\_A\\_G   , 6:47454185\\_A\\_G   , 6:47454395\\_A\\_T   , 6:47462571\\_A\\_G   , 6:47462615\\_C\\_T   , 6:47466833\\_C\\_T   , 6:47469136\\_A\\_G   , 6:47475854\\_C\\_T   , 6:47477210\\_A\\_G   , 6:47477407\\_C\\_T   , 6:47477794\\_A\\_C   , 6:47489075\\_A\\_G   , 6:47489732\\_C\\_G   , 6:47490783\\_A\\_G   , 6:47491232\\_A\\_C   , 6:47498239\\_A\\_G   , 6:47498287\\_A\\_G   , 6:47499584\\_A\\_G   , 6:47507780\\_A\\_G   , 6:47513204\\_A\\_C   , 6:47514279\\_A\\_G   , 6:47517275\\_C\\_T   , 6:47517298\\_A\\_G   , 6:47521752\\_C\\_G   , 6:47524058\\_C\\_G   , 6:47529815\\_C\\_T   , 6:47532597\\_G\\_GTTT, 6:47535562\\_A\\_G   , 6:47538351\\_T\\_TA  , 6:47548202\\_C\\_CA  , 6:47559544\\_C\\_T   , 6:47559941\\_G\\_T   , 6:47561578\\_C\\_T   , 6:47564304\\_C\\_T   , 6:47569010\\_C\\_T   , 6:47587196\\_G\\_T   , 6:47591315\\_C\\_T   , 6:47592328\\_G\\_GT   & 6:47482194\\_A\\_G, 6:47485098\\_A\\_G, 6:47513076\\_A\\_G, 6:47503303\\_A\\_G & 6:47482194\\_A\\_G, 6:47485098\\_A\\_G, 6:47513076\\_A\\_G, 6:47503303\\_A\\_G\\\\\n",
       "\t m\\_ENSG00000203710 &  TRUE & 1:207693163\\_G\\_GC , 1:207688436\\_G\\_GTA, 1:207687374\\_A\\_T  , 1:207783507\\_C\\_T  , 1:207782154\\_C\\_T  , 1:207694357\\_C\\_T   & 1:207684192\\_G\\_T, 1:207685965\\_A\\_C, 1:207692049\\_A\\_G, 1:207738077\\_C\\_T, 1:207747296\\_A\\_G, 1:207750568\\_C\\_T, 1:207784968\\_A\\_G, 1:207786289\\_A\\_G, 1:207786542\\_A\\_G, 1:207786828\\_A\\_G & 1:207774882\\_A\\_G  , 1:207770689\\_A\\_G  , 1:207688436\\_G\\_GTA, 1:207687374\\_A\\_T  , 1:207783507\\_C\\_T  , 1:207782154\\_C\\_T   & 1:207782154\\_C\\_T  , 1:207783507\\_C\\_T  , 1:207693163\\_G\\_GC , 1:207694357\\_C\\_T  , 1:207687374\\_A\\_T  , 1:207688436\\_G\\_GTA\\\\\n",
       "\t m\\_ENSG00000264538 &  TRUE & 17:30365691\\_C\\_T  , 17:30380381\\_A\\_G  , 17:30290188\\_C\\_CAG, 17:30290151\\_A\\_G   & 17:30289454\\_C\\_T   , 17:30289496\\_A\\_C   , 17:30289521\\_A\\_G   , 17:30289539\\_A\\_G   , 17:30289555\\_A\\_T   , 17:30289572\\_C\\_T   , 17:30289576\\_C\\_T   , 17:30289579\\_C\\_CA  , 17:30290508\\_T\\_TA  , 17:30290515\\_T\\_TTTG & 17:30290151\\_A\\_G  , 17:30365691\\_C\\_T  , 17:30380381\\_A\\_G  , 17:30290188\\_C\\_CAG, 17:30404896\\_A\\_T  , 17:30407759\\_C\\_T   & 17:30290151\\_A\\_G  , 17:30365691\\_C\\_T  , 17:30380381\\_A\\_G  , 17:30290188\\_C\\_CAG, 17:30404896\\_A\\_T  , 17:30407759\\_C\\_T  \\\\\n",
       "\t m\\_ENSG00000265148 &  TRUE &  &  & 17:58286977\\_A\\_C , 17:58267485\\_C\\_G , 17:58314263\\_C\\_T , 17:58250200\\_C\\_T , 17:58418356\\_G\\_GC, 17:58456290\\_C\\_T , 17:58318248\\_A\\_G , 17:58309413\\_C\\_T  & 17:58286977\\_A\\_C , 17:58267485\\_C\\_G , 17:58314263\\_C\\_T , 17:58250200\\_C\\_T , 17:58418356\\_G\\_GC, 17:58309413\\_C\\_T , 17:58330298\\_C\\_T , 17:58382536\\_G\\_GT\\\\\n",
       "\\end{tabular}\n"
      ],
      "text/markdown": [
       "\n",
       "A tibble: 24 x 6\n",
       "\n",
       "| gene_id &lt;chr&gt; | fail_to_converge_with_cor &lt;lgl&gt; | cs_uni_cor_new_prior &lt;list&gt; | cs_from_complete_analysis &lt;list&gt; | cs_unique_cor_new_prior &lt;list&gt; | cs_unique_cor_old_prior &lt;list&gt; |\n",
       "|---|---|---|---|---|---|\n",
       "| m_ENSG00000002587 | FALSE | <!----> | <!----> | <!----> | <!----> |\n",
       "| m_ENSG00000064687 |  TRUE | 19:1032702_C_T, 19:1032756_C_T, 19:1033360_A_T | 19:1036552_C_T, 19:1037932_C_G, 19:1038222_C_G, 19:1038445_C_T, 19:1038871_C_G, 19:1038893_C_T, 19:1038995_A_C, 19:1039991_C_T | 19:1032702_C_T, 19:1032756_C_T, 19:1033360_A_T | 19:1032702_C_T, 19:1032756_C_T, 19:1033360_A_T |\n",
       "| m_ENSG00000073921 | FALSE | <!----> | <!----> | <!----> | <!----> |\n",
       "| m_ENSG00000087589 | FALSE | <!----> | <!----> | <!----> | <!----> |\n",
       "| m_ENSG00000103510 |  TRUE | 16:31138445_A_G, 16:31143993_C_T | 16:31117389_C_T  , 16:31117413_C_T  , 16:31118024_A_C  , 16:31121793_A_G  , 16:31124407_A_G  , 16:31125776_C_T  , 16:31128088_A_AAT, 16:31128615_C_T  , 16:31128668_A_C  , 16:31129895_A_G  , 16:31129942_C_T  , 16:31131174_A_G  , 16:31131614_A_G  , 16:31137712_C_T  , 16:31140799_G_T  , 16:31141993_C_T  , 16:31145219_C_T  , 16:31147548_A_G  , 16:31149142_A_G   | 16:31155631_G_T, 16:31155630_C_G | 16:31155631_G_T, 16:31155630_C_G |\n",
       "| m_ENSG00000105383 | FALSE | <!----> | <!----> | <!----> | <!----> |\n",
       "| m_ENSG00000108798 | FALSE | <!----> | <!----> | <!----> | <!----> |\n",
       "| m_ENSG00000110077 |  TRUE | <!----> | <!----> | 11:60091107_A_C, 11:60092650_A_T, 11:60099810_C_T, 11:60100079_A_T | 11:60099810_C_T, 11:60100079_A_T |\n",
       "| m_ENSG00000120885 | FALSE | 8:27459205_A_C, 8:27458104_C_G | <!----> | <!----> | <!----> |\n",
       "| m_ENSG00000120899 | FALSE | <!----> | <!----> | <!----> | <!----> |\n",
       "| m_ENSG00000130203 |  TRUE | <!----> | <!----> | 19:45076477_A_G, 19:45068086_G_T, 19:45066667_G_T, 19:45079243_A_G | 19:45076477_A_G, 19:45068086_G_T, 19:45066667_G_T, 19:45079243_A_G |\n",
       "| m_ENSG00000134463 | FALSE | 10:11822747_C_T, 10:11832356_C_T, 10:11825742_C_G | 10:11786415_A_G, 10:11797500_A_G, 10:11802849_A_G, 10:11809368_C_T, 10:11809948_A_G, 10:11821218_C_T, 10:11841338_A_G, 10:11841351_A_G | 10:11822747_C_T, 10:11832356_C_T, 10:11825742_C_G | 10:11822747_C_T, 10:11832356_C_T, 10:11825742_C_G |\n",
       "| m_ENSG00000136717 | FALSE | 2:127446528_C_T, 2:127446853_C_T | <!----> | <!----> | <!----> |\n",
       "| m_ENSG00000137642 | FALSE | <!----> | <!----> | <!----> | <!----> |\n",
       "| m_ENSG00000137845 | FALSE | <!----> | <!----> | <!----> | <!----> |\n",
       "| m_ENSG00000138613 | FALSE | 15:63515503_G_T, 15:63552102_C_T, 15:63516266_C_G, 15:63516759_A_G, 15:63550357_A_G | <!----> | <!----> | <!----> |\n",
       "| m_ENSG00000140090 |  TRUE | 14:92791013_A_C, 14:92785560_A_G, 14:92781334_C_T, 14:92762023_C_T, 14:92761152_A_G | <!----> | 14:92791013_A_C, 14:92785560_A_G, 14:92776189_A_G, 14:92781334_C_T, 14:92785596_A_G, 14:92762023_C_T, 14:92761152_A_G | 14:92791013_A_C, 14:92785560_A_G, 14:92781334_C_T, 14:92762023_C_T, 14:92761152_A_G |\n",
       "| m_ENSG00000158859 | FALSE | <!----> | <!----> | <!----> | <!----> |\n",
       "| m_ENSG00000161929 |  TRUE | 17:5062571_A_G, 17:5066005_A_G, 17:5126876_C_T, 17:5125085_A_C, 17:5054705_C_T | 17:5124877_C_T , 17:5125249_A_G , 17:5125333_A_T , 17:5126207_A_G , 17:5126224_G_T , 17:5126674_A_G , 17:5128482_A_G , 17:5131160_A_AC, 17:5133734_C_T , 17:5133807_A_G , 17:5134814_A_G  | 17:5066005_A_G, 17:5054705_C_T, 17:5062571_A_G, 17:5126876_C_T, 17:5125085_A_C | 17:5066005_A_G, 17:5062571_A_G, 17:4968816_A_G, 17:4970015_G_T, 17:5105047_C_T, 17:5115409_C_T |\n",
       "| m_ENSG00000168918 |  TRUE | <!----> | <!----> | 2:233478747_T_TACAC, 2:233481689_G_T     | 2:233478747_T_TACAC, 2:233481689_G_T     |\n",
       "| m_ENSG00000198087 |  TRUE | 6:47482194_A_G, 6:47485098_A_G, 6:47513076_A_G, 6:47503303_A_G | 6:47392833_C_T   , 6:47393789_C_T   , 6:47394200_C_G   , 6:47397662_A_G   , 6:47399122_A_G   , 6:47401044_A_G   , 6:47401280_A_G   , 6:47406337_C_T   , 6:47410742_A_T   , 6:47411370_A_G   , 6:47413777_A_T   , 6:47414135_C_T   , 6:47414316_A_C   , 6:47417588_C_T   , 6:47417768_A_G   , 6:47419490_A_C   , 6:47421416_G_T   , 6:47425026_A_T   , 6:47425459_C_T   , 6:47425729_A_T   , 6:47426546_C_T   , 6:47427990_C_T   , 6:47431114_C_G   , 6:47431898_C_T   , 6:47432497_A_G   , 6:47435420_C_T   , 6:47437667_C_G   , 6:47438005_A_G   , 6:47439428_A_G   , 6:47440155_A_C   , 6:47440849_C_T   , 6:47443563_A_C   , 6:47444070_C_T   , 6:47444982_A_G   , 6:47445540_C_G   , 6:47448469_G_GA  , 6:47450290_A_G   , 6:47454185_A_G   , 6:47454395_A_T   , 6:47462571_A_G   , 6:47462615_C_T   , 6:47466833_C_T   , 6:47469136_A_G   , 6:47475854_C_T   , 6:47477210_A_G   , 6:47477407_C_T   , 6:47477794_A_C   , 6:47489075_A_G   , 6:47489732_C_G   , 6:47490783_A_G   , 6:47491232_A_C   , 6:47498239_A_G   , 6:47498287_A_G   , 6:47499584_A_G   , 6:47507780_A_G   , 6:47513204_A_C   , 6:47514279_A_G   , 6:47517275_C_T   , 6:47517298_A_G   , 6:47521752_C_G   , 6:47524058_C_G   , 6:47529815_C_T   , 6:47532597_G_GTTT, 6:47535562_A_G   , 6:47538351_T_TA  , 6:47548202_C_CA  , 6:47559544_C_T   , 6:47559941_G_T   , 6:47561578_C_T   , 6:47564304_C_T   , 6:47569010_C_T   , 6:47587196_G_T   , 6:47591315_C_T   , 6:47592328_G_GT   | 6:47482194_A_G, 6:47485098_A_G, 6:47513076_A_G, 6:47503303_A_G | 6:47482194_A_G, 6:47485098_A_G, 6:47513076_A_G, 6:47503303_A_G |\n",
       "| m_ENSG00000203710 |  TRUE | 1:207693163_G_GC , 1:207688436_G_GTA, 1:207687374_A_T  , 1:207783507_C_T  , 1:207782154_C_T  , 1:207694357_C_T   | 1:207684192_G_T, 1:207685965_A_C, 1:207692049_A_G, 1:207738077_C_T, 1:207747296_A_G, 1:207750568_C_T, 1:207784968_A_G, 1:207786289_A_G, 1:207786542_A_G, 1:207786828_A_G | 1:207774882_A_G  , 1:207770689_A_G  , 1:207688436_G_GTA, 1:207687374_A_T  , 1:207783507_C_T  , 1:207782154_C_T   | 1:207782154_C_T  , 1:207783507_C_T  , 1:207693163_G_GC , 1:207694357_C_T  , 1:207687374_A_T  , 1:207688436_G_GTA |\n",
       "| m_ENSG00000264538 |  TRUE | 17:30365691_C_T  , 17:30380381_A_G  , 17:30290188_C_CAG, 17:30290151_A_G   | 17:30289454_C_T   , 17:30289496_A_C   , 17:30289521_A_G   , 17:30289539_A_G   , 17:30289555_A_T   , 17:30289572_C_T   , 17:30289576_C_T   , 17:30289579_C_CA  , 17:30290508_T_TA  , 17:30290515_T_TTTG | 17:30290151_A_G  , 17:30365691_C_T  , 17:30380381_A_G  , 17:30290188_C_CAG, 17:30404896_A_T  , 17:30407759_C_T   | 17:30290151_A_G  , 17:30365691_C_T  , 17:30380381_A_G  , 17:30290188_C_CAG, 17:30404896_A_T  , 17:30407759_C_T   |\n",
       "| m_ENSG00000265148 |  TRUE | <!----> | <!----> | 17:58286977_A_C , 17:58267485_C_G , 17:58314263_C_T , 17:58250200_C_T , 17:58418356_G_GC, 17:58456290_C_T , 17:58318248_A_G , 17:58309413_C_T  | 17:58286977_A_C , 17:58267485_C_G , 17:58314263_C_T , 17:58250200_C_T , 17:58418356_G_GC, 17:58309413_C_T , 17:58330298_C_T , 17:58382536_G_GT |\n",
       "\n"
      ],
      "text/plain": [
       "   gene_id           fail_to_converge_with_cor\n",
       "1  m_ENSG00000002587 FALSE                    \n",
       "2  m_ENSG00000064687  TRUE                    \n",
       "3  m_ENSG00000073921 FALSE                    \n",
       "4  m_ENSG00000087589 FALSE                    \n",
       "5  m_ENSG00000103510  TRUE                    \n",
       "6  m_ENSG00000105383 FALSE                    \n",
       "7  m_ENSG00000108798 FALSE                    \n",
       "8  m_ENSG00000110077  TRUE                    \n",
       "9  m_ENSG00000120885 FALSE                    \n",
       "10 m_ENSG00000120899 FALSE                    \n",
       "11 m_ENSG00000130203  TRUE                    \n",
       "12 m_ENSG00000134463 FALSE                    \n",
       "13 m_ENSG00000136717 FALSE                    \n",
       "14 m_ENSG00000137642 FALSE                    \n",
       "15 m_ENSG00000137845 FALSE                    \n",
       "16 m_ENSG00000138613 FALSE                    \n",
       "17 m_ENSG00000140090  TRUE                    \n",
       "18 m_ENSG00000158859 FALSE                    \n",
       "19 m_ENSG00000161929  TRUE                    \n",
       "20 m_ENSG00000168918  TRUE                    \n",
       "21 m_ENSG00000198087  TRUE                    \n",
       "22 m_ENSG00000203710  TRUE                    \n",
       "23 m_ENSG00000264538  TRUE                    \n",
       "24 m_ENSG00000265148  TRUE                    \n",
       "   cs_uni_cor_new_prior                                                                                            \n",
       "1                                                                                                                  \n",
       "2  19:1032702_C_T, 19:1032756_C_T, 19:1033360_A_T                                                                  \n",
       "3                                                                                                                  \n",
       "4                                                                                                                  \n",
       "5  16:31138445_A_G, 16:31143993_C_T                                                                                \n",
       "6                                                                                                                  \n",
       "7                                                                                                                  \n",
       "8                                                                                                                  \n",
       "9  8:27459205_A_C, 8:27458104_C_G                                                                                  \n",
       "10                                                                                                                 \n",
       "11                                                                                                                 \n",
       "12 10:11822747_C_T, 10:11832356_C_T, 10:11825742_C_G                                                               \n",
       "13 2:127446528_C_T, 2:127446853_C_T                                                                                \n",
       "14                                                                                                                 \n",
       "15                                                                                                                 \n",
       "16 15:63515503_G_T, 15:63552102_C_T, 15:63516266_C_G, 15:63516759_A_G, 15:63550357_A_G                             \n",
       "17 14:92791013_A_C, 14:92785560_A_G, 14:92781334_C_T, 14:92762023_C_T, 14:92761152_A_G                             \n",
       "18                                                                                                                 \n",
       "19 17:5062571_A_G, 17:5066005_A_G, 17:5126876_C_T, 17:5125085_A_C, 17:5054705_C_T                                  \n",
       "20                                                                                                                 \n",
       "21 6:47482194_A_G, 6:47485098_A_G, 6:47513076_A_G, 6:47503303_A_G                                                  \n",
       "22 1:207693163_G_GC , 1:207688436_G_GTA, 1:207687374_A_T  , 1:207783507_C_T  , 1:207782154_C_T  , 1:207694357_C_T  \n",
       "23 17:30365691_C_T  , 17:30380381_A_G  , 17:30290188_C_CAG, 17:30290151_A_G                                        \n",
       "24                                                                                                                 \n",
       "   cs_from_complete_analysis                                                                                                                                                                                                                                                                                                                                                                                                                                                                                                                                                                                                                                                                                                                                                                                                                                                                                                                                                                                                                                                                                                                                                                                                                                                                                                                                                                                                                                   \n",
       "1                                                                                                                                                                                                                                                                                                                                                                                                                                                                                                                                                                                                                                                                                                                                                                                                                                                                                                                                                                                                                                                                                                                                                                                                                                                                                                                                                                                                                                                              \n",
       "2  19:1036552_C_T, 19:1037932_C_G, 19:1038222_C_G, 19:1038445_C_T, 19:1038871_C_G, 19:1038893_C_T, 19:1038995_A_C, 19:1039991_C_T                                                                                                                                                                                                                                                                                                                                                                                                                                                                                                                                                                                                                                                                                                                                                                                                                                                                                                                                                                                                                                                                                                                                                                                                                                                                                                                              \n",
       "3                                                                                                                                                                                                                                                                                                                                                                                                                                                                                                                                                                                                                                                                                                                                                                                                                                                                                                                                                                                                                                                                                                                                                                                                                                                                                                                                                                                                                                                              \n",
       "4                                                                                                                                                                                                                                                                                                                                                                                                                                                                                                                                                                                                                                                                                                                                                                                                                                                                                                                                                                                                                                                                                                                                                                                                                                                                                                                                                                                                                                                              \n",
       "5  16:31117389_C_T  , 16:31117413_C_T  , 16:31118024_A_C  , 16:31121793_A_G  , 16:31124407_A_G  , 16:31125776_C_T  , 16:31128088_A_AAT, 16:31128615_C_T  , 16:31128668_A_C  , 16:31129895_A_G  , 16:31129942_C_T  , 16:31131174_A_G  , 16:31131614_A_G  , 16:31137712_C_T  , 16:31140799_G_T  , 16:31141993_C_T  , 16:31145219_C_T  , 16:31147548_A_G  , 16:31149142_A_G                                                                                                                                                                                                                                                                                                                                                                                                                                                                                                                                                                                                                                                                                                                                                                                                                                                                                                                                                                                                                                                                                       \n",
       "6                                                                                                                                                                                                                                                                                                                                                                                                                                                                                                                                                                                                                                                                                                                                                                                                                                                                                                                                                                                                                                                                                                                                                                                                                                                                                                                                                                                                                                                              \n",
       "7                                                                                                                                                                                                                                                                                                                                                                                                                                                                                                                                                                                                                                                                                                                                                                                                                                                                                                                                                                                                                                                                                                                                                                                                                                                                                                                                                                                                                                                              \n",
       "8                                                                                                                                                                                                                                                                                                                                                                                                                                                                                                                                                                                                                                                                                                                                                                                                                                                                                                                                                                                                                                                                                                                                                                                                                                                                                                                                                                                                                                                              \n",
       "9                                                                                                                                                                                                                                                                                                                                                                                                                                                                                                                                                                                                                                                                                                                                                                                                                                                                                                                                                                                                                                                                                                                                                                                                                                                                                                                                                                                                                                                              \n",
       "10                                                                                                                                                                                                                                                                                                                                                                                                                                                                                                                                                                                                                                                                                                                                                                                                                                                                                                                                                                                                                                                                                                                                                                                                                                                                                                                                                                                                                                                             \n",
       "11                                                                                                                                                                                                                                                                                                                                                                                                                                                                                                                                                                                                                                                                                                                                                                                                                                                                                                                                                                                                                                                                                                                                                                                                                                                                                                                                                                                                                                                             \n",
       "12 10:11786415_A_G, 10:11797500_A_G, 10:11802849_A_G, 10:11809368_C_T, 10:11809948_A_G, 10:11821218_C_T, 10:11841338_A_G, 10:11841351_A_G                                                                                                                                                                                                                                                                                                                                                                                                                                                                                                                                                                                                                                                                                                                                                                                                                                                                                                                                                                                                                                                                                                                                                                                                                                                                                                                      \n",
       "13                                                                                                                                                                                                                                                                                                                                                                                                                                                                                                                                                                                                                                                                                                                                                                                                                                                                                                                                                                                                                                                                                                                                                                                                                                                                                                                                                                                                                                                             \n",
       "14                                                                                                                                                                                                                                                                                                                                                                                                                                                                                                                                                                                                                                                                                                                                                                                                                                                                                                                                                                                                                                                                                                                                                                                                                                                                                                                                                                                                                                                             \n",
       "15                                                                                                                                                                                                                                                                                                                                                                                                                                                                                                                                                                                                                                                                                                                                                                                                                                                                                                                                                                                                                                                                                                                                                                                                                                                                                                                                                                                                                                                             \n",
       "16                                                                                                                                                                                                                                                                                                                                                                                                                                                                                                                                                                                                                                                                                                                                                                                                                                                                                                                                                                                                                                                                                                                                                                                                                                                                                                                                                                                                                                                             \n",
       "17                                                                                                                                                                                                                                                                                                                                                                                                                                                                                                                                                                                                                                                                                                                                                                                                                                                                                                                                                                                                                                                                                                                                                                                                                                                                                                                                                                                                                                                             \n",
       "18                                                                                                                                                                                                                                                                                                                                                                                                                                                                                                                                                                                                                                                                                                                                                                                                                                                                                                                                                                                                                                                                                                                                                                                                                                                                                                                                                                                                                                                             \n",
       "19 17:5124877_C_T , 17:5125249_A_G , 17:5125333_A_T , 17:5126207_A_G , 17:5126224_G_T , 17:5126674_A_G , 17:5128482_A_G , 17:5131160_A_AC, 17:5133734_C_T , 17:5133807_A_G , 17:5134814_A_G                                                                                                                                                                                                                                                                                                                                                                                                                                                                                                                                                                                                                                                                                                                                                                                                                                                                                                                                                                                                                                                                                                                                                                                                                                                                    \n",
       "20                                                                                                                                                                                                                                                                                                                                                                                                                                                                                                                                                                                                                                                                                                                                                                                                                                                                                                                                                                                                                                                                                                                                                                                                                                                                                                                                                                                                                                                             \n",
       "21 6:47392833_C_T   , 6:47393789_C_T   , 6:47394200_C_G   , 6:47397662_A_G   , 6:47399122_A_G   , 6:47401044_A_G   , 6:47401280_A_G   , 6:47406337_C_T   , 6:47410742_A_T   , 6:47411370_A_G   , 6:47413777_A_T   , 6:47414135_C_T   , 6:47414316_A_C   , 6:47417588_C_T   , 6:47417768_A_G   , 6:47419490_A_C   , 6:47421416_G_T   , 6:47425026_A_T   , 6:47425459_C_T   , 6:47425729_A_T   , 6:47426546_C_T   , 6:47427990_C_T   , 6:47431114_C_G   , 6:47431898_C_T   , 6:47432497_A_G   , 6:47435420_C_T   , 6:47437667_C_G   , 6:47438005_A_G   , 6:47439428_A_G   , 6:47440155_A_C   , 6:47440849_C_T   , 6:47443563_A_C   , 6:47444070_C_T   , 6:47444982_A_G   , 6:47445540_C_G   , 6:47448469_G_GA  , 6:47450290_A_G   , 6:47454185_A_G   , 6:47454395_A_T   , 6:47462571_A_G   , 6:47462615_C_T   , 6:47466833_C_T   , 6:47469136_A_G   , 6:47475854_C_T   , 6:47477210_A_G   , 6:47477407_C_T   , 6:47477794_A_C   , 6:47489075_A_G   , 6:47489732_C_G   , 6:47490783_A_G   , 6:47491232_A_C   , 6:47498239_A_G   , 6:47498287_A_G   , 6:47499584_A_G   , 6:47507780_A_G   , 6:47513204_A_C   , 6:47514279_A_G   , 6:47517275_C_T   , 6:47517298_A_G   , 6:47521752_C_G   , 6:47524058_C_G   , 6:47529815_C_T   , 6:47532597_G_GTTT, 6:47535562_A_G   , 6:47538351_T_TA  , 6:47548202_C_CA  , 6:47559544_C_T   , 6:47559941_G_T   , 6:47561578_C_T   , 6:47564304_C_T   , 6:47569010_C_T   , 6:47587196_G_T   , 6:47591315_C_T   , 6:47592328_G_GT  \n",
       "22 1:207684192_G_T, 1:207685965_A_C, 1:207692049_A_G, 1:207738077_C_T, 1:207747296_A_G, 1:207750568_C_T, 1:207784968_A_G, 1:207786289_A_G, 1:207786542_A_G, 1:207786828_A_G                                                                                                                                                                                                                                                                                                                                                                                                                                                                                                                                                                                                                                                                                                                                                                                                                                                                                                                                                                                                                                                                                                                                                                                                                                                                                    \n",
       "23 17:30289454_C_T   , 17:30289496_A_C   , 17:30289521_A_G   , 17:30289539_A_G   , 17:30289555_A_T   , 17:30289572_C_T   , 17:30289576_C_T   , 17:30289579_C_CA  , 17:30290508_T_TA  , 17:30290515_T_TTTG                                                                                                                                                                                                                                                                                                                                                                                                                                                                                                                                                                                                                                                                                                                                                                                                                                                                                                                                                                                                                                                                                                                                                                                                                                                      \n",
       "24                                                                                                                                                                                                                                                                                                                                                                                                                                                                                                                                                                                                                                                                                                                                                                                                                                                                                                                                                                                                                                                                                                                                                                                                                                                                                                                                                                                                                                                             \n",
       "   cs_unique_cor_new_prior                                                                                                                       \n",
       "1                                                                                                                                                \n",
       "2  19:1032702_C_T, 19:1032756_C_T, 19:1033360_A_T                                                                                                \n",
       "3                                                                                                                                                \n",
       "4                                                                                                                                                \n",
       "5  16:31155631_G_T, 16:31155630_C_G                                                                                                              \n",
       "6                                                                                                                                                \n",
       "7                                                                                                                                                \n",
       "8  11:60091107_A_C, 11:60092650_A_T, 11:60099810_C_T, 11:60100079_A_T                                                                            \n",
       "9                                                                                                                                                \n",
       "10                                                                                                                                               \n",
       "11 19:45076477_A_G, 19:45068086_G_T, 19:45066667_G_T, 19:45079243_A_G                                                                            \n",
       "12 10:11822747_C_T, 10:11832356_C_T, 10:11825742_C_G                                                                                             \n",
       "13                                                                                                                                               \n",
       "14                                                                                                                                               \n",
       "15                                                                                                                                               \n",
       "16                                                                                                                                               \n",
       "17 14:92791013_A_C, 14:92785560_A_G, 14:92776189_A_G, 14:92781334_C_T, 14:92785596_A_G, 14:92762023_C_T, 14:92761152_A_G                         \n",
       "18                                                                                                                                               \n",
       "19 17:5066005_A_G, 17:5054705_C_T, 17:5062571_A_G, 17:5126876_C_T, 17:5125085_A_C                                                                \n",
       "20 2:233478747_T_TACAC, 2:233481689_G_T                                                                                                          \n",
       "21 6:47482194_A_G, 6:47485098_A_G, 6:47513076_A_G, 6:47503303_A_G                                                                                \n",
       "22 1:207774882_A_G  , 1:207770689_A_G  , 1:207688436_G_GTA, 1:207687374_A_T  , 1:207783507_C_T  , 1:207782154_C_T                                \n",
       "23 17:30290151_A_G  , 17:30365691_C_T  , 17:30380381_A_G  , 17:30290188_C_CAG, 17:30404896_A_T  , 17:30407759_C_T                                \n",
       "24 17:58286977_A_C , 17:58267485_C_G , 17:58314263_C_T , 17:58250200_C_T , 17:58418356_G_GC, 17:58456290_C_T , 17:58318248_A_G , 17:58309413_C_T \n",
       "   cs_unique_cor_old_prior                                                                                                                       \n",
       "1                                                                                                                                                \n",
       "2  19:1032702_C_T, 19:1032756_C_T, 19:1033360_A_T                                                                                                \n",
       "3                                                                                                                                                \n",
       "4                                                                                                                                                \n",
       "5  16:31155631_G_T, 16:31155630_C_G                                                                                                              \n",
       "6                                                                                                                                                \n",
       "7                                                                                                                                                \n",
       "8  11:60099810_C_T, 11:60100079_A_T                                                                                                              \n",
       "9                                                                                                                                                \n",
       "10                                                                                                                                               \n",
       "11 19:45076477_A_G, 19:45068086_G_T, 19:45066667_G_T, 19:45079243_A_G                                                                            \n",
       "12 10:11822747_C_T, 10:11832356_C_T, 10:11825742_C_G                                                                                             \n",
       "13                                                                                                                                               \n",
       "14                                                                                                                                               \n",
       "15                                                                                                                                               \n",
       "16                                                                                                                                               \n",
       "17 14:92791013_A_C, 14:92785560_A_G, 14:92781334_C_T, 14:92762023_C_T, 14:92761152_A_G                                                           \n",
       "18                                                                                                                                               \n",
       "19 17:5066005_A_G, 17:5062571_A_G, 17:4968816_A_G, 17:4970015_G_T, 17:5105047_C_T, 17:5115409_C_T                                                \n",
       "20 2:233478747_T_TACAC, 2:233481689_G_T                                                                                                          \n",
       "21 6:47482194_A_G, 6:47485098_A_G, 6:47513076_A_G, 6:47503303_A_G                                                                                \n",
       "22 1:207782154_C_T  , 1:207783507_C_T  , 1:207693163_G_GC , 1:207694357_C_T  , 1:207687374_A_T  , 1:207688436_G_GTA                              \n",
       "23 17:30290151_A_G  , 17:30365691_C_T  , 17:30380381_A_G  , 17:30290188_C_CAG, 17:30404896_A_T  , 17:30407759_C_T                                \n",
       "24 17:58286977_A_C , 17:58267485_C_G , 17:58314263_C_T , 17:58250200_C_T , 17:58418356_G_GC, 17:58309413_C_T , 17:58330298_C_T , 17:58382536_G_GT"
      ]
     },
     "metadata": {},
     "output_type": "display_data"
    }
   ],
   "source": [
    "result_sum_tbl %>%filter()"
   ]
  },
  {
   "cell_type": "code",
   "execution_count": 27,
   "id": "1e024698-e619-402e-aec1-37a92840de1f",
   "metadata": {},
   "outputs": [],
   "source": [
    "resid_cor = '/mnt/mfs/statgen/neuro-twas/TWAS_sumstat/null_z_cor.rds'\n",
    "V2 = readRDS(resid_cor)"
   ]
  },
  {
   "cell_type": "code",
   "execution_count": 28,
   "id": "5d9f9919-665f-4383-9d12-08e4194df7b6",
   "metadata": {},
   "outputs": [
    {
     "data": {
      "text/html": [
       "<table class=\"dataframe\">\n",
       "<caption>A matrix: 4 x 4 of type dbl</caption>\n",
       "<thead>\n",
       "\t<tr><th></th><th scope=col>AC</th><th scope=col>DLPFC</th><th scope=col>PCC</th><th scope=col>TWAS_sumstat</th></tr>\n",
       "</thead>\n",
       "<tbody>\n",
       "\t<tr><th scope=row>AC</th><td> 1.000000000</td><td> 0.191695550</td><td>0.188528160</td><td>-0.005253693</td></tr>\n",
       "\t<tr><th scope=row>DLPFC</th><td> 0.191695550</td><td> 1.000000000</td><td>0.236261691</td><td>-0.000648887</td></tr>\n",
       "\t<tr><th scope=row>PCC</th><td> 0.188528160</td><td> 0.236261691</td><td>1.000000000</td><td> 0.002678716</td></tr>\n",
       "\t<tr><th scope=row>TWAS_sumstat</th><td>-0.005253693</td><td>-0.000648887</td><td>0.002678716</td><td> 1.000000000</td></tr>\n",
       "</tbody>\n",
       "</table>\n"
      ],
      "text/latex": [
       "A matrix: 4 x 4 of type dbl\n",
       "\\begin{tabular}{r|llll}\n",
       "  & AC & DLPFC & PCC & TWAS\\_sumstat\\\\\n",
       "\\hline\n",
       "\tAC &  1.000000000 &  0.191695550 & 0.188528160 & -0.005253693\\\\\n",
       "\tDLPFC &  0.191695550 &  1.000000000 & 0.236261691 & -0.000648887\\\\\n",
       "\tPCC &  0.188528160 &  0.236261691 & 1.000000000 &  0.002678716\\\\\n",
       "\tTWAS\\_sumstat & -0.005253693 & -0.000648887 & 0.002678716 &  1.000000000\\\\\n",
       "\\end{tabular}\n"
      ],
      "text/markdown": [
       "\n",
       "A matrix: 4 x 4 of type dbl\n",
       "\n",
       "| <!--/--> | AC | DLPFC | PCC | TWAS_sumstat |\n",
       "|---|---|---|---|---|\n",
       "| AC |  1.000000000 |  0.191695550 | 0.188528160 | -0.005253693 |\n",
       "| DLPFC |  0.191695550 |  1.000000000 | 0.236261691 | -0.000648887 |\n",
       "| PCC |  0.188528160 |  0.236261691 | 1.000000000 |  0.002678716 |\n",
       "| TWAS_sumstat | -0.005253693 | -0.000648887 | 0.002678716 |  1.000000000 |\n",
       "\n"
      ],
      "text/plain": [
       "             AC           DLPFC        PCC         TWAS_sumstat\n",
       "AC            1.000000000  0.191695550 0.188528160 -0.005253693\n",
       "DLPFC         0.191695550  1.000000000 0.236261691 -0.000648887\n",
       "PCC           0.188528160  0.236261691 1.000000000  0.002678716\n",
       "TWAS_sumstat -0.005253693 -0.000648887 0.002678716  1.000000000"
      ]
     },
     "metadata": {},
     "output_type": "display_data"
    }
   ],
   "source": [
    "V2"
   ]
  },
  {
   "cell_type": "code",
   "execution_count": 29,
   "id": "eb5ba732-a0e6-4d60-a98e-84c7003d6f59",
   "metadata": {},
   "outputs": [
    {
     "name": "stdout",
     "output_type": "stream",
     "text": [
      "[1] \"Number of components in the mixture prior: 19\"\n"
     ]
    }
   ],
   "source": [
    "prior = readRDS('/mnt/mfs/statgen/neuro-twas/TWAS_sumstat/susie_rss.ed_bovy.rds')\n",
    "print(paste(\"Number of components in the mixture prior:\", length(prior$U)))\n",
    "prior = mvsusieR::create_mash_prior(mixture_prior=list(weights=prior$w, matrices=prior$U), \n",
    "                                    include_indices = get_prior_indices(dat$Z, prior$U[[1]]), \n",
    "                                    max_mixture_len=-1)\n",
    "if(\"original\" == 'original'){\n",
    "    R = readRDS(dat$ld.file)\n",
    "}else if(\"original\" == 'remove_cov'){\n",
    "    R = dat$LD\n",
    "}\n",
    "## Retaining only the overlapping snps\n",
    "dat$Z = dat$Z[which(dat$snps%in%rownames(R)),]\n",
    "R = R[which(rownames(R)%in%dat$snps),which(colnames(R)%in%dat$snps)]\n"
   ]
  },
  {
   "cell_type": "code",
   "execution_count": 31,
   "id": "d8439a23-1841-40b0-a26d-2bb6e868b11a",
   "metadata": {},
   "outputs": [
    {
     "name": "stderr",
     "output_type": "stream",
     "text": [
      "Warning message in mvsusieR::mvsusie_rss(dat$Z, R, L = 10, prior_variance = prior, :\n",
      "“NA values in Z-scores are replaced with 0.”\n"
     ]
    },
    {
     "ename": "ERROR",
     "evalue": "Error in is_numeric_matrix(R, \"R\"): Input R must not contain any missing values.\n",
     "output_type": "error",
     "traceback": [
      "Error in is_numeric_matrix(R, \"R\"): Input R must not contain any missing values.\nTraceback:\n",
      "1. mvsusieR::mvsusie_rss(dat$Z, R, L = 10, prior_variance = prior, \n .     residual_variance = V, precompute_covariances = T, compute_objective = T, \n .     estimate_prior_variance = T, estimate_prior_method = \"EM\", \n .     max_iter = 1000, n_thread = 1)",
      "2. is_numeric_matrix(R, \"R\")",
      "3. stop(paste(\"Input\", name, \"must not contain any missing values.\"))"
     ]
    }
   ],
   "source": []
  },
  {
   "cell_type": "code",
   "execution_count": 180,
   "id": "8b4414f6-7331-4f2a-8523-e39a371bb470",
   "metadata": {},
   "outputs": [
    {
     "data": {
      "text/html": [
       "<style>\n",
       ".list-inline {list-style: none; margin:0; padding: 0}\n",
       ".list-inline>li {display: inline-block}\n",
       ".list-inline>li:not(:last-child)::after {content: \"\\00b7\"; padding: 0 .5ex}\n",
       "</style>\n",
       "<ol class=list-inline><li>'X1'</li><li>'X2'</li><li>'X3'</li><li>'new_model'</li><li>'X9'</li><li>'old_model'</li><li>'gene_id'</li><li>'cor_path'</li><li>'cor_model'</li><li>'cor_cs'</li><li>'cor_n_cs'</li><li>'cor_sigma'</li><li>'V'</li><li>'new_cs'</li><li>'new_n_cs'</li><li>'new_sigma'</li><li>'old_cs'</li><li>'old_n_cs'</li><li>'old_sigma'</li><li>'bim_path'</li><li>'snps'</li><li>'snps_path'</li><li>'gene_id_mod'</li><li>'snps_env'</li><li>'cor_old_prior_path'</li><li>'cop_model'</li><li>'cop_cs'</li></ol>\n"
      ],
      "text/latex": [
       "\\begin{enumerate*}\n",
       "\\item 'X1'\n",
       "\\item 'X2'\n",
       "\\item 'X3'\n",
       "\\item 'new\\_model'\n",
       "\\item 'X9'\n",
       "\\item 'old\\_model'\n",
       "\\item 'gene\\_id'\n",
       "\\item 'cor\\_path'\n",
       "\\item 'cor\\_model'\n",
       "\\item 'cor\\_cs'\n",
       "\\item 'cor\\_n\\_cs'\n",
       "\\item 'cor\\_sigma'\n",
       "\\item 'V'\n",
       "\\item 'new\\_cs'\n",
       "\\item 'new\\_n\\_cs'\n",
       "\\item 'new\\_sigma'\n",
       "\\item 'old\\_cs'\n",
       "\\item 'old\\_n\\_cs'\n",
       "\\item 'old\\_sigma'\n",
       "\\item 'bim\\_path'\n",
       "\\item 'snps'\n",
       "\\item 'snps\\_path'\n",
       "\\item 'gene\\_id\\_mod'\n",
       "\\item 'snps\\_env'\n",
       "\\item 'cor\\_old\\_prior\\_path'\n",
       "\\item 'cop\\_model'\n",
       "\\item 'cop\\_cs'\n",
       "\\end{enumerate*}\n"
      ],
      "text/markdown": [
       "1. 'X1'\n",
       "2. 'X2'\n",
       "3. 'X3'\n",
       "4. 'new_model'\n",
       "5. 'X9'\n",
       "6. 'old_model'\n",
       "7. 'gene_id'\n",
       "8. 'cor_path'\n",
       "9. 'cor_model'\n",
       "10. 'cor_cs'\n",
       "11. 'cor_n_cs'\n",
       "12. 'cor_sigma'\n",
       "13. 'V'\n",
       "14. 'new_cs'\n",
       "15. 'new_n_cs'\n",
       "16. 'new_sigma'\n",
       "17. 'old_cs'\n",
       "18. 'old_n_cs'\n",
       "19. 'old_sigma'\n",
       "20. 'bim_path'\n",
       "21. 'snps'\n",
       "22. 'snps_path'\n",
       "23. 'gene_id_mod'\n",
       "24. 'snps_env'\n",
       "25. 'cor_old_prior_path'\n",
       "26. 'cop_model'\n",
       "27. 'cop_cs'\n",
       "\n",
       "\n"
      ],
      "text/plain": [
       " [1] \"X1\"                 \"X2\"                 \"X3\"                \n",
       " [4] \"new_model\"          \"X9\"                 \"old_model\"         \n",
       " [7] \"gene_id\"            \"cor_path\"           \"cor_model\"         \n",
       "[10] \"cor_cs\"             \"cor_n_cs\"           \"cor_sigma\"         \n",
       "[13] \"V\"                  \"new_cs\"             \"new_n_cs\"          \n",
       "[16] \"new_sigma\"          \"old_cs\"             \"old_n_cs\"          \n",
       "[19] \"old_sigma\"          \"bim_path\"           \"snps\"              \n",
       "[22] \"snps_path\"          \"gene_id_mod\"        \"snps_env\"          \n",
       "[25] \"cor_old_prior_path\" \"cop_model\"          \"cop_cs\"            "
      ]
     },
     "metadata": {},
     "output_type": "display_data"
    }
   ],
   "source": [
    "colnames(sum)"
   ]
  },
  {
   "cell_type": "code",
   "execution_count": 182,
   "id": "bd092d51-8ec3-4bf7-ae2b-d65bc2ab9352",
   "metadata": {},
   "outputs": [
    {
     "data": {
      "text/html": [
       "<table class=\"dataframe\">\n",
       "<caption>A tibble: 24 x 3</caption>\n",
       "<thead>\n",
       "\t<tr><th scope=col>gene_id</th><th scope=col>old_snp_coef</th><th scope=col>old_snp_coef_colsum</th></tr>\n",
       "\t<tr><th scope=col>&lt;chr&gt;</th><th scope=col>&lt;list&gt;</th><th scope=col>&lt;list&gt;</th></tr>\n",
       "</thead>\n",
       "<tbody>\n",
       "\t<tr><td>m_ENSG00000002587</td><td></td><td>0, 0, 0</td></tr>\n",
       "\t<tr><td>m_ENSG00000064687</td><td>0.005477812, 0.004377602, 0.004377602, 0.005451701, 0.020240685, 0.020240685, 0.020240685, 0.075281977, 0.003222355, 0.002599900, 0.002599900, 0.003257881, 0.012431113, 0.012431113, 0.012431113, 0.047601968, 0.004378835, 0.003406106, 0.003406106, 0.004301977, 0.015859142, 0.015859142, 0.015859142, 0.063464583</td><td>0.15568875, 0.09657534, 0.12653503</td></tr>\n",
       "\t<tr><td>m_ENSG00000073921</td><td></td><td>0, 0, 0</td></tr>\n",
       "\t<tr><td>m_ENSG00000087589</td><td></td><td>0, 0, 0</td></tr>\n",
       "\t<tr><td>m_ENSG00000103510</td><td>-0.008827994, -0.021173776, -0.009421559, -0.021173776, -0.009421559, -0.009335691, -0.007433732, -0.020513171, -0.005529524, -0.023337963, -0.009335691, -0.022014654, -0.020925508, -0.011437577, -0.022014654, -0.014261700, -0.007217261, -0.021433925, -0.019495450, -0.007111072, -0.017205571, -0.007601083, -0.017205571, -0.007601083, -0.007544181, -0.006079827, -0.016667747, -0.004493808, -0.019068270, -0.007544181, -0.017986053, -0.017031877, -0.009243486, -0.017986053, -0.011770165, -0.005950792, -0.017290685, -0.015479372, -0.007591480, -0.018540739, -0.008140516, -0.018540739, -0.008140516, -0.008074853, -0.006506219, -0.017883199, -0.004856466, -0.020686651, -0.008074853, -0.019475729, -0.018343361, -0.009927949, -0.019475729, -0.012756226, -0.006565252, -0.019117153, -0.016993100</td><td>-0.2843052, -0.2308609, -0.2496907</td></tr>\n",
       "\t<tr><td>m_ENSG00000105383</td><td></td><td>0, 0, 0</td></tr>\n",
       "\t<tr><td>m_ENSG00000108798</td><td></td><td>0, 0, 0</td></tr>\n",
       "\t<tr><td>m_ENSG00000110077</td><td></td><td>0, 0, 0</td></tr>\n",
       "\t<tr><td>m_ENSG00000120885</td><td></td><td>0, 0, 0</td></tr>\n",
       "\t<tr><td>m_ENSG00000120899</td><td></td><td>0, 0, 0</td></tr>\n",
       "\t<tr><td>m_ENSG00000130203</td><td></td><td>0, 0, 0</td></tr>\n",
       "\t<tr><td>m_ENSG00000134463</td><td>0.32917473, 0.06186824, 0.06186824, 0.06186824, 0.06186824, 0.04034417, 0.13775000, 0.14169507, 0.17110628, 0.04748787, 0.04748787, 0.04748787, 0.04748787, 0.02952701, 0.09826694, 0.10124009, 0.28984242, 0.05681518, 0.05681518, 0.05681518, 0.05681518, 0.02443415, 0.07947578, 0.08134520</td><td>0.8964369, 0.5900918, 0.7023583</td></tr>\n",
       "\t<tr><td>m_ENSG00000136717</td><td></td><td>0, 0, 0</td></tr>\n",
       "\t<tr><td>m_ENSG00000137642</td><td></td><td>0, 0, 0</td></tr>\n",
       "\t<tr><td>m_ENSG00000137845</td><td></td><td>0, 0, 0</td></tr>\n",
       "\t<tr><td>m_ENSG00000138613</td><td></td><td>0, 0, 0</td></tr>\n",
       "\t<tr><td>m_ENSG00000140090</td><td></td><td>0, 0, 0</td></tr>\n",
       "\t<tr><td>m_ENSG00000158859</td><td></td><td>0, 0, 0</td></tr>\n",
       "\t<tr><td>m_ENSG00000161929</td><td>0.025304681, 0.030059143, 0.031117623, 0.028025698, 0.028025698, 0.024658485, 0.025304681, 0.025304681, 0.021329384, 0.021329384, 0.014253796, 0.023701840, 0.028010595, 0.028540552, 0.026457000, 0.026457000, 0.022757599, 0.023701840, 0.023701840, 0.019675629, 0.019675629, 0.013189589, 0.011597351, 0.013580109, 0.014241392, 0.012566409, 0.012566409, 0.011173767, 0.011597351, 0.011597351, 0.009764226, 0.009764226, 0.006446060</td><td>0.2747133, 0.2558691, 0.1248947</td></tr>\n",
       "\t<tr><td>m_ENSG00000168918</td><td></td><td>0, 0, 0</td></tr>\n",
       "\t<tr><td>m_ENSG00000198087</td><td>0.0010417787, 0.0010417787, 0.0010417787, 0.0010417787, 0.0010417787, 0.0010417787, 0.0010417787, 0.0010417787, 0.0008587258, 0.0008587258, 0.0013181482, 0.0013181482, 0.0013181482, 0.0007419126, 0.0008587258, 0.0008587258, 0.0008587258, 0.0018641419, 0.0029477940, 0.0018641419, 0.0018641419, 0.0018641419, 0.0029477940, 0.0018641419, 0.0018641419, 0.0024158921, 0.0024158921, 0.0024158921, 0.0017870604, 0.0024158921, 0.0024158921, 0.0024158921, 0.0024158921, 0.0024158921, 0.0024158921, 0.0024158921, 0.0021521106, 0.0021521106, 0.0024158921, 0.0023043135, 0.0020485750, 0.0020485750, 0.0023043135, 0.0015041388, 0.0011790651, 0.0020485750, 0.0020485750, 0.0023043135, 0.0023043135, 0.0023043135, 0.0020485750, 0.0020485750, 0.0020485750, 0.0020485750, 0.0023043135, 0.0020485750, 0.0020485750, 0.0023043135, 0.0023043135, 0.0016701345, 0.0020485750, 0.0018911677, 0.0026088287, 0.0020485750, 0.0020160552, 0.0015225548, 0.0020485750, 0.0023331926, 0.0039050019, 0.0020485750, 0.0051724558, 0.0020485750, 0.0020485750, 0.0020485750, 0.0006411026, 0.0006411026, 0.0006411026, 0.0006411026, 0.0006411026, 0.0006411026, 0.0006411026, 0.0006411026, 0.0005264417, 0.0005264417, 0.0007645869, 0.0007645869, 0.0007645869, 0.0004526787, 0.0005264417, 0.0005264417, 0.0005264417, 0.0010994580, 0.0016510674, 0.0010994580, 0.0010994580, 0.0010994580, 0.0016510674, 0.0010994580, 0.0010994580, 0.0016586528, 0.0016586528, 0.0016586528, 0.0012863720, 0.0016586528, 0.0016586528, 0.0016586528, 0.0016586528, 0.0016586528, 0.0016586528, 0.0016586528, 0.0014756805, 0.0014756805, 0.0016586528, 0.0016382256, 0.0014537414, 0.0014537414, 0.0016382256, 0.0010761001, 0.0007954062, 0.0014537414, 0.0014537414, 0.0016382256, 0.0016382256, 0.0016382256, 0.0014537414, 0.0014537414, 0.0014537414, 0.0014537414, 0.0016382256, 0.0014537414, 0.0014537414, 0.0016382256, 0.0016382256, 0.0012090709, 0.0014537414, 0.0013453420, 0.0019168939, 0.0014537414, 0.0014212098, 0.0010700241, 0.0014537414, 0.0016925339, 0.0026706423, 0.0014537414, 0.0035156463, 0.0014537414, 0.0014537414, 0.0014537414, 0.0004275107, 0.0004275107, 0.0004275107, 0.0004275107, 0.0004275107, 0.0004275107, 0.0004275107, 0.0004275107, 0.0003507438, 0.0003507438, 0.0005318141, 0.0005318141, 0.0005318141, 0.0002941284, 0.0003507438, 0.0003507438, 0.0003507438, 0.0007341964, 0.0011510013, 0.0007341964, 0.0007341964, 0.0007341964, 0.0011510013, 0.0007341964, 0.0007341964, 0.0007959697, 0.0007959697, 0.0007959697, 0.0005951116, 0.0007959697, 0.0007959697, 0.0007959697, 0.0007959697, 0.0007959697, 0.0007959697, 0.0007959697, 0.0007232848, 0.0007232848, 0.0007959697, 0.0007835496, 0.0007103857, 0.0007103857, 0.0007835496, 0.0005142033, 0.0004009834, 0.0007103857, 0.0007103857, 0.0007835496, 0.0007835496, 0.0007835496, 0.0007103857, 0.0007103857, 0.0007103857, 0.0007103857, 0.0007835496, 0.0007103857, 0.0007103857, 0.0007835496, 0.0007835496, 0.0006049739, 0.0007103857, 0.0006562877, 0.0009013162, 0.0007103857, 0.0006827455, 0.0004990645, 0.0007103857, 0.0008414883, 0.0013338758, 0.0007103857, 0.0017997732, 0.0007103857, 0.0007103857, 0.0007103857</td><td>0.14413363, 0.09742154, 0.05114757</td></tr>\n",
       "\t<tr><td>m_ENSG00000203710</td><td>0.005092629, 0.004109958, 0.008231704, 0.030259975, 0.012732127, 0.031804983, 0.006812087, 0.006812087, 0.003122964, 0.006812087, 0.008544628, 0.007005557, 0.014044757, 0.051041212, 0.022146864, 0.056277938, 0.012049621, 0.012049621, 0.005560467, 0.012049621, 0.016751469, 0.013640253, 0.026591860, 0.093134053, 0.039996392, 0.096609396, 0.020966039, 0.020966039, 0.009669549, 0.020966039</td><td>0.1157906, 0.2007703, 0.3592911</td></tr>\n",
       "\t<tr><td>m_ENSG00000264538</td><td>-0.05335756, -0.05335756, -0.05335756, -0.05335756, -0.05335756, -0.05335756, -0.05335756, -0.05335756, -0.02490415, -0.02490415, -0.04909892, -0.04909892, -0.04909892, -0.04909892, -0.04909892, -0.04909892, -0.04909892, -0.04909892, -0.02266384, -0.02266384, -0.05751657, -0.05751657, -0.05751657, -0.05751657, -0.05751657, -0.05751657, -0.05751657, -0.05751657, -0.02670575, -0.02670575</td><td>-0.4766687, -0.4381190, -0.5135440</td></tr>\n",
       "\t<tr><td>m_ENSG00000265148</td><td></td><td>0, 0, 0</td></tr>\n",
       "</tbody>\n",
       "</table>\n"
      ],
      "text/latex": [
       "A tibble: 24 x 3\n",
       "\\begin{tabular}{lll}\n",
       " gene\\_id & old\\_snp\\_coef & old\\_snp\\_coef\\_colsum\\\\\n",
       " <chr> & <list> & <list>\\\\\n",
       "\\hline\n",
       "\t m\\_ENSG00000002587 &  & 0, 0, 0\\\\\n",
       "\t m\\_ENSG00000064687 & 0.005477812, 0.004377602, 0.004377602, 0.005451701, 0.020240685, 0.020240685, 0.020240685, 0.075281977, 0.003222355, 0.002599900, 0.002599900, 0.003257881, 0.012431113, 0.012431113, 0.012431113, 0.047601968, 0.004378835, 0.003406106, 0.003406106, 0.004301977, 0.015859142, 0.015859142, 0.015859142, 0.063464583 & 0.15568875, 0.09657534, 0.12653503\\\\\n",
       "\t m\\_ENSG00000073921 &  & 0, 0, 0\\\\\n",
       "\t m\\_ENSG00000087589 &  & 0, 0, 0\\\\\n",
       "\t m\\_ENSG00000103510 & -0.008827994, -0.021173776, -0.009421559, -0.021173776, -0.009421559, -0.009335691, -0.007433732, -0.020513171, -0.005529524, -0.023337963, -0.009335691, -0.022014654, -0.020925508, -0.011437577, -0.022014654, -0.014261700, -0.007217261, -0.021433925, -0.019495450, -0.007111072, -0.017205571, -0.007601083, -0.017205571, -0.007601083, -0.007544181, -0.006079827, -0.016667747, -0.004493808, -0.019068270, -0.007544181, -0.017986053, -0.017031877, -0.009243486, -0.017986053, -0.011770165, -0.005950792, -0.017290685, -0.015479372, -0.007591480, -0.018540739, -0.008140516, -0.018540739, -0.008140516, -0.008074853, -0.006506219, -0.017883199, -0.004856466, -0.020686651, -0.008074853, -0.019475729, -0.018343361, -0.009927949, -0.019475729, -0.012756226, -0.006565252, -0.019117153, -0.016993100 & -0.2843052, -0.2308609, -0.2496907\\\\\n",
       "\t m\\_ENSG00000105383 &  & 0, 0, 0\\\\\n",
       "\t m\\_ENSG00000108798 &  & 0, 0, 0\\\\\n",
       "\t m\\_ENSG00000110077 &  & 0, 0, 0\\\\\n",
       "\t m\\_ENSG00000120885 &  & 0, 0, 0\\\\\n",
       "\t m\\_ENSG00000120899 &  & 0, 0, 0\\\\\n",
       "\t m\\_ENSG00000130203 &  & 0, 0, 0\\\\\n",
       "\t m\\_ENSG00000134463 & 0.32917473, 0.06186824, 0.06186824, 0.06186824, 0.06186824, 0.04034417, 0.13775000, 0.14169507, 0.17110628, 0.04748787, 0.04748787, 0.04748787, 0.04748787, 0.02952701, 0.09826694, 0.10124009, 0.28984242, 0.05681518, 0.05681518, 0.05681518, 0.05681518, 0.02443415, 0.07947578, 0.08134520 & 0.8964369, 0.5900918, 0.7023583\\\\\n",
       "\t m\\_ENSG00000136717 &  & 0, 0, 0\\\\\n",
       "\t m\\_ENSG00000137642 &  & 0, 0, 0\\\\\n",
       "\t m\\_ENSG00000137845 &  & 0, 0, 0\\\\\n",
       "\t m\\_ENSG00000138613 &  & 0, 0, 0\\\\\n",
       "\t m\\_ENSG00000140090 &  & 0, 0, 0\\\\\n",
       "\t m\\_ENSG00000158859 &  & 0, 0, 0\\\\\n",
       "\t m\\_ENSG00000161929 & 0.025304681, 0.030059143, 0.031117623, 0.028025698, 0.028025698, 0.024658485, 0.025304681, 0.025304681, 0.021329384, 0.021329384, 0.014253796, 0.023701840, 0.028010595, 0.028540552, 0.026457000, 0.026457000, 0.022757599, 0.023701840, 0.023701840, 0.019675629, 0.019675629, 0.013189589, 0.011597351, 0.013580109, 0.014241392, 0.012566409, 0.012566409, 0.011173767, 0.011597351, 0.011597351, 0.009764226, 0.009764226, 0.006446060 & 0.2747133, 0.2558691, 0.1248947\\\\\n",
       "\t m\\_ENSG00000168918 &  & 0, 0, 0\\\\\n",
       "\t m\\_ENSG00000198087 & 0.0010417787, 0.0010417787, 0.0010417787, 0.0010417787, 0.0010417787, 0.0010417787, 0.0010417787, 0.0010417787, 0.0008587258, 0.0008587258, 0.0013181482, 0.0013181482, 0.0013181482, 0.0007419126, 0.0008587258, 0.0008587258, 0.0008587258, 0.0018641419, 0.0029477940, 0.0018641419, 0.0018641419, 0.0018641419, 0.0029477940, 0.0018641419, 0.0018641419, 0.0024158921, 0.0024158921, 0.0024158921, 0.0017870604, 0.0024158921, 0.0024158921, 0.0024158921, 0.0024158921, 0.0024158921, 0.0024158921, 0.0024158921, 0.0021521106, 0.0021521106, 0.0024158921, 0.0023043135, 0.0020485750, 0.0020485750, 0.0023043135, 0.0015041388, 0.0011790651, 0.0020485750, 0.0020485750, 0.0023043135, 0.0023043135, 0.0023043135, 0.0020485750, 0.0020485750, 0.0020485750, 0.0020485750, 0.0023043135, 0.0020485750, 0.0020485750, 0.0023043135, 0.0023043135, 0.0016701345, 0.0020485750, 0.0018911677, 0.0026088287, 0.0020485750, 0.0020160552, 0.0015225548, 0.0020485750, 0.0023331926, 0.0039050019, 0.0020485750, 0.0051724558, 0.0020485750, 0.0020485750, 0.0020485750, 0.0006411026, 0.0006411026, 0.0006411026, 0.0006411026, 0.0006411026, 0.0006411026, 0.0006411026, 0.0006411026, 0.0005264417, 0.0005264417, 0.0007645869, 0.0007645869, 0.0007645869, 0.0004526787, 0.0005264417, 0.0005264417, 0.0005264417, 0.0010994580, 0.0016510674, 0.0010994580, 0.0010994580, 0.0010994580, 0.0016510674, 0.0010994580, 0.0010994580, 0.0016586528, 0.0016586528, 0.0016586528, 0.0012863720, 0.0016586528, 0.0016586528, 0.0016586528, 0.0016586528, 0.0016586528, 0.0016586528, 0.0016586528, 0.0014756805, 0.0014756805, 0.0016586528, 0.0016382256, 0.0014537414, 0.0014537414, 0.0016382256, 0.0010761001, 0.0007954062, 0.0014537414, 0.0014537414, 0.0016382256, 0.0016382256, 0.0016382256, 0.0014537414, 0.0014537414, 0.0014537414, 0.0014537414, 0.0016382256, 0.0014537414, 0.0014537414, 0.0016382256, 0.0016382256, 0.0012090709, 0.0014537414, 0.0013453420, 0.0019168939, 0.0014537414, 0.0014212098, 0.0010700241, 0.0014537414, 0.0016925339, 0.0026706423, 0.0014537414, 0.0035156463, 0.0014537414, 0.0014537414, 0.0014537414, 0.0004275107, 0.0004275107, 0.0004275107, 0.0004275107, 0.0004275107, 0.0004275107, 0.0004275107, 0.0004275107, 0.0003507438, 0.0003507438, 0.0005318141, 0.0005318141, 0.0005318141, 0.0002941284, 0.0003507438, 0.0003507438, 0.0003507438, 0.0007341964, 0.0011510013, 0.0007341964, 0.0007341964, 0.0007341964, 0.0011510013, 0.0007341964, 0.0007341964, 0.0007959697, 0.0007959697, 0.0007959697, 0.0005951116, 0.0007959697, 0.0007959697, 0.0007959697, 0.0007959697, 0.0007959697, 0.0007959697, 0.0007959697, 0.0007232848, 0.0007232848, 0.0007959697, 0.0007835496, 0.0007103857, 0.0007103857, 0.0007835496, 0.0005142033, 0.0004009834, 0.0007103857, 0.0007103857, 0.0007835496, 0.0007835496, 0.0007835496, 0.0007103857, 0.0007103857, 0.0007103857, 0.0007103857, 0.0007835496, 0.0007103857, 0.0007103857, 0.0007835496, 0.0007835496, 0.0006049739, 0.0007103857, 0.0006562877, 0.0009013162, 0.0007103857, 0.0006827455, 0.0004990645, 0.0007103857, 0.0008414883, 0.0013338758, 0.0007103857, 0.0017997732, 0.0007103857, 0.0007103857, 0.0007103857 & 0.14413363, 0.09742154, 0.05114757\\\\\n",
       "\t m\\_ENSG00000203710 & 0.005092629, 0.004109958, 0.008231704, 0.030259975, 0.012732127, 0.031804983, 0.006812087, 0.006812087, 0.003122964, 0.006812087, 0.008544628, 0.007005557, 0.014044757, 0.051041212, 0.022146864, 0.056277938, 0.012049621, 0.012049621, 0.005560467, 0.012049621, 0.016751469, 0.013640253, 0.026591860, 0.093134053, 0.039996392, 0.096609396, 0.020966039, 0.020966039, 0.009669549, 0.020966039 & 0.1157906, 0.2007703, 0.3592911\\\\\n",
       "\t m\\_ENSG00000264538 & -0.05335756, -0.05335756, -0.05335756, -0.05335756, -0.05335756, -0.05335756, -0.05335756, -0.05335756, -0.02490415, -0.02490415, -0.04909892, -0.04909892, -0.04909892, -0.04909892, -0.04909892, -0.04909892, -0.04909892, -0.04909892, -0.02266384, -0.02266384, -0.05751657, -0.05751657, -0.05751657, -0.05751657, -0.05751657, -0.05751657, -0.05751657, -0.05751657, -0.02670575, -0.02670575 & -0.4766687, -0.4381190, -0.5135440\\\\\n",
       "\t m\\_ENSG00000265148 &  & 0, 0, 0\\\\\n",
       "\\end{tabular}\n"
      ],
      "text/markdown": [
       "\n",
       "A tibble: 24 x 3\n",
       "\n",
       "| gene_id &lt;chr&gt; | old_snp_coef &lt;list&gt; | old_snp_coef_colsum &lt;list&gt; |\n",
       "|---|---|---|\n",
       "| m_ENSG00000002587 | <!----> | 0, 0, 0 |\n",
       "| m_ENSG00000064687 | 0.005477812, 0.004377602, 0.004377602, 0.005451701, 0.020240685, 0.020240685, 0.020240685, 0.075281977, 0.003222355, 0.002599900, 0.002599900, 0.003257881, 0.012431113, 0.012431113, 0.012431113, 0.047601968, 0.004378835, 0.003406106, 0.003406106, 0.004301977, 0.015859142, 0.015859142, 0.015859142, 0.063464583 | 0.15568875, 0.09657534, 0.12653503 |\n",
       "| m_ENSG00000073921 | <!----> | 0, 0, 0 |\n",
       "| m_ENSG00000087589 | <!----> | 0, 0, 0 |\n",
       "| m_ENSG00000103510 | -0.008827994, -0.021173776, -0.009421559, -0.021173776, -0.009421559, -0.009335691, -0.007433732, -0.020513171, -0.005529524, -0.023337963, -0.009335691, -0.022014654, -0.020925508, -0.011437577, -0.022014654, -0.014261700, -0.007217261, -0.021433925, -0.019495450, -0.007111072, -0.017205571, -0.007601083, -0.017205571, -0.007601083, -0.007544181, -0.006079827, -0.016667747, -0.004493808, -0.019068270, -0.007544181, -0.017986053, -0.017031877, -0.009243486, -0.017986053, -0.011770165, -0.005950792, -0.017290685, -0.015479372, -0.007591480, -0.018540739, -0.008140516, -0.018540739, -0.008140516, -0.008074853, -0.006506219, -0.017883199, -0.004856466, -0.020686651, -0.008074853, -0.019475729, -0.018343361, -0.009927949, -0.019475729, -0.012756226, -0.006565252, -0.019117153, -0.016993100 | -0.2843052, -0.2308609, -0.2496907 |\n",
       "| m_ENSG00000105383 | <!----> | 0, 0, 0 |\n",
       "| m_ENSG00000108798 | <!----> | 0, 0, 0 |\n",
       "| m_ENSG00000110077 | <!----> | 0, 0, 0 |\n",
       "| m_ENSG00000120885 | <!----> | 0, 0, 0 |\n",
       "| m_ENSG00000120899 | <!----> | 0, 0, 0 |\n",
       "| m_ENSG00000130203 | <!----> | 0, 0, 0 |\n",
       "| m_ENSG00000134463 | 0.32917473, 0.06186824, 0.06186824, 0.06186824, 0.06186824, 0.04034417, 0.13775000, 0.14169507, 0.17110628, 0.04748787, 0.04748787, 0.04748787, 0.04748787, 0.02952701, 0.09826694, 0.10124009, 0.28984242, 0.05681518, 0.05681518, 0.05681518, 0.05681518, 0.02443415, 0.07947578, 0.08134520 | 0.8964369, 0.5900918, 0.7023583 |\n",
       "| m_ENSG00000136717 | <!----> | 0, 0, 0 |\n",
       "| m_ENSG00000137642 | <!----> | 0, 0, 0 |\n",
       "| m_ENSG00000137845 | <!----> | 0, 0, 0 |\n",
       "| m_ENSG00000138613 | <!----> | 0, 0, 0 |\n",
       "| m_ENSG00000140090 | <!----> | 0, 0, 0 |\n",
       "| m_ENSG00000158859 | <!----> | 0, 0, 0 |\n",
       "| m_ENSG00000161929 | 0.025304681, 0.030059143, 0.031117623, 0.028025698, 0.028025698, 0.024658485, 0.025304681, 0.025304681, 0.021329384, 0.021329384, 0.014253796, 0.023701840, 0.028010595, 0.028540552, 0.026457000, 0.026457000, 0.022757599, 0.023701840, 0.023701840, 0.019675629, 0.019675629, 0.013189589, 0.011597351, 0.013580109, 0.014241392, 0.012566409, 0.012566409, 0.011173767, 0.011597351, 0.011597351, 0.009764226, 0.009764226, 0.006446060 | 0.2747133, 0.2558691, 0.1248947 |\n",
       "| m_ENSG00000168918 | <!----> | 0, 0, 0 |\n",
       "| m_ENSG00000198087 | 0.0010417787, 0.0010417787, 0.0010417787, 0.0010417787, 0.0010417787, 0.0010417787, 0.0010417787, 0.0010417787, 0.0008587258, 0.0008587258, 0.0013181482, 0.0013181482, 0.0013181482, 0.0007419126, 0.0008587258, 0.0008587258, 0.0008587258, 0.0018641419, 0.0029477940, 0.0018641419, 0.0018641419, 0.0018641419, 0.0029477940, 0.0018641419, 0.0018641419, 0.0024158921, 0.0024158921, 0.0024158921, 0.0017870604, 0.0024158921, 0.0024158921, 0.0024158921, 0.0024158921, 0.0024158921, 0.0024158921, 0.0024158921, 0.0021521106, 0.0021521106, 0.0024158921, 0.0023043135, 0.0020485750, 0.0020485750, 0.0023043135, 0.0015041388, 0.0011790651, 0.0020485750, 0.0020485750, 0.0023043135, 0.0023043135, 0.0023043135, 0.0020485750, 0.0020485750, 0.0020485750, 0.0020485750, 0.0023043135, 0.0020485750, 0.0020485750, 0.0023043135, 0.0023043135, 0.0016701345, 0.0020485750, 0.0018911677, 0.0026088287, 0.0020485750, 0.0020160552, 0.0015225548, 0.0020485750, 0.0023331926, 0.0039050019, 0.0020485750, 0.0051724558, 0.0020485750, 0.0020485750, 0.0020485750, 0.0006411026, 0.0006411026, 0.0006411026, 0.0006411026, 0.0006411026, 0.0006411026, 0.0006411026, 0.0006411026, 0.0005264417, 0.0005264417, 0.0007645869, 0.0007645869, 0.0007645869, 0.0004526787, 0.0005264417, 0.0005264417, 0.0005264417, 0.0010994580, 0.0016510674, 0.0010994580, 0.0010994580, 0.0010994580, 0.0016510674, 0.0010994580, 0.0010994580, 0.0016586528, 0.0016586528, 0.0016586528, 0.0012863720, 0.0016586528, 0.0016586528, 0.0016586528, 0.0016586528, 0.0016586528, 0.0016586528, 0.0016586528, 0.0014756805, 0.0014756805, 0.0016586528, 0.0016382256, 0.0014537414, 0.0014537414, 0.0016382256, 0.0010761001, 0.0007954062, 0.0014537414, 0.0014537414, 0.0016382256, 0.0016382256, 0.0016382256, 0.0014537414, 0.0014537414, 0.0014537414, 0.0014537414, 0.0016382256, 0.0014537414, 0.0014537414, 0.0016382256, 0.0016382256, 0.0012090709, 0.0014537414, 0.0013453420, 0.0019168939, 0.0014537414, 0.0014212098, 0.0010700241, 0.0014537414, 0.0016925339, 0.0026706423, 0.0014537414, 0.0035156463, 0.0014537414, 0.0014537414, 0.0014537414, 0.0004275107, 0.0004275107, 0.0004275107, 0.0004275107, 0.0004275107, 0.0004275107, 0.0004275107, 0.0004275107, 0.0003507438, 0.0003507438, 0.0005318141, 0.0005318141, 0.0005318141, 0.0002941284, 0.0003507438, 0.0003507438, 0.0003507438, 0.0007341964, 0.0011510013, 0.0007341964, 0.0007341964, 0.0007341964, 0.0011510013, 0.0007341964, 0.0007341964, 0.0007959697, 0.0007959697, 0.0007959697, 0.0005951116, 0.0007959697, 0.0007959697, 0.0007959697, 0.0007959697, 0.0007959697, 0.0007959697, 0.0007959697, 0.0007232848, 0.0007232848, 0.0007959697, 0.0007835496, 0.0007103857, 0.0007103857, 0.0007835496, 0.0005142033, 0.0004009834, 0.0007103857, 0.0007103857, 0.0007835496, 0.0007835496, 0.0007835496, 0.0007103857, 0.0007103857, 0.0007103857, 0.0007103857, 0.0007835496, 0.0007103857, 0.0007103857, 0.0007835496, 0.0007835496, 0.0006049739, 0.0007103857, 0.0006562877, 0.0009013162, 0.0007103857, 0.0006827455, 0.0004990645, 0.0007103857, 0.0008414883, 0.0013338758, 0.0007103857, 0.0017997732, 0.0007103857, 0.0007103857, 0.0007103857 | 0.14413363, 0.09742154, 0.05114757 |\n",
       "| m_ENSG00000203710 | 0.005092629, 0.004109958, 0.008231704, 0.030259975, 0.012732127, 0.031804983, 0.006812087, 0.006812087, 0.003122964, 0.006812087, 0.008544628, 0.007005557, 0.014044757, 0.051041212, 0.022146864, 0.056277938, 0.012049621, 0.012049621, 0.005560467, 0.012049621, 0.016751469, 0.013640253, 0.026591860, 0.093134053, 0.039996392, 0.096609396, 0.020966039, 0.020966039, 0.009669549, 0.020966039 | 0.1157906, 0.2007703, 0.3592911 |\n",
       "| m_ENSG00000264538 | -0.05335756, -0.05335756, -0.05335756, -0.05335756, -0.05335756, -0.05335756, -0.05335756, -0.05335756, -0.02490415, -0.02490415, -0.04909892, -0.04909892, -0.04909892, -0.04909892, -0.04909892, -0.04909892, -0.04909892, -0.04909892, -0.02266384, -0.02266384, -0.05751657, -0.05751657, -0.05751657, -0.05751657, -0.05751657, -0.05751657, -0.05751657, -0.05751657, -0.02670575, -0.02670575 | -0.4766687, -0.4381190, -0.5135440 |\n",
       "| m_ENSG00000265148 | <!----> | 0, 0, 0 |\n",
       "\n"
      ],
      "text/plain": [
       "   gene_id          \n",
       "1  m_ENSG00000002587\n",
       "2  m_ENSG00000064687\n",
       "3  m_ENSG00000073921\n",
       "4  m_ENSG00000087589\n",
       "5  m_ENSG00000103510\n",
       "6  m_ENSG00000105383\n",
       "7  m_ENSG00000108798\n",
       "8  m_ENSG00000110077\n",
       "9  m_ENSG00000120885\n",
       "10 m_ENSG00000120899\n",
       "11 m_ENSG00000130203\n",
       "12 m_ENSG00000134463\n",
       "13 m_ENSG00000136717\n",
       "14 m_ENSG00000137642\n",
       "15 m_ENSG00000137845\n",
       "16 m_ENSG00000138613\n",
       "17 m_ENSG00000140090\n",
       "18 m_ENSG00000158859\n",
       "19 m_ENSG00000161929\n",
       "20 m_ENSG00000168918\n",
       "21 m_ENSG00000198087\n",
       "22 m_ENSG00000203710\n",
       "23 m_ENSG00000264538\n",
       "24 m_ENSG00000265148\n",
       "   old_snp_coef                                                                                                                                                                                                                                                                                                                                                                                                                                                                                                                                                                                                                                                                                                                                                                                                                                                                                                                                                                                                                                                                                                                                                                                                                                                                                                                                                                                                                                                                                                                                                                                                                                                                                                                                                                                                                                                                                                                                                                                                                                                                                                                                                                                                                                                                                                                                                                                                                                                                                                                                                                                                                                                                                                                                                                                                                                                                                                                                                                                                                                                                                                                                                                                                                      \n",
       "1                                                                                                                                                                                                                                                                                                                                                                                                                                                                                                                                                                                                                                                                                                                                                                                                                                                                                                                                                                                                                                                                                                                                                                                                                                                                                                                                                                                                                                                                                                                                                                                                                                                                                                                                                                                                                                                                                                                                                                                                                                                                                                                                                                                                                                                                                                                                                                                                                                                                                                                                                                                                                                                                                                                                                                                                                                                                                                                                                                                                                                                                                                                                                                                                                                    \n",
       "2  0.005477812, 0.004377602, 0.004377602, 0.005451701, 0.020240685, 0.020240685, 0.020240685, 0.075281977, 0.003222355, 0.002599900, 0.002599900, 0.003257881, 0.012431113, 0.012431113, 0.012431113, 0.047601968, 0.004378835, 0.003406106, 0.003406106, 0.004301977, 0.015859142, 0.015859142, 0.015859142, 0.063464583                                                                                                                                                                                                                                                                                                                                                                                                                                                                                                                                                                                                                                                                                                                                                                                                                                                                                                                                                                                                                                                                                                                                                                                                                                                                                                                                                                                                                                                                                                                                                                                                                                                                                                                                                                                                                                                                                                                                                                                                                                                                                                                                                                                                                                                                                                                                                                                                                                                                                                                                                                                                                                                                                                                                                                                                                                                                                                            \n",
       "3                                                                                                                                                                                                                                                                                                                                                                                                                                                                                                                                                                                                                                                                                                                                                                                                                                                                                                                                                                                                                                                                                                                                                                                                                                                                                                                                                                                                                                                                                                                                                                                                                                                                                                                                                                                                                                                                                                                                                                                                                                                                                                                                                                                                                                                                                                                                                                                                                                                                                                                                                                                                                                                                                                                                                                                                                                                                                                                                                                                                                                                                                                                                                                                                                                    \n",
       "4                                                                                                                                                                                                                                                                                                                                                                                                                                                                                                                                                                                                                                                                                                                                                                                                                                                                                                                                                                                                                                                                                                                                                                                                                                                                                                                                                                                                                                                                                                                                                                                                                                                                                                                                                                                                                                                                                                                                                                                                                                                                                                                                                                                                                                                                                                                                                                                                                                                                                                                                                                                                                                                                                                                                                                                                                                                                                                                                                                                                                                                                                                                                                                                                                                    \n",
       "5  -0.008827994, -0.021173776, -0.009421559, -0.021173776, -0.009421559, -0.009335691, -0.007433732, -0.020513171, -0.005529524, -0.023337963, -0.009335691, -0.022014654, -0.020925508, -0.011437577, -0.022014654, -0.014261700, -0.007217261, -0.021433925, -0.019495450, -0.007111072, -0.017205571, -0.007601083, -0.017205571, -0.007601083, -0.007544181, -0.006079827, -0.016667747, -0.004493808, -0.019068270, -0.007544181, -0.017986053, -0.017031877, -0.009243486, -0.017986053, -0.011770165, -0.005950792, -0.017290685, -0.015479372, -0.007591480, -0.018540739, -0.008140516, -0.018540739, -0.008140516, -0.008074853, -0.006506219, -0.017883199, -0.004856466, -0.020686651, -0.008074853, -0.019475729, -0.018343361, -0.009927949, -0.019475729, -0.012756226, -0.006565252, -0.019117153, -0.016993100                                                                                                                                                                                                                                                                                                                                                                                                                                                                                                                                                                                                                                                                                                                                                                                                                                                                                                                                                                                                                                                                                                                                                                                                                                                                                                                                                                                                                                                                                                                                                                                                                                                                                                                                                                                                                                                                                                                                                                                                                                                                                                                                                                                                                                                                                                                                                                                                      \n",
       "6                                                                                                                                                                                                                                                                                                                                                                                                                                                                                                                                                                                                                                                                                                                                                                                                                                                                                                                                                                                                                                                                                                                                                                                                                                                                                                                                                                                                                                                                                                                                                                                                                                                                                                                                                                                                                                                                                                                                                                                                                                                                                                                                                                                                                                                                                                                                                                                                                                                                                                                                                                                                                                                                                                                                                                                                                                                                                                                                                                                                                                                                                                                                                                                                                                    \n",
       "7                                                                                                                                                                                                                                                                                                                                                                                                                                                                                                                                                                                                                                                                                                                                                                                                                                                                                                                                                                                                                                                                                                                                                                                                                                                                                                                                                                                                                                                                                                                                                                                                                                                                                                                                                                                                                                                                                                                                                                                                                                                                                                                                                                                                                                                                                                                                                                                                                                                                                                                                                                                                                                                                                                                                                                                                                                                                                                                                                                                                                                                                                                                                                                                                                                    \n",
       "8                                                                                                                                                                                                                                                                                                                                                                                                                                                                                                                                                                                                                                                                                                                                                                                                                                                                                                                                                                                                                                                                                                                                                                                                                                                                                                                                                                                                                                                                                                                                                                                                                                                                                                                                                                                                                                                                                                                                                                                                                                                                                                                                                                                                                                                                                                                                                                                                                                                                                                                                                                                                                                                                                                                                                                                                                                                                                                                                                                                                                                                                                                                                                                                                                                    \n",
       "9                                                                                                                                                                                                                                                                                                                                                                                                                                                                                                                                                                                                                                                                                                                                                                                                                                                                                                                                                                                                                                                                                                                                                                                                                                                                                                                                                                                                                                                                                                                                                                                                                                                                                                                                                                                                                                                                                                                                                                                                                                                                                                                                                                                                                                                                                                                                                                                                                                                                                                                                                                                                                                                                                                                                                                                                                                                                                                                                                                                                                                                                                                                                                                                                                                    \n",
       "10                                                                                                                                                                                                                                                                                                                                                                                                                                                                                                                                                                                                                                                                                                                                                                                                                                                                                                                                                                                                                                                                                                                                                                                                                                                                                                                                                                                                                                                                                                                                                                                                                                                                                                                                                                                                                                                                                                                                                                                                                                                                                                                                                                                                                                                                                                                                                                                                                                                                                                                                                                                                                                                                                                                                                                                                                                                                                                                                                                                                                                                                                                                                                                                                                                   \n",
       "11                                                                                                                                                                                                                                                                                                                                                                                                                                                                                                                                                                                                                                                                                                                                                                                                                                                                                                                                                                                                                                                                                                                                                                                                                                                                                                                                                                                                                                                                                                                                                                                                                                                                                                                                                                                                                                                                                                                                                                                                                                                                                                                                                                                                                                                                                                                                                                                                                                                                                                                                                                                                                                                                                                                                                                                                                                                                                                                                                                                                                                                                                                                                                                                                                                   \n",
       "12 0.32917473, 0.06186824, 0.06186824, 0.06186824, 0.06186824, 0.04034417, 0.13775000, 0.14169507, 0.17110628, 0.04748787, 0.04748787, 0.04748787, 0.04748787, 0.02952701, 0.09826694, 0.10124009, 0.28984242, 0.05681518, 0.05681518, 0.05681518, 0.05681518, 0.02443415, 0.07947578, 0.08134520                                                                                                                                                                                                                                                                                                                                                                                                                                                                                                                                                                                                                                                                                                                                                                                                                                                                                                                                                                                                                                                                                                                                                                                                                                                                                                                                                                                                                                                                                                                                                                                                                                                                                                                                                                                                                                                                                                                                                                                                                                                                                                                                                                                                                                                                                                                                                                                                                                                                                                                                                                                                                                                                                                                                                                                                                                                                                                                                    \n",
       "13                                                                                                                                                                                                                                                                                                                                                                                                                                                                                                                                                                                                                                                                                                                                                                                                                                                                                                                                                                                                                                                                                                                                                                                                                                                                                                                                                                                                                                                                                                                                                                                                                                                                                                                                                                                                                                                                                                                                                                                                                                                                                                                                                                                                                                                                                                                                                                                                                                                                                                                                                                                                                                                                                                                                                                                                                                                                                                                                                                                                                                                                                                                                                                                                                                   \n",
       "14                                                                                                                                                                                                                                                                                                                                                                                                                                                                                                                                                                                                                                                                                                                                                                                                                                                                                                                                                                                                                                                                                                                                                                                                                                                                                                                                                                                                                                                                                                                                                                                                                                                                                                                                                                                                                                                                                                                                                                                                                                                                                                                                                                                                                                                                                                                                                                                                                                                                                                                                                                                                                                                                                                                                                                                                                                                                                                                                                                                                                                                                                                                                                                                                                                   \n",
       "15                                                                                                                                                                                                                                                                                                                                                                                                                                                                                                                                                                                                                                                                                                                                                                                                                                                                                                                                                                                                                                                                                                                                                                                                                                                                                                                                                                                                                                                                                                                                                                                                                                                                                                                                                                                                                                                                                                                                                                                                                                                                                                                                                                                                                                                                                                                                                                                                                                                                                                                                                                                                                                                                                                                                                                                                                                                                                                                                                                                                                                                                                                                                                                                                                                   \n",
       "16                                                                                                                                                                                                                                                                                                                                                                                                                                                                                                                                                                                                                                                                                                                                                                                                                                                                                                                                                                                                                                                                                                                                                                                                                                                                                                                                                                                                                                                                                                                                                                                                                                                                                                                                                                                                                                                                                                                                                                                                                                                                                                                                                                                                                                                                                                                                                                                                                                                                                                                                                                                                                                                                                                                                                                                                                                                                                                                                                                                                                                                                                                                                                                                                                                   \n",
       "17                                                                                                                                                                                                                                                                                                                                                                                                                                                                                                                                                                                                                                                                                                                                                                                                                                                                                                                                                                                                                                                                                                                                                                                                                                                                                                                                                                                                                                                                                                                                                                                                                                                                                                                                                                                                                                                                                                                                                                                                                                                                                                                                                                                                                                                                                                                                                                                                                                                                                                                                                                                                                                                                                                                                                                                                                                                                                                                                                                                                                                                                                                                                                                                                                                   \n",
       "18                                                                                                                                                                                                                                                                                                                                                                                                                                                                                                                                                                                                                                                                                                                                                                                                                                                                                                                                                                                                                                                                                                                                                                                                                                                                                                                                                                                                                                                                                                                                                                                                                                                                                                                                                                                                                                                                                                                                                                                                                                                                                                                                                                                                                                                                                                                                                                                                                                                                                                                                                                                                                                                                                                                                                                                                                                                                                                                                                                                                                                                                                                                                                                                                                                   \n",
       "19 0.025304681, 0.030059143, 0.031117623, 0.028025698, 0.028025698, 0.024658485, 0.025304681, 0.025304681, 0.021329384, 0.021329384, 0.014253796, 0.023701840, 0.028010595, 0.028540552, 0.026457000, 0.026457000, 0.022757599, 0.023701840, 0.023701840, 0.019675629, 0.019675629, 0.013189589, 0.011597351, 0.013580109, 0.014241392, 0.012566409, 0.012566409, 0.011173767, 0.011597351, 0.011597351, 0.009764226, 0.009764226, 0.006446060                                                                                                                                                                                                                                                                                                                                                                                                                                                                                                                                                                                                                                                                                                                                                                                                                                                                                                                                                                                                                                                                                                                                                                                                                                                                                                                                                                                                                                                                                                                                                                                                                                                                                                                                                                                                                                                                                                                                                                                                                                                                                                                                                                                                                                                                                                                                                                                                                                                                                                                                                                                                                                                                                                                                                                                       \n",
       "20                                                                                                                                                                                                                                                                                                                                                                                                                                                                                                                                                                                                                                                                                                                                                                                                                                                                                                                                                                                                                                                                                                                                                                                                                                                                                                                                                                                                                                                                                                                                                                                                                                                                                                                                                                                                                                                                                                                                                                                                                                                                                                                                                                                                                                                                                                                                                                                                                                                                                                                                                                                                                                                                                                                                                                                                                                                                                                                                                                                                                                                                                                                                                                                                                                   \n",
       "21 0.0010417787, 0.0010417787, 0.0010417787, 0.0010417787, 0.0010417787, 0.0010417787, 0.0010417787, 0.0010417787, 0.0008587258, 0.0008587258, 0.0013181482, 0.0013181482, 0.0013181482, 0.0007419126, 0.0008587258, 0.0008587258, 0.0008587258, 0.0018641419, 0.0029477940, 0.0018641419, 0.0018641419, 0.0018641419, 0.0029477940, 0.0018641419, 0.0018641419, 0.0024158921, 0.0024158921, 0.0024158921, 0.0017870604, 0.0024158921, 0.0024158921, 0.0024158921, 0.0024158921, 0.0024158921, 0.0024158921, 0.0024158921, 0.0021521106, 0.0021521106, 0.0024158921, 0.0023043135, 0.0020485750, 0.0020485750, 0.0023043135, 0.0015041388, 0.0011790651, 0.0020485750, 0.0020485750, 0.0023043135, 0.0023043135, 0.0023043135, 0.0020485750, 0.0020485750, 0.0020485750, 0.0020485750, 0.0023043135, 0.0020485750, 0.0020485750, 0.0023043135, 0.0023043135, 0.0016701345, 0.0020485750, 0.0018911677, 0.0026088287, 0.0020485750, 0.0020160552, 0.0015225548, 0.0020485750, 0.0023331926, 0.0039050019, 0.0020485750, 0.0051724558, 0.0020485750, 0.0020485750, 0.0020485750, 0.0006411026, 0.0006411026, 0.0006411026, 0.0006411026, 0.0006411026, 0.0006411026, 0.0006411026, 0.0006411026, 0.0005264417, 0.0005264417, 0.0007645869, 0.0007645869, 0.0007645869, 0.0004526787, 0.0005264417, 0.0005264417, 0.0005264417, 0.0010994580, 0.0016510674, 0.0010994580, 0.0010994580, 0.0010994580, 0.0016510674, 0.0010994580, 0.0010994580, 0.0016586528, 0.0016586528, 0.0016586528, 0.0012863720, 0.0016586528, 0.0016586528, 0.0016586528, 0.0016586528, 0.0016586528, 0.0016586528, 0.0016586528, 0.0014756805, 0.0014756805, 0.0016586528, 0.0016382256, 0.0014537414, 0.0014537414, 0.0016382256, 0.0010761001, 0.0007954062, 0.0014537414, 0.0014537414, 0.0016382256, 0.0016382256, 0.0016382256, 0.0014537414, 0.0014537414, 0.0014537414, 0.0014537414, 0.0016382256, 0.0014537414, 0.0014537414, 0.0016382256, 0.0016382256, 0.0012090709, 0.0014537414, 0.0013453420, 0.0019168939, 0.0014537414, 0.0014212098, 0.0010700241, 0.0014537414, 0.0016925339, 0.0026706423, 0.0014537414, 0.0035156463, 0.0014537414, 0.0014537414, 0.0014537414, 0.0004275107, 0.0004275107, 0.0004275107, 0.0004275107, 0.0004275107, 0.0004275107, 0.0004275107, 0.0004275107, 0.0003507438, 0.0003507438, 0.0005318141, 0.0005318141, 0.0005318141, 0.0002941284, 0.0003507438, 0.0003507438, 0.0003507438, 0.0007341964, 0.0011510013, 0.0007341964, 0.0007341964, 0.0007341964, 0.0011510013, 0.0007341964, 0.0007341964, 0.0007959697, 0.0007959697, 0.0007959697, 0.0005951116, 0.0007959697, 0.0007959697, 0.0007959697, 0.0007959697, 0.0007959697, 0.0007959697, 0.0007959697, 0.0007232848, 0.0007232848, 0.0007959697, 0.0007835496, 0.0007103857, 0.0007103857, 0.0007835496, 0.0005142033, 0.0004009834, 0.0007103857, 0.0007103857, 0.0007835496, 0.0007835496, 0.0007835496, 0.0007103857, 0.0007103857, 0.0007103857, 0.0007103857, 0.0007835496, 0.0007103857, 0.0007103857, 0.0007835496, 0.0007835496, 0.0006049739, 0.0007103857, 0.0006562877, 0.0009013162, 0.0007103857, 0.0006827455, 0.0004990645, 0.0007103857, 0.0008414883, 0.0013338758, 0.0007103857, 0.0017997732, 0.0007103857, 0.0007103857, 0.0007103857\n",
       "22 0.005092629, 0.004109958, 0.008231704, 0.030259975, 0.012732127, 0.031804983, 0.006812087, 0.006812087, 0.003122964, 0.006812087, 0.008544628, 0.007005557, 0.014044757, 0.051041212, 0.022146864, 0.056277938, 0.012049621, 0.012049621, 0.005560467, 0.012049621, 0.016751469, 0.013640253, 0.026591860, 0.093134053, 0.039996392, 0.096609396, 0.020966039, 0.020966039, 0.009669549, 0.020966039                                                                                                                                                                                                                                                                                                                                                                                                                                                                                                                                                                                                                                                                                                                                                                                                                                                                                                                                                                                                                                                                                                                                                                                                                                                                                                                                                                                                                                                                                                                                                                                                                                                                                                                                                                                                                                                                                                                                                                                                                                                                                                                                                                                                                                                                                                                                                                                                                                                                                                                                                                                                                                                                                                                                                                                                                              \n",
       "23 -0.05335756, -0.05335756, -0.05335756, -0.05335756, -0.05335756, -0.05335756, -0.05335756, -0.05335756, -0.02490415, -0.02490415, -0.04909892, -0.04909892, -0.04909892, -0.04909892, -0.04909892, -0.04909892, -0.04909892, -0.04909892, -0.02266384, -0.02266384, -0.05751657, -0.05751657, -0.05751657, -0.05751657, -0.05751657, -0.05751657, -0.05751657, -0.05751657, -0.02670575, -0.02670575                                                                                                                                                                                                                                                                                                                                                                                                                                                                                                                                                                                                                                                                                                                                                                                                                                                                                                                                                                                                                                                                                                                                                                                                                                                                                                                                                                                                                                                                                                                                                                                                                                                                                                                                                                                                                                                                                                                                                                                                                                                                                                                                                                                                                                                                                                                                                                                                                                                                                                                                                                                                                                                                                                                                                                                                                              \n",
       "24                                                                                                                                                                                                                                                                                                                                                                                                                                                                                                                                                                                                                                                                                                                                                                                                                                                                                                                                                                                                                                                                                                                                                                                                                                                                                                                                                                                                                                                                                                                                                                                                                                                                                                                                                                                                                                                                                                                                                                                                                                                                                                                                                                                                                                                                                                                                                                                                                                                                                                                                                                                                                                                                                                                                                                                                                                                                                                                                                                                                                                                                                                                                                                                                                                   \n",
       "   old_snp_coef_colsum               \n",
       "1  0, 0, 0                           \n",
       "2  0.15568875, 0.09657534, 0.12653503\n",
       "3  0, 0, 0                           \n",
       "4  0, 0, 0                           \n",
       "5  -0.2843052, -0.2308609, -0.2496907\n",
       "6  0, 0, 0                           \n",
       "7  0, 0, 0                           \n",
       "8  0, 0, 0                           \n",
       "9  0, 0, 0                           \n",
       "10 0, 0, 0                           \n",
       "11 0, 0, 0                           \n",
       "12 0.8964369, 0.5900918, 0.7023583   \n",
       "13 0, 0, 0                           \n",
       "14 0, 0, 0                           \n",
       "15 0, 0, 0                           \n",
       "16 0, 0, 0                           \n",
       "17 0, 0, 0                           \n",
       "18 0, 0, 0                           \n",
       "19 0.2747133, 0.2558691, 0.1248947   \n",
       "20 0, 0, 0                           \n",
       "21 0.14413363, 0.09742154, 0.05114757\n",
       "22 0.1157906, 0.2007703, 0.3592911   \n",
       "23 -0.4766687, -0.4381190, -0.5135440\n",
       "24 0, 0, 0                           "
      ]
     },
     "metadata": {},
     "output_type": "display_data"
    }
   ],
   "source": [
    "sum%>%mutate(old_snp_coef = map(old_model, ~.x$coef[.x$sets$cs%>%unlist+1,]),old_snp_coef_colsum = map(old_model, ~.x$coef[.x$sets$cs%>%unlist+1,]%>%colSums) )%>%select(gene_id,old_snp_coef,old_snp_coef_colsum)"
   ]
  },
  {
   "cell_type": "code",
   "execution_count": 5,
   "id": "162c73a0-b238-4e83-82f2-93d10efb57e7",
   "metadata": {},
   "outputs": [
    {
     "data": {
      "text/html": [
       "<style>\n",
       ".list-inline {list-style: none; margin:0; padding: 0}\n",
       ".list-inline>li {display: inline-block}\n",
       ".list-inline>li:not(:last-child)::after {content: \"\\00b7\"; padding: 0 .5ex}\n",
       "</style>\n",
       "<ol class=list-inline><li>0.1</li><li>0.2</li><li>0.3</li><li>0.4</li><li>0.5</li><li>0.6</li><li>0.7</li><li>0.8</li><li>0.9</li><li>1</li></ol>\n"
      ],
      "text/latex": [
       "\\begin{enumerate*}\n",
       "\\item 0.1\n",
       "\\item 0.2\n",
       "\\item 0.3\n",
       "\\item 0.4\n",
       "\\item 0.5\n",
       "\\item 0.6\n",
       "\\item 0.7\n",
       "\\item 0.8\n",
       "\\item 0.9\n",
       "\\item 1\n",
       "\\end{enumerate*}\n"
      ],
      "text/markdown": [
       "1. 0.1\n",
       "2. 0.2\n",
       "3. 0.3\n",
       "4. 0.4\n",
       "5. 0.5\n",
       "6. 0.6\n",
       "7. 0.7\n",
       "8. 0.8\n",
       "9. 0.9\n",
       "10. 1\n",
       "\n",
       "\n"
      ],
      "text/plain": [
       " [1] 0.1 0.2 0.3 0.4 0.5 0.6 0.7 0.8 0.9 1.0"
      ]
     },
     "metadata": {},
     "output_type": "display_data"
    }
   ],
   "source": [
    "seq(0.1,1,0.1)\n",
    "num = seq(0.1,1,0.1)"
   ]
  },
  {
   "cell_type": "code",
   "execution_count": 6,
   "id": "079435f3-3971-4246-a6a1-f24504bc8dc4",
   "metadata": {},
   "outputs": [],
   "source": [
    "l = list()\n",
    "l$U = list()\n",
    "l$w = list()\n",
    "for(i in 1:10){\n",
    "l$U[[i]] = cbind(c(num[i],0),c(0,num[10-i+1]))%>%as.matrix()\n",
    "l$w[[i]] = 1/10\n",
    "}\n",
    "l$w = l$w%>%unlist()"
   ]
  },
  {
   "cell_type": "code",
   "execution_count": 15,
   "id": "d980ce0c-0149-48b0-ad6d-f30bf35ea69f",
   "metadata": {},
   "outputs": [
    {
     "data": {
      "text/html": [
       "<table class=\"dataframe\">\n",
       "<caption>A matrix: 2 x 2 of type dbl</caption>\n",
       "<tbody>\n",
       "\t<tr><td>0.1</td><td>0</td></tr>\n",
       "\t<tr><td>0.0</td><td>1</td></tr>\n",
       "</tbody>\n",
       "</table>\n"
      ],
      "text/latex": [
       "A matrix: 2 x 2 of type dbl\n",
       "\\begin{tabular}{ll}\n",
       "\t 0.1 & 0\\\\\n",
       "\t 0.0 & 1\\\\\n",
       "\\end{tabular}\n"
      ],
      "text/markdown": [
       "\n",
       "A matrix: 2 x 2 of type dbl\n",
       "\n",
       "| 0.1 | 0 |\n",
       "| 0.0 | 1 |\n",
       "\n"
      ],
      "text/plain": [
       "     [,1] [,2]\n",
       "[1,] 0.1  0   \n",
       "[2,] 0.0  1   "
      ]
     },
     "metadata": {},
     "output_type": "display_data"
    }
   ],
   "source": [
    "cbind(c(num[i],0),c(0,num[10-i+1]))"
   ]
  },
  {
   "cell_type": "code",
   "execution_count": 9,
   "id": "4b7ba9fe-a1ff-4ac2-bd59-7a3838db3f4f",
   "metadata": {},
   "outputs": [],
   "source": [
    "prior%>%saveRDS(\"/mnt/mfs/statgen/neuro-twas/TWAS_sumstat/Pairwise/artificial_resid_cor.rds\")"
   ]
  },
  {
   "cell_type": "code",
   "execution_count": null,
   "id": "2f42af87-f2dd-4646-bc71-9c59b1aeabca",
   "metadata": {},
   "outputs": [],
   "source": []
  },
  {
   "cell_type": "code",
   "execution_count": 1,
   "id": "2cba90f9-9c9b-4086-94e0-712896d41101",
   "metadata": {},
   "outputs": [
    {
     "name": "stderr",
     "output_type": "stream",
     "text": [
      "── \u001b[1mAttaching packages\u001b[22m ─────────────────────────────────────── tidyverse 1.3.0 ──\n",
      "\n",
      "\u001b[32m✔\u001b[39m \u001b[34mggplot2\u001b[39m 3.3.3     \u001b[32m✔\u001b[39m \u001b[34mpurrr  \u001b[39m 0.3.4\n",
      "\u001b[32m✔\u001b[39m \u001b[34mtibble \u001b[39m 3.1.0     \u001b[32m✔\u001b[39m \u001b[34mdplyr  \u001b[39m 1.0.5\n",
      "\u001b[32m✔\u001b[39m \u001b[34mtidyr  \u001b[39m 1.1.3     \u001b[32m✔\u001b[39m \u001b[34mstringr\u001b[39m 1.4.0\n",
      "\u001b[32m✔\u001b[39m \u001b[34mreadr  \u001b[39m 1.4.0     \u001b[32m✔\u001b[39m \u001b[34mforcats\u001b[39m 0.5.1\n",
      "\n",
      "── \u001b[1mConflicts\u001b[22m ────────────────────────────────────────── tidyverse_conflicts() ──\n",
      "\u001b[31m✖\u001b[39m \u001b[34mdplyr\u001b[39m::\u001b[32mfilter()\u001b[39m masks \u001b[34mstats\u001b[39m::filter()\n",
      "\u001b[31m✖\u001b[39m \u001b[34mdplyr\u001b[39m::\u001b[32mlag()\u001b[39m    masks \u001b[34mstats\u001b[39m::lag()\n",
      "\n"
     ]
    }
   ],
   "source": [
    "library(\"tidyverse\")"
   ]
  },
  {
   "cell_type": "code",
   "execution_count": 8,
   "id": "1a13b564-196b-4bea-99ca-6ef7efc139e5",
   "metadata": {},
   "outputs": [],
   "source": [
    "prior = cbind(c(1,0),c(0,1))"
   ]
  },
  {
   "cell_type": "markdown",
   "id": "6244e450-f3b3-46a3-8dc9-b011af9238dd",
   "metadata": {},
   "source": [
    "## Analysis of Allele flip"
   ]
  },
  {
   "cell_type": "code",
   "execution_count": null,
   "id": "6c493986-eab1-43ee-9584-a8c5960c5658",
   "metadata": {},
   "outputs": [],
   "source": [
    "bim = read_delim()"
   ]
  }
 ],
 "metadata": {
  "kernelspec": {
   "display_name": "R",
   "language": "R",
   "name": "ir"
  },
  "language_info": {
   "codemirror_mode": "r",
   "file_extension": ".r",
   "mimetype": "text/x-r-source",
   "name": "R",
   "pygments_lexer": "r",
   "version": "4.0.0"
  }
 },
 "nbformat": 4,
 "nbformat_minor": 5
}
