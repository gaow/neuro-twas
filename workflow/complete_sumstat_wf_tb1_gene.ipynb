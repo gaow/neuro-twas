{
 "cells": [
  {
   "cell_type": "markdown",
   "id": "3f69673b-6961-47e8-956d-9b65aea39e30",
   "metadata": {
    "kernel": "SoS",
    "tags": []
   },
   "source": [
    "## Complete sumstat analysis with Table 1 gene"
   ]
  },
  {
   "cell_type": "code",
   "execution_count": null,
   "id": "c6ae4f1e-4922-461a-9c85-c14c3ca9ac7b",
   "metadata": {
    "kernel": "R",
    "tags": []
   },
   "outputs": [
    {
     "name": "stderr",
     "output_type": "stream",
     "text": [
      "/home/hs3163/miniconda3/lib/python3.9/site-packages/sos_notebook/kernel.py:1320: RuntimeWarning: coroutine 'ZMQSocketChannel.msg_ready' was never awaited\n",
      "  while self.KC.shell_channel.msg_ready():\n",
      "RuntimeWarning: Enable tracemalloc to get the object allocation traceback\n",
      "/home/hs3163/miniconda3/lib/python3.9/site-packages/sos_notebook/kernel.py:1321: RuntimeWarning: coroutine 'ZMQSocketChannel.get_msg' was never awaited\n",
      "  self.KC.shell_channel.get_msg()\n",
      "RuntimeWarning: Enable tracemalloc to get the object allocation traceback\n"
     ]
    }
   ],
   "source": [
    "library(\"tidyverse\")"
   ]
  },
  {
   "cell_type": "code",
   "execution_count": null,
   "id": "a9f9f7ac-6d82-4363-a426-75392f22187e",
   "metadata": {
    "kernel": "R"
   },
   "outputs": [],
   "source": [
    "table1 = read_delim(\"~/2021_sept_wrightman_tb1.txt\",\"\\t\")"
   ]
  },
  {
   "cell_type": "code",
   "execution_count": null,
   "id": "9858c91c-006a-4f6d-ad7f-5174fd84f40f",
   "metadata": {
    "kernel": "R"
   },
   "outputs": [],
   "source": []
  }
 ],
 "metadata": {
  "kernelspec": {
   "display_name": "SoS",
   "language": "sos",
   "name": "sos"
  },
  "language_info": {
   "codemirror_mode": "sos",
   "file_extension": ".sos",
   "mimetype": "text/x-sos",
   "name": "sos",
   "nbconvert_exporter": "sos_notebook.converter.SoS_Exporter",
   "pygments_lexer": "sos"
  },
  "sos": {
   "kernels": [
    [
     "R",
     "ir",
     "R",
     "#DCDCDA",
     ""
    ]
   ],
   "version": "0.22.6"
  }
 },
 "nbformat": 4,
 "nbformat_minor": 5
}
