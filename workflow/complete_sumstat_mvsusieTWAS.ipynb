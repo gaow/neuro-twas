{
 "cells": [
  {
   "cell_type": "markdown",
   "id": "6d898fd8-8d74-401e-aa98-7c7c57c0a200",
   "metadata": {
    "kernel": "SoS",
    "tags": []
   },
   "source": [
    "# Sumstat reformmating"
   ]
  },
  {
   "cell_type": "code",
   "execution_count": null,
   "id": "12ddabab-2598-466d-9711-856ea0a0ecee",
   "metadata": {
    "kernel": "SoS"
   },
   "outputs": [],
   "source": [
    "nohup sos run ~/GIT/neuro-twas/workflow/GWAS_Gene_annotation.ipynb \\\n",
    "  --wd \"/mnt/mfs/statgen/neuro-twas/TWAS_sumstat/\" \\\n",
    "  --GWAS_sumstat \"/mnt/mfs/statgen/neuro-twas/TWAS_sumstat/Data/GCST90012877_buildGRCh37_colrenamed_trimmed.txt\"\\\n",
    "  --region_list  \"/mnt/mfs/statgen/neuro-twas/mv_wg/wg_rds_list_final\"  \\\n",
    "  --window 500000 \\\n",
    "  --prefix \"geneTpmResidualsAgeGenderAdj_rename\" \\\n",
    "  --container /mnt/mfs/statgen/containers/twas_latest.sif  \\\n",
    "  -J 200 -q csg -c /home/hs3163/GIT/bioworkflows/bioworkflows/admin/csg.yml -s build &"
   ]
  },
  {
   "cell_type": "code",
   "execution_count": null,
   "id": "cccc12f9-9ad0-433e-bd80-f6700424760c",
   "metadata": {
    "kernel": "SoS"
   },
   "outputs": [],
   "source": [
    "nohup sos run ~/GIT/neuro-twas/workflow/GWAS_Gene_annotation.ipynb \\\n",
    "  --wd \"/mnt/mfs/statgen/neuro-twas/test/\" \\\n",
    "  --GWAS_sumstat \"/mnt/mfs/statgen/neuro-twas/TWAS_sumstat/Data/GCST90012877_buildGRCh37_colrenamed_trimmed.txt\"\\\n",
    "  --region_list  \"/mnt/mfs/statgen/neuro-twas/TWAS_sumstat/wds_list_test\"  \\\n",
    "  --window 500000 \\\n",
    "  --prefix \"geneTpmResidualsAgeGenderAdj_rename\" \\\n",
    "  --container /mnt/mfs/statgen/containers/twas_latest.sif  \\\n",
    "  -J 200 -q csg -c /home/hs3163/GIT/bioworkflows/bioworkflows/admin/csg.yml -s build &"
   ]
  },
  {
   "cell_type": "code",
   "execution_count": null,
   "id": "84b6be72-57b5-4302-a325-767102eebc46",
   "metadata": {
    "kernel": "SoS"
   },
   "outputs": [],
   "source": [
    "nohup sos run ~/GIT/neuro-twas/workflow/GWAS_Gene_annotation.ipynb \\\n",
    "  --wd \"/mnt/mfs/statgen/neuro-twas/TWAS_sumstat/Data/GWAS\" \\\n",
    "  --GWAS_sumstat \"/mnt/mfs/statgen/neuro-twas/TWAS_sumstat/Data/PGCALZ2sumstatsExcluding23andMe_reformat.txt\"\\\n",
    "  --region_list  \"/mnt/mfs/statgen/neuro-twas/mv_wg/wg_rds_list_final\"  \\\n",
    "  --window 500000 \\\n",
    "  --prefix \"geneTpmResidualsAgeGenderAdj_rename\" \\\n",
    "  --container /mnt/mfs/statgen/containers/twas_latest.sif  \\\n",
    "  -J 2000 -q csg -c /home/hs3163/GIT/bioworkflows/bioworkflows/admin/csg.yml -s build &"
   ]
  },
  {
   "cell_type": "markdown",
   "id": "0ac43210-b240-4d20-b789-f71bd7393144",
   "metadata": {
    "kernel": "SoS"
   },
   "source": [
    "# Mixture Prior"
   ]
  },
  {
   "cell_type": "markdown",
   "id": "2e0e03f5-53be-4c3d-bfcd-7db0dd529545",
   "metadata": {
    "kernel": "SoS"
   },
   "source": [
    "## merging the tissue"
   ]
  },
  {
   "cell_type": "code",
   "execution_count": null,
   "id": "efea040f-a2bd-4dcd-9c72-806506e28044",
   "metadata": {
    "kernel": "SoS"
   },
   "outputs": [],
   "source": [
    "nohup sos run /home/hs3163/GIT/bioworkflows/bioworkflows/multivariate-fine-mapping/mixture_prior.ipynb merge \\\n",
    "--molecular_pheno /mnt/mfs/statgen/neuro-twas/TWAS_sumstat/molc_dir   \\\n",
    "--analysis-units /home/hs3163/Project/Genome_prior/data/rds_list  \\\n",
    "--cwd   \"/mnt/mfs/statgen/neuro-twas/TWAS_sumstat/flip\" \\\n",
    "--name \"geneTpmResidualsAgeGenderAdj_rename\" \\\n",
    "--container /mnt/mfs/statgen/containers/twas_latest.sif  \\\n",
    " -J 1000 -q csg -c /home/hs3163/GIT/bioworkflows/bioworkflows/admin/csg.yml &"
   ]
  },
  {
   "cell_type": "code",
   "execution_count": null,
   "id": "999ccb56-5382-4857-99c1-dfa0bc6ad711",
   "metadata": {
    "kernel": "SoS"
   },
   "outputs": [],
   "source": [
    "nohup sos dryrun /home/hs3163/GIT/bioworkflows/bioworkflows/multivariate-fine-mapping/mixture_prior.ipynb merge \\\n",
    "--molecular_pheno /mnt/mfs/statgen/neuro-twas/TWAS_sumstat/molc_dir   \\\n",
    "--analysis-units /mnt/mfs/statgen/neuro-twas/TWAS_sumstat/one_gene  \\\n",
    "--cwd   \"/mnt/mfs/statgen/neuro-twas/TWAS_sumstat/flip\" \\\n",
    "--name \"geneTpmResidualsAgeGenderAdj_rename\" \\\n",
    "--container /mnt/mfs/statgen/containers/twas_latest.sif &"
   ]
  },
  {
   "cell_type": "markdown",
   "id": "8c5be04b-a160-4907-a989-62dcc6468f23",
   "metadata": {
    "kernel": "SoS"
   },
   "source": [
    "## Extract effect"
   ]
  },
  {
   "cell_type": "code",
   "execution_count": null,
   "id": "56efd8b2-aa2a-419d-8fd9-dab1c2e695ab",
   "metadata": {
    "kernel": "SoS"
   },
   "outputs": [],
   "source": []
  },
  {
   "cell_type": "code",
   "execution_count": null,
   "id": "ca77d80e-6fc7-411b-b83f-48af5206d85b",
   "metadata": {
    "kernel": "SoS"
   },
   "outputs": [],
   "source": [
    "cd /mnt/mfs/statgen/neuro-twas/flip/RDS/  && ls *.rds | sed 's/\\.rds//g' > ../analysis_units.txt && cd -\n",
    "nohup sos run ~/GIT/bioworkflows/bioworkflows/multivariate-fine-mapping/mixture_prior.ipynb extract_effects \\\n",
    "        --analysis-units /mnt/mfs/statgen/neuro-twas/TWAS_sumstat/flip/analysis_units.txt \\\n",
    "        --datadir /mnt/mfs/statgen/neuro-twas/TWAS_sumstat/flip/RDS/ \\\n",
    "        --name 'susie_rss'  \\\n",
    "        --container /mnt/mfs/statgen/containers/twas_latest.sif \\\n",
    "        --cwd /mnt/mfs/statgen/neuro-twas/TWAS_sumstat/flip  \\\n",
    "        -J 1000 -q csg -c /home/hs3163/GIT/bioworkflows/bioworkflows/admin/csg.yml -s build &\n",
    "\n",
    "\n",
    "\n",
    "nohup sos dryrun ~/GIT/bioworkflows/bioworkflows/multivariate-fine-mapping/mixture_prior.ipynb extract_effects \\\n",
    "        --analysis-units /mnt/mfs/statgen/neuro-twas/TWAS_sumstat/flip/analysis_units.txt \\\n",
    "        --datadir /mnt/mfs/statgen/neuro-twas/TWAS_sumstat/flip/RDS/ \\\n",
    "        --name 'susie_rss'  \\\n",
    "        --container /mnt/mfs/statgen/containers/twas_latest.sif \\\n",
    "        --cwd /mnt/mfs/statgen/neuro-twas/TWAS_sumstat/flip &\n"
   ]
  },
  {
   "cell_type": "markdown",
   "id": "89e3337c-be04-4b2e-b615-0b30d3e354ca",
   "metadata": {
    "kernel": "SoS"
   },
   "source": [
    "## Flashr"
   ]
  },
  {
   "cell_type": "code",
   "execution_count": null,
   "id": "d9de90e8-cdd6-4026-8629-2927b0198d14",
   "metadata": {
    "kernel": "SoS"
   },
   "outputs": [],
   "source": [
    "nohup sos run ~/GIT/bioworkflows/bioworkflows/multivariate-fine-mapping/mixture_prior.ipynb flash \\\n",
    "        --analysis-units /mnt/mfs/statgen/neuro-twas/TWAS_sumstat/flip//analysis_units.txt \\\n",
    "        --datadir /mnt/mfs/statgen/neuro-twas/TWAS_sumstat/flip//RDS/ \\\n",
    "        --name 'susie_rss'  \\\n",
    "        --container /mnt/mfs/statgen/containers/twas_latest.sif \\\n",
    "        --cwd /mnt/mfs/statgen/neuro-twas/TWAS_sumstat/flip/  \\\n",
    "        -J 200 -q csg -c /home/hs3163/GIT/bioworkflows/bioworkflows/admin/csg.yml -s build &\n",
    "\n",
    "nohup sos run ~/GIT/bioworkflows/bioworkflows/multivariate-fine-mapping/mixture_prior.ipynb flash_nonneg \\\n",
    "        --analysis-units /mnt/mfs/statgen/neuro-twas/TWAS_sumstat/flip//analysis_units.txt \\\n",
    "        --datadir /mnt/mfs/statgen/neuro-twas/TWAS_sumstat/flip//RDS/ \\\n",
    "        --name 'susie_rss'  \\\n",
    "        --container /mnt/mfs/statgen/containers/twas_latest.sif \\\n",
    "        --cwd /mnt/mfs/statgen/neuro-twas/TWAS_sumstat/flip/  \\\n",
    "        -J 200 -q csg -c /home/hs3163/GIT/bioworkflows/bioworkflows/admin/csg.yml -s build &\n",
    "\n",
    "nohup sos run ~/GIT/bioworkflows/bioworkflows/multivariate-fine-mapping/mixture_prior.ipynb pca \\\n",
    "        --analysis-units /mnt/mfs/statgen/neuro-twas/TWAS_sumstat/flip//analysis_units.txt \\\n",
    "        --datadir /mnt/mfs/statgen/neuro-twas/TWAS_sumstat/flip//RDS/ \\\n",
    "        --name 'susie_rss'  \\\n",
    "        --container /mnt/mfs/statgen/containers/twas_latest.sif \\\n",
    "        --cwd /mnt/mfs/statgen/neuro-twas/TWAS_sumstat/flip/  \\\n",
    "        -J 200 -q csg -c /home/hs3163/GIT/bioworkflows/bioworkflows/admin/csg.yml -s build &\n",
    "\n",
    "nohup sos run ~/GIT/bioworkflows/bioworkflows/multivariate-fine-mapping/mixture_prior.ipynb canonical \\\n",
    "        --analysis-units /mnt/mfs/statgen/neuro-twas/TWAS_sumstat/flip//analysis_units.txt \\\n",
    "        --datadir /mnt/mfs/statgen/neuro-twas/TWAS_sumstat/flip//RDS/ \\\n",
    "        --name 'susie_rss'  \\\n",
    "        --container /mnt/mfs/statgen/containers/twas_latest.sif \\\n",
    "        --cwd /mnt/mfs/statgen/neuro-twas/TWAS_sumstat/flip/  \\\n",
    "        -J 200 -q csg -c /home/hs3163/GIT/bioworkflows/bioworkflows/admin/csg.yml -s build &"
   ]
  },
  {
   "cell_type": "markdown",
   "id": "97bbf542-111a-421b-89fb-2753be235cd6",
   "metadata": {
    "kernel": "SoS"
   },
   "source": [
    "## ED"
   ]
  },
  {
   "cell_type": "code",
   "execution_count": null,
   "id": "ca6d513f-1e49-4445-9823-e914fb98a73a",
   "metadata": {
    "kernel": "SoS"
   },
   "outputs": [],
   "source": [
    "nohup sos run ~/GIT/bioworkflows/bioworkflows/multivariate-fine-mapping/mixture_prior.ipynb ed \\\n",
    "        --analysis-units /mnt/mfs/statgen/neuro-twas/TWAS_sumstat/flip//analysis_units.txt \\\n",
    "        --datadir /mnt/mfs/statgen/neuro-twas/TWAS_sumstat/flip//RDS/ \\\n",
    "        --name 'susie_rss'  \\\n",
    "        --container /mnt/mfs/statgen/containers/twas_latest.sif \\\n",
    "        --cwd /mnt/mfs/statgen/neuro-twas/TWAS_sumstat/flip/  \\\n",
    "        -J 200 -q csg -c /home/hs3163/GIT/bioworkflows/bioworkflows/admin/csg.yml -s build &\n",
    "\n",
    "nohup sos run ~/GIT/bioworkflows/bioworkflows/multivariate-fine-mapping/mixture_prior.ipynb ud --ud-method teem \\\n",
    "        --analysis-units /mnt/mfs/statgen/neuro-twas/TWAS_sumstat/flip//analysis_units.txt \\\n",
    "        --datadir /mnt/mfs/statgen/neuro-twas/TWAS_sumstat/flip//RDS/ \\\n",
    "        --name 'susie_rss'  \\\n",
    "        --container /mnt/mfs/statgen/containers/twas_latest.sif \\\n",
    "        --cwd /mnt/mfs/statgen/neuro-twas/TWAS_sumstat/flip/  \\\n",
    "        --scale_only \"/mnt/mfs/statgen/neuro-twas/TWAS_sumstat/susie_rss.canonical.rds\" \\\n",
    "        -J 200 -q csg -c /home/hs3163/GIT/bioworkflows/bioworkflows/admin/csg.yml -s build &\n",
    "\n",
    "nohup sos run ~/GIT/bioworkflows/bioworkflows/multivariate-fine-mapping/mixture_prior.ipynb ud \\\n",
    "        --analysis-units /mnt/mfs/statgen/neuro-twas/TWAS_sumstat/flip//analysis_units.txt \\\n",
    "        --datadir /mnt/mfs/statgen/neuro-twas/TWAS_sumstat/flip//RDS/ \\\n",
    "        --name 'susie_rss'  \\\n",
    "        --container /mnt/mfs/statgen/containers/twas_latest.sif \\\n",
    "        --cwd /mnt/mfs/statgen/neuro-twas/TWAS_sumstat/flip/  \\\n",
    "        --scale_only  \"/mnt/mfs/statgen/neuro-twas/TWAS_sumstat/susie_rss.canonical.rds\" \\\n",
    "        -J 200 -q csg -c /home/hs3163/GIT/bioworkflows/bioworkflows/admin/csg.yml -s build &"
   ]
  },
  {
   "cell_type": "code",
   "execution_count": null,
   "id": "f0a77f46-856e-4636-b1d4-9c92708e1895",
   "metadata": {
    "kernel": "SoS"
   },
   "outputs": [],
   "source": []
  },
  {
   "cell_type": "markdown",
   "id": "6bd7adc9-ac09-470a-b220-9b8d77d9645e",
   "metadata": {
    "kernel": "SoS"
   },
   "source": [
    "# Plot"
   ]
  },
  {
   "cell_type": "code",
   "execution_count": null,
   "id": "8a310d68-8c19-401e-af04-ca4e4957ab01",
   "metadata": {
    "kernel": "SoS"
   },
   "outputs": [],
   "source": [
    "nohup sos run ~/GIT/bioworkflows/bioworkflows/multivariate-fine-mapping/mixture_prior.ipynb plot_U \\\n",
    "        --model_data /mnt/mfs/statgen/neuro-twas/TWAS_sumstat/flip/susie_rss.ed.rds \\\n",
    "        --name \"\"  \\\n",
    "        --container /mnt/mfs/statgen/containers/twas_latest.sif \\\n",
    "        --tol \"0.06\"  \\\n",
    "        --cwd /mnt/mfs/statgen/neuro-twas/TWAS_sumstat/ &"
   ]
  },
  {
   "cell_type": "markdown",
   "id": "c5b7a797-aa1d-42ee-a8b2-b4a18f1c6716",
   "metadata": {
    "kernel": "SoS"
   },
   "source": [
    "# mvsusie_rss"
   ]
  },
  {
   "cell_type": "code",
   "execution_count": null,
   "id": "a5276477-4bd2-47ae-9f37-a7257a68dc30",
   "metadata": {
    "kernel": "SoS"
   },
   "outputs": [],
   "source": [
    "\n",
    "nohup sos run /home/hs3163/GIT/bioworkflows/bioworkflows/multivariate-fine-mapping/mvSuSiE.ipynb LD_computation  \\\n",
    "    --analysis-units /mnt/mfs/statgen/neuro-twas/mv_wg/cache_arch/cache/analysis_unit_merged.txt  \\\n",
    "    --data-dir /mnt/mfs/statgen/neuro-twas/mv_wg/cache_arch/cache \\\n",
    "    --data-suffix \".bim\" \\\n",
    "    --name \"SuSiE_rss\" \\\n",
    "    --wd /mnt/mfs/statgen/neuro-twas/TWAS_sumstat/susie_rss_1 \\\n",
    "    --container /mnt/mfs/statgen/containers/twas_latest.sif \\\n",
    "    --prior /mnt/mfs/statgen/neuro-twas/TWAS_sumstat/susie_rss.ed_bovy.rds \\\n",
    "    -J 40 -q csg -c ~/GIT/neuro-twas/code/csg.yml &\n",
    "\n",
    "\n",
    "nohup sos run /home/hs3163/GIT/bioworkflows/bioworkflows/multivariate-fine-mapping/mvSuSiE.ipynb summary_stats_preprocessing  \\\n",
    "    --analysis-units /mnt/mfs/statgen/neuro-twas/TWAS_sumstat/analysis_units_test  \\\n",
    "    --data-dir /mnt/mfs/statgen/neuro-twas/TWAS_sumstat/RDS/ \\\n",
    "    --data-suffix \".rds\" \\\n",
    "    --name \"SuSiE_rss\" \\\n",
    "    --wd /mnt/mfs/statgen/neuro-twas/TWAS_sumstat/susie_rss_1 \\\n",
    "    --container /mnt/mfs/statgen/containers/twas_latest.sif \\\n",
    "    --prior /mnt/mfs/statgen/neuro-twas/TWAS_sumstat/susie_rss.ed_bovy.rds \\\n",
    "    -J 10 -q csg -c ~/GIT/neuro-twas/code/csg.yml &\n",
    "\n",
    "\n",
    "\n",
    "nohup sos run /home/hs3163/GIT/bioworkflows/bioworkflows/multivariate-fine-mapping/mvSuSiE.ipynb summary_stats_analysis   \\\n",
    "    --analysis-units /mnt/mfs/statgen/neuro-twas/TWAS_sumstat/table_1_analysis_unit.txt  \\\n",
    "    --data-dir /mnt/mfs/statgen/neuro-twas/TWAS_sumstat/RDS/ \\\n",
    "    --resid_cor /mnt/mfs/statgen/neuro-twas/TWAS_sumstat/null_z_cor.rds \\\n",
    "    --data-suffix \".rds\" \\\n",
    "    --name \"SuSiE_rss\" \\\n",
    "    --wd /mnt/mfs/statgen/neuro-twas/TWAS_sumstat/susie_rss_eqtl_ori \\\n",
    "    --container /mnt/mfs/statgen/containers/twas_latest.sif \\\n",
    "    --prior /mnt/mfs/statgen/neuro-twas/TWAS_sumstat/susie_rss.ed_bovy.rds \\\n",
    "    -J 1000 -q csg -c ~/GIT/neuro-twas/code/csg.yml -s build &"
   ]
  },
  {
   "cell_type": "code",
   "execution_count": null,
   "id": "1bc57d3a-f106-4849-bc7b-f0efa4913e56",
   "metadata": {
    "kernel": "SoS"
   },
   "outputs": [],
   "source": []
  },
  {
   "cell_type": "code",
   "execution_count": null,
   "id": "c1a5ecef-6ac2-4bc3-9ba1-1a930847b0fa",
   "metadata": {
    "kernel": "SoS"
   },
   "outputs": [],
   "source": [
    "### MVSuSiE RSS"
   ]
  },
  {
   "cell_type": "code",
   "execution_count": null,
   "id": "ab183a9e-67ad-49a4-addd-47f3ecd69e39",
   "metadata": {
    "kernel": "SoS"
   },
   "outputs": [],
   "source": [
    "nohup sos run /home/hs3163/GIT/bioworkflows/bioworkflows/multivariate-fine-mapping/mvSuSiE.ipynb summary_stats_analysis   \\\n",
    "    --analysis-units /mnt/mfs/statgen/neuro-twas/TWAS_sumstat/one_gene  \\\n",
    "    --data-dir /mnt/mfs/statgen/neuro-twas/TWAS_sumstat/RDS/ \\\n",
    "    --resid_cor /mnt/mfs/statgen/neuro-twas/TWAS_sumstat/null_z_cor.rds \\\n",
    "    --data-suffix \".uni_weight.rds\" \\\n",
    "    --name \"SuSiE_rss\" \\\n",
    "    --specicific_resid_corr \"TRUE\" \\\n",
    "    --ld_file_prefix \"/mnt/mfs/statgen/neuro-twas/mv_wg/cache_arch/cache/\" \\\n",
    "    --wd /mnt/mfs/statgen/neuro-twas/TWAS_sumstat/susie_rss_1 \\\n",
    "    --container /mnt/mfs/statgen/containers/twas_latest.sif \\\n",
    "    --prior /mnt/mfs/statgen/neuro-twas/TWAS_sumstat/susie_rss.ed_bovy.rds \\\n",
    "    -J 40 -q csg -c ~/GIT/neuro-twas/code/csg.yml -s build &"
   ]
  },
  {
   "cell_type": "code",
   "execution_count": null,
   "id": "dd4e6247-9a4e-47bf-adf4-b50a61e1adb2",
   "metadata": {
    "kernel": "SoS"
   },
   "outputs": [],
   "source": [
    "nohup sos run /home/hs3163/GIT/bioworkflows/bioworkflows/multivariate-fine-mapping/mvSuSiE.ipynb summary_stats_analysis   \\\n",
    "    --analysis-units /mnt/mfs/statgen/neuro-twas/TWAS_sumstat/flip/tb1_analysis_uni.txt \\\n",
    "    --data-dir /mnt/mfs/statgen/neuro-twas/TWAS_sumstat/flip/RDS/ \\\n",
    "    --resid_cor /mnt/mfs/statgen/neuro-twas/TWAS_sumstat/flip/null_z_cor.rds \\\n",
    "    --data-suffix \".rds\" \\\n",
    "    --name \"SuSiE_rss\" \\\n",
    "    --specicific_resid_corr \"FALSE\" \\\n",
    "    --ld_file_prefix \"/mnt/mfs/statgen/neuro-twas/mv_wg/cache_arch/cache/\" \\\n",
    "    --wd /mnt/mfs/statgen/neuro-twas/TWAS_sumstat/flip/ \\\n",
    "    --container /mnt/mfs/statgen/containers/twas_latest.sif \\\n",
    "    --prior /mnt/mfs/statgen/neuro-twas/TWAS_sumstat/flip/susie_rss.ed.rds \\\n",
    "    -J 40 -q csg -c ~/GIT/neuro-twas/code/csg.yml & -s  build &"
   ]
  },
  {
   "cell_type": "code",
   "execution_count": null,
   "id": "25634b9f-58f5-4b37-a6bc-d790f4012b2e",
   "metadata": {
    "kernel": "SoS"
   },
   "outputs": [],
   "source": [
    "nohup sos run /home/hs3163/GIT/bioworkflows/bioworkflows/multivariate-fine-mapping/mvSuSiE.ipynb summary_stats_analysis   \\\n",
    "    --analysis-units /mnt/mfs/statgen/neuro-twas/TWAS_sumstat/one_gene  \\\n",
    "    --data-dir /mnt/mfs/statgen/neuro-twas/TWAS_sumstat/test/ \\\n",
    "    --resid_cor /mnt/mfs/statgen/neuro-twas/TWAS_sumstat/flip/null_z_cor.rds \\\n",
    "    --data-suffix \".uni_weight.rds\" \\\n",
    "    --name \"SuSiE_rss\" \\\n",
    "    --specicific_resid_corr \"TRUE\" \\\n",
    "    --ld_file_prefix \"/mnt/mfs/statgen/neuro-twas/mv_wg/cache_arch/cache/\" \\\n",
    "    --wd /mnt/mfs/statgen/neuro-twas/TWAS_sumstat/susie_rss_2/ \\\n",
    "    --container /mnt/mfs/statgen/containers/twas_latest.sif \\\n",
    "    --prior /mnt/mfs/statgen/neuro-twas/TWAS_sumstat/flip/susie_rss.ed.rds \\\n",
    "    -J 40 -q csg -c ~/GIT/neuro-twas/code/csg.yml & -s  build &"
   ]
  },
  {
   "cell_type": "code",
   "execution_count": null,
   "id": "f3dca65d-474e-4f9e-a9f9-bff5cbfd7d46",
   "metadata": {
    "kernel": "SoS"
   },
   "outputs": [],
   "source": [
    "nohup sos run /home/hs3163/GIT/bioworkflows/bioworkflows/multivariate-fine-mapping/mvSuSiE.ipynb summary_stats_analysis   \\\n",
    "    --analysis-units /mnt/mfs/statgen/neuro-twas/TWAS_sumstat/one_gene  \\\n",
    "    --data-dir /mnt/mfs/statgen/neuro-twas/TWAS_sumstat/flip/RDS \\\n",
    "    --resid_cor /mnt/mfs/statgen/neuro-twas/TWAS_sumstat/flip/null_z_cor.rds \\\n",
    "    --data-suffix \".uni_weight.rds\" \\\n",
    "    --name \"SuSiE_rss\" \\\n",
    "    --specicific_resid_corr \"TRUE\" \\\n",
    "    --ld_file_prefix \"/mnt/mfs/statgen/neuro-twas/mv_wg/cache_arch/cache/\" \\\n",
    "    --wd /mnt/mfs/statgen/neuro-twas/TWAS_sumstat/susie_rss_3/ \\\n",
    "    --container /mnt/mfs/statgen/containers/twas_latest.sif \\\n",
    "    --prior /mnt/mfs/statgen/neuro-twas/TWAS_sumstat/flip/susie_rss.ed.rds \\\n",
    "    -J 40 -q csg -c ~/GIT/neuro-twas/code/csg.yml & -s  build &"
   ]
  },
  {
   "cell_type": "markdown",
   "id": "3fea1492-5ee9-4563-8c64-cf40efe76dba",
   "metadata": {
    "kernel": "SoS"
   },
   "source": [
    "## Debugging non-convergence problem"
   ]
  },
  {
   "cell_type": "code",
   "execution_count": null,
   "id": "da62862c-2083-4506-8b3f-ab257b227fb8",
   "metadata": {
    "kernel": "SoS"
   },
   "outputs": [],
   "source": [
    "nohup sos run /home/hs3163/GIT/bioworkflows/bioworkflows/multivariate-fine-mapping/mvSuSiE.ipynb summary_stats_analysis   \\\n",
    "    --analysis-units /mnt/mfs/statgen/neuro-twas/TWAS_sumstat/table_1_analysis_unit.txt  \\\n",
    "    --data-dir /mnt/mfs/statgen/neuro-twas/TWAS_sumstat/RDS/ \\\n",
    "    --resid_cor /mnt/mfs/statgen/neuro-twas/TWAS_sumstat/null_z_cor_eqtl.rds \\\n",
    "    --data-suffix \".rds\" \\\n",
    "    --name \"SuSiE_rss\" \\\n",
    "    --wd /mnt/mfs/statgen/neuro-twas/TWAS_sumstat/susie_rss_eqtl \\\n",
    "    --container /mnt/mfs/statgen/containers/twas_latest.sif \\\n",
    "    --prior /mnt/mfs/statgen/neuro-twas/TWAS_sumstat/susie_rss.ed_bovy_eqtl.rds \\\n",
    "    -J 1000 -q csg -c ~/GIT/neuro-twas/code/csg.yml -s build &"
   ]
  },
  {
   "cell_type": "code",
   "execution_count": null,
   "id": "f86092ff-e1f5-4cb7-ae52-b346b2612882",
   "metadata": {
    "kernel": "SoS"
   },
   "outputs": [],
   "source": [
    "nohup sos run /home/hs3163/GIT/bioworkflows/bioworkflows/multivariate-fine-mapping/mvSuSiE.ipynb summary_stats_analysis   \\\n",
    "    --analysis-units /mnt/mfs/statgen/neuro-twas/TWAS_sumstat/table_1_analysis_unit.txt  \\\n",
    "    --data-dir /mnt/mfs/statgen/neuro-twas/TWAS_sumstat/RDS/ \\\n",
    "    --resid_cor /mnt/mfs/statgen/neuro-twas/TWAS_sumstat/null_z_cor_eqtl.rds \\\n",
    "    --data-suffix \".rds\" \\\n",
    "    --name \"SuSiE_rss\" \\\n",
    "    --wd /mnt/mfs/statgen/neuro-twas/TWAS_sumstat/susie_rss_eqtl_ori_prior \\\n",
    "    --container /mnt/mfs/statgen/containers/twas_latest.sif \\\n",
    "    --prior /home/hs3163/Project/Genome_prior/mixture_prior/output/susie.ed_bovy.rds \\\n",
    "    -J 1000 -q csg -c ~/GIT/neuro-twas/code/csg.yml -s build &"
   ]
  },
  {
   "cell_type": "code",
   "execution_count": null,
   "id": "4ba8d7a4-c46c-4106-bb15-facd04146ecd",
   "metadata": {
    "kernel": "SoS"
   },
   "outputs": [],
   "source": [
    "nohup sos run /home/hs3163/GIT/bioworkflows/bioworkflows/multivariate-fine-mapping/mvSuSiE.ipynb summary_stats_analysis   \\\n",
    "    --analysis-units /mnt/mfs/statgen/neuro-twas/TWAS_sumstat/table_1_analysis_unit.txt  \\\n",
    "    --data-dir /mnt/mfs/statgen/neuro-twas/TWAS_sumstat/RDS/ \\\n",
    "    --resid_cor /mnt/mfs/statgen/neuro-twas/TWAS_sumstat/null_z_cor_eqtl.rds \\\n",
    "    --data-suffix \".rds\" \\\n",
    "    --name \"SuSiE_rss\" \\\n",
    "    --wd /mnt/mfs/statgen/neuro-twas/TWAS_sumstat/susie_rss_eqtl_cor \\\n",
    "    --container /mnt/mfs/statgen/containers/twas_latest.sif \\\n",
    "    --prior /mnt/mfs/statgen/neuro-twas/TWAS_sumstat/susie_rss.ed_bovy_eqtl.rds \\\n",
    "    -J 1000 -q csg -c ~/GIT/neuro-twas/code/csg.yml -s build &"
   ]
  },
  {
   "cell_type": "code",
   "execution_count": null,
   "id": "6826d25d-0917-40dd-aa75-2943787816af",
   "metadata": {
    "kernel": "SoS"
   },
   "outputs": [],
   "source": [
    "nohup sos run /home/hs3163/GIT/bioworkflows/bioworkflows/multivariate-fine-mapping/mvSuSiE.ipynb summary_stats_analysis   \\\n",
    "    --analysis-units /mnt/mfs/statgen/neuro-twas/TWAS_sumstat/table_1_analysis_unit.txt  \\\n",
    "    --data-dir /mnt/mfs/statgen/neuro-twas/TWAS_sumstat/RDS/ \\\n",
    "    --resid_cor /mnt/mfs/statgen/neuro-twas/TWAS_sumstat/null_z_cor_eqtl.rds \\\n",
    "    --data-suffix \".rds\" \\\n",
    "    --name \"SuSiE_rss\" \\\n",
    "    --wd /mnt/mfs/statgen/neuro-twas/TWAS_sumstat/susie_rss_eqtl_cor \\\n",
    "    --container /mnt/mfs/statgen/containers/twas_latest.sif \\\n",
    "    --prior /home/hs3163/Project/Genome_prior/mixture_prior/output/susie.ed_bovy.rds \\\n",
    "    -J 1000 -q csg -c ~/GIT/neuro-twas/code/csg.yml -s build &"
   ]
  },
  {
   "cell_type": "markdown",
   "id": "8b70f330-0d87-44b7-b9fb-24a9339dd54a",
   "metadata": {
    "kernel": "SoS"
   },
   "source": [
    "# Pairwise DLPFC"
   ]
  },
  {
   "cell_type": "markdown",
   "id": "0f9a263e-3299-482e-a374-4aca44acbd6b",
   "metadata": {
    "kernel": "SoS"
   },
   "source": [
    "## LD"
   ]
  },
  {
   "cell_type": "code",
   "execution_count": null,
   "id": "539c135b-b491-4734-b19d-4358eac68fd5",
   "metadata": {
    "kernel": "SoS"
   },
   "outputs": [],
   "source": [
    "nohup sos run /home/hs3163/GIT/bioworkflows/bioworkflows/multivariate-fine-mapping/mvSuSiE.ipynb LD_computation  \\\n",
    "    --analysis-units /mnt/mfs/statgen/neuro-twas/TWAS_sumstat/Pairwise/new_table_1_analysis_unit.txt  \\\n",
    "    --data-dir ~/Project/Genome_prior/DLPFC/cache/ \\\n",
    "    --data-suffix \".bim\" \\\n",
    "    --name \"SuSiE_rss\" \\\n",
    "    --wd /mnt/mfs/statgen/neuro-twas/TWAS_sumstat/Pairwise_2 \\\n",
    "    --container /mnt/mfs/statgen/containers/twas_latest.sif \\\n",
    "    --prior /mnt/mfs/statgen/neuro-twas/TWAS_sumstat/susie_rss.ed_bovy.rds &\n",
    "-s build &\n",
    "    -J 1000 -q csg -c ~/GIT/neuro-twas/code/csg.yml &"
   ]
  },
  {
   "cell_type": "markdown",
   "id": "a114284d-dd34-4525-9d30-e2d8d9b90e60",
   "metadata": {
    "kernel": "R",
    "tags": []
   },
   "source": [
    "## Artificial prior"
   ]
  },
  {
   "cell_type": "code",
   "execution_count": null,
   "id": "a05e0924-ddf8-47ae-bb9b-6f420edab4bb",
   "metadata": {
    "kernel": "R",
    "tags": []
   },
   "outputs": [
    {
     "name": "stderr",
     "output_type": "stream",
     "text": [
      "Exception ignored in: <coroutine object ZMQSocketChannel.msg_ready at 0x2ae1ff860bc0>\n",
      "Traceback (most recent call last):\n",
      "  File \"/home/hs3163/miniconda3/lib/python3.9/warnings.py\", line 506, in _warn_unawaited_coroutine\n",
      "    warn(msg, category=RuntimeWarning, stacklevel=2, source=coro)\n",
      "KeyboardInterrupt: \n"
     ]
    }
   ],
   "source": [
    "seq(0.1,1,0.1)\n",
    "num = seq(0.1,1,0.1)\n",
    "l = list()\n",
    "l$U = list()\n",
    "l$w = list()\n",
    "for(i in 1:10){\n",
    "l$U[[i]] = cbind(c(num[i],0),c(0,num[10-i+1]))%>%as.matrix()\n",
    "l$w[[i]] = 1/10\n",
    "}\n"
   ]
  },
  {
   "cell_type": "markdown",
   "id": "acbcff84-9377-4f13-af79-1323bba4cf25",
   "metadata": {
    "kernel": "R"
   },
   "source": [
    "## Merge Input"
   ]
  },
  {
   "cell_type": "code",
   "execution_count": null,
   "id": "cbe2b1c4-108e-4e3d-83e0-5537711ba34b",
   "metadata": {
    "kernel": "SoS"
   },
   "outputs": [],
   "source": [
    "nohup sos run /home/hs3163/GIT/bioworkflows/bioworkflows/multivariate-fine-mapping/mixture_prior.ipynb merge \\\n",
    "--molecular_pheno /mnt/mfs/statgen/neuro-twas/TWAS_sumstat/Pairwise/molc_dir   \\\n",
    "--analysis-units  /mnt/mfs/statgen/neuro-twas/TWAS_sumstat/Pairwise/new_table_1_analysis_unit_uni_weight.txt \\\n",
    "--cwd   \"/mnt/mfs/statgen/neuro-twas/TWAS_sumstat/Pairwise_2\" \\\n",
    "--name \"geneTpmResidualsAgeGenderAdj_rename\" \\\n",
    "--container /mnt/mfs/statgen/containers/twas_latest.sif & \n",
    " -J 1000 -q csg -c /home/hs3163/GIT/bioworkflows/bioworkflows/admin/csg.yml -s build &"
   ]
  },
  {
   "cell_type": "markdown",
   "id": "6f4ea378-978c-45d5-8be6-8649bda26860",
   "metadata": {
    "kernel": "SoS"
   },
   "source": [
    "## Analysis"
   ]
  },
  {
   "cell_type": "code",
   "execution_count": null,
   "id": "dd9dcba9-b776-44e3-b8b3-d7ac721f9ef5",
   "metadata": {
    "kernel": "SoS"
   },
   "outputs": [],
   "source": [
    "nohup sos run /home/hs3163/GIT/bioworkflows/bioworkflows/multivariate-fine-mapping/mvSuSiE.ipynb summary_stats_analysis   \\\n",
    "    --analysis-units /mnt/mfs/statgen/neuro-twas/TWAS_sumstat/one_gene \\\n",
    "    --data-dir /mnt/mfs/statgen/neuro-twas/TWAS_sumstat/Pairwise_2/RDS/ \\\n",
    "    --resid_cor /mnt/mfs/statgen/neuro-twas/TWAS_sumstat/Pairwise/artificial_resid_cor.rds \\\n",
    "    --data-suffix \".uni_weight.rds\" \\\n",
    "    --name \"Pairwise_rss\" \\\n",
    "    --wd /mnt/mfs/statgen/neuro-twas/TWAS_sumstat/Pairwise \\\n",
    "    --container /mnt/mfs/statgen/containers/twas_latest.sif \\\n",
    "    --specicific_resid_corr \"FALSE\" \\\n",
    "    --ld_file_prefix \"/home/hs3163/Project/Genome_prior/DLPFC/cache/\" \\\n",
    "    --ld_file_surfix \".ld.rds\" \\\n",
    "    --prior /mnt/mfs/statgen/neuro-twas/TWAS_sumstat/Pairwise/artificial_prior.rds & \\\n",
    "    -J 1000 -q csg -c ~/GIT/neuro-twas/code/csg.yml &"
   ]
  },
  {
   "cell_type": "code",
   "execution_count": null,
   "id": "b8f7359d-2a66-4f97-b00a-1867fb8874f0",
   "metadata": {
    "kernel": "SoS"
   },
   "outputs": [],
   "source": [
    "#filename\n",
    "geneTpmResidualsAgeGenderAdj_rename.ENSG00000002587.merged\n",
    "geneTpmResidualsAgeGenderAdj_rename.ENSG00000064687.merged\n",
    "geneTpmResidualsAgeGenderAdj_rename.ENSG00000073921.merged\n",
    "geneTpmResidualsAgeGenderAdj_rename.ENSG00000078487.merged\n",
    "geneTpmResidualsAgeGenderAdj_rename.ENSG00000087589.merged\n",
    "geneTpmResidualsAgeGenderAdj_rename.ENSG00000103510.merged\n",
    "geneTpmResidualsAgeGenderAdj_rename.ENSG00000105383.merged\n",
    "geneTpmResidualsAgeGenderAdj_rename.ENSG00000108798.merged\n",
    "geneTpmResidualsAgeGenderAdj_rename.ENSG00000110077.merged\n",
    "geneTpmResidualsAgeGenderAdj_rename.ENSG00000120885.merged\n",
    "geneTpmResidualsAgeGenderAdj_rename.ENSG00000120899.merged\n",
    "geneTpmResidualsAgeGenderAdj_rename.ENSG00000130203.merged\n",
    "geneTpmResidualsAgeGenderAdj_rename.ENSG00000134463.merged\n",
    "geneTpmResidualsAgeGenderAdj_rename.ENSG00000136717.merged\n",
    "geneTpmResidualsAgeGenderAdj_rename.ENSG00000137642.merged\n",
    "geneTpmResidualsAgeGenderAdj_rename.ENSG00000137845.merged\n",
    "geneTpmResidualsAgeGenderAdj_rename.ENSG00000138613.merged\n",
    "geneTpmResidualsAgeGenderAdj_rename.ENSG00000140090.merged\n",
    "geneTpmResidualsAgeGenderAdj_rename.ENSG00000158859.merged\n",
    "geneTpmResidualsAgeGenderAdj_rename.ENSG00000161929.merged\n",
    "geneTpmResidualsAgeGenderAdj_rename.ENSG00000168918.merged\n",
    "geneTpmResidualsAgeGenderAdj_rename.ENSG00000196126.merged\n",
    "geneTpmResidualsAgeGenderAdj_rename.ENSG00000198087.merged\n",
    "geneTpmResidualsAgeGenderAdj_rename.ENSG00000203710.merged\n",
    "geneTpmResidualsAgeGenderAdj_rename.ENSG00000264538.merged\n",
    "geneTpmResidualsAgeGenderAdj_rename.ENSG00000265148.merged"
   ]
  },
  {
   "cell_type": "code",
   "execution_count": null,
   "id": "22bbeb5d-5c4a-49bc-92a8-5d1ce72c163d",
   "metadata": {
    "kernel": "SoS"
   },
   "outputs": [],
   "source": [
    "#filename\n",
    "geneTpmResidualsAgeGenderAdj_rename.ENSG00000134463\n",
    "geneTpmResidualsAgeGenderAdj_rename.ENSG00000064687\n",
    "geneTpmResidualsAgeGenderAdj_rename.ENSG00000161929\n",
    "geneTpmResidualsAgeGenderAdj_rename.ENSG00000198796\n",
    "geneTpmResidualsAgeGenderAdj_rename.ENSG00000120885\n",
    "geneTpmResidualsAgeGenderAdj_rename.ENSG00000108219\n",
    "geneTpmResidualsAgeGenderAdj_rename.ENSG00000196126\n",
    "geneTpmResidualsAgeGenderAdj_rename.ENSG00000109684\n",
    "geneTpmResidualsAgeGenderAdj_rename.ENSG00000138613\n",
    "geneTpmResidualsAgeGenderAdj_rename.ENSG00000073921\n",
    "geneTpmResidualsAgeGenderAdj_rename.ENSG00000264538\n",
    "geneTpmResidualsAgeGenderAdj_rename.ENSG00000002587\n",
    "geneTpmResidualsAgeGenderAdj_rename.ENSG00000197943\n",
    "geneTpmResidualsAgeGenderAdj_rename.ENSG00000198087\n",
    "geneTpmResidualsAgeGenderAdj_rename.ENSG00000163666\n",
    "geneTpmResidualsAgeGenderAdj_rename.ENSG00000108798\n",
    "geneTpmResidualsAgeGenderAdj_rename.ENSG00000087589\n",
    "geneTpmResidualsAgeGenderAdj_rename.ENSG00000095970\n",
    "geneTpmResidualsAgeGenderAdj_rename.ENSG00000137642\n",
    "geneTpmResidualsAgeGenderAdj_rename.ENSG00000105383\n",
    "geneTpmResidualsAgeGenderAdj_rename.ENSG00000120899\n",
    "geneTpmResidualsAgeGenderAdj_rename.ENSG00000005379\n",
    "geneTpmResidualsAgeGenderAdj_rename.ENSG00000103510\n",
    "geneTpmResidualsAgeGenderAdj_rename.ENSG00000265148\n",
    "geneTpmResidualsAgeGenderAdj_rename.ENSG00000137845\n",
    "geneTpmResidualsAgeGenderAdj_rename.ENSG00000140090\n",
    "geneTpmResidualsAgeGenderAdj_rename.ENSG00000085514\n",
    "geneTpmResidualsAgeGenderAdj_rename.ENSG00000071051\n",
    "geneTpmResidualsAgeGenderAdj_rename.ENSG00000174469\n",
    "geneTpmResidualsAgeGenderAdj_rename.ENSG00000198369\n",
    "geneTpmResidualsAgeGenderAdj_rename.ENSG00000168918\n",
    "geneTpmResidualsAgeGenderAdj_rename.ENSG00000136717\n",
    "geneTpmResidualsAgeGenderAdj_rename.ENSG00000146904\n",
    "geneTpmResidualsAgeGenderAdj_rename.ENSG00000078487\n",
    "geneTpmResidualsAgeGenderAdj_rename.ENSG00000130203\n",
    "geneTpmResidualsAgeGenderAdj_rename.ENSG00000159640\n",
    "geneTpmResidualsAgeGenderAdj_rename.ENSG00000158859\n",
    "geneTpmResidualsAgeGenderAdj_rename.ENSG00000110077\n",
    "geneTpmResidualsAgeGenderAdj_rename.ENSG00000203710\n",
    "\n"
   ]
  },
  {
   "cell_type": "code",
   "execution_count": null,
   "id": "991a65db-53b5-4f9e-82de-300320371834",
   "metadata": {
    "kernel": "SoS"
   },
   "outputs": [],
   "source": []
  },
  {
   "cell_type": "code",
   "execution_count": null,
   "id": "b2c11d27-d6c7-4715-9bb1-29bcb828f97b",
   "metadata": {
    "kernel": "SoS"
   },
   "outputs": [],
   "source": []
  },
  {
   "cell_type": "code",
   "execution_count": null,
   "id": "584471e7-e19e-4d1f-b5fa-346a43d374b5",
   "metadata": {
    "kernel": "SoS"
   },
   "outputs": [],
   "source": []
  },
  {
   "cell_type": "code",
   "execution_count": null,
   "id": "a5b5cf1d-2e0f-4fb9-a96a-5cec9bdb3006",
   "metadata": {
    "kernel": "SoS"
   },
   "outputs": [],
   "source": []
  },
  {
   "cell_type": "code",
   "execution_count": null,
   "id": "241523ee-8aae-4fb8-9a3a-36b40db6d725",
   "metadata": {
    "kernel": "SoS"
   },
   "outputs": [],
   "source": []
  },
  {
   "cell_type": "code",
   "execution_count": null,
   "id": "fdd4669b-8784-48a7-ad08-0b19b2d00f9c",
   "metadata": {
    "kernel": "SoS"
   },
   "outputs": [],
   "source": [
    "#molcular_phenotype\n",
    "/mnt/mfs/statgen/neuro-twas/uni_susie_rosmap/AC/susie/\n",
    "/mnt/mfs/statgen/neuro-twas/uni_susie_rosmap/DLPFC/susie/\n",
    "/mnt/mfs/statgen/neuro-twas/uni_sus\n",
    "/mnt/mfs/statgen/neuro-twas/TWAS_sumstat/gwas_sumstat/"
   ]
  },
  {
   "cell_type": "code",
   "execution_count": null,
   "id": "b5d16349-f4fe-4fae-bfa7-6993967f8f4a",
   "metadata": {
    "kernel": "SoS"
   },
   "outputs": [],
   "source": [
    "library(stringr)\n",
    "rds_files = c('/mnt/mfs/statgen/neuro-twas/TWAS_sumstat/susie_rss.rds','/mnt/mfs/statgen/neuro-twas/TWAS_sumstat/susie_rss.flash.rds','/mnt/mfs/statgen/neuro-twas/TWAS_sumstat/susie_rss.flash_nonneg.rds','/mnt/mfs/statgen/neuro-twas/TWAS_sumstat/susie_rss.pca.rds','/mnt/mfs/statgen/neuro-twas/TWAS_sumstat/susie_rss.canonical.rds')\n",
    "dat = readRDS(rds_files[1])\n",
    "U = list(XtX = dat$XtX)\n",
    "U_scaled = list()\n",
    "mixture_components =  c('flash','flash_nonneg','pca','canonical')\n",
    "scale_only =  c('/mnt/mfs/statgen/neuro-twas/TWAS_sumstat/susie_rss.canonical.rds')\n",
    "scale_idx = which(mixture_components %in% scale_only )\n",
    "for (f in 2:length(rds_files) ) {\n",
    "    if ((f - 1) %in% scale_idx ) {\n",
    "      U_scaled = c(U_scaled, readRDS(rds_files[f]))\n",
    "    } else {\n",
    "      U = c(U, readRDS(rds_files[f]))\n",
    "    }\n",
    "}\n",
    "#\n",
    "if (FALSE) {\n",
    "  V = readRDS('.')\n",
    "} else {\n",
    "  V = cor(dat$null.z)\n",
    "}\n",
    "# Fit mixture model using udr package\n",
    "library(udr)\n",
    "message(paste(\"Running ED via udr package for\", length(U), \"mixture components\"))\n",
    "f0 = ud_init(X = na.omit(as.matrix(dat$strong.z)), V = V, U_scaled = U_scaled, U_unconstrained = U, n_rank1=0)\n",
    "res = ud_fit(f0, X = na.omit(f0$X), control = list(unconstrained.update = \"ed\", resid.update = 'none', scaled.update = \"fa\", maxiter=5000, tol.lik = 0.001), verbose=TRUE)\n",
    "saveRDS(list(U=res$U, w=res$w, loglik=res$loglik), '/mnt/mfs/statgen/neuro-twas/TWAS_sumstat/susie_rss.ed.rds')\n"
   ]
  }
 ],
 "metadata": {
  "kernelspec": {
   "display_name": "SoS",
   "language": "sos",
   "name": "sos"
  },
  "language_info": {
   "codemirror_mode": "sos",
   "file_extension": ".sos",
   "mimetype": "text/x-sos",
   "name": "sos",
   "nbconvert_exporter": "sos_notebook.converter.SoS_Exporter",
   "pygments_lexer": "sos"
  },
  "sos": {
   "kernels": [
    [
     "R",
     "ir",
     "R",
     "#DCDCDA",
     ""
    ],
    [
     "SoS",
     "sos",
     "",
     "",
     "sos"
    ]
   ],
   "version": "0.22.6"
  }
 },
 "nbformat": 4,
 "nbformat_minor": 5
}
