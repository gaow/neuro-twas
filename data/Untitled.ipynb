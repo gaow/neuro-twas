{
 "cells": [
  {
   "cell_type": "code",
   "execution_count": 1,
   "id": "curious-declaration",
   "metadata": {},
   "outputs": [],
   "source": [
    "dat = readRDS('generate_qtl_3_annotate_1.rds')"
   ]
  },
  {
   "cell_type": "code",
   "execution_count": 8,
   "id": "caring-alcohol",
   "metadata": {},
   "outputs": [],
   "source": [
    "data = dat$data_p\n",
    "data_ann = dat$data_ann_p\n",
    "source('Wavelet_Multivariate_Susie.R')"
   ]
  },
  {
   "cell_type": "code",
   "execution_count": 9,
   "id": "thorough-technique",
   "metadata": {},
   "outputs": [],
   "source": [
    "library(mmbr)\n",
    "# source(\"Wavelet_Multivariate_Susie.R\")\n",
    "## get the prior\n",
    "X = t(data$geno)\n",
    "L <- 1\n",
    "# test_num <- 1:100 # is there any need to set the test/train since we are detecting association\n",
    "# heter_mask = apply(data$geno, MARGIN = 1, FUN = function(x) length(unique(x))>1)\n",
    "\n",
    "m_list = list()\n",
    "for(i in unique(data_ann$seg_ID)){\n",
    "  mask_seg = row.names(data$methy) %in% data_ann[data_ann$seg_ID == i,]$ID\n",
    "  y = t(data$methy[mask_seg, ])\n",
    "  m_list[[i]] = Wave_MSusie(Y = y, G = X, plot_out = F)\n",
    "}\n",
    "\n",
    "fit_res = m_list"
   ]
  },
  {
   "cell_type": "code",
   "execution_count": 9,
   "id": "portuguese-houston",
   "metadata": {},
   "outputs": [
    {
     "name": "stderr",
     "output_type": "stream",
     "text": [
      "Warning message in methods::is(data) == c(\"numeric\", \"vector\"):\n",
      "“longer object length is not a multiple of shorter object length”\n",
      "Warning message in methods::is(data) == c(\"numeric\", \"vector\"):\n",
      "“longer object length is not a multiple of shorter object length”\n",
      "Warning message in methods::is(data) == c(\"numeric\", \"vector\"):\n",
      "“longer object length is not a multiple of shorter object length”\n",
      "Warning message in methods::is(data) == c(\"numeric\", \"vector\"):\n",
      "“longer object length is not a multiple of shorter object length”\n",
      "Warning message in methods::is(data) == c(\"numeric\", \"vector\"):\n",
      "“longer object length is not a multiple of shorter object length”\n",
      "Warning message in methods::is(data) == c(\"numeric\", \"vector\"):\n",
      "“longer object length is not a multiple of shorter object length”\n",
      "Warning message in methods::is(data) == c(\"numeric\", \"vector\"):\n",
      "“longer object length is not a multiple of shorter object length”\n",
      "Warning message in methods::is(data) == c(\"numeric\", \"vector\"):\n",
      "“longer object length is not a multiple of shorter object length”\n",
      "Warning message in methods::is(data) == c(\"numeric\", \"vector\"):\n",
      "“longer object length is not a multiple of shorter object length”\n",
      "Warning message in methods::is(data) == c(\"numeric\", \"vector\"):\n",
      "“longer object length is not a multiple of shorter object length”\n",
      "Warning message in methods::is(data) == c(\"numeric\", \"vector\"):\n",
      "“longer object length is not a multiple of shorter object length”\n",
      "Warning message in methods::is(data) == c(\"numeric\", \"vector\"):\n",
      "“longer object length is not a multiple of shorter object length”\n",
      "Warning message in methods::is(data) == c(\"numeric\", \"vector\"):\n",
      "“longer object length is not a multiple of shorter object length”\n",
      "Warning message in methods::is(data) == c(\"numeric\", \"vector\"):\n",
      "“longer object length is not a multiple of shorter object length”\n",
      "Warning message in methods::is(data) == c(\"numeric\", \"vector\"):\n",
      "“longer object length is not a multiple of shorter object length”\n",
      "Warning message in methods::is(data) == c(\"numeric\", \"vector\"):\n",
      "“longer object length is not a multiple of shorter object length”\n",
      "Warning message in methods::is(data) == c(\"numeric\", \"vector\"):\n",
      "“longer object length is not a multiple of shorter object length”\n",
      "Warning message in methods::is(data) == c(\"numeric\", \"vector\"):\n",
      "“longer object length is not a multiple of shorter object length”\n",
      "Warning message in methods::is(data) == c(\"numeric\", \"vector\"):\n",
      "“longer object length is not a multiple of shorter object length”\n",
      "Warning message in methods::is(data) == c(\"numeric\", \"vector\"):\n",
      "“longer object length is not a multiple of shorter object length”\n",
      "Warning message in methods::is(data) == c(\"numeric\", \"vector\"):\n",
      "“longer object length is not a multiple of shorter object length”\n",
      "Warning message in methods::is(data) == c(\"numeric\", \"vector\"):\n",
      "“longer object length is not a multiple of shorter object length”\n",
      "Warning message in methods::is(data) == c(\"numeric\", \"vector\"):\n",
      "“longer object length is not a multiple of shorter object length”\n",
      "Warning message in methods::is(data) == c(\"numeric\", \"vector\"):\n",
      "“longer object length is not a multiple of shorter object length”\n",
      "Warning message in methods::is(data) == c(\"numeric\", \"vector\"):\n",
      "“longer object length is not a multiple of shorter object length”\n",
      "Warning message in methods::is(data) == c(\"numeric\", \"vector\"):\n",
      "“longer object length is not a multiple of shorter object length”\n",
      "Warning message in methods::is(data) == c(\"numeric\", \"vector\"):\n",
      "“longer object length is not a multiple of shorter object length”\n",
      "Warning message in methods::is(data) == c(\"numeric\", \"vector\"):\n",
      "“longer object length is not a multiple of shorter object length”\n",
      "Warning message in methods::is(data) == c(\"numeric\", \"vector\"):\n",
      "“longer object length is not a multiple of shorter object length”\n",
      "Warning message in methods::is(data) == c(\"numeric\", \"vector\"):\n",
      "“longer object length is not a multiple of shorter object length”\n",
      "Warning message in methods::is(data) == c(\"numeric\", \"vector\"):\n",
      "“longer object length is not a multiple of shorter object length”\n",
      "Warning message in methods::is(data) == c(\"numeric\", \"vector\"):\n",
      "“longer object length is not a multiple of shorter object length”\n",
      "Warning message in methods::is(data) == c(\"numeric\", \"vector\"):\n",
      "“longer object length is not a multiple of shorter object length”\n",
      "Warning message in methods::is(data) == c(\"numeric\", \"vector\"):\n",
      "“longer object length is not a multiple of shorter object length”\n",
      "Warning message in methods::is(data) == c(\"numeric\", \"vector\"):\n",
      "“longer object length is not a multiple of shorter object length”\n",
      "Warning message in methods::is(data) == c(\"numeric\", \"vector\"):\n",
      "“longer object length is not a multiple of shorter object length”\n",
      "Warning message in methods::is(data) == c(\"numeric\", \"vector\"):\n",
      "“longer object length is not a multiple of shorter object length”\n",
      "Warning message in methods::is(data) == c(\"numeric\", \"vector\"):\n",
      "“longer object length is not a multiple of shorter object length”\n",
      "Warning message in methods::is(data) == c(\"numeric\", \"vector\"):\n",
      "“longer object length is not a multiple of shorter object length”\n",
      "Warning message in methods::is(data) == c(\"numeric\", \"vector\"):\n",
      "“longer object length is not a multiple of shorter object length”\n",
      "Warning message in methods::is(data) == c(\"numeric\", \"vector\"):\n",
      "“longer object length is not a multiple of shorter object length”\n",
      "Warning message in methods::is(data) == c(\"numeric\", \"vector\"):\n",
      "“longer object length is not a multiple of shorter object length”\n",
      "Warning message in methods::is(data) == c(\"numeric\", \"vector\"):\n",
      "“longer object length is not a multiple of shorter object length”\n",
      "Warning message in methods::is(data) == c(\"numeric\", \"vector\"):\n",
      "“longer object length is not a multiple of shorter object length”\n",
      "Warning message in methods::is(data) == c(\"numeric\", \"vector\"):\n",
      "“longer object length is not a multiple of shorter object length”\n"
     ]
    },
    {
     "ename": "ERROR",
     "evalue": "Error in data_ann %>% filter(meQTL != 0) %>% mutate(pos_ind = paste(meQTL, : could not find function \"%>%\"\n",
     "output_type": "error",
     "traceback": [
      "Error in data_ann %>% filter(meQTL != 0) %>% mutate(pos_ind = paste(meQTL, : could not find function \"%>%\"\nTraceback:\n"
     ]
    }
   ],
   "source": [
    "# blk contingency\n",
    "pos_blk = unique(data_ann$seg_ID[data_ann$meQTL!=0])\n",
    "neg_blk = unique(data_ann$seg_ID[data_ann$meQTL ==0])[-1] # -1 is to remove the 160 methyl cite which is not influenced\n",
    "sig_blk = unique(data_ann$seg_ID)[unlist(lapply(fit_res, FUN = function(x) {!is.null(x$m_susie$sets$cs)}))]\n",
    "nsig_blk = unique(data_ann$seg_ID)[unlist(lapply(fit_res, FUN = function(x) {is.null(x$m_susie$sets$cs)}))]\n",
    "blk_conting = list(pos_blk = pos_blk, neg_blk = neg_blk, sig_blk = sig_blk, nsig_blk = nsig_blk)\n",
    "\n",
    "# pair contingency\n",
    "lfsr_mat = lapply(1:length(fit_res), function(x) {\n",
    "  mat = fit_res[[x]]$m_susie$lfsr\n",
    "  rownames(mat) = colnames(X)\n",
    "  colnames(mat) = rownames(data$methy)[seq(16*(x-1)+1, 16*(x-1)+ncol(mat))]\n",
    "  mat})\n",
    "all_pair = paste(rep(rownames(data$geno), each = nrow(data$methy)), rownames(data$methy), sep = \"-\")\n",
    "\n",
    "pos_pair = data_ann %>% filter(meQTL!=0) %>% mutate(pos_ind = paste(meQTL, ID, sep = \"-\")) %>% pull(pos_ind)\n",
    "neg_pair = setdiff(all_pair,pos_pair)\n",
    "sig_pair = unlist(lapply(lfsr_mat, function(x) {\n",
    "  sig_ind = which(x <=lfsr_threshold, arr.ind = T)\n",
    "  apply(sig_ind,1,function(y) paste(rownames(x)[y[1]],colnames(x)[y[2]],sep = \"-\"))\n",
    "}))\n",
    "nsig_pair = unlist(lapply(lfsr_mat, function(x) {\n",
    "  nsig_ind = which(x > lfsr_threshold, arr.ind = T)\n",
    "  apply(nsig_ind,1,function(y) paste(rownames(x)[y[1]],colnames(x)[y[2]],sep = \"-\"))\n",
    "}))\n",
    "pair_conting = list(pos_pair = pos_pair, neg_pair = neg_pair, sig_pair = sig_pair, nsig_pair = nsig_pair)"
   ]
  },
  {
   "cell_type": "code",
   "execution_count": 17,
   "id": "integrated-allah",
   "metadata": {},
   "outputs": [
    {
     "data": {
      "text/html": [
       "45"
      ],
      "text/latex": [
       "45"
      ],
      "text/markdown": [
       "45"
      ],
      "text/plain": [
       "[1] 45"
      ]
     },
     "metadata": {},
     "output_type": "display_data"
    }
   ],
   "source": [
    "length(m_list)"
   ]
  },
  {
   "cell_type": "code",
   "execution_count": 28,
   "id": "divided-davis",
   "metadata": {},
   "outputs": [
    {
     "data": {
      "image/png": "[encoded data removed]",
      "text/plain": [
       "plot without title"
      ]
     },
     "metadata": {
      "image/png": {
       "height": 420,
       "width": 420
      },
      "text/plain": {
       "height": 420,
       "width": 420
      }
     },
     "output_type": "display_data"
    }
   ],
   "source": [
    "plot(m_list[[16]]$pip)"
   ]
  },
  {
   "cell_type": "code",
   "execution_count": null,
   "id": "pregnant-brazil",
   "metadata": {},
   "outputs": [],
   "source": []
  }
 ],
 "metadata": {
  "kernelspec": {
   "display_name": "R",
   "language": "R",
   "name": "ir"
  },
  "language_info": {
   "codemirror_mode": "r",
   "file_extension": ".r",
   "mimetype": "text/x-r-source",
   "name": "R",
   "pygments_lexer": "r",
   "version": "3.6.3"
  }
 },
 "nbformat": 4,
 "nbformat_minor": 5
}
