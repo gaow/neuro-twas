{
 "cells": [
  {
   "cell_type": "markdown",
   "metadata": {
    "kernel": "SoS"
   },
   "source": [
    "# Name Change\n",
    "## Aim\n",
    "\n",
    "The aim of this pipeline is to change the header of gene expression file based on a reference file that are made externally. \n",
    "\n",
    "An example of the pipeline running is shown below"
   ]
  },
  {
   "cell_type": "code",
   "execution_count": 4,
   "metadata": {
    "kernel": "Bash"
   },
   "outputs": [
    {
     "name": "stdout",
     "output_type": "stream",
     "text": [
      "INFO: Running \u001b[32mProcessing_1\u001b[0m: change the name of gene_exp\n",
      "INFO: \u001b[32mProcessing_1\u001b[0m (index=0) is \u001b[32mignored\u001b[0m due to saved signature\n",
      "INFO: \u001b[32mProcessing_1\u001b[0m output:   \u001b[32m/Users/haosun/Documents/WG_Reasearch_Assisstant/Rosmap/Data/gene_exp/geneCountsResidualsPlusBaselineAgeGenderAdj_rename.txt /Users/haosun/Documents/WG_Reasearch_Assisstant/Rosmap/Data/gene_exp/geneCountsResidualsPlusBaselineAgeGenderAdj_discardID.txt\u001b[0m\n",
      "INFO: Running \u001b[32mProcessing_2\u001b[0m: add position to gene_ID based on ensembl\n",
      "INFO: \u001b[32mProcessing_2\u001b[0m is \u001b[32mcompleted\u001b[0m.\n",
      "INFO: \u001b[32mProcessing_2\u001b[0m output:   \u001b[32m/Users/haosun/Documents/WG_Reasearch_Assisstant/Rosmap/Data/gene_exp/geneCountsResidualsPlusBaselineAgeGenderAdj_rename_anno.txt\u001b[0m\n",
      "INFO: Workflow Processing (ID=7996406c03692b3d) is executed successfully with 1 completed step and 1 ignored step.\n",
      "\n"
     ]
    }
   ],
   "source": [
    "SOS run /Users/haosun/Documents/WG_Reasearch_Assisstant/GIT/freshcopy/neuro-twas/Workflow/SOS_ROSMAP_gene_exp_processing.ipynb \\\n",
    "    --ref \"/Users/haosun/Documents/WG_Reasearch_Assisstant/Rosmap/Data/new_gene_keys_plink.txt\" \\\n",
    "    --name_col 2 \\\n",
    "    --real_name_col 1 \\\n",
    "    --gene_exp \"/Users/haosun/Documents/WG_Reasearch_Assisstant/Rosmap/Data/gene_exp/geneCountsResidualsPlusBaselineAgeGenderAdj.txt\" \\\n",
    "    --start_at 2 \\\n",
    "    --output \"/Users/haosun/Documents/WG_Reasearch_Assisstant/Rosmap/Data/gene_exp/\" "
   ]
  },
  {
   "cell_type": "code",
   "execution_count": 71,
   "metadata": {
    "kernel": "Bash"
   },
   "outputs": [
    {
     "name": "stdout",
     "output_type": "stream",
     "text": [
      "/Users/haosun/Documents/WG_Reasearch_Assisstant/GIT/twas-dev/WIP/pipeline_prototype\n",
      "\n"
     ]
    }
   ],
   "source": []
  },
  {
   "cell_type": "code",
   "execution_count": 73,
   "metadata": {
    "kernel": "SoS"
   },
   "outputs": [],
   "source": [
    "[global]\n",
    "# This pipeline changes the patient names of a gene_exp file based on a index reference file \n",
    "parameter: ref = \"/Users/haosun/Documents/WG_Reasearch_Assisstant/Rosmap/Data/new_gene_keys_plink.txt\"\n",
    "# A table contaiing the patient ID in the gene_exp file and the patient ID in the plink file\n",
    "parameter: name_col = 2\n",
    "# Column position that specify the header of gene_exp in the index\n",
    "parameter: real_name_col = 1\n",
    "# Column position that specify the plink patient ID in the index\n",
    "parameter: gene_exp = \"/Users/haosun/Documents/WG_Reasearch_Assisstant/Rosmap/Data/gene_exp/geneCountsResidualsPlusBaselineAgeGenderAdj.txt\"\n",
    "# the patient ID to be changed\n",
    "parameter: start_at = 2\n",
    "# the column where the patient ID start\n",
    "\n",
    "parameter: output = \"/Users/haosun/Documents/WG_Reasearch_Assisstant/Rosmap/Data/\"\n",
    "# where to store the output file\n",
    "\n",
    "# change the name of gene_exp\n",
    "[Processing_1]\n",
    "input: ref, gene_exp\n",
    "output: f'{output}/{_input[1]:bn}_rename.txt',\n",
    "        f'{output}/{_input[1]:bn}_discardID.txt'\n",
    "\n",
    "R:  expand= \"$[ ]\" , stderr = f'{_output[1]:n}.stderr', stdout = f'{_output[1]:n}.stdout'\n",
    "    library(dplyr)\n",
    "    gene_exp = readr::read_delim(\"$[_input[1]]\",delim = \" \")\n",
    "    index = readr::read_delim(\"$[_input[0]]\",delim = \"\\t\")\n",
    "    name = data.frame(Name = index%>%pull(colnames(index)[$[name_col]]),Real_name = index%>%pull(colnames(index)[$[real_name_col]]))\n",
    "    df = gene_exp[,$[start_at]:ncol(gene_exp)]\n",
    "    pos = match(colnames(df), name$Name%>%as.character())%>%na.omit()\n",
    "    df = df %>%\n",
    "      select_at(as.character(name$Name[pos]), \n",
    "                ~as.character((name$Real_name[pos])))\n",
    "    final = cbind(gene_exp[,1:$[start_at]-1],df)\n",
    "    final%>%readr::write_tsv( path = \"$[_output[0]]\", na = \"NA\", append = FALSE, col_names = TRUE, quote_escape = \"double\")\n",
    "    name$Name[attr(pos,\"na.action\")]%>%cat(file = \"$[_output[1]]\", sep = \" \")\n",
    "\n",
    "# add position to gene_ID based on ensembl \n",
    "[Processing_2]\n",
    "input: group_by = 2\n",
    "output: f'{output}/{_input[0]:bn}_anno.txt'\n",
    "\n",
    "R:  expand= \"$[ ]\", stderr = f'{_output:n}.stderr', stdout = f'{_output:n}.stdout'\n",
    "    library(\"biomaRt\")\n",
    "    library(dplyr)\n",
    "    gene_exp = readr::read_delim(\"$[_input[0]]\",delim = \"\\t\")\n",
    "    ensembl = useDataset(\"hsapiens_gene_ensembl\",mart=useMart(\"ENSEMBL_MART_ENSEMBL\"))\n",
    "    ensembl_df <- getBM(attributes=c(\"ensembl_gene_id\",\"chromosome_name\", \"start_position\", \"end_position\"),mart=ensembl)\n",
    "    my_genes = gene_exp$gene_ID\n",
    "    my_genes_ann = ensembl_df[match(my_genes, ensembl_df$ensembl_gene_id),]%>%dplyr::select(\"gene_ID\" = ensembl_gene_id, \"chr\" = chromosome_name, start_position, end_position)\n",
    "    final = inner_join(my_genes_ann, gene_exp, \"gene_ID\")\n",
    "    final%>%readr::write_tsv( path = \"$[_output]\", na = \"NA\", append = FALSE, col_names = TRUE, quote_escape = \"double\")"
   ]
  },
  {
   "cell_type": "code",
   "execution_count": 72,
   "metadata": {
    "kernel": "Bash"
   },
   "outputs": [
    {
     "name": "stdout",
     "output_type": "stream",
     "text": [
      "\n"
     ]
    }
   ],
   "source": []
  },
  {
   "cell_type": "code",
   "execution_count": 71,
   "metadata": {
    "kernel": "SoS"
   },
   "outputs": [
    {
     "data": {
      "text/html": [
       "<div class=\"sos_logging sos_info\">INFO: Running <span class=\"sos_highlight\">default</span>: \n",
       "</div>"
      ]
     },
     "metadata": {},
     "output_type": "display_data"
    },
    {
     "name": "stdout",
     "output_type": "stream",
     "text": [
      "HINT: Pulling docker image gaow/twas\n",
      "/usr/local/bin/gcta64\n"
     ]
    },
    {
     "data": {
      "text/html": [
       "<div class=\"sos_logging sos_info\">INFO: Workflow default (ID=725ab0a3d301da69) is executed successfully with 1 completed step.\n",
       "</div>"
      ]
     },
     "metadata": {},
     "output_type": "display_data"
    }
   ],
   "source": []
  },
  {
   "cell_type": "code",
   "execution_count": 70,
   "metadata": {
    "kernel": "Bash"
   },
   "outputs": [
    {
     "name": "stdout",
     "output_type": "stream",
     "text": [
      "PLINK v1.90b6.18 64-bit (16 Jun 2020)          www.cog-genomics.org/plink/1.9/\n",
      "(C) 2005-2020 Shaun Purcell, Christopher Chang   GNU General Public License v3\n",
      "\n",
      "  plink <input flag(s)...> [command flag(s)...] [other flag(s)...]\n",
      "  plink --help [flag name(s)...]\n",
      "\n",
      "Commands include --make-bed, --recode, --flip-scan, --merge-list,\n",
      "--write-snplist, --list-duplicate-vars, --freqx, --missing, --test-mishap,\n",
      "--hardy, --mendel, --ibc, --impute-sex, --indep-pairphase, --r2, --show-tags,\n",
      "--blocks, --distance, --genome, --homozyg, --make-rel, --make-grm-gz,\n",
      "--rel-cutoff, --cluster, --pca, --neighbour, --ibs-test, --regress-distance,\n",
      "--model, --bd, --gxe, --logistic, --dosage, --lasso, --test-missing,\n",
      "--make-perm-pheno, --tdt, --qfam, --annotate, --clump, --gene-report,\n",
      "--meta-analysis, --epistasis, --fast-epistasis, and --score.\n",
      "\n",
      "\"plink --help | more\" describes all functions (warning: long).\n",
      "/usr/local/bin/plink\n",
      "\n"
     ]
    }
   ],
   "source": []
  },
  {
   "cell_type": "code",
   "execution_count": 1,
   "metadata": {
    "kernel": "R"
   },
   "outputs": [
    {
     "name": "stderr",
     "output_type": "stream",
     "text": [
      "Warning message in install.packages(\"data.table\"):\n",
      "“installation of package ‘data.table’ had non-zero exit status”\n",
      "Updating HTML index of packages in '.Library'\n",
      "\n",
      "Making 'packages.html' ...\n",
      " done\n",
      "\n"
     ]
    }
   ],
   "source": [
    "\n"
   ]
  },
  {
   "cell_type": "code",
   "execution_count": 5,
   "metadata": {
    "kernel": "Python3"
   },
   "outputs": [
    {
     "data": {
      "text/plain": [
       "{'chr': 'dir',\n",
       " '1': '/Users/haosun/Documents/WG_Reasearch_Assisstant/Fusion/Project/test/LDREF/1000G.EUR.1.bed',\n",
       " '2': '/Users/haosun/Documents/WG_Reasearch_Assisstant/Fusion/Project/test/LDREF/1000G.EUR.2.bed',\n",
       " '3': '/Users/haosun/Documents/WG_Reasearch_Assisstant/Fusion/Project/test/LDREF/1000G.EUR.3.bed',\n",
       " '4': '/Users/haosun/Documents/WG_Reasearch_Assisstant/Fusion/Project/test/LDREF/1000G.EUR.4.bed',\n",
       " '5': '/Users/haosun/Documents/WG_Reasearch_Assisstant/Fusion/Project/test/LDREF/1000G.EUR.5.bed',\n",
       " '6': '/Users/haosun/Documents/WG_Reasearch_Assisstant/Fusion/Project/test/LDREF/1000G.EUR.6.bed',\n",
       " '7': '/Users/haosun/Documents/WG_Reasearch_Assisstant/Fusion/Project/test/LDREF/1000G.EUR.7.bed',\n",
       " '8': '/Users/haosun/Documents/WG_Reasearch_Assisstant/Fusion/Project/test/LDREF/1000G.EUR.8.bed',\n",
       " '9': '/Users/haosun/Documents/WG_Reasearch_Assisstant/Fusion/Project/test/LDREF/1000G.EUR.9.bed',\n",
       " '10': '/Users/haosun/Documents/WG_Reasearch_Assisstant/Fusion/Project/test/LDREF/1000G.EUR.10.bed',\n",
       " '11': '/Users/haosun/Documents/WG_Reasearch_Assisstant/Fusion/Project/test/LDREF/1000G.EUR.11.bed',\n",
       " '12': '/Users/haosun/Documents/WG_Reasearch_Assisstant/Fusion/Project/test/LDREF/1000G.EUR.12.bed',\n",
       " '13': '/Users/haosun/Documents/WG_Reasearch_Assisstant/Fusion/Project/test/LDREF/1000G.EUR.13.bed',\n",
       " '14': '/Users/haosun/Documents/WG_Reasearch_Assisstant/Fusion/Project/test/LDREF/1000G.EUR.14.bed',\n",
       " '15': '/Users/haosun/Documents/WG_Reasearch_Assisstant/Fusion/Project/test/LDREF/1000G.EUR.15.bed',\n",
       " '16': '/Users/haosun/Documents/WG_Reasearch_Assisstant/Fusion/Project/test/LDREF/1000G.EUR.16.bed',\n",
       " '17': '/Users/haosun/Documents/WG_Reasearch_Assisstant/Fusion/Project/test/LDREF/1000G.EUR.17.bed',\n",
       " '18': '/Users/haosun/Documents/WG_Reasearch_Assisstant/Fusion/Project/test/LDREF/1000G.EUR.18.bed',\n",
       " '19': '/Users/haosun/Documents/WG_Reasearch_Assisstant/Fusion/Project/test/LDREF/1000G.EUR.19.bed',\n",
       " '20': '/Users/haosun/Documents/WG_Reasearch_Assisstant/Fusion/Project/test/LDREF/1000G.EUR.20.bed',\n",
       " '21': '/Users/haosun/Documents/WG_Reasearch_Assisstant/Fusion/Project/test/LDREF/1000G.EUR.21.bed',\n",
       " '22': '/Users/haosun/Documents/WG_Reasearch_Assisstant/Fusion/Project/test/LDREF/1000G.EUR.22.bed',\n",
       " '23': '/Users/haosun/Documents/WG_Reasearch_Assisstant/Fusion/Project/test/LDREF/1000G.EUR.23.bed'}"
      ]
     },
     "execution_count": 5,
     "metadata": {},
     "output_type": "execute_result"
    }
   ],
   "source": []
  },
  {
   "cell_type": "code",
   "execution_count": null,
   "metadata": {
    "kernel": "Bash"
   },
   "outputs": [],
   "source": []
  },
  {
   "cell_type": "code",
   "execution_count": null,
   "metadata": {
    "kernel": "Bash"
   },
   "outputs": [],
   "source": []
  },
  {
   "cell_type": "code",
   "execution_count": 10,
   "metadata": {
    "kernel": "Python3"
   },
   "outputs": [
    {
     "data": {
      "text/plain": [
       "{'chr': 'dir',\n",
       " '1': '/Users/haosun/Documents/WG_Reasearch_Assisstant/Fusion/Project/test/LDREF/1000G.EUR.1.bed',\n",
       " '2': '/Users/haosun/Documents/WG_Reasearch_Assisstant/Fusion/Project/test/LDREF/1000G.EUR.2.bed',\n",
       " '3': '/Users/haosun/Documents/WG_Reasearch_Assisstant/Fusion/Project/test/LDREF/1000G.EUR.3.bed',\n",
       " '4': '/Users/haosun/Documents/WG_Reasearch_Assisstant/Fusion/Project/test/LDREF/1000G.EUR.4.bed',\n",
       " '5': '/Users/haosun/Documents/WG_Reasearch_Assisstant/Fusion/Project/test/LDREF/1000G.EUR.5.bed',\n",
       " '6': '/Users/haosun/Documents/WG_Reasearch_Assisstant/Fusion/Project/test/LDREF/1000G.EUR.6.bed',\n",
       " '7': '/Users/haosun/Documents/WG_Reasearch_Assisstant/Fusion/Project/test/LDREF/1000G.EUR.7.bed',\n",
       " '8': '/Users/haosun/Documents/WG_Reasearch_Assisstant/Fusion/Project/test/LDREF/1000G.EUR.8.bed',\n",
       " '9': '/Users/haosun/Documents/WG_Reasearch_Assisstant/Fusion/Project/test/LDREF/1000G.EUR.9.bed',\n",
       " '10': '/Users/haosun/Documents/WG_Reasearch_Assisstant/Fusion/Project/test/LDREF/1000G.EUR.10.bed',\n",
       " '11': '/Users/haosun/Documents/WG_Reasearch_Assisstant/Fusion/Project/test/LDREF/1000G.EUR.11.bed',\n",
       " '12': '/Users/haosun/Documents/WG_Reasearch_Assisstant/Fusion/Project/test/LDREF/1000G.EUR.12.bed',\n",
       " '13': '/Users/haosun/Documents/WG_Reasearch_Assisstant/Fusion/Project/test/LDREF/1000G.EUR.13.bed',\n",
       " '14': '/Users/haosun/Documents/WG_Reasearch_Assisstant/Fusion/Project/test/LDREF/1000G.EUR.14.bed',\n",
       " '15': '/Users/haosun/Documents/WG_Reasearch_Assisstant/Fusion/Project/test/LDREF/1000G.EUR.15.bed',\n",
       " '16': '/Users/haosun/Documents/WG_Reasearch_Assisstant/Fusion/Project/test/LDREF/1000G.EUR.16.bed',\n",
       " '17': '/Users/haosun/Documents/WG_Reasearch_Assisstant/Fusion/Project/test/LDREF/1000G.EUR.17.bed',\n",
       " '18': '/Users/haosun/Documents/WG_Reasearch_Assisstant/Fusion/Project/test/LDREF/1000G.EUR.18.bed',\n",
       " '19': '/Users/haosun/Documents/WG_Reasearch_Assisstant/Fusion/Project/test/LDREF/1000G.EUR.19.bed',\n",
       " '20': '/Users/haosun/Documents/WG_Reasearch_Assisstant/Fusion/Project/test/LDREF/1000G.EUR.20.bed',\n",
       " '21': '/Users/haosun/Documents/WG_Reasearch_Assisstant/Fusion/Project/test/LDREF/1000G.EUR.21.bed',\n",
       " '22': '/Users/haosun/Documents/WG_Reasearch_Assisstant/Fusion/Project/test/LDREF/1000G.EUR.22.bed',\n",
       " '23': '/Users/haosun/Documents/WG_Reasearch_Assisstant/Fusion/Project/test/LDREF/1000G.EUR.23.bed'}"
      ]
     },
     "execution_count": 10,
     "metadata": {},
     "output_type": "execute_result"
    }
   ],
   "source": []
  },
  {
   "cell_type": "code",
   "execution_count": 40,
   "metadata": {
    "kernel": "Python3"
   },
   "outputs": [],
   "source": []
  },
  {
   "cell_type": "code",
   "execution_count": 53,
   "metadata": {
    "kernel": "Python3"
   },
   "outputs": [
    {
     "data": {
      "text/plain": [
       "'/Users/haosun/Documents/WG_Reasearch_Assisstant/Fusion/Project/test/LDREF/1000G.EUR.3.bed'"
      ]
     },
     "execution_count": 53,
     "metadata": {},
     "output_type": "execute_result"
    }
   ],
   "source": []
  },
  {
   "cell_type": "code",
   "execution_count": 55,
   "metadata": {
    "kernel": "Python3"
   },
   "outputs": [
    {
     "data": {
      "text/plain": [
       "False"
      ]
     },
     "execution_count": 55,
     "metadata": {},
     "output_type": "execute_result"
    }
   ],
   "source": []
  },
  {
   "cell_type": "code",
   "execution_count": 41,
   "metadata": {
    "kernel": "Python3"
   },
   "outputs": [
    {
     "data": {
      "text/plain": [
       "False"
      ]
     },
     "execution_count": 41,
     "metadata": {},
     "output_type": "execute_result"
    }
   ],
   "source": []
  },
  {
   "cell_type": "code",
   "execution_count": 98,
   "metadata": {
    "kernel": "SoS"
   },
   "outputs": [
    {
     "name": "stdout",
     "output_type": "stream",
     "text": [
      "/Users/haosun/Documents/WG_Reasearch_Assisstant/Fusion/Project/Updated/Working/cache/gene_exp_file.ENSG00000183308.6\n"
     ]
    }
   ],
   "source": []
  },
  {
   "cell_type": "code",
   "execution_count": 88,
   "metadata": {
    "kernel": "SoS"
   },
   "outputs": [
    {
     "data": {
      "text/plain": [
       "7"
      ]
     },
     "execution_count": 88,
     "metadata": {},
     "output_type": "execute_result"
    }
   ],
   "source": []
  },
  {
   "cell_type": "code",
   "execution_count": 82,
   "metadata": {
    "kernel": "SoS"
   },
   "outputs": [
    {
     "data": {
      "text/plain": [
       "'7\\n6\\n2\\n3\\n5\\n1\\n2\\n4\\n3\\n1\\n7\\n1\\n6\\n1\\n4\\n6\\n2\\n5\\n2\\n7\\n6\\n2\\n6\\n7\\n1\\n6\\n4\\n7\\n'"
      ]
     },
     "execution_count": 82,
     "metadata": {},
     "output_type": "execute_result"
    }
   ],
   "source": []
  },
  {
   "cell_type": "code",
   "execution_count": null,
   "metadata": {
    "kernel": "SoS"
   },
   "outputs": [],
   "source": []
  }
 ],
 "metadata": {
  "kernelspec": {
   "display_name": "SoS",
   "language": "sos",
   "name": "sos"
  },
  "language_info": {
   "codemirror_mode": "sos",
   "file_extension": ".sos",
   "mimetype": "text/x-sos",
   "name": "sos",
   "nbconvert_exporter": "sos_notebook.converter.SoS_Exporter",
   "pygments_lexer": "sos"
  },
  "sos": {
   "kernels": [
    [
     "Bash",
     "calysto_bash",
     "Bash",
     "#E6EEFF",
     ""
    ],
    [
     "Python3",
     "python3",
     "Python3",
     "#FFD91A",
     {
      "name": "ipython",
      "version": 3
     }
    ],
    [
     "R",
     "ir",
     "R",
     "#DCDCDA",
     "r"
    ],
    [
     "SoS",
     "sos",
     "",
     "",
     "sos"
    ]
   ],
   "version": "0.20.1"
  }
 },
 "nbformat": 4,
 "nbformat_minor": 4
}
