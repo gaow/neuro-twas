{
 "cells": [
  {
   "cell_type": "markdown",
   "metadata": {
    "kernel": "SoS"
   },
   "source": [
    "# Name Change\n",
    "## Aim\n",
    "\n",
    "The aim of this pipeline is to change the header of gene expression file based on a reference file that are made externally. \n",
    "\n",
    "An example of the pipeline running is shown below"
   ]
  },
  {
   "cell_type": "code",
   "execution_count": 1,
   "metadata": {
    "kernel": "Bash"
   },
   "outputs": [
    {
     "name": "stderr",
     "output_type": "stream",
     "text": [
      "Keyboard Interrupt\n"
     ]
    }
   ],
   "source": [
    "SOS run /Users/haosun/Documents/WG_Reasearch_Assisstant/GIT/freshcopy/neuro-twas/Workflow/SOS_ROSMAP_gene_exp_processing.ipynb \\\n",
    "    --ref \"/Users/haosun/Documents/WG_Reasearch_Assisstant/Rosmap/Data/new_gene_keys_WGS_plink.txt\" \\\n",
    "    --name_col 2 \\\n",
    "    --real_name_col 1 \\\n",
    "    --gene_exp \"/Users/haosun/Documents/WG_Reasearch_Assisstant/Rosmap/Data/gene_exp/geneCountsResidualsPlusBaselineAgeGenderAdj.txt\" \\\n",
    "    --start_at 2 \\\n",
    "    --output \"/Users/haosun/Documents/WG_Reasearch_Assisstant/Rosmap/Data/gene_exp/\" \\\n",
    "    -j 2"
   ]
  },
  {
   "cell_type": "code",
   "execution_count": 71,
   "metadata": {
    "kernel": "Bash"
   },
   "outputs": [
    {
     "name": "stdout",
     "output_type": "stream",
     "text": [
      "/Users/haosun/Documents/WG_Reasearch_Assisstant/GIT/twas-dev/WIP/pipeline_prototype\n",
      "\n"
     ]
    }
   ],
   "source": []
  },
  {
   "cell_type": "code",
   "execution_count": 73,
   "metadata": {
    "kernel": "SoS"
   },
   "outputs": [],
   "source": [
    "[global]\n",
    "# This pipeline changes the patient names of a gene_exp file based on a index reference file \n",
    "parameter: ref = \"/Users/haosun/Documents/WG_Reasearch_Assisstant/Rosmap/Data/new_gene_keys_plink.txt\"\n",
    "# A table contaiing the patient ID in the gene_exp file and the patient ID in the plink file\n",
    "parameter: name_col = 2\n",
    "# Column position that specify the header of gene_exp in the index\n",
    "parameter: real_name_col = 1\n",
    "# Column position that specify the plink patient ID in the index\n",
    "parameter: gene_exp = \"/Users/haosun/Documents/WG_Reasearch_Assisstant/Rosmap/Data/gene_exp/geneCountsResidualsPlusBaselineAgeGenderAdj.txt\"\n",
    "# the patient ID to be changed\n",
    "parameter: start_at = 2\n",
    "# the column where the patient ID start\n",
    "\n",
    "parameter: output = \"/Users/haosun/Documents/WG_Reasearch_Assisstant/Rosmap/Data/\"\n",
    "# where to store the output file\n",
    "\n",
    "# change the name of gene_exp, save the modified expression file and the file containing the patients ID whose genotype information are absent.\n",
    "[Processing_1]\n",
    "input: ref, gene_exp\n",
    "output: f'{output}/{_input[1]:bn}_rename.txt',\n",
    "        f'{output}/{_input[1]:bn}_discardID.txt'\n",
    "task: trunk_workers = 1, trunk_size = 1, walltime = '4h',  mem = '6G', tags = f'{step_name}_{_output[0]:bn}'\n",
    "R:  expand= \"$[ ]\" , stderr = f'{_output[1]:n}.stderr', stdout = f'{_output[1]:n}.stdout'\n",
    "    library(dplyr)\n",
    "    gene_exp = readr::read_delim(\"$[_input[1]]\",delim = \" \")\n",
    "    index = readr::read_delim(\"$[_input[0]]\",delim = \"\\t\")\n",
    "    name = data.frame(Name = index%>%pull(colnames(index)[$[name_col]]),Real_name = index%>%pull(colnames(index)[$[real_name_col]]))\n",
    "    df = gene_exp[,$[start_at]:ncol(gene_exp)]\n",
    "    pos = match(colnames(df), name$Name%>%as.character())%>%na.omit()\n",
    "    df = df %>%\n",
    "      select_at(as.character(name$Name[pos]), \n",
    "                ~as.character((name$Real_name[pos])))\n",
    "    final = cbind(gene_exp[,1:$[start_at]-1],df)\n",
    "    final%>%readr::write_tsv( path = \"$[_output[0]]\", na = \"NA\", append = FALSE, col_names = TRUE, quote_escape = \"double\")\n",
    "    name$Name[attr(pos,\"na.action\")]%>%cat(file = \"$[_output[1]]\", sep = \" \")\n",
    "\n",
    "# add position to gene_ID based on ensembl \n",
    "[Processing_2]\n",
    "input: group_by = 2\n",
    "output: f'{output}/{_input[0]:bn}_region_list.txt'\n",
    "task: trunk_workers = 1, trunk_size = 1, walltime = '4h',  mem = '6G', tags = f'{step_name}_{_output[0]:bn}'\n",
    "R:  expand= \"$[ ]\", stderr = f'{_output:n}.stderr', stdout = f'{_output:n}.stdout'\n",
    "    library(\"biomaRt\")\n",
    "    library(dplyr)\n",
    "    gene_exp = readr::read_delim(\"$[_input[0]]\",delim = \"\\t\")\n",
    "    ensembl = useDataset(\"hsapiens_gene_ensembl\",mart=useMart(\"ENSEMBL_MART_ENSEMBL\"))\n",
    "    ensembl_df <- getBM(attributes=c(\"ensembl_gene_id\",\"chromosome_name\", \"start_position\", \"end_position\"),mart=ensembl)\n",
    "    my_genes = gene_exp$gene_ID\n",
    "    my_genes_ann = ensembl_df[match(my_genes, ensembl_df$ensembl_gene_id),]%>%dplyr::select( \"#chr\" = chromosome_name, start_position, end_position,\"gene_ID\" = ensembl_gene_id)%>%filter(gene_ID!=\"NA\")\n",
    "    my_genes_ann%>%readr::write_tsv( path = \"$[_output]\", na = \"NA\", append = FALSE, col_names = TRUE, quote_escape = \"double\")"
   ]
  }
 ],
 "metadata": {
  "kernelspec": {
   "display_name": "SoS",
   "language": "sos",
   "name": "sos"
  },
  "language_info": {
   "codemirror_mode": "sos",
   "file_extension": ".sos",
   "mimetype": "text/x-sos",
   "name": "sos",
   "nbconvert_exporter": "sos_notebook.converter.SoS_Exporter",
   "pygments_lexer": "sos"
  },
  "sos": {
   "kernels": [
    [
     "Bash",
     "calysto_bash",
     "Bash",
     "#E6EEFF",
     ""
    ],
    [
     "Python3",
     "python3",
     "Python3",
     "#FFD91A",
     {
      "name": "ipython",
      "version": 3
     }
    ],
    [
     "R",
     "ir",
     "R",
     "#DCDCDA",
     "r"
    ],
    [
     "SoS",
     "sos",
     "",
     "",
     "sos"
    ]
   ],
   "version": "0.20.1"
  }
 },
 "nbformat": 4,
 "nbformat_minor": 4
}
