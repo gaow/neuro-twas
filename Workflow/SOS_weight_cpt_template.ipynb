{
 "cells": [
  {
   "cell_type": "markdown",
   "metadata": {
    "kernel": "SoS"
   },
   "source": [
    "# Expression weight computation\n",
    "## Aim\n",
    "To Compute association between expression and SNP for TWAS analysis.\n",
    "## Pre-requisites\n",
    "Make sure you install the following software before running this notebook:\n",
    "GCTA (gcta_1.93.2beta_mac)\n",
    "PLINK (plink_mac_20200616)\n",
    "GEMMA\n",
    "Modified Fusion.compute_weights.R scripts that downloaded from this github repo.\n",
    "## Note\n",
    "Possibily due to paralle tasking issues. For every dataset, the first run will likely skip some random genes and produce errors message. Simply rerun the script untill no error message promt will eventually produce the desired output.\n"
   ]
  },
  {
   "cell_type": "markdown",
   "metadata": {
    "kernel": "SoS"
   },
   "source": [
    "# Input and Output\n",
    "## Input\n",
    "--Datafile, including a gene expression table with gene name as rows and sample as column. Each gene also required at least one column specifing the chr and pos(or alternatively Start and End position), the chr column shall have the same formation as how the chromosome are specified in the genotype file. The sample names shall be the same as the sample ID in the genotype file. \n",
    "\n",
    "--geno-path, the path of a genotype inventory, which lists the path of all genotype file in bgen format or in plink format.\n",
    "\n",
    "--LDREF, path to the genotype inventory, list the path of all genotype file in plink format.\n",
    "--PRE_GENO The prefix of the genotype file, up to the chromosome name.\n",
    "\n",
    "--window the region span from the specify start and end site. If the gene expression only have one position column, set the window to a large number like 5E5.\n",
    "\n",
    "## Output\n",
    "\n",
    "-- .wgt.Rdat The actualy weight data that are computed\n",
    "\n",
    "-- .hsq the file containing the heritibality information for the genes\n",
    "\n",
    "-- .All_passed_gene.hsq the file that containing the heritibality information for all the genes in this run\n",
    "\n",
    "\n",
    " \n",
    "\n",
    "\n",
    "\n",
    "\n",
    "\n",
    "\n"
   ]
  },
  {
   "cell_type": "markdown",
   "metadata": {
    "kernel": "SoS"
   },
   "source": [
    "# Command interface "
   ]
  },
  {
   "cell_type": "code",
   "execution_count": 10,
   "metadata": {
    "kernel": "Bash"
   },
   "outputs": [
    {
     "name": "stdout",
     "output_type": "stream",
     "text": [
      "usage: sos run SOS_weight_cpt_template.ipynb\n",
      "               [workflow_name | -t targets] [options] [workflow_options]\n",
      "  workflow_name:        Single or combined workflows defined in this script\n",
      "  targets:              One or more targets to generate\n",
      "  options:              Single-hyphen sos parameters (see \"sos run -h\" for details)\n",
      "  workflow_options:     Double-hyphen workflow-specific parameters\n",
      "\n",
      "Workflows:\n",
      "  STEP\n",
      "\n",
      "Global Workflow Options:\n",
      "  --GCTA '/Users/haosun/Documents/WG_Reasearch_Assisstant/Fusion/install/fusion_twas-master/gcta_1.93.2beta_mac/gcta64'\n",
      "                        !/bin/sh MAKE SURE FUSION.compute_weights.R IS IN YOUR\n",
      "                        PATH FILL IN THESE PATHS For mac user, the mac version\n",
      "                        of GCTA shall be downloaded saperately, the one came\n",
      "                        with the Fusion package will not work.\n",
      "  --PLINK '/Users/haosun/Documents/WG_Reasearch_Assisstant/Fusion/plink_mac_20200616/plink'\n",
      "  --GEMMA '/Users/haosun/Documents/WG_Reasearch_Assisstant/Fusion/install/fusion_twas-master/GEMMA'\n",
      "  --Rscp '/Users/haosun/Documents/WG_Reasearch_Assisstant/Fusion/install/fusion_twas-master/FUSION.compute_weights.mod.R'\n",
      "                        Required the customized fusion.compute_weight.mod.R\n",
      "                        script, other wise will not work\n",
      "  --Datafile '/Users/haosun/Documents/WG_Reasearch_Assisstant/Fusion/install/fusion_twas-master/Testing/Data/GD462.hsq_succ.test.txt'\n",
      "                        Path to the input data,must include the name of the file\n",
      "                        itself\n",
      "  --wd VAL (as path, required)\n",
      "                        PATH TO WORKING DIRECTORY\n",
      "  --LDREF VAL (as path, required)\n",
      "                        PATH TO DIRECTORY CONTAINING LDREF DATA (FROM FUSION\n",
      "                        WEBSITE or https://data.broadinstitute.org/alkesgroup/FU\n",
      "                        SION/LDREF.tar.bz2)\n",
      "  --PRE-GENO VAL (as path, required)\n",
      "                        PATH TO PREFIX FOR GEUVADIS GENOTYPES SPLIT BY\n",
      "                        CHROMOSOME SUBSAMPLE THESE TO THE LDREF SNPS FOR\n",
      "                        EFFICIENCY\n",
      "  --chrm 3 (as int)\n",
      "                        Specify the column in the genexpression file that\n",
      "                        contains chromosome\n",
      "  --pos 4 (as int)\n",
      "                        Specify the column in the genexpression file that\n",
      "                        contains the position of the gene\n",
      "  --start VAL (as int, required)\n",
      "                        If both the start and end region are specified, then\n",
      "                        their column can be specified saperately\n",
      "  --end VAL (as int, required)\n",
      "  --gname 1 (as int)\n",
      "                        Specify the column in the genexpression file that\n",
      "                        contains the name of the gene\n",
      "  --window 50000 (as int)\n",
      "                        Specify the scanning window for the gene position, set\n",
      "                        default to 50000 if start = end\n",
      "\n",
      "Sections\n",
      "  STEP_1:\n",
      "  STEP_2:\n",
      "\n"
     ]
    }
   ],
   "source": [
    "sos run SOS_weight_cpt_template.ipynb -h"
   ]
  },
  {
   "cell_type": "markdown",
   "metadata": {
    "kernel": "SoS"
   },
   "source": [
    "# Working example\n",
    "On a minimal working example (MWE) dataset that can be downloaded from the private repo:\n",
    "    https://github.com/cumc/neuro-twas/blob/master/WIP/GD462.hsq_succ.test.txt \n",
    "    The LDREF data can be downloaded from the Fusion official website.\n",
    "\n",
    "    ## Test pipeline with example datas\n",
    "    sos run SOS_weight_cpt_template.ipynb \\\n",
    "      --GCTA \"/Users/haosun/Documents/WG_Reasearch_Assisstant/Fusion/install/fusion_twas-master/gcta_1.93.2beta_mac/gcta64\" \\\n",
    "      --PLINK `which plink` \\\n",
    "      --GEMMA `which gemma` \\\n",
    "      --Rscp  \"/Users/haosun/Documents/WG_Reasearch_Assisstant/Fusion/install/fusion_twas-master/FUSION.compute_weights.mod.R\" \\\n",
    "      --Datafile \"/Users/haosun/Documents/WG_Reasearch_Assisstant/Fusion/install/fusion_twas-master/Testing/Data/GD462.hsq_succ.test.txt\" \\\n",
    "      --wd  \"/Users/haosun/Documents/WG_Reasearch_Assisstant/Fusion/install/fusion_twas-master/SOS\" \\\n",
    "      --OUT_DIR \"./\" \\\n",
    "      --LDREF  \"/Users/haosun/Documents/WG_Reasearch_Assisstant/Fusion/install/fusion_twas-master/LDREF\" \\\n",
    "      --PRE_GENO \"1000G.EUR\""
   ]
  },
  {
   "cell_type": "markdown",
   "metadata": {
    "kernel": "SoS"
   },
   "source": [
    "# Global parameter settings\n",
    "The section outlined the parameters that can be set in the command interface."
   ]
  },
  {
   "cell_type": "code",
   "execution_count": 8,
   "metadata": {
    "kernel": "SoS"
   },
   "outputs": [],
   "source": [
    "[global]\n",
    "##!/bin/sh\n",
    "# MAKE SURE FUSION.compute_weights.R IS IN YOUR PATH\n",
    "# FILL IN THESE PATHS\n",
    "# For mac user, the mac version of GCTA shall be downloaded saperately, the one came with the Fusion package will not work.\n",
    "parameter: GCTA = \"/Users/haosun/Documents/WG_Reasearch_Assisstant/Fusion/install/fusion_twas-master/gcta_1.93.2beta_mac/gcta64\"\n",
    "parameter: PLINK = \"/Users/haosun/Documents/WG_Reasearch_Assisstant/Fusion/plink_mac_20200616/plink\"\n",
    "parameter: GEMMA = \"/Users/haosun/Documents/WG_Reasearch_Assisstant/Fusion/install/fusion_twas-master/GEMMA\"\n",
    "\n",
    "# Required the customized fusion.compute_weight.mod.R script, other wise will not work\n",
    "parameter: Rscp = \"/Users/haosun/Documents/WG_Reasearch_Assisstant/Fusion/install/fusion_twas-master/FUSION.compute_weights.mod.R\"\n",
    "# Path to the input data,must include the name of the file itself\n",
    "parameter: Datafile = \"/Users/haosun/Documents/WG_Reasearch_Assisstant/Fusion/install/fusion_twas-master/Testing/Data/GD462.hsq_succ.test.txt\"\n",
    "# ALTERNATIVELY: ENSURE THAT plink, gcta, gemma CAN BE CALLED FROM PATH AND REMOVE --PATH_* FLAGS BELOW\n",
    "\n",
    "# PATH TO WORKING DIRECTORY\n",
    "parameter: wd = path\n",
    "\n",
    "# PATH TO DIRECTORY CONTAINING LDREF DATA (FROM FUSION WEBSITE or https://data.broadinstitute.org/alkesgroup/FUSION/LDREF.tar.bz2)\n",
    "parameter: LDREF = path\n",
    "# THIS IS USED TO RESTRICT INPUT SNPS TO REFERENCE IDS ONLY\n",
    "\n",
    "\n",
    "# GEUVADIS DATA WAS DOWNLOADED FROM https://www.ebi.ac.uk/arrayexpress/experiments/E-GEUV-1/files/analysis_results/\n",
    "\n",
    "# PATH TO PREFIX FOR GEUVADIS GENOTYPES SPLIT BY CHROMOSOME\n",
    "# SUBSAMPLE THESE TO THE LDREF SNPS FOR EFFICIENCY\n",
    "parameter: PRE_GENO = path\n",
    "\n",
    "# Specify the column in the genexpression file that contains chromosome\n",
    "parameter: chrm = 3\n",
    "# Specify the column in the genexpression file that contains the position of the gene\n",
    "parameter: pos = 4\n",
    "# If both the start and end region are specified, then their column can be specified saperately\n",
    "parameter: start = int\n",
    "parameter: end = int\n",
    "\n",
    "# Specify the column in the genexpression file that contains the name of the gene\n",
    "parameter: gname = 1\n",
    "\n",
    "# Specify the scanning window for the gene position, set default to 50000 if start = end\n",
    "parameter: window = 50000\n",
    "\n",
    "\n",
    "# Get the gene information from the result file\n",
    "data = list(set([tuple(x.strip().split()) for x in open(Datafile).readlines()[1:] if x.strip()]))\n",
    "geneinfo = [item[0:4] for item in data]\n",
    "geneinfo = geneinfo[1:50]\n",
    "\n"
   ]
  },
  {
   "cell_type": "markdown",
   "metadata": {
    "kernel": "SoS"
   },
   "source": [
    "# Actual pipeline\n",
    "## Data preping\n",
    "This section prepare two primers for the actual computation. \n",
    "1. The gene expression pheno type, a three column table for each genes, with the first two columns specifing the family ID and within family ID of the samples. In the current case where all samples are unrelated, the first two columns are simply sample ID. The third column is the actual gene expression value.\n",
    "\n",
    "2. The plink trio file for each specific genes, containing only the snps corresponding th the regions whose expression are recorded. In particular, the snp are filtered according to the genetics regions outlined by Position+/-windows."
   ]
  },
  {
   "cell_type": "code",
   "execution_count": 102,
   "metadata": {
    "kernel": "SoS"
   },
   "outputs": [],
   "source": [
    "# Make folder structure for the pipeline\n",
    "[STEP_1]\n",
    "input: Datafile, for_each = \"geneinfo\"\n",
    "output: f'{wd}/{_input:nb}_per_gene/{_input:nb}.{_geneinfo[gname-1]}.txt',\n",
    "        f'{wd}/tmp/{_input:nb}.{_geneinfo[gname-1]}.pheno',\n",
    "        f'{wd}/tmp/{_input:nb}.{_geneinfo[gname-1]}.bed',\n",
    "        f'{wd}/tmp/{_input:nb}.{_geneinfo[gname-1]}.bim',\n",
    "        f'{wd}/tmp/{_input:nb}.{_geneinfo[gname-1]}.fam'\n",
    "bash: expand= \"$[ ]\", stderr = f'{_output[1]:n}.stderr', stdout = f'{_output[1]:n}.stdout'\n",
    "    cd $[wd]\n",
    "    echo $[_geneinfo[gname-1]]\n",
    "    #NR=\"$[BATCH_START]_$[BATCH_END]\"\n",
    "    ##extract all the paitent names\n",
    "    head -1 $[_input] | awk '{$1=$2=$3=$4=\"\"; print substr($0,4)}' | fmt -1 > PRE_GEXPID\n",
    "    # extract each gene from the data matrixs to a file\n",
    "    cat $[_input] | grep $[_geneinfo[gname-1]] |  while read PARAM; do\n",
    "    echo $PARAM > $[_output[0]]\n",
    "    done\n",
    "\n",
    "    CHR=`echo $[_geneinfo[chrm-1]] `\n",
    "    P0=`echo $[_geneinfo[start-1]] | awk '{ print $0 - $[window] }'`\n",
    "    P1=`echo $[_geneinfo[end-1]] | awk '{ print $0 + $[window] }'`\n",
    "    GNAME=`echo $[_geneinfo[gname-1]] `\n",
    "    OUTpheno=$[_output[1]]\n",
    "    cat $[_input] | grep $[_geneinfo[gname-1]] | tr '\\t' '\\n' | tail -n+5 | paste PRE_GEXPID PRE_GEXPID - > $OUTpheno\n",
    "    OUT=$[_output[1]:n]\n",
    "    #echo $OUT\n",
    "    #echo $OUTpheno\n",
    "    ### Get the locus genotypes for all samples and set current gene expression as the phenotype\n",
    "    $[PLINK] --bfile $[LDREF]/$[PRE_GENO].$CHR \\\n",
    "    --pheno $OUTpheno \\\n",
    "    --make-bed \\\n",
    "    --out $OUT \\\n",
    "    --chr $CHR \\\n",
    "    --from-bp $P0 \\\n",
    "    --to-bp $P1 \\\n",
    "    --extract $[LDREF]/$[PRE_GENO].$CHR.bim \\\n",
    "    --keep $OUTpheno \\\n",
    "    --allow-no-sex"
   ]
  },
  {
   "cell_type": "code",
   "execution_count": null,
   "metadata": {
    "kernel": "SoS"
   },
   "outputs": [],
   "source": [
    "# Actually computing the weight using"
   ]
  },
  {
   "cell_type": "code",
   "execution_count": 88,
   "metadata": {
    "kernel": "SoS"
   },
   "outputs": [],
   "source": [
    "#Actual weight computation analysis\n",
    "[STEP_2]\n",
    "input: group_by = 5\n",
    "output: f'{wd}/WEIGHTS/{_input[0]:bn}.wgt.RDat',\n",
    "        f'{wd}/WEIGHTS/{_input[1]:bn}.hsq'\n",
    "bash: expand= \"$[ ]\"\n",
    "    cd $[wd]\n",
    "    #echo $[_input[0]:bn]\n",
    "    #echo $[_output[1]:n]\n",
    "    Rscript $[Rscp] \\\n",
    "    --bfile $[_input[1]:n] \\\n",
    "    --tmp $[_input[1]:n].tmp \\\n",
    "    --out ./WEIGHTS/$[_output[1]:bn] \\\n",
    "    --verbose 0 \\\n",
    "    --save_hsq \\\n",
    "    --PATH_gcta $[GCTA] \\\n",
    "    --PATH_gemma $[GEMMA] \\\n",
    "    --models blup,lasso,top1,enet\n",
    "    #\n",
    "    ## Append heritability output to hsq file\n",
    "    cat $[_output[1]] >> All_passed_gene.hsq\n",
    "    #\n",
    "    ## Clean-up just in case\n",
    "    #rm -f $FINAL_OUT.hsq $OUT.tmp.*\n",
    "    #\n",
    "    # Remove all intermediate files\n",
    "    echo \"end of circle\""
   ]
  },
  {
   "cell_type": "code",
   "execution_count": 100,
   "metadata": {
    "kernel": "SoS"
   },
   "outputs": [],
   "source": []
  },
  {
   "cell_type": "code",
   "execution_count": null,
   "metadata": {
    "kernel": "SoS"
   },
   "outputs": [],
   "source": []
  },
  {
   "cell_type": "code",
   "execution_count": null,
   "metadata": {
    "kernel": "SoS"
   },
   "outputs": [],
   "source": []
  }
 ],
 "metadata": {
  "kernelspec": {
   "display_name": "SoS",
   "language": "sos",
   "name": "sos"
  },
  "language_info": {
   "codemirror_mode": "sos",
   "file_extension": ".sos",
   "mimetype": "text/x-sos",
   "name": "sos",
   "nbconvert_exporter": "sos_notebook.converter.SoS_Exporter",
   "pygments_lexer": "sos"
  },
  "sos": {
   "kernels": [
    [
     "Bash",
     "calysto_bash",
     "Bash",
     "#E6EEFF",
     ""
    ],
    [
     "SoS",
     "sos",
     "",
     "",
     "sos"
    ]
   ],
   "version": "0.20.1"
  }
 },
 "nbformat": 4,
 "nbformat_minor": 4
}
