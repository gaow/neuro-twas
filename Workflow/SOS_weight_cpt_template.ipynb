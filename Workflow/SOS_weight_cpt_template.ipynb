{
 "cells": [
  {
   "cell_type": "markdown",
   "metadata": {
    "kernel": "SoS"
   },
   "source": [
    "# Expression weight computation\n",
    "## Aim\n",
    "To Compute association between expression and SNP for TWAS analysis.\n",
    "## Pre-requisites\n",
    "Make sure you install the following software before running this notebook:\n",
    "GCTA (gcta_1.93.2beta_mac)\n",
    "PLINK (plink_mac_20200616)\n",
    "GEMMA\n",
    "Modified Fusion.compute_weights.R scripts that downloaded from this github repo.\n",
    "## Note\n",
    "Possibily due to paralle tasking issues. For every dataset, the first run will likely skip some random genes and produce errors message. Simply rerun the script untill no error message promt will eventually produce the desired output.\n"
   ]
  },
  {
   "cell_type": "markdown",
   "metadata": {
    "kernel": "SoS"
   },
   "source": [
    "# Input and Output\n",
    "## Input\n",
    "--gene_exp_file, including a gene expression table with gene name as rows and sample as column. Each gene also required at least one column specifing the chr and pos(or alternatively Start and End position), the chr column shall have the same formation as how the chromosome are specified in the genotype file. The sample names shall be the same as the sample ID in the genotype file. \n",
    "\n",
    "--geno-path, the path of a genotype inventory, which lists the path of all genotype file in bgen format or in plink format.\n",
    "\n",
    "--genotype_file_directory, path to the genotype inventory, list the path of all genotype file in plink format.\n",
    "--genotype_prefix The prefix of the genotype file, up to the chromosome name.\n",
    "\n",
    "--window the region span from the specify start and end site. If the gene expression only have one position column, set the window to a large number like 5E5.\n",
    "\n",
    "## Output\n",
    "\n",
    "-- .wgt.Rdat The actualy weight data that are computed\n",
    "\n",
    "-- .hsq the file containing the heritibality information for the genes\n",
    "\n",
    "-- .All_passed_gene.hsq the file that containing the heritibality information for all the genes in this run\n",
    "\n",
    "\n",
    " \n",
    "\n",
    "\n",
    "\n",
    "\n",
    "\n",
    "\n"
   ]
  },
  {
   "cell_type": "markdown",
   "metadata": {
    "kernel": "SoS"
   },
   "source": [
    "# Command interface "
   ]
  },
  {
   "cell_type": "code",
   "execution_count": 1,
   "metadata": {
    "kernel": "Bash"
   },
   "outputs": [
    {
     "name": "stdout",
     "output_type": "stream",
     "text": [
      "FUSION.compute_weights.R          SOS_weight_cpt_template_mod.ipynb\n",
      "SOS_weight_cpt_template.ipynb\n",
      "usage: sos run SOS_weight_cpt_template.ipynb\n",
      "               [workflow_name | -t targets] [options] [workflow_options]\n",
      "  workflow_name:        Single or combined workflows defined in this script\n",
      "  targets:              One or more targets to generate\n",
      "  options:              Single-hyphen sos parameters (see \"sos run -h\" for details)\n",
      "  workflow_options:     Double-hyphen workflow-specific parameters\n",
      "\n",
      "Workflows:\n",
      "  STEP\n",
      "\n",
      "Global Workflow Options:\n",
      "  --GCTA '/Users/haosun/Documents/WG_Reasearch_Assisstant/Fusion/install/fusion_twas-master/gcta_1.93.2beta_mac/gcta64'\n",
      "                        !/bin/sh MAKE SURE FUSION.compute_weights.R IS IN YOUR\n",
      "                        PATH FILL IN THESE PATHS For mac user, the mac version\n",
      "                        of GCTA shall be downloaded saperately, the one came\n",
      "                        with the Fusion package will not work.\n",
      "  --PLINK '/Users/haosun/Documents/WG_Reasearch_Assisstant/Fusion/plink_mac_20200616/plink'\n",
      "  --GEMMA '/Users/haosun/Documents/WG_Reasearch_Assisstant/Fusion/install/fusion_twas-master/GEMMA'\n",
      "  --compute-weight-rscp '/Users/haosun/Documents/WG_Reasearch_Assisstant/Fusion/install/fusion_twas-master/FUSION.compute_weights.mod.R'\n",
      "                        Required the customized fusion.compute_weight.mod.R\n",
      "                        script, other wise will not work\n",
      "  --gene-exp-file '/Users/haosun/Documents/WG_Reasearch_Assisstant/Fusion/install/fusion_twas-master/Testing/Data/GD462.hsq_succ.test.txt'\n",
      "                        Path to the input data,must include the name of the file\n",
      "                        itself (Phenotype data,)\n",
      "  --wd VAL (as path, required)\n",
      "                        PATH TO WORKING DIRECTORY\n",
      "  --genotype-file-directory VAL (as path, required)\n",
      "                        PATH TO DIRECTORY CONTAINING genotype_file_directory\n",
      "                        DATA (FROM FUSION WEBSITE or https://data.broadinstitute\n",
      "                        .org/alkesgroup/FUSION/genotype_file_directory.tar.bz2)\n",
      "  --genotype-prefix VAL (as path, required)\n",
      "                        PATH TO PREFIX FOR GEUVADIS GENOTYPES SPLIT BY\n",
      "                        CHROMOSOME SUBSAMPLE THESE TO THE\n",
      "                        genotype_file_directory SNPS FOR EFFICIENCY\n",
      "  --chrom 3 (as int)\n",
      "                        Specify the column in the genexpression file that\n",
      "                        contains chromosome\n",
      "  --gene-start VAL (as int, required)\n",
      "                        If both the start and end region are specified, then\n",
      "                        their column can be specified saperately\n",
      "  --gene-end VAL (as int, required)\n",
      "  --gene-name 1 (as int)\n",
      "                        Specify the column in the genexpression file that\n",
      "                        contains the name of the gene\n",
      "  --window 50000 (as int)\n",
      "                        Specify the scanning window for the gene position, set\n",
      "                        default to 50000 if start = end\n",
      "\n",
      "Sections\n",
      "  STEP_1:               Make folder structure for the pipeline\n",
      "  STEP_2:\n",
      "\n"
     ]
    }
   ],
   "source": [
    "ls\n",
    "sos run SOS_weight_cpt_template.ipynb -h"
   ]
  },
  {
   "cell_type": "markdown",
   "metadata": {
    "kernel": "SoS"
   },
   "source": [
    "# Working example\n",
    "On a minimal working example (MWE) dataset that can be downloaded from the private repo:\n",
    "    https://github.com/cumc/neuro-twas/blob/master/WIP/GD462.hsq_succ.test.txt \n",
    "    The genotype_file_directory data can be downloaded from the Fusion official website.\n",
    "\n",
    "    ## Test pipeline with example datas\n",
    "    sos run SOS_weight_cpt_template.ipynb \\\n",
    "      --GCTA \"/Users/haosun/Documents/WG_Reasearch_Assisstant/Fusion/install/fusion_twas-master/gcta_1.93.2beta_mac/gcta64\" \\\n",
    "      --PLINK `which plink` \\\n",
    "      --GEMMA `which gemma` \\\n",
    "      --compute_weight_rscp  \"/Users/haosun/Documents/WG_Reasearch_Assisstant/Fusion/install/fusion_twas-master/FUSION.compute_weights.mod.R\" \\\n",
    "      --gene_exp_file \"/Users/haosun/Documents/WG_Reasearch_Assisstant/Fusion/install/fusion_twas-master/Testing/Data/GD462.hsq_succ.test.txt\" \\\n",
    "      --wd  \"/Users/haosun/Documents/WG_Reasearch_Assisstant/Fusion/install/fusion_twas-master/SOS\" \\\n",
    "      --genotype_file_directory  \"/Users/haosun/Documents/WG_Reasearch_Assisstant/Fusion/install/fusion_twas-master/genotype_file_directory\" \\\n",
    "      --genotype_prefix \"1000G.EUR\""
   ]
  },
  {
   "cell_type": "code",
   "execution_count": 1,
   "metadata": {
    "kernel": "Bash"
   },
   "outputs": [
    {
     "name": "stdout",
     "output_type": "stream",
     "text": [
      "\u001b[91mERROR\u001b[0m: \u001b[91mFailed to execute global statement: [Errno 2] No such file or directory: '/Users/haosun/Documents/WG_Reasearch_Assisstant/Fusion/install/fusion_twas-master/Testing/Data/GD462.hsq_succ.test.txt'\u001b[0m\n",
      "\n"
     ]
    }
   ],
   "source": [
    "   ## Test pipeline with example datas\n",
    "    sos run SOS_weight_cpt_template.ipynb \\\n",
    "      --GCTA \"/Users/haosun/Documents/WG_Reasearch_Assisstant/Fusion/install/fusion_twas-master/gcta_1.93.2beta_mac/gcta64\" \\\n",
    "      --PLINK `which plink` \\\n",
    "      --GEMMA `which gemma` \\\n",
    "      --compute_weight_rscp  \"/Users/haosun/Documents/WG_Reasearch_Assisstant/GIT/twas-dev/Workflow/FUSION.compute_weights.R\" \\\n",
    "      --gene_exp_file \"/Users/haosun/Documents/WG_Reasearch_Assisstant/Fusion/install/fusion_twas-master/Testing/Data/GD462.hsq_succ.test.txt\" \\\n",
    "      --wd  \"/Users/haosun/Documents/WG_Reasearch_Assisstant/Fusion/install/fusion_twas-master/SOS\" \\\n",
    "      --genotype_file_directory  \"/Users/haosun/Documents/WG_Reasearch_Assisstant/Fusion/install/fusion_twas-master/LDREF\" \\\n",
    "      --genotype_prefix \"1000G.EUR\" \\\n",
    "      --gene_start 2 \\\n",
    "      --gene_end 3"
   ]
  },
  {
   "cell_type": "markdown",
   "metadata": {
    "kernel": "SoS"
   },
   "source": [
    "# Global parameter settings\n",
    "The section outlined the parameters that can be set in the command interface."
   ]
  },
  {
   "cell_type": "code",
   "execution_count": 7,
   "metadata": {
    "kernel": "SoS"
   },
   "outputs": [],
   "source": [
    "[global]\n",
    "# MAKE SURE FUSION.compute_weights.R IS IN YOUR PATH\n",
    "# FILL IN THESE PATHS\n",
    "# For mac user, the mac version of GCTA shall be downloaded saperately, the one came with the Fusion package will not work.\n",
    "parameter: GCTA = \"/Users/haosun/Documents/WG_Reasearch_Assisstant/Fusion/install/fusion_twas-master/gcta_1.93.2beta_mac/gcta64\"\n",
    "parameter: PLINK = \"/Users/haosun/Documents/WG_Reasearch_Assisstant/Fusion/plink_mac_20200616/plink\"\n",
    "parameter: GEMMA = \"/Users/haosun/Documents/WG_Reasearch_Assisstant/Fusion/install/fusion_twas-master/GEMMA\"\n",
    "\n",
    "# Required the customized fusion.compute_weight.mod.R script, other wise will not work\n",
    "parameter: compute_weight_rscp = \"/Users/haosun/Documents/WG_Reasearch_Assisstant/Fusion/install/fusion_twas-master/FUSION.compute_weights.mod.R\"\n",
    "\n",
    "Assoc_test_rscp=\"/Documents/WG_Reasearch_Assisstant/Fusion/install/fusion_twas-master/FUSION.assoc_test.R\"\n",
    "\n",
    "\n",
    "\n",
    "\n",
    "\n",
    "# Path to the input data,must include the name of the file itself\n",
    "#(Phenotype data,)\n",
    "parameter: gene_exp_file = \"/Users/haosun/Documents/WG_Reasearch_Assisstant/Fusion/install/fusion_twas-master/Testing/Data/GD462.hsq_succ.test.txt\"\n",
    "#(sumstats data)\n",
    "parameter: sumstat_file = \"\"\n",
    "\n",
    "\n",
    "# PATH TO WORKING DIRECTORY\n",
    "parameter: wd = path\n",
    "\n",
    "# PATH TO DIRECTORY CONTAINING genotype_file_directory DATA (FROM FUSION WEBSITE or https://data.broadinstitute.org/alkesgroup/FUSION/genotype_file_directory.tar.bz2)\n",
    "parameter: genotype_file_directory = path\n",
    "# THIS IS USED TO RESTRICT INPUT SNPS TO REFERENCE IDS ONLY\n",
    "\n",
    "# GEUVADIS DATA WAS DOWNLOADED FROM https://www.ebi.ac.uk/arrayexpress/experiments/E-GEUV-1/files/analysis_results/\n",
    "\n",
    "# PATH TO PREFIX FOR GEUVADIS GENOTYPES SPLIT BY CHROMOSOME\n",
    "# SUBSAMPLE THESE TO THE genotype_file_directory SNPS FOR EFFICIENCY\n",
    "parameter: genotype_prefix = path\n",
    "\n",
    "# Specify the column in the genexpression file that contains chromosome\n",
    "parameter: chrom = 3\n",
    "# If both the start and end region are specified, then their column can be specified saperately\n",
    "parameter: gene_start= int\n",
    "parameter: gene_end = int\n",
    "\n",
    "# Specify the column in the genexpression file that contains the name of the gene\n",
    "parameter: gene_name = 1\n",
    "\n",
    "# Specify the scanning window for the gene position, set default to 50000 if start = end\n",
    "parameter: window = 50000\n",
    "\n",
    "\n",
    "# Get the gene information from the result file\n",
    "data = list(set([tuple(x.strip().split()) for x in open(gene_exp_file).readlines()[1:] if x.strip()]))\n",
    "geneinfo = [item[0:4] for item in data]\n"
   ]
  },
  {
   "cell_type": "markdown",
   "metadata": {
    "kernel": "SoS"
   },
   "source": [
    "# Actual pipeline\n",
    "## Data preping\n",
    "This section prepare two primers for the actual computation. \n",
    "1. The gene expression pheno type, a three column table for each genes, with the first two columns specifing the family ID and within family ID of the samples. In the current case where all samples are unrelated, the first two columns are simply sample ID. The third column is the actual gene expression value.\n",
    "\n",
    "2. The plink trio file for each specific genes, containing only the snps corresponding th the regions whose expression are recorded. In particular, the snp are filtered according to the genetics regions outlined by Position+/-windows."
   ]
  },
  {
   "cell_type": "code",
   "execution_count": null,
   "metadata": {
    "kernel": "SoS"
   },
   "outputs": [],
   "source": [
    "# Make the Paitient_ID File\n",
    "[STEP_0]\n",
    "bash: expand = \"$[ ]\"\n",
    "    cd $[wd]\n",
    "    #extract all the paitent names\n",
    "    head -1 $[gene_exp_file] | awk '{$1=$2=$3=$4=\"\"; print substr($0,4)}' | fmt -1 > PRE_GEXPID\n",
    "\n"
   ]
  },
  {
   "cell_type": "code",
   "execution_count": 32,
   "metadata": {
    "kernel": "SoS"
   },
   "outputs": [],
   "source": [
    "# Make folder structure for the pipeline\n",
    "[STEP_1]\n",
    "input: gene_exp_file, for_each = \"geneinfo\"\n",
    "output: f'{wd}/{_input:nb}_per_gene/{_input:nb}.{_geneinfo[gene_name-1]}.txt',\n",
    "        f'{wd}/tmp/{_input:nb}.{_geneinfo[gene_name-1]}.pheno'\n",
    "\n",
    "bash: expand= \"$[ ]\", stderr = f'{_output[1]:n}.stderr', stdout = f'{_output[1]:n}.stdout'\n",
    "    cd $[wd]\n",
    "    echo $[_geneinfo[gene_name-1]]\n",
    "    ##extract all the paitent names\n",
    "    cd $[wd]\n",
    "    echo $[_geneinfo[gene_name-1]]\n",
    "    echo $[_input]\n",
    "    echo $[_output[0]]\n",
    "    echo \"end of note\"\n",
    "    touch $[_output[0]]\n",
    "    touch $[_output[1]]\n",
    "    grep $[_geneinfo[gene_name-1]] $[_input] > $[_output[0]:n].txt\n",
    "    cat $[_output[0]] | tr '\\t' '\\n' | tail -n+5 > $[_output[1]].tmp\n",
    "    head -3 PRE_GEXPID\n",
    "    paste PRE_GEXPID PRE_GEXPID $[_output[1]].tmp > $[_output[1]:n].pheno\n",
    "    "
   ]
  },
  {
   "cell_type": "code",
   "execution_count": 2,
   "metadata": {
    "kernel": "SoS"
   },
   "outputs": [],
   "source": [
    "[STEP_2]\n",
    "input:  group_by = 2\n",
    "        \n",
    "output: f'{_input[1]:n}.bed',\n",
    "        f'{_input[1]:n}.bim',\n",
    "        f'{_input[1]:n}.fam'\n",
    "\n",
    "bash: expand= \"$[ ]\", stderr = f'{_output[1]:n}.stderr', stdout = f'{_output[1]}.stdout'\n",
    "    ##### Get the locus genotypes for all samples and set current gene expression as the phenotype\n",
    "    echo $[_input[1]:n]\n",
    "    echo $[_output[1]:n]\n",
    "    \n",
    "    $[PLINK] --bfile $[genotype_file_directory]/$[genotype_prefix].`cat $[_input[0]] | awk '{ print $$[chrom] }'` \\\n",
    "    --pheno $[_input[1]] \\\n",
    "    --make-bed \\\n",
    "    --out $[_output[1]:n] \\\n",
    "    --chr `cat $[_input[0]] | awk '{ print $$[chrom] }'` \\\n",
    "    --from-bp `cat $[_input[0]] | awk '{ print $$[gene_start] - $[window] }'` \\\n",
    "    --to-bp `cat $[_input[0]] | awk '{ print $$[gene_end] + $[window] }'` \\\n",
    "    --extract $[genotype_file_directory]/$[genotype_prefix].`cat $[_input[0]] | awk '{ print $$[chrom] }'`.bim \\\n",
    "    --keep $[_input[1]] \\\n",
    "    --allow-no-sex"
   ]
  },
  {
   "cell_type": "code",
   "execution_count": 7,
   "metadata": {
    "kernel": "SoS"
   },
   "outputs": [],
   "source": [
    "#Actual weight computation analysis\n",
    "[STEP_3]\n",
    "input: group_by = 3\n",
    "output: f'{wd}/WEIGHTS/{_input[0]:bn}.wgt.RDat'\n",
    "\n",
    "bash: expand= \"$[ ]\",stderr = f'{_output[0]:nn}.stderr', stdout = f'{_output[0]:nn}.stdout'\n",
    "    cd $[wd]\n",
    "    Rscript $[compute_weight_rscp] \\\n",
    "    --bfile $[_input[1]:n] \\\n",
    "    --tmp $[_input[1]:n].tmp \\\n",
    "    --out ./WEIGHTS/$[_output[0]:bnn] \\\n",
    "    --verbose 0 \\\n",
    "    --save_hsq \\\n",
    "    --PATH_gcta $[GCTA] \\\n",
    "    --PATH_gemma $[GEMMA] \\\n",
    "    --models blup,lasso,top1,enet\n",
    "    \n",
    "    ## Creat dummy output file that will be deleted next step\n",
    "    touch $[_output[0]]\n",
    "    ## Append heritability output to hsq file\n",
    "    cat ./WEIGHTS/$[_output[0]:bnn].hsq >> All_passed_gene.hsq\n",
    "    echo \"end of circle\""
   ]
  },
  {
   "cell_type": "code",
   "execution_count": 19,
   "metadata": {
    "kernel": "SoS"
   },
   "outputs": [],
   "source": [
    "#Clean up of the redundency file\n",
    "[STEP_4]\n",
    "import os\n",
    "input: group_by = 1\n",
    "\n",
    "bash: expand= \"$[ ]\", active = (_index == 0)\n",
    "    cd $[wd]\n",
    "    echo -e \"WGT\\tID\\tCHR\\tP0\\tP1\" > $[_input[0]:nnnn].pos \n",
    "\n",
    "bash: expand= \"$[ ]\", active = (os.path.getsize(f'{_input[0]}') != 0)\n",
    "    cd $[wd]\n",
    "    #$[_input[0]:b]_info= `$[wd]/$[_input[0]:nnnn]_per_gene/$[_input[0]:bnn].txt`\n",
    "    echo $[_input[0]:b] \\\n",
    "    `awk '{ print $$[gene_name] }' $[wd]/$[_input[0]:bnnnn]_per_gene/$[_input[0]:bnn].txt` \\\n",
    "    `awk '{ print $$[chrom] }' $[wd]/$[_input[0]:bnnnn]_per_gene/$[_input[0]:bnn].txt` \\\n",
    "    `awk '{ print $$[gene_start] - $[window] }' $[wd]/$[_input[0]:bnnnn]_per_gene/$[_input[0]:bnn].txt` \\\n",
    "    `awk '{ print $$[gene_end] + $[window] }' $[wd]/$[_input[0]:bnnnn]_per_gene/$[_input[0]:bnn].txt` >> $[_input[0]:nnnn].pos\n",
    "\n",
    "bash: expand= \"$[ ]\", active = (os.path.getsize(f'{_input[0]}') == 0)\n",
    "    cd $[wd]\n",
    "    rm $[_input[0]]"
   ]
  },
  {
   "cell_type": "code",
   "execution_count": 12,
   "metadata": {
    "kernel": "SoS"
   },
   "outputs": [],
   "source": [
    "#Create diretory for association test\n",
    "#[STEP_5]\n",
    "input: sumstat_file\n",
    "\n",
    "output: f'{wd}/result'\n",
    "\n",
    "bash: expand= \"$[ ]\"\n",
    "    Rscript $Rscr2 \\\n",
    "    --sumstats $[_sumstat_file] \\\n",
    "    --weights $[wd]/WEIGHTS/$[gene_exp_file:bn].pos \\\n",
    "    --weights_dir $[wd]/WEIGHTS/ \\\n",
    "    --ref_ld_chr $[genotype_file_directory]/$[genotype_prefix] \\\n",
    "    --chr chrom_list \\\n",
    "    --out "
   ]
  },
  {
   "cell_type": "code",
   "execution_count": 8,
   "metadata": {
    "kernel": "Bash"
   },
   "outputs": [
    {
     "name": "stdout",
     "output_type": "stream",
     "text": [
      "bash: 1+3: command not found\n",
      "\n"
     ]
    }
   ],
   "source": []
  },
  {
   "cell_type": "code",
   "execution_count": null,
   "metadata": {
    "kernel": "Bash"
   },
   "outputs": [],
   "source": []
  }
 ],
 "metadata": {
  "kernelspec": {
   "display_name": "SoS",
   "language": "sos",
   "name": "sos"
  },
  "language_info": {
   "codemirror_mode": "sos",
   "file_extension": ".sos",
   "mimetype": "text/x-sos",
   "name": "sos",
   "nbconvert_exporter": "sos_notebook.converter.SoS_Exporter",
   "pygments_lexer": "sos"
  },
  "sos": {
   "kernels": [
    [
     "Bash",
     "calysto_bash",
     "Bash",
     "#E6EEFF",
     ""
    ],
    [
     "SoS",
     "sos",
     "",
     "",
     "sos"
    ]
   ],
   "version": "0.20.1"
  }
 },
 "nbformat": 4,
 "nbformat_minor": 4
}
