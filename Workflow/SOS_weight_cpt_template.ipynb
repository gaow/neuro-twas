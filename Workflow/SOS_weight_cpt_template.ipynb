{
 "cells": [
  {
   "cell_type": "markdown",
   "metadata": {
    "kernel": "SoS"
   },
   "source": [
    "# Expression weight computation\n",
    "## Aim\n",
    "\n",
    "The aim of this pipeline is to calculate the TWAS weight, association between gene expression level and the SNP. The weights can then be combined with the GWAS summary statistics with the phenotype to calculate new expression trait association statistics between the genes and the phenotypes. \n",
    "\n",
    "## Overview\n",
    "\n",
    "To Compute association between expression and SNP for TWAS analysis.\n",
    "SNP and modulate the functional phenotypes both directly and by modulating the expression levels of genes. Therefore, the integration of expression measurements and a larger scale GWAS summary association statistics will be desirable to identify the genes associated with the targeted complex traits. \n",
    "\n",
    "By the application of this method, new candidates genes whose expression level is significantly associated to complex traits can be used in prediction without actually going through the expensive gene expression measurement process. As a relatively small set of gene expression and genotyping data can be used to impute the expression for a much larger set of phenotyped individuals from their SNP genotype data. \n",
    "\n",
    "The imputed expression can then be viewed as a linear model of genotypes with __weights based on the correlation between SNPs and gene expression__ in the training data while accounting for linkage disequilibrium (LD) among SNPs. We then correlated the imputed gene expression to the trait to perform a transcriptome-wide association study (TWAS) and identify __significant expression-trait associations__. \n",
    " \n",
    "The weights are computed via variouse models: blup, bslmm,lasso,top1 and enet. blup(best linear unbiased predictors)/bslmm(Bayesian linear mixed model) are conducted using gemma, lasso using plink,and enet(elastic net) using \tcv.glmnet function in R.\n",
    "\n",
    "Before the weight calculation, heritability of each genes are computed using GCTA, genes with insignificant heritability were screened out\n",
    "\n",
    "## Pre-requisites\n",
    "Make sure you install the following software before running this notebook:\n",
    "GCTA (gcta_1.93.2beta_mac)\n",
    "\n",
    "PLINK (plink_mac_20200616)\n",
    "\n",
    "GEMMA\n",
    "\n",
    "\n",
    "Modified Fusion.compute_weights.R scripts that downloaded from this github repo.\n",
    "\n",
    "\n"
   ]
  },
  {
   "cell_type": "markdown",
   "metadata": {
    "kernel": "SoS"
   },
   "source": [
    "# Input and Output\n",
    "## Input\n",
    "--gene_exp_file, including a gene expression table with gene name as rows and sample as column. Each gene also required at least one column specifing the chr and pos(or alternatively Start and End position), the chr column shall have the same formation as how the chromosome are specified in the genotype file. The sample names shall be the same as the sample ID in the genotype file. \n",
    "\n",
    "--geno-path, the path of a genotype inventory, which lists the path of all genotype file in bgen format or in plink format.\n",
    "\n",
    "--genotype_file_directory, path to the genotype inventory, list the path of all genotype file in plink format.\n",
    "--genotype_prefix The prefix of the genotype file, up to the chromosome name.\n",
    "\n",
    "--window the region span from the specify start and end site for the cis-gene. If the gene expression only have one position column, set the window to a large number like 5E5.\n",
    "\n",
    "## Output\n",
    "\n",
    "-- .wgt.Rdat The actualy weight data that are computed\n",
    "\n",
    "-- .hsq the file containing the heritibality information for the genes\n",
    "\n",
    "-- .All_passed_gene.hsq the file that containing the heritibality information for all the genes in this run\n",
    "\n",
    "\n",
    " \n",
    "\n",
    "\n",
    "\n",
    "\n",
    "\n",
    "\n"
   ]
  },
  {
   "cell_type": "markdown",
   "metadata": {
    "kernel": "SoS"
   },
   "source": [
    "# Command interface "
   ]
  },
  {
   "cell_type": "code",
   "execution_count": 8,
   "metadata": {
    "kernel": "Bash"
   },
   "outputs": [
    {
     "name": "stdout",
     "output_type": "stream",
     "text": [
      "usage: sos run SOS_weight_cpt_template.ipynb\n",
      "               [workflow_name | -t targets] [options] [workflow_options]\n",
      "  workflow_name:        Single or combined workflows defined in this script\n",
      "  targets:              One or more targets to generate\n",
      "  options:              Single-hyphen sos parameters (see \"sos run -h\" for details)\n",
      "  workflow_options:     Double-hyphen workflow-specific parameters\n",
      "\n",
      "Workflows:\n",
      "  STEP\n",
      "  AssocTest\n",
      "\n",
      "Global Workflow Options:\n",
      "  --GCTA VAL (as path, required)\n",
      "                        MAKE SURE FUSION.compute_weights.R IS IN YOUR PATH FILL\n",
      "                        IN THESE PATHS For mac user, the mac version of GCTA\n",
      "                        shall be downloaded saperately, the one came with the\n",
      "                        Fusion package will not work.\n",
      "  --PLINK VAL (as path, required)\n",
      "  --GEMMA VAL (as path, required)\n",
      "  --compute-weight-rscp VAL (as path, required)\n",
      "                        Required the customized fusion.compute_weight.mod.R\n",
      "                        script, other wise will not work\n",
      "  --assoc-test-rscp VAL (as path, required)\n",
      "                        the R script from fusion to conduct association test is\n",
      "                        required\n",
      "  --gene-exp-file VAL (as path, required)\n",
      "                        Path to the input data,must include the name of the file\n",
      "                        itself (Phenotype data,)\n",
      "  --sumstat-file VAL (as path, required)\n",
      "                        (sumstats data: the GWAS result between SNP and disease)\n",
      "  --wd VAL (as path, required)\n",
      "                        PATH TO where the weight shall be stored or stored.\n",
      "  --assoc-test-result  f'{wd}/result'\n",
      "\n",
      "                        Path to where the output of association testing shall be\n",
      "                        stored, by default it is the result subdiretory of the\n",
      "                        wd .\n",
      "  --genotype-file-directory VAL (as path, required)\n",
      "                        PATH TO DIRECTORY CONTAINING genotype_file_directory\n",
      "                        DATA (FROM FUSION WEBSITE or https://data.broadinstitute\n",
      "                        .org/alkesgroup/FUSION/genotype_file_directory.tar.bz2)\n",
      "  --genotype-prefix VAL (as path, required)\n",
      "                        SUBSAMPLE THESE TO THE genotype_file_directory SNPS FOR\n",
      "                        EFFICIENCY\n",
      "  --chrom 3 (as int)\n",
      "                        Specify the column in the genexpression file that\n",
      "                        contains chromosome\n",
      "  --gene-start VAL (as int, required)\n",
      "                        If both the start and end region are specified, then\n",
      "                        their column can be specified saperately\n",
      "  --gene-end VAL (as int, required)\n",
      "  --gene-name 1 (as int)\n",
      "                        Specify the column in the genexpression file that\n",
      "                        contains the name of the gene\n",
      "  --window 50000 (as int)\n",
      "                        Specify the scanning window for the gene position, set\n",
      "                        default to 50000 if start = end\n",
      "  --model 'blsmm,blup,lasso,top1,enet'\n",
      "                        Specify what model are used to compute weights, do not\n",
      "                        used blsmm during testing, the runtime is way too long\n",
      "\n",
      "Sections\n",
      "  STEP_1:               Make the Paitient_ID File\n",
      "  STEP_2:               Preparing the phenotype files\n",
      "  STEP_3:               Preparing the genotype file for each genes\n",
      "  STEP_4:               Actual weight computation\n",
      "  STEP_5:               Create wgt.Rdat map for Assoc_testing\n",
      "  STEP_6, AssocTest:    Association test\n",
      "  STEP_7:               Clean up dummy file\n",
      "\n"
     ]
    }
   ],
   "source": [
    "sos run SOS_weight_cpt_template.ipynb -h"
   ]
  },
  {
   "cell_type": "markdown",
   "metadata": {
    "kernel": "SoS"
   },
   "source": [
    "# Working example\n",
    "A minimal working example (MWE) dataset that can be downloaded from the private repo:\n",
    "https://github.com/cumc/neuro-twas/blob/master/TWAS_pipeline_MWE%202.zip\n",
    "the genotypes file can be downloaded from the following link:\n",
    "https://data.broadinstitute.org/alkesgroup/FUSION/LDREF.tar.bz2\n",
    "\n",
    "The time it take to run this MWE shall be around 2 minutes. Pay extra attention to the gene_start and gene_end position  when using following command on gene_exp file that are not this MWE. Also, when there is too few or too many genes that passed the heritability check, consider increasing or decreasing the --window options. "
   ]
  },
  {
   "cell_type": "code",
   "execution_count": 1,
   "metadata": {
    "kernel": "Bash"
   },
   "outputs": [
    {
     "name": "stdout",
     "output_type": "stream",
     "text": [
      "INFO: Running \u001b[32mSTEP_2\u001b[0m: Preparing the phenotype files\n",
      "INFO: Running \u001b[32mSTEP_1\u001b[0m: Make the Paitient_ID File\n",
      "/Users/haosun/Documents/WG_Reasearch_Assisstant/Fusion/Project/test/minimal/Working/WEIGHTS/GD462.hsq_succ.test_minimal.pos /Users/haosun/Documents/WG_Reasearch_Assisstant/Fusion/Project/test/minimal/Working/PRE_GEXPID\n",
      "INFO: \u001b[32mSTEP_1\u001b[0m is \u001b[32mcompleted\u001b[0m.\n",
      "INFO: \u001b[32mSTEP_1\u001b[0m output:   \u001b[32m/Users/haosun/Documents/WG_Reasearch_Assisstant/Fusion/Project/test/minimal/Working/WEIGHTS/GD462.hsq_succ.test_minimal.pos /Users/haosun/Documents/WG_Reasearch_Assisstant/Fusion/Project/test/minimal/Working/PRE_GEXPID\u001b[0m\n",
      "INFO: \u001b[32mSTEP_2\u001b[0m (index=2) is \u001b[32mcompleted\u001b[0m.\n",
      "INFO: \u001b[32mSTEP_2\u001b[0m (index=3) is \u001b[32mcompleted\u001b[0m.\n",
      "INFO: \u001b[32mSTEP_2\u001b[0m (index=0) is \u001b[32mcompleted\u001b[0m.\n",
      "INFO: \u001b[32mSTEP_2\u001b[0m (index=4) is \u001b[32mcompleted\u001b[0m.\n",
      "INFO: \u001b[32mSTEP_2\u001b[0m (index=1) is \u001b[32mcompleted\u001b[0m.\n",
      "INFO: \u001b[32mSTEP_2\u001b[0m (index=5) is \u001b[32mcompleted\u001b[0m.\n",
      "INFO: \u001b[32mSTEP_2\u001b[0m (index=6) is \u001b[32mcompleted\u001b[0m.\n",
      "INFO: \u001b[32mSTEP_2\u001b[0m (index=7) is \u001b[32mcompleted\u001b[0m.\n",
      "INFO: \u001b[32mSTEP_2\u001b[0m (index=8) is \u001b[32mcompleted\u001b[0m.\n",
      "INFO: \u001b[32mSTEP_2\u001b[0m (index=9) is \u001b[32mcompleted\u001b[0m.\n",
      "INFO: \u001b[32mSTEP_2\u001b[0m (index=10) is \u001b[32mcompleted\u001b[0m.\n",
      "INFO: \u001b[32mSTEP_2\u001b[0m (index=11) is \u001b[32mcompleted\u001b[0m.\n",
      "INFO: \u001b[32mSTEP_2\u001b[0m (index=12) is \u001b[32mcompleted\u001b[0m.\n",
      "INFO: \u001b[32mSTEP_2\u001b[0m (index=13) is \u001b[32mcompleted\u001b[0m.\n",
      "INFO: \u001b[32mSTEP_2\u001b[0m (index=14) is \u001b[32mcompleted\u001b[0m.\n",
      "INFO: \u001b[32mSTEP_2\u001b[0m (index=15) is \u001b[32mcompleted\u001b[0m.\n",
      "INFO: \u001b[32mSTEP_2\u001b[0m (index=16) is \u001b[32mcompleted\u001b[0m.\n",
      "INFO: \u001b[32mSTEP_2\u001b[0m (index=17) is \u001b[32mcompleted\u001b[0m.\n",
      "INFO: \u001b[32mSTEP_2\u001b[0m (index=18) is \u001b[32mcompleted\u001b[0m.\n",
      "INFO: \u001b[32mSTEP_2\u001b[0m (index=19) is \u001b[32mcompleted\u001b[0m.\n",
      "INFO: \u001b[32mSTEP_2\u001b[0m (index=20) is \u001b[32mcompleted\u001b[0m.\n",
      "INFO: \u001b[32mSTEP_2\u001b[0m (index=21) is \u001b[32mcompleted\u001b[0m.\n",
      "INFO: \u001b[32mSTEP_2\u001b[0m (index=22) is \u001b[32mcompleted\u001b[0m.\n",
      "INFO: \u001b[32mSTEP_2\u001b[0m (index=23) is \u001b[32mcompleted\u001b[0m.\n",
      "INFO: \u001b[32mSTEP_2\u001b[0m (index=24) is \u001b[32mcompleted\u001b[0m.\n",
      "INFO: \u001b[32mSTEP_2\u001b[0m (index=25) is \u001b[32mcompleted\u001b[0m.\n",
      "INFO: \u001b[32mSTEP_2\u001b[0m (index=26) is \u001b[32mcompleted\u001b[0m.\n",
      "INFO: \u001b[32mSTEP_2\u001b[0m (index=27) is \u001b[32mcompleted\u001b[0m.\n",
      "INFO: \u001b[32mSTEP_2\u001b[0m (index=28) is \u001b[32mcompleted\u001b[0m.\n",
      "INFO: \u001b[32mSTEP_2\u001b[0m (index=29) is \u001b[32mcompleted\u001b[0m.\n",
      "INFO: \u001b[32mSTEP_2\u001b[0m (index=30) is \u001b[32mcompleted\u001b[0m.\n",
      "INFO: \u001b[32mSTEP_2\u001b[0m (index=31) is \u001b[32mcompleted\u001b[0m.\n",
      "INFO: \u001b[32mSTEP_2\u001b[0m (index=32) is \u001b[32mcompleted\u001b[0m.\n",
      "INFO: \u001b[32mSTEP_2\u001b[0m (index=33) is \u001b[32mcompleted\u001b[0m.\n",
      "INFO: \u001b[32mSTEP_2\u001b[0m output:   \u001b[32m/Users/haosun/Documents/WG_Reasearch_Assisstant/Fusion/Project/test/minimal/Working/GD462.hsq_succ.test_minimal_per_gene/GD462.hsq_succ.test_minimal.ENSG00000169862.13.txt /Users/haosun/Documents/WG_Reasearch_Assisstant/Fusion/Project/test/minimal/Working/tmp/GD462.hsq_succ.test_minimal.ENSG00000169862.13.pheno... (68 items in 34 groups)\u001b[0m\n",
      "INFO: Running \u001b[32mSTEP_3\u001b[0m: Preparing the genotype file for each genes\n",
      "INFO: \u001b[32mSTEP_3\u001b[0m (index=0) is \u001b[32mcompleted\u001b[0m.\n",
      "INFO: \u001b[32mSTEP_3\u001b[0m (index=1) is \u001b[32mcompleted\u001b[0m.\n",
      "INFO: \u001b[32mSTEP_3\u001b[0m (index=2) is \u001b[32mcompleted\u001b[0m.\n",
      "INFO: \u001b[32mSTEP_3\u001b[0m (index=3) is \u001b[32mcompleted\u001b[0m.\n",
      "INFO: \u001b[32mSTEP_3\u001b[0m (index=5) is \u001b[32mcompleted\u001b[0m.\n",
      "INFO: \u001b[32mSTEP_3\u001b[0m (index=4) is \u001b[32mcompleted\u001b[0m.\n",
      "INFO: \u001b[32mSTEP_3\u001b[0m (index=6) is \u001b[32mcompleted\u001b[0m.\n",
      "INFO: \u001b[32mSTEP_3\u001b[0m (index=7) is \u001b[32mcompleted\u001b[0m.\n",
      "INFO: \u001b[32mSTEP_3\u001b[0m (index=8) is \u001b[32mcompleted\u001b[0m.\n",
      "INFO: \u001b[32mSTEP_3\u001b[0m (index=9) is \u001b[32mcompleted\u001b[0m.\n",
      "INFO: \u001b[32mSTEP_3\u001b[0m (index=10) is \u001b[32mcompleted\u001b[0m.\n",
      "INFO: \u001b[32mSTEP_3\u001b[0m (index=11) is \u001b[32mcompleted\u001b[0m.\n",
      "INFO: \u001b[32mSTEP_3\u001b[0m (index=12) is \u001b[32mcompleted\u001b[0m.\n",
      "INFO: \u001b[32mSTEP_3\u001b[0m (index=13) is \u001b[32mcompleted\u001b[0m.\n",
      "INFO: \u001b[32mSTEP_3\u001b[0m (index=14) is \u001b[32mcompleted\u001b[0m.\n",
      "INFO: \u001b[32mSTEP_3\u001b[0m (index=15) is \u001b[32mcompleted\u001b[0m.\n",
      "INFO: \u001b[32mSTEP_3\u001b[0m (index=16) is \u001b[32mcompleted\u001b[0m.\n",
      "INFO: \u001b[32mSTEP_3\u001b[0m (index=17) is \u001b[32mcompleted\u001b[0m.\n",
      "INFO: \u001b[32mSTEP_3\u001b[0m (index=19) is \u001b[32mcompleted\u001b[0m.\n",
      "INFO: \u001b[32mSTEP_3\u001b[0m (index=20) is \u001b[32mcompleted\u001b[0m.\n",
      "INFO: \u001b[32mSTEP_3\u001b[0m (index=18) is \u001b[32mcompleted\u001b[0m.\n",
      "INFO: \u001b[32mSTEP_3\u001b[0m (index=21) is \u001b[32mcompleted\u001b[0m.\n",
      "INFO: \u001b[32mSTEP_3\u001b[0m (index=22) is \u001b[32mcompleted\u001b[0m.\n",
      "INFO: \u001b[32mSTEP_3\u001b[0m (index=23) is \u001b[32mcompleted\u001b[0m.\n",
      "INFO: \u001b[32mSTEP_3\u001b[0m (index=24) is \u001b[32mcompleted\u001b[0m.\n",
      "INFO: \u001b[32mSTEP_3\u001b[0m (index=25) is \u001b[32mcompleted\u001b[0m.\n",
      "INFO: \u001b[32mSTEP_3\u001b[0m (index=26) is \u001b[32mcompleted\u001b[0m.\n",
      "INFO: \u001b[32mSTEP_3\u001b[0m (index=27) is \u001b[32mcompleted\u001b[0m.\n",
      "INFO: \u001b[32mSTEP_3\u001b[0m (index=29) is \u001b[32mcompleted\u001b[0m.\n",
      "INFO: \u001b[32mSTEP_3\u001b[0m (index=28) is \u001b[32mcompleted\u001b[0m.\n",
      "INFO: \u001b[32mSTEP_3\u001b[0m (index=30) is \u001b[32mcompleted\u001b[0m.\n",
      "INFO: \u001b[32mSTEP_3\u001b[0m (index=31) is \u001b[32mcompleted\u001b[0m.\n",
      "INFO: \u001b[32mSTEP_3\u001b[0m (index=32) is \u001b[32mcompleted\u001b[0m.\n",
      "INFO: \u001b[32mSTEP_3\u001b[0m (index=33) is \u001b[32mcompleted\u001b[0m.\n",
      "INFO: \u001b[32mSTEP_3\u001b[0m output:   \u001b[32m/Users/haosun/Documents/WG_Reasearch_Assisstant/Fusion/Project/test/minimal/Working/tmp/GD462.hsq_succ.test_minimal.ENSG00000169862.13.bed /Users/haosun/Documents/WG_Reasearch_Assisstant/Fusion/Project/test/minimal/Working/tmp/GD462.hsq_succ.test_minimal.ENSG00000169862.13.bim... (102 items in 34 groups)\u001b[0m\n",
      "INFO: Running \u001b[32mSTEP_4\u001b[0m: Actual weight computation\n",
      "INFO: \u001b[32mSTEP_4\u001b[0m (index=2) is \u001b[32mcompleted\u001b[0m.\n",
      "INFO: \u001b[32mSTEP_4\u001b[0m (index=1) is \u001b[32mcompleted\u001b[0m.\n",
      "INFO: \u001b[32mSTEP_4\u001b[0m (index=0) is \u001b[32mcompleted\u001b[0m.\n",
      "INFO: \u001b[32mSTEP_4\u001b[0m (index=4) is \u001b[32mcompleted\u001b[0m.\n",
      "INFO: \u001b[32mSTEP_4\u001b[0m (index=3) is \u001b[32mcompleted\u001b[0m.\n",
      "INFO: \u001b[32mSTEP_4\u001b[0m (index=5) is \u001b[32mcompleted\u001b[0m.\n",
      "INFO: \u001b[32mSTEP_4\u001b[0m (index=6) is \u001b[32mcompleted\u001b[0m.\n",
      "INFO: \u001b[32mSTEP_4\u001b[0m (index=9) is \u001b[32mcompleted\u001b[0m.\n",
      "INFO: \u001b[32mSTEP_4\u001b[0m (index=7) is \u001b[32mcompleted\u001b[0m.\n",
      "INFO: \u001b[32mSTEP_4\u001b[0m (index=12) is \u001b[32mcompleted\u001b[0m.\n",
      "INFO: \u001b[32mSTEP_4\u001b[0m (index=8) is \u001b[32mcompleted\u001b[0m.\n",
      "INFO: \u001b[32mSTEP_4\u001b[0m (index=10) is \u001b[32mcompleted\u001b[0m.\n",
      "INFO: \u001b[32mSTEP_4\u001b[0m (index=11) is \u001b[32mcompleted\u001b[0m.\n",
      "INFO: \u001b[32mSTEP_4\u001b[0m (index=14) is \u001b[32mcompleted\u001b[0m.\n",
      "INFO: \u001b[32mSTEP_4\u001b[0m (index=15) is \u001b[32mcompleted\u001b[0m.\n",
      "INFO: \u001b[32mSTEP_4\u001b[0m (index=13) is \u001b[32mcompleted\u001b[0m.\n",
      "INFO: \u001b[32mSTEP_4\u001b[0m (index=16) is \u001b[32mcompleted\u001b[0m.\n",
      "INFO: \u001b[32mSTEP_4\u001b[0m (index=17) is \u001b[32mcompleted\u001b[0m.\n",
      "INFO: \u001b[32mSTEP_4\u001b[0m (index=18) is \u001b[32mcompleted\u001b[0m.\n",
      "INFO: \u001b[32mSTEP_4\u001b[0m (index=19) is \u001b[32mcompleted\u001b[0m.\n",
      "INFO: \u001b[32mSTEP_4\u001b[0m (index=20) is \u001b[32mcompleted\u001b[0m.\n",
      "INFO: \u001b[32mSTEP_4\u001b[0m (index=21) is \u001b[32mcompleted\u001b[0m.\n",
      "INFO: \u001b[32mSTEP_4\u001b[0m (index=22) is \u001b[32mcompleted\u001b[0m.\n",
      "INFO: \u001b[32mSTEP_4\u001b[0m (index=23) is \u001b[32mcompleted\u001b[0m.\n",
      "INFO: \u001b[32mSTEP_4\u001b[0m (index=24) is \u001b[32mcompleted\u001b[0m.\n",
      "INFO: \u001b[32mSTEP_4\u001b[0m (index=28) is \u001b[32mcompleted\u001b[0m.\n",
      "INFO: \u001b[32mSTEP_4\u001b[0m (index=25) is \u001b[32mcompleted\u001b[0m.\n",
      "INFO: \u001b[32mSTEP_4\u001b[0m (index=27) is \u001b[32mcompleted\u001b[0m.\n",
      "INFO: \u001b[32mSTEP_4\u001b[0m (index=26) is \u001b[32mcompleted\u001b[0m.\n",
      "INFO: \u001b[32mSTEP_4\u001b[0m (index=30) is \u001b[32mcompleted\u001b[0m.\n",
      "INFO: \u001b[32mSTEP_4\u001b[0m (index=29) is \u001b[32mcompleted\u001b[0m.\n",
      "INFO: \u001b[32mSTEP_4\u001b[0m (index=32) is \u001b[32mcompleted\u001b[0m.\n",
      "INFO: \u001b[32mSTEP_4\u001b[0m (index=31) is \u001b[32mcompleted\u001b[0m.\n",
      "INFO: \u001b[32mSTEP_4\u001b[0m (index=33) is \u001b[32mcompleted\u001b[0m.\n",
      "INFO: \u001b[32mSTEP_4\u001b[0m output:   \u001b[32m/Users/haosun/Documents/WG_Reasearch_Assisstant/Fusion/Project/test/minimal/Working/WEIGHTS/GD462.hsq_succ.test_minimal.ENSG00000169862.13.wgt.RDat /Users/haosun/Documents/WG_Reasearch_Assisstant/Fusion/Project/test/minimal/Working/WEIGHTS/GD462.hsq_succ.test_minimal.ENSG00000186952.10.wgt.RDat... (34 items in 34 groups)\u001b[0m\n",
      "INFO: Running \u001b[32mSTEP_5\u001b[0m: Create wgt.Rdat map for Assoc_testing\n",
      "INFO: \u001b[32mSTEP_5\u001b[0m (index=0) is \u001b[32mcompleted\u001b[0m.\n",
      "INFO: \u001b[32mSTEP_5\u001b[0m (index=1) is \u001b[32mcompleted\u001b[0m.\n",
      "INFO: \u001b[32mSTEP_5\u001b[0m (index=2) is \u001b[32mcompleted\u001b[0m.\n",
      "INFO: \u001b[32mSTEP_5\u001b[0m (index=3) is \u001b[32mcompleted\u001b[0m.\n",
      "INFO: \u001b[32mSTEP_5\u001b[0m (index=4) is \u001b[32mcompleted\u001b[0m.\n",
      "INFO: \u001b[32mSTEP_5\u001b[0m (index=5) is \u001b[32mcompleted\u001b[0m.\n",
      "INFO: \u001b[32mSTEP_5\u001b[0m (index=6) is \u001b[32mcompleted\u001b[0m.\n",
      "INFO: \u001b[32mSTEP_5\u001b[0m (index=7) is \u001b[32mcompleted\u001b[0m.\n",
      "INFO: \u001b[32mSTEP_5\u001b[0m (index=8) is \u001b[32mcompleted\u001b[0m.\n",
      "INFO: \u001b[32mSTEP_5\u001b[0m (index=9) is \u001b[32mcompleted\u001b[0m.\n",
      "INFO: \u001b[32mSTEP_5\u001b[0m (index=10) is \u001b[32mcompleted\u001b[0m.\n",
      "INFO: \u001b[32mSTEP_5\u001b[0m (index=11) is \u001b[32mcompleted\u001b[0m.\n",
      "INFO: \u001b[32mSTEP_5\u001b[0m (index=12) is \u001b[32mcompleted\u001b[0m.\n",
      "INFO: \u001b[32mSTEP_5\u001b[0m (index=13) is \u001b[32mcompleted\u001b[0m.\n",
      "INFO: \u001b[32mSTEP_5\u001b[0m (index=14) is \u001b[32mcompleted\u001b[0m.\n",
      "INFO: \u001b[32mSTEP_5\u001b[0m (index=15) is \u001b[32mcompleted\u001b[0m.\n",
      "INFO: \u001b[32mSTEP_5\u001b[0m (index=16) is \u001b[32mcompleted\u001b[0m.\n",
      "INFO: \u001b[32mSTEP_5\u001b[0m (index=17) is \u001b[32mcompleted\u001b[0m.\n",
      "INFO: \u001b[32mSTEP_5\u001b[0m (index=18) is \u001b[32mcompleted\u001b[0m.\n",
      "INFO: \u001b[32mSTEP_5\u001b[0m (index=19) is \u001b[32mcompleted\u001b[0m.\n",
      "INFO: \u001b[32mSTEP_5\u001b[0m (index=20) is \u001b[32mcompleted\u001b[0m.\n",
      "INFO: \u001b[32mSTEP_5\u001b[0m (index=21) is \u001b[32mcompleted\u001b[0m.\n",
      "INFO: \u001b[32mSTEP_5\u001b[0m (index=22) is \u001b[32mcompleted\u001b[0m.\n",
      "INFO: \u001b[32mSTEP_5\u001b[0m (index=23) is \u001b[32mcompleted\u001b[0m.\n",
      "INFO: \u001b[32mSTEP_5\u001b[0m (index=24) is \u001b[32mcompleted\u001b[0m.\n",
      "INFO: \u001b[32mSTEP_5\u001b[0m (index=25) is \u001b[32mcompleted\u001b[0m.\n",
      "INFO: \u001b[32mSTEP_5\u001b[0m (index=26) is \u001b[32mcompleted\u001b[0m.\n",
      "INFO: \u001b[32mSTEP_5\u001b[0m (index=27) is \u001b[32mcompleted\u001b[0m.\n",
      "INFO: \u001b[32mSTEP_5\u001b[0m (index=28) is \u001b[32mcompleted\u001b[0m.\n",
      "INFO: \u001b[32mSTEP_5\u001b[0m (index=30) is \u001b[32mcompleted\u001b[0m.\n",
      "INFO: \u001b[32mSTEP_5\u001b[0m (index=29) is \u001b[32mcompleted\u001b[0m.\n",
      "INFO: \u001b[32mSTEP_5\u001b[0m (index=31) is \u001b[32mcompleted\u001b[0m.\n",
      "INFO: \u001b[32mSTEP_5\u001b[0m (index=32) is \u001b[32mcompleted\u001b[0m.\n",
      "INFO: \u001b[32mSTEP_5\u001b[0m (index=33) is \u001b[32mcompleted\u001b[0m.\n",
      "INFO: Running \u001b[32mSTEP_6\u001b[0m: Association test\n",
      "INFO: \u001b[32mSTEP_6\u001b[0m (index=3) is \u001b[32mcompleted\u001b[0m.\n",
      "INFO: \u001b[32mSTEP_6\u001b[0m (index=2) is \u001b[32mcompleted\u001b[0m.\n",
      "INFO: \u001b[32mSTEP_6\u001b[0m (index=1) is \u001b[32mcompleted\u001b[0m.\n",
      "INFO: \u001b[32mSTEP_6\u001b[0m (index=0) is \u001b[32mcompleted\u001b[0m.\n",
      "INFO: \u001b[32mSTEP_6\u001b[0m (index=5) is \u001b[32mcompleted\u001b[0m.\n",
      "INFO: \u001b[32mSTEP_6\u001b[0m (index=6) is \u001b[32mcompleted\u001b[0m.\n",
      "INFO: \u001b[32mSTEP_6\u001b[0m (index=4) is \u001b[32mcompleted\u001b[0m.\n",
      "INFO: \u001b[32mSTEP_6\u001b[0m output:   \u001b[32m/Users/haosun/Documents/WG_Reasearch_Assisstant/Fusion/Project/test/minimal/Working/result/GD462.hsq_succ.test_minimal_3.dat /Users/haosun/Documents/WG_Reasearch_Assisstant/Fusion/Project/test/minimal/Working/result/GD462.hsq_succ.test_minimal_6.dat... (7 items in 7 groups)\u001b[0m\n",
      "INFO: Running \u001b[32mSTEP_7\u001b[0m: Clean up dummy file\n",
      "usage: rm [-f | -i] [-dPRrvW] file ...\n",
      "       unlink file\n",
      "usage: rm [-f | -i] [-dPRrvW] file ...\n",
      "       unlink file\n",
      "usage: rm [-f | -i] [-dPRrvW] file ...\n",
      "       unlink file\n",
      "usage: rm [-f | -i] [-dPRrvW] file ...\n",
      "       unlink file\n",
      "\u001b[95mWARNING\u001b[0m: \u001b[95mCommand '/bin/bash .sos/STEP_7_0_df787d88.sh' returned non-zero exit status 64.\u001b[0m\n",
      "INFO: \u001b[32mSTEP_7\u001b[0m is \u001b[32mcompleted\u001b[0m.\n",
      "INFO: \u001b[32mSTEP_7\u001b[0m output:   \u001b[32m/Users/haosun/Documents/WG_Reasearch_Assisstant/Fusion/Project/test/minimal/Working/error_gene/no_plink.txt /Users/haosun/Documents/WG_Reasearch_Assisstant/Fusion/Project/test/minimal/Working/error_gene/no_wgt_computed.txt\u001b[0m\n",
      "INFO: Workflow STEP (ID=7aaf949ed436730a) is executed successfully with 7 completed steps and 145 completed substeps.\n",
      "\n"
     ]
    }
   ],
   "source": [
    "## Test pipeline with test data\n",
    "\n",
    "sos run /Users/haosun/Documents/WG_Reasearch_Assisstant/GIT/twas-dev/Workflow/SOS_weight_cpt_template.ipynb STEP\\\n",
    "  --GCTA \"/Users/haosun/Documents/WG_Reasearch_Assisstant/Fusion/install/fusion_twas-master/gcta_1.93.2beta_mac/gcta64\" \\\n",
    "  --PLINK `which plink` \\\n",
    "  --GEMMA `which gemma` \\\n",
    "  --compute_weight_rscp  \"/Users/haosun/Documents/WG_Reasearch_Assisstant/GIT/twas-dev/Workflow/FUSION.compute_weights.R\" \\\n",
    "  --assoc_test_rscp \"/Users/haosun/Documents/WG_Reasearch_Assisstant/Fusion/install/fusion_twas-master/FUSION.assoc_test.R\"\\\n",
    "  --sumstat_file \"/Users/haosun/Documents/WG_Reasearch_Assisstant/Fusion/Project/test/PGC2.SCZ.sumstats\"\\\n",
    "  --gene_exp_file \"/Users/haosun/Documents/WG_Reasearch_Assisstant/Fusion/Project/test/GD462.hsq_succ.test_minimal.txt\" \\\n",
    "  --wd  \"/Users/haosun/Documents/WG_Reasearch_Assisstant/Fusion/Project/test/minimal/Working\" \\\n",
    "  --genotype_file_directory  \"/Users/haosun/Documents/WG_Reasearch_Assisstant/Fusion/Project/test/minimal/LDREF\" \\\n",
    "  --genotype_prefix \"1000G.EUR\" \\\n",
    "  --chrom 3 \\\n",
    "  --gene_name 1 \\\n",
    "  --gene_start 4 \\\n",
    "  --gene_end 4 \\\n",
    "  --window 500000 \\\n",
    "  --model \"blup,lasso,top1,enet\""
   ]
  },
  {
   "cell_type": "code",
   "execution_count": null,
   "metadata": {
    "kernel": "Bash"
   },
   "outputs": [],
   "source": []
  },
  {
   "cell_type": "code",
   "execution_count": null,
   "metadata": {
    "kernel": "Bash"
   },
   "outputs": [],
   "source": []
  },
  {
   "cell_type": "code",
   "execution_count": null,
   "metadata": {
    "kernel": "Bash"
   },
   "outputs": [],
   "source": []
  },
  {
   "cell_type": "markdown",
   "metadata": {
    "kernel": "Bash"
   },
   "source": [
    "## Association test only \n",
    "If using exisiting weight, use the association test(AssocTest) workflow. A minimum working example is shown below"
   ]
  },
  {
   "cell_type": "code",
   "execution_count": 6,
   "metadata": {
    "kernel": "Bash"
   },
   "outputs": [
    {
     "name": "stdout",
     "output_type": "stream",
     "text": [
      "INFO: Running \u001b[32mAssocTest\u001b[0m: Association test\n",
      "INFO: \u001b[32mAssocTest\u001b[0m (index=3) is \u001b[32mcompleted\u001b[0m.\n",
      "INFO: \u001b[32mAssocTest\u001b[0m (index=1) is \u001b[32mcompleted\u001b[0m.\n",
      "INFO: \u001b[32mAssocTest\u001b[0m (index=0) is \u001b[32mcompleted\u001b[0m.\n",
      "INFO: \u001b[32mAssocTest\u001b[0m (index=2) is \u001b[32mcompleted\u001b[0m.\n",
      "INFO: \u001b[32mAssocTest\u001b[0m (index=4) is \u001b[32mcompleted\u001b[0m.\n",
      "INFO: \u001b[32mAssocTest\u001b[0m (index=6) is \u001b[32mcompleted\u001b[0m.\n",
      "INFO: \u001b[32mAssocTest\u001b[0m (index=5) is \u001b[32mcompleted\u001b[0m.\n",
      "INFO: \u001b[32mAssocTest\u001b[0m (index=7) is \u001b[32mcompleted\u001b[0m.\n",
      "INFO: \u001b[32mAssocTest\u001b[0m (index=8) is \u001b[32mcompleted\u001b[0m.\n",
      "INFO: \u001b[32mAssocTest\u001b[0m (index=11) is \u001b[32mcompleted\u001b[0m.\n",
      "INFO: \u001b[32mAssocTest\u001b[0m (index=10) is \u001b[32mcompleted\u001b[0m.\n",
      "INFO: \u001b[32mAssocTest\u001b[0m (index=9) is \u001b[32mcompleted\u001b[0m.\n",
      "INFO: \u001b[32mAssocTest\u001b[0m (index=12) is \u001b[32mcompleted\u001b[0m.\n",
      "INFO: \u001b[32mAssocTest\u001b[0m (index=13) is \u001b[32mcompleted\u001b[0m.\n",
      "INFO: \u001b[32mAssocTest\u001b[0m (index=14) is \u001b[32mcompleted\u001b[0m.\n",
      "INFO: \u001b[32mAssocTest\u001b[0m (index=15) is \u001b[32mcompleted\u001b[0m.\n",
      "INFO: \u001b[32mAssocTest\u001b[0m (index=17) is \u001b[32mcompleted\u001b[0m.\n",
      "INFO: \u001b[32mAssocTest\u001b[0m (index=16) is \u001b[32mcompleted\u001b[0m.\n",
      "INFO: \u001b[32mAssocTest\u001b[0m (index=18) is \u001b[32mcompleted\u001b[0m.\n",
      "INFO: \u001b[32mAssocTest\u001b[0m output:   \u001b[32m/Users/haosun/Documents/WG_Reasearch_Assisstant/Fusion/Project/test/assoc_test/GD462.hsq_succ.test_6.dat /Users/haosun/Documents/WG_Reasearch_Assisstant/Fusion/Project/test/assoc_test/GD462.hsq_succ.test_7.dat... (19 items in 19 groups)\u001b[0m\n",
      "INFO: Workflow AssocTest (ID=317080ccfe0afa7e) is executed successfully with 1 completed step and 19 completed substeps.\n",
      "\n"
     ]
    }
   ],
   "source": [
    "\n",
    "\n",
    "sos run /Users/haosun/Documents/WG_Reasearch_Assisstant/GIT/twas-dev/Workflow/SOS_weight_cpt_template.ipynb AssocTest \\\n",
    "  --GCTA \"/Users/haosun/Documents/WG_Reasearch_Assisstant/Fusion/install/fusion_twas-master/gcta_1.93.2beta_mac/gcta64\" \\\n",
    "  --PLINK `which plink` \\\n",
    "  --GEMMA `which gemma` \\\n",
    "  --compute_weight_rscp  \"/Users/haosun/Documents/WG_Reasearch_Assisstant/GIT/twas-dev/Workflow/FUSION.compute_weights.R\" \\\n",
    "  --assoc_test_rscp \"/Users/haosun/Documents/WG_Reasearch_Assisstant/Fusion/install/fusion_twas-master/FUSION.assoc_test.R\"\\\n",
    "  --sumstat_file \"/Users/haosun/Documents/WG_Reasearch_Assisstant/Fusion/Project/test/PGC2.SCZ.sumstats\"\\\n",
    "  --gene_exp_file \"/Users/haosun/Documents/WG_Reasearch_Assisstant/Fusion/Project/test/GD462.hsq_succ.test.txt\" \\\n",
    "  --wd  \"/Users/haosun/Documents/WG_Reasearch_Assisstant/Fusion/Project/test/Working0\" \\\n",
    "  --assoc_test_result \"/Users/haosun/Documents/WG_Reasearch_Assisstant/Fusion/Project/test/assoc_test\" \\\n",
    "  --genotype_file_directory  \"/Users/haosun/Documents/WG_Reasearch_Assisstant/Fusion/Project/test/LDREF\" \\\n",
    "  --genotype_prefix \"1000G.EUR\" \\\n",
    "  --chrom 3 \\\n",
    "  --gene_name 1 \\\n",
    "  --gene_start 3 \\\n",
    "  --gene_end 3 \\\n",
    "  --window 500000"
   ]
  },
  {
   "cell_type": "markdown",
   "metadata": {
    "kernel": "SoS"
   },
   "source": [
    "# Global parameter settings\n",
    "The section outlined the parameters that can be set in the command interface."
   ]
  },
  {
   "cell_type": "code",
   "execution_count": 98,
   "metadata": {
    "kernel": "SoS"
   },
   "outputs": [],
   "source": [
    "[global]\n",
    "# MAKE SURE FUSION.compute_weights.R IS IN YOUR PATH\n",
    "# FILL IN THESE PATHS\n",
    "# For mac user, the mac version of GCTA shall be downloaded saperately, the one came with the Fusion package will not work.\n",
    "parameter: GCTA = path\n",
    "parameter: PLINK = path\n",
    "parameter: GEMMA = path\n",
    "\n",
    "# Required the customized fusion.compute_weight.mod.R script, other wise will not work\n",
    "parameter: compute_weight_rscp = path\n",
    "\n",
    "# the R script from fusion to conduct association test is required\n",
    "parameter: assoc_test_rscp = path\n",
    "\n",
    "\n",
    "\n",
    "# Path to the input data,must include the name of the file itself\n",
    "#(Phenotype data,)\n",
    "parameter: gene_exp_file = path\n",
    "#(sumstats data: the GWAS result between SNP and disease)\n",
    "parameter: sumstat_file = path\n",
    "\n",
    "# PATH TO where the weight shall be stored or stored.\n",
    "parameter: wd = path\n",
    "\n",
    "# Path to where the output of association testing shall be stored, by default it is the result subdiretory of the wd .\n",
    "parameter: assoc_test_result = f'{wd}/result'\n",
    "\n",
    "# PATH TO DIRECTORY CONTAINING genotype_file_directory DATA (FROM FUSION WEBSITE or https://data.broadinstitute.org/alkesgroup/FUSION/genotype_file_directory.tar.bz2)\n",
    "parameter: genotype_file_directory = path\n",
    "# THIS IS USED TO RESTRICT INPUT SNPS TO REFERENCE IDS ONLY\n",
    "# GEUVADIS DATA WAS DOWNLOADED FROM https://www.ebi.ac.uk/arrayexpress/experiments/E-GEUV-1/files/analysis_results/\n",
    "\n",
    "# SUBSAMPLE THESE TO THE genotype_file_directory SNPS FOR EFFICIENCY\n",
    "parameter: genotype_prefix = path\n",
    "\n",
    "# Specify the column in the genexpression file that contains chromosome\n",
    "parameter: chrom = 3\n",
    "# If both the start and end region are specified, then their column can be specified saperately\n",
    "parameter: gene_start= int\n",
    "parameter: gene_end = int\n",
    "\n",
    "# Specify the column in the genexpression file that contains the name of the gene\n",
    "parameter: gene_name = 1\n",
    "\n",
    "# Specify the scanning window for the gene position, set default to 50000 if start = end\n",
    "parameter: window = 50000\n",
    "\n",
    "# Specify what model are used to compute weights, do not used blsmm during testing, the runtime is way too long\n",
    "parameter: model = \"blsmm,blup,lasso,top1,enet\"\n",
    "\n",
    "# Get the gene information from the result file\n",
    "data = list(set([tuple(x.strip().split()) for x in open(gene_exp_file).readlines()[1:] if x.strip()]))\n",
    "geneinfo = [item[0:4] for item in data]\n"
   ]
  },
  {
   "cell_type": "markdown",
   "metadata": {
    "kernel": "SoS"
   },
   "source": [
    "# Actual pipeline\n",
    "## Data preping\n",
    "This section prepare two primers for the actual computation. \n",
    "1. The gene expression pheno type, a three column table for each genes, with the first two columns specifing the family ID and within family ID of the samples. In the current case where all samples are unrelated, the first two columns are simply sample ID. The third column is the actual gene expression value.\n",
    "\n",
    "2. The plink trio file for each specific genes, containing only the snps corresponding th the regions whose expression are recorded. In particular, the snp are filtered according to the genetics regions outlined by Position+/-windows."
   ]
  },
  {
   "cell_type": "code",
   "execution_count": 103,
   "metadata": {
    "kernel": "SoS"
   },
   "outputs": [],
   "source": [
    "# Make the Paitient_ID File\n",
    "[STEP_1]\n",
    "output: f'{wd}/WEIGHTS/{gene_exp_file:bn}.pos',\n",
    "        f'{wd}/PRE_GEXPID'\n",
    "\n",
    "bash: expand = \"$[ ]\"\n",
    "    cd $[wd]\n",
    "    echo $[_output]\n",
    "    echo -e \"WGT\\tID\\tCHR\\tP0\\tP1\" > $[_output[0]]\n",
    "    #extract all the paitent names\n",
    "    head -1 $[gene_exp_file] | awk '{$1=$2=$3=$4=\"\"; print substr($0,4)}' | fmt -1 > $[_output[1]]\n",
    "\n"
   ]
  },
  {
   "cell_type": "code",
   "execution_count": 32,
   "metadata": {
    "kernel": "SoS"
   },
   "outputs": [],
   "source": [
    "# Preparing the phenotype files \n",
    "[STEP_2]\n",
    "input: gene_exp_file, for_each = \"geneinfo\"\n",
    "output: f'{wd}/{_input:nb}_per_gene/{_input:nb}.{_geneinfo[gene_name-1]}.txt',\n",
    "        f'{wd}/tmp/{_input:nb}.{_geneinfo[gene_name-1]}.pheno'\n",
    "\n",
    "bash: expand= \"$[ ]\", stderr = f'{_output[1]:n}.stderr', stdout = f'{_output[1]:n}.stdout'\n",
    "    cd $[wd]\n",
    "    # Make sure every thing is alright\n",
    "    echo $[_geneinfo[gene_name-1]]\n",
    "    echo $[_geneinfo[gene_name-1]]\n",
    "    echo $[_input]\n",
    "    echo $[_output[0]]\n",
    "    echo \"end of note\"\n",
    "    touch $[_output[0]]\n",
    "    touch $[_output[1]]\n",
    "    # For every gene, extract the correspond expression levels\n",
    "    grep $[_geneinfo[gene_name-1]] $[_input] > $[_output[0]:n].txt\n",
    "    # Transpose the expression\n",
    "    cat $[_output[0]] | tr '\\t' '\\n' | tail -n+5 > $[_output[1]].tmp\n",
    "    # Check if the Patient name file are intact\n",
    "    head -3 $[wd]/PRE_GEXPID\n",
    "    # Combined the expression and patient name to create phenotype\n",
    "    paste  $[wd]/PRE_GEXPID  $[wd]/PRE_GEXPID $[_output[1]].tmp > $[_output[1]:n].pheno\n",
    "    "
   ]
  },
  {
   "cell_type": "code",
   "execution_count": 86,
   "metadata": {
    "kernel": "SoS"
   },
   "outputs": [],
   "source": [
    "#Preparing the genotype file for each genes\n",
    "[STEP_3]\n",
    "input:  group_by = 2\n",
    "        \n",
    "output: f'{_input[1]:n}.bed',\n",
    "        f'{_input[1]:n}.bim',\n",
    "        f'{_input[1]:n}.fam'\n",
    "\n",
    "bash: expand= \"$[ ]\", stderr = f'{_output[1]}.stderr', stdout = f'{_output[1]}.stdout',allow_error=True\n",
    "    ##### Get the locus genotypes for each samples\n",
    "    #echo $[_input[1]:n]\n",
    "    #echo $[_output[1]:n]\n",
    "    # Chromosomes, gene names, and start and end side are acquired by the snippet to avoid \n",
    "    $[PLINK] --bfile $[genotype_file_directory]/$[genotype_prefix].`cat $[_input[0]] | awk '{ print $$[chrom] }'` \\\n",
    "    --pheno $[_input[1]] \\\n",
    "    --make-bed \\\n",
    "    --out $[_output[1]:n] \\\n",
    "    --chr `cat $[_input[0]] | awk '{ print $$[chrom] }'` \\\n",
    "    --from-bp `cat $[_input[0]] | awk '{ print $$[gene_start] - $[window] }'` \\\n",
    "    --to-bp `cat $[_input[0]] | awk '{ print $$[gene_end] + $[window] }'` \\\n",
    "    --extract $[genotype_file_directory]/$[genotype_prefix].`cat $[_input[0]] | awk '{ print $$[chrom] }'`.bim \\\n",
    "    --keep $[_input[1]] \\\n",
    "    --allow-no-sex\n",
    "    touch $[_input[1]:n].bed $[_input[1]:n].bim $[_input[1]:n].fam"
   ]
  },
  {
   "cell_type": "code",
   "execution_count": null,
   "metadata": {
    "kernel": "SoS"
   },
   "outputs": [],
   "source": []
  },
  {
   "cell_type": "code",
   "execution_count": 104,
   "metadata": {
    "kernel": "SoS"
   },
   "outputs": [
    {
     "name": "stderr",
     "output_type": "stream",
     "text": [
      "Failed to process step output (f'{wd}/WEIGHTS/{_input[0]:bn}.wgt.RDat'): name 'wd' is not defined\n"
     ]
    }
   ],
   "source": [
    "#Actual weight computation \n",
    "[STEP_4]\n",
    "import os\n",
    "input: group_by = 3\n",
    "output: f'{wd}/WEIGHTS/{_input[0]:bn}.wgt.RDat'\n",
    "skip_if(os.path.getsize(f'{_input[0]}') == 0)\n",
    "\n",
    "bash: expand= \"$[ ]\",stderr = f'{_output[0]:nn}.stderr', stdout = f'{_output[0]:nn}.stdout', active = (os.path.getsize(f'{_input[0]}') != 0)\n",
    "    cd $[wd]\n",
    "    Rscript $[compute_weight_rscp] \\\n",
    "    --bfile $[_input[1]:n] \\\n",
    "    --tmp $[_input[1]:n].tmp \\\n",
    "    --out ./WEIGHTS/$[_output[0]:bnn] \\\n",
    "    --verbose 0 \\\n",
    "    --save_hsq \\\n",
    "    --PATH_gcta $[GCTA] \\\n",
    "    --PATH_gemma $[GEMMA] \\\n",
    "    --models $[model]\n",
    "    ## blsmm model will take up too many time and therefore is not comment out in the testing period.\n",
    "    \n",
    "    \n",
    "    ## Creat dummy output file that will be deleted next step\n",
    "    touch $[_output[0]]\n",
    "    ## Append heritability output to hsq file\n",
    "    cat ./WEIGHTS/$[_output[0]:bnn].hsq >> All_passed_gene.hsq\n",
    "    echo \"end of circle\""
   ]
  },
  {
   "cell_type": "code",
   "execution_count": 111,
   "metadata": {
    "kernel": "SoS"
   },
   "outputs": [],
   "source": [
    "#Create wgt.Rdat map for Assoc_testing\n",
    "[STEP_5]\n",
    "import os\n",
    "input: group_by = 1\n",
    "skip_if(os.path.getsize(f'{_input}') == 0)\n",
    "\n",
    "bash: expand= \"$[ ]\"\n",
    "    cd $[wd]\n",
    "    echo $[_input:b] \\\n",
    "    `awk '{ print $$[gene_name] }' $[wd]/$[_input:bnnnn]_per_gene/$[_input:bnn].txt` \\\n",
    "    `awk '{ print $$[chrom] }' $[wd]/$[_input:bnnnn]_per_gene/$[_input:bnn].txt` \\\n",
    "    `awk '{ print $$[gene_start] - $[window] }' $[wd]/$[_input:bnnnn]_per_gene/$[_input:bnn].txt` \\\n",
    "    `awk '{ print $$[gene_end] + $[window] }' $[wd]/$[_input:bnnnn]_per_gene/$[_input:bnn].txt` >> $[_input:nnnn].pos\n"
   ]
  },
  {
   "cell_type": "code",
   "execution_count": 90,
   "metadata": {
    "kernel": "SoS"
   },
   "outputs": [],
   "source": [
    "# Association test\n",
    "[STEP_6,AssocTest]\n",
    "from pathlib import Path\n",
    "pos = list(set([tuple(x.strip().split()) for x in open(f'{wd}/WEIGHTS/{Path(gene_exp_file).stem}.pos').readlines()[1:] if x.strip()]))\n",
    "chrom_list = list(set([item[2] for item in pos]))\n",
    "chrom_list\n",
    "\n",
    "input: sumstat_file,for_each = \"chrom_list\"\n",
    "output:f'{assoc_test_result}/{gene_exp_file:bn}_{_chrom_list}.dat'\n",
    "\n",
    "bash: expand= \"$[ ]\", stderr = f'{_output[0]:n}.stderr', stdout = f'{_output[0]:n}.stdout'\n",
    "    echo $[_chrom_list]\n",
    "    echo $[wd]/WEIGHTS/\n",
    "    echo 'Rscript $[assoc_test_rscp] \\\n",
    "    --sumstats $[_input] \\\n",
    "    --weights ./$[gene_exp_file:bn].pos \\\n",
    "    --weights_dir ./ \\\n",
    "    --ref_ld_chr $[genotype_file_directory]/$[genotype_prefix]. \\\n",
    "    --chr $[_chrom_list] \\\n",
    "    --out $[_output] '\n",
    "    \n",
    "    cd $[wd]/WEIGHTS/\n",
    "    Rscript $[assoc_test_rscp] \\\n",
    "    --sumstats $[_input] \\\n",
    "    --weights ./$[gene_exp_file:bn].pos \\\n",
    "    --weights_dir ./ \\\n",
    "    --ref_ld_chr $[genotype_file_directory]/$[genotype_prefix]. \\\n",
    "    --chr $[_chrom_list] \\\n",
    "    --out $[_output]\n",
    "    \n",
    "\n"
   ]
  },
  {
   "cell_type": "code",
   "execution_count": 8,
   "metadata": {
    "kernel": "SoS"
   },
   "outputs": [
    {
     "name": "stdout",
     "output_type": "stream",
     "text": [
      "bash: 1+3: command not found\n",
      "\n"
     ]
    }
   ],
   "source": [
    "# Clean up dummy file\n",
    "[STEP_7]\n",
    "input: group_by = \"all\"\n",
    "output: f'{wd}/error_gene/no_plink.txt',\n",
    "        f'{wd}/error_gene/no_wgt_computed.txt'\n",
    "bash: expand= \"$[ ]\",allow_error=True\n",
    "    cd $[wd]\n",
    "    find ./tmp/*.bim -size 0 -print > $[_output[0]]\n",
    "    rm `find ./tmp/*.bim -size 0`\n",
    "    rm `find ./tmp/*.fam -size 0`\n",
    "    rm `find ./tmp/*.bed -size 0`\n",
    "    find ./WEIGHTS/*.wgt.RDat -size 0 -print > $[_output[1]]\n",
    "    rm `find ./WEIGHTS/*.wgt.RDat -size 0`\n",
    "    "
   ]
  },
  {
   "cell_type": "code",
   "execution_count": null,
   "metadata": {
    "kernel": "Python3"
   },
   "outputs": [],
   "source": []
  },
  {
   "cell_type": "code",
   "execution_count": null,
   "metadata": {
    "kernel": "Bash"
   },
   "outputs": [],
   "source": []
  },
  {
   "cell_type": "code",
   "execution_count": null,
   "metadata": {
    "kernel": "Python3"
   },
   "outputs": [],
   "source": []
  },
  {
   "cell_type": "code",
   "execution_count": 2,
   "metadata": {
    "kernel": "Bash"
   },
   "outputs": [
    {
     "name": "stdout",
     "output_type": "stream",
     "text": [
      "Restarting kernel \"Bash\"\n",
      "/Users/haosun/Documents/WG_Reasearch_Assisstant/GIT/twas-dev/Workflow\n",
      "\n"
     ]
    }
   ],
   "source": [
    "pwd"
   ]
  },
  {
   "cell_type": "code",
   "execution_count": null,
   "metadata": {
    "kernel": "Bash"
   },
   "outputs": [],
   "source": []
  }
 ],
 "metadata": {
  "kernelspec": {
   "display_name": "SoS",
   "language": "sos",
   "name": "sos"
  },
  "language_info": {
   "codemirror_mode": "sos",
   "file_extension": ".sos",
   "mimetype": "text/x-sos",
   "name": "sos",
   "nbconvert_exporter": "sos_notebook.converter.SoS_Exporter",
   "pygments_lexer": "sos"
  },
  "sos": {
   "kernels": [
    [
     "Bash",
     "calysto_bash",
     "Bash",
     "#E6EEFF",
     ""
    ],
    [
     "Python3",
     "python3",
     "Python3",
     "#FFD91A",
     {
      "name": "ipython",
      "version": 3
     }
    ],
    [
     "SoS",
     "sos",
     "",
     "",
     "sos"
    ]
   ],
   "version": "0.20.1"
  }
 },
 "nbformat": 4,
 "nbformat_minor": 4
}
