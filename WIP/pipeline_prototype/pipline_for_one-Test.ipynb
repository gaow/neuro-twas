{
 "cells": [
  {
   "cell_type": "markdown",
   "metadata": {
    "kernel": "Bash"
   },
   "source": [
    "## Enviorment\n",
    "The following section are used to specify the hyperparameter and the path the the software that were used. \n",
    "No need to changed if the pipeline stay the same and were applied to different data\n"
   ]
  },
  {
   "cell_type": "code",
   "execution_count": 141,
   "metadata": {
    "kernel": "Bash"
   },
   "outputs": [
    {
     "name": "stdout",
     "output_type": "stream",
     "text": [
      "\n"
     ]
    }
   ],
   "source": [
    "##!/bin/sh\n",
    "# MAKE SURE FUSION.compute_weights.R IS IN YOUR PATH\n",
    "# FILL IN THESE PATHS\n",
    "# For mac user, the mac version of GCTA shall be downloaded saperately, the one came with the Fusion package will not work.\n",
    "GCTA=\"/Users/haosun/Documents/WG_Reasearch_Assisstant/Fusion/install/fusion_twas-master/gcta_1.93.2beta_mac/gcta64\"\n",
    "PLINK=\"/Users/haosun/Documents/WG_Reasearch_Assisstant/Fusion/plink_mac_20200616/plink\"\n",
    "GEMMA=\"/Users/haosun/Documents/WG_Reasearch_Assisstant/Fusion/install/fusion_twas-master/GEMMA\"\n",
    "\n",
    "# Required the customized fusion.compute_weight.mod.R script, other wise will not work\n",
    "Rscp=\"/Users/haosun/Documents/WG_Reasearch_Assisstant/Fusion/install/fusion_twas-master/FUSION.compute_weights.mod.R\"\n",
    "# Path to the input data\n",
    "Datarep=\"/Users/haosun/Documents/WG_Reasearch_Assisstant/Fusion/install/fusion_twas-master/Testing/Data/\"\n",
    "# ALTERNATIVELY: ENSURE THAT plink, gcta, gemma CAN BE CALLED FROM PATH AND REMOVE --PATH_* FLAGS BELOW\n",
    "\n",
    "# PATH TO WORKING DIRECTORY\n",
    "wd=\"/Users/haosun/Documents/WG_Reasearch_Assisstant/Fusion/install/fusion_twas-master/Testing\"\n",
    "\n",
    "# PATH TO OUTPUT DIRECTORY (population-specific subdirs will be made)\n",
    "OUT_DIR=\"./WEIGHTS\"\n",
    "\n",
    "# ROWS IN THE MATRIX TO ANALYZE (FOR BATCHED RUNS)\n",
    "BATCH_START=1\n",
    "BATCH_END=56"
   ]
  },
  {
   "cell_type": "markdown",
   "metadata": {
    "kernel": "SoS"
   },
   "source": [
    "## Input \n",
    "\n",
    "This is where the actual RNA Seq data of our own should be used as input.\n",
    "\n",
    "Note: GD462.GeneQuantRPKM.50FN.samplename.resk10.txt is the rna seq data for gene expression from the \"465 lymphoblastoid cell lines from the 1000 Genomes\" projects. There is 23722 genes from 462 samples. The first 4 col is \"TargetID, Gene_Symbol, Chr, Coord\". The rest are each samples.\n",
    "\n",
    "GD462.GeneQuantRPKM.50FN.samplename.resk10.txt is the RNA seq data for the first 10 ppl\n",
    "\n",
    "LDREF/1000G.EUR.*.bim contains the linkage disequilibrium info for each snp."
   ]
  },
  {
   "cell_type": "code",
   "execution_count": 142,
   "metadata": {
    "kernel": "Bash"
   },
   "outputs": [
    {
     "name": "stdout",
     "output_type": "stream",
     "text": [
      "\n"
     ]
    }
   ],
   "source": [
    "# PATH TO DIRECTORY CONTAINING LDREF DATA (FROM FUSION WEBSITE or https://data.broadinstitute.org/alkesgroup/FUSION/LDREF.tar.bz2)\n",
    "LDREF=\"/Users/haosun/Documents/WG_Reasearch_Assisstant/Fusion/install/fusion_twas-master/LDREF\"\n",
    "# THIS IS USED TO RESTRICT INPUT SNPS TO REFERENCE IDS ONLY\n",
    "\n",
    "# PATH TO GEUVADIS GENE EXPRESSION MATRIX:\n",
    "PRE_GEXP=\"GD462.hsq_succ.test.txt\"\n",
    "# GEUVADIS DATA WAS DOWNLOADED FROM https://www.ebi.ac.uk/arrayexpress/experiments/E-GEUV-1/files/analysis_results/\n",
    "\n",
    "# PATH TO PREFIX FOR GEUVADIS GENOTYPES SPLIT BY CHROMOSOME\n",
    "# SUBSAMPLE THESE TO THE LDREF SNPS FOR EFFICIENCY\n",
    "PRE_GENO=\"1000G.EUR\""
   ]
  },
  {
   "cell_type": "markdown",
   "metadata": {
    "kernel": "SoS"
   },
   "source": [
    "## Pipeline\n"
   ]
  },
  {
   "cell_type": "code",
   "execution_count": 148,
   "metadata": {
    "kernel": "Bash"
   },
   "outputs": [
    {
     "name": "stdout",
     "output_type": "stream",
     "text": [
      "mkdir: ./WEIGHTS: File exists\n",
      "\n"
     ]
    }
   ],
   "source": [
    "# --- BEGIN SCRIPT:\n",
    "cd $wd\n",
    "NR=\"${BATCH_START}_${BATCH_END}\"\n",
    "mkdir -p tmp/$NR\n",
    "mkdir -p hsq/$NR\n",
    "mkdir -p out/$NR\n",
    "# THIS IS DIRECTORY WHERE THE OUTPUT WILL GO:\n",
    "mkdir $OUT_DIR"
   ]
  },
  {
   "cell_type": "markdown",
   "metadata": {
    "kernel": "Bash"
   },
   "source": [
    "Note 1: the first two column of the out.pheno shall be the same as that of the .fam file"
   ]
  },
  {
   "cell_type": "code",
   "execution_count": 171,
   "metadata": {
    "kernel": "Bash"
   },
   "outputs": [
    {
     "name": "stdout",
     "output_type": "stream",
     "text": [
      "mkdir: /Users/haosun/Documents/WG_Reasearch_Assisstant/Fusion/install/fusion_twas-master/Testing/Data/GD462.hsq_succ.test_per_gene: File exists\n",
      "\n"
     ]
    }
   ],
   "source": [
    "# makes necessary component that are useful for follow up pipeline\n",
    "cd $wd\n",
    "\n",
    "# get the within family sample ID, need to customized for it to match those of the LDREF file\n",
    "head $Datarep$PRE_GEXP | awk '{$1=$2=$3=$4=\"\"; print substr($0,5)}' | fmt -1 > PRE_GEXPID\n",
    "\n",
    "# make a diretory containing the per_gene file\n",
    "mkdir $Datarep${PRE_GEXP%.*}_per_gene\n",
    "\n"
   ]
  },
  {
   "cell_type": "markdown",
   "metadata": {
    "kernel": "Bash"
   },
   "source": [
    "## SOS Pipeline prep (WIP)"
   ]
  },
  {
   "cell_type": "code",
   "execution_count": 147,
   "metadata": {
    "kernel": "Bash"
   },
   "outputs": [
    {
     "name": "stdout",
     "output_type": "stream",
     "text": [
      "bash: syntax error near unexpected token `done'\n",
      "\n"
     ]
    }
   ],
   "source": [
    "cd $wd\n",
    "\n",
    "# extract each gene from the data matrixs to a file\n",
    "cat $Datarep$PRE_GEXP | awk -v s=$BATCH_START -v e=$BATCH_END 'NR > s && NR <= e' |  while read PARAM; do\n",
    "\n",
    "GNAME=`echo $PARAM | awk '{ print $1 }'`\n",
    "echo $PARAM > $Datarep${PRE_GEXP%.*}_per_gene/${PRE_GEXP%.*}_$GNAME.txt\n",
    "\n",
    "done"
   ]
  },
  {
   "cell_type": "markdown",
   "metadata": {
    "kernel": "Bash"
   },
   "source": [
    "## Original Pipeline (Working but needs to transformed into sos pipeline)"
   ]
  },
  {
   "cell_type": "code",
   "execution_count": 145,
   "metadata": {
    "kernel": "Bash"
   },
   "outputs": [
    {
     "name": "stdout",
     "output_type": "stream",
     "text": [
      "ENSG00000136237.12 7 21896763 22896763\n",
      "mkdir: ./WEIGHTS/ALL: File exists\n",
      "ERROR: tmp/1_56/GD462.hsq_succ.test.txt.ENSG00000136237.12.bed input file does not exist\n",
      "end of circle\n",
      "ENSG00000225267.1 21 31136199 32136199\n",
      "mkdir: ./WEIGHTS/ALL: File exists\n",
      "ERROR: tmp/1_56/GD462.hsq_succ.test.txt.ENSG00000225267.1.bed input file does not exist\n",
      "end of circle\n",
      "ENSG00000259382.1 6 31653659 32653659\n",
      "mkdir: ./WEIGHTS/ALL: File exists\n",
      "ERROR: tmp/1_56/GD462.hsq_succ.test.txt.ENSG00000259382.1.bed input file does not exist\n",
      "end of circle\n",
      "ENSG00000124374.8 2 70954213 71954213\n",
      "mkdir: ./WEIGHTS/ALL: File exists\n",
      "ERROR: tmp/1_56/GD462.hsq_succ.test.txt.ENSG00000124374.8.bed input file does not exist\n",
      "cat: ./WEIGHTS/ALL/ALL.ENSG00000124374.8.hsq: No such file or directory\n",
      "end of circle\n",
      "ENSG00000250443.2 3 196733857 197733857\n",
      "mkdir: ./WEIGHTS/ALL: File exists\n",
      "ERROR: tmp/1_56/GD462.hsq_succ.test.txt.ENSG00000250443.2.bed input file does not exist\n",
      "cat: ./WEIGHTS/ALL/ALL.ENSG00000250443.2.hsq: No such file or directory\n",
      "end of circle\n",
      "ENSG00000135046.9 9 75266673 76266673\n",
      "mkdir: ./WEIGHTS/ALL: File exists\n",
      "ERROR: tmp/1_56/GD462.hsq_succ.test.txt.ENSG00000135046.9.bed input file does not exist\n",
      "cat: ./WEIGHTS/ALL/ALL.ENSG00000135046.9.hsq: No such file or directory\n",
      "end of circle\n",
      "ENSG00000186952.10 5 109574657 110574657\n",
      "mkdir: ./WEIGHTS/ALL: File exists\n",
      "ERROR: tmp/1_56/GD462.hsq_succ.test.txt.ENSG00000186952.10.bed input file does not exist\n",
      "cat: ./WEIGHTS/ALL/ALL.ENSG00000186952.10.hsq: No such file or directory\n",
      "end of circle\n",
      "ENSG00000227280.1 1 144875554 145875554\n",
      "mkdir: ./WEIGHTS/ALL: File exists\n",
      "ERROR: tmp/1_56/GD462.hsq_succ.test.txt.ENSG00000227280.1.bed input file does not exist\n",
      "cat: ./WEIGHTS/ALL/ALL.ENSG00000227280.1.hsq: No such file or directory\n",
      "end of circle\n",
      "ENSG00000117480.10 1 46359937 47359937\n",
      "mkdir: ./WEIGHTS/ALL: File exists\n",
      "ERROR: tmp/1_56/GD462.hsq_succ.test.txt.ENSG00000117480.10.bed input file does not exist\n",
      "cat: ./WEIGHTS/ALL/ALL.ENSG00000117480.10.hsq: No such file or directory\n",
      "end of circle\n",
      "ENSG00000115350.7 2 74685619 75685619\n",
      "mkdir: ./WEIGHTS/ALL: File exists\n",
      "ERROR: tmp/1_56/GD462.hsq_succ.test.txt.ENSG00000115350.7.bed input file does not exist\n",
      "cat: ./WEIGHTS/ALL/ALL.ENSG00000115350.7.hsq: No such file or directory\n",
      "end of circle\n",
      "ENSG00000099998.12 22 24141110 25141110\n",
      "mkdir: ./WEIGHTS/ALL: File exists\n",
      "ERROR: tmp/1_56/GD462.hsq_succ.test.txt.ENSG00000099998.12.bed input file does not exist\n",
      "cat: ./WEIGHTS/ALL/ALL.ENSG00000099998.12.hsq: No such file or directory\n",
      "end of circle\n",
      "ENSG00000245648.1 12 10016368 11016368\n",
      "mkdir: ./WEIGHTS/ALL: File exists\n",
      "ERROR: tmp/1_56/GD462.hsq_succ.test.txt.ENSG00000245648.1.bed input file does not exist\n",
      "cat: ./WEIGHTS/ALL/ALL.ENSG00000245648.1.hsq: No such file or directory\n",
      "end of circle\n",
      "ENSG00000205795.4 2 9721071 10721071\n",
      "mkdir: ./WEIGHTS/ALL: File exists\n",
      "ERROR: tmp/1_56/GD462.hsq_succ.test.txt.ENSG00000205795.4.bed input file does not exist\n",
      "cat: ./WEIGHTS/ALL/ALL.ENSG00000205795.4.hsq: No such file or directory\n",
      "end of circle\n",
      "ENSG00000108797.6 17 40334632 41334632\n",
      "mkdir: ./WEIGHTS/ALL: File exists\n",
      "ERROR: tmp/1_56/GD462.hsq_succ.test.txt.ENSG00000108797.6.bed input file does not exist\n",
      "cat: ./WEIGHTS/ALL/ALL.ENSG00000108797.6.hsq: No such file or directory\n",
      "end of circle\n",
      "ENSG00000176593.3 19 58013429 59013429\n",
      "mkdir: ./WEIGHTS/ALL: File exists\n",
      "ERROR: tmp/1_56/GD462.hsq_succ.test.txt.ENSG00000176593.3.bed input file does not exist\n",
      "cat: ./WEIGHTS/ALL/ALL.ENSG00000176593.3.hsq: No such file or directory\n",
      "end of circle\n",
      "ENSG00000260052.1 16 48171054 49171054\n",
      "mkdir: ./WEIGHTS/ALL: File exists\n",
      "ERROR: tmp/1_56/GD462.hsq_succ.test.txt.ENSG00000260052.1.bed input file does not exist\n",
      "cat: ./WEIGHTS/ALL/ALL.ENSG00000260052.1.hsq: No such file or directory\n",
      "end of circle\n",
      "ENSG00000108448.13 17 18101311 19101311\n",
      "mkdir: ./WEIGHTS/ALL: File exists\n",
      "ERROR: tmp/1_56/GD462.hsq_succ.test.txt.ENSG00000108448.13.bed input file does not exist\n",
      "cat: ./WEIGHTS/ALL/ALL.ENSG00000108448.13.hsq: No such file or directory\n",
      "end of circle\n",
      "ENSG00000145365.8 4 112707059 113707059\n",
      "mkdir: ./WEIGHTS/ALL: File exists\n",
      "ERROR: tmp/1_56/GD462.hsq_succ.test.txt.ENSG00000145365.8.bed input file does not exist\n",
      "cat: ./WEIGHTS/ALL/ALL.ENSG00000145365.8.hsq: No such file or directory\n",
      "end of circle\n",
      "ENSG00000163584.13 3 170088272 171088272\n",
      "mkdir: ./WEIGHTS/ALL: File exists\n",
      "ERROR: tmp/1_56/GD462.hsq_succ.test.txt.ENSG00000163584.13.bed input file does not exist\n",
      "cat: ./WEIGHTS/ALL/ALL.ENSG00000163584.13.hsq: No such file or directory\n",
      "end of circle\n",
      "ENSG00000261000.1 1 206177281 207177281\n",
      "mkdir: ./WEIGHTS/ALL: File exists\n",
      "ERROR: tmp/1_56/GD462.hsq_succ.test.txt.ENSG00000261000.1.bed input file does not exist\n",
      "cat: ./WEIGHTS/ALL/ALL.ENSG00000261000.1.hsq: No such file or directory\n",
      "end of circle\n",
      "ENSG00000158623.10 7 129853598 130853598\n",
      "mkdir: ./WEIGHTS/ALL: File exists\n",
      "ERROR: tmp/1_56/GD462.hsq_succ.test.txt.ENSG00000158623.10.bed input file does not exist\n",
      "cat: ./WEIGHTS/ALL/ALL.ENSG00000158623.10.hsq: No such file or directory\n",
      "end of circle\n",
      "ENSG00000182512.4 14 95499840 96499840\n",
      "mkdir: ./WEIGHTS/ALL: File exists\n",
      "ERROR: tmp/1_56/GD462.hsq_succ.test.txt.ENSG00000182512.4.bed input file does not exist\n",
      "cat: ./WEIGHTS/ALL/ALL.ENSG00000182512.4.hsq: No such file or directory\n",
      "end of circle\n",
      "ENSG00000229358.2 7 32301399 33301399\n",
      "mkdir: ./WEIGHTS/ALL: File exists\n",
      "ERROR: tmp/1_56/GD462.hsq_succ.test.txt.ENSG00000229358.2.bed input file does not exist\n",
      "cat: ./WEIGHTS/ALL/ALL.ENSG00000229358.2.hsq: No such file or directory\n",
      "end of circle\n",
      "ENSG00000160213.5 21 44696326 45696326\n",
      "mkdir: ./WEIGHTS/ALL: File exists\n",
      "ERROR: tmp/1_56/GD462.hsq_succ.test.txt.ENSG00000160213.5.bed input file does not exist\n",
      "cat: ./WEIGHTS/ALL/ALL.ENSG00000160213.5.hsq: No such file or directory\n",
      "end of circle\n",
      "ENSG00000049247.8 1 7413572 8413572\n",
      "mkdir: ./WEIGHTS/ALL: File exists\n",
      "ERROR: tmp/1_56/GD462.hsq_succ.test.txt.ENSG00000049247.8.bed input file does not exist\n",
      "cat: ./WEIGHTS/ALL/ALL.ENSG00000049247.8.hsq: No such file or directory\n",
      "end of circle\n",
      "ENSG00000056972.13 6 111427481 112427481\n",
      "mkdir: ./WEIGHTS/ALL: File exists\n",
      "ERROR: tmp/1_56/GD462.hsq_succ.test.txt.ENSG00000056972.13.bed input file does not exist\n",
      "cat: ./WEIGHTS/ALL/ALL.ENSG00000056972.13.hsq: No such file or directory\n",
      "end of circle\n",
      "ENSG00000124532.9 6 23903153 24903153\n",
      "mkdir: ./WEIGHTS/ALL: File exists\n",
      "ERROR: tmp/1_56/GD462.hsq_succ.test.txt.ENSG00000124532.9.bed input file does not exist\n",
      "cat: ./WEIGHTS/ALL/ALL.ENSG00000124532.9.hsq: No such file or directory\n",
      "end of circle\n",
      "ENSG00000169641.9 1 23004301 24004301\n",
      "mkdir: ./WEIGHTS/ALL: File exists\n",
      "ERROR: tmp/1_56/GD462.hsq_succ.test.txt.ENSG00000169641.9.bed input file does not exist\n",
      "cat: ./WEIGHTS/ALL/ALL.ENSG00000169641.9.hsq: No such file or directory\n",
      "end of circle\n",
      "ENSG00000248049.2 4 68066998 69066998\n",
      "mkdir: ./WEIGHTS/ALL: File exists\n",
      "ERROR: tmp/1_56/GD462.hsq_succ.test.txt.ENSG00000248049.2.bed input file does not exist\n",
      "cat: ./WEIGHTS/ALL/ALL.ENSG00000248049.2.hsq: No such file or directory\n",
      "end of circle\n",
      "ENSG00000214338.6 6 127340500 128340500\n",
      "mkdir: ./WEIGHTS/ALL: File exists\n",
      "ERROR: tmp/1_56/GD462.hsq_succ.test.txt.ENSG00000214338.6.bed input file does not exist\n",
      "cat: ./WEIGHTS/ALL/ALL.ENSG00000214338.6.hsq: No such file or directory\n",
      "end of circle\n",
      "ENSG00000156218.8 15 83822838 84822838\n",
      "mkdir: ./WEIGHTS/ALL: File exists\n",
      "ERROR: tmp/1_56/GD462.hsq_succ.test.txt.ENSG00000156218.8.bed input file does not exist\n",
      "cat: ./WEIGHTS/ALL/ALL.ENSG00000156218.8.hsq: No such file or directory\n",
      "end of circle\n",
      "ENSG00000095739.6 10 28466271 29466271\n",
      "mkdir: ./WEIGHTS/ALL: File exists\n",
      "ERROR: tmp/1_56/GD462.hsq_succ.test.txt.ENSG00000095739.6.bed input file does not exist\n",
      "cat: ./WEIGHTS/ALL/ALL.ENSG00000095739.6.hsq: No such file or directory\n",
      "end of circle\n",
      "ENSG00000232713.1 2 60665739 61665739\n",
      "mkdir: ./WEIGHTS/ALL: File exists\n",
      "ERROR: tmp/1_56/GD462.hsq_succ.test.txt.ENSG00000232713.1.bed input file does not exist\n",
      "cat: ./WEIGHTS/ALL/ALL.ENSG00000232713.1.hsq: No such file or directory\n",
      "end of circle\n",
      "ENSG00000169862.13 5 11404155 12404155\n",
      "mkdir: ./WEIGHTS/ALL: File exists\n",
      "ERROR: tmp/1_56/GD462.hsq_succ.test.txt.ENSG00000169862.13.bed input file does not exist\n",
      "cat: ./WEIGHTS/ALL/ALL.ENSG00000169862.13.hsq: No such file or directory\n",
      "end of circle\n",
      "ENSG00000171103.6 2 28593167 29593167\n",
      "mkdir: ./WEIGHTS/ALL: File exists\n",
      "ERROR: tmp/1_56/GD462.hsq_succ.test.txt.ENSG00000171103.6.bed input file does not exist\n",
      "cat: ./WEIGHTS/ALL/ALL.ENSG00000171103.6.hsq: No such file or directory\n",
      "end of circle\n",
      "ENSG00000178381.7 7 700395 1700395\n",
      "mkdir: ./WEIGHTS/ALL: File exists\n",
      "ERROR: tmp/1_56/GD462.hsq_succ.test.txt.ENSG00000178381.7.bed input file does not exist\n",
      "cat: ./WEIGHTS/ALL/ALL.ENSG00000178381.7.hsq: No such file or directory\n",
      "end of circle\n",
      "ENSG00000158555.10 11 74736948 75736948\n",
      "mkdir: ./WEIGHTS/ALL: File exists\n",
      "ERROR: tmp/1_56/GD462.hsq_succ.test.txt.ENSG00000158555.10.bed input file does not exist\n",
      "cat: ./WEIGHTS/ALL/ALL.ENSG00000158555.10.hsq: No such file or directory\n",
      "end of circle\n",
      "ENSG00000148377.5 10 571799 1571799\n",
      "mkdir: ./WEIGHTS/ALL: File exists\n",
      "ERROR: tmp/1_56/GD462.hsq_succ.test.txt.ENSG00000148377.5.bed input file does not exist\n",
      "cat: ./WEIGHTS/ALL/ALL.ENSG00000148377.5.hsq: No such file or directory\n",
      "end of circle\n",
      "ENSG00000251323.2 11 77640882 78640882\n",
      "mkdir: ./WEIGHTS/ALL: File exists\n",
      "ERROR: tmp/1_56/GD462.hsq_succ.test.txt.ENSG00000251323.2.bed input file does not exist\n",
      "cat: ./WEIGHTS/ALL/ALL.ENSG00000251323.2.hsq: No such file or directory\n",
      "end of circle\n",
      "ENSG00000232157.1 6 33752267 34752267\n",
      "mkdir: ./WEIGHTS/ALL: File exists\n",
      "ERROR: tmp/1_56/GD462.hsq_succ.test.txt.ENSG00000232157.1.bed input file does not exist\n",
      "cat: ./WEIGHTS/ALL/ALL.ENSG00000232157.1.hsq: No such file or directory\n",
      "end of circle\n",
      "ENSG00000135898.5 2 231325781 232325781\n",
      "mkdir: ./WEIGHTS/ALL: File exists\n",
      "ERROR: tmp/1_56/GD462.hsq_succ.test.txt.ENSG00000135898.5.bed input file does not exist\n",
      "cat: ./WEIGHTS/ALL/ALL.ENSG00000135898.5.hsq: No such file or directory\n",
      "end of circle\n",
      "ENSG00000183308.6 2 201327986 202327986\n",
      "mkdir: ./WEIGHTS/ALL: File exists\n",
      "ERROR: tmp/1_56/GD462.hsq_succ.test.txt.ENSG00000183308.6.bed input file does not exist\n",
      "cat: ./WEIGHTS/ALL/ALL.ENSG00000183308.6.hsq: No such file or directory\n",
      "end of circle\n",
      "ENSG00000161551.7 19 51894203 52894203\n",
      "mkdir: ./WEIGHTS/ALL: File exists\n",
      "ERROR: tmp/1_56/GD462.hsq_succ.test.txt.ENSG00000161551.7.bed input file does not exist\n",
      "cat: ./WEIGHTS/ALL/ALL.ENSG00000161551.7.hsq: No such file or directory\n",
      "end of circle\n",
      "ENSG00000155729.8 2 200884507 201884507\n",
      "mkdir: ./WEIGHTS/ALL: File exists\n",
      "ERROR: tmp/1_56/GD462.hsq_succ.test.txt.ENSG00000155729.8.bed input file does not exist\n",
      "cat: ./WEIGHTS/ALL/ALL.ENSG00000155729.8.hsq: No such file or directory\n",
      "end of circle\n",
      "ENSG00000096696.8 6 7041808 8041808\n",
      "mkdir: ./WEIGHTS/ALL: File exists\n",
      "ERROR: tmp/1_56/GD462.hsq_succ.test.txt.ENSG00000096696.8.bed input file does not exist\n",
      "cat: ./WEIGHTS/ALL/ALL.ENSG00000096696.8.hsq: No such file or directory\n",
      "end of circle\n",
      "ENSG00000106100.6 7 30018400 31018400\n",
      "mkdir: ./WEIGHTS/ALL: File exists\n",
      "ERROR: tmp/1_56/GD462.hsq_succ.test.txt.ENSG00000106100.6.bed input file does not exist\n",
      "cat: ./WEIGHTS/ALL/ALL.ENSG00000106100.6.hsq: No such file or directory\n",
      "end of circle\n",
      "ENSG00000174236.2 12 27349428 28349428\n",
      "mkdir: ./WEIGHTS/ALL: File exists\n",
      "ERROR: tmp/1_56/GD462.hsq_succ.test.txt.ENSG00000174236.2.bed input file does not exist\n",
      "cat: ./WEIGHTS/ALL/ALL.ENSG00000174236.2.hsq: No such file or directory\n",
      "end of circle\n",
      "ENSG00000198468.2 1 212531430 213531430\n",
      "mkdir: ./WEIGHTS/ALL: File exists\n",
      "ERROR: tmp/1_56/GD462.hsq_succ.test.txt.ENSG00000198468.2.bed input file does not exist\n",
      "cat: ./WEIGHTS/ALL/ALL.ENSG00000198468.2.hsq: No such file or directory\n",
      "end of circle\n",
      "ENSG00000230795.2 6 29394236 30394236\n",
      "mkdir: ./WEIGHTS/ALL: File exists\n",
      "ERROR: tmp/1_56/GD462.hsq_succ.test.txt.ENSG00000230795.2.bed input file does not exist\n",
      "cat: ./WEIGHTS/ALL/ALL.ENSG00000230795.2.hsq: No such file or directory\n",
      "end of circle\n",
      "ENSG00000128886.7 15 43569741 44569741\n",
      "mkdir: ./WEIGHTS/ALL: File exists\n",
      "ERROR: tmp/1_56/GD462.hsq_succ.test.txt.ENSG00000128886.7.bed input file does not exist\n",
      "cat: ./WEIGHTS/ALL/ALL.ENSG00000128886.7.hsq: No such file or directory\n",
      "end of circle\n",
      "ENSG00000165271.10 9 32973941 33973941\n",
      "mkdir: ./WEIGHTS/ALL: File exists\n",
      "ERROR: tmp/1_56/GD462.hsq_succ.test.txt.ENSG00000165271.10.bed input file does not exist\n",
      "cat: ./WEIGHTS/ALL/ALL.ENSG00000165271.10.hsq: No such file or directory\n",
      "end of circle\n",
      "ENSG00000130544.6 19 6569471 7569471\n",
      "mkdir: ./WEIGHTS/ALL: File exists\n",
      "ERROR: tmp/1_56/GD462.hsq_succ.test.txt.ENSG00000130544.6.bed input file does not exist\n",
      "cat: ./WEIGHTS/ALL/ALL.ENSG00000130544.6.hsq: No such file or directory\n",
      "end of circle\n",
      "ENSG00000151470.7 4 129514472 130514472\n",
      "mkdir: ./WEIGHTS/ALL: File exists\n",
      "ERROR: tmp/1_56/GD462.hsq_succ.test.txt.ENSG00000151470.7.bed input file does not exist\n",
      "cat: ./WEIGHTS/ALL/ALL.ENSG00000151470.7.hsq: No such file or directory\n",
      "end of circle\n",
      "ENSG00000240583.5 7 30393010 31393010\n",
      "mkdir: ./WEIGHTS/ALL: File exists\n",
      "ERROR: tmp/1_56/GD462.hsq_succ.test.txt.ENSG00000240583.5.bed input file does not exist\n",
      "cat: ./WEIGHTS/ALL/ALL.ENSG00000240583.5.hsq: No such file or directory\n",
      "end of circle\n",
      "ENSG00000229140.3 8 130192485 131192485\n",
      "mkdir: ./WEIGHTS/ALL: File exists\n",
      "ERROR: tmp/1_56/GD462.hsq_succ.test.txt.ENSG00000229140.3.bed input file does not exist\n",
      "cat: ./WEIGHTS/ALL/ALL.ENSG00000229140.3.hsq: No such file or directory\n",
      "end of circle\n",
      "\n"
     ]
    }
   ],
   "source": [
    "cd $wd\n",
    "# Loop through each gene expression phenotype in the batch (Only looking at the first 10 genes)\n",
    "cat $Datarep$PRE_GEXP | awk -v s=$BATCH_START -v e=$BATCH_END 'NR > s && NR <= e' |  while read PARAM; do\n",
    "# Get the gene positions +/- 500kb\n",
    "CHR=`echo $PARAM | awk '{ print $3 }'`\n",
    "P0=`echo $PARAM | awk '{ print $4 - 0.5e6 }'`\n",
    "P1=`echo $PARAM | awk '{ print $4 + 0.5e6 }'`\n",
    "GNAME=`echo $PARAM | awk '{ print $1 }'`\n",
    "\n",
    "OUT=\"tmp/$NR/$PRE_GEXP.$GNAME\"\n",
    "echo $GNAME $CHR $P0 $P1\n",
    "\n",
    "## Pull out the current gene expression phenotype (Note 1 )\n",
    "echo $PARAM | tr ' ' '\\n' | tail -n+5 | paste PRE_GEXPID PRE_GEXPID - > $OUT.pheno\n",
    "## Get the locus genotypes for all samples and set current gene expression as the phenotype\n",
    "$PLINK --bfile $LDREF/$PRE_GENO.$CHR --pheno $tmpdir$OUT.pheno --make-bed --out $tmpdir$OUT --chr $CHR --from-bp $P0 --to-bp $P1 --extract $LDREF/1000G.EUR.$CHR.bim --keep $tmpdir$OUT.pheno --allow-no-sex\n",
    "## Process all samples together (for reference purposes only since this is mult-ethnic data)\n",
    "mkdir $OUT_DIR/ALL\n",
    "FINAL_OUT=\"$OUT_DIR/ALL/ALL.$GNAME\"\n",
    "#echo $FINAL_OUT\n",
    "#\n",
    "#echo $OUT.tmp\n",
    "\n",
    "Rscript $Rscp --bfile $OUT --tmp $OUT.tmp --out $FINAL_OUT --verbose 0 --save_hsq --PATH_gcta $GCTA --PATH_gemma $GEMMA --models blup,lasso,top1,enet\n",
    "\n",
    "#\n",
    "## Append heritability output to hsq file\n",
    "cat $FINAL_OUT.hsq >> hsq/$NR.hsq\n",
    "#\n",
    "## Clean-up just in case\n",
    "rm -f $FINAL_OUT.hsq $OUT.tmp.*\n",
    "#\n",
    "# Remove all intermediate files\n",
    "echo \"end of circle\"\n",
    "\n",
    "# GO TO THE NEXT GENE\n",
    "done\n",
    "\n",
    "\n"
   ]
  },
  {
   "cell_type": "code",
   "execution_count": 15,
   "metadata": {
    "kernel": "Bash"
   },
   "outputs": [
    {
     "name": "stdout",
     "output_type": "stream",
     "text": [
      "--2020-07-13 14:31:25--  https://github.com/cumc/neuro-twas/blob/master/WIP/pipeline_prototype/Fusion.compute_weights_testing.ipynb\n",
      "Resolving github.com (github.com)... 140.82.114.3\n",
      "Connecting to github.com (github.com)|140.82.114.3|:443... connected.\n",
      "HTTP request sent, awaiting response... 404 Not Found\n",
      "2020-07-13 14:31:26 ERROR 404: Not Found.\n",
      "\n",
      "\n"
     ]
    }
   ],
   "source": [
    "wget https://github.com/cumc/neuro-twas/blob/master/WIP/pipeline_prototype/Fusion.compute_weights_testing.ipynb"
   ]
  },
  {
   "cell_type": "code",
   "execution_count": 120,
   "metadata": {
    "kernel": "Bash"
   },
   "outputs": [
    {
     "name": "stdout",
     "output_type": "stream",
     "text": [
      "\n"
     ]
    }
   ],
   "source": [
    "cd tmp"
   ]
  },
  {
   "cell_type": "code",
   "execution_count": null,
   "metadata": {
    "kernel": "Bash"
   },
   "outputs": [],
   "source": []
  },
  {
   "cell_type": "code",
   "execution_count": null,
   "metadata": {
    "kernel": "Bash"
   },
   "outputs": [],
   "source": []
  },
  {
   "cell_type": "code",
   "execution_count": 73,
   "metadata": {
    "kernel": "Bash"
   },
   "outputs": [
    {
     "name": "stderr",
     "output_type": "stream",
     "text": [
      "\u001b[0;31m'utf-8' codec can't decode byte 0xa4 in position 1: invalid start byte\n",
      "\u001b[0m"
     ]
    }
   ],
   "source": [
    "cd tmp/1_2/\n",
    "ls\n",
    "cat GD462.hsq_succ.test.txt.ENSG00000136237.12..tmp.cv.log"
   ]
  },
  {
   "cell_type": "code",
   "execution_count": 74,
   "metadata": {
    "kernel": "Bash"
   },
   "outputs": [
    {
     "name": "stderr",
     "output_type": "stream",
     "text": [
      "\u001b[0;31m'utf-8' codec can't decode byte 0x8c in position 3: invalid start byte\n",
      "\u001b[0m"
     ]
    }
   ],
   "source": [
    "rm -r *"
   ]
  },
  {
   "cell_type": "code",
   "execution_count": 72,
   "metadata": {
    "kernel": "Bash"
   },
   "outputs": [
    {
     "name": "stdout",
     "output_type": "stream",
     "text": [
      "cat: 1_10.hsq: No such file or directory\n",
      "0\n",
      "\n"
     ]
    }
   ],
   "source": [
    "cat 1_10.hsq | grep . -c"
   ]
  },
  {
   "cell_type": "code",
   "execution_count": 26,
   "metadata": {
    "kernel": "Bash"
   },
   "outputs": [
    {
     "name": "stdout",
     "output_type": "stream",
     "text": [
      "\n",
      "\n"
     ]
    }
   ],
   "source": [
    "echo $pop"
   ]
  },
  {
   "cell_type": "code",
   "execution_count": 123,
   "metadata": {
    "kernel": "Bash"
   },
   "outputs": [
    {
     "name": "stdout",
     "output_type": "stream",
     "text": [
      "head: /Users/haosun/Documents/WG_Reasearch_Assisstant/Fusion/install/fusion_twas-master/LDREF/1000G.10.bed: No such file or directory\n",
      "\n"
     ]
    }
   ],
   "source": [
    "head /Users/haosun/Documents/WG_Reasearch_Assisstant/Fusion/install/fusion_twas-master/LDREF/1000G.10.bed"
   ]
  },
  {
   "cell_type": "code",
   "execution_count": 55,
   "metadata": {
    "kernel": "Bash"
   },
   "outputs": [
    {
     "name": "stdout",
     "output_type": "stream",
     "text": [
      "/Users/haosun/Documents/WG_Reasearch_Assisstant/Fusion/install/fusion_twas-master/LDREF.ID\n",
      "\n"
     ]
    }
   ],
   "source": []
  },
  {
   "cell_type": "markdown",
   "metadata": {
    "kernel": "SoS"
   },
   "source": [
    "patential working genes\n",
    "ENSG00000225267.1\n",
    "ENSG00000259382.1\n",
    "ENSG00000135046.9"
   ]
  },
  {
   "cell_type": "code",
   "execution_count": 25,
   "metadata": {
    "kernel": "Bash"
   },
   "outputs": [
    {
     "name": "stdout",
     "output_type": "stream",
     "text": [
      "\n"
     ]
    }
   ],
   "source": [
    "$OUT"
   ]
  },
  {
   "cell_type": "code",
   "execution_count": null,
   "metadata": {
    "kernel": "Bash"
   },
   "outputs": [],
   "source": []
  },
  {
   "cell_type": "markdown",
   "metadata": {
    "kernel": "Bash"
   },
   "source": [
    "# Association Test\n",
    "The following section is for the assoc test, which is ready to use off the shelf, tne triky part is getting the weights"
   ]
  },
  {
   "cell_type": "code",
   "execution_count": 91,
   "metadata": {
    "kernel": "Bash"
   },
   "outputs": [
    {
     "name": "stdout",
     "output_type": "stream",
     "text": [
      "\n"
     ]
    }
   ],
   "source": [
    "Rscr2=\"<>\"\n",
    "# This is the new input file\n",
    "sumstats=\"<>\"\n",
    "weights=FINAL_OUT\n",
    "weights_dir=$wd/WEIGHTS/\n",
    "ref_ld_chr=$LDREF/PRE_GENO\n",
    "chr=\"<>\"\n"
   ]
  },
  {
   "cell_type": "code",
   "execution_count": null,
   "metadata": {
    "kernel": "Bash"
   },
   "outputs": [],
   "source": [
    "Rscript $Rscr2 \\\n",
    "--sumstats $sumstats \\\n",
    "--weights $weights \\\n",
    "--weights_dir $weights_dir \\\n",
    "--ref_ld_chr $LDREF/PRE_GENO \\\n",
    "--chr 22 \\\n",
    "--out PGC2.SCZ.22.dat"
   ]
  }
 ],
 "metadata": {
  "kernelspec": {
   "display_name": "SoS",
   "language": "sos",
   "name": "sos"
  },
  "language_info": {
   "codemirror_mode": "sos",
   "file_extension": ".sos",
   "mimetype": "text/x-sos",
   "name": "sos",
   "nbconvert_exporter": "sos_notebook.converter.SoS_Exporter",
   "pygments_lexer": "sos"
  },
  "sos": {
   "kernels": [
    [
     "Bash",
     "calysto_bash",
     "Bash",
     "#E6EEFF",
     ""
    ]
   ],
   "version": "0.20.1"
  }
 },
 "nbformat": 4,
 "nbformat_minor": 4
}
