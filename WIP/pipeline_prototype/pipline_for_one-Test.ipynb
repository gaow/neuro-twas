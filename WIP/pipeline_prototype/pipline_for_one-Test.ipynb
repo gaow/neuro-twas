{
 "cells": [
  {
   "cell_type": "markdown",
   "metadata": {
    "kernel": "Bash"
   },
   "source": [
    "## Enviorment\n",
    "The following section are used to specify the hyperparameter and the path the the software that were used. \n",
    "No need to changed if the pipeline stay the same and were applied to different data\n"
   ]
  },
  {
   "cell_type": "code",
   "execution_count": null,
   "metadata": {
    "kernel": "SoS"
   },
   "outputs": [],
   "source": []
  },
  {
   "cell_type": "code",
   "execution_count": null,
   "metadata": {
    "kernel": "SoS"
   },
   "outputs": [],
   "source": []
  },
  {
   "cell_type": "code",
   "execution_count": 2,
   "metadata": {
    "kernel": "Bash"
   },
   "outputs": [
    {
     "name": "stdout",
     "output_type": "stream",
     "text": [
      "\n"
     ]
    }
   ],
   "source": [
    "##!/bin/sh\n",
    "# MAKE SURE FUSION.compute_weights.R IS IN YOUR PATH\n",
    "# FILL IN THESE PATHS\n",
    "# For mac user, the mac version of GCTA shall be downloaded saperately, the one came with the Fusion package will not work.\n",
    "GCTA=\"/Users/haosun/Documents/WG_Reasearch_Assisstant/Fusion/install/fusion_twas-master/gcta_1.93.2beta_mac/gcta64\"\n",
    "PLINK=\"/Users/haosun/Documents/WG_Reasearch_Assisstant/Fusion/plink_mac_20200616/plink\"\n",
    "GEMMA=\"/Users/haosun/Documents/WG_Reasearch_Assisstant/Fusion/install/fusion_twas-master/GEMMA\"\n",
    "\n",
    "# Required the customized fusion.compute_weight.mod.R script, other wise will not work\n",
    "Rscp=\"/Users/haosun/Documents/WG_Reasearch_Assisstant/Fusion/install/fusion_twas-master/FUSION.compute_weights.mod.R\"\n",
    "# Path to the input data\n",
    "Datarep=\"/Users/haosun/Documents/WG_Reasearch_Assisstant/Fusion/install/fusion_twas-master/chicago/Data/\"\n",
    "# ALTERNATIVELY: ENSURE THAT plink, gcta, gemma CAN BE CALLED FROM PATH AND REMOVE --PATH_* FLAGS BELOW\n",
    "\n",
    "# PATH TO WORKING DIRECTORY\n",
    "wd=\"/Users/haosun/Documents/WG_Reasearch_Assisstant/Fusion/install/fusion_twas-master/chicago\"\n",
    "\n",
    "# PATH TO OUTPUT DIRECTORY (population-specific subdirs will be made)\n",
    "OUT_DIR=\"./WEIGHTS\"\n",
    "\n",
    "# ROWS IN THE MATRIX TO ANALYZE (FOR BATCHED RUNS)\n",
    "BATCH_START=1\n",
    "BATCH_END=10"
   ]
  },
  {
   "cell_type": "markdown",
   "metadata": {
    "kernel": "SoS"
   },
   "source": [
    "## Input \n",
    "\n",
    "This is where the actual RNA Seq data of our own should be used as input.\n",
    "\n",
    "Note: GD462.GeneQuantRPKM.50FN.samplename.resk10.txt is the rna seq data for gene expression from the \"465 lymphoblastoid cell lines from the 1000 Genomes\" projects. There is 23722 genes from 462 samples. The first 4 col is \"TargetID, Gene_Symbol, Chr, Coord\". The rest are each samples.\n",
    "\n",
    "GD462.GeneQuantRPKM.50FN.samplename.resk10.txt is the RNA seq data for the first 10 ppl\n",
    "\n",
    "LDREF/1000G.EUR.*.bim contains the linkage disequilibrium info for each snp."
   ]
  },
  {
   "cell_type": "code",
   "execution_count": 5,
   "metadata": {
    "kernel": "Bash"
   },
   "outputs": [
    {
     "name": "stdout",
     "output_type": "stream",
     "text": [
      "\n"
     ]
    }
   ],
   "source": [
    "# PATH TO DIRECTORY CONTAINING LDREF DATA (FROM FUSION WEBSITE or https://data.broadinstitute.org/alkesgroup/FUSION/LDREF.tar.bz2)\n",
    "LDREF=\"/Users/haosun/Documents/WG_Reasearch_Assisstant/Fusion/install/fusion_twas-master/LDREF\"\n",
    "# THIS IS USED TO RESTRICT INPUT SNPS TO REFERENCE IDS ONLY\n",
    "\n",
    "# PATH TO GEUVADIS GENE EXPRESSION MATRIX:\n",
    "PRE_GEXP=\"\"\n",
    "# GEUVADIS DATA WAS DOWNLOADED FROM https://www.ebi.ac.uk/arrayexpress/experiments/E-GEUV-1/files/analysis_results/\n",
    "\n",
    "# PATH TO PREFIX FOR GEUVADIS GENOTYPES SPLIT BY CHROMOSOME\n",
    "# SUBSAMPLE THESE TO THE LDREF SNPS FOR EFFICIENCY\n",
    "PRE_GENO=\"1000G.EUR\""
   ]
  },
  {
   "cell_type": "markdown",
   "metadata": {
    "kernel": "SoS"
   },
   "source": [
    "## Pipeline\n"
   ]
  },
  {
   "cell_type": "code",
   "execution_count": 6,
   "metadata": {
    "kernel": "Bash"
   },
   "outputs": [
    {
     "name": "stdout",
     "output_type": "stream",
     "text": [
      "mkdir: ./WEIGHTS: File exists\n",
      "\n"
     ]
    }
   ],
   "source": [
    "# --- BEGIN SCRIPT:\n",
    "cd $wd\n",
    "NR=\"${BATCH_START}_${BATCH_END}\"\n",
    "mkdir -p tmp/$NR\n",
    "mkdir -p hsq/$NR\n",
    "mkdir -p out/$NR\n",
    "# THIS IS DIRECTORY WHERE THE OUTPUT WILL GO:\n",
    "mkdir $OUT_DIR"
   ]
  },
  {
   "cell_type": "markdown",
   "metadata": {
    "kernel": "Bash"
   },
   "source": [
    "Note 1: the first two column of the out.pheno shall be the same as that of the .fam file"
   ]
  },
  {
   "cell_type": "code",
   "execution_count": 27,
   "metadata": {
    "kernel": "Bash"
   },
   "outputs": [
    {
     "name": "stdout",
     "output_type": "stream",
     "text": [
      "HG00096\n",
      "HG00097\n",
      "HG00099\n",
      "HG00100\n",
      "HG00101\n",
      "HG00102\n",
      "HG00103\n",
      "HG00104\n",
      "HG00105\n",
      "HG00106\n",
      "HG00108\n",
      "HG00109\n",
      "HG00110\n",
      "HG00111\n",
      "HG00112\n",
      "HG00114\n",
      "HG00115\n",
      "HG00116\n",
      "HG00117\n",
      "HG00118\n",
      "HG00119\n",
      "HG00120\n",
      "HG00121\n",
      "HG00122\n",
      "HG00123\n",
      "HG00124\n",
      "HG00125\n",
      "HG00126\n",
      "HG00127\n",
      "HG00128\n",
      "HG00129\n",
      "HG00130\n",
      "HG00131\n",
      "HG00132\n",
      "HG00133\n",
      "HG00134\n",
      "HG00135\n",
      "HG00136\n",
      "HG00137\n",
      "HG00138\n",
      "HG00139\n",
      "HG00141\n",
      "HG00142\n",
      "HG00143\n",
      "HG00145\n",
      "HG00146\n",
      "HG00148\n",
      "HG00149\n",
      "HG00150\n",
      "HG00151\n",
      "HG00152\n",
      "HG00154\n",
      "HG00155\n",
      "HG00156\n",
      "HG00157\n",
      "HG00158\n",
      "HG00159\n",
      "HG00160\n",
      "HG00171\n",
      "HG00173\n",
      "HG00174\n",
      "HG00176\n",
      "HG00177\n",
      "HG00178\n",
      "HG00179\n",
      "HG00180\n",
      "HG00181\n",
      "HG00182\n",
      "HG00183\n",
      "HG00185\n",
      "HG00186\n",
      "HG00187\n",
      "HG00188\n",
      "HG00189\n",
      "HG00231\n",
      "HG00232\n",
      "HG00233\n",
      "HG00234\n",
      "HG00235\n",
      "HG00236\n",
      "HG00238\n",
      "HG00239\n",
      "HG00240\n",
      "HG00242\n",
      "HG00243\n",
      "HG00244\n",
      "HG00245\n",
      "HG00246\n",
      "HG00247\n",
      "HG00249\n",
      "HG00250\n",
      "HG00251\n",
      "HG00252\n",
      "HG00253\n",
      "HG00255\n",
      "HG00256\n",
      "HG00257\n",
      "HG00258\n",
      "HG00259\n",
      "HG00260\n",
      "HG00261\n",
      "HG00262\n",
      "HG00263\n",
      "HG00264\n",
      "HG00265\n",
      "HG00266\n",
      "HG00267\n",
      "HG00268\n",
      "HG00269\n",
      "HG00271\n",
      "HG00272\n",
      "HG00273\n",
      "HG00274\n",
      "HG00275\n",
      "HG00276\n",
      "HG00277\n",
      "HG00278\n",
      "HG00280\n",
      "HG00281\n",
      "HG00282\n",
      "HG00284\n",
      "HG00285\n",
      "HG00306\n",
      "HG00308\n",
      "HG00309\n",
      "HG00310\n",
      "HG00311\n",
      "HG00312\n",
      "HG00313\n",
      "HG00315\n",
      "HG00319\n",
      "HG00320\n",
      "HG00321\n",
      "HG00323\n",
      "HG00324\n",
      "HG00325\n",
      "HG00326\n",
      "HG00327\n",
      "HG00328\n",
      "HG00329\n",
      "HG00330\n",
      "HG00331\n",
      "HG00332\n",
      "HG00334\n",
      "HG00335\n",
      "HG00336\n",
      "HG00337\n",
      "HG00338\n",
      "HG00339\n",
      "HG00341\n",
      "HG00342\n",
      "HG00343\n",
      "HG00344\n",
      "HG00345\n",
      "HG00346\n",
      "HG00349\n",
      "HG00350\n",
      "HG00351\n",
      "HG00353\n",
      "HG00355\n",
      "HG00356\n",
      "HG00358\n",
      "HG00359\n",
      "HG00360\n",
      "HG00361\n",
      "HG00362\n",
      "HG00364\n",
      "HG00365\n",
      "HG00366\n",
      "HG00367\n",
      "HG00369\n",
      "HG00371\n",
      "HG00372\n",
      "HG00373\n",
      "HG00375\n",
      "HG00376\n",
      "HG00377\n",
      "HG00378\n",
      "HG00379\n",
      "HG00380\n",
      "HG00381\n",
      "HG00382\n",
      "HG00383\n",
      "HG00384\n",
      "HG01334\n",
      "HG01789\n",
      "HG01790\n",
      "HG01791\n",
      "HG02215\n",
      "NA06984\n",
      "NA06985\n",
      "NA06986\n",
      "NA06989\n",
      "NA06994\n",
      "NA07037\n",
      "NA07048\n",
      "NA07051\n",
      "NA07056\n",
      "NA07346\n",
      "NA07347\n",
      "NA07357\n",
      "NA10847\n",
      "NA10851\n",
      "NA11829\n",
      "NA11830\n",
      "NA11831\n",
      "NA11832\n",
      "NA11840\n",
      "NA11843\n",
      "NA11881\n",
      "NA11892\n",
      "NA11893\n",
      "NA11894\n",
      "NA11918\n",
      "NA11920\n",
      "NA11930\n",
      "NA11931\n",
      "NA11992\n",
      "NA11993\n",
      "NA11994\n",
      "NA11995\n",
      "NA12004\n",
      "NA12005\n",
      "NA12006\n",
      "NA12043\n",
      "NA12044\n",
      "NA12045\n",
      "NA12058\n",
      "NA12144\n",
      "NA12154\n",
      "NA12155\n",
      "NA12156\n",
      "NA12234\n",
      "NA12249\n",
      "NA12272\n",
      "NA12273\n",
      "NA12275\n",
      "NA12282\n",
      "NA12283\n",
      "NA12286\n",
      "NA12287\n",
      "NA12340\n",
      "NA12341\n",
      "NA12342\n",
      "NA12347\n",
      "NA12348\n",
      "NA12383\n",
      "NA12399\n",
      "NA12400\n",
      "NA12413\n",
      "NA12489\n",
      "NA12546\n",
      "NA12716\n",
      "NA12717\n",
      "NA12718\n",
      "NA12749\n",
      "NA12750\n",
      "NA12751\n",
      "NA12760\n",
      "NA12761\n",
      "NA12762\n",
      "NA12763\n",
      "NA12775\n",
      "NA12776\n",
      "NA12777\n",
      "NA12778\n",
      "NA12812\n",
      "NA12813\n",
      "NA12814\n",
      "NA12815\n",
      "NA12827\n",
      "NA12829\n",
      "NA12830\n",
      "NA12842\n",
      "NA12843\n",
      "NA12872\n",
      "NA12873\n",
      "NA12874\n",
      "NA12889\n",
      "NA12890\n",
      "NA18486\n",
      "NA18487\n",
      "NA18488\n",
      "NA18489\n",
      "NA18498\n",
      "NA18499\n",
      "NA18502\n",
      "NA18505\n",
      "NA18508\n",
      "NA18510\n",
      "NA18511\n",
      "NA18517\n",
      "NA18519\n",
      "NA18520\n",
      "NA18858\n",
      "NA18861\n",
      "NA18867\n",
      "NA18868\n",
      "NA18870\n",
      "NA18873\n",
      "NA18907\n",
      "NA18908\n",
      "NA18909\n",
      "NA18910\n",
      "NA18912\n",
      "NA18916\n",
      "NA18917\n",
      "NA18923\n",
      "NA18933\n",
      "NA18934\n",
      "NA19092\n",
      "NA19093\n",
      "NA19095\n",
      "NA19096\n",
      "NA19098\n",
      "NA19099\n",
      "NA19102\n",
      "NA19107\n",
      "NA19108\n",
      "NA19113\n",
      "NA19114\n",
      "NA19116\n",
      "NA19117\n",
      "NA19118\n",
      "NA19119\n",
      "NA19121\n",
      "NA19129\n",
      "NA19130\n",
      "NA19131\n",
      "NA19137\n",
      "NA19138\n",
      "NA19141\n",
      "NA19143\n",
      "NA19144\n",
      "NA19146\n",
      "NA19147\n",
      "NA19149\n",
      "NA19150\n",
      "NA19152\n",
      "NA19153\n",
      "NA19159\n",
      "NA19160\n",
      "NA19171\n",
      "NA19172\n",
      "NA19175\n",
      "NA19184\n",
      "NA19185\n",
      "NA19189\n",
      "NA19190\n",
      "NA19197\n",
      "NA19198\n",
      "NA19200\n",
      "NA19201\n",
      "NA19204\n",
      "NA19206\n",
      "NA19207\n",
      "NA19209\n",
      "NA19210\n",
      "NA19213\n",
      "NA19214\n",
      "NA19222\n",
      "NA19223\n",
      "NA19225\n",
      "NA19235\n",
      "NA19236\n",
      "NA19247\n",
      "NA19248\n",
      "NA19256\n",
      "NA19257\n",
      "NA20502\n",
      "NA20503\n",
      "NA20504\n",
      "NA20505\n",
      "NA20506\n",
      "NA20507\n",
      "NA20508\n",
      "NA20509\n",
      "NA20510\n",
      "NA20512\n",
      "NA20513\n",
      "NA20514\n",
      "NA20515\n",
      "NA20516\n",
      "NA20517\n",
      "NA20518\n",
      "NA20519\n",
      "NA20520\n",
      "NA20521\n",
      "NA20524\n",
      "NA20525\n",
      "NA20527\n",
      "NA20528\n",
      "NA20529\n",
      "NA20530\n",
      "NA20531\n",
      "NA20532\n",
      "NA20534\n",
      "NA20535\n",
      "NA20536\n",
      "NA20537\n",
      "NA20538\n",
      "NA20539\n",
      "NA20540\n",
      "NA20541\n",
      "NA20542\n",
      "NA20543\n",
      "NA20544\n",
      "NA20581\n",
      "NA20582\n",
      "NA20585\n",
      "NA20586\n",
      "NA20588\n",
      "NA20589\n",
      "NA20752\n",
      "NA20754\n",
      "NA20756\n",
      "NA20757\n",
      "NA20758\n",
      "NA20759\n",
      "NA20760\n",
      "NA20761\n",
      "NA20765\n",
      "NA20766\n",
      "NA20768\n",
      "NA20769\n",
      "NA20770\n",
      "NA20771\n",
      "NA20772\n",
      "NA20773\n",
      "NA20774\n",
      "NA20778\n",
      "NA20783\n",
      "NA20785\n",
      "NA20786\n",
      "NA20787\n",
      "NA20790\n",
      "NA20792\n",
      "NA20795\n",
      "NA20796\n",
      "NA20797\n",
      "NA20798\n",
      "NA20799\n",
      "NA20800\n",
      "NA20801\n",
      "NA20802\n",
      "NA20803\n",
      "NA20804\n",
      "NA20805\n",
      "NA20806\n",
      "NA20807\n",
      "NA20808\n",
      "NA20809\n",
      "NA20810\n",
      "NA20811\n",
      "NA20812\n",
      "NA20813\n",
      "NA20814\n",
      "NA20815\n",
      "NA20816\n",
      "NA20819\n",
      "NA20826\n",
      "NA20828\n",
      "\n"
     ]
    }
   ],
   "source": [
    "# makes necessary component that are useful for follow up pipeline\n",
    "cd $wd\n",
    "\n",
    "# get the within family sample ID, need to customized for it to match those of the LDREF file\n",
    "#head -1 $Datarep$PRE_GEXP | awk '{$1=$2=$3=$4=\"\"; print substr($0,5)}' #| fmt -1 > PRE_GEXPID\n",
    "head -1 $Datarep$PRE_GEXP | awk '{$1=$2=$3=$4=\"\"; print substr($0,5)}' | fmt -1\n",
    "# make a diretory containing the per_gene file\n",
    "#mkdir $Datarep${PRE_GEXP%.*}_per_gene\n",
    "\n"
   ]
  },
  {
   "cell_type": "markdown",
   "metadata": {
    "kernel": "Bash"
   },
   "source": [
    "## SOS Pipeline prep (WIP)"
   ]
  },
  {
   "cell_type": "code",
   "execution_count": 28,
   "metadata": {
    "kernel": "Bash"
   },
   "outputs": [
    {
     "name": "stdout",
     "output_type": "stream",
     "text": [
      "\n"
     ]
    }
   ],
   "source": [
    "cd $wd\n",
    "\n",
    "# extract each gene from the data matrixs to a file\n",
    "cat $Datarep$PRE_GEXP | awk -v s=$BATCH_START -v e=$BATCH_END 'NR > s && NR <= e' |  while read PARAM; do\n",
    "\n",
    "GNAME=`echo $PARAM | awk '{ print $1 }'`\n",
    "echo $PARAM > $Datarep${PRE_GEXP%.*}_per_gene/${PRE_GEXP%.*}_$GNAME.txt\n",
    "\n",
    "done"
   ]
  },
  {
   "cell_type": "markdown",
   "metadata": {
    "kernel": "Bash"
   },
   "source": [
    "## Original Pipeline (Working but needs to transformed into sos pipeline)"
   ]
  },
  {
   "cell_type": "code",
   "execution_count": 31,
   "metadata": {
    "kernel": "Bash"
   },
   "outputs": [
    {
     "name": "stderr",
     "output_type": "stream",
     "text": [
      "Keyboard Interrupt\n"
     ]
    }
   ],
   "source": [
    "cd $wd\n",
    "# Loop through each gene expression phenotype in the batch (Only looking at the first 10 genes)\n",
    "cat $Datarep$PRE_GEXP | awk -v s=$BATCH_START -v e=$BATCH_END 'NR > s && NR <= e' |  while read PARAM; do\n",
    "echo $PARAM\n",
    "# Get the gene positions +/- 500kb\n",
    "CHR=`echo $PARAM | awk '{ print $3 }'`\n",
    "P0=`echo $PARAM | awk '{ print $4 - 0.5e6 }'`\n",
    "P1=`echo $PARAM | awk '{ print $4 + 0.5e6 }'`\n",
    "GNAME=`echo $PARAM | awk '{ print $1 }'`\n",
    "\n",
    "OUT=\"tmp/$NR/$PRE_GEXP.$GNAME\"\n",
    "echo $GNAME $CHR $P0 $P1\n",
    "\n",
    "## Pull out the current gene expression phenotype (Note 1 )\n",
    "echo $PARAM | tr ' ' '\\n' | tail -n+5 | paste PRE_GEXPID PRE_GEXPID - > $OUT.pheno\n",
    "## Get the locus genotypes for all samples and set current gene expression as the phenotype\n",
    "$PLINK --bfile $LDREF/$PRE_GENO.$CHR --pheno $tmpdir$OUT.pheno --make-bed --out $tmpdir$OUT --chr $CHR --from-bp $P0 --to-bp $P1 --extract $LDREF/1000G.EUR.$CHR.bim --keep $tmpdir$OUT.pheno --allow-no-sex\n",
    "## Process all samples together (for reference purposes only since this is mult-ethnic data)\n",
    "mkdir $OUT_DIR/ALL\n",
    "FINAL_OUT=\"$OUT_DIR/ALL/ALL.$GNAME\"\n",
    "#echo $FINAL_OUT\n",
    "#\n",
    "#echo $OUT.tmp\n",
    "\n",
    "Rscript $Rscp --bfile $OUT --tmp $OUT.tmp --out $FINAL_OUT --verbose 0 --save_hsq --PATH_gcta $GCTA --PATH_gemma $GEMMA --models blup,lasso,top1,enet\n",
    "\n",
    "#\n",
    "## Append heritability output to hsq file\n",
    "cat $FINAL_OUT.hsq >> hsq/$NR.hsq\n",
    "#\n",
    "## Clean-up just in case\n",
    "rm -f $FINAL_OUT.hsq $OUT.tmp.*\n",
    "#\n",
    "# Remove all intermediate files\n",
    "echo \"end of circle\"\n",
    "\n",
    "# GO TO THE NEXT GENE\n",
    "done\n",
    "\n",
    "\n"
   ]
  },
  {
   "cell_type": "code",
   "execution_count": 15,
   "metadata": {
    "kernel": "Bash"
   },
   "outputs": [
    {
     "name": "stdout",
     "output_type": "stream",
     "text": [
      "--2020-07-13 14:31:25--  https://github.com/cumc/neuro-twas/blob/master/WIP/pipeline_prototype/Fusion.compute_weights_testing.ipynb\n",
      "Resolving github.com (github.com)... 140.82.114.3\n",
      "Connecting to github.com (github.com)|140.82.114.3|:443... connected.\n",
      "HTTP request sent, awaiting response... 404 Not Found\n",
      "2020-07-13 14:31:26 ERROR 404: Not Found.\n",
      "\n",
      "\n"
     ]
    }
   ],
   "source": [
    "wget https://github.com/cumc/neuro-twas/blob/master/WIP/pipeline_prototype/Fusion.compute_weights_testing.ipynb"
   ]
  },
  {
   "cell_type": "code",
   "execution_count": 120,
   "metadata": {
    "kernel": "Bash"
   },
   "outputs": [
    {
     "name": "stdout",
     "output_type": "stream",
     "text": [
      "\n"
     ]
    }
   ],
   "source": [
    "cd tmp"
   ]
  },
  {
   "cell_type": "code",
   "execution_count": null,
   "metadata": {
    "kernel": "Bash"
   },
   "outputs": [],
   "source": []
  },
  {
   "cell_type": "code",
   "execution_count": null,
   "metadata": {
    "kernel": "Bash"
   },
   "outputs": [],
   "source": []
  },
  {
   "cell_type": "code",
   "execution_count": 73,
   "metadata": {
    "kernel": "Bash"
   },
   "outputs": [
    {
     "name": "stderr",
     "output_type": "stream",
     "text": [
      "\u001b[0;31m'utf-8' codec can't decode byte 0xa4 in position 1: invalid start byte\n",
      "\u001b[0m"
     ]
    }
   ],
   "source": [
    "cd tmp/1_2/\n",
    "ls\n",
    "cat GD462.hsq_succ.test.txt.ENSG00000136237.12..tmp.cv.log"
   ]
  },
  {
   "cell_type": "code",
   "execution_count": 74,
   "metadata": {
    "kernel": "Bash"
   },
   "outputs": [
    {
     "name": "stderr",
     "output_type": "stream",
     "text": [
      "\u001b[0;31m'utf-8' codec can't decode byte 0x8c in position 3: invalid start byte\n",
      "\u001b[0m"
     ]
    }
   ],
   "source": [
    "rm -r *"
   ]
  },
  {
   "cell_type": "code",
   "execution_count": 72,
   "metadata": {
    "kernel": "Bash"
   },
   "outputs": [
    {
     "name": "stdout",
     "output_type": "stream",
     "text": [
      "cat: 1_10.hsq: No such file or directory\n",
      "0\n",
      "\n"
     ]
    }
   ],
   "source": [
    "cat 1_10.hsq | grep . -c"
   ]
  },
  {
   "cell_type": "code",
   "execution_count": 26,
   "metadata": {
    "kernel": "Bash"
   },
   "outputs": [
    {
     "name": "stdout",
     "output_type": "stream",
     "text": [
      "\n",
      "\n"
     ]
    }
   ],
   "source": [
    "echo $pop"
   ]
  },
  {
   "cell_type": "code",
   "execution_count": 123,
   "metadata": {
    "kernel": "Bash"
   },
   "outputs": [
    {
     "name": "stdout",
     "output_type": "stream",
     "text": [
      "head: /Users/haosun/Documents/WG_Reasearch_Assisstant/Fusion/install/fusion_twas-master/LDREF/1000G.10.bed: No such file or directory\n",
      "\n"
     ]
    }
   ],
   "source": [
    "head /Users/haosun/Documents/WG_Reasearch_Assisstant/Fusion/install/fusion_twas-master/LDREF/1000G.10.bed"
   ]
  },
  {
   "cell_type": "code",
   "execution_count": 55,
   "metadata": {
    "kernel": "Bash"
   },
   "outputs": [
    {
     "name": "stdout",
     "output_type": "stream",
     "text": [
      "/Users/haosun/Documents/WG_Reasearch_Assisstant/Fusion/install/fusion_twas-master/LDREF.ID\n",
      "\n"
     ]
    }
   ],
   "source": []
  },
  {
   "cell_type": "markdown",
   "metadata": {
    "kernel": "SoS"
   },
   "source": [
    "patential working genes\n",
    "ENSG00000225267.1\n",
    "ENSG00000259382.1\n",
    "ENSG00000135046.9"
   ]
  },
  {
   "cell_type": "code",
   "execution_count": 25,
   "metadata": {
    "kernel": "Bash"
   },
   "outputs": [
    {
     "name": "stdout",
     "output_type": "stream",
     "text": [
      "\n"
     ]
    }
   ],
   "source": [
    "$OUT"
   ]
  },
  {
   "cell_type": "code",
   "execution_count": 24,
   "metadata": {
    "kernel": "Bash"
   },
   "outputs": [
    {
     "name": "stdout",
     "output_type": "stream",
     "text": [
      "TargetID\tGene_Symbol\tChr\tCoord\tHG00096\tHG00097\tHG00099\tHG00100\tHG00101\tHG00102\tHG00103\tHG00104\tHG00105\tHG00106\tHG00108\tHG00109\tHG00110\tHG00111\tHG00112\tHG00114\tHG00115\tHG00116\tHG00117\tHG00118\tHG00119\tHG00120\tHG00121\tHG00122\tHG00123\tHG00124\tHG00125\tHG00126\tHG00127\tHG00128\tHG00129\tHG00130\tHG00131\tHG00132\tHG00133\tHG00134\tHG00135\tHG00136\tHG00137\tHG00138\tHG00139\tHG00141\tHG00142\tHG00143\tHG00145\tHG00146\tHG00148\tHG00149\tHG00150\tHG00151\tHG00152\tHG00154\tHG00155\tHG00156\tHG00157\tHG00158\tHG00159\tHG00160\tHG00171\tHG00173\tHG00174\tHG00176\tHG00177\tHG00178\tHG00179\tHG00180\tHG00181\tHG00182\tHG00183\tHG00185\tHG00186\tHG00187\tHG00188\tHG00189\tHG00231\tHG00232\tHG00233\tHG00234\tHG00235\tHG00236\tHG00238\tHG00239\tHG00240\tHG00242\tHG00243\tHG00244\tHG00245\tHG00246\tHG00247\tHG00249\tHG00250\tHG00251\tHG00252\tHG00253\tHG00255\tHG00256\tHG00257\tHG00258\tHG00259\tHG00260\tHG00261\tHG00262\tHG00263\tHG00264\tHG00265\tHG00266\tHG00267\tHG00268\tHG00269\tHG00271\tHG00272\tHG00273\tHG00274\tHG00275\tHG00276\tHG00277\tHG00278\tHG00280\tHG00281\tHG00282\tHG00284\tHG00285\tHG00306\tHG00308\tHG00309\tHG00310\tHG00311\tHG00312\tHG00313\tHG00315\tHG00319\tHG00320\tHG00321\tHG00323\tHG00324\tHG00325\tHG00326\tHG00327\tHG00328\tHG00329\tHG00330\tHG00331\tHG00332\tHG00334\tHG00335\tHG00336\tHG00337\tHG00338\tHG00339\tHG00341\tHG00342\tHG00343\tHG00344\tHG00345\tHG00346\tHG00349\tHG00350\tHG00351\tHG00353\tHG00355\tHG00356\tHG00358\tHG00359\tHG00360\tHG00361\tHG00362\tHG00364\tHG00365\tHG00366\tHG00367\tHG00369\tHG00371\tHG00372\tHG00373\tHG00375\tHG00376\tHG00377\tHG00378\tHG00379\tHG00380\tHG00381\tHG00382\tHG00383\tHG00384\tHG01334\tHG01789\tHG01790\tHG01791\tHG02215\tNA06984\tNA06985\tNA06986\tNA06989\tNA06994\tNA07037\tNA07048\tNA07051\tNA07056\tNA07346\tNA07347\tNA07357\tNA10847\tNA10851\tNA11829\tNA11830\tNA11831\tNA11832\tNA11840\tNA11843\tNA11881\tNA11892\tNA11893\tNA11894\tNA11918\tNA11920\tNA11930\tNA11931\tNA11992\tNA11993\tNA11994\tNA11995\tNA12004\tNA12005\tNA12006\tNA12043\tNA12044\tNA12045\tNA12058\tNA12144\tNA12154\tNA12155\tNA12156\tNA12234\tNA12249\tNA12272\tNA12273\tNA12275\tNA12282\tNA12283\tNA12286\tNA12287\tNA12340\tNA12341\tNA12342\tNA12347\tNA12348\tNA12383\tNA12399\tNA12400\tNA12413\tNA12489\tNA12546\tNA12716\tNA12717\tNA12718\tNA12749\tNA12750\tNA12751\tNA12760\tNA12761\tNA12762\tNA12763\tNA12775\tNA12776\tNA12777\tNA12778\tNA12812\tNA12813\tNA12814\tNA12815\tNA12827\tNA12829\tNA12830\tNA12842\tNA12843\tNA12872\tNA12873\tNA12874\tNA12889\tNA12890\tNA18486\tNA18487\tNA18488\tNA18489\tNA18498\tNA18499\tNA18502\tNA18505\tNA18508\tNA18510\tNA18511\tNA18517\tNA18519\tNA18520\tNA18858\tNA18861\tNA18867\tNA18868\tNA18870\tNA18873\tNA18907\tNA18908\tNA18909\tNA18910\tNA18912\tNA18916\tNA18917\tNA18923\tNA18933\tNA18934\tNA19092\tNA19093\tNA19095\tNA19096\tNA19098\tNA19099\tNA19102\tNA19107\tNA19108\tNA19113\tNA19114\tNA19116\tNA19117\tNA19118\tNA19119\tNA19121\tNA19129\tNA19130\tNA19131\tNA19137\tNA19138\tNA19141\tNA19143\tNA19144\tNA19146\tNA19147\tNA19149\tNA19150\tNA19152\tNA19153\tNA19159\tNA19160\tNA19171\tNA19172\tNA19175\tNA19184\tNA19185\tNA19189\tNA19190\tNA19197\tNA19198\tNA19200\tNA19201\tNA19204\tNA19206\tNA19207\tNA19209\tNA19210\tNA19213\tNA19214\tNA19222\tNA19223\tNA19225\tNA19235\tNA19236\tNA19247\tNA19248\tNA19256\tNA19257\tNA20502\tNA20503\tNA20504\tNA20505\tNA20506\tNA20507\tNA20508\tNA20509\tNA20510\tNA20512\tNA20513\tNA20514\tNA20515\tNA20516\tNA20517\tNA20518\tNA20519\tNA20520\tNA20521\tNA20524\tNA20525\tNA20527\tNA20528\tNA20529\tNA20530\tNA20531\tNA20532\tNA20534\tNA20535\tNA20536\tNA20537\tNA20538\tNA20539\tNA20540\tNA20541\tNA20542\tNA20543\tNA20544\tNA20581\tNA20582\tNA20585\tNA20586\tNA20588\tNA20589\tNA20752\tNA20754\tNA20756\tNA20757\tNA20758\tNA20759\tNA20760\tNA20761\tNA20765\tNA20766\tNA20768\tNA20769\tNA20770\tNA20771\tNA20772\tNA20773\tNA20774\tNA20778\tNA20783\tNA20785\tNA20786\tNA20787\tNA20790\tNA20792\tNA20795\tNA20796\tNA20797\tNA20798\tNA20799\tNA20800\tNA20801\tNA20802\tNA20803\tNA20804\tNA20805\tNA20806\tNA20807\tNA20808\tNA20809\tNA20810\tNA20811\tNA20812\tNA20813\tNA20814\tNA20815\tNA20816\tNA20819\tNA20826\tNA20828\n",
      "\n"
     ]
    }
   ],
   "source": [
    "head -1 $Datarep$PRE_GEXP"
   ]
  },
  {
   "cell_type": "markdown",
   "metadata": {
    "kernel": "Bash"
   },
   "source": [
    "# Association Test\n",
    "The following section is for the assoc test, which is ready to use off the shelf, tne triky part is getting the weights"
   ]
  },
  {
   "cell_type": "code",
   "execution_count": 91,
   "metadata": {
    "kernel": "Bash"
   },
   "outputs": [
    {
     "name": "stdout",
     "output_type": "stream",
     "text": [
      "\n"
     ]
    }
   ],
   "source": [
    "Rscr2=\"<>\"\n",
    "# This is the new input file\n",
    "sumstats=\"<>\"\n",
    "weights=FINAL_OUT\n",
    "weights_dir=$wd/WEIGHTS/\n",
    "ref_ld_chr=$LDREF/PRE_GENO\n",
    "chr=\"<>\"\n"
   ]
  },
  {
   "cell_type": "code",
   "execution_count": null,
   "metadata": {
    "kernel": "Bash"
   },
   "outputs": [],
   "source": [
    "Rscript $Rscr2 \\\n",
    "--sumstats $sumstats \\\n",
    "--weights $weights \\\n",
    "--weights_dir $weights_dir \\\n",
    "--ref_ld_chr $LDREF/PRE_GENO \\\n",
    "--chr 22 \\\n",
    "--out PGC2.SCZ.22.dat"
   ]
  }
 ],
 "metadata": {
  "kernelspec": {
   "display_name": "SoS",
   "language": "sos",
   "name": "sos"
  },
  "language_info": {
   "codemirror_mode": "sos",
   "file_extension": ".sos",
   "mimetype": "text/x-sos",
   "name": "sos",
   "nbconvert_exporter": "sos_notebook.converter.SoS_Exporter",
   "pygments_lexer": "sos"
  },
  "sos": {
   "kernels": [
    [
     "Bash",
     "calysto_bash",
     "Bash",
     "#E6EEFF",
     ""
    ]
   ],
   "version": "0.20.1"
  }
 },
 "nbformat": 4,
 "nbformat_minor": 4
}
