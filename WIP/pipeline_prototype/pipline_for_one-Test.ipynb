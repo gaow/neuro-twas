{
 "cells": [
  {
   "cell_type": "markdown",
   "metadata": {
    "kernel": "Bash"
   },
   "source": [
    "## Enviorment\n",
    "The following section are used to specify the hyperparameter and the path the the software that were used. \n",
    "No need to changed if the pipeline stay the same and were applied to different data\n"
   ]
  },
  {
   "cell_type": "code",
   "execution_count": 16,
   "metadata": {
    "kernel": "Bash"
   },
   "outputs": [
    {
     "name": "stdout",
     "output_type": "stream",
     "text": [
      "\n"
     ]
    }
   ],
   "source": [
    "##!/bin/sh\n",
    "# MAKE SURE FUSION.compute_weights.R IS IN YOUR PATH\n",
    "# FILL IN THESE PATHS\n",
    "# For mac user, the mac version of GCTA shall be downloaded saperately, the one came with the Fusion package will not work.\n",
    "GCTA=\"/Users/haosun/Documents/WG_Reasearch_Assisstant/Fusion/install/fusion_twas-master/gcta_1.93.2beta_mac/gcta64\"\n",
    "PLINK=\"/Users/haosun/Documents/WG_Reasearch_Assisstant/Fusion/plink_mac_20200616/plink\"\n",
    "\n",
    "\n",
    "\n",
    "GEMMA=\"/Users/haosun/Documents/WG_Reasearch_Assisstant/Fusion/install/fusion_twas-master/GEMMA\"\n",
    "Rscp=\"/Users/haosun/Documents/WG_Reasearch_Assisstant/Fusion/install/fusion_twas-master/FUSION.compute_weights.R\"\n",
    "# Path to the input data\n",
    "Datarep=\"/Users/haosun/Documents/WG_Reasearch_Assisstant/Fusion/install/fusion_twas-master/Testing/Data/\"\n",
    "# ALTERNATIVELY: ENSURE THAT plink, gcta, gemma CAN BE CALLED FROM PATH AND REMOVE --PATH_* FLAGS BELOW\n",
    "\n",
    "# PATH TO WORKING DIRECTORY\n",
    "wd=\"/Users/haosun/Documents/WG_Reasearch_Assisstant/Fusion/install/fusion_twas-master/Testing\"\n",
    "\n",
    "# PATH TO OUTPUT DIRECTORY (population-specific subdirs will be made)\n",
    "OUT_DIR=\"./WEIGHTS\"\n",
    "\n",
    "# ROWS IN THE MATRIX TO ANALYZE (FOR BATCHED RUNS)\n",
    "BATCH_START=1\n",
    "BATCH_END=10"
   ]
  },
  {
   "cell_type": "markdown",
   "metadata": {
    "kernel": "SoS"
   },
   "source": [
    "## Input \n",
    "\n",
    "This is where the actual RNA Seq data of our own should be used as input.\n",
    "\n",
    "Note: GD462.GeneQuantRPKM.50FN.samplename.resk10.txt is the rna seq data for gene expression from the \"465 lymphoblastoid cell lines from the 1000 Genomes\" projects. There is 23722 genes from 462 samples. The first 4 col is \"TargetID, Gene_Symbol, Chr, Coord\". The rest are each samples.\n",
    "\n",
    "GD462.GeneQuantRPKM.50FN.samplename.resk10.txt is the RNA seq data for the first 10 ppl\n",
    "\n",
    "LDREF/1000G.EUR.*.bim contains the linkage disequilibrium info for each snp."
   ]
  },
  {
   "cell_type": "code",
   "execution_count": 17,
   "metadata": {
    "kernel": "Bash"
   },
   "outputs": [
    {
     "name": "stdout",
     "output_type": "stream",
     "text": [
      "\n"
     ]
    }
   ],
   "source": [
    "# PATH TO DIRECTORY CONTAINING LDREF DATA (FROM FUSION WEBSITE or https://data.broadinstitute.org/alkesgroup/FUSION/LDREF.tar.bz2)\n",
    "LDREF=\"/Users/haosun/Documents/WG_Reasearch_Assisstant/Fusion/install/fusion_twas-master/LDREF\"\n",
    "# THIS IS USED TO RESTRICT INPUT SNPS TO REFERENCE IDS ONLY\n",
    "\n",
    "# PATH TO GEUVADIS GENE EXPRESSION MATRIX:\n",
    "PRE_GEXP=\"GD462.GeneQuantRPKM.50FN.samplename.resk10.txt\"\n",
    "# GEUVADIS DATA WAS DOWNLOADED FROM https://www.ebi.ac.uk/arrayexpress/experiments/E-GEUV-1/files/analysis_results/\n",
    "\n",
    "# PATH TO PREFIX FOR GEUVADIS GENOTYPES SPLIT BY CHROMOSOME\n",
    "# SUBSAMPLE THESE TO THE LDREF SNPS FOR EFFICIENCY\n",
    "PRE_GENO=\"1000G.EUR\""
   ]
  },
  {
   "cell_type": "markdown",
   "metadata": {
    "kernel": "SoS"
   },
   "source": [
    "## Pipeline\n"
   ]
  },
  {
   "cell_type": "code",
   "execution_count": 18,
   "metadata": {
    "kernel": "Bash"
   },
   "outputs": [
    {
     "name": "stdout",
     "output_type": "stream",
     "text": [
      "mkdir: ./WEIGHTS: File exists\n",
      "\n"
     ]
    }
   ],
   "source": [
    "# --- BEGIN SCRIPT:\n",
    "cd $wd\n",
    "NR=\"${BATCH_START}_${BATCH_END}\"\n",
    "mkdir -p tmp/$NR\n",
    "mkdir -p hsq/$NR\n",
    "mkdir -p out/$NR\n",
    "# THIS IS DIRECTORY WHERE THE OUTPUT WILL GO:\n",
    "mkdir $OUT_DIR"
   ]
  },
  {
   "cell_type": "code",
   "execution_count": 19,
   "metadata": {
    "kernel": "Bash"
   },
   "outputs": [
    {
     "name": "stdout",
     "output_type": "stream",
     "text": [
      "\n"
     ]
    }
   ],
   "source": [
    "# makes necessary component that are useful for follow up pipeline\n",
    "cd $wd\n",
    "head $Datarep$PRE_GEXP | awk '{$1=$2=$3=$4=\"\"; print substr($0,5)}' | fmt -1 > PRE_GEXPID"
   ]
  },
  {
   "cell_type": "markdown",
   "metadata": {
    "kernel": "Bash"
   },
   "source": [
    "Note 1: the first two column of the out.pheno shall be the same as that of the .fam file"
   ]
  },
  {
   "cell_type": "code",
   "execution_count": 20,
   "metadata": {
    "kernel": "Bash"
   },
   "outputs": [
    {
     "name": "stdout",
     "output_type": "stream",
     "text": [
      "ENSG00000152931.6 5 59283540 60283540\n",
      "PLINK v1.90b6.18 64-bit (16 Jun 2020)          www.cog-genomics.org/plink/1.9/\n",
      "(C) 2005-2020 Shaun Purcell, Christopher Chang   GNU General Public License v3\n",
      "Logging to tmp/1_10/GD462.GeneQuantRPKM.50FN.samplename.resk10.txt.ENSG00000152931.6.log.\n",
      "Options in effect:\n",
      "  --allow-no-sex\n",
      "  --bfile /Users/haosun/Documents/WG_Reasearch_Assisstant/Fusion/install/fusion_twas-master/LDREF/1000G.EUR.5\n",
      "  --chr 5\n",
      "  --extract /Users/haosun/Documents/WG_Reasearch_Assisstant/Fusion/install/fusion_twas-master/LDREF/1000G.EUR.5.bim\n",
      "  --from-bp 59283540\n",
      "  --keep tmp/1_10/GD462.GeneQuantRPKM.50FN.samplename.resk10.txt.ENSG00000152931.6.pheno\n",
      "  --make-bed\n",
      "  --out tmp/1_10/GD462.GeneQuantRPKM.50FN.samplename.resk10.txt.ENSG00000152931.6\n",
      "  --pheno tmp/1_10/GD462.GeneQuantRPKM.50FN.samplename.resk10.txt.ENSG00000152931.6.pheno\n",
      "  --to-bp 60283540\n",
      "\n",
      "16384 MB RAM detected; reserving 8192 MB for main workspace.\n",
      "316 out of 75164 variants loaded from .bim file.\n",
      "489 people (0 males, 0 females, 489 ambiguous) loaded from .fam.\n",
      "Ambiguous sex IDs written to\n",
      "tmp/1_10/GD462.GeneQuantRPKM.50FN.samplename.resk10.txt.ENSG00000152931.6.nosex\n",
      ".\n",
      "344 phenotype values present after --pheno.\n",
      "--extract: 316 variants remaining.\n",
      "--keep: 344 people remaining.\n",
      "Using 1 thread (no multithreaded calculations invoked).\n",
      "Before main variant filters, 344 founders and 0 nonfounders present.\n",
      "Calculating allele frequencies... 10111213141516171819202122232425262728293031323334353637383940414243444546474849505152535455565758596061626364656667686970717273747576777879808182838485868788899091929394959697989 done.\n",
      "316 variants and 344 people pass filters and QC.\n",
      "Phenotype data is quantitative.\n",
      "--make-bed to\n",
      "tmp/1_10/GD462.GeneQuantRPKM.50FN.samplename.resk10.txt.ENSG00000152931.6.bed +\n",
      "tmp/1_10/GD462.GeneQuantRPKM.50FN.samplename.resk10.txt.ENSG00000152931.6.bim +\n",
      "tmp/1_10/GD462.GeneQuantRPKM.50FN.samplename.resk10.txt.ENSG00000152931.6.fam\n",
      "... 101112131415161718192021222324252627282930313233343536373839404142434445464748495051525354555657585960616263646566676869707172737475767778798081828384858687888990919293949596979899done.\n",
      "mkdir: ./WEIGHTS/ALL: File exists\n",
      "tmp/1_10/GD462.GeneQuantRPKM.50FN.samplename.resk10.txt.ENSG00000152931.6..tmp : heritability -0.012681; LRT P-value 0.092499 : skipping gene\n",
      "end of circle\n",
      "ENSG00000183696.9 7 47628225 48628225\n",
      "PLINK v1.90b6.18 64-bit (16 Jun 2020)          www.cog-genomics.org/plink/1.9/\n",
      "(C) 2005-2020 Shaun Purcell, Christopher Chang   GNU General Public License v3\n",
      "Logging to tmp/1_10/GD462.GeneQuantRPKM.50FN.samplename.resk10.txt.ENSG00000183696.9.log.\n",
      "Options in effect:\n",
      "  --allow-no-sex\n",
      "  --bfile /Users/haosun/Documents/WG_Reasearch_Assisstant/Fusion/install/fusion_twas-master/LDREF/1000G.EUR.7\n",
      "  --chr 7\n",
      "  --extract /Users/haosun/Documents/WG_Reasearch_Assisstant/Fusion/install/fusion_twas-master/LDREF/1000G.EUR.7.bim\n",
      "  --from-bp 47628225\n",
      "  --keep tmp/1_10/GD462.GeneQuantRPKM.50FN.samplename.resk10.txt.ENSG00000183696.9.pheno\n",
      "  --make-bed\n",
      "  --out tmp/1_10/GD462.GeneQuantRPKM.50FN.samplename.resk10.txt.ENSG00000183696.9\n",
      "  --pheno tmp/1_10/GD462.GeneQuantRPKM.50FN.samplename.resk10.txt.ENSG00000183696.9.pheno\n",
      "  --to-bp 48628225\n",
      "\n",
      "16384 MB RAM detected; reserving 8192 MB for main workspace.\n",
      "539 out of 66171 variants loaded from .bim file.\n",
      "489 people (0 males, 0 females, 489 ambiguous) loaded from .fam.\n",
      "Ambiguous sex IDs written to\n",
      "tmp/1_10/GD462.GeneQuantRPKM.50FN.samplename.resk10.txt.ENSG00000183696.9.nosex\n",
      ".\n",
      "344 phenotype values present after --pheno.\n",
      "--extract: 539 variants remaining.\n",
      "--keep: 344 people remaining.\n",
      "Using 1 thread (no multithreaded calculations invoked).\n",
      "Before main variant filters, 344 founders and 0 nonfounders present.\n",
      "Calculating allele frequencies... 10111213141516171819202122232425262728293031323334353637383940414243444546474849505152535455565758596061626364656667686970717273747576777879808182838485868788899091929394959697989 done.\n",
      "539 variants and 344 people pass filters and QC.\n",
      "Phenotype data is quantitative.\n",
      "--make-bed to\n",
      "tmp/1_10/GD462.GeneQuantRPKM.50FN.samplename.resk10.txt.ENSG00000183696.9.bed +\n",
      "tmp/1_10/GD462.GeneQuantRPKM.50FN.samplename.resk10.txt.ENSG00000183696.9.bim +\n",
      "tmp/1_10/GD462.GeneQuantRPKM.50FN.samplename.resk10.txt.ENSG00000183696.9.fam\n",
      "... 101112131415161718192021222324252627282930313233343536373839404142434445464748495051525354555657585960616263646566676869707172737475767778798081828384858687888990919293949596979899done.\n",
      "mkdir: ./WEIGHTS/ALL: File exists\n",
      "tmp/1_10/GD462.GeneQuantRPKM.50FN.samplename.resk10.txt.ENSG00000183696.9..tmp : heritability -0.010824; LRT P-value 0.34268 : skipping gene\n",
      "end of circle\n",
      "ENSG00000139269.2 12 57346106 58346106\n",
      "PLINK v1.90b6.18 64-bit (16 Jun 2020)          www.cog-genomics.org/plink/1.9/\n",
      "(C) 2005-2020 Shaun Purcell, Christopher Chang   GNU General Public License v3\n",
      "Logging to tmp/1_10/GD462.GeneQuantRPKM.50FN.samplename.resk10.txt.ENSG00000139269.2.log.\n",
      "Options in effect:\n",
      "  --allow-no-sex\n",
      "  --bfile /Users/haosun/Documents/WG_Reasearch_Assisstant/Fusion/install/fusion_twas-master/LDREF/1000G.EUR.12\n",
      "  --chr 12\n",
      "  --extract /Users/haosun/Documents/WG_Reasearch_Assisstant/Fusion/install/fusion_twas-master/LDREF/1000G.EUR.12.bim\n",
      "  --from-bp 57346106\n",
      "  --keep tmp/1_10/GD462.GeneQuantRPKM.50FN.samplename.resk10.txt.ENSG00000139269.2.pheno\n",
      "  --make-bed\n",
      "  --out tmp/1_10/GD462.GeneQuantRPKM.50FN.samplename.resk10.txt.ENSG00000139269.2\n",
      "  --pheno tmp/1_10/GD462.GeneQuantRPKM.50FN.samplename.resk10.txt.ENSG00000139269.2.pheno\n",
      "  --to-bp 58346106\n",
      "\n",
      "16384 MB RAM detected; reserving 8192 MB for main workspace.\n",
      "345 out of 58543 variants loaded from .bim file.\n",
      "489 people (0 males, 0 females, 489 ambiguous) loaded from .fam.\n",
      "Ambiguous sex IDs written to\n",
      "tmp/1_10/GD462.GeneQuantRPKM.50FN.samplename.resk10.txt.ENSG00000139269.2.nosex\n",
      ".\n",
      "344 phenotype values present after --pheno.\n",
      "--extract: 345 variants remaining.\n",
      "--keep: 344 people remaining.\n",
      "Using 1 thread (no multithreaded calculations invoked).\n",
      "Before main variant filters, 344 founders and 0 nonfounders present.\n",
      "Calculating allele frequencies... 10111213141516171819202122232425262728293031323334353637383940414243444546474849505152535455565758596061626364656667686970717273747576777879808182838485868788899091929394959697989 done.\n",
      "345 variants and 344 people pass filters and QC.\n",
      "Phenotype data is quantitative.\n",
      "--make-bed to\n",
      "tmp/1_10/GD462.GeneQuantRPKM.50FN.samplename.resk10.txt.ENSG00000139269.2.bed +\n",
      "tmp/1_10/GD462.GeneQuantRPKM.50FN.samplename.resk10.txt.ENSG00000139269.2.bim +\n",
      "tmp/1_10/GD462.GeneQuantRPKM.50FN.samplename.resk10.txt.ENSG00000139269.2.fam\n",
      "... 101112131415161718192021222324252627282930313233343536373839404142434445464748495051525354555657585960616263646566676869707172737475767778798081828384858687888990919293949596979899done.\n",
      "mkdir: ./WEIGHTS/ALL: File exists\n",
      "tmp/1_10/GD462.GeneQuantRPKM.50FN.samplename.resk10.txt.ENSG00000139269.2..tmp : heritability -0.013049; LRT P-value 0.060219 : skipping gene\n",
      "end of circle\n",
      "ENSG00000169129.8 10 115664515 116664515\n",
      "PLINK v1.90b6.18 64-bit (16 Jun 2020)          www.cog-genomics.org/plink/1.9/\n",
      "(C) 2005-2020 Shaun Purcell, Christopher Chang   GNU General Public License v3\n",
      "Logging to tmp/1_10/GD462.GeneQuantRPKM.50FN.samplename.resk10.txt.ENSG00000169129.8.log.\n",
      "Options in effect:\n",
      "  --allow-no-sex\n",
      "  --bfile /Users/haosun/Documents/WG_Reasearch_Assisstant/Fusion/install/fusion_twas-master/LDREF/1000G.EUR.10\n",
      "  --chr 10\n",
      "  --extract /Users/haosun/Documents/WG_Reasearch_Assisstant/Fusion/install/fusion_twas-master/LDREF/1000G.EUR.10.bim\n",
      "  --from-bp 115664515\n",
      "  --keep tmp/1_10/GD462.GeneQuantRPKM.50FN.samplename.resk10.txt.ENSG00000169129.8.pheno\n",
      "  --make-bed\n",
      "  --out tmp/1_10/GD462.GeneQuantRPKM.50FN.samplename.resk10.txt.ENSG00000169129.8\n",
      "  --pheno tmp/1_10/GD462.GeneQuantRPKM.50FN.samplename.resk10.txt.ENSG00000169129.8.pheno\n",
      "  --to-bp 116664515\n",
      "\n",
      "16384 MB RAM detected; reserving 8192 MB for main workspace.\n",
      "475 out of 64067 variants loaded from .bim file.\n",
      "489 people (0 males, 0 females, 489 ambiguous) loaded from .fam.\n",
      "Ambiguous sex IDs written to\n",
      "tmp/1_10/GD462.GeneQuantRPKM.50FN.samplename.resk10.txt.ENSG00000169129.8.nosex\n",
      ".\n",
      "344 phenotype values present after --pheno.\n",
      "--extract: 475 variants remaining.\n",
      "--keep: 344 people remaining.\n",
      "Using 1 thread (no multithreaded calculations invoked).\n",
      "Before main variant filters, 344 founders and 0 nonfounders present.\n",
      "Calculating allele frequencies... 10111213141516171819202122232425262728293031323334353637383940414243444546474849505152535455565758596061626364656667686970717273747576777879808182838485868788899091929394959697989 done.\n",
      "475 variants and 344 people pass filters and QC.\n",
      "Phenotype data is quantitative.\n",
      "--make-bed to\n",
      "tmp/1_10/GD462.GeneQuantRPKM.50FN.samplename.resk10.txt.ENSG00000169129.8.bed +\n",
      "tmp/1_10/GD462.GeneQuantRPKM.50FN.samplename.resk10.txt.ENSG00000169129.8.bim +\n",
      "tmp/1_10/GD462.GeneQuantRPKM.50FN.samplename.resk10.txt.ENSG00000169129.8.fam\n",
      "... 101112131415161718192021222324252627282930313233343536373839404142434445464748495051525354555657585960616263646566676869707172737475767778798081828384858687888990919293949596979899done.\n",
      "mkdir: ./WEIGHTS/ALL: File exists\n",
      "tmp/1_10/GD462.GeneQuantRPKM.50FN.samplename.resk10.txt.ENSG00000169129.8..tmp : heritability 0.013148; LRT P-value 0.30803 : skipping gene\n",
      "end of circle\n",
      "ENSG00000134602.11 X 130657293 131657293\n",
      "PLINK v1.90b6.18 64-bit (16 Jun 2020)          www.cog-genomics.org/plink/1.9/\n",
      "(C) 2005-2020 Shaun Purcell, Christopher Chang   GNU General Public License v3\n",
      "Logging to tmp/1_10/GD462.GeneQuantRPKM.50FN.samplename.resk10.txt.ENSG00000134602.11.log.\n",
      "Options in effect:\n",
      "  --allow-no-sex\n",
      "  --bfile /Users/haosun/Documents/WG_Reasearch_Assisstant/Fusion/install/fusion_twas-master/LDREF/1000G.EUR.X\n",
      "  --chr X\n",
      "  --extract /Users/haosun/Documents/WG_Reasearch_Assisstant/Fusion/install/fusion_twas-master/LDREF/1000G.EUR.X.bim\n",
      "  --from-bp 130657293\n",
      "  --keep tmp/1_10/GD462.GeneQuantRPKM.50FN.samplename.resk10.txt.ENSG00000134602.11.pheno\n",
      "  --make-bed\n",
      "  --out tmp/1_10/GD462.GeneQuantRPKM.50FN.samplename.resk10.txt.ENSG00000134602.11\n",
      "  --pheno tmp/1_10/GD462.GeneQuantRPKM.50FN.samplename.resk10.txt.ENSG00000134602.11.pheno\n",
      "  --to-bp 131657293\n",
      "\n",
      "16384 MB RAM detected; reserving 8192 MB for main workspace.\n",
      "Error: Failed to open\n",
      "/Users/haosun/Documents/WG_Reasearch_Assisstant/Fusion/install/fusion_twas-master/LDREF/1000G.EUR.X.bed.\n",
      "mkdir: ./WEIGHTS/ALL: File exists\n",
      "ERROR: tmp/1_10/GD462.GeneQuantRPKM.50FN.samplename.resk10.txt.ENSG00000134602.11.bed input file does not exist\n",
      "cat: ./WEIGHTS/ALL/ALL.ENSG00000134602.11.hsq: No such file or directory\n",
      "end of circle\n",
      "ENSG00000136237.12 7 21896763 22896763\n",
      "PLINK v1.90b6.18 64-bit (16 Jun 2020)          www.cog-genomics.org/plink/1.9/\n",
      "(C) 2005-2020 Shaun Purcell, Christopher Chang   GNU General Public License v3\n",
      "Logging to tmp/1_10/GD462.GeneQuantRPKM.50FN.samplename.resk10.txt.ENSG00000136237.12.log.\n",
      "Options in effect:\n",
      "  --allow-no-sex\n",
      "  --bfile /Users/haosun/Documents/WG_Reasearch_Assisstant/Fusion/install/fusion_twas-master/LDREF/1000G.EUR.7\n",
      "  --chr 7\n",
      "  --extract /Users/haosun/Documents/WG_Reasearch_Assisstant/Fusion/install/fusion_twas-master/LDREF/1000G.EUR.7.bim\n",
      "  --from-bp 21896763\n",
      "  --keep tmp/1_10/GD462.GeneQuantRPKM.50FN.samplename.resk10.txt.ENSG00000136237.12.pheno\n",
      "  --make-bed\n",
      "  --out tmp/1_10/GD462.GeneQuantRPKM.50FN.samplename.resk10.txt.ENSG00000136237.12\n",
      "  --pheno tmp/1_10/GD462.GeneQuantRPKM.50FN.samplename.resk10.txt.ENSG00000136237.12.pheno\n",
      "  --to-bp 22896763\n",
      "\n",
      "16384 MB RAM detected; reserving 8192 MB for main workspace.\n",
      "673 out of 66171 variants loaded from .bim file.\n",
      "489 people (0 males, 0 females, 489 ambiguous) loaded from .fam.\n",
      "Ambiguous sex IDs written to\n",
      "tmp/1_10/GD462.GeneQuantRPKM.50FN.samplename.resk10.txt.ENSG00000136237.12.nosex\n",
      ".\n",
      "344 phenotype values present after --pheno.\n",
      "--extract: 673 variants remaining.\n",
      "--keep: 344 people remaining.\n",
      "Using 1 thread (no multithreaded calculations invoked).\n",
      "Before main variant filters, 344 founders and 0 nonfounders present.\n",
      "Calculating allele frequencies... 10111213141516171819202122232425262728293031323334353637383940414243444546474849505152535455565758596061626364656667686970717273747576777879808182838485868788899091929394959697989 done.\n",
      "673 variants and 344 people pass filters and QC.\n",
      "Phenotype data is quantitative.\n",
      "--make-bed to\n",
      "tmp/1_10/GD462.GeneQuantRPKM.50FN.samplename.resk10.txt.ENSG00000136237.12.bed\n",
      "+\n",
      "tmp/1_10/GD462.GeneQuantRPKM.50FN.samplename.resk10.txt.ENSG00000136237.12.bim\n",
      "+\n",
      "tmp/1_10/GD462.GeneQuantRPKM.50FN.samplename.resk10.txt.ENSG00000136237.12.fam\n",
      "... 101112131415161718192021222324252627282930313233343536373839404142434445464748495051525354555657585960616263646566676869707172737475767778798081828384858687888990919293949596979899done.\n",
      "mkdir: ./WEIGHTS/ALL: File exists\n",
      "Error in file(file, \"rt\") : 无法打开链结\n",
      "Calls: weights.bslmm -> read.table -> file\n",
      "此外: Warning message:\n",
      "In file(file, \"rt\") :\n",
      "  无法打开文件'tmp/1_10/GD462.GeneQuantRPKM.50FN.samplename.resk10.txt.ENSG00000136237.12..tmp.cv.BSLMM.param.txt': No such file or directory\n",
      "停止执行\n",
      "end of circle\n",
      "ENSG00000259425.1 15 22596869 23596869\n",
      "PLINK v1.90b6.18 64-bit (16 Jun 2020)          www.cog-genomics.org/plink/1.9/\n",
      "(C) 2005-2020 Shaun Purcell, Christopher Chang   GNU General Public License v3\n",
      "Logging to tmp/1_10/GD462.GeneQuantRPKM.50FN.samplename.resk10.txt.ENSG00000259425.1.log.\n",
      "Options in effect:\n",
      "  --allow-no-sex\n",
      "  --bfile /Users/haosun/Documents/WG_Reasearch_Assisstant/Fusion/install/fusion_twas-master/LDREF/1000G.EUR.15\n",
      "  --chr 15\n",
      "  --extract /Users/haosun/Documents/WG_Reasearch_Assisstant/Fusion/install/fusion_twas-master/LDREF/1000G.EUR.15.bim\n",
      "  --from-bp 22596869\n",
      "  --keep tmp/1_10/GD462.GeneQuantRPKM.50FN.samplename.resk10.txt.ENSG00000259425.1.pheno\n",
      "  --make-bed\n",
      "  --out tmp/1_10/GD462.GeneQuantRPKM.50FN.samplename.resk10.txt.ENSG00000259425.1\n",
      "  --pheno tmp/1_10/GD462.GeneQuantRPKM.50FN.samplename.resk10.txt.ENSG00000259425.1.pheno\n",
      "  --to-bp 23596869\n",
      "\n",
      "16384 MB RAM detected; reserving 8192 MB for main workspace.\n",
      "176 out of 35839 variants loaded from .bim file.\n",
      "489 people (0 males, 0 females, 489 ambiguous) loaded from .fam.\n",
      "Ambiguous sex IDs written to\n",
      "tmp/1_10/GD462.GeneQuantRPKM.50FN.samplename.resk10.txt.ENSG00000259425.1.nosex\n",
      ".\n",
      "344 phenotype values present after --pheno.\n",
      "--extract: 176 variants remaining.\n",
      "--keep: 344 people remaining.\n",
      "Using 1 thread (no multithreaded calculations invoked).\n",
      "Before main variant filters, 344 founders and 0 nonfounders present.\n",
      "Calculating allele frequencies... 10111213141516171819202122232425262728293031323334353637383940414243444546474849505152535455565758596061626364656667686970717273747576777879808182838485868788899091929394959697989 done.\n",
      "176 variants and 344 people pass filters and QC.\n",
      "Phenotype data is quantitative.\n",
      "--make-bed to\n",
      "tmp/1_10/GD462.GeneQuantRPKM.50FN.samplename.resk10.txt.ENSG00000259425.1.bed +\n",
      "tmp/1_10/GD462.GeneQuantRPKM.50FN.samplename.resk10.txt.ENSG00000259425.1.bim +\n",
      "tmp/1_10/GD462.GeneQuantRPKM.50FN.samplename.resk10.txt.ENSG00000259425.1.fam\n",
      "... 101112131415161718192021222324252627282930313233343536373839404142434445464748495051525354555657585960616263646566676869707172737475767778798081828384858687888990919293949596979899done.\n",
      "mkdir: ./WEIGHTS/ALL: File exists\n",
      "tmp/1_10/GD462.GeneQuantRPKM.50FN.samplename.resk10.txt.ENSG00000259425.1..tmp does not exist, likely GCTA could not converge, skipping gene\n",
      "cat: ./WEIGHTS/ALL/ALL.ENSG00000259425.1.hsq: No such file or directory\n",
      "end of circle\n",
      "ENSG00000242284.2 X 134453994 135453994\n",
      "PLINK v1.90b6.18 64-bit (16 Jun 2020)          www.cog-genomics.org/plink/1.9/\n",
      "(C) 2005-2020 Shaun Purcell, Christopher Chang   GNU General Public License v3\n",
      "Logging to tmp/1_10/GD462.GeneQuantRPKM.50FN.samplename.resk10.txt.ENSG00000242284.2.log.\n",
      "Options in effect:\n",
      "  --allow-no-sex\n",
      "  --bfile /Users/haosun/Documents/WG_Reasearch_Assisstant/Fusion/install/fusion_twas-master/LDREF/1000G.EUR.X\n",
      "  --chr X\n",
      "  --extract /Users/haosun/Documents/WG_Reasearch_Assisstant/Fusion/install/fusion_twas-master/LDREF/1000G.EUR.X.bim\n",
      "  --from-bp 134453994\n",
      "  --keep tmp/1_10/GD462.GeneQuantRPKM.50FN.samplename.resk10.txt.ENSG00000242284.2.pheno\n",
      "  --make-bed\n",
      "  --out tmp/1_10/GD462.GeneQuantRPKM.50FN.samplename.resk10.txt.ENSG00000242284.2\n",
      "  --pheno tmp/1_10/GD462.GeneQuantRPKM.50FN.samplename.resk10.txt.ENSG00000242284.2.pheno\n",
      "  --to-bp 135453994\n",
      "\n",
      "16384 MB RAM detected; reserving 8192 MB for main workspace.\n",
      "Error: Failed to open\n",
      "/Users/haosun/Documents/WG_Reasearch_Assisstant/Fusion/install/fusion_twas-master/LDREF/1000G.EUR.X.bed.\n",
      "mkdir: ./WEIGHTS/ALL: File exists\n",
      "ERROR: tmp/1_10/GD462.GeneQuantRPKM.50FN.samplename.resk10.txt.ENSG00000242284.2.bed input file does not exist\n",
      "cat: ./WEIGHTS/ALL/ALL.ENSG00000242284.2.hsq: No such file or directory\n",
      "end of circle\n",
      "ENSG00000235027.1 11 1281578 2281578\n",
      "PLINK v1.90b6.18 64-bit (16 Jun 2020)          www.cog-genomics.org/plink/1.9/\n",
      "(C) 2005-2020 Shaun Purcell, Christopher Chang   GNU General Public License v3\n",
      "Logging to tmp/1_10/GD462.GeneQuantRPKM.50FN.samplename.resk10.txt.ENSG00000235027.1.log.\n",
      "Options in effect:\n",
      "  --allow-no-sex\n",
      "  --bfile /Users/haosun/Documents/WG_Reasearch_Assisstant/Fusion/install/fusion_twas-master/LDREF/1000G.EUR.11\n",
      "  --chr 11\n",
      "  --extract /Users/haosun/Documents/WG_Reasearch_Assisstant/Fusion/install/fusion_twas-master/LDREF/1000G.EUR.11.bim\n",
      "  --from-bp 1281578\n",
      "  --keep tmp/1_10/GD462.GeneQuantRPKM.50FN.samplename.resk10.txt.ENSG00000235027.1.pheno\n",
      "  --make-bed\n",
      "  --out tmp/1_10/GD462.GeneQuantRPKM.50FN.samplename.resk10.txt.ENSG00000235027.1\n",
      "  --pheno tmp/1_10/GD462.GeneQuantRPKM.50FN.samplename.resk10.txt.ENSG00000235027.1.pheno\n",
      "  --to-bp 2281578\n",
      "\n",
      "16384 MB RAM detected; reserving 8192 MB for main workspace.\n",
      "452 out of 60977 variants loaded from .bim file.\n",
      "489 people (0 males, 0 females, 489 ambiguous) loaded from .fam.\n",
      "Ambiguous sex IDs written to\n",
      "tmp/1_10/GD462.GeneQuantRPKM.50FN.samplename.resk10.txt.ENSG00000235027.1.nosex\n",
      ".\n",
      "344 phenotype values present after --pheno.\n",
      "--extract: 452 variants remaining.\n",
      "--keep: 344 people remaining.\n",
      "Using 1 thread (no multithreaded calculations invoked).\n",
      "Before main variant filters, 344 founders and 0 nonfounders present.\n",
      "Calculating allele frequencies... 10111213141516171819202122232425262728293031323334353637383940414243444546474849505152535455565758596061626364656667686970717273747576777879808182838485868788899091929394959697989 done.\n",
      "452 variants and 344 people pass filters and QC.\n",
      "Phenotype data is quantitative.\n",
      "--make-bed to\n",
      "tmp/1_10/GD462.GeneQuantRPKM.50FN.samplename.resk10.txt.ENSG00000235027.1.bed +\n",
      "tmp/1_10/GD462.GeneQuantRPKM.50FN.samplename.resk10.txt.ENSG00000235027.1.bim +\n",
      "tmp/1_10/GD462.GeneQuantRPKM.50FN.samplename.resk10.txt.ENSG00000235027.1.fam\n",
      "... 101112131415161718192021222324252627282930313233343536373839404142434445464748495051525354555657585960616263646566676869707172737475767778798081828384858687888990919293949596979899done.\n",
      "mkdir: ./WEIGHTS/ALL: File exists\n",
      "tmp/1_10/GD462.GeneQuantRPKM.50FN.samplename.resk10.txt.ENSG00000235027.1..tmp : heritability 0.01812; LRT P-value 0.24467 : skipping gene\n",
      "end of circle\n",
      "\n"
     ]
    }
   ],
   "source": [
    "cd $wd\n",
    "# Loop through each gene expression phenotype in the batch (Only looking at the first 10 genes)\n",
    "cat $Datarep$PRE_GEXP | awk -v s=$BATCH_START -v e=$BATCH_END 'NR > s && NR <= e' |  while read PARAM; do\n",
    "# Get the gene positions +/- 500kb\n",
    "CHR=`echo $PARAM | awk '{ print $3 }'`\n",
    "P0=`echo $PARAM | awk '{ print $4 - 0.5e6 }'`\n",
    "P1=`echo $PARAM | awk '{ print $4 + 0.5e6 }'`\n",
    "GNAME=`echo $PARAM | awk '{ print $1 }'`\n",
    "\n",
    "OUT=\"tmp/$NR/$PRE_GEXP.$GNAME\"\n",
    "\n",
    "echo $GNAME $CHR $P0 $P1\n",
    "\n",
    "## Pull out the current gene expression phenotype (Note 1 )\n",
    "echo $PARAM | tr ' ' '\\n' | tail -n+5 | paste PRE_GEXPID PRE_GEXPID - > $OUT.pheno\n",
    "## Get the locus genotypes for all samples and set current gene expression as the phenotype\n",
    "$PLINK --bfile $LDREF/$PRE_GENO.$CHR --pheno $OUT.pheno --make-bed --out $OUT --chr $CHR --from-bp $P0 --to-bp $P1 --extract $LDREF/1000G.EUR.$CHR.bim --keep $OUT.pheno --allow-no-sex\n",
    "## Process all samples together (for reference purposes only since this is mult-ethnic data)\n",
    "mkdir $OUT_DIR/ALL\n",
    "FINAL_OUT=\"$OUT_DIR/ALL/ALL.$GNAME\"\n",
    "#\n",
    "Rscript $Rscp --bfile $OUT --tmp $OUT.$pop.tmp --out $FINAL_OUT --verbose 0 --save_hsq --PATH_gcta $GCTA --PATH_gemma $GEMMA --models blup,lasso,top1,enet\n",
    "### ALTERNATIVELY ADD COVARIATES HERE USING THE --covar FLAG\n",
    "## MINIMAL COMMAND IS: `Rscript FUSION.compute_weights.R --bfile $OUT --tmp $OUT.$pop.tmp --out $FINAL_OUT`\n",
    "#\n",
    "## Append heritability output to hsq file\n",
    "cat $FINAL_OUT.hsq >> hsq/$NR.hsq\n",
    "#\n",
    "## Clean-up just in case\n",
    "rm -f $FINAL_OUT.hsq $OUT.tmp.*\n",
    "#\n",
    "# Remove all intermediate files\n",
    "echo \"end of circle\"\n",
    "\n",
    "# GO TO THE NEXT GENE\n",
    "done\n",
    "\n",
    "\n"
   ]
  },
  {
   "cell_type": "code",
   "execution_count": null,
   "metadata": {
    "kernel": "Bash"
   },
   "outputs": [],
   "source": []
  },
  {
   "cell_type": "code",
   "execution_count": 61,
   "metadata": {
    "kernel": "Bash"
   },
   "outputs": [
    {
     "name": "stdout",
     "output_type": "stream",
     "text": [
      "bash: /Users/haosun/Documents/WG_Reasearch_Assisstant/Fusion/install/fusion_twas-master/FUSION.compute_weights.R: Permission denied\n",
      "\n"
     ]
    }
   ],
   "source": []
  },
  {
   "cell_type": "code",
   "execution_count": 22,
   "metadata": {
    "kernel": "Bash"
   },
   "outputs": [
    {
     "name": "stdout",
     "output_type": "stream",
     "text": [
      "6\n",
      "\n"
     ]
    }
   ],
   "source": [
    "cd $wd/hsq\n",
    "cat 1_10.hsq | grep ALL -c"
   ]
  },
  {
   "cell_type": "code",
   "execution_count": 11,
   "metadata": {
    "kernel": "Bash"
   },
   "outputs": [
    {
     "name": "stdout",
     "output_type": "stream",
     "text": [
      "\n"
     ]
    }
   ],
   "source": [
    "cd hsq"
   ]
  },
  {
   "cell_type": "code",
   "execution_count": 74,
   "metadata": {
    "kernel": "Bash"
   },
   "outputs": [
    {
     "name": "stdout",
     "output_type": "stream",
     "text": [
      "147\n",
      "\n"
     ]
    }
   ],
   "source": [
    "cat 1_10.hsq | grep . -c"
   ]
  },
  {
   "cell_type": "code",
   "execution_count": 120,
   "metadata": {
    "kernel": "Bash"
   },
   "outputs": [
    {
     "name": "stdout",
     "output_type": "stream",
     "text": [
      "\n"
     ]
    }
   ],
   "source": [
    "cd /Users/haosun/Documents/WG_Reasearch_Assisstant/Fusion/install/fusion_twas-master/LDREF/"
   ]
  },
  {
   "cell_type": "code",
   "execution_count": 123,
   "metadata": {
    "kernel": "Bash"
   },
   "outputs": [
    {
     "name": "stdout",
     "output_type": "stream",
     "text": [
      "head: /Users/haosun/Documents/WG_Reasearch_Assisstant/Fusion/install/fusion_twas-master/LDREF/1000G.10.bed: No such file or directory\n",
      "\n"
     ]
    }
   ],
   "source": [
    "head /Users/haosun/Documents/WG_Reasearch_Assisstant/Fusion/install/fusion_twas-master/LDREF/1000G.10.bed"
   ]
  },
  {
   "cell_type": "code",
   "execution_count": 55,
   "metadata": {
    "kernel": "Bash"
   },
   "outputs": [
    {
     "name": "stdout",
     "output_type": "stream",
     "text": [
      "/Users/haosun/Documents/WG_Reasearch_Assisstant/Fusion/install/fusion_twas-master/LDREF.ID\n",
      "\n"
     ]
    }
   ],
   "source": [
    "echo $LDREF.ID"
   ]
  },
  {
   "cell_type": "markdown",
   "metadata": {
    "kernel": "SoS"
   },
   "source": [
    "patential working genes\n",
    "ENSG00000225267.1\n",
    "ENSG00000259382.1\n",
    "ENSG00000135046.9"
   ]
  },
  {
   "cell_type": "code",
   "execution_count": null,
   "metadata": {
    "kernel": "SoS"
   },
   "outputs": [],
   "source": []
  }
 ],
 "metadata": {
  "kernelspec": {
   "display_name": "SoS",
   "language": "sos",
   "name": "sos"
  },
  "language_info": {
   "codemirror_mode": "sos",
   "file_extension": ".sos",
   "mimetype": "text/x-sos",
   "name": "sos",
   "nbconvert_exporter": "sos_notebook.converter.SoS_Exporter",
   "pygments_lexer": "sos"
  },
  "sos": {
   "kernels": [
    [
     "Bash",
     "calysto_bash",
     "Bash",
     "#E6EEFF",
     ""
    ],
    [
     "SoS",
     "sos",
     "",
     "",
     "sos"
    ]
   ],
   "version": "0.20.1"
  }
 },
 "nbformat": 4,
 "nbformat_minor": 4
}
