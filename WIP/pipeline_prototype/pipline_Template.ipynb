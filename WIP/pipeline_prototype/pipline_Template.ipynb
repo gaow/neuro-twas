{
 "cells": [
  {
   "cell_type": "code",
   "execution_count": 2,
   "metadata": {
    "kernel": "Bash"
   },
   "outputs": [
    {
     "name": "stdout",
     "output_type": "stream",
     "text": [
      "/Users/haosun/Documents/WG_Reasearch_Assisstant/Fusion/install/fusion_twas-master/Testing\n",
      "\n"
     ]
    }
   ],
   "source": [
    "pwd"
   ]
  },
  {
   "cell_type": "code",
   "execution_count": null,
   "metadata": {
    "kernel": "SoS"
   },
   "outputs": [],
   "source": [
    "#!/bin/sh\n",
    "# MAKE SURE FUSION.compute_weights.R IS IN YOUR PATH\n",
    "# FILL IN THESE PATHS\n",
    "GCTA=\"<PATH TO GCTA>\"\n",
    "PLINK=\"<PATH TO PLINK>\"\n",
    "GEMMA=\"<PATH TO GEMMA>\"\n",
    "\n",
    "# ALTERNATIVELY: ENSURE THAT plink, gcta, gemma CAN BE CALLED FROM PATH AND REMOVE --PATH_* FLAGS BELOW\n",
    "# PATH TO DIRECTORY CONTAINING LDREF DATA (FROM FUSION WEBSITE or https://data.broadinstitute.org/alkesgroup/FUSION/LDREF.tar.bz2)\n",
    "LDREF=\"<PATH TO LDREF>\"\n",
    "# THIS IS USED TO RESTRICT INPUT SNPS TO REFERENCE IDS ONLY\n",
    "\n",
    "# PATH TO GEUVADIS GENE EXPRESSION MATRIX:\n",
    "PRE_GEXP=\"GD462.GeneQuantRPKM.50FN.samplename.resk10.txt\"\n",
    "# GEUVADIS DATA WAS DOWNLOADED FROM https://www.ebi.ac.uk/arrayexpress/experiments/E-GEUV-1/files/analysis_results/\n",
    "\n",
    "# PATH TO PREFIX FOR GEUVADIS GENOTYPES SPLIT BY CHROMOSOME\n",
    "# SUBSAMPLE THESE TO THE LDREF SNPS FOR EFFICIENCY\n",
    "PRE_GENO=\"1000G\"\n",
    "\n",
    "# PATH TO OUTPUT DIRECTORY (population-specific subdirs will be made)\n",
    "OUT_DIR=\"./WEIGHTS\"\n",
    "\n",
    "# ROWS IN THE MATRIX TO ANALYZE (FOR BATCHED RUNS)\n",
    "BATCH_START=1\n",
    "BATCH_END=10"
   ]
  },
  {
   "cell_type": "code",
   "execution_count": 4,
   "metadata": {
    "kernel": "SoS"
   },
   "outputs": [
    {
     "name": "stderr",
     "output_type": "stream",
     "text": [
      "File contains parsing errors: \n",
      "\t[line  4]: NR=\"${BATCH_START}_${BATCH_END}\"\n",
      "mkdir --parents tmp/$NR\n",
      "mkdir --parents hsq/$NR\n",
      "mkdir --parents out/$NR\n",
      "# THIS IS DIRECTORY WHERE THE OUTPUT WILL GO:\n",
      "\n",
      "Invalid statements: SyntaxError('invalid syntax', ('<string>', 2, 17, 'mkdir --parents tmp/$NR\\n'))\n"
     ]
    }
   ],
   "source": [
    "# --- BEGIN SCRIPT:\n",
    "\n",
    "NR=\"${BATCH_START}_${BATCH_END}\"\n",
    "mkdir --parents tmp/$NR\n",
    "mkdir --parents hsq/$NR\n",
    "mkdir --parents out/$NR\n",
    "# THIS IS DIRECTORY WHERE THE OUTPUT WILL GO:\n",
    "mkdir $OUT_DIR"
   ]
  },
  {
   "cell_type": "code",
   "execution_count": 3,
   "metadata": {
    "kernel": "SoS"
   },
   "outputs": [
    {
     "name": "stderr",
     "output_type": "stream",
     "text": [
      "File contains parsing errors: \n",
      "\t[line  3]: cat $PRE_GEXP | awk -vs=$BATCH_START -ve=$BATCH_END 'NR > s && NR <= e' |  while read PARAM; do\n",
      "\n",
      "Invalid statements: SyntaxError('invalid syntax', ('<string>', 1, 5, \"cat $PRE_GEXP | awk -vs=$BATCH_START -ve=$BATCH_END 'NR > s && NR <= e' |  while read PARAM; do\\n\"))\n"
     ]
    }
   ],
   "source": [
    "# Loop through each gene expression phenotype in the batch\n",
    "cat $PRE_GEXP | awk -vs=$BATCH_START -ve=$BATCH_END 'NR > s && NR <= e' |  while read PARAM; do"
   ]
  },
  {
   "cell_type": "code",
   "execution_count": null,
   "metadata": {
    "kernel": "SoS"
   },
   "outputs": [],
   "source": [
    "# Get the gene positions +/- 500kb\n",
    "CHR=`echo $PARAM | awk '{ print $3 }'`\n",
    "P0=`echo $PARAM | awk '{ print $4 - 0.5e6 }'`\n",
    "P1=`echo $PARAM | awk '{ print $4 + 0.5e6 }'`\n",
    "GNAME=`echo $PARAM | awk '{ print $1 }'`\n",
    "\n",
    "OUT=\"tmp/$NR/$PRE_GEXP.$GNAME\"\n",
    "\n",
    "echo $GNAME $CHR $P0 $P1\n",
    "\n"
   ]
  },
  {
   "cell_type": "code",
   "execution_count": null,
   "metadata": {
    "kernel": "SoS"
   },
   "outputs": [],
   "source": [
    "# Pull out the current gene expression phenotype\n",
    "echo $PARAM | tr ' ' '\\n' | tail -n+5 | paste $PRE_GEXP.ID - > $OUT.pheno\n",
    "\n"
   ]
  },
  {
   "cell_type": "code",
   "execution_count": null,
   "metadata": {
    "kernel": "SoS"
   },
   "outputs": [],
   "source": [
    "# Get the locus genotypes for all samples and set current gene expression as the phenotype\n",
    "$PLINK --bfile $PRE_GENO.$CHR --pheno $OUT.pheno --make-bed --out $OUT --keep $OUT.pheno --chr $CHR --from-bp $P0 --to-bp $P1 --extract $LDREF/1000G.EUR.$CHR.bim\n",
    "\n"
   ]
  },
  {
   "cell_type": "code",
   "execution_count": null,
   "metadata": {
    "kernel": "SoS"
   },
   "outputs": [],
   "source": [
    "# Process all samples together (for reference purposes only since this is mult-ethnic data)\n",
    "mkdir $OUT_DIR/ALL\n",
    "FINAL_OUT=\"$OUT_DIR/ALL/ALL.$GNAME\"\n",
    "\n",
    "Rscript FUSION.compute_weights.R --bfile $OUT --tmp $OUT.$pop.tmp --out $FINAL_OUT --verbose 0 --save_hsq --PATH_gcta $GCTA --PATH_gemma $GEMMA --models blup,lasso,top1,enet\n",
    "\n"
   ]
  },
  {
   "cell_type": "code",
   "execution_count": null,
   "metadata": {
    "kernel": "SoS"
   },
   "outputs": [],
   "source": [
    "# ALTERNATIVELY ADD COVARIATES HERE USING THE --covar FLAG\n",
    "# MINIMAL COMMAND IS: `Rscript FUSION.compute_weights.R --bfile $OUT --tmp $OUT.$pop.tmp --out $FINAL_OUT`\n",
    "\n",
    "# Append heritability output to hsq file\n",
    "cat $FINAL_OUT.hsq >> hsq/$NR.hsq\n",
    "\n",
    "# Clean-up just in case\n",
    "rm -f $FINAL_OUT.hsq $OUT.tmp.*"
   ]
  },
  {
   "cell_type": "code",
   "execution_count": null,
   "metadata": {
    "kernel": "SoS"
   },
   "outputs": [],
   "source": [
    "# Process each population\n",
    "# THIS REQUIRES HAVING A $pop.keep FILE LISTING IDS FOR EACH POPULATION\n",
    "for pop in EUR YRI TSI CEU FIN GBR; do\n",
    "\tmkdir --parents WEIGHTS/$pop\n",
    "\tFINAL_OUT=\"WEIGHTS/$pop/$pop.$GNAME\"\n",
    "\t# EXTRACT THE POPULATION AND 1% SNPS\n",
    "\t$PLINK --bfile $OUT --keep $pop.keep --make-bed --out $OUT.$pop --maf 0.01\n",
    "\n",
    "\t# MAKE SURE FUSION.compute_weights.R IS IN YOUR PATH\n",
    "\tRscript FUSION.compute_weights.R --bfile $OUT.$pop --tmp $OUT.$pop.tmp --out $FINAL_OUT --verbose 0 --save_hsq --PATH_gcta $GCTA --PATH_gemma $GEMMA --models blup,lasso,top1,enet\n",
    "\t\n",
    "\t# Append heritability output to hsq file\n",
    "\tcat $FINAL_OUT.hsq >> hsq/$NR.hsq\n",
    "\n",
    "\t# Clean-up just in case\n",
    "\trm -f $FINAL_OUT.hsq $OUT.tmp.*\n",
    "done\n",
    "\n",
    "# Remove all intermediate files\n",
    "rm $OUT.*\n",
    "\n",
    "# GO TO THE NEXT GENE\n",
    "done"
   ]
  }
 ],
 "metadata": {
  "kernelspec": {
   "display_name": "SoS",
   "language": "sos",
   "name": "sos"
  },
  "language_info": {
   "codemirror_mode": "sos",
   "file_extension": ".sos",
   "mimetype": "text/x-sos",
   "name": "sos",
   "nbconvert_exporter": "sos_notebook.converter.SoS_Exporter",
   "pygments_lexer": "sos"
  },
  "sos": {
   "kernels": [
    [
     "Bash",
     "calysto_bash",
     "Bash",
     "#E6EEFF",
     ""
    ],
    [
     "SoS",
     "sos",
     "",
     "",
     "sos"
    ]
   ],
   "version": "0.20.1"
  }
 },
 "nbformat": 4,
 "nbformat_minor": 4
}
