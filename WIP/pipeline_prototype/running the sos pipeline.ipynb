{
 "cells": [
  {
   "cell_type": "markdown",
   "metadata": {
    "kernel": "SoS"
   },
   "source": []
  },
  {
   "cell_type": "code",
   "execution_count": 16,
   "metadata": {
    "kernel": "Bash"
   },
   "outputs": [
    {
     "name": "stdout",
     "output_type": "stream",
     "text": [
      "\u001b[95mWARNING\u001b[0m: \u001b[95mEmbedding script \"cd $[wd]...\" without indentation is error-prone and will be deprecated in the future.\u001b[0m\n",
      "usage: sos run SOS_weight_cpt_template.ipynb\n",
      "               [workflow_name | -t targets] [options] [workflow_options]\n",
      "  workflow_name:        Single or combined workflows defined in this script\n",
      "  targets:              One or more targets to generate\n",
      "  options:              Single-hyphen sos parameters (see \"sos run -h\" for details)\n",
      "  workflow_options:     Double-hyphen workflow-specific parameters\n",
      "\n",
      "Workflows:\n",
      "  STEP\n",
      "\n",
      "Global Workflow Options:\n",
      "  --GCTA '/Users/haosun/Documents/WG_Reasearch_Assisstant/Fusion/install/fusion_twas-master/gcta_1.93.2beta_mac/gcta64'\n",
      "                        !/bin/sh MAKE SURE FUSION.compute_weights.R IS IN YOUR\n",
      "                        PATH FILL IN THESE PATHS For mac user, the mac version\n",
      "                        of GCTA shall be downloaded saperately, the one came\n",
      "                        with the Fusion package will not work.\n",
      "  --PLINK '/Users/haosun/Documents/WG_Reasearch_Assisstant/Fusion/plink_mac_20200616/plink'\n",
      "  --GEMMA '/Users/haosun/Documents/WG_Reasearch_Assisstant/Fusion/install/fusion_twas-master/GEMMA'\n",
      "  --Rscp '/Users/haosun/Documents/WG_Reasearch_Assisstant/Fusion/install/fusion_twas-master/FUSION.compute_weights.mod.R'\n",
      "                        Required the customized fusion.compute_weight.mod.R\n",
      "                        script, other wise will not work\n",
      "  --Datarep '/Users/haosun/Documents/WG_Reasearch_Assisstant/Fusion/install/fusion_twas-master/Testing/Data/'\n",
      "                        Path to the input data\n",
      "  --wd '/Users/haosun/Documents/WG_Reasearch_Assisstant/Fusion/install/fusion_twas-master/SOS'\n",
      "                        PATH TO WORKING DIRECTORY\n",
      "  --OUT-DIR './WEIGHTS'\n",
      "                        PATH TO OUTPUT DIRECTORY (population-specific subdirs\n",
      "                        will be made)\n",
      "  --BATCH-START 1 (as int)\n",
      "                        ROWS IN THE MATRIX TO ANALYZE (FOR BATCHED RUNS)\n",
      "  --BATCH-END 3 (as int)\n",
      "  --LDREF '/Users/haosun/Documents/WG_Reasearch_Assisstant/Fusion/install/fusion_twas-master/LDREF'\n",
      "                        PATH TO DIRECTORY CONTAINING LDREF DATA (FROM FUSION\n",
      "                        WEBSITE or https://data.broadinstitute.org/alkesgroup/FU\n",
      "                        SION/LDREF.tar.bz2)\n",
      "  --PRE-GEXP 'GD462.hsq_succ.test.txt'\n",
      "                        PATH TO GEUVADIS GENE EXPRESSION MATRIX:\n",
      "  --PRE-GENO '1000G.EUR'\n",
      "                        PATH TO PREFIX FOR GEUVADIS GENOTYPES SPLIT BY\n",
      "                        CHROMOSOME SUBSAMPLE THESE TO THE LDREF SNPS FOR\n",
      "                        EFFICIENCY\n",
      "\n",
      "Sections\n",
      "  STEP_1:               Make folder structure for the pipeline\n",
      "  STEP_2:               extract each gene from the data matrixs to a file for\n",
      "                        multi tasking\n",
      "  STEP_3:               Actual weight computation analysis\n",
      "\n"
     ]
    }
   ],
   "source": [
    "sos run SOS_weight_cpt_template.ipynb -h"
   ]
  },
  {
   "cell_type": "code",
   "execution_count": 17,
   "metadata": {
    "kernel": "Bash"
   },
   "outputs": [
    {
     "name": "stdout",
     "output_type": "stream",
     "text": [
      "\u001b[95mWARNING\u001b[0m: \u001b[95mEmbedding script \"cd $[wd]...\" without indentation is error-prone and will be deprecated in the future.\u001b[0m\n",
      "INFO: Running \u001b[32mSTEP_1\u001b[0m: Make folder structure for the pipeline\n",
      "mkdir: ./WEIGHTS: File exists\n",
      "mkdir: /Users/haosun/Documents/WG_Reasearch_Assisstant/Fusion/install/fusion_twas-master/SOS/GD462.hsq_succ.test.txt_per_gene: File exists\n",
      " HG00096\n",
      " HG00097\n",
      " HG00099\n",
      "INFO: \u001b[32mSTEP_1\u001b[0m is \u001b[32mcompleted\u001b[0m.\n",
      "INFO: Running \u001b[32mSTEP_2\u001b[0m: extract each gene from the data matrixs to a file for multi tasking\n",
      "INFO: \u001b[32mSTEP_2\u001b[0m is \u001b[32mcompleted\u001b[0m.\n",
      "INFO: Running \u001b[32mSTEP_3\u001b[0m: Actual weight computation analysis\n",
      "ENSG00000136237.12 7 21896763 22896763 tmp/GD462.hsq_succ.test.txt.ENSG00000136237.12 tmp/GD462.hsq_succ.test.txt.ENSG00000136237.12\n",
      " HG00096\n",
      " HG00096\t HG00096\t3.78850273139249\n",
      "PLINK v1.90b6.18 64-bit (16 Jun 2020)          www.cog-genomics.org/plink/1.9/\n",
      "(C) 2005-2020 Shaun Purcell, Christopher Chang   GNU General Public License v3\n",
      "Logging to tmp/GD462.hsq_succ.test.txt.ENSG00000136237.12.log.\n",
      "Options in effect:\n",
      "  --allow-no-sex\n",
      "  --bfile /Users/haosun/Documents/WG_Reasearch_Assisstant/Fusion/install/fusion_twas-master/LDREF/1000G.EUR.7\n",
      "  --chr 7\n",
      "  --extract /Users/haosun/Documents/WG_Reasearch_Assisstant/Fusion/install/fusion_twas-master/LDREF/1000G.EUR.7.bim\n",
      "  --from-bp 21896763\n",
      "  --keep tmp/GD462.hsq_succ.test.txt.ENSG00000136237.12.pheno\n",
      "  --make-bed\n",
      "  --out tmp/GD462.hsq_succ.test.txt.ENSG00000136237.12\n",
      "  --pheno tmp/GD462.hsq_succ.test.txt.ENSG00000136237.12.pheno\n",
      "  --to-bp 22896763\n",
      "\n",
      "16384 MB RAM detected; reserving 8192 MB for main workspace.\n",
      "673 out of 66171 variants loaded from .bim file.\n",
      "489 people (0 males, 0 females, 489 ambiguous) loaded from .fam.\n",
      "Ambiguous sex IDs written to\n",
      "tmp/GD462.hsq_succ.test.txt.ENSG00000136237.12.nosex .\n",
      "344 phenotype values present after --pheno.\n",
      "--extract: 673 variants remaining.\n",
      "--keep: 344 people remaining.\n",
      "Using 1 thread (no multithreaded calculations invoked).\n",
      "Before main variant filters, 344 founders and 0 nonfounders present.\n",
      "Calculating allele frequencies... 10111213141516171819202122232425262728293031323334353637383940414243444546474849505152535455565758596061626364656667686970717273747576777879808182838485868788899091929394959697989 done.\n",
      "673 variants and 344 people pass filters and QC.\n",
      "Phenotype data is quantitative.\n",
      "--make-bed to tmp/GD462.hsq_succ.test.txt.ENSG00000136237.12.bed +\n",
      "tmp/GD462.hsq_succ.test.txt.ENSG00000136237.12.bim +\n",
      "tmp/GD462.hsq_succ.test.txt.ENSG00000136237.12.fam ... 101112131415161718192021222324252627282930313233343536373839404142434445464748495051525354555657585960616263646566676869707172737475767778798081828384858687888990919293949596979899done.\n",
      "mkdir: ./WEIGHTS/ALL: File exists\n",
      "/Users/haosun/Documents/WG_Reasearch_Assisstant/Fusion/install/fusion_twas-master/FUSION.compute_weights.mod.R\n",
      "end of circle\n",
      "ENSG00000225267.1 21 31136199 32136199 tmp/GD462.hsq_succ.test.txt.ENSG00000225267.1 tmp/GD462.hsq_succ.test.txt.ENSG00000225267.1\n",
      " HG00096\n",
      " HG00096\t HG00096\t1.45818680650673\n",
      "PLINK v1.90b6.18 64-bit (16 Jun 2020)          www.cog-genomics.org/plink/1.9/\n",
      "(C) 2005-2020 Shaun Purcell, Christopher Chang   GNU General Public License v3\n",
      "Logging to tmp/GD462.hsq_succ.test.txt.ENSG00000225267.1.log.\n",
      "Options in effect:\n",
      "  --allow-no-sex\n",
      "  --bfile /Users/haosun/Documents/WG_Reasearch_Assisstant/Fusion/install/fusion_twas-master/LDREF/1000G.EUR.21\n",
      "  --chr 21\n",
      "  --extract /Users/haosun/Documents/WG_Reasearch_Assisstant/Fusion/install/fusion_twas-master/LDREF/1000G.EUR.21.bim\n",
      "  --from-bp 31136199\n",
      "  --keep tmp/GD462.hsq_succ.test.txt.ENSG00000225267.1.pheno\n",
      "  --make-bed\n",
      "  --out tmp/GD462.hsq_succ.test.txt.ENSG00000225267.1\n",
      "  --pheno tmp/GD462.hsq_succ.test.txt.ENSG00000225267.1.pheno\n",
      "  --to-bp 32136199\n",
      "\n",
      "16384 MB RAM detected; reserving 8192 MB for main workspace.\n",
      "455 out of 17040 variants loaded from .bim file.\n",
      "489 people (0 males, 0 females, 489 ambiguous) loaded from .fam.\n",
      "Ambiguous sex IDs written to\n",
      "tmp/GD462.hsq_succ.test.txt.ENSG00000225267.1.nosex .\n",
      "344 phenotype values present after --pheno.\n",
      "--extract: 455 variants remaining.\n",
      "--keep: 344 people remaining.\n",
      "Using 1 thread (no multithreaded calculations invoked).\n",
      "Before main variant filters, 344 founders and 0 nonfounders present.\n",
      "Calculating allele frequencies... 10111213141516171819202122232425262728293031323334353637383940414243444546474849505152535455565758596061626364656667686970717273747576777879808182838485868788899091929394959697989 done.\n",
      "455 variants and 344 people pass filters and QC.\n",
      "Phenotype data is quantitative.\n",
      "--make-bed to tmp/GD462.hsq_succ.test.txt.ENSG00000225267.1.bed +\n",
      "tmp/GD462.hsq_succ.test.txt.ENSG00000225267.1.bim +\n",
      "tmp/GD462.hsq_succ.test.txt.ENSG00000225267.1.fam ... 101112131415161718192021222324252627282930313233343536373839404142434445464748495051525354555657585960616263646566676869707172737475767778798081828384858687888990919293949596979899done.\n",
      "mkdir: ./WEIGHTS/ALL: File exists\n",
      "/Users/haosun/Documents/WG_Reasearch_Assisstant/Fusion/install/fusion_twas-master/FUSION.compute_weights.mod.R\n",
      "end of circle\n",
      "INFO: \u001b[32mSTEP_3\u001b[0m is \u001b[32mcompleted\u001b[0m.\n",
      "INFO: Workflow STEP (ID=1b5d1167d63138ec) is executed successfully with 3 completed steps.\n",
      "\n"
     ]
    }
   ],
   "source": [
    "## Test pipeline with example datas\n",
    "sos run SOS_weight_cpt_template.ipynb \\\n",
    "  --GCTA \"/Users/haosun/Documents/WG_Reasearch_Assisstant/Fusion/install/fusion_twas-master/gcta_1.93.2beta_mac/gcta64\" \\\n",
    "  --PLINK `which plink` \\\n",
    "  --GEMMA `which gemma` \\\n",
    "  --Rscp  \"/Users/haosun/Documents/WG_Reasearch_Assisstant/Fusion/install/fusion_twas-master/FUSION.compute_weights.mod.R\" \\\n",
    "  --Datarep \"/Users/haosun/Documents/WG_Reasearch_Assisstant/Fusion/install/fusion_twas-master/Testing/Data/\" \\\n",
    "  --wd  \"/Users/haosun/Documents/WG_Reasearch_Assisstant/Fusion/install/fusion_twas-master/SOS\" \\\n",
    "  --OUT_DIR \"./WEIGHTS\" \\\n",
    "  --BATCH_START 1 \\\n",
    "  --BATCH_END 3 \\\n",
    "  --LDREF  \"/Users/haosun/Documents/WG_Reasearch_Assisstant/Fusion/install/fusion_twas-master/LDREF\" \\\n",
    "  --PRE_GEXP \"GD462.hsq_succ.test.txt\" \\\n",
    "  --PRE_GENO \"1000G.EUR\""
   ]
  },
  {
   "cell_type": "code",
   "execution_count": 8,
   "metadata": {
    "kernel": "Bash"
   },
   "outputs": [
    {
     "name": "stdout",
     "output_type": "stream",
     "text": [
      "/Users/haosun/Documents/WG_Reasearch_Assisstant/Fusion/plink_mac_20200616/plink\n",
      "\n"
     ]
    }
   ],
   "source": []
  },
  {
   "cell_type": "code",
   "execution_count": 9,
   "metadata": {
    "kernel": "Bash"
   },
   "outputs": [
    {
     "name": "stdout",
     "output_type": "stream",
     "text": [
      "/Users/haosun/Documents/WG_Reasearch_Assisstant/Fusion/install/fusion_twas-master/gemma\n",
      "\n"
     ]
    }
   ],
   "source": [
    "## Test pipeline with chicago data\n",
    "sos run SOS_weight_cpt_template.ipynb \\\n",
    "  --GCTA \"/Users/haosun/Documents/WG_Reasearch_Assisstant/Fusion/install/fusion_twas-master/gcta_1.93.2beta_mac/gcta64\" \\\n",
    "  --PLINK `which plink` \\\n",
    "  --GEMMA `which gemma` \\\n",
    "  --Rscp  \"/Users/haosun/Documents/WG_Reasearch_Assisstant/Fusion/install/fusion_twas-master/FUSION.compute_weights.mod.R\" \\\n",
    "  --Datarep \"/Users/haosun/Documents/WG_Reasearch_Assisstant/Fusion/install/fusion_twas-master/chicago/Data/\" \\\n",
    "  --wd  \"/Users/haosun/Documents/WG_Reasearch_Assisstant/Fusion/install/fusion_twas-master/chicago/working\" \\\n",
    "  --OUT_DIR \"./WEIGHTS\" \\\n",
    "  --BATCH_START 1 \\\n",
    "  --BATCH_END 3 \\\n",
    "  --LDREF  \"/Users/haosun/Documents/WG_Reasearch_Assisstant/Fusion/install/fusion_twas-master/LDREF\" \\\n",
    "  --PRE_GEXP \"GD462.hsq_succ.test.txt\" \\\n",
    "  --PRE_GENO \"1000G.YRI\"\n"
   ]
  },
  {
   "cell_type": "code",
   "execution_count": null,
   "metadata": {
    "kernel": "Bash"
   },
   "outputs": [],
   "source": []
  }
 ],
 "metadata": {
  "kernelspec": {
   "display_name": "SoS",
   "language": "sos",
   "name": "sos"
  },
  "language_info": {
   "codemirror_mode": "sos",
   "file_extension": ".sos",
   "mimetype": "text/x-sos",
   "name": "sos",
   "nbconvert_exporter": "sos_notebook.converter.SoS_Exporter",
   "pygments_lexer": "sos"
  },
  "sos": {
   "kernels": [
    [
     "Bash",
     "calysto_bash",
     "Bash",
     "#E6EEFF",
     ""
    ]
   ],
   "version": "0.20.1"
  }
 },
 "nbformat": 4,
 "nbformat_minor": 4
}
