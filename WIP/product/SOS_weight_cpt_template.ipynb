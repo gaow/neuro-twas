{
 "cells": [
  {
   "cell_type": "code",
   "execution_count": null,
   "metadata": {
    "kernel": "SoS"
   },
   "outputs": [],
   "source": []
  },
  {
   "cell_type": "markdown",
   "metadata": {
    "kernel": "SoS"
   },
   "source": [
    "# Command interface "
   ]
  },
  {
   "cell_type": "code",
   "execution_count": null,
   "metadata": {
    "kernel": "SoS"
   },
   "outputs": [],
   "source": [
    "sos run SOS_weight_cpt_template.ipynb -h"
   ]
  },
  {
   "cell_type": "markdown",
   "metadata": {
    "kernel": "SoS"
   },
   "source": [
    "# Working example\n",
    "On a minimal working example (MWE) dataset that can be downloaded from the private repo:\n",
    "    https://github.com/cumc/neuro-twas/blob/master/WIP/GD462.hsq_succ.test.txt\n",
    "\n",
    "    sos run SOS_weight_cpt_template.ipynb \\\n",
    "      --GCTA \"/Users/haosun/Documents/WG_Reasearch_Assisstant/Fusion/install/fusion_twas-master/gcta_1.93.2beta_mac/gcta64\"\\\n",
    "      --PLINK `which plink` \\\n",
    "      --GEMMA `which gemma` \\\n",
    "      --Rscp  \"/Users/haosun/Documents/WG_Reasearch_Assisstant/Fusion/install/fusion_twas-master/FUSION.compute_weights.mod.R\" \\\n",
    "      --Datarep \"/Users/haosun/Documents/WG_Reasearch_Assisstant/Fusion/install/fusion_twas-master/Testing/Data/\" \\\n",
    "      --wd  \"/Users/haosun/Documents/WG_Reasearch_Assisstant/Fusion/install/fusion_twas-master/SOS\" \\\n",
    "      --OUT_DIR \"./WEIGHTS\" \\\n",
    "      --BATCH_START 1 \\\n",
    "      --BATCH_END 50 \\\n",
    "      --LDREF  \"/Users/haosun/Documents/WG_Reasearch_Assisstant/Fusion/install/fusion_twas-master/LDREF\" \\\n",
    "      --PRE_GEXP \"GD462.hsq_succ.test.txt\" \\\n",
    "      --PRE_GENO \"1000G.EUR\""
   ]
  },
  {
   "cell_type": "markdown",
   "metadata": {
    "kernel": "SoS"
   },
   "source": [
    "# Global parameter settings"
   ]
  },
  {
   "cell_type": "code",
   "execution_count": 96,
   "metadata": {
    "kernel": "SoS"
   },
   "outputs": [],
   "source": [
    "[global]\n",
    "##!/bin/sh\n",
    "# MAKE SURE FUSION.compute_weights.R IS IN YOUR PATH\n",
    "# FILL IN THESE PATHS\n",
    "# For mac user, the mac version of GCTA shall be downloaded saperately, the one came with the Fusion package will not work.\n",
    "parameter: GCTA = \"/Users/haosun/Documents/WG_Reasearch_Assisstant/Fusion/install/fusion_twas-master/gcta_1.93.2beta_mac/gcta64\"\n",
    "parameter: PLINK = \"/Users/haosun/Documents/WG_Reasearch_Assisstant/Fusion/plink_mac_20200616/plink\"\n",
    "parameter: GEMMA = \"/Users/haosun/Documents/WG_Reasearch_Assisstant/Fusion/install/fusion_twas-master/GEMMA\"\n",
    "\n",
    "# Required the customized fusion.compute_weight.mod.R script, other wise will not work\n",
    "parameter: Rscp = \"/Users/haosun/Documents/WG_Reasearch_Assisstant/Fusion/install/fusion_twas-master/FUSION.compute_weights.mod.R\"\n",
    "# Path to the input data\n",
    "parameter: Datarep = \"/Users/haosun/Documents/WG_Reasearch_Assisstant/Fusion/install/fusion_twas-master/Testing/Data/\"\n",
    "# ALTERNATIVELY: ENSURE THAT plink, gcta, gemma CAN BE CALLED FROM PATH AND REMOVE --PATH_* FLAGS BELOW\n",
    "\n",
    "# PATH TO WORKING DIRECTORY\n",
    "parameter: wd = \"/Users/haosun/Documents/WG_Reasearch_Assisstant/Fusion/install/fusion_twas-master/SOS\"\n",
    "\n",
    "# PATH TO OUTPUT DIRECTORY (population-specific subdirs will be made)\n",
    "parameter: OUT_DIR = \"./WEIGHTS\"\n",
    "\n",
    "# ROWS IN THE MATRIX TO ANALYZE (FOR BATCHED RUNS)\n",
    "parameter: BATCH_START = 1\n",
    "parameter: BATCH_END = 3\n",
    "\n",
    "\n",
    "# PATH TO DIRECTORY CONTAINING LDREF DATA (FROM FUSION WEBSITE or https://data.broadinstitute.org/alkesgroup/FUSION/LDREF.tar.bz2)\n",
    "parameter: LDREF = \"/Users/haosun/Documents/WG_Reasearch_Assisstant/Fusion/install/fusion_twas-master/LDREF\"\n",
    "# THIS IS USED TO RESTRICT INPUT SNPS TO REFERENCE IDS ONLY\n",
    "\n",
    "# PATH TO GEUVADIS GENE EXPRESSION MATRIX:\n",
    "parameter: PRE_GEXP = \"GD462.hsq_succ.test.txt\"\n",
    "# GEUVADIS DATA WAS DOWNLOADED FROM https://www.ebi.ac.uk/arrayexpress/experiments/E-GEUV-1/files/analysis_results/\n",
    "\n",
    "# PATH TO PREFIX FOR GEUVADIS GENOTYPES SPLIT BY CHROMOSOME\n",
    "# SUBSAMPLE THESE TO THE LDREF SNPS FOR EFFICIENCY\n",
    "parameter: PRE_GENO = \"1000G.EUR\"\n",
    "\n",
    "# Specify the first four column of the genexpression file\n",
    "parameter: \n"
   ]
  },
  {
   "cell_type": "markdown",
   "metadata": {
    "kernel": "SoS"
   },
   "source": [
    "# Actual pipeline"
   ]
  },
  {
   "cell_type": "code",
   "execution_count": 102,
   "metadata": {
    "kernel": "SoS"
   },
   "outputs": [],
   "source": [
    "# Make folder structure for the pipeline\n",
    "[STEP_1]\n",
    "bash: expand= \"$[ ]\"\n",
    "    cd $[wd]\n",
    "    NR=\"$[BATCH_START]_$[BATCH_END]\"\n",
    "    mkdir -p tmp/$NR\n",
    "    mkdir -p hsq/$NR\n",
    "    mkdir -p out/$NR\n",
    "    mkdir $[OUT_DIR]\n",
    "    mkdir $[wd]/$[PRE_GEXP]_per_gene\n",
    "    head -1 $[Datarep]$[PRE_GEXP] | awk '{$1=$2=$3=$4=\"\"; print substr($0,4)}' | fmt -1 > PRE_GEXPID\n",
    "    head -3 PRE_GEXPID"
   ]
  },
  {
   "cell_type": "code",
   "execution_count": 88,
   "metadata": {
    "kernel": "SoS"
   },
   "outputs": [],
   "source": [
    "# extract each gene from the data matrixs to a file for multi tasking\n",
    "[STEP_2]\n",
    "bash: expand= \"$[ ]\"\n",
    "cd $[wd]\n",
    "    cat $[Datarep]$[PRE_GEXP] | awk -v s=$[BATCH_START] -v e=$[BATCH_END] 'NR > s && NR <= e' |  while read PARAM; do\n",
    "    GNAME=`echo $PARAM | awk '{ print $1 }'`\n",
    "    echo $PARAM > $[wd]/$[PRE_GEXP]_per_gene/$[PRE_GEXP]_$GNAME.txt\n",
    "    \n",
    "done"
   ]
  },
  {
   "cell_type": "code",
   "execution_count": 100,
   "metadata": {
    "kernel": "SoS"
   },
   "outputs": [],
   "source": [
    "#Actual weight computation analysis\n",
    "[STEP_3]\n",
    "depends: sos_step('STEP_2')\n",
    "input: f'{wd}/{PRE_GEXP}_per_gene/',group_by=1\n",
    "bash:expand= \"$[ ]\"\n",
    "cd $[wd]\n",
    "cat $[_input]/* |  while read PARAM; do\n",
    "# Get the gene positions +/- 500kb\n",
    "CHR=`echo $PARAM | awk '{ print $3 }'`\n",
    "P0=`echo $PARAM | awk '{ print $4 - 0.5e6 }'`\n",
    "P1=`echo $PARAM | awk '{ print $4 + 0.5e6 }'`\n",
    "GNAME=`echo $PARAM | awk '{ print $1 }'`\n",
    "\n",
    "OUT=\"tmp/$[PRE_GEXP].$GNAME\"\n",
    "echo $GNAME $CHR $P0 $P1 $OUT $tmpdir$OUT\n",
    "\n",
    "head -1 PRE_GEXPID\n",
    "\n",
    "## Pull out the current gene expression phenotype, adding patient ID to the expression profile (Note 1 )\n",
    "echo $PARAM | tr ' ' '\\n' | tail -n+5 | paste PRE_GEXPID PRE_GEXPID - > $OUT.pheno\n",
    "\n",
    "head -1 $OUT.pheno\n",
    "\n",
    "## Get the locus genotypes for all samples and set current gene expression as the phenotype\n",
    "$[PLINK] --bfile $[LDREF]/$[PRE_GENO].$CHR \\\n",
    "--pheno $OUT.pheno \\\n",
    "--make-bed \\\n",
    "--out $OUT \\\n",
    "--chr $CHR \\\n",
    "--from-bp $P0 \\\n",
    "--to-bp $P1 \\\n",
    "--extract $[LDREF]/$[PRE_GENO].$CHR.bim \\\n",
    "--keep $OUT.pheno \\\n",
    "--allow-no-sex\n",
    "## Process all samples together (for reference purposes only since this is mult-ethnic data)\n",
    "mkdir $[OUT_DIR]/ALL\n",
    "FINAL_OUT=\"$[OUT_DIR]/ALL/ALL.$GNAME\"\n",
    "#echo $FINAL_OUT\n",
    "#\n",
    "#echo $OUT.tmp\n",
    "echo $[Rscp]\n",
    "#\n",
    "Rscript $[Rscp] \\\n",
    "--bfile $OUT \\\n",
    "--tmp $OUT.tmp \\\n",
    "--out $FINAL_OUT \\\n",
    "--verbose 0 \\\n",
    "--save_hsq \\\n",
    "--PATH_gcta $[GCTA] \\\n",
    "--PATH_gemma $[GEMMA] \\\n",
    "--models blup,lasso,top1,enet\n",
    "\n",
    "#\n",
    "## Append heritability output to hsq file\n",
    "cat $FINAL_OUT.hsq >> hsq/hsq\n",
    "#\n",
    "## Clean-up just in case\n",
    "rm -f $FINAL_OUT.hsq $OUT.tmp.*\n",
    "#\n",
    "# Remove all intermediate files\n",
    "echo \"end of circle\"\n",
    "\n",
    "done\n"
   ]
  },
  {
   "cell_type": "code",
   "execution_count": 104,
   "metadata": {
    "kernel": "SoS"
   },
   "outputs": [
    {
     "name": "stdout",
     "output_type": "stream",
     "text": [
      "\u001b[95mWARNING\u001b[0m: \u001b[95mEmbedding script \"cd $[wd]...\" without indentation is error-prone and will be deprecated in the future.\u001b[0m\n",
      "\u001b[95mWARNING\u001b[0m: \u001b[95mEmbedding script \"cd $[wd]...\" without indentation is error-prone and will be deprecated in the future.\u001b[0m\n"
     ]
    },
    {
     "data": {
      "text/html": [
       "<div class=\"sos_logging sos_info\">INFO: Running <span class=\"sos_highlight\">STEP_1</span>: Make folder structure for the pipeline\n",
       "</div>"
      ]
     },
     "metadata": {},
     "output_type": "display_data"
    },
    {
     "name": "stdout",
     "output_type": "stream",
     "text": [
      " HG00096\n",
      " HG00097\n",
      " HG00099\n"
     ]
    },
    {
     "data": {
      "text/html": [
       "<div class=\"sos_logging sos_info\">INFO: Running <span class=\"sos_highlight\">STEP_2</span>: extract each gene from the data matrixs to a file for multi tasking\n",
       "</div>"
      ]
     },
     "metadata": {},
     "output_type": "display_data"
    },
    {
     "data": {
      "text/html": [
       "<div class=\"sos_logging sos_info\">INFO: Running <span class=\"sos_highlight\">STEP_3</span>: Actual weight computation analysis\n",
       "</div>"
      ]
     },
     "metadata": {},
     "output_type": "display_data"
    },
    {
     "name": "stdout",
     "output_type": "stream",
     "text": [
      "ENSG00000136237.12 7 21896763 22896763 tmp/GD462.hsq_succ.test.txt.ENSG00000136237.12 tmp/GD462.hsq_succ.test.txt.ENSG00000136237.12\n",
      " HG00096\n",
      " HG00096\t HG00096\t3.78850273139249\n",
      "PLINK v1.90b6.18 64-bit (16 Jun 2020)          www.cog-genomics.org/plink/1.9/\n",
      "(C) 2005-2020 Shaun Purcell, Christopher Chang   GNU General Public License v3\n",
      "Logging to tmp/GD462.hsq_succ.test.txt.ENSG00000136237.12.log.\n",
      "Options in effect:\n",
      "  --allow-no-sex\n",
      "  --bfile /Users/haosun/Documents/WG_Reasearch_Assisstant/Fusion/install/fusion_twas-master/LDREF/1000G.EUR.7\n",
      "  --chr 7\n",
      "  --extract /Users/haosun/Documents/WG_Reasearch_Assisstant/Fusion/install/fusion_twas-master/LDREF/1000G.EUR.7.bim\n",
      "  --from-bp 21896763\n",
      "  --keep tmp/GD462.hsq_succ.test.txt.ENSG00000136237.12.pheno\n",
      "  --make-bed\n",
      "  --out tmp/GD462.hsq_succ.test.txt.ENSG00000136237.12\n",
      "  --pheno tmp/GD462.hsq_succ.test.txt.ENSG00000136237.12.pheno\n",
      "  --to-bp 22896763\n",
      "\n",
      "16384 MB RAM detected; reserving 8192 MB for main workspace.\n",
      "673 out of 66171 variants loaded from .bim file.\n",
      "489 people (0 males, 0 females, 489 ambiguous) loaded from .fam.\n",
      "Ambiguous sex IDs written to\n",
      "tmp/GD462.hsq_succ.test.txt.ENSG00000136237.12.nosex .\n",
      "344 phenotype values present after --pheno.\n",
      "--extract: 673 variants remaining.\n",
      "--keep: 344 people remaining.\n",
      "Using 1 thread (no multithreaded calculations invoked).\n",
      "Before main variant filters, 344 founders and 0 nonfounders present.\n",
      "Calculating allele frequencies... 10111213141516171819202122232425262728293031323334353637383940414243444546474849505152535455565758596061626364656667686970717273747576777879808182838485868788899091929394959697989 done.\n",
      "673 variants and 344 people pass filters and QC.\n",
      "Phenotype data is quantitative.\n",
      "--make-bed to tmp/GD462.hsq_succ.test.txt.ENSG00000136237.12.bed +\n",
      "tmp/GD462.hsq_succ.test.txt.ENSG00000136237.12.bim +\n",
      "tmp/GD462.hsq_succ.test.txt.ENSG00000136237.12.fam ... 101112131415161718192021222324252627282930313233343536373839404142434445464748495051525354555657585960616263646566676869707172737475767778798081828384858687888990919293949596979899done.\n",
      "/Users/haosun/Documents/WG_Reasearch_Assisstant/Fusion/install/fusion_twas-master/FUSION.compute_weights.mod.R\n",
      "end of circle\n",
      "ENSG00000225267.1 21 31136199 32136199 tmp/GD462.hsq_succ.test.txt.ENSG00000225267.1 tmp/GD462.hsq_succ.test.txt.ENSG00000225267.1\n",
      " HG00096\n",
      " HG00096\t HG00096\t1.45818680650673\n",
      "PLINK v1.90b6.18 64-bit (16 Jun 2020)          www.cog-genomics.org/plink/1.9/\n",
      "(C) 2005-2020 Shaun Purcell, Christopher Chang   GNU General Public License v3\n",
      "Logging to tmp/GD462.hsq_succ.test.txt.ENSG00000225267.1.log.\n",
      "Options in effect:\n",
      "  --allow-no-sex\n",
      "  --bfile /Users/haosun/Documents/WG_Reasearch_Assisstant/Fusion/install/fusion_twas-master/LDREF/1000G.EUR.21\n",
      "  --chr 21\n",
      "  --extract /Users/haosun/Documents/WG_Reasearch_Assisstant/Fusion/install/fusion_twas-master/LDREF/1000G.EUR.21.bim\n",
      "  --from-bp 31136199\n",
      "  --keep tmp/GD462.hsq_succ.test.txt.ENSG00000225267.1.pheno\n",
      "  --make-bed\n",
      "  --out tmp/GD462.hsq_succ.test.txt.ENSG00000225267.1\n",
      "  --pheno tmp/GD462.hsq_succ.test.txt.ENSG00000225267.1.pheno\n",
      "  --to-bp 32136199\n",
      "\n",
      "16384 MB RAM detected; reserving 8192 MB for main workspace.\n",
      "455 out of 17040 variants loaded from .bim file.\n",
      "489 people (0 males, 0 females, 489 ambiguous) loaded from .fam.\n",
      "Ambiguous sex IDs written to\n",
      "tmp/GD462.hsq_succ.test.txt.ENSG00000225267.1.nosex .\n",
      "344 phenotype values present after --pheno.\n",
      "--extract: 455 variants remaining.\n",
      "--keep: 344 people remaining.\n",
      "Using 1 thread (no multithreaded calculations invoked).\n",
      "Before main variant filters, 344 founders and 0 nonfounders present.\n",
      "Calculating allele frequencies... 10111213141516171819202122232425262728293031323334353637383940414243444546474849505152535455565758596061626364656667686970717273747576777879808182838485868788899091929394959697989 done.\n",
      "455 variants and 344 people pass filters and QC.\n",
      "Phenotype data is quantitative.\n",
      "--make-bed to tmp/GD462.hsq_succ.test.txt.ENSG00000225267.1.bed +\n",
      "tmp/GD462.hsq_succ.test.txt.ENSG00000225267.1.bim +\n",
      "tmp/GD462.hsq_succ.test.txt.ENSG00000225267.1.fam ... 101112131415161718192021222324252627282930313233343536373839404142434445464748495051525354555657585960616263646566676869707172737475767778798081828384858687888990919293949596979899done.\n",
      "mkdir: ./WEIGHTS/ALL: File exists\n",
      "/Users/haosun/Documents/WG_Reasearch_Assisstant/Fusion/install/fusion_twas-master/FUSION.compute_weights.mod.R\n",
      "end of circle\n"
     ]
    },
    {
     "data": {
      "text/html": [
       "<div class=\"sos_logging sos_info\">INFO: Workflow STEP (ID=38093aa57883015a) is executed successfully with 3 completed steps.\n",
       "</div>"
      ]
     },
     "metadata": {},
     "output_type": "display_data"
    }
   ],
   "source": [
    "%sosrun"
   ]
  },
  {
   "cell_type": "code",
   "execution_count": null,
   "metadata": {
    "kernel": "SoS"
   },
   "outputs": [],
   "source": [
    "GD462.hsq_succ.test.txt_per_gene"
   ]
  }
 ],
 "metadata": {
  "kernelspec": {
   "display_name": "SoS",
   "language": "sos",
   "name": "sos"
  },
  "language_info": {
   "codemirror_mode": "sos",
   "file_extension": ".sos",
   "mimetype": "text/x-sos",
   "name": "sos",
   "nbconvert_exporter": "sos_notebook.converter.SoS_Exporter",
   "pygments_lexer": "sos"
  },
  "sos": {
   "kernels": [
    [
     "SoS",
     "sos",
     "",
     ""
    ]
   ],
   "version": "0.20.1"
  }
 },
 "nbformat": 4,
 "nbformat_minor": 4
}
