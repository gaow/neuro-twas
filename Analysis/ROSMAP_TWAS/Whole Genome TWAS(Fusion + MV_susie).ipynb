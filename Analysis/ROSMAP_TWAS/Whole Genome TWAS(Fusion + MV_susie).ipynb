{
 "cells": [
  {
   "cell_type": "markdown",
   "metadata": {},
   "source": [
    "# Whole Genome TWAS w/f fusion and susie"
   ]
  },
  {
   "cell_type": "markdown",
   "metadata": {},
   "source": [
    "## Steps"
   ]
  },
  {
   "cell_type": "markdown",
   "metadata": {},
   "source": [
    "### WG Fusion Wgt computation"
   ]
  },
  {
   "cell_type": "code",
   "execution_count": null,
   "metadata": {},
   "outputs": [],
   "source": [
    "nohup sos run ~/GIT/neuro-twas/Workflow/twas_fusion_susie.ipynb twas_fusion  \\\n",
    "  --gwas_sumstat /home/hs3163/Project/Alz/data/AD_sumstats_Jansenetal_2019sept.txt \\\n",
    "  --molecular-pheno  /home/hs3163/Project/Rosmap/data/gene_exp/AC/geneTpmResidualsAgeGenderAdj_rename.txt  \\\n",
    "  --wd /home/hs3163/Project/Genome_prior/AC \\\n",
    "  --genotype_list /home/hs3163/Project/Rosmap/data/Rosmap_wgs_genotype_list.txt \\\n",
    "  --region_list /home/hs3163/Project/Rosmap/data/gene_exp/AC/geneTpmResidualsAgeGenderAdj_rename_region_list.txt \\\n",
    "  --region_name 1 \\\n",
    "  --data_start 2 \\\n",
    "  --window 500000 \\\n",
    "  --container /mnt/mfs/statgen/containers/twas_latest.sif \\\n",
    "  --model bslmm blup lasso top1 enet \\\n",
    "  --job_size 1\\\n",
    "  --asso_mem \"6G\" \\\n",
    "  -J 40 -q csg -c /mnt/mfs/statgen/pbs_template/csg.yml -s build &\n",
    "   \n",
    "  nohup sos run ~/GIT/neuro-twas/Workflow/twas_fusion_susie.ipynb twas_fusion  \\\n",
    "  --gwas_sumstat /home/hs3163/Project/Alz/data/AD_sumstats_Jansenetal_2019sept.txt \\\n",
    "  --molecular-pheno  /home/hs3163/Project/Rosmap/data/gene_exp/PCC/geneTpmResidualsAgeGenderAdj_rename.txt  \\\n",
    "  --wd /home/hs3163/Project/Genome_prior/PCC \\\n",
    "  --genotype_list /home/hs3163/Project/Rosmap/data/Rosmap_wgs_genotype_list.txt \\\n",
    "  --region_list /home/hs3163/Project/Rosmap/data/gene_exp/PCC/geneTpmResidualsAgeGenderAdj_rename_region_list.txt \\\n",
    "  --region_name 1 \\\n",
    "  --data_start 2 \\\n",
    "  --window 500000 \\\n",
    "  --container /mnt/mfs/statgen/containers/twas_latest.sif \\\n",
    "  --model bslmm blup lasso top1 enet \\\n",
    "  --job_size 1\\\n",
    "  --asso_mem \"6G\" \\\n",
    "  -J 40 -q csg -c /mnt/mfs/statgen/pbs_template/csg.yml -s build &\n",
    "  \n",
    "nohup sos run ~/GIT/neuro-twas/Workflow/twas_fusion_susie.ipynb twas_fusion  \\\n",
    "  --gwas_sumstat /home/hs3163/Project/Alz/data/AD_sumstats_Jansenetal_2019sept.txt \\\n",
    "  --molecular-pheno  /home/hs3163/Project/Rosmap/data/gene_exp/DLPFC/geneTpmResidualsAgeGenderAdj_rename.txt  \\\n",
    "  --wd /home/hs3163/Project/Genome_prior/DLPFC \\\n",
    "  --genotype_list /home/hs3163/Project/Rosmap/data/Rosmap_wgs_genotype_list.txt \\\n",
    "  --region_list /home/hs3163/Project/Rosmap/data/gene_exp/DLPFC/geneTpmResidualsAgeGenderAdj_rename_region_list.txt \\\n",
    "  --region_name 1 \\\n",
    "  --data_start 2 \\\n",
    "  --window 500000 \\\n",
    "  --container /mnt/mfs/statgen/containers/twas_latest.sif \\\n",
    "  --model bslmm blup lasso top1 enet \\\n",
    "  --job_size 1\\\n",
    "  --asso_mem \"6G\" \\\n",
    "  -J 200 -q csg -c /home/hs3163/GIT/neuro-twas/template/csg.yml -s build &"
   ]
  },
  {
   "cell_type": "markdown",
   "metadata": {},
   "source": [
    "### prior with postive constraint\n",
    "The codes used to produce the postive constraint: See the corresponding sections in Whole Genome prior estimation.ipynb\n"
   ]
  },
  {
   "cell_type": "code",
   "execution_count": null,
   "metadata": {},
   "outputs": [],
   "source": [
    "nohup sos run ~/GIT/neuro-twas/Workflow/wg_prior_genome.ipynb flash \\\n",
    "--molecular_pheno_dir /home/hs3163/Project/Genome_prior/data/molc_dir    \\\n",
    "--rds_list /home/hs3163/Project/Genome_prior/data/rds_list  \\\n",
    "--wd   /home/hs3163/Project/Genome_prior/constriant \\\n",
    "--name \"geneTpmResidualsAgeGenderAdj_rename\" \\\n",
    "--container /mnt/mfs/statgen/containers/twas_latest.sif \\\n",
    "--constraint \"Constraint\" \\\n",
    "-s build &\n",
    "\n",
    "nohup sos run ~/GIT/neuro-twas/Workflow/wg_prior_genome.ipynb ed \\\n",
    "--molecular_pheno_dir /home/hs3163/Project/Genome_prior/data/molc_dir    \\\n",
    "--rds_list /home/hs3163/Project/Genome_prior/data/rds_list  \\\n",
    "--wd   /home/hs3163/Project/Genome_prior/constriant \\\n",
    "--name \"geneTpmResidualsAgeGenderAdj_rename\" \\\n",
    "--container /mnt/mfs/statgen/containers/twas_latest.sif \\\n",
    "--constraint \"Constraint\" \\\n",
    "-s build &\n",
    "\n"
   ]
  },
  {
   "cell_type": "code",
   "execution_count": null,
   "metadata": {},
   "outputs": [],
   "source": [
    "### MV_susie with postive constraint prior for whole genome with teem\n",
    "\n",
    "nohup sos run ~/GIT/neuro-twas/Workflow/mv_susie.ipynb mv_susie_cv    \\\n",
    "--molecular_pheno_dir \"/home/hs3163/Project/Alz_WG/mv_wg/molecular_phenotype_list\"   \\\n",
    "--region_list \"/home/hs3163/Project/Alz_WG/mv_wg/wg_rds_list\"  \\\n",
    "--wd \"/home/hs3163/Project/Alz_WG/mv_wg\"  \\\n",
    "--name_prefix \"geneTpmResidualsAgeGenderAdj_rename\"  \\\n",
    "--container /mnt/mfs/statgen/containers/twas_latest.sif --impute TRUE  --job_size 1 \\\n",
    "--cv_times 100  \\\n",
    "--mixture_prior '~/Project/Genome_prior/merge/output/geneTpmResidualsAgeGenderAdj_rename.Both.flash.FL_PC3.teem.UD_ED.rds'\\\n",
    "-J 6 -q csg -c /mnt/mfs/statgen/pbs_template/csg.yml -s build &\n",
    "\n",
    "\n",
    "/home/hs3163/Project/\n",
    "\n",
    "\n",
    "\n",
    "\n",
    "nohup sos run ~/GIT/neuro-twas/Workflow/mv_susie.ipynb mv_susie_cv --molecular_pheno_dir \"/home/hs3163/Project/Alz_WG/mv_wg/molecular_phenotype_list\" --region_list \"/home/hs3163/Project/Alz_WG/mv_wg/wg_rds_list\" --wd \"\" --name_prefix \"geneTpmResidualsAgeGenderAdj_rename\" --container /mnt/mfs/statgen/containers/twas_latest.sif --impute TRUE --job_size 1 --cv_times 100 --mixture_prior '~/Project/Genome_prior/merge/output/geneTpmResidualsAgeGenderAdj_rename.Both.flash.FL_PC3.teem.UD_ED.rds' -J 100 -q csg -c ~/GIT/neuro-twas/template/csg.yml csg.yml -s build &\n",
    "\n"
   ]
  },
  {
   "cell_type": "code",
   "execution_count": null,
   "metadata": {},
   "outputs": [],
   "source": []
  },
  {
   "cell_type": "code",
   "execution_count": null,
   "metadata": {},
   "outputs": [],
   "source": []
  },
  {
   "cell_type": "code",
   "execution_count": null,
   "metadata": {},
   "outputs": [],
   "source": []
  },
  {
   "cell_type": "markdown",
   "metadata": {},
   "source": [
    "### MV_susie with postive constraint"
   ]
  },
  {
   "cell_type": "code",
   "execution_count": null,
   "metadata": {},
   "outputs": [],
   "source": [
    "sos run ~/GIT/neuro-twas/Workflow/mv_susie.ipynb fusion_tf_cv --molecular_pheno_dir mole_pheno_ls   --region_list cand_rgs.txt  --wd ./   --name_prefix \"geneTpmResidualsAgeGenderAdj_rename\" --container gaow/twas --impute TRUE --cv_times 2  &\n",
    "\n",
    "\n",
    "nohup sos run ~/GIT/neuro-twas/Workflow/mv_susie.ipynb mv_susie_cv --molecular_pheno_dir \"/mnt/mfs/statgen/neuro-twas/mv_wg/molecular_phenotype_list\" --region_list \"/mnt/mfs/statgen/neuro-twas/mv_wg/wg_rds_list\" --wd \"/mnt/mfs/statgen/neuro-twas/mv_wg/\" --name_prefix \"geneTpmResidualsAgeGenderAdj_rename\" --container /mnt/mfs/statgen/containers/twas_latest.sif --impute TRUE --job_size 1 --cv_times 100 --mixture_prior '~/Project/Genome_prior/merge/output/geneTpmResidualsAgeGenderAdj_rename.Both.flash.FL_PC3.teem.UD_ED.rds' -J 200 -q csg -c ~/GIT/neuro-twas/template/csg.yml -s build &\n",
    "\n",
    "\n"
   ]
  },
  {
   "cell_type": "code",
   "execution_count": null,
   "metadata": {},
   "outputs": [],
   "source": [
    "nohup sos run ~/GIT/neuro-twas/Workflow/mv_susie.ipynb mv_susie_cv \\\n",
    "--molecular_pheno_dir \"/mnt/mfs/statgen/neuro-twas/mv_wg/molecular_phenotype_list\" \\\n",
    "--region_list \"/mnt/mfs/statgen/neuro-twas/mv_wg/wg_rds_list\" \\\n",
    "--wd \"/mnt/mfs/statgen/neuro-twas/mv_wg/\" \\\n",
    "--name_prefix \"geneTpmResidualsAgeGenderAdj_rename\" \\\n",
    "--container /mnt/mfs/statgen/containers/twas_latest.sif \\\n",
    "--impute TRUE \\\n",
    "--job_size 1 \\\n",
    "--cv_times 100 \\\n",
    "--mixture_prior '~/Project/Genome_prior/merge/output/geneTpmResidualsAgeGenderAdj_rename.Both.flash.FL_PC3.teem.UD_ED.rds' \\\n",
    "-J 200 -q csg -c ~/GIT/neuro-twas/template/csg.yml -s build &\n",
    "\n",
    "\n",
    "\n",
    "\n",
    "nohup sos run ~/GIT/neuro-twas/Workflow/mv_susie.ipynb mv_susie_cv \\\n",
    "--molecular_pheno_dir \"/mnt/mfs/statgen/neuro-twas/mv_wg/molecular_phenotype_list\" \\\n",
    "--region_list \"/mnt/mfs/statgen/neuro-twas/mv_wg/rds_bf\" \\\n",
    "--wd \"/mnt/mfs/statgen/neuro-twas/mv_wg/\" \\\n",
    "--name_prefix \"geneTpmResidualsAgeGenderAdj_rename\" \\\n",
    "--container /mnt/mfs/statgen/containers/twas_latest.sif \\\n",
    "--impute TRUE \\\n",
    "--job_size 1 \\\n",
    "--cv_times 100 \\\n",
    "--mixture_prior '~/Project/Genome_prior/merge/output/geneTpmResidualsAgeGenderAdj_rename.Both.flash.FL_PC3.teem.UD_ED.rds' \\\n",
    "-J 200 -q csg -c ~/GIT/neuro-twas/template/csg.yml -s build &"
   ]
  },
  {
   "cell_type": "markdown",
   "metadata": {},
   "source": [
    "# TWAS for MV susie"
   ]
  },
  {
   "cell_type": "code",
   "execution_count": null,
   "metadata": {},
   "outputs": [],
   "source": [
    "sos run twas_fusion.ipynb association_test \\\n",
    "  --gwas_sumstat  \\\n",
    "  --molecular-pheno ./gene_exp_file.txt \\\n",
    "  --wd ./ \\\n",
    "  --genotype_list ./genptype_file_LDREF \\\n",
    "  --region_list /Users/haosun/Documents/WG_Reasearch_Assisstant/Fusion/Project/Updated/data/region_list.txt \\\n",
    "  --region_name 1 \\\n",
    "  --data_start 5 \\\n",
    "  --output_path /Users/haosun/Documents/WG_Reasearch_Assisstant/Fusion/Project/Updated/At_output \\\n",
    "  --window 500000 \\\n",
    "  --model blup lasso top1 enet \\\n",
    "  --container gaow/twas"
   ]
  }
 ],
 "metadata": {
  "kernelspec": {
   "display_name": "SoS",
   "language": "sos",
   "name": "sos"
  },
  "language_info": {
   "codemirror_mode": "sos",
   "file_extension": ".sos",
   "mimetype": "text/x-sos",
   "name": "sos",
   "nbconvert_exporter": "sos_notebook.converter.SoS_Exporter",
   "pygments_lexer": "sos"
  }
 },
 "nbformat": 4,
 "nbformat_minor": 4
}
