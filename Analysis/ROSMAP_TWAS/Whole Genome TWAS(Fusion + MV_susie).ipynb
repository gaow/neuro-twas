{
 "cells": [
  {
   "cell_type": "markdown",
   "metadata": {
    "kernel": "SoS"
   },
   "source": [
    "# Whole Genome TWAS w/f fusion and susie"
   ]
  },
  {
   "cell_type": "markdown",
   "metadata": {
    "kernel": "SoS"
   },
   "source": [
    "## Steps"
   ]
  },
  {
   "cell_type": "markdown",
   "metadata": {
    "kernel": "SoS"
   },
   "source": [
    "### WG Fusion Wgt computation"
   ]
  },
  {
   "cell_type": "code",
   "execution_count": null,
   "metadata": {
    "kernel": "SoS"
   },
   "outputs": [],
   "source": [
    "nohup sos run ~/GIT/neuro-twas/Workflow/twas_fusion_susie.ipynb twas_fusion  \\\n",
    "  --gwas_sumstat /home/hs3163/Project/Alz/data/AD_sumstats_Jansenetal_2019sept.txt \\\n",
    "  --molecular-pheno  /home/hs3163/Project/Rosmap/data/gene_exp/AC/geneTpmResidualsAgeGenderAdj_rename.txt  \\\n",
    "  --wd /home/hs3163/Project/Genome_prior/AC \\\n",
    "  --genotype_list /home/hs3163/Project/Rosmap/data/Rosmap_wgs_genotype_list.txt \\\n",
    "  --region_list /home/hs3163/Project/Rosmap/data/gene_exp/AC/geneTpmResidualsAgeGenderAdj_rename_region_list.txt \\\n",
    "  --region_name 1 \\\n",
    "  --data_start 2 \\\n",
    "  --window 500000 \\\n",
    "  --container /mnt/mfs/statgen/containers/twas_latest.sif \\\n",
    "  --model bslmm blup lasso top1 enet \\\n",
    "  --job_size 1\\\n",
    "  --asso_mem \"6G\" \\\n",
    "  -J 40 -q csg -c /mnt/mfs/statgen/pbs_template/csg.yml -s build &\n",
    "   \n",
    "  nohup sos run ~/GIT/neuro-twas/Workflow/twas_fusion_susie.ipynb twas_fusion  \\\n",
    "  --gwas_sumstat /home/hs3163/Project/Alz/data/AD_sumstats_Jansenetal_2019sept.txt \\\n",
    "  --molecular-pheno  /home/hs3163/Project/Rosmap/data/gene_exp/PCC/geneTpmResidualsAgeGenderAdj_rename.txt  \\\n",
    "  --wd /home/hs3163/Project/Genome_prior/PCC \\\n",
    "  --genotype_list /home/hs3163/Project/Rosmap/data/Rosmap_wgs_genotype_list.txt \\\n",
    "  --region_list /home/hs3163/Project/Rosmap/data/gene_exp/PCC/geneTpmResidualsAgeGenderAdj_rename_region_list.txt \\\n",
    "  --region_name 1 \\\n",
    "  --data_start 2 \\\n",
    "  --window 500000 \\\n",
    "  --container /mnt/mfs/statgen/containers/twas_latest.sif \\\n",
    "  --model bslmm blup lasso top1 enet \\\n",
    "  --job_size 1\\\n",
    "  --asso_mem \"6G\" \\\n",
    "  -J 40 -q csg -c /mnt/mfs/statgen/pbs_template/csg.yml -s build &\n",
    "  \n",
    "nohup sos run ~/GIT/neuro-twas/Workflow/twas_fusion_susie.ipynb twas_fusion  \\\n",
    "  --gwas_sumstat /home/hs3163/Project/Alz/data/AD_sumstats_Jansenetal_2019sept.txt \\\n",
    "  --molecular-pheno  /home/hs3163/Project/Rosmap/data/gene_exp/DLPFC/geneTpmResidualsAgeGenderAdj_rename.txt  \\\n",
    "  --wd /home/hs3163/Project/Genome_prior/DLPFC \\\n",
    "  --genotype_list /home/hs3163/Project/Rosmap/data/Rosmap_wgs_genotype_list.txt \\\n",
    "  --region_list /home/hs3163/Project/Rosmap/data/gene_exp/DLPFC/geneTpmResidualsAgeGenderAdj_rename_region_list.txt \\\n",
    "  --region_name 1 \\\n",
    "  --data_start 2 \\\n",
    "  --window 500000 \\\n",
    "  --container /mnt/mfs/statgen/containers/twas_latest.sif \\\n",
    "  --model bslmm blup lasso top1 enet \\\n",
    "  --job_size 1\\\n",
    "  --asso_mem \"6G\" \\\n",
    "  -J 40 -q csg -c /mnt/mfs/statgen/pbs_template/csg.yml -s build &"
   ]
  },
  {
   "cell_type": "markdown",
   "metadata": {
    "kernel": "SoS"
   },
   "source": [
    "### prior with postive constraint\n",
    "The codes used to produce the postive constraint: See the corresponding sections in Whole Genome prior estimation.ipynb\n"
   ]
  },
  {
   "cell_type": "code",
   "execution_count": null,
   "metadata": {
    "kernel": "SoS"
   },
   "outputs": [],
   "source": [
    "nohup sos run ~/GIT/neuro-twas/Workflow/wg_prior_genome.ipynb flash \\\n",
    "--molecular_pheno_dir /home/hs3163/Project/Genome_prior/data/molc_dir    \\\n",
    "--rds_list /home/hs3163/Project/Genome_prior/data/rds_list  \\\n",
    "--wd   /home/hs3163/Project/Genome_prior/constriant \\\n",
    "--name \"geneTpmResidualsAgeGenderAdj_rename\" \\\n",
    "--container /mnt/mfs/statgen/containers/twas_latest.sif \\\n",
    "--constraint \"Constraint\" \\\n",
    "-s build &\n",
    "\n",
    "nohup sos run ~/GIT/neuro-twas/Workflow/wg_prior_genome.ipynb ed \\\n",
    "--molecular_pheno_dir /home/hs3163/Project/Genome_prior/data/molc_dir    \\\n",
    "--rds_list /home/hs3163/Project/Genome_prior/data/rds_list  \\\n",
    "--wd   /home/hs3163/Project/Genome_prior/constriant \\\n",
    "--name \"geneTpmResidualsAgeGenderAdj_rename\" \\\n",
    "--container /mnt/mfs/statgen/containers/twas_latest.sif \\\n",
    "--constraint \"Constraint\" \\\n",
    "-s build &\n",
    "\n"
   ]
  },
  {
   "cell_type": "code",
   "execution_count": null,
   "metadata": {
    "kernel": "SoS"
   },
   "outputs": [],
   "source": [
    "### MV_susie with postive constraint prior for whole genome with teem\n",
    "\n",
    "nohup sos run ~/GIT/neuro-twas/Workflow/mv_susie.ipynb mv_susie_cv    \\\n",
    "--molecular_pheno_dir \"/home/hs3163/Project/Alz_WG/mv_wg/molecular_phenotype_list\"   \\\n",
    "--region_list \"/home/hs3163/Project/Alz_WG/mv_wg/wg_rds_list\"  \\\n",
    "--wd \"/home/hs3163/Project/Alz_WG/mv_wg\"  \\\n",
    "--name_prefix \"geneTpmResidualsAgeGenderAdj_rename\"  \\\n",
    "--container /mnt/mfs/statgen/containers/twas_latest.sif --impute TRUE  --job_size 1 \\\n",
    "--cv_times 100  \\\n",
    "--mixture_prior '~/Project/Genome_prior/merge/output/geneTpmResidualsAgeGenderAdj_rename.Both.flash.FL_PC3.teem.UD_ED.rds'\\\n",
    "-J 200 -q csg -c /home/hs3163/Project/mwe/mv_susie_mwe/csg.yml -s build &\n",
    "\n",
    "\n",
    "/home/hs3163/Project/mwe/mv_susie_mwe/csg.yml\n",
    "\n",
    "\n"
   ]
  },
  {
   "cell_type": "code",
   "execution_count": null,
   "metadata": {
    "kernel": "SoS"
   },
   "outputs": [],
   "source": [
    "nohup sos run ~/GIT/neuro-twas/Workflow/twas_fusion_susie.ipynb association_test \\\n",
    "--gwas_sumstat /home/hs3163/Project/Alz/data/AD_sumstats_Jansenetal_2019sept.txt  \\\n",
    "--molecular-pheno /home/hs3163/Project/Rosmap/data/gene_exp/DLPFC/geneTpmResidualsAgeGenderAdj_rename.txt \\\n",
    "--wd /home/hs3163/Project/Alz/multi_mp/wgt/DLPFC/ \\\n",
    "--genotype_list /home/hs3163/Project/Rosmap/data/Rosmap_wgs_genotype_list.txt \\\n",
    "--region_list /home/hs3163/Project/mwe/mv_susie_mwe/region_list \\\n",
    "--region_name 1   --data_start 2   --window 500000 \\\n",
    "--weights_path /home/hs3163/Project/Alz/multi_mp/wgt//DLPFC  \\\n",
    "--weights_list /home/hs3163/Project/Alz/multi_mp/wgt//DLPFC/All_wgt_list.txt \\\n",
    "--container /mnt/mfs/statgen/containers/twas_latest.sif   --job_size 1  --asso_mem \"50G\"   -J 40 -q csg -c /home/hs3163/GIT/neuro-twas/template/csg.yml   -s build &\n",
    "\n",
    "\n",
    "nohup sos run ~/GIT/neuro-twas/Workflow/twas_fusion_susie.ipynb association_test \\\n",
    "--gwas_sumstat /home/hs3163/Project/Alz/data/AD_sumstats_Jansenetal_2019sept.txt  \\\n",
    "--molecular-pheno /home/hs3163/Project/Rosmap/data/gene_exp/DLPFC/geneTpmResidualsAgeGenderAdj_rename.txt \\\n",
    "--wd /home/hs3163/Project/Alz/multi_mp/wgt/AC/ \\\n",
    "--genotype_list /home/hs3163/Project/Rosmap/data/Rosmap_wgs_genotype_list.txt \\\n",
    "--region_list /home/hs3163/Project/mwe/mv_susie_mwe/region_list \\\n",
    "--region_name 1   --data_start 2   --window 500000 \\\n",
    "--weights_path /home/hs3163/Project/Alz/multi_mp/wgt/AC  \\\n",
    "--weights_list /home/hs3163/Project/Alz/multi_mp/wgt/AC/All_wgt_list.txt \\\n",
    "--container /mnt/mfs/statgen/containers/twas_latest.sif   --job_size 1  --asso_mem \"50G\"   -J 40 -q csg -c /home/hs3163/GIT/neuro-twas/template/csg.yml   -s build &\n",
    "\n",
    "\n",
    "nohup sos run ~/GIT/neuro-twas/Workflow/twas_fusion_susie.ipynb association_test \\\n",
    "--gwas_sumstat /home/hs3163/Project/Alz/data/AD_sumstats_Jansenetal_2019sept.txt  \\\n",
    "--molecular-pheno /home/hs3163/Project/Rosmap/data/gene_exp/DLPFC/geneTpmResidualsAgeGenderAdj_rename.txt \\\n",
    "--wd /home/hs3163/Project/Alz/multi_mp/wgt/PCC/ \\\n",
    "--genotype_list /home/hs3163/Project/Rosmap/data/Rosmap_wgs_genotype_list.txt \\\n",
    "--region_list /home/hs3163/Project/mwe/mv_susie_mwe/region_list \\\n",
    "--region_name 1   --data_start 2   --window 500000 \\\n",
    "--weights_path /home/hs3163/Project/Alz/multi_mp/wgt/PCC  \\\n",
    "--weights_list /home/hs3163/Project/Alz/multi_mp/wgt/PCC/All_wgt_list.txt \\\n",
    "--container /mnt/mfs/statgen/containers/twas_latest.sif   --job_size 1  --asso_mem \"50G\"   -J 40 -q neurology -c /home/hs3163/GIT/neuro-twas/template/csg.yml   -s build &\n",
    "\n",
    "\n",
    "\n",
    "\n"
   ]
  },
  {
   "cell_type": "markdown",
   "metadata": {
    "kernel": "SoS"
   },
   "source": [
    "### MV_susie with postive constraint"
   ]
  },
  {
   "cell_type": "code",
   "execution_count": null,
   "metadata": {
    "kernel": "SoS"
   },
   "outputs": [],
   "source": [
    " nohup sos run ~/GIT/neuro-twas/Workflow/mv_susie.ipynb mv_susie_cv --molecular_pheno_dir \"/home/hs3163/Project/Alz_WG/mv_wg/molecular_phenotype_list\" --region_list \"/home/hs3163/Project/Alz_WG/mv_wg/wg_rds_list\" --wd \"/home/hs3163/Project/Alz_WG/mv_wg\" --name_prefix \"geneTpmResidualsAgeGenderAdj_rename\" --container /mnt/mfs/statgen/containers/twas_latest.sif --impute TRUE --job_size 1 --cv_times 100 --mixture_prior '~/Project/Genome_prior/merge/output/geneTpmResidualsAgeGenderAdj_rename.Both.flash.FL_PC3.teem.UD_ED.rds' -J 200 -q csg -c ./csg.yml -s build &"
   ]
  }
 ],
 "metadata": {
  "kernelspec": {
   "display_name": "SoS",
   "language": "sos",
   "name": "sos"
  },
  "language_info": {
   "codemirror_mode": "sos",
   "file_extension": ".sos",
   "mimetype": "text/x-sos",
   "name": "sos",
   "nbconvert_exporter": "sos_notebook.converter.SoS_Exporter",
   "pygments_lexer": "sos"
  },
  "sos": {
   "kernels": [
    [
     "SoS",
     "sos",
     "",
     ""
    ]
   ],
   "version": "0.22.3"
  }
 },
 "nbformat": 4,
 "nbformat_minor": 4
}
