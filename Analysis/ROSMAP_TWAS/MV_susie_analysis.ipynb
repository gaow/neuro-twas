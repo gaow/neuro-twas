{
 "cells": [
  {
   "cell_type": "code",
   "execution_count": 2,
   "metadata": {},
   "outputs": [
    {
     "name": "stderr",
     "output_type": "stream",
     "text": [
      "\n",
      "Attaching package: ‘dplyr’\n",
      "\n",
      "\n",
      "The following objects are masked from ‘package:stats’:\n",
      "\n",
      "    filter, lag\n",
      "\n",
      "\n",
      "The following objects are masked from ‘package:base’:\n",
      "\n",
      "    intersect, setdiff, setequal, union\n",
      "\n",
      "\n",
      "Registered S3 methods overwritten by 'ggplot2':\n",
      "  method         from \n",
      "  [.quosures     rlang\n",
      "  c.quosures     rlang\n",
      "  print.quosures rlang\n",
      "\n"
     ]
    }
   ],
   "source": [
    "# Load Packages\n",
    "library(dplyr)\n",
    "library(purrr)\n",
    "library(tibble)\n",
    "library(ggplot2)\n",
    "library(readr)\n"
   ]
  },
  {
   "cell_type": "code",
   "execution_count": null,
   "metadata": {},
   "outputs": [],
   "source": []
  },
  {
   "cell_type": "code",
   "execution_count": null,
   "metadata": {},
   "outputs": [],
   "source": []
  },
  {
   "cell_type": "code",
   "execution_count": null,
   "metadata": {},
   "outputs": [],
   "source": []
  },
  {
   "cell_type": "code",
   "execution_count": null,
   "metadata": {},
   "outputs": [],
   "source": []
  },
  {
   "cell_type": "code",
   "execution_count": null,
   "metadata": {},
   "outputs": [],
   "source": []
  },
  {
   "cell_type": "code",
   "execution_count": 38,
   "metadata": {},
   "outputs": [],
   "source": [
    "cs_gene = c(\"ENSG00000007047\" ,\"ENSG00000029725\" ,\"ENSG00000064666\" ,\"ENSG00000064687\" ,\"ENSG00000065268\" ,\"ENSG00000073008\" ,\"ENSG00000078487\" ,\"ENSG00000085514\",\n",
    " \"ENSG00000099817\" ,\"ENSG00000103496\" ,\"ENSG00000103510\" ,\"ENSG00000103549\" ,\"ENSG00000103642\" ,\"ENSG00000104228\" ,\"ENSG00000104884\" ,\"ENSG00000108523\",\n",
    " \"ENSG00000108559\", \"ENSG00000110079\", \"ENSG00000120915\", \"ENSG00000121716\", \"ENSG00000125746\", \"ENSG00000129204\", \"ENSG00000130202\", \"ENSG00000130204\",\n",
    " \"ENSG00000134463\", \"ENSG00000136717\", \"ENSG00000140416\", \"ENSG00000142252\", \"ENSG00000146828\", \"ENSG00000146830\", \"ENSG00000146833\", \"ENSG00000146834\",\n",
    " \"ENSG00000147419\", \"ENSG00000149196\", \"ENSG00000158864\", \"ENSG00000160862\", \"ENSG00000161929\", \"ENSG00000166529\", \"ENSG00000167394\", \"ENSG00000167395\",\n",
    " \"ENSG00000167840\", \"ENSG00000177051\", \"ENSG00000178226\", \"ENSG00000179344\", \"ENSG00000179846\", \"ENSG00000180448\", \"ENSG00000186567\", \"ENSG00000188186\",\n",
    " \"ENSG00000189114\", \"ENSG00000196118\", \"ENSG00000196126\", \"ENSG00000196388\", \"ENSG00000196411\", \"ENSG00000196735\", \"ENSG00000198502\", \"ENSG00000203710\",\n",
    " \"ENSG00000204267\", \"ENSG00000204301\", \"ENSG00000204516\", \"ENSG00000205710\", \"ENSG00000213420\", \"ENSG00000214309\", \"ENSG00000224389\", \"ENSG00000234906\",\n",
    " \"ENSG00000240065\", \"ENSG00000244731\", \"ENSG00000264538\")"
   ]
  },
  {
   "cell_type": "code",
   "execution_count": null,
   "metadata": {},
   "outputs": [],
   "source": []
  },
  {
   "cell_type": "code",
   "execution_count": null,
   "metadata": {},
   "outputs": [],
   "source": []
  },
  {
   "cell_type": "markdown",
   "metadata": {},
   "source": [
    "## Three tissues MV susie, Complete case and imputed"
   ]
  },
  {
   "cell_type": "code",
   "execution_count": null,
   "metadata": {},
   "outputs": [],
   "source": [
    "nohup sos run ~/GIT/neuro-twas/Workflow/mv_susie.ipynb mv_susie    --molecular_pheno_dir \"/home/hs3163/Project/Alz/multi/molecular_phenotype_list\"   --region_list \"/home/hs3163/Project/Alz/multi/mv_susie_gene_list.txt\"   --wd \"/home/hs3163/Project/Alz/multi\"   --name_prefix \"geneTpmResidualsAgeGenderAdj_rename\"   --container /mnt/mfs/statgen/containers/twas_latest.sif --impute TRUE  --job_size 1  -J 6 -q csg -c /mnt/mfs/statgen/pbs_template/csg.yml -s build &\n",
    "nohup sos run ~/GIT/neuro-twas/Workflow/mv_susie.ipynb mv_susie    --molecular_pheno_dir \"/home/hs3163/Project/Alz/multi/molecular_phenotype_list\"   --region_list \"/home/hs3163/Project/Alz/multi/mv_susie_gene_list.txt\"   --wd \"/home/hs3163/Project/Alz/multi_3\"   --name_prefix \"geneTpmResidualsAgeGenderAdj_rename\"   --container /mnt/mfs/statgen/containers/twas_latest.sif --impute TRUE  --job_size 1  -J 6 -q csg -c /mnt/mfs/statgen/pbs_template/csg.yml -s build &"
   ]
  },
  {
   "cell_type": "markdown",
   "metadata": {},
   "source": [
    "### Pairwise MV susie, Complete case and imputed"
   ]
  },
  {
   "cell_type": "code",
   "execution_count": null,
   "metadata": {},
   "outputs": [],
   "source": [
    "nohup sos run ~/GIT/neuro-twas/Workflow/mv_susie.ipynb mv_susie    --molecular_pheno_dir \"/home/hs3163/Project/Alz/multi/molecular_phenotype_list_D_A\"   --region_list \"/home/hs3163/Project/Alz/multi/mv_susie_gene_list.txt\"   --wd \"/home/hs3163/Project/Alz/mv_AC_DLPFC_Imp\"   --name_prefix \"geneTpmResidualsAgeGenderAdj_rename\"   --container /mnt/mfs/statgen/containers/twas_latest.sif --impute TRUE  --job_size 1  -J 6 -q csg -c /mnt/mfs/statgen/pbs_template/csg.yml -s build &\n",
    "nohup sos run ~/GIT/neuro-twas/Workflow/mv_susie.ipynb mv_susie    --molecular_pheno_dir \"/home/hs3163/Project/Alz/multi/molecular_phenotype_list_D_A\"   --region_list \"/home/hs3163/Project/Alz/multi/mv_susie_gene_list.txt\"   --wd \"/home/hs3163/Project/Alz/mv_AC_DLPFC\"   --name_prefix \"geneTpmResidualsAgeGenderAdj_rename\"   --container /mnt/mfs/statgen/containers/twas_latest.sif --impute FALSE  --job_size 1  -J 6 -q csg -c /mnt/mfs/statgen/pbs_template/csg.yml -s build &\n",
    "nohup sos run ~/GIT/neuro-twas/Workflow/mv_susie.ipynb mv_susie    --molecular_pheno_dir \"/home/hs3163/Project/Alz/multi/molecular_phenotype_list_P_A\"   --region_list \"/home/hs3163/Project/Alz/multi/mv_susie_gene_list.txt\"   --wd \"/home/hs3163/Project/Alz/mv_PCC_AC_Imp\"   --name_prefix \"geneTpmResidualsAgeGenderAdj_rename\"   --container /mnt/mfs/statgen/containers/twas_latest.sif --impute TRUE  --job_size 1  -J 6 -q csg -c /mnt/mfs/statgen/pbs_template/csg.yml -s build &\n",
    "nohup sos run ~/GIT/neuro-twas/Workflow/mv_susie.ipynb mv_susie    --molecular_pheno_dir \"/home/hs3163/Project/Alz/multi/molecular_phenotype_list_P_A\"   --region_list \"/home/hs3163/Project/Alz/multi/mv_susie_gene_list.txt\"   --wd \"/home/hs3163/Project/Alz/mv_PCC_AC\"   --name_prefix \"geneTpmResidualsAgeGenderAdj_rename\"   --container /mnt/mfs/statgen/containers/twas_latest.sif --impute FALSE  --job_size 1  -J 6 -q csg -c /mnt/mfs/statgen/pbs_template/csg.yml -s build &\n",
    "nohup sos run ~/GIT/neuro-twas/Workflow/mv_susie.ipynb mv_susie    --molecular_pheno_dir \"/home/hs3163/Project/Alz/multi/molecular_phenotype_list_D_P\"   --region_list \"/home/hs3163/Project/Alz/multi/mv_susie_gene_list.txt\"   --wd \"/home/hs3163/Project/Alz/mv_PCC_DLPFC_Imp\"   --name_prefix \"geneTpmResidualsAgeGenderAdj_rename\"   --container /mnt/mfs/statgen/containers/twas_latest.sif --impute TRUE  --job_size 1  -J 6 -q csg -c /mnt/mfs/statgen/pbs_template/csg.yml -s build &\n",
    "nohup sos run ~/GIT/neuro-twas/Workflow/mv_susie.ipynb mv_susie    --molecular_pheno_dir \"/home/hs3163/Project/Alz/multi/molecular_phenotype_list_D_P\"   --region_list \"/home/hs3163/Project/Alz/multi/mv_susie_gene_list.txt\"   --wd \"/home/hs3163/Project/Alz/mv_PCC_DLPFC\"   --name_prefix \"geneTpmResidualsAgeGenderAdj_rename\"   --container /mnt/mfs/statgen/containers/twas_latest.sif --impute FALSE  --job_size 1  -J 6 -q csg -c /mnt/mfs/statgen/pbs_template/csg.yml -s build &"
   ]
  },
  {
   "cell_type": "markdown",
   "metadata": {},
   "source": [
    "### For complete case analysis"
   ]
  },
  {
   "cell_type": "code",
   "execution_count": 2,
   "metadata": {},
   "outputs": [],
   "source": [
    "# All three tissues\n",
    "env = attach(\"/home/hs3163/Project/Alz/multi/mv.RData\")\n",
    "data = env$output\n",
    "working = data%>%select(-path)\n",
    "working = working%>%mutate(\n",
    "  n_of_cs = map_dbl(model,~.x$sets$cs_index%>%length()),\n",
    "  hsq_ac = map_dbl(model,~.x$hsq[1]),\n",
    "  hsq_PCC = map_dbl(model,~.x$hsq[2]),\n",
    "  hsq_DLPFC = map_dbl(model,~.x$hsq[3]),\n",
    "  total_cs_size = map_dbl(model,(~.x$sets$cs%>%unlist()%>%length())),\n",
    "  mean_cs_size = total_cs_size/n_of_cs\n",
    ")\n"
   ]
  },
  {
   "cell_type": "code",
   "execution_count": 3,
   "metadata": {},
   "outputs": [
    {
     "data": {
      "text/html": [
       "<table>\n",
       "<caption>A tibble: 1 × 3</caption>\n",
       "<thead>\n",
       "\t<tr><th scope=col>mean(hsq_ac)</th><th scope=col>mean(hsq_PCC)</th><th scope=col>mean(hsq_DLPFC)</th></tr>\n",
       "\t<tr><th scope=col>&lt;dbl&gt;</th><th scope=col>&lt;dbl&gt;</th><th scope=col>&lt;dbl&gt;</th></tr>\n",
       "</thead>\n",
       "<tbody>\n",
       "\t<tr><td>0.03320607</td><td>0.02300503</td><td>0.03949301</td></tr>\n",
       "</tbody>\n",
       "</table>\n"
      ],
      "text/latex": [
       "A tibble: 1 × 3\n",
       "\\begin{tabular}{lll}\n",
       " mean(hsq\\_ac) & mean(hsq\\_PCC) & mean(hsq\\_DLPFC)\\\\\n",
       " <dbl> & <dbl> & <dbl>\\\\\n",
       "\\hline\n",
       "\t 0.03320607 & 0.02300503 & 0.03949301\\\\\n",
       "\\end{tabular}\n"
      ],
      "text/markdown": [
       "\n",
       "A tibble: 1 × 3\n",
       "\n",
       "| mean(hsq_ac) &lt;dbl&gt; | mean(hsq_PCC) &lt;dbl&gt; | mean(hsq_DLPFC) &lt;dbl&gt; |\n",
       "|---|---|---|\n",
       "| 0.03320607 | 0.02300503 | 0.03949301 |\n",
       "\n"
      ],
      "text/plain": [
       "  mean(hsq_ac) mean(hsq_PCC) mean(hsq_DLPFC)\n",
       "1 0.03320607   0.02300503    0.03949301     "
      ]
     },
     "metadata": {},
     "output_type": "display_data"
    },
    {
     "data": {
      "text/html": [
       "67"
      ],
      "text/latex": [
       "67"
      ],
      "text/markdown": [
       "67"
      ],
      "text/plain": [
       "[1] 67"
      ]
     },
     "metadata": {},
     "output_type": "display_data"
    }
   ],
   "source": [
    "working%>%select(-env,-model\n",
    "                )%>%summarise(mean(hsq_ac),mean(hsq_PCC),mean(hsq_DLPFC))\n",
    "nrow(working%>%filter(n_of_cs>0))"
   ]
  },
  {
   "cell_type": "code",
   "execution_count": null,
   "metadata": {},
   "outputs": [],
   "source": [
    "# Attach the mv model for A and D tissues\n",
    "env_AD = attach(\"/home/hs3163/Project/Alz/mv_AC_DLPFC/mv.RData\")"
   ]
  },
  {
   "cell_type": "code",
   "execution_count": 5,
   "metadata": {},
   "outputs": [],
   "source": [
    "system('free -m')"
   ]
  },
  {
   "cell_type": "code",
   "execution_count": 11,
   "metadata": {},
   "outputs": [],
   "source": [
    "data = env_AD$output\n",
    "working = data%>%select(-path)\n",
    "working = working%>%mutate(\n",
    "  n_of_cs = map_dbl(model,~.x$sets$cs_index%>%length()),\n",
    "  hsq_ac = map_dbl(model,~.x$hsq[1]),\n",
    "  hsq_PCC = map_dbl(model,~.x$hsq[2]),\n",
    "  hsq_DLPFC = map_dbl(model,~.x$hsq[3]),\n",
    "  total_cs_size = map_dbl(model,(~.x$sets$cs%>%unlist()%>%length())),\n",
    "  mean_cs_size = total_cs_size/n_of_cs\n",
    ")"
   ]
  },
  {
   "cell_type": "code",
   "execution_count": 12,
   "metadata": {},
   "outputs": [
    {
     "data": {
      "text/html": [
       "<table>\n",
       "<caption>A tibble: 1 × 3</caption>\n",
       "<thead>\n",
       "\t<tr><th scope=col>mean(hsq_ac)</th><th scope=col>mean(hsq_PCC)</th><th scope=col>mean(hsq_DLPFC)</th></tr>\n",
       "\t<tr><th scope=col>&lt;dbl&gt;</th><th scope=col>&lt;dbl&gt;</th><th scope=col>&lt;dbl&gt;</th></tr>\n",
       "</thead>\n",
       "<tbody>\n",
       "\t<tr><td>0.03346201</td><td>0.03980544</td><td>NA</td></tr>\n",
       "</tbody>\n",
       "</table>\n"
      ],
      "text/latex": [
       "A tibble: 1 × 3\n",
       "\\begin{tabular}{lll}\n",
       " mean(hsq\\_ac) & mean(hsq\\_PCC) & mean(hsq\\_DLPFC)\\\\\n",
       " <dbl> & <dbl> & <dbl>\\\\\n",
       "\\hline\n",
       "\t 0.03346201 & 0.03980544 & NA\\\\\n",
       "\\end{tabular}\n"
      ],
      "text/markdown": [
       "\n",
       "A tibble: 1 × 3\n",
       "\n",
       "| mean(hsq_ac) &lt;dbl&gt; | mean(hsq_PCC) &lt;dbl&gt; | mean(hsq_DLPFC) &lt;dbl&gt; |\n",
       "|---|---|---|\n",
       "| 0.03346201 | 0.03980544 | NA |\n",
       "\n"
      ],
      "text/plain": [
       "  mean(hsq_ac) mean(hsq_PCC) mean(hsq_DLPFC)\n",
       "1 0.03346201   0.03980544    NA             "
      ]
     },
     "metadata": {},
     "output_type": "display_data"
    }
   ],
   "source": [
    "working%>%select(-env,-model\n",
    "                )%>%summarise(mean(hsq_ac),mean(hsq_PCC),mean(hsq_DLPFC))"
   ]
  },
  {
   "cell_type": "code",
   "execution_count": 22,
   "metadata": {},
   "outputs": [],
   "source": [
    "67"
   ]
  },
  {
   "cell_type": "code",
   "execution_count": null,
   "metadata": {},
   "outputs": [],
   "source": []
  },
  {
   "cell_type": "code",
   "execution_count": null,
   "metadata": {},
   "outputs": [],
   "source": []
  },
  {
   "cell_type": "code",
   "execution_count": 2,
   "metadata": {},
   "outputs": [],
   "source": [
    "# Attach the mv model for A and P tissues\n",
    "env_AP = attach(\"/home/hs3163/Project/Alz/mv_PCC_AC/mv.RData\")"
   ]
  },
  {
   "cell_type": "code",
   "execution_count": 3,
   "metadata": {},
   "outputs": [],
   "source": [
    "data = env_AP$output\n",
    "working = data%>%select(-path)\n",
    "working = working%>%mutate(\n",
    "  n_of_cs = map_dbl(model,~.x$sets$cs_index%>%length()),\n",
    "  hsq_ac = map_dbl(model,~.x$hsq[1]),\n",
    "  hsq_PCC = map_dbl(model,~.x$hsq[2]),\n",
    "  hsq_DLPFC = map_dbl(model,~.x$hsq[3]),\n",
    "  total_cs_size = map_dbl(model,(~.x$sets$cs%>%unlist()%>%length())),\n",
    "  mean_cs_size = total_cs_size/n_of_cs\n",
    ")"
   ]
  },
  {
   "cell_type": "code",
   "execution_count": 6,
   "metadata": {},
   "outputs": [
    {
     "data": {
      "text/html": [
       "<table>\n",
       "<caption>A tibble: 1 × 3</caption>\n",
       "<thead>\n",
       "\t<tr><th scope=col>mean(hsq_ac)</th><th scope=col>mean(hsq_PCC)</th><th scope=col>mean(hsq_DLPFC)</th></tr>\n",
       "\t<tr><th scope=col>&lt;dbl&gt;</th><th scope=col>&lt;dbl&gt;</th><th scope=col>&lt;dbl&gt;</th></tr>\n",
       "</thead>\n",
       "<tbody>\n",
       "\t<tr><td>0.1136104</td><td>0.07781428</td><td>NA</td></tr>\n",
       "</tbody>\n",
       "</table>\n"
      ],
      "text/latex": [
       "A tibble: 1 × 3\n",
       "\\begin{tabular}{lll}\n",
       " mean(hsq\\_ac) & mean(hsq\\_PCC) & mean(hsq\\_DLPFC)\\\\\n",
       " <dbl> & <dbl> & <dbl>\\\\\n",
       "\\hline\n",
       "\t 0.1136104 & 0.07781428 & NA\\\\\n",
       "\\end{tabular}\n"
      ],
      "text/markdown": [
       "\n",
       "A tibble: 1 × 3\n",
       "\n",
       "| mean(hsq_ac) &lt;dbl&gt; | mean(hsq_PCC) &lt;dbl&gt; | mean(hsq_DLPFC) &lt;dbl&gt; |\n",
       "|---|---|---|\n",
       "| 0.1136104 | 0.07781428 | NA |\n",
       "\n"
      ],
      "text/plain": [
       "  mean(hsq_ac) mean(hsq_PCC) mean(hsq_DLPFC)\n",
       "1 0.1136104    0.07781428    NA             "
      ]
     },
     "metadata": {},
     "output_type": "display_data"
    },
    {
     "data": {
      "text/html": [
       "51"
      ],
      "text/latex": [
       "51"
      ],
      "text/markdown": [
       "51"
      ],
      "text/plain": [
       "[1] 51"
      ]
     },
     "metadata": {},
     "output_type": "display_data"
    }
   ],
   "source": [
    "working%>%select(-env,-model\n",
    "                )%>%filter(n_of_cs>0)%>%summarise(mean(hsq_ac),mean(hsq_PCC),mean(hsq_DLPFC))\n",
    "nrow(working%>%filter(n_of_cs>0))"
   ]
  },
  {
   "cell_type": "code",
   "execution_count": 1,
   "metadata": {},
   "outputs": [
    {
     "name": "stderr",
     "output_type": "stream",
     "text": [
      "Attempting to load the environment ‘package:purrr’\n",
      "\n"
     ]
    }
   ],
   "source": [
    "# Attach the mv model for D and P tissues\n",
    "env_DP = attach(\"/home/hs3163/Project/Alz/mv_PCC_DLPFC/mv.RData\")"
   ]
  },
  {
   "cell_type": "code",
   "execution_count": 8,
   "metadata": {},
   "outputs": [],
   "source": [
    "data = env_DP$output\n",
    "working = data%>%select(-path)\n",
    "working = working%>%mutate(\n",
    "  n_of_cs = map_dbl(model,~.x$sets$cs_index%>%length()),\n",
    "  hsq_PCC = map_dbl(model,~.x$hsq[1]),\n",
    "  hsq_DLPFC = map_dbl(model,~.x$hsq[2]),\n",
    "  total_cs_size = map_dbl(model,(~.x$sets$cs%>%unlist()%>%length())),\n",
    "  mean_cs_size = total_cs_size/n_of_cs\n",
    ")"
   ]
  },
  {
   "cell_type": "code",
   "execution_count": 7,
   "metadata": {},
   "outputs": [
    {
     "data": {
      "text/html": [
       "<table>\n",
       "<caption>A tibble: 1 × 2</caption>\n",
       "<thead>\n",
       "\t<tr><th scope=col>mean(hsq_PCC)</th><th scope=col>mean(hsq_DLPFC)</th></tr>\n",
       "\t<tr><th scope=col>&lt;dbl&gt;</th><th scope=col>&lt;dbl&gt;</th></tr>\n",
       "</thead>\n",
       "<tbody>\n",
       "\t<tr><td>0.06690963</td><td>0.1167358</td></tr>\n",
       "</tbody>\n",
       "</table>\n"
      ],
      "text/latex": [
       "A tibble: 1 × 2\n",
       "\\begin{tabular}{ll}\n",
       " mean(hsq\\_PCC) & mean(hsq\\_DLPFC)\\\\\n",
       " <dbl> & <dbl>\\\\\n",
       "\\hline\n",
       "\t 0.06690963 & 0.1167358\\\\\n",
       "\\end{tabular}\n"
      ],
      "text/markdown": [
       "\n",
       "A tibble: 1 × 2\n",
       "\n",
       "| mean(hsq_PCC) &lt;dbl&gt; | mean(hsq_DLPFC) &lt;dbl&gt; |\n",
       "|---|---|\n",
       "| 0.06690963 | 0.1167358 |\n",
       "\n"
      ],
      "text/plain": [
       "  mean(hsq_PCC) mean(hsq_DLPFC)\n",
       "1 0.06690963    0.1167358      "
      ]
     },
     "metadata": {},
     "output_type": "display_data"
    },
    {
     "data": {
      "text/html": [
       "51"
      ],
      "text/latex": [
       "51"
      ],
      "text/markdown": [
       "51"
      ],
      "text/plain": [
       "[1] 51"
      ]
     },
     "metadata": {},
     "output_type": "display_data"
    }
   ],
   "source": [
    "working%>%select(-env,-model\n",
    "                )%>%filter(n_of_cs>0)%>%summarise(mean(hsq_PCC),mean(hsq_DLPFC))\n",
    "nrow(working%>%filter(n_of_cs>0))"
   ]
  },
  {
   "cell_type": "code",
   "execution_count": null,
   "metadata": {},
   "outputs": [],
   "source": []
  },
  {
   "cell_type": "markdown",
   "metadata": {},
   "source": [
    "### For imputed"
   ]
  },
  {
   "cell_type": "code",
   "execution_count": 2,
   "metadata": {},
   "outputs": [
    {
     "data": {
      "text/html": [
       "<table>\n",
       "<caption>A tibble: 1 × 3</caption>\n",
       "<thead>\n",
       "\t<tr><th scope=col>mean(hsq_ac)</th><th scope=col>mean(hsq_PCC)</th><th scope=col>mean(hsq_DLPFC)</th></tr>\n",
       "\t<tr><th scope=col>&lt;dbl&gt;</th><th scope=col>&lt;dbl&gt;</th><th scope=col>&lt;dbl&gt;</th></tr>\n",
       "</thead>\n",
       "<tbody>\n",
       "\t<tr><td>0.08833986</td><td>0.06048574</td><td>0.1045956</td></tr>\n",
       "</tbody>\n",
       "</table>\n"
      ],
      "text/latex": [
       "A tibble: 1 × 3\n",
       "\\begin{tabular}{lll}\n",
       " mean(hsq\\_ac) & mean(hsq\\_PCC) & mean(hsq\\_DLPFC)\\\\\n",
       " <dbl> & <dbl> & <dbl>\\\\\n",
       "\\hline\n",
       "\t 0.08833986 & 0.06048574 & 0.1045956\\\\\n",
       "\\end{tabular}\n"
      ],
      "text/markdown": [
       "\n",
       "A tibble: 1 × 3\n",
       "\n",
       "| mean(hsq_ac) &lt;dbl&gt; | mean(hsq_PCC) &lt;dbl&gt; | mean(hsq_DLPFC) &lt;dbl&gt; |\n",
       "|---|---|---|\n",
       "| 0.08833986 | 0.06048574 | 0.1045956 |\n",
       "\n"
      ],
      "text/plain": [
       "  mean(hsq_ac) mean(hsq_PCC) mean(hsq_DLPFC)\n",
       "1 0.08833986   0.06048574    0.1045956      "
      ]
     },
     "metadata": {},
     "output_type": "display_data"
    },
    {
     "data": {
      "text/html": [
       "55"
      ],
      "text/latex": [
       "55"
      ],
      "text/markdown": [
       "55"
      ],
      "text/plain": [
       "[1] 55"
      ]
     },
     "metadata": {},
     "output_type": "display_data"
    }
   ],
   "source": [
    "# All three tissues\n",
    "env = attach(\"/home/hs3163/Project/Alz/multi_3/mv.RData\")\n",
    "data = env$output\n",
    "working = data%>%select(-path)\n",
    "working = working%>%mutate(\n",
    "  n_of_cs = map_dbl(model,~.x$sets$cs_index%>%length()),\n",
    "  hsq_ac = map_dbl(model,~.x$hsq[1]),\n",
    "  hsq_PCC = map_dbl(model,~.x$hsq[2]),\n",
    "  hsq_DLPFC = map_dbl(model,~.x$hsq[3]),\n",
    "  total_cs_size = map_dbl(model,(~.x$sets$cs%>%unlist()%>%length())),\n",
    "  mean_cs_size = total_cs_size/n_of_cs\n",
    ")\n",
    "working%>%select(-env,-model\n",
    "                )%>%filter(n_of_cs>0)%>%summarise(mean(hsq_ac),mean(hsq_PCC),mean(hsq_DLPFC))\n",
    "nrow(working%>%filter(n_of_cs>0))"
   ]
  },
  {
   "cell_type": "code",
   "execution_count": 3,
   "metadata": {},
   "outputs": [
    {
     "data": {
      "image/png": "[encoded data removed]",
      "text/plain": [
       "plot without title"
      ]
     },
     "metadata": {
      "image/png": {
       "height": 420,
       "width": 420
      }
     },
     "output_type": "display_data"
    }
   ],
   "source": [
    "working%>%select(-env,-model\n",
    "                )%>%filter(n_of_cs > 0)%>%ggplot(aes(x = hsq_PCC))+geom_density()"
   ]
  },
  {
   "cell_type": "code",
   "execution_count": 4,
   "metadata": {},
   "outputs": [
    {
     "data": {
      "image/png": "[encoded data removed]",
      "text/plain": [
       "plot without title"
      ]
     },
     "metadata": {
      "image/png": {
       "height": 420,
       "width": 420
      }
     },
     "output_type": "display_data"
    }
   ],
   "source": [
    "working%>%select(-env,-model\n",
    "                )%>%filter(n_of_cs > 0)%>%ggplot(aes(x = hsq_ac))+geom_density()"
   ]
  },
  {
   "cell_type": "code",
   "execution_count": 5,
   "metadata": {},
   "outputs": [
    {
     "data": {
      "image/png": "[encoded data removed]",
      "text/plain": [
       "plot without title"
      ]
     },
     "metadata": {
      "image/png": {
       "height": 420,
       "width": 420
      }
     },
     "output_type": "display_data"
    }
   ],
   "source": [
    "working%>%select(-env,-model\n",
    "                )%>%filter(n_of_cs > 0)%>%ggplot(aes(x = hsq_DLPFC))+geom_density()"
   ]
  },
  {
   "cell_type": "markdown",
   "metadata": {},
   "source": [
    "### AD"
   ]
  },
  {
   "cell_type": "code",
   "execution_count": 2,
   "metadata": {},
   "outputs": [
    {
     "ename": "ERROR",
     "evalue": "Error in eval(expr, envir, enclos): object 'env_AD' not found\n",
     "output_type": "error",
     "traceback": [
      "Error in eval(expr, envir, enclos): object 'env_AD' not found\nTraceback:\n"
     ]
    }
   ],
   "source": [
    "# Attach the mv model for A and D tissues\n",
    "env_ADI = attach(\"/home/hs3163/Project/Alz/mv_AC_DLPFC_Imp/mv.RData\")"
   ]
  },
  {
   "cell_type": "code",
   "execution_count": 4,
   "metadata": {},
   "outputs": [
    {
     "data": {
      "text/html": [
       "<table>\n",
       "<caption>A tibble: 1 × 2</caption>\n",
       "<thead>\n",
       "\t<tr><th scope=col>mean(hsq_ac)</th><th scope=col>mean(hsq_DLPFC)</th></tr>\n",
       "\t<tr><th scope=col>&lt;dbl&gt;</th><th scope=col>&lt;dbl&gt;</th></tr>\n",
       "</thead>\n",
       "<tbody>\n",
       "\t<tr><td>0.08744242</td><td>0.1040336</td></tr>\n",
       "</tbody>\n",
       "</table>\n"
      ],
      "text/latex": [
       "A tibble: 1 × 2\n",
       "\\begin{tabular}{ll}\n",
       " mean(hsq\\_ac) & mean(hsq\\_DLPFC)\\\\\n",
       " <dbl> & <dbl>\\\\\n",
       "\\hline\n",
       "\t 0.08744242 & 0.1040336\\\\\n",
       "\\end{tabular}\n"
      ],
      "text/markdown": [
       "\n",
       "A tibble: 1 × 2\n",
       "\n",
       "| mean(hsq_ac) &lt;dbl&gt; | mean(hsq_DLPFC) &lt;dbl&gt; |\n",
       "|---|---|\n",
       "| 0.08744242 | 0.1040336 |\n",
       "\n"
      ],
      "text/plain": [
       "  mean(hsq_ac) mean(hsq_DLPFC)\n",
       "1 0.08744242   0.1040336      "
      ]
     },
     "metadata": {},
     "output_type": "display_data"
    },
    {
     "data": {
      "text/html": [
       "56"
      ],
      "text/latex": [
       "56"
      ],
      "text/markdown": [
       "56"
      ],
      "text/plain": [
       "[1] 56"
      ]
     },
     "metadata": {},
     "output_type": "display_data"
    }
   ],
   "source": [
    "data = env_ADI$output\n",
    "working = data%>%select(-path)\n",
    "working = working%>%mutate(\n",
    "  n_of_cs = map_dbl(model,~.x$sets$cs_index%>%length()),\n",
    "  hsq_ac = map_dbl(model,~.x$hsq[1]),\n",
    "  hsq_DLPFC = map_dbl(model,~.x$hsq[2]),\n",
    "  total_cs_size = map_dbl(model,(~.x$sets$cs%>%unlist()%>%length())),\n",
    "  mean_cs_size = total_cs_size/n_of_cs\n",
    ")\n",
    "working%>%select(-env,-model\n",
    "                )%>%filter(n_of_cs>0)%>%summarise(mean(hsq_ac),mean(hsq_DLPFC))\n",
    "nrow(working%>%filter(n_of_cs>0))"
   ]
  },
  {
   "cell_type": "markdown",
   "metadata": {},
   "source": [
    "### AP"
   ]
  },
  {
   "cell_type": "code",
   "execution_count": 2,
   "metadata": {},
   "outputs": [
    {
     "data": {
      "text/html": [
       "<table>\n",
       "<caption>A tibble: 1 × 2</caption>\n",
       "<thead>\n",
       "\t<tr><th scope=col>mean(hsq_ac)</th><th scope=col>mean(hsq_DLPFC)</th></tr>\n",
       "\t<tr><th scope=col>&lt;dbl&gt;</th><th scope=col>&lt;dbl&gt;</th></tr>\n",
       "</thead>\n",
       "<tbody>\n",
       "\t<tr><td>0.1155415</td><td>0.07909353</td></tr>\n",
       "</tbody>\n",
       "</table>\n"
      ],
      "text/latex": [
       "A tibble: 1 × 2\n",
       "\\begin{tabular}{ll}\n",
       " mean(hsq\\_ac) & mean(hsq\\_DLPFC)\\\\\n",
       " <dbl> & <dbl>\\\\\n",
       "\\hline\n",
       "\t 0.1155415 & 0.07909353\\\\\n",
       "\\end{tabular}\n"
      ],
      "text/markdown": [
       "\n",
       "A tibble: 1 × 2\n",
       "\n",
       "| mean(hsq_ac) &lt;dbl&gt; | mean(hsq_DLPFC) &lt;dbl&gt; |\n",
       "|---|---|\n",
       "| 0.1155415 | 0.07909353 |\n",
       "\n"
      ],
      "text/plain": [
       "  mean(hsq_ac) mean(hsq_DLPFC)\n",
       "1 0.1155415    0.07909353     "
      ]
     },
     "metadata": {},
     "output_type": "display_data"
    },
    {
     "data": {
      "text/html": [
       "49"
      ],
      "text/latex": [
       "49"
      ],
      "text/markdown": [
       "49"
      ],
      "text/plain": [
       "[1] 49"
      ]
     },
     "metadata": {},
     "output_type": "display_data"
    }
   ],
   "source": [
    "env_API = attach(\"/home/hs3163/Project/Alz/mv_PCC_AC_Imp/mv.RData\")\n"
   ]
  },
  {
   "cell_type": "code",
   "execution_count": 3,
   "metadata": {},
   "outputs": [
    {
     "data": {
      "text/html": [
       "<table>\n",
       "<caption>A tibble: 1 × 2</caption>\n",
       "<thead>\n",
       "\t<tr><th scope=col>mean(hsq_ac)</th><th scope=col>mean(hsq_pcc)</th></tr>\n",
       "\t<tr><th scope=col>&lt;dbl&gt;</th><th scope=col>&lt;dbl&gt;</th></tr>\n",
       "</thead>\n",
       "<tbody>\n",
       "\t<tr><td>0.1155415</td><td>0.07909353</td></tr>\n",
       "</tbody>\n",
       "</table>\n"
      ],
      "text/latex": [
       "A tibble: 1 × 2\n",
       "\\begin{tabular}{ll}\n",
       " mean(hsq\\_ac) & mean(hsq\\_pcc)\\\\\n",
       " <dbl> & <dbl>\\\\\n",
       "\\hline\n",
       "\t 0.1155415 & 0.07909353\\\\\n",
       "\\end{tabular}\n"
      ],
      "text/markdown": [
       "\n",
       "A tibble: 1 × 2\n",
       "\n",
       "| mean(hsq_ac) &lt;dbl&gt; | mean(hsq_pcc) &lt;dbl&gt; |\n",
       "|---|---|\n",
       "| 0.1155415 | 0.07909353 |\n",
       "\n"
      ],
      "text/plain": [
       "  mean(hsq_ac) mean(hsq_pcc)\n",
       "1 0.1155415    0.07909353   "
      ]
     },
     "metadata": {},
     "output_type": "display_data"
    },
    {
     "data": {
      "text/html": [
       "49"
      ],
      "text/latex": [
       "49"
      ],
      "text/markdown": [
       "49"
      ],
      "text/plain": [
       "[1] 49"
      ]
     },
     "metadata": {},
     "output_type": "display_data"
    }
   ],
   "source": [
    "data = env_API$output\n",
    "working = data%>%select(-path)\n",
    "working = working%>%mutate(\n",
    "  n_of_cs = map_dbl(model,~.x$sets$cs_index%>%length()),\n",
    "  hsq_ac = map_dbl(model,~.x$hsq[1]),\n",
    "  hsq_pcc = map_dbl(model,~.x$hsq[2]),\n",
    "  total_cs_size = map_dbl(model,(~.x$sets$cs%>%unlist()%>%length())),\n",
    "  mean_cs_size = total_cs_size/n_of_cs\n",
    ")\n",
    "working%>%select(-env,-model\n",
    "                )%>%filter(n_of_cs>0)%>%summarise(mean(hsq_ac),mean(hsq_pcc))\n",
    "nrow(working%>%filter(n_of_cs>0))"
   ]
  },
  {
   "cell_type": "markdown",
   "metadata": {},
   "source": [
    "### DP"
   ]
  },
  {
   "cell_type": "code",
   "execution_count": 2,
   "metadata": {},
   "outputs": [
    {
     "data": {
      "text/html": [
       "<table>\n",
       "<caption>A tibble: 1 × 2</caption>\n",
       "<thead>\n",
       "\t<tr><th scope=col>mean(hsq_PCC)</th><th scope=col>mean(hsq_DLPFC)</th></tr>\n",
       "\t<tr><th scope=col>&lt;dbl&gt;</th><th scope=col>&lt;dbl&gt;</th></tr>\n",
       "</thead>\n",
       "<tbody>\n",
       "\t<tr><td>0.07111889</td><td>0.1217023</td></tr>\n",
       "</tbody>\n",
       "</table>\n"
      ],
      "text/latex": [
       "A tibble: 1 × 2\n",
       "\\begin{tabular}{ll}\n",
       " mean(hsq\\_PCC) & mean(hsq\\_DLPFC)\\\\\n",
       " <dbl> & <dbl>\\\\\n",
       "\\hline\n",
       "\t 0.07111889 & 0.1217023\\\\\n",
       "\\end{tabular}\n"
      ],
      "text/markdown": [
       "\n",
       "A tibble: 1 × 2\n",
       "\n",
       "| mean(hsq_PCC) &lt;dbl&gt; | mean(hsq_DLPFC) &lt;dbl&gt; |\n",
       "|---|---|\n",
       "| 0.07111889 | 0.1217023 |\n",
       "\n"
      ],
      "text/plain": [
       "  mean(hsq_PCC) mean(hsq_DLPFC)\n",
       "1 0.07111889    0.1217023      "
      ]
     },
     "metadata": {},
     "output_type": "display_data"
    },
    {
     "data": {
      "text/html": [
       "48"
      ],
      "text/latex": [
       "48"
      ],
      "text/markdown": [
       "48"
      ],
      "text/plain": [
       "[1] 48"
      ]
     },
     "metadata": {},
     "output_type": "display_data"
    }
   ],
   "source": [
    "env_PDI = attach(\"/home/hs3163/Project/Alz/mv_PCC_DLPFC_Imp/mv.RData\")\n",
    "data = env_PDI$output\n",
    "working = data%>%select(-path)\n",
    "working = working%>%mutate(\n",
    "  n_of_cs = map_dbl(model,~.x$sets$cs_index%>%length()),\n",
    "  hsq_DLPFC = map_dbl(model,~.x$hsq[2]),\n",
    "  hsq_PCC = map_dbl(model,~.x$hsq[1]),\n",
    "  total_cs_size = map_dbl(model,(~.x$sets$cs%>%unlist()%>%length())),\n",
    "  mean_cs_size = total_cs_size/n_of_cs\n",
    ")\n",
    "working%>%select(-env,-model\n",
    "                )%>%filter(n_of_cs>0)%>%summarise(mean(hsq_PCC),mean(hsq_DLPFC))\n",
    "nrow(working%>%filter(n_of_cs>0))"
   ]
  },
  {
   "cell_type": "code",
   "execution_count": 7,
   "metadata": {},
   "outputs": [
    {
     "data": {
      "text/html": [
       "<table>\n",
       "<caption>A spec_tbl_df: 7 × 7</caption>\n",
       "<thead>\n",
       "\t<tr><th scope=col>ID</th><th scope=col>tb_name</th><th scope=col>n_of_cs</th><th scope=col>hsq_DLPFC</th><th scope=col>hsq_PCC</th><th scope=col>total_cs_size</th><th scope=col>mean_cs_size</th></tr>\n",
       "\t<tr><th scope=col>&lt;chr&gt;</th><th scope=col>&lt;chr&gt;</th><th scope=col>&lt;dbl&gt;</th><th scope=col>&lt;dbl&gt;</th><th scope=col>&lt;dbl&gt;</th><th scope=col>&lt;dbl&gt;</th><th scope=col>&lt;dbl&gt;</th></tr>\n",
       "</thead>\n",
       "<tbody>\n",
       "\t<tr><td>ENSG00000065268</td><td>m_ENSG00000065268</td><td>1</td><td>0.05631941</td><td>0.1177265</td><td>  4</td><td> 4.00000</td></tr>\n",
       "\t<tr><td>ENSG00000121716</td><td>m_ENSG00000121716</td><td>1</td><td>0.26259742</td><td>0.1440450</td><td> 22</td><td>22.00000</td></tr>\n",
       "\t<tr><td>ENSG00000179344</td><td>m_ENSG00000179344</td><td>3</td><td>0.61252987</td><td>0.3938677</td><td>139</td><td>46.33333</td></tr>\n",
       "\t<tr><td>ENSG00000196126</td><td>m_ENSG00000196126</td><td>2</td><td>0.50325317</td><td>0.3575756</td><td>117</td><td>58.50000</td></tr>\n",
       "\t<tr><td>ENSG00000196735</td><td>m_ENSG00000196735</td><td>1</td><td>0.27518094</td><td>0.1948107</td><td> 65</td><td>65.00000</td></tr>\n",
       "\t<tr><td>ENSG00000198502</td><td>m_ENSG00000198502</td><td>3</td><td>0.69739148</td><td>0.3967206</td><td> 90</td><td>30.00000</td></tr>\n",
       "\t<tr><td>ENSG00000264538</td><td>m_ENSG00000264538</td><td>1</td><td>0.25274487</td><td>0.1236006</td><td>  7</td><td> 7.00000</td></tr>\n",
       "</tbody>\n",
       "</table>\n"
      ],
      "text/latex": [
       "A spec\\_tbl\\_df: 7 × 7\n",
       "\\begin{tabular}{lllllll}\n",
       " ID & tb\\_name & n\\_of\\_cs & hsq\\_DLPFC & hsq\\_PCC & total\\_cs\\_size & mean\\_cs\\_size\\\\\n",
       " <chr> & <chr> & <dbl> & <dbl> & <dbl> & <dbl> & <dbl>\\\\\n",
       "\\hline\n",
       "\t ENSG00000065268 & m\\_ENSG00000065268 & 1 & 0.05631941 & 0.1177265 &   4 &  4.00000\\\\\n",
       "\t ENSG00000121716 & m\\_ENSG00000121716 & 1 & 0.26259742 & 0.1440450 &  22 & 22.00000\\\\\n",
       "\t ENSG00000179344 & m\\_ENSG00000179344 & 3 & 0.61252987 & 0.3938677 & 139 & 46.33333\\\\\n",
       "\t ENSG00000196126 & m\\_ENSG00000196126 & 2 & 0.50325317 & 0.3575756 & 117 & 58.50000\\\\\n",
       "\t ENSG00000196735 & m\\_ENSG00000196735 & 1 & 0.27518094 & 0.1948107 &  65 & 65.00000\\\\\n",
       "\t ENSG00000198502 & m\\_ENSG00000198502 & 3 & 0.69739148 & 0.3967206 &  90 & 30.00000\\\\\n",
       "\t ENSG00000264538 & m\\_ENSG00000264538 & 1 & 0.25274487 & 0.1236006 &   7 &  7.00000\\\\\n",
       "\\end{tabular}\n"
      ],
      "text/markdown": [
       "\n",
       "A spec_tbl_df: 7 × 7\n",
       "\n",
       "| ID &lt;chr&gt; | tb_name &lt;chr&gt; | n_of_cs &lt;dbl&gt; | hsq_DLPFC &lt;dbl&gt; | hsq_PCC &lt;dbl&gt; | total_cs_size &lt;dbl&gt; | mean_cs_size &lt;dbl&gt; |\n",
       "|---|---|---|---|---|---|---|\n",
       "| ENSG00000065268 | m_ENSG00000065268 | 1 | 0.05631941 | 0.1177265 |   4 |  4.00000 |\n",
       "| ENSG00000121716 | m_ENSG00000121716 | 1 | 0.26259742 | 0.1440450 |  22 | 22.00000 |\n",
       "| ENSG00000179344 | m_ENSG00000179344 | 3 | 0.61252987 | 0.3938677 | 139 | 46.33333 |\n",
       "| ENSG00000196126 | m_ENSG00000196126 | 2 | 0.50325317 | 0.3575756 | 117 | 58.50000 |\n",
       "| ENSG00000196735 | m_ENSG00000196735 | 1 | 0.27518094 | 0.1948107 |  65 | 65.00000 |\n",
       "| ENSG00000198502 | m_ENSG00000198502 | 3 | 0.69739148 | 0.3967206 |  90 | 30.00000 |\n",
       "| ENSG00000264538 | m_ENSG00000264538 | 1 | 0.25274487 | 0.1236006 |   7 |  7.00000 |\n",
       "\n"
      ],
      "text/plain": [
       "  ID              tb_name           n_of_cs hsq_DLPFC  hsq_PCC   total_cs_size\n",
       "1 ENSG00000065268 m_ENSG00000065268 1       0.05631941 0.1177265   4          \n",
       "2 ENSG00000121716 m_ENSG00000121716 1       0.26259742 0.1440450  22          \n",
       "3 ENSG00000179344 m_ENSG00000179344 3       0.61252987 0.3938677 139          \n",
       "4 ENSG00000196126 m_ENSG00000196126 2       0.50325317 0.3575756 117          \n",
       "5 ENSG00000196735 m_ENSG00000196735 1       0.27518094 0.1948107  65          \n",
       "6 ENSG00000198502 m_ENSG00000198502 3       0.69739148 0.3967206  90          \n",
       "7 ENSG00000264538 m_ENSG00000264538 1       0.25274487 0.1236006   7          \n",
       "  mean_cs_size\n",
       "1  4.00000    \n",
       "2 22.00000    \n",
       "3 46.33333    \n",
       "4 58.50000    \n",
       "5 65.00000    \n",
       "6 30.00000    \n",
       "7  7.00000    "
      ]
     },
     "metadata": {},
     "output_type": "display_data"
    }
   ],
   "source": [
    "working%>%select(-env,-model\n",
    "                )%>%filter(hsq_PCC>0.1)"
   ]
  },
  {
   "cell_type": "code",
   "execution_count": 11,
   "metadata": {},
   "outputs": [
    {
     "data": {
      "image/png": "[encoded data removed]",
      "text/plain": [
       "plot without title"
      ]
     },
     "metadata": {
      "image/png": {
       "height": 420,
       "width": 420
      }
     },
     "output_type": "display_data"
    }
   ],
   "source": [
    "working%>%select(-env,-model\n",
    "                )%>%filter(n_of_cs > 0)%>%ggplot(aes(x = hsq_PCC))+geom_density()"
   ]
  },
  {
   "cell_type": "code",
   "execution_count": 12,
   "metadata": {},
   "outputs": [
    {
     "data": {
      "image/png": "[encoded data removed]",
      "text/plain": [
       "plot without title"
      ]
     },
     "metadata": {
      "image/png": {
       "height": 420,
       "width": 420
      }
     },
     "output_type": "display_data"
    }
   ],
   "source": [
    "working%>%select(-env,-model\n",
    "                )%>%filter(n_of_cs > 0)%>%ggplot(aes(x = hsq_DLPFC))+geom_density()"
   ]
  },
  {
   "cell_type": "markdown",
   "metadata": {},
   "source": [
    "## MV susie with cross validation"
   ]
  },
  {
   "cell_type": "code",
   "execution_count": 8,
   "metadata": {},
   "outputs": [],
   "source": [
    "nohup sos run ~/GIT/neuro-twas/Workflow/mv_susie.ipynb mv_susie_cv    --molecular_pheno_dir \"/home/hs3163/Project/Alz/multi/molecular_phenotype_list\"   --region_list \"/home/hs3163/Project/Alz/multi/mv_susie_gene_list.txt\"   --wd \"/home/hs3163/Project/Alz/multi\"   --name_prefix \"geneTpmResidualsAgeGenderAdj_rename\"  \n",
    "--container /mnt/mfs/statgen/containers/twas_latest.sif \n",
    "--impute FALSE  --job_size 1  -J 6 -q csg -c /mnt/mfs/statgen/pbs_template/csg.yml -s build &\n",
    "\n",
    "nohup sos run ~/GIT/neuro-twas/Workflow/mv_susie.ipynb mv_susie_cv    --molecular_pheno_dir \"/home/hs3163/Project/Alz/multi/molecular_phenotype_list\"   --region_list \"/home/hs3163/Project/Alz/multi/mv_susie_gene_list.txt\"   --wd \"/home/hs3163/Project/Alz/multi\"   --name_prefix \"geneTpmResidualsAgeGenderAdj_rename\"   --container /mnt/mfs/statgen/containers/twas_latest.sif --impute TRUE --job_size 1  -J 100 -q csg -c /mnt/mfs/statgen/pbs_template/csg.yml -s build &"
   ]
  },
  {
   "cell_type": "code",
   "execution_count": 3,
   "metadata": {},
   "outputs": [
    {
     "name": "stderr",
     "output_type": "stream",
     "text": [
      "The following object is masked from file:/home/hs3163/Project/Alz/multi_3/mv_cv_saved.RData:\n",
      "\n",
      "    output\n",
      "\n",
      "\n"
     ]
    },
    {
     "data": {
      "text/html": [
       "<table>\n",
       "<caption>A tibble: 1 × 3</caption>\n",
       "<thead>\n",
       "\t<tr><th scope=col>mean(hsq_ac)</th><th scope=col>mean(hsq_PCC)</th><th scope=col>mean(hsq_DLPFC)</th></tr>\n",
       "\t<tr><th scope=col>&lt;dbl&gt;</th><th scope=col>&lt;dbl&gt;</th><th scope=col>&lt;dbl&gt;</th></tr>\n",
       "</thead>\n",
       "<tbody>\n",
       "\t<tr><td>0.08833986</td><td>0.06048574</td><td>0.1045956</td></tr>\n",
       "</tbody>\n",
       "</table>\n"
      ],
      "text/latex": [
       "A tibble: 1 × 3\n",
       "\\begin{tabular}{lll}\n",
       " mean(hsq\\_ac) & mean(hsq\\_PCC) & mean(hsq\\_DLPFC)\\\\\n",
       " <dbl> & <dbl> & <dbl>\\\\\n",
       "\\hline\n",
       "\t 0.08833986 & 0.06048574 & 0.1045956\\\\\n",
       "\\end{tabular}\n"
      ],
      "text/markdown": [
       "\n",
       "A tibble: 1 × 3\n",
       "\n",
       "| mean(hsq_ac) &lt;dbl&gt; | mean(hsq_PCC) &lt;dbl&gt; | mean(hsq_DLPFC) &lt;dbl&gt; |\n",
       "|---|---|---|\n",
       "| 0.08833986 | 0.06048574 | 0.1045956 |\n",
       "\n"
      ],
      "text/plain": [
       "  mean(hsq_ac) mean(hsq_PCC) mean(hsq_DLPFC)\n",
       "1 0.08833986   0.06048574    0.1045956      "
      ]
     },
     "metadata": {},
     "output_type": "display_data"
    },
    {
     "data": {
      "text/html": [
       "55"
      ],
      "text/latex": [
       "55"
      ],
      "text/markdown": [
       "55"
      ],
      "text/plain": [
       "[1] 55"
      ]
     },
     "metadata": {},
     "output_type": "display_data"
    }
   ],
   "source": [
    "# All three tissues with imputed\n",
    "env = attach(\"/home/hs3163/Project/Alz/multi_3/mv_cv.RData\")\n",
    "data = env$output\n",
    "working = data%>%select(-path)\n",
    "working = working%>%mutate(\n",
    "  n_of_cs = map_dbl(model,~.x$sets$cs_index%>%length()),\n",
    "  hsq_ac = map_dbl(model,~.x$hsq[1]),\n",
    "  hsq_PCC = map_dbl(model,~.x$hsq[2]),\n",
    "  hsq_DLPFC = map_dbl(model,~.x$hsq[3]),\n",
    "  total_cs_size = map_dbl(model,(~.x$sets$cs%>%unlist()%>%length())),\n",
    "  mean_cs_size = total_cs_size/n_of_cs\n",
    ")\n",
    "working%>%select(-env,-model\n",
    "                )%>%filter(n_of_cs>0)%>%summarise(mean(hsq_ac),mean(hsq_PCC),mean(hsq_DLPFC))\n",
    "nrow(working%>%filter(n_of_cs>0))"
   ]
  },
  {
   "cell_type": "code",
   "execution_count": 4,
   "metadata": {},
   "outputs": [],
   "source": [
    "working = working%>%mutate(\n",
    "  rmse_ac = map_dbl(model,~.x$rmse[1]),\n",
    "  rmse_PCC = map_dbl(model,~.x$rmse[2]),\n",
    "  rmse_DLPFC = map_dbl(model,~.x$rmse[3]),\n",
    "  r2_ac = map_dbl(model,~.x$r2[1]),\n",
    "  r2_PCC = map_dbl(model,~.x$r2[2]),\n",
    "  r2_DLPFC = map_dbl(model,~.x$r2[3])\n",
    ")"
   ]
  },
  {
   "cell_type": "code",
   "execution_count": 5,
   "metadata": {},
   "outputs": [
    {
     "data": {
      "text/html": [
       "<table>\n",
       "<caption>A tibble: 55 × 8</caption>\n",
       "<thead>\n",
       "\t<tr><th scope=col>ID</th><th scope=col>n_of_cs</th><th scope=col>rmse_ac</th><th scope=col>rmse_PCC</th><th scope=col>rmse_DLPFC</th><th scope=col>r2_ac</th><th scope=col>r2_PCC</th><th scope=col>r2_DLPFC</th></tr>\n",
       "\t<tr><th scope=col>&lt;chr&gt;</th><th scope=col>&lt;dbl&gt;</th><th scope=col>&lt;dbl&gt;</th><th scope=col>&lt;dbl&gt;</th><th scope=col>&lt;dbl&gt;</th><th scope=col>&lt;dbl&gt;</th><th scope=col>&lt;dbl&gt;</th><th scope=col>&lt;dbl&gt;</th></tr>\n",
       "</thead>\n",
       "<tbody>\n",
       "\t<tr><td>ENSG00000198502</td><td>3</td><td>1.5974005</td><td>1.7985246</td><td>1.6851983</td><td> 0.6447413503</td><td> 0.5966142969</td><td> 6.697601e-01</td></tr>\n",
       "\t<tr><td>ENSG00000196126</td><td>2</td><td>0.7240690</td><td>0.6954950</td><td>0.8263586</td><td> 0.4513522118</td><td> 0.5514689801</td><td> 4.783039e-01</td></tr>\n",
       "\t<tr><td>ENSG00000179344</td><td>3</td><td>1.3156129</td><td>1.4234492</td><td>1.6620741</td><td> 0.4341612698</td><td> 0.4492788702</td><td> 3.455436e-01</td></tr>\n",
       "\t<tr><td>ENSG00000234906</td><td>1</td><td>0.6894559</td><td>0.8961240</td><td>0.8970410</td><td> 0.3291083755</td><td> 0.3274161742</td><td> 3.309872e-01</td></tr>\n",
       "\t<tr><td>ENSG00000196735</td><td>1</td><td>1.0899734</td><td>1.2247740</td><td>1.3235670</td><td> 0.2558322422</td><td> 0.2831464552</td><td> 2.710956e-01</td></tr>\n",
       "\t<tr><td>ENSG00000085514</td><td>1</td><td>0.5133457</td><td>0.5005320</td><td>0.4791128</td><td> 0.1690119693</td><td> 0.1670848280</td><td> 2.677333e-01</td></tr>\n",
       "\t<tr><td>ENSG00000007047</td><td>1</td><td>0.2593036</td><td>0.1933935</td><td>0.2510231</td><td> 0.1907960207</td><td> 0.2325497190</td><td> 2.258178e-01</td></tr>\n",
       "\t<tr><td>ENSG00000189114</td><td>2</td><td>0.2573766</td><td>0.2662382</td><td>0.2650981</td><td> 0.1746598847</td><td> 0.1942677862</td><td> 2.032803e-01</td></tr>\n",
       "\t<tr><td>ENSG00000078487</td><td>1</td><td>0.3670497</td><td>0.3863667</td><td>0.3588740</td><td> 0.1673430765</td><td> 0.1648362877</td><td> 1.922978e-01</td></tr>\n",
       "\t<tr><td>ENSG00000140416</td><td>1</td><td>0.1881059</td><td>0.1889318</td><td>0.1887629</td><td> 0.2010172179</td><td> 0.2199189392</td><td> 1.890445e-01</td></tr>\n",
       "\t<tr><td>ENSG00000120915</td><td>1</td><td>0.4286792</td><td>0.4837436</td><td>0.4672631</td><td> 0.1676258974</td><td> 0.1924667548</td><td> 1.726339e-01</td></tr>\n",
       "\t<tr><td>ENSG00000179846</td><td>1</td><td>0.4038975</td><td>0.4554332</td><td>0.6612039</td><td> 0.1715682761</td><td> 0.1636370937</td><td> 1.641348e-01</td></tr>\n",
       "\t<tr><td>ENSG00000204516</td><td>2</td><td>0.7746048</td><td>0.7253894</td><td>0.8004643</td><td> 0.0515132101</td><td> 0.1441783454</td><td> 1.417445e-01</td></tr>\n",
       "\t<tr><td>ENSG00000166529</td><td>1</td><td>0.2484996</td><td>0.2160855</td><td>0.2240540</td><td> 0.0569938836</td><td> 0.0684271503</td><td> 1.411943e-01</td></tr>\n",
       "\t<tr><td>ENSG00000264538</td><td>1</td><td>0.2501690</td><td>0.2724692</td><td>0.2765364</td><td> 0.0615775280</td><td> 0.0567823487</td><td> 9.697792e-02</td></tr>\n",
       "\t<tr><td>ENSG00000244731</td><td>1</td><td>0.8060656</td><td>0.9032368</td><td>0.9263362</td><td> 0.1138163805</td><td> 0.0817468274</td><td> 8.413090e-02</td></tr>\n",
       "\t<tr><td>ENSG00000099817</td><td>1</td><td>0.1811478</td><td>0.2429703</td><td>0.2791880</td><td> 0.0834304782</td><td> 0.0819585591</td><td> 7.866270e-02</td></tr>\n",
       "\t<tr><td>ENSG00000064666</td><td>2</td><td>0.5508408</td><td>0.5972074</td><td>0.6189548</td><td> 0.0277518885</td><td> 0.0417420198</td><td> 7.724111e-02</td></tr>\n",
       "\t<tr><td>ENSG00000203710</td><td>1</td><td>0.7517101</td><td>0.9017232</td><td>0.9665999</td><td> 0.0200283361</td><td> 0.0467268984</td><td> 7.347470e-02</td></tr>\n",
       "\t<tr><td>ENSG00000129204</td><td>2</td><td>0.4933259</td><td>0.4784269</td><td>0.5571669</td><td> 0.1929472379</td><td> 0.0534024308</td><td> 7.055794e-02</td></tr>\n",
       "\t<tr><td>ENSG00000121716</td><td>1</td><td>0.4766404</td><td>0.4866432</td><td>0.6239620</td><td> 0.0674604579</td><td> 0.0141405362</td><td> 5.744455e-02</td></tr>\n",
       "\t<tr><td>ENSG00000204301</td><td>1</td><td>0.3026711</td><td>0.3153058</td><td>0.3232380</td><td> 0.0124345389</td><td> 0.0332047050</td><td> 5.579154e-02</td></tr>\n",
       "\t<tr><td>ENSG00000147419</td><td>1</td><td>0.2199808</td><td>0.2716384</td><td>0.2762502</td><td> 0.0678422772</td><td> 0.0198561113</td><td> 5.564448e-02</td></tr>\n",
       "\t<tr><td>ENSG00000073008</td><td>1</td><td>0.2347308</td><td>0.2593395</td><td>0.2650872</td><td> 0.0438701911</td><td> 0.0467448586</td><td> 4.451792e-02</td></tr>\n",
       "\t<tr><td>ENSG00000108559</td><td>1</td><td>0.2443809</td><td>0.2753920</td><td>0.2696434</td><td> 0.0219071217</td><td> 0.0385789127</td><td> 4.046652e-02</td></tr>\n",
       "\t<tr><td>ENSG00000186567</td><td>1</td><td>0.4810319</td><td>0.4241656</td><td>0.4287971</td><td> 0.0290975011</td><td> 0.0427588733</td><td> 3.992396e-02</td></tr>\n",
       "\t<tr><td>ENSG00000103510</td><td>1</td><td>0.1270061</td><td>0.1399506</td><td>0.1644802</td><td> 0.0266355282</td><td> 0.0433597349</td><td> 3.861009e-02</td></tr>\n",
       "\t<tr><td>ENSG00000214309</td><td>1</td><td>0.2779789</td><td>0.3171031</td><td>0.3867496</td><td> 0.1123584517</td><td> 0.0169808272</td><td> 3.336106e-02</td></tr>\n",
       "\t<tr><td>ENSG00000134463</td><td>3</td><td>0.6435205</td><td>0.7548166</td><td>0.9170325</td><td> 0.1778354499</td><td> 0.0790665651</td><td> 3.112090e-02</td></tr>\n",
       "\t<tr><td>ENSG00000146834</td><td>1</td><td>0.2003245</td><td>0.2028170</td><td>0.2628424</td><td> 0.0039961604</td><td> 0.0552154898</td><td> 2.995090e-02</td></tr>\n",
       "\t<tr><td>ENSG00000204267</td><td>1</td><td>0.4449945</td><td>0.4943720</td><td>0.5404492</td><td> 0.0183167240</td><td> 0.0264374757</td><td> 2.971659e-02</td></tr>\n",
       "\t<tr><td>ENSG00000167840</td><td>1</td><td>0.3014382</td><td>0.2529687</td><td>0.2999892</td><td> 0.0473895665</td><td> 0.0136612572</td><td> 2.526308e-02</td></tr>\n",
       "\t<tr><td>ENSG00000180448</td><td>1</td><td>0.3122647</td><td>0.3535738</td><td>0.4533604</td><td> 0.0182817785</td><td> 0.0427156579</td><td> 2.239512e-02</td></tr>\n",
       "\t<tr><td>ENSG00000158864</td><td>1</td><td>0.1571260</td><td>0.1918277</td><td>0.2282746</td><td> 0.0047146423</td><td> 0.0045400385</td><td> 2.063175e-02</td></tr>\n",
       "\t<tr><td>ENSG00000178226</td><td>1</td><td>0.6391662</td><td>0.7546142</td><td>0.7793903</td><td> 0.0458840394</td><td> 0.0121919307</td><td> 1.989193e-02</td></tr>\n",
       "\t<tr><td>ENSG00000196118</td><td>2</td><td>0.5135649</td><td>0.4444844</td><td>0.4449788</td><td> 0.0672201221</td><td> 0.0727934449</td><td> 1.873582e-02</td></tr>\n",
       "\t<tr><td>ENSG00000160862</td><td>1</td><td>0.8343944</td><td>0.8190668</td><td>0.8923932</td><td> 0.0346467819</td><td> 0.0075786136</td><td> 1.781691e-02</td></tr>\n",
       "\t<tr><td>ENSG00000130204</td><td>1</td><td>0.2195434</td><td>0.2803985</td><td>0.2511338</td><td>-0.0020303941</td><td> 0.0201953756</td><td> 1.652698e-02</td></tr>\n",
       "\t<tr><td>ENSG00000110079</td><td>1</td><td>0.9095179</td><td>0.9227461</td><td>1.1770840</td><td> 0.0311264822</td><td> 0.0182852189</td><td> 1.481552e-02</td></tr>\n",
       "\t<tr><td>ENSG00000103642</td><td>1</td><td>0.2003869</td><td>0.2540859</td><td>0.2600412</td><td> 0.0404843483</td><td> 0.0432630960</td><td> 1.254345e-02</td></tr>\n",
       "\t<tr><td>ENSG00000224389</td><td>2</td><td>0.9227513</td><td>0.9363460</td><td>0.9163289</td><td> 0.0263871282</td><td> 0.0451788933</td><td> 9.384658e-03</td></tr>\n",
       "\t<tr><td>ENSG00000065268</td><td>2</td><td>0.2549384</td><td>0.3492632</td><td>0.4097266</td><td> 0.0905731141</td><td> 0.0660408488</td><td> 6.624460e-03</td></tr>\n",
       "\t<tr><td>ENSG00000142252</td><td>1</td><td>0.2769920</td><td>0.2872448</td><td>0.3577996</td><td>-0.0001496196</td><td> 0.0100096178</td><td> 4.767526e-03</td></tr>\n",
       "\t<tr><td>ENSG00000104228</td><td>1</td><td>0.2939208</td><td>0.3131832</td><td>0.2730093</td><td> 0.0188817276</td><td>-0.0031572714</td><td> 4.744504e-03</td></tr>\n",
       "\t<tr><td>ENSG00000130202</td><td>1</td><td>0.3173656</td><td>0.3379153</td><td>0.3554222</td><td>-0.0032930190</td><td>-0.0030778594</td><td> 3.954703e-03</td></tr>\n",
       "\t<tr><td>ENSG00000240065</td><td>1</td><td>0.4396224</td><td>0.4647092</td><td>0.5392425</td><td> 0.0437406090</td><td> 0.0476752375</td><td> 3.722986e-03</td></tr>\n",
       "\t<tr><td>ENSG00000188186</td><td>1</td><td>0.1430163</td><td>0.1947343</td><td>0.2244367</td><td> 0.0346760963</td><td> 0.0068067494</td><td> 3.512762e-03</td></tr>\n",
       "\t<tr><td>ENSG00000103549</td><td>1</td><td>0.1595154</td><td>0.1643208</td><td>0.2019786</td><td>-0.0050815674</td><td>-0.0016301813</td><td> 1.838171e-03</td></tr>\n",
       "\t<tr><td>ENSG00000029725</td><td>1</td><td>0.1350669</td><td>0.1785273</td><td>0.1896770</td><td>-0.0017957575</td><td> 0.0001502235</td><td> 1.080599e-03</td></tr>\n",
       "\t<tr><td>ENSG00000064687</td><td>1</td><td>0.4510870</td><td>0.5045995</td><td>0.5194976</td><td> 0.0077707563</td><td>-0.0023561908</td><td> 9.002934e-05</td></tr>\n",
       "\t<tr><td>ENSG00000103496</td><td>1</td><td>0.1887336</td><td>0.2226211</td><td>0.2219783</td><td> 0.0106211528</td><td> 0.0561882903</td><td>-1.783020e-03</td></tr>\n",
       "\t<tr><td>ENSG00000108523</td><td>1</td><td>0.1547705</td><td>0.1598629</td><td>0.1766070</td><td> 0.0658124678</td><td> 0.0206577980</td><td>-2.059092e-03</td></tr>\n",
       "\t<tr><td>ENSG00000161929</td><td>1</td><td>0.6029665</td><td>0.5874475</td><td>0.5673928</td><td> 0.0153417449</td><td> 0.0086313083</td><td>-2.293244e-03</td></tr>\n",
       "\t<tr><td>ENSG00000146828</td><td>1</td><td>0.2555728</td><td>0.2651128</td><td>0.3310576</td><td>-0.0007727654</td><td> 0.0200694256</td><td>-2.409436e-03</td></tr>\n",
       "\t<tr><td>ENSG00000213420</td><td>1</td><td>0.5079960</td><td>0.6384893</td><td>0.6056883</td><td>-0.0015059622</td><td> 0.0048525011</td><td>-3.360399e-03</td></tr>\n",
       "</tbody>\n",
       "</table>\n"
      ],
      "text/latex": [
       "A tibble: 55 × 8\n",
       "\\begin{tabular}{llllllll}\n",
       " ID & n\\_of\\_cs & rmse\\_ac & rmse\\_PCC & rmse\\_DLPFC & r2\\_ac & r2\\_PCC & r2\\_DLPFC\\\\\n",
       " <chr> & <dbl> & <dbl> & <dbl> & <dbl> & <dbl> & <dbl> & <dbl>\\\\\n",
       "\\hline\n",
       "\t ENSG00000198502 & 3 & 1.5974005 & 1.7985246 & 1.6851983 &  0.6447413503 &  0.5966142969 &  6.697601e-01\\\\\n",
       "\t ENSG00000196126 & 2 & 0.7240690 & 0.6954950 & 0.8263586 &  0.4513522118 &  0.5514689801 &  4.783039e-01\\\\\n",
       "\t ENSG00000179344 & 3 & 1.3156129 & 1.4234492 & 1.6620741 &  0.4341612698 &  0.4492788702 &  3.455436e-01\\\\\n",
       "\t ENSG00000234906 & 1 & 0.6894559 & 0.8961240 & 0.8970410 &  0.3291083755 &  0.3274161742 &  3.309872e-01\\\\\n",
       "\t ENSG00000196735 & 1 & 1.0899734 & 1.2247740 & 1.3235670 &  0.2558322422 &  0.2831464552 &  2.710956e-01\\\\\n",
       "\t ENSG00000085514 & 1 & 0.5133457 & 0.5005320 & 0.4791128 &  0.1690119693 &  0.1670848280 &  2.677333e-01\\\\\n",
       "\t ENSG00000007047 & 1 & 0.2593036 & 0.1933935 & 0.2510231 &  0.1907960207 &  0.2325497190 &  2.258178e-01\\\\\n",
       "\t ENSG00000189114 & 2 & 0.2573766 & 0.2662382 & 0.2650981 &  0.1746598847 &  0.1942677862 &  2.032803e-01\\\\\n",
       "\t ENSG00000078487 & 1 & 0.3670497 & 0.3863667 & 0.3588740 &  0.1673430765 &  0.1648362877 &  1.922978e-01\\\\\n",
       "\t ENSG00000140416 & 1 & 0.1881059 & 0.1889318 & 0.1887629 &  0.2010172179 &  0.2199189392 &  1.890445e-01\\\\\n",
       "\t ENSG00000120915 & 1 & 0.4286792 & 0.4837436 & 0.4672631 &  0.1676258974 &  0.1924667548 &  1.726339e-01\\\\\n",
       "\t ENSG00000179846 & 1 & 0.4038975 & 0.4554332 & 0.6612039 &  0.1715682761 &  0.1636370937 &  1.641348e-01\\\\\n",
       "\t ENSG00000204516 & 2 & 0.7746048 & 0.7253894 & 0.8004643 &  0.0515132101 &  0.1441783454 &  1.417445e-01\\\\\n",
       "\t ENSG00000166529 & 1 & 0.2484996 & 0.2160855 & 0.2240540 &  0.0569938836 &  0.0684271503 &  1.411943e-01\\\\\n",
       "\t ENSG00000264538 & 1 & 0.2501690 & 0.2724692 & 0.2765364 &  0.0615775280 &  0.0567823487 &  9.697792e-02\\\\\n",
       "\t ENSG00000244731 & 1 & 0.8060656 & 0.9032368 & 0.9263362 &  0.1138163805 &  0.0817468274 &  8.413090e-02\\\\\n",
       "\t ENSG00000099817 & 1 & 0.1811478 & 0.2429703 & 0.2791880 &  0.0834304782 &  0.0819585591 &  7.866270e-02\\\\\n",
       "\t ENSG00000064666 & 2 & 0.5508408 & 0.5972074 & 0.6189548 &  0.0277518885 &  0.0417420198 &  7.724111e-02\\\\\n",
       "\t ENSG00000203710 & 1 & 0.7517101 & 0.9017232 & 0.9665999 &  0.0200283361 &  0.0467268984 &  7.347470e-02\\\\\n",
       "\t ENSG00000129204 & 2 & 0.4933259 & 0.4784269 & 0.5571669 &  0.1929472379 &  0.0534024308 &  7.055794e-02\\\\\n",
       "\t ENSG00000121716 & 1 & 0.4766404 & 0.4866432 & 0.6239620 &  0.0674604579 &  0.0141405362 &  5.744455e-02\\\\\n",
       "\t ENSG00000204301 & 1 & 0.3026711 & 0.3153058 & 0.3232380 &  0.0124345389 &  0.0332047050 &  5.579154e-02\\\\\n",
       "\t ENSG00000147419 & 1 & 0.2199808 & 0.2716384 & 0.2762502 &  0.0678422772 &  0.0198561113 &  5.564448e-02\\\\\n",
       "\t ENSG00000073008 & 1 & 0.2347308 & 0.2593395 & 0.2650872 &  0.0438701911 &  0.0467448586 &  4.451792e-02\\\\\n",
       "\t ENSG00000108559 & 1 & 0.2443809 & 0.2753920 & 0.2696434 &  0.0219071217 &  0.0385789127 &  4.046652e-02\\\\\n",
       "\t ENSG00000186567 & 1 & 0.4810319 & 0.4241656 & 0.4287971 &  0.0290975011 &  0.0427588733 &  3.992396e-02\\\\\n",
       "\t ENSG00000103510 & 1 & 0.1270061 & 0.1399506 & 0.1644802 &  0.0266355282 &  0.0433597349 &  3.861009e-02\\\\\n",
       "\t ENSG00000214309 & 1 & 0.2779789 & 0.3171031 & 0.3867496 &  0.1123584517 &  0.0169808272 &  3.336106e-02\\\\\n",
       "\t ENSG00000134463 & 3 & 0.6435205 & 0.7548166 & 0.9170325 &  0.1778354499 &  0.0790665651 &  3.112090e-02\\\\\n",
       "\t ENSG00000146834 & 1 & 0.2003245 & 0.2028170 & 0.2628424 &  0.0039961604 &  0.0552154898 &  2.995090e-02\\\\\n",
       "\t ENSG00000204267 & 1 & 0.4449945 & 0.4943720 & 0.5404492 &  0.0183167240 &  0.0264374757 &  2.971659e-02\\\\\n",
       "\t ENSG00000167840 & 1 & 0.3014382 & 0.2529687 & 0.2999892 &  0.0473895665 &  0.0136612572 &  2.526308e-02\\\\\n",
       "\t ENSG00000180448 & 1 & 0.3122647 & 0.3535738 & 0.4533604 &  0.0182817785 &  0.0427156579 &  2.239512e-02\\\\\n",
       "\t ENSG00000158864 & 1 & 0.1571260 & 0.1918277 & 0.2282746 &  0.0047146423 &  0.0045400385 &  2.063175e-02\\\\\n",
       "\t ENSG00000178226 & 1 & 0.6391662 & 0.7546142 & 0.7793903 &  0.0458840394 &  0.0121919307 &  1.989193e-02\\\\\n",
       "\t ENSG00000196118 & 2 & 0.5135649 & 0.4444844 & 0.4449788 &  0.0672201221 &  0.0727934449 &  1.873582e-02\\\\\n",
       "\t ENSG00000160862 & 1 & 0.8343944 & 0.8190668 & 0.8923932 &  0.0346467819 &  0.0075786136 &  1.781691e-02\\\\\n",
       "\t ENSG00000130204 & 1 & 0.2195434 & 0.2803985 & 0.2511338 & -0.0020303941 &  0.0201953756 &  1.652698e-02\\\\\n",
       "\t ENSG00000110079 & 1 & 0.9095179 & 0.9227461 & 1.1770840 &  0.0311264822 &  0.0182852189 &  1.481552e-02\\\\\n",
       "\t ENSG00000103642 & 1 & 0.2003869 & 0.2540859 & 0.2600412 &  0.0404843483 &  0.0432630960 &  1.254345e-02\\\\\n",
       "\t ENSG00000224389 & 2 & 0.9227513 & 0.9363460 & 0.9163289 &  0.0263871282 &  0.0451788933 &  9.384658e-03\\\\\n",
       "\t ENSG00000065268 & 2 & 0.2549384 & 0.3492632 & 0.4097266 &  0.0905731141 &  0.0660408488 &  6.624460e-03\\\\\n",
       "\t ENSG00000142252 & 1 & 0.2769920 & 0.2872448 & 0.3577996 & -0.0001496196 &  0.0100096178 &  4.767526e-03\\\\\n",
       "\t ENSG00000104228 & 1 & 0.2939208 & 0.3131832 & 0.2730093 &  0.0188817276 & -0.0031572714 &  4.744504e-03\\\\\n",
       "\t ENSG00000130202 & 1 & 0.3173656 & 0.3379153 & 0.3554222 & -0.0032930190 & -0.0030778594 &  3.954703e-03\\\\\n",
       "\t ENSG00000240065 & 1 & 0.4396224 & 0.4647092 & 0.5392425 &  0.0437406090 &  0.0476752375 &  3.722986e-03\\\\\n",
       "\t ENSG00000188186 & 1 & 0.1430163 & 0.1947343 & 0.2244367 &  0.0346760963 &  0.0068067494 &  3.512762e-03\\\\\n",
       "\t ENSG00000103549 & 1 & 0.1595154 & 0.1643208 & 0.2019786 & -0.0050815674 & -0.0016301813 &  1.838171e-03\\\\\n",
       "\t ENSG00000029725 & 1 & 0.1350669 & 0.1785273 & 0.1896770 & -0.0017957575 &  0.0001502235 &  1.080599e-03\\\\\n",
       "\t ENSG00000064687 & 1 & 0.4510870 & 0.5045995 & 0.5194976 &  0.0077707563 & -0.0023561908 &  9.002934e-05\\\\\n",
       "\t ENSG00000103496 & 1 & 0.1887336 & 0.2226211 & 0.2219783 &  0.0106211528 &  0.0561882903 & -1.783020e-03\\\\\n",
       "\t ENSG00000108523 & 1 & 0.1547705 & 0.1598629 & 0.1766070 &  0.0658124678 &  0.0206577980 & -2.059092e-03\\\\\n",
       "\t ENSG00000161929 & 1 & 0.6029665 & 0.5874475 & 0.5673928 &  0.0153417449 &  0.0086313083 & -2.293244e-03\\\\\n",
       "\t ENSG00000146828 & 1 & 0.2555728 & 0.2651128 & 0.3310576 & -0.0007727654 &  0.0200694256 & -2.409436e-03\\\\\n",
       "\t ENSG00000213420 & 1 & 0.5079960 & 0.6384893 & 0.6056883 & -0.0015059622 &  0.0048525011 & -3.360399e-03\\\\\n",
       "\\end{tabular}\n"
      ],
      "text/markdown": [
       "\n",
       "A tibble: 55 × 8\n",
       "\n",
       "| ID &lt;chr&gt; | n_of_cs &lt;dbl&gt; | rmse_ac &lt;dbl&gt; | rmse_PCC &lt;dbl&gt; | rmse_DLPFC &lt;dbl&gt; | r2_ac &lt;dbl&gt; | r2_PCC &lt;dbl&gt; | r2_DLPFC &lt;dbl&gt; |\n",
       "|---|---|---|---|---|---|---|---|\n",
       "| ENSG00000198502 | 3 | 1.5974005 | 1.7985246 | 1.6851983 |  0.6447413503 |  0.5966142969 |  6.697601e-01 |\n",
       "| ENSG00000196126 | 2 | 0.7240690 | 0.6954950 | 0.8263586 |  0.4513522118 |  0.5514689801 |  4.783039e-01 |\n",
       "| ENSG00000179344 | 3 | 1.3156129 | 1.4234492 | 1.6620741 |  0.4341612698 |  0.4492788702 |  3.455436e-01 |\n",
       "| ENSG00000234906 | 1 | 0.6894559 | 0.8961240 | 0.8970410 |  0.3291083755 |  0.3274161742 |  3.309872e-01 |\n",
       "| ENSG00000196735 | 1 | 1.0899734 | 1.2247740 | 1.3235670 |  0.2558322422 |  0.2831464552 |  2.710956e-01 |\n",
       "| ENSG00000085514 | 1 | 0.5133457 | 0.5005320 | 0.4791128 |  0.1690119693 |  0.1670848280 |  2.677333e-01 |\n",
       "| ENSG00000007047 | 1 | 0.2593036 | 0.1933935 | 0.2510231 |  0.1907960207 |  0.2325497190 |  2.258178e-01 |\n",
       "| ENSG00000189114 | 2 | 0.2573766 | 0.2662382 | 0.2650981 |  0.1746598847 |  0.1942677862 |  2.032803e-01 |\n",
       "| ENSG00000078487 | 1 | 0.3670497 | 0.3863667 | 0.3588740 |  0.1673430765 |  0.1648362877 |  1.922978e-01 |\n",
       "| ENSG00000140416 | 1 | 0.1881059 | 0.1889318 | 0.1887629 |  0.2010172179 |  0.2199189392 |  1.890445e-01 |\n",
       "| ENSG00000120915 | 1 | 0.4286792 | 0.4837436 | 0.4672631 |  0.1676258974 |  0.1924667548 |  1.726339e-01 |\n",
       "| ENSG00000179846 | 1 | 0.4038975 | 0.4554332 | 0.6612039 |  0.1715682761 |  0.1636370937 |  1.641348e-01 |\n",
       "| ENSG00000204516 | 2 | 0.7746048 | 0.7253894 | 0.8004643 |  0.0515132101 |  0.1441783454 |  1.417445e-01 |\n",
       "| ENSG00000166529 | 1 | 0.2484996 | 0.2160855 | 0.2240540 |  0.0569938836 |  0.0684271503 |  1.411943e-01 |\n",
       "| ENSG00000264538 | 1 | 0.2501690 | 0.2724692 | 0.2765364 |  0.0615775280 |  0.0567823487 |  9.697792e-02 |\n",
       "| ENSG00000244731 | 1 | 0.8060656 | 0.9032368 | 0.9263362 |  0.1138163805 |  0.0817468274 |  8.413090e-02 |\n",
       "| ENSG00000099817 | 1 | 0.1811478 | 0.2429703 | 0.2791880 |  0.0834304782 |  0.0819585591 |  7.866270e-02 |\n",
       "| ENSG00000064666 | 2 | 0.5508408 | 0.5972074 | 0.6189548 |  0.0277518885 |  0.0417420198 |  7.724111e-02 |\n",
       "| ENSG00000203710 | 1 | 0.7517101 | 0.9017232 | 0.9665999 |  0.0200283361 |  0.0467268984 |  7.347470e-02 |\n",
       "| ENSG00000129204 | 2 | 0.4933259 | 0.4784269 | 0.5571669 |  0.1929472379 |  0.0534024308 |  7.055794e-02 |\n",
       "| ENSG00000121716 | 1 | 0.4766404 | 0.4866432 | 0.6239620 |  0.0674604579 |  0.0141405362 |  5.744455e-02 |\n",
       "| ENSG00000204301 | 1 | 0.3026711 | 0.3153058 | 0.3232380 |  0.0124345389 |  0.0332047050 |  5.579154e-02 |\n",
       "| ENSG00000147419 | 1 | 0.2199808 | 0.2716384 | 0.2762502 |  0.0678422772 |  0.0198561113 |  5.564448e-02 |\n",
       "| ENSG00000073008 | 1 | 0.2347308 | 0.2593395 | 0.2650872 |  0.0438701911 |  0.0467448586 |  4.451792e-02 |\n",
       "| ENSG00000108559 | 1 | 0.2443809 | 0.2753920 | 0.2696434 |  0.0219071217 |  0.0385789127 |  4.046652e-02 |\n",
       "| ENSG00000186567 | 1 | 0.4810319 | 0.4241656 | 0.4287971 |  0.0290975011 |  0.0427588733 |  3.992396e-02 |\n",
       "| ENSG00000103510 | 1 | 0.1270061 | 0.1399506 | 0.1644802 |  0.0266355282 |  0.0433597349 |  3.861009e-02 |\n",
       "| ENSG00000214309 | 1 | 0.2779789 | 0.3171031 | 0.3867496 |  0.1123584517 |  0.0169808272 |  3.336106e-02 |\n",
       "| ENSG00000134463 | 3 | 0.6435205 | 0.7548166 | 0.9170325 |  0.1778354499 |  0.0790665651 |  3.112090e-02 |\n",
       "| ENSG00000146834 | 1 | 0.2003245 | 0.2028170 | 0.2628424 |  0.0039961604 |  0.0552154898 |  2.995090e-02 |\n",
       "| ENSG00000204267 | 1 | 0.4449945 | 0.4943720 | 0.5404492 |  0.0183167240 |  0.0264374757 |  2.971659e-02 |\n",
       "| ENSG00000167840 | 1 | 0.3014382 | 0.2529687 | 0.2999892 |  0.0473895665 |  0.0136612572 |  2.526308e-02 |\n",
       "| ENSG00000180448 | 1 | 0.3122647 | 0.3535738 | 0.4533604 |  0.0182817785 |  0.0427156579 |  2.239512e-02 |\n",
       "| ENSG00000158864 | 1 | 0.1571260 | 0.1918277 | 0.2282746 |  0.0047146423 |  0.0045400385 |  2.063175e-02 |\n",
       "| ENSG00000178226 | 1 | 0.6391662 | 0.7546142 | 0.7793903 |  0.0458840394 |  0.0121919307 |  1.989193e-02 |\n",
       "| ENSG00000196118 | 2 | 0.5135649 | 0.4444844 | 0.4449788 |  0.0672201221 |  0.0727934449 |  1.873582e-02 |\n",
       "| ENSG00000160862 | 1 | 0.8343944 | 0.8190668 | 0.8923932 |  0.0346467819 |  0.0075786136 |  1.781691e-02 |\n",
       "| ENSG00000130204 | 1 | 0.2195434 | 0.2803985 | 0.2511338 | -0.0020303941 |  0.0201953756 |  1.652698e-02 |\n",
       "| ENSG00000110079 | 1 | 0.9095179 | 0.9227461 | 1.1770840 |  0.0311264822 |  0.0182852189 |  1.481552e-02 |\n",
       "| ENSG00000103642 | 1 | 0.2003869 | 0.2540859 | 0.2600412 |  0.0404843483 |  0.0432630960 |  1.254345e-02 |\n",
       "| ENSG00000224389 | 2 | 0.9227513 | 0.9363460 | 0.9163289 |  0.0263871282 |  0.0451788933 |  9.384658e-03 |\n",
       "| ENSG00000065268 | 2 | 0.2549384 | 0.3492632 | 0.4097266 |  0.0905731141 |  0.0660408488 |  6.624460e-03 |\n",
       "| ENSG00000142252 | 1 | 0.2769920 | 0.2872448 | 0.3577996 | -0.0001496196 |  0.0100096178 |  4.767526e-03 |\n",
       "| ENSG00000104228 | 1 | 0.2939208 | 0.3131832 | 0.2730093 |  0.0188817276 | -0.0031572714 |  4.744504e-03 |\n",
       "| ENSG00000130202 | 1 | 0.3173656 | 0.3379153 | 0.3554222 | -0.0032930190 | -0.0030778594 |  3.954703e-03 |\n",
       "| ENSG00000240065 | 1 | 0.4396224 | 0.4647092 | 0.5392425 |  0.0437406090 |  0.0476752375 |  3.722986e-03 |\n",
       "| ENSG00000188186 | 1 | 0.1430163 | 0.1947343 | 0.2244367 |  0.0346760963 |  0.0068067494 |  3.512762e-03 |\n",
       "| ENSG00000103549 | 1 | 0.1595154 | 0.1643208 | 0.2019786 | -0.0050815674 | -0.0016301813 |  1.838171e-03 |\n",
       "| ENSG00000029725 | 1 | 0.1350669 | 0.1785273 | 0.1896770 | -0.0017957575 |  0.0001502235 |  1.080599e-03 |\n",
       "| ENSG00000064687 | 1 | 0.4510870 | 0.5045995 | 0.5194976 |  0.0077707563 | -0.0023561908 |  9.002934e-05 |\n",
       "| ENSG00000103496 | 1 | 0.1887336 | 0.2226211 | 0.2219783 |  0.0106211528 |  0.0561882903 | -1.783020e-03 |\n",
       "| ENSG00000108523 | 1 | 0.1547705 | 0.1598629 | 0.1766070 |  0.0658124678 |  0.0206577980 | -2.059092e-03 |\n",
       "| ENSG00000161929 | 1 | 0.6029665 | 0.5874475 | 0.5673928 |  0.0153417449 |  0.0086313083 | -2.293244e-03 |\n",
       "| ENSG00000146828 | 1 | 0.2555728 | 0.2651128 | 0.3310576 | -0.0007727654 |  0.0200694256 | -2.409436e-03 |\n",
       "| ENSG00000213420 | 1 | 0.5079960 | 0.6384893 | 0.6056883 | -0.0015059622 |  0.0048525011 | -3.360399e-03 |\n",
       "\n"
      ],
      "text/plain": [
       "   ID              n_of_cs rmse_ac   rmse_PCC  rmse_DLPFC r2_ac        \n",
       "1  ENSG00000198502 3       1.5974005 1.7985246 1.6851983   0.6447413503\n",
       "2  ENSG00000196126 2       0.7240690 0.6954950 0.8263586   0.4513522118\n",
       "3  ENSG00000179344 3       1.3156129 1.4234492 1.6620741   0.4341612698\n",
       "4  ENSG00000234906 1       0.6894559 0.8961240 0.8970410   0.3291083755\n",
       "5  ENSG00000196735 1       1.0899734 1.2247740 1.3235670   0.2558322422\n",
       "6  ENSG00000085514 1       0.5133457 0.5005320 0.4791128   0.1690119693\n",
       "7  ENSG00000007047 1       0.2593036 0.1933935 0.2510231   0.1907960207\n",
       "8  ENSG00000189114 2       0.2573766 0.2662382 0.2650981   0.1746598847\n",
       "9  ENSG00000078487 1       0.3670497 0.3863667 0.3588740   0.1673430765\n",
       "10 ENSG00000140416 1       0.1881059 0.1889318 0.1887629   0.2010172179\n",
       "11 ENSG00000120915 1       0.4286792 0.4837436 0.4672631   0.1676258974\n",
       "12 ENSG00000179846 1       0.4038975 0.4554332 0.6612039   0.1715682761\n",
       "13 ENSG00000204516 2       0.7746048 0.7253894 0.8004643   0.0515132101\n",
       "14 ENSG00000166529 1       0.2484996 0.2160855 0.2240540   0.0569938836\n",
       "15 ENSG00000264538 1       0.2501690 0.2724692 0.2765364   0.0615775280\n",
       "16 ENSG00000244731 1       0.8060656 0.9032368 0.9263362   0.1138163805\n",
       "17 ENSG00000099817 1       0.1811478 0.2429703 0.2791880   0.0834304782\n",
       "18 ENSG00000064666 2       0.5508408 0.5972074 0.6189548   0.0277518885\n",
       "19 ENSG00000203710 1       0.7517101 0.9017232 0.9665999   0.0200283361\n",
       "20 ENSG00000129204 2       0.4933259 0.4784269 0.5571669   0.1929472379\n",
       "21 ENSG00000121716 1       0.4766404 0.4866432 0.6239620   0.0674604579\n",
       "22 ENSG00000204301 1       0.3026711 0.3153058 0.3232380   0.0124345389\n",
       "23 ENSG00000147419 1       0.2199808 0.2716384 0.2762502   0.0678422772\n",
       "24 ENSG00000073008 1       0.2347308 0.2593395 0.2650872   0.0438701911\n",
       "25 ENSG00000108559 1       0.2443809 0.2753920 0.2696434   0.0219071217\n",
       "26 ENSG00000186567 1       0.4810319 0.4241656 0.4287971   0.0290975011\n",
       "27 ENSG00000103510 1       0.1270061 0.1399506 0.1644802   0.0266355282\n",
       "28 ENSG00000214309 1       0.2779789 0.3171031 0.3867496   0.1123584517\n",
       "29 ENSG00000134463 3       0.6435205 0.7548166 0.9170325   0.1778354499\n",
       "30 ENSG00000146834 1       0.2003245 0.2028170 0.2628424   0.0039961604\n",
       "31 ENSG00000204267 1       0.4449945 0.4943720 0.5404492   0.0183167240\n",
       "32 ENSG00000167840 1       0.3014382 0.2529687 0.2999892   0.0473895665\n",
       "33 ENSG00000180448 1       0.3122647 0.3535738 0.4533604   0.0182817785\n",
       "34 ENSG00000158864 1       0.1571260 0.1918277 0.2282746   0.0047146423\n",
       "35 ENSG00000178226 1       0.6391662 0.7546142 0.7793903   0.0458840394\n",
       "36 ENSG00000196118 2       0.5135649 0.4444844 0.4449788   0.0672201221\n",
       "37 ENSG00000160862 1       0.8343944 0.8190668 0.8923932   0.0346467819\n",
       "38 ENSG00000130204 1       0.2195434 0.2803985 0.2511338  -0.0020303941\n",
       "39 ENSG00000110079 1       0.9095179 0.9227461 1.1770840   0.0311264822\n",
       "40 ENSG00000103642 1       0.2003869 0.2540859 0.2600412   0.0404843483\n",
       "41 ENSG00000224389 2       0.9227513 0.9363460 0.9163289   0.0263871282\n",
       "42 ENSG00000065268 2       0.2549384 0.3492632 0.4097266   0.0905731141\n",
       "43 ENSG00000142252 1       0.2769920 0.2872448 0.3577996  -0.0001496196\n",
       "44 ENSG00000104228 1       0.2939208 0.3131832 0.2730093   0.0188817276\n",
       "45 ENSG00000130202 1       0.3173656 0.3379153 0.3554222  -0.0032930190\n",
       "46 ENSG00000240065 1       0.4396224 0.4647092 0.5392425   0.0437406090\n",
       "47 ENSG00000188186 1       0.1430163 0.1947343 0.2244367   0.0346760963\n",
       "48 ENSG00000103549 1       0.1595154 0.1643208 0.2019786  -0.0050815674\n",
       "49 ENSG00000029725 1       0.1350669 0.1785273 0.1896770  -0.0017957575\n",
       "50 ENSG00000064687 1       0.4510870 0.5045995 0.5194976   0.0077707563\n",
       "51 ENSG00000103496 1       0.1887336 0.2226211 0.2219783   0.0106211528\n",
       "52 ENSG00000108523 1       0.1547705 0.1598629 0.1766070   0.0658124678\n",
       "53 ENSG00000161929 1       0.6029665 0.5874475 0.5673928   0.0153417449\n",
       "54 ENSG00000146828 1       0.2555728 0.2651128 0.3310576  -0.0007727654\n",
       "55 ENSG00000213420 1       0.5079960 0.6384893 0.6056883  -0.0015059622\n",
       "   r2_PCC        r2_DLPFC     \n",
       "1   0.5966142969  6.697601e-01\n",
       "2   0.5514689801  4.783039e-01\n",
       "3   0.4492788702  3.455436e-01\n",
       "4   0.3274161742  3.309872e-01\n",
       "5   0.2831464552  2.710956e-01\n",
       "6   0.1670848280  2.677333e-01\n",
       "7   0.2325497190  2.258178e-01\n",
       "8   0.1942677862  2.032803e-01\n",
       "9   0.1648362877  1.922978e-01\n",
       "10  0.2199189392  1.890445e-01\n",
       "11  0.1924667548  1.726339e-01\n",
       "12  0.1636370937  1.641348e-01\n",
       "13  0.1441783454  1.417445e-01\n",
       "14  0.0684271503  1.411943e-01\n",
       "15  0.0567823487  9.697792e-02\n",
       "16  0.0817468274  8.413090e-02\n",
       "17  0.0819585591  7.866270e-02\n",
       "18  0.0417420198  7.724111e-02\n",
       "19  0.0467268984  7.347470e-02\n",
       "20  0.0534024308  7.055794e-02\n",
       "21  0.0141405362  5.744455e-02\n",
       "22  0.0332047050  5.579154e-02\n",
       "23  0.0198561113  5.564448e-02\n",
       "24  0.0467448586  4.451792e-02\n",
       "25  0.0385789127  4.046652e-02\n",
       "26  0.0427588733  3.992396e-02\n",
       "27  0.0433597349  3.861009e-02\n",
       "28  0.0169808272  3.336106e-02\n",
       "29  0.0790665651  3.112090e-02\n",
       "30  0.0552154898  2.995090e-02\n",
       "31  0.0264374757  2.971659e-02\n",
       "32  0.0136612572  2.526308e-02\n",
       "33  0.0427156579  2.239512e-02\n",
       "34  0.0045400385  2.063175e-02\n",
       "35  0.0121919307  1.989193e-02\n",
       "36  0.0727934449  1.873582e-02\n",
       "37  0.0075786136  1.781691e-02\n",
       "38  0.0201953756  1.652698e-02\n",
       "39  0.0182852189  1.481552e-02\n",
       "40  0.0432630960  1.254345e-02\n",
       "41  0.0451788933  9.384658e-03\n",
       "42  0.0660408488  6.624460e-03\n",
       "43  0.0100096178  4.767526e-03\n",
       "44 -0.0031572714  4.744504e-03\n",
       "45 -0.0030778594  3.954703e-03\n",
       "46  0.0476752375  3.722986e-03\n",
       "47  0.0068067494  3.512762e-03\n",
       "48 -0.0016301813  1.838171e-03\n",
       "49  0.0001502235  1.080599e-03\n",
       "50 -0.0023561908  9.002934e-05\n",
       "51  0.0561882903 -1.783020e-03\n",
       "52  0.0206577980 -2.059092e-03\n",
       "53  0.0086313083 -2.293244e-03\n",
       "54  0.0200694256 -2.409436e-03\n",
       "55  0.0048525011 -3.360399e-03"
      ]
     },
     "metadata": {},
     "output_type": "display_data"
    }
   ],
   "source": [
    "working%>%filter(n_of_cs > 0)%>%select(ID,n_of_cs,rmse_ac,rmse_PCC,rmse_DLPFC,r2_ac,r2_PCC,r2_DLPFC)%>%arrange(-r2_DLPFC)"
   ]
  },
  {
   "cell_type": "code",
   "execution_count": 6,
   "metadata": {},
   "outputs": [
    {
     "name": "stderr",
     "output_type": "stream",
     "text": [
      "`stat_bin()` using `bins = 30`. Pick better value with `binwidth`.\n",
      "\n"
     ]
    },
    {
     "data": {
      "image/png": "[encoded data removed]",
      "text/plain": [
       "plot without title"
      ]
     },
     "metadata": {
      "image/png": {
       "height": 420,
       "width": 420
      }
     },
     "output_type": "display_data"
    }
   ],
   "source": [
    "working%>%select(-env,-model\n",
    "                )%>%filter(n_of_cs > 0)%>%ggplot(aes(x = r2_ac))+geom_histogram()"
   ]
  },
  {
   "cell_type": "code",
   "execution_count": 7,
   "metadata": {},
   "outputs": [
    {
     "name": "stderr",
     "output_type": "stream",
     "text": [
      "`stat_bin()` using `bins = 30`. Pick better value with `binwidth`.\n",
      "\n"
     ]
    },
    {
     "data": {
      "image/png": "[encoded data removed]",
      "text/plain": [
       "plot without title"
      ]
     },
     "metadata": {
      "image/png": {
       "height": 420,
       "width": 420
      }
     },
     "output_type": "display_data"
    }
   ],
   "source": [
    "working%>%select(-env,-model\n",
    "                )%>%filter(n_of_cs > 0)%>%ggplot(aes(x = rmse_ac))+geom_histogram()"
   ]
  },
  {
   "cell_type": "code",
   "execution_count": 8,
   "metadata": {},
   "outputs": [
    {
     "name": "stderr",
     "output_type": "stream",
     "text": [
      "`stat_bin()` using `bins = 30`. Pick better value with `binwidth`.\n",
      "\n"
     ]
    },
    {
     "data": {
      "image/png": "[encoded data removed]",
      "text/plain": [
       "plot without title"
      ]
     },
     "metadata": {
      "image/png": {
       "height": 420,
       "width": 420
      }
     },
     "output_type": "display_data"
    }
   ],
   "source": [
    "working%>%select(-env,-model\n",
    "                )%>%filter(n_of_cs > 0)%>%ggplot(aes(x = r2_PCC))+geom_histogram()"
   ]
  },
  {
   "cell_type": "code",
   "execution_count": 9,
   "metadata": {},
   "outputs": [
    {
     "name": "stderr",
     "output_type": "stream",
     "text": [
      "`stat_bin()` using `bins = 30`. Pick better value with `binwidth`.\n",
      "\n"
     ]
    },
    {
     "data": {
      "image/png": "[encoded data removed]",
      "text/plain": [
       "plot without title"
      ]
     },
     "metadata": {
      "image/png": {
       "height": 420,
       "width": 420
      }
     },
     "output_type": "display_data"
    }
   ],
   "source": [
    "working%>%select(-env,-model\n",
    "                )%>%filter(n_of_cs > 0)%>%ggplot(aes(x = r2_DLPFC))+geom_histogram()"
   ]
  },
  {
   "cell_type": "code",
   "execution_count": 10,
   "metadata": {},
   "outputs": [
    {
     "data": {
      "image/png": "[encoded data removed]",
      "text/plain": [
       "plot without title"
      ]
     },
     "metadata": {
      "image/png": {
       "height": 420,
       "width": 420
      }
     },
     "output_type": "display_data"
    }
   ],
   "source": [
    "working%>%select(-env,-model\n",
    "                )%>%filter(n_of_cs > 0)%>%ggplot(aes(x = r2_ac,y = rmse_ac))+geom_point()"
   ]
  },
  {
   "cell_type": "code",
   "execution_count": 57,
   "metadata": {},
   "outputs": [
    {
     "name": "stderr",
     "output_type": "stream",
     "text": [
      "The following object is masked from file:/home/hs3163/Project/Alz/multi_3/mv_cv_saved.RData:\n",
      "\n",
      "    output\n",
      "\n",
      "\n",
      "The following object is masked from file:/home/hs3163/Project/Alz/multi_3/mv_cv.RData (pos = 4):\n",
      "\n",
      "    output\n",
      "\n",
      "\n",
      "The following object is masked from file:/home/hs3163/Project/Alz/multi_3/mv_cv.RData (pos = 5):\n",
      "\n",
      "    output\n",
      "\n",
      "\n",
      "The following object is masked from file:/home/hs3163/Project/Alz/multi_3/mv_cv.RData (pos = 6):\n",
      "\n",
      "    output\n",
      "\n",
      "\n"
     ]
    },
    {
     "data": {
      "text/html": [
       "<table>\n",
       "<caption>A tibble: 1 × 3</caption>\n",
       "<thead>\n",
       "\t<tr><th scope=col>mean(hsq_ac)</th><th scope=col>mean(hsq_PCC)</th><th scope=col>mean(hsq_DLPFC)</th></tr>\n",
       "\t<tr><th scope=col>&lt;dbl&gt;</th><th scope=col>&lt;dbl&gt;</th><th scope=col>&lt;dbl&gt;</th></tr>\n",
       "</thead>\n",
       "<tbody>\n",
       "\t<tr><td>0.08833986</td><td>0.06048574</td><td>0.1045956</td></tr>\n",
       "</tbody>\n",
       "</table>\n"
      ],
      "text/latex": [
       "A tibble: 1 × 3\n",
       "\\begin{tabular}{lll}\n",
       " mean(hsq\\_ac) & mean(hsq\\_PCC) & mean(hsq\\_DLPFC)\\\\\n",
       " <dbl> & <dbl> & <dbl>\\\\\n",
       "\\hline\n",
       "\t 0.08833986 & 0.06048574 & 0.1045956\\\\\n",
       "\\end{tabular}\n"
      ],
      "text/markdown": [
       "\n",
       "A tibble: 1 × 3\n",
       "\n",
       "| mean(hsq_ac) &lt;dbl&gt; | mean(hsq_PCC) &lt;dbl&gt; | mean(hsq_DLPFC) &lt;dbl&gt; |\n",
       "|---|---|---|\n",
       "| 0.08833986 | 0.06048574 | 0.1045956 |\n",
       "\n"
      ],
      "text/plain": [
       "  mean(hsq_ac) mean(hsq_PCC) mean(hsq_DLPFC)\n",
       "1 0.08833986   0.06048574    0.1045956      "
      ]
     },
     "metadata": {},
     "output_type": "display_data"
    },
    {
     "data": {
      "text/html": [
       "55"
      ],
      "text/latex": [
       "55"
      ],
      "text/markdown": [
       "55"
      ],
      "text/plain": [
       "[1] 55"
      ]
     },
     "metadata": {},
     "output_type": "display_data"
    }
   ],
   "source": [
    "env = attach(\"/home/hs3163/Project/Alz/multi_3/mv_cv.RData\")\n",
    "data = env$output\n",
    "working = data%>%select(-path)\n",
    "working = working%>%mutate(\n",
    "  n_of_cs = map_dbl(model,~.x$sets$cs_index%>%length()),\n",
    "  hsq_ac = map_dbl(model,~.x$hsq[1]),\n",
    "  hsq_PCC = map_dbl(model,~.x$hsq[2]),\n",
    "  hsq_DLPFC = map_dbl(model,~.x$hsq[3]),\n",
    "  total_cs_size = map_dbl(model,(~.x$sets$cs%>%unlist()%>%length())),\n",
    "  mean_cs_size = total_cs_size/n_of_cs\n",
    ")\n",
    "working%>%select(-env,-model\n",
    "                )%>%filter(n_of_cs>0)%>%summarise(mean(hsq_ac),mean(hsq_PCC),mean(hsq_DLPFC))\n",
    "nrow(working%>%filter(n_of_cs>0))"
   ]
  },
  {
   "cell_type": "code",
   "execution_count": 49,
   "metadata": {},
   "outputs": [],
   "source": [
    "working = working%>%mutate(\n",
    "  rmse_ac = map_dbl(model,~.x$rmse[1]),\n",
    "  rmse_PCC = map_dbl(model,~.x$rmse[2]),\n",
    "  rmse_DLPFC = map_dbl(model,~.x$rmse[3]),\n",
    "  r2_ac = map_dbl(model,~.x$r2_raw[1]),\n",
    "  r2_PCC = map_dbl(model,~.x$r2_raw[2]),\n",
    "  r2_DLPFC = map_dbl(model,~.x$r2_raw[3]),\n",
    "  pval_ac = map_dbl(model,~.x$pval[1]%>%round(3)),\n",
    "  pval_PCC = map_dbl(model,~.x$pval[2]%>%round(3)),\n",
    "  pval_DLPFC = map_dbl(model,~.x$pval[3]%>%round(3)),\n",
    ")"
   ]
  },
  {
   "cell_type": "code",
   "execution_count": 61,
   "metadata": {},
   "outputs": [
    {
     "ename": "ERROR",
     "evalue": "Error in .f(.x[[i]], ...): object 'rmse_ac' not found\n",
     "output_type": "error",
     "traceback": [
      "Error in .f(.x[[i]], ...): object 'rmse_ac' not found\nTraceback:\n",
      "1. working %>% filter(n_of_cs > 0) %>% select(ID, n_of_cs, rmse_ac, \n .     rmse_PCC, rmse_DLPFC, r2_ac, r2_PCC, r2_DLPFC, pval_ac, pval_PCC, \n .     pval_DLPFC) %>% arrange(-r2_DLPFC)",
      "2. withVisible(eval(quote(`_fseq`(`_lhs`)), env, env))",
      "3. eval(quote(`_fseq`(`_lhs`)), env, env)",
      "4. eval(quote(`_fseq`(`_lhs`)), env, env)",
      "5. `_fseq`(`_lhs`)",
      "6. freduce(value, `_function_list`)",
      "7. function_list[[i]](value)",
      "8. select(., ID, n_of_cs, rmse_ac, rmse_PCC, rmse_DLPFC, r2_ac, \n .     r2_PCC, r2_DLPFC, pval_ac, pval_PCC, pval_DLPFC)",
      "9. select.data.frame(., ID, n_of_cs, rmse_ac, rmse_PCC, rmse_DLPFC, \n .     r2_ac, r2_PCC, r2_DLPFC, pval_ac, pval_PCC, pval_DLPFC)",
      "10. tidyselect::vars_select(sel_vars(.data), !!!quos(...))",
      "11. vars_select_eval(.vars, quos)",
      "12. map_if(quos, !is_helper, eval_tidy, mask)",
      "13. map(.x[sel], .f, ...)",
      "14. .f(.x[[i]], ...)"
     ]
    }
   ],
   "source": [
    "working%>%filter(n_of_cs > 0)%>%select(ID,n_of_cs,rmse_ac,rmse_PCC,rmse_DLPFC,r2_ac,r2_PCC,r2_DLPFC,pval_ac,pval_PCC,pval_DLPFC)%>%arrange(-r2_DLPFC)"
   ]
  },
  {
   "cell_type": "code",
   "execution_count": 46,
   "metadata": {},
   "outputs": [],
   "source": [
    "working = working%>%mutate(\n",
    "  rmse_ac = map_dbl(model,~.x$rmse[1]),\n",
    "  rmse_PCC = map_dbl(model,~.x$rmse[2]),\n",
    "  rmse_DLPFC = map_dbl(model,~.x$rmse[3]),\n",
    "  r2_ac = map_dbl(model,~.x$r2_raw[1]),\n",
    "  r2_PCC = map_dbl(model,~.x$r2_raw[2]),\n",
    "  r2_DLPFC = map_dbl(model,~.x$r2_raw[3]),\n",
    "  pval_ac = map_dbl(model,~.x$pval[1]%>%round(3)),\n",
    "  pval_PCC = map_dbl(model,~.x$pval[2]%>%round(3)),\n",
    "  pval_DLPFC = map_dbl(model,~.x$pval[3]%>%round(3)),\n",
    ")"
   ]
  },
  {
   "cell_type": "code",
   "execution_count": 56,
   "metadata": {},
   "outputs": [
    {
     "ename": "ERROR",
     "evalue": "Error in .f(.x[[i]], ...): object 'pval_ac' not found\n",
     "output_type": "error",
     "traceback": [
      "Error in .f(.x[[i]], ...): object 'pval_ac' not found\nTraceback:\n",
      "1. working %>% filter(n_of_cs > 0) %>% select(ID, n_of_cs, rmse_ac, \n .     rmse_PCC, rmse_DLPFC, r2_ac, r2_PCC, r2_DLPFC, pval_ac, pval_PCC, \n .     pval_DLPFC) %>% arrange(-r2_DLPFC)",
      "2. withVisible(eval(quote(`_fseq`(`_lhs`)), env, env))",
      "3. eval(quote(`_fseq`(`_lhs`)), env, env)",
      "4. eval(quote(`_fseq`(`_lhs`)), env, env)",
      "5. `_fseq`(`_lhs`)",
      "6. freduce(value, `_function_list`)",
      "7. function_list[[i]](value)",
      "8. select(., ID, n_of_cs, rmse_ac, rmse_PCC, rmse_DLPFC, r2_ac, \n .     r2_PCC, r2_DLPFC, pval_ac, pval_PCC, pval_DLPFC)",
      "9. select.data.frame(., ID, n_of_cs, rmse_ac, rmse_PCC, rmse_DLPFC, \n .     r2_ac, r2_PCC, r2_DLPFC, pval_ac, pval_PCC, pval_DLPFC)",
      "10. tidyselect::vars_select(sel_vars(.data), !!!quos(...))",
      "11. vars_select_eval(.vars, quos)",
      "12. map_if(quos, !is_helper, eval_tidy, mask)",
      "13. map(.x[sel], .f, ...)",
      "14. .f(.x[[i]], ...)"
     ]
    }
   ],
   "source": [
    "working%>%filter(n_of_cs > 0)%>%select(ID,n_of_cs,rmse_ac,rmse_PCC,rmse_DLPFC,r2_ac,r2_PCC,r2_DLPFC,pval_ac,pval_PCC,pval_DLPFC)%>%arrange(-r2_DLPFC)"
   ]
  },
  {
   "cell_type": "code",
   "execution_count": 66,
   "metadata": {},
   "outputs": [
    {
     "ename": "ERROR",
     "evalue": "Error in readRDS(\"/home/hs3163/Project/Alz/multi_3/mv.RData\"): unknown input format\n",
     "output_type": "error",
     "traceback": [
      "Error in readRDS(\"/home/hs3163/Project/Alz/multi_3/mv.RData\"): unknown input format\nTraceback:\n",
      "1. readRDS(\"/home/hs3163/Project/Alz/multi_3/mv.RData\")"
     ]
    }
   ],
   "source": [
    "readRDS(\"/home/hs3163/Project/Alz/multi_3/mv.RData\")"
   ]
  },
  {
   "cell_type": "code",
   "execution_count": 68,
   "metadata": {},
   "outputs": [
    {
     "name": "stderr",
     "output_type": "stream",
     "text": [
      "Warning message in saveRDS(env$output, \"/home/hs3163/Project/Alz/multi_3/mv.RDS\"):\n",
      "“'package:purrr' may not be available when loading”\n"
     ]
    }
   ],
   "source": [
    "saveRDS(env$output,\"/home/hs3163/Project/Alz/multi_3/mv.RDS\")"
   ]
  },
  {
   "cell_type": "code",
   "execution_count": 71,
   "metadata": {},
   "outputs": [],
   "source": [
    "A = readRDS(\"/home/hs3163/Project/Alz/multi_3/mv.RDS\")"
   ]
  },
  {
   "cell_type": "code",
   "execution_count": 72,
   "metadata": {},
   "outputs": [
    {
     "data": {
      "text/html": [
       "<style>\n",
       ".list-inline {list-style: none; margin:0; padding: 0}\n",
       ".list-inline>li {display: inline-block}\n",
       ".list-inline>li:not(:last-child)::after {content: \"\\00b7\"; padding: 0 .5ex}\n",
       "</style>\n",
       "<ol class=list-inline><li>'tbl_df'</li><li>'tbl'</li><li>'data.frame'</li></ol>\n"
      ],
      "text/latex": [
       "\\begin{enumerate*}\n",
       "\\item 'tbl\\_df'\n",
       "\\item 'tbl'\n",
       "\\item 'data.frame'\n",
       "\\end{enumerate*}\n"
      ],
      "text/markdown": [
       "1. 'tbl_df'\n",
       "2. 'tbl'\n",
       "3. 'data.frame'\n",
       "\n",
       "\n"
      ],
      "text/plain": [
       "[1] \"tbl_df\"     \"tbl\"        \"data.frame\""
      ]
     },
     "metadata": {},
     "output_type": "display_data"
    }
   ],
   "source": [
    "A%>%class"
   ]
  },
  {
   "cell_type": "code",
   "execution_count": 78,
   "metadata": {},
   "outputs": [],
   "source": [
    "a1 = readRDS(\"/home/hs3163/Project/Genome_prior/test/output/geneTpmResidualsAgeGenderAdj_rename.FL_PC3.ED.rds\")"
   ]
  },
  {
   "cell_type": "code",
   "execution_count": 79,
   "metadata": {},
   "outputs": [
    {
     "data": {
      "text/html": [
       "<style>\n",
       ".list-inline {list-style: none; margin:0; padding: 0}\n",
       ".list-inline>li {display: inline-block}\n",
       ".list-inline>li:not(:last-child)::after {content: \"\\00b7\"; padding: 0 .5ex}\n",
       "</style>\n",
       "<ol class=list-inline><li>'U'</li><li>'w'</li><li>'loglik'</li></ol>\n"
      ],
      "text/latex": [
       "\\begin{enumerate*}\n",
       "\\item 'U'\n",
       "\\item 'w'\n",
       "\\item 'loglik'\n",
       "\\end{enumerate*}\n"
      ],
      "text/markdown": [
       "1. 'U'\n",
       "2. 'w'\n",
       "3. 'loglik'\n",
       "\n",
       "\n"
      ],
      "text/plain": [
       "[1] \"U\"      \"w\"      \"loglik\""
      ]
     },
     "metadata": {},
     "output_type": "display_data"
    }
   ],
   "source": [
    "names(a1)"
   ]
  },
  {
   "cell_type": "code",
   "execution_count": 80,
   "metadata": {},
   "outputs": [
    {
     "data": {
      "text/html": [
       "-5.02875"
      ],
      "text/latex": [
       "-5.02875"
      ],
      "text/markdown": [
       "-5.02875"
      ],
      "text/plain": [
       "[1] -5.02875"
      ]
     },
     "metadata": {},
     "output_type": "display_data"
    }
   ],
   "source": [
    "a1$loglik[length(a1$loglik)]\n"
   ]
  },
  {
   "cell_type": "code",
   "execution_count": 81,
   "metadata": {},
   "outputs": [
    {
     "data": {
      "text/html": [
       "<table>\n",
       "<caption>A matrix: 6 × 2 of type chr</caption>\n",
       "<tbody>\n",
       "\t<tr><td>tFLASH</td><td>4.44289797178543e-59</td></tr>\n",
       "\t<tr><td>PCA_1 </td><td>1.64072960136479e-56</td></tr>\n",
       "\t<tr><td>PCA_2 </td><td>0                   </td></tr>\n",
       "\t<tr><td>PCA_3 </td><td>0                   </td></tr>\n",
       "\t<tr><td>tPCA  </td><td>6.2991541062655e-07 </td></tr>\n",
       "\t<tr><td>XX    </td><td>0.999999370084618   </td></tr>\n",
       "</tbody>\n",
       "</table>\n"
      ],
      "text/latex": [
       "A matrix: 6 × 2 of type chr\n",
       "\\begin{tabular}{ll}\n",
       "\t tFLASH & 4.44289797178543e-59\\\\\n",
       "\t PCA\\_1  & 1.64072960136479e-56\\\\\n",
       "\t PCA\\_2  & 0                   \\\\\n",
       "\t PCA\\_3  & 0                   \\\\\n",
       "\t tPCA   & 6.2991541062655e-07 \\\\\n",
       "\t XX     & 0.999999370084618   \\\\\n",
       "\\end{tabular}\n"
      ],
      "text/markdown": [
       "\n",
       "A matrix: 6 × 2 of type chr\n",
       "\n",
       "| tFLASH | 4.44289797178543e-59 |\n",
       "| PCA_1  | 1.64072960136479e-56 |\n",
       "| PCA_2  | 0                    |\n",
       "| PCA_3  | 0                    |\n",
       "| tPCA   | 6.2991541062655e-07  |\n",
       "| XX     | 0.999999370084618    |\n",
       "\n"
      ],
      "text/plain": [
       "     [,1]   [,2]                \n",
       "[1,] tFLASH 4.44289797178543e-59\n",
       "[2,] PCA_1  1.64072960136479e-56\n",
       "[3,] PCA_2  0                   \n",
       "[4,] PCA_3  0                   \n",
       "[5,] tPCA   6.2991541062655e-07 \n",
       "[6,] XX     0.999999370084618   "
      ]
     },
     "metadata": {},
     "output_type": "display_data"
    }
   ],
   "source": [
    "cbind(names(a1$U), a1$w)\n"
   ]
  },
  {
   "cell_type": "code",
   "execution_count": 93,
   "metadata": {},
   "outputs": [],
   "source": [
    "tol = 1E-15\n"
   ]
  },
  {
   "cell_type": "code",
   "execution_count": 94,
   "metadata": {},
   "outputs": [
    {
     "data": {
      "text/html": [
       "<style>\n",
       ".list-inline {list-style: none; margin:0; padding: 0}\n",
       ".list-inline>li {display: inline-block}\n",
       ".list-inline>li:not(:last-child)::after {content: \"\\00b7\"; padding: 0 .5ex}\n",
       "</style>\n",
       "<ol class=list-inline><li>'tPCA'</li><li>'XX'</li></ol>\n"
      ],
      "text/latex": [
       "\\begin{enumerate*}\n",
       "\\item 'tPCA'\n",
       "\\item 'XX'\n",
       "\\end{enumerate*}\n"
      ],
      "text/markdown": [
       "1. 'tPCA'\n",
       "2. 'XX'\n",
       "\n",
       "\n"
      ],
      "text/plain": [
       "[1] \"tPCA\" \"XX\"  "
      ]
     },
     "metadata": {},
     "output_type": "display_data"
    }
   ],
   "source": [
    "names(a1$U)[which(a1$w>tol)]\n"
   ]
  },
  {
   "cell_type": "code",
   "execution_count": 95,
   "metadata": {},
   "outputs": [],
   "source": [
    "plot_sharing = function(X) {\n",
    "clrs <- colorRampPalette(rev(c(\"#D73027\",\"#FC8D59\",\"#FEE090\",\"#FFFFBF\",\n",
    "                               \"#E0F3F8\",\"#91BFDB\",\"#4575B4\")))(64)\n",
    "lat <- cov2cor(X)\n",
    "lat[lower.tri(lat)] <- NA\n",
    "n <- nrow(lat)\n",
    "print(lattice::levelplot(lat[n:1,],col.regions = clrs,xlab = \"\",ylab = \"\",\n",
    "                colorkey = TRUE,at = seq(0,1,length.out = 64),\n",
    "                scales = list(cex = 0.6,x = list(rot = 45))))\n",
    "}\n"
   ]
  },
  {
   "cell_type": "markdown",
   "metadata": {},
   "source": [
    "# With mixture prior"
   ]
  },
  {
   "cell_type": "code",
   "execution_count": null,
   "metadata": {},
   "outputs": [],
   "source": [
    "nohup sos run ~/GIT/neuro-twas/Workflow/mv_susie.ipynb mv_susie    \\\n",
    "--molecular_pheno_dir \"/home/hs3163/Project/Alz/multi/molecular_phenotype_list\"   \\\n",
    "--region_list \"/home/hs3163/Project/Alz/multi/mv_susie_gene_list.txt\"  \\\n",
    "--wd \"/home/hs3163/Project/Alz/multi_mp\"  \\\n",
    "--name_prefix \"geneTpmResidualsAgeGenderAdj_rename\"  \\\n",
    "--container /mnt/mfs/statgen/containers/twas_latest.sif --impute TRUE  --job_size 1 \\\n",
    "--cv_times 100  \\\n",
    "--mixture_prior '~/Project/Genome_prior/merge/output/geneTpmResidualsAgeGenderAdj_rename.Both.flash.FL_PC3.teem.UD_ED.rds'  -J 6 -q csg -c /mnt/mfs/statgen/pbs_template/csg.yml -s build &\n",
    "\n",
    "\n",
    "\n",
    "nohup sos run ~/GIT/neuro-twas/Workflow/mv_susie.ipynb mv_susie    \\\n",
    "--molecular_pheno_dir \"/home/hs3163/Project/Alz/multi/molecular_phenotype_list\"   \\\n",
    "--region_list \"/home/hs3163/Project/Alz/multi/mv_susie_gene_list.txt\"  \\\n",
    "--wd \"/home/hs3163/Project/Alz/multi_mp_2\"  \\\n",
    "--name_prefix \"geneTpmResidualsAgeGenderAdj_rename\"  \\\n",
    "--container /mnt/mfs/statgen/containers/twas_latest.sif --impute TRUE  --job_size 1 \\\n",
    "--cv_times 100  \\\n",
    "--mixture_prior '~/Project/Genome_prior/merge/output/geneTpmResidualsAgeGenderAdj_rename.Both.flash.FL_PC3.teem.UD_ED.rds'  -J 6 -q csg -c /mnt/mfs/statgen/pbs_template/csg.yml -s build &"
   ]
  },
  {
   "cell_type": "code",
   "execution_count": 14,
   "metadata": {},
   "outputs": [],
   "source": [
    "test = working$env[[1]]"
   ]
  },
  {
   "cell_type": "code",
   "execution_count": 15,
   "metadata": {},
   "outputs": [
    {
     "data": {
      "text/plain": [
       "<environment: 0x5599c1f532d0>\n",
       "attr(,\"name\")\n",
       "[1] \"file:/home/hs3163/Project/Alz/multi_3/result/geneTpmResidualsAgeGenderAdj_rename.ENSG00000002587.mv_susie.model.cv.RData\""
      ]
     },
     "metadata": {},
     "output_type": "display_data"
    }
   ],
   "source": [
    "test"
   ]
  },
  {
   "cell_type": "code",
   "execution_count": 17,
   "metadata": {},
   "outputs": [
    {
     "data": {
      "text/html": [
       "<style>\n",
       ".dl-inline {width: auto; margin:0; padding: 0}\n",
       ".dl-inline>dt, .dl-inline>dd {float: none; width: auto; display: inline-block}\n",
       ".dl-inline>dt::after {content: \":\\0020\"; padding-right: .5ex}\n",
       ".dl-inline>dt:not(:first-of-type) {padding-left: .5ex}\n",
       "</style><dl class=dl-inline><dt>V1</dt><dd>0.679437015043579</dd><dt>V2</dt><dd>0.63631839771371</dd><dt>V3</dt><dd>0.224221442351277</dd></dl>\n"
      ],
      "text/latex": [
       "\\begin{description*}\n",
       "\\item[V1] 0.679437015043579\n",
       "\\item[V2] 0.63631839771371\n",
       "\\item[V3] 0.224221442351277\n",
       "\\end{description*}\n"
      ],
      "text/markdown": [
       "V1\n",
       ":   0.679437015043579V2\n",
       ":   0.63631839771371V3\n",
       ":   0.224221442351277\n",
       "\n"
      ],
      "text/plain": [
       "       V1        V2        V3 \n",
       "0.6794370 0.6363184 0.2242214 "
      ]
     },
     "metadata": {},
     "output_type": "display_data"
    }
   ],
   "source": [
    "test$full_model$pval"
   ]
  },
  {
   "cell_type": "code",
   "execution_count": null,
   "metadata": {},
   "outputs": [],
   "source": []
  }
 ],
 "metadata": {
  "kernelspec": {
   "display_name": "R",
   "language": "R",
   "name": "ir"
  },
  "language_info": {
   "codemirror_mode": "r",
   "file_extension": ".r",
   "mimetype": "text/x-r-source",
   "name": "R",
   "pygments_lexer": "r",
   "version": "3.6.3"
  }
 },
 "nbformat": 4,
 "nbformat_minor": 4
}
