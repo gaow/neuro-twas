{
 "cells": [
  {
   "cell_type": "code",
   "execution_count": 62,
   "metadata": {},
   "outputs": [],
   "source": [
    "# Load Packages\n",
    "library(dplyr)\n",
    "library(purrr)\n",
    "library(tibble)\n",
    "library(ggplot2)\n",
    "library(readr)\n"
   ]
  },
  {
   "cell_type": "code",
   "execution_count": null,
   "metadata": {},
   "outputs": [],
   "source": []
  },
  {
   "cell_type": "code",
   "execution_count": null,
   "metadata": {},
   "outputs": [],
   "source": []
  },
  {
   "cell_type": "code",
   "execution_count": null,
   "metadata": {},
   "outputs": [],
   "source": []
  },
  {
   "cell_type": "code",
   "execution_count": null,
   "metadata": {},
   "outputs": [],
   "source": []
  },
  {
   "cell_type": "code",
   "execution_count": null,
   "metadata": {},
   "outputs": [],
   "source": []
  },
  {
   "cell_type": "code",
   "execution_count": 38,
   "metadata": {},
   "outputs": [],
   "source": [
    "cs_gene = c(\"ENSG00000007047\" ,\"ENSG00000029725\" ,\"ENSG00000064666\" ,\"ENSG00000064687\" ,\"ENSG00000065268\" ,\"ENSG00000073008\" ,\"ENSG00000078487\" ,\"ENSG00000085514\",\n",
    " \"ENSG00000099817\" ,\"ENSG00000103496\" ,\"ENSG00000103510\" ,\"ENSG00000103549\" ,\"ENSG00000103642\" ,\"ENSG00000104228\" ,\"ENSG00000104884\" ,\"ENSG00000108523\",\n",
    " \"ENSG00000108559\", \"ENSG00000110079\", \"ENSG00000120915\", \"ENSG00000121716\", \"ENSG00000125746\", \"ENSG00000129204\", \"ENSG00000130202\", \"ENSG00000130204\",\n",
    " \"ENSG00000134463\", \"ENSG00000136717\", \"ENSG00000140416\", \"ENSG00000142252\", \"ENSG00000146828\", \"ENSG00000146830\", \"ENSG00000146833\", \"ENSG00000146834\",\n",
    " \"ENSG00000147419\", \"ENSG00000149196\", \"ENSG00000158864\", \"ENSG00000160862\", \"ENSG00000161929\", \"ENSG00000166529\", \"ENSG00000167394\", \"ENSG00000167395\",\n",
    " \"ENSG00000167840\", \"ENSG00000177051\", \"ENSG00000178226\", \"ENSG00000179344\", \"ENSG00000179846\", \"ENSG00000180448\", \"ENSG00000186567\", \"ENSG00000188186\",\n",
    " \"ENSG00000189114\", \"ENSG00000196118\", \"ENSG00000196126\", \"ENSG00000196388\", \"ENSG00000196411\", \"ENSG00000196735\", \"ENSG00000198502\", \"ENSG00000203710\",\n",
    " \"ENSG00000204267\", \"ENSG00000204301\", \"ENSG00000204516\", \"ENSG00000205710\", \"ENSG00000213420\", \"ENSG00000214309\", \"ENSG00000224389\", \"ENSG00000234906\",\n",
    " \"ENSG00000240065\", \"ENSG00000244731\", \"ENSG00000264538\")"
   ]
  },
  {
   "cell_type": "code",
   "execution_count": null,
   "metadata": {},
   "outputs": [],
   "source": []
  },
  {
   "cell_type": "code",
   "execution_count": null,
   "metadata": {},
   "outputs": [],
   "source": []
  },
  {
   "cell_type": "markdown",
   "metadata": {},
   "source": [
    "## Three tissues MV susie, Complete case and imputed"
   ]
  },
  {
   "cell_type": "code",
   "execution_count": null,
   "metadata": {},
   "outputs": [],
   "source": [
    "nohup sos run ~/GIT/neuro-twas/Workflow/mv_susie.ipynb mv_susie    --molecular_pheno_dir \"/home/hs3163/Project/Alz/multi/molecular_phenotype_list\"   --region_list \"/home/hs3163/Project/Alz/multi/mv_susie_gene_list.txt\"   --wd \"/home/hs3163/Project/Alz/multi\"   --name_prefix \"geneTpmResidualsAgeGenderAdj_rename\"   --container /mnt/mfs/statgen/containers/twas_latest.sif --impute TRUE  --job_size 1  -J 6 -q csg -c /mnt/mfs/statgen/pbs_template/csg.yml -s build &\n",
    "nohup sos run ~/GIT/neuro-twas/Workflow/mv_susie.ipynb mv_susie    --molecular_pheno_dir \"/home/hs3163/Project/Alz/multi/molecular_phenotype_list\"   --region_list \"/home/hs3163/Project/Alz/multi/mv_susie_gene_list.txt\"   --wd \"/home/hs3163/Project/Alz/multi_3\"   --name_prefix \"geneTpmResidualsAgeGenderAdj_rename\"   --container /mnt/mfs/statgen/containers/twas_latest.sif --impute TRUE  --job_size 1  -J 6 -q csg -c /mnt/mfs/statgen/pbs_template/csg.yml -s build &"
   ]
  },
  {
   "cell_type": "markdown",
   "metadata": {},
   "source": [
    "### Pairwise MV susie, Complete case and imputed"
   ]
  },
  {
   "cell_type": "code",
   "execution_count": null,
   "metadata": {},
   "outputs": [],
   "source": [
    "nohup sos run ~/GIT/neuro-twas/Workflow/mv_susie.ipynb mv_susie    --molecular_pheno_dir \"/home/hs3163/Project/Alz/multi/molecular_phenotype_list_D_A\"   --region_list \"/home/hs3163/Project/Alz/multi/mv_susie_gene_list.txt\"   --wd \"/home/hs3163/Project/Alz/mv_AC_DLPFC_Imp\"   --name_prefix \"geneTpmResidualsAgeGenderAdj_rename\"   --container /mnt/mfs/statgen/containers/twas_latest.sif --impute TRUE  --job_size 1  -J 6 -q csg -c /mnt/mfs/statgen/pbs_template/csg.yml -s build &\n",
    "nohup sos run ~/GIT/neuro-twas/Workflow/mv_susie.ipynb mv_susie    --molecular_pheno_dir \"/home/hs3163/Project/Alz/multi/molecular_phenotype_list_D_A\"   --region_list \"/home/hs3163/Project/Alz/multi/mv_susie_gene_list.txt\"   --wd \"/home/hs3163/Project/Alz/mv_AC_DLPFC\"   --name_prefix \"geneTpmResidualsAgeGenderAdj_rename\"   --container /mnt/mfs/statgen/containers/twas_latest.sif --impute FALSE  --job_size 1  -J 6 -q csg -c /mnt/mfs/statgen/pbs_template/csg.yml -s build &\n",
    "nohup sos run ~/GIT/neuro-twas/Workflow/mv_susie.ipynb mv_susie    --molecular_pheno_dir \"/home/hs3163/Project/Alz/multi/molecular_phenotype_list_P_A\"   --region_list \"/home/hs3163/Project/Alz/multi/mv_susie_gene_list.txt\"   --wd \"/home/hs3163/Project/Alz/mv_PCC_AC_Imp\"   --name_prefix \"geneTpmResidualsAgeGenderAdj_rename\"   --container /mnt/mfs/statgen/containers/twas_latest.sif --impute TRUE  --job_size 1  -J 6 -q csg -c /mnt/mfs/statgen/pbs_template/csg.yml -s build &\n",
    "nohup sos run ~/GIT/neuro-twas/Workflow/mv_susie.ipynb mv_susie    --molecular_pheno_dir \"/home/hs3163/Project/Alz/multi/molecular_phenotype_list_P_A\"   --region_list \"/home/hs3163/Project/Alz/multi/mv_susie_gene_list.txt\"   --wd \"/home/hs3163/Project/Alz/mv_PCC_AC\"   --name_prefix \"geneTpmResidualsAgeGenderAdj_rename\"   --container /mnt/mfs/statgen/containers/twas_latest.sif --impute FALSE  --job_size 1  -J 6 -q csg -c /mnt/mfs/statgen/pbs_template/csg.yml -s build &\n",
    "nohup sos run ~/GIT/neuro-twas/Workflow/mv_susie.ipynb mv_susie    --molecular_pheno_dir \"/home/hs3163/Project/Alz/multi/molecular_phenotype_list_D_P\"   --region_list \"/home/hs3163/Project/Alz/multi/mv_susie_gene_list.txt\"   --wd \"/home/hs3163/Project/Alz/mv_PCC_DLPFC_Imp\"   --name_prefix \"geneTpmResidualsAgeGenderAdj_rename\"   --container /mnt/mfs/statgen/containers/twas_latest.sif --impute TRUE  --job_size 1  -J 6 -q csg -c /mnt/mfs/statgen/pbs_template/csg.yml -s build &\n",
    "nohup sos run ~/GIT/neuro-twas/Workflow/mv_susie.ipynb mv_susie    --molecular_pheno_dir \"/home/hs3163/Project/Alz/multi/molecular_phenotype_list_D_P\"   --region_list \"/home/hs3163/Project/Alz/multi/mv_susie_gene_list.txt\"   --wd \"/home/hs3163/Project/Alz/mv_PCC_DLPFC\"   --name_prefix \"geneTpmResidualsAgeGenderAdj_rename\"   --container /mnt/mfs/statgen/containers/twas_latest.sif --impute FALSE  --job_size 1  -J 6 -q csg -c /mnt/mfs/statgen/pbs_template/csg.yml -s build &"
   ]
  },
  {
   "cell_type": "markdown",
   "metadata": {},
   "source": [
    "### For complete case analysis"
   ]
  },
  {
   "cell_type": "code",
   "execution_count": 2,
   "metadata": {},
   "outputs": [],
   "source": [
    "# All three tissues\n",
    "env = attach(\"/home/hs3163/Project/Alz/multi/mv.RData\")\n",
    "data = env$output\n",
    "working = data%>%select(-path)\n",
    "working = working%>%mutate(\n",
    "  n_of_cs = map_dbl(model,~.x$sets$cs_index%>%length()),\n",
    "  hsq_ac = map_dbl(model,~.x$hsq[1]),\n",
    "  hsq_PCC = map_dbl(model,~.x$hsq[2]),\n",
    "  hsq_DLPFC = map_dbl(model,~.x$hsq[3]),\n",
    "  total_cs_size = map_dbl(model,(~.x$sets$cs%>%unlist()%>%length())),\n",
    "  mean_cs_size = total_cs_size/n_of_cs\n",
    ")\n"
   ]
  },
  {
   "cell_type": "code",
   "execution_count": 3,
   "metadata": {},
   "outputs": [
    {
     "data": {
      "text/html": [
       "<table>\n",
       "<caption>A tibble: 1 × 3</caption>\n",
       "<thead>\n",
       "\t<tr><th scope=col>mean(hsq_ac)</th><th scope=col>mean(hsq_PCC)</th><th scope=col>mean(hsq_DLPFC)</th></tr>\n",
       "\t<tr><th scope=col>&lt;dbl&gt;</th><th scope=col>&lt;dbl&gt;</th><th scope=col>&lt;dbl&gt;</th></tr>\n",
       "</thead>\n",
       "<tbody>\n",
       "\t<tr><td>0.03320607</td><td>0.02300503</td><td>0.03949301</td></tr>\n",
       "</tbody>\n",
       "</table>\n"
      ],
      "text/latex": [
       "A tibble: 1 × 3\n",
       "\\begin{tabular}{lll}\n",
       " mean(hsq\\_ac) & mean(hsq\\_PCC) & mean(hsq\\_DLPFC)\\\\\n",
       " <dbl> & <dbl> & <dbl>\\\\\n",
       "\\hline\n",
       "\t 0.03320607 & 0.02300503 & 0.03949301\\\\\n",
       "\\end{tabular}\n"
      ],
      "text/markdown": [
       "\n",
       "A tibble: 1 × 3\n",
       "\n",
       "| mean(hsq_ac) &lt;dbl&gt; | mean(hsq_PCC) &lt;dbl&gt; | mean(hsq_DLPFC) &lt;dbl&gt; |\n",
       "|---|---|---|\n",
       "| 0.03320607 | 0.02300503 | 0.03949301 |\n",
       "\n"
      ],
      "text/plain": [
       "  mean(hsq_ac) mean(hsq_PCC) mean(hsq_DLPFC)\n",
       "1 0.03320607   0.02300503    0.03949301     "
      ]
     },
     "metadata": {},
     "output_type": "display_data"
    },
    {
     "data": {
      "text/html": [
       "67"
      ],
      "text/latex": [
       "67"
      ],
      "text/markdown": [
       "67"
      ],
      "text/plain": [
       "[1] 67"
      ]
     },
     "metadata": {},
     "output_type": "display_data"
    }
   ],
   "source": [
    "working%>%select(-env,-model\n",
    "                )%>%summarise(mean(hsq_ac),mean(hsq_PCC),mean(hsq_DLPFC))\n",
    "nrow(working%>%filter(n_of_cs>0))"
   ]
  },
  {
   "cell_type": "code",
   "execution_count": null,
   "metadata": {},
   "outputs": [],
   "source": [
    "# Attach the mv model for A and D tissues\n",
    "env_AD = attach(\"/home/hs3163/Project/Alz/mv_AC_DLPFC/mv.RData\")"
   ]
  },
  {
   "cell_type": "code",
   "execution_count": 5,
   "metadata": {},
   "outputs": [],
   "source": [
    "system('free -m')"
   ]
  },
  {
   "cell_type": "code",
   "execution_count": 11,
   "metadata": {},
   "outputs": [],
   "source": [
    "data = env_AD$output\n",
    "working = data%>%select(-path)\n",
    "working = working%>%mutate(\n",
    "  n_of_cs = map_dbl(model,~.x$sets$cs_index%>%length()),\n",
    "  hsq_ac = map_dbl(model,~.x$hsq[1]),\n",
    "  hsq_PCC = map_dbl(model,~.x$hsq[2]),\n",
    "  hsq_DLPFC = map_dbl(model,~.x$hsq[3]),\n",
    "  total_cs_size = map_dbl(model,(~.x$sets$cs%>%unlist()%>%length())),\n",
    "  mean_cs_size = total_cs_size/n_of_cs\n",
    ")"
   ]
  },
  {
   "cell_type": "code",
   "execution_count": 12,
   "metadata": {},
   "outputs": [
    {
     "data": {
      "text/html": [
       "<table>\n",
       "<caption>A tibble: 1 × 3</caption>\n",
       "<thead>\n",
       "\t<tr><th scope=col>mean(hsq_ac)</th><th scope=col>mean(hsq_PCC)</th><th scope=col>mean(hsq_DLPFC)</th></tr>\n",
       "\t<tr><th scope=col>&lt;dbl&gt;</th><th scope=col>&lt;dbl&gt;</th><th scope=col>&lt;dbl&gt;</th></tr>\n",
       "</thead>\n",
       "<tbody>\n",
       "\t<tr><td>0.03346201</td><td>0.03980544</td><td>NA</td></tr>\n",
       "</tbody>\n",
       "</table>\n"
      ],
      "text/latex": [
       "A tibble: 1 × 3\n",
       "\\begin{tabular}{lll}\n",
       " mean(hsq\\_ac) & mean(hsq\\_PCC) & mean(hsq\\_DLPFC)\\\\\n",
       " <dbl> & <dbl> & <dbl>\\\\\n",
       "\\hline\n",
       "\t 0.03346201 & 0.03980544 & NA\\\\\n",
       "\\end{tabular}\n"
      ],
      "text/markdown": [
       "\n",
       "A tibble: 1 × 3\n",
       "\n",
       "| mean(hsq_ac) &lt;dbl&gt; | mean(hsq_PCC) &lt;dbl&gt; | mean(hsq_DLPFC) &lt;dbl&gt; |\n",
       "|---|---|---|\n",
       "| 0.03346201 | 0.03980544 | NA |\n",
       "\n"
      ],
      "text/plain": [
       "  mean(hsq_ac) mean(hsq_PCC) mean(hsq_DLPFC)\n",
       "1 0.03346201   0.03980544    NA             "
      ]
     },
     "metadata": {},
     "output_type": "display_data"
    }
   ],
   "source": [
    "working%>%select(-env,-model\n",
    "                )%>%summarise(mean(hsq_ac),mean(hsq_PCC),mean(hsq_DLPFC))"
   ]
  },
  {
   "cell_type": "code",
   "execution_count": 22,
   "metadata": {},
   "outputs": [],
   "source": [
    "67"
   ]
  },
  {
   "cell_type": "code",
   "execution_count": null,
   "metadata": {},
   "outputs": [],
   "source": []
  },
  {
   "cell_type": "code",
   "execution_count": null,
   "metadata": {},
   "outputs": [],
   "source": []
  },
  {
   "cell_type": "code",
   "execution_count": 2,
   "metadata": {},
   "outputs": [],
   "source": [
    "# Attach the mv model for A and P tissues\n",
    "env_AP = attach(\"/home/hs3163/Project/Alz/mv_PCC_AC/mv.RData\")"
   ]
  },
  {
   "cell_type": "code",
   "execution_count": 3,
   "metadata": {},
   "outputs": [],
   "source": [
    "data = env_AP$output\n",
    "working = data%>%select(-path)\n",
    "working = working%>%mutate(\n",
    "  n_of_cs = map_dbl(model,~.x$sets$cs_index%>%length()),\n",
    "  hsq_ac = map_dbl(model,~.x$hsq[1]),\n",
    "  hsq_PCC = map_dbl(model,~.x$hsq[2]),\n",
    "  hsq_DLPFC = map_dbl(model,~.x$hsq[3]),\n",
    "  total_cs_size = map_dbl(model,(~.x$sets$cs%>%unlist()%>%length())),\n",
    "  mean_cs_size = total_cs_size/n_of_cs\n",
    ")"
   ]
  },
  {
   "cell_type": "code",
   "execution_count": 6,
   "metadata": {},
   "outputs": [
    {
     "data": {
      "text/html": [
       "<table>\n",
       "<caption>A tibble: 1 × 3</caption>\n",
       "<thead>\n",
       "\t<tr><th scope=col>mean(hsq_ac)</th><th scope=col>mean(hsq_PCC)</th><th scope=col>mean(hsq_DLPFC)</th></tr>\n",
       "\t<tr><th scope=col>&lt;dbl&gt;</th><th scope=col>&lt;dbl&gt;</th><th scope=col>&lt;dbl&gt;</th></tr>\n",
       "</thead>\n",
       "<tbody>\n",
       "\t<tr><td>0.1136104</td><td>0.07781428</td><td>NA</td></tr>\n",
       "</tbody>\n",
       "</table>\n"
      ],
      "text/latex": [
       "A tibble: 1 × 3\n",
       "\\begin{tabular}{lll}\n",
       " mean(hsq\\_ac) & mean(hsq\\_PCC) & mean(hsq\\_DLPFC)\\\\\n",
       " <dbl> & <dbl> & <dbl>\\\\\n",
       "\\hline\n",
       "\t 0.1136104 & 0.07781428 & NA\\\\\n",
       "\\end{tabular}\n"
      ],
      "text/markdown": [
       "\n",
       "A tibble: 1 × 3\n",
       "\n",
       "| mean(hsq_ac) &lt;dbl&gt; | mean(hsq_PCC) &lt;dbl&gt; | mean(hsq_DLPFC) &lt;dbl&gt; |\n",
       "|---|---|---|\n",
       "| 0.1136104 | 0.07781428 | NA |\n",
       "\n"
      ],
      "text/plain": [
       "  mean(hsq_ac) mean(hsq_PCC) mean(hsq_DLPFC)\n",
       "1 0.1136104    0.07781428    NA             "
      ]
     },
     "metadata": {},
     "output_type": "display_data"
    },
    {
     "data": {
      "text/html": [
       "51"
      ],
      "text/latex": [
       "51"
      ],
      "text/markdown": [
       "51"
      ],
      "text/plain": [
       "[1] 51"
      ]
     },
     "metadata": {},
     "output_type": "display_data"
    }
   ],
   "source": [
    "working%>%select(-env,-model\n",
    "                )%>%filter(n_of_cs>0)%>%summarise(mean(hsq_ac),mean(hsq_PCC),mean(hsq_DLPFC))\n",
    "nrow(working%>%filter(n_of_cs>0))"
   ]
  },
  {
   "cell_type": "code",
   "execution_count": 1,
   "metadata": {},
   "outputs": [
    {
     "name": "stderr",
     "output_type": "stream",
     "text": [
      "Attempting to load the environment ‘package:purrr’\n",
      "\n"
     ]
    }
   ],
   "source": [
    "# Attach the mv model for D and P tissues\n",
    "env_DP = attach(\"/home/hs3163/Project/Alz/mv_PCC_DLPFC/mv.RData\")"
   ]
  },
  {
   "cell_type": "code",
   "execution_count": 8,
   "metadata": {},
   "outputs": [],
   "source": [
    "data = env_DP$output\n",
    "working = data%>%select(-path)\n",
    "working = working%>%mutate(\n",
    "  n_of_cs = map_dbl(model,~.x$sets$cs_index%>%length()),\n",
    "  hsq_PCC = map_dbl(model,~.x$hsq[1]),\n",
    "  hsq_DLPFC = map_dbl(model,~.x$hsq[2]),\n",
    "  total_cs_size = map_dbl(model,(~.x$sets$cs%>%unlist()%>%length())),\n",
    "  mean_cs_size = total_cs_size/n_of_cs\n",
    ")"
   ]
  },
  {
   "cell_type": "code",
   "execution_count": 7,
   "metadata": {},
   "outputs": [
    {
     "data": {
      "text/html": [
       "<table>\n",
       "<caption>A tibble: 1 × 2</caption>\n",
       "<thead>\n",
       "\t<tr><th scope=col>mean(hsq_PCC)</th><th scope=col>mean(hsq_DLPFC)</th></tr>\n",
       "\t<tr><th scope=col>&lt;dbl&gt;</th><th scope=col>&lt;dbl&gt;</th></tr>\n",
       "</thead>\n",
       "<tbody>\n",
       "\t<tr><td>0.06690963</td><td>0.1167358</td></tr>\n",
       "</tbody>\n",
       "</table>\n"
      ],
      "text/latex": [
       "A tibble: 1 × 2\n",
       "\\begin{tabular}{ll}\n",
       " mean(hsq\\_PCC) & mean(hsq\\_DLPFC)\\\\\n",
       " <dbl> & <dbl>\\\\\n",
       "\\hline\n",
       "\t 0.06690963 & 0.1167358\\\\\n",
       "\\end{tabular}\n"
      ],
      "text/markdown": [
       "\n",
       "A tibble: 1 × 2\n",
       "\n",
       "| mean(hsq_PCC) &lt;dbl&gt; | mean(hsq_DLPFC) &lt;dbl&gt; |\n",
       "|---|---|\n",
       "| 0.06690963 | 0.1167358 |\n",
       "\n"
      ],
      "text/plain": [
       "  mean(hsq_PCC) mean(hsq_DLPFC)\n",
       "1 0.06690963    0.1167358      "
      ]
     },
     "metadata": {},
     "output_type": "display_data"
    },
    {
     "data": {
      "text/html": [
       "51"
      ],
      "text/latex": [
       "51"
      ],
      "text/markdown": [
       "51"
      ],
      "text/plain": [
       "[1] 51"
      ]
     },
     "metadata": {},
     "output_type": "display_data"
    }
   ],
   "source": [
    "working%>%select(-env,-model\n",
    "                )%>%filter(n_of_cs>0)%>%summarise(mean(hsq_PCC),mean(hsq_DLPFC))\n",
    "nrow(working%>%filter(n_of_cs>0))"
   ]
  },
  {
   "cell_type": "code",
   "execution_count": null,
   "metadata": {},
   "outputs": [],
   "source": []
  },
  {
   "cell_type": "markdown",
   "metadata": {},
   "source": [
    "### For imputed"
   ]
  },
  {
   "cell_type": "code",
   "execution_count": 2,
   "metadata": {},
   "outputs": [
    {
     "data": {
      "text/html": [
       "<table>\n",
       "<caption>A tibble: 1 × 3</caption>\n",
       "<thead>\n",
       "\t<tr><th scope=col>mean(hsq_ac)</th><th scope=col>mean(hsq_PCC)</th><th scope=col>mean(hsq_DLPFC)</th></tr>\n",
       "\t<tr><th scope=col>&lt;dbl&gt;</th><th scope=col>&lt;dbl&gt;</th><th scope=col>&lt;dbl&gt;</th></tr>\n",
       "</thead>\n",
       "<tbody>\n",
       "\t<tr><td>0.08833986</td><td>0.06048574</td><td>0.1045956</td></tr>\n",
       "</tbody>\n",
       "</table>\n"
      ],
      "text/latex": [
       "A tibble: 1 × 3\n",
       "\\begin{tabular}{lll}\n",
       " mean(hsq\\_ac) & mean(hsq\\_PCC) & mean(hsq\\_DLPFC)\\\\\n",
       " <dbl> & <dbl> & <dbl>\\\\\n",
       "\\hline\n",
       "\t 0.08833986 & 0.06048574 & 0.1045956\\\\\n",
       "\\end{tabular}\n"
      ],
      "text/markdown": [
       "\n",
       "A tibble: 1 × 3\n",
       "\n",
       "| mean(hsq_ac) &lt;dbl&gt; | mean(hsq_PCC) &lt;dbl&gt; | mean(hsq_DLPFC) &lt;dbl&gt; |\n",
       "|---|---|---|\n",
       "| 0.08833986 | 0.06048574 | 0.1045956 |\n",
       "\n"
      ],
      "text/plain": [
       "  mean(hsq_ac) mean(hsq_PCC) mean(hsq_DLPFC)\n",
       "1 0.08833986   0.06048574    0.1045956      "
      ]
     },
     "metadata": {},
     "output_type": "display_data"
    },
    {
     "data": {
      "text/html": [
       "55"
      ],
      "text/latex": [
       "55"
      ],
      "text/markdown": [
       "55"
      ],
      "text/plain": [
       "[1] 55"
      ]
     },
     "metadata": {},
     "output_type": "display_data"
    }
   ],
   "source": [
    "# All three tissues\n",
    "env = attach(\"/home/hs3163/Project/Alz/multi_3/mv.RData\")\n",
    "data = env$output\n",
    "working = data%>%select(-path)\n",
    "working = working%>%mutate(\n",
    "  n_of_cs = map_dbl(model,~.x$sets$cs_index%>%length()),\n",
    "  hsq_ac = map_dbl(model,~.x$hsq[1]),\n",
    "  hsq_PCC = map_dbl(model,~.x$hsq[2]),\n",
    "  hsq_DLPFC = map_dbl(model,~.x$hsq[3]),\n",
    "  total_cs_size = map_dbl(model,(~.x$sets$cs%>%unlist()%>%length())),\n",
    "  mean_cs_size = total_cs_size/n_of_cs\n",
    ")\n",
    "working%>%select(-env,-model\n",
    "                )%>%filter(n_of_cs>0)%>%summarise(mean(hsq_ac),mean(hsq_PCC),mean(hsq_DLPFC))\n",
    "nrow(working%>%filter(n_of_cs>0))"
   ]
  },
  {
   "cell_type": "code",
   "execution_count": 3,
   "metadata": {},
   "outputs": [
    {
     "data": {
      "image/png": "[encoded data removed]",
      "text/plain": [
       "plot without title"
      ]
     },
     "metadata": {
      "image/png": {
       "height": 420,
       "width": 420
      }
     },
     "output_type": "display_data"
    }
   ],
   "source": [
    "working%>%select(-env,-model\n",
    "                )%>%filter(n_of_cs > 0)%>%ggplot(aes(x = hsq_PCC))+geom_density()"
   ]
  },
  {
   "cell_type": "code",
   "execution_count": 4,
   "metadata": {},
   "outputs": [
    {
     "data": {
      "image/png": "[encoded data removed]",
      "text/plain": [
       "plot without title"
      ]
     },
     "metadata": {
      "image/png": {
       "height": 420,
       "width": 420
      }
     },
     "output_type": "display_data"
    }
   ],
   "source": [
    "working%>%select(-env,-model\n",
    "                )%>%filter(n_of_cs > 0)%>%ggplot(aes(x = hsq_ac))+geom_density()"
   ]
  },
  {
   "cell_type": "code",
   "execution_count": 5,
   "metadata": {},
   "outputs": [
    {
     "data": {
      "image/png": "[encoded data removed]",
      "text/plain": [
       "plot without title"
      ]
     },
     "metadata": {
      "image/png": {
       "height": 420,
       "width": 420
      }
     },
     "output_type": "display_data"
    }
   ],
   "source": [
    "working%>%select(-env,-model\n",
    "                )%>%filter(n_of_cs > 0)%>%ggplot(aes(x = hsq_DLPFC))+geom_density()"
   ]
  },
  {
   "cell_type": "markdown",
   "metadata": {},
   "source": [
    "### AD"
   ]
  },
  {
   "cell_type": "code",
   "execution_count": 2,
   "metadata": {},
   "outputs": [
    {
     "ename": "ERROR",
     "evalue": "Error in eval(expr, envir, enclos): object 'env_AD' not found\n",
     "output_type": "error",
     "traceback": [
      "Error in eval(expr, envir, enclos): object 'env_AD' not found\nTraceback:\n"
     ]
    }
   ],
   "source": [
    "# Attach the mv model for A and D tissues\n",
    "env_ADI = attach(\"/home/hs3163/Project/Alz/mv_AC_DLPFC_Imp/mv.RData\")"
   ]
  },
  {
   "cell_type": "code",
   "execution_count": 4,
   "metadata": {},
   "outputs": [
    {
     "data": {
      "text/html": [
       "<table>\n",
       "<caption>A tibble: 1 × 2</caption>\n",
       "<thead>\n",
       "\t<tr><th scope=col>mean(hsq_ac)</th><th scope=col>mean(hsq_DLPFC)</th></tr>\n",
       "\t<tr><th scope=col>&lt;dbl&gt;</th><th scope=col>&lt;dbl&gt;</th></tr>\n",
       "</thead>\n",
       "<tbody>\n",
       "\t<tr><td>0.08744242</td><td>0.1040336</td></tr>\n",
       "</tbody>\n",
       "</table>\n"
      ],
      "text/latex": [
       "A tibble: 1 × 2\n",
       "\\begin{tabular}{ll}\n",
       " mean(hsq\\_ac) & mean(hsq\\_DLPFC)\\\\\n",
       " <dbl> & <dbl>\\\\\n",
       "\\hline\n",
       "\t 0.08744242 & 0.1040336\\\\\n",
       "\\end{tabular}\n"
      ],
      "text/markdown": [
       "\n",
       "A tibble: 1 × 2\n",
       "\n",
       "| mean(hsq_ac) &lt;dbl&gt; | mean(hsq_DLPFC) &lt;dbl&gt; |\n",
       "|---|---|\n",
       "| 0.08744242 | 0.1040336 |\n",
       "\n"
      ],
      "text/plain": [
       "  mean(hsq_ac) mean(hsq_DLPFC)\n",
       "1 0.08744242   0.1040336      "
      ]
     },
     "metadata": {},
     "output_type": "display_data"
    },
    {
     "data": {
      "text/html": [
       "56"
      ],
      "text/latex": [
       "56"
      ],
      "text/markdown": [
       "56"
      ],
      "text/plain": [
       "[1] 56"
      ]
     },
     "metadata": {},
     "output_type": "display_data"
    }
   ],
   "source": [
    "data = env_ADI$output\n",
    "working = data%>%select(-path)\n",
    "working = working%>%mutate(\n",
    "  n_of_cs = map_dbl(model,~.x$sets$cs_index%>%length()),\n",
    "  hsq_ac = map_dbl(model,~.x$hsq[1]),\n",
    "  hsq_DLPFC = map_dbl(model,~.x$hsq[2]),\n",
    "  total_cs_size = map_dbl(model,(~.x$sets$cs%>%unlist()%>%length())),\n",
    "  mean_cs_size = total_cs_size/n_of_cs\n",
    ")\n",
    "working%>%select(-env,-model\n",
    "                )%>%filter(n_of_cs>0)%>%summarise(mean(hsq_ac),mean(hsq_DLPFC))\n",
    "nrow(working%>%filter(n_of_cs>0))"
   ]
  },
  {
   "cell_type": "markdown",
   "metadata": {},
   "source": [
    "### AP"
   ]
  },
  {
   "cell_type": "code",
   "execution_count": 2,
   "metadata": {},
   "outputs": [
    {
     "data": {
      "text/html": [
       "<table>\n",
       "<caption>A tibble: 1 × 2</caption>\n",
       "<thead>\n",
       "\t<tr><th scope=col>mean(hsq_ac)</th><th scope=col>mean(hsq_DLPFC)</th></tr>\n",
       "\t<tr><th scope=col>&lt;dbl&gt;</th><th scope=col>&lt;dbl&gt;</th></tr>\n",
       "</thead>\n",
       "<tbody>\n",
       "\t<tr><td>0.1155415</td><td>0.07909353</td></tr>\n",
       "</tbody>\n",
       "</table>\n"
      ],
      "text/latex": [
       "A tibble: 1 × 2\n",
       "\\begin{tabular}{ll}\n",
       " mean(hsq\\_ac) & mean(hsq\\_DLPFC)\\\\\n",
       " <dbl> & <dbl>\\\\\n",
       "\\hline\n",
       "\t 0.1155415 & 0.07909353\\\\\n",
       "\\end{tabular}\n"
      ],
      "text/markdown": [
       "\n",
       "A tibble: 1 × 2\n",
       "\n",
       "| mean(hsq_ac) &lt;dbl&gt; | mean(hsq_DLPFC) &lt;dbl&gt; |\n",
       "|---|---|\n",
       "| 0.1155415 | 0.07909353 |\n",
       "\n"
      ],
      "text/plain": [
       "  mean(hsq_ac) mean(hsq_DLPFC)\n",
       "1 0.1155415    0.07909353     "
      ]
     },
     "metadata": {},
     "output_type": "display_data"
    },
    {
     "data": {
      "text/html": [
       "49"
      ],
      "text/latex": [
       "49"
      ],
      "text/markdown": [
       "49"
      ],
      "text/plain": [
       "[1] 49"
      ]
     },
     "metadata": {},
     "output_type": "display_data"
    }
   ],
   "source": [
    "env_API = attach(\"/home/hs3163/Project/Alz/mv_PCC_AC_Imp/mv.RData\")\n"
   ]
  },
  {
   "cell_type": "code",
   "execution_count": 3,
   "metadata": {},
   "outputs": [
    {
     "data": {
      "text/html": [
       "<table>\n",
       "<caption>A tibble: 1 × 2</caption>\n",
       "<thead>\n",
       "\t<tr><th scope=col>mean(hsq_ac)</th><th scope=col>mean(hsq_pcc)</th></tr>\n",
       "\t<tr><th scope=col>&lt;dbl&gt;</th><th scope=col>&lt;dbl&gt;</th></tr>\n",
       "</thead>\n",
       "<tbody>\n",
       "\t<tr><td>0.1155415</td><td>0.07909353</td></tr>\n",
       "</tbody>\n",
       "</table>\n"
      ],
      "text/latex": [
       "A tibble: 1 × 2\n",
       "\\begin{tabular}{ll}\n",
       " mean(hsq\\_ac) & mean(hsq\\_pcc)\\\\\n",
       " <dbl> & <dbl>\\\\\n",
       "\\hline\n",
       "\t 0.1155415 & 0.07909353\\\\\n",
       "\\end{tabular}\n"
      ],
      "text/markdown": [
       "\n",
       "A tibble: 1 × 2\n",
       "\n",
       "| mean(hsq_ac) &lt;dbl&gt; | mean(hsq_pcc) &lt;dbl&gt; |\n",
       "|---|---|\n",
       "| 0.1155415 | 0.07909353 |\n",
       "\n"
      ],
      "text/plain": [
       "  mean(hsq_ac) mean(hsq_pcc)\n",
       "1 0.1155415    0.07909353   "
      ]
     },
     "metadata": {},
     "output_type": "display_data"
    },
    {
     "data": {
      "text/html": [
       "49"
      ],
      "text/latex": [
       "49"
      ],
      "text/markdown": [
       "49"
      ],
      "text/plain": [
       "[1] 49"
      ]
     },
     "metadata": {},
     "output_type": "display_data"
    }
   ],
   "source": [
    "data = env_API$output\n",
    "working = data%>%select(-path)\n",
    "working = working%>%mutate(\n",
    "  n_of_cs = map_dbl(model,~.x$sets$cs_index%>%length()),\n",
    "  hsq_ac = map_dbl(model,~.x$hsq[1]),\n",
    "  hsq_pcc = map_dbl(model,~.x$hsq[2]),\n",
    "  total_cs_size = map_dbl(model,(~.x$sets$cs%>%unlist()%>%length())),\n",
    "  mean_cs_size = total_cs_size/n_of_cs\n",
    ")\n",
    "working%>%select(-env,-model\n",
    "                )%>%filter(n_of_cs>0)%>%summarise(mean(hsq_ac),mean(hsq_pcc))\n",
    "nrow(working%>%filter(n_of_cs>0))"
   ]
  },
  {
   "cell_type": "markdown",
   "metadata": {},
   "source": [
    "### DP"
   ]
  },
  {
   "cell_type": "code",
   "execution_count": 2,
   "metadata": {},
   "outputs": [
    {
     "data": {
      "text/html": [
       "<table>\n",
       "<caption>A tibble: 1 × 2</caption>\n",
       "<thead>\n",
       "\t<tr><th scope=col>mean(hsq_PCC)</th><th scope=col>mean(hsq_DLPFC)</th></tr>\n",
       "\t<tr><th scope=col>&lt;dbl&gt;</th><th scope=col>&lt;dbl&gt;</th></tr>\n",
       "</thead>\n",
       "<tbody>\n",
       "\t<tr><td>0.07111889</td><td>0.1217023</td></tr>\n",
       "</tbody>\n",
       "</table>\n"
      ],
      "text/latex": [
       "A tibble: 1 × 2\n",
       "\\begin{tabular}{ll}\n",
       " mean(hsq\\_PCC) & mean(hsq\\_DLPFC)\\\\\n",
       " <dbl> & <dbl>\\\\\n",
       "\\hline\n",
       "\t 0.07111889 & 0.1217023\\\\\n",
       "\\end{tabular}\n"
      ],
      "text/markdown": [
       "\n",
       "A tibble: 1 × 2\n",
       "\n",
       "| mean(hsq_PCC) &lt;dbl&gt; | mean(hsq_DLPFC) &lt;dbl&gt; |\n",
       "|---|---|\n",
       "| 0.07111889 | 0.1217023 |\n",
       "\n"
      ],
      "text/plain": [
       "  mean(hsq_PCC) mean(hsq_DLPFC)\n",
       "1 0.07111889    0.1217023      "
      ]
     },
     "metadata": {},
     "output_type": "display_data"
    },
    {
     "data": {
      "text/html": [
       "48"
      ],
      "text/latex": [
       "48"
      ],
      "text/markdown": [
       "48"
      ],
      "text/plain": [
       "[1] 48"
      ]
     },
     "metadata": {},
     "output_type": "display_data"
    }
   ],
   "source": [
    "env_PDI = attach(\"/home/hs3163/Project/Alz/mv_PCC_DLPFC_Imp/mv.RData\")\n",
    "data = env_PDI$output\n",
    "working = data%>%select(-path)\n",
    "working = working%>%mutate(\n",
    "  n_of_cs = map_dbl(model,~.x$sets$cs_index%>%length()),\n",
    "  hsq_DLPFC = map_dbl(model,~.x$hsq[2]),\n",
    "  hsq_PCC = map_dbl(model,~.x$hsq[1]),\n",
    "  total_cs_size = map_dbl(model,(~.x$sets$cs%>%unlist()%>%length())),\n",
    "  mean_cs_size = total_cs_size/n_of_cs\n",
    ")\n",
    "working%>%select(-env,-model\n",
    "                )%>%filter(n_of_cs>0)%>%summarise(mean(hsq_PCC),mean(hsq_DLPFC))\n",
    "nrow(working%>%filter(n_of_cs>0))"
   ]
  },
  {
   "cell_type": "code",
   "execution_count": 7,
   "metadata": {},
   "outputs": [
    {
     "data": {
      "text/html": [
       "<table>\n",
       "<caption>A spec_tbl_df: 7 × 7</caption>\n",
       "<thead>\n",
       "\t<tr><th scope=col>ID</th><th scope=col>tb_name</th><th scope=col>n_of_cs</th><th scope=col>hsq_DLPFC</th><th scope=col>hsq_PCC</th><th scope=col>total_cs_size</th><th scope=col>mean_cs_size</th></tr>\n",
       "\t<tr><th scope=col>&lt;chr&gt;</th><th scope=col>&lt;chr&gt;</th><th scope=col>&lt;dbl&gt;</th><th scope=col>&lt;dbl&gt;</th><th scope=col>&lt;dbl&gt;</th><th scope=col>&lt;dbl&gt;</th><th scope=col>&lt;dbl&gt;</th></tr>\n",
       "</thead>\n",
       "<tbody>\n",
       "\t<tr><td>ENSG00000065268</td><td>m_ENSG00000065268</td><td>1</td><td>0.05631941</td><td>0.1177265</td><td>  4</td><td> 4.00000</td></tr>\n",
       "\t<tr><td>ENSG00000121716</td><td>m_ENSG00000121716</td><td>1</td><td>0.26259742</td><td>0.1440450</td><td> 22</td><td>22.00000</td></tr>\n",
       "\t<tr><td>ENSG00000179344</td><td>m_ENSG00000179344</td><td>3</td><td>0.61252987</td><td>0.3938677</td><td>139</td><td>46.33333</td></tr>\n",
       "\t<tr><td>ENSG00000196126</td><td>m_ENSG00000196126</td><td>2</td><td>0.50325317</td><td>0.3575756</td><td>117</td><td>58.50000</td></tr>\n",
       "\t<tr><td>ENSG00000196735</td><td>m_ENSG00000196735</td><td>1</td><td>0.27518094</td><td>0.1948107</td><td> 65</td><td>65.00000</td></tr>\n",
       "\t<tr><td>ENSG00000198502</td><td>m_ENSG00000198502</td><td>3</td><td>0.69739148</td><td>0.3967206</td><td> 90</td><td>30.00000</td></tr>\n",
       "\t<tr><td>ENSG00000264538</td><td>m_ENSG00000264538</td><td>1</td><td>0.25274487</td><td>0.1236006</td><td>  7</td><td> 7.00000</td></tr>\n",
       "</tbody>\n",
       "</table>\n"
      ],
      "text/latex": [
       "A spec\\_tbl\\_df: 7 × 7\n",
       "\\begin{tabular}{lllllll}\n",
       " ID & tb\\_name & n\\_of\\_cs & hsq\\_DLPFC & hsq\\_PCC & total\\_cs\\_size & mean\\_cs\\_size\\\\\n",
       " <chr> & <chr> & <dbl> & <dbl> & <dbl> & <dbl> & <dbl>\\\\\n",
       "\\hline\n",
       "\t ENSG00000065268 & m\\_ENSG00000065268 & 1 & 0.05631941 & 0.1177265 &   4 &  4.00000\\\\\n",
       "\t ENSG00000121716 & m\\_ENSG00000121716 & 1 & 0.26259742 & 0.1440450 &  22 & 22.00000\\\\\n",
       "\t ENSG00000179344 & m\\_ENSG00000179344 & 3 & 0.61252987 & 0.3938677 & 139 & 46.33333\\\\\n",
       "\t ENSG00000196126 & m\\_ENSG00000196126 & 2 & 0.50325317 & 0.3575756 & 117 & 58.50000\\\\\n",
       "\t ENSG00000196735 & m\\_ENSG00000196735 & 1 & 0.27518094 & 0.1948107 &  65 & 65.00000\\\\\n",
       "\t ENSG00000198502 & m\\_ENSG00000198502 & 3 & 0.69739148 & 0.3967206 &  90 & 30.00000\\\\\n",
       "\t ENSG00000264538 & m\\_ENSG00000264538 & 1 & 0.25274487 & 0.1236006 &   7 &  7.00000\\\\\n",
       "\\end{tabular}\n"
      ],
      "text/markdown": [
       "\n",
       "A spec_tbl_df: 7 × 7\n",
       "\n",
       "| ID &lt;chr&gt; | tb_name &lt;chr&gt; | n_of_cs &lt;dbl&gt; | hsq_DLPFC &lt;dbl&gt; | hsq_PCC &lt;dbl&gt; | total_cs_size &lt;dbl&gt; | mean_cs_size &lt;dbl&gt; |\n",
       "|---|---|---|---|---|---|---|\n",
       "| ENSG00000065268 | m_ENSG00000065268 | 1 | 0.05631941 | 0.1177265 |   4 |  4.00000 |\n",
       "| ENSG00000121716 | m_ENSG00000121716 | 1 | 0.26259742 | 0.1440450 |  22 | 22.00000 |\n",
       "| ENSG00000179344 | m_ENSG00000179344 | 3 | 0.61252987 | 0.3938677 | 139 | 46.33333 |\n",
       "| ENSG00000196126 | m_ENSG00000196126 | 2 | 0.50325317 | 0.3575756 | 117 | 58.50000 |\n",
       "| ENSG00000196735 | m_ENSG00000196735 | 1 | 0.27518094 | 0.1948107 |  65 | 65.00000 |\n",
       "| ENSG00000198502 | m_ENSG00000198502 | 3 | 0.69739148 | 0.3967206 |  90 | 30.00000 |\n",
       "| ENSG00000264538 | m_ENSG00000264538 | 1 | 0.25274487 | 0.1236006 |   7 |  7.00000 |\n",
       "\n"
      ],
      "text/plain": [
       "  ID              tb_name           n_of_cs hsq_DLPFC  hsq_PCC   total_cs_size\n",
       "1 ENSG00000065268 m_ENSG00000065268 1       0.05631941 0.1177265   4          \n",
       "2 ENSG00000121716 m_ENSG00000121716 1       0.26259742 0.1440450  22          \n",
       "3 ENSG00000179344 m_ENSG00000179344 3       0.61252987 0.3938677 139          \n",
       "4 ENSG00000196126 m_ENSG00000196126 2       0.50325317 0.3575756 117          \n",
       "5 ENSG00000196735 m_ENSG00000196735 1       0.27518094 0.1948107  65          \n",
       "6 ENSG00000198502 m_ENSG00000198502 3       0.69739148 0.3967206  90          \n",
       "7 ENSG00000264538 m_ENSG00000264538 1       0.25274487 0.1236006   7          \n",
       "  mean_cs_size\n",
       "1  4.00000    \n",
       "2 22.00000    \n",
       "3 46.33333    \n",
       "4 58.50000    \n",
       "5 65.00000    \n",
       "6 30.00000    \n",
       "7  7.00000    "
      ]
     },
     "metadata": {},
     "output_type": "display_data"
    }
   ],
   "source": [
    "working%>%select(-env,-model\n",
    "                )%>%filter(hsq_PCC>0.1)"
   ]
  },
  {
   "cell_type": "code",
   "execution_count": 11,
   "metadata": {},
   "outputs": [
    {
     "data": {
      "image/png": "[encoded data removed]",
      "text/plain": [
       "plot without title"
      ]
     },
     "metadata": {
      "image/png": {
       "height": 420,
       "width": 420
      }
     },
     "output_type": "display_data"
    }
   ],
   "source": [
    "working%>%select(-env,-model\n",
    "                )%>%filter(n_of_cs > 0)%>%ggplot(aes(x = hsq_PCC))+geom_density()"
   ]
  },
  {
   "cell_type": "code",
   "execution_count": 12,
   "metadata": {},
   "outputs": [
    {
     "data": {
      "image/png": "[encoded data removed]",
      "text/plain": [
       "plot without title"
      ]
     },
     "metadata": {
      "image/png": {
       "height": 420,
       "width": 420
      }
     },
     "output_type": "display_data"
    }
   ],
   "source": [
    "working%>%select(-env,-model\n",
    "                )%>%filter(n_of_cs > 0)%>%ggplot(aes(x = hsq_DLPFC))+geom_density()"
   ]
  },
  {
   "cell_type": "markdown",
   "metadata": {},
   "source": [
    "## MV susie with cross validation"
   ]
  },
  {
   "cell_type": "code",
   "execution_count": 8,
   "metadata": {},
   "outputs": [],
   "source": [
    "nohup sos run ~/GIT/neuro-twas/Workflow/mv_susie.ipynb mv_susie_cv    --molecular_pheno_dir \"/home/hs3163/Project/Alz/multi/molecular_phenotype_list\"   --region_list \"/home/hs3163/Project/Alz/multi/mv_susie_gene_list.txt\"   --wd \"/home/hs3163/Project/Alz/multi\"   --name_prefix \"geneTpmResidualsAgeGenderAdj_rename\"  \n",
    "--container /mnt/mfs/statgen/containers/twas_latest.sif \n",
    "--impute FALSE  --job_size 1  -J 6 -q csg -c /mnt/mfs/statgen/pbs_template/csg.yml -s build &\n",
    "\n",
    "nohup sos run ~/GIT/neuro-twas/Workflow/mv_susie.ipynb mv_susie_cv    --molecular_pheno_dir \"/home/hs3163/Project/Alz/multi/molecular_phenotype_list\"   --region_list \"/home/hs3163/Project/Alz/multi/mv_susie_gene_list.txt\"   --wd \"/home/hs3163/Project/Alz/multi\"   --name_prefix \"geneTpmResidualsAgeGenderAdj_rename\"   --container /mnt/mfs/statgen/containers/twas_latest.sif --impute TRUE --job_size 1  -J 100 -q csg -c /mnt/mfs/statgen/pbs_template/csg.yml -s build &"
   ]
  },
  {
   "cell_type": "code",
   "execution_count": 52,
   "metadata": {},
   "outputs": [
    {
     "name": "stderr",
     "output_type": "stream",
     "text": [
      "The following object is masked from file:/home/hs3163/Project/Alz/multi_3/mv_cv.RData (pos = 3):\n",
      "\n",
      "    output\n",
      "\n",
      "\n",
      "The following object is masked from file:/home/hs3163/Project/Alz/multi_3/mv_cv.RData (pos = 4):\n",
      "\n",
      "    output\n",
      "\n",
      "\n",
      "The following object is masked from file:/home/hs3163/Project/Alz/multi_3/mv_cv.RData (pos = 5):\n",
      "\n",
      "    output\n",
      "\n",
      "\n"
     ]
    },
    {
     "data": {
      "text/html": [
       "<table>\n",
       "<caption>A tibble: 1 × 3</caption>\n",
       "<thead>\n",
       "\t<tr><th scope=col>mean(hsq_ac)</th><th scope=col>mean(hsq_PCC)</th><th scope=col>mean(hsq_DLPFC)</th></tr>\n",
       "\t<tr><th scope=col>&lt;dbl&gt;</th><th scope=col>&lt;dbl&gt;</th><th scope=col>&lt;dbl&gt;</th></tr>\n",
       "</thead>\n",
       "<tbody>\n",
       "\t<tr><td>0.08833986</td><td>0.06048574</td><td>0.1045956</td></tr>\n",
       "</tbody>\n",
       "</table>\n"
      ],
      "text/latex": [
       "A tibble: 1 × 3\n",
       "\\begin{tabular}{lll}\n",
       " mean(hsq\\_ac) & mean(hsq\\_PCC) & mean(hsq\\_DLPFC)\\\\\n",
       " <dbl> & <dbl> & <dbl>\\\\\n",
       "\\hline\n",
       "\t 0.08833986 & 0.06048574 & 0.1045956\\\\\n",
       "\\end{tabular}\n"
      ],
      "text/markdown": [
       "\n",
       "A tibble: 1 × 3\n",
       "\n",
       "| mean(hsq_ac) &lt;dbl&gt; | mean(hsq_PCC) &lt;dbl&gt; | mean(hsq_DLPFC) &lt;dbl&gt; |\n",
       "|---|---|---|\n",
       "| 0.08833986 | 0.06048574 | 0.1045956 |\n",
       "\n"
      ],
      "text/plain": [
       "  mean(hsq_ac) mean(hsq_PCC) mean(hsq_DLPFC)\n",
       "1 0.08833986   0.06048574    0.1045956      "
      ]
     },
     "metadata": {},
     "output_type": "display_data"
    },
    {
     "data": {
      "text/html": [
       "55"
      ],
      "text/latex": [
       "55"
      ],
      "text/markdown": [
       "55"
      ],
      "text/plain": [
       "[1] 55"
      ]
     },
     "metadata": {},
     "output_type": "display_data"
    }
   ],
   "source": [
    "# All three tissues with imputed\n",
    "env = attach(\"/home/hs3163/Project/Alz/multi_3/mv_cv_saved.RData\")\n",
    "data = env$output\n",
    "working = data%>%select(-path)\n",
    "working = working%>%mutate(\n",
    "  n_of_cs = map_dbl(model,~.x$sets$cs_index%>%length()),\n",
    "  hsq_ac = map_dbl(model,~.x$hsq[1]),\n",
    "  hsq_PCC = map_dbl(model,~.x$hsq[2]),\n",
    "  hsq_DLPFC = map_dbl(model,~.x$hsq[3]),\n",
    "  total_cs_size = map_dbl(model,(~.x$sets$cs%>%unlist()%>%length())),\n",
    "  mean_cs_size = total_cs_size/n_of_cs\n",
    ")\n",
    "working%>%select(-env,-model\n",
    "                )%>%filter(n_of_cs>0)%>%summarise(mean(hsq_ac),mean(hsq_PCC),mean(hsq_DLPFC))\n",
    "nrow(working%>%filter(n_of_cs>0))"
   ]
  },
  {
   "cell_type": "code",
   "execution_count": 53,
   "metadata": {},
   "outputs": [],
   "source": [
    "working = working%>%mutate(\n",
    "  rmse_ac = map_dbl(model,~.x$rmse[1]),\n",
    "  rmse_PCC = map_dbl(model,~.x$rmse[2]),\n",
    "  rmse_DLPFC = map_dbl(model,~.x$rmse[3]),\n",
    "  r2_ac = map_dbl(model,~.x$r2[1]),\n",
    "  r2_PCC = map_dbl(model,~.x$r2[2]),\n",
    "  r2_DLPFC = map_dbl(model,~.x$r2[3])\n",
    ")"
   ]
  },
  {
   "cell_type": "code",
   "execution_count": 55,
   "metadata": {},
   "outputs": [
    {
     "data": {
      "text/html": [
       "<table>\n",
       "<caption>A tibble: 55 × 8</caption>\n",
       "<thead>\n",
       "\t<tr><th scope=col>ID</th><th scope=col>n_of_cs</th><th scope=col>rmse_ac</th><th scope=col>rmse_PCC</th><th scope=col>rmse_DLPFC</th><th scope=col>r2_ac</th><th scope=col>r2_PCC</th><th scope=col>r2_DLPFC</th></tr>\n",
       "\t<tr><th scope=col>&lt;chr&gt;</th><th scope=col>&lt;dbl&gt;</th><th scope=col>&lt;dbl&gt;</th><th scope=col>&lt;dbl&gt;</th><th scope=col>&lt;dbl&gt;</th><th scope=col>&lt;dbl&gt;</th><th scope=col>&lt;dbl&gt;</th><th scope=col>&lt;dbl&gt;</th></tr>\n",
       "</thead>\n",
       "<tbody>\n",
       "\t<tr><td>ENSG00000198502</td><td>3</td><td>1.5146245</td><td>1.6790483</td><td>1.5740379</td><td>0.659240234</td><td>0.609203306</td><td>0.7121825280</td></tr>\n",
       "\t<tr><td>ENSG00000179344</td><td>3</td><td>1.0346592</td><td>1.0837909</td><td>1.2552430</td><td>0.655229788</td><td>0.675646962</td><td>0.6165044795</td></tr>\n",
       "\t<tr><td>ENSG00000196126</td><td>2</td><td>0.6429612</td><td>0.6756485</td><td>0.7810596</td><td>0.586728979</td><td>0.582522180</td><td>0.5371562581</td></tr>\n",
       "\t<tr><td>ENSG00000196735</td><td>1</td><td>1.0661848</td><td>1.0073688</td><td>1.2315236</td><td>0.288544681</td><td>0.379006085</td><td>0.3040098520</td></tr>\n",
       "\t<tr><td>ENSG00000129204</td><td>2</td><td>0.4856085</td><td>0.4250747</td><td>0.4793787</td><td>0.292568235</td><td>0.108916742</td><td>0.2881209318</td></tr>\n",
       "\t<tr><td>ENSG00000166529</td><td>1</td><td>0.2172689</td><td>0.2130004</td><td>0.2081468</td><td>0.168958712</td><td>0.157888010</td><td>0.2392361345</td></tr>\n",
       "\t<tr><td>ENSG00000264538</td><td>1</td><td>0.2278678</td><td>0.2495738</td><td>0.2693981</td><td>0.178641074</td><td>0.185228790</td><td>0.2370433004</td></tr>\n",
       "\t<tr><td>ENSG00000167840</td><td>1</td><td>0.2897673</td><td>0.2774655</td><td>0.2941398</td><td>0.213287277</td><td>0.080106207</td><td>0.2026096383</td></tr>\n",
       "\t<tr><td>ENSG00000203710</td><td>1</td><td>0.8124940</td><td>0.7742036</td><td>0.8932085</td><td>0.009714195</td><td>0.045958087</td><td>0.1757806124</td></tr>\n",
       "\t<tr><td>ENSG00000134463</td><td>3</td><td>0.6244861</td><td>0.7870359</td><td>0.7931923</td><td>0.299811117</td><td>0.073040071</td><td>0.1526550746</td></tr>\n",
       "\t<tr><td>ENSG00000186567</td><td>1</td><td>0.4621425</td><td>0.4144257</td><td>0.4041847</td><td>0.138471300</td><td>0.090772175</td><td>0.1485173232</td></tr>\n",
       "\t<tr><td>ENSG00000099817</td><td>1</td><td>0.1609066</td><td>0.2286183</td><td>0.2705106</td><td>0.181215396</td><td>0.091857388</td><td>0.1344751999</td></tr>\n",
       "\t<tr><td>ENSG00000108559</td><td>1</td><td>0.2649180</td><td>0.2820820</td><td>0.2478952</td><td>0.097810581</td><td>0.150506345</td><td>0.1341551085</td></tr>\n",
       "\t<tr><td>ENSG00000204516</td><td>2</td><td>0.7176344</td><td>0.7224350</td><td>0.7615225</td><td>0.027349994</td><td>0.125138996</td><td>0.1325395708</td></tr>\n",
       "\t<tr><td>ENSG00000146834</td><td>1</td><td>0.1875839</td><td>0.2120483</td><td>0.2549292</td><td>0.088329100</td><td>0.077268571</td><td>0.1246242059</td></tr>\n",
       "\t<tr><td>ENSG00000007047</td><td>1</td><td>0.2529474</td><td>0.1880966</td><td>0.2567682</td><td>0.082349005</td><td>0.099616120</td><td>0.1189117814</td></tr>\n",
       "\t<tr><td>ENSG00000085514</td><td>1</td><td>0.4721982</td><td>0.5472272</td><td>0.4943489</td><td>0.007634138</td><td>0.025109546</td><td>0.1158096166</td></tr>\n",
       "\t<tr><td>ENSG00000244731</td><td>1</td><td>0.7954326</td><td>0.9269820</td><td>0.9068800</td><td>0.270950537</td><td>0.176478088</td><td>0.1050826104</td></tr>\n",
       "\t<tr><td>ENSG00000204267</td><td>1</td><td>0.4243907</td><td>0.4459987</td><td>0.5636354</td><td>0.050393841</td><td>0.062294580</td><td>0.0852847884</td></tr>\n",
       "\t<tr><td>ENSG00000103642</td><td>1</td><td>0.2141088</td><td>0.2491231</td><td>0.2746550</td><td>0.097434354</td><td>0.092414070</td><td>0.0810916465</td></tr>\n",
       "\t<tr><td>ENSG00000064666</td><td>2</td><td>0.5252755</td><td>0.5862785</td><td>0.5988063</td><td>0.074822227</td><td>0.115130664</td><td>0.0810242709</td></tr>\n",
       "\t<tr><td>ENSG00000065268</td><td>2</td><td>0.2471339</td><td>0.2660780</td><td>0.4071901</td><td>0.214353305</td><td>0.257960659</td><td>0.0809278681</td></tr>\n",
       "\t<tr><td>ENSG00000147419</td><td>1</td><td>0.2227754</td><td>0.2780167</td><td>0.2823628</td><td>0.102540637</td><td>0.054496743</td><td>0.0796037843</td></tr>\n",
       "\t<tr><td>ENSG00000130204</td><td>1</td><td>0.2192715</td><td>0.2846370</td><td>0.2548116</td><td>0.001841914</td><td>0.053102903</td><td>0.0670311643</td></tr>\n",
       "\t<tr><td>ENSG00000214309</td><td>1</td><td>0.2851434</td><td>0.3369773</td><td>0.4216290</td><td>0.212172558</td><td>0.073591712</td><td>0.0662759243</td></tr>\n",
       "\t<tr><td>ENSG00000142252</td><td>1</td><td>0.2798305</td><td>0.2871157</td><td>0.3288645</td><td>0.031148798</td><td>0.051514835</td><td>0.0606067558</td></tr>\n",
       "\t<tr><td>ENSG00000103510</td><td>1</td><td>0.1223969</td><td>0.1204058</td><td>0.1551573</td><td>0.104496399</td><td>0.092780929</td><td>0.0544704219</td></tr>\n",
       "\t<tr><td>ENSG00000103496</td><td>1</td><td>0.1821881</td><td>0.2152388</td><td>0.2158020</td><td>0.070096385</td><td>0.080489027</td><td>0.0542988331</td></tr>\n",
       "\t<tr><td>ENSG00000180448</td><td>1</td><td>0.3116777</td><td>0.3433628</td><td>0.4380781</td><td>0.061424505</td><td>0.089373365</td><td>0.0542174182</td></tr>\n",
       "\t<tr><td>ENSG00000204301</td><td>1</td><td>0.2892064</td><td>0.2963680</td><td>0.3194285</td><td>0.065248279</td><td>0.010042621</td><td>0.0492911056</td></tr>\n",
       "\t<tr><td>ENSG00000029725</td><td>1</td><td>0.1383778</td><td>0.1967466</td><td>0.1941204</td><td>0.015538319</td><td>0.018433862</td><td>0.0491539455</td></tr>\n",
       "\t<tr><td>ENSG00000073008</td><td>1</td><td>0.2427098</td><td>0.2451376</td><td>0.2502743</td><td>0.140162762</td><td>0.083525403</td><td>0.0486469366</td></tr>\n",
       "\t<tr><td>ENSG00000140416</td><td>1</td><td>0.2088561</td><td>0.1984628</td><td>0.2043564</td><td>0.041554028</td><td>0.014561152</td><td>0.0472758553</td></tr>\n",
       "\t<tr><td>ENSG00000224389</td><td>2</td><td>0.8833972</td><td>0.8817493</td><td>0.8770748</td><td>0.055946986</td><td>0.030446186</td><td>0.0375598369</td></tr>\n",
       "\t<tr><td>ENSG00000064687</td><td>1</td><td>0.4749402</td><td>0.5124364</td><td>0.5244910</td><td>0.016916508</td><td>0.011346726</td><td>0.0372372889</td></tr>\n",
       "\t<tr><td>ENSG00000196118</td><td>2</td><td>0.4951959</td><td>0.4795711</td><td>0.4444517</td><td>0.125852912</td><td>0.106997605</td><td>0.0364246973</td></tr>\n",
       "\t<tr><td>ENSG00000120915</td><td>1</td><td>0.4170154</td><td>0.4311128</td><td>0.4419785</td><td>0.077648129</td><td>0.022018630</td><td>0.0338030188</td></tr>\n",
       "\t<tr><td>ENSG00000158864</td><td>1</td><td>0.1617462</td><td>0.2000842</td><td>0.2438961</td><td>0.019914990</td><td>0.033334850</td><td>0.0314828333</td></tr>\n",
       "\t<tr><td>ENSG00000189114</td><td>2</td><td>0.2470630</td><td>0.2552159</td><td>0.2548447</td><td>0.014155757</td><td>0.043190325</td><td>0.0307231194</td></tr>\n",
       "\t<tr><td>ENSG00000178226</td><td>1</td><td>0.5750869</td><td>0.7489260</td><td>0.7383669</td><td>0.111400463</td><td>0.022081042</td><td>0.0298700999</td></tr>\n",
       "\t<tr><td>ENSG00000130202</td><td>1</td><td>0.2968601</td><td>0.3304037</td><td>0.3547786</td><td>0.010876488</td><td>0.014997918</td><td>0.0279775093</td></tr>\n",
       "\t<tr><td>ENSG00000103549</td><td>1</td><td>0.1540992</td><td>0.1564122</td><td>0.1960945</td><td>0.013832104</td><td>0.050787674</td><td>0.0276935225</td></tr>\n",
       "\t<tr><td>ENSG00000104228</td><td>1</td><td>0.2670602</td><td>0.2811383</td><td>0.2781366</td><td>0.038789275</td><td>0.011312270</td><td>0.0254177613</td></tr>\n",
       "\t<tr><td>ENSG00000160862</td><td>1</td><td>0.7787137</td><td>0.8848205</td><td>0.9299900</td><td>0.013937357</td><td>0.030316684</td><td>0.0205958804</td></tr>\n",
       "\t<tr><td>ENSG00000110079</td><td>1</td><td>0.8596530</td><td>0.9308019</td><td>1.1897587</td><td>0.023600568</td><td>0.006242480</td><td>0.0171252032</td></tr>\n",
       "\t<tr><td>ENSG00000188186</td><td>1</td><td>0.1585242</td><td>0.1899033</td><td>0.2307634</td><td>0.004264837</td><td>0.005414399</td><td>0.0158613835</td></tr>\n",
       "\t<tr><td>ENSG00000240065</td><td>1</td><td>0.4293803</td><td>0.4735312</td><td>0.5513835</td><td>0.077828748</td><td>0.114426942</td><td>0.0153658221</td></tr>\n",
       "\t<tr><td>ENSG00000161929</td><td>1</td><td>0.5790651</td><td>0.6059062</td><td>0.6136070</td><td>0.038918548</td><td>0.077389330</td><td>0.0151909556</td></tr>\n",
       "\t<tr><td>ENSG00000108523</td><td>1</td><td>0.1462844</td><td>0.1578163</td><td>0.1738992</td><td>0.144427120</td><td>0.070970294</td><td>0.0108698424</td></tr>\n",
       "\t<tr><td>ENSG00000213420</td><td>1</td><td>0.5345032</td><td>0.6109287</td><td>0.5388902</td><td>0.001125335</td><td>0.013220874</td><td>0.0094109633</td></tr>\n",
       "\t<tr><td>ENSG00000179846</td><td>1</td><td>0.4024278</td><td>0.4337718</td><td>0.5675207</td><td>0.061630029</td><td>0.005622261</td><td>0.0086550656</td></tr>\n",
       "\t<tr><td>ENSG00000234906</td><td>1</td><td>0.7151540</td><td>0.9720484</td><td>1.0269743</td><td>0.019547970</td><td>0.014273189</td><td>0.0006146479</td></tr>\n",
       "\t<tr><td>ENSG00000078487</td><td>1</td><td>0.3589521</td><td>0.3800793</td><td>0.3391995</td><td>         NA</td><td>         NA</td><td>          NA</td></tr>\n",
       "\t<tr><td>ENSG00000121716</td><td>1</td><td>0.5012466</td><td>0.4485789</td><td>0.5775370</td><td>         NA</td><td>         NA</td><td>          NA</td></tr>\n",
       "\t<tr><td>ENSG00000146828</td><td>1</td><td>0.2530335</td><td>0.2895183</td><td>0.2926416</td><td>         NA</td><td>         NA</td><td>          NA</td></tr>\n",
       "</tbody>\n",
       "</table>\n"
      ],
      "text/latex": [
       "A tibble: 55 × 8\n",
       "\\begin{tabular}{llllllll}\n",
       " ID & n\\_of\\_cs & rmse\\_ac & rmse\\_PCC & rmse\\_DLPFC & r2\\_ac & r2\\_PCC & r2\\_DLPFC\\\\\n",
       " <chr> & <dbl> & <dbl> & <dbl> & <dbl> & <dbl> & <dbl> & <dbl>\\\\\n",
       "\\hline\n",
       "\t ENSG00000198502 & 3 & 1.5146245 & 1.6790483 & 1.5740379 & 0.659240234 & 0.609203306 & 0.7121825280\\\\\n",
       "\t ENSG00000179344 & 3 & 1.0346592 & 1.0837909 & 1.2552430 & 0.655229788 & 0.675646962 & 0.6165044795\\\\\n",
       "\t ENSG00000196126 & 2 & 0.6429612 & 0.6756485 & 0.7810596 & 0.586728979 & 0.582522180 & 0.5371562581\\\\\n",
       "\t ENSG00000196735 & 1 & 1.0661848 & 1.0073688 & 1.2315236 & 0.288544681 & 0.379006085 & 0.3040098520\\\\\n",
       "\t ENSG00000129204 & 2 & 0.4856085 & 0.4250747 & 0.4793787 & 0.292568235 & 0.108916742 & 0.2881209318\\\\\n",
       "\t ENSG00000166529 & 1 & 0.2172689 & 0.2130004 & 0.2081468 & 0.168958712 & 0.157888010 & 0.2392361345\\\\\n",
       "\t ENSG00000264538 & 1 & 0.2278678 & 0.2495738 & 0.2693981 & 0.178641074 & 0.185228790 & 0.2370433004\\\\\n",
       "\t ENSG00000167840 & 1 & 0.2897673 & 0.2774655 & 0.2941398 & 0.213287277 & 0.080106207 & 0.2026096383\\\\\n",
       "\t ENSG00000203710 & 1 & 0.8124940 & 0.7742036 & 0.8932085 & 0.009714195 & 0.045958087 & 0.1757806124\\\\\n",
       "\t ENSG00000134463 & 3 & 0.6244861 & 0.7870359 & 0.7931923 & 0.299811117 & 0.073040071 & 0.1526550746\\\\\n",
       "\t ENSG00000186567 & 1 & 0.4621425 & 0.4144257 & 0.4041847 & 0.138471300 & 0.090772175 & 0.1485173232\\\\\n",
       "\t ENSG00000099817 & 1 & 0.1609066 & 0.2286183 & 0.2705106 & 0.181215396 & 0.091857388 & 0.1344751999\\\\\n",
       "\t ENSG00000108559 & 1 & 0.2649180 & 0.2820820 & 0.2478952 & 0.097810581 & 0.150506345 & 0.1341551085\\\\\n",
       "\t ENSG00000204516 & 2 & 0.7176344 & 0.7224350 & 0.7615225 & 0.027349994 & 0.125138996 & 0.1325395708\\\\\n",
       "\t ENSG00000146834 & 1 & 0.1875839 & 0.2120483 & 0.2549292 & 0.088329100 & 0.077268571 & 0.1246242059\\\\\n",
       "\t ENSG00000007047 & 1 & 0.2529474 & 0.1880966 & 0.2567682 & 0.082349005 & 0.099616120 & 0.1189117814\\\\\n",
       "\t ENSG00000085514 & 1 & 0.4721982 & 0.5472272 & 0.4943489 & 0.007634138 & 0.025109546 & 0.1158096166\\\\\n",
       "\t ENSG00000244731 & 1 & 0.7954326 & 0.9269820 & 0.9068800 & 0.270950537 & 0.176478088 & 0.1050826104\\\\\n",
       "\t ENSG00000204267 & 1 & 0.4243907 & 0.4459987 & 0.5636354 & 0.050393841 & 0.062294580 & 0.0852847884\\\\\n",
       "\t ENSG00000103642 & 1 & 0.2141088 & 0.2491231 & 0.2746550 & 0.097434354 & 0.092414070 & 0.0810916465\\\\\n",
       "\t ENSG00000064666 & 2 & 0.5252755 & 0.5862785 & 0.5988063 & 0.074822227 & 0.115130664 & 0.0810242709\\\\\n",
       "\t ENSG00000065268 & 2 & 0.2471339 & 0.2660780 & 0.4071901 & 0.214353305 & 0.257960659 & 0.0809278681\\\\\n",
       "\t ENSG00000147419 & 1 & 0.2227754 & 0.2780167 & 0.2823628 & 0.102540637 & 0.054496743 & 0.0796037843\\\\\n",
       "\t ENSG00000130204 & 1 & 0.2192715 & 0.2846370 & 0.2548116 & 0.001841914 & 0.053102903 & 0.0670311643\\\\\n",
       "\t ENSG00000214309 & 1 & 0.2851434 & 0.3369773 & 0.4216290 & 0.212172558 & 0.073591712 & 0.0662759243\\\\\n",
       "\t ENSG00000142252 & 1 & 0.2798305 & 0.2871157 & 0.3288645 & 0.031148798 & 0.051514835 & 0.0606067558\\\\\n",
       "\t ENSG00000103510 & 1 & 0.1223969 & 0.1204058 & 0.1551573 & 0.104496399 & 0.092780929 & 0.0544704219\\\\\n",
       "\t ENSG00000103496 & 1 & 0.1821881 & 0.2152388 & 0.2158020 & 0.070096385 & 0.080489027 & 0.0542988331\\\\\n",
       "\t ENSG00000180448 & 1 & 0.3116777 & 0.3433628 & 0.4380781 & 0.061424505 & 0.089373365 & 0.0542174182\\\\\n",
       "\t ENSG00000204301 & 1 & 0.2892064 & 0.2963680 & 0.3194285 & 0.065248279 & 0.010042621 & 0.0492911056\\\\\n",
       "\t ENSG00000029725 & 1 & 0.1383778 & 0.1967466 & 0.1941204 & 0.015538319 & 0.018433862 & 0.0491539455\\\\\n",
       "\t ENSG00000073008 & 1 & 0.2427098 & 0.2451376 & 0.2502743 & 0.140162762 & 0.083525403 & 0.0486469366\\\\\n",
       "\t ENSG00000140416 & 1 & 0.2088561 & 0.1984628 & 0.2043564 & 0.041554028 & 0.014561152 & 0.0472758553\\\\\n",
       "\t ENSG00000224389 & 2 & 0.8833972 & 0.8817493 & 0.8770748 & 0.055946986 & 0.030446186 & 0.0375598369\\\\\n",
       "\t ENSG00000064687 & 1 & 0.4749402 & 0.5124364 & 0.5244910 & 0.016916508 & 0.011346726 & 0.0372372889\\\\\n",
       "\t ENSG00000196118 & 2 & 0.4951959 & 0.4795711 & 0.4444517 & 0.125852912 & 0.106997605 & 0.0364246973\\\\\n",
       "\t ENSG00000120915 & 1 & 0.4170154 & 0.4311128 & 0.4419785 & 0.077648129 & 0.022018630 & 0.0338030188\\\\\n",
       "\t ENSG00000158864 & 1 & 0.1617462 & 0.2000842 & 0.2438961 & 0.019914990 & 0.033334850 & 0.0314828333\\\\\n",
       "\t ENSG00000189114 & 2 & 0.2470630 & 0.2552159 & 0.2548447 & 0.014155757 & 0.043190325 & 0.0307231194\\\\\n",
       "\t ENSG00000178226 & 1 & 0.5750869 & 0.7489260 & 0.7383669 & 0.111400463 & 0.022081042 & 0.0298700999\\\\\n",
       "\t ENSG00000130202 & 1 & 0.2968601 & 0.3304037 & 0.3547786 & 0.010876488 & 0.014997918 & 0.0279775093\\\\\n",
       "\t ENSG00000103549 & 1 & 0.1540992 & 0.1564122 & 0.1960945 & 0.013832104 & 0.050787674 & 0.0276935225\\\\\n",
       "\t ENSG00000104228 & 1 & 0.2670602 & 0.2811383 & 0.2781366 & 0.038789275 & 0.011312270 & 0.0254177613\\\\\n",
       "\t ENSG00000160862 & 1 & 0.7787137 & 0.8848205 & 0.9299900 & 0.013937357 & 0.030316684 & 0.0205958804\\\\\n",
       "\t ENSG00000110079 & 1 & 0.8596530 & 0.9308019 & 1.1897587 & 0.023600568 & 0.006242480 & 0.0171252032\\\\\n",
       "\t ENSG00000188186 & 1 & 0.1585242 & 0.1899033 & 0.2307634 & 0.004264837 & 0.005414399 & 0.0158613835\\\\\n",
       "\t ENSG00000240065 & 1 & 0.4293803 & 0.4735312 & 0.5513835 & 0.077828748 & 0.114426942 & 0.0153658221\\\\\n",
       "\t ENSG00000161929 & 1 & 0.5790651 & 0.6059062 & 0.6136070 & 0.038918548 & 0.077389330 & 0.0151909556\\\\\n",
       "\t ENSG00000108523 & 1 & 0.1462844 & 0.1578163 & 0.1738992 & 0.144427120 & 0.070970294 & 0.0108698424\\\\\n",
       "\t ENSG00000213420 & 1 & 0.5345032 & 0.6109287 & 0.5388902 & 0.001125335 & 0.013220874 & 0.0094109633\\\\\n",
       "\t ENSG00000179846 & 1 & 0.4024278 & 0.4337718 & 0.5675207 & 0.061630029 & 0.005622261 & 0.0086550656\\\\\n",
       "\t ENSG00000234906 & 1 & 0.7151540 & 0.9720484 & 1.0269743 & 0.019547970 & 0.014273189 & 0.0006146479\\\\\n",
       "\t ENSG00000078487 & 1 & 0.3589521 & 0.3800793 & 0.3391995 &          NA &          NA &           NA\\\\\n",
       "\t ENSG00000121716 & 1 & 0.5012466 & 0.4485789 & 0.5775370 &          NA &          NA &           NA\\\\\n",
       "\t ENSG00000146828 & 1 & 0.2530335 & 0.2895183 & 0.2926416 &          NA &          NA &           NA\\\\\n",
       "\\end{tabular}\n"
      ],
      "text/markdown": [
       "\n",
       "A tibble: 55 × 8\n",
       "\n",
       "| ID &lt;chr&gt; | n_of_cs &lt;dbl&gt; | rmse_ac &lt;dbl&gt; | rmse_PCC &lt;dbl&gt; | rmse_DLPFC &lt;dbl&gt; | r2_ac &lt;dbl&gt; | r2_PCC &lt;dbl&gt; | r2_DLPFC &lt;dbl&gt; |\n",
       "|---|---|---|---|---|---|---|---|\n",
       "| ENSG00000198502 | 3 | 1.5146245 | 1.6790483 | 1.5740379 | 0.659240234 | 0.609203306 | 0.7121825280 |\n",
       "| ENSG00000179344 | 3 | 1.0346592 | 1.0837909 | 1.2552430 | 0.655229788 | 0.675646962 | 0.6165044795 |\n",
       "| ENSG00000196126 | 2 | 0.6429612 | 0.6756485 | 0.7810596 | 0.586728979 | 0.582522180 | 0.5371562581 |\n",
       "| ENSG00000196735 | 1 | 1.0661848 | 1.0073688 | 1.2315236 | 0.288544681 | 0.379006085 | 0.3040098520 |\n",
       "| ENSG00000129204 | 2 | 0.4856085 | 0.4250747 | 0.4793787 | 0.292568235 | 0.108916742 | 0.2881209318 |\n",
       "| ENSG00000166529 | 1 | 0.2172689 | 0.2130004 | 0.2081468 | 0.168958712 | 0.157888010 | 0.2392361345 |\n",
       "| ENSG00000264538 | 1 | 0.2278678 | 0.2495738 | 0.2693981 | 0.178641074 | 0.185228790 | 0.2370433004 |\n",
       "| ENSG00000167840 | 1 | 0.2897673 | 0.2774655 | 0.2941398 | 0.213287277 | 0.080106207 | 0.2026096383 |\n",
       "| ENSG00000203710 | 1 | 0.8124940 | 0.7742036 | 0.8932085 | 0.009714195 | 0.045958087 | 0.1757806124 |\n",
       "| ENSG00000134463 | 3 | 0.6244861 | 0.7870359 | 0.7931923 | 0.299811117 | 0.073040071 | 0.1526550746 |\n",
       "| ENSG00000186567 | 1 | 0.4621425 | 0.4144257 | 0.4041847 | 0.138471300 | 0.090772175 | 0.1485173232 |\n",
       "| ENSG00000099817 | 1 | 0.1609066 | 0.2286183 | 0.2705106 | 0.181215396 | 0.091857388 | 0.1344751999 |\n",
       "| ENSG00000108559 | 1 | 0.2649180 | 0.2820820 | 0.2478952 | 0.097810581 | 0.150506345 | 0.1341551085 |\n",
       "| ENSG00000204516 | 2 | 0.7176344 | 0.7224350 | 0.7615225 | 0.027349994 | 0.125138996 | 0.1325395708 |\n",
       "| ENSG00000146834 | 1 | 0.1875839 | 0.2120483 | 0.2549292 | 0.088329100 | 0.077268571 | 0.1246242059 |\n",
       "| ENSG00000007047 | 1 | 0.2529474 | 0.1880966 | 0.2567682 | 0.082349005 | 0.099616120 | 0.1189117814 |\n",
       "| ENSG00000085514 | 1 | 0.4721982 | 0.5472272 | 0.4943489 | 0.007634138 | 0.025109546 | 0.1158096166 |\n",
       "| ENSG00000244731 | 1 | 0.7954326 | 0.9269820 | 0.9068800 | 0.270950537 | 0.176478088 | 0.1050826104 |\n",
       "| ENSG00000204267 | 1 | 0.4243907 | 0.4459987 | 0.5636354 | 0.050393841 | 0.062294580 | 0.0852847884 |\n",
       "| ENSG00000103642 | 1 | 0.2141088 | 0.2491231 | 0.2746550 | 0.097434354 | 0.092414070 | 0.0810916465 |\n",
       "| ENSG00000064666 | 2 | 0.5252755 | 0.5862785 | 0.5988063 | 0.074822227 | 0.115130664 | 0.0810242709 |\n",
       "| ENSG00000065268 | 2 | 0.2471339 | 0.2660780 | 0.4071901 | 0.214353305 | 0.257960659 | 0.0809278681 |\n",
       "| ENSG00000147419 | 1 | 0.2227754 | 0.2780167 | 0.2823628 | 0.102540637 | 0.054496743 | 0.0796037843 |\n",
       "| ENSG00000130204 | 1 | 0.2192715 | 0.2846370 | 0.2548116 | 0.001841914 | 0.053102903 | 0.0670311643 |\n",
       "| ENSG00000214309 | 1 | 0.2851434 | 0.3369773 | 0.4216290 | 0.212172558 | 0.073591712 | 0.0662759243 |\n",
       "| ENSG00000142252 | 1 | 0.2798305 | 0.2871157 | 0.3288645 | 0.031148798 | 0.051514835 | 0.0606067558 |\n",
       "| ENSG00000103510 | 1 | 0.1223969 | 0.1204058 | 0.1551573 | 0.104496399 | 0.092780929 | 0.0544704219 |\n",
       "| ENSG00000103496 | 1 | 0.1821881 | 0.2152388 | 0.2158020 | 0.070096385 | 0.080489027 | 0.0542988331 |\n",
       "| ENSG00000180448 | 1 | 0.3116777 | 0.3433628 | 0.4380781 | 0.061424505 | 0.089373365 | 0.0542174182 |\n",
       "| ENSG00000204301 | 1 | 0.2892064 | 0.2963680 | 0.3194285 | 0.065248279 | 0.010042621 | 0.0492911056 |\n",
       "| ENSG00000029725 | 1 | 0.1383778 | 0.1967466 | 0.1941204 | 0.015538319 | 0.018433862 | 0.0491539455 |\n",
       "| ENSG00000073008 | 1 | 0.2427098 | 0.2451376 | 0.2502743 | 0.140162762 | 0.083525403 | 0.0486469366 |\n",
       "| ENSG00000140416 | 1 | 0.2088561 | 0.1984628 | 0.2043564 | 0.041554028 | 0.014561152 | 0.0472758553 |\n",
       "| ENSG00000224389 | 2 | 0.8833972 | 0.8817493 | 0.8770748 | 0.055946986 | 0.030446186 | 0.0375598369 |\n",
       "| ENSG00000064687 | 1 | 0.4749402 | 0.5124364 | 0.5244910 | 0.016916508 | 0.011346726 | 0.0372372889 |\n",
       "| ENSG00000196118 | 2 | 0.4951959 | 0.4795711 | 0.4444517 | 0.125852912 | 0.106997605 | 0.0364246973 |\n",
       "| ENSG00000120915 | 1 | 0.4170154 | 0.4311128 | 0.4419785 | 0.077648129 | 0.022018630 | 0.0338030188 |\n",
       "| ENSG00000158864 | 1 | 0.1617462 | 0.2000842 | 0.2438961 | 0.019914990 | 0.033334850 | 0.0314828333 |\n",
       "| ENSG00000189114 | 2 | 0.2470630 | 0.2552159 | 0.2548447 | 0.014155757 | 0.043190325 | 0.0307231194 |\n",
       "| ENSG00000178226 | 1 | 0.5750869 | 0.7489260 | 0.7383669 | 0.111400463 | 0.022081042 | 0.0298700999 |\n",
       "| ENSG00000130202 | 1 | 0.2968601 | 0.3304037 | 0.3547786 | 0.010876488 | 0.014997918 | 0.0279775093 |\n",
       "| ENSG00000103549 | 1 | 0.1540992 | 0.1564122 | 0.1960945 | 0.013832104 | 0.050787674 | 0.0276935225 |\n",
       "| ENSG00000104228 | 1 | 0.2670602 | 0.2811383 | 0.2781366 | 0.038789275 | 0.011312270 | 0.0254177613 |\n",
       "| ENSG00000160862 | 1 | 0.7787137 | 0.8848205 | 0.9299900 | 0.013937357 | 0.030316684 | 0.0205958804 |\n",
       "| ENSG00000110079 | 1 | 0.8596530 | 0.9308019 | 1.1897587 | 0.023600568 | 0.006242480 | 0.0171252032 |\n",
       "| ENSG00000188186 | 1 | 0.1585242 | 0.1899033 | 0.2307634 | 0.004264837 | 0.005414399 | 0.0158613835 |\n",
       "| ENSG00000240065 | 1 | 0.4293803 | 0.4735312 | 0.5513835 | 0.077828748 | 0.114426942 | 0.0153658221 |\n",
       "| ENSG00000161929 | 1 | 0.5790651 | 0.6059062 | 0.6136070 | 0.038918548 | 0.077389330 | 0.0151909556 |\n",
       "| ENSG00000108523 | 1 | 0.1462844 | 0.1578163 | 0.1738992 | 0.144427120 | 0.070970294 | 0.0108698424 |\n",
       "| ENSG00000213420 | 1 | 0.5345032 | 0.6109287 | 0.5388902 | 0.001125335 | 0.013220874 | 0.0094109633 |\n",
       "| ENSG00000179846 | 1 | 0.4024278 | 0.4337718 | 0.5675207 | 0.061630029 | 0.005622261 | 0.0086550656 |\n",
       "| ENSG00000234906 | 1 | 0.7151540 | 0.9720484 | 1.0269743 | 0.019547970 | 0.014273189 | 0.0006146479 |\n",
       "| ENSG00000078487 | 1 | 0.3589521 | 0.3800793 | 0.3391995 |          NA |          NA |           NA |\n",
       "| ENSG00000121716 | 1 | 0.5012466 | 0.4485789 | 0.5775370 |          NA |          NA |           NA |\n",
       "| ENSG00000146828 | 1 | 0.2530335 | 0.2895183 | 0.2926416 |          NA |          NA |           NA |\n",
       "\n"
      ],
      "text/plain": [
       "   ID              n_of_cs rmse_ac   rmse_PCC  rmse_DLPFC r2_ac      \n",
       "1  ENSG00000198502 3       1.5146245 1.6790483 1.5740379  0.659240234\n",
       "2  ENSG00000179344 3       1.0346592 1.0837909 1.2552430  0.655229788\n",
       "3  ENSG00000196126 2       0.6429612 0.6756485 0.7810596  0.586728979\n",
       "4  ENSG00000196735 1       1.0661848 1.0073688 1.2315236  0.288544681\n",
       "5  ENSG00000129204 2       0.4856085 0.4250747 0.4793787  0.292568235\n",
       "6  ENSG00000166529 1       0.2172689 0.2130004 0.2081468  0.168958712\n",
       "7  ENSG00000264538 1       0.2278678 0.2495738 0.2693981  0.178641074\n",
       "8  ENSG00000167840 1       0.2897673 0.2774655 0.2941398  0.213287277\n",
       "9  ENSG00000203710 1       0.8124940 0.7742036 0.8932085  0.009714195\n",
       "10 ENSG00000134463 3       0.6244861 0.7870359 0.7931923  0.299811117\n",
       "11 ENSG00000186567 1       0.4621425 0.4144257 0.4041847  0.138471300\n",
       "12 ENSG00000099817 1       0.1609066 0.2286183 0.2705106  0.181215396\n",
       "13 ENSG00000108559 1       0.2649180 0.2820820 0.2478952  0.097810581\n",
       "14 ENSG00000204516 2       0.7176344 0.7224350 0.7615225  0.027349994\n",
       "15 ENSG00000146834 1       0.1875839 0.2120483 0.2549292  0.088329100\n",
       "16 ENSG00000007047 1       0.2529474 0.1880966 0.2567682  0.082349005\n",
       "17 ENSG00000085514 1       0.4721982 0.5472272 0.4943489  0.007634138\n",
       "18 ENSG00000244731 1       0.7954326 0.9269820 0.9068800  0.270950537\n",
       "19 ENSG00000204267 1       0.4243907 0.4459987 0.5636354  0.050393841\n",
       "20 ENSG00000103642 1       0.2141088 0.2491231 0.2746550  0.097434354\n",
       "21 ENSG00000064666 2       0.5252755 0.5862785 0.5988063  0.074822227\n",
       "22 ENSG00000065268 2       0.2471339 0.2660780 0.4071901  0.214353305\n",
       "23 ENSG00000147419 1       0.2227754 0.2780167 0.2823628  0.102540637\n",
       "24 ENSG00000130204 1       0.2192715 0.2846370 0.2548116  0.001841914\n",
       "25 ENSG00000214309 1       0.2851434 0.3369773 0.4216290  0.212172558\n",
       "26 ENSG00000142252 1       0.2798305 0.2871157 0.3288645  0.031148798\n",
       "27 ENSG00000103510 1       0.1223969 0.1204058 0.1551573  0.104496399\n",
       "28 ENSG00000103496 1       0.1821881 0.2152388 0.2158020  0.070096385\n",
       "29 ENSG00000180448 1       0.3116777 0.3433628 0.4380781  0.061424505\n",
       "30 ENSG00000204301 1       0.2892064 0.2963680 0.3194285  0.065248279\n",
       "31 ENSG00000029725 1       0.1383778 0.1967466 0.1941204  0.015538319\n",
       "32 ENSG00000073008 1       0.2427098 0.2451376 0.2502743  0.140162762\n",
       "33 ENSG00000140416 1       0.2088561 0.1984628 0.2043564  0.041554028\n",
       "34 ENSG00000224389 2       0.8833972 0.8817493 0.8770748  0.055946986\n",
       "35 ENSG00000064687 1       0.4749402 0.5124364 0.5244910  0.016916508\n",
       "36 ENSG00000196118 2       0.4951959 0.4795711 0.4444517  0.125852912\n",
       "37 ENSG00000120915 1       0.4170154 0.4311128 0.4419785  0.077648129\n",
       "38 ENSG00000158864 1       0.1617462 0.2000842 0.2438961  0.019914990\n",
       "39 ENSG00000189114 2       0.2470630 0.2552159 0.2548447  0.014155757\n",
       "40 ENSG00000178226 1       0.5750869 0.7489260 0.7383669  0.111400463\n",
       "41 ENSG00000130202 1       0.2968601 0.3304037 0.3547786  0.010876488\n",
       "42 ENSG00000103549 1       0.1540992 0.1564122 0.1960945  0.013832104\n",
       "43 ENSG00000104228 1       0.2670602 0.2811383 0.2781366  0.038789275\n",
       "44 ENSG00000160862 1       0.7787137 0.8848205 0.9299900  0.013937357\n",
       "45 ENSG00000110079 1       0.8596530 0.9308019 1.1897587  0.023600568\n",
       "46 ENSG00000188186 1       0.1585242 0.1899033 0.2307634  0.004264837\n",
       "47 ENSG00000240065 1       0.4293803 0.4735312 0.5513835  0.077828748\n",
       "48 ENSG00000161929 1       0.5790651 0.6059062 0.6136070  0.038918548\n",
       "49 ENSG00000108523 1       0.1462844 0.1578163 0.1738992  0.144427120\n",
       "50 ENSG00000213420 1       0.5345032 0.6109287 0.5388902  0.001125335\n",
       "51 ENSG00000179846 1       0.4024278 0.4337718 0.5675207  0.061630029\n",
       "52 ENSG00000234906 1       0.7151540 0.9720484 1.0269743  0.019547970\n",
       "53 ENSG00000078487 1       0.3589521 0.3800793 0.3391995           NA\n",
       "54 ENSG00000121716 1       0.5012466 0.4485789 0.5775370           NA\n",
       "55 ENSG00000146828 1       0.2530335 0.2895183 0.2926416           NA\n",
       "   r2_PCC      r2_DLPFC    \n",
       "1  0.609203306 0.7121825280\n",
       "2  0.675646962 0.6165044795\n",
       "3  0.582522180 0.5371562581\n",
       "4  0.379006085 0.3040098520\n",
       "5  0.108916742 0.2881209318\n",
       "6  0.157888010 0.2392361345\n",
       "7  0.185228790 0.2370433004\n",
       "8  0.080106207 0.2026096383\n",
       "9  0.045958087 0.1757806124\n",
       "10 0.073040071 0.1526550746\n",
       "11 0.090772175 0.1485173232\n",
       "12 0.091857388 0.1344751999\n",
       "13 0.150506345 0.1341551085\n",
       "14 0.125138996 0.1325395708\n",
       "15 0.077268571 0.1246242059\n",
       "16 0.099616120 0.1189117814\n",
       "17 0.025109546 0.1158096166\n",
       "18 0.176478088 0.1050826104\n",
       "19 0.062294580 0.0852847884\n",
       "20 0.092414070 0.0810916465\n",
       "21 0.115130664 0.0810242709\n",
       "22 0.257960659 0.0809278681\n",
       "23 0.054496743 0.0796037843\n",
       "24 0.053102903 0.0670311643\n",
       "25 0.073591712 0.0662759243\n",
       "26 0.051514835 0.0606067558\n",
       "27 0.092780929 0.0544704219\n",
       "28 0.080489027 0.0542988331\n",
       "29 0.089373365 0.0542174182\n",
       "30 0.010042621 0.0492911056\n",
       "31 0.018433862 0.0491539455\n",
       "32 0.083525403 0.0486469366\n",
       "33 0.014561152 0.0472758553\n",
       "34 0.030446186 0.0375598369\n",
       "35 0.011346726 0.0372372889\n",
       "36 0.106997605 0.0364246973\n",
       "37 0.022018630 0.0338030188\n",
       "38 0.033334850 0.0314828333\n",
       "39 0.043190325 0.0307231194\n",
       "40 0.022081042 0.0298700999\n",
       "41 0.014997918 0.0279775093\n",
       "42 0.050787674 0.0276935225\n",
       "43 0.011312270 0.0254177613\n",
       "44 0.030316684 0.0205958804\n",
       "45 0.006242480 0.0171252032\n",
       "46 0.005414399 0.0158613835\n",
       "47 0.114426942 0.0153658221\n",
       "48 0.077389330 0.0151909556\n",
       "49 0.070970294 0.0108698424\n",
       "50 0.013220874 0.0094109633\n",
       "51 0.005622261 0.0086550656\n",
       "52 0.014273189 0.0006146479\n",
       "53          NA           NA\n",
       "54          NA           NA\n",
       "55          NA           NA"
      ]
     },
     "metadata": {},
     "output_type": "display_data"
    }
   ],
   "source": [
    "working%>%filter(n_of_cs > 0)%>%select(ID,n_of_cs,rmse_ac,rmse_PCC,rmse_DLPFC,r2_ac,r2_PCC,r2_DLPFC)%>%arrange(-r2_DLPFC)"
   ]
  },
  {
   "cell_type": "code",
   "execution_count": 19,
   "metadata": {},
   "outputs": [
    {
     "name": "stderr",
     "output_type": "stream",
     "text": [
      "`stat_bin()` using `bins = 30`. Pick better value with `binwidth`.\n",
      "\n",
      "Warning message:\n",
      "“Removed 3 rows containing non-finite values (stat_bin).”\n"
     ]
    },
    {
     "data": {
      "image/png": "[encoded data removed]",
      "text/plain": [
       "plot without title"
      ]
     },
     "metadata": {
      "image/png": {
       "height": 420,
       "width": 420
      }
     },
     "output_type": "display_data"
    }
   ],
   "source": [
    "working%>%select(-env,-model\n",
    "                )%>%filter(n_of_cs > 0)%>%ggplot(aes(x = r2_ac))+geom_histogram()"
   ]
  },
  {
   "cell_type": "code",
   "execution_count": 22,
   "metadata": {},
   "outputs": [
    {
     "name": "stderr",
     "output_type": "stream",
     "text": [
      "`stat_bin()` using `bins = 30`. Pick better value with `binwidth`.\n",
      "\n"
     ]
    },
    {
     "data": {
      "image/png": "[encoded data removed]",
      "text/plain": [
       "plot without title"
      ]
     },
     "metadata": {
      "image/png": {
       "height": 420,
       "width": 420
      }
     },
     "output_type": "display_data"
    }
   ],
   "source": [
    "working%>%select(-env,-model\n",
    "                )%>%filter(n_of_cs > 0)%>%ggplot(aes(x = rmse_ac))+geom_histogram()"
   ]
  },
  {
   "cell_type": "code",
   "execution_count": 20,
   "metadata": {},
   "outputs": [
    {
     "name": "stderr",
     "output_type": "stream",
     "text": [
      "`stat_bin()` using `bins = 30`. Pick better value with `binwidth`.\n",
      "\n",
      "Warning message:\n",
      "“Removed 3 rows containing non-finite values (stat_bin).”\n"
     ]
    },
    {
     "data": {
      "image/png": "[encoded data removed]",
      "text/plain": [
       "plot without title"
      ]
     },
     "metadata": {
      "image/png": {
       "height": 420,
       "width": 420
      }
     },
     "output_type": "display_data"
    }
   ],
   "source": [
    "working%>%select(-env,-model\n",
    "                )%>%filter(n_of_cs > 0)%>%ggplot(aes(x = r2_PCC))+geom_histogram()"
   ]
  },
  {
   "cell_type": "code",
   "execution_count": 21,
   "metadata": {},
   "outputs": [
    {
     "name": "stderr",
     "output_type": "stream",
     "text": [
      "`stat_bin()` using `bins = 30`. Pick better value with `binwidth`.\n",
      "\n",
      "Warning message:\n",
      "“Removed 3 rows containing non-finite values (stat_bin).”\n"
     ]
    },
    {
     "data": {
      "image/png": "[encoded data removed]",
      "text/plain": [
       "plot without title"
      ]
     },
     "metadata": {
      "image/png": {
       "height": 420,
       "width": 420
      }
     },
     "output_type": "display_data"
    }
   ],
   "source": [
    "working%>%select(-env,-model\n",
    "                )%>%filter(n_of_cs > 0)%>%ggplot(aes(x = r2_DLPFC))+geom_histogram()"
   ]
  },
  {
   "cell_type": "code",
   "execution_count": 34,
   "metadata": {},
   "outputs": [
    {
     "name": "stderr",
     "output_type": "stream",
     "text": [
      "Warning message:\n",
      "“Removed 3 rows containing missing values (geom_point).”\n"
     ]
    },
    {
     "data": {
      "image/png": "[encoded data removed]",
      "text/plain": [
       "plot without title"
      ]
     },
     "metadata": {
      "image/png": {
       "height": 420,
       "width": 420
      }
     },
     "output_type": "display_data"
    }
   ],
   "source": [
    "working%>%select(-env,-model\n",
    "                )%>%filter(n_of_cs > 0)%>%ggplot(aes(x = r2_ac,y = rmse_ac))+geom_point()"
   ]
  },
  {
   "cell_type": "code",
   "execution_count": 57,
   "metadata": {},
   "outputs": [
    {
     "name": "stderr",
     "output_type": "stream",
     "text": [
      "The following object is masked from file:/home/hs3163/Project/Alz/multi_3/mv_cv_saved.RData:\n",
      "\n",
      "    output\n",
      "\n",
      "\n",
      "The following object is masked from file:/home/hs3163/Project/Alz/multi_3/mv_cv.RData (pos = 4):\n",
      "\n",
      "    output\n",
      "\n",
      "\n",
      "The following object is masked from file:/home/hs3163/Project/Alz/multi_3/mv_cv.RData (pos = 5):\n",
      "\n",
      "    output\n",
      "\n",
      "\n",
      "The following object is masked from file:/home/hs3163/Project/Alz/multi_3/mv_cv.RData (pos = 6):\n",
      "\n",
      "    output\n",
      "\n",
      "\n"
     ]
    },
    {
     "data": {
      "text/html": [
       "<table>\n",
       "<caption>A tibble: 1 × 3</caption>\n",
       "<thead>\n",
       "\t<tr><th scope=col>mean(hsq_ac)</th><th scope=col>mean(hsq_PCC)</th><th scope=col>mean(hsq_DLPFC)</th></tr>\n",
       "\t<tr><th scope=col>&lt;dbl&gt;</th><th scope=col>&lt;dbl&gt;</th><th scope=col>&lt;dbl&gt;</th></tr>\n",
       "</thead>\n",
       "<tbody>\n",
       "\t<tr><td>0.08833986</td><td>0.06048574</td><td>0.1045956</td></tr>\n",
       "</tbody>\n",
       "</table>\n"
      ],
      "text/latex": [
       "A tibble: 1 × 3\n",
       "\\begin{tabular}{lll}\n",
       " mean(hsq\\_ac) & mean(hsq\\_PCC) & mean(hsq\\_DLPFC)\\\\\n",
       " <dbl> & <dbl> & <dbl>\\\\\n",
       "\\hline\n",
       "\t 0.08833986 & 0.06048574 & 0.1045956\\\\\n",
       "\\end{tabular}\n"
      ],
      "text/markdown": [
       "\n",
       "A tibble: 1 × 3\n",
       "\n",
       "| mean(hsq_ac) &lt;dbl&gt; | mean(hsq_PCC) &lt;dbl&gt; | mean(hsq_DLPFC) &lt;dbl&gt; |\n",
       "|---|---|---|\n",
       "| 0.08833986 | 0.06048574 | 0.1045956 |\n",
       "\n"
      ],
      "text/plain": [
       "  mean(hsq_ac) mean(hsq_PCC) mean(hsq_DLPFC)\n",
       "1 0.08833986   0.06048574    0.1045956      "
      ]
     },
     "metadata": {},
     "output_type": "display_data"
    },
    {
     "data": {
      "text/html": [
       "55"
      ],
      "text/latex": [
       "55"
      ],
      "text/markdown": [
       "55"
      ],
      "text/plain": [
       "[1] 55"
      ]
     },
     "metadata": {},
     "output_type": "display_data"
    }
   ],
   "source": [
    "env = attach(\"/home/hs3163/Project/Alz/multi_3/mv_cv.RData\")\n",
    "data = env$output\n",
    "working = data%>%select(-path)\n",
    "working = working%>%mutate(\n",
    "  n_of_cs = map_dbl(model,~.x$sets$cs_index%>%length()),\n",
    "  hsq_ac = map_dbl(model,~.x$hsq[1]),\n",
    "  hsq_PCC = map_dbl(model,~.x$hsq[2]),\n",
    "  hsq_DLPFC = map_dbl(model,~.x$hsq[3]),\n",
    "  total_cs_size = map_dbl(model,(~.x$sets$cs%>%unlist()%>%length())),\n",
    "  mean_cs_size = total_cs_size/n_of_cs\n",
    ")\n",
    "working%>%select(-env,-model\n",
    "                )%>%filter(n_of_cs>0)%>%summarise(mean(hsq_ac),mean(hsq_PCC),mean(hsq_DLPFC))\n",
    "nrow(working%>%filter(n_of_cs>0))"
   ]
  },
  {
   "cell_type": "code",
   "execution_count": 49,
   "metadata": {},
   "outputs": [],
   "source": [
    "working = working%>%mutate(\n",
    "  rmse_ac = map_dbl(model,~.x$rmse[1]),\n",
    "  rmse_PCC = map_dbl(model,~.x$rmse[2]),\n",
    "  rmse_DLPFC = map_dbl(model,~.x$rmse[3]),\n",
    "  r2_ac = map_dbl(model,~.x$r2_raw[1]),\n",
    "  r2_PCC = map_dbl(model,~.x$r2_raw[2]),\n",
    "  r2_DLPFC = map_dbl(model,~.x$r2_raw[3]),\n",
    "  pval_ac = map_dbl(model,~.x$pval[1]%>%round(3)),\n",
    "  pval_PCC = map_dbl(model,~.x$pval[2]%>%round(3)),\n",
    "  pval_DLPFC = map_dbl(model,~.x$pval[3]%>%round(3)),\n",
    ")"
   ]
  },
  {
   "cell_type": "code",
   "execution_count": 61,
   "metadata": {},
   "outputs": [
    {
     "ename": "ERROR",
     "evalue": "Error in .f(.x[[i]], ...): object 'rmse_ac' not found\n",
     "output_type": "error",
     "traceback": [
      "Error in .f(.x[[i]], ...): object 'rmse_ac' not found\nTraceback:\n",
      "1. working %>% filter(n_of_cs > 0) %>% select(ID, n_of_cs, rmse_ac, \n .     rmse_PCC, rmse_DLPFC, r2_ac, r2_PCC, r2_DLPFC, pval_ac, pval_PCC, \n .     pval_DLPFC) %>% arrange(-r2_DLPFC)",
      "2. withVisible(eval(quote(`_fseq`(`_lhs`)), env, env))",
      "3. eval(quote(`_fseq`(`_lhs`)), env, env)",
      "4. eval(quote(`_fseq`(`_lhs`)), env, env)",
      "5. `_fseq`(`_lhs`)",
      "6. freduce(value, `_function_list`)",
      "7. function_list[[i]](value)",
      "8. select(., ID, n_of_cs, rmse_ac, rmse_PCC, rmse_DLPFC, r2_ac, \n .     r2_PCC, r2_DLPFC, pval_ac, pval_PCC, pval_DLPFC)",
      "9. select.data.frame(., ID, n_of_cs, rmse_ac, rmse_PCC, rmse_DLPFC, \n .     r2_ac, r2_PCC, r2_DLPFC, pval_ac, pval_PCC, pval_DLPFC)",
      "10. tidyselect::vars_select(sel_vars(.data), !!!quos(...))",
      "11. vars_select_eval(.vars, quos)",
      "12. map_if(quos, !is_helper, eval_tidy, mask)",
      "13. map(.x[sel], .f, ...)",
      "14. .f(.x[[i]], ...)"
     ]
    }
   ],
   "source": [
    "working%>%filter(n_of_cs > 0)%>%select(ID,n_of_cs,rmse_ac,rmse_PCC,rmse_DLPFC,r2_ac,r2_PCC,r2_DLPFC,pval_ac,pval_PCC,pval_DLPFC)%>%arrange(-r2_DLPFC)"
   ]
  },
  {
   "cell_type": "code",
   "execution_count": 46,
   "metadata": {},
   "outputs": [],
   "source": [
    "working = working%>%mutate(\n",
    "  rmse_ac = map_dbl(model,~.x$rmse[1]),\n",
    "  rmse_PCC = map_dbl(model,~.x$rmse[2]),\n",
    "  rmse_DLPFC = map_dbl(model,~.x$rmse[3]),\n",
    "  r2_ac = map_dbl(model,~.x$r2_raw[1]),\n",
    "  r2_PCC = map_dbl(model,~.x$r2_raw[2]),\n",
    "  r2_DLPFC = map_dbl(model,~.x$r2_raw[3]),\n",
    "  pval_ac = map_dbl(model,~.x$pval[1]%>%round(3)),\n",
    "  pval_PCC = map_dbl(model,~.x$pval[2]%>%round(3)),\n",
    "  pval_DLPFC = map_dbl(model,~.x$pval[3]%>%round(3)),\n",
    ")"
   ]
  },
  {
   "cell_type": "code",
   "execution_count": 56,
   "metadata": {},
   "outputs": [
    {
     "ename": "ERROR",
     "evalue": "Error in .f(.x[[i]], ...): object 'pval_ac' not found\n",
     "output_type": "error",
     "traceback": [
      "Error in .f(.x[[i]], ...): object 'pval_ac' not found\nTraceback:\n",
      "1. working %>% filter(n_of_cs > 0) %>% select(ID, n_of_cs, rmse_ac, \n .     rmse_PCC, rmse_DLPFC, r2_ac, r2_PCC, r2_DLPFC, pval_ac, pval_PCC, \n .     pval_DLPFC) %>% arrange(-r2_DLPFC)",
      "2. withVisible(eval(quote(`_fseq`(`_lhs`)), env, env))",
      "3. eval(quote(`_fseq`(`_lhs`)), env, env)",
      "4. eval(quote(`_fseq`(`_lhs`)), env, env)",
      "5. `_fseq`(`_lhs`)",
      "6. freduce(value, `_function_list`)",
      "7. function_list[[i]](value)",
      "8. select(., ID, n_of_cs, rmse_ac, rmse_PCC, rmse_DLPFC, r2_ac, \n .     r2_PCC, r2_DLPFC, pval_ac, pval_PCC, pval_DLPFC)",
      "9. select.data.frame(., ID, n_of_cs, rmse_ac, rmse_PCC, rmse_DLPFC, \n .     r2_ac, r2_PCC, r2_DLPFC, pval_ac, pval_PCC, pval_DLPFC)",
      "10. tidyselect::vars_select(sel_vars(.data), !!!quos(...))",
      "11. vars_select_eval(.vars, quos)",
      "12. map_if(quos, !is_helper, eval_tidy, mask)",
      "13. map(.x[sel], .f, ...)",
      "14. .f(.x[[i]], ...)"
     ]
    }
   ],
   "source": [
    "working%>%filter(n_of_cs > 0)%>%select(ID,n_of_cs,rmse_ac,rmse_PCC,rmse_DLPFC,r2_ac,r2_PCC,r2_DLPFC,pval_ac,pval_PCC,pval_DLPFC)%>%arrange(-r2_DLPFC)"
   ]
  },
  {
   "cell_type": "code",
   "execution_count": 66,
   "metadata": {},
   "outputs": [
    {
     "ename": "ERROR",
     "evalue": "Error in readRDS(\"/home/hs3163/Project/Alz/multi_3/mv.RData\"): unknown input format\n",
     "output_type": "error",
     "traceback": [
      "Error in readRDS(\"/home/hs3163/Project/Alz/multi_3/mv.RData\"): unknown input format\nTraceback:\n",
      "1. readRDS(\"/home/hs3163/Project/Alz/multi_3/mv.RData\")"
     ]
    }
   ],
   "source": [
    "readRDS(\"/home/hs3163/Project/Alz/multi_3/mv.RData\")"
   ]
  },
  {
   "cell_type": "code",
   "execution_count": 68,
   "metadata": {},
   "outputs": [
    {
     "name": "stderr",
     "output_type": "stream",
     "text": [
      "Warning message in saveRDS(env$output, \"/home/hs3163/Project/Alz/multi_3/mv.RDS\"):\n",
      "“'package:purrr' may not be available when loading”\n"
     ]
    }
   ],
   "source": [
    "saveRDS(env$output,\"/home/hs3163/Project/Alz/multi_3/mv.RDS\")"
   ]
  },
  {
   "cell_type": "code",
   "execution_count": 71,
   "metadata": {},
   "outputs": [],
   "source": [
    "A = readRDS(\"/home/hs3163/Project/Alz/multi_3/mv.RDS\")"
   ]
  },
  {
   "cell_type": "code",
   "execution_count": 72,
   "metadata": {},
   "outputs": [
    {
     "data": {
      "text/html": [
       "<style>\n",
       ".list-inline {list-style: none; margin:0; padding: 0}\n",
       ".list-inline>li {display: inline-block}\n",
       ".list-inline>li:not(:last-child)::after {content: \"\\00b7\"; padding: 0 .5ex}\n",
       "</style>\n",
       "<ol class=list-inline><li>'tbl_df'</li><li>'tbl'</li><li>'data.frame'</li></ol>\n"
      ],
      "text/latex": [
       "\\begin{enumerate*}\n",
       "\\item 'tbl\\_df'\n",
       "\\item 'tbl'\n",
       "\\item 'data.frame'\n",
       "\\end{enumerate*}\n"
      ],
      "text/markdown": [
       "1. 'tbl_df'\n",
       "2. 'tbl'\n",
       "3. 'data.frame'\n",
       "\n",
       "\n"
      ],
      "text/plain": [
       "[1] \"tbl_df\"     \"tbl\"        \"data.frame\""
      ]
     },
     "metadata": {},
     "output_type": "display_data"
    }
   ],
   "source": [
    "A%>%class"
   ]
  },
  {
   "cell_type": "code",
   "execution_count": 78,
   "metadata": {},
   "outputs": [],
   "source": [
    "a1 = readRDS(\"/home/hs3163/Project/Genome_prior/test/output/geneTpmResidualsAgeGenderAdj_rename.FL_PC3.ED.rds\")"
   ]
  },
  {
   "cell_type": "code",
   "execution_count": 79,
   "metadata": {},
   "outputs": [
    {
     "data": {
      "text/html": [
       "<style>\n",
       ".list-inline {list-style: none; margin:0; padding: 0}\n",
       ".list-inline>li {display: inline-block}\n",
       ".list-inline>li:not(:last-child)::after {content: \"\\00b7\"; padding: 0 .5ex}\n",
       "</style>\n",
       "<ol class=list-inline><li>'U'</li><li>'w'</li><li>'loglik'</li></ol>\n"
      ],
      "text/latex": [
       "\\begin{enumerate*}\n",
       "\\item 'U'\n",
       "\\item 'w'\n",
       "\\item 'loglik'\n",
       "\\end{enumerate*}\n"
      ],
      "text/markdown": [
       "1. 'U'\n",
       "2. 'w'\n",
       "3. 'loglik'\n",
       "\n",
       "\n"
      ],
      "text/plain": [
       "[1] \"U\"      \"w\"      \"loglik\""
      ]
     },
     "metadata": {},
     "output_type": "display_data"
    }
   ],
   "source": [
    "names(a1)"
   ]
  },
  {
   "cell_type": "code",
   "execution_count": 80,
   "metadata": {},
   "outputs": [
    {
     "data": {
      "text/html": [
       "-5.02875"
      ],
      "text/latex": [
       "-5.02875"
      ],
      "text/markdown": [
       "-5.02875"
      ],
      "text/plain": [
       "[1] -5.02875"
      ]
     },
     "metadata": {},
     "output_type": "display_data"
    }
   ],
   "source": [
    "a1$loglik[length(a1$loglik)]\n"
   ]
  },
  {
   "cell_type": "code",
   "execution_count": 81,
   "metadata": {},
   "outputs": [
    {
     "data": {
      "text/html": [
       "<table>\n",
       "<caption>A matrix: 6 × 2 of type chr</caption>\n",
       "<tbody>\n",
       "\t<tr><td>tFLASH</td><td>4.44289797178543e-59</td></tr>\n",
       "\t<tr><td>PCA_1 </td><td>1.64072960136479e-56</td></tr>\n",
       "\t<tr><td>PCA_2 </td><td>0                   </td></tr>\n",
       "\t<tr><td>PCA_3 </td><td>0                   </td></tr>\n",
       "\t<tr><td>tPCA  </td><td>6.2991541062655e-07 </td></tr>\n",
       "\t<tr><td>XX    </td><td>0.999999370084618   </td></tr>\n",
       "</tbody>\n",
       "</table>\n"
      ],
      "text/latex": [
       "A matrix: 6 × 2 of type chr\n",
       "\\begin{tabular}{ll}\n",
       "\t tFLASH & 4.44289797178543e-59\\\\\n",
       "\t PCA\\_1  & 1.64072960136479e-56\\\\\n",
       "\t PCA\\_2  & 0                   \\\\\n",
       "\t PCA\\_3  & 0                   \\\\\n",
       "\t tPCA   & 6.2991541062655e-07 \\\\\n",
       "\t XX     & 0.999999370084618   \\\\\n",
       "\\end{tabular}\n"
      ],
      "text/markdown": [
       "\n",
       "A matrix: 6 × 2 of type chr\n",
       "\n",
       "| tFLASH | 4.44289797178543e-59 |\n",
       "| PCA_1  | 1.64072960136479e-56 |\n",
       "| PCA_2  | 0                    |\n",
       "| PCA_3  | 0                    |\n",
       "| tPCA   | 6.2991541062655e-07  |\n",
       "| XX     | 0.999999370084618    |\n",
       "\n"
      ],
      "text/plain": [
       "     [,1]   [,2]                \n",
       "[1,] tFLASH 4.44289797178543e-59\n",
       "[2,] PCA_1  1.64072960136479e-56\n",
       "[3,] PCA_2  0                   \n",
       "[4,] PCA_3  0                   \n",
       "[5,] tPCA   6.2991541062655e-07 \n",
       "[6,] XX     0.999999370084618   "
      ]
     },
     "metadata": {},
     "output_type": "display_data"
    }
   ],
   "source": [
    "cbind(names(a1$U), a1$w)\n"
   ]
  },
  {
   "cell_type": "code",
   "execution_count": 93,
   "metadata": {},
   "outputs": [],
   "source": [
    "tol = 1E-15\n"
   ]
  },
  {
   "cell_type": "code",
   "execution_count": 94,
   "metadata": {},
   "outputs": [
    {
     "data": {
      "text/html": [
       "<style>\n",
       ".list-inline {list-style: none; margin:0; padding: 0}\n",
       ".list-inline>li {display: inline-block}\n",
       ".list-inline>li:not(:last-child)::after {content: \"\\00b7\"; padding: 0 .5ex}\n",
       "</style>\n",
       "<ol class=list-inline><li>'tPCA'</li><li>'XX'</li></ol>\n"
      ],
      "text/latex": [
       "\\begin{enumerate*}\n",
       "\\item 'tPCA'\n",
       "\\item 'XX'\n",
       "\\end{enumerate*}\n"
      ],
      "text/markdown": [
       "1. 'tPCA'\n",
       "2. 'XX'\n",
       "\n",
       "\n"
      ],
      "text/plain": [
       "[1] \"tPCA\" \"XX\"  "
      ]
     },
     "metadata": {},
     "output_type": "display_data"
    }
   ],
   "source": [
    "names(a1$U)[which(a1$w>tol)]\n"
   ]
  },
  {
   "cell_type": "code",
   "execution_count": 95,
   "metadata": {},
   "outputs": [],
   "source": [
    "plot_sharing = function(X) {\n",
    "clrs <- colorRampPalette(rev(c(\"#D73027\",\"#FC8D59\",\"#FEE090\",\"#FFFFBF\",\n",
    "                               \"#E0F3F8\",\"#91BFDB\",\"#4575B4\")))(64)\n",
    "lat <- cov2cor(X)\n",
    "lat[lower.tri(lat)] <- NA\n",
    "n <- nrow(lat)\n",
    "print(lattice::levelplot(lat[n:1,],col.regions = clrs,xlab = \"\",ylab = \"\",\n",
    "                colorkey = TRUE,at = seq(0,1,length.out = 64),\n",
    "                scales = list(cex = 0.6,x = list(rot = 45))))\n",
    "}\n"
   ]
  },
  {
   "cell_type": "markdown",
   "metadata": {},
   "source": [
    "# With mixture prior"
   ]
  },
  {
   "cell_type": "code",
   "execution_count": null,
   "metadata": {},
   "outputs": [],
   "source": [
    "nohup sos run ~/GIT/neuro-twas/Workflow/mv_susie.ipynb mv_susie    \\\n",
    "--molecular_pheno_dir \"/home/hs3163/Project/Alz/multi/molecular_phenotype_list\"   \\\n",
    "--region_list \"/home/hs3163/Project/Alz/multi/mv_susie_gene_list.txt\"  \\\n",
    "--wd \"/home/hs3163/Project/Alz/multi_mp\"  \\\n",
    "--name_prefix \"geneTpmResidualsAgeGenderAdj_rename\"  \\\n",
    "--container /mnt/mfs/statgen/containers/twas_latest.sif --impute TRUE  --job_size 1 \\\n",
    "--cv_times 100  \\\n",
    "--mixture_prior '~/Project/Genome_prior/merge/output/geneTpmResidualsAgeGenderAdj_rename.Both.flash.FL_PC3.teem.UD_ED.rds'  -J 6 -q csg -c /mnt/mfs/statgen/pbs_template/csg.yml -s build &\n",
    "\n",
    "\n",
    "\n",
    "nohup sos run ~/GIT/neuro-twas/Workflow/mv_susie.ipynb mv_susie    \\\n",
    "--molecular_pheno_dir \"/home/hs3163/Project/Alz/multi/molecular_phenotype_list\"   \\\n",
    "--region_list \"/home/hs3163/Project/Alz/multi/mv_susie_gene_list.txt\"  \\\n",
    "--wd \"/home/hs3163/Project/Alz/multi_mp_2\"  \\\n",
    "--name_prefix \"geneTpmResidualsAgeGenderAdj_rename\"  \\\n",
    "--container /mnt/mfs/statgen/containers/twas_latest.sif --impute TRUE  --job_size 1 \\\n",
    "--cv_times 100  \\\n",
    "--mixture_prior '~/Project/Genome_prior/merge/output/geneTpmResidualsAgeGenderAdj_rename.Both.flash.FL_PC3.teem.UD_ED.rds'  -J 6 -q csg -c /mnt/mfs/statgen/pbs_template/csg.yml -s build &"
   ]
  }
 ],
 "metadata": {
  "kernelspec": {
   "display_name": "R",
   "language": "R",
   "name": "ir"
  },
  "language_info": {
   "codemirror_mode": "r",
   "file_extension": ".r",
   "mimetype": "text/x-r-source",
   "name": "R",
   "pygments_lexer": "r",
   "version": "3.6.3"
  }
 },
 "nbformat": 4,
 "nbformat_minor": 4
}
