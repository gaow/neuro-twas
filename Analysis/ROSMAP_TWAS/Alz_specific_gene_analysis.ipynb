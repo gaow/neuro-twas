{
 "cells": [
  {
   "cell_type": "markdown",
   "metadata": {
    "kernel": "SoS"
   },
   "source": [
    "# Alz specific gene analysis\n",
    "A recent research on Alzheimer disease at 2019 identified around 200 significant genes via GWAS and by GWAS significant SNPs. \n",
    "This analysis take these regions, cross reference them with the genes that were sequenced in the ROSMAP data set, and then compute the weight and Association stats for it."
   ]
  },
  {
   "cell_type": "markdown",
   "metadata": {
    "kernel": "SoS"
   },
   "source": [
    "## Region list construction.\n",
    "Before this step I take the 29 genes from table 1 and 192 genes from table S-13 and combined them into one csv file. It turns out that there are 210 unique genes combined. The genes that are presented in both tables are\n",
    "\n",
    "\"ADAMTS4\"    \"HESX1\"      \"TREM2\"      \"CNTNAP2\"    \"MS4A6A\"     \"PICALM\"     \"SLC24A4\"    \"ADAM10\"     \"SCIMP\"      \"ALPK2\"     \"APOE\"       \"AC074212.3\" \"CD33\"       \"CASS4\"\n",
    "\n",
    "Since for the first 29 genes the paper only report the gene name instead of ensemble ID which is how the genes in the ROSMAP data set labled. The annotation of extracted gene list is the first step.\n",
    "\n",
    "After the gene are fully labled with the external ID. The number of genes that are included in the DLPFC gene expression  of ROSMAP study was retrieved.\n",
    "\n",
    "It truns out that only 144 out of the 210 genes are sequenced in the ROSMAP project. Potentially due to some of them not on a somatic chromosome.\n"
   ]
  },
  {
   "cell_type": "code",
   "execution_count": null,
   "metadata": {
    "kernel": "SoS"
   },
   "outputs": [],
   "source": []
  },
  {
   "cell_type": "code",
   "execution_count": null,
   "metadata": {
    "kernel": "R"
   },
   "outputs": [],
   "source": [
    "library(\"biomaRt\")\n",
    "library(dplyr)\n",
    "gene_list = readr::read_csv(\"/Users/haosun/Documents/WG_Reasearch_Assisstant/Rosmap/Gene_list_from_alzhemer.csv\")\n",
    "## Getting the overlaped genes\n",
    "gene_list[1:192,]$Name[gene_list[1:192,]$Name%in%gene_list[193:nrow(gene_list),]$Name]\n",
    "\n",
    "##  gene ensemble ID annotation\n",
    "ensembl = useDataset(\"hsapiens_gene_ensembl\",mart=useMart(\"ENSEMBL_MART_ENSEMBL\"))\n",
    "ensembl_df <- getBM(attributes=c(\"ensembl_gene_id\",\"chromosome_name\", \"start_position\", \"end_position\",\"external_gene_name\"),mart=ensembl)\n",
    "annotated_genes = ensembl_df%>%filter(external_gene_name %in% gene_list$Name )%>%dplyr::select(ensembl_gene_id,external_gene_name)\n",
    "\n",
    "## Crossref with Rosmap gene list.\n",
    "RSM_gene_list = readr::read_delim(\"/Users/haosun/Documents/WG_Reasearch_Assisstant/Rosmap/Data/geneTpmResidualsAgeGenderAdj_rename_region_list.txt\",\"\\t\")\n",
    "RSM_gene_list%>%filter(gene_ID%in%gene_list_anno$ensembl_gene_id)%>%readr::write_delim(\"/Users/haosun/Documents/WG_Reasearch_Assisstant/Rosmap/Data/RSM_Alz_region_list.txt\",delim = \"\\t\")\n"
   ]
  },
  {
   "cell_type": "markdown",
   "metadata": {
    "kernel": "R"
   },
   "source": [
    "## Weight Computation\n",
    "The weight of each fo the extracted region are then computed using the standard TWAS/Fusion workflow. All five models are used. There are 43 genes who passed the heritability check. The computation of weight for this 43 genes take around 9 hours. The genes that passed the heratibiity check can be found at `/home/hs3163/Project/Alz/data/Alz_passed_gene_region_list.txt` \n",
    "The Computed genes can be found at\n",
    "`/home/hs3163/Project/Alz/WEIGHTS/`"
   ]
  },
  {
   "cell_type": "code",
   "execution_count": null,
   "metadata": {
    "kernel": "SoS"
   },
   "outputs": [],
   "source": [
    "nohup sos run ~/GIT/neuro-twas/Workflow/twas_fusion.ipynb compute_wgt  \\\n",
    "  --molecular-pheno  /home/hs3163/Project/Rosmap/data/gene_exp/DLPFC/geneTpmResidualsAgeGenderAdj_rename.txt  \\\n",
    "  --wd /home/hs3163/Project/Alz \\\n",
    "  --genotype_list /home/hs3163/Project/Rosmap/data/Rosmap_wgs_genotype_list.txt \\\n",
    "  --region_list /home/hs3163/Project/Alz/data/Alz_passed_gene_region_list.txt \\\n",
    "  --region_name 1 \\\n",
    "  --data_start 2 \\\n",
    "  --output_path /home/hs3163/Project/Alz \\\n",
    "  --window 500000 \\\n",
    "  --container /home/hs3163/system_file/twas_latest.sif \\\n",
    "  --model bslmm blup lasso top1 enet \\\n",
    "  --job_size 1\\\n",
    "  -J 6 -q csg -c ~/GIT/neuro-twas/template/csg.yml -s build &"
   ]
  },
  {
   "cell_type": "markdown",
   "metadata": {
    "kernel": "SoS"
   },
   "source": [
    "## Distribution of heritability\n",
    "The distribution of heritability is as followed. This section contains the Explorational data analysis regarding the heritability of the 144 genes. More detailed will be added. "
   ]
  },
  {
   "cell_type": "code",
   "execution_count": null,
   "metadata": {
    "kernel": "R"
   },
   "outputs": [],
   "source": []
  }
 ],
 "metadata": {
  "kernelspec": {
   "display_name": "SoS",
   "language": "sos",
   "name": "sos"
  },
  "language_info": {
   "codemirror_mode": "sos",
   "file_extension": ".sos",
   "mimetype": "text/x-sos",
   "name": "sos",
   "nbconvert_exporter": "sos_notebook.converter.SoS_Exporter",
   "pygments_lexer": "sos"
  },
  "sos": {
   "kernels": [
    [
     "R",
     "ir",
     "R",
     "#DCDCDA",
     ""
    ],
    [
     "SoS",
     "sos",
     "",
     "",
     "sos"
    ]
   ],
   "version": "0.20.1"
  }
 },
 "nbformat": 4,
 "nbformat_minor": 4
}
