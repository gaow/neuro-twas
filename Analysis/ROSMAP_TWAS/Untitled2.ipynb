{
 "cells": [
  {
   "cell_type": "markdown",
   "metadata": {},
   "source": [
    "# Whole Genome prior estimation"
   ]
  },
  {
   "cell_type": "markdown",
   "metadata": {},
   "source": [
    "## Conduct univariate analysis for each genes,for each tissues, using all the SNPs"
   ]
  },
  {
   "cell_type": "code",
   "execution_count": null,
   "metadata": {},
   "outputs": [],
   "source": [
    "nohup sos run ~/GIT/neuro-twas/Workflow/susie-wgs-prior.ipynb susie  \\\n",
    "  --molecular-pheno  /home/hs3163/Project/Rosmap/data/gene_exp/AC/geneTpmResidualsAgeGenderAdj_rename.txt  \\\n",
    "  --wd /home/hs3163/Project/Genome_prior/AC \\\n",
    "  --genotype_list /home/hs3163/Project/Rosmap/data/Rosmap_wgs_genotype_list.txt \\\n",
    "  --region_list /home/hs3163/Project/Rosmap/data/gene_exp/AC/geneTpmResidualsAgeGenderAdj_rename_region_list.txt \\\n",
    "  --region_name 1 \\\n",
    "  --data_start 2 \\\n",
    "  --window 500000 \\\n",
    "  --container /mnt/mfs/statgen/containers/twas_latest.sif \\\n",
    "  --job_size 1\\\n",
    "  -J 50 -q csg -c /mnt/mfs/statgen/pbs_template/csg.yml &"
   ]
  },
  {
   "cell_type": "code",
   "execution_count": null,
   "metadata": {},
   "outputs": [],
   "source": [
    "nohup sos run ~/GIT/neuro-twas/Workflow/susie-wgs-prior.ipynb susie  \\\n",
    "  --molecular-pheno  /home/hs3163/Project/Rosmap/data/gene_exp/PCC/geneTpmResidualsAgeGenderAdj_rename.txt  \\\n",
    "  --wd /home/hs3163/Project/Genome_prior/PCC \\\n",
    "  --genotype_list /home/hs3163/Project/Rosmap/data/Rosmap_wgs_genotype_list.txt \\\n",
    "  --region_list /home/hs3163/Project/Rosmap/data/gene_exp/PCC/geneTpmResidualsAgeGenderAdj_rename_region_list.txt \\\n",
    "  --region_name 1 \\\n",
    "  --data_start 2 \\\n",
    "  --window 500000 \\\n",
    "  --container /mnt/mfs/statgen/containers/twas_latest.sif \\\n",
    "  --job_size 1\\\n",
    "  -J 50 -q csg -c /mnt/mfs/statgen/pbs_template/csg.yml &"
   ]
  },
  {
   "cell_type": "code",
   "execution_count": null,
   "metadata": {},
   "outputs": [],
   "source": [
    "nohup sos run ~/GIT/neuro-twas/Workflow/susie-wgs-prior.ipynb susie  \\\n",
    "  --molecular-pheno  /home/hs3163/Project/Rosmap/data/gene_exp/DLPFC/geneTpmResidualsAgeGenderAdj_rename.txt  \\\n",
    "  --wd /home/hs3163/Project/Genome_prior/DLPFC \\\n",
    "  --genotype_list /home/hs3163/Project/Rosmap/data/Rosmap_wgs_genotype_list.txt \\\n",
    "  --region_list /home/hs3163/Project/Rosmap/data/gene_exp/DLPFC/geneTpmResidualsAgeGenderAdj_rename_region_list.txt \\\n",
    "  --region_name 1 \\\n",
    "  --data_start 2 \\\n",
    "  --window 500000 \\\n",
    "  --container /mnt/mfs/statgen/containers/twas_latest.sif \\\n",
    "  --job_size 1\\\n",
    "  -J 50 -q csg -c /mnt/mfs/statgen/pbs_template/csg.yml &"
   ]
  }
 ],
 "metadata": {
  "kernelspec": {
   "display_name": "SoS",
   "language": "sos",
   "name": "sos"
  },
  "language_info": {
   "codemirror_mode": "sos",
   "file_extension": ".sos",
   "mimetype": "text/x-sos",
   "name": "sos",
   "nbconvert_exporter": "sos_notebook.converter.SoS_Exporter",
   "pygments_lexer": "sos"
  }
 },
 "nbformat": 4,
 "nbformat_minor": 4
}
