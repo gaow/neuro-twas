{
 "cells": [
  {
   "cell_type": "markdown",
   "metadata": {
    "kernel": "SoS"
   },
   "source": [
    "# ROSMAP Data TWAS\n",
    "## Motivation\n",
    "After the finalization of the pipeline, it is time to apply our pipeline to the ROSMAP data to understand how the gene expression in posterior cingulate cortex(PCC) associated with the Alzhemer diseases. Further detail on why use PCC will be added.\n",
    "\n",
    "## Data set\n",
    "The gene expression data set used is geneTpmResidualsAgeGenderAdj.txt: residuals after regressing out significant covariates associated with RNA-seq data like age, sex, batch, and technical covariates.\n",
    "\n",
    "The genotype data is \n"
   ]
  },
  {
   "cell_type": "markdown",
   "metadata": {
    "kernel": "SoS"
   },
   "source": [
    "## Tools\n",
    "The tools used in this analysis is the \"SOS_ROSMAP_gene_exp_processing\" for data preprocessing and the \"twas_fusion\" pipeline for computing and conducting actual analysis. Developed on the fusion foundation, this pipeline takes in gene expression data ans SNP to compute the weight for the follow ups Correlation analysis, and then the gwas association between SNP and the trait are modified by said genes."
   ]
  },
  {
   "cell_type": "code",
   "execution_count": 4,
   "metadata": {
    "kernel": "Bash"
   },
   "outputs": [
    {
     "name": "stdout",
     "output_type": "stream",
     "text": [
      "usage: sos run ../Workflow/SOS_weight_cpt_template.ipynb\n",
      "               [workflow_name | -t targets] [options] [workflow_options]\n",
      "  workflow_name:        Single or combined workflows defined in this script\n",
      "  targets:              One or more targets to generate\n",
      "  options:              Single-hyphen sos parameters (see \"sos run -h\" for details)\n",
      "  workflow_options:     Double-hyphen workflow-specific parameters\n",
      "\n",
      "Workflows:\n",
      "  STEP\n",
      "\n",
      "Global Workflow Options:\n",
      "  --GCTA '/Users/haosun/Documents/WG_Reasearch_Assisstant/Fusion/install/fusion_twas-master/gcta_1.93.2beta_mac/gcta64'\n",
      "                        MAKE SURE FUSION.compute_weights.R IS IN YOUR PATH FILL\n",
      "                        IN THESE PATHS For mac user, the mac version of GCTA\n",
      "                        shall be downloaded saperately, the one came with the\n",
      "                        Fusion package will not work.\n",
      "  --PLINK '/Users/haosun/Documents/WG_Reasearch_Assisstant/Fusion/plink_mac_20200616/plink'\n",
      "  --GEMMA '/Users/haosun/Documents/WG_Reasearch_Assisstant/Fusion/install/fusion_twas-master/GEMMA'\n",
      "  --compute-weight-rscp '/Users/haosun/Documents/WG_Reasearch_Assisstant/Fusion/install/fusion_twas-master/FUSION.compute_weights.mod.R'\n",
      "                        Required the customized fusion.compute_weight.mod.R\n",
      "                        script, other wise will not work\n",
      "  --gene-exp-file '/Users/haosun/Documents/WG_Reasearch_Assisstant/Fusion/install/fusion_twas-master/Testing/Data/GD462.hsq_succ.test.txt'\n",
      "                        Path to the input data,must include the name of the file\n",
      "                        itself (Phenotype data,)\n",
      "  --sumstat-file ''\n",
      "                        (sumstats data)\n",
      "  --wd VAL (as path, required)\n",
      "                        PATH TO WORKING DIRECTORY\n",
      "  --genotype-file-directory VAL (as path, required)\n",
      "                        PATH TO DIRECTORY CONTAINING genotype_file_directory\n",
      "                        DATA (FROM FUSION WEBSITE or https://data.broadinstitute\n",
      "                        .org/alkesgroup/FUSION/genotype_file_directory.tar.bz2)\n",
      "  --genotype-prefix VAL (as path, required)\n",
      "                        PATH TO PREFIX FOR GEUVADIS GENOTYPES SPLIT BY\n",
      "                        CHROMOSOME SUBSAMPLE THESE TO THE\n",
      "                        genotype_file_directory SNPS FOR EFFICIENCY\n",
      "  --chrom 3 (as int)\n",
      "                        Specify the column in the genexpression file that\n",
      "                        contains chromosome\n",
      "  --gene-start VAL (as int, required)\n",
      "                        If both the start and end region are specified, then\n",
      "                        their column can be specified saperately\n",
      "  --gene-end VAL (as int, required)\n",
      "  --gene-name 1 (as int)\n",
      "                        Specify the column in the genexpression file that\n",
      "                        contains the name of the gene\n",
      "  --window 50000 (as int)\n",
      "                        Specify the scanning window for the gene position, set\n",
      "                        default to 50000 if start = end\n",
      "\n",
      "Sections\n",
      "  STEP_0:               Make the Paitient_ID File\n",
      "  STEP_1:               Make folder structure for the pipeline\n",
      "  STEP_2:\n",
      "  STEP_3:               Actual weight computation analysis\n",
      "  STEP_4:               Clean up of the redundency file\n",
      "\n"
     ]
    }
   ],
   "source": [
    "sos run ../Workflow/SOS_weight_cpt_template.ipynb -h"
   ]
  },
  {
   "cell_type": "code",
   "execution_count": 19,
   "metadata": {
    "kernel": "Bash"
   },
   "outputs": [
    {
     "name": "stdout",
     "output_type": "stream",
     "text": [
      "\u001b[91mERROR\u001b[0m: \u001b[91mone of the arguments --assoc_test_rscp --assoc-test-rscp is required\u001b[0m\n",
      "\n"
     ]
    }
   ],
   "source": [
    "## Test pipeline with test data\n"
   ]
  },
  {
   "cell_type": "markdown",
   "metadata": {
    "kernel": "Bash"
   },
   "source": [
    "# Data wrangling\n",
    "Before conducting analysis on the ROSMAP data, the expression file was modified into what is needed for the pipeline using the following command. The tissue of dlpfc was used for the larger sample size (1093 preprocessed) on the cluster.\n"
   ]
  },
  {
   "cell_type": "code",
   "execution_count": 4,
   "metadata": {
    "kernel": "R"
   },
   "outputs": [
    {
     "name": "stderr",
     "output_type": "stream",
     "text": [
      "\n",
      "Attaching package: ‘dplyr’\n",
      "\n",
      "\n",
      "The following objects are masked from ‘package:stats’:\n",
      "\n",
      "    filter, lag\n",
      "\n",
      "\n",
      "The following objects are masked from ‘package:base’:\n",
      "\n",
      "    intersect, setdiff, setequal, union\n",
      "\n",
      "\n",
      "Parsed with column specification:\n",
      "cols(\n",
      "  .default = col_double(),\n",
      "  `#Chr` = \u001b[31mcol_character()\u001b[39m,\n",
      "  ID = \u001b[31mcol_character()\u001b[39m\n",
      ")\n",
      "\n",
      "See spec(...) for full column specifications.\n",
      "\n"
     ]
    },
    {
     "data": {
      "text/html": [
       "<style>\n",
       ".list-inline {list-style: none; margin:0; padding: 0}\n",
       ".list-inline>li {display: inline-block}\n",
       ".list-inline>li:not(:last-child)::after {content: \"\\00b7\"; padding: 0 .5ex}\n",
       "</style>\n",
       "<ol class=list-inline><li>'#Chr'</li><li>'start'</li><li>'end'</li><li>'ID'</li><li>'NA18486'</li><li>'NA18487'</li><li>'NA18488'</li><li>'NA18489'</li><li>'NA18498'</li><li>'NA18499'</li><li>'NA18502'</li><li>'NA18505'</li><li>'NA18508'</li><li>'NA18510'</li><li>'NA18511'</li><li>'NA18517'</li><li>'NA18519'</li><li>'NA18520'</li><li>'NA18858'</li><li>'NA18861'</li><li>'NA18867'</li><li>'NA18868'</li><li>'NA18870'</li><li>'NA18873'</li><li>'NA18907'</li><li>'NA18909'</li><li>'NA18910'</li><li>'NA18912'</li><li>'NA18916'</li><li>'NA18917'</li><li>'NA18923'</li><li>'NA18933'</li><li>'NA18934'</li><li>'NA19093'</li><li>'NA19095'</li><li>'NA19096'</li><li>'NA19098'</li><li>'NA19099'</li><li>'NA19102'</li><li>'NA19107'</li><li>'NA19108'</li><li>'NA19113'</li><li>'NA19114'</li><li>'NA19116'</li><li>'NA19117'</li><li>'NA19118'</li><li>'NA19119'</li><li>'NA19121'</li><li>'NA19129'</li><li>'NA19130'</li><li>'NA19131'</li><li>'NA19137'</li><li>'NA19138'</li><li>'NA19141'</li><li>'NA19143'</li><li>'NA19144'</li><li>'NA19146'</li><li>'NA19147'</li><li>'NA19149'</li><li>'NA19150'</li><li>'NA19152'</li><li>'NA19153'</li><li>'NA19159'</li><li>'NA19171'</li><li>'NA19172'</li><li>'NA19175'</li><li>'NA19184'</li><li>'NA19185'</li><li>'NA19189'</li><li>'NA19190'</li><li>'NA19197'</li><li>'NA19198'</li><li>'NA19200'</li><li>'NA19201'</li><li>'NA19204'</li><li>'NA19206'</li><li>'NA19207'</li><li>'NA19209'</li><li>'NA19210'</li><li>'NA19213'</li><li>'NA19222'</li><li>'NA19223'</li><li>'NA19225'</li><li>'NA19235'</li><li>'NA19236'</li><li>'NA19247'</li><li>'NA19248'</li><li>'NA19256'</li><li>'NA19257'</li></ol>\n"
      ],
      "text/latex": [
       "\\begin{enumerate*}\n",
       "\\item '\\#Chr'\n",
       "\\item 'start'\n",
       "\\item 'end'\n",
       "\\item 'ID'\n",
       "\\item 'NA18486'\n",
       "\\item 'NA18487'\n",
       "\\item 'NA18488'\n",
       "\\item 'NA18489'\n",
       "\\item 'NA18498'\n",
       "\\item 'NA18499'\n",
       "\\item 'NA18502'\n",
       "\\item 'NA18505'\n",
       "\\item 'NA18508'\n",
       "\\item 'NA18510'\n",
       "\\item 'NA18511'\n",
       "\\item 'NA18517'\n",
       "\\item 'NA18519'\n",
       "\\item 'NA18520'\n",
       "\\item 'NA18858'\n",
       "\\item 'NA18861'\n",
       "\\item 'NA18867'\n",
       "\\item 'NA18868'\n",
       "\\item 'NA18870'\n",
       "\\item 'NA18873'\n",
       "\\item 'NA18907'\n",
       "\\item 'NA18909'\n",
       "\\item 'NA18910'\n",
       "\\item 'NA18912'\n",
       "\\item 'NA18916'\n",
       "\\item 'NA18917'\n",
       "\\item 'NA18923'\n",
       "\\item 'NA18933'\n",
       "\\item 'NA18934'\n",
       "\\item 'NA19093'\n",
       "\\item 'NA19095'\n",
       "\\item 'NA19096'\n",
       "\\item 'NA19098'\n",
       "\\item 'NA19099'\n",
       "\\item 'NA19102'\n",
       "\\item 'NA19107'\n",
       "\\item 'NA19108'\n",
       "\\item 'NA19113'\n",
       "\\item 'NA19114'\n",
       "\\item 'NA19116'\n",
       "\\item 'NA19117'\n",
       "\\item 'NA19118'\n",
       "\\item 'NA19119'\n",
       "\\item 'NA19121'\n",
       "\\item 'NA19129'\n",
       "\\item 'NA19130'\n",
       "\\item 'NA19131'\n",
       "\\item 'NA19137'\n",
       "\\item 'NA19138'\n",
       "\\item 'NA19141'\n",
       "\\item 'NA19143'\n",
       "\\item 'NA19144'\n",
       "\\item 'NA19146'\n",
       "\\item 'NA19147'\n",
       "\\item 'NA19149'\n",
       "\\item 'NA19150'\n",
       "\\item 'NA19152'\n",
       "\\item 'NA19153'\n",
       "\\item 'NA19159'\n",
       "\\item 'NA19171'\n",
       "\\item 'NA19172'\n",
       "\\item 'NA19175'\n",
       "\\item 'NA19184'\n",
       "\\item 'NA19185'\n",
       "\\item 'NA19189'\n",
       "\\item 'NA19190'\n",
       "\\item 'NA19197'\n",
       "\\item 'NA19198'\n",
       "\\item 'NA19200'\n",
       "\\item 'NA19201'\n",
       "\\item 'NA19204'\n",
       "\\item 'NA19206'\n",
       "\\item 'NA19207'\n",
       "\\item 'NA19209'\n",
       "\\item 'NA19210'\n",
       "\\item 'NA19213'\n",
       "\\item 'NA19222'\n",
       "\\item 'NA19223'\n",
       "\\item 'NA19225'\n",
       "\\item 'NA19235'\n",
       "\\item 'NA19236'\n",
       "\\item 'NA19247'\n",
       "\\item 'NA19248'\n",
       "\\item 'NA19256'\n",
       "\\item 'NA19257'\n",
       "\\end{enumerate*}\n"
      ],
      "text/markdown": [
       "1. '#Chr'\n",
       "2. 'start'\n",
       "3. 'end'\n",
       "4. 'ID'\n",
       "5. 'NA18486'\n",
       "6. 'NA18487'\n",
       "7. 'NA18488'\n",
       "8. 'NA18489'\n",
       "9. 'NA18498'\n",
       "10. 'NA18499'\n",
       "11. 'NA18502'\n",
       "12. 'NA18505'\n",
       "13. 'NA18508'\n",
       "14. 'NA18510'\n",
       "15. 'NA18511'\n",
       "16. 'NA18517'\n",
       "17. 'NA18519'\n",
       "18. 'NA18520'\n",
       "19. 'NA18858'\n",
       "20. 'NA18861'\n",
       "21. 'NA18867'\n",
       "22. 'NA18868'\n",
       "23. 'NA18870'\n",
       "24. 'NA18873'\n",
       "25. 'NA18907'\n",
       "26. 'NA18909'\n",
       "27. 'NA18910'\n",
       "28. 'NA18912'\n",
       "29. 'NA18916'\n",
       "30. 'NA18917'\n",
       "31. 'NA18923'\n",
       "32. 'NA18933'\n",
       "33. 'NA18934'\n",
       "34. 'NA19093'\n",
       "35. 'NA19095'\n",
       "36. 'NA19096'\n",
       "37. 'NA19098'\n",
       "38. 'NA19099'\n",
       "39. 'NA19102'\n",
       "40. 'NA19107'\n",
       "41. 'NA19108'\n",
       "42. 'NA19113'\n",
       "43. 'NA19114'\n",
       "44. 'NA19116'\n",
       "45. 'NA19117'\n",
       "46. 'NA19118'\n",
       "47. 'NA19119'\n",
       "48. 'NA19121'\n",
       "49. 'NA19129'\n",
       "50. 'NA19130'\n",
       "51. 'NA19131'\n",
       "52. 'NA19137'\n",
       "53. 'NA19138'\n",
       "54. 'NA19141'\n",
       "55. 'NA19143'\n",
       "56. 'NA19144'\n",
       "57. 'NA19146'\n",
       "58. 'NA19147'\n",
       "59. 'NA19149'\n",
       "60. 'NA19150'\n",
       "61. 'NA19152'\n",
       "62. 'NA19153'\n",
       "63. 'NA19159'\n",
       "64. 'NA19171'\n",
       "65. 'NA19172'\n",
       "66. 'NA19175'\n",
       "67. 'NA19184'\n",
       "68. 'NA19185'\n",
       "69. 'NA19189'\n",
       "70. 'NA19190'\n",
       "71. 'NA19197'\n",
       "72. 'NA19198'\n",
       "73. 'NA19200'\n",
       "74. 'NA19201'\n",
       "75. 'NA19204'\n",
       "76. 'NA19206'\n",
       "77. 'NA19207'\n",
       "78. 'NA19209'\n",
       "79. 'NA19210'\n",
       "80. 'NA19213'\n",
       "81. 'NA19222'\n",
       "82. 'NA19223'\n",
       "83. 'NA19225'\n",
       "84. 'NA19235'\n",
       "85. 'NA19236'\n",
       "86. 'NA19247'\n",
       "87. 'NA19248'\n",
       "88. 'NA19256'\n",
       "89. 'NA19257'\n",
       "\n",
       "\n"
      ],
      "text/plain": [
       " [1] \"#Chr\"    \"start\"   \"end\"     \"ID\"      \"NA18486\" \"NA18487\" \"NA18488\"\n",
       " [8] \"NA18489\" \"NA18498\" \"NA18499\" \"NA18502\" \"NA18505\" \"NA18508\" \"NA18510\"\n",
       "[15] \"NA18511\" \"NA18517\" \"NA18519\" \"NA18520\" \"NA18858\" \"NA18861\" \"NA18867\"\n",
       "[22] \"NA18868\" \"NA18870\" \"NA18873\" \"NA18907\" \"NA18909\" \"NA18910\" \"NA18912\"\n",
       "[29] \"NA18916\" \"NA18917\" \"NA18923\" \"NA18933\" \"NA18934\" \"NA19093\" \"NA19095\"\n",
       "[36] \"NA19096\" \"NA19098\" \"NA19099\" \"NA19102\" \"NA19107\" \"NA19108\" \"NA19113\"\n",
       "[43] \"NA19114\" \"NA19116\" \"NA19117\" \"NA19118\" \"NA19119\" \"NA19121\" \"NA19129\"\n",
       "[50] \"NA19130\" \"NA19131\" \"NA19137\" \"NA19138\" \"NA19141\" \"NA19143\" \"NA19144\"\n",
       "[57] \"NA19146\" \"NA19147\" \"NA19149\" \"NA19150\" \"NA19152\" \"NA19153\" \"NA19159\"\n",
       "[64] \"NA19171\" \"NA19172\" \"NA19175\" \"NA19184\" \"NA19185\" \"NA19189\" \"NA19190\"\n",
       "[71] \"NA19197\" \"NA19198\" \"NA19200\" \"NA19201\" \"NA19204\" \"NA19206\" \"NA19207\"\n",
       "[78] \"NA19209\" \"NA19210\" \"NA19213\" \"NA19222\" \"NA19223\" \"NA19225\" \"NA19235\"\n",
       "[85] \"NA19236\" \"NA19247\" \"NA19248\" \"NA19256\" \"NA19257\""
      ]
     },
     "metadata": {},
     "output_type": "display_data"
    }
   ],
   "source": [
    "sos run ~/GIT/neuro-twas/Workflow/SOS_ROSMAP_gene_exp_processing.ipynb \\\n",
    "    --ref \"/home/hs3163/Project/Rosmap/data/new_gene_keys_plink.txt\" \\\n",
    "    --name_col 2 \\\n",
    "    --real_name_col 1 \\\n",
    "    --gene_exp \"/mnt/mfs/hgrcgrid/shared/DeJagerLab/datasets/rosmap/rnaseq/dlpfcTissue/batch0-m5/values/residuals/geneTpmResidualsAgeGenderAdj.txt\" \\\n",
    "    --start_at 2 \\\n",
    "    --output \"/home/hs3163/Project/Rosmap/data/gene_exp/DLPFC\" \\\n",
    "    -J 6 -c ~/template/farnam.yml\n"
   ]
  },
  {
   "cell_type": "markdown",
   "metadata": {
    "kernel": "R"
   },
   "source": [
    "The script used to create the genotype_list file is as followed. The created file was stored at ~/Project/Rosmap/data along with other table requied for the analysis."
   ]
  },
  {
   "cell_type": "code",
   "execution_count": 3,
   "metadata": {
    "kernel": "R"
   },
   "outputs": [
    {
     "name": "stderr",
     "output_type": "stream",
     "text": [
      "\n",
      "Attaching package: ‘dplyr’\n",
      "\n",
      "\n",
      "The following objects are masked from ‘package:stats’:\n",
      "\n",
      "    filter, lag\n",
      "\n",
      "\n",
      "The following objects are masked from ‘package:base’:\n",
      "\n",
      "    intersect, setdiff, setequal, union\n",
      "\n",
      "\n"
     ]
    }
   ],
   "source": [
    "library(dplyr)\n",
    "library(tibble)\n",
    "a = tibble(\n",
    "  chr = c(seq(1:23))\n",
    ")%>%mutate(\n",
    "  dir = paste(\"/mnt/mfs/hgrcgrid/shared/DeJagerLab/datasets/rosmap/wgs/ampad/variants/snvCombinedPlink/chr\",chr,\".bed\", sep = \"\"))%>%\n",
    "    select(\"#chr\" = chr,dir)%>%\n",
    "    readr::write_tsv( path = \"~/Rosmap_wgs_genotype_list.txt\", na = \"NA\", append = FALSE, col_names = TRUE, quote_escape = \"double\")"
   ]
  },
  {
   "cell_type": "markdown",
   "metadata": {
    "kernel": "R"
   },
   "source": [
    "## Running the workflow\n",
    "The following command was used to invoke the twas_fusion pipeline to firstly compute the weight and then conduct association test for the ROSMAP data. During the testing period, the the input has 30 genes and the job_size is set to 5."
   ]
  },
  {
   "cell_type": "code",
   "execution_count": 5,
   "metadata": {
    "kernel": "Bash"
   },
   "outputs": [
    {
     "name": "stderr",
     "output_type": "stream",
     "text": [
      "Keyboard Interrupt\n"
     ]
    }
   ],
   "source": [
    "sos run ~/GIT/neuro-twas/Workflow/twas_fusion.ipynb twas_fusion  \\\n",
    "  --gwas_sumstat /home/hs3163/Project/test/sum_stat.sumstats \\\n",
    "  --molecular-pheno  /home/hs3163/Project/Rosmap/data/gene_exp/DLPFC/geneTpmResidualsAgeGenderAdj_rename.txt  \\\n",
    "  --wd /home/hs3163/Project/test \\\n",
    "  --genotype_list /home/hs3163/Project/Rosmap/data/Rosmap_wgs_genotype_list.txt \\\n",
    "  --region_list /home/hs3163/Project/test/test_gene_region_list.txt \\\n",
    "  --region_name 1 \\\n",
    "  --data_start 2 \\\n",
    "  --output_path /home/hs3163/Project/test \\\n",
    "  --window 500000 \\\n",
    "  --model blup lasso top1 enet \\\n",
    "  --container /home/hs3163/system_file/twas_latest.sif \\\n",
    "  --job_size 5\\\n",
    "  -J 6 -c ~/template/farnam.yml\n",
    "\n",
    "\n"
   ]
  },
  {
   "cell_type": "code",
   "execution_count": null,
   "metadata": {
    "kernel": "Bash"
   },
   "outputs": [],
   "source": [
    "### Run pipeline with chicago data in another dir to simulate conducting research using other dataset\n",
    "sos_pipeline=\"../Workflow/SOS_weight_cpt_template.ipynb\"\n",
    "sos run ../Workflow/SOS_weight_cpt_template.ipynb AssocTest\\\n",
    "  --GCTA \"/Users/haosun/Documents/WG_Reasearch_Assisstant/Fusion/install/fusion_twas-master/gcta_1.93.2beta_mac/gcta64\" \\\n",
    "  --PLINK `which plink` \\\n",
    "  --GEMMA `which gemma` \\\n",
    "  --compute_weight_rscp  \"/Users/haosun/Documents/WG_Reasearch_Assisstant/GIT/twas-dev/Workflow/FUSION.compute_weights.R\" \\\n",
    "  --gene_exp_file \"/Users/haosun/Documents/WG_Reasearch_Assisstant/Fusion/Project/Chicago/Data/fastqtl_qqnorm_RNAseqGeuvadis_phase2_fixed_chosen.txt\" \\\n",
    "  --wd  \"/Users/haosun/Documents/WG_Reasearch_Assisstant/Fusion/Project/Chicago/Working1\" \\\n",
    "  --genotype_file_directory  \"/Users/haosun/Documents/WG_Reasearch_Assisstant/Fusion/Project/Chicago/Data/genotype_plink_bfiles\" \\\n",
    "  --genotype_prefix \"YRI.120samples.hg19\" \\\n",
    "  --chrom 1 \\\n",
    "  --gene_name 4 \\\n",
    "  --gene_start 2 \\\n",
    "  --gene_end 3 \\\n",
    "  --sumstat_file \"/Users/haosun/Documents/WG_Reasearch_Assisstant/Fusion/Project/Chicago/Data/PGC2.SCZ_chi_rb.sumstats\"\\\n",
    "  --assoc_test_rscp \"/Users/haosun/Documents/WG_Reasearch_Assisstant/Fusion/install/fusion_twas-master/FUSION.assoc_test.R\"\\\n",
    "  --assoc_test_result \"/Users/haosun/Documents/WG_Reasearch_Assisstant/Fusion/Project/Alz_test/Working/result\"\n",
    "  --window 1000"
   ]
  },
  {
   "cell_type": "markdown",
   "metadata": {
    "kernel": "Bash"
   },
   "source": [
    "## Manipulate the AD sumstat"
   ]
  },
  {
   "cell_type": "code",
   "execution_count": 39,
   "metadata": {
    "kernel": "R"
   },
   "outputs": [
    {
     "name": "stderr",
     "output_type": "stream",
     "text": [
      "Keyboard Interrupt\n"
     ]
    }
   ],
   "source": []
  },
  {
   "cell_type": "markdown",
   "metadata": {
    "kernel": "SoS"
   },
   "source": [
    "## Result\n",
    "The above scripts was ran 3 times before the desired output was generated.\n",
    "\n",
    "When scanning 1000bp before and after the gene region. Out of 50 genes, 10 of them passed the heritability test and can be passed down toward the followup analysis.\n",
    "\n",
    "When scanning 500000bp before and after the gene starting site, out of 50 genes, 4 of them passed the heritability test and can be passed down toward the followup analysis."
   ]
  },
  {
   "cell_type": "code",
   "execution_count": null,
   "metadata": {
    "kernel": "Bash"
   },
   "outputs": [],
   "source": [
    "## Minimal working example\n",
    "sos_pipeline=\"../Workflow/SOS_weight_cpt_template.ipynb\"\n",
    "sos run ../Workflow/SOS_weight_cpt_template.ipynb STEP\\\n",
    "  --GCTA \"/Users/haosun/Documents/WG_Reasearch_Assisstant/Fusion/install/fusion_twas-master/gcta_1.93.2beta_mac/gcta64\" \\\n",
    "  --PLINK `which plink` \\\n",
    "  --GEMMA `which gemma` \\\n",
    "  --compute_weight_rscp  \"/Users/haosun/Documents/WG_Reasearch_Assisstant/GIT/twas-dev/Workflow/FUSION.compute_weights.R\" \\\n",
    "  --gene_exp_file \"/Users/haosun/Documents/WG_Reasearch_Assisstant/Fusion/Project/Chicago/Data/fastqtl_qqnorm_RNAseqGeuvadis_phase2_fixed_chosen.txt\" \\\n",
    "  --wd  \"/Users/haosun/Documents/WG_Reasearch_Assisstant/Fusion/Project/Chicago/Working1\" \\\n",
    "  --genotype_file_directory  \"/Users/haosun/Documents/WG_Reasearch_Assisstant/Fusion/Project/Chicago/Data/genotype_plink_bfiles\" \\\n",
    "  --genotype_prefix \"YRI.120samples.hg19\" \\\n",
    "  --chrom 1 \\\n",
    "  --gene_name 4 \\\n",
    "  --gene_start 2 \\\n",
    "  --gene_end 3 \\\n",
    "  --sumstat_file \"/Users/haosun/Documents/WG_Reasearch_Assisstant/Fusion/Project/Chicago/Data/PGC2.SCZ_chi_rb.sumstats\"\\\n",
    "  --assoc_test_rscp \"/Users/haosun/Documents/WG_Reasearch_Assisstant/Fusion/install/fusion_twas-master/FUSION.assoc_test.R\"\\\n",
    "  --assoc_test_result \"/Users/haosun/Documents/WG_Reasearch_Assisstant/Fusion/Project/Alz_test/Working/result\"\n",
    "  --window 1000"
   ]
  },
  {
   "cell_type": "code",
   "execution_count": 1,
   "metadata": {
    "kernel": "Bash"
   },
   "outputs": [
    {
     "name": "stdout",
     "output_type": "stream",
     "text": [
      "/Users/haosun/Documents/WG_Reasearch_Assisstant/GIT/twas-dev/Analysis\n",
      "\n"
     ]
    }
   ],
   "source": [
    "## Potential graphing with the hsq distribution\n",
    "pwd"
   ]
  },
  {
   "cell_type": "markdown",
   "metadata": {
    "kernel": "SoS"
   },
   "source": []
  }
 ],
 "metadata": {
  "kernelspec": {
   "display_name": "SoS",
   "language": "sos",
   "name": "sos"
  },
  "language_info": {
   "codemirror_mode": "sos",
   "file_extension": ".sos",
   "mimetype": "text/x-sos",
   "name": "sos",
   "nbconvert_exporter": "sos_notebook.converter.SoS_Exporter",
   "pygments_lexer": "sos"
  },
  "sos": {
   "kernels": [
    [
     "Bash",
     "calysto_bash",
     "Bash",
     "#E6EEFF",
     ""
    ],
    [
     "Python3",
     "python3",
     "Python3",
     "#FFD91A",
     {
      "name": "ipython",
      "version": 3
     }
    ],
    [
     "R",
     "ir",
     "R",
     "#DCDCDA",
     "r"
    ],
    [
     "SoS",
     "sos",
     "",
     "",
     "sos"
    ]
   ],
   "version": "0.20.1"
  }
 },
 "nbformat": 4,
 "nbformat_minor": 4
}
