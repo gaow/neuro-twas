{
 "cells": [
  {
   "cell_type": "markdown",
   "metadata": {
    "kernel": "SoS"
   },
   "source": [
    "# ROSMAP Data Description\n",
    "## Background\n",
    "The data used is the ROSEMAP data set, a combination of two studies: The Religious order Study (ROS) and the Memory and Aging Project (MAP)-that recruit older individuals without known dementia and include detailed cognitive, neuroimaging and other ante-mortem phenotyping and (2) an autopsy at the time of death that includes a structured neuropathologic examination. A detailed description of the study's background can be found at\n",
    "\n",
    "De Jager, P. L. et al. A multi-omic atlas of the human frontal cortex for aging and Alzheimer’s disease research. Sci. Data 5:180142 doi: 10.1038/sdata.2018.142 (2018).\n",
    "Publisher’s\n",
    "\n",
    "## Data set\n",
    "The dataset of we used in the analysis is located on the csg cluster `/mnt/mfs/ctcn/datasets/rosmap/`. Currently there are two types of data that are being used: gene expression, and Whole genome sequencing. The path of the file is documented at each sections."
   ]
  },
  {
   "cell_type": "markdown",
   "metadata": {
    "kernel": "SoS"
   },
   "source": [
    "### Whole Genome Sequencing\n",
    "The WGS data is stored at `/mnt/mfs/ctcn/datasets/rosmap/wgs/ampad/variants/snvCombinedPlink/`\n",
    "There are 7176 samples being sequenced over 9536310 snps. These information is acquired by the following commands on the cluster"
   ]
  },
  {
   "cell_type": "code",
   "execution_count": null,
   "metadata": {
    "kernel": "SoS"
   },
   "outputs": [],
   "source": [
    "cd /mnt/mfs/ctcn/datasets/rosmap/wgs/ampad/variants/snvCombinedPlink\n",
    "# For number of samples\n",
    "wc *.fam\n",
    "# For number of SNPs\n",
    "wc *.bim"
   ]
  },
  {
   "cell_type": "code",
   "execution_count": null,
   "metadata": {
    "kernel": "SoS"
   },
   "outputs": [],
   "source": [
    "### Genome type list\n",
    "The genome type list file is created with the following code. This file provide a diretory for the genotype file that are used for the analysis workflow to run."
   ]
  },
  {
   "cell_type": "code",
   "execution_count": null,
   "metadata": {
    "kernel": "SoS"
   },
   "outputs": [],
   "source": [
    "Due to the issue: https://github.com/cumc/neuro-twas/issues/19 , a symbolic link was created and were used in the genotype_list file."
   ]
  },
  {
   "cell_type": "code",
   "execution_count": null,
   "metadata": {
    "kernel": "SoS"
   },
   "outputs": [],
   "source": [
    "library(dplyr)\n",
    "library(tibble)\n",
    "a = tibble(\n",
    "  chr = c(seq(1:23))\n",
    ")%>%mutate(\n",
    "  dir = paste(\"/mnt/mfs/ctcn/datasets/rosmap/wgs/ampad/variants/snvCombinedPlink/chr\",chr,\".bed\", sep = \"\"))%>%\n",
    "    select(\"#chr\" = chr,dir)%>%\n",
    "    readr::write_tsv( path = \"/home/hs3163/Project/Rosmap/data/Rosmap_wgs_genotype_list.txt\", na = \"NA\", append = FALSE, col_names = TRUE, quote_escape = \"double\")"
   ]
  },
  {
   "cell_type": "markdown",
   "metadata": {
    "jupyter": {
     "source_hidden": true
    },
    "kernel": "SoS"
   },
   "source": [
    "### Gene expression"
   ]
  },
  {
   "cell_type": "markdown",
   "metadata": {
    "kernel": "SoS"
   },
   "source": [
    "The gene expression data for each tissues is stored at the following folders.\n",
    "\n",
    "For dorsolateral prefrontal cortex (DLPFC), 18629 genes (filtered from 58302) from 1092 samples were sequenced.\n",
    "`/mnt/mfs/ctcn/datasets/rosmap/rnaseq/dlpfcTissue/batch0-m5/values/`\n",
    "\n",
    "For anterior commissure (AC), 19147 genes from 731 samples were sequenced\n",
    "`/mnt/mfs/ctcn/datasets/rosmap/rnaseq/acTissue/mbatch1-4/values/`\n",
    "\n",
    "For posterior cingulate cortex (PCC), 19017 genes (filtered from 58302) from samples were sequenced\n",
    "`/mnt/mfs/ctcn/datasets/rosmap/rnaseq/pccTissue/mbatch1-5/values/`\n",
    "The amount of samples sequenced is acquired by the following commands on the cluster\n",
    "\n",
    "In it there is various folder as outlined below:\n",
    "* /values\n",
    "    * /raw: raw expected counts and TPM data\n",
    "    * /filtered: filtered data after removing outlier samples and lowly expressed genes\n",
    "    * /residuals: residuals after regressing out significant covariates associated with RNA-seq data.\n",
    "    * geneTpmResidualsAgeGenderUnadj.txt\n",
    "    * geneTpmResidualsAgeGenderAdj.txt\n",
    "    * residuals of TPM data.\n",
    "    Adjusted for batch and technical covariates: AgeGenderUnadj\n",
    "    Adjusted for age, sex, batch, and technical covariates: AgeGenderAdj\n",
    "    * /scripts: Rscripts to produce these results.\n",
    "For the purpose of our analysis, we shall use the residuals value taht are ajusted for both the technical covariate and the background such as age and sex.\n",
    "\n",
    "The information above is acquired by the following commands on cluster."
   ]
  },
  {
   "cell_type": "code",
   "execution_count": null,
   "metadata": {
    "kernel": "SoS"
   },
   "outputs": [],
   "source": [
    "# To get the number of samples\n",
    "head -1 /mnt/mfs/ctcn/datasets/rosmap/rnaseq/dlpfcTissue/batch0-m5/values/residuals/geneTpmResidualsPlusBaselineAgeGenderAdj.txt | wc\n",
    "head -1 /mnt/mfs/ctcn/datasets/rosmap/rnaseq/acTissue/mbatch1-4/values/residuals/geneTpmResidualsAgeGenderAdj.txt | wc\n",
    "head -1 /mnt/mfs/ctcn/datasets/rosmap/rnaseq/pccTissue/mbatch1-5/values/residuals/geneTpmResidualsAgeGenderAdj.txt  | wc\n",
    "# To get the number of genes\n",
    "head -1 /mnt/mfs/ctcn/datasets/rosmap/rnaseq/dlpfcTissue/batch0-m5/values/residuals/geneTpmResidualsPlusBaselineAgeGenderAdj.txt | wc\n",
    "head -1 /mnt/mfs/ctcn/datasets/rosmap/rnaseq/acTissue/mbatch1-4/values/residuals/geneTpmResidualsAgeGenderAdj.txt | wc\n",
    "head -1 /mnt/mfs/ctcn/datasets/rosmap/rnaseq/pccTissue/mbatch1-5/values/residuals/geneTpmResidualsAgeGenderAdj.txt  | wc\n"
   ]
  },
  {
   "cell_type": "markdown",
   "metadata": {
    "kernel": "SoS"
   },
   "source": [
    "# Problemetic SNPs\n",
    "When using the WGS data to perform TWAS fusion or any other computation that required the bed matrix to be scale() in R. 3 SNPs,7:100549543_A_G\" \"7:100614961_A_G\" \"7:100615281_A_G\", on chromosome 7 have universial 1, which produce NaN in R and hence casuing error that illustrated in issue #23"
   ]
  },
  {
   "cell_type": "markdown",
   "metadata": {
    "kernel": "SoS"
   },
   "source": [
    "### Data Pre Processing\n",
    "Currently the sample names used in the gene expression file and the wgs file is not the same. A sos workflow is adopted to \n",
    "* Match the sample names of the gene expression file with that of the genotypes file\n",
    "* Create a region list file for all the regions that are contained in the gene expression file. This list allow us to flexibily control what regions are included in the analysis\n",
    "\n",
    "The Index file that were used to matched the sample name can be found here:\n",
    " `/mnt/mfs/ctcn/datasets/rosmap/wgs/ampad/qualityControl/sampleSheetAfterQc.csv`\n"
   ]
  },
  {
   "cell_type": "code",
   "execution_count": null,
   "metadata": {
    "kernel": "SoS"
   },
   "outputs": [],
   "source": [
    "sos run ~/GIT/neuro-twas/Workflow/SOS_ROSMAP_gene_exp_processing.ipynb \\\n",
    "    --ref \"/home/hs3163/Project/Rosmap/data/patient_key_WGS.txt\" \\\n",
    "    --name_col 2 \\\n",
    "    --real_name_col 1 \\\n",
    "    --gene_exp \"/mnt/mfs/ctcn/datasets/rosmap/rnaseq/dlpfcTissue/batch0-m5/values/residuals/geneTpmResidualsAgeGenderAdj.txt\" \\\n",
    "    --start_at 2 \\\n",
    "    --output \"/home/hs3163/Project/Rosmap/data/gene_exp/DLPFC\" \\\n",
    "    -J 6 -q csg -c ~/system_file/csg.yml\n",
    "\n",
    "sos run ~/GIT/neuro-twas/Workflow/SOS_ROSMAP_gene_exp_processing.ipynb \\\n",
    "    --ref \"/home/hs3163/Project/Rosmap/data/patient_key_WGS.txt\" \\\n",
    "    --name_col 2 \\\n",
    "    --real_name_col 1 \\\n",
    "    --gene_exp \"/mnt/mfs/ctcn/datasets/rosmap/rnaseq/pccTissue/mbatch1-5/values/residuals/geneTpmResidualsAgeGenderAdj.txt\" \\\n",
    "    --start_at 2 \\\n",
    "    --output \"/home/hs3163/Project/Rosmap/data/gene_exp/PCC\" \\\n",
    "    -J 6 -q csg -c ~/system_file/csg.yml\n",
    "\n",
    "sos run ~/GIT/neuro-twas/Workflow/SOS_ROSMAP_gene_exp_processing.ipynb \\\n",
    "    --ref \"/home/hs3163/Project/Rosmap/data/patient_key_WGS.txt\" \\\n",
    "    --name_col 2 \\\n",
    "    --real_name_col 1 \\\n",
    "    --gene_exp \"/mnt/mfs/ctcn/datasets/rosmap/rnaseq/acTissue/mbatch1-4/values/residuals/geneTpmResidualsAgeGenderAdj.txt\" \\\n",
    "    --start_at 2 \\\n",
    "    --output \"/home/hs3163/Project/Rosmap/data/gene_exp/AC\" &"
   ]
  },
  {
   "cell_type": "markdown",
   "metadata": {
    "kernel": "R"
   },
   "source": [
    "After the processing of the data, for DLPFC, there are 852 samples, with 17891 genes."
   ]
  },
  {
   "cell_type": "markdown",
   "metadata": {
    "kernel": "SoS"
   },
   "source": [
    "To estimate how many of the genes passed can pass the heritability check, following command is ran."
   ]
  },
  {
   "cell_type": "code",
   "execution_count": null,
   "metadata": {
    "kernel": "SoS"
   },
   "outputs": [],
   "source": [
    "R:\n",
    "library(tidyverse)\n",
    "region_list=read_delim(\"/home/hs3163/Project/Rosmap/data/gene_exp/DLPFC/geneTpmResidualsAgeGenderAdj_rename_region_list.txt\",\"\\t\")\n",
    "# Select 2000 genes that have not been ran.\n",
    "index = sample(201:nrow(region_list),2000)\n",
    "region_list_selected = region_list[index,]\n",
    "region_list_selected%>%readr::write_delim(\"/home/hs3163/Project/est_hsq/est_hsq_region_list.txt\",delim = \"\\t\")\n",
    "\n",
    "bash:\n",
    "# To save time, compute weight without the bslmm module\n",
    "nohup sos run ~/GIT/neuro-twas/Workflow/twas_fusion.ipynb compute_wgt  \\\n",
    "  --molecular-pheno /home/hs3163/Project/Rosmap/data/gene_exp/DLPFC/geneTpmResidualsAgeGenderAdj_rename.txt  \\\n",
    "  --wd /home/hs3163/Project/est_hsq \\\n",
    "  --genotype_list /home/hs3163/Project/Rosmap/data/Rosmap_wgs_genotype_list.txt \\\n",
    "  --region_list /home/hs3163/Project/est_hsq/est_hsq_region_list.txt \\\n",
    "  --region_name 1 \\\n",
    "  --data_start 2 \\\n",
    "  --window 500000 \\\n",
    "  --container /home/hs3163/system_file/twas_latest.sif \\\n",
    "  --model blup lasso top1 enet \\\n",
    "  --job_size 50\\\n",
    "  -J 10 -q csg -c ~/GIT/neuro-twas/template/csg.yml -s build &"
   ]
  }
 ],
 "metadata": {
  "kernelspec": {
   "display_name": "SoS",
   "language": "sos",
   "name": "sos"
  },
  "language_info": {
   "codemirror_mode": "sos",
   "file_extension": ".sos",
   "mimetype": "text/x-sos",
   "name": "sos",
   "nbconvert_exporter": "sos_notebook.converter.SoS_Exporter",
   "pygments_lexer": "sos"
  },
  "sos": {
   "kernels": [
    [
     "R",
     "ir",
     "R",
     "#DCDCDA",
     ""
    ],
    [
     "SoS",
     "sos",
     "",
     "",
     "sos"
    ]
   ],
   "version": "0.20.1"
  }
 },
 "nbformat": 4,
 "nbformat_minor": 4
}
