{
 "cells": [
  {
   "cell_type": "markdown",
   "metadata": {
    "kernel": "SoS"
   },
   "source": [
    "# Alz specific gene analysis\n",
    "A recent research on Alzheimer disease at 2019 identified around 200 significant genes via GWAS and by GWAS significant SNPs. \n",
    "This analysis take these regions, cross reference them with the genes that were sequenced in the ROSMAP data set, and then compute the weight and Association stats for it. The citation of the refereence is attached at the end of this document.\n"
   ]
  },
  {
   "cell_type": "markdown",
   "metadata": {
    "kernel": "SoS"
   },
   "source": [
    "## Region list construction.\n",
    "A gene list was extracted from both table 1,via microsoft word OCR, and downloaded supplemanty table 13 of the paper.\n",
    "\n",
    "The code used for extractng a region list is as followed. Further description and formmating to be added. \n",
    "\n",
    "The following codes are meant to be ran in a R enviorment with package collection tidyverse installed. \n",
    "\n",
    "There are in total 198 unique genes combined, with 162 of them included in the ROSMAP gene expression files.\n",
    "\n"
   ]
  },
  {
   "cell_type": "code",
   "execution_count": 4,
   "metadata": {
    "kernel": "R"
   },
   "outputs": [
    {
     "name": "stderr",
     "output_type": "stream",
     "text": [
      "also installing the dependency ‘snakecase’\n",
      "\n",
      "\n",
      "Updating HTML index of packages in '.Library'\n",
      "\n",
      "Making 'packages.html' ...\n",
      " done\n",
      "\n"
     ]
    }
   ],
   "source": []
  },
  {
   "cell_type": "code",
   "execution_count": null,
   "metadata": {
    "kernel": "R"
   },
   "outputs": [],
   "source": [
    "library(\"biomaRt\")\n",
    "library(tidyverse)\n",
    "table_13 = read_csv(\"/Users/haosun/Documents/WG_Reasearch_Assisstant/Fusion/Project/table_13.csv\",skip = 3)%>%janitor::clean_names()%>%dplyr::select(chr,gene,ensembl_id)\n",
    "table_1 = read_csv(\"/Users/haosun/Documents/WG_Reasearch_Assisstant/Fusion/Project/table_1.csv\",skip = 2)%>%janitor::clean_names()%>%dplyr::select(chr,gene,snp)\n",
    "table_13 = table_13[1:192,]\n",
    "table_1[,3]=1\n",
    "table_1 = table_1%>%na.omit()\n",
    "# Manual change the error in table_1\n",
    "#Typo in the paper\n",
    "table_1$gene[table_1$gene == \"INPPD5\"] = \"INPP5D\"\n",
    "#Alternative name for same genes\n",
    "table_1$gene[table_1$gene == \"AC074212.3\"] = \"BHMG1\"\n",
    "table_1$gene[table_1$gene == \"BZRAP1-AS1\"] = \"TSPOAP1-AS1\"\n",
    "#Two genes putted together\n",
    "table_1$gene[table_1$gene == \"CLU/PTK2B\"] = \"CLU\"\n",
    "table_1 = rbind(table_1,c(8,\"PTK2B\",1))\n",
    "\n",
    "table_1%>%filter(!gene%in%table_13$gene)\n",
    "\n",
    "# Annotated the ID for table_1\n",
    "ensembl = useDataset(\"hsapiens_gene_ensembl\",mart=useMart(\"ENSEMBL_MART_ENSEMBL\"))\n",
    "#ensembl_df <- getBM(attributes=c(\"ensembl_gene_id\",\"chromosome_name\", \"start_position\", \"end_position\",\"external_gene_name\"),mart=ensembl)%>%filter(!str_detect(chromosome_name,\"CHR\"))\n",
    "table_1_anno = left_join(x = table_1, y = ensembl_df, by = c(\"gene\" = \"external_gene_name\"))%>%dplyr::select(gene,\"ensembl_id\" = ensembl_gene_id,chr)\n",
    "table_1_anno[is.na(table_1_anno$ensembl_id),]\n",
    "\n",
    "# Remove the * in table_13\n",
    "str_detect(Name,\"\\\\*\")\n",
    "table_13[str_detect(table_13$gene,\"\\\\*\"),] = table_13%>%filter(str_detect(gene,\"\\\\*\"))%>%mutate(gene = str_sub(gene,end=-2))\n",
    "\n",
    "\n",
    "# combined the two table and remove the duplicated. table 1 bring 7 additional genes to table 13\n",
    "Alz_gene = rbind(table_1_anno,table_13)%>%filter(!duplicated(gene))\n",
    "Alz_gene\n",
    "\n",
    "# Find if all the genes present in the ROSMAP dataset\n",
    "#DLPFC\n",
    "RSM_DLPFC_gene_list = readr::read_delim(\"/Users/haosun/Documents/WG_Reasearch_Assisstant/Rosmap/Data/geneTpmResidualsAgeGenderAdj_rename_region_list.txt\",\"\\t\")\n",
    "# A total of 162 genes are present in the DLPFC gene exp\n",
    "Alz_gene_notIn_DLPFC = Alz_gene%>%filter(!ensembl_id%in%RSM_DLPFC_gene_list$gene_ID)\n",
    "\n",
    "#PCC\n",
    "RSM_PCC_gene_list = readr::read_delim(\"/Users/haosun/Documents/WG_Reasearch_Assisstant/Rosmap/Data/geneCountsResidualsPlusBaselineAgeGenderAdj_rename.txt\",\"\\t\")\n",
    "Alz_gene_notIn_PCC = Alz_gene%>%filter(!ensembl_id%in%RSM_PPC_gene_list$gene_ID)\n",
    "Alz_gene_notIn_PCC == Alz_gene_notIn_DLPFC\n",
    "\n",
    "#AC\n",
    "RSM_AC_gene_list = readr::read_delim(\"/Users/haosun/Documents/WG_Reasearch_Assisstant/Rosmap/Data/geneCountsResidualsAgeGenderAdj.txt\",\" \")\n",
    "Alz_gene_notIn_AC = Alz_gene%>%filter(!ensembl_id%in%RSM_AC_gene_list$gene_ID)\n",
    "\n",
    "# Gene that are only excluded from AC \n",
    "Alz_gene_notIn_AC[!Alz_gene_notIn_AC$gene%in%Alz_gene_notIn_PCC$gene,]\n",
    "\n",
    "# Gene that are excluded from PCC and DLPFC only\n",
    "Alz_gene_notIn_PCC[!Alz_gene_notIn_PCC$gene%in%Alz_gene_notIn_AC$gene,]\n",
    "\n",
    "#See what gene from table 1 are excluded, both gene_set\n",
    "table_1[table_1$gene%in%Alz_gene_notIn_PCC$gene,]\n",
    "table_1[table_1$gene%in%Alz_gene_notIn_AC$gene,]\n",
    "\n",
    "#See what gene from table 13 are excluded\n",
    "table_13[table_13$gene%in%Alz_gene_notIn_PCC$gene,]\n",
    "table_13[table_13$gene%in%Alz_gene_notIn_AC$gene,]\n",
    "\n",
    "# Export the region list for DLPFC and PCC\n",
    "RSM_ALZ_gene = RSM_DLPFC_gene_list%>%filter(gene_ID%in%Alz_gene$ensembl_id)\n",
    "RSM_ALZ_gene%>%write_delim(\"/Users/haosun/Documents/WG_Reasearch_Assisstant/Rosmap/Data/RSM_Alz_region_list.txt\",delim = \"\\t\")"
   ]
  },
  {
   "cell_type": "markdown",
   "metadata": {
    "kernel": "R"
   },
   "source": []
  },
  {
   "cell_type": "code",
   "execution_count": null,
   "metadata": {
    "kernel": "R"
   },
   "outputs": [],
   "source": []
  },
  {
   "cell_type": "code",
   "execution_count": null,
   "metadata": {
    "kernel": "R"
   },
   "outputs": [],
   "source": []
  },
  {
   "cell_type": "markdown",
   "metadata": {
    "kernel": "R"
   },
   "source": [
    "## Weight Computation\n",
    "The weight of each fo the extracted region are then computed using the standard TWAS/Fusion workflow. All five models are used. There are 43 genes who passed the heritability check. The computation of weight for this 43 genes take around 9 hours. The genes that passed the heratibiity check can be found at `/home/hs3163/Project/Alz/data/Alz_passed_gene_region_list.txt` \n",
    "The Computed genes can be found at\n",
    "`/home/hs3163/Project/Alz/WEIGHTS/`\n",
    "\n",
    "To be comparable with what the paper did with SNP gene mapping. A window of 10000 bp beforee and after the gene was used.\n",
    ">Positional mapping maps SNPs to genes based on physical distance (within a 10-kb window) from known protein-coding genes in the human reference assembly (GRCh37/hg19)."
   ]
  },
  {
   "cell_type": "code",
   "execution_count": null,
   "metadata": {
    "kernel": "SoS"
   },
   "outputs": [],
   "source": [
    "nohup sos run ~/GIT/neuro-twas/Workflow/twas_fusion.ipynb twas_fusion  \\\n",
    "  --gwas_sumstat /home/hs3163/Project/Alz/data/AD_sumstats_Jansenetal_2019sept.txt \\\n",
    "  --molecular-pheno  /home/hs3163/Project/Rosmap/data/gene_exp/DLPFC/geneTpmResidualsAgeGenderAdj_rename.txt  \\\n",
    "  --wd /home/hs3163/Project/Alz \\\n",
    "  --genotype_list /home/hs3163/Project/Rosmap/data/Rosmap_wgs_genotype_list.txt \\\n",
    "  --region_list /home/hs3163/Project/Alz/data/RSM_Alz_region_list.txt \\\n",
    "  --region_name 1 \\\n",
    "  --data_start 2 \\\n",
    "  --output_path /home/hs3163/Project/Alz \\\n",
    "  --window 10000 \\\n",
    "  --container /mnt/mfs/statgen/containers/twas_latest.sif \\\n",
    "  --model bslmm blup lasso top1 enet \\\n",
    "  --job_size 1\\\n",
    "  --asso_mem \"60G\" \\\n",
    "  -J 6 -q csg -c ~/GIT/neuro-twas/template/csg.yml -s build &"
   ]
  },
  {
   "cell_type": "markdown",
   "metadata": {
    "kernel": "SoS"
   },
   "source": [
    "## Distribution of heritability\n",
    "The distribution of heritability is as followed. This section contains the Explorational data analysis regarding the heritability of the 144 genes. More detailed will be added. "
   ]
  },
  {
   "cell_type": "code",
   "execution_count": null,
   "metadata": {
    "kernel": "R"
   },
   "outputs": [],
   "source": []
  },
  {
   "cell_type": "markdown",
   "metadata": {
    "kernel": "R"
   },
   "source": [
    "## Association testing\n",
    "The association with the TWAS was produced using the following code."
   ]
  },
  {
   "cell_type": "code",
   "execution_count": null,
   "metadata": {
    "kernel": "R"
   },
   "outputs": [],
   "source": [
    "nohup sos run ~/GIT/neuro-twas/Workflow/twas_fusion.ipynb association_test  \\\n",
    "  --gwas_sumstat /home/hs3163/Project/Alz/data/AD_sumstats_Jansenetal_2019sept.txt \\\n",
    "  --molecular-pheno  /home/hs3163/Project/Rosmap/data/gene_exp/DLPFC/geneTpmResidualsAgeGenderAdj_rename.txt  \\\n",
    "  --wd /home/hs3163/Project/Alz \\\n",
    "  --genotype_list /home/hs3163/Project/Rosmap/data/Rosmap_wgs_genotype_list.txt \\\n",
    "  --region_list /home/hs3163/Project/Alz/data/Alz_passed_gene_region_list.txt \\\n",
    "  --region_name 1 \\\n",
    "  --data_start 2 \\\n",
    "  --output_path /home/hs3163/Project/Alz \\\n",
    "  --window 500000 \\\n",
    "  --container /mnt/mfs/statgen/containers/twas_latest.sif \\\n",
    "  --model bslmm blup lasso top1 enet \\\n",
    "  --asso_mem \"60G\" \\\n",
    "  --job_size 1\\\n",
    "  -J 6 -q csg -c ~/GIT/neuro-twas/template/csg.yml -s build &"
   ]
  },
  {
   "cell_type": "markdown",
   "metadata": {
    "kernel": "R"
   },
   "source": [
    "nohup sos run ~/GIT/neuro-twas/Workflow/twas_fusion.ipynb association_test  \\\n",
    "  --gwas_sumstat /home/hs3163/Project/Alz/data/AD_sumstats_Jansenetal_2019sept.txt \\\n",
    "  --molecular-pheno  /home/hs3163/Project/Rosmap/data/gene_exp/DLPFC/geneTpmResidualsAgeGenderAdj_rename.txt  \\\n",
    "  --wd /home/hs3163/Project/Alz \\\n",
    "  --genotype_list /home/hs3163/fake_Rosmap_wgs_genotype_list.txt \\\n",
    "  --region_list /home/hs3163/Project/Alz/data/Alz_passed_gene_region_list.txt \\\n",
    "  --region_name 1 \\\n",
    "  --data_start 2 \\\n",
    "  --output_path /home/hs3163/Project/Alz \\\n",
    "  --window 500000 \\\n",
    "  --container /home/hs3163/system_file/twas_latest.sif \\\n",
    "  --model bslmm blup lasso top1 enet \\\n",
    "  --asso_mem \"60G\" \\\n",
    "  --job_size 1\\\n",
    "  --weights_list /home/hs3163/fake_weight_list.txt \\\n",
    "  -J 6 -q csg -c ~/GIT/neuro-twas/template/csg.yml -s build &"
   ]
  },
  {
   "cell_type": "code",
   "execution_count": null,
   "metadata": {
    "kernel": "R"
   },
   "outputs": [],
   "source": []
  },
  {
   "cell_type": "code",
   "execution_count": null,
   "metadata": {
    "kernel": "R"
   },
   "outputs": [],
   "source": []
  },
  {
   "cell_type": "code",
   "execution_count": null,
   "metadata": {
    "kernel": "R"
   },
   "outputs": [],
   "source": []
  },
  {
   "cell_type": "markdown",
   "metadata": {
    "kernel": "R"
   },
   "source": [
    "# Citation\n",
    "    1.Jansen IE, Savage JE, Watanabe K, Bryois J, Williams DM, Steinberg S, Sealock J, Karlsson IK, Hägg S, Athanasiu L, Voyle N, Proitsi P, Witoelar A, Stringer S, Aarsland D, Almdahl IS, Andersen F, Bergh S, Bettella F, Bjornsson S, Brækhus A, Bråthen G, de Leeuw C, Desikan RS, Djurovic S, Dumitrescu L, Fladby T, Hohman TJ, Jonsson PV, Kiddle SJ, Rongve A, Saltvedt I, Sando SB, Selbæk G, Shoai M, Skene NG, Snaedal J, Stordal E, Ulstein ID, Wang Y, White LR, Hardy J, Hjerling-Leffler J, Sullivan PF, van der Flier WM, Dobson R, Davis LK, Stefansson H, Stefansson K, Pedersen NL, Ripke S, Andreassen OA, Posthuma D. Genome-wide meta-analysis identifies new loci and functional pathways influencing Alzheimer’s disease risk  Nature Genetics, 2019 Mar;51(3):404-413. doi: 10.1038/s41588-018-0311-9"
   ]
  },
  {
   "cell_type": "code",
   "execution_count": null,
   "metadata": {
    "kernel": "R"
   },
   "outputs": [],
   "source": []
  }
 ],
 "metadata": {
  "kernelspec": {
   "display_name": "SoS",
   "language": "sos",
   "name": "sos"
  },
  "language_info": {
   "codemirror_mode": "sos",
   "file_extension": ".sos",
   "mimetype": "text/x-sos",
   "name": "sos",
   "nbconvert_exporter": "sos_notebook.converter.SoS_Exporter",
   "pygments_lexer": "sos"
  },
  "sos": {
   "kernels": [
    [
     "R",
     "ir",
     "R",
     "#DCDCDA",
     ""
    ],
    [
     "SoS",
     "sos",
     "",
     "",
     "sos"
    ]
   ],
   "version": "0.20.1"
  }
 },
 "nbformat": 4,
 "nbformat_minor": 4
}
