{
 "cells": [
  {
   "cell_type": "markdown",
   "metadata": {
    "kernel": "SoS"
   },
   "source": [
    "# Training and testing for imputed expression\n",
    "This notebook contains the codes that used to select a training vs testing set and then use the sets to evaluate how good is the prediction."
   ]
  },
  {
   "cell_type": "markdown",
   "metadata": {
    "kernel": "SoS"
   },
   "source": [
    "## Sample selection\n",
    "The following codes are used to generate a random collection of samples that are treated as the training set. The amount of training set consists of 80% (682) of the samples."
   ]
  },
  {
   "cell_type": "code",
   "execution_count": null,
   "metadata": {
    "kernel": "SoS"
   },
   "outputs": [],
   "source": [
    "R: \n",
    "library(tidyverse)\n",
    "# Set the seed of the process\n",
    "setseed(999)\n",
    "# Load in the expression data\n",
    "gene_exp = read_delim(\"/home/hs3163/Project/Rosmap/data/gene_exp/DLPFC/geneTpmResidualsAgeGenderAdj_rename.txt\",\"\\t\")\n",
    "# Randomly chose the training set\n",
    "training_index = sample(2:ncol(gene_exp),ncol(gene_exp)*0.8)\n",
    "training_samples = colnames(gene_exp)[training_index]\n",
    "gene_exp_training = gene_exp%>%dplyr::select(gene_ID,training_samples)\n",
    "gene_exp_testing = gene_exp%>%dplyr::select(-training_samples)\n",
    "\n",
    "# \n",
    "gene_exp_training%>%readr::write_delim(\"/home/hs3163/Project/Rosmap/data/gene_exp/DLPFC/Training_Testing/geneTpmResidualsAgeGenderAdj_rename_training.txt\",delim = \"\\t\")\n",
    "gene_exp_testing%>%readr::write_delim(\"/home/hs3163/Project/Rosmap/data/gene_exp/DLPFC/Training_Testing/geneTpmResidualsAgeGenderAdj_rename_testing.txt\",delim = \"\\t\")\n"
   ]
  },
  {
   "cell_type": "markdown",
   "metadata": {
    "kernel": "SoS"
   },
   "source": [
    "## Gene selections\n",
    "For the purpose of testing of the imputed gene expression, to avoid additional complecation, the genes that are proven to passed the heratibility gene and succefully produce a weight was selected. The genes are acquired from the test run of rosmap data (first 200 genes from the gene expression file) and the gene list acquired from the Alz data set (143 genes that are in both tables).\n",
    "Further information please see the following notebook:\n",
    "\n",
    "{link to be added}\n",
    "\n",
    "The genes are combined into one region_list by the following commands, all of the 89 genes are unique."
   ]
  },
  {
   "cell_type": "code",
   "execution_count": null,
   "metadata": {
    "kernel": "SoS"
   },
   "outputs": [],
   "source": [
    "bash:\n",
    "# Combining the genes\n",
    "cd /home/hs3163/Project/traning_testing/data\n",
    "awk '{ print $3 \" \" $4 \" \" $5 \" \" $2}' /home/hs3163/Project/test/1-30/WEIGHTS/*weights_list* > TT_region_list.txt\n",
    "tail -n +2  /home/hs3163/Project/test/30-200/WEIGHTS/*weights_list* | awk '{ print $3 \" \" $4 \" \" $5 \" \" $2}' - >> TT_region_list.txt\n",
    "tail -n +2  /home/hs3163/Project/Alz/WEIGHTS/*weights_list* | awk '{ print $3 \" \" $4 \" \" $5 \" \" $2}' - >> TT_region_list.txt\n",
    "\n",
    "R:\n",
    "# See if the genes are unique\n",
    "region_list = readr::read_delim(\"/home/hs3163/Project/traning_testing/data/TT_region_list.txt\",\" \")\n",
    "length(unique(region_list$ID))"
   ]
  },
  {
   "cell_type": "markdown",
   "metadata": {
    "kernel": "SoS"
   },
   "source": [
    "## Recomputing weight for the training set\n",
    "The weights for each of the genes, using only the sampless in the training sets, are recomputed using the following commands"
   ]
  },
  {
   "cell_type": "code",
   "execution_count": null,
   "metadata": {
    "kernel": "SoS"
   },
   "outputs": [],
   "source": [
    "nohup sos run ~/GIT/neuro-twas/Workflow/twas_fusion.ipynb compute_wgt  \\\n",
    "  --molecular-pheno /home/hs3163/Project/Rosmap/data/gene_exp/DLPFC/Training_Testing/geneTpmResidualsAgeGenderAdj_rename_training.txt  \\\n",
    "  --wd /home/hs3163/Project/traning_testing \\\n",
    "  --genotype_list /home/hs3163/Project/Rosmap/data/Rosmap_wgs_genotype_list.txt \\\n",
    "  --region_list /home/hs3163/Project/traning_testing/data/TT_region_list.txt \\\n",
    "  --region_name 1 \\\n",
    "  --data_start 2 \\\n",
    "  --window 500000 \\\n",
    "  --container /home/hs3163/system_file/twas_latest.sif \\\n",
    "  --model bslmm blup lasso top1 enet \\\n",
    "  --job_size 1\\\n",
    "  -J 6 -q csg -c ~/GIT/neuro-twas/template/csg.yml -s build &"
   ]
  },
  {
   "cell_type": "markdown",
   "metadata": {
    "kernel": "SoS"
   },
   "source": [
    "It took 14 hours for the pipeline to be ran on the 89 genes. Among them, 18 genes did not passed the heritability check. The present of new genes that fail to pass the heritability checked is anticipated. I suspect the 18 genes that did not passed the test are those with borderline heritabilities."
   ]
  },
  {
   "cell_type": "markdown",
   "metadata": {
    "kernel": "SoS"
   },
   "source": [
    "# Imputed expression estimation and comparison.\n"
   ]
  }
 ],
 "metadata": {
  "kernelspec": {
   "display_name": "SoS",
   "language": "sos",
   "name": "sos"
  },
  "language_info": {
   "codemirror_mode": "sos",
   "file_extension": ".sos",
   "mimetype": "text/x-sos",
   "name": "sos",
   "nbconvert_exporter": "sos_notebook.converter.SoS_Exporter",
   "pygments_lexer": "sos"
  },
  "sos": {
   "kernels": [
    [
     "SoS",
     "sos",
     "",
     ""
    ]
   ],
   "version": "0.20.1"
  }
 },
 "nbformat": 4,
 "nbformat_minor": 4
}
