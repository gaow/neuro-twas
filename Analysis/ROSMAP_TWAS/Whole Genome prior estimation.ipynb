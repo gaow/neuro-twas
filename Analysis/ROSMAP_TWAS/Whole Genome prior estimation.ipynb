{
 "cells": [
  {
   "cell_type": "markdown",
   "metadata": {},
   "source": [
    "# Whole Genome prior estimation\n",
    "This note book document the steps to generate mixture priors and the analysis of its result"
   ]
  },
  {
   "cell_type": "markdown",
   "metadata": {},
   "source": [
    "# Steps\n",
    "## Conduct univariate analysis for each genes,for each tissues, using all the SNPs"
   ]
  },
  {
   "cell_type": "code",
   "execution_count": null,
   "metadata": {},
   "outputs": [],
   "source": [
    "nohup sos run ~/GIT/neuro-twas/Workflow/susie-wgs-prior.ipynb susie  \\\n",
    "  --molecular-pheno  /home/hs3163/Project/Rosmap/data/gene_exp/AC/geneTpmResidualsAgeGenderAdj_rename.txt  \\\n",
    "  --wd /home/hs3163/Project/Genome_prior/AC \\\n",
    "  --genotype_list /home/hs3163/Project/Rosmap/data/Rosmap_wgs_genotype_list.txt \\\n",
    "  --region_list /home/hs3163/Project/Rosmap/data/gene_exp/AC/geneTpmResidualsAgeGenderAdj_rename_region_list.txt \\\n",
    "  --region_name 1 \\\n",
    "  --data_start 2 \\\n",
    "  --window 500000 \\\n",
    "  --container /mnt/mfs/statgen/containers/twas_latest.sif \\\n",
    "  --job_size 1\\\n",
    "  -J 50 -q csg -c /mnt/mfs/statgen/pbs_template/csg.yml &"
   ]
  },
  {
   "cell_type": "code",
   "execution_count": null,
   "metadata": {},
   "outputs": [],
   "source": [
    "nohup sos run ~/GIT/neuro-twas/Workflow/susie-wgs-prior.ipynb susie  \\\n",
    "  --molecular-pheno  /home/hs3163/Project/Rosmap/data/gene_exp/PCC/geneTpmResidualsAgeGenderAdj_rename.txt  \\\n",
    "  --wd /home/hs3163/Project/Genome_prior/PCC \\\n",
    "  --genotype_list /home/hs3163/Project/Rosmap/data/Rosmap_wgs_genotype_list.txt \\\n",
    "  --region_list /home/hs3163/Project/Rosmap/data/gene_exp/PCC/geneTpmResidualsAgeGenderAdj_rename_region_list.txt \\\n",
    "  --region_name 1 \\\n",
    "  --data_start 2 \\\n",
    "  --window 500000 \\\n",
    "  --container /mnt/mfs/statgen/containers/twas_latest.sif \\\n",
    "  --job_size 1\\\n",
    "  -J 50 -q csg -c /mnt/mfs/statgen/pbs_template/csg.yml &"
   ]
  },
  {
   "cell_type": "code",
   "execution_count": null,
   "metadata": {},
   "outputs": [],
   "source": [
    "nohup sos run ~/GIT/neuro-twas/Workflow/susie-wgs-prior.ipynb susie  \\\n",
    "  --molecular-pheno  /home/hs3163/Project/Rosmap/data/gene_exp/DLPFC/geneTpmResidualsAgeGenderAdj_rename.txt  \\\n",
    "  --wd /home/hs3163/Project/Genome_prior/DLPFC \\\n",
    "  --genotype_list /home/hs3163/Project/Rosmap/data/Rosmap_wgs_genotype_list.txt \\\n",
    "  --region_list /home/hs3163/Project/Rosmap/data/gene_exp/DLPFC/geneTpmResidualsAgeGenderAdj_rename_region_list.txt \\\n",
    "  --region_name 1 \\\n",
    "  --data_start 2 \\\n",
    "  --window 500000 \\\n",
    "  --container /mnt/mfs/statgen/containers/twas_latest.sif \\\n",
    "  --job_size 1\\\n",
    "  -J 50 -q csg -c /mnt/mfs/statgen/pbs_template/csg.yml &"
   ]
  },
  {
   "cell_type": "markdown",
   "metadata": {},
   "source": [
    "### Compute Mixture prior via flash and then estimate the weights of the prior with UDR and TEEM \n",
    "effect model = exchangable Z score\n",
    "\n",
    "constraint for flash: both postivitiy and non-constraint result are reported.\n",
    "\n",
    "In neither case is the bhat or zscore centered."
   ]
  },
  {
   "cell_type": "code",
   "execution_count": null,
   "metadata": {},
   "outputs": [],
   "source": [
    "nohup sos run ~/GIT/neuro-twas/Workflow/wg_prior_genome.ipynb mm_prior \\\n",
    "--molecular_pheno_dir /home/hs3163/Project/Genome_prior/data/molc_dir    \\\n",
    "--rds_list /home/hs3163/Project/Genome_prior/data/rds_list  \\\n",
    "--wd   /home/hs3163/Project/Genome_prior/merge \\\n",
    "--name \"geneTpmResidualsAgeGenderAdj_rename\" \\\n",
    "--container /mnt/mfs/statgen/containers/twas_latest.sif \\\n",
    "--constraint \"Both\" \\\n",
    "-J 10 -q csg -c /mnt/mfs/statgen/pbs_template/csg.yml -s build &"
   ]
  },
  {
   "cell_type": "markdown",
   "metadata": {},
   "source": [
    "### Conduct MV susie with mixture prior with both teem and udr of risk locus\n",
    "Imputed X, complete case Y"
   ]
  },
  {
   "cell_type": "code",
   "execution_count": null,
   "metadata": {},
   "outputs": [],
   "source": [
    "# Teem\n",
    "nohup sos run ~/GIT/neuro-twas/Workflow/mv_susie.ipynb mv_susie_cv    \\\n",
    "--molecular_pheno_dir \"/home/hs3163/Project/Alz/multi/molecular_phenotype_list\"   \\\n",
    "--region_list \"/home/hs3163/Project/Alz/multi/mv_susie_gene_list.txt\"  \\\n",
    "--wd \"/home/hs3163/Project/Alz/multi_mp\"  \\\n",
    "--name_prefix \"geneTpmResidualsAgeGenderAdj_rename\"  \\\n",
    "--container /mnt/mfs/statgen/containers/twas_latest.sif --impute TRUE  --job_size 1 \\\n",
    "--cv_times 100  \\\n",
    "--mixture_prior '~/Project/Genome_prior/merge/output/geneTpmResidualsAgeGenderAdj_rename.Both.flash.FL_PC3.teem.UD_ED.rds'  -J 6 -q csg -c /mnt/mfs/statgen/pbs_template/csg.yml -s build &\n",
    "\n",
    "\n",
    "# UDR Prior\n",
    "nohup sos run ~/GIT/neuro-twas/Workflow/mv_susie.ipynb mv_susie_cv    \\\n",
    "--molecular_pheno_dir \"/home/hs3163/Project/Alz/multi/molecular_phenotype_list\"   \\\n",
    "--region_list \"/home/hs3163/Project/Alz/multi/mv_susie_gene_list.txt\"  \\\n",
    "--wd \"/home/hs3163/Project/Alz/multi_mp_2\"  \\\n",
    "--name_prefix \"geneTpmResidualsAgeGenderAdj_rename\"  \\\n",
    "--container /mnt/mfs/statgen/containers/twas_latest.sif --impute TRUE  --job_size 1 \\\n",
    "--cv_times 100  \\\n",
    "--mixture_prior '~/Project/Genome_prior/merge/output/geneTpmResidualsAgeGenderAdj_rename.Both.flash.FL_PC3.ed.UD_ED.rds'  -J 6 -q csg -c /mnt/mfs/statgen/pbs_template/csg.yml -s build &"
   ]
  },
  {
   "cell_type": "code",
   "execution_count": null,
   "metadata": {},
   "outputs": [],
   "source": []
  },
  {
   "cell_type": "code",
   "execution_count": null,
   "metadata": {},
   "outputs": [],
   "source": []
  },
  {
   "cell_type": "markdown",
   "metadata": {},
   "source": [
    "### Conduct MV susie with mixture prior with both teem and udr of all genes\n",
    "Imputed X, complete case Y"
   ]
  },
  {
   "cell_type": "markdown",
   "metadata": {},
   "source": [
    "# Analysis"
   ]
  },
  {
   "cell_type": "markdown",
   "metadata": {},
   "source": [
    "## Visualization of Mixuture priors\n"
   ]
  },
  {
   "cell_type": "code",
   "execution_count": 43,
   "metadata": {},
   "outputs": [],
   "source": [
    "# Read Data\n",
    "TEEM = readRDS('~/Project/Genome_prior/merge/output/geneTpmResidualsAgeGenderAdj_rename.Both.flash.FL_PC3.teem.UD_ED.rds')\n",
    "UDR = readRDS('~/Project/Genome_prior/merge/output/geneTpmResidualsAgeGenderAdj_rename.Both.flash.FL_PC3.ed.UD_ED.rds')\n",
    "Ori = readRDS('~/Project/Genome_prior/merge/output/geneTpmResidualsAgeGenderAdj_rename.Both.flash.rds')"
   ]
  },
  {
   "cell_type": "code",
   "execution_count": 42,
   "metadata": {},
   "outputs": [],
   "source": [
    "library(dplyr)\n",
    "library(ggplot2)\n",
    "library(tibble)\n",
    "library(readr)\n",
    "library(purrr)\n",
    "library(tidyr)"
   ]
  },
  {
   "cell_type": "markdown",
   "metadata": {},
   "source": [
    "### Component with weights\n",
    "The component with strongest weight is tflash in both case, the second strongest is pca_2 in teem, XX in UDR"
   ]
  },
  {
   "cell_type": "code",
   "execution_count": 18,
   "metadata": {},
   "outputs": [
    {
     "data": {
      "text/html": [
       "<table>\n",
       "<caption>A matrix: 4 × 1 of type dbl</caption>\n",
       "<tbody>\n",
       "\t<tr><th scope=row>teem_logik</th><td>-125523.5</td></tr>\n",
       "\t<tr><th scope=row>length</th><td>      1.0</td></tr>\n",
       "\t<tr><th scope=row>udr_logik</th><td>-126149.8</td></tr>\n",
       "\t<tr><th scope=row>length</th><td>      1.0</td></tr>\n",
       "</tbody>\n",
       "</table>\n"
      ],
      "text/latex": [
       "A matrix: 4 × 1 of type dbl\n",
       "\\begin{tabular}{r|l}\n",
       "\tteem\\_logik & -125523.5\\\\\n",
       "\tlength &       1.0\\\\\n",
       "\tudr\\_logik & -126149.8\\\\\n",
       "\tlength &       1.0\\\\\n",
       "\\end{tabular}\n"
      ],
      "text/markdown": [
       "\n",
       "A matrix: 4 × 1 of type dbl\n",
       "\n",
       "| teem_logik | -125523.5 |\n",
       "| length |       1.0 |\n",
       "| udr_logik | -126149.8 |\n",
       "| length |       1.0 |\n",
       "\n"
      ],
      "text/plain": [
       "           [,1]     \n",
       "teem_logik -125523.5\n",
       "length           1.0\n",
       "udr_logik  -126149.8\n",
       "length           1.0"
      ]
     },
     "metadata": {},
     "output_type": "display_data"
    },
    {
     "data": {
      "image/png": "[encoded data removed]",
      "text/plain": [
       "plot without title"
      ]
     },
     "metadata": {
      "image/png": {
       "height": 420,
       "width": 420
      }
     },
     "output_type": "display_data"
    },
    {
     "data": {
      "image/png": "[encoded data removed]",
      "text/plain": [
       "plot without title"
      ]
     },
     "metadata": {
      "image/png": {
       "height": 420,
       "width": 420
      }
     },
     "output_type": "display_data"
    }
   ],
   "source": [
    "rbind(\n",
    "teem_logik = TEEM$loglik[length(TEEM$loglik)],\n",
    "length = length(TEEM$loglik),\n",
    "udr_logik = UDR$loglik[length(UDR$loglik)],\n",
    "length = length(UDR$loglik)\n",
    "    )\n",
    "cbind(model = names(TEEM$U), Teem_W = TEEM$w%>%round(3), UDR_W = UDR$w%>%round(3))%>%as_tibble%>%ggplot(aes(x = model))+geom_col(aes(x = model,y = Teem_W ))\n",
    "cbind(model = names(TEEM$U), Teem_W = TEEM$w%>%round(3), UDR_W = UDR$w%>%round(3))%>%as_tibble%>%ggplot(aes(x = model))+geom_col(aes(x = model,y = UDR_W ))"
   ]
  },
  {
   "cell_type": "code",
   "execution_count": 40,
   "metadata": {},
   "outputs": [
    {
     "ename": "ERROR",
     "evalue": "Error in eval(expr, envir, enclos): object 'UDR' not found\n",
     "output_type": "error",
     "traceback": [
      "Error in eval(expr, envir, enclos): object 'UDR' not found\nTraceback:\n"
     ]
    }
   ],
   "source": [
    "tol = 1E-15\n",
    "names(UDR$U)[which(UDR$w<tol)]\n",
    "names(TEEM$U)[which(TEEM$w<tol)]"
   ]
  },
  {
   "cell_type": "code",
   "execution_count": 45,
   "metadata": {},
   "outputs": [
    {
     "data": {
      "image/png": "[encoded data removed]",
      "text/plain": [
       "plot without title"
      ]
     },
     "metadata": {
      "image/png": {
       "height": 420,
       "width": 420
      }
     },
     "output_type": "display_data"
    },
    {
     "data": {
      "image/png": "[encoded data removed]",
      "text/plain": [
       "plot without title"
      ]
     },
     "metadata": {
      "image/png": {
       "height": 420,
       "width": 420
      }
     },
     "output_type": "display_data"
    },
    {
     "data": {
      "image/png": "[encoded data removed]",
      "text/plain": [
       "plot without title"
      ]
     },
     "metadata": {
      "image/png": {
       "height": 420,
       "width": 420
      }
     },
     "output_type": "display_data"
    }
   ],
   "source": [
    "plot_sharing = function(X) {\n",
    "clrs <- colorRampPalette(rev(c(\"#D73027\",\"#FC8D59\",\"#FEE090\",\"#FFFFBF\",\n",
    "                               \"#E0F3F8\",\"#91BFDB\",\"#4575B4\")))(64)\n",
    "lat <- cov2cor(X)\n",
    "lat[lower.tri(lat)] <- NA\n",
    "n <- nrow(lat)\n",
    "print(lattice::levelplot(lat[n:1,],col.regions = clrs,xlab = \"\",ylab = \"\",\n",
    "                colorkey = TRUE,at = seq(0,1,length.out = 64),\n",
    "                scales = list(cex = 0.6,x = list(rot = 45))))\n",
    "}\n",
    "plot_sharing(TEEM$U$tFLASH)\n",
    "plot_sharing(UDR$U$tFLASH)\n",
    "plot_sharing(Ori$tFLASH)"
   ]
  },
  {
   "cell_type": "code",
   "execution_count": 51,
   "metadata": {},
   "outputs": [
    {
     "data": {
      "image/png": "[encoded data removed]",
      "text/plain": [
       "plot without title"
      ]
     },
     "metadata": {
      "image/png": {
       "height": 420,
       "width": 420
      }
     },
     "output_type": "display_data"
    },
    {
     "data": {
      "image/png": "[encoded data removed]",
      "text/plain": [
       "plot without title"
      ]
     },
     "metadata": {
      "image/png": {
       "height": 420,
       "width": 420
      }
     },
     "output_type": "display_data"
    },
    {
     "data": {
      "text/html": [
       "<table>\n",
       "<caption>A matrix: 3 × 3 of type dbl</caption>\n",
       "<thead>\n",
       "\t<tr><th></th><th scope=col>V1.x</th><th scope=col>V1.y</th><th scope=col>V1</th></tr>\n",
       "</thead>\n",
       "<tbody>\n",
       "\t<tr><th scope=row>V1.x</th><td>13.229994</td><td>5.559956</td><td>4.339570</td></tr>\n",
       "\t<tr><th scope=row>V1.y</th><td> 5.559956</td><td>8.727967</td><td>3.495610</td></tr>\n",
       "\t<tr><th scope=row>V1</th><td> 4.339570</td><td>3.495610</td><td>1.860764</td></tr>\n",
       "</tbody>\n",
       "</table>\n"
      ],
      "text/latex": [
       "A matrix: 3 × 3 of type dbl\n",
       "\\begin{tabular}{r|lll}\n",
       "  & V1.x & V1.y & V1\\\\\n",
       "\\hline\n",
       "\tV1.x & 13.229994 & 5.559956 & 4.339570\\\\\n",
       "\tV1.y &  5.559956 & 8.727967 & 3.495610\\\\\n",
       "\tV1 &  4.339570 & 3.495610 & 1.860764\\\\\n",
       "\\end{tabular}\n"
      ],
      "text/markdown": [
       "\n",
       "A matrix: 3 × 3 of type dbl\n",
       "\n",
       "| <!--/--> | V1.x | V1.y | V1 |\n",
       "|---|---|---|---|\n",
       "| V1.x | 13.229994 | 5.559956 | 4.339570 |\n",
       "| V1.y |  5.559956 | 8.727967 | 3.495610 |\n",
       "| V1 |  4.339570 | 3.495610 | 1.860764 |\n",
       "\n"
      ],
      "text/plain": [
       "     V1.x      V1.y     V1      \n",
       "V1.x 13.229994 5.559956 4.339570\n",
       "V1.y  5.559956 8.727967 3.495610\n",
       "V1    4.339570 3.495610 1.860764"
      ]
     },
     "metadata": {},
     "output_type": "display_data"
    },
    {
     "data": {
      "text/html": [
       "<table>\n",
       "<caption>A matrix: 3 × 3 of type dbl</caption>\n",
       "<thead>\n",
       "\t<tr><th></th><th scope=col>V1.x</th><th scope=col>V1.y</th><th scope=col>V1</th></tr>\n",
       "</thead>\n",
       "<tbody>\n",
       "\t<tr><th scope=row>V1.x</th><td>291.7370</td><td>241.4582</td><td>298.5810</td></tr>\n",
       "\t<tr><th scope=row>V1.y</th><td>241.4582</td><td>199.8446</td><td>247.1227</td></tr>\n",
       "\t<tr><th scope=row>V1</th><td>298.5810</td><td>247.1227</td><td>305.5856</td></tr>\n",
       "</tbody>\n",
       "</table>\n"
      ],
      "text/latex": [
       "A matrix: 3 × 3 of type dbl\n",
       "\\begin{tabular}{r|lll}\n",
       "  & V1.x & V1.y & V1\\\\\n",
       "\\hline\n",
       "\tV1.x & 291.7370 & 241.4582 & 298.5810\\\\\n",
       "\tV1.y & 241.4582 & 199.8446 & 247.1227\\\\\n",
       "\tV1 & 298.5810 & 247.1227 & 305.5856\\\\\n",
       "\\end{tabular}\n"
      ],
      "text/markdown": [
       "\n",
       "A matrix: 3 × 3 of type dbl\n",
       "\n",
       "| <!--/--> | V1.x | V1.y | V1 |\n",
       "|---|---|---|---|\n",
       "| V1.x | 291.7370 | 241.4582 | 298.5810 |\n",
       "| V1.y | 241.4582 | 199.8446 | 247.1227 |\n",
       "| V1 | 298.5810 | 247.1227 | 305.5856 |\n",
       "\n"
      ],
      "text/plain": [
       "     V1.x     V1.y     V1      \n",
       "V1.x 291.7370 241.4582 298.5810\n",
       "V1.y 241.4582 199.8446 247.1227\n",
       "V1   298.5810 247.1227 305.5856"
      ]
     },
     "metadata": {},
     "output_type": "display_data"
    },
    {
     "data": {
      "text/html": [
       "<table>\n",
       "<caption>A matrix: 3 × 3 of type dbl</caption>\n",
       "<thead>\n",
       "\t<tr><th scope=col>V1.x</th><th scope=col>V1.y</th><th scope=col>V1</th></tr>\n",
       "</thead>\n",
       "<tbody>\n",
       "\t<tr><td>0.3659672</td><td>0.3028953</td><td>0.3745526</td></tr>\n",
       "\t<tr><td>0.3028953</td><td>0.2506934</td><td>0.3100011</td></tr>\n",
       "\t<tr><td>0.3745526</td><td>0.3100011</td><td>0.3833394</td></tr>\n",
       "</tbody>\n",
       "</table>\n"
      ],
      "text/latex": [
       "A matrix: 3 × 3 of type dbl\n",
       "\\begin{tabular}{lll}\n",
       " V1.x & V1.y & V1\\\\\n",
       "\\hline\n",
       "\t 0.3659672 & 0.3028953 & 0.3745526\\\\\n",
       "\t 0.3028953 & 0.2506934 & 0.3100011\\\\\n",
       "\t 0.3745526 & 0.3100011 & 0.3833394\\\\\n",
       "\\end{tabular}\n"
      ],
      "text/markdown": [
       "\n",
       "A matrix: 3 × 3 of type dbl\n",
       "\n",
       "| V1.x | V1.y | V1 |\n",
       "|---|---|---|\n",
       "| 0.3659672 | 0.3028953 | 0.3745526 |\n",
       "| 0.3028953 | 0.2506934 | 0.3100011 |\n",
       "| 0.3745526 | 0.3100011 | 0.3833394 |\n",
       "\n"
      ],
      "text/plain": [
       "     V1.x      V1.y      V1       \n",
       "[1,] 0.3659672 0.3028953 0.3745526\n",
       "[2,] 0.3028953 0.2506934 0.3100011\n",
       "[3,] 0.3745526 0.3100011 0.3833394"
      ]
     },
     "metadata": {},
     "output_type": "display_data"
    },
    {
     "data": {
      "image/png": "[encoded data removed]",
      "text/plain": [
       "plot without title"
      ]
     },
     "metadata": {
      "image/png": {
       "height": 420,
       "width": 420
      }
     },
     "output_type": "display_data"
    }
   ],
   "source": [
    "plot_sharing(TEEM$U$FLASH_1)\n",
    "plot_sharing(UDR$U$FLASH_1)\n",
    "plot_sharing(Ori$FLASH_1)\n",
    "TEEM$U$FLASH_1\n",
    "UDR$U$FLASH_1\n",
    "Ori$FLASH_1\n"
   ]
  },
  {
   "cell_type": "code",
   "execution_count": 60,
   "metadata": {},
   "outputs": [
    {
     "data": {
      "text/html": [
       "<table>\n",
       "<caption>A matrix: 3 × 3 of type dbl</caption>\n",
       "<thead>\n",
       "\t<tr><th></th><th scope=col>V1.x</th><th scope=col>V1.y</th><th scope=col>V1</th></tr>\n",
       "</thead>\n",
       "<tbody>\n",
       "\t<tr><th scope=row>V1.x</th><td>1.0000000</td><td>0.4373365</td><td>0.8229308</td></tr>\n",
       "\t<tr><th scope=row>V1.y</th><td>0.4373365</td><td>1.0000000</td><td>0.8708263</td></tr>\n",
       "\t<tr><th scope=row>V1</th><td>0.8229308</td><td>0.8708263</td><td>1.0000000</td></tr>\n",
       "</tbody>\n",
       "</table>\n"
      ],
      "text/latex": [
       "A matrix: 3 × 3 of type dbl\n",
       "\\begin{tabular}{r|lll}\n",
       "  & V1.x & V1.y & V1\\\\\n",
       "\\hline\n",
       "\tV1.x & 1.0000000 & 0.4373365 & 0.8229308\\\\\n",
       "\tV1.y & 0.4373365 & 1.0000000 & 0.8708263\\\\\n",
       "\tV1 & 0.8229308 & 0.8708263 & 1.0000000\\\\\n",
       "\\end{tabular}\n"
      ],
      "text/markdown": [
       "\n",
       "A matrix: 3 × 3 of type dbl\n",
       "\n",
       "| <!--/--> | V1.x | V1.y | V1 |\n",
       "|---|---|---|---|\n",
       "| V1.x | 1.0000000 | 0.4373365 | 0.8229308 |\n",
       "| V1.y | 0.4373365 | 1.0000000 | 0.8708263 |\n",
       "| V1 | 0.8229308 | 0.8708263 | 1.0000000 |\n",
       "\n"
      ],
      "text/plain": [
       "     V1.x      V1.y      V1       \n",
       "V1.x 1.0000000 0.4373365 0.8229308\n",
       "V1.y 0.4373365 1.0000000 0.8708263\n",
       "V1   0.8229308 0.8708263 1.0000000"
      ]
     },
     "metadata": {},
     "output_type": "display_data"
    },
    {
     "data": {
      "text/html": [
       "<table>\n",
       "<caption>A matrix: 3 × 3 of type dbl</caption>\n",
       "<thead>\n",
       "\t<tr><th></th><th scope=col>V1.x</th><th scope=col>V1.y</th><th scope=col>V1</th></tr>\n",
       "</thead>\n",
       "<tbody>\n",
       "\t<tr><th scope=row>V1.x</th><td>1.0000000</td><td>0.3873686</td><td>0.3958910</td></tr>\n",
       "\t<tr><th scope=row>V1.y</th><td>0.3873686</td><td>1.0000000</td><td>0.9999571</td></tr>\n",
       "\t<tr><th scope=row>V1</th><td>0.3958910</td><td>0.9999571</td><td>1.0000000</td></tr>\n",
       "</tbody>\n",
       "</table>\n"
      ],
      "text/latex": [
       "A matrix: 3 × 3 of type dbl\n",
       "\\begin{tabular}{r|lll}\n",
       "  & V1.x & V1.y & V1\\\\\n",
       "\\hline\n",
       "\tV1.x & 1.0000000 & 0.3873686 & 0.3958910\\\\\n",
       "\tV1.y & 0.3873686 & 1.0000000 & 0.9999571\\\\\n",
       "\tV1 & 0.3958910 & 0.9999571 & 1.0000000\\\\\n",
       "\\end{tabular}\n"
      ],
      "text/markdown": [
       "\n",
       "A matrix: 3 × 3 of type dbl\n",
       "\n",
       "| <!--/--> | V1.x | V1.y | V1 |\n",
       "|---|---|---|---|\n",
       "| V1.x | 1.0000000 | 0.3873686 | 0.3958910 |\n",
       "| V1.y | 0.3873686 | 1.0000000 | 0.9999571 |\n",
       "| V1 | 0.3958910 | 0.9999571 | 1.0000000 |\n",
       "\n"
      ],
      "text/plain": [
       "     V1.x      V1.y      V1       \n",
       "V1.x 1.0000000 0.3873686 0.3958910\n",
       "V1.y 0.3873686 1.0000000 0.9999571\n",
       "V1   0.3958910 0.9999571 1.0000000"
      ]
     },
     "metadata": {},
     "output_type": "display_data"
    },
    {
     "data": {
      "text/html": [
       "<table>\n",
       "<caption>A matrix: 3 × 3 of type dbl</caption>\n",
       "<thead>\n",
       "\t<tr><th></th><th scope=col>V1.x</th><th scope=col>V1.y</th><th scope=col>V1</th></tr>\n",
       "</thead>\n",
       "<tbody>\n",
       "\t<tr><th scope=row>V1.x</th><td>1</td><td>1</td><td>1</td></tr>\n",
       "\t<tr><th scope=row>V1.y</th><td>1</td><td>1</td><td>1</td></tr>\n",
       "\t<tr><th scope=row>V1</th><td>1</td><td>1</td><td>1</td></tr>\n",
       "</tbody>\n",
       "</table>\n"
      ],
      "text/latex": [
       "A matrix: 3 × 3 of type dbl\n",
       "\\begin{tabular}{r|lll}\n",
       "  & V1.x & V1.y & V1\\\\\n",
       "\\hline\n",
       "\tV1.x & 1 & 1 & 1\\\\\n",
       "\tV1.y & 1 & 1 & 1\\\\\n",
       "\tV1 & 1 & 1 & 1\\\\\n",
       "\\end{tabular}\n"
      ],
      "text/markdown": [
       "\n",
       "A matrix: 3 × 3 of type dbl\n",
       "\n",
       "| <!--/--> | V1.x | V1.y | V1 |\n",
       "|---|---|---|---|\n",
       "| V1.x | 1 | 1 | 1 |\n",
       "| V1.y | 1 | 1 | 1 |\n",
       "| V1 | 1 | 1 | 1 |\n",
       "\n"
      ],
      "text/plain": [
       "     V1.x V1.y V1\n",
       "V1.x 1    1    1 \n",
       "V1.y 1    1    1 \n",
       "V1   1    1    1 "
      ]
     },
     "metadata": {},
     "output_type": "display_data"
    },
    {
     "data": {
      "text/html": [
       "<table>\n",
       "<caption>A matrix: 3 × 3 of type dbl</caption>\n",
       "<thead>\n",
       "\t<tr><th></th><th scope=col>V1.x</th><th scope=col>V1.y</th><th scope=col>V1</th></tr>\n",
       "</thead>\n",
       "<tbody>\n",
       "\t<tr><th scope=row>V1.x</th><td>1.0000000</td><td>0.5174102</td><td>0.8746238</td></tr>\n",
       "\t<tr><th scope=row>V1.y</th><td>0.5174102</td><td>1.0000000</td><td>0.8674027</td></tr>\n",
       "\t<tr><th scope=row>V1</th><td>0.8746238</td><td>0.8674027</td><td>1.0000000</td></tr>\n",
       "</tbody>\n",
       "</table>\n"
      ],
      "text/latex": [
       "A matrix: 3 × 3 of type dbl\n",
       "\\begin{tabular}{r|lll}\n",
       "  & V1.x & V1.y & V1\\\\\n",
       "\\hline\n",
       "\tV1.x & 1.0000000 & 0.5174102 & 0.8746238\\\\\n",
       "\tV1.y & 0.5174102 & 1.0000000 & 0.8674027\\\\\n",
       "\tV1 & 0.8746238 & 0.8674027 & 1.0000000\\\\\n",
       "\\end{tabular}\n"
      ],
      "text/markdown": [
       "\n",
       "A matrix: 3 × 3 of type dbl\n",
       "\n",
       "| <!--/--> | V1.x | V1.y | V1 |\n",
       "|---|---|---|---|\n",
       "| V1.x | 1.0000000 | 0.5174102 | 0.8746238 |\n",
       "| V1.y | 0.5174102 | 1.0000000 | 0.8674027 |\n",
       "| V1 | 0.8746238 | 0.8674027 | 1.0000000 |\n",
       "\n"
      ],
      "text/plain": [
       "     V1.x      V1.y      V1       \n",
       "V1.x 1.0000000 0.5174102 0.8746238\n",
       "V1.y 0.5174102 1.0000000 0.8674027\n",
       "V1   0.8746238 0.8674027 1.0000000"
      ]
     },
     "metadata": {},
     "output_type": "display_data"
    }
   ],
   "source": [
    "cov2cor(TEEM$U$FLASH_NC_1)\n",
    "cov2cor(TEEM$U$FLASH_NC_2)\n",
    "cov2cor(TEEM$U$FLASH_NC_3)\n",
    "cov2cor(TEEM$U$FLASH_1)"
   ]
  },
  {
   "cell_type": "code",
   "execution_count": 35,
   "metadata": {},
   "outputs": [
    {
     "data": {
      "image/png": "[encoded data removed]",
      "text/plain": [
       "plot without title"
      ]
     },
     "metadata": {
      "image/png": {
       "height": 420,
       "width": 420
      }
     },
     "output_type": "display_data"
    },
    {
     "data": {
      "image/png": "[encoded data removed]",
      "text/plain": [
       "plot without title"
      ]
     },
     "metadata": {
      "image/png": {
       "height": 420,
       "width": 420
      }
     },
     "output_type": "display_data"
    }
   ],
   "source": [
    "plot_sharing(TEEM$U$PCA_2)\n",
    "plot_sharing(UDR$U$PCA_2)\n"
   ]
  },
  {
   "cell_type": "code",
   "execution_count": 36,
   "metadata": {},
   "outputs": [
    {
     "data": {
      "image/png": "[encoded data removed]",
      "text/plain": [
       "plot without title"
      ]
     },
     "metadata": {
      "image/png": {
       "height": 420,
       "width": 420
      }
     },
     "output_type": "display_data"
    },
    {
     "data": {
      "image/png": "[encoded data removed]",
      "text/plain": [
       "plot without title"
      ]
     },
     "metadata": {
      "image/png": {
       "height": 420,
       "width": 420
      }
     },
     "output_type": "display_data"
    }
   ],
   "source": [
    "plot_sharing(TEEM$U$XX)\n",
    "plot_sharing(UDR$U$XX)"
   ]
  },
  {
   "cell_type": "code",
   "execution_count": 39,
   "metadata": {},
   "outputs": [
    {
     "data": {
      "text/html": [
       "<table>\n",
       "<caption>A matrix: 3 × 3 of type dbl</caption>\n",
       "<thead>\n",
       "\t<tr><th></th><th scope=col>V1.x</th><th scope=col>V1.y</th><th scope=col>V1</th></tr>\n",
       "</thead>\n",
       "<tbody>\n",
       "\t<tr><th scope=row>V1.x</th><td>1.0000000</td><td>0.4058815</td><td>0.8330067</td></tr>\n",
       "\t<tr><th scope=row>V1.y</th><td>0.4058815</td><td>1.0000000</td><td>0.8413912</td></tr>\n",
       "\t<tr><th scope=row>V1</th><td>0.8330067</td><td>0.8413912</td><td>1.0000000</td></tr>\n",
       "</tbody>\n",
       "</table>\n"
      ],
      "text/latex": [
       "A matrix: 3 × 3 of type dbl\n",
       "\\begin{tabular}{r|lll}\n",
       "  & V1.x & V1.y & V1\\\\\n",
       "\\hline\n",
       "\tV1.x & 1.0000000 & 0.4058815 & 0.8330067\\\\\n",
       "\tV1.y & 0.4058815 & 1.0000000 & 0.8413912\\\\\n",
       "\tV1 & 0.8330067 & 0.8413912 & 1.0000000\\\\\n",
       "\\end{tabular}\n"
      ],
      "text/markdown": [
       "\n",
       "A matrix: 3 × 3 of type dbl\n",
       "\n",
       "| <!--/--> | V1.x | V1.y | V1 |\n",
       "|---|---|---|---|\n",
       "| V1.x | 1.0000000 | 0.4058815 | 0.8330067 |\n",
       "| V1.y | 0.4058815 | 1.0000000 | 0.8413912 |\n",
       "| V1 | 0.8330067 | 0.8413912 | 1.0000000 |\n",
       "\n"
      ],
      "text/plain": [
       "     V1.x      V1.y      V1       \n",
       "V1.x 1.0000000 0.4058815 0.8330067\n",
       "V1.y 0.4058815 1.0000000 0.8413912\n",
       "V1   0.8330067 0.8413912 1.0000000"
      ]
     },
     "metadata": {},
     "output_type": "display_data"
    },
    {
     "data": {
      "text/html": [
       "<table>\n",
       "<caption>A matrix: 3 × 3 of type dbl</caption>\n",
       "<thead>\n",
       "\t<tr><th></th><th scope=col>V1.x</th><th scope=col>V1.y</th><th scope=col>V1</th></tr>\n",
       "</thead>\n",
       "<tbody>\n",
       "\t<tr><th scope=row>V1.x</th><td>1.0000000</td><td>0.9422622</td><td>0.8650419</td></tr>\n",
       "\t<tr><th scope=row>V1.y</th><td>0.9422622</td><td>1.0000000</td><td>0.9244859</td></tr>\n",
       "\t<tr><th scope=row>V1</th><td>0.8650419</td><td>0.9244859</td><td>1.0000000</td></tr>\n",
       "</tbody>\n",
       "</table>\n"
      ],
      "text/latex": [
       "A matrix: 3 × 3 of type dbl\n",
       "\\begin{tabular}{r|lll}\n",
       "  & V1.x & V1.y & V1\\\\\n",
       "\\hline\n",
       "\tV1.x & 1.0000000 & 0.9422622 & 0.8650419\\\\\n",
       "\tV1.y & 0.9422622 & 1.0000000 & 0.9244859\\\\\n",
       "\tV1 & 0.8650419 & 0.9244859 & 1.0000000\\\\\n",
       "\\end{tabular}\n"
      ],
      "text/markdown": [
       "\n",
       "A matrix: 3 × 3 of type dbl\n",
       "\n",
       "| <!--/--> | V1.x | V1.y | V1 |\n",
       "|---|---|---|---|\n",
       "| V1.x | 1.0000000 | 0.9422622 | 0.8650419 |\n",
       "| V1.y | 0.9422622 | 1.0000000 | 0.9244859 |\n",
       "| V1 | 0.8650419 | 0.9244859 | 1.0000000 |\n",
       "\n"
      ],
      "text/plain": [
       "     V1.x      V1.y      V1       \n",
       "V1.x 1.0000000 0.9422622 0.8650419\n",
       "V1.y 0.9422622 1.0000000 0.9244859\n",
       "V1   0.8650419 0.9244859 1.0000000"
      ]
     },
     "metadata": {},
     "output_type": "display_data"
    }
   ],
   "source": [
    "UDR$U$XX%>%cov2cor\n",
    "TEEM$U$XX%>%cov2cor"
   ]
  },
  {
   "cell_type": "markdown",
   "metadata": {},
   "source": [
    "## Accuracy of the CV results"
   ]
  },
  {
   "cell_type": "code",
   "execution_count": 14,
   "metadata": {},
   "outputs": [
    {
     "name": "stderr",
     "output_type": "stream",
     "text": [
      "The following object is masked from file:/home/hs3163/Project/Alz/multi_mp_2/mv_cv.RData:\n",
      "\n",
      "    output\n",
      "\n",
      "\n",
      "The following object is masked from file:/home/hs3163/Project/Alz/multi_mp/mv_cv.RData (pos = 10):\n",
      "\n",
      "    output\n",
      "\n",
      "\n",
      "The following object is masked from file:/home/hs3163/Project/Alz/multi_mp/mv_cv.RData (pos = 3):\n",
      "\n",
      "    output\n",
      "\n",
      "\n",
      "The following object is masked from file:/home/hs3163/Project/Alz/multi_mp_2/mv_cv.RData (pos = 9):\n",
      "\n",
      "    output\n",
      "\n",
      "\n",
      "The following object is masked from file:/home/hs3163/Project/Alz/multi_mp/mv_cv.RData (pos = 11):\n",
      "\n",
      "    output\n",
      "\n",
      "\n"
     ]
    }
   ],
   "source": [
    "# Load data\n",
    "env_teem = attach(\"/home/hs3163/Project/Alz/multi_mp/mv_cv.RData\")\n",
    "env_udr = attach(\"/home/hs3163/Project/Alz/multi_mp_2/mv_cv.RData\")"
   ]
  },
  {
   "cell_type": "markdown",
   "metadata": {},
   "source": [
    "### TEEM"
   ]
  },
  {
   "cell_type": "code",
   "execution_count": 23,
   "metadata": {},
   "outputs": [],
   "source": [
    "# All three tissues\n",
    "\n",
    "\n"
   ]
  },
  {
   "cell_type": "code",
   "execution_count": 29,
   "metadata": {},
   "outputs": [
    {
     "data": {
      "text/html": [
       "<table>\n",
       "<caption>A tibble: 1 × 3</caption>\n",
       "<thead>\n",
       "\t<tr><th scope=col>mean(n_of_cs)</th><th scope=col>mean(total_cs_size)</th><th scope=col>mean(mean_cs_size)</th></tr>\n",
       "\t<tr><th scope=col>&lt;dbl&gt;</th><th scope=col>&lt;dbl&gt;</th><th scope=col>&lt;dbl&gt;</th></tr>\n",
       "</thead>\n",
       "<tbody>\n",
       "\t<tr><td>0.4556962</td><td>7.21519</td><td>NaN</td></tr>\n",
       "</tbody>\n",
       "</table>\n"
      ],
      "text/latex": [
       "A tibble: 1 × 3\n",
       "\\begin{tabular}{lll}\n",
       " mean(n\\_of\\_cs) & mean(total\\_cs\\_size) & mean(mean\\_cs\\_size)\\\\\n",
       " <dbl> & <dbl> & <dbl>\\\\\n",
       "\\hline\n",
       "\t 0.4556962 & 7.21519 & NaN\\\\\n",
       "\\end{tabular}\n"
      ],
      "text/markdown": [
       "\n",
       "A tibble: 1 × 3\n",
       "\n",
       "| mean(n_of_cs) &lt;dbl&gt; | mean(total_cs_size) &lt;dbl&gt; | mean(mean_cs_size) &lt;dbl&gt; |\n",
       "|---|---|---|\n",
       "| 0.4556962 | 7.21519 | NaN |\n",
       "\n"
      ],
      "text/plain": [
       "  mean(n_of_cs) mean(total_cs_size) mean(mean_cs_size)\n",
       "1 0.4556962     7.21519             NaN               "
      ]
     },
     "metadata": {},
     "output_type": "display_data"
    },
    {
     "data": {
      "text/html": [
       "57"
      ],
      "text/latex": [
       "57"
      ],
      "text/markdown": [
       "57"
      ],
      "text/plain": [
       "[1] 57"
      ]
     },
     "metadata": {},
     "output_type": "display_data"
    },
    {
     "name": "stderr",
     "output_type": "stream",
     "text": [
      "`stat_bin()` using `bins = 30`. Pick better value with `binwidth`.\n",
      "\n",
      "Warning message:\n",
      "“Removed 10 rows containing non-finite values (stat_bin).”\n",
      "`stat_bin()` using `bins = 30`. Pick better value with `binwidth`.\n",
      "\n",
      "Warning message:\n",
      "“Removed 11 rows containing non-finite values (stat_bin).”\n"
     ]
    },
    {
     "data": {
      "image/png": "[encoded data removed]",
      "text/plain": [
       "plot without title"
      ]
     },
     "metadata": {
      "image/png": {
       "height": 420,
       "width": 420
      }
     },
     "output_type": "display_data"
    },
    {
     "name": "stderr",
     "output_type": "stream",
     "text": [
      "`stat_bin()` using `bins = 30`. Pick better value with `binwidth`.\n",
      "\n",
      "Warning message:\n",
      "“Removed 11 rows containing non-finite values (stat_bin).”\n"
     ]
    },
    {
     "data": {
      "image/png": "[encoded data removed]",
      "text/plain": [
       "plot without title"
      ]
     },
     "metadata": {
      "image/png": {
       "height": 420,
       "width": 420
      }
     },
     "output_type": "display_data"
    },
    {
     "data": {
      "image/png": "[encoded data removed]",
      "text/plain": [
       "plot without title"
      ]
     },
     "metadata": {
      "image/png": {
       "height": 420,
       "width": 420
      }
     },
     "output_type": "display_data"
    }
   ],
   "source": [
    "data = env_teem$output\n",
    "working = data%>%select(-path)\n",
    "working = working%>%mutate(\n",
    "  n_of_cs = map_dbl(model,~.x$sets$cs_index%>%length()),\n",
    "  hsq_ac = map_dbl(model,~.x$hsq[1]),\n",
    "  hsq_PCC = map_dbl(model,~.x$hsq[2]),\n",
    "  hsq_DLPFC = map_dbl(model,~.x$hsq[3]),\n",
    "  total_cs_size = map_dbl(model,(~.x$sets$cs%>%unlist()%>%length())),\n",
    "  mean_cs_size = total_cs_size/n_of_cs\n",
    ")\n",
    "working%>%select(-env,-model\n",
    "                )%>%summarise(mean(n_of_cs),mean(total_cs_size),mean(mean_cs_size))\n",
    "nrow(working%>%filter(n_of_cs>0))\n",
    "working = working%>%mutate(\n",
    "  rmse_ac = map_dbl(model,~.x$rmse[1]),\n",
    "  rmse_PCC = map_dbl(model,~.x$rmse[2]),\n",
    "  rmse_DLPFC = map_dbl(model,~.x$rmse[3]),\n",
    "  r2_ac = map_dbl(model,~.x$r2[1]),\n",
    "  r2_PCC = map_dbl(model,~.x$r2[2]),\n",
    "  r2_DLPFC = map_dbl(model,~.x$r2[3]),\n",
    "  pval_ac = map_dbl(model,~.x$pval[1]),\n",
    "  pval_PCC = map_dbl(model,~.x$pval[2]),\n",
    "  pval_DLPFC = map_dbl(model,~.x$pval[3])\n",
    ")\n",
    "#working%>%filter(n_of_cs > 0)%>%select(ID,n_of_cs,rmse_ac,rmse_PCC,rmse_DLPFC,r2_ac,r2_PCC,r2_DLPFC)%>%arrange(-r2_DLPFC)\n",
    "working%>%select(-env,-model\n",
    "                )%>%filter(n_of_cs > 0)%>%ggplot(aes(x = r2_ac))+geom_histogram()\n",
    "working%>%select(-env,-model\n",
    "                )%>%filter(n_of_cs > 0)%>%ggplot(aes(x = r2_PCC))+geom_histogram()\n",
    "working%>%select(-env,-model\n",
    "                )%>%filter(n_of_cs > 0)%>%ggplot(aes(x = r2_DLPFC))+geom_histogram()\n",
    "\n"
   ]
  },
  {
   "cell_type": "markdown",
   "metadata": {},
   "source": [
    "## UDR"
   ]
  },
  {
   "cell_type": "code",
   "execution_count": 30,
   "metadata": {},
   "outputs": [
    {
     "data": {
      "text/html": [
       "<table>\n",
       "<caption>A tibble: 1 × 3</caption>\n",
       "<thead>\n",
       "\t<tr><th scope=col>mean(n_of_cs)</th><th scope=col>mean(total_cs_size)</th><th scope=col>mean(mean_cs_size)</th></tr>\n",
       "\t<tr><th scope=col>&lt;dbl&gt;</th><th scope=col>&lt;dbl&gt;</th><th scope=col>&lt;dbl&gt;</th></tr>\n",
       "</thead>\n",
       "<tbody>\n",
       "\t<tr><td>0.4493671</td><td>6.841772</td><td>NaN</td></tr>\n",
       "</tbody>\n",
       "</table>\n"
      ],
      "text/latex": [
       "A tibble: 1 × 3\n",
       "\\begin{tabular}{lll}\n",
       " mean(n\\_of\\_cs) & mean(total\\_cs\\_size) & mean(mean\\_cs\\_size)\\\\\n",
       " <dbl> & <dbl> & <dbl>\\\\\n",
       "\\hline\n",
       "\t 0.4493671 & 6.841772 & NaN\\\\\n",
       "\\end{tabular}\n"
      ],
      "text/markdown": [
       "\n",
       "A tibble: 1 × 3\n",
       "\n",
       "| mean(n_of_cs) &lt;dbl&gt; | mean(total_cs_size) &lt;dbl&gt; | mean(mean_cs_size) &lt;dbl&gt; |\n",
       "|---|---|---|\n",
       "| 0.4493671 | 6.841772 | NaN |\n",
       "\n"
      ],
      "text/plain": [
       "  mean(n_of_cs) mean(total_cs_size) mean(mean_cs_size)\n",
       "1 0.4493671     6.841772            NaN               "
      ]
     },
     "metadata": {},
     "output_type": "display_data"
    },
    {
     "data": {
      "text/html": [
       "56"
      ],
      "text/latex": [
       "56"
      ],
      "text/markdown": [
       "56"
      ],
      "text/plain": [
       "[1] 56"
      ]
     },
     "metadata": {},
     "output_type": "display_data"
    },
    {
     "name": "stderr",
     "output_type": "stream",
     "text": [
      "`stat_bin()` using `bins = 30`. Pick better value with `binwidth`.\n",
      "\n",
      "Warning message:\n",
      "“Removed 11 rows containing non-finite values (stat_bin).”\n",
      "`stat_bin()` using `bins = 30`. Pick better value with `binwidth`.\n",
      "\n",
      "Warning message:\n",
      "“Removed 10 rows containing non-finite values (stat_bin).”\n"
     ]
    },
    {
     "data": {
      "image/png": "[encoded data removed]",
      "text/plain": [
       "plot without title"
      ]
     },
     "metadata": {
      "image/png": {
       "height": 420,
       "width": 420
      }
     },
     "output_type": "display_data"
    },
    {
     "name": "stderr",
     "output_type": "stream",
     "text": [
      "`stat_bin()` using `bins = 30`. Pick better value with `binwidth`.\n",
      "\n",
      "Warning message:\n",
      "“Removed 7 rows containing non-finite values (stat_bin).”\n"
     ]
    },
    {
     "data": {
      "image/png": "[encoded data removed]",
      "text/plain": [
       "plot without title"
      ]
     },
     "metadata": {
      "image/png": {
       "height": 420,
       "width": 420
      }
     },
     "output_type": "display_data"
    },
    {
     "data": {
      "image/png": "[encoded data removed]",
      "text/plain": [
       "plot without title"
      ]
     },
     "metadata": {
      "image/png": {
       "height": 420,
       "width": 420
      }
     },
     "output_type": "display_data"
    }
   ],
   "source": [
    "# All three tissues\n",
    "data = env_udr$output\n",
    "working = data%>%select(-path)\n",
    "working = working%>%mutate(\n",
    "  n_of_cs = map_dbl(model,~.x$sets$cs_index%>%length()),\n",
    "  hsq_ac = map_dbl(model,~.x$hsq[1]),\n",
    "  hsq_PCC = map_dbl(model,~.x$hsq[2]),\n",
    "  hsq_DLPFC = map_dbl(model,~.x$hsq[3]),\n",
    "  total_cs_size = map_dbl(model,(~.x$sets$cs%>%unlist()%>%length())),\n",
    "  mean_cs_size = total_cs_size/n_of_cs\n",
    ")\n",
    "working%>%select(-env,-model\n",
    "                )%>%summarise(mean(n_of_cs),mean(total_cs_size),mean(mean_cs_size))\n",
    "nrow(working%>%filter(n_of_cs>0))\n",
    "\n",
    "working = working%>%mutate(\n",
    "  rmse_ac = map_dbl(model,~.x$rmse[1]),\n",
    "  rmse_PCC = map_dbl(model,~.x$rmse[2]),\n",
    "  rmse_DLPFC = map_dbl(model,~.x$rmse[3]),\n",
    "  r2_ac = map_dbl(model,~.x$r2[1]),\n",
    "  r2_PCC = map_dbl(model,~.x$r2[2]),\n",
    "  r2_DLPFC = map_dbl(model,~.x$r2[3]),\n",
    "  pval_ac = map_dbl(model,~.x$pval[1]),\n",
    "  pval_PCC = map_dbl(model,~.x$pval[2]),\n",
    "  pval_DLPFC = map_dbl(model,~.x$pval[3])\n",
    ")\n",
    "#working%>%filter(n_of_cs > 0)%>%select(ID,n_of_cs,rmse_ac,rmse_PCC,rmse_DLPFC,r2_ac,r2_PCC,r2_DLPFC)%>%arrange(-r2_DLPFC)\n",
    "working%>%select(-env,-model\n",
    "                )%>%filter(n_of_cs > 0)%>%ggplot(aes(x = r2_ac))+geom_histogram()\n",
    "working%>%select(-env,-model\n",
    "                )%>%filter(n_of_cs > 0)%>%ggplot(aes(x = r2_PCC))+geom_histogram()\n",
    "working%>%select(-env,-model\n",
    "                )%>%filter(n_of_cs > 0)%>%ggplot(aes(x = r2_DLPFC))+geom_histogram()\n",
    "\n",
    "\n",
    "vis = working%>%select(-env,-model\n",
    "                )"
   ]
  },
  {
   "cell_type": "code",
   "execution_count": 47,
   "metadata": {},
   "outputs": [
    {
     "data": {
      "text/html": [
       "<table>\n",
       "<caption>A tibble: 56 × 17</caption>\n",
       "<thead>\n",
       "\t<tr><th scope=col>ID</th><th scope=col>tb_name</th><th scope=col>n_of_cs</th><th scope=col>hsq_ac</th><th scope=col>hsq_PCC</th><th scope=col>hsq_DLPFC</th><th scope=col>total_cs_size</th><th scope=col>mean_cs_size</th><th scope=col>rmse_ac</th><th scope=col>rmse_PCC</th><th scope=col>rmse_DLPFC</th><th scope=col>r2_ac</th><th scope=col>r2_PCC</th><th scope=col>r2_DLPFC</th><th scope=col>pval_ac</th><th scope=col>pval_PCC</th><th scope=col>pval_DLPFC</th></tr>\n",
       "\t<tr><th scope=col>&lt;chr&gt;</th><th scope=col>&lt;chr&gt;</th><th scope=col>&lt;dbl&gt;</th><th scope=col>&lt;dbl&gt;</th><th scope=col>&lt;dbl&gt;</th><th scope=col>&lt;dbl&gt;</th><th scope=col>&lt;dbl&gt;</th><th scope=col>&lt;dbl&gt;</th><th scope=col>&lt;dbl&gt;</th><th scope=col>&lt;dbl&gt;</th><th scope=col>&lt;dbl&gt;</th><th scope=col>&lt;dbl&gt;</th><th scope=col>&lt;dbl&gt;</th><th scope=col>&lt;dbl&gt;</th><th scope=col>&lt;dbl&gt;</th><th scope=col>&lt;dbl&gt;</th><th scope=col>&lt;dbl&gt;</th></tr>\n",
       "</thead>\n",
       "<tbody>\n",
       "\t<tr><td>ENSG00000198502</td><td>full_model</td><td>3</td><td>0.513690757</td><td>0.3733669852</td><td>0.650189053</td><td> 78</td><td>26.000000</td><td>0.6013591</td><td>0.6108765</td><td>0.6014304</td><td>0.638675312</td><td>0.63006173</td><td>0.639737191</td><td>1.368778e-16</td><td>1.312969e-13</td><td>2.330969e-20</td></tr>\n",
       "\t<tr><td>ENSG00000179344</td><td>full_model</td><td>3</td><td>0.470226664</td><td>0.3636302831</td><td>0.576065407</td><td> 19</td><td> 6.333333</td><td>0.7174016</td><td>0.6954099</td><td>0.7291190</td><td>0.492327635</td><td>0.51828701</td><td>0.481975174</td><td>1.563635e-10</td><td>2.431766e-08</td><td>1.689402e-14</td></tr>\n",
       "\t<tr><td>ENSG00000196126</td><td>full_model</td><td>2</td><td>0.376738273</td><td>0.3234972332</td><td>0.496066522</td><td>117</td><td>58.500000</td><td>0.7263094</td><td>0.6846980</td><td>0.7225917</td><td>0.468814751</td><td>0.52016805</td><td>0.474740162</td><td>1.152171e-09</td><td>1.784386e-12</td><td>5.230951e-15</td></tr>\n",
       "\t<tr><td>ENSG00000196735</td><td>full_model</td><td>1</td><td>0.223702518</td><td>0.1719917941</td><td>0.265189108</td><td> 63</td><td>63.000000</td><td>0.8534031</td><td>0.8573006</td><td>0.8582561</td><td>0.258585296</td><td>0.26981092</td><td>0.265060385</td><td>7.270027e-06</td><td>1.048668e-05</td><td>6.409206e-08</td></tr>\n",
       "\t<tr><td>ENSG00000244731</td><td>full_model</td><td>1</td><td>0.162420931</td><td>0.0877330362</td><td>0.043079838</td><td> 17</td><td>17.000000</td><td>0.9133871</td><td>0.9401645</td><td>0.9791630</td><td>0.157380289</td><td>0.09462677</td><td>0.047792937</td><td>1.960529e-03</td><td>3.315583e-02</td><td>4.196609e-02</td></tr>\n",
       "\t<tr><td>ENSG00000140416</td><td>full_model</td><td>1</td><td>0.023222006</td><td>0.0079174467</td><td>0.031435861</td><td> 14</td><td>14.000000</td><td>0.9868987</td><td>1.0029661</td><td>0.9927806</td><td>0.131208320</td><td>0.11775367</td><td>0.129527138</td><td>2.886568e-01</td><td>4.240775e-01</td><td>2.738263e-01</td></tr>\n",
       "\t<tr><td>ENSG00000065268</td><td>full_model</td><td>2</td><td>0.212336632</td><td>0.1273751892</td><td>0.058674478</td><td>  7</td><td> 3.500000</td><td>0.9367841</td><td>0.9532727</td><td>0.9763230</td><td>0.122287617</td><td>0.11024193</td><td>0.034492392</td><td>5.190362e-02</td><td>6.080253e-02</td><td>1.782887e-01</td></tr>\n",
       "\t<tr><td>ENSG00000213420</td><td>full_model</td><td>1</td><td>0.008992798</td><td>0.0091912830</td><td>0.024500893</td><td>  4</td><td> 4.000000</td><td>0.9887634</td><td>1.0146612</td><td>0.9712136</td><td>0.122064874</td><td>0.12129158</td><td>0.125250858</td><td>5.091898e-01</td><td>4.649291e-01</td><td>3.728670e-01</td></tr>\n",
       "\t<tr><td>ENSG00000108523</td><td>full_model</td><td>1</td><td>0.123434821</td><td>0.0562238271</td><td>0.014748901</td><td>  8</td><td> 8.000000</td><td>0.9569086</td><td>0.9769366</td><td>0.9952978</td><td>0.122005421</td><td>0.08878547</td><td>0.054732420</td><td>1.149972e-01</td><td>1.873029e-01</td><td>3.771616e-01</td></tr>\n",
       "\t<tr><td>ENSG00000134463</td><td>full_model</td><td>3</td><td>0.197709453</td><td>0.0851877315</td><td>0.143970058</td><td>  5</td><td> 1.666667</td><td>0.9422831</td><td>0.9645132</td><td>0.9705866</td><td>0.114517969</td><td>0.05653970</td><td>0.051197289</td><td>3.031111e-02</td><td>1.378601e-01</td><td>8.010120e-02</td></tr>\n",
       "\t<tr><td>ENSG00000189114</td><td>full_model</td><td>2</td><td>0.036656527</td><td>0.0162159145</td><td>0.044959620</td><td> 29</td><td>14.500000</td><td>0.9941472</td><td>0.9857578</td><td>0.9959140</td><td>0.107687119</td><td>       NaN</td><td>0.106902370</td><td>3.332636e-01</td><td>         NaN</td><td>3.288068e-01</td></tr>\n",
       "\t<tr><td>ENSG00000168077</td><td>full_model</td><td>1</td><td>0.007421224</td><td>0.0036316705</td><td>0.027228279</td><td> 17</td><td>17.000000</td><td>1.0024455</td><td>1.0007409</td><td>1.0061789</td><td>0.105575898</td><td>0.10830310</td><td>        NaN</td><td>4.559949e-01</td><td>4.390062e-01</td><td>         NaN</td></tr>\n",
       "\t<tr><td>ENSG00000214309</td><td>full_model</td><td>1</td><td>0.108241051</td><td>0.0395865609</td><td>0.054572903</td><td> 18</td><td>18.000000</td><td>0.9778714</td><td>0.9739813</td><td>0.9809922</td><td>0.098680586</td><td>       NaN</td><td>0.062654595</td><td>1.938557e-01</td><td>         NaN</td><td>3.608305e-01</td></tr>\n",
       "\t<tr><td>ENSG00000110079</td><td>full_model</td><td>1</td><td>0.023504275</td><td>0.0102359830</td><td>0.027364267</td><td> 59</td><td>59.000000</td><td>0.9953164</td><td>0.9868623</td><td>0.9887546</td><td>0.097357312</td><td>0.09229141</td><td>0.092193377</td><td>3.088835e-01</td><td>3.696681e-01</td><td>3.912535e-01</td></tr>\n",
       "\t<tr><td>ENSG00000129204</td><td>full_model</td><td>2</td><td>0.260579280</td><td>0.1005450831</td><td>0.237190106</td><td>  2</td><td> 1.000000</td><td>0.9398903</td><td>1.0016165</td><td>0.9836291</td><td>0.095397775</td><td>0.04146917</td><td>0.051515182</td><td>2.958399e-02</td><td>1.798116e-01</td><td>1.051296e-01</td></tr>\n",
       "\t<tr><td>ENSG00000121716</td><td>full_model</td><td>1</td><td>0.199619383</td><td>0.1378405610</td><td>0.252531755</td><td> 21</td><td>21.000000</td><td>0.9513573</td><td>0.9537720</td><td>0.9500204</td><td>0.093328420</td><td>0.07573000</td><td>0.093608914</td><td>1.463732e-01</td><td>1.670595e-01</td><td>9.431669e-02</td></tr>\n",
       "\t<tr><td>ENSG00000103642</td><td>full_model</td><td>1</td><td>0.065792304</td><td>0.0395052958</td><td>0.059697617</td><td>  8</td><td> 8.000000</td><td>0.9632709</td><td>0.9723504</td><td>0.9887381</td><td>0.079931247</td><td>0.07373641</td><td>0.052729330</td><td>7.636071e-02</td><td>1.389160e-01</td><td>1.524063e-01</td></tr>\n",
       "\t<tr><td>ENSG00000158864</td><td>full_model</td><td>1</td><td>0.013542843</td><td>0.0084595586</td><td>0.023925971</td><td>  2</td><td> 2.000000</td><td>0.9859969</td><td>1.0067530</td><td>0.9956248</td><td>0.075557136</td><td>       NaN</td><td>0.075746194</td><td>3.794543e-01</td><td>         NaN</td><td>3.670824e-01</td></tr>\n",
       "\t<tr><td>ENSG00000099817</td><td>full_model</td><td>1</td><td>0.109995751</td><td>0.0452642772</td><td>0.128872141</td><td>  1</td><td> 1.000000</td><td>0.9746154</td><td>0.9708633</td><td>0.9711570</td><td>0.072932557</td><td>0.04415322</td><td>0.065510855</td><td>4.661223e-02</td><td>1.224143e-01</td><td>6.828948e-02</td></tr>\n",
       "\t<tr><td>ENSG00000196118</td><td>full_model</td><td>2</td><td>0.095063542</td><td>0.0362030579</td><td>0.057638062</td><td> 32</td><td>16.000000</td><td>0.9613266</td><td>0.9657283</td><td>0.9892412</td><td>0.070422240</td><td>0.04019094</td><td>0.035606097</td><td>9.311023e-02</td><td>1.670592e-01</td><td>1.478363e-01</td></tr>\n",
       "\t<tr><td>ENSG00000166529</td><td>full_model</td><td>2</td><td>0.089484131</td><td>0.0694550522</td><td>0.217094652</td><td> 29</td><td>14.500000</td><td>0.9660599</td><td>0.9638963</td><td>0.9307808</td><td>0.068113363</td><td>0.05085862</td><td>0.128842475</td><td>6.784948e-02</td><td>1.725953e-01</td><td>2.243412e-02</td></tr>\n",
       "\t<tr><td>ENSG00000167840</td><td>full_model</td><td>2</td><td>0.124801689</td><td>0.0668028213</td><td>0.153755960</td><td> 60</td><td>30.000000</td><td>0.9726708</td><td>0.9789595</td><td>0.9800636</td><td>0.066803524</td><td>0.03909610</td><td>0.057959771</td><td>6.605083e-02</td><td>1.862688e-01</td><td>6.457893e-02</td></tr>\n",
       "\t<tr><td>ENSG00000147419</td><td>full_model</td><td>1</td><td>0.078141285</td><td>0.0267257984</td><td>0.090753118</td><td>  8</td><td> 8.000000</td><td>0.9707902</td><td>0.9796413</td><td>0.9802686</td><td>0.064927328</td><td>0.02966286</td><td>0.062810637</td><td>7.545008e-02</td><td>2.897174e-01</td><td>6.831440e-02</td></tr>\n",
       "\t<tr><td>ENSG00000073008</td><td>full_model</td><td>1</td><td>0.066071357</td><td>0.0303730846</td><td>0.061373126</td><td>  6</td><td> 6.000000</td><td>0.9815355</td><td>0.9995986</td><td>0.9876803</td><td>0.061197084</td><td>0.04836260</td><td>0.046759155</td><td>2.004577e-01</td><td>3.062029e-01</td><td>2.839480e-01</td></tr>\n",
       "\t<tr><td>ENSG00000178226</td><td>full_model</td><td>1</td><td>0.084221136</td><td>0.0193822522</td><td>0.024890422</td><td>  1</td><td> 1.000000</td><td>0.9683025</td><td>0.9978826</td><td>0.9837063</td><td>0.060435735</td><td>0.02590853</td><td>0.024003075</td><td>1.152175e-01</td><td>3.564739e-01</td><td>3.386600e-01</td></tr>\n",
       "\t<tr><td>ENSG00000160862</td><td>full_model</td><td>1</td><td>0.005497638</td><td>0.0115579875</td><td>0.027160190</td><td>  4</td><td> 4.000000</td><td>0.9787823</td><td>0.9869896</td><td>0.9883654</td><td>0.054741894</td><td>0.06609310</td><td>0.054685912</td><td>3.399349e-01</td><td>2.963485e-01</td><td>3.457597e-01</td></tr>\n",
       "\t<tr><td>ENSG00000161929</td><td>full_model</td><td>1</td><td>0.055363084</td><td>0.0397753429</td><td>0.012654247</td><td> 10</td><td>10.000000</td><td>0.9919998</td><td>0.9886791</td><td>0.9836267</td><td>0.054164731</td><td>0.04970860</td><td>        NaN</td><td>2.211079e-01</td><td>2.516354e-01</td><td>         NaN</td></tr>\n",
       "\t<tr><td>ENSG00000188186</td><td>full_model</td><td>1</td><td>0.044241526</td><td>0.0103806108</td><td>0.009210046</td><td>  4</td><td> 4.000000</td><td>0.9947662</td><td>0.9899135</td><td>0.9958301</td><td>0.051503143</td><td>0.02991491</td><td>0.026673634</td><td>2.026335e-01</td><td>3.776579e-01</td><td>3.928766e-01</td></tr>\n",
       "\t<tr><td>ENSG00000240065</td><td>full_model</td><td>1</td><td>0.039262774</td><td>0.0311322606</td><td>0.016615819</td><td> 12</td><td>12.000000</td><td>0.9996098</td><td>0.9892760</td><td>1.0015535</td><td>0.050100630</td><td>       NaN</td><td>        NaN</td><td>3.243092e-01</td><td>         NaN</td><td>         NaN</td></tr>\n",
       "\t<tr><td>ENSG00000104228</td><td>full_model</td><td>1</td><td>0.018562025</td><td>0.0104183850</td><td>0.028539060</td><td>  1</td><td> 1.000000</td><td>1.0045633</td><td>0.9863899</td><td>0.9828560</td><td>0.047054547</td><td>0.04689960</td><td>0.054209678</td><td>4.649756e-01</td><td>4.880851e-01</td><td>3.081038e-01</td></tr>\n",
       "\t<tr><td>ENSG00000108559</td><td>full_model</td><td>1</td><td>0.077177305</td><td>0.0554506196</td><td>0.106301975</td><td> 54</td><td>54.000000</td><td>0.9809689</td><td>0.9660031</td><td>0.9703385</td><td>0.045020113</td><td>0.05083623</td><td>0.054300044</td><td>1.404933e-01</td><td>1.525525e-01</td><td>8.366485e-02</td></tr>\n",
       "\t<tr><td>ENSG00000064666</td><td>full_model</td><td>2</td><td>0.068044529</td><td>0.0557549156</td><td>0.099490975</td><td>  2</td><td> 1.000000</td><td>0.9811472</td><td>0.9672055</td><td>0.9842841</td><td>0.044132024</td><td>0.05595329</td><td>0.040421653</td><td>1.350175e-01</td><td>1.432335e-01</td><td>1.631936e-01</td></tr>\n",
       "\t<tr><td>ENSG00000146834</td><td>full_model</td><td>1</td><td>0.073277490</td><td>0.0709701290</td><td>0.163327122</td><td> 31</td><td>31.000000</td><td>0.9835993</td><td>0.9801507</td><td>0.9676669</td><td>0.041222099</td><td>0.06097176</td><td>0.069334113</td><td>2.589654e-01</td><td>1.978351e-01</td><td>1.748765e-01</td></tr>\n",
       "\t<tr><td>ENSG00000180448</td><td>full_model</td><td>1</td><td>0.057082120</td><td>0.0505208969</td><td>0.059936332</td><td>  1</td><td> 1.000000</td><td>0.9913795</td><td>0.9736112</td><td>0.9850459</td><td>0.038689016</td><td>0.05333430</td><td>0.037114428</td><td>2.469331e-01</td><td>2.093799e-01</td><td>2.626817e-01</td></tr>\n",
       "\t<tr><td>ENSG00000130204</td><td>full_model</td><td>1</td><td>0.006018136</td><td>0.0078642476</td><td>0.049595653</td><td>  1</td><td> 1.000000</td><td>0.9950235</td><td>1.0030532</td><td>0.9898071</td><td>0.035157822</td><td>0.04072039</td><td>0.050674332</td><td>4.876367e-01</td><td>3.973556e-01</td><td>3.010516e-01</td></tr>\n",
       "\t<tr><td>ENSG00000103510</td><td>full_model</td><td>1</td><td>0.058810943</td><td>0.0329072310</td><td>0.064276726</td><td>  8</td><td> 8.000000</td><td>0.9771040</td><td>0.9671875</td><td>0.9842165</td><td>0.031438291</td><td>0.04517235</td><td>0.039449442</td><td>2.612281e-01</td><td>1.904004e-01</td><td>8.943067e-02</td></tr>\n",
       "\t<tr><td>ENSG00000224389</td><td>full_model</td><td>1</td><td>0.036421482</td><td>0.0331899221</td><td>0.023295293</td><td>  2</td><td> 2.000000</td><td>0.9794954</td><td>0.9904533</td><td>0.9914838</td><td>0.028838829</td><td>0.02588095</td><td>0.007683813</td><td>1.444599e-01</td><td>2.285707e-01</td><td>3.200332e-01</td></tr>\n",
       "\t<tr><td>ENSG00000085514</td><td>full_model</td><td>1</td><td>0.009141456</td><td>0.0226963372</td><td>0.293559866</td><td> 22</td><td>22.000000</td><td>0.9896417</td><td>0.9704335</td><td>0.9277771</td><td>0.025369136</td><td>0.03734344</td><td>0.146957691</td><td>3.925347e-01</td><td>3.346454e-01</td><td>1.269418e-01</td></tr>\n",
       "\t<tr><td>ENSG00000204516</td><td>full_model</td><td>2</td><td>0.035329061</td><td>0.0638496972</td><td>0.139966451</td><td> 37</td><td>18.500000</td><td>0.9875871</td><td>0.9511827</td><td>0.9529406</td><td>0.023796921</td><td>0.07820006</td><td>0.091378088</td><td>1.698061e-01</td><td>3.663295e-02</td><td>1.253806e-02</td></tr>\n",
       "\t<tr><td>ENSG00000204301</td><td>full_model</td><td>1</td><td>0.047494861</td><td>0.0208899928</td><td>0.059302674</td><td>  1</td><td> 1.000000</td><td>0.9912765</td><td>1.0078039</td><td>0.9996876</td><td>0.022395609</td><td>0.02069260</td><td>0.037768894</td><td>1.940600e-01</td><td>2.054364e-01</td><td>7.866745e-02</td></tr>\n",
       "\t<tr><td>ENSG00000103549</td><td>full_model</td><td>1</td><td>0.016936261</td><td>0.0172479658</td><td>0.051189358</td><td> 14</td><td>14.000000</td><td>0.9877211</td><td>0.9840974</td><td>0.9979472</td><td>0.021069846</td><td>       NaN</td><td>0.033474530</td><td>3.920404e-01</td><td>         NaN</td><td>2.346312e-01</td></tr>\n",
       "\t<tr><td>ENSG00000203710</td><td>full_model</td><td>1</td><td>0.015787323</td><td>0.0252040202</td><td>0.122984605</td><td>  8</td><td> 8.000000</td><td>0.9916900</td><td>0.9872014</td><td>0.9709260</td><td>0.019753270</td><td>0.02666400</td><td>0.075460710</td><td>3.323266e-01</td><td>3.073077e-01</td><td>9.904897e-02</td></tr>\n",
       "\t<tr><td>ENSG00000204267</td><td>full_model</td><td>1</td><td>0.031562193</td><td>0.0379915160</td><td>0.082950161</td><td> 10</td><td>10.000000</td><td>0.9810262</td><td>0.9945777</td><td>0.9857331</td><td>0.016579102</td><td>0.02361578</td><td>0.038874830</td><td>3.207860e-01</td><td>2.566969e-01</td><td>9.419153e-02</td></tr>\n",
       "\t<tr><td>ENSG00000103496</td><td>full_model</td><td>1</td><td>0.031307894</td><td>0.0311420199</td><td>0.020574502</td><td> 29</td><td>29.000000</td><td>1.0119043</td><td>0.9855152</td><td>0.9975699</td><td>0.016322636</td><td>0.02941113</td><td>0.013708386</td><td>3.006993e-01</td><td>2.064118e-01</td><td>3.286341e-01</td></tr>\n",
       "\t<tr><td>ENSG00000029725</td><td>full_model</td><td>1</td><td>0.009246485</td><td>0.0105427079</td><td>0.046804204</td><td> 58</td><td>58.000000</td><td>0.9910285</td><td>0.9845664</td><td>0.9805315</td><td>0.009707651</td><td>0.01506934</td><td>0.025098871</td><td>4.022024e-01</td><td>3.786452e-01</td><td>1.937518e-01</td></tr>\n",
       "\t<tr><td>ENSG00000007047</td><td>full_model</td><td>1</td><td>0.036136570</td><td>0.0457349501</td><td>0.091378281</td><td>  1</td><td> 1.000000</td><td>1.0030163</td><td>0.9866998</td><td>0.9779020</td><td>        NaN</td><td>       NaN</td><td>        NaN</td><td>         NaN</td><td>         NaN</td><td>         NaN</td></tr>\n",
       "\t<tr><td>ENSG00000064687</td><td>full_model</td><td>1</td><td>0.018640969</td><td>0.0058576646</td><td>0.015150230</td><td>  5</td><td> 5.000000</td><td>0.9986917</td><td>0.9877171</td><td>0.9937311</td><td>        NaN</td><td>0.10331091</td><td>0.100379805</td><td>         NaN</td><td>3.903350e-01</td><td>4.869531e-01</td></tr>\n",
       "\t<tr><td>ENSG00000078487</td><td>full_model</td><td>1</td><td>0.008736065</td><td>0.0054148646</td><td>0.050787833</td><td> 47</td><td>47.000000</td><td>0.9966395</td><td>0.9968013</td><td>0.9958185</td><td>        NaN</td><td>       NaN</td><td>        NaN</td><td>         NaN</td><td>         NaN</td><td>         NaN</td></tr>\n",
       "\t<tr><td>ENSG00000120915</td><td>full_model</td><td>1</td><td>0.020231885</td><td>0.0056745271</td><td>0.017266434</td><td> 19</td><td>19.000000</td><td>0.9945711</td><td>1.0106158</td><td>0.9979238</td><td>        NaN</td><td>0.22938504</td><td>        NaN</td><td>         NaN</td><td>4.979752e-01</td><td>         NaN</td></tr>\n",
       "\t<tr><td>ENSG00000130202</td><td>full_model</td><td>1</td><td>0.008375012</td><td>0.0073985969</td><td>0.022860818</td><td>  4</td><td> 4.000000</td><td>1.0120714</td><td>0.9966432</td><td>0.9979866</td><td>        NaN</td><td>0.12847809</td><td>0.131598610</td><td>         NaN</td><td>4.424078e-01</td><td>3.687692e-01</td></tr>\n",
       "\t<tr><td>ENSG00000142252</td><td>full_model</td><td>1</td><td>0.022928927</td><td>0.0217310155</td><td>0.042066954</td><td>  2</td><td> 2.000000</td><td>0.9970977</td><td>0.9830962</td><td>0.9927841</td><td>        NaN</td><td>0.07523582</td><td>0.077347303</td><td>         NaN</td><td>3.648514e-01</td><td>2.748339e-01</td></tr>\n",
       "\t<tr><td>ENSG00000146828</td><td>full_model</td><td>1</td><td>0.007597187</td><td>0.0069575020</td><td>0.012714758</td><td> 26</td><td>26.000000</td><td>0.9980865</td><td>0.9922314</td><td>0.9986886</td><td>        NaN</td><td>       NaN</td><td>0.125007330</td><td>         NaN</td><td>         NaN</td><td>3.731333e-01</td></tr>\n",
       "\t<tr><td>ENSG00000179846</td><td>full_model</td><td>1</td><td>0.024563308</td><td>0.0037251311</td><td>0.003226549</td><td> 27</td><td>27.000000</td><td>0.9966815</td><td>1.0020914</td><td>1.0018408</td><td>        NaN</td><td>       NaN</td><td>        NaN</td><td>         NaN</td><td>         NaN</td><td>         NaN</td></tr>\n",
       "\t<tr><td>ENSG00000186567</td><td>full_model</td><td>1</td><td>0.083764816</td><td>0.0525899353</td><td>0.108000020</td><td>  1</td><td> 1.000000</td><td>0.9755379</td><td>0.9908542</td><td>0.9947000</td><td>        NaN</td><td>0.20052260</td><td>0.204322785</td><td>         NaN</td><td>4.293133e-01</td><td>2.507925e-01</td></tr>\n",
       "\t<tr><td>ENSG00000234906</td><td>full_model</td><td>1</td><td>0.022732782</td><td>0.0002956122</td><td>0.001199443</td><td>  8</td><td> 8.000000</td><td>0.9974500</td><td>0.9956208</td><td>0.9879414</td><td>        NaN</td><td>       NaN</td><td>0.183984192</td><td>         NaN</td><td>         NaN</td><td>5.267569e-01</td></tr>\n",
       "\t<tr><td>ENSG00000264538</td><td>full_model</td><td>1</td><td>0.161573796</td><td>0.1181714017</td><td>0.250275795</td><td>  7</td><td> 7.000000</td><td>0.9753450</td><td>0.9732590</td><td>0.9749823</td><td>        NaN</td><td>0.05761301</td><td>0.066602922</td><td>         NaN</td><td>4.303569e-01</td><td>4.273761e-01</td></tr>\n",
       "</tbody>\n",
       "</table>\n"
      ],
      "text/latex": [
       "A tibble: 56 × 17\n",
       "\\begin{tabular}{lllllllllllllllll}\n",
       " ID & tb\\_name & n\\_of\\_cs & hsq\\_ac & hsq\\_PCC & hsq\\_DLPFC & total\\_cs\\_size & mean\\_cs\\_size & rmse\\_ac & rmse\\_PCC & rmse\\_DLPFC & r2\\_ac & r2\\_PCC & r2\\_DLPFC & pval\\_ac & pval\\_PCC & pval\\_DLPFC\\\\\n",
       " <chr> & <chr> & <dbl> & <dbl> & <dbl> & <dbl> & <dbl> & <dbl> & <dbl> & <dbl> & <dbl> & <dbl> & <dbl> & <dbl> & <dbl> & <dbl> & <dbl>\\\\\n",
       "\\hline\n",
       "\t ENSG00000198502 & full\\_model & 3 & 0.513690757 & 0.3733669852 & 0.650189053 &  78 & 26.000000 & 0.6013591 & 0.6108765 & 0.6014304 & 0.638675312 & 0.63006173 & 0.639737191 & 1.368778e-16 & 1.312969e-13 & 2.330969e-20\\\\\n",
       "\t ENSG00000179344 & full\\_model & 3 & 0.470226664 & 0.3636302831 & 0.576065407 &  19 &  6.333333 & 0.7174016 & 0.6954099 & 0.7291190 & 0.492327635 & 0.51828701 & 0.481975174 & 1.563635e-10 & 2.431766e-08 & 1.689402e-14\\\\\n",
       "\t ENSG00000196126 & full\\_model & 2 & 0.376738273 & 0.3234972332 & 0.496066522 & 117 & 58.500000 & 0.7263094 & 0.6846980 & 0.7225917 & 0.468814751 & 0.52016805 & 0.474740162 & 1.152171e-09 & 1.784386e-12 & 5.230951e-15\\\\\n",
       "\t ENSG00000196735 & full\\_model & 1 & 0.223702518 & 0.1719917941 & 0.265189108 &  63 & 63.000000 & 0.8534031 & 0.8573006 & 0.8582561 & 0.258585296 & 0.26981092 & 0.265060385 & 7.270027e-06 & 1.048668e-05 & 6.409206e-08\\\\\n",
       "\t ENSG00000244731 & full\\_model & 1 & 0.162420931 & 0.0877330362 & 0.043079838 &  17 & 17.000000 & 0.9133871 & 0.9401645 & 0.9791630 & 0.157380289 & 0.09462677 & 0.047792937 & 1.960529e-03 & 3.315583e-02 & 4.196609e-02\\\\\n",
       "\t ENSG00000140416 & full\\_model & 1 & 0.023222006 & 0.0079174467 & 0.031435861 &  14 & 14.000000 & 0.9868987 & 1.0029661 & 0.9927806 & 0.131208320 & 0.11775367 & 0.129527138 & 2.886568e-01 & 4.240775e-01 & 2.738263e-01\\\\\n",
       "\t ENSG00000065268 & full\\_model & 2 & 0.212336632 & 0.1273751892 & 0.058674478 &   7 &  3.500000 & 0.9367841 & 0.9532727 & 0.9763230 & 0.122287617 & 0.11024193 & 0.034492392 & 5.190362e-02 & 6.080253e-02 & 1.782887e-01\\\\\n",
       "\t ENSG00000213420 & full\\_model & 1 & 0.008992798 & 0.0091912830 & 0.024500893 &   4 &  4.000000 & 0.9887634 & 1.0146612 & 0.9712136 & 0.122064874 & 0.12129158 & 0.125250858 & 5.091898e-01 & 4.649291e-01 & 3.728670e-01\\\\\n",
       "\t ENSG00000108523 & full\\_model & 1 & 0.123434821 & 0.0562238271 & 0.014748901 &   8 &  8.000000 & 0.9569086 & 0.9769366 & 0.9952978 & 0.122005421 & 0.08878547 & 0.054732420 & 1.149972e-01 & 1.873029e-01 & 3.771616e-01\\\\\n",
       "\t ENSG00000134463 & full\\_model & 3 & 0.197709453 & 0.0851877315 & 0.143970058 &   5 &  1.666667 & 0.9422831 & 0.9645132 & 0.9705866 & 0.114517969 & 0.05653970 & 0.051197289 & 3.031111e-02 & 1.378601e-01 & 8.010120e-02\\\\\n",
       "\t ENSG00000189114 & full\\_model & 2 & 0.036656527 & 0.0162159145 & 0.044959620 &  29 & 14.500000 & 0.9941472 & 0.9857578 & 0.9959140 & 0.107687119 &        NaN & 0.106902370 & 3.332636e-01 &          NaN & 3.288068e-01\\\\\n",
       "\t ENSG00000168077 & full\\_model & 1 & 0.007421224 & 0.0036316705 & 0.027228279 &  17 & 17.000000 & 1.0024455 & 1.0007409 & 1.0061789 & 0.105575898 & 0.10830310 &         NaN & 4.559949e-01 & 4.390062e-01 &          NaN\\\\\n",
       "\t ENSG00000214309 & full\\_model & 1 & 0.108241051 & 0.0395865609 & 0.054572903 &  18 & 18.000000 & 0.9778714 & 0.9739813 & 0.9809922 & 0.098680586 &        NaN & 0.062654595 & 1.938557e-01 &          NaN & 3.608305e-01\\\\\n",
       "\t ENSG00000110079 & full\\_model & 1 & 0.023504275 & 0.0102359830 & 0.027364267 &  59 & 59.000000 & 0.9953164 & 0.9868623 & 0.9887546 & 0.097357312 & 0.09229141 & 0.092193377 & 3.088835e-01 & 3.696681e-01 & 3.912535e-01\\\\\n",
       "\t ENSG00000129204 & full\\_model & 2 & 0.260579280 & 0.1005450831 & 0.237190106 &   2 &  1.000000 & 0.9398903 & 1.0016165 & 0.9836291 & 0.095397775 & 0.04146917 & 0.051515182 & 2.958399e-02 & 1.798116e-01 & 1.051296e-01\\\\\n",
       "\t ENSG00000121716 & full\\_model & 1 & 0.199619383 & 0.1378405610 & 0.252531755 &  21 & 21.000000 & 0.9513573 & 0.9537720 & 0.9500204 & 0.093328420 & 0.07573000 & 0.093608914 & 1.463732e-01 & 1.670595e-01 & 9.431669e-02\\\\\n",
       "\t ENSG00000103642 & full\\_model & 1 & 0.065792304 & 0.0395052958 & 0.059697617 &   8 &  8.000000 & 0.9632709 & 0.9723504 & 0.9887381 & 0.079931247 & 0.07373641 & 0.052729330 & 7.636071e-02 & 1.389160e-01 & 1.524063e-01\\\\\n",
       "\t ENSG00000158864 & full\\_model & 1 & 0.013542843 & 0.0084595586 & 0.023925971 &   2 &  2.000000 & 0.9859969 & 1.0067530 & 0.9956248 & 0.075557136 &        NaN & 0.075746194 & 3.794543e-01 &          NaN & 3.670824e-01\\\\\n",
       "\t ENSG00000099817 & full\\_model & 1 & 0.109995751 & 0.0452642772 & 0.128872141 &   1 &  1.000000 & 0.9746154 & 0.9708633 & 0.9711570 & 0.072932557 & 0.04415322 & 0.065510855 & 4.661223e-02 & 1.224143e-01 & 6.828948e-02\\\\\n",
       "\t ENSG00000196118 & full\\_model & 2 & 0.095063542 & 0.0362030579 & 0.057638062 &  32 & 16.000000 & 0.9613266 & 0.9657283 & 0.9892412 & 0.070422240 & 0.04019094 & 0.035606097 & 9.311023e-02 & 1.670592e-01 & 1.478363e-01\\\\\n",
       "\t ENSG00000166529 & full\\_model & 2 & 0.089484131 & 0.0694550522 & 0.217094652 &  29 & 14.500000 & 0.9660599 & 0.9638963 & 0.9307808 & 0.068113363 & 0.05085862 & 0.128842475 & 6.784948e-02 & 1.725953e-01 & 2.243412e-02\\\\\n",
       "\t ENSG00000167840 & full\\_model & 2 & 0.124801689 & 0.0668028213 & 0.153755960 &  60 & 30.000000 & 0.9726708 & 0.9789595 & 0.9800636 & 0.066803524 & 0.03909610 & 0.057959771 & 6.605083e-02 & 1.862688e-01 & 6.457893e-02\\\\\n",
       "\t ENSG00000147419 & full\\_model & 1 & 0.078141285 & 0.0267257984 & 0.090753118 &   8 &  8.000000 & 0.9707902 & 0.9796413 & 0.9802686 & 0.064927328 & 0.02966286 & 0.062810637 & 7.545008e-02 & 2.897174e-01 & 6.831440e-02\\\\\n",
       "\t ENSG00000073008 & full\\_model & 1 & 0.066071357 & 0.0303730846 & 0.061373126 &   6 &  6.000000 & 0.9815355 & 0.9995986 & 0.9876803 & 0.061197084 & 0.04836260 & 0.046759155 & 2.004577e-01 & 3.062029e-01 & 2.839480e-01\\\\\n",
       "\t ENSG00000178226 & full\\_model & 1 & 0.084221136 & 0.0193822522 & 0.024890422 &   1 &  1.000000 & 0.9683025 & 0.9978826 & 0.9837063 & 0.060435735 & 0.02590853 & 0.024003075 & 1.152175e-01 & 3.564739e-01 & 3.386600e-01\\\\\n",
       "\t ENSG00000160862 & full\\_model & 1 & 0.005497638 & 0.0115579875 & 0.027160190 &   4 &  4.000000 & 0.9787823 & 0.9869896 & 0.9883654 & 0.054741894 & 0.06609310 & 0.054685912 & 3.399349e-01 & 2.963485e-01 & 3.457597e-01\\\\\n",
       "\t ENSG00000161929 & full\\_model & 1 & 0.055363084 & 0.0397753429 & 0.012654247 &  10 & 10.000000 & 0.9919998 & 0.9886791 & 0.9836267 & 0.054164731 & 0.04970860 &         NaN & 2.211079e-01 & 2.516354e-01 &          NaN\\\\\n",
       "\t ENSG00000188186 & full\\_model & 1 & 0.044241526 & 0.0103806108 & 0.009210046 &   4 &  4.000000 & 0.9947662 & 0.9899135 & 0.9958301 & 0.051503143 & 0.02991491 & 0.026673634 & 2.026335e-01 & 3.776579e-01 & 3.928766e-01\\\\\n",
       "\t ENSG00000240065 & full\\_model & 1 & 0.039262774 & 0.0311322606 & 0.016615819 &  12 & 12.000000 & 0.9996098 & 0.9892760 & 1.0015535 & 0.050100630 &        NaN &         NaN & 3.243092e-01 &          NaN &          NaN\\\\\n",
       "\t ENSG00000104228 & full\\_model & 1 & 0.018562025 & 0.0104183850 & 0.028539060 &   1 &  1.000000 & 1.0045633 & 0.9863899 & 0.9828560 & 0.047054547 & 0.04689960 & 0.054209678 & 4.649756e-01 & 4.880851e-01 & 3.081038e-01\\\\\n",
       "\t ENSG00000108559 & full\\_model & 1 & 0.077177305 & 0.0554506196 & 0.106301975 &  54 & 54.000000 & 0.9809689 & 0.9660031 & 0.9703385 & 0.045020113 & 0.05083623 & 0.054300044 & 1.404933e-01 & 1.525525e-01 & 8.366485e-02\\\\\n",
       "\t ENSG00000064666 & full\\_model & 2 & 0.068044529 & 0.0557549156 & 0.099490975 &   2 &  1.000000 & 0.9811472 & 0.9672055 & 0.9842841 & 0.044132024 & 0.05595329 & 0.040421653 & 1.350175e-01 & 1.432335e-01 & 1.631936e-01\\\\\n",
       "\t ENSG00000146834 & full\\_model & 1 & 0.073277490 & 0.0709701290 & 0.163327122 &  31 & 31.000000 & 0.9835993 & 0.9801507 & 0.9676669 & 0.041222099 & 0.06097176 & 0.069334113 & 2.589654e-01 & 1.978351e-01 & 1.748765e-01\\\\\n",
       "\t ENSG00000180448 & full\\_model & 1 & 0.057082120 & 0.0505208969 & 0.059936332 &   1 &  1.000000 & 0.9913795 & 0.9736112 & 0.9850459 & 0.038689016 & 0.05333430 & 0.037114428 & 2.469331e-01 & 2.093799e-01 & 2.626817e-01\\\\\n",
       "\t ENSG00000130204 & full\\_model & 1 & 0.006018136 & 0.0078642476 & 0.049595653 &   1 &  1.000000 & 0.9950235 & 1.0030532 & 0.9898071 & 0.035157822 & 0.04072039 & 0.050674332 & 4.876367e-01 & 3.973556e-01 & 3.010516e-01\\\\\n",
       "\t ENSG00000103510 & full\\_model & 1 & 0.058810943 & 0.0329072310 & 0.064276726 &   8 &  8.000000 & 0.9771040 & 0.9671875 & 0.9842165 & 0.031438291 & 0.04517235 & 0.039449442 & 2.612281e-01 & 1.904004e-01 & 8.943067e-02\\\\\n",
       "\t ENSG00000224389 & full\\_model & 1 & 0.036421482 & 0.0331899221 & 0.023295293 &   2 &  2.000000 & 0.9794954 & 0.9904533 & 0.9914838 & 0.028838829 & 0.02588095 & 0.007683813 & 1.444599e-01 & 2.285707e-01 & 3.200332e-01\\\\\n",
       "\t ENSG00000085514 & full\\_model & 1 & 0.009141456 & 0.0226963372 & 0.293559866 &  22 & 22.000000 & 0.9896417 & 0.9704335 & 0.9277771 & 0.025369136 & 0.03734344 & 0.146957691 & 3.925347e-01 & 3.346454e-01 & 1.269418e-01\\\\\n",
       "\t ENSG00000204516 & full\\_model & 2 & 0.035329061 & 0.0638496972 & 0.139966451 &  37 & 18.500000 & 0.9875871 & 0.9511827 & 0.9529406 & 0.023796921 & 0.07820006 & 0.091378088 & 1.698061e-01 & 3.663295e-02 & 1.253806e-02\\\\\n",
       "\t ENSG00000204301 & full\\_model & 1 & 0.047494861 & 0.0208899928 & 0.059302674 &   1 &  1.000000 & 0.9912765 & 1.0078039 & 0.9996876 & 0.022395609 & 0.02069260 & 0.037768894 & 1.940600e-01 & 2.054364e-01 & 7.866745e-02\\\\\n",
       "\t ENSG00000103549 & full\\_model & 1 & 0.016936261 & 0.0172479658 & 0.051189358 &  14 & 14.000000 & 0.9877211 & 0.9840974 & 0.9979472 & 0.021069846 &        NaN & 0.033474530 & 3.920404e-01 &          NaN & 2.346312e-01\\\\\n",
       "\t ENSG00000203710 & full\\_model & 1 & 0.015787323 & 0.0252040202 & 0.122984605 &   8 &  8.000000 & 0.9916900 & 0.9872014 & 0.9709260 & 0.019753270 & 0.02666400 & 0.075460710 & 3.323266e-01 & 3.073077e-01 & 9.904897e-02\\\\\n",
       "\t ENSG00000204267 & full\\_model & 1 & 0.031562193 & 0.0379915160 & 0.082950161 &  10 & 10.000000 & 0.9810262 & 0.9945777 & 0.9857331 & 0.016579102 & 0.02361578 & 0.038874830 & 3.207860e-01 & 2.566969e-01 & 9.419153e-02\\\\\n",
       "\t ENSG00000103496 & full\\_model & 1 & 0.031307894 & 0.0311420199 & 0.020574502 &  29 & 29.000000 & 1.0119043 & 0.9855152 & 0.9975699 & 0.016322636 & 0.02941113 & 0.013708386 & 3.006993e-01 & 2.064118e-01 & 3.286341e-01\\\\\n",
       "\t ENSG00000029725 & full\\_model & 1 & 0.009246485 & 0.0105427079 & 0.046804204 &  58 & 58.000000 & 0.9910285 & 0.9845664 & 0.9805315 & 0.009707651 & 0.01506934 & 0.025098871 & 4.022024e-01 & 3.786452e-01 & 1.937518e-01\\\\\n",
       "\t ENSG00000007047 & full\\_model & 1 & 0.036136570 & 0.0457349501 & 0.091378281 &   1 &  1.000000 & 1.0030163 & 0.9866998 & 0.9779020 &         NaN &        NaN &         NaN &          NaN &          NaN &          NaN\\\\\n",
       "\t ENSG00000064687 & full\\_model & 1 & 0.018640969 & 0.0058576646 & 0.015150230 &   5 &  5.000000 & 0.9986917 & 0.9877171 & 0.9937311 &         NaN & 0.10331091 & 0.100379805 &          NaN & 3.903350e-01 & 4.869531e-01\\\\\n",
       "\t ENSG00000078487 & full\\_model & 1 & 0.008736065 & 0.0054148646 & 0.050787833 &  47 & 47.000000 & 0.9966395 & 0.9968013 & 0.9958185 &         NaN &        NaN &         NaN &          NaN &          NaN &          NaN\\\\\n",
       "\t ENSG00000120915 & full\\_model & 1 & 0.020231885 & 0.0056745271 & 0.017266434 &  19 & 19.000000 & 0.9945711 & 1.0106158 & 0.9979238 &         NaN & 0.22938504 &         NaN &          NaN & 4.979752e-01 &          NaN\\\\\n",
       "\t ENSG00000130202 & full\\_model & 1 & 0.008375012 & 0.0073985969 & 0.022860818 &   4 &  4.000000 & 1.0120714 & 0.9966432 & 0.9979866 &         NaN & 0.12847809 & 0.131598610 &          NaN & 4.424078e-01 & 3.687692e-01\\\\\n",
       "\t ENSG00000142252 & full\\_model & 1 & 0.022928927 & 0.0217310155 & 0.042066954 &   2 &  2.000000 & 0.9970977 & 0.9830962 & 0.9927841 &         NaN & 0.07523582 & 0.077347303 &          NaN & 3.648514e-01 & 2.748339e-01\\\\\n",
       "\t ENSG00000146828 & full\\_model & 1 & 0.007597187 & 0.0069575020 & 0.012714758 &  26 & 26.000000 & 0.9980865 & 0.9922314 & 0.9986886 &         NaN &        NaN & 0.125007330 &          NaN &          NaN & 3.731333e-01\\\\\n",
       "\t ENSG00000179846 & full\\_model & 1 & 0.024563308 & 0.0037251311 & 0.003226549 &  27 & 27.000000 & 0.9966815 & 1.0020914 & 1.0018408 &         NaN &        NaN &         NaN &          NaN &          NaN &          NaN\\\\\n",
       "\t ENSG00000186567 & full\\_model & 1 & 0.083764816 & 0.0525899353 & 0.108000020 &   1 &  1.000000 & 0.9755379 & 0.9908542 & 0.9947000 &         NaN & 0.20052260 & 0.204322785 &          NaN & 4.293133e-01 & 2.507925e-01\\\\\n",
       "\t ENSG00000234906 & full\\_model & 1 & 0.022732782 & 0.0002956122 & 0.001199443 &   8 &  8.000000 & 0.9974500 & 0.9956208 & 0.9879414 &         NaN &        NaN & 0.183984192 &          NaN &          NaN & 5.267569e-01\\\\\n",
       "\t ENSG00000264538 & full\\_model & 1 & 0.161573796 & 0.1181714017 & 0.250275795 &   7 &  7.000000 & 0.9753450 & 0.9732590 & 0.9749823 &         NaN & 0.05761301 & 0.066602922 &          NaN & 4.303569e-01 & 4.273761e-01\\\\\n",
       "\\end{tabular}\n"
      ],
      "text/markdown": [
       "\n",
       "A tibble: 56 × 17\n",
       "\n",
       "| ID &lt;chr&gt; | tb_name &lt;chr&gt; | n_of_cs &lt;dbl&gt; | hsq_ac &lt;dbl&gt; | hsq_PCC &lt;dbl&gt; | hsq_DLPFC &lt;dbl&gt; | total_cs_size &lt;dbl&gt; | mean_cs_size &lt;dbl&gt; | rmse_ac &lt;dbl&gt; | rmse_PCC &lt;dbl&gt; | rmse_DLPFC &lt;dbl&gt; | r2_ac &lt;dbl&gt; | r2_PCC &lt;dbl&gt; | r2_DLPFC &lt;dbl&gt; | pval_ac &lt;dbl&gt; | pval_PCC &lt;dbl&gt; | pval_DLPFC &lt;dbl&gt; |\n",
       "|---|---|---|---|---|---|---|---|---|---|---|---|---|---|---|---|---|\n",
       "| ENSG00000198502 | full_model | 3 | 0.513690757 | 0.3733669852 | 0.650189053 |  78 | 26.000000 | 0.6013591 | 0.6108765 | 0.6014304 | 0.638675312 | 0.63006173 | 0.639737191 | 1.368778e-16 | 1.312969e-13 | 2.330969e-20 |\n",
       "| ENSG00000179344 | full_model | 3 | 0.470226664 | 0.3636302831 | 0.576065407 |  19 |  6.333333 | 0.7174016 | 0.6954099 | 0.7291190 | 0.492327635 | 0.51828701 | 0.481975174 | 1.563635e-10 | 2.431766e-08 | 1.689402e-14 |\n",
       "| ENSG00000196126 | full_model | 2 | 0.376738273 | 0.3234972332 | 0.496066522 | 117 | 58.500000 | 0.7263094 | 0.6846980 | 0.7225917 | 0.468814751 | 0.52016805 | 0.474740162 | 1.152171e-09 | 1.784386e-12 | 5.230951e-15 |\n",
       "| ENSG00000196735 | full_model | 1 | 0.223702518 | 0.1719917941 | 0.265189108 |  63 | 63.000000 | 0.8534031 | 0.8573006 | 0.8582561 | 0.258585296 | 0.26981092 | 0.265060385 | 7.270027e-06 | 1.048668e-05 | 6.409206e-08 |\n",
       "| ENSG00000244731 | full_model | 1 | 0.162420931 | 0.0877330362 | 0.043079838 |  17 | 17.000000 | 0.9133871 | 0.9401645 | 0.9791630 | 0.157380289 | 0.09462677 | 0.047792937 | 1.960529e-03 | 3.315583e-02 | 4.196609e-02 |\n",
       "| ENSG00000140416 | full_model | 1 | 0.023222006 | 0.0079174467 | 0.031435861 |  14 | 14.000000 | 0.9868987 | 1.0029661 | 0.9927806 | 0.131208320 | 0.11775367 | 0.129527138 | 2.886568e-01 | 4.240775e-01 | 2.738263e-01 |\n",
       "| ENSG00000065268 | full_model | 2 | 0.212336632 | 0.1273751892 | 0.058674478 |   7 |  3.500000 | 0.9367841 | 0.9532727 | 0.9763230 | 0.122287617 | 0.11024193 | 0.034492392 | 5.190362e-02 | 6.080253e-02 | 1.782887e-01 |\n",
       "| ENSG00000213420 | full_model | 1 | 0.008992798 | 0.0091912830 | 0.024500893 |   4 |  4.000000 | 0.9887634 | 1.0146612 | 0.9712136 | 0.122064874 | 0.12129158 | 0.125250858 | 5.091898e-01 | 4.649291e-01 | 3.728670e-01 |\n",
       "| ENSG00000108523 | full_model | 1 | 0.123434821 | 0.0562238271 | 0.014748901 |   8 |  8.000000 | 0.9569086 | 0.9769366 | 0.9952978 | 0.122005421 | 0.08878547 | 0.054732420 | 1.149972e-01 | 1.873029e-01 | 3.771616e-01 |\n",
       "| ENSG00000134463 | full_model | 3 | 0.197709453 | 0.0851877315 | 0.143970058 |   5 |  1.666667 | 0.9422831 | 0.9645132 | 0.9705866 | 0.114517969 | 0.05653970 | 0.051197289 | 3.031111e-02 | 1.378601e-01 | 8.010120e-02 |\n",
       "| ENSG00000189114 | full_model | 2 | 0.036656527 | 0.0162159145 | 0.044959620 |  29 | 14.500000 | 0.9941472 | 0.9857578 | 0.9959140 | 0.107687119 |        NaN | 0.106902370 | 3.332636e-01 |          NaN | 3.288068e-01 |\n",
       "| ENSG00000168077 | full_model | 1 | 0.007421224 | 0.0036316705 | 0.027228279 |  17 | 17.000000 | 1.0024455 | 1.0007409 | 1.0061789 | 0.105575898 | 0.10830310 |         NaN | 4.559949e-01 | 4.390062e-01 |          NaN |\n",
       "| ENSG00000214309 | full_model | 1 | 0.108241051 | 0.0395865609 | 0.054572903 |  18 | 18.000000 | 0.9778714 | 0.9739813 | 0.9809922 | 0.098680586 |        NaN | 0.062654595 | 1.938557e-01 |          NaN | 3.608305e-01 |\n",
       "| ENSG00000110079 | full_model | 1 | 0.023504275 | 0.0102359830 | 0.027364267 |  59 | 59.000000 | 0.9953164 | 0.9868623 | 0.9887546 | 0.097357312 | 0.09229141 | 0.092193377 | 3.088835e-01 | 3.696681e-01 | 3.912535e-01 |\n",
       "| ENSG00000129204 | full_model | 2 | 0.260579280 | 0.1005450831 | 0.237190106 |   2 |  1.000000 | 0.9398903 | 1.0016165 | 0.9836291 | 0.095397775 | 0.04146917 | 0.051515182 | 2.958399e-02 | 1.798116e-01 | 1.051296e-01 |\n",
       "| ENSG00000121716 | full_model | 1 | 0.199619383 | 0.1378405610 | 0.252531755 |  21 | 21.000000 | 0.9513573 | 0.9537720 | 0.9500204 | 0.093328420 | 0.07573000 | 0.093608914 | 1.463732e-01 | 1.670595e-01 | 9.431669e-02 |\n",
       "| ENSG00000103642 | full_model | 1 | 0.065792304 | 0.0395052958 | 0.059697617 |   8 |  8.000000 | 0.9632709 | 0.9723504 | 0.9887381 | 0.079931247 | 0.07373641 | 0.052729330 | 7.636071e-02 | 1.389160e-01 | 1.524063e-01 |\n",
       "| ENSG00000158864 | full_model | 1 | 0.013542843 | 0.0084595586 | 0.023925971 |   2 |  2.000000 | 0.9859969 | 1.0067530 | 0.9956248 | 0.075557136 |        NaN | 0.075746194 | 3.794543e-01 |          NaN | 3.670824e-01 |\n",
       "| ENSG00000099817 | full_model | 1 | 0.109995751 | 0.0452642772 | 0.128872141 |   1 |  1.000000 | 0.9746154 | 0.9708633 | 0.9711570 | 0.072932557 | 0.04415322 | 0.065510855 | 4.661223e-02 | 1.224143e-01 | 6.828948e-02 |\n",
       "| ENSG00000196118 | full_model | 2 | 0.095063542 | 0.0362030579 | 0.057638062 |  32 | 16.000000 | 0.9613266 | 0.9657283 | 0.9892412 | 0.070422240 | 0.04019094 | 0.035606097 | 9.311023e-02 | 1.670592e-01 | 1.478363e-01 |\n",
       "| ENSG00000166529 | full_model | 2 | 0.089484131 | 0.0694550522 | 0.217094652 |  29 | 14.500000 | 0.9660599 | 0.9638963 | 0.9307808 | 0.068113363 | 0.05085862 | 0.128842475 | 6.784948e-02 | 1.725953e-01 | 2.243412e-02 |\n",
       "| ENSG00000167840 | full_model | 2 | 0.124801689 | 0.0668028213 | 0.153755960 |  60 | 30.000000 | 0.9726708 | 0.9789595 | 0.9800636 | 0.066803524 | 0.03909610 | 0.057959771 | 6.605083e-02 | 1.862688e-01 | 6.457893e-02 |\n",
       "| ENSG00000147419 | full_model | 1 | 0.078141285 | 0.0267257984 | 0.090753118 |   8 |  8.000000 | 0.9707902 | 0.9796413 | 0.9802686 | 0.064927328 | 0.02966286 | 0.062810637 | 7.545008e-02 | 2.897174e-01 | 6.831440e-02 |\n",
       "| ENSG00000073008 | full_model | 1 | 0.066071357 | 0.0303730846 | 0.061373126 |   6 |  6.000000 | 0.9815355 | 0.9995986 | 0.9876803 | 0.061197084 | 0.04836260 | 0.046759155 | 2.004577e-01 | 3.062029e-01 | 2.839480e-01 |\n",
       "| ENSG00000178226 | full_model | 1 | 0.084221136 | 0.0193822522 | 0.024890422 |   1 |  1.000000 | 0.9683025 | 0.9978826 | 0.9837063 | 0.060435735 | 0.02590853 | 0.024003075 | 1.152175e-01 | 3.564739e-01 | 3.386600e-01 |\n",
       "| ENSG00000160862 | full_model | 1 | 0.005497638 | 0.0115579875 | 0.027160190 |   4 |  4.000000 | 0.9787823 | 0.9869896 | 0.9883654 | 0.054741894 | 0.06609310 | 0.054685912 | 3.399349e-01 | 2.963485e-01 | 3.457597e-01 |\n",
       "| ENSG00000161929 | full_model | 1 | 0.055363084 | 0.0397753429 | 0.012654247 |  10 | 10.000000 | 0.9919998 | 0.9886791 | 0.9836267 | 0.054164731 | 0.04970860 |         NaN | 2.211079e-01 | 2.516354e-01 |          NaN |\n",
       "| ENSG00000188186 | full_model | 1 | 0.044241526 | 0.0103806108 | 0.009210046 |   4 |  4.000000 | 0.9947662 | 0.9899135 | 0.9958301 | 0.051503143 | 0.02991491 | 0.026673634 | 2.026335e-01 | 3.776579e-01 | 3.928766e-01 |\n",
       "| ENSG00000240065 | full_model | 1 | 0.039262774 | 0.0311322606 | 0.016615819 |  12 | 12.000000 | 0.9996098 | 0.9892760 | 1.0015535 | 0.050100630 |        NaN |         NaN | 3.243092e-01 |          NaN |          NaN |\n",
       "| ENSG00000104228 | full_model | 1 | 0.018562025 | 0.0104183850 | 0.028539060 |   1 |  1.000000 | 1.0045633 | 0.9863899 | 0.9828560 | 0.047054547 | 0.04689960 | 0.054209678 | 4.649756e-01 | 4.880851e-01 | 3.081038e-01 |\n",
       "| ENSG00000108559 | full_model | 1 | 0.077177305 | 0.0554506196 | 0.106301975 |  54 | 54.000000 | 0.9809689 | 0.9660031 | 0.9703385 | 0.045020113 | 0.05083623 | 0.054300044 | 1.404933e-01 | 1.525525e-01 | 8.366485e-02 |\n",
       "| ENSG00000064666 | full_model | 2 | 0.068044529 | 0.0557549156 | 0.099490975 |   2 |  1.000000 | 0.9811472 | 0.9672055 | 0.9842841 | 0.044132024 | 0.05595329 | 0.040421653 | 1.350175e-01 | 1.432335e-01 | 1.631936e-01 |\n",
       "| ENSG00000146834 | full_model | 1 | 0.073277490 | 0.0709701290 | 0.163327122 |  31 | 31.000000 | 0.9835993 | 0.9801507 | 0.9676669 | 0.041222099 | 0.06097176 | 0.069334113 | 2.589654e-01 | 1.978351e-01 | 1.748765e-01 |\n",
       "| ENSG00000180448 | full_model | 1 | 0.057082120 | 0.0505208969 | 0.059936332 |   1 |  1.000000 | 0.9913795 | 0.9736112 | 0.9850459 | 0.038689016 | 0.05333430 | 0.037114428 | 2.469331e-01 | 2.093799e-01 | 2.626817e-01 |\n",
       "| ENSG00000130204 | full_model | 1 | 0.006018136 | 0.0078642476 | 0.049595653 |   1 |  1.000000 | 0.9950235 | 1.0030532 | 0.9898071 | 0.035157822 | 0.04072039 | 0.050674332 | 4.876367e-01 | 3.973556e-01 | 3.010516e-01 |\n",
       "| ENSG00000103510 | full_model | 1 | 0.058810943 | 0.0329072310 | 0.064276726 |   8 |  8.000000 | 0.9771040 | 0.9671875 | 0.9842165 | 0.031438291 | 0.04517235 | 0.039449442 | 2.612281e-01 | 1.904004e-01 | 8.943067e-02 |\n",
       "| ENSG00000224389 | full_model | 1 | 0.036421482 | 0.0331899221 | 0.023295293 |   2 |  2.000000 | 0.9794954 | 0.9904533 | 0.9914838 | 0.028838829 | 0.02588095 | 0.007683813 | 1.444599e-01 | 2.285707e-01 | 3.200332e-01 |\n",
       "| ENSG00000085514 | full_model | 1 | 0.009141456 | 0.0226963372 | 0.293559866 |  22 | 22.000000 | 0.9896417 | 0.9704335 | 0.9277771 | 0.025369136 | 0.03734344 | 0.146957691 | 3.925347e-01 | 3.346454e-01 | 1.269418e-01 |\n",
       "| ENSG00000204516 | full_model | 2 | 0.035329061 | 0.0638496972 | 0.139966451 |  37 | 18.500000 | 0.9875871 | 0.9511827 | 0.9529406 | 0.023796921 | 0.07820006 | 0.091378088 | 1.698061e-01 | 3.663295e-02 | 1.253806e-02 |\n",
       "| ENSG00000204301 | full_model | 1 | 0.047494861 | 0.0208899928 | 0.059302674 |   1 |  1.000000 | 0.9912765 | 1.0078039 | 0.9996876 | 0.022395609 | 0.02069260 | 0.037768894 | 1.940600e-01 | 2.054364e-01 | 7.866745e-02 |\n",
       "| ENSG00000103549 | full_model | 1 | 0.016936261 | 0.0172479658 | 0.051189358 |  14 | 14.000000 | 0.9877211 | 0.9840974 | 0.9979472 | 0.021069846 |        NaN | 0.033474530 | 3.920404e-01 |          NaN | 2.346312e-01 |\n",
       "| ENSG00000203710 | full_model | 1 | 0.015787323 | 0.0252040202 | 0.122984605 |   8 |  8.000000 | 0.9916900 | 0.9872014 | 0.9709260 | 0.019753270 | 0.02666400 | 0.075460710 | 3.323266e-01 | 3.073077e-01 | 9.904897e-02 |\n",
       "| ENSG00000204267 | full_model | 1 | 0.031562193 | 0.0379915160 | 0.082950161 |  10 | 10.000000 | 0.9810262 | 0.9945777 | 0.9857331 | 0.016579102 | 0.02361578 | 0.038874830 | 3.207860e-01 | 2.566969e-01 | 9.419153e-02 |\n",
       "| ENSG00000103496 | full_model | 1 | 0.031307894 | 0.0311420199 | 0.020574502 |  29 | 29.000000 | 1.0119043 | 0.9855152 | 0.9975699 | 0.016322636 | 0.02941113 | 0.013708386 | 3.006993e-01 | 2.064118e-01 | 3.286341e-01 |\n",
       "| ENSG00000029725 | full_model | 1 | 0.009246485 | 0.0105427079 | 0.046804204 |  58 | 58.000000 | 0.9910285 | 0.9845664 | 0.9805315 | 0.009707651 | 0.01506934 | 0.025098871 | 4.022024e-01 | 3.786452e-01 | 1.937518e-01 |\n",
       "| ENSG00000007047 | full_model | 1 | 0.036136570 | 0.0457349501 | 0.091378281 |   1 |  1.000000 | 1.0030163 | 0.9866998 | 0.9779020 |         NaN |        NaN |         NaN |          NaN |          NaN |          NaN |\n",
       "| ENSG00000064687 | full_model | 1 | 0.018640969 | 0.0058576646 | 0.015150230 |   5 |  5.000000 | 0.9986917 | 0.9877171 | 0.9937311 |         NaN | 0.10331091 | 0.100379805 |          NaN | 3.903350e-01 | 4.869531e-01 |\n",
       "| ENSG00000078487 | full_model | 1 | 0.008736065 | 0.0054148646 | 0.050787833 |  47 | 47.000000 | 0.9966395 | 0.9968013 | 0.9958185 |         NaN |        NaN |         NaN |          NaN |          NaN |          NaN |\n",
       "| ENSG00000120915 | full_model | 1 | 0.020231885 | 0.0056745271 | 0.017266434 |  19 | 19.000000 | 0.9945711 | 1.0106158 | 0.9979238 |         NaN | 0.22938504 |         NaN |          NaN | 4.979752e-01 |          NaN |\n",
       "| ENSG00000130202 | full_model | 1 | 0.008375012 | 0.0073985969 | 0.022860818 |   4 |  4.000000 | 1.0120714 | 0.9966432 | 0.9979866 |         NaN | 0.12847809 | 0.131598610 |          NaN | 4.424078e-01 | 3.687692e-01 |\n",
       "| ENSG00000142252 | full_model | 1 | 0.022928927 | 0.0217310155 | 0.042066954 |   2 |  2.000000 | 0.9970977 | 0.9830962 | 0.9927841 |         NaN | 0.07523582 | 0.077347303 |          NaN | 3.648514e-01 | 2.748339e-01 |\n",
       "| ENSG00000146828 | full_model | 1 | 0.007597187 | 0.0069575020 | 0.012714758 |  26 | 26.000000 | 0.9980865 | 0.9922314 | 0.9986886 |         NaN |        NaN | 0.125007330 |          NaN |          NaN | 3.731333e-01 |\n",
       "| ENSG00000179846 | full_model | 1 | 0.024563308 | 0.0037251311 | 0.003226549 |  27 | 27.000000 | 0.9966815 | 1.0020914 | 1.0018408 |         NaN |        NaN |         NaN |          NaN |          NaN |          NaN |\n",
       "| ENSG00000186567 | full_model | 1 | 0.083764816 | 0.0525899353 | 0.108000020 |   1 |  1.000000 | 0.9755379 | 0.9908542 | 0.9947000 |         NaN | 0.20052260 | 0.204322785 |          NaN | 4.293133e-01 | 2.507925e-01 |\n",
       "| ENSG00000234906 | full_model | 1 | 0.022732782 | 0.0002956122 | 0.001199443 |   8 |  8.000000 | 0.9974500 | 0.9956208 | 0.9879414 |         NaN |        NaN | 0.183984192 |          NaN |          NaN | 5.267569e-01 |\n",
       "| ENSG00000264538 | full_model | 1 | 0.161573796 | 0.1181714017 | 0.250275795 |   7 |  7.000000 | 0.9753450 | 0.9732590 | 0.9749823 |         NaN | 0.05761301 | 0.066602922 |          NaN | 4.303569e-01 | 4.273761e-01 |\n",
       "\n"
      ],
      "text/plain": [
       "   ID              tb_name    n_of_cs hsq_ac      hsq_PCC      hsq_DLPFC  \n",
       "1  ENSG00000198502 full_model 3       0.513690757 0.3733669852 0.650189053\n",
       "2  ENSG00000179344 full_model 3       0.470226664 0.3636302831 0.576065407\n",
       "3  ENSG00000196126 full_model 2       0.376738273 0.3234972332 0.496066522\n",
       "4  ENSG00000196735 full_model 1       0.223702518 0.1719917941 0.265189108\n",
       "5  ENSG00000244731 full_model 1       0.162420931 0.0877330362 0.043079838\n",
       "6  ENSG00000140416 full_model 1       0.023222006 0.0079174467 0.031435861\n",
       "7  ENSG00000065268 full_model 2       0.212336632 0.1273751892 0.058674478\n",
       "8  ENSG00000213420 full_model 1       0.008992798 0.0091912830 0.024500893\n",
       "9  ENSG00000108523 full_model 1       0.123434821 0.0562238271 0.014748901\n",
       "10 ENSG00000134463 full_model 3       0.197709453 0.0851877315 0.143970058\n",
       "11 ENSG00000189114 full_model 2       0.036656527 0.0162159145 0.044959620\n",
       "12 ENSG00000168077 full_model 1       0.007421224 0.0036316705 0.027228279\n",
       "13 ENSG00000214309 full_model 1       0.108241051 0.0395865609 0.054572903\n",
       "14 ENSG00000110079 full_model 1       0.023504275 0.0102359830 0.027364267\n",
       "15 ENSG00000129204 full_model 2       0.260579280 0.1005450831 0.237190106\n",
       "16 ENSG00000121716 full_model 1       0.199619383 0.1378405610 0.252531755\n",
       "17 ENSG00000103642 full_model 1       0.065792304 0.0395052958 0.059697617\n",
       "18 ENSG00000158864 full_model 1       0.013542843 0.0084595586 0.023925971\n",
       "19 ENSG00000099817 full_model 1       0.109995751 0.0452642772 0.128872141\n",
       "20 ENSG00000196118 full_model 2       0.095063542 0.0362030579 0.057638062\n",
       "21 ENSG00000166529 full_model 2       0.089484131 0.0694550522 0.217094652\n",
       "22 ENSG00000167840 full_model 2       0.124801689 0.0668028213 0.153755960\n",
       "23 ENSG00000147419 full_model 1       0.078141285 0.0267257984 0.090753118\n",
       "24 ENSG00000073008 full_model 1       0.066071357 0.0303730846 0.061373126\n",
       "25 ENSG00000178226 full_model 1       0.084221136 0.0193822522 0.024890422\n",
       "26 ENSG00000160862 full_model 1       0.005497638 0.0115579875 0.027160190\n",
       "27 ENSG00000161929 full_model 1       0.055363084 0.0397753429 0.012654247\n",
       "28 ENSG00000188186 full_model 1       0.044241526 0.0103806108 0.009210046\n",
       "29 ENSG00000240065 full_model 1       0.039262774 0.0311322606 0.016615819\n",
       "30 ENSG00000104228 full_model 1       0.018562025 0.0104183850 0.028539060\n",
       "31 ENSG00000108559 full_model 1       0.077177305 0.0554506196 0.106301975\n",
       "32 ENSG00000064666 full_model 2       0.068044529 0.0557549156 0.099490975\n",
       "33 ENSG00000146834 full_model 1       0.073277490 0.0709701290 0.163327122\n",
       "34 ENSG00000180448 full_model 1       0.057082120 0.0505208969 0.059936332\n",
       "35 ENSG00000130204 full_model 1       0.006018136 0.0078642476 0.049595653\n",
       "36 ENSG00000103510 full_model 1       0.058810943 0.0329072310 0.064276726\n",
       "37 ENSG00000224389 full_model 1       0.036421482 0.0331899221 0.023295293\n",
       "38 ENSG00000085514 full_model 1       0.009141456 0.0226963372 0.293559866\n",
       "39 ENSG00000204516 full_model 2       0.035329061 0.0638496972 0.139966451\n",
       "40 ENSG00000204301 full_model 1       0.047494861 0.0208899928 0.059302674\n",
       "41 ENSG00000103549 full_model 1       0.016936261 0.0172479658 0.051189358\n",
       "42 ENSG00000203710 full_model 1       0.015787323 0.0252040202 0.122984605\n",
       "43 ENSG00000204267 full_model 1       0.031562193 0.0379915160 0.082950161\n",
       "44 ENSG00000103496 full_model 1       0.031307894 0.0311420199 0.020574502\n",
       "45 ENSG00000029725 full_model 1       0.009246485 0.0105427079 0.046804204\n",
       "46 ENSG00000007047 full_model 1       0.036136570 0.0457349501 0.091378281\n",
       "47 ENSG00000064687 full_model 1       0.018640969 0.0058576646 0.015150230\n",
       "48 ENSG00000078487 full_model 1       0.008736065 0.0054148646 0.050787833\n",
       "49 ENSG00000120915 full_model 1       0.020231885 0.0056745271 0.017266434\n",
       "50 ENSG00000130202 full_model 1       0.008375012 0.0073985969 0.022860818\n",
       "51 ENSG00000142252 full_model 1       0.022928927 0.0217310155 0.042066954\n",
       "52 ENSG00000146828 full_model 1       0.007597187 0.0069575020 0.012714758\n",
       "53 ENSG00000179846 full_model 1       0.024563308 0.0037251311 0.003226549\n",
       "54 ENSG00000186567 full_model 1       0.083764816 0.0525899353 0.108000020\n",
       "55 ENSG00000234906 full_model 1       0.022732782 0.0002956122 0.001199443\n",
       "56 ENSG00000264538 full_model 1       0.161573796 0.1181714017 0.250275795\n",
       "   total_cs_size mean_cs_size rmse_ac   rmse_PCC  rmse_DLPFC r2_ac      \n",
       "1   78           26.000000    0.6013591 0.6108765 0.6014304  0.638675312\n",
       "2   19            6.333333    0.7174016 0.6954099 0.7291190  0.492327635\n",
       "3  117           58.500000    0.7263094 0.6846980 0.7225917  0.468814751\n",
       "4   63           63.000000    0.8534031 0.8573006 0.8582561  0.258585296\n",
       "5   17           17.000000    0.9133871 0.9401645 0.9791630  0.157380289\n",
       "6   14           14.000000    0.9868987 1.0029661 0.9927806  0.131208320\n",
       "7    7            3.500000    0.9367841 0.9532727 0.9763230  0.122287617\n",
       "8    4            4.000000    0.9887634 1.0146612 0.9712136  0.122064874\n",
       "9    8            8.000000    0.9569086 0.9769366 0.9952978  0.122005421\n",
       "10   5            1.666667    0.9422831 0.9645132 0.9705866  0.114517969\n",
       "11  29           14.500000    0.9941472 0.9857578 0.9959140  0.107687119\n",
       "12  17           17.000000    1.0024455 1.0007409 1.0061789  0.105575898\n",
       "13  18           18.000000    0.9778714 0.9739813 0.9809922  0.098680586\n",
       "14  59           59.000000    0.9953164 0.9868623 0.9887546  0.097357312\n",
       "15   2            1.000000    0.9398903 1.0016165 0.9836291  0.095397775\n",
       "16  21           21.000000    0.9513573 0.9537720 0.9500204  0.093328420\n",
       "17   8            8.000000    0.9632709 0.9723504 0.9887381  0.079931247\n",
       "18   2            2.000000    0.9859969 1.0067530 0.9956248  0.075557136\n",
       "19   1            1.000000    0.9746154 0.9708633 0.9711570  0.072932557\n",
       "20  32           16.000000    0.9613266 0.9657283 0.9892412  0.070422240\n",
       "21  29           14.500000    0.9660599 0.9638963 0.9307808  0.068113363\n",
       "22  60           30.000000    0.9726708 0.9789595 0.9800636  0.066803524\n",
       "23   8            8.000000    0.9707902 0.9796413 0.9802686  0.064927328\n",
       "24   6            6.000000    0.9815355 0.9995986 0.9876803  0.061197084\n",
       "25   1            1.000000    0.9683025 0.9978826 0.9837063  0.060435735\n",
       "26   4            4.000000    0.9787823 0.9869896 0.9883654  0.054741894\n",
       "27  10           10.000000    0.9919998 0.9886791 0.9836267  0.054164731\n",
       "28   4            4.000000    0.9947662 0.9899135 0.9958301  0.051503143\n",
       "29  12           12.000000    0.9996098 0.9892760 1.0015535  0.050100630\n",
       "30   1            1.000000    1.0045633 0.9863899 0.9828560  0.047054547\n",
       "31  54           54.000000    0.9809689 0.9660031 0.9703385  0.045020113\n",
       "32   2            1.000000    0.9811472 0.9672055 0.9842841  0.044132024\n",
       "33  31           31.000000    0.9835993 0.9801507 0.9676669  0.041222099\n",
       "34   1            1.000000    0.9913795 0.9736112 0.9850459  0.038689016\n",
       "35   1            1.000000    0.9950235 1.0030532 0.9898071  0.035157822\n",
       "36   8            8.000000    0.9771040 0.9671875 0.9842165  0.031438291\n",
       "37   2            2.000000    0.9794954 0.9904533 0.9914838  0.028838829\n",
       "38  22           22.000000    0.9896417 0.9704335 0.9277771  0.025369136\n",
       "39  37           18.500000    0.9875871 0.9511827 0.9529406  0.023796921\n",
       "40   1            1.000000    0.9912765 1.0078039 0.9996876  0.022395609\n",
       "41  14           14.000000    0.9877211 0.9840974 0.9979472  0.021069846\n",
       "42   8            8.000000    0.9916900 0.9872014 0.9709260  0.019753270\n",
       "43  10           10.000000    0.9810262 0.9945777 0.9857331  0.016579102\n",
       "44  29           29.000000    1.0119043 0.9855152 0.9975699  0.016322636\n",
       "45  58           58.000000    0.9910285 0.9845664 0.9805315  0.009707651\n",
       "46   1            1.000000    1.0030163 0.9866998 0.9779020          NaN\n",
       "47   5            5.000000    0.9986917 0.9877171 0.9937311          NaN\n",
       "48  47           47.000000    0.9966395 0.9968013 0.9958185          NaN\n",
       "49  19           19.000000    0.9945711 1.0106158 0.9979238          NaN\n",
       "50   4            4.000000    1.0120714 0.9966432 0.9979866          NaN\n",
       "51   2            2.000000    0.9970977 0.9830962 0.9927841          NaN\n",
       "52  26           26.000000    0.9980865 0.9922314 0.9986886          NaN\n",
       "53  27           27.000000    0.9966815 1.0020914 1.0018408          NaN\n",
       "54   1            1.000000    0.9755379 0.9908542 0.9947000          NaN\n",
       "55   8            8.000000    0.9974500 0.9956208 0.9879414          NaN\n",
       "56   7            7.000000    0.9753450 0.9732590 0.9749823          NaN\n",
       "   r2_PCC     r2_DLPFC    pval_ac      pval_PCC     pval_DLPFC  \n",
       "1  0.63006173 0.639737191 1.368778e-16 1.312969e-13 2.330969e-20\n",
       "2  0.51828701 0.481975174 1.563635e-10 2.431766e-08 1.689402e-14\n",
       "3  0.52016805 0.474740162 1.152171e-09 1.784386e-12 5.230951e-15\n",
       "4  0.26981092 0.265060385 7.270027e-06 1.048668e-05 6.409206e-08\n",
       "5  0.09462677 0.047792937 1.960529e-03 3.315583e-02 4.196609e-02\n",
       "6  0.11775367 0.129527138 2.886568e-01 4.240775e-01 2.738263e-01\n",
       "7  0.11024193 0.034492392 5.190362e-02 6.080253e-02 1.782887e-01\n",
       "8  0.12129158 0.125250858 5.091898e-01 4.649291e-01 3.728670e-01\n",
       "9  0.08878547 0.054732420 1.149972e-01 1.873029e-01 3.771616e-01\n",
       "10 0.05653970 0.051197289 3.031111e-02 1.378601e-01 8.010120e-02\n",
       "11        NaN 0.106902370 3.332636e-01          NaN 3.288068e-01\n",
       "12 0.10830310         NaN 4.559949e-01 4.390062e-01          NaN\n",
       "13        NaN 0.062654595 1.938557e-01          NaN 3.608305e-01\n",
       "14 0.09229141 0.092193377 3.088835e-01 3.696681e-01 3.912535e-01\n",
       "15 0.04146917 0.051515182 2.958399e-02 1.798116e-01 1.051296e-01\n",
       "16 0.07573000 0.093608914 1.463732e-01 1.670595e-01 9.431669e-02\n",
       "17 0.07373641 0.052729330 7.636071e-02 1.389160e-01 1.524063e-01\n",
       "18        NaN 0.075746194 3.794543e-01          NaN 3.670824e-01\n",
       "19 0.04415322 0.065510855 4.661223e-02 1.224143e-01 6.828948e-02\n",
       "20 0.04019094 0.035606097 9.311023e-02 1.670592e-01 1.478363e-01\n",
       "21 0.05085862 0.128842475 6.784948e-02 1.725953e-01 2.243412e-02\n",
       "22 0.03909610 0.057959771 6.605083e-02 1.862688e-01 6.457893e-02\n",
       "23 0.02966286 0.062810637 7.545008e-02 2.897174e-01 6.831440e-02\n",
       "24 0.04836260 0.046759155 2.004577e-01 3.062029e-01 2.839480e-01\n",
       "25 0.02590853 0.024003075 1.152175e-01 3.564739e-01 3.386600e-01\n",
       "26 0.06609310 0.054685912 3.399349e-01 2.963485e-01 3.457597e-01\n",
       "27 0.04970860         NaN 2.211079e-01 2.516354e-01          NaN\n",
       "28 0.02991491 0.026673634 2.026335e-01 3.776579e-01 3.928766e-01\n",
       "29        NaN         NaN 3.243092e-01          NaN          NaN\n",
       "30 0.04689960 0.054209678 4.649756e-01 4.880851e-01 3.081038e-01\n",
       "31 0.05083623 0.054300044 1.404933e-01 1.525525e-01 8.366485e-02\n",
       "32 0.05595329 0.040421653 1.350175e-01 1.432335e-01 1.631936e-01\n",
       "33 0.06097176 0.069334113 2.589654e-01 1.978351e-01 1.748765e-01\n",
       "34 0.05333430 0.037114428 2.469331e-01 2.093799e-01 2.626817e-01\n",
       "35 0.04072039 0.050674332 4.876367e-01 3.973556e-01 3.010516e-01\n",
       "36 0.04517235 0.039449442 2.612281e-01 1.904004e-01 8.943067e-02\n",
       "37 0.02588095 0.007683813 1.444599e-01 2.285707e-01 3.200332e-01\n",
       "38 0.03734344 0.146957691 3.925347e-01 3.346454e-01 1.269418e-01\n",
       "39 0.07820006 0.091378088 1.698061e-01 3.663295e-02 1.253806e-02\n",
       "40 0.02069260 0.037768894 1.940600e-01 2.054364e-01 7.866745e-02\n",
       "41        NaN 0.033474530 3.920404e-01          NaN 2.346312e-01\n",
       "42 0.02666400 0.075460710 3.323266e-01 3.073077e-01 9.904897e-02\n",
       "43 0.02361578 0.038874830 3.207860e-01 2.566969e-01 9.419153e-02\n",
       "44 0.02941113 0.013708386 3.006993e-01 2.064118e-01 3.286341e-01\n",
       "45 0.01506934 0.025098871 4.022024e-01 3.786452e-01 1.937518e-01\n",
       "46        NaN         NaN          NaN          NaN          NaN\n",
       "47 0.10331091 0.100379805          NaN 3.903350e-01 4.869531e-01\n",
       "48        NaN         NaN          NaN          NaN          NaN\n",
       "49 0.22938504         NaN          NaN 4.979752e-01          NaN\n",
       "50 0.12847809 0.131598610          NaN 4.424078e-01 3.687692e-01\n",
       "51 0.07523582 0.077347303          NaN 3.648514e-01 2.748339e-01\n",
       "52        NaN 0.125007330          NaN          NaN 3.731333e-01\n",
       "53        NaN         NaN          NaN          NaN          NaN\n",
       "54 0.20052260 0.204322785          NaN 4.293133e-01 2.507925e-01\n",
       "55        NaN 0.183984192          NaN          NaN 5.267569e-01\n",
       "56 0.05761301 0.066602922          NaN 4.303569e-01 4.273761e-01"
      ]
     },
     "metadata": {},
     "output_type": "display_data"
    }
   ],
   "source": [
    "vis%>%filter(n_of_cs > 0)%>%arrange(-r2_ac)%>%select(ID,r2_ac,pval_ac,pval_PCC,pval_DLPFC)%>%filter(pval_DLPFC<0.05/158)"
   ]
  },
  {
   "cell_type": "code",
   "execution_count": 63,
   "metadata": {},
   "outputs": [
    {
     "name": "stderr",
     "output_type": "stream",
     "text": [
      "Parsed with column specification:\n",
      "cols(\n",
      "  `#File` = \u001b[31mcol_character()\u001b[39m\n",
      ")\n",
      "\n"
     ]
    }
   ],
   "source": [
    "b = read_delim(\"/home/hs3163/Project/Genome_prior/data/rds_list\",delim = \"\\t\")"
   ]
  },
  {
   "cell_type": "code",
   "execution_count": 79,
   "metadata": {},
   "outputs": [
    {
     "data": {
      "text/html": [
       "'ENSG00000000419'"
      ],
      "text/latex": [
       "'ENSG00000000419'"
      ],
      "text/markdown": [
       "'ENSG00000000419'"
      ],
      "text/plain": [
       "[1] \"ENSG00000000419\""
      ]
     },
     "metadata": {},
     "output_type": "display_data"
    }
   ],
   "source": [
    "read.table(text = a[[1,1]], sep = \".\", as.is = TRUE)$V2"
   ]
  },
  {
   "cell_type": "code",
   "execution_count": 82,
   "metadata": {},
   "outputs": [],
   "source": [
    "a = tibble(`#region`= read.table(file = \"/home/hs3163/Project/Genome_prior/data/rds_list\", sep = \".\", as.is = TRUE)$V2,\n",
    "          `ct` = 3)"
   ]
  },
  {
   "cell_type": "code",
   "execution_count": 85,
   "metadata": {},
   "outputs": [],
   "source": [
    "a%>%write_delim(\"/home/hs3163/Project/Alz_WG/mv_wg/wg_rds_list\",delim = \"\\t\")"
   ]
  },
  {
   "cell_type": "code",
   "execution_count": 88,
   "metadata": {},
   "outputs": [],
   "source": [
    "a = readRDS(\"~/Project/Genome_prior/constriant/output/geneTpmResidualsAgeGenderAdj_rename.Constraint.flash.FL_PC3.ed.UD_ED.rds\")"
   ]
  },
  {
   "cell_type": "code",
   "execution_count": 171,
   "metadata": {},
   "outputs": [
    {
     "name": "stderr",
     "output_type": "stream",
     "text": [
      "The following objects are masked from file:~/Project/Alz/Alz_AC_SNP/WEIGHTS/geneTpmResidualsAgeGenderAdj_rename.ENSG00000198502.wgt.RDat (pos = 11):\n",
      "\n",
      "    cv.performance, hsq, hsq.pv, N.tot, snps, wgt.matrix\n",
      "\n",
      "\n"
     ]
    }
   ],
   "source": [
    "a = attach(\"~/Project/Alz/Alz_AC_SNP/WEIGHTS/geneTpmResidualsAgeGenderAdj_rename.ENSG00000198502.wgt.RDat\")"
   ]
  },
  {
   "cell_type": "code",
   "execution_count": 94,
   "metadata": {},
   "outputs": [
    {
     "data": {
      "text/html": [
       "<table>\n",
       "<caption>A matrix: 2 × 5 of type dbl</caption>\n",
       "<thead>\n",
       "\t<tr><th></th><th scope=col>bslmm</th><th scope=col>blup</th><th scope=col>lasso</th><th scope=col>top1</th><th scope=col>enet</th></tr>\n",
       "</thead>\n",
       "<tbody>\n",
       "\t<tr><th scope=row>rsq</th><td> 5.784738e-01</td><td> 7.551376e-01</td><td> 7.423915e-01</td><td> 6.079474e-01</td><td> 7.531486e-01</td></tr>\n",
       "\t<tr><th scope=row>pval</th><td>1.619715e-126</td><td>1.170122e-204</td><td>2.325631e-197</td><td>6.008534e-137</td><td>1.705343e-203</td></tr>\n",
       "</tbody>\n",
       "</table>\n"
      ],
      "text/latex": [
       "A matrix: 2 × 5 of type dbl\n",
       "\\begin{tabular}{r|lllll}\n",
       "  & bslmm & blup & lasso & top1 & enet\\\\\n",
       "\\hline\n",
       "\trsq &  5.784738e-01 &  7.551376e-01 &  7.423915e-01 &  6.079474e-01 &  7.531486e-01\\\\\n",
       "\tpval & 1.619715e-126 & 1.170122e-204 & 2.325631e-197 & 6.008534e-137 & 1.705343e-203\\\\\n",
       "\\end{tabular}\n"
      ],
      "text/markdown": [
       "\n",
       "A matrix: 2 × 5 of type dbl\n",
       "\n",
       "| <!--/--> | bslmm | blup | lasso | top1 | enet |\n",
       "|---|---|---|---|---|---|\n",
       "| rsq |  5.784738e-01 |  7.551376e-01 |  7.423915e-01 |  6.079474e-01 |  7.531486e-01 |\n",
       "| pval | 1.619715e-126 | 1.170122e-204 | 2.325631e-197 | 6.008534e-137 | 1.705343e-203 |\n",
       "\n"
      ],
      "text/plain": [
       "     bslmm         blup          lasso         top1          enet         \n",
       "rsq   5.784738e-01  7.551376e-01  7.423915e-01  6.079474e-01  7.531486e-01\n",
       "pval 1.619715e-126 1.170122e-204 2.325631e-197 6.008534e-137 1.705343e-203"
      ]
     },
     "metadata": {},
     "output_type": "display_data"
    }
   ],
   "source": [
    "a$cv.performance"
   ]
  },
  {
   "cell_type": "code",
   "execution_count": 95,
   "metadata": {},
   "outputs": [
    {
     "data": {
      "text/html": [
       "<style>\n",
       ".list-inline {list-style: none; margin:0; padding: 0}\n",
       ".list-inline>li {display: inline-block}\n",
       ".list-inline>li:not(:last-child)::after {content: \"\\00b7\"; padding: 0 .5ex}\n",
       "</style>\n",
       "<ol class=list-inline><li>0.625287</li><li>0.05106</li></ol>\n"
      ],
      "text/latex": [
       "\\begin{enumerate*}\n",
       "\\item 0.625287\n",
       "\\item 0.05106\n",
       "\\end{enumerate*}\n"
      ],
      "text/markdown": [
       "1. 0.625287\n",
       "2. 0.05106\n",
       "\n",
       "\n"
      ],
      "text/plain": [
       "[1] 0.625287 0.051060"
      ]
     },
     "metadata": {},
     "output_type": "display_data"
    }
   ],
   "source": [
    "a$hsq"
   ]
  },
  {
   "cell_type": "code",
   "execution_count": 99,
   "metadata": {},
   "outputs": [
    {
     "data": {
      "text/html": [
       "0"
      ],
      "text/latex": [
       "0"
      ],
      "text/markdown": [
       "0"
      ],
      "text/plain": [
       "[1] 0"
      ]
     },
     "metadata": {},
     "output_type": "display_data"
    }
   ],
   "source": [
    "a$hsq.pv"
   ]
  },
  {
   "cell_type": "code",
   "execution_count": 100,
   "metadata": {},
   "outputs": [
    {
     "data": {
      "text/html": [
       "664"
      ],
      "text/latex": [
       "664"
      ],
      "text/markdown": [
       "664"
      ],
      "text/plain": [
       "[1] 664"
      ]
     },
     "metadata": {},
     "output_type": "display_data"
    }
   ],
   "source": [
    "a$N.tot"
   ]
  },
  {
   "cell_type": "code",
   "execution_count": 173,
   "metadata": {},
   "outputs": [
    {
     "data": {
      "text/html": [
       "<table>\n",
       "<caption>A data.frame: 2 × 6</caption>\n",
       "<thead>\n",
       "\t<tr><th scope=col>V1</th><th scope=col>V2</th><th scope=col>V3</th><th scope=col>V4</th><th scope=col>V5</th><th scope=col>V6</th></tr>\n",
       "\t<tr><th scope=col>&lt;int&gt;</th><th scope=col>&lt;chr&gt;</th><th scope=col>&lt;int&gt;</th><th scope=col>&lt;int&gt;</th><th scope=col>&lt;chr&gt;</th><th scope=col>&lt;chr&gt;</th></tr>\n",
       "</thead>\n",
       "<tbody>\n",
       "\t<tr><td>6</td><td>6:32017522_A_G</td><td>0</td><td>32017522</td><td>A</td><td>G</td></tr>\n",
       "\t<tr><td>6</td><td>6:32019769_A_G</td><td>0</td><td>32019769</td><td>A</td><td>G</td></tr>\n",
       "</tbody>\n",
       "</table>\n"
      ],
      "text/latex": [
       "A data.frame: 2 × 6\n",
       "\\begin{tabular}{llllll}\n",
       " V1 & V2 & V3 & V4 & V5 & V6\\\\\n",
       " <int> & <chr> & <int> & <int> & <chr> & <chr>\\\\\n",
       "\\hline\n",
       "\t 6 & 6:32017522\\_A\\_G & 0 & 32017522 & A & G\\\\\n",
       "\t 6 & 6:32019769\\_A\\_G & 0 & 32019769 & A & G\\\\\n",
       "\\end{tabular}\n"
      ],
      "text/markdown": [
       "\n",
       "A data.frame: 2 × 6\n",
       "\n",
       "| V1 &lt;int&gt; | V2 &lt;chr&gt; | V3 &lt;int&gt; | V4 &lt;int&gt; | V5 &lt;chr&gt; | V6 &lt;chr&gt; |\n",
       "|---|---|---|---|---|---|\n",
       "| 6 | 6:32017522_A_G | 0 | 32017522 | A | G |\n",
       "| 6 | 6:32019769_A_G | 0 | 32019769 | A | G |\n",
       "\n"
      ],
      "text/plain": [
       "  V1 V2             V3 V4       V5 V6\n",
       "1 6  6:32017522_A_G 0  32017522 A  G \n",
       "2 6  6:32019769_A_G 0  32019769 A  G "
      ]
     },
     "metadata": {},
     "output_type": "display_data"
    }
   ],
   "source": [
    "a$snps%>%filter(V2 %in% c(\"6:32017522_A_G\",\"6:32019769_A_G\"))"
   ]
  },
  {
   "cell_type": "code",
   "execution_count": 172,
   "metadata": {},
   "outputs": [
    {
     "data": {
      "text/html": [
       "'environment'"
      ],
      "text/latex": [
       "'environment'"
      ],
      "text/markdown": [
       "'environment'"
      ],
      "text/plain": [
       "[1] \"environment\""
      ]
     },
     "metadata": {},
     "output_type": "display_data"
    }
   ],
   "source": [
    "class(a$)"
   ]
  },
  {
   "cell_type": "code",
   "execution_count": null,
   "metadata": {},
   "outputs": [],
   "source": []
  },
  {
   "cell_type": "code",
   "execution_count": 130,
   "metadata": {},
   "outputs": [
    {
     "name": "stderr",
     "output_type": "stream",
     "text": [
      "The following object is masked from file:~/Project/Alz/multi_3/result/geneTpmResidualsAgeGenderAdj_rename.ENSG00000007047.mv_susie.model.cv.RData (pos = 3):\n",
      "\n",
      "    full_model\n",
      "\n",
      "\n",
      "The following object is masked from file:~/Project/Alz/multi_3/result/geneTpmResidualsAgeGenderAdj_rename.ENSG00000007047.mv_susie.model.cv.RData (pos = 4):\n",
      "\n",
      "    full_model\n",
      "\n",
      "\n",
      "The following object is masked from file:~/Project/Alz/multi_3/result/geneTpmResidualsAgeGenderAdj_rename.ENSG00000007047.mv_susie.model.cv.RData (pos = 5):\n",
      "\n",
      "    full_model\n",
      "\n",
      "\n",
      "Warning message:\n",
      "“namespace ‘mmbr’ is not available and has been replaced\n",
      "by .GlobalEnv when processing object ‘cv_df’”\n"
     ]
    }
   ],
   "source": [
    "b = attach(\"~/Project/Alz/multi_3/result/geneTpmResidualsAgeGenderAdj_rename.ENSG00000007047.mv_susie.model.cv.RData\")\n",
    "c = attach(\"~/Project/Alz/multi_3/result/geneTpmResidualsAgeGenderAdj_rename.ENSG00000007047.mv_susie.model.cv_diag.RData\")"
   ]
  },
  {
   "cell_type": "code",
   "execution_count": 106,
   "metadata": {},
   "outputs": [
    {
     "data": {
      "text/html": [
       "<table>\n",
       "<caption>A matrix: 1952 × 3 of type dbl</caption>\n",
       "<tbody>\n",
       "\t<tr><td>-7.792014e-05</td><td> 5.882388e-03</td><td> 7.987946e-03</td></tr>\n",
       "\t<tr><td> 1.199607e-25</td><td> 2.900137e-25</td><td> 6.045866e-26</td></tr>\n",
       "\t<tr><td> 1.612621e-25</td><td> 7.804376e-25</td><td> 7.896641e-26</td></tr>\n",
       "\t<tr><td> 7.805483e-26</td><td> 7.868865e-26</td><td> 2.242562e-25</td></tr>\n",
       "\t<tr><td> 7.978987e-25</td><td> 1.111314e-24</td><td> 6.737607e-25</td></tr>\n",
       "\t<tr><td> 5.756169e-25</td><td> 1.002065e-24</td><td> 4.974413e-25</td></tr>\n",
       "\t<tr><td> 5.756169e-25</td><td> 1.002065e-24</td><td> 4.974413e-25</td></tr>\n",
       "\t<tr><td> 5.756169e-25</td><td> 1.002065e-24</td><td> 4.974413e-25</td></tr>\n",
       "\t<tr><td> 5.756169e-25</td><td> 1.002065e-24</td><td> 4.974413e-25</td></tr>\n",
       "\t<tr><td> 3.258598e-25</td><td> 6.831742e-25</td><td> 2.595874e-25</td></tr>\n",
       "\t<tr><td> 5.561600e-25</td><td> 8.904882e-25</td><td> 4.585934e-25</td></tr>\n",
       "\t<tr><td> 5.756169e-25</td><td> 1.002065e-24</td><td> 4.974413e-25</td></tr>\n",
       "\t<tr><td> 3.840900e-25</td><td> 7.026065e-25</td><td> 2.868232e-25</td></tr>\n",
       "\t<tr><td> 5.226292e-26</td><td> 4.367771e-25</td><td> 1.873762e-26</td></tr>\n",
       "\t<tr><td> 4.272033e-26</td><td> 4.296283e-25</td><td> 1.107756e-26</td></tr>\n",
       "\t<tr><td>-5.298683e-26</td><td>-1.986254e-26</td><td>-3.685783e-25</td></tr>\n",
       "\t<tr><td> 5.226292e-26</td><td> 4.367771e-25</td><td> 1.873762e-26</td></tr>\n",
       "\t<tr><td>-7.134377e-26</td><td>-5.031690e-26</td><td>-3.943954e-25</td></tr>\n",
       "\t<tr><td> 3.820965e-26</td><td> 5.615748e-25</td><td>-4.388796e-26</td></tr>\n",
       "\t<tr><td> 3.970352e-25</td><td> 1.300153e-24</td><td> 3.538485e-25</td></tr>\n",
       "\t<tr><td> 7.897021e-26</td><td> 5.751927e-25</td><td> 2.619205e-26</td></tr>\n",
       "\t<tr><td> 8.767865e-27</td><td>-1.256703e-26</td><td>-6.197403e-27</td></tr>\n",
       "\t<tr><td> 5.377676e-25</td><td> 1.547845e-24</td><td> 4.910592e-25</td></tr>\n",
       "\t<tr><td> 3.970352e-25</td><td> 1.300153e-24</td><td> 3.538485e-25</td></tr>\n",
       "\t<tr><td> 1.878059e-25</td><td> 8.168997e-25</td><td> 1.741530e-25</td></tr>\n",
       "\t<tr><td> 8.276273e-26</td><td> 2.484510e-25</td><td> 5.045887e-26</td></tr>\n",
       "\t<tr><td> 3.671349e-26</td><td> 1.726141e-26</td><td> 3.481038e-26</td></tr>\n",
       "\t<tr><td> 3.505167e-25</td><td> 1.296412e-24</td><td> 2.991643e-25</td></tr>\n",
       "\t<tr><td> 3.505167e-25</td><td> 1.296412e-24</td><td> 2.991643e-25</td></tr>\n",
       "\t<tr><td> 2.937722e-27</td><td> 1.445016e-26</td><td> 8.727128e-26</td></tr>\n",
       "\t<tr><td>⋮</td><td>⋮</td><td>⋮</td></tr>\n",
       "\t<tr><td> 1.358140e-21</td><td> 1.369962e-21</td><td> 1.403584e-21</td></tr>\n",
       "\t<tr><td>-2.274501e-27</td><td> 3.350824e-26</td><td> 3.402449e-26</td></tr>\n",
       "\t<tr><td> 1.100114e-25</td><td> 9.816217e-26</td><td> 7.560124e-26</td></tr>\n",
       "\t<tr><td> 8.918286e-23</td><td> 1.038479e-22</td><td> 1.023024e-22</td></tr>\n",
       "\t<tr><td> 3.046733e-22</td><td> 3.105590e-22</td><td> 3.197368e-22</td></tr>\n",
       "\t<tr><td> 1.215462e-24</td><td> 1.185741e-24</td><td> 1.952833e-24</td></tr>\n",
       "\t<tr><td> 4.262420e-24</td><td>-1.345775e-24</td><td> 1.105331e-23</td></tr>\n",
       "\t<tr><td>-3.302309e-06</td><td>-3.469572e-06</td><td>-4.540835e-06</td></tr>\n",
       "\t<tr><td> 1.488438e-20</td><td> 1.715545e-20</td><td> 1.823694e-20</td></tr>\n",
       "\t<tr><td> 7.641743e-22</td><td> 7.193482e-22</td><td> 8.189990e-22</td></tr>\n",
       "\t<tr><td> 2.684405e-25</td><td> 3.750100e-25</td><td> 4.478504e-25</td></tr>\n",
       "\t<tr><td> 1.103418e-25</td><td> 1.214293e-25</td><td> 1.218818e-25</td></tr>\n",
       "\t<tr><td> 1.028460e-20</td><td> 1.265901e-20</td><td> 1.390381e-20</td></tr>\n",
       "\t<tr><td> 1.549616e-24</td><td> 8.062699e-25</td><td> 1.289719e-24</td></tr>\n",
       "\t<tr><td> 4.154613e-25</td><td> 5.806382e-25</td><td> 6.087715e-25</td></tr>\n",
       "\t<tr><td> 7.132428e-24</td><td> 4.488991e-24</td><td> 7.290888e-24</td></tr>\n",
       "\t<tr><td> 7.682746e-20</td><td> 6.818168e-20</td><td> 7.876495e-20</td></tr>\n",
       "\t<tr><td> 6.301162e-23</td><td> 7.918060e-23</td><td> 8.643694e-23</td></tr>\n",
       "\t<tr><td> 1.030649e-22</td><td> 1.198564e-22</td><td> 1.271514e-22</td></tr>\n",
       "\t<tr><td> 4.841092e-26</td><td> 4.357774e-26</td><td> 1.890312e-25</td></tr>\n",
       "\t<tr><td> 1.988974e-25</td><td> 1.873173e-25</td><td> 1.901927e-25</td></tr>\n",
       "\t<tr><td>-5.832681e-02</td><td>-6.228997e-02</td><td>-7.920548e-02</td></tr>\n",
       "\t<tr><td> 4.203765e-25</td><td> 6.709818e-25</td><td> 6.532559e-25</td></tr>\n",
       "\t<tr><td> 4.143072e-25</td><td> 5.926618e-25</td><td> 5.930415e-25</td></tr>\n",
       "\t<tr><td> 7.904612e-26</td><td> 1.701086e-25</td><td> 1.823550e-25</td></tr>\n",
       "\t<tr><td> 7.904612e-26</td><td> 1.701086e-25</td><td> 1.823550e-25</td></tr>\n",
       "\t<tr><td> 3.625559e-20</td><td> 3.031286e-20</td><td> 3.736464e-20</td></tr>\n",
       "\t<tr><td> 7.904612e-26</td><td> 1.701086e-25</td><td> 1.823550e-25</td></tr>\n",
       "\t<tr><td> 3.379890e-28</td><td>-1.248180e-27</td><td>-8.262280e-27</td></tr>\n",
       "\t<tr><td> 8.088625e-23</td><td> 9.396381e-23</td><td> 9.868503e-23</td></tr>\n",
       "</tbody>\n",
       "</table>\n"
      ],
      "text/latex": [
       "A matrix: 1952 × 3 of type dbl\n",
       "\\begin{tabular}{lll}\n",
       "\t -7.792014e-05 &  5.882388e-03 &  7.987946e-03\\\\\n",
       "\t  1.199607e-25 &  2.900137e-25 &  6.045866e-26\\\\\n",
       "\t  1.612621e-25 &  7.804376e-25 &  7.896641e-26\\\\\n",
       "\t  7.805483e-26 &  7.868865e-26 &  2.242562e-25\\\\\n",
       "\t  7.978987e-25 &  1.111314e-24 &  6.737607e-25\\\\\n",
       "\t  5.756169e-25 &  1.002065e-24 &  4.974413e-25\\\\\n",
       "\t  5.756169e-25 &  1.002065e-24 &  4.974413e-25\\\\\n",
       "\t  5.756169e-25 &  1.002065e-24 &  4.974413e-25\\\\\n",
       "\t  5.756169e-25 &  1.002065e-24 &  4.974413e-25\\\\\n",
       "\t  3.258598e-25 &  6.831742e-25 &  2.595874e-25\\\\\n",
       "\t  5.561600e-25 &  8.904882e-25 &  4.585934e-25\\\\\n",
       "\t  5.756169e-25 &  1.002065e-24 &  4.974413e-25\\\\\n",
       "\t  3.840900e-25 &  7.026065e-25 &  2.868232e-25\\\\\n",
       "\t  5.226292e-26 &  4.367771e-25 &  1.873762e-26\\\\\n",
       "\t  4.272033e-26 &  4.296283e-25 &  1.107756e-26\\\\\n",
       "\t -5.298683e-26 & -1.986254e-26 & -3.685783e-25\\\\\n",
       "\t  5.226292e-26 &  4.367771e-25 &  1.873762e-26\\\\\n",
       "\t -7.134377e-26 & -5.031690e-26 & -3.943954e-25\\\\\n",
       "\t  3.820965e-26 &  5.615748e-25 & -4.388796e-26\\\\\n",
       "\t  3.970352e-25 &  1.300153e-24 &  3.538485e-25\\\\\n",
       "\t  7.897021e-26 &  5.751927e-25 &  2.619205e-26\\\\\n",
       "\t  8.767865e-27 & -1.256703e-26 & -6.197403e-27\\\\\n",
       "\t  5.377676e-25 &  1.547845e-24 &  4.910592e-25\\\\\n",
       "\t  3.970352e-25 &  1.300153e-24 &  3.538485e-25\\\\\n",
       "\t  1.878059e-25 &  8.168997e-25 &  1.741530e-25\\\\\n",
       "\t  8.276273e-26 &  2.484510e-25 &  5.045887e-26\\\\\n",
       "\t  3.671349e-26 &  1.726141e-26 &  3.481038e-26\\\\\n",
       "\t  3.505167e-25 &  1.296412e-24 &  2.991643e-25\\\\\n",
       "\t  3.505167e-25 &  1.296412e-24 &  2.991643e-25\\\\\n",
       "\t  2.937722e-27 &  1.445016e-26 &  8.727128e-26\\\\\n",
       "\t ⋮ & ⋮ & ⋮\\\\\n",
       "\t  1.358140e-21 &  1.369962e-21 &  1.403584e-21\\\\\n",
       "\t -2.274501e-27 &  3.350824e-26 &  3.402449e-26\\\\\n",
       "\t  1.100114e-25 &  9.816217e-26 &  7.560124e-26\\\\\n",
       "\t  8.918286e-23 &  1.038479e-22 &  1.023024e-22\\\\\n",
       "\t  3.046733e-22 &  3.105590e-22 &  3.197368e-22\\\\\n",
       "\t  1.215462e-24 &  1.185741e-24 &  1.952833e-24\\\\\n",
       "\t  4.262420e-24 & -1.345775e-24 &  1.105331e-23\\\\\n",
       "\t -3.302309e-06 & -3.469572e-06 & -4.540835e-06\\\\\n",
       "\t  1.488438e-20 &  1.715545e-20 &  1.823694e-20\\\\\n",
       "\t  7.641743e-22 &  7.193482e-22 &  8.189990e-22\\\\\n",
       "\t  2.684405e-25 &  3.750100e-25 &  4.478504e-25\\\\\n",
       "\t  1.103418e-25 &  1.214293e-25 &  1.218818e-25\\\\\n",
       "\t  1.028460e-20 &  1.265901e-20 &  1.390381e-20\\\\\n",
       "\t  1.549616e-24 &  8.062699e-25 &  1.289719e-24\\\\\n",
       "\t  4.154613e-25 &  5.806382e-25 &  6.087715e-25\\\\\n",
       "\t  7.132428e-24 &  4.488991e-24 &  7.290888e-24\\\\\n",
       "\t  7.682746e-20 &  6.818168e-20 &  7.876495e-20\\\\\n",
       "\t  6.301162e-23 &  7.918060e-23 &  8.643694e-23\\\\\n",
       "\t  1.030649e-22 &  1.198564e-22 &  1.271514e-22\\\\\n",
       "\t  4.841092e-26 &  4.357774e-26 &  1.890312e-25\\\\\n",
       "\t  1.988974e-25 &  1.873173e-25 &  1.901927e-25\\\\\n",
       "\t -5.832681e-02 & -6.228997e-02 & -7.920548e-02\\\\\n",
       "\t  4.203765e-25 &  6.709818e-25 &  6.532559e-25\\\\\n",
       "\t  4.143072e-25 &  5.926618e-25 &  5.930415e-25\\\\\n",
       "\t  7.904612e-26 &  1.701086e-25 &  1.823550e-25\\\\\n",
       "\t  7.904612e-26 &  1.701086e-25 &  1.823550e-25\\\\\n",
       "\t  3.625559e-20 &  3.031286e-20 &  3.736464e-20\\\\\n",
       "\t  7.904612e-26 &  1.701086e-25 &  1.823550e-25\\\\\n",
       "\t  3.379890e-28 & -1.248180e-27 & -8.262280e-27\\\\\n",
       "\t  8.088625e-23 &  9.396381e-23 &  9.868503e-23\\\\\n",
       "\\end{tabular}\n"
      ],
      "text/markdown": [
       "\n",
       "A matrix: 1952 × 3 of type dbl\n",
       "\n",
       "| -7.792014e-05 |  5.882388e-03 |  7.987946e-03 |\n",
       "|  1.199607e-25 |  2.900137e-25 |  6.045866e-26 |\n",
       "|  1.612621e-25 |  7.804376e-25 |  7.896641e-26 |\n",
       "|  7.805483e-26 |  7.868865e-26 |  2.242562e-25 |\n",
       "|  7.978987e-25 |  1.111314e-24 |  6.737607e-25 |\n",
       "|  5.756169e-25 |  1.002065e-24 |  4.974413e-25 |\n",
       "|  5.756169e-25 |  1.002065e-24 |  4.974413e-25 |\n",
       "|  5.756169e-25 |  1.002065e-24 |  4.974413e-25 |\n",
       "|  5.756169e-25 |  1.002065e-24 |  4.974413e-25 |\n",
       "|  3.258598e-25 |  6.831742e-25 |  2.595874e-25 |\n",
       "|  5.561600e-25 |  8.904882e-25 |  4.585934e-25 |\n",
       "|  5.756169e-25 |  1.002065e-24 |  4.974413e-25 |\n",
       "|  3.840900e-25 |  7.026065e-25 |  2.868232e-25 |\n",
       "|  5.226292e-26 |  4.367771e-25 |  1.873762e-26 |\n",
       "|  4.272033e-26 |  4.296283e-25 |  1.107756e-26 |\n",
       "| -5.298683e-26 | -1.986254e-26 | -3.685783e-25 |\n",
       "|  5.226292e-26 |  4.367771e-25 |  1.873762e-26 |\n",
       "| -7.134377e-26 | -5.031690e-26 | -3.943954e-25 |\n",
       "|  3.820965e-26 |  5.615748e-25 | -4.388796e-26 |\n",
       "|  3.970352e-25 |  1.300153e-24 |  3.538485e-25 |\n",
       "|  7.897021e-26 |  5.751927e-25 |  2.619205e-26 |\n",
       "|  8.767865e-27 | -1.256703e-26 | -6.197403e-27 |\n",
       "|  5.377676e-25 |  1.547845e-24 |  4.910592e-25 |\n",
       "|  3.970352e-25 |  1.300153e-24 |  3.538485e-25 |\n",
       "|  1.878059e-25 |  8.168997e-25 |  1.741530e-25 |\n",
       "|  8.276273e-26 |  2.484510e-25 |  5.045887e-26 |\n",
       "|  3.671349e-26 |  1.726141e-26 |  3.481038e-26 |\n",
       "|  3.505167e-25 |  1.296412e-24 |  2.991643e-25 |\n",
       "|  3.505167e-25 |  1.296412e-24 |  2.991643e-25 |\n",
       "|  2.937722e-27 |  1.445016e-26 |  8.727128e-26 |\n",
       "| ⋮ | ⋮ | ⋮ |\n",
       "|  1.358140e-21 |  1.369962e-21 |  1.403584e-21 |\n",
       "| -2.274501e-27 |  3.350824e-26 |  3.402449e-26 |\n",
       "|  1.100114e-25 |  9.816217e-26 |  7.560124e-26 |\n",
       "|  8.918286e-23 |  1.038479e-22 |  1.023024e-22 |\n",
       "|  3.046733e-22 |  3.105590e-22 |  3.197368e-22 |\n",
       "|  1.215462e-24 |  1.185741e-24 |  1.952833e-24 |\n",
       "|  4.262420e-24 | -1.345775e-24 |  1.105331e-23 |\n",
       "| -3.302309e-06 | -3.469572e-06 | -4.540835e-06 |\n",
       "|  1.488438e-20 |  1.715545e-20 |  1.823694e-20 |\n",
       "|  7.641743e-22 |  7.193482e-22 |  8.189990e-22 |\n",
       "|  2.684405e-25 |  3.750100e-25 |  4.478504e-25 |\n",
       "|  1.103418e-25 |  1.214293e-25 |  1.218818e-25 |\n",
       "|  1.028460e-20 |  1.265901e-20 |  1.390381e-20 |\n",
       "|  1.549616e-24 |  8.062699e-25 |  1.289719e-24 |\n",
       "|  4.154613e-25 |  5.806382e-25 |  6.087715e-25 |\n",
       "|  7.132428e-24 |  4.488991e-24 |  7.290888e-24 |\n",
       "|  7.682746e-20 |  6.818168e-20 |  7.876495e-20 |\n",
       "|  6.301162e-23 |  7.918060e-23 |  8.643694e-23 |\n",
       "|  1.030649e-22 |  1.198564e-22 |  1.271514e-22 |\n",
       "|  4.841092e-26 |  4.357774e-26 |  1.890312e-25 |\n",
       "|  1.988974e-25 |  1.873173e-25 |  1.901927e-25 |\n",
       "| -5.832681e-02 | -6.228997e-02 | -7.920548e-02 |\n",
       "|  4.203765e-25 |  6.709818e-25 |  6.532559e-25 |\n",
       "|  4.143072e-25 |  5.926618e-25 |  5.930415e-25 |\n",
       "|  7.904612e-26 |  1.701086e-25 |  1.823550e-25 |\n",
       "|  7.904612e-26 |  1.701086e-25 |  1.823550e-25 |\n",
       "|  3.625559e-20 |  3.031286e-20 |  3.736464e-20 |\n",
       "|  7.904612e-26 |  1.701086e-25 |  1.823550e-25 |\n",
       "|  3.379890e-28 | -1.248180e-27 | -8.262280e-27 |\n",
       "|  8.088625e-23 |  9.396381e-23 |  9.868503e-23 |\n",
       "\n"
      ],
      "text/plain": [
       "      [,1]          [,2]          [,3]         \n",
       " [1,] -7.792014e-05  5.882388e-03  7.987946e-03\n",
       " [2,]  1.199607e-25  2.900137e-25  6.045866e-26\n",
       " [3,]  1.612621e-25  7.804376e-25  7.896641e-26\n",
       " [4,]  7.805483e-26  7.868865e-26  2.242562e-25\n",
       " [5,]  7.978987e-25  1.111314e-24  6.737607e-25\n",
       " [6,]  5.756169e-25  1.002065e-24  4.974413e-25\n",
       " [7,]  5.756169e-25  1.002065e-24  4.974413e-25\n",
       " [8,]  5.756169e-25  1.002065e-24  4.974413e-25\n",
       " [9,]  5.756169e-25  1.002065e-24  4.974413e-25\n",
       "[10,]  3.258598e-25  6.831742e-25  2.595874e-25\n",
       "[11,]  5.561600e-25  8.904882e-25  4.585934e-25\n",
       "[12,]  5.756169e-25  1.002065e-24  4.974413e-25\n",
       "[13,]  3.840900e-25  7.026065e-25  2.868232e-25\n",
       "[14,]  5.226292e-26  4.367771e-25  1.873762e-26\n",
       "[15,]  4.272033e-26  4.296283e-25  1.107756e-26\n",
       "[16,] -5.298683e-26 -1.986254e-26 -3.685783e-25\n",
       "[17,]  5.226292e-26  4.367771e-25  1.873762e-26\n",
       "[18,] -7.134377e-26 -5.031690e-26 -3.943954e-25\n",
       "[19,]  3.820965e-26  5.615748e-25 -4.388796e-26\n",
       "[20,]  3.970352e-25  1.300153e-24  3.538485e-25\n",
       "[21,]  7.897021e-26  5.751927e-25  2.619205e-26\n",
       "[22,]  8.767865e-27 -1.256703e-26 -6.197403e-27\n",
       "[23,]  5.377676e-25  1.547845e-24  4.910592e-25\n",
       "[24,]  3.970352e-25  1.300153e-24  3.538485e-25\n",
       "[25,]  1.878059e-25  8.168997e-25  1.741530e-25\n",
       "[26,]  8.276273e-26  2.484510e-25  5.045887e-26\n",
       "[27,]  3.671349e-26  1.726141e-26  3.481038e-26\n",
       "[28,]  3.505167e-25  1.296412e-24  2.991643e-25\n",
       "[29,]  3.505167e-25  1.296412e-24  2.991643e-25\n",
       "[30,]  2.937722e-27  1.445016e-26  8.727128e-26\n",
       "[31,] ⋮             ⋮             ⋮            \n",
       "[32,]  1.358140e-21  1.369962e-21  1.403584e-21\n",
       "[33,] -2.274501e-27  3.350824e-26  3.402449e-26\n",
       "[34,]  1.100114e-25  9.816217e-26  7.560124e-26\n",
       "[35,]  8.918286e-23  1.038479e-22  1.023024e-22\n",
       "[36,]  3.046733e-22  3.105590e-22  3.197368e-22\n",
       "[37,]  1.215462e-24  1.185741e-24  1.952833e-24\n",
       "[38,]  4.262420e-24 -1.345775e-24  1.105331e-23\n",
       "[39,] -3.302309e-06 -3.469572e-06 -4.540835e-06\n",
       "[40,]  1.488438e-20  1.715545e-20  1.823694e-20\n",
       "[41,]  7.641743e-22  7.193482e-22  8.189990e-22\n",
       "[42,]  2.684405e-25  3.750100e-25  4.478504e-25\n",
       "[43,]  1.103418e-25  1.214293e-25  1.218818e-25\n",
       "[44,]  1.028460e-20  1.265901e-20  1.390381e-20\n",
       "[45,]  1.549616e-24  8.062699e-25  1.289719e-24\n",
       "[46,]  4.154613e-25  5.806382e-25  6.087715e-25\n",
       "[47,]  7.132428e-24  4.488991e-24  7.290888e-24\n",
       "[48,]  7.682746e-20  6.818168e-20  7.876495e-20\n",
       "[49,]  6.301162e-23  7.918060e-23  8.643694e-23\n",
       "[50,]  1.030649e-22  1.198564e-22  1.271514e-22\n",
       "[51,]  4.841092e-26  4.357774e-26  1.890312e-25\n",
       "[52,]  1.988974e-25  1.873173e-25  1.901927e-25\n",
       "[53,] -5.832681e-02 -6.228997e-02 -7.920548e-02\n",
       "[54,]  4.203765e-25  6.709818e-25  6.532559e-25\n",
       "[55,]  4.143072e-25  5.926618e-25  5.930415e-25\n",
       "[56,]  7.904612e-26  1.701086e-25  1.823550e-25\n",
       "[57,]  7.904612e-26  1.701086e-25  1.823550e-25\n",
       "[58,]  3.625559e-20  3.031286e-20  3.736464e-20\n",
       "[59,]  7.904612e-26  1.701086e-25  1.823550e-25\n",
       "[60,]  3.379890e-28 -1.248180e-27 -8.262280e-27\n",
       "[61,]  8.088625e-23  9.396381e-23  9.868503e-23"
      ]
     },
     "metadata": {},
     "output_type": "display_data"
    }
   ],
   "source": [
    "b$m_ENSG00000007047$coef"
   ]
  },
  {
   "cell_type": "code",
   "execution_count": 114,
   "metadata": {},
   "outputs": [
    {
     "data": {
      "text/html": [
       "<table>\n",
       "<caption>A matrix: 1951 × 3 of type dbl</caption>\n",
       "<tbody>\n",
       "\t<tr><td> 1.199607e-25</td><td> 2.900137e-25</td><td> 6.045866e-26</td></tr>\n",
       "\t<tr><td> 1.612621e-25</td><td> 7.804376e-25</td><td> 7.896641e-26</td></tr>\n",
       "\t<tr><td> 7.805483e-26</td><td> 7.868865e-26</td><td> 2.242562e-25</td></tr>\n",
       "\t<tr><td> 7.978987e-25</td><td> 1.111314e-24</td><td> 6.737607e-25</td></tr>\n",
       "\t<tr><td> 5.756169e-25</td><td> 1.002065e-24</td><td> 4.974413e-25</td></tr>\n",
       "\t<tr><td> 5.756169e-25</td><td> 1.002065e-24</td><td> 4.974413e-25</td></tr>\n",
       "\t<tr><td> 5.756169e-25</td><td> 1.002065e-24</td><td> 4.974413e-25</td></tr>\n",
       "\t<tr><td> 5.756169e-25</td><td> 1.002065e-24</td><td> 4.974413e-25</td></tr>\n",
       "\t<tr><td> 3.258598e-25</td><td> 6.831742e-25</td><td> 2.595874e-25</td></tr>\n",
       "\t<tr><td> 5.561600e-25</td><td> 8.904882e-25</td><td> 4.585934e-25</td></tr>\n",
       "\t<tr><td> 5.756169e-25</td><td> 1.002065e-24</td><td> 4.974413e-25</td></tr>\n",
       "\t<tr><td> 3.840900e-25</td><td> 7.026065e-25</td><td> 2.868232e-25</td></tr>\n",
       "\t<tr><td> 5.226292e-26</td><td> 4.367771e-25</td><td> 1.873762e-26</td></tr>\n",
       "\t<tr><td> 4.272033e-26</td><td> 4.296283e-25</td><td> 1.107756e-26</td></tr>\n",
       "\t<tr><td>-5.298683e-26</td><td>-1.986254e-26</td><td>-3.685783e-25</td></tr>\n",
       "\t<tr><td> 5.226292e-26</td><td> 4.367771e-25</td><td> 1.873762e-26</td></tr>\n",
       "\t<tr><td>-7.134377e-26</td><td>-5.031690e-26</td><td>-3.943954e-25</td></tr>\n",
       "\t<tr><td> 3.820965e-26</td><td> 5.615748e-25</td><td>-4.388796e-26</td></tr>\n",
       "\t<tr><td> 3.970352e-25</td><td> 1.300153e-24</td><td> 3.538485e-25</td></tr>\n",
       "\t<tr><td> 7.897021e-26</td><td> 5.751927e-25</td><td> 2.619205e-26</td></tr>\n",
       "\t<tr><td> 8.767865e-27</td><td>-1.256703e-26</td><td>-6.197403e-27</td></tr>\n",
       "\t<tr><td> 5.377676e-25</td><td> 1.547845e-24</td><td> 4.910592e-25</td></tr>\n",
       "\t<tr><td> 3.970352e-25</td><td> 1.300153e-24</td><td> 3.538485e-25</td></tr>\n",
       "\t<tr><td> 1.878059e-25</td><td> 8.168997e-25</td><td> 1.741530e-25</td></tr>\n",
       "\t<tr><td> 8.276273e-26</td><td> 2.484510e-25</td><td> 5.045887e-26</td></tr>\n",
       "\t<tr><td> 3.671349e-26</td><td> 1.726141e-26</td><td> 3.481038e-26</td></tr>\n",
       "\t<tr><td> 3.505167e-25</td><td> 1.296412e-24</td><td> 2.991643e-25</td></tr>\n",
       "\t<tr><td> 3.505167e-25</td><td> 1.296412e-24</td><td> 2.991643e-25</td></tr>\n",
       "\t<tr><td> 2.937722e-27</td><td> 1.445016e-26</td><td> 8.727128e-26</td></tr>\n",
       "\t<tr><td> 1.665176e-25</td><td> 8.259781e-25</td><td> 1.470312e-25</td></tr>\n",
       "\t<tr><td>⋮</td><td>⋮</td><td>⋮</td></tr>\n",
       "\t<tr><td> 1.358140e-21</td><td> 1.369962e-21</td><td> 1.403584e-21</td></tr>\n",
       "\t<tr><td>-2.274501e-27</td><td> 3.350824e-26</td><td> 3.402449e-26</td></tr>\n",
       "\t<tr><td> 1.100114e-25</td><td> 9.816217e-26</td><td> 7.560124e-26</td></tr>\n",
       "\t<tr><td> 8.918286e-23</td><td> 1.038479e-22</td><td> 1.023024e-22</td></tr>\n",
       "\t<tr><td> 3.046733e-22</td><td> 3.105590e-22</td><td> 3.197368e-22</td></tr>\n",
       "\t<tr><td> 1.215462e-24</td><td> 1.185741e-24</td><td> 1.952833e-24</td></tr>\n",
       "\t<tr><td> 4.262420e-24</td><td>-1.345775e-24</td><td> 1.105331e-23</td></tr>\n",
       "\t<tr><td>-3.302309e-06</td><td>-3.469572e-06</td><td>-4.540835e-06</td></tr>\n",
       "\t<tr><td> 1.488438e-20</td><td> 1.715545e-20</td><td> 1.823694e-20</td></tr>\n",
       "\t<tr><td> 7.641743e-22</td><td> 7.193482e-22</td><td> 8.189990e-22</td></tr>\n",
       "\t<tr><td> 2.684405e-25</td><td> 3.750100e-25</td><td> 4.478504e-25</td></tr>\n",
       "\t<tr><td> 1.103418e-25</td><td> 1.214293e-25</td><td> 1.218818e-25</td></tr>\n",
       "\t<tr><td> 1.028460e-20</td><td> 1.265901e-20</td><td> 1.390381e-20</td></tr>\n",
       "\t<tr><td> 1.549616e-24</td><td> 8.062699e-25</td><td> 1.289719e-24</td></tr>\n",
       "\t<tr><td> 4.154613e-25</td><td> 5.806382e-25</td><td> 6.087715e-25</td></tr>\n",
       "\t<tr><td> 7.132428e-24</td><td> 4.488991e-24</td><td> 7.290888e-24</td></tr>\n",
       "\t<tr><td> 7.682746e-20</td><td> 6.818168e-20</td><td> 7.876495e-20</td></tr>\n",
       "\t<tr><td> 6.301162e-23</td><td> 7.918060e-23</td><td> 8.643694e-23</td></tr>\n",
       "\t<tr><td> 1.030649e-22</td><td> 1.198564e-22</td><td> 1.271514e-22</td></tr>\n",
       "\t<tr><td> 4.841092e-26</td><td> 4.357774e-26</td><td> 1.890312e-25</td></tr>\n",
       "\t<tr><td> 1.988974e-25</td><td> 1.873173e-25</td><td> 1.901927e-25</td></tr>\n",
       "\t<tr><td>-5.832681e-02</td><td>-6.228997e-02</td><td>-7.920548e-02</td></tr>\n",
       "\t<tr><td> 4.203765e-25</td><td> 6.709818e-25</td><td> 6.532559e-25</td></tr>\n",
       "\t<tr><td> 4.143072e-25</td><td> 5.926618e-25</td><td> 5.930415e-25</td></tr>\n",
       "\t<tr><td> 7.904612e-26</td><td> 1.701086e-25</td><td> 1.823550e-25</td></tr>\n",
       "\t<tr><td> 7.904612e-26</td><td> 1.701086e-25</td><td> 1.823550e-25</td></tr>\n",
       "\t<tr><td> 3.625559e-20</td><td> 3.031286e-20</td><td> 3.736464e-20</td></tr>\n",
       "\t<tr><td> 7.904612e-26</td><td> 1.701086e-25</td><td> 1.823550e-25</td></tr>\n",
       "\t<tr><td> 3.379890e-28</td><td>-1.248180e-27</td><td>-8.262280e-27</td></tr>\n",
       "\t<tr><td> 8.088625e-23</td><td> 9.396381e-23</td><td> 9.868503e-23</td></tr>\n",
       "</tbody>\n",
       "</table>\n"
      ],
      "text/latex": [
       "A matrix: 1951 × 3 of type dbl\n",
       "\\begin{tabular}{lll}\n",
       "\t  1.199607e-25 &  2.900137e-25 &  6.045866e-26\\\\\n",
       "\t  1.612621e-25 &  7.804376e-25 &  7.896641e-26\\\\\n",
       "\t  7.805483e-26 &  7.868865e-26 &  2.242562e-25\\\\\n",
       "\t  7.978987e-25 &  1.111314e-24 &  6.737607e-25\\\\\n",
       "\t  5.756169e-25 &  1.002065e-24 &  4.974413e-25\\\\\n",
       "\t  5.756169e-25 &  1.002065e-24 &  4.974413e-25\\\\\n",
       "\t  5.756169e-25 &  1.002065e-24 &  4.974413e-25\\\\\n",
       "\t  5.756169e-25 &  1.002065e-24 &  4.974413e-25\\\\\n",
       "\t  3.258598e-25 &  6.831742e-25 &  2.595874e-25\\\\\n",
       "\t  5.561600e-25 &  8.904882e-25 &  4.585934e-25\\\\\n",
       "\t  5.756169e-25 &  1.002065e-24 &  4.974413e-25\\\\\n",
       "\t  3.840900e-25 &  7.026065e-25 &  2.868232e-25\\\\\n",
       "\t  5.226292e-26 &  4.367771e-25 &  1.873762e-26\\\\\n",
       "\t  4.272033e-26 &  4.296283e-25 &  1.107756e-26\\\\\n",
       "\t -5.298683e-26 & -1.986254e-26 & -3.685783e-25\\\\\n",
       "\t  5.226292e-26 &  4.367771e-25 &  1.873762e-26\\\\\n",
       "\t -7.134377e-26 & -5.031690e-26 & -3.943954e-25\\\\\n",
       "\t  3.820965e-26 &  5.615748e-25 & -4.388796e-26\\\\\n",
       "\t  3.970352e-25 &  1.300153e-24 &  3.538485e-25\\\\\n",
       "\t  7.897021e-26 &  5.751927e-25 &  2.619205e-26\\\\\n",
       "\t  8.767865e-27 & -1.256703e-26 & -6.197403e-27\\\\\n",
       "\t  5.377676e-25 &  1.547845e-24 &  4.910592e-25\\\\\n",
       "\t  3.970352e-25 &  1.300153e-24 &  3.538485e-25\\\\\n",
       "\t  1.878059e-25 &  8.168997e-25 &  1.741530e-25\\\\\n",
       "\t  8.276273e-26 &  2.484510e-25 &  5.045887e-26\\\\\n",
       "\t  3.671349e-26 &  1.726141e-26 &  3.481038e-26\\\\\n",
       "\t  3.505167e-25 &  1.296412e-24 &  2.991643e-25\\\\\n",
       "\t  3.505167e-25 &  1.296412e-24 &  2.991643e-25\\\\\n",
       "\t  2.937722e-27 &  1.445016e-26 &  8.727128e-26\\\\\n",
       "\t  1.665176e-25 &  8.259781e-25 &  1.470312e-25\\\\\n",
       "\t ⋮ & ⋮ & ⋮\\\\\n",
       "\t  1.358140e-21 &  1.369962e-21 &  1.403584e-21\\\\\n",
       "\t -2.274501e-27 &  3.350824e-26 &  3.402449e-26\\\\\n",
       "\t  1.100114e-25 &  9.816217e-26 &  7.560124e-26\\\\\n",
       "\t  8.918286e-23 &  1.038479e-22 &  1.023024e-22\\\\\n",
       "\t  3.046733e-22 &  3.105590e-22 &  3.197368e-22\\\\\n",
       "\t  1.215462e-24 &  1.185741e-24 &  1.952833e-24\\\\\n",
       "\t  4.262420e-24 & -1.345775e-24 &  1.105331e-23\\\\\n",
       "\t -3.302309e-06 & -3.469572e-06 & -4.540835e-06\\\\\n",
       "\t  1.488438e-20 &  1.715545e-20 &  1.823694e-20\\\\\n",
       "\t  7.641743e-22 &  7.193482e-22 &  8.189990e-22\\\\\n",
       "\t  2.684405e-25 &  3.750100e-25 &  4.478504e-25\\\\\n",
       "\t  1.103418e-25 &  1.214293e-25 &  1.218818e-25\\\\\n",
       "\t  1.028460e-20 &  1.265901e-20 &  1.390381e-20\\\\\n",
       "\t  1.549616e-24 &  8.062699e-25 &  1.289719e-24\\\\\n",
       "\t  4.154613e-25 &  5.806382e-25 &  6.087715e-25\\\\\n",
       "\t  7.132428e-24 &  4.488991e-24 &  7.290888e-24\\\\\n",
       "\t  7.682746e-20 &  6.818168e-20 &  7.876495e-20\\\\\n",
       "\t  6.301162e-23 &  7.918060e-23 &  8.643694e-23\\\\\n",
       "\t  1.030649e-22 &  1.198564e-22 &  1.271514e-22\\\\\n",
       "\t  4.841092e-26 &  4.357774e-26 &  1.890312e-25\\\\\n",
       "\t  1.988974e-25 &  1.873173e-25 &  1.901927e-25\\\\\n",
       "\t -5.832681e-02 & -6.228997e-02 & -7.920548e-02\\\\\n",
       "\t  4.203765e-25 &  6.709818e-25 &  6.532559e-25\\\\\n",
       "\t  4.143072e-25 &  5.926618e-25 &  5.930415e-25\\\\\n",
       "\t  7.904612e-26 &  1.701086e-25 &  1.823550e-25\\\\\n",
       "\t  7.904612e-26 &  1.701086e-25 &  1.823550e-25\\\\\n",
       "\t  3.625559e-20 &  3.031286e-20 &  3.736464e-20\\\\\n",
       "\t  7.904612e-26 &  1.701086e-25 &  1.823550e-25\\\\\n",
       "\t  3.379890e-28 & -1.248180e-27 & -8.262280e-27\\\\\n",
       "\t  8.088625e-23 &  9.396381e-23 &  9.868503e-23\\\\\n",
       "\\end{tabular}\n"
      ],
      "text/markdown": [
       "\n",
       "A matrix: 1951 × 3 of type dbl\n",
       "\n",
       "|  1.199607e-25 |  2.900137e-25 |  6.045866e-26 |\n",
       "|  1.612621e-25 |  7.804376e-25 |  7.896641e-26 |\n",
       "|  7.805483e-26 |  7.868865e-26 |  2.242562e-25 |\n",
       "|  7.978987e-25 |  1.111314e-24 |  6.737607e-25 |\n",
       "|  5.756169e-25 |  1.002065e-24 |  4.974413e-25 |\n",
       "|  5.756169e-25 |  1.002065e-24 |  4.974413e-25 |\n",
       "|  5.756169e-25 |  1.002065e-24 |  4.974413e-25 |\n",
       "|  5.756169e-25 |  1.002065e-24 |  4.974413e-25 |\n",
       "|  3.258598e-25 |  6.831742e-25 |  2.595874e-25 |\n",
       "|  5.561600e-25 |  8.904882e-25 |  4.585934e-25 |\n",
       "|  5.756169e-25 |  1.002065e-24 |  4.974413e-25 |\n",
       "|  3.840900e-25 |  7.026065e-25 |  2.868232e-25 |\n",
       "|  5.226292e-26 |  4.367771e-25 |  1.873762e-26 |\n",
       "|  4.272033e-26 |  4.296283e-25 |  1.107756e-26 |\n",
       "| -5.298683e-26 | -1.986254e-26 | -3.685783e-25 |\n",
       "|  5.226292e-26 |  4.367771e-25 |  1.873762e-26 |\n",
       "| -7.134377e-26 | -5.031690e-26 | -3.943954e-25 |\n",
       "|  3.820965e-26 |  5.615748e-25 | -4.388796e-26 |\n",
       "|  3.970352e-25 |  1.300153e-24 |  3.538485e-25 |\n",
       "|  7.897021e-26 |  5.751927e-25 |  2.619205e-26 |\n",
       "|  8.767865e-27 | -1.256703e-26 | -6.197403e-27 |\n",
       "|  5.377676e-25 |  1.547845e-24 |  4.910592e-25 |\n",
       "|  3.970352e-25 |  1.300153e-24 |  3.538485e-25 |\n",
       "|  1.878059e-25 |  8.168997e-25 |  1.741530e-25 |\n",
       "|  8.276273e-26 |  2.484510e-25 |  5.045887e-26 |\n",
       "|  3.671349e-26 |  1.726141e-26 |  3.481038e-26 |\n",
       "|  3.505167e-25 |  1.296412e-24 |  2.991643e-25 |\n",
       "|  3.505167e-25 |  1.296412e-24 |  2.991643e-25 |\n",
       "|  2.937722e-27 |  1.445016e-26 |  8.727128e-26 |\n",
       "|  1.665176e-25 |  8.259781e-25 |  1.470312e-25 |\n",
       "| ⋮ | ⋮ | ⋮ |\n",
       "|  1.358140e-21 |  1.369962e-21 |  1.403584e-21 |\n",
       "| -2.274501e-27 |  3.350824e-26 |  3.402449e-26 |\n",
       "|  1.100114e-25 |  9.816217e-26 |  7.560124e-26 |\n",
       "|  8.918286e-23 |  1.038479e-22 |  1.023024e-22 |\n",
       "|  3.046733e-22 |  3.105590e-22 |  3.197368e-22 |\n",
       "|  1.215462e-24 |  1.185741e-24 |  1.952833e-24 |\n",
       "|  4.262420e-24 | -1.345775e-24 |  1.105331e-23 |\n",
       "| -3.302309e-06 | -3.469572e-06 | -4.540835e-06 |\n",
       "|  1.488438e-20 |  1.715545e-20 |  1.823694e-20 |\n",
       "|  7.641743e-22 |  7.193482e-22 |  8.189990e-22 |\n",
       "|  2.684405e-25 |  3.750100e-25 |  4.478504e-25 |\n",
       "|  1.103418e-25 |  1.214293e-25 |  1.218818e-25 |\n",
       "|  1.028460e-20 |  1.265901e-20 |  1.390381e-20 |\n",
       "|  1.549616e-24 |  8.062699e-25 |  1.289719e-24 |\n",
       "|  4.154613e-25 |  5.806382e-25 |  6.087715e-25 |\n",
       "|  7.132428e-24 |  4.488991e-24 |  7.290888e-24 |\n",
       "|  7.682746e-20 |  6.818168e-20 |  7.876495e-20 |\n",
       "|  6.301162e-23 |  7.918060e-23 |  8.643694e-23 |\n",
       "|  1.030649e-22 |  1.198564e-22 |  1.271514e-22 |\n",
       "|  4.841092e-26 |  4.357774e-26 |  1.890312e-25 |\n",
       "|  1.988974e-25 |  1.873173e-25 |  1.901927e-25 |\n",
       "| -5.832681e-02 | -6.228997e-02 | -7.920548e-02 |\n",
       "|  4.203765e-25 |  6.709818e-25 |  6.532559e-25 |\n",
       "|  4.143072e-25 |  5.926618e-25 |  5.930415e-25 |\n",
       "|  7.904612e-26 |  1.701086e-25 |  1.823550e-25 |\n",
       "|  7.904612e-26 |  1.701086e-25 |  1.823550e-25 |\n",
       "|  3.625559e-20 |  3.031286e-20 |  3.736464e-20 |\n",
       "|  7.904612e-26 |  1.701086e-25 |  1.823550e-25 |\n",
       "|  3.379890e-28 | -1.248180e-27 | -8.262280e-27 |\n",
       "|  8.088625e-23 |  9.396381e-23 |  9.868503e-23 |\n",
       "\n"
      ],
      "text/plain": [
       "      [,1]          [,2]          [,3]         \n",
       " [1,]  1.199607e-25  2.900137e-25  6.045866e-26\n",
       " [2,]  1.612621e-25  7.804376e-25  7.896641e-26\n",
       " [3,]  7.805483e-26  7.868865e-26  2.242562e-25\n",
       " [4,]  7.978987e-25  1.111314e-24  6.737607e-25\n",
       " [5,]  5.756169e-25  1.002065e-24  4.974413e-25\n",
       " [6,]  5.756169e-25  1.002065e-24  4.974413e-25\n",
       " [7,]  5.756169e-25  1.002065e-24  4.974413e-25\n",
       " [8,]  5.756169e-25  1.002065e-24  4.974413e-25\n",
       " [9,]  3.258598e-25  6.831742e-25  2.595874e-25\n",
       "[10,]  5.561600e-25  8.904882e-25  4.585934e-25\n",
       "[11,]  5.756169e-25  1.002065e-24  4.974413e-25\n",
       "[12,]  3.840900e-25  7.026065e-25  2.868232e-25\n",
       "[13,]  5.226292e-26  4.367771e-25  1.873762e-26\n",
       "[14,]  4.272033e-26  4.296283e-25  1.107756e-26\n",
       "[15,] -5.298683e-26 -1.986254e-26 -3.685783e-25\n",
       "[16,]  5.226292e-26  4.367771e-25  1.873762e-26\n",
       "[17,] -7.134377e-26 -5.031690e-26 -3.943954e-25\n",
       "[18,]  3.820965e-26  5.615748e-25 -4.388796e-26\n",
       "[19,]  3.970352e-25  1.300153e-24  3.538485e-25\n",
       "[20,]  7.897021e-26  5.751927e-25  2.619205e-26\n",
       "[21,]  8.767865e-27 -1.256703e-26 -6.197403e-27\n",
       "[22,]  5.377676e-25  1.547845e-24  4.910592e-25\n",
       "[23,]  3.970352e-25  1.300153e-24  3.538485e-25\n",
       "[24,]  1.878059e-25  8.168997e-25  1.741530e-25\n",
       "[25,]  8.276273e-26  2.484510e-25  5.045887e-26\n",
       "[26,]  3.671349e-26  1.726141e-26  3.481038e-26\n",
       "[27,]  3.505167e-25  1.296412e-24  2.991643e-25\n",
       "[28,]  3.505167e-25  1.296412e-24  2.991643e-25\n",
       "[29,]  2.937722e-27  1.445016e-26  8.727128e-26\n",
       "[30,]  1.665176e-25  8.259781e-25  1.470312e-25\n",
       "[31,] ⋮             ⋮             ⋮            \n",
       "[32,]  1.358140e-21  1.369962e-21  1.403584e-21\n",
       "[33,] -2.274501e-27  3.350824e-26  3.402449e-26\n",
       "[34,]  1.100114e-25  9.816217e-26  7.560124e-26\n",
       "[35,]  8.918286e-23  1.038479e-22  1.023024e-22\n",
       "[36,]  3.046733e-22  3.105590e-22  3.197368e-22\n",
       "[37,]  1.215462e-24  1.185741e-24  1.952833e-24\n",
       "[38,]  4.262420e-24 -1.345775e-24  1.105331e-23\n",
       "[39,] -3.302309e-06 -3.469572e-06 -4.540835e-06\n",
       "[40,]  1.488438e-20  1.715545e-20  1.823694e-20\n",
       "[41,]  7.641743e-22  7.193482e-22  8.189990e-22\n",
       "[42,]  2.684405e-25  3.750100e-25  4.478504e-25\n",
       "[43,]  1.103418e-25  1.214293e-25  1.218818e-25\n",
       "[44,]  1.028460e-20  1.265901e-20  1.390381e-20\n",
       "[45,]  1.549616e-24  8.062699e-25  1.289719e-24\n",
       "[46,]  4.154613e-25  5.806382e-25  6.087715e-25\n",
       "[47,]  7.132428e-24  4.488991e-24  7.290888e-24\n",
       "[48,]  7.682746e-20  6.818168e-20  7.876495e-20\n",
       "[49,]  6.301162e-23  7.918060e-23  8.643694e-23\n",
       "[50,]  1.030649e-22  1.198564e-22  1.271514e-22\n",
       "[51,]  4.841092e-26  4.357774e-26  1.890312e-25\n",
       "[52,]  1.988974e-25  1.873173e-25  1.901927e-25\n",
       "[53,] -5.832681e-02 -6.228997e-02 -7.920548e-02\n",
       "[54,]  4.203765e-25  6.709818e-25  6.532559e-25\n",
       "[55,]  4.143072e-25  5.926618e-25  5.930415e-25\n",
       "[56,]  7.904612e-26  1.701086e-25  1.823550e-25\n",
       "[57,]  7.904612e-26  1.701086e-25  1.823550e-25\n",
       "[58,]  3.625559e-20  3.031286e-20  3.736464e-20\n",
       "[59,]  7.904612e-26  1.701086e-25  1.823550e-25\n",
       "[60,]  3.379890e-28 -1.248180e-27 -8.262280e-27\n",
       "[61,]  8.088625e-23  9.396381e-23  9.868503e-23"
      ]
     },
     "metadata": {},
     "output_type": "display_data"
    }
   ],
   "source": [
    "b$m_ENSG00000007047$coef[2:nrow(b$m_ENSG00000007047$coef),]"
   ]
  },
  {
   "cell_type": "code",
   "execution_count": 116,
   "metadata": {},
   "outputs": [],
   "source": [
    "b = attach(\"~/Project/Alz/multi_mp_2/result/geneTpmResidualsAgeGenderAdj_rename.ENSG00000147419.transformed_XY.RData\")"
   ]
  },
  {
   "cell_type": "code",
   "execution_count": 121,
   "metadata": {},
   "outputs": [
    {
     "data": {
      "text/html": [
       "<style>\n",
       ".list-inline {list-style: none; margin:0; padding: 0}\n",
       ".list-inline>li {display: inline-block}\n",
       ".list-inline>li:not(:last-child)::after {content: \"\\00b7\"; padding: 0 .5ex}\n",
       "</style>\n",
       "<ol class=list-inline><li>'8:27236228_A_G'</li><li>'8:27236505_A_C'</li><li>'8:27237041_A_G'</li><li>'8:27237206_A_G'</li><li>'8:27238826_A_G'</li><li>'8:27239258_C_T'</li><li>'8:27240166_A_G'</li><li>'8:27240555_A_C'</li><li>'8:27240698_A_G'</li><li>'8:27241082_A_G'</li><li>'8:27241353_C_T'</li><li>'8:27242622_A_T'</li><li>'8:27243595_A_G'</li><li>'8:27246778_A_G'</li><li>'8:27247298_C_T'</li><li>'8:27247339_A_G'</li><li>'8:27247647_C_T'</li><li>'8:27247662_C_G'</li><li>'8:27248561_G_T'</li><li>'8:27248573_A_T'</li><li>'8:27248667_A_G'</li><li>'8:27248762_C_T'</li><li>'8:27248894_A_G'</li><li>'8:27248985_C_G'</li><li>'8:27249077_C_T'</li><li>'8:27249328_C_G'</li><li>'8:27249458_A_G'</li><li>'8:27250821_C_T'</li><li>'8:27250933_A_G'</li><li>'8:27251051_C_T'</li><li>'8:27251546_C_G'</li><li>'8:27252633_C_T'</li><li>'8:27252746_C_G'</li><li>'8:27252881_A_G'</li><li>'8:27253951_A_G'</li><li>'8:27254113_G_T'</li><li>'8:27255003_A_G'</li><li>'8:27255128_C_T'</li><li>'8:27255146_A_G'</li><li>'8:27256263_C_T'</li><li>'8:27256314_C_G'</li><li>'8:27256359_A_G'</li><li>'8:27256918_A_G'</li><li>'8:27257787_G_T'</li><li>'8:27258086_A_G'</li><li>'8:27258195_A_G'</li><li>'8:27258313_A_G'</li><li>'8:27258634_C_T'</li><li>'8:27259426_A_G'</li><li>'8:27260404_G_T'</li><li>'8:27260813_A_G'</li><li>'8:27261815_A_G'</li><li>'8:27262195_C_T'</li><li>'8:27263433_G_T'</li><li>'8:27264245_A_C'</li><li>'8:27264952_A_G'</li><li>'8:27265065_A_G'</li><li>'8:27265371_C_T'</li><li>'8:27266465_C_T'</li><li>'8:27268168_C_T'</li><li>'8:27269416_C_T'</li><li>'8:27269572_C_G'</li><li>'8:27269607_A_G'</li><li>'8:27269743_C_T'</li><li>'8:27269884_G_T'</li><li>'8:27270483_A_T'</li><li>'8:27272121_C_G'</li><li>'8:27272123_C_G'</li><li>'8:27272585_A_G'</li><li>'8:27273348_C_T'</li><li>'8:27273630_A_C'</li><li>'8:27274243_C_T'</li><li>'8:27274431_A_G'</li><li>'8:27274631_G_T'</li><li>'8:27274724_A_G'</li><li>'8:27274931_C_T'</li><li>'8:27275294_A_G'</li><li>'8:27275352_A_G'</li><li>'8:27275509_A_G'</li><li>'8:27275518_A_G'</li><li>'8:27275649_G_T'</li><li>'8:27275794_C_T'</li><li>'8:27275904_C_T'</li><li>'8:27276111_C_T'</li><li>'8:27276209_C_T'</li><li>'8:27276526_A_C'</li><li>'8:27276705_A_G'</li><li>'8:27277537_A_G'</li><li>'8:27277642_A_G'</li><li>'8:27278031_A_G'</li><li>'8:27279400_A_C'</li><li>'8:27281267_A_G'</li><li>'8:27281896_C_T'</li><li>'8:27281912_A_G'</li><li>'8:27282771_G_T'</li><li>'8:27284394_A_G'</li><li>'8:27285178_A_G'</li><li>'8:27285533_A_G'</li><li>'8:27285725_C_G'</li><li>'8:27286379_A_G'</li><li>'8:27287997_A_T'</li><li>'8:27288033_C_T'</li><li>'8:27288075_A_G'</li><li>'8:27288314_C_T'</li><li>'8:27289126_A_G'</li><li>'8:27289321_C_T'</li><li>'8:27289409_C_G'</li><li>'8:27289412_C_G'</li><li>'8:27289935_C_T'</li><li>'8:27289963_C_T'</li><li>'8:27290018_G_T'</li><li>'8:27290528_A_G'</li><li>'8:27292287_A_G'</li><li>'8:27293989_A_G'</li><li>'8:27294532_C_G'</li><li>'8:27294606_C_G'</li><li>'8:27295109_A_G'</li><li>'8:27296090_A_G'</li><li>'8:27297202_C_T'</li><li>'8:27297594_A_G'</li><li>'8:27297625_C_G'</li><li>'8:27298078_A_G'</li><li>'8:27298409_A_G'</li><li>'8:27299087_A_C'</li><li>'8:27299653_C_G'</li><li>'8:27300088_C_T'</li><li>'8:27300621_A_C'</li><li>'8:27301451_A_G'</li><li>'8:27302433_A_G'</li><li>'8:27303015_C_T'</li><li>'8:27303126_A_G'</li><li>'8:27306159_A_G'</li><li>'8:27306551_A_T'</li><li>'8:27307072_A_G'</li><li>'8:27307275_C_G'</li><li>'8:27308004_A_G'</li><li>'8:27308538_A_G'</li><li>'8:27308849_A_G'</li><li>'8:27309339_C_T'</li><li>'8:27309657_C_T'</li><li>'8:27310546_A_G'</li><li>'8:27311244_A_T'</li><li>'8:27311376_A_G'</li><li>'8:27312135_A_G'</li><li>'8:27312426_A_G'</li><li>'8:27312687_A_T'</li><li>'8:27312809_A_G'</li><li>'8:27313355_A_C'</li><li>'8:27313639_G_T'</li><li>'8:27314819_A_G'</li><li>'8:27315876_A_G'</li><li>'8:27315900_A_G'</li><li>'8:27316117_A_G'</li><li>'8:27317195_A_C'</li><li>'8:27317337_A_G'</li><li>'8:27317762_A_G'</li><li>'8:27318425_A_C'</li><li>'8:27318544_A_G'</li><li>'8:27318635_C_G'</li><li>'8:27319906_A_G'</li><li>'8:27320636_A_G'</li><li>'8:27321189_A_G'</li><li>'8:27321666_C_T'</li><li>'8:27322434_C_G'</li><li>'8:27322872_A_G'</li><li>'8:27322974_A_G'</li><li>'8:27323182_C_G'</li><li>'8:27323391_A_G'</li><li>'8:27323403_A_C'</li><li>'8:27323607_G_T'</li><li>'8:27323726_G_T'</li><li>'8:27323822_A_C'</li><li>'8:27323833_A_G'</li><li>'8:27324367_A_C'</li><li>'8:27324429_C_T'</li><li>'8:27324844_A_G'</li><li>'8:27325257_A_G'</li><li>'8:27325423_A_G'</li><li>'8:27325473_A_C'</li><li>'8:27325940_A_G'</li><li>'8:27327841_C_G'</li><li>'8:27328021_A_G'</li><li>'8:27328127_C_G'</li><li>'8:27328409_A_G'</li><li>'8:27328511_A_G'</li><li>'8:27330791_C_T'</li><li>'8:27330813_C_T'</li><li>'8:27331119_A_G'</li><li>'8:27331277_C_T'</li><li>'8:27334379_A_G'</li><li>'8:27335734_C_T'</li><li>'8:27335898_A_T'</li><li>'8:27336628_A_G'</li><li>'8:27336767_A_T'</li><li>'8:27336978_A_G'</li><li>'8:27337227_A_G'</li><li>'8:27337896_A_T'</li><li>'8:27338347_A_C'</li><li>'8:27338359_A_G'</li><li>'8:27338762_C_G'</li><li>⋯</li><li>'8:28124713_G_T'</li><li>'8:28125391_A_G'</li><li>'8:28127172_A_G'</li><li>'8:28127281_G_T'</li><li>'8:28127294_A_G'</li><li>'8:28127385_A_G'</li><li>'8:28128086_C_T'</li><li>'8:28128260_A_G'</li><li>'8:28128777_C_T'</li><li>'8:28128784_C_T'</li><li>'8:28128861_C_T'</li><li>'8:28129261_A_G'</li><li>'8:28129693_C_T'</li><li>'8:28129827_C_G'</li><li>'8:28130109_C_T'</li><li>'8:28130619_A_G'</li><li>'8:28130948_A_C'</li><li>'8:28131298_C_T'</li><li>'8:28131356_C_G'</li><li>'8:28131501_A_G'</li><li>'8:28132122_G_T'</li><li>'8:28132448_C_T'</li><li>'8:28133673_A_T'</li><li>'8:28133675_G_T'</li><li>'8:28134035_A_G'</li><li>'8:28134288_C_T'</li><li>'8:28135397_C_T'</li><li>'8:28135494_G_T'</li><li>'8:28135510_A_T'</li><li>'8:28135623_A_C'</li><li>'8:28135690_A_G'</li><li>'8:28135749_A_G'</li><li>'8:28136136_C_T'</li><li>'8:28137261_C_T'</li><li>'8:28137308_C_T'</li><li>'8:28137935_A_C'</li><li>'8:28138834_C_T'</li><li>'8:28139399_A_C'</li><li>'8:28140103_A_C'</li><li>'8:28140302_A_G'</li><li>'8:28141768_C_T'</li><li>'8:28142324_C_T'</li><li>'8:28143259_A_C'</li><li>'8:28144790_C_T'</li><li>'8:28145649_A_G'</li><li>'8:28146024_A_G'</li><li>'8:28146055_C_T'</li><li>'8:28146297_G_T'</li><li>'8:28146611_A_C'</li><li>'8:28146700_A_G'</li><li>'8:28146711_C_T'</li><li>'8:28146753_C_T'</li><li>'8:28147240_C_T'</li><li>'8:28147852_C_T'</li><li>'8:28148113_A_C'</li><li>'8:28148854_C_T'</li><li>'8:28149815_A_T'</li><li>'8:28151129_C_T'</li><li>'8:28152308_C_T'</li><li>'8:28152818_A_G'</li><li>'8:28153802_A_G'</li><li>'8:28154151_A_G'</li><li>'8:28154696_C_T'</li><li>'8:28156130_C_G'</li><li>'8:28156456_A_G'</li><li>'8:28157518_G_T'</li><li>'8:28158166_A_G'</li><li>'8:28158352_A_G'</li><li>'8:28158490_A_G'</li><li>'8:28159264_A_C'</li><li>'8:28160577_A_G'</li><li>'8:28162012_C_T'</li><li>'8:28163935_C_T'</li><li>'8:28163980_A_G'</li><li>'8:28164690_A_C'</li><li>'8:28164771_A_G'</li><li>'8:28165158_A_G'</li><li>'8:28165812_C_G'</li><li>'8:28166098_G_T'</li><li>'8:28166416_C_T'</li><li>'8:28166651_C_T'</li><li>'8:28167093_A_G'</li><li>'8:28167447_C_T'</li><li>'8:28167580_A_C'</li><li>'8:28167640_A_G'</li><li>'8:28167726_A_G'</li><li>'8:28167784_A_T'</li><li>'8:28168659_A_G'</li><li>'8:28168851_C_T'</li><li>'8:28168886_A_C'</li><li>'8:28168959_A_G'</li><li>'8:28169230_A_G'</li><li>'8:28170530_A_G'</li><li>'8:28170880_G_T'</li><li>'8:28170930_A_G'</li><li>'8:28171539_A_T'</li><li>'8:28172290_G_T'</li><li>'8:28172396_C_T'</li><li>'8:28172490_C_T'</li><li>'8:28172498_A_G'</li><li>'8:28172622_A_G'</li><li>'8:28172668_A_G'</li><li>'8:28173197_A_G'</li><li>'8:28173751_A_C'</li><li>'8:28173809_A_C'</li><li>'8:28175090_A_G'</li><li>'8:28175981_C_T'</li><li>'8:28179984_A_G'</li><li>'8:28180868_A_G'</li><li>'8:28181512_C_G'</li><li>'8:28183219_C_G'</li><li>'8:28183666_A_C'</li><li>'8:28183832_A_G'</li><li>'8:28184320_C_T'</li><li>'8:28184432_A_G'</li><li>'8:28184576_G_T'</li><li>'8:28184608_A_G'</li><li>'8:28184765_C_G'</li><li>'8:28184991_A_G'</li><li>'8:28185058_A_G'</li><li>'8:28185079_A_T'</li><li>'8:28185145_A_G'</li><li>'8:28185537_A_G'</li><li>'8:28186096_C_T'</li><li>'8:28186607_C_T'</li><li>'8:28187409_A_G'</li><li>'8:28187760_G_T'</li><li>'8:28187935_G_T'</li><li>'8:28188633_C_T'</li><li>'8:28189027_A_G'</li><li>'8:28190036_A_G'</li><li>'8:28190801_A_T'</li><li>'8:28191107_C_T'</li><li>'8:28191306_A_C'</li><li>'8:28191506_C_T'</li><li>'8:28192291_A_G'</li><li>'8:28192545_A_G'</li><li>'8:28193489_A_G'</li><li>'8:28193653_C_T'</li><li>'8:28193963_A_G'</li><li>'8:28194097_A_G'</li><li>'8:28194396_C_G'</li><li>'8:28194488_A_G'</li><li>'8:28194579_A_T'</li><li>'8:28194597_C_G'</li><li>'8:28194892_C_T'</li><li>'8:28195763_A_G'</li><li>'8:28195931_A_C'</li><li>'8:28197642_A_G'</li><li>'8:28198159_C_T'</li><li>'8:28198716_A_G'</li><li>'8:28198750_A_G'</li><li>'8:28198944_A_G'</li><li>'8:28199370_A_G'</li><li>'8:28199864_C_T'</li><li>'8:28200494_A_C'</li><li>'8:28200513_A_G'</li><li>'8:28201259_A_C'</li><li>'8:28201643_A_G'</li><li>'8:28202936_C_T'</li><li>'8:28203937_G_T'</li><li>'8:28206275_C_G'</li><li>'8:28207475_A_G'</li><li>'8:28212636_A_T'</li><li>'8:28214096_C_T'</li><li>'8:28215161_A_G'</li><li>'8:28215776_A_G'</li><li>'8:28221097_C_T'</li><li>'8:28222586_C_G'</li><li>'8:28226017_A_G'</li><li>'8:28226097_C_T'</li><li>'8:28227281_A_G'</li><li>'8:28231221_C_T'</li><li>'8:28231269_C_T'</li><li>'8:28231286_C_G'</li><li>'8:28232572_C_T'</li><li>'8:28233423_A_G'</li><li>'8:28234284_A_C'</li><li>'8:28235793_A_G'</li><li>'8:28236161_C_G'</li><li>'8:28237827_C_T'</li><li>'8:28240092_A_C'</li><li>'8:28240782_A_G'</li><li>'8:28242622_C_T'</li><li>'8:28244673_C_G'</li><li>'8:28246939_G_T'</li><li>'8:28250306_G_T'</li><li>'8:28250401_C_T'</li><li>'8:28250816_A_G'</li><li>'8:28252162_C_T'</li><li>'8:28257804_A_G'</li><li>'8:28257993_A_G'</li><li>'8:28259596_G_T'</li><li>'8:28259981_C_T'</li><li>'8:28263532_C_T'</li><li>'8:28264645_C_G'</li><li>'8:28265314_A_G'</li><li>'8:28267420_A_G'</li><li>'8:28269582_C_G'</li><li>'8:28272574_A_G'</li></ol>\n"
      ],
      "text/latex": [
       "\\begin{enumerate*}\n",
       "\\item '8:27236228\\_A\\_G'\n",
       "\\item '8:27236505\\_A\\_C'\n",
       "\\item '8:27237041\\_A\\_G'\n",
       "\\item '8:27237206\\_A\\_G'\n",
       "\\item '8:27238826\\_A\\_G'\n",
       "\\item '8:27239258\\_C\\_T'\n",
       "\\item '8:27240166\\_A\\_G'\n",
       "\\item '8:27240555\\_A\\_C'\n",
       "\\item '8:27240698\\_A\\_G'\n",
       "\\item '8:27241082\\_A\\_G'\n",
       "\\item '8:27241353\\_C\\_T'\n",
       "\\item '8:27242622\\_A\\_T'\n",
       "\\item '8:27243595\\_A\\_G'\n",
       "\\item '8:27246778\\_A\\_G'\n",
       "\\item '8:27247298\\_C\\_T'\n",
       "\\item '8:27247339\\_A\\_G'\n",
       "\\item '8:27247647\\_C\\_T'\n",
       "\\item '8:27247662\\_C\\_G'\n",
       "\\item '8:27248561\\_G\\_T'\n",
       "\\item '8:27248573\\_A\\_T'\n",
       "\\item '8:27248667\\_A\\_G'\n",
       "\\item '8:27248762\\_C\\_T'\n",
       "\\item '8:27248894\\_A\\_G'\n",
       "\\item '8:27248985\\_C\\_G'\n",
       "\\item '8:27249077\\_C\\_T'\n",
       "\\item '8:27249328\\_C\\_G'\n",
       "\\item '8:27249458\\_A\\_G'\n",
       "\\item '8:27250821\\_C\\_T'\n",
       "\\item '8:27250933\\_A\\_G'\n",
       "\\item '8:27251051\\_C\\_T'\n",
       "\\item '8:27251546\\_C\\_G'\n",
       "\\item '8:27252633\\_C\\_T'\n",
       "\\item '8:27252746\\_C\\_G'\n",
       "\\item '8:27252881\\_A\\_G'\n",
       "\\item '8:27253951\\_A\\_G'\n",
       "\\item '8:27254113\\_G\\_T'\n",
       "\\item '8:27255003\\_A\\_G'\n",
       "\\item '8:27255128\\_C\\_T'\n",
       "\\item '8:27255146\\_A\\_G'\n",
       "\\item '8:27256263\\_C\\_T'\n",
       "\\item '8:27256314\\_C\\_G'\n",
       "\\item '8:27256359\\_A\\_G'\n",
       "\\item '8:27256918\\_A\\_G'\n",
       "\\item '8:27257787\\_G\\_T'\n",
       "\\item '8:27258086\\_A\\_G'\n",
       "\\item '8:27258195\\_A\\_G'\n",
       "\\item '8:27258313\\_A\\_G'\n",
       "\\item '8:27258634\\_C\\_T'\n",
       "\\item '8:27259426\\_A\\_G'\n",
       "\\item '8:27260404\\_G\\_T'\n",
       "\\item '8:27260813\\_A\\_G'\n",
       "\\item '8:27261815\\_A\\_G'\n",
       "\\item '8:27262195\\_C\\_T'\n",
       "\\item '8:27263433\\_G\\_T'\n",
       "\\item '8:27264245\\_A\\_C'\n",
       "\\item '8:27264952\\_A\\_G'\n",
       "\\item '8:27265065\\_A\\_G'\n",
       "\\item '8:27265371\\_C\\_T'\n",
       "\\item '8:27266465\\_C\\_T'\n",
       "\\item '8:27268168\\_C\\_T'\n",
       "\\item '8:27269416\\_C\\_T'\n",
       "\\item '8:27269572\\_C\\_G'\n",
       "\\item '8:27269607\\_A\\_G'\n",
       "\\item '8:27269743\\_C\\_T'\n",
       "\\item '8:27269884\\_G\\_T'\n",
       "\\item '8:27270483\\_A\\_T'\n",
       "\\item '8:27272121\\_C\\_G'\n",
       "\\item '8:27272123\\_C\\_G'\n",
       "\\item '8:27272585\\_A\\_G'\n",
       "\\item '8:27273348\\_C\\_T'\n",
       "\\item '8:27273630\\_A\\_C'\n",
       "\\item '8:27274243\\_C\\_T'\n",
       "\\item '8:27274431\\_A\\_G'\n",
       "\\item '8:27274631\\_G\\_T'\n",
       "\\item '8:27274724\\_A\\_G'\n",
       "\\item '8:27274931\\_C\\_T'\n",
       "\\item '8:27275294\\_A\\_G'\n",
       "\\item '8:27275352\\_A\\_G'\n",
       "\\item '8:27275509\\_A\\_G'\n",
       "\\item '8:27275518\\_A\\_G'\n",
       "\\item '8:27275649\\_G\\_T'\n",
       "\\item '8:27275794\\_C\\_T'\n",
       "\\item '8:27275904\\_C\\_T'\n",
       "\\item '8:27276111\\_C\\_T'\n",
       "\\item '8:27276209\\_C\\_T'\n",
       "\\item '8:27276526\\_A\\_C'\n",
       "\\item '8:27276705\\_A\\_G'\n",
       "\\item '8:27277537\\_A\\_G'\n",
       "\\item '8:27277642\\_A\\_G'\n",
       "\\item '8:27278031\\_A\\_G'\n",
       "\\item '8:27279400\\_A\\_C'\n",
       "\\item '8:27281267\\_A\\_G'\n",
       "\\item '8:27281896\\_C\\_T'\n",
       "\\item '8:27281912\\_A\\_G'\n",
       "\\item '8:27282771\\_G\\_T'\n",
       "\\item '8:27284394\\_A\\_G'\n",
       "\\item '8:27285178\\_A\\_G'\n",
       "\\item '8:27285533\\_A\\_G'\n",
       "\\item '8:27285725\\_C\\_G'\n",
       "\\item '8:27286379\\_A\\_G'\n",
       "\\item '8:27287997\\_A\\_T'\n",
       "\\item '8:27288033\\_C\\_T'\n",
       "\\item '8:27288075\\_A\\_G'\n",
       "\\item '8:27288314\\_C\\_T'\n",
       "\\item '8:27289126\\_A\\_G'\n",
       "\\item '8:27289321\\_C\\_T'\n",
       "\\item '8:27289409\\_C\\_G'\n",
       "\\item '8:27289412\\_C\\_G'\n",
       "\\item '8:27289935\\_C\\_T'\n",
       "\\item '8:27289963\\_C\\_T'\n",
       "\\item '8:27290018\\_G\\_T'\n",
       "\\item '8:27290528\\_A\\_G'\n",
       "\\item '8:27292287\\_A\\_G'\n",
       "\\item '8:27293989\\_A\\_G'\n",
       "\\item '8:27294532\\_C\\_G'\n",
       "\\item '8:27294606\\_C\\_G'\n",
       "\\item '8:27295109\\_A\\_G'\n",
       "\\item '8:27296090\\_A\\_G'\n",
       "\\item '8:27297202\\_C\\_T'\n",
       "\\item '8:27297594\\_A\\_G'\n",
       "\\item '8:27297625\\_C\\_G'\n",
       "\\item '8:27298078\\_A\\_G'\n",
       "\\item '8:27298409\\_A\\_G'\n",
       "\\item '8:27299087\\_A\\_C'\n",
       "\\item '8:27299653\\_C\\_G'\n",
       "\\item '8:27300088\\_C\\_T'\n",
       "\\item '8:27300621\\_A\\_C'\n",
       "\\item '8:27301451\\_A\\_G'\n",
       "\\item '8:27302433\\_A\\_G'\n",
       "\\item '8:27303015\\_C\\_T'\n",
       "\\item '8:27303126\\_A\\_G'\n",
       "\\item '8:27306159\\_A\\_G'\n",
       "\\item '8:27306551\\_A\\_T'\n",
       "\\item '8:27307072\\_A\\_G'\n",
       "\\item '8:27307275\\_C\\_G'\n",
       "\\item '8:27308004\\_A\\_G'\n",
       "\\item '8:27308538\\_A\\_G'\n",
       "\\item '8:27308849\\_A\\_G'\n",
       "\\item '8:27309339\\_C\\_T'\n",
       "\\item '8:27309657\\_C\\_T'\n",
       "\\item '8:27310546\\_A\\_G'\n",
       "\\item '8:27311244\\_A\\_T'\n",
       "\\item '8:27311376\\_A\\_G'\n",
       "\\item '8:27312135\\_A\\_G'\n",
       "\\item '8:27312426\\_A\\_G'\n",
       "\\item '8:27312687\\_A\\_T'\n",
       "\\item '8:27312809\\_A\\_G'\n",
       "\\item '8:27313355\\_A\\_C'\n",
       "\\item '8:27313639\\_G\\_T'\n",
       "\\item '8:27314819\\_A\\_G'\n",
       "\\item '8:27315876\\_A\\_G'\n",
       "\\item '8:27315900\\_A\\_G'\n",
       "\\item '8:27316117\\_A\\_G'\n",
       "\\item '8:27317195\\_A\\_C'\n",
       "\\item '8:27317337\\_A\\_G'\n",
       "\\item '8:27317762\\_A\\_G'\n",
       "\\item '8:27318425\\_A\\_C'\n",
       "\\item '8:27318544\\_A\\_G'\n",
       "\\item '8:27318635\\_C\\_G'\n",
       "\\item '8:27319906\\_A\\_G'\n",
       "\\item '8:27320636\\_A\\_G'\n",
       "\\item '8:27321189\\_A\\_G'\n",
       "\\item '8:27321666\\_C\\_T'\n",
       "\\item '8:27322434\\_C\\_G'\n",
       "\\item '8:27322872\\_A\\_G'\n",
       "\\item '8:27322974\\_A\\_G'\n",
       "\\item '8:27323182\\_C\\_G'\n",
       "\\item '8:27323391\\_A\\_G'\n",
       "\\item '8:27323403\\_A\\_C'\n",
       "\\item '8:27323607\\_G\\_T'\n",
       "\\item '8:27323726\\_G\\_T'\n",
       "\\item '8:27323822\\_A\\_C'\n",
       "\\item '8:27323833\\_A\\_G'\n",
       "\\item '8:27324367\\_A\\_C'\n",
       "\\item '8:27324429\\_C\\_T'\n",
       "\\item '8:27324844\\_A\\_G'\n",
       "\\item '8:27325257\\_A\\_G'\n",
       "\\item '8:27325423\\_A\\_G'\n",
       "\\item '8:27325473\\_A\\_C'\n",
       "\\item '8:27325940\\_A\\_G'\n",
       "\\item '8:27327841\\_C\\_G'\n",
       "\\item '8:27328021\\_A\\_G'\n",
       "\\item '8:27328127\\_C\\_G'\n",
       "\\item '8:27328409\\_A\\_G'\n",
       "\\item '8:27328511\\_A\\_G'\n",
       "\\item '8:27330791\\_C\\_T'\n",
       "\\item '8:27330813\\_C\\_T'\n",
       "\\item '8:27331119\\_A\\_G'\n",
       "\\item '8:27331277\\_C\\_T'\n",
       "\\item '8:27334379\\_A\\_G'\n",
       "\\item '8:27335734\\_C\\_T'\n",
       "\\item '8:27335898\\_A\\_T'\n",
       "\\item '8:27336628\\_A\\_G'\n",
       "\\item '8:27336767\\_A\\_T'\n",
       "\\item '8:27336978\\_A\\_G'\n",
       "\\item '8:27337227\\_A\\_G'\n",
       "\\item '8:27337896\\_A\\_T'\n",
       "\\item '8:27338347\\_A\\_C'\n",
       "\\item '8:27338359\\_A\\_G'\n",
       "\\item '8:27338762\\_C\\_G'\n",
       "\\item ⋯\n",
       "\\item '8:28124713\\_G\\_T'\n",
       "\\item '8:28125391\\_A\\_G'\n",
       "\\item '8:28127172\\_A\\_G'\n",
       "\\item '8:28127281\\_G\\_T'\n",
       "\\item '8:28127294\\_A\\_G'\n",
       "\\item '8:28127385\\_A\\_G'\n",
       "\\item '8:28128086\\_C\\_T'\n",
       "\\item '8:28128260\\_A\\_G'\n",
       "\\item '8:28128777\\_C\\_T'\n",
       "\\item '8:28128784\\_C\\_T'\n",
       "\\item '8:28128861\\_C\\_T'\n",
       "\\item '8:28129261\\_A\\_G'\n",
       "\\item '8:28129693\\_C\\_T'\n",
       "\\item '8:28129827\\_C\\_G'\n",
       "\\item '8:28130109\\_C\\_T'\n",
       "\\item '8:28130619\\_A\\_G'\n",
       "\\item '8:28130948\\_A\\_C'\n",
       "\\item '8:28131298\\_C\\_T'\n",
       "\\item '8:28131356\\_C\\_G'\n",
       "\\item '8:28131501\\_A\\_G'\n",
       "\\item '8:28132122\\_G\\_T'\n",
       "\\item '8:28132448\\_C\\_T'\n",
       "\\item '8:28133673\\_A\\_T'\n",
       "\\item '8:28133675\\_G\\_T'\n",
       "\\item '8:28134035\\_A\\_G'\n",
       "\\item '8:28134288\\_C\\_T'\n",
       "\\item '8:28135397\\_C\\_T'\n",
       "\\item '8:28135494\\_G\\_T'\n",
       "\\item '8:28135510\\_A\\_T'\n",
       "\\item '8:28135623\\_A\\_C'\n",
       "\\item '8:28135690\\_A\\_G'\n",
       "\\item '8:28135749\\_A\\_G'\n",
       "\\item '8:28136136\\_C\\_T'\n",
       "\\item '8:28137261\\_C\\_T'\n",
       "\\item '8:28137308\\_C\\_T'\n",
       "\\item '8:28137935\\_A\\_C'\n",
       "\\item '8:28138834\\_C\\_T'\n",
       "\\item '8:28139399\\_A\\_C'\n",
       "\\item '8:28140103\\_A\\_C'\n",
       "\\item '8:28140302\\_A\\_G'\n",
       "\\item '8:28141768\\_C\\_T'\n",
       "\\item '8:28142324\\_C\\_T'\n",
       "\\item '8:28143259\\_A\\_C'\n",
       "\\item '8:28144790\\_C\\_T'\n",
       "\\item '8:28145649\\_A\\_G'\n",
       "\\item '8:28146024\\_A\\_G'\n",
       "\\item '8:28146055\\_C\\_T'\n",
       "\\item '8:28146297\\_G\\_T'\n",
       "\\item '8:28146611\\_A\\_C'\n",
       "\\item '8:28146700\\_A\\_G'\n",
       "\\item '8:28146711\\_C\\_T'\n",
       "\\item '8:28146753\\_C\\_T'\n",
       "\\item '8:28147240\\_C\\_T'\n",
       "\\item '8:28147852\\_C\\_T'\n",
       "\\item '8:28148113\\_A\\_C'\n",
       "\\item '8:28148854\\_C\\_T'\n",
       "\\item '8:28149815\\_A\\_T'\n",
       "\\item '8:28151129\\_C\\_T'\n",
       "\\item '8:28152308\\_C\\_T'\n",
       "\\item '8:28152818\\_A\\_G'\n",
       "\\item '8:28153802\\_A\\_G'\n",
       "\\item '8:28154151\\_A\\_G'\n",
       "\\item '8:28154696\\_C\\_T'\n",
       "\\item '8:28156130\\_C\\_G'\n",
       "\\item '8:28156456\\_A\\_G'\n",
       "\\item '8:28157518\\_G\\_T'\n",
       "\\item '8:28158166\\_A\\_G'\n",
       "\\item '8:28158352\\_A\\_G'\n",
       "\\item '8:28158490\\_A\\_G'\n",
       "\\item '8:28159264\\_A\\_C'\n",
       "\\item '8:28160577\\_A\\_G'\n",
       "\\item '8:28162012\\_C\\_T'\n",
       "\\item '8:28163935\\_C\\_T'\n",
       "\\item '8:28163980\\_A\\_G'\n",
       "\\item '8:28164690\\_A\\_C'\n",
       "\\item '8:28164771\\_A\\_G'\n",
       "\\item '8:28165158\\_A\\_G'\n",
       "\\item '8:28165812\\_C\\_G'\n",
       "\\item '8:28166098\\_G\\_T'\n",
       "\\item '8:28166416\\_C\\_T'\n",
       "\\item '8:28166651\\_C\\_T'\n",
       "\\item '8:28167093\\_A\\_G'\n",
       "\\item '8:28167447\\_C\\_T'\n",
       "\\item '8:28167580\\_A\\_C'\n",
       "\\item '8:28167640\\_A\\_G'\n",
       "\\item '8:28167726\\_A\\_G'\n",
       "\\item '8:28167784\\_A\\_T'\n",
       "\\item '8:28168659\\_A\\_G'\n",
       "\\item '8:28168851\\_C\\_T'\n",
       "\\item '8:28168886\\_A\\_C'\n",
       "\\item '8:28168959\\_A\\_G'\n",
       "\\item '8:28169230\\_A\\_G'\n",
       "\\item '8:28170530\\_A\\_G'\n",
       "\\item '8:28170880\\_G\\_T'\n",
       "\\item '8:28170930\\_A\\_G'\n",
       "\\item '8:28171539\\_A\\_T'\n",
       "\\item '8:28172290\\_G\\_T'\n",
       "\\item '8:28172396\\_C\\_T'\n",
       "\\item '8:28172490\\_C\\_T'\n",
       "\\item '8:28172498\\_A\\_G'\n",
       "\\item '8:28172622\\_A\\_G'\n",
       "\\item '8:28172668\\_A\\_G'\n",
       "\\item '8:28173197\\_A\\_G'\n",
       "\\item '8:28173751\\_A\\_C'\n",
       "\\item '8:28173809\\_A\\_C'\n",
       "\\item '8:28175090\\_A\\_G'\n",
       "\\item '8:28175981\\_C\\_T'\n",
       "\\item '8:28179984\\_A\\_G'\n",
       "\\item '8:28180868\\_A\\_G'\n",
       "\\item '8:28181512\\_C\\_G'\n",
       "\\item '8:28183219\\_C\\_G'\n",
       "\\item '8:28183666\\_A\\_C'\n",
       "\\item '8:28183832\\_A\\_G'\n",
       "\\item '8:28184320\\_C\\_T'\n",
       "\\item '8:28184432\\_A\\_G'\n",
       "\\item '8:28184576\\_G\\_T'\n",
       "\\item '8:28184608\\_A\\_G'\n",
       "\\item '8:28184765\\_C\\_G'\n",
       "\\item '8:28184991\\_A\\_G'\n",
       "\\item '8:28185058\\_A\\_G'\n",
       "\\item '8:28185079\\_A\\_T'\n",
       "\\item '8:28185145\\_A\\_G'\n",
       "\\item '8:28185537\\_A\\_G'\n",
       "\\item '8:28186096\\_C\\_T'\n",
       "\\item '8:28186607\\_C\\_T'\n",
       "\\item '8:28187409\\_A\\_G'\n",
       "\\item '8:28187760\\_G\\_T'\n",
       "\\item '8:28187935\\_G\\_T'\n",
       "\\item '8:28188633\\_C\\_T'\n",
       "\\item '8:28189027\\_A\\_G'\n",
       "\\item '8:28190036\\_A\\_G'\n",
       "\\item '8:28190801\\_A\\_T'\n",
       "\\item '8:28191107\\_C\\_T'\n",
       "\\item '8:28191306\\_A\\_C'\n",
       "\\item '8:28191506\\_C\\_T'\n",
       "\\item '8:28192291\\_A\\_G'\n",
       "\\item '8:28192545\\_A\\_G'\n",
       "\\item '8:28193489\\_A\\_G'\n",
       "\\item '8:28193653\\_C\\_T'\n",
       "\\item '8:28193963\\_A\\_G'\n",
       "\\item '8:28194097\\_A\\_G'\n",
       "\\item '8:28194396\\_C\\_G'\n",
       "\\item '8:28194488\\_A\\_G'\n",
       "\\item '8:28194579\\_A\\_T'\n",
       "\\item '8:28194597\\_C\\_G'\n",
       "\\item '8:28194892\\_C\\_T'\n",
       "\\item '8:28195763\\_A\\_G'\n",
       "\\item '8:28195931\\_A\\_C'\n",
       "\\item '8:28197642\\_A\\_G'\n",
       "\\item '8:28198159\\_C\\_T'\n",
       "\\item '8:28198716\\_A\\_G'\n",
       "\\item '8:28198750\\_A\\_G'\n",
       "\\item '8:28198944\\_A\\_G'\n",
       "\\item '8:28199370\\_A\\_G'\n",
       "\\item '8:28199864\\_C\\_T'\n",
       "\\item '8:28200494\\_A\\_C'\n",
       "\\item '8:28200513\\_A\\_G'\n",
       "\\item '8:28201259\\_A\\_C'\n",
       "\\item '8:28201643\\_A\\_G'\n",
       "\\item '8:28202936\\_C\\_T'\n",
       "\\item '8:28203937\\_G\\_T'\n",
       "\\item '8:28206275\\_C\\_G'\n",
       "\\item '8:28207475\\_A\\_G'\n",
       "\\item '8:28212636\\_A\\_T'\n",
       "\\item '8:28214096\\_C\\_T'\n",
       "\\item '8:28215161\\_A\\_G'\n",
       "\\item '8:28215776\\_A\\_G'\n",
       "\\item '8:28221097\\_C\\_T'\n",
       "\\item '8:28222586\\_C\\_G'\n",
       "\\item '8:28226017\\_A\\_G'\n",
       "\\item '8:28226097\\_C\\_T'\n",
       "\\item '8:28227281\\_A\\_G'\n",
       "\\item '8:28231221\\_C\\_T'\n",
       "\\item '8:28231269\\_C\\_T'\n",
       "\\item '8:28231286\\_C\\_G'\n",
       "\\item '8:28232572\\_C\\_T'\n",
       "\\item '8:28233423\\_A\\_G'\n",
       "\\item '8:28234284\\_A\\_C'\n",
       "\\item '8:28235793\\_A\\_G'\n",
       "\\item '8:28236161\\_C\\_G'\n",
       "\\item '8:28237827\\_C\\_T'\n",
       "\\item '8:28240092\\_A\\_C'\n",
       "\\item '8:28240782\\_A\\_G'\n",
       "\\item '8:28242622\\_C\\_T'\n",
       "\\item '8:28244673\\_C\\_G'\n",
       "\\item '8:28246939\\_G\\_T'\n",
       "\\item '8:28250306\\_G\\_T'\n",
       "\\item '8:28250401\\_C\\_T'\n",
       "\\item '8:28250816\\_A\\_G'\n",
       "\\item '8:28252162\\_C\\_T'\n",
       "\\item '8:28257804\\_A\\_G'\n",
       "\\item '8:28257993\\_A\\_G'\n",
       "\\item '8:28259596\\_G\\_T'\n",
       "\\item '8:28259981\\_C\\_T'\n",
       "\\item '8:28263532\\_C\\_T'\n",
       "\\item '8:28264645\\_C\\_G'\n",
       "\\item '8:28265314\\_A\\_G'\n",
       "\\item '8:28267420\\_A\\_G'\n",
       "\\item '8:28269582\\_C\\_G'\n",
       "\\item '8:28272574\\_A\\_G'\n",
       "\\end{enumerate*}\n"
      ],
      "text/markdown": [
       "1. '8:27236228_A_G'\n",
       "2. '8:27236505_A_C'\n",
       "3. '8:27237041_A_G'\n",
       "4. '8:27237206_A_G'\n",
       "5. '8:27238826_A_G'\n",
       "6. '8:27239258_C_T'\n",
       "7. '8:27240166_A_G'\n",
       "8. '8:27240555_A_C'\n",
       "9. '8:27240698_A_G'\n",
       "10. '8:27241082_A_G'\n",
       "11. '8:27241353_C_T'\n",
       "12. '8:27242622_A_T'\n",
       "13. '8:27243595_A_G'\n",
       "14. '8:27246778_A_G'\n",
       "15. '8:27247298_C_T'\n",
       "16. '8:27247339_A_G'\n",
       "17. '8:27247647_C_T'\n",
       "18. '8:27247662_C_G'\n",
       "19. '8:27248561_G_T'\n",
       "20. '8:27248573_A_T'\n",
       "21. '8:27248667_A_G'\n",
       "22. '8:27248762_C_T'\n",
       "23. '8:27248894_A_G'\n",
       "24. '8:27248985_C_G'\n",
       "25. '8:27249077_C_T'\n",
       "26. '8:27249328_C_G'\n",
       "27. '8:27249458_A_G'\n",
       "28. '8:27250821_C_T'\n",
       "29. '8:27250933_A_G'\n",
       "30. '8:27251051_C_T'\n",
       "31. '8:27251546_C_G'\n",
       "32. '8:27252633_C_T'\n",
       "33. '8:27252746_C_G'\n",
       "34. '8:27252881_A_G'\n",
       "35. '8:27253951_A_G'\n",
       "36. '8:27254113_G_T'\n",
       "37. '8:27255003_A_G'\n",
       "38. '8:27255128_C_T'\n",
       "39. '8:27255146_A_G'\n",
       "40. '8:27256263_C_T'\n",
       "41. '8:27256314_C_G'\n",
       "42. '8:27256359_A_G'\n",
       "43. '8:27256918_A_G'\n",
       "44. '8:27257787_G_T'\n",
       "45. '8:27258086_A_G'\n",
       "46. '8:27258195_A_G'\n",
       "47. '8:27258313_A_G'\n",
       "48. '8:27258634_C_T'\n",
       "49. '8:27259426_A_G'\n",
       "50. '8:27260404_G_T'\n",
       "51. '8:27260813_A_G'\n",
       "52. '8:27261815_A_G'\n",
       "53. '8:27262195_C_T'\n",
       "54. '8:27263433_G_T'\n",
       "55. '8:27264245_A_C'\n",
       "56. '8:27264952_A_G'\n",
       "57. '8:27265065_A_G'\n",
       "58. '8:27265371_C_T'\n",
       "59. '8:27266465_C_T'\n",
       "60. '8:27268168_C_T'\n",
       "61. '8:27269416_C_T'\n",
       "62. '8:27269572_C_G'\n",
       "63. '8:27269607_A_G'\n",
       "64. '8:27269743_C_T'\n",
       "65. '8:27269884_G_T'\n",
       "66. '8:27270483_A_T'\n",
       "67. '8:27272121_C_G'\n",
       "68. '8:27272123_C_G'\n",
       "69. '8:27272585_A_G'\n",
       "70. '8:27273348_C_T'\n",
       "71. '8:27273630_A_C'\n",
       "72. '8:27274243_C_T'\n",
       "73. '8:27274431_A_G'\n",
       "74. '8:27274631_G_T'\n",
       "75. '8:27274724_A_G'\n",
       "76. '8:27274931_C_T'\n",
       "77. '8:27275294_A_G'\n",
       "78. '8:27275352_A_G'\n",
       "79. '8:27275509_A_G'\n",
       "80. '8:27275518_A_G'\n",
       "81. '8:27275649_G_T'\n",
       "82. '8:27275794_C_T'\n",
       "83. '8:27275904_C_T'\n",
       "84. '8:27276111_C_T'\n",
       "85. '8:27276209_C_T'\n",
       "86. '8:27276526_A_C'\n",
       "87. '8:27276705_A_G'\n",
       "88. '8:27277537_A_G'\n",
       "89. '8:27277642_A_G'\n",
       "90. '8:27278031_A_G'\n",
       "91. '8:27279400_A_C'\n",
       "92. '8:27281267_A_G'\n",
       "93. '8:27281896_C_T'\n",
       "94. '8:27281912_A_G'\n",
       "95. '8:27282771_G_T'\n",
       "96. '8:27284394_A_G'\n",
       "97. '8:27285178_A_G'\n",
       "98. '8:27285533_A_G'\n",
       "99. '8:27285725_C_G'\n",
       "100. '8:27286379_A_G'\n",
       "101. '8:27287997_A_T'\n",
       "102. '8:27288033_C_T'\n",
       "103. '8:27288075_A_G'\n",
       "104. '8:27288314_C_T'\n",
       "105. '8:27289126_A_G'\n",
       "106. '8:27289321_C_T'\n",
       "107. '8:27289409_C_G'\n",
       "108. '8:27289412_C_G'\n",
       "109. '8:27289935_C_T'\n",
       "110. '8:27289963_C_T'\n",
       "111. '8:27290018_G_T'\n",
       "112. '8:27290528_A_G'\n",
       "113. '8:27292287_A_G'\n",
       "114. '8:27293989_A_G'\n",
       "115. '8:27294532_C_G'\n",
       "116. '8:27294606_C_G'\n",
       "117. '8:27295109_A_G'\n",
       "118. '8:27296090_A_G'\n",
       "119. '8:27297202_C_T'\n",
       "120. '8:27297594_A_G'\n",
       "121. '8:27297625_C_G'\n",
       "122. '8:27298078_A_G'\n",
       "123. '8:27298409_A_G'\n",
       "124. '8:27299087_A_C'\n",
       "125. '8:27299653_C_G'\n",
       "126. '8:27300088_C_T'\n",
       "127. '8:27300621_A_C'\n",
       "128. '8:27301451_A_G'\n",
       "129. '8:27302433_A_G'\n",
       "130. '8:27303015_C_T'\n",
       "131. '8:27303126_A_G'\n",
       "132. '8:27306159_A_G'\n",
       "133. '8:27306551_A_T'\n",
       "134. '8:27307072_A_G'\n",
       "135. '8:27307275_C_G'\n",
       "136. '8:27308004_A_G'\n",
       "137. '8:27308538_A_G'\n",
       "138. '8:27308849_A_G'\n",
       "139. '8:27309339_C_T'\n",
       "140. '8:27309657_C_T'\n",
       "141. '8:27310546_A_G'\n",
       "142. '8:27311244_A_T'\n",
       "143. '8:27311376_A_G'\n",
       "144. '8:27312135_A_G'\n",
       "145. '8:27312426_A_G'\n",
       "146. '8:27312687_A_T'\n",
       "147. '8:27312809_A_G'\n",
       "148. '8:27313355_A_C'\n",
       "149. '8:27313639_G_T'\n",
       "150. '8:27314819_A_G'\n",
       "151. '8:27315876_A_G'\n",
       "152. '8:27315900_A_G'\n",
       "153. '8:27316117_A_G'\n",
       "154. '8:27317195_A_C'\n",
       "155. '8:27317337_A_G'\n",
       "156. '8:27317762_A_G'\n",
       "157. '8:27318425_A_C'\n",
       "158. '8:27318544_A_G'\n",
       "159. '8:27318635_C_G'\n",
       "160. '8:27319906_A_G'\n",
       "161. '8:27320636_A_G'\n",
       "162. '8:27321189_A_G'\n",
       "163. '8:27321666_C_T'\n",
       "164. '8:27322434_C_G'\n",
       "165. '8:27322872_A_G'\n",
       "166. '8:27322974_A_G'\n",
       "167. '8:27323182_C_G'\n",
       "168. '8:27323391_A_G'\n",
       "169. '8:27323403_A_C'\n",
       "170. '8:27323607_G_T'\n",
       "171. '8:27323726_G_T'\n",
       "172. '8:27323822_A_C'\n",
       "173. '8:27323833_A_G'\n",
       "174. '8:27324367_A_C'\n",
       "175. '8:27324429_C_T'\n",
       "176. '8:27324844_A_G'\n",
       "177. '8:27325257_A_G'\n",
       "178. '8:27325423_A_G'\n",
       "179. '8:27325473_A_C'\n",
       "180. '8:27325940_A_G'\n",
       "181. '8:27327841_C_G'\n",
       "182. '8:27328021_A_G'\n",
       "183. '8:27328127_C_G'\n",
       "184. '8:27328409_A_G'\n",
       "185. '8:27328511_A_G'\n",
       "186. '8:27330791_C_T'\n",
       "187. '8:27330813_C_T'\n",
       "188. '8:27331119_A_G'\n",
       "189. '8:27331277_C_T'\n",
       "190. '8:27334379_A_G'\n",
       "191. '8:27335734_C_T'\n",
       "192. '8:27335898_A_T'\n",
       "193. '8:27336628_A_G'\n",
       "194. '8:27336767_A_T'\n",
       "195. '8:27336978_A_G'\n",
       "196. '8:27337227_A_G'\n",
       "197. '8:27337896_A_T'\n",
       "198. '8:27338347_A_C'\n",
       "199. '8:27338359_A_G'\n",
       "200. '8:27338762_C_G'\n",
       "201. ⋯\n",
       "202. '8:28124713_G_T'\n",
       "203. '8:28125391_A_G'\n",
       "204. '8:28127172_A_G'\n",
       "205. '8:28127281_G_T'\n",
       "206. '8:28127294_A_G'\n",
       "207. '8:28127385_A_G'\n",
       "208. '8:28128086_C_T'\n",
       "209. '8:28128260_A_G'\n",
       "210. '8:28128777_C_T'\n",
       "211. '8:28128784_C_T'\n",
       "212. '8:28128861_C_T'\n",
       "213. '8:28129261_A_G'\n",
       "214. '8:28129693_C_T'\n",
       "215. '8:28129827_C_G'\n",
       "216. '8:28130109_C_T'\n",
       "217. '8:28130619_A_G'\n",
       "218. '8:28130948_A_C'\n",
       "219. '8:28131298_C_T'\n",
       "220. '8:28131356_C_G'\n",
       "221. '8:28131501_A_G'\n",
       "222. '8:28132122_G_T'\n",
       "223. '8:28132448_C_T'\n",
       "224. '8:28133673_A_T'\n",
       "225. '8:28133675_G_T'\n",
       "226. '8:28134035_A_G'\n",
       "227. '8:28134288_C_T'\n",
       "228. '8:28135397_C_T'\n",
       "229. '8:28135494_G_T'\n",
       "230. '8:28135510_A_T'\n",
       "231. '8:28135623_A_C'\n",
       "232. '8:28135690_A_G'\n",
       "233. '8:28135749_A_G'\n",
       "234. '8:28136136_C_T'\n",
       "235. '8:28137261_C_T'\n",
       "236. '8:28137308_C_T'\n",
       "237. '8:28137935_A_C'\n",
       "238. '8:28138834_C_T'\n",
       "239. '8:28139399_A_C'\n",
       "240. '8:28140103_A_C'\n",
       "241. '8:28140302_A_G'\n",
       "242. '8:28141768_C_T'\n",
       "243. '8:28142324_C_T'\n",
       "244. '8:28143259_A_C'\n",
       "245. '8:28144790_C_T'\n",
       "246. '8:28145649_A_G'\n",
       "247. '8:28146024_A_G'\n",
       "248. '8:28146055_C_T'\n",
       "249. '8:28146297_G_T'\n",
       "250. '8:28146611_A_C'\n",
       "251. '8:28146700_A_G'\n",
       "252. '8:28146711_C_T'\n",
       "253. '8:28146753_C_T'\n",
       "254. '8:28147240_C_T'\n",
       "255. '8:28147852_C_T'\n",
       "256. '8:28148113_A_C'\n",
       "257. '8:28148854_C_T'\n",
       "258. '8:28149815_A_T'\n",
       "259. '8:28151129_C_T'\n",
       "260. '8:28152308_C_T'\n",
       "261. '8:28152818_A_G'\n",
       "262. '8:28153802_A_G'\n",
       "263. '8:28154151_A_G'\n",
       "264. '8:28154696_C_T'\n",
       "265. '8:28156130_C_G'\n",
       "266. '8:28156456_A_G'\n",
       "267. '8:28157518_G_T'\n",
       "268. '8:28158166_A_G'\n",
       "269. '8:28158352_A_G'\n",
       "270. '8:28158490_A_G'\n",
       "271. '8:28159264_A_C'\n",
       "272. '8:28160577_A_G'\n",
       "273. '8:28162012_C_T'\n",
       "274. '8:28163935_C_T'\n",
       "275. '8:28163980_A_G'\n",
       "276. '8:28164690_A_C'\n",
       "277. '8:28164771_A_G'\n",
       "278. '8:28165158_A_G'\n",
       "279. '8:28165812_C_G'\n",
       "280. '8:28166098_G_T'\n",
       "281. '8:28166416_C_T'\n",
       "282. '8:28166651_C_T'\n",
       "283. '8:28167093_A_G'\n",
       "284. '8:28167447_C_T'\n",
       "285. '8:28167580_A_C'\n",
       "286. '8:28167640_A_G'\n",
       "287. '8:28167726_A_G'\n",
       "288. '8:28167784_A_T'\n",
       "289. '8:28168659_A_G'\n",
       "290. '8:28168851_C_T'\n",
       "291. '8:28168886_A_C'\n",
       "292. '8:28168959_A_G'\n",
       "293. '8:28169230_A_G'\n",
       "294. '8:28170530_A_G'\n",
       "295. '8:28170880_G_T'\n",
       "296. '8:28170930_A_G'\n",
       "297. '8:28171539_A_T'\n",
       "298. '8:28172290_G_T'\n",
       "299. '8:28172396_C_T'\n",
       "300. '8:28172490_C_T'\n",
       "301. '8:28172498_A_G'\n",
       "302. '8:28172622_A_G'\n",
       "303. '8:28172668_A_G'\n",
       "304. '8:28173197_A_G'\n",
       "305. '8:28173751_A_C'\n",
       "306. '8:28173809_A_C'\n",
       "307. '8:28175090_A_G'\n",
       "308. '8:28175981_C_T'\n",
       "309. '8:28179984_A_G'\n",
       "310. '8:28180868_A_G'\n",
       "311. '8:28181512_C_G'\n",
       "312. '8:28183219_C_G'\n",
       "313. '8:28183666_A_C'\n",
       "314. '8:28183832_A_G'\n",
       "315. '8:28184320_C_T'\n",
       "316. '8:28184432_A_G'\n",
       "317. '8:28184576_G_T'\n",
       "318. '8:28184608_A_G'\n",
       "319. '8:28184765_C_G'\n",
       "320. '8:28184991_A_G'\n",
       "321. '8:28185058_A_G'\n",
       "322. '8:28185079_A_T'\n",
       "323. '8:28185145_A_G'\n",
       "324. '8:28185537_A_G'\n",
       "325. '8:28186096_C_T'\n",
       "326. '8:28186607_C_T'\n",
       "327. '8:28187409_A_G'\n",
       "328. '8:28187760_G_T'\n",
       "329. '8:28187935_G_T'\n",
       "330. '8:28188633_C_T'\n",
       "331. '8:28189027_A_G'\n",
       "332. '8:28190036_A_G'\n",
       "333. '8:28190801_A_T'\n",
       "334. '8:28191107_C_T'\n",
       "335. '8:28191306_A_C'\n",
       "336. '8:28191506_C_T'\n",
       "337. '8:28192291_A_G'\n",
       "338. '8:28192545_A_G'\n",
       "339. '8:28193489_A_G'\n",
       "340. '8:28193653_C_T'\n",
       "341. '8:28193963_A_G'\n",
       "342. '8:28194097_A_G'\n",
       "343. '8:28194396_C_G'\n",
       "344. '8:28194488_A_G'\n",
       "345. '8:28194579_A_T'\n",
       "346. '8:28194597_C_G'\n",
       "347. '8:28194892_C_T'\n",
       "348. '8:28195763_A_G'\n",
       "349. '8:28195931_A_C'\n",
       "350. '8:28197642_A_G'\n",
       "351. '8:28198159_C_T'\n",
       "352. '8:28198716_A_G'\n",
       "353. '8:28198750_A_G'\n",
       "354. '8:28198944_A_G'\n",
       "355. '8:28199370_A_G'\n",
       "356. '8:28199864_C_T'\n",
       "357. '8:28200494_A_C'\n",
       "358. '8:28200513_A_G'\n",
       "359. '8:28201259_A_C'\n",
       "360. '8:28201643_A_G'\n",
       "361. '8:28202936_C_T'\n",
       "362. '8:28203937_G_T'\n",
       "363. '8:28206275_C_G'\n",
       "364. '8:28207475_A_G'\n",
       "365. '8:28212636_A_T'\n",
       "366. '8:28214096_C_T'\n",
       "367. '8:28215161_A_G'\n",
       "368. '8:28215776_A_G'\n",
       "369. '8:28221097_C_T'\n",
       "370. '8:28222586_C_G'\n",
       "371. '8:28226017_A_G'\n",
       "372. '8:28226097_C_T'\n",
       "373. '8:28227281_A_G'\n",
       "374. '8:28231221_C_T'\n",
       "375. '8:28231269_C_T'\n",
       "376. '8:28231286_C_G'\n",
       "377. '8:28232572_C_T'\n",
       "378. '8:28233423_A_G'\n",
       "379. '8:28234284_A_C'\n",
       "380. '8:28235793_A_G'\n",
       "381. '8:28236161_C_G'\n",
       "382. '8:28237827_C_T'\n",
       "383. '8:28240092_A_C'\n",
       "384. '8:28240782_A_G'\n",
       "385. '8:28242622_C_T'\n",
       "386. '8:28244673_C_G'\n",
       "387. '8:28246939_G_T'\n",
       "388. '8:28250306_G_T'\n",
       "389. '8:28250401_C_T'\n",
       "390. '8:28250816_A_G'\n",
       "391. '8:28252162_C_T'\n",
       "392. '8:28257804_A_G'\n",
       "393. '8:28257993_A_G'\n",
       "394. '8:28259596_G_T'\n",
       "395. '8:28259981_C_T'\n",
       "396. '8:28263532_C_T'\n",
       "397. '8:28264645_C_G'\n",
       "398. '8:28265314_A_G'\n",
       "399. '8:28267420_A_G'\n",
       "400. '8:28269582_C_G'\n",
       "401. '8:28272574_A_G'\n",
       "\n",
       "\n"
      ],
      "text/plain": [
       "   [1] \"8:27236228_A_G\" \"8:27236505_A_C\" \"8:27237041_A_G\" \"8:27237206_A_G\"\n",
       "   [5] \"8:27238826_A_G\" \"8:27239258_C_T\" \"8:27240166_A_G\" \"8:27240555_A_C\"\n",
       "   [9] \"8:27240698_A_G\" \"8:27241082_A_G\" \"8:27241353_C_T\" \"8:27242622_A_T\"\n",
       "  [13] \"8:27243595_A_G\" \"8:27246778_A_G\" \"8:27247298_C_T\" \"8:27247339_A_G\"\n",
       "  [17] \"8:27247647_C_T\" \"8:27247662_C_G\" \"8:27248561_G_T\" \"8:27248573_A_T\"\n",
       "  [21] \"8:27248667_A_G\" \"8:27248762_C_T\" \"8:27248894_A_G\" \"8:27248985_C_G\"\n",
       "  [25] \"8:27249077_C_T\" \"8:27249328_C_G\" \"8:27249458_A_G\" \"8:27250821_C_T\"\n",
       "  [29] \"8:27250933_A_G\" \"8:27251051_C_T\" \"8:27251546_C_G\" \"8:27252633_C_T\"\n",
       "  [33] \"8:27252746_C_G\" \"8:27252881_A_G\" \"8:27253951_A_G\" \"8:27254113_G_T\"\n",
       "  [37] \"8:27255003_A_G\" \"8:27255128_C_T\" \"8:27255146_A_G\" \"8:27256263_C_T\"\n",
       "  [41] \"8:27256314_C_G\" \"8:27256359_A_G\" \"8:27256918_A_G\" \"8:27257787_G_T\"\n",
       "  [45] \"8:27258086_A_G\" \"8:27258195_A_G\" \"8:27258313_A_G\" \"8:27258634_C_T\"\n",
       "  [49] \"8:27259426_A_G\" \"8:27260404_G_T\" \"8:27260813_A_G\" \"8:27261815_A_G\"\n",
       "  [53] \"8:27262195_C_T\" \"8:27263433_G_T\" \"8:27264245_A_C\" \"8:27264952_A_G\"\n",
       "  [57] \"8:27265065_A_G\" \"8:27265371_C_T\" \"8:27266465_C_T\" \"8:27268168_C_T\"\n",
       "  [61] \"8:27269416_C_T\" \"8:27269572_C_G\" \"8:27269607_A_G\" \"8:27269743_C_T\"\n",
       "  [65] \"8:27269884_G_T\" \"8:27270483_A_T\" \"8:27272121_C_G\" \"8:27272123_C_G\"\n",
       "  [69] \"8:27272585_A_G\" \"8:27273348_C_T\" \"8:27273630_A_C\" \"8:27274243_C_T\"\n",
       "  [73] \"8:27274431_A_G\" \"8:27274631_G_T\" \"8:27274724_A_G\" \"8:27274931_C_T\"\n",
       "  [77] \"8:27275294_A_G\" \"8:27275352_A_G\" \"8:27275509_A_G\" \"8:27275518_A_G\"\n",
       "  [81] \"8:27275649_G_T\" \"8:27275794_C_T\" \"8:27275904_C_T\" \"8:27276111_C_T\"\n",
       "  [85] \"8:27276209_C_T\" \"8:27276526_A_C\" \"8:27276705_A_G\" \"8:27277537_A_G\"\n",
       "  [89] \"8:27277642_A_G\" \"8:27278031_A_G\" \"8:27279400_A_C\" \"8:27281267_A_G\"\n",
       "  [93] \"8:27281896_C_T\" \"8:27281912_A_G\" \"8:27282771_G_T\" \"8:27284394_A_G\"\n",
       "  [97] \"8:27285178_A_G\" \"8:27285533_A_G\" \"8:27285725_C_G\" \"8:27286379_A_G\"\n",
       " [101] \"8:27287997_A_T\" \"8:27288033_C_T\" \"8:27288075_A_G\" \"8:27288314_C_T\"\n",
       " [105] \"8:27289126_A_G\" \"8:27289321_C_T\" \"8:27289409_C_G\" \"8:27289412_C_G\"\n",
       " [109] \"8:27289935_C_T\" \"8:27289963_C_T\" \"8:27290018_G_T\" \"8:27290528_A_G\"\n",
       " [113] \"8:27292287_A_G\" \"8:27293989_A_G\" \"8:27294532_C_G\" \"8:27294606_C_G\"\n",
       " [117] \"8:27295109_A_G\" \"8:27296090_A_G\" \"8:27297202_C_T\" \"8:27297594_A_G\"\n",
       " [121] \"8:27297625_C_G\" \"8:27298078_A_G\" \"8:27298409_A_G\" \"8:27299087_A_C\"\n",
       " [125] \"8:27299653_C_G\" \"8:27300088_C_T\" \"8:27300621_A_C\" \"8:27301451_A_G\"\n",
       " [129] \"8:27302433_A_G\" \"8:27303015_C_T\" \"8:27303126_A_G\" \"8:27306159_A_G\"\n",
       " [133] \"8:27306551_A_T\" \"8:27307072_A_G\" \"8:27307275_C_G\" \"8:27308004_A_G\"\n",
       " [137] \"8:27308538_A_G\" \"8:27308849_A_G\" \"8:27309339_C_T\" \"8:27309657_C_T\"\n",
       " [141] \"8:27310546_A_G\" \"8:27311244_A_T\" \"8:27311376_A_G\" \"8:27312135_A_G\"\n",
       " [145] \"8:27312426_A_G\" \"8:27312687_A_T\" \"8:27312809_A_G\" \"8:27313355_A_C\"\n",
       " [149] \"8:27313639_G_T\" \"8:27314819_A_G\" \"8:27315876_A_G\" \"8:27315900_A_G\"\n",
       " [153] \"8:27316117_A_G\" \"8:27317195_A_C\" \"8:27317337_A_G\" \"8:27317762_A_G\"\n",
       " [157] \"8:27318425_A_C\" \"8:27318544_A_G\" \"8:27318635_C_G\" \"8:27319906_A_G\"\n",
       " [161] \"8:27320636_A_G\" \"8:27321189_A_G\" \"8:27321666_C_T\" \"8:27322434_C_G\"\n",
       " [165] \"8:27322872_A_G\" \"8:27322974_A_G\" \"8:27323182_C_G\" \"8:27323391_A_G\"\n",
       " [169] \"8:27323403_A_C\" \"8:27323607_G_T\" \"8:27323726_G_T\" \"8:27323822_A_C\"\n",
       " [173] \"8:27323833_A_G\" \"8:27324367_A_C\" \"8:27324429_C_T\" \"8:27324844_A_G\"\n",
       " [177] \"8:27325257_A_G\" \"8:27325423_A_G\" \"8:27325473_A_C\" \"8:27325940_A_G\"\n",
       " [181] \"8:27327841_C_G\" \"8:27328021_A_G\" \"8:27328127_C_G\" \"8:27328409_A_G\"\n",
       " [185] \"8:27328511_A_G\" \"8:27330791_C_T\" \"8:27330813_C_T\" \"8:27331119_A_G\"\n",
       " [189] \"8:27331277_C_T\" \"8:27334379_A_G\" \"8:27335734_C_T\" \"8:27335898_A_T\"\n",
       " [193] \"8:27336628_A_G\" \"8:27336767_A_T\" \"8:27336978_A_G\" \"8:27337227_A_G\"\n",
       " [197] \"8:27337896_A_T\" \"8:27338347_A_C\" \"8:27338359_A_G\" \"8:27338762_C_G\"\n",
       " [201] \"8:27339354_C_T\" \"8:27341178_A_G\" \"8:27342353_C_T\" \"8:27344198_C_T\"\n",
       " [205] \"8:27344360_G_T\" \"8:27344719_A_G\" \"8:27344983_A_G\" \"8:27345426_C_T\"\n",
       " [209] \"8:27347194_C_T\" \"8:27347734_A_C\" \"8:27348195_A_G\" \"8:27348387_A_G\"\n",
       " [213] \"8:27349838_C_T\" \"8:27350114_A_G\" \"8:27350564_A_G\" \"8:27350981_C_T\"\n",
       " [217] \"8:27351165_C_G\" \"8:27351738_A_G\" \"8:27352150_C_T\" \"8:27352231_C_T\"\n",
       " [221] \"8:27354379_C_T\" \"8:27354611_C_T\" \"8:27355130_C_T\" \"8:27356816_C_G\"\n",
       " [225] \"8:27357279_C_T\" \"8:27362142_C_T\" \"8:27363624_A_G\" \"8:27364957_A_G\"\n",
       " [229] \"8:27365430_A_C\" \"8:27365502_A_G\" \"8:27365888_C_T\" \"8:27366152_G_T\"\n",
       " [233] \"8:27366287_A_G\" \"8:27366401_C_G\" \"8:27366537_A_G\" \"8:27367309_C_G\"\n",
       " [237] \"8:27367641_G_T\" \"8:27367839_A_G\" \"8:27368768_A_G\" \"8:27371546_C_T\"\n",
       " [241] \"8:27371577_A_G\" \"8:27371608_A_G\" \"8:27372189_A_G\" \"8:27373865_A_G\"\n",
       " [245] \"8:27373923_C_T\" \"8:27378633_C_T\" \"8:27380393_A_G\" \"8:27380763_A_G\"\n",
       " [249] \"8:27381194_C_G\" \"8:27381642_A_G\" \"8:27384876_C_T\" \"8:27386438_A_G\"\n",
       " [253] \"8:27387872_A_G\" \"8:27388199_A_G\" \"8:27388408_A_G\" \"8:27389167_A_G\"\n",
       " [257] \"8:27389457_A_G\" \"8:27389523_A_G\" \"8:27389542_C_T\" \"8:27389631_A_G\"\n",
       " [261] \"8:27390028_A_G\" \"8:27390192_A_G\" \"8:27390246_G_T\" \"8:27390494_G_T\"\n",
       " [265] \"8:27391365_A_G\" \"8:27391620_C_G\" \"8:27392395_C_T\" \"8:27392944_A_G\"\n",
       " [269] \"8:27393053_C_T\" \"8:27393066_A_G\" \"8:27393220_G_T\" \"8:27394539_A_G\"\n",
       " [273] \"8:27394724_C_G\" \"8:27394957_A_C\" \"8:27394982_A_G\" \"8:27395249_C_T\"\n",
       " [277] \"8:27396208_A_G\" \"8:27396523_C_T\" \"8:27397157_C_T\" \"8:27398432_C_T\"\n",
       " [281] \"8:27399518_C_G\" \"8:27400068_A_G\" \"8:27400540_A_G\" \"8:27400903_G_T\"\n",
       " [285] \"8:27401142_A_G\" \"8:27402132_C_T\" \"8:27402664_A_G\" \"8:27402777_A_G\"\n",
       " [289] \"8:27403730_A_G\" \"8:27404125_A_G\" \"8:27404137_A_G\" \"8:27405338_C_T\"\n",
       " [293] \"8:27405517_C_G\" \"8:27405616_A_G\" \"8:27405990_A_G\" \"8:27406197_A_G\"\n",
       " [297] \"8:27407312_A_G\" \"8:27407375_C_T\" \"8:27407629_C_T\" \"8:27407825_A_G\"\n",
       " [301] \"8:27408899_A_C\" \"8:27409037_A_G\" \"8:27409596_G_T\" \"8:27409864_A_G\"\n",
       " [305] \"8:27411100_G_T\" \"8:27411204_A_C\" \"8:27411874_A_G\" \"8:27412532_C_T\"\n",
       " [309] \"8:27412798_C_G\" \"8:27412953_A_G\" \"8:27413421_G_T\" \"8:27413492_A_G\"\n",
       " [313] \"8:27413504_A_G\" \"8:27413835_A_G\" \"8:27414024_A_G\" \"8:27415304_A_C\"\n",
       " [317] \"8:27415476_C_T\" \"8:27415576_A_G\" \"8:27415759_A_C\" \"8:27415818_A_G\"\n",
       " [321] \"8:27416526_A_C\" \"8:27416801_A_G\" \"8:27417024_A_G\" \"8:27417341_A_G\"\n",
       " [325] \"8:27417368_C_G\" \"8:27417422_A_G\" \"8:27417519_A_G\" \"8:27418040_A_C\"\n",
       " [329] \"8:27418233_A_C\" \"8:27418497_A_T\" \"8:27419320_A_T\" \"8:27419737_A_C\"\n",
       " [333] \"8:27420633_A_G\" \"8:27421301_A_G\" \"8:27422244_C_T\" \"8:27422249_A_T\"\n",
       " [337] \"8:27422250_A_C\" \"8:27422669_C_T\" \"8:27422740_A_G\" \"8:27423062_C_G\"\n",
       " [341] \"8:27423441_C_T\" \"8:27424187_G_T\" \"8:27424988_A_G\" \"8:27425047_A_G\"\n",
       " [345] \"8:27425314_A_G\" \"8:27425523_C_G\" \"8:27426077_A_T\" \"8:27429192_A_G\"\n",
       " [349] \"8:27429282_A_G\" \"8:27429730_A_G\" \"8:27430531_A_G\" \"8:27430572_A_C\"\n",
       " [353] \"8:27434718_A_G\" \"8:27434831_A_C\" \"8:27435201_C_T\" \"8:27436500_A_G\"\n",
       " [357] \"8:27438465_G_T\" \"8:27440714_A_C\" \"8:27440879_A_G\" \"8:27440881_A_G\"\n",
       " [361] \"8:27440917_A_G\" \"8:27440974_A_G\" \"8:27441010_C_T\" \"8:27442064_A_G\"\n",
       " [365] \"8:27442127_A_C\" \"8:27442353_C_T\" \"8:27443389_C_G\" \"8:27444641_C_G\"\n",
       " [369] \"8:27444749_A_G\" \"8:27447438_A_G\" \"8:27448729_C_T\" \"8:27448888_C_T\"\n",
       " [373] \"8:27449192_C_T\" \"8:27450073_A_G\" \"8:27450251_A_G\" \"8:27450535_C_T\"\n",
       " [377] \"8:27452044_G_T\" \"8:27452847_A_G\" \"8:27454089_A_C\" \"8:27454682_A_G\"\n",
       " [381] \"8:27454686_C_T\" \"8:27455442_C_T\" \"8:27458104_C_G\" \"8:27458294_G_T\"\n",
       " [385] \"8:27459161_A_G\" \"8:27459205_A_C\" \"8:27459640_A_G\" \"8:27460185_A_G\"\n",
       " [389] \"8:27460368_C_G\" \"8:27461492_A_C\" \"8:27462481_A_G\" \"8:27464244_C_T\"\n",
       " [393] \"8:27464929_A_G\" \"8:27467392_C_G\" \"8:27467686_C_T\" \"8:27467821_C_G\"\n",
       " [397] \"8:27469536_A_G\" \"8:27470597_A_G\" \"8:27472859_A_C\" \"8:27474871_A_G\"\n",
       " [401] \"8:27476426_A_G\" \"8:27477509_C_T\" \"8:27479103_A_G\" \"8:27479111_A_C\"\n",
       " [405] \"8:27480025_C_T\" \"8:27480210_A_G\" \"8:27480455_A_T\" \"8:27481984_C_T\"\n",
       " [409] \"8:27482354_G_T\" \"8:27483267_A_C\" \"8:27483432_A_G\" \"8:27484476_A_G\"\n",
       " [413] \"8:27484677_A_G\" \"8:27484952_A_G\" \"8:27486916_A_G\" \"8:27487654_C_T\"\n",
       " [417] \"8:27488398_C_G\" \"8:27488689_C_T\" \"8:27489959_C_G\" \"8:27490111_C_T\"\n",
       " [421] \"8:27490800_A_G\" \"8:27491186_C_G\" \"8:27491368_A_C\" \"8:27492135_C_G\"\n",
       " [425] \"8:27493389_G_T\" \"8:27493938_A_G\" \"8:27494295_C_G\" \"8:27494366_C_T\"\n",
       " [429] \"8:27494612_A_G\" \"8:27495266_G_T\" \"8:27495784_C_G\" \"8:27496681_A_C\"\n",
       " [433] \"8:27496791_C_T\" \"8:27497403_C_T\" \"8:27497571_A_G\" \"8:27497592_A_G\"\n",
       " [437] \"8:27498157_A_G\" \"8:27498465_C_T\" \"8:27500427_A_G\" \"8:27503560_A_G\"\n",
       " [441] \"8:27503608_A_G\" \"8:27504228_A_G\" \"8:27504914_A_G\" \"8:27504956_A_G\"\n",
       " [445] \"8:27505135_A_G\" \"8:27505269_G_T\" \"8:27505310_A_T\" \"8:27505866_A_G\"\n",
       " [449] \"8:27505957_C_T\" \"8:27506095_C_T\" \"8:27506205_A_G\" \"8:27506807_G_T\"\n",
       " [453] \"8:27506851_A_G\" \"8:27507000_C_T\" \"8:27507860_A_G\" \"8:27508021_A_G\"\n",
       " [457] \"8:27508226_C_T\" \"8:27508497_A_C\" \"8:27508543_A_G\" \"8:27509153_A_G\"\n",
       " [461] \"8:27510430_C_T\" \"8:27510818_A_C\" \"8:27513031_A_G\" \"8:27513271_A_G\"\n",
       " [465] \"8:27513396_A_G\" \"8:27513473_C_T\" \"8:27513609_A_G\" \"8:27513683_G_T\"\n",
       " [469] \"8:27514027_A_T\" \"8:27514148_A_G\" \"8:27514944_C_G\" \"8:27515230_G_T\"\n",
       " [473] \"8:27515247_C_T\" \"8:27515618_A_G\" \"8:27517821_G_T\" \"8:27518373_A_T\"\n",
       " [477] \"8:27520184_A_G\" \"8:27520756_A_G\" \"8:27520773_A_G\" \"8:27520801_A_G\"\n",
       " [481] \"8:27520922_A_G\" \"8:27522576_A_C\" \"8:27522577_A_G\" \"8:27523634_C_T\"\n",
       " [485] \"8:27524060_A_G\" \"8:27525022_A_G\" \"8:27525354_A_C\" \"8:27525362_C_T\"\n",
       " [489] \"8:27525982_G_T\" \"8:27527595_A_G\" \"8:27527640_A_G\" \"8:27528446_C_T\"\n",
       " [493] \"8:27529060_C_T\" \"8:27529168_C_T\" \"8:27529301_C_T\" \"8:27529639_G_T\"\n",
       " [497] \"8:27529978_A_G\" \"8:27531052_G_T\" \"8:27532438_A_G\" \"8:27532488_C_T\"\n",
       " [501] \"8:27533171_G_T\" \"8:27533337_C_T\" \"8:27534581_C_G\" \"8:27534905_G_T\"\n",
       " [505] \"8:27535230_A_T\" \"8:27536040_A_G\" \"8:27536916_C_T\" \"8:27536934_C_T\"\n",
       " [509] \"8:27537876_A_T\" \"8:27538160_A_G\" \"8:27540498_C_T\" \"8:27540967_A_G\"\n",
       " [513] \"8:27540978_A_C\" \"8:27541460_A_C\" \"8:27542849_A_C\" \"8:27543292_A_C\"\n",
       " [517] \"8:27543293_A_G\" \"8:27544732_C_G\" \"8:27545439_A_G\" \"8:27545761_C_T\"\n",
       " [521] \"8:27546529_A_C\" \"8:27547421_G_T\" \"8:27548977_A_G\" \"8:27549421_C_T\"\n",
       " [525] \"8:27549794_A_G\" \"8:27549902_A_C\" \"8:27549949_A_C\" \"8:27550150_A_G\"\n",
       " [529] \"8:27550191_A_T\" \"8:27550459_C_T\" \"8:27550851_C_G\" \"8:27551740_A_G\"\n",
       " [533] \"8:27554851_C_T\" \"8:27555437_A_G\" \"8:27555559_G_T\" \"8:27556526_A_C\"\n",
       " [537] \"8:27557883_A_G\" \"8:27558138_A_T\" \"8:27558690_C_G\" \"8:27558931_C_T\"\n",
       " [541] \"8:27559214_A_G\" \"8:27560898_A_G\" \"8:27561139_C_G\" \"8:27562211_A_G\"\n",
       " [545] \"8:27564087_A_G\" \"8:27565748_C_T\" \"8:27566514_C_T\" \"8:27566672_C_G\"\n",
       " [549] \"8:27567004_A_G\" \"8:27568534_A_G\" \"8:27568643_C_T\" \"8:27569737_C_T\"\n",
       " [553] \"8:27571360_C_T\" \"8:27571618_A_G\" \"8:27571927_A_G\" \"8:27573149_C_T\"\n",
       " [557] \"8:27573786_C_T\" \"8:27574166_G_T\" \"8:27574677_A_C\" \"8:27574895_A_G\"\n",
       " [561] \"8:27575750_A_G\" \"8:27576660_A_C\" \"8:27578074_A_T\" \"8:27578676_G_T\"\n",
       " [565] \"8:27578860_A_G\" \"8:27579363_A_T\" \"8:27579471_A_T\" \"8:27580039_G_T\"\n",
       " [569] \"8:27581356_A_G\" \"8:27581897_A_G\" \"8:27582162_A_G\" \"8:27582825_C_T\"\n",
       " [573] \"8:27583328_A_C\" \"8:27583744_A_C\" \"8:27587116_C_T\" \"8:27587387_A_G\"\n",
       " [577] \"8:27587944_C_G\" \"8:27589036_A_G\" \"8:27589075_G_T\" \"8:27589928_A_G\"\n",
       " [581] \"8:27589943_C_T\" \"8:27590575_G_T\" \"8:27591261_C_G\" \"8:27591849_A_G\"\n",
       " [585] \"8:27592002_C_T\" \"8:27592828_A_G\" \"8:27593150_A_G\" \"8:27593215_A_G\"\n",
       " [589] \"8:27594779_C_T\" \"8:27595100_C_T\" \"8:27595365_A_G\" \"8:27595627_C_G\"\n",
       " [593] \"8:27595721_C_T\" \"8:27596163_C_T\" \"8:27596426_G_T\" \"8:27598172_A_G\"\n",
       " [597] \"8:27598994_A_G\" \"8:27599514_C_T\" \"8:27599912_A_G\" \"8:27600220_A_G\"\n",
       " [601] \"8:27600250_G_T\" \"8:27600450_A_C\" \"8:27600802_A_C\" \"8:27601280_A_G\"\n",
       " [605] \"8:27601594_A_T\" \"8:27601630_A_G\" \"8:27602239_C_T\" \"8:27602480_A_G\"\n",
       " [609] \"8:27603200_A_G\" \"8:27603665_C_T\" \"8:27604320_C_T\" \"8:27604321_A_G\"\n",
       " [613] \"8:27604755_C_T\" \"8:27605447_A_T\" \"8:27606155_A_G\" \"8:27606535_C_G\"\n",
       " [617] \"8:27607335_A_G\" \"8:27607351_C_G\" \"8:27607616_A_G\" \"8:27607920_A_G\"\n",
       " [621] \"8:27607934_A_G\" \"8:27608179_A_G\" \"8:27608734_A_C\" \"8:27608755_A_G\"\n",
       " [625] \"8:27609268_A_G\" \"8:27609538_A_G\" \"8:27609830_A_G\" \"8:27610510_C_T\"\n",
       " [629] \"8:27612388_C_T\" \"8:27612891_A_C\" \"8:27612911_C_T\" \"8:27613012_C_T\"\n",
       " [633] \"8:27613288_A_G\" \"8:27613316_A_G\" \"8:27615221_G_T\" \"8:27615314_A_G\"\n",
       " [637] \"8:27615336_A_G\" \"8:27615363_C_T\" \"8:27616124_A_G\" \"8:27616260_A_G\"\n",
       " [641] \"8:27616450_C_T\" \"8:27617229_A_G\" \"8:27617373_A_C\" \"8:27617390_C_G\"\n",
       " [645] \"8:27617427_C_T\" \"8:27617875_C_G\" \"8:27618385_C_G\" \"8:27618791_A_G\"\n",
       " [649] \"8:27619691_C_G\" \"8:27620055_A_G\" \"8:27620105_A_G\" \"8:27620396_C_T\"\n",
       " [653] \"8:27620730_C_T\" \"8:27621127_C_T\" \"8:27622508_A_C\" \"8:27623295_C_G\"\n",
       " [657] \"8:27623549_A_G\" \"8:27624163_A_T\" \"8:27624525_A_G\" \"8:27625201_A_G\"\n",
       " [661] \"8:27625675_A_G\" \"8:27625808_A_G\" \"8:27625974_A_C\" \"8:27627561_A_T\"\n",
       " [665] \"8:27627843_C_T\" \"8:27628308_A_T\" \"8:27628519_A_G\" \"8:27628705_C_T\"\n",
       " [669] \"8:27628718_C_T\" \"8:27629805_A_G\" \"8:27630131_A_C\" \"8:27630231_C_G\"\n",
       " [673] \"8:27630243_C_T\" \"8:27631384_C_T\" \"8:27631647_C_T\" \"8:27631719_A_G\"\n",
       " [677] \"8:27631990_A_G\" \"8:27633237_A_G\" \"8:27635142_G_T\" \"8:27635860_A_G\"\n",
       " [681] \"8:27637138_A_G\" \"8:27637508_A_G\" \"8:27638585_C_T\" \"8:27640368_A_G\"\n",
       " [685] \"8:27640383_C_T\" \"8:27641195_A_G\" \"8:27642905_C_T\" \"8:27643527_A_G\"\n",
       " [689] \"8:27643848_A_G\" \"8:27644388_C_T\" \"8:27644513_A_G\" \"8:27645026_C_T\"\n",
       " [693] \"8:27645704_C_T\" \"8:27646945_G_T\" \"8:27647947_A_G\" \"8:27648140_C_T\"\n",
       " [697] \"8:27648966_C_T\" \"8:27651795_A_G\" \"8:27652029_A_G\" \"8:27652286_G_T\"\n",
       " [701] \"8:27652516_A_G\" \"8:27653126_A_C\" \"8:27653339_A_G\" \"8:27654925_A_G\"\n",
       " [705] \"8:27655773_C_G\" \"8:27655794_C_G\" \"8:27655931_A_G\" \"8:27657349_C_T\"\n",
       " [709] \"8:27658491_A_G\" \"8:27658980_G_T\" \"8:27658995_C_T\" \"8:27659218_A_G\"\n",
       " [713] \"8:27659601_A_G\" \"8:27660055_C_T\" \"8:27660331_A_T\" \"8:27660454_A_G\"\n",
       " [717] \"8:27660493_A_G\" \"8:27661318_A_C\" \"8:27661380_A_G\" \"8:27663776_C_G\"\n",
       " [721] \"8:27663921_A_G\" \"8:27663965_C_T\" \"8:27664325_A_G\" \"8:27664329_C_T\"\n",
       " [725] \"8:27664572_C_T\" \"8:27664686_A_G\" \"8:27665263_C_T\" \"8:27665518_C_T\"\n",
       " [729] \"8:27667006_C_T\" \"8:27667035_C_T\" \"8:27669206_C_T\" \"8:27669365_A_T\"\n",
       " [733] \"8:27669392_A_G\" \"8:27669514_A_G\" \"8:27669686_A_G\" \"8:27669791_C_T\"\n",
       " [737] \"8:27670157_A_C\" \"8:27670457_C_T\" \"8:27670462_C_T\" \"8:27670687_C_G\"\n",
       " [741] \"8:27671075_C_T\" \"8:27671398_A_G\" \"8:27671845_A_G\" \"8:27671911_C_T\"\n",
       " [745] \"8:27671965_C_T\" \"8:27672583_C_T\" \"8:27673404_A_G\" \"8:27673490_A_T\"\n",
       " [749] \"8:27673713_C_T\" \"8:27674788_C_T\" \"8:27675250_A_T\" \"8:27675369_A_G\"\n",
       " [753] \"8:27675727_A_G\" \"8:27675996_A_C\" \"8:27676037_C_T\" \"8:27676378_G_T\"\n",
       " [757] \"8:27676815_A_G\" \"8:27676897_A_G\" \"8:27676992_A_G\" \"8:27677665_A_C\"\n",
       " [761] \"8:27678501_C_T\" \"8:27678802_A_G\" \"8:27678967_C_T\" \"8:27679593_C_T\"\n",
       " [765] \"8:27679981_C_T\" \"8:27680809_A_T\" \"8:27680950_A_G\" \"8:27680971_A_G\"\n",
       " [769] \"8:27681035_C_T\" \"8:27683627_C_T\" \"8:27684009_G_T\" \"8:27684550_G_T\"\n",
       " [773] \"8:27685028_A_T\" \"8:27685967_C_T\" \"8:27686438_C_T\" \"8:27686660_C_T\"\n",
       " [777] \"8:27686746_C_T\" \"8:27687278_A_G\" \"8:27687606_A_G\" \"8:27688124_A_G\"\n",
       " [781] \"8:27688269_A_T\" \"8:27688313_C_G\" \"8:27688599_A_G\" \"8:27689681_G_T\"\n",
       " [785] \"8:27689714_A_G\" \"8:27689968_A_G\" \"8:27690211_C_T\" \"8:27690213_A_G\"\n",
       " [789] \"8:27691001_A_G\" \"8:27691021_C_T\" \"8:27691207_C_T\" \"8:27691736_G_T\"\n",
       " [793] \"8:27691854_G_T\" \"8:27692879_A_G\" \"8:27693313_A_G\" \"8:27693492_A_T\"\n",
       " [797] \"8:27693769_A_G\" \"8:27693783_C_G\" \"8:27696207_A_G\" \"8:27696831_A_G\"\n",
       " [801] \"8:27696981_A_C\" \"8:27697043_C_G\" \"8:27698237_A_G\" \"8:27699353_C_T\"\n",
       " [805] \"8:27699715_A_C\" \"8:27700001_C_G\" \"8:27700045_A_C\" \"8:27700609_A_G\"\n",
       " [809] \"8:27700645_C_T\" \"8:27701601_A_T\" \"8:27702635_C_T\" \"8:27703146_A_G\"\n",
       " [813] \"8:27703392_G_T\" \"8:27704027_A_G\" \"8:27705401_A_C\" \"8:27705878_A_G\"\n",
       " [817] \"8:27705879_A_G\" \"8:27705920_A_G\" \"8:27706155_A_C\" \"8:27706211_A_G\"\n",
       " [821] \"8:27706212_G_T\" \"8:27706288_A_C\" \"8:27706333_C_T\" \"8:27707046_C_T\"\n",
       " [825] \"8:27707078_A_G\" \"8:27707690_A_G\" \"8:27707720_A_C\" \"8:27707899_G_T\"\n",
       " [829] \"8:27708284_A_G\" \"8:27708340_C_T\" \"8:27708522_C_T\" \"8:27708617_C_T\"\n",
       " [833] \"8:27708638_C_T\" \"8:27710261_A_G\" \"8:27710502_C_T\" \"8:27710767_C_T\"\n",
       " [837] \"8:27710794_A_T\" \"8:27711232_G_T\" \"8:27711338_C_T\" \"8:27711377_A_G\"\n",
       " [841] \"8:27711793_A_G\" \"8:27712236_A_G\" \"8:27712744_C_T\" \"8:27712758_C_T\"\n",
       " [845] \"8:27713042_G_T\" \"8:27713170_C_T\" \"8:27713351_C_G\" \"8:27713426_G_T\"\n",
       " [849] \"8:27713447_G_T\" \"8:27713648_A_G\" \"8:27714179_C_T\" \"8:27714600_G_T\"\n",
       " [853] \"8:27714736_A_G\" \"8:27714922_C_T\" \"8:27715116_C_T\" \"8:27715284_A_G\"\n",
       " [857] \"8:27715717_A_G\" \"8:27715836_C_G\" \"8:27716027_A_C\" \"8:27716308_C_T\"\n",
       " [861] \"8:27716355_C_G\" \"8:27716464_G_T\" \"8:27716601_C_T\" \"8:27717136_C_T\"\n",
       " [865] \"8:27717160_C_T\" \"8:27717606_C_T\" \"8:27718096_A_G\" \"8:27718300_A_G\"\n",
       " [869] \"8:27719786_C_G\" \"8:27720309_G_T\" \"8:27720371_G_T\" \"8:27720496_C_T\"\n",
       " [873] \"8:27720528_A_G\" \"8:27720614_A_G\" \"8:27721558_A_G\" \"8:27721618_C_G\"\n",
       " [877] \"8:27722309_C_T\" \"8:27722400_A_G\" \"8:27723386_A_G\" \"8:27723558_G_T\"\n",
       " [881] \"8:27723681_G_T\" \"8:27723867_A_G\" \"8:27726170_A_G\" \"8:27726825_A_C\"\n",
       " [885] \"8:27727540_C_T\" \"8:27728717_A_G\" \"8:27728850_C_T\" \"8:27729049_G_T\"\n",
       " [889] \"8:27729406_C_G\" \"8:27729532_A_G\" \"8:27729812_A_G\" \"8:27729863_C_T\"\n",
       " [893] \"8:27731393_A_C\" \"8:27731843_A_G\" \"8:27732698_C_G\" \"8:27733012_A_G\"\n",
       " [897] \"8:27733437_A_G\" \"8:27733982_A_G\" \"8:27734493_A_G\" \"8:27735631_A_G\"\n",
       " [901] \"8:27737180_A_G\" \"8:27737198_A_G\" \"8:27737829_C_G\" \"8:27737995_A_C\"\n",
       " [905] \"8:27738440_A_G\" \"8:27738580_A_G\" \"8:27738956_C_T\" \"8:27740066_A_G\"\n",
       " [909] \"8:27740449_C_G\" \"8:27740457_A_G\" \"8:27740518_A_C\" \"8:27740661_A_G\"\n",
       " [913] \"8:27740764_A_C\" \"8:27740836_A_G\" \"8:27740840_A_C\" \"8:27740875_C_G\"\n",
       " [917] \"8:27741156_G_T\" \"8:27741555_C_T\" \"8:27741613_A_G\" \"8:27741722_A_G\"\n",
       " [921] \"8:27742830_C_G\" \"8:27742959_A_G\" \"8:27743401_G_T\" \"8:27743771_A_G\"\n",
       " [925] \"8:27744169_A_G\" \"8:27745111_A_T\" \"8:27745219_G_T\" \"8:27745639_C_T\"\n",
       " [929] \"8:27745689_A_C\" \"8:27747045_A_C\" \"8:27747724_A_G\" \"8:27747871_A_G\"\n",
       " [933] \"8:27748041_A_G\" \"8:27748188_A_C\" \"8:27748448_C_G\" \"8:27748766_A_T\"\n",
       " [937] \"8:27749147_C_G\" \"8:27749394_C_T\" \"8:27749840_C_T\" \"8:27749868_A_G\"\n",
       " [941] \"8:27750325_A_G\" \"8:27750496_A_G\" \"8:27750498_A_G\" \"8:27752486_A_C\"\n",
       " [945] \"8:27752630_C_G\" \"8:27753190_C_G\" \"8:27753453_C_T\" \"8:27754616_A_T\"\n",
       " [949] \"8:27754785_C_T\" \"8:27754827_C_T\" \"8:27755035_A_G\" \"8:27756254_C_T\"\n",
       " [953] \"8:27756440_C_T\" \"8:27757179_C_G\" \"8:27757421_A_G\" \"8:27757789_A_G\"\n",
       " [957] \"8:27757817_C_T\" \"8:27757943_C_G\" \"8:27758922_A_G\" \"8:27759625_A_G\"\n",
       " [961] \"8:27759673_G_T\" \"8:27759839_A_G\" \"8:27760296_G_T\" \"8:27760475_C_T\"\n",
       " [965] \"8:27760639_C_T\" \"8:27760788_G_T\" \"8:27761130_A_G\" \"8:27761649_A_C\"\n",
       " [969] \"8:27761920_A_T\" \"8:27763095_A_T\" \"8:27763129_A_G\" \"8:27764027_C_T\"\n",
       " [973] \"8:27764576_A_G\" \"8:27764954_C_T\" \"8:27765669_C_G\" \"8:27766252_A_G\"\n",
       " [977] \"8:27766659_A_C\" \"8:27766786_C_T\" \"8:27766880_A_G\" \"8:27767066_A_G\"\n",
       " [981] \"8:27767276_A_C\" \"8:27767305_A_G\" \"8:27767339_C_T\" \"8:27767817_C_T\"\n",
       " [985] \"8:27767946_C_T\" \"8:27767960_A_G\" \"8:27768402_A_G\" \"8:27768684_A_C\"\n",
       " [989] \"8:27769367_G_T\" \"8:27769525_A_G\" \"8:27769573_A_G\" \"8:27770048_A_G\"\n",
       " [993] \"8:27770140_A_G\" \"8:27770184_C_T\" \"8:27770691_G_T\" \"8:27771367_A_C\"\n",
       " [997] \"8:27771707_C_G\" \"8:27772067_A_G\" \"8:27772465_C_T\" \"8:27772573_C_T\"\n",
       "[1001] \"8:27772828_C_G\" \"8:27772843_A_C\" \"8:27772976_C_G\" \"8:27773177_C_T\"\n",
       "[1005] \"8:27773874_A_G\" \"8:27773910_A_G\" \"8:27774017_C_T\" \"8:27774299_G_T\"\n",
       "[1009] \"8:27775117_C_T\" \"8:27775738_C_G\" \"8:27776826_A_T\" \"8:27777003_C_G\"\n",
       "[1013] \"8:27777145_A_C\" \"8:27777483_A_G\" \"8:27777709_C_T\" \"8:27777827_A_C\"\n",
       "[1017] \"8:27778409_C_T\" \"8:27778842_C_T\" \"8:27778924_A_G\" \"8:27779093_A_G\"\n",
       "[1021] \"8:27779296_A_G\" \"8:27779545_C_T\" \"8:27779811_C_T\" \"8:27779828_A_G\"\n",
       "[1025] \"8:27780088_A_G\" \"8:27780130_C_T\" \"8:27780528_C_T\" \"8:27781598_C_T\"\n",
       "[1029] \"8:27782023_A_G\" \"8:27782969_A_G\" \"8:27784238_A_G\" \"8:27785359_C_T\"\n",
       "[1033] \"8:27785575_C_G\" \"8:27785825_A_C\" \"8:27785859_A_G\" \"8:27787243_A_G\"\n",
       "[1037] \"8:27787641_A_G\" \"8:27787717_A_G\" \"8:27788146_A_G\" \"8:27788837_C_T\"\n",
       "[1041] \"8:27789159_C_T\" \"8:27789306_A_G\" \"8:27789584_C_T\" \"8:27790361_C_T\"\n",
       "[1045] \"8:27790427_C_T\" \"8:27791565_A_G\" \"8:27791780_G_T\" \"8:27792748_A_G\"\n",
       "[1049] \"8:27793322_A_C\" \"8:27793337_A_G\" \"8:27793623_A_G\" \"8:27794429_A_C\"\n",
       "[1053] \"8:27795218_C_T\" \"8:27795299_A_G\" \"8:27795811_A_C\" \"8:27796128_C_T\"\n",
       "[1057] \"8:27796556_A_G\" \"8:27796627_A_G\" \"8:27797051_A_G\" \"8:27797093_C_T\"\n",
       "[1061] \"8:27797374_C_T\" \"8:27797786_C_G\" \"8:27799722_A_G\" \"8:27799972_A_G\"\n",
       "[1065] \"8:27800923_A_G\" \"8:27801305_A_G\" \"8:27801614_A_C\" \"8:27801768_A_G\"\n",
       "[1069] \"8:27803599_C_T\" \"8:27804381_C_T\" \"8:27805384_A_G\" \"8:27805498_A_G\"\n",
       "[1073] \"8:27805815_A_G\" \"8:27806065_C_G\" \"8:27806407_A_G\" \"8:27807434_C_G\"\n",
       "[1077] \"8:27808489_A_C\" \"8:27808770_C_T\" \"8:27808882_A_G\" \"8:27809387_A_C\"\n",
       "[1081] \"8:27810577_G_T\" \"8:27810626_C_T\" \"8:27811671_A_G\" \"8:27812107_C_T\"\n",
       "[1085] \"8:27812407_C_T\" \"8:27813096_A_G\" \"8:27813731_C_T\" \"8:27815515_A_G\"\n",
       "[1089] \"8:27816065_C_T\" \"8:27816247_A_G\" \"8:27816851_C_G\" \"8:27817747_A_G\"\n",
       "[1093] \"8:27819356_C_T\" \"8:27819631_A_T\" \"8:27820015_A_C\" \"8:27820094_C_G\"\n",
       "[1097] \"8:27821832_C_T\" \"8:27822594_A_C\" \"8:27822760_A_G\" \"8:27823597_C_T\"\n",
       "[1101] \"8:27823832_A_G\" \"8:27823868_A_G\" \"8:27824470_A_G\" \"8:27824608_G_T\"\n",
       "[1105] \"8:27824898_G_T\" \"8:27825118_A_G\" \"8:27825158_A_G\" \"8:27825560_G_T\"\n",
       "[1109] \"8:27826339_A_G\" \"8:27826411_A_C\" \"8:27827391_C_T\" \"8:27828280_A_C\"\n",
       "[1113] \"8:27829260_C_T\" \"8:27829845_A_G\" \"8:27831006_A_T\" \"8:27831553_C_T\"\n",
       "[1117] \"8:27832122_A_C\" \"8:27832166_A_G\" \"8:27832342_A_G\" \"8:27833007_C_T\"\n",
       "[1121] \"8:27834656_A_G\" \"8:27835057_A_G\" \"8:27835307_C_T\" \"8:27837267_A_G\"\n",
       "[1125] \"8:27838100_A_G\" \"8:27838376_A_C\" \"8:27838997_A_G\" \"8:27840450_A_G\"\n",
       "[1129] \"8:27840616_A_G\" \"8:27841194_A_C\" \"8:27841212_A_G\" \"8:27841471_A_G\"\n",
       "[1133] \"8:27841562_A_C\" \"8:27841938_C_T\" \"8:27842223_A_G\" \"8:27842907_A_G\"\n",
       "[1137] \"8:27843659_A_G\" \"8:27844165_C_T\" \"8:27844696_C_T\" \"8:27845337_C_T\"\n",
       "[1141] \"8:27845611_C_T\" \"8:27845639_A_T\" \"8:27846679_G_T\" \"8:27846855_A_G\"\n",
       "[1145] \"8:27848226_A_G\" \"8:27849249_A_T\" \"8:27851860_C_T\" \"8:27851947_A_T\"\n",
       "[1149] \"8:27852224_A_G\" \"8:27853359_C_T\" \"8:27854516_A_G\" \"8:27854898_C_T\"\n",
       "[1153] \"8:27855452_A_G\" \"8:27855813_A_G\" \"8:27856062_G_T\" \"8:27856331_A_G\"\n",
       "[1157] \"8:27857420_A_G\" \"8:27859315_A_G\" \"8:27859422_A_G\" \"8:27859649_A_G\"\n",
       "[1161] \"8:27860229_A_G\" \"8:27861504_A_G\" \"8:27862118_A_G\" \"8:27862455_A_G\"\n",
       "[1165] \"8:27862853_G_T\" \"8:27864167_A_G\" \"8:27866875_A_G\" \"8:27866895_G_T\"\n",
       "[1169] \"8:27868168_C_T\" \"8:27868729_A_G\" \"8:27869399_A_G\" \"8:27869687_A_G\"\n",
       "[1173] \"8:27869874_A_T\" \"8:27871157_A_G\" \"8:27871484_A_G\" \"8:27872234_C_T\"\n",
       "[1177] \"8:27872336_A_G\" \"8:27873148_C_T\" \"8:27873203_A_T\" \"8:27875050_C_T\"\n",
       "[1181] \"8:27875310_C_T\" \"8:27877269_A_G\" \"8:27877350_C_T\" \"8:27878996_C_T\"\n",
       "[1185] \"8:27879470_A_G\" \"8:27879537_C_T\" \"8:27880826_C_T\" \"8:27881241_A_G\"\n",
       "[1189] \"8:27881705_A_T\" \"8:27882103_C_T\" \"8:27882399_A_T\" \"8:27883101_A_G\"\n",
       "[1193] \"8:27883292_A_G\" \"8:27884134_A_G\" \"8:27885843_A_G\" \"8:27886235_A_G\"\n",
       "[1197] \"8:27886388_A_G\" \"8:27887047_C_G\" \"8:27887562_A_C\" \"8:27887701_C_T\"\n",
       "[1201] \"8:27887813_C_T\" \"8:27888629_A_G\" \"8:27888994_A_G\" \"8:27889966_A_G\"\n",
       "[1205] \"8:27889972_C_T\" \"8:27890858_A_G\" \"8:27891564_C_G\" \"8:27891737_G_T\"\n",
       "[1209] \"8:27892815_C_G\" \"8:27893787_A_G\" \"8:27894560_A_C\" \"8:27894741_A_G\"\n",
       "[1213] \"8:27895386_A_G\" \"8:27895828_A_T\" \"8:27898405_A_G\" \"8:27898580_C_T\"\n",
       "[1217] \"8:27899123_A_G\" \"8:27900181_A_C\" \"8:27900710_A_G\" \"8:27900803_C_T\"\n",
       "[1221] \"8:27900827_A_C\" \"8:27901690_C_G\" \"8:27903505_A_G\" \"8:27903585_C_T\"\n",
       "[1225] \"8:27904343_C_T\" \"8:27904556_C_T\" \"8:27904702_G_T\" \"8:27905599_C_T\"\n",
       "[1229] \"8:27907674_A_G\" \"8:27907842_C_T\" \"8:27909451_A_C\" \"8:27909792_A_G\"\n",
       "[1233] \"8:27910168_A_G\" \"8:27910400_A_G\" \"8:27911027_A_G\" \"8:27911725_A_G\"\n",
       "[1237] \"8:27912302_A_G\" \"8:27913365_A_T\" \"8:27913760_A_C\" \"8:27913989_C_T\"\n",
       "[1241] \"8:27917114_A_T\" \"8:27917376_C_T\" \"8:27917408_A_G\" \"8:27918368_C_T\"\n",
       "[1245] \"8:27919415_C_T\" \"8:27922722_G_T\" \"8:27922867_A_C\" \"8:27923507_A_G\"\n",
       "[1249] \"8:27923539_C_T\" \"8:27924313_A_G\" \"8:27924451_G_T\" \"8:27924924_C_T\"\n",
       "[1253] \"8:27925185_A_G\" \"8:27928677_A_T\" \"8:27929979_C_T\" \"8:27930417_C_G\"\n",
       "[1257] \"8:27930510_C_T\" \"8:27930737_C_T\" \"8:27931238_A_G\" \"8:27932034_A_C\"\n",
       "[1261] \"8:27932351_A_G\" \"8:27933096_A_G\" \"8:27933097_C_T\" \"8:27934398_A_G\"\n",
       "[1265] \"8:27934673_C_T\" \"8:27936444_A_G\" \"8:27936930_G_T\" \"8:27937419_A_T\"\n",
       "[1269] \"8:27938199_A_C\" \"8:27939154_C_G\" \"8:27940704_A_C\" \"8:27941344_A_G\"\n",
       "[1273] \"8:27943711_A_G\" \"8:27944798_G_T\" \"8:27946015_A_G\" \"8:27946373_G_T\"\n",
       "[1277] \"8:27948131_C_T\" \"8:27948209_C_T\" \"8:27948250_A_G\" \"8:27948535_G_T\"\n",
       "[1281] \"8:27949665_C_T\" \"8:27950008_A_G\" \"8:27950535_A_G\" \"8:27951025_A_G\"\n",
       "[1285] \"8:27951161_C_T\" \"8:27951556_A_C\" \"8:27951716_C_T\" \"8:27952264_A_G\"\n",
       "[1289] \"8:27953876_A_G\" \"8:27956601_A_C\" \"8:27957556_A_G\" \"8:27959163_A_G\"\n",
       "[1293] \"8:27959340_C_G\" \"8:27959613_A_G\" \"8:27960409_A_G\" \"8:27961166_C_G\"\n",
       "[1297] \"8:27961576_A_T\" \"8:27962507_A_G\" \"8:27963858_C_G\" \"8:27964856_C_G\"\n",
       "[1301] \"8:27966240_C_T\" \"8:27966291_A_T\" \"8:27966774_A_G\" \"8:27967365_A_G\"\n",
       "[1305] \"8:27969669_A_T\" \"8:27970211_C_G\" \"8:27972563_C_T\" \"8:27973062_C_G\"\n",
       "[1309] \"8:27973533_C_G\" \"8:27973886_C_T\" \"8:27977338_C_T\" \"8:27977583_A_G\"\n",
       "[1313] \"8:27979116_C_T\" \"8:27980760_C_T\" \"8:27982612_A_G\" \"8:27982870_A_G\"\n",
       "[1317] \"8:27984477_A_C\" \"8:27985498_C_T\" \"8:27985864_A_G\" \"8:27990790_G_T\"\n",
       "[1321] \"8:27991794_A_C\" \"8:27993369_C_G\" \"8:27993624_A_G\" \"8:27994058_C_T\"\n",
       "[1325] \"8:27994241_G_T\" \"8:27995722_G_T\" \"8:27996366_A_G\" \"8:27996440_C_G\"\n",
       "[1329] \"8:27996520_A_G\" \"8:27997863_A_T\" \"8:27998245_A_G\" \"8:27998767_A_T\"\n",
       "[1333] \"8:28000385_C_T\" \"8:28001008_A_G\" \"8:28001122_A_C\" \"8:28003774_C_T\"\n",
       "[1337] \"8:28003817_G_T\" \"8:28005310_A_T\" \"8:28005366_A_T\" \"8:28007622_C_T\"\n",
       "[1341] \"8:28007948_A_C\" \"8:28008777_A_G\" \"8:28009073_C_T\" \"8:28009180_A_G\"\n",
       "[1345] \"8:28009396_A_T\" \"8:28009739_C_T\" \"8:28010183_A_T\" \"8:28011996_C_T\"\n",
       "[1349] \"8:28014561_A_G\" \"8:28015770_C_T\" \"8:28016540_A_G\" \"8:28018737_C_T\"\n",
       "[1353] \"8:28018919_C_T\" \"8:28022956_C_T\" \"8:28023237_A_G\" \"8:28025525_A_T\"\n",
       "[1357] \"8:28025927_A_G\" \"8:28027358_C_T\" \"8:28028682_C_G\" \"8:28031201_C_T\"\n",
       "[1361] \"8:28031774_A_T\" \"8:28032442_A_G\" \"8:28033017_A_C\" \"8:28035761_C_G\"\n",
       "[1365] \"8:28035834_C_T\" \"8:28036168_A_C\" \"8:28036595_A_G\" \"8:28037646_A_G\"\n",
       "[1369] \"8:28037987_A_G\" \"8:28038006_G_T\" \"8:28038789_A_C\" \"8:28040127_A_C\"\n",
       "[1373] \"8:28040712_A_G\" \"8:28041048_A_C\" \"8:28042095_A_G\" \"8:28042187_A_G\"\n",
       "[1377] \"8:28043673_C_T\" \"8:28045864_G_T\" \"8:28046400_C_T\" \"8:28046811_C_G\"\n",
       "[1381] \"8:28048668_A_C\" \"8:28049093_C_T\" \"8:28049807_A_G\" \"8:28050905_C_T\"\n",
       "[1385] \"8:28051713_A_G\" \"8:28052983_C_G\" \"8:28054255_A_T\" \"8:28054362_A_G\"\n",
       "[1389] \"8:28054376_C_T\" \"8:28054792_A_G\" \"8:28055553_G_T\" \"8:28056345_C_T\"\n",
       "[1393] \"8:28056490_C_T\" \"8:28057604_A_T\" \"8:28058078_A_G\" \"8:28058501_A_G\"\n",
       "[1397] \"8:28058868_C_T\" \"8:28059539_A_G\" \"8:28059541_C_T\" \"8:28059607_A_G\"\n",
       "[1401] \"8:28059813_C_T\" \"8:28060032_C_T\" \"8:28060544_A_G\" \"8:28060572_G_T\"\n",
       "[1405] \"8:28061377_C_T\" \"8:28061568_A_G\" \"8:28063604_A_G\" \"8:28063877_C_T\"\n",
       "[1409] \"8:28070191_A_G\" \"8:28071119_C_T\" \"8:28071804_C_T\" \"8:28071836_G_T\"\n",
       "[1413] \"8:28071950_C_T\" \"8:28072048_C_T\" \"8:28073717_A_G\" \"8:28073823_C_G\"\n",
       "[1417] \"8:28074218_C_T\" \"8:28074301_A_G\" \"8:28074892_A_G\" \"8:28075339_A_T\"\n",
       "[1421] \"8:28076271_A_C\" \"8:28077653_A_G\" \"8:28079893_C_T\" \"8:28079897_C_T\"\n",
       "[1425] \"8:28079970_C_T\" \"8:28081266_A_C\" \"8:28081379_C_T\" \"8:28083118_G_T\"\n",
       "[1429] \"8:28083373_A_G\" \"8:28084323_A_C\" \"8:28084516_C_T\" \"8:28084581_A_G\"\n",
       "[1433] \"8:28085520_A_G\" \"8:28085808_C_T\" \"8:28086595_A_G\" \"8:28087891_C_T\"\n",
       "[1437] \"8:28087962_C_T\" \"8:28088887_A_G\" \"8:28089024_A_G\" \"8:28089293_C_G\"\n",
       "[1441] \"8:28089596_C_T\" \"8:28090890_C_T\" \"8:28090914_C_T\" \"8:28091066_C_T\"\n",
       "[1445] \"8:28091394_C_G\" \"8:28091463_A_C\" \"8:28091527_A_G\" \"8:28093041_A_G\"\n",
       "[1449] \"8:28093589_A_C\" \"8:28093657_C_T\" \"8:28094835_C_T\" \"8:28095291_A_G\"\n",
       "[1453] \"8:28096051_A_T\" \"8:28096383_A_G\" \"8:28096888_C_T\" \"8:28097738_A_G\"\n",
       "[1457] \"8:28098859_A_G\" \"8:28099383_A_C\" \"8:28101120_A_G\" \"8:28101370_A_T\"\n",
       "[1461] \"8:28101673_A_G\" \"8:28102629_A_G\" \"8:28102684_A_G\" \"8:28102901_A_G\"\n",
       "[1465] \"8:28103444_G_T\" \"8:28104721_C_T\" \"8:28106141_A_G\" \"8:28108488_C_T\"\n",
       "[1469] \"8:28108991_A_G\" \"8:28110666_A_G\" \"8:28111154_A_G\" \"8:28111225_A_G\"\n",
       "[1473] \"8:28111985_C_G\" \"8:28114711_A_G\" \"8:28115377_C_T\" \"8:28115852_C_T\"\n",
       "[1477] \"8:28116380_A_G\" \"8:28118130_A_G\" \"8:28118262_C_T\" \"8:28119471_C_T\"\n",
       "[1481] \"8:28119479_A_T\" \"8:28121012_A_G\" \"8:28121178_A_G\" \"8:28121732_A_G\"\n",
       "[1485] \"8:28123232_G_T\" \"8:28123502_A_T\" \"8:28123717_A_G\" \"8:28124555_A_G\"\n",
       "[1489] \"8:28124626_A_C\" \"8:28124713_G_T\" \"8:28125391_A_G\" \"8:28127172_A_G\"\n",
       "[1493] \"8:28127281_G_T\" \"8:28127294_A_G\" \"8:28127385_A_G\" \"8:28128086_C_T\"\n",
       "[1497] \"8:28128260_A_G\" \"8:28128777_C_T\" \"8:28128784_C_T\" \"8:28128861_C_T\"\n",
       "[1501] \"8:28129261_A_G\" \"8:28129693_C_T\" \"8:28129827_C_G\" \"8:28130109_C_T\"\n",
       "[1505] \"8:28130619_A_G\" \"8:28130948_A_C\" \"8:28131298_C_T\" \"8:28131356_C_G\"\n",
       "[1509] \"8:28131501_A_G\" \"8:28132122_G_T\" \"8:28132448_C_T\" \"8:28133673_A_T\"\n",
       "[1513] \"8:28133675_G_T\" \"8:28134035_A_G\" \"8:28134288_C_T\" \"8:28135397_C_T\"\n",
       "[1517] \"8:28135494_G_T\" \"8:28135510_A_T\" \"8:28135623_A_C\" \"8:28135690_A_G\"\n",
       "[1521] \"8:28135749_A_G\" \"8:28136136_C_T\" \"8:28137261_C_T\" \"8:28137308_C_T\"\n",
       "[1525] \"8:28137935_A_C\" \"8:28138834_C_T\" \"8:28139399_A_C\" \"8:28140103_A_C\"\n",
       "[1529] \"8:28140302_A_G\" \"8:28141768_C_T\" \"8:28142324_C_T\" \"8:28143259_A_C\"\n",
       "[1533] \"8:28144790_C_T\" \"8:28145649_A_G\" \"8:28146024_A_G\" \"8:28146055_C_T\"\n",
       "[1537] \"8:28146297_G_T\" \"8:28146611_A_C\" \"8:28146700_A_G\" \"8:28146711_C_T\"\n",
       "[1541] \"8:28146753_C_T\" \"8:28147240_C_T\" \"8:28147852_C_T\" \"8:28148113_A_C\"\n",
       "[1545] \"8:28148854_C_T\" \"8:28149815_A_T\" \"8:28151129_C_T\" \"8:28152308_C_T\"\n",
       "[1549] \"8:28152818_A_G\" \"8:28153802_A_G\" \"8:28154151_A_G\" \"8:28154696_C_T\"\n",
       "[1553] \"8:28156130_C_G\" \"8:28156456_A_G\" \"8:28157518_G_T\" \"8:28158166_A_G\"\n",
       "[1557] \"8:28158352_A_G\" \"8:28158490_A_G\" \"8:28159264_A_C\" \"8:28160577_A_G\"\n",
       "[1561] \"8:28162012_C_T\" \"8:28163935_C_T\" \"8:28163980_A_G\" \"8:28164690_A_C\"\n",
       "[1565] \"8:28164771_A_G\" \"8:28165158_A_G\" \"8:28165812_C_G\" \"8:28166098_G_T\"\n",
       "[1569] \"8:28166416_C_T\" \"8:28166651_C_T\" \"8:28167093_A_G\" \"8:28167447_C_T\"\n",
       "[1573] \"8:28167580_A_C\" \"8:28167640_A_G\" \"8:28167726_A_G\" \"8:28167784_A_T\"\n",
       "[1577] \"8:28168659_A_G\" \"8:28168851_C_T\" \"8:28168886_A_C\" \"8:28168959_A_G\"\n",
       "[1581] \"8:28169230_A_G\" \"8:28170530_A_G\" \"8:28170880_G_T\" \"8:28170930_A_G\"\n",
       "[1585] \"8:28171539_A_T\" \"8:28172290_G_T\" \"8:28172396_C_T\" \"8:28172490_C_T\"\n",
       "[1589] \"8:28172498_A_G\" \"8:28172622_A_G\" \"8:28172668_A_G\" \"8:28173197_A_G\"\n",
       "[1593] \"8:28173751_A_C\" \"8:28173809_A_C\" \"8:28175090_A_G\" \"8:28175981_C_T\"\n",
       "[1597] \"8:28179984_A_G\" \"8:28180868_A_G\" \"8:28181512_C_G\" \"8:28183219_C_G\"\n",
       "[1601] \"8:28183666_A_C\" \"8:28183832_A_G\" \"8:28184320_C_T\" \"8:28184432_A_G\"\n",
       "[1605] \"8:28184576_G_T\" \"8:28184608_A_G\" \"8:28184765_C_G\" \"8:28184991_A_G\"\n",
       "[1609] \"8:28185058_A_G\" \"8:28185079_A_T\" \"8:28185145_A_G\" \"8:28185537_A_G\"\n",
       "[1613] \"8:28186096_C_T\" \"8:28186607_C_T\" \"8:28187409_A_G\" \"8:28187760_G_T\"\n",
       "[1617] \"8:28187935_G_T\" \"8:28188633_C_T\" \"8:28189027_A_G\" \"8:28190036_A_G\"\n",
       "[1621] \"8:28190801_A_T\" \"8:28191107_C_T\" \"8:28191306_A_C\" \"8:28191506_C_T\"\n",
       "[1625] \"8:28192291_A_G\" \"8:28192545_A_G\" \"8:28193489_A_G\" \"8:28193653_C_T\"\n",
       "[1629] \"8:28193963_A_G\" \"8:28194097_A_G\" \"8:28194396_C_G\" \"8:28194488_A_G\"\n",
       "[1633] \"8:28194579_A_T\" \"8:28194597_C_G\" \"8:28194892_C_T\" \"8:28195763_A_G\"\n",
       "[1637] \"8:28195931_A_C\" \"8:28197642_A_G\" \"8:28198159_C_T\" \"8:28198716_A_G\"\n",
       "[1641] \"8:28198750_A_G\" \"8:28198944_A_G\" \"8:28199370_A_G\" \"8:28199864_C_T\"\n",
       "[1645] \"8:28200494_A_C\" \"8:28200513_A_G\" \"8:28201259_A_C\" \"8:28201643_A_G\"\n",
       "[1649] \"8:28202936_C_T\" \"8:28203937_G_T\" \"8:28206275_C_G\" \"8:28207475_A_G\"\n",
       "[1653] \"8:28212636_A_T\" \"8:28214096_C_T\" \"8:28215161_A_G\" \"8:28215776_A_G\"\n",
       "[1657] \"8:28221097_C_T\" \"8:28222586_C_G\" \"8:28226017_A_G\" \"8:28226097_C_T\"\n",
       "[1661] \"8:28227281_A_G\" \"8:28231221_C_T\" \"8:28231269_C_T\" \"8:28231286_C_G\"\n",
       "[1665] \"8:28232572_C_T\" \"8:28233423_A_G\" \"8:28234284_A_C\" \"8:28235793_A_G\"\n",
       "[1669] \"8:28236161_C_G\" \"8:28237827_C_T\" \"8:28240092_A_C\" \"8:28240782_A_G\"\n",
       "[1673] \"8:28242622_C_T\" \"8:28244673_C_G\" \"8:28246939_G_T\" \"8:28250306_G_T\"\n",
       "[1677] \"8:28250401_C_T\" \"8:28250816_A_G\" \"8:28252162_C_T\" \"8:28257804_A_G\"\n",
       "[1681] \"8:28257993_A_G\" \"8:28259596_G_T\" \"8:28259981_C_T\" \"8:28263532_C_T\"\n",
       "[1685] \"8:28264645_C_G\" \"8:28265314_A_G\" \"8:28267420_A_G\" \"8:28269582_C_G\"\n",
       "[1689] \"8:28272574_A_G\""
      ]
     },
     "metadata": {},
     "output_type": "display_data"
    }
   ],
   "source": [
    "b$scaled_ENSG00000147419[[1]]%>%colnames()"
   ]
  },
  {
   "cell_type": "code",
   "execution_count": 122,
   "metadata": {},
   "outputs": [
    {
     "data": {
      "text/html": [
       "<table>\n",
       "<caption>A matrix: 2 × 5 of type dbl</caption>\n",
       "<thead>\n",
       "\t<tr><th></th><th scope=col>bslmm</th><th scope=col>blup</th><th scope=col>lasso</th><th scope=col>top1</th><th scope=col>enet</th></tr>\n",
       "</thead>\n",
       "<tbody>\n",
       "\t<tr><th scope=row>rsq</th><td> 5.784738e-01</td><td> 7.551376e-01</td><td> 7.423915e-01</td><td> 6.079474e-01</td><td> 7.531486e-01</td></tr>\n",
       "\t<tr><th scope=row>pval</th><td>1.619715e-126</td><td>1.170122e-204</td><td>2.325631e-197</td><td>6.008534e-137</td><td>1.705343e-203</td></tr>\n",
       "</tbody>\n",
       "</table>\n"
      ],
      "text/latex": [
       "A matrix: 2 × 5 of type dbl\n",
       "\\begin{tabular}{r|lllll}\n",
       "  & bslmm & blup & lasso & top1 & enet\\\\\n",
       "\\hline\n",
       "\trsq &  5.784738e-01 &  7.551376e-01 &  7.423915e-01 &  6.079474e-01 &  7.531486e-01\\\\\n",
       "\tpval & 1.619715e-126 & 1.170122e-204 & 2.325631e-197 & 6.008534e-137 & 1.705343e-203\\\\\n",
       "\\end{tabular}\n"
      ],
      "text/markdown": [
       "\n",
       "A matrix: 2 × 5 of type dbl\n",
       "\n",
       "| <!--/--> | bslmm | blup | lasso | top1 | enet |\n",
       "|---|---|---|---|---|---|\n",
       "| rsq |  5.784738e-01 |  7.551376e-01 |  7.423915e-01 |  6.079474e-01 |  7.531486e-01 |\n",
       "| pval | 1.619715e-126 | 1.170122e-204 | 2.325631e-197 | 6.008534e-137 | 1.705343e-203 |\n",
       "\n"
      ],
      "text/plain": [
       "     bslmm         blup          lasso         top1          enet         \n",
       "rsq   5.784738e-01  7.551376e-01  7.423915e-01  6.079474e-01  7.531486e-01\n",
       "pval 1.619715e-126 1.170122e-204 2.325631e-197 6.008534e-137 1.705343e-203"
      ]
     },
     "metadata": {},
     "output_type": "display_data"
    }
   ],
   "source": [
    "cv.performance"
   ]
  },
  {
   "cell_type": "code",
   "execution_count": 180,
   "metadata": {},
   "outputs": [
    {
     "data": {
      "text/html": [
       "<table>\n",
       "<caption>A matrix: 2 × 1 of type dbl</caption>\n",
       "<tbody>\n",
       "\t<tr><th scope=row>rsq</th><td>NaN</td></tr>\n",
       "\t<tr><th scope=row>pval</th><td>NaN</td></tr>\n",
       "</tbody>\n",
       "</table>\n"
      ],
      "text/latex": [
       "A matrix: 2 × 1 of type dbl\n",
       "\\begin{tabular}{r|l}\n",
       "\trsq & NaN\\\\\n",
       "\tpval & NaN\\\\\n",
       "\\end{tabular}\n"
      ],
      "text/markdown": [
       "\n",
       "A matrix: 2 × 1 of type dbl\n",
       "\n",
       "| rsq | NaN |\n",
       "| pval | NaN |\n",
       "\n"
      ],
      "text/plain": [
       "     [,1]\n",
       "rsq  NaN \n",
       "pval NaN "
      ]
     },
     "metadata": {},
     "output_type": "display_data"
    }
   ],
   "source": [
    "d = rbind(rsq = b$full_model$r2, pval = b$full_model$pval)\n",
    "colnames(d) = c(\"mv_ac\",\"mv_pcc\",\"mv_DLPFC\") \n",
    "d[,1]%>%as.matrix()"
   ]
  },
  {
   "cell_type": "code",
   "execution_count": 127,
   "metadata": {},
   "outputs": [
    {
     "data": {
      "text/html": [
       "<style>\n",
       ".list-inline {list-style: none; margin:0; padding: 0}\n",
       ".list-inline>li {display: inline-block}\n",
       ".list-inline>li:not(:last-child)::after {content: \"\\00b7\"; padding: 0 .5ex}\n",
       "</style>\n",
       "<ol class=list-inline><li>0.0369097172244588</li><li>0.0545498296317679</li><li>0.0810293864964555</li></ol>\n"
      ],
      "text/latex": [
       "\\begin{enumerate*}\n",
       "\\item 0.0369097172244588\n",
       "\\item 0.0545498296317679\n",
       "\\item 0.0810293864964555\n",
       "\\end{enumerate*}\n"
      ],
      "text/markdown": [
       "1. 0.0369097172244588\n",
       "2. 0.0545498296317679\n",
       "3. 0.0810293864964555\n",
       "\n",
       "\n"
      ],
      "text/plain": [
       "[1] 0.03690972 0.05454983 0.08102939"
      ]
     },
     "metadata": {},
     "output_type": "display_data"
    }
   ],
   "source": [
    "b$full_model$hsq"
   ]
  },
  {
   "cell_type": "code",
   "execution_count": 137,
   "metadata": {},
   "outputs": [
    {
     "data": {
      "text/html": [
       "<style>\n",
       ".dl-inline {width: auto; margin:0; padding: 0}\n",
       ".dl-inline>dt, .dl-inline>dd {float: none; width: auto; display: inline-block}\n",
       ".dl-inline>dt::after {content: \":\\0020\"; padding-right: .5ex}\n",
       ".dl-inline>dt:not(:first-of-type) {padding-left: .5ex}\n",
       "</style><dl class=dl-inline><dt>V1</dt><dd>0.295585266519899</dd><dt>V2</dt><dd>0.305228883331348</dd><dt>V3</dt><dd>0.170403100313099</dd></dl>\n"
      ],
      "text/latex": [
       "\\begin{description*}\n",
       "\\item[V1] 0.295585266519899\n",
       "\\item[V2] 0.305228883331348\n",
       "\\item[V3] 0.170403100313099\n",
       "\\end{description*}\n"
      ],
      "text/markdown": [
       "V1\n",
       ":   0.295585266519899V2\n",
       ":   0.305228883331348V3\n",
       ":   0.170403100313099\n",
       "\n"
      ],
      "text/plain": [
       "       V1        V2        V3 \n",
       "0.2955853 0.3052289 0.1704031 "
      ]
     },
     "metadata": {},
     "output_type": "display_data"
    }
   ],
   "source": [
    " c$cv_df%>%pull(pval)%>%as.data.frame()%>%t()%>%as_tibble()%>%na.omit%>%colMeans"
   ]
  },
  {
   "cell_type": "code",
   "execution_count": 148,
   "metadata": {},
   "outputs": [
    {
     "name": "stderr",
     "output_type": "stream",
     "text": [
      "Parsed with column specification:\n",
      "cols(\n",
      "  `#molc_pheno` = \u001b[31mcol_character()\u001b[39m\n",
      ")\n",
      "\n"
     ]
    }
   ],
   "source": [
    "a = read_delim('~/Project/Alz/multi/molecular_phenotype_list',delim = '\\t')"
   ]
  },
  {
   "cell_type": "code",
   "execution_count": 169,
   "metadata": {},
   "outputs": [
    {
     "name": "stdout",
     "output_type": "stream",
     "text": [
      "[1] \"Alz_AC_SNP\"\n",
      "[1] \"Alz_PCC_SNP\"\n",
      "[1] \"Alz_DLPFC_SNP\"\n"
     ]
    }
   ],
   "source": [
    "for(i in 1:nrow(a)){tis = read.table(text = a[[i,1]], sep = \"/\", as.is = TRUE)\n",
    "                   tis = tis[[length(tis)]]\n",
    "                    print(tis)\n",
    "                   }"
   ]
  },
  {
   "cell_type": "code",
   "execution_count": 182,
   "metadata": {},
   "outputs": [
    {
     "name": "stderr",
     "output_type": "stream",
     "text": [
      "Parsed with column specification:\n",
      "cols(\n",
      "  SNP = \u001b[31mcol_character()\u001b[39m,\n",
      "  CHR = \u001b[32mcol_double()\u001b[39m,\n",
      "  BP = \u001b[32mcol_double()\u001b[39m,\n",
      "  A1 = \u001b[31mcol_character()\u001b[39m,\n",
      "  A2 = \u001b[31mcol_character()\u001b[39m,\n",
      "  SNP_rsID = \u001b[31mcol_character()\u001b[39m,\n",
      "  Z = \u001b[32mcol_double()\u001b[39m,\n",
      "  P = \u001b[32mcol_double()\u001b[39m,\n",
      "  Nsum = \u001b[32mcol_double()\u001b[39m,\n",
      "  Neff = \u001b[32mcol_double()\u001b[39m,\n",
      "  dir = \u001b[31mcol_character()\u001b[39m,\n",
      "  EAF = \u001b[32mcol_double()\u001b[39m,\n",
      "  BETA = \u001b[32mcol_double()\u001b[39m,\n",
      "  SE = \u001b[32mcol_double()\u001b[39m\n",
      ")\n",
      "\n"
     ]
    }
   ],
   "source": [
    "a = read_delim(\"/home/hs3163/Project/Alz/data/AD_sumstats_Jansenetal_2019sept.txt\",delim = \"\\t\")"
   ]
  },
  {
   "cell_type": "code",
   "execution_count": 183,
   "metadata": {},
   "outputs": [
    {
     "name": "stderr",
     "output_type": "stream",
     "text": [
      "Parsed with column specification:\n",
      "cols(\n",
      "  `6` = \u001b[32mcol_double()\u001b[39m,\n",
      "  `6:32079567_C_T` = \u001b[31mcol_character()\u001b[39m,\n",
      "  `0` = \u001b[32mcol_double()\u001b[39m,\n",
      "  `32079567` = \u001b[32mcol_double()\u001b[39m,\n",
      "  C = \u001b[31mcol_character()\u001b[39m,\n",
      "  T = \u001b[31mcol_character()\u001b[39m\n",
      ")\n",
      "\n"
     ]
    }
   ],
   "source": [
    "b = read_delim(\"~/Project/mwe/mv_susie_mwe/cache/geneTpmResidualsAgeGenderAdj_rename.ENSG00000196126.merged.bim\",delim = \"\\t\")"
   ]
  },
  {
   "cell_type": "code",
   "execution_count": 189,
   "metadata": {},
   "outputs": [],
   "source": [
    "c = a%>%filter(SNP %in% b$`6:32079567_C_T`)"
   ]
  },
  {
   "cell_type": "code",
   "execution_count": 192,
   "metadata": {},
   "outputs": [],
   "source": [
    "c%>%write_delim(\"~/Project/mwe/ass_test_mwe/sumstat_mwe.txt\",delim = \"\\t\" )"
   ]
  },
  {
   "cell_type": "code",
   "execution_count": null,
   "metadata": {},
   "outputs": [],
   "source": []
  }
 ],
 "metadata": {
  "kernelspec": {
   "display_name": "R",
   "language": "R",
   "name": "ir"
  },
  "language_info": {
   "codemirror_mode": "r",
   "file_extension": ".r",
   "mimetype": "text/x-r-source",
   "name": "R",
   "pygments_lexer": "r",
   "version": "3.6.3"
  }
 },
 "nbformat": 4,
 "nbformat_minor": 4
}
