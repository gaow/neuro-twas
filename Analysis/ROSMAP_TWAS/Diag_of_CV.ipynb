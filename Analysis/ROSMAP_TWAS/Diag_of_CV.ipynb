{
 "cells": [
  {
   "cell_type": "code",
   "execution_count": 14,
   "metadata": {},
   "outputs": [
    {
     "name": "stderr",
     "output_type": "stream",
     "text": [
      "\n",
      "Attaching package: ‘dplyr’\n",
      "\n",
      "\n",
      "The following objects are masked from ‘package:stats’:\n",
      "\n",
      "    filter, lag\n",
      "\n",
      "\n",
      "The following objects are masked from ‘package:base’:\n",
      "\n",
      "    intersect, setdiff, setequal, union\n",
      "\n",
      "\n",
      "Registered S3 methods overwritten by 'ggplot2':\n",
      "  method         from \n",
      "  [.quosures     rlang\n",
      "  c.quosures     rlang\n",
      "  print.quosures rlang\n",
      "\n"
     ]
    }
   ],
   "source": [
    "library(dplyr)\n",
    "library(tibble)\n",
    "library(readr)\n",
    "library(ggplot2)\n",
    "library(purrr)\n",
    "library(tidyr)"
   ]
  },
  {
   "cell_type": "code",
   "execution_count": 305,
   "metadata": {},
   "outputs": [],
   "source": [
    "a = attach(\"~/Project/Alz/muti_mp_3/result/geneTpmResidualsAgeGenderAdj_rename.ENSG00000103642.mv_susie.model.cv_diag.RData\")"
   ]
  },
  {
   "cell_type": "code",
   "execution_count": 310,
   "metadata": {},
   "outputs": [],
   "source": [
    "b = attach(\"~/Project/Alz/muti_mp_3/result/geneTpmResidualsAgeGenderAdj_rename.ENSG00000265148.mv_susie.model.cv.RData\")"
   ]
  },
  {
   "cell_type": "code",
   "execution_count": 313,
   "metadata": {},
   "outputs": [],
   "source": [
    "c = attach(\"~/Project/Alz/muti_mp_3/result/geneTpmResidualsAgeGenderAdj_rename.ENSG00000265148.transformed_XY.RData\")"
   ]
  },
  {
   "cell_type": "code",
   "execution_count": 323,
   "metadata": {},
   "outputs": [],
   "source": [
    "d = b$full_model$fitted[,1]"
   ]
  },
  {
   "cell_type": "code",
   "execution_count": 387,
   "metadata": {},
   "outputs": [
    {
     "data": {
      "text/html": [
       "<table>\n",
       "<caption>A matrix: 2 × 4 of type dbl</caption>\n",
       "<thead>\n",
       "\t<tr><th></th><th scope=col>Estimate</th><th scope=col>Std. Error</th><th scope=col>t value</th><th scope=col>Pr(&gt;|t|)</th></tr>\n",
       "</thead>\n",
       "<tbody>\n",
       "\t<tr><th scope=row>(Intercept)</th><td>-0.0031796376</td><td>0.0004296505</td><td>-7.400521</td><td>4.129822e-13</td></tr>\n",
       "\t<tr><th scope=row>c$scaled_ENSG00000265148[[2]][, 1]</th><td> 0.0006226227</td><td>0.0004299744</td><td> 1.448046</td><td>1.480776e-01</td></tr>\n",
       "</tbody>\n",
       "</table>\n"
      ],
      "text/latex": [
       "A matrix: 2 × 4 of type dbl\n",
       "\\begin{tabular}{r|llll}\n",
       "  & Estimate & Std. Error & t value & Pr(>\\textbar{}t\\textbar{})\\\\\n",
       "\\hline\n",
       "\t(Intercept) & -0.0031796376 & 0.0004296505 & -7.400521 & 4.129822e-13\\\\\n",
       "\tc\\$scaled\\_ENSG00000265148{[}{[}2{]}{]}{[}, 1{]} &  0.0006226227 & 0.0004299744 &  1.448046 & 1.480776e-01\\\\\n",
       "\\end{tabular}\n"
      ],
      "text/markdown": [
       "\n",
       "A matrix: 2 × 4 of type dbl\n",
       "\n",
       "| <!--/--> | Estimate | Std. Error | t value | Pr(&gt;|t|) |\n",
       "|---|---|---|---|---|\n",
       "| (Intercept) | -0.0031796376 | 0.0004296505 | -7.400521 | 4.129822e-13 |\n",
       "| c$scaled_ENSG00000265148[[2]][, 1] |  0.0006226227 | 0.0004299744 |  1.448046 | 1.480776e-01 |\n",
       "\n"
      ],
      "text/plain": [
       "                                   Estimate      Std. Error   t value  \n",
       "(Intercept)                        -0.0031796376 0.0004296505 -7.400521\n",
       "c$scaled_ENSG00000265148[[2]][, 1]  0.0006226227 0.0004299744  1.448046\n",
       "                                   Pr(>|t|)    \n",
       "(Intercept)                        4.129822e-13\n",
       "c$scaled_ENSG00000265148[[2]][, 1] 1.480776e-01"
      ]
     },
     "metadata": {},
     "output_type": "display_data"
    },
    {
     "data": {
      "text/html": [
       "<table>\n",
       "<caption>A matrix: 2 × 4 of type dbl</caption>\n",
       "<thead>\n",
       "\t<tr><th></th><th scope=col>Estimate</th><th scope=col>Std. Error</th><th scope=col>t value</th><th scope=col>Pr(&gt;|t|)</th></tr>\n",
       "</thead>\n",
       "<tbody>\n",
       "\t<tr><th scope=row>(Intercept)</th><td>-0.0028629930</td><td>0.0004375242</td><td>-6.5436214</td><td>1.429159e-10</td></tr>\n",
       "\t<tr><th scope=row>c$scaled_ENSG00000265148[[2]][, 2]</th><td> 0.0003361268</td><td>0.0004379399</td><td> 0.7675179</td><td>4.431187e-01</td></tr>\n",
       "</tbody>\n",
       "</table>\n"
      ],
      "text/latex": [
       "A matrix: 2 × 4 of type dbl\n",
       "\\begin{tabular}{r|llll}\n",
       "  & Estimate & Std. Error & t value & Pr(>\\textbar{}t\\textbar{})\\\\\n",
       "\\hline\n",
       "\t(Intercept) & -0.0028629930 & 0.0004375242 & -6.5436214 & 1.429159e-10\\\\\n",
       "\tc\\$scaled\\_ENSG00000265148{[}{[}2{]}{]}{[}, 2{]} &  0.0003361268 & 0.0004379399 &  0.7675179 & 4.431187e-01\\\\\n",
       "\\end{tabular}\n"
      ],
      "text/markdown": [
       "\n",
       "A matrix: 2 × 4 of type dbl\n",
       "\n",
       "| <!--/--> | Estimate | Std. Error | t value | Pr(&gt;|t|) |\n",
       "|---|---|---|---|---|\n",
       "| (Intercept) | -0.0028629930 | 0.0004375242 | -6.5436214 | 1.429159e-10 |\n",
       "| c$scaled_ENSG00000265148[[2]][, 2] |  0.0003361268 | 0.0004379399 |  0.7675179 | 4.431187e-01 |\n",
       "\n"
      ],
      "text/plain": [
       "                                   Estimate      Std. Error   t value   \n",
       "(Intercept)                        -0.0028629930 0.0004375242 -6.5436214\n",
       "c$scaled_ENSG00000265148[[2]][, 2]  0.0003361268 0.0004379399  0.7675179\n",
       "                                   Pr(>|t|)    \n",
       "(Intercept)                        1.429159e-10\n",
       "c$scaled_ENSG00000265148[[2]][, 2] 4.431187e-01"
      ]
     },
     "metadata": {},
     "output_type": "display_data"
    },
    {
     "data": {
      "text/html": [
       "<table>\n",
       "<caption>A matrix: 2 × 4 of type dbl</caption>\n",
       "<thead>\n",
       "\t<tr><th></th><th scope=col>Estimate</th><th scope=col>Std. Error</th><th scope=col>t value</th><th scope=col>Pr(&gt;|t|)</th></tr>\n",
       "</thead>\n",
       "<tbody>\n",
       "\t<tr><th scope=row>(Intercept)</th><td>-0.002790447</td><td>0.0005461027</td><td>-5.109747</td><td>3.987215e-07</td></tr>\n",
       "\t<tr><th scope=row>c$scaled_ENSG00000265148[[2]][, 3]</th><td> 0.002086041</td><td>0.0005464242</td><td> 3.817622</td><td>1.445493e-04</td></tr>\n",
       "</tbody>\n",
       "</table>\n"
      ],
      "text/latex": [
       "A matrix: 2 × 4 of type dbl\n",
       "\\begin{tabular}{r|llll}\n",
       "  & Estimate & Std. Error & t value & Pr(>\\textbar{}t\\textbar{})\\\\\n",
       "\\hline\n",
       "\t(Intercept) & -0.002790447 & 0.0005461027 & -5.109747 & 3.987215e-07\\\\\n",
       "\tc\\$scaled\\_ENSG00000265148{[}{[}2{]}{]}{[}, 3{]} &  0.002086041 & 0.0005464242 &  3.817622 & 1.445493e-04\\\\\n",
       "\\end{tabular}\n"
      ],
      "text/markdown": [
       "\n",
       "A matrix: 2 × 4 of type dbl\n",
       "\n",
       "| <!--/--> | Estimate | Std. Error | t value | Pr(&gt;|t|) |\n",
       "|---|---|---|---|---|\n",
       "| (Intercept) | -0.002790447 | 0.0005461027 | -5.109747 | 3.987215e-07 |\n",
       "| c$scaled_ENSG00000265148[[2]][, 3] |  0.002086041 | 0.0005464242 |  3.817622 | 1.445493e-04 |\n",
       "\n"
      ],
      "text/plain": [
       "                                   Estimate     Std. Error   t value  \n",
       "(Intercept)                        -0.002790447 0.0005461027 -5.109747\n",
       "c$scaled_ENSG00000265148[[2]][, 3]  0.002086041 0.0005464242  3.817622\n",
       "                                   Pr(>|t|)    \n",
       "(Intercept)                        3.987215e-07\n",
       "c$scaled_ENSG00000265148[[2]][, 3] 1.445493e-04"
      ]
     },
     "metadata": {},
     "output_type": "display_data"
    }
   ],
   "source": [
    "summary(lm(fitted[,1]~c$scaled_ENSG00000265148[[2]][,1]))$coef\n",
    "summary(lm(fitted[,2]~c$scaled_ENSG00000265148[[2]][,2]))$coef\n",
    "summary(lm(fitted[,3]~c$scaled_ENSG00000265148[[2]][,3]))$coef"
   ]
  },
  {
   "cell_type": "code",
   "execution_count": 324,
   "metadata": {},
   "outputs": [],
   "source": [
    "f = c$scaled_ENSG00000265148[[2]][,1]"
   ]
  },
  {
   "cell_type": "code",
   "execution_count": 394,
   "metadata": {},
   "outputs": [
    {
     "data": {
      "image/png": "[encoded data removed]",
      "text/plain": [
       "plot without title"
      ]
     },
     "metadata": {
      "image/png": {
       "height": 420,
       "width": 420
      }
     },
     "output_type": "display_data"
    }
   ],
   "source": [
    "b$full_model$coef%>%as.data.frame()%>%as_tibble()%>%ggplot(aes(x = V2))+geom_density()"
   ]
  },
  {
   "cell_type": "code",
   "execution_count": 326,
   "metadata": {},
   "outputs": [
    {
     "data": {
      "text/plain": [
       "\n",
       "Call:\n",
       "lm(formula = d ~ f)\n",
       "\n",
       "Residuals:\n",
       "      Min        1Q    Median        3Q       Max \n",
       "-0.038913 -0.000667  0.002801  0.005473  0.013000 \n",
       "\n",
       "Coefficients:\n",
       "              Estimate Std. Error t value Pr(>|t|)  \n",
       "(Intercept) -2.258e-05  3.205e-04   -0.07    0.944  \n",
       "f            6.383e-04  3.207e-04    1.99    0.047 *\n",
       "---\n",
       "Signif. codes:  0 ‘***’ 0.001 ‘**’ 0.01 ‘*’ 0.05 ‘.’ 0.1 ‘ ’ 1\n",
       "\n",
       "Residual standard error: 0.008258 on 662 degrees of freedom\n",
       "  (234 observations deleted due to missingness)\n",
       "Multiple R-squared:  0.005947,\tAdjusted R-squared:  0.004446 \n",
       "F-statistic: 3.961 on 1 and 662 DF,  p-value: 0.04699\n"
      ]
     },
     "metadata": {},
     "output_type": "display_data"
    }
   ],
   "source": [
    "lm(d ~ f)%>%summary()"
   ]
  },
  {
   "cell_type": "code",
   "execution_count": 330,
   "metadata": {},
   "outputs": [
    {
     "data": {
      "text/plain": [
       "\n",
       "Call:\n",
       "lm(formula = d[1:180] ~ f[1:180])\n",
       "\n",
       "Residuals:\n",
       "      Min        1Q    Median        3Q       Max \n",
       "-0.035908 -0.000098  0.002369  0.004381  0.010061 \n",
       "\n",
       "Coefficients:\n",
       "             Estimate Std. Error t value Pr(>|t|)  \n",
       "(Intercept) 0.0006648  0.0006654   0.999   0.3196  \n",
       "f[1:180]    0.0009212  0.0005469   1.684   0.0944 .\n",
       "---\n",
       "Signif. codes:  0 ‘***’ 0.001 ‘**’ 0.01 ‘*’ 0.05 ‘.’ 0.1 ‘ ’ 1\n",
       "\n",
       "Residual standard error: 0.00771 on 134 degrees of freedom\n",
       "  (44 observations deleted due to missingness)\n",
       "Multiple R-squared:  0.02074,\tAdjusted R-squared:  0.01343 \n",
       "F-statistic: 2.837 on 1 and 134 DF,  p-value: 0.09442\n"
      ]
     },
     "metadata": {},
     "output_type": "display_data"
    }
   ],
   "source": [
    "lm(d[1:180] ~ f[1:180])%>%summary()"
   ]
  },
  {
   "cell_type": "code",
   "execution_count": 347,
   "metadata": {},
   "outputs": [
    {
     "data": {
      "text/plain": [
       "\n",
       "Call:\n",
       "lm(formula = d[181:180 + 180] ~ f[181:180 + 180])\n",
       "\n",
       "Residuals:\n",
       "ALL 1 residuals are 0: no residual degrees of freedom!\n",
       "\n",
       "Coefficients: (1 not defined because of singularities)\n",
       "                  Estimate Std. Error t value Pr(>|t|)\n",
       "(Intercept)      0.0004953         NA      NA       NA\n",
       "f[181:180 + 180]        NA         NA      NA       NA\n",
       "\n",
       "Residual standard error: NaN on 0 degrees of freedom\n",
       "  (1 observation deleted due to missingness)\n"
      ]
     },
     "metadata": {},
     "output_type": "display_data"
    }
   ],
   "source": [
    "lm(d[181:180+180] ~ f[181:180+180])%>%summary()"
   ]
  },
  {
   "cell_type": "code",
   "execution_count": 349,
   "metadata": {},
   "outputs": [
    {
     "data": {
      "text/plain": [
       "\n",
       "Call:\n",
       "lm(formula = d[181 + 180:181 + 180 + 181] ~ f[181 + 180:181 + \n",
       "    180 + 181])\n",
       "\n",
       "Residuals:\n",
       "ALL 1 residuals are 0: no residual degrees of freedom!\n",
       "\n",
       "Coefficients: (1 not defined because of singularities)\n",
       "                               Estimate Std. Error t value Pr(>|t|)\n",
       "(Intercept)                  -0.0003086         NA      NA       NA\n",
       "f[181 + 180:181 + 180 + 181]         NA         NA      NA       NA\n",
       "\n",
       "Residual standard error: NaN on 0 degrees of freedom\n",
       "  (1 observation deleted due to missingness)\n"
      ]
     },
     "metadata": {},
     "output_type": "display_data"
    }
   ],
   "source": [
    "lm(d[181+180:181+180+181] ~ f[181+180:181+180+181])%>%summary()"
   ]
  },
  {
   "cell_type": "code",
   "execution_count": 350,
   "metadata": {},
   "outputs": [
    {
     "data": {
      "text/plain": [
       "\n",
       "Call:\n",
       "lm(formula = d[181 + 180 + 181 + 180:898] ~ f[181 + 180 + 181 + \n",
       "    180:898])\n",
       "\n",
       "Residuals:\n",
       "      Min        1Q    Median        3Q       Max \n",
       "-0.032620 -0.000773  0.003030  0.005937  0.009293 \n",
       "\n",
       "Coefficients:\n",
       "                               Estimate Std. Error t value Pr(>|t|)\n",
       "(Intercept)                  -0.0006818  0.0007748  -0.880    0.381\n",
       "f[181 + 180 + 181 + 180:898]  0.0003312  0.0007295   0.454    0.651\n",
       "\n",
       "Residual standard error: 0.008726 on 126 degrees of freedom\n",
       "  (591 observations deleted due to missingness)\n",
       "Multiple R-squared:  0.001634,\tAdjusted R-squared:  -0.00629 \n",
       "F-statistic: 0.2062 on 1 and 126 DF,  p-value: 0.6506\n"
      ]
     },
     "metadata": {},
     "output_type": "display_data"
    }
   ],
   "source": [
    "lm(d[181+180+181+180:898] ~ f[181+180+181+180:898])%>%summary()"
   ]
  },
  {
   "cell_type": "code",
   "execution_count": null,
   "metadata": {},
   "outputs": [],
   "source": []
  },
  {
   "cell_type": "code",
   "execution_count": 532,
   "metadata": {},
   "outputs": [
    {
     "name": "stderr",
     "output_type": "stream",
     "text": [
      "`stat_bin()` using `bins = 30`. Pick better value with `binwidth`.\n",
      "\n"
     ]
    },
    {
     "data": {
      "image/png": "[encoded data removed]",
      "text/plain": [
       "plot without title"
      ]
     },
     "metadata": {
      "image/png": {
       "height": 420,
       "width": 420
      }
     },
     "output_type": "display_data"
    }
   ],
   "source": [
    "a$cv_df%>%pull(r2)%>%as.data.frame()%>%t()%>%as_tibble()%>%ggplot(aes(V2))+geom_histogram()\n"
   ]
  },
  {
   "cell_type": "code",
   "execution_count": 536,
   "metadata": {},
   "outputs": [],
   "source": [
    "mean_r2 = cv_df%>%pull(pval)%>%as.data.frame()%>%t()%>%as_tibble()%>%na.omit()%>%colMeans()"
   ]
  },
  {
   "cell_type": "code",
   "execution_count": 537,
   "metadata": {},
   "outputs": [
    {
     "data": {
      "text/html": [
       "<style>\n",
       ".dl-inline {width: auto; margin:0; padding: 0}\n",
       ".dl-inline>dt, .dl-inline>dd {float: none; width: auto; display: inline-block}\n",
       ".dl-inline>dt::after {content: \":\\0020\"; padding-right: .5ex}\n",
       ".dl-inline>dt:not(:first-of-type) {padding-left: .5ex}\n",
       "</style><dl class=dl-inline><dt>V1</dt><dd>0.00540304270587564</dd><dt>V2</dt><dd>0.0280929443853473</dd><dt>V3</dt><dd>0.00739055590338539</dd></dl>\n"
      ],
      "text/latex": [
       "\\begin{description*}\n",
       "\\item[V1] 0.00540304270587564\n",
       "\\item[V2] 0.0280929443853473\n",
       "\\item[V3] 0.00739055590338539\n",
       "\\end{description*}\n"
      ],
      "text/markdown": [
       "V1\n",
       ":   0.00540304270587564V2\n",
       ":   0.0280929443853473V3\n",
       ":   0.00739055590338539\n",
       "\n"
      ],
      "text/plain": [
       "         V1          V2          V3 \n",
       "0.005403043 0.028092944 0.007390556 "
      ]
     },
     "metadata": {},
     "output_type": "display_data"
    }
   ],
   "source": [
    "mean_r2"
   ]
  },
  {
   "cell_type": "code",
   "execution_count": 398,
   "metadata": {},
   "outputs": [],
   "source": [
    "pred = function(X,Wgt){\n",
    "    a = X%*%Wgt[2:nrow(Wgt),]+Wgt[1,]\n",
    "    return(a)\n",
    "}\n"
   ]
  },
  {
   "cell_type": "code",
   "execution_count": 399,
   "metadata": {},
   "outputs": [
    {
     "data": {
      "text/html": [
       "<table>\n",
       "<caption>A matrix: 1707 × 3 of type dbl</caption>\n",
       "<tbody>\n",
       "\t<tr><td> 8.316963e-03</td><td>-1.025920e-02</td><td>-6.871704e-03</td></tr>\n",
       "\t<tr><td>-1.783452e-06</td><td>-4.797925e-06</td><td>-6.544397e-06</td></tr>\n",
       "\t<tr><td>-8.642090e-06</td><td>-1.255853e-05</td><td>-1.803177e-05</td></tr>\n",
       "\t<tr><td> 3.880621e-06</td><td> 6.932639e-06</td><td> 3.729005e-06</td></tr>\n",
       "\t<tr><td>-4.159835e-06</td><td>-2.940889e-06</td><td>-4.458647e-06</td></tr>\n",
       "\t<tr><td>-5.310637e-05</td><td>-1.292583e-05</td><td>-1.332655e-07</td></tr>\n",
       "\t<tr><td>-2.216869e-06</td><td> 8.853716e-06</td><td> 9.779049e-06</td></tr>\n",
       "\t<tr><td> 4.355607e-06</td><td> 8.210905e-06</td><td> 7.549011e-06</td></tr>\n",
       "\t<tr><td>-6.128155e-06</td><td>-5.814926e-06</td><td>-5.655716e-06</td></tr>\n",
       "\t<tr><td>-8.735518e-06</td><td>-1.269637e-05</td><td>-1.829969e-05</td></tr>\n",
       "\t<tr><td>-2.579511e-06</td><td>-1.998802e-06</td><td>-3.455417e-06</td></tr>\n",
       "\t<tr><td>-9.524460e-07</td><td> 5.169292e-06</td><td> 1.305200e-05</td></tr>\n",
       "\t<tr><td> 5.214987e-06</td><td> 6.890433e-06</td><td> 5.979507e-06</td></tr>\n",
       "\t<tr><td>-9.924046e-06</td><td>-8.241726e-06</td><td>-7.282705e-06</td></tr>\n",
       "\t<tr><td>-9.274482e-06</td><td>-1.344969e-05</td><td>-1.967102e-05</td></tr>\n",
       "\t<tr><td>-1.037710e-05</td><td>-1.392418e-05</td><td>-2.016929e-05</td></tr>\n",
       "\t<tr><td>-9.274482e-06</td><td>-1.344969e-05</td><td>-1.967102e-05</td></tr>\n",
       "\t<tr><td> 5.388301e-06</td><td> 5.380757e-06</td><td> 1.545061e-05</td></tr>\n",
       "\t<tr><td>-3.212526e-06</td><td>-2.066226e-06</td><td>-3.410461e-06</td></tr>\n",
       "\t<tr><td>-3.212526e-06</td><td>-2.066226e-06</td><td>-3.410461e-06</td></tr>\n",
       "\t<tr><td>-3.376653e-06</td><td>-3.147048e-06</td><td>-1.689711e-06</td></tr>\n",
       "\t<tr><td>-7.816689e-06</td><td>-1.051497e-05</td><td>-3.100569e-05</td></tr>\n",
       "\t<tr><td>-9.274482e-06</td><td>-1.344969e-05</td><td>-1.967102e-05</td></tr>\n",
       "\t<tr><td>-2.775428e-06</td><td>-1.470425e-06</td><td>-2.722435e-06</td></tr>\n",
       "\t<tr><td>-2.417652e-06</td><td> 4.968649e-06</td><td> 1.389250e-05</td></tr>\n",
       "\t<tr><td>-5.144949e-05</td><td>-6.288916e-05</td><td>-1.448020e-04</td></tr>\n",
       "\t<tr><td>-6.261592e-06</td><td> 5.244646e-07</td><td> 7.470992e-06</td></tr>\n",
       "\t<tr><td> 3.656449e-05</td><td> 3.298897e-05</td><td> 4.834256e-05</td></tr>\n",
       "\t<tr><td>-6.261592e-06</td><td> 5.244646e-07</td><td> 7.470992e-06</td></tr>\n",
       "\t<tr><td> 6.337513e-06</td><td> 7.591098e-06</td><td> 5.237726e-06</td></tr>\n",
       "\t<tr><td>⋮</td><td>⋮</td><td>⋮</td></tr>\n",
       "\t<tr><td>-7.590461e-06</td><td>-2.664825e-06</td><td>-9.592181e-06</td></tr>\n",
       "\t<tr><td>-8.251436e-06</td><td>-3.029509e-06</td><td>-9.787863e-06</td></tr>\n",
       "\t<tr><td>-7.590461e-06</td><td>-2.664825e-06</td><td>-9.592181e-06</td></tr>\n",
       "\t<tr><td>-7.590461e-06</td><td>-2.664825e-06</td><td>-9.592181e-06</td></tr>\n",
       "\t<tr><td>-7.590461e-06</td><td>-2.664825e-06</td><td>-9.592181e-06</td></tr>\n",
       "\t<tr><td>-7.590461e-06</td><td>-2.664825e-06</td><td>-9.592181e-06</td></tr>\n",
       "\t<tr><td>-7.590461e-06</td><td>-2.664825e-06</td><td>-9.592181e-06</td></tr>\n",
       "\t<tr><td>-6.619816e-06</td><td>-1.839656e-06</td><td>-9.253193e-06</td></tr>\n",
       "\t<tr><td>-7.590461e-06</td><td>-2.664825e-06</td><td>-9.592181e-06</td></tr>\n",
       "\t<tr><td>-7.590461e-06</td><td>-2.664825e-06</td><td>-9.592181e-06</td></tr>\n",
       "\t<tr><td>-7.590461e-06</td><td>-2.664825e-06</td><td>-9.592181e-06</td></tr>\n",
       "\t<tr><td>-1.081423e-05</td><td>-4.752466e-06</td><td>-1.357025e-05</td></tr>\n",
       "\t<tr><td>-6.619816e-06</td><td>-1.839656e-06</td><td>-9.253193e-06</td></tr>\n",
       "\t<tr><td>-7.590461e-06</td><td>-2.664825e-06</td><td>-9.592181e-06</td></tr>\n",
       "\t<tr><td>-7.590461e-06</td><td>-2.664825e-06</td><td>-9.592181e-06</td></tr>\n",
       "\t<tr><td>-6.396505e-06</td><td>-1.695800e-06</td><td>-8.918528e-06</td></tr>\n",
       "\t<tr><td>-7.590461e-06</td><td>-2.664825e-06</td><td>-9.592181e-06</td></tr>\n",
       "\t<tr><td>-1.081423e-05</td><td>-4.752466e-06</td><td>-1.357025e-05</td></tr>\n",
       "\t<tr><td>-7.590461e-06</td><td>-2.664825e-06</td><td>-9.592181e-06</td></tr>\n",
       "\t<tr><td>-1.051069e-05</td><td>-4.583221e-06</td><td>-1.315946e-05</td></tr>\n",
       "\t<tr><td>-6.018694e-06</td><td>-1.528756e-06</td><td>-7.348799e-06</td></tr>\n",
       "\t<tr><td>-7.590461e-06</td><td>-2.664825e-06</td><td>-9.592181e-06</td></tr>\n",
       "\t<tr><td>-7.011668e-06</td><td>-2.038053e-06</td><td>-8.548618e-06</td></tr>\n",
       "\t<tr><td>-5.459276e-06</td><td>-1.208007e-06</td><td>-8.433791e-06</td></tr>\n",
       "\t<tr><td>-6.396505e-06</td><td>-1.695800e-06</td><td>-8.918528e-06</td></tr>\n",
       "\t<tr><td>-7.590461e-06</td><td>-2.664825e-06</td><td>-9.592181e-06</td></tr>\n",
       "\t<tr><td>-7.295786e-06</td><td>-2.486289e-06</td><td>-9.043638e-06</td></tr>\n",
       "\t<tr><td>-7.590461e-06</td><td>-2.664825e-06</td><td>-9.592181e-06</td></tr>\n",
       "\t<tr><td>-7.590461e-06</td><td>-2.664825e-06</td><td>-9.592181e-06</td></tr>\n",
       "\t<tr><td>-7.590461e-06</td><td>-2.664825e-06</td><td>-9.592181e-06</td></tr>\n",
       "</tbody>\n",
       "</table>\n"
      ],
      "text/latex": [
       "A matrix: 1707 × 3 of type dbl\n",
       "\\begin{tabular}{lll}\n",
       "\t  8.316963e-03 & -1.025920e-02 & -6.871704e-03\\\\\n",
       "\t -1.783452e-06 & -4.797925e-06 & -6.544397e-06\\\\\n",
       "\t -8.642090e-06 & -1.255853e-05 & -1.803177e-05\\\\\n",
       "\t  3.880621e-06 &  6.932639e-06 &  3.729005e-06\\\\\n",
       "\t -4.159835e-06 & -2.940889e-06 & -4.458647e-06\\\\\n",
       "\t -5.310637e-05 & -1.292583e-05 & -1.332655e-07\\\\\n",
       "\t -2.216869e-06 &  8.853716e-06 &  9.779049e-06\\\\\n",
       "\t  4.355607e-06 &  8.210905e-06 &  7.549011e-06\\\\\n",
       "\t -6.128155e-06 & -5.814926e-06 & -5.655716e-06\\\\\n",
       "\t -8.735518e-06 & -1.269637e-05 & -1.829969e-05\\\\\n",
       "\t -2.579511e-06 & -1.998802e-06 & -3.455417e-06\\\\\n",
       "\t -9.524460e-07 &  5.169292e-06 &  1.305200e-05\\\\\n",
       "\t  5.214987e-06 &  6.890433e-06 &  5.979507e-06\\\\\n",
       "\t -9.924046e-06 & -8.241726e-06 & -7.282705e-06\\\\\n",
       "\t -9.274482e-06 & -1.344969e-05 & -1.967102e-05\\\\\n",
       "\t -1.037710e-05 & -1.392418e-05 & -2.016929e-05\\\\\n",
       "\t -9.274482e-06 & -1.344969e-05 & -1.967102e-05\\\\\n",
       "\t  5.388301e-06 &  5.380757e-06 &  1.545061e-05\\\\\n",
       "\t -3.212526e-06 & -2.066226e-06 & -3.410461e-06\\\\\n",
       "\t -3.212526e-06 & -2.066226e-06 & -3.410461e-06\\\\\n",
       "\t -3.376653e-06 & -3.147048e-06 & -1.689711e-06\\\\\n",
       "\t -7.816689e-06 & -1.051497e-05 & -3.100569e-05\\\\\n",
       "\t -9.274482e-06 & -1.344969e-05 & -1.967102e-05\\\\\n",
       "\t -2.775428e-06 & -1.470425e-06 & -2.722435e-06\\\\\n",
       "\t -2.417652e-06 &  4.968649e-06 &  1.389250e-05\\\\\n",
       "\t -5.144949e-05 & -6.288916e-05 & -1.448020e-04\\\\\n",
       "\t -6.261592e-06 &  5.244646e-07 &  7.470992e-06\\\\\n",
       "\t  3.656449e-05 &  3.298897e-05 &  4.834256e-05\\\\\n",
       "\t -6.261592e-06 &  5.244646e-07 &  7.470992e-06\\\\\n",
       "\t  6.337513e-06 &  7.591098e-06 &  5.237726e-06\\\\\n",
       "\t ⋮ & ⋮ & ⋮\\\\\n",
       "\t -7.590461e-06 & -2.664825e-06 & -9.592181e-06\\\\\n",
       "\t -8.251436e-06 & -3.029509e-06 & -9.787863e-06\\\\\n",
       "\t -7.590461e-06 & -2.664825e-06 & -9.592181e-06\\\\\n",
       "\t -7.590461e-06 & -2.664825e-06 & -9.592181e-06\\\\\n",
       "\t -7.590461e-06 & -2.664825e-06 & -9.592181e-06\\\\\n",
       "\t -7.590461e-06 & -2.664825e-06 & -9.592181e-06\\\\\n",
       "\t -7.590461e-06 & -2.664825e-06 & -9.592181e-06\\\\\n",
       "\t -6.619816e-06 & -1.839656e-06 & -9.253193e-06\\\\\n",
       "\t -7.590461e-06 & -2.664825e-06 & -9.592181e-06\\\\\n",
       "\t -7.590461e-06 & -2.664825e-06 & -9.592181e-06\\\\\n",
       "\t -7.590461e-06 & -2.664825e-06 & -9.592181e-06\\\\\n",
       "\t -1.081423e-05 & -4.752466e-06 & -1.357025e-05\\\\\n",
       "\t -6.619816e-06 & -1.839656e-06 & -9.253193e-06\\\\\n",
       "\t -7.590461e-06 & -2.664825e-06 & -9.592181e-06\\\\\n",
       "\t -7.590461e-06 & -2.664825e-06 & -9.592181e-06\\\\\n",
       "\t -6.396505e-06 & -1.695800e-06 & -8.918528e-06\\\\\n",
       "\t -7.590461e-06 & -2.664825e-06 & -9.592181e-06\\\\\n",
       "\t -1.081423e-05 & -4.752466e-06 & -1.357025e-05\\\\\n",
       "\t -7.590461e-06 & -2.664825e-06 & -9.592181e-06\\\\\n",
       "\t -1.051069e-05 & -4.583221e-06 & -1.315946e-05\\\\\n",
       "\t -6.018694e-06 & -1.528756e-06 & -7.348799e-06\\\\\n",
       "\t -7.590461e-06 & -2.664825e-06 & -9.592181e-06\\\\\n",
       "\t -7.011668e-06 & -2.038053e-06 & -8.548618e-06\\\\\n",
       "\t -5.459276e-06 & -1.208007e-06 & -8.433791e-06\\\\\n",
       "\t -6.396505e-06 & -1.695800e-06 & -8.918528e-06\\\\\n",
       "\t -7.590461e-06 & -2.664825e-06 & -9.592181e-06\\\\\n",
       "\t -7.295786e-06 & -2.486289e-06 & -9.043638e-06\\\\\n",
       "\t -7.590461e-06 & -2.664825e-06 & -9.592181e-06\\\\\n",
       "\t -7.590461e-06 & -2.664825e-06 & -9.592181e-06\\\\\n",
       "\t -7.590461e-06 & -2.664825e-06 & -9.592181e-06\\\\\n",
       "\\end{tabular}\n"
      ],
      "text/markdown": [
       "\n",
       "A matrix: 1707 × 3 of type dbl\n",
       "\n",
       "|  8.316963e-03 | -1.025920e-02 | -6.871704e-03 |\n",
       "| -1.783452e-06 | -4.797925e-06 | -6.544397e-06 |\n",
       "| -8.642090e-06 | -1.255853e-05 | -1.803177e-05 |\n",
       "|  3.880621e-06 |  6.932639e-06 |  3.729005e-06 |\n",
       "| -4.159835e-06 | -2.940889e-06 | -4.458647e-06 |\n",
       "| -5.310637e-05 | -1.292583e-05 | -1.332655e-07 |\n",
       "| -2.216869e-06 |  8.853716e-06 |  9.779049e-06 |\n",
       "|  4.355607e-06 |  8.210905e-06 |  7.549011e-06 |\n",
       "| -6.128155e-06 | -5.814926e-06 | -5.655716e-06 |\n",
       "| -8.735518e-06 | -1.269637e-05 | -1.829969e-05 |\n",
       "| -2.579511e-06 | -1.998802e-06 | -3.455417e-06 |\n",
       "| -9.524460e-07 |  5.169292e-06 |  1.305200e-05 |\n",
       "|  5.214987e-06 |  6.890433e-06 |  5.979507e-06 |\n",
       "| -9.924046e-06 | -8.241726e-06 | -7.282705e-06 |\n",
       "| -9.274482e-06 | -1.344969e-05 | -1.967102e-05 |\n",
       "| -1.037710e-05 | -1.392418e-05 | -2.016929e-05 |\n",
       "| -9.274482e-06 | -1.344969e-05 | -1.967102e-05 |\n",
       "|  5.388301e-06 |  5.380757e-06 |  1.545061e-05 |\n",
       "| -3.212526e-06 | -2.066226e-06 | -3.410461e-06 |\n",
       "| -3.212526e-06 | -2.066226e-06 | -3.410461e-06 |\n",
       "| -3.376653e-06 | -3.147048e-06 | -1.689711e-06 |\n",
       "| -7.816689e-06 | -1.051497e-05 | -3.100569e-05 |\n",
       "| -9.274482e-06 | -1.344969e-05 | -1.967102e-05 |\n",
       "| -2.775428e-06 | -1.470425e-06 | -2.722435e-06 |\n",
       "| -2.417652e-06 |  4.968649e-06 |  1.389250e-05 |\n",
       "| -5.144949e-05 | -6.288916e-05 | -1.448020e-04 |\n",
       "| -6.261592e-06 |  5.244646e-07 |  7.470992e-06 |\n",
       "|  3.656449e-05 |  3.298897e-05 |  4.834256e-05 |\n",
       "| -6.261592e-06 |  5.244646e-07 |  7.470992e-06 |\n",
       "|  6.337513e-06 |  7.591098e-06 |  5.237726e-06 |\n",
       "| ⋮ | ⋮ | ⋮ |\n",
       "| -7.590461e-06 | -2.664825e-06 | -9.592181e-06 |\n",
       "| -8.251436e-06 | -3.029509e-06 | -9.787863e-06 |\n",
       "| -7.590461e-06 | -2.664825e-06 | -9.592181e-06 |\n",
       "| -7.590461e-06 | -2.664825e-06 | -9.592181e-06 |\n",
       "| -7.590461e-06 | -2.664825e-06 | -9.592181e-06 |\n",
       "| -7.590461e-06 | -2.664825e-06 | -9.592181e-06 |\n",
       "| -7.590461e-06 | -2.664825e-06 | -9.592181e-06 |\n",
       "| -6.619816e-06 | -1.839656e-06 | -9.253193e-06 |\n",
       "| -7.590461e-06 | -2.664825e-06 | -9.592181e-06 |\n",
       "| -7.590461e-06 | -2.664825e-06 | -9.592181e-06 |\n",
       "| -7.590461e-06 | -2.664825e-06 | -9.592181e-06 |\n",
       "| -1.081423e-05 | -4.752466e-06 | -1.357025e-05 |\n",
       "| -6.619816e-06 | -1.839656e-06 | -9.253193e-06 |\n",
       "| -7.590461e-06 | -2.664825e-06 | -9.592181e-06 |\n",
       "| -7.590461e-06 | -2.664825e-06 | -9.592181e-06 |\n",
       "| -6.396505e-06 | -1.695800e-06 | -8.918528e-06 |\n",
       "| -7.590461e-06 | -2.664825e-06 | -9.592181e-06 |\n",
       "| -1.081423e-05 | -4.752466e-06 | -1.357025e-05 |\n",
       "| -7.590461e-06 | -2.664825e-06 | -9.592181e-06 |\n",
       "| -1.051069e-05 | -4.583221e-06 | -1.315946e-05 |\n",
       "| -6.018694e-06 | -1.528756e-06 | -7.348799e-06 |\n",
       "| -7.590461e-06 | -2.664825e-06 | -9.592181e-06 |\n",
       "| -7.011668e-06 | -2.038053e-06 | -8.548618e-06 |\n",
       "| -5.459276e-06 | -1.208007e-06 | -8.433791e-06 |\n",
       "| -6.396505e-06 | -1.695800e-06 | -8.918528e-06 |\n",
       "| -7.590461e-06 | -2.664825e-06 | -9.592181e-06 |\n",
       "| -7.295786e-06 | -2.486289e-06 | -9.043638e-06 |\n",
       "| -7.590461e-06 | -2.664825e-06 | -9.592181e-06 |\n",
       "| -7.590461e-06 | -2.664825e-06 | -9.592181e-06 |\n",
       "| -7.590461e-06 | -2.664825e-06 | -9.592181e-06 |\n",
       "\n"
      ],
      "text/plain": [
       "      [,1]          [,2]          [,3]         \n",
       " [1,]  8.316963e-03 -1.025920e-02 -6.871704e-03\n",
       " [2,] -1.783452e-06 -4.797925e-06 -6.544397e-06\n",
       " [3,] -8.642090e-06 -1.255853e-05 -1.803177e-05\n",
       " [4,]  3.880621e-06  6.932639e-06  3.729005e-06\n",
       " [5,] -4.159835e-06 -2.940889e-06 -4.458647e-06\n",
       " [6,] -5.310637e-05 -1.292583e-05 -1.332655e-07\n",
       " [7,] -2.216869e-06  8.853716e-06  9.779049e-06\n",
       " [8,]  4.355607e-06  8.210905e-06  7.549011e-06\n",
       " [9,] -6.128155e-06 -5.814926e-06 -5.655716e-06\n",
       "[10,] -8.735518e-06 -1.269637e-05 -1.829969e-05\n",
       "[11,] -2.579511e-06 -1.998802e-06 -3.455417e-06\n",
       "[12,] -9.524460e-07  5.169292e-06  1.305200e-05\n",
       "[13,]  5.214987e-06  6.890433e-06  5.979507e-06\n",
       "[14,] -9.924046e-06 -8.241726e-06 -7.282705e-06\n",
       "[15,] -9.274482e-06 -1.344969e-05 -1.967102e-05\n",
       "[16,] -1.037710e-05 -1.392418e-05 -2.016929e-05\n",
       "[17,] -9.274482e-06 -1.344969e-05 -1.967102e-05\n",
       "[18,]  5.388301e-06  5.380757e-06  1.545061e-05\n",
       "[19,] -3.212526e-06 -2.066226e-06 -3.410461e-06\n",
       "[20,] -3.212526e-06 -2.066226e-06 -3.410461e-06\n",
       "[21,] -3.376653e-06 -3.147048e-06 -1.689711e-06\n",
       "[22,] -7.816689e-06 -1.051497e-05 -3.100569e-05\n",
       "[23,] -9.274482e-06 -1.344969e-05 -1.967102e-05\n",
       "[24,] -2.775428e-06 -1.470425e-06 -2.722435e-06\n",
       "[25,] -2.417652e-06  4.968649e-06  1.389250e-05\n",
       "[26,] -5.144949e-05 -6.288916e-05 -1.448020e-04\n",
       "[27,] -6.261592e-06  5.244646e-07  7.470992e-06\n",
       "[28,]  3.656449e-05  3.298897e-05  4.834256e-05\n",
       "[29,] -6.261592e-06  5.244646e-07  7.470992e-06\n",
       "[30,]  6.337513e-06  7.591098e-06  5.237726e-06\n",
       "[31,] ⋮             ⋮             ⋮            \n",
       "[32,] -7.590461e-06 -2.664825e-06 -9.592181e-06\n",
       "[33,] -8.251436e-06 -3.029509e-06 -9.787863e-06\n",
       "[34,] -7.590461e-06 -2.664825e-06 -9.592181e-06\n",
       "[35,] -7.590461e-06 -2.664825e-06 -9.592181e-06\n",
       "[36,] -7.590461e-06 -2.664825e-06 -9.592181e-06\n",
       "[37,] -7.590461e-06 -2.664825e-06 -9.592181e-06\n",
       "[38,] -7.590461e-06 -2.664825e-06 -9.592181e-06\n",
       "[39,] -6.619816e-06 -1.839656e-06 -9.253193e-06\n",
       "[40,] -7.590461e-06 -2.664825e-06 -9.592181e-06\n",
       "[41,] -7.590461e-06 -2.664825e-06 -9.592181e-06\n",
       "[42,] -7.590461e-06 -2.664825e-06 -9.592181e-06\n",
       "[43,] -1.081423e-05 -4.752466e-06 -1.357025e-05\n",
       "[44,] -6.619816e-06 -1.839656e-06 -9.253193e-06\n",
       "[45,] -7.590461e-06 -2.664825e-06 -9.592181e-06\n",
       "[46,] -7.590461e-06 -2.664825e-06 -9.592181e-06\n",
       "[47,] -6.396505e-06 -1.695800e-06 -8.918528e-06\n",
       "[48,] -7.590461e-06 -2.664825e-06 -9.592181e-06\n",
       "[49,] -1.081423e-05 -4.752466e-06 -1.357025e-05\n",
       "[50,] -7.590461e-06 -2.664825e-06 -9.592181e-06\n",
       "[51,] -1.051069e-05 -4.583221e-06 -1.315946e-05\n",
       "[52,] -6.018694e-06 -1.528756e-06 -7.348799e-06\n",
       "[53,] -7.590461e-06 -2.664825e-06 -9.592181e-06\n",
       "[54,] -7.011668e-06 -2.038053e-06 -8.548618e-06\n",
       "[55,] -5.459276e-06 -1.208007e-06 -8.433791e-06\n",
       "[56,] -6.396505e-06 -1.695800e-06 -8.918528e-06\n",
       "[57,] -7.590461e-06 -2.664825e-06 -9.592181e-06\n",
       "[58,] -7.295786e-06 -2.486289e-06 -9.043638e-06\n",
       "[59,] -7.590461e-06 -2.664825e-06 -9.592181e-06\n",
       "[60,] -7.590461e-06 -2.664825e-06 -9.592181e-06\n",
       "[61,] -7.590461e-06 -2.664825e-06 -9.592181e-06"
      ]
     },
     "metadata": {},
     "output_type": "display_data"
    }
   ],
   "source": [
    " b$full_model$coef"
   ]
  },
  {
   "cell_type": "code",
   "execution_count": 266,
   "metadata": {},
   "outputs": [
    {
     "ename": "ERROR",
     "evalue": "Error in UseMethod(\"pull\"): no applicable method for 'pull' applied to an object of class \"NULL\"\n",
     "output_type": "error",
     "traceback": [
      "Error in UseMethod(\"pull\"): no applicable method for 'pull' applied to an object of class \"NULL\"\nTraceback:\n",
      "1. a$cv_df %>% pull(pval) %>% as.data.frame() %>% t() %>% as_tibble() %>% \n .     ggplot(aes(V2))",
      "2. withVisible(eval(quote(`_fseq`(`_lhs`)), env, env))",
      "3. eval(quote(`_fseq`(`_lhs`)), env, env)",
      "4. eval(quote(`_fseq`(`_lhs`)), env, env)",
      "5. `_fseq`(`_lhs`)",
      "6. freduce(value, `_function_list`)",
      "7. function_list[[i]](value)",
      "8. pull(., pval)"
     ]
    }
   ],
   "source": [
    "a$cv_df%>%pull(pval)%>%as.data.frame()%>%t()%>%as_tibble()%>%ggplot(aes(V2))+geom_histogram()\n"
   ]
  },
  {
   "cell_type": "code",
   "execution_count": 528,
   "metadata": {},
   "outputs": [],
   "source": [
    "test1 = a$cv_df%>%select(train_X,train_Y,test_X,test_Y,test_fitted,r2,r2_raw,rmse,weight)"
   ]
  },
  {
   "cell_type": "code",
   "execution_count": 494,
   "metadata": {},
   "outputs": [
    {
     "data": {
      "text/html": [
       "1"
      ],
      "text/latex": [
       "1"
      ],
      "text/markdown": [
       "1"
      ],
      "text/plain": [
       "[1] 1"
      ]
     },
     "metadata": {},
     "output_type": "display_data"
    }
   ],
   "source": [
    "low = test1[49,]\n",
    "High = test1[3,]\n",
    "high_name = High$train_X[[1]]%>%colnames()\n",
    "low_name = Low$train_X[[1]]%>%colnames()\n",
    "mean(high_name %in% low_name)"
   ]
  },
  {
   "cell_type": "code",
   "execution_count": 495,
   "metadata": {},
   "outputs": [
    {
     "data": {
      "text/html": [
       "0"
      ],
      "text/latex": [
       "0"
      ],
      "text/markdown": [
       "0"
      ],
      "text/plain": [
       "[1] 0"
      ]
     },
     "metadata": {},
     "output_type": "display_data"
    },
    {
     "data": {
      "text/html": [
       "<table>\n",
       "<caption>A data.frame: 3 × 1</caption>\n",
       "<thead>\n",
       "\t<tr><th scope=col>c.0.496224040862094..0.496246935335345..0.497436355987675.</th></tr>\n",
       "\t<tr><th scope=col>&lt;dbl&gt;</th></tr>\n",
       "</thead>\n",
       "<tbody>\n",
       "\t<tr><td>0.4962240</td></tr>\n",
       "\t<tr><td>0.4962469</td></tr>\n",
       "\t<tr><td>0.4974364</td></tr>\n",
       "</tbody>\n",
       "</table>\n"
      ],
      "text/latex": [
       "A data.frame: 3 × 1\n",
       "\\begin{tabular}{l}\n",
       " c.0.496224040862094..0.496246935335345..0.497436355987675.\\\\\n",
       " <dbl>\\\\\n",
       "\\hline\n",
       "\t 0.4962240\\\\\n",
       "\t 0.4962469\\\\\n",
       "\t 0.4974364\\\\\n",
       "\\end{tabular}\n"
      ],
      "text/markdown": [
       "\n",
       "A data.frame: 3 × 1\n",
       "\n",
       "| c.0.496224040862094..0.496246935335345..0.497436355987675. &lt;dbl&gt; |\n",
       "|---|\n",
       "| 0.4962240 |\n",
       "| 0.4962469 |\n",
       "| 0.4974364 |\n",
       "\n"
      ],
      "text/plain": [
       "  c.0.496224040862094..0.496246935335345..0.497436355987675.\n",
       "1 0.4962240                                                 \n",
       "2 0.4962469                                                 \n",
       "3 0.4974364                                                 "
      ]
     },
     "metadata": {},
     "output_type": "display_data"
    }
   ],
   "source": [
    "see = High$weight%>%as.data.frame%>%as.tibble\n",
    "see =  see[2:nrow(see),]\n",
    "max(see)\n",
    "High%>%pull(r2)%>%as.data.frame()"
   ]
  },
  {
   "cell_type": "code",
   "execution_count": 529,
   "metadata": {},
   "outputs": [],
   "source": [
    "fitted = (High%>%pull(test_fitted))[[1]]\n",
    "raw = (High%>%pull(test_Y))[[1]]"
   ]
  },
  {
   "cell_type": "code",
   "execution_count": 497,
   "metadata": {},
   "outputs": [
    {
     "name": "stderr",
     "output_type": "stream",
     "text": [
      "Warning message in summary.lm(lm(fitted[, 1] ~ raw[, 1])):\n",
      "“essentially perfect fit: summary may be unreliable”\n"
     ]
    },
    {
     "data": {
      "text/plain": [
       "\n",
       "Call:\n",
       "lm(formula = fitted[, 1] ~ raw[, 1])\n",
       "\n",
       "Residuals:\n",
       "       Min         1Q     Median         3Q        Max \n",
       "-7.510e-19 -3.360e-19 -2.620e-19 -1.800e-19  3.559e-17 \n",
       "\n",
       "Coefficients:\n",
       "              Estimate Std. Error    t value Pr(>|t|)    \n",
       "(Intercept) -2.516e-02  2.708e-19 -9.288e+16   <2e-16 ***\n",
       "raw[, 1]     1.219e-19  2.659e-19  4.580e-01    0.647    \n",
       "---\n",
       "Signif. codes:  0 ‘***’ 0.001 ‘**’ 0.01 ‘*’ 0.05 ‘.’ 0.1 ‘ ’ 1\n",
       "\n",
       "Residual standard error: 3.112e-18 on 132 degrees of freedom\n",
       "  (46 observations deleted due to missingness)\n",
       "Multiple R-squared:  0.4849,\tAdjusted R-squared:  0.481 \n",
       "F-statistic: 124.3 on 1 and 132 DF,  p-value: < 2.2e-16\n"
      ]
     },
     "metadata": {},
     "output_type": "display_data"
    }
   ],
   "source": [
    "summary(lm(fitted[,1] ~ raw[,1] ))"
   ]
  },
  {
   "cell_type": "code",
   "execution_count": 455,
   "metadata": {},
   "outputs": [],
   "source": [
    "compute_r2 = function(raw,fitted){\n",
    "      pval = rep(0,ncol(raw))\n",
    "    for (k in 1:ncol(raw)){\n",
    "        pval[k] = summary(lm( fitted[,k] ~ raw[,k] ))$adj.r.sq\n",
    "      }\n",
    "      return(pval)\n",
    "    }\n",
    "compute_r2_raw = function(raw,fitted){\n",
    "      r2 = rep(0,ncol(raw))\n",
    "      for (j in 1:ncol(raw)){\n",
    "        r2[j] =  cor(fitted[,j][which(!is.na(raw[,j])),],raw[,j]%>%na.omit())^2\n",
    "      }\n",
    "      return(r2)\n",
    "    }"
   ]
  },
  {
   "cell_type": "code",
   "execution_count": 405,
   "metadata": {},
   "outputs": [
    {
     "data": {
      "text/html": [
       "<style>\n",
       ".list-inline {list-style: none; margin:0; padding: 0}\n",
       ".list-inline>li {display: inline-block}\n",
       ".list-inline>li:not(:last-child)::after {content: \"\\00b7\"; padding: 0 .5ex}\n",
       "</style>\n",
       "<ol class=list-inline><li>0.00210054520061998</li><li>0.000195166246488245</li><li>0.00323191279414645</li></ol>\n"
      ],
      "text/latex": [
       "\\begin{enumerate*}\n",
       "\\item 0.00210054520061998\n",
       "\\item 0.000195166246488245\n",
       "\\item 0.00323191279414645\n",
       "\\end{enumerate*}\n"
      ],
      "text/markdown": [
       "1. 0.00210054520061998\n",
       "2. 0.000195166246488245\n",
       "3. 0.00323191279414645\n",
       "\n",
       "\n"
      ],
      "text/plain": [
       "[1] 0.0021005452 0.0001951662 0.0032319128"
      ]
     },
     "metadata": {},
     "output_type": "display_data"
    }
   ],
   "source": [
    "compute_r2_raw(test$test_Y[[1]],test$test_fitted[[1]])\n",
    "fitted = test$test_fitted[[1]]\n",
    "raw = test$test_Y[[1]]\n",
    "r2 = rep(0,ncol(raw))\n",
    "j = 1\n",
    "r2[j] =  cor(fitted[,j][which(!is.na(raw[,j]))],raw[,j]%>%na.omit())^2\n"
   ]
  },
  {
   "cell_type": "code",
   "execution_count": 432,
   "metadata": {},
   "outputs": [],
   "source": [
    "compute_r2_raw = function(raw,fitted){\n",
    "      r2 = rep(0,ncol(raw))\n",
    "      for (j in 1:ncol(raw)){\n",
    "        r2[j] =  cor(fitted[,j][which(!is.na(raw[,j]))],raw[,j]%>%na.omit())^2\n",
    "      }\n",
    "      return(r2)\n",
    "    }"
   ]
  },
  {
   "cell_type": "code",
   "execution_count": 134,
   "metadata": {},
   "outputs": [
    {
     "ename": "ERROR",
     "evalue": "Error in (test %>% pull(test_fitted))[[1]] %*% (test %>% pull(train_X))[[1]]: non-conformable arguments\n",
     "output_type": "error",
     "traceback": [
      "Error in (test %>% pull(test_fitted))[[1]] %*% (test %>% pull(train_X))[[1]]: non-conformable arguments\nTraceback:\n"
     ]
    }
   ],
   "source": [
    "\n",
    "fitted = (test%>%pull(test_fitted))[[1]]\n",
    "fitted = (test%>%pull())[[1]]%*%(test%>%pull(train_X))[[1]]\n",
    "raw = (test%>%pull(train_Y))[[1]]"
   ]
  },
  {
   "cell_type": "code",
   "execution_count": 133,
   "metadata": {},
   "outputs": [
    {
     "data": {
      "text/plain": [
       "\n",
       "Call:\n",
       "lm(formula = d[, 2] ~ d[, 1])\n",
       "\n",
       "Residuals:\n",
       "      Min        1Q    Median        3Q       Max \n",
       "-0.119784  0.009134  0.010346  0.011057  0.018892 \n",
       "\n",
       "Coefficients:\n",
       "             Estimate Std. Error t value Pr(>|t|)    \n",
       "(Intercept) 0.0187127  0.0020445   9.153   <2e-16 ***\n",
       "d[, 1]      0.0007347  0.0022616   0.325    0.746    \n",
       "---\n",
       "Signif. codes:  0 ‘***’ 0.001 ‘**’ 0.01 ‘*’ 0.05 ‘.’ 0.1 ‘ ’ 1\n",
       "\n",
       "Residual standard error: 0.02651 on 168 degrees of freedom\n",
       "Multiple R-squared:  0.0006278,\tAdjusted R-squared:  -0.005321 \n",
       "F-statistic: 0.1055 on 1 and 168 DF,  p-value: 0.7457\n"
      ]
     },
     "metadata": {},
     "output_type": "display_data"
    },
    {
     "data": {
      "text/html": [
       "<table>\n",
       "<caption>A matrix: 170 × 2 of type dbl</caption>\n",
       "<thead>\n",
       "\t<tr><th scope=col>V6</th><th scope=col></th></tr>\n",
       "</thead>\n",
       "<tbody>\n",
       "\t<tr><td> 0.82554105</td><td> 0.02916113</td></tr>\n",
       "\t<tr><td> 0.13322126</td><td> 0.02916113</td></tr>\n",
       "\t<tr><td>-0.46357178</td><td> 0.02926642</td></tr>\n",
       "\t<tr><td> 0.11978170</td><td> 0.02920299</td></tr>\n",
       "\t<tr><td>-0.46272276</td><td> 0.02916113</td></tr>\n",
       "\t<tr><td>-1.21241167</td><td>-0.03777457</td></tr>\n",
       "\t<tr><td>-0.37738765</td><td> 0.02926642</td></tr>\n",
       "\t<tr><td> 1.33346121</td><td> 0.02470765</td></tr>\n",
       "\t<tr><td> 0.69410856</td><td> 0.03326382</td></tr>\n",
       "\t<tr><td>-0.85439162</td><td> 0.03117701</td></tr>\n",
       "\t<tr><td>-0.79506131</td><td> 0.02466672</td></tr>\n",
       "\t<tr><td> 0.81079562</td><td> 0.03205281</td></tr>\n",
       "\t<tr><td> 1.81960199</td><td> 0.02916113</td></tr>\n",
       "\t<tr><td>-0.35542835</td><td>-0.03576134</td></tr>\n",
       "\t<tr><td>-0.25701916</td><td>-0.03741245</td></tr>\n",
       "\t<tr><td>-0.08572736</td><td>-0.03787986</td></tr>\n",
       "\t<tr><td>-1.08401261</td><td> 0.02904618</td></tr>\n",
       "\t<tr><td>-0.01215972</td><td> 0.02909770</td></tr>\n",
       "\t<tr><td>-0.18154873</td><td> 0.02920299</td></tr>\n",
       "\t<tr><td>-1.08383830</td><td> 0.02926642</td></tr>\n",
       "\t<tr><td> 0.97191013</td><td>-0.03662692</td></tr>\n",
       "\t<tr><td>-0.46021505</td><td>-0.10110421</td></tr>\n",
       "\t<tr><td>-1.47757068</td><td> 0.02926642</td></tr>\n",
       "\t<tr><td> 0.85957501</td><td> 0.02916113</td></tr>\n",
       "\t<tr><td> 0.27114961</td><td> 0.02930371</td></tr>\n",
       "\t<tr><td> 0.76663244</td><td> 0.02919111</td></tr>\n",
       "\t<tr><td> 1.78113175</td><td> 0.02477108</td></tr>\n",
       "\t<tr><td> 0.72712201</td><td> 0.02909770</td></tr>\n",
       "\t<tr><td> 0.11092714</td><td> 0.02926642</td></tr>\n",
       "\t<tr><td>-1.53959705</td><td> 0.02896354</td></tr>\n",
       "\t<tr><td>⋮</td><td>⋮</td></tr>\n",
       "\t<tr><td> 0.81427043</td><td> 0.02909770</td></tr>\n",
       "\t<tr><td>-1.84444361</td><td> 0.02916113</td></tr>\n",
       "\t<tr><td>-0.74122153</td><td> 0.02912361</td></tr>\n",
       "\t<tr><td> 0.21644478</td><td> 0.02919494</td></tr>\n",
       "\t<tr><td>-0.17470707</td><td> 0.02916113</td></tr>\n",
       "\t<tr><td>-1.89594998</td><td> 0.02635613</td></tr>\n",
       "\t<tr><td> 0.70068989</td><td> 0.02916113</td></tr>\n",
       "\t<tr><td>-1.26195854</td><td> 0.02926642</td></tr>\n",
       "\t<tr><td>-0.02219150</td><td> 0.03119030</td></tr>\n",
       "\t<tr><td> 0.35102792</td><td> 0.02909770</td></tr>\n",
       "\t<tr><td>-0.24710219</td><td> 0.02909770</td></tr>\n",
       "\t<tr><td>-3.86420983</td><td> 0.03039017</td></tr>\n",
       "\t<tr><td> 0.32091014</td><td> 0.02916113</td></tr>\n",
       "\t<tr><td> 0.42414780</td><td> 0.02909770</td></tr>\n",
       "\t<tr><td>-0.44883198</td><td> 0.02909022</td></tr>\n",
       "\t<tr><td>-0.24583541</td><td>-0.03737059</td></tr>\n",
       "\t<tr><td> 0.37664757</td><td> 0.02473763</td></tr>\n",
       "\t<tr><td>-0.17720522</td><td> 0.02920299</td></tr>\n",
       "\t<tr><td>-1.19956389</td><td> 0.02811444</td></tr>\n",
       "\t<tr><td>-1.78174251</td><td> 0.02916113</td></tr>\n",
       "\t<tr><td> 0.04851786</td><td> 0.02920299</td></tr>\n",
       "\t<tr><td>-0.74876995</td><td> 0.03031927</td></tr>\n",
       "\t<tr><td>-1.36747619</td><td>-0.03686655</td></tr>\n",
       "\t<tr><td> 0.25420094</td><td> 0.03031927</td></tr>\n",
       "\t<tr><td> 0.27383443</td><td> 0.02490635</td></tr>\n",
       "\t<tr><td> 0.19516779</td><td> 0.02909770</td></tr>\n",
       "\t<tr><td>-1.01048227</td><td> 0.02916113</td></tr>\n",
       "\t<tr><td>-0.18857564</td><td> 0.02916113</td></tr>\n",
       "\t<tr><td>-1.46989856</td><td> 0.02903427</td></tr>\n",
       "\t<tr><td> 1.21680507</td><td> 0.02909022</td></tr>\n",
       "</tbody>\n",
       "</table>\n"
      ],
      "text/latex": [
       "A matrix: 170 × 2 of type dbl\n",
       "\\begin{tabular}{ll}\n",
       " V6 & \\\\\n",
       "\\hline\n",
       "\t  0.82554105 &  0.02916113\\\\\n",
       "\t  0.13322126 &  0.02916113\\\\\n",
       "\t -0.46357178 &  0.02926642\\\\\n",
       "\t  0.11978170 &  0.02920299\\\\\n",
       "\t -0.46272276 &  0.02916113\\\\\n",
       "\t -1.21241167 & -0.03777457\\\\\n",
       "\t -0.37738765 &  0.02926642\\\\\n",
       "\t  1.33346121 &  0.02470765\\\\\n",
       "\t  0.69410856 &  0.03326382\\\\\n",
       "\t -0.85439162 &  0.03117701\\\\\n",
       "\t -0.79506131 &  0.02466672\\\\\n",
       "\t  0.81079562 &  0.03205281\\\\\n",
       "\t  1.81960199 &  0.02916113\\\\\n",
       "\t -0.35542835 & -0.03576134\\\\\n",
       "\t -0.25701916 & -0.03741245\\\\\n",
       "\t -0.08572736 & -0.03787986\\\\\n",
       "\t -1.08401261 &  0.02904618\\\\\n",
       "\t -0.01215972 &  0.02909770\\\\\n",
       "\t -0.18154873 &  0.02920299\\\\\n",
       "\t -1.08383830 &  0.02926642\\\\\n",
       "\t  0.97191013 & -0.03662692\\\\\n",
       "\t -0.46021505 & -0.10110421\\\\\n",
       "\t -1.47757068 &  0.02926642\\\\\n",
       "\t  0.85957501 &  0.02916113\\\\\n",
       "\t  0.27114961 &  0.02930371\\\\\n",
       "\t  0.76663244 &  0.02919111\\\\\n",
       "\t  1.78113175 &  0.02477108\\\\\n",
       "\t  0.72712201 &  0.02909770\\\\\n",
       "\t  0.11092714 &  0.02926642\\\\\n",
       "\t -1.53959705 &  0.02896354\\\\\n",
       "\t ⋮ & ⋮\\\\\n",
       "\t  0.81427043 &  0.02909770\\\\\n",
       "\t -1.84444361 &  0.02916113\\\\\n",
       "\t -0.74122153 &  0.02912361\\\\\n",
       "\t  0.21644478 &  0.02919494\\\\\n",
       "\t -0.17470707 &  0.02916113\\\\\n",
       "\t -1.89594998 &  0.02635613\\\\\n",
       "\t  0.70068989 &  0.02916113\\\\\n",
       "\t -1.26195854 &  0.02926642\\\\\n",
       "\t -0.02219150 &  0.03119030\\\\\n",
       "\t  0.35102792 &  0.02909770\\\\\n",
       "\t -0.24710219 &  0.02909770\\\\\n",
       "\t -3.86420983 &  0.03039017\\\\\n",
       "\t  0.32091014 &  0.02916113\\\\\n",
       "\t  0.42414780 &  0.02909770\\\\\n",
       "\t -0.44883198 &  0.02909022\\\\\n",
       "\t -0.24583541 & -0.03737059\\\\\n",
       "\t  0.37664757 &  0.02473763\\\\\n",
       "\t -0.17720522 &  0.02920299\\\\\n",
       "\t -1.19956389 &  0.02811444\\\\\n",
       "\t -1.78174251 &  0.02916113\\\\\n",
       "\t  0.04851786 &  0.02920299\\\\\n",
       "\t -0.74876995 &  0.03031927\\\\\n",
       "\t -1.36747619 & -0.03686655\\\\\n",
       "\t  0.25420094 &  0.03031927\\\\\n",
       "\t  0.27383443 &  0.02490635\\\\\n",
       "\t  0.19516779 &  0.02909770\\\\\n",
       "\t -1.01048227 &  0.02916113\\\\\n",
       "\t -0.18857564 &  0.02916113\\\\\n",
       "\t -1.46989856 &  0.02903427\\\\\n",
       "\t  1.21680507 &  0.02909022\\\\\n",
       "\\end{tabular}\n"
      ],
      "text/markdown": [
       "\n",
       "A matrix: 170 × 2 of type dbl\n",
       "\n",
       "| V6 | <!----> |\n",
       "|---|---|\n",
       "|  0.82554105 |  0.02916113 |\n",
       "|  0.13322126 |  0.02916113 |\n",
       "| -0.46357178 |  0.02926642 |\n",
       "|  0.11978170 |  0.02920299 |\n",
       "| -0.46272276 |  0.02916113 |\n",
       "| -1.21241167 | -0.03777457 |\n",
       "| -0.37738765 |  0.02926642 |\n",
       "|  1.33346121 |  0.02470765 |\n",
       "|  0.69410856 |  0.03326382 |\n",
       "| -0.85439162 |  0.03117701 |\n",
       "| -0.79506131 |  0.02466672 |\n",
       "|  0.81079562 |  0.03205281 |\n",
       "|  1.81960199 |  0.02916113 |\n",
       "| -0.35542835 | -0.03576134 |\n",
       "| -0.25701916 | -0.03741245 |\n",
       "| -0.08572736 | -0.03787986 |\n",
       "| -1.08401261 |  0.02904618 |\n",
       "| -0.01215972 |  0.02909770 |\n",
       "| -0.18154873 |  0.02920299 |\n",
       "| -1.08383830 |  0.02926642 |\n",
       "|  0.97191013 | -0.03662692 |\n",
       "| -0.46021505 | -0.10110421 |\n",
       "| -1.47757068 |  0.02926642 |\n",
       "|  0.85957501 |  0.02916113 |\n",
       "|  0.27114961 |  0.02930371 |\n",
       "|  0.76663244 |  0.02919111 |\n",
       "|  1.78113175 |  0.02477108 |\n",
       "|  0.72712201 |  0.02909770 |\n",
       "|  0.11092714 |  0.02926642 |\n",
       "| -1.53959705 |  0.02896354 |\n",
       "| ⋮ | ⋮ |\n",
       "|  0.81427043 |  0.02909770 |\n",
       "| -1.84444361 |  0.02916113 |\n",
       "| -0.74122153 |  0.02912361 |\n",
       "|  0.21644478 |  0.02919494 |\n",
       "| -0.17470707 |  0.02916113 |\n",
       "| -1.89594998 |  0.02635613 |\n",
       "|  0.70068989 |  0.02916113 |\n",
       "| -1.26195854 |  0.02926642 |\n",
       "| -0.02219150 |  0.03119030 |\n",
       "|  0.35102792 |  0.02909770 |\n",
       "| -0.24710219 |  0.02909770 |\n",
       "| -3.86420983 |  0.03039017 |\n",
       "|  0.32091014 |  0.02916113 |\n",
       "|  0.42414780 |  0.02909770 |\n",
       "| -0.44883198 |  0.02909022 |\n",
       "| -0.24583541 | -0.03737059 |\n",
       "|  0.37664757 |  0.02473763 |\n",
       "| -0.17720522 |  0.02920299 |\n",
       "| -1.19956389 |  0.02811444 |\n",
       "| -1.78174251 |  0.02916113 |\n",
       "|  0.04851786 |  0.02920299 |\n",
       "| -0.74876995 |  0.03031927 |\n",
       "| -1.36747619 | -0.03686655 |\n",
       "|  0.25420094 |  0.03031927 |\n",
       "|  0.27383443 |  0.02490635 |\n",
       "|  0.19516779 |  0.02909770 |\n",
       "| -1.01048227 |  0.02916113 |\n",
       "| -0.18857564 |  0.02916113 |\n",
       "| -1.46989856 |  0.02903427 |\n",
       "|  1.21680507 |  0.02909022 |\n",
       "\n"
      ],
      "text/plain": [
       "      V6                     \n",
       " [1,]  0.82554105  0.02916113\n",
       " [2,]  0.13322126  0.02916113\n",
       " [3,] -0.46357178  0.02926642\n",
       " [4,]  0.11978170  0.02920299\n",
       " [5,] -0.46272276  0.02916113\n",
       " [6,] -1.21241167 -0.03777457\n",
       " [7,] -0.37738765  0.02926642\n",
       " [8,]  1.33346121  0.02470765\n",
       " [9,]  0.69410856  0.03326382\n",
       "[10,] -0.85439162  0.03117701\n",
       "[11,] -0.79506131  0.02466672\n",
       "[12,]  0.81079562  0.03205281\n",
       "[13,]  1.81960199  0.02916113\n",
       "[14,] -0.35542835 -0.03576134\n",
       "[15,] -0.25701916 -0.03741245\n",
       "[16,] -0.08572736 -0.03787986\n",
       "[17,] -1.08401261  0.02904618\n",
       "[18,] -0.01215972  0.02909770\n",
       "[19,] -0.18154873  0.02920299\n",
       "[20,] -1.08383830  0.02926642\n",
       "[21,]  0.97191013 -0.03662692\n",
       "[22,] -0.46021505 -0.10110421\n",
       "[23,] -1.47757068  0.02926642\n",
       "[24,]  0.85957501  0.02916113\n",
       "[25,]  0.27114961  0.02930371\n",
       "[26,]  0.76663244  0.02919111\n",
       "[27,]  1.78113175  0.02477108\n",
       "[28,]  0.72712201  0.02909770\n",
       "[29,]  0.11092714  0.02926642\n",
       "[30,] -1.53959705  0.02896354\n",
       "[31,] ⋮           ⋮          \n",
       "[32,]  0.81427043  0.02909770\n",
       "[33,] -1.84444361  0.02916113\n",
       "[34,] -0.74122153  0.02912361\n",
       "[35,]  0.21644478  0.02919494\n",
       "[36,] -0.17470707  0.02916113\n",
       "[37,] -1.89594998  0.02635613\n",
       "[38,]  0.70068989  0.02916113\n",
       "[39,] -1.26195854  0.02926642\n",
       "[40,] -0.02219150  0.03119030\n",
       "[41,]  0.35102792  0.02909770\n",
       "[42,] -0.24710219  0.02909770\n",
       "[43,] -3.86420983  0.03039017\n",
       "[44,]  0.32091014  0.02916113\n",
       "[45,]  0.42414780  0.02909770\n",
       "[46,] -0.44883198  0.02909022\n",
       "[47,] -0.24583541 -0.03737059\n",
       "[48,]  0.37664757  0.02473763\n",
       "[49,] -0.17720522  0.02920299\n",
       "[50,] -1.19956389  0.02811444\n",
       "[51,] -1.78174251  0.02916113\n",
       "[52,]  0.04851786  0.02920299\n",
       "[53,] -0.74876995  0.03031927\n",
       "[54,] -1.36747619 -0.03686655\n",
       "[55,]  0.25420094  0.03031927\n",
       "[56,]  0.27383443  0.02490635\n",
       "[57,]  0.19516779  0.02909770\n",
       "[58,] -1.01048227  0.02916113\n",
       "[59,] -0.18857564  0.02916113\n",
       "[60,] -1.46989856  0.02903427\n",
       "[61,]  1.21680507  0.02909022"
      ]
     },
     "metadata": {},
     "output_type": "display_data"
    }
   ],
   "source": [
    "dat = cbind(raw,fitted)\n",
    "k = 3\n",
    "i = c(k,ncol(raw)+k)\n",
    "d = dat[,i]\n",
    "d = d%>%na.omit\n",
    "summary(lm( d[,2] ~ d[,1] ))\n",
    "d"
   ]
  },
  {
   "cell_type": "code",
   "execution_count": null,
   "metadata": {},
   "outputs": [],
   "source": [
    "cv.performance = matrix(NA,nrow=2,ncol=3)\n",
    "rownames(cv.performance) = c(\"rsq\",\"pval\")\n",
    "colnames(cv.performance) = \"mv_susie\"\n",
    "\n",
    " \n",
    "\n",
    "cv.all = attach(\"~/Project/Alz/multi/result/geneTpmResidualsAgeGenderAdj_rename.ENSG00000265148.transformed_XY.RData\")$scaled_ENSG00000265148\n",
    "cv.all = cv.all[[2]]\n",
    "N = nrow(cv.all)\n",
    "cv.sample = sample(N)\n",
    "cv.all = cv.all[ cv.sample , ]\n",
    "folds = cut(seq(1,N),breaks=opt$crossval,labels=FALSE)\n",
    "\n",
    "cv.calls = matrix(NA,nrow=N,ncol=M)\n",
    "\n",
    "for ( i in 1:opt$crossval ) {\n",
    "\tif ( opt$verbose >= 1 ) cat(\"- Crossval fold\",i,\"\\n\")\n",
    "\tindx = which(folds==i,arr.ind=TRUE)\n",
    "\tcv.train = cv.all[-indx,]\n",
    "\t# store intercept\n",
    "\tintercept = mean( cv.train[,3] )\n",
    "\tcv.train[,3] = scale(cv.train[,3])\n",
    "\t\n",
    "\t# hide current fold\n",
    "\tcv.file = paste(opt$tmp,\".cv\",sep='')\n",
    "\twrite.table( cv.train , quote=F , row.names=F , col.names=F , file=paste(cv.file,\".keep\",sep=''))\t\n",
    "\targ = paste( opt$PATH_plink ,\" --allow-no-sex --bfile \",opt$tmp,\" --keep \",cv.file,\".keep --out \",cv.file,\" --make-bed\",sep='')\n",
    "\tsystem(arg , ignore.stdout=SYS_PRINT,ignore.stderr=SYS_PRINT)\n",
    "\n",
    "\tfor ( mod in 1:M ) {\n",
    "\t\tif ( models[mod] == \"blup\" ) {\n",
    "\t\t\tpred.wgt = weights.bslmm( cv.file , bv_type=2 , snp=genos$bim[,2] )\n",
    "\t\t}\n",
    "\t\telse if ( models[mod] == \"bslmm\" ) {\n",
    "\t\t\tpred.wgt = weights.bslmm( cv.file , bv_type=1 , snp=genos$bim[,2] )\n",
    "\t\t}\t\t\n",
    "\t\telse if ( models[mod] == \"lasso\" ) {\n",
    "\t\t\tpred.wgt = weights.lasso( cv.file , hsq[1] , snp=genos$bim[,2] )\n",
    "\t\t}\n",
    "\t\telse if ( models[mod] == \"enet\" ) {\n",
    "\t\t\tpred.wgt = weights.enet( genos$bed[ cv.sample[ -indx ],] , as.matrix(cv.train[,3]) , alpha=0.5 )\n",
    "\t\t}\t\t\n",
    "\t\telse if ( models[mod] == \"top1\" ) {\n",
    "\t\t\tpred.wgt = weights.marginal( genos$bed[ cv.sample[ -indx ],] , as.matrix(cv.train[,3,drop=F]) , beta=T )\n",
    "\t\t\tpred.wgt[ - which.max( pred.wgt^2 ) ] = 0\n",
    "\t\t}\n",
    "\n",
    "\t\t# predict from weights into sample\n",
    "\t\tpred.wgt[ is.na(pred.wgt) ] = 0\n",
    "\t\tcv.calls[ indx , mod ] = genos$bed[ cv.sample[ indx ] , ] %*% pred.wgt\n",
    "\t}\n",
    "}\n",
    "\n"
   ]
  },
  {
   "cell_type": "code",
   "execution_count": null,
   "metadata": {},
   "outputs": [],
   "source": [
    "cv.performance = matrix(NA,nrow=2,ncol=3)\n",
    "rownames(cv.performance) = c(\"rsq\",\"pval\")\n",
    "colnames(cv.performance) = \"mv_susie\"\n",
    "\n",
    " \n",
    "\n",
    "cv.all = attach(\"~/Project/Alz/multi/result/geneTpmResidualsAgeGenderAdj_rename.ENSG00000265148.transformed_XY.RData\")$scaled_ENSG00000265148\n",
    "cv.all = cv.all[[2]]\n",
    "N = nrow(cv.all)\n",
    "M = 3\n",
    "cv.sample = sample(N)\n",
    "cv.all = cv.all[ cv.sample , ]\n",
    "folds = cut(seq(1,N),breaks=5,labels=FALSE)\n",
    "cv.calls = matrix(NA,nrow=N,ncol=M\n",
    "                 )\n",
    "for ( i in 1:5 ) {\n",
    "\tindx = which(folds==i,arr.ind=TRUE)\n",
    "\tcv.train = cv.all[-indx,]\n",
    "\t# store intercept\n",
    "\tintercept = mean( cv.train[,3] )\n",
    "\tcv.train[,3] = scale(cv.train[,3])\n",
    "\t\n",
    "}\n",
    "\n",
    "\tfor ( mod in 1:M ) {\n",
    "\t\t\n",
    "        \n",
    "        \n",
    "        \n",
    "\t\t}\n",
    "\n",
    "\t\t# predict from weights into sample\n",
    "\t\tpred.wgt[ is.na(pred.wgt) ] = 0\n",
    "\t\tcv.calls[ indx , mod ] = genos$bed[ cv.sample[ indx ] , ] %*% pred.wgt\n",
    "\t}\n",
    "}"
   ]
  },
  {
   "cell_type": "code",
   "execution_count": 276,
   "metadata": {},
   "outputs": [],
   "source": [
    "cv.performance = matrix(NA,nrow=2,ncol=3)\n",
    "rownames(cv.performance) = c(\"rsq\",\"pval\")\n",
    "cv.all = c$scaled_ENSG00000265148\n",
    "cv.all = cv.all[[2]]\n",
    "N = nrow(cv.all)\n",
    "M = 3\n",
    "cv.sample = sample(N)\n",
    "cv.all = cv.all[ cv.sample , ]\n",
    "folds = cut(seq(1,N),breaks=5,labels=FALSE)\n",
    "cv.calls = matrix(NA,nrow=N,ncol=M\n",
    "                 )\n",
    "ls = list()\n",
    "for ( i in 1:5 ) {\n",
    "\tindx = which(folds==i,arr.ind=TRUE)\n",
    "\tcv.train = cv.all[-indx,]\n",
    "\t# store intercept\n",
    "\tintercept = mean( cv.train[,3] )\n",
    "\tcv.train[,3] = scale(cv.train[,3])\n",
    "    ls[[i]] = cv.train\n",
    "}"
   ]
  },
  {
   "cell_type": "code",
   "execution_count": 279,
   "metadata": {},
   "outputs": [
    {
     "data": {
      "text/html": [
       "<style>\n",
       ".list-inline {list-style: none; margin:0; padding: 0}\n",
       ".list-inline>li {display: inline-block}\n",
       ".list-inline>li:not(:last-child)::after {content: \"\\00b7\"; padding: 0 .5ex}\n",
       "</style>\n",
       "<ol class=list-inline><li>719</li><li>720</li><li>721</li><li>722</li><li>723</li><li>724</li><li>725</li><li>726</li><li>727</li><li>728</li><li>729</li><li>730</li><li>731</li><li>732</li><li>733</li><li>734</li><li>735</li><li>736</li><li>737</li><li>738</li><li>739</li><li>740</li><li>741</li><li>742</li><li>743</li><li>744</li><li>745</li><li>746</li><li>747</li><li>748</li><li>749</li><li>750</li><li>751</li><li>752</li><li>753</li><li>754</li><li>755</li><li>756</li><li>757</li><li>758</li><li>759</li><li>760</li><li>761</li><li>762</li><li>763</li><li>764</li><li>765</li><li>766</li><li>767</li><li>768</li><li>769</li><li>770</li><li>771</li><li>772</li><li>773</li><li>774</li><li>775</li><li>776</li><li>777</li><li>778</li><li>779</li><li>780</li><li>781</li><li>782</li><li>783</li><li>784</li><li>785</li><li>786</li><li>787</li><li>788</li><li>789</li><li>790</li><li>791</li><li>792</li><li>793</li><li>794</li><li>795</li><li>796</li><li>797</li><li>798</li><li>799</li><li>800</li><li>801</li><li>802</li><li>803</li><li>804</li><li>805</li><li>806</li><li>807</li><li>808</li><li>809</li><li>810</li><li>811</li><li>812</li><li>813</li><li>814</li><li>815</li><li>816</li><li>817</li><li>818</li><li>819</li><li>820</li><li>821</li><li>822</li><li>823</li><li>824</li><li>825</li><li>826</li><li>827</li><li>828</li><li>829</li><li>830</li><li>831</li><li>832</li><li>833</li><li>834</li><li>835</li><li>836</li><li>837</li><li>838</li><li>839</li><li>840</li><li>841</li><li>842</li><li>843</li><li>844</li><li>845</li><li>846</li><li>847</li><li>848</li><li>849</li><li>850</li><li>851</li><li>852</li><li>853</li><li>854</li><li>855</li><li>856</li><li>857</li><li>858</li><li>859</li><li>860</li><li>861</li><li>862</li><li>863</li><li>864</li><li>865</li><li>866</li><li>867</li><li>868</li><li>869</li><li>870</li><li>871</li><li>872</li><li>873</li><li>874</li><li>875</li><li>876</li><li>877</li><li>878</li><li>879</li><li>880</li><li>881</li><li>882</li><li>883</li><li>884</li><li>885</li><li>886</li><li>887</li><li>888</li><li>889</li><li>890</li><li>891</li><li>892</li><li>893</li><li>894</li><li>895</li><li>896</li><li>897</li><li>898</li></ol>\n"
      ],
      "text/latex": [
       "\\begin{enumerate*}\n",
       "\\item 719\n",
       "\\item 720\n",
       "\\item 721\n",
       "\\item 722\n",
       "\\item 723\n",
       "\\item 724\n",
       "\\item 725\n",
       "\\item 726\n",
       "\\item 727\n",
       "\\item 728\n",
       "\\item 729\n",
       "\\item 730\n",
       "\\item 731\n",
       "\\item 732\n",
       "\\item 733\n",
       "\\item 734\n",
       "\\item 735\n",
       "\\item 736\n",
       "\\item 737\n",
       "\\item 738\n",
       "\\item 739\n",
       "\\item 740\n",
       "\\item 741\n",
       "\\item 742\n",
       "\\item 743\n",
       "\\item 744\n",
       "\\item 745\n",
       "\\item 746\n",
       "\\item 747\n",
       "\\item 748\n",
       "\\item 749\n",
       "\\item 750\n",
       "\\item 751\n",
       "\\item 752\n",
       "\\item 753\n",
       "\\item 754\n",
       "\\item 755\n",
       "\\item 756\n",
       "\\item 757\n",
       "\\item 758\n",
       "\\item 759\n",
       "\\item 760\n",
       "\\item 761\n",
       "\\item 762\n",
       "\\item 763\n",
       "\\item 764\n",
       "\\item 765\n",
       "\\item 766\n",
       "\\item 767\n",
       "\\item 768\n",
       "\\item 769\n",
       "\\item 770\n",
       "\\item 771\n",
       "\\item 772\n",
       "\\item 773\n",
       "\\item 774\n",
       "\\item 775\n",
       "\\item 776\n",
       "\\item 777\n",
       "\\item 778\n",
       "\\item 779\n",
       "\\item 780\n",
       "\\item 781\n",
       "\\item 782\n",
       "\\item 783\n",
       "\\item 784\n",
       "\\item 785\n",
       "\\item 786\n",
       "\\item 787\n",
       "\\item 788\n",
       "\\item 789\n",
       "\\item 790\n",
       "\\item 791\n",
       "\\item 792\n",
       "\\item 793\n",
       "\\item 794\n",
       "\\item 795\n",
       "\\item 796\n",
       "\\item 797\n",
       "\\item 798\n",
       "\\item 799\n",
       "\\item 800\n",
       "\\item 801\n",
       "\\item 802\n",
       "\\item 803\n",
       "\\item 804\n",
       "\\item 805\n",
       "\\item 806\n",
       "\\item 807\n",
       "\\item 808\n",
       "\\item 809\n",
       "\\item 810\n",
       "\\item 811\n",
       "\\item 812\n",
       "\\item 813\n",
       "\\item 814\n",
       "\\item 815\n",
       "\\item 816\n",
       "\\item 817\n",
       "\\item 818\n",
       "\\item 819\n",
       "\\item 820\n",
       "\\item 821\n",
       "\\item 822\n",
       "\\item 823\n",
       "\\item 824\n",
       "\\item 825\n",
       "\\item 826\n",
       "\\item 827\n",
       "\\item 828\n",
       "\\item 829\n",
       "\\item 830\n",
       "\\item 831\n",
       "\\item 832\n",
       "\\item 833\n",
       "\\item 834\n",
       "\\item 835\n",
       "\\item 836\n",
       "\\item 837\n",
       "\\item 838\n",
       "\\item 839\n",
       "\\item 840\n",
       "\\item 841\n",
       "\\item 842\n",
       "\\item 843\n",
       "\\item 844\n",
       "\\item 845\n",
       "\\item 846\n",
       "\\item 847\n",
       "\\item 848\n",
       "\\item 849\n",
       "\\item 850\n",
       "\\item 851\n",
       "\\item 852\n",
       "\\item 853\n",
       "\\item 854\n",
       "\\item 855\n",
       "\\item 856\n",
       "\\item 857\n",
       "\\item 858\n",
       "\\item 859\n",
       "\\item 860\n",
       "\\item 861\n",
       "\\item 862\n",
       "\\item 863\n",
       "\\item 864\n",
       "\\item 865\n",
       "\\item 866\n",
       "\\item 867\n",
       "\\item 868\n",
       "\\item 869\n",
       "\\item 870\n",
       "\\item 871\n",
       "\\item 872\n",
       "\\item 873\n",
       "\\item 874\n",
       "\\item 875\n",
       "\\item 876\n",
       "\\item 877\n",
       "\\item 878\n",
       "\\item 879\n",
       "\\item 880\n",
       "\\item 881\n",
       "\\item 882\n",
       "\\item 883\n",
       "\\item 884\n",
       "\\item 885\n",
       "\\item 886\n",
       "\\item 887\n",
       "\\item 888\n",
       "\\item 889\n",
       "\\item 890\n",
       "\\item 891\n",
       "\\item 892\n",
       "\\item 893\n",
       "\\item 894\n",
       "\\item 895\n",
       "\\item 896\n",
       "\\item 897\n",
       "\\item 898\n",
       "\\end{enumerate*}\n"
      ],
      "text/markdown": [
       "1. 719\n",
       "2. 720\n",
       "3. 721\n",
       "4. 722\n",
       "5. 723\n",
       "6. 724\n",
       "7. 725\n",
       "8. 726\n",
       "9. 727\n",
       "10. 728\n",
       "11. 729\n",
       "12. 730\n",
       "13. 731\n",
       "14. 732\n",
       "15. 733\n",
       "16. 734\n",
       "17. 735\n",
       "18. 736\n",
       "19. 737\n",
       "20. 738\n",
       "21. 739\n",
       "22. 740\n",
       "23. 741\n",
       "24. 742\n",
       "25. 743\n",
       "26. 744\n",
       "27. 745\n",
       "28. 746\n",
       "29. 747\n",
       "30. 748\n",
       "31. 749\n",
       "32. 750\n",
       "33. 751\n",
       "34. 752\n",
       "35. 753\n",
       "36. 754\n",
       "37. 755\n",
       "38. 756\n",
       "39. 757\n",
       "40. 758\n",
       "41. 759\n",
       "42. 760\n",
       "43. 761\n",
       "44. 762\n",
       "45. 763\n",
       "46. 764\n",
       "47. 765\n",
       "48. 766\n",
       "49. 767\n",
       "50. 768\n",
       "51. 769\n",
       "52. 770\n",
       "53. 771\n",
       "54. 772\n",
       "55. 773\n",
       "56. 774\n",
       "57. 775\n",
       "58. 776\n",
       "59. 777\n",
       "60. 778\n",
       "61. 779\n",
       "62. 780\n",
       "63. 781\n",
       "64. 782\n",
       "65. 783\n",
       "66. 784\n",
       "67. 785\n",
       "68. 786\n",
       "69. 787\n",
       "70. 788\n",
       "71. 789\n",
       "72. 790\n",
       "73. 791\n",
       "74. 792\n",
       "75. 793\n",
       "76. 794\n",
       "77. 795\n",
       "78. 796\n",
       "79. 797\n",
       "80. 798\n",
       "81. 799\n",
       "82. 800\n",
       "83. 801\n",
       "84. 802\n",
       "85. 803\n",
       "86. 804\n",
       "87. 805\n",
       "88. 806\n",
       "89. 807\n",
       "90. 808\n",
       "91. 809\n",
       "92. 810\n",
       "93. 811\n",
       "94. 812\n",
       "95. 813\n",
       "96. 814\n",
       "97. 815\n",
       "98. 816\n",
       "99. 817\n",
       "100. 818\n",
       "101. 819\n",
       "102. 820\n",
       "103. 821\n",
       "104. 822\n",
       "105. 823\n",
       "106. 824\n",
       "107. 825\n",
       "108. 826\n",
       "109. 827\n",
       "110. 828\n",
       "111. 829\n",
       "112. 830\n",
       "113. 831\n",
       "114. 832\n",
       "115. 833\n",
       "116. 834\n",
       "117. 835\n",
       "118. 836\n",
       "119. 837\n",
       "120. 838\n",
       "121. 839\n",
       "122. 840\n",
       "123. 841\n",
       "124. 842\n",
       "125. 843\n",
       "126. 844\n",
       "127. 845\n",
       "128. 846\n",
       "129. 847\n",
       "130. 848\n",
       "131. 849\n",
       "132. 850\n",
       "133. 851\n",
       "134. 852\n",
       "135. 853\n",
       "136. 854\n",
       "137. 855\n",
       "138. 856\n",
       "139. 857\n",
       "140. 858\n",
       "141. 859\n",
       "142. 860\n",
       "143. 861\n",
       "144. 862\n",
       "145. 863\n",
       "146. 864\n",
       "147. 865\n",
       "148. 866\n",
       "149. 867\n",
       "150. 868\n",
       "151. 869\n",
       "152. 870\n",
       "153. 871\n",
       "154. 872\n",
       "155. 873\n",
       "156. 874\n",
       "157. 875\n",
       "158. 876\n",
       "159. 877\n",
       "160. 878\n",
       "161. 879\n",
       "162. 880\n",
       "163. 881\n",
       "164. 882\n",
       "165. 883\n",
       "166. 884\n",
       "167. 885\n",
       "168. 886\n",
       "169. 887\n",
       "170. 888\n",
       "171. 889\n",
       "172. 890\n",
       "173. 891\n",
       "174. 892\n",
       "175. 893\n",
       "176. 894\n",
       "177. 895\n",
       "178. 896\n",
       "179. 897\n",
       "180. 898\n",
       "\n",
       "\n"
      ],
      "text/plain": [
       "  [1] 719 720 721 722 723 724 725 726 727 728 729 730 731 732 733 734 735 736\n",
       " [19] 737 738 739 740 741 742 743 744 745 746 747 748 749 750 751 752 753 754\n",
       " [37] 755 756 757 758 759 760 761 762 763 764 765 766 767 768 769 770 771 772\n",
       " [55] 773 774 775 776 777 778 779 780 781 782 783 784 785 786 787 788 789 790\n",
       " [73] 791 792 793 794 795 796 797 798 799 800 801 802 803 804 805 806 807 808\n",
       " [91] 809 810 811 812 813 814 815 816 817 818 819 820 821 822 823 824 825 826\n",
       "[109] 827 828 829 830 831 832 833 834 835 836 837 838 839 840 841 842 843 844\n",
       "[127] 845 846 847 848 849 850 851 852 853 854 855 856 857 858 859 860 861 862\n",
       "[145] 863 864 865 866 867 868 869 870 871 872 873 874 875 876 877 878 879 880\n",
       "[163] 881 882 883 884 885 886 887 888 889 890 891 892 893 894 895 896 897 898"
      ]
     },
     "metadata": {},
     "output_type": "display_data"
    }
   ],
   "source": [
    "indx"
   ]
  },
  {
   "cell_type": "code",
   "execution_count": 278,
   "metadata": {},
   "outputs": [
    {
     "data": {
      "text/html": [
       "<table>\n",
       "<caption>A matrix: 898 × 3 of type dbl</caption>\n",
       "<thead>\n",
       "\t<tr><th scope=col>V6.x</th><th scope=col>V6.y</th><th scope=col>V6</th></tr>\n",
       "</thead>\n",
       "<tbody>\n",
       "\t<tr><td>         NA</td><td>         NA</td><td>-1.12530823</td></tr>\n",
       "\t<tr><td> 0.70568789</td><td> 1.19367214</td><td> 0.66532336</td></tr>\n",
       "\t<tr><td> 0.83199424</td><td> 0.29179678</td><td> 0.85957501</td></tr>\n",
       "\t<tr><td> 1.72355646</td><td>         NA</td><td>         NA</td></tr>\n",
       "\t<tr><td> 0.31024847</td><td>-0.99671987</td><td>-0.17609868</td></tr>\n",
       "\t<tr><td>         NA</td><td>         NA</td><td>-2.29376159</td></tr>\n",
       "\t<tr><td> 0.18415402</td><td>         NA</td><td> 0.37664757</td></tr>\n",
       "\t<tr><td>-0.45731899</td><td> 0.30053607</td><td> 0.60011737</td></tr>\n",
       "\t<tr><td> 1.28275935</td><td>-0.28089492</td><td> 0.17378594</td></tr>\n",
       "\t<tr><td>         NA</td><td>         NA</td><td>-0.17470707</td></tr>\n",
       "\t<tr><td> 0.96826859</td><td> 0.55859613</td><td> 0.08090354</td></tr>\n",
       "\t<tr><td>         NA</td><td>         NA</td><td> 1.19542491</td></tr>\n",
       "\t<tr><td>         NA</td><td>         NA</td><td> 0.08165079</td></tr>\n",
       "\t<tr><td> 0.54643280</td><td> 0.94577136</td><td> 1.18738169</td></tr>\n",
       "\t<tr><td> 0.89569512</td><td>-1.77486274</td><td> 1.02449043</td></tr>\n",
       "\t<tr><td>         NA</td><td> 1.01389335</td><td> 0.52459943</td></tr>\n",
       "\t<tr><td> 0.27198223</td><td>-1.08068398</td><td>-0.13091105</td></tr>\n",
       "\t<tr><td> 1.32666224</td><td>-0.72070502</td><td>-0.95849797</td></tr>\n",
       "\t<tr><td>-0.26192985</td><td> 0.15936628</td><td> 2.44819849</td></tr>\n",
       "\t<tr><td> 0.07206996</td><td>         NA</td><td>-0.48434751</td></tr>\n",
       "\t<tr><td>-0.36650872</td><td>         NA</td><td>-1.27297333</td></tr>\n",
       "\t<tr><td> 0.89024967</td><td>-0.36453290</td><td> 1.06881105</td></tr>\n",
       "\t<tr><td> 0.21229471</td><td> 0.92636771</td><td> 0.48631755</td></tr>\n",
       "\t<tr><td> 0.10414408</td><td>-0.23204179</td><td>-0.41171399</td></tr>\n",
       "\t<tr><td> 0.92481708</td><td>         NA</td><td> 0.24007288</td></tr>\n",
       "\t<tr><td>-0.39959258</td><td> 0.44352789</td><td>-1.63267737</td></tr>\n",
       "\t<tr><td>-0.42779451</td><td>-1.18502726</td><td>-0.67764049</td></tr>\n",
       "\t<tr><td> 0.47601567</td><td>         NA</td><td>-1.00007192</td></tr>\n",
       "\t<tr><td>-0.87185200</td><td> 0.07793794</td><td>-0.36624916</td></tr>\n",
       "\t<tr><td>         NA</td><td>         NA</td><td> 0.79447585</td></tr>\n",
       "\t<tr><td>⋮</td><td>⋮</td><td>⋮</td></tr>\n",
       "\t<tr><td> 1.117374538</td><td> 0.50660487</td><td> 1.57994455</td></tr>\n",
       "\t<tr><td> 0.527557724</td><td>         NA</td><td> 0.56755374</td></tr>\n",
       "\t<tr><td> 0.788677867</td><td> 0.61273179</td><td> 0.67890489</td></tr>\n",
       "\t<tr><td> 0.849193131</td><td>         NA</td><td>-0.83835860</td></tr>\n",
       "\t<tr><td>-1.936395074</td><td>         NA</td><td>-1.19281389</td></tr>\n",
       "\t<tr><td> 0.440255083</td><td>         NA</td><td>         NA</td></tr>\n",
       "\t<tr><td>          NA</td><td> 1.81135039</td><td>-1.26195854</td></tr>\n",
       "\t<tr><td> 0.927396056</td><td> 0.45669165</td><td>-0.15015798</td></tr>\n",
       "\t<tr><td> 0.338375647</td><td>         NA</td><td> 0.04851786</td></tr>\n",
       "\t<tr><td> 1.982712909</td><td> 0.61912175</td><td> 0.17389952</td></tr>\n",
       "\t<tr><td> 2.202851269</td><td>         NA</td><td>-0.02156120</td></tr>\n",
       "\t<tr><td>-0.482318054</td><td> 0.66729750</td><td> 0.22837269</td></tr>\n",
       "\t<tr><td>-0.237457219</td><td> 0.49335741</td><td> 0.65298443</td></tr>\n",
       "\t<tr><td>-0.160205667</td><td> 1.28611867</td><td>-0.58637067</td></tr>\n",
       "\t<tr><td>-0.538920297</td><td> 1.21212335</td><td> 0.25247984</td></tr>\n",
       "\t<tr><td> 0.638410371</td><td>         NA</td><td> 0.82970182</td></tr>\n",
       "\t<tr><td>-1.631121904</td><td>         NA</td><td>-0.91914498</td></tr>\n",
       "\t<tr><td> 0.512391531</td><td>-0.53171939</td><td>-0.18551889</td></tr>\n",
       "\t<tr><td>-0.343266352</td><td> 0.91960545</td><td> 0.42314978</td></tr>\n",
       "\t<tr><td>          NA</td><td>-1.30456038</td><td>-1.66634586</td></tr>\n",
       "\t<tr><td> 0.571161605</td><td>-0.33340280</td><td> 0.65484553</td></tr>\n",
       "\t<tr><td> 1.649778329</td><td>-0.05535956</td><td> 0.02429685</td></tr>\n",
       "\t<tr><td> 1.021328695</td><td>         NA</td><td>-0.82642170</td></tr>\n",
       "\t<tr><td> 0.437929121</td><td>-0.64001093</td><td>-0.67801159</td></tr>\n",
       "\t<tr><td>          NA</td><td>-1.40452536</td><td>-0.89167547</td></tr>\n",
       "\t<tr><td> 0.886595405</td><td>         NA</td><td>-0.83932289</td></tr>\n",
       "\t<tr><td>-0.452281806</td><td>         NA</td><td>-0.51213188</td></tr>\n",
       "\t<tr><td> 1.375467193</td><td> 0.67218954</td><td> 0.98490972</td></tr>\n",
       "\t<tr><td> 0.000882771</td><td>-0.15179361</td><td> 0.10378523</td></tr>\n",
       "\t<tr><td>-0.953668937</td><td>-0.10126650</td><td> 0.45257035</td></tr>\n",
       "</tbody>\n",
       "</table>\n"
      ],
      "text/latex": [
       "A matrix: 898 × 3 of type dbl\n",
       "\\begin{tabular}{lll}\n",
       " V6.x & V6.y & V6\\\\\n",
       "\\hline\n",
       "\t          NA &          NA & -1.12530823\\\\\n",
       "\t  0.70568789 &  1.19367214 &  0.66532336\\\\\n",
       "\t  0.83199424 &  0.29179678 &  0.85957501\\\\\n",
       "\t  1.72355646 &          NA &          NA\\\\\n",
       "\t  0.31024847 & -0.99671987 & -0.17609868\\\\\n",
       "\t          NA &          NA & -2.29376159\\\\\n",
       "\t  0.18415402 &          NA &  0.37664757\\\\\n",
       "\t -0.45731899 &  0.30053607 &  0.60011737\\\\\n",
       "\t  1.28275935 & -0.28089492 &  0.17378594\\\\\n",
       "\t          NA &          NA & -0.17470707\\\\\n",
       "\t  0.96826859 &  0.55859613 &  0.08090354\\\\\n",
       "\t          NA &          NA &  1.19542491\\\\\n",
       "\t          NA &          NA &  0.08165079\\\\\n",
       "\t  0.54643280 &  0.94577136 &  1.18738169\\\\\n",
       "\t  0.89569512 & -1.77486274 &  1.02449043\\\\\n",
       "\t          NA &  1.01389335 &  0.52459943\\\\\n",
       "\t  0.27198223 & -1.08068398 & -0.13091105\\\\\n",
       "\t  1.32666224 & -0.72070502 & -0.95849797\\\\\n",
       "\t -0.26192985 &  0.15936628 &  2.44819849\\\\\n",
       "\t  0.07206996 &          NA & -0.48434751\\\\\n",
       "\t -0.36650872 &          NA & -1.27297333\\\\\n",
       "\t  0.89024967 & -0.36453290 &  1.06881105\\\\\n",
       "\t  0.21229471 &  0.92636771 &  0.48631755\\\\\n",
       "\t  0.10414408 & -0.23204179 & -0.41171399\\\\\n",
       "\t  0.92481708 &          NA &  0.24007288\\\\\n",
       "\t -0.39959258 &  0.44352789 & -1.63267737\\\\\n",
       "\t -0.42779451 & -1.18502726 & -0.67764049\\\\\n",
       "\t  0.47601567 &          NA & -1.00007192\\\\\n",
       "\t -0.87185200 &  0.07793794 & -0.36624916\\\\\n",
       "\t          NA &          NA &  0.79447585\\\\\n",
       "\t ⋮ & ⋮ & ⋮\\\\\n",
       "\t  1.117374538 &  0.50660487 &  1.57994455\\\\\n",
       "\t  0.527557724 &          NA &  0.56755374\\\\\n",
       "\t  0.788677867 &  0.61273179 &  0.67890489\\\\\n",
       "\t  0.849193131 &          NA & -0.83835860\\\\\n",
       "\t -1.936395074 &          NA & -1.19281389\\\\\n",
       "\t  0.440255083 &          NA &          NA\\\\\n",
       "\t           NA &  1.81135039 & -1.26195854\\\\\n",
       "\t  0.927396056 &  0.45669165 & -0.15015798\\\\\n",
       "\t  0.338375647 &          NA &  0.04851786\\\\\n",
       "\t  1.982712909 &  0.61912175 &  0.17389952\\\\\n",
       "\t  2.202851269 &          NA & -0.02156120\\\\\n",
       "\t -0.482318054 &  0.66729750 &  0.22837269\\\\\n",
       "\t -0.237457219 &  0.49335741 &  0.65298443\\\\\n",
       "\t -0.160205667 &  1.28611867 & -0.58637067\\\\\n",
       "\t -0.538920297 &  1.21212335 &  0.25247984\\\\\n",
       "\t  0.638410371 &          NA &  0.82970182\\\\\n",
       "\t -1.631121904 &          NA & -0.91914498\\\\\n",
       "\t  0.512391531 & -0.53171939 & -0.18551889\\\\\n",
       "\t -0.343266352 &  0.91960545 &  0.42314978\\\\\n",
       "\t           NA & -1.30456038 & -1.66634586\\\\\n",
       "\t  0.571161605 & -0.33340280 &  0.65484553\\\\\n",
       "\t  1.649778329 & -0.05535956 &  0.02429685\\\\\n",
       "\t  1.021328695 &          NA & -0.82642170\\\\\n",
       "\t  0.437929121 & -0.64001093 & -0.67801159\\\\\n",
       "\t           NA & -1.40452536 & -0.89167547\\\\\n",
       "\t  0.886595405 &          NA & -0.83932289\\\\\n",
       "\t -0.452281806 &          NA & -0.51213188\\\\\n",
       "\t  1.375467193 &  0.67218954 &  0.98490972\\\\\n",
       "\t  0.000882771 & -0.15179361 &  0.10378523\\\\\n",
       "\t -0.953668937 & -0.10126650 &  0.45257035\\\\\n",
       "\\end{tabular}\n"
      ],
      "text/markdown": [
       "\n",
       "A matrix: 898 × 3 of type dbl\n",
       "\n",
       "| V6.x | V6.y | V6 |\n",
       "|---|---|---|\n",
       "|          NA |          NA | -1.12530823 |\n",
       "|  0.70568789 |  1.19367214 |  0.66532336 |\n",
       "|  0.83199424 |  0.29179678 |  0.85957501 |\n",
       "|  1.72355646 |          NA |          NA |\n",
       "|  0.31024847 | -0.99671987 | -0.17609868 |\n",
       "|          NA |          NA | -2.29376159 |\n",
       "|  0.18415402 |          NA |  0.37664757 |\n",
       "| -0.45731899 |  0.30053607 |  0.60011737 |\n",
       "|  1.28275935 | -0.28089492 |  0.17378594 |\n",
       "|          NA |          NA | -0.17470707 |\n",
       "|  0.96826859 |  0.55859613 |  0.08090354 |\n",
       "|          NA |          NA |  1.19542491 |\n",
       "|          NA |          NA |  0.08165079 |\n",
       "|  0.54643280 |  0.94577136 |  1.18738169 |\n",
       "|  0.89569512 | -1.77486274 |  1.02449043 |\n",
       "|          NA |  1.01389335 |  0.52459943 |\n",
       "|  0.27198223 | -1.08068398 | -0.13091105 |\n",
       "|  1.32666224 | -0.72070502 | -0.95849797 |\n",
       "| -0.26192985 |  0.15936628 |  2.44819849 |\n",
       "|  0.07206996 |          NA | -0.48434751 |\n",
       "| -0.36650872 |          NA | -1.27297333 |\n",
       "|  0.89024967 | -0.36453290 |  1.06881105 |\n",
       "|  0.21229471 |  0.92636771 |  0.48631755 |\n",
       "|  0.10414408 | -0.23204179 | -0.41171399 |\n",
       "|  0.92481708 |          NA |  0.24007288 |\n",
       "| -0.39959258 |  0.44352789 | -1.63267737 |\n",
       "| -0.42779451 | -1.18502726 | -0.67764049 |\n",
       "|  0.47601567 |          NA | -1.00007192 |\n",
       "| -0.87185200 |  0.07793794 | -0.36624916 |\n",
       "|          NA |          NA |  0.79447585 |\n",
       "| ⋮ | ⋮ | ⋮ |\n",
       "|  1.117374538 |  0.50660487 |  1.57994455 |\n",
       "|  0.527557724 |          NA |  0.56755374 |\n",
       "|  0.788677867 |  0.61273179 |  0.67890489 |\n",
       "|  0.849193131 |          NA | -0.83835860 |\n",
       "| -1.936395074 |          NA | -1.19281389 |\n",
       "|  0.440255083 |          NA |          NA |\n",
       "|           NA |  1.81135039 | -1.26195854 |\n",
       "|  0.927396056 |  0.45669165 | -0.15015798 |\n",
       "|  0.338375647 |          NA |  0.04851786 |\n",
       "|  1.982712909 |  0.61912175 |  0.17389952 |\n",
       "|  2.202851269 |          NA | -0.02156120 |\n",
       "| -0.482318054 |  0.66729750 |  0.22837269 |\n",
       "| -0.237457219 |  0.49335741 |  0.65298443 |\n",
       "| -0.160205667 |  1.28611867 | -0.58637067 |\n",
       "| -0.538920297 |  1.21212335 |  0.25247984 |\n",
       "|  0.638410371 |          NA |  0.82970182 |\n",
       "| -1.631121904 |          NA | -0.91914498 |\n",
       "|  0.512391531 | -0.53171939 | -0.18551889 |\n",
       "| -0.343266352 |  0.91960545 |  0.42314978 |\n",
       "|           NA | -1.30456038 | -1.66634586 |\n",
       "|  0.571161605 | -0.33340280 |  0.65484553 |\n",
       "|  1.649778329 | -0.05535956 |  0.02429685 |\n",
       "|  1.021328695 |          NA | -0.82642170 |\n",
       "|  0.437929121 | -0.64001093 | -0.67801159 |\n",
       "|           NA | -1.40452536 | -0.89167547 |\n",
       "|  0.886595405 |          NA | -0.83932289 |\n",
       "| -0.452281806 |          NA | -0.51213188 |\n",
       "|  1.375467193 |  0.67218954 |  0.98490972 |\n",
       "|  0.000882771 | -0.15179361 |  0.10378523 |\n",
       "| -0.953668937 | -0.10126650 |  0.45257035 |\n",
       "\n"
      ],
      "text/plain": [
       "      V6.x         V6.y        V6         \n",
       " [1,]          NA           NA -1.12530823\n",
       " [2,]  0.70568789   1.19367214  0.66532336\n",
       " [3,]  0.83199424   0.29179678  0.85957501\n",
       " [4,]  1.72355646           NA          NA\n",
       " [5,]  0.31024847  -0.99671987 -0.17609868\n",
       " [6,]          NA           NA -2.29376159\n",
       " [7,]  0.18415402           NA  0.37664757\n",
       " [8,] -0.45731899   0.30053607  0.60011737\n",
       " [9,]  1.28275935  -0.28089492  0.17378594\n",
       "[10,]          NA           NA -0.17470707\n",
       "[11,]  0.96826859   0.55859613  0.08090354\n",
       "[12,]          NA           NA  1.19542491\n",
       "[13,]          NA           NA  0.08165079\n",
       "[14,]  0.54643280   0.94577136  1.18738169\n",
       "[15,]  0.89569512  -1.77486274  1.02449043\n",
       "[16,]          NA   1.01389335  0.52459943\n",
       "[17,]  0.27198223  -1.08068398 -0.13091105\n",
       "[18,]  1.32666224  -0.72070502 -0.95849797\n",
       "[19,] -0.26192985   0.15936628  2.44819849\n",
       "[20,]  0.07206996           NA -0.48434751\n",
       "[21,] -0.36650872           NA -1.27297333\n",
       "[22,]  0.89024967  -0.36453290  1.06881105\n",
       "[23,]  0.21229471   0.92636771  0.48631755\n",
       "[24,]  0.10414408  -0.23204179 -0.41171399\n",
       "[25,]  0.92481708           NA  0.24007288\n",
       "[26,] -0.39959258   0.44352789 -1.63267737\n",
       "[27,] -0.42779451  -1.18502726 -0.67764049\n",
       "[28,]  0.47601567           NA -1.00007192\n",
       "[29,] -0.87185200   0.07793794 -0.36624916\n",
       "[30,]          NA           NA  0.79447585\n",
       "[31,] ⋮            ⋮           ⋮          \n",
       "[32,]  1.117374538  0.50660487  1.57994455\n",
       "[33,]  0.527557724          NA  0.56755374\n",
       "[34,]  0.788677867  0.61273179  0.67890489\n",
       "[35,]  0.849193131          NA -0.83835860\n",
       "[36,] -1.936395074          NA -1.19281389\n",
       "[37,]  0.440255083          NA          NA\n",
       "[38,]           NA  1.81135039 -1.26195854\n",
       "[39,]  0.927396056  0.45669165 -0.15015798\n",
       "[40,]  0.338375647          NA  0.04851786\n",
       "[41,]  1.982712909  0.61912175  0.17389952\n",
       "[42,]  2.202851269          NA -0.02156120\n",
       "[43,] -0.482318054  0.66729750  0.22837269\n",
       "[44,] -0.237457219  0.49335741  0.65298443\n",
       "[45,] -0.160205667  1.28611867 -0.58637067\n",
       "[46,] -0.538920297  1.21212335  0.25247984\n",
       "[47,]  0.638410371          NA  0.82970182\n",
       "[48,] -1.631121904          NA -0.91914498\n",
       "[49,]  0.512391531 -0.53171939 -0.18551889\n",
       "[50,] -0.343266352  0.91960545  0.42314978\n",
       "[51,]           NA -1.30456038 -1.66634586\n",
       "[52,]  0.571161605 -0.33340280  0.65484553\n",
       "[53,]  1.649778329 -0.05535956  0.02429685\n",
       "[54,]  1.021328695          NA -0.82642170\n",
       "[55,]  0.437929121 -0.64001093 -0.67801159\n",
       "[56,]           NA -1.40452536 -0.89167547\n",
       "[57,]  0.886595405          NA -0.83932289\n",
       "[58,] -0.452281806          NA -0.51213188\n",
       "[59,]  1.375467193  0.67218954  0.98490972\n",
       "[60,]  0.000882771 -0.15179361  0.10378523\n",
       "[61,] -0.953668937 -0.10126650  0.45257035"
      ]
     },
     "metadata": {},
     "output_type": "display_data"
    }
   ],
   "source": []
  },
  {
   "cell_type": "code",
   "execution_count": 321,
   "metadata": {},
   "outputs": [
    {
     "name": "stderr",
     "output_type": "stream",
     "text": [
      "The following object is masked from file:~/Project/Alz/multi/result/geneTpmResidualsAgeGenderAdj_rename.ENSG00000265148.mv_susie.model.cv_diag.RData (pos = 5):\n",
      "\n",
      "    cv_df\n",
      "\n",
      "\n",
      "The following object is masked from file:~/Project/Alz/multi_mp/result/geneTpmResidualsAgeGenderAdj_rename.ENSG00000196735.mv_susie.model.cv_diag.RData:\n",
      "\n",
      "    cv_df\n",
      "\n",
      "\n",
      "The following object is masked from file:~/Project/Alz/multi/result/geneTpmResidualsAgeGenderAdj_rename.ENSG00000265148.mv_susie.model.cv_diag.RData (pos = 11):\n",
      "\n",
      "    cv_df\n",
      "\n",
      "\n"
     ]
    }
   ],
   "source": [
    "a = attach(\"/home/hs3163/Project/mwe/mv_susie_mwe/result/geneTpmResidualsAgeGenderAdj_rename.ENSG00000265148.mv_susie.model.cv_diag.RData\")"
   ]
  },
  {
   "cell_type": "code",
   "execution_count": 368,
   "metadata": {},
   "outputs": [
    {
     "name": "stderr",
     "output_type": "stream",
     "text": [
      "The following object is masked from file:/home/hs3163/Project/mwe/mv_susie_mwe/result/geneTpmResidualsAgeGenderAdj_rename.ENSG00000265148.mv_susie.model.cv.RData (pos = 3):\n",
      "\n",
      "    full_model\n",
      "\n",
      "\n",
      "The following object is masked from file:~/Project/Alz/multi_mp/result/geneTpmResidualsAgeGenderAdj_rename.ENSG00000265148.mv_susie.model.cv.RData:\n",
      "\n",
      "    full_model\n",
      "\n",
      "\n",
      "The following object is masked from file:~/Project/Alz/multi_mp/result/geneTpmResidualsAgeGenderAdj_rename.ENSG00000196735.mv_susie.model.cv.RData:\n",
      "\n",
      "    full_model\n",
      "\n",
      "\n",
      "The following object is masked from file:~/Project/Alz/multi/result/geneTpmResidualsAgeGenderAdj_rename.ENSG00000265148.mv_susie.model.cv.RData:\n",
      "\n",
      "    full_model\n",
      "\n",
      "\n",
      "The following object is masked from file:~/Project/Alz/multi/result/geneTpmResidualsAgeGenderAdj_rename.ENSG00000265148.transformed_XY.RData (pos = 6):\n",
      "\n",
      "    scaled_ENSG00000265148\n",
      "\n",
      "\n",
      "The following object is masked from file:~/Project/Alz/multi/result/geneTpmResidualsAgeGenderAdj_rename.ENSG00000265148.transformed_XY.RData (pos = 12):\n",
      "\n",
      "    scaled_ENSG00000265148\n",
      "\n",
      "\n"
     ]
    }
   ],
   "source": [
    "b = attach(\"/home/hs3163/Project/mwe/mv_susie_mwe/result/geneTpmResidualsAgeGenderAdj_rename.ENSG00000265148.mv_susie.model.cv.RData\")\n",
    "c = attach(\"/home/hs3163/Project/mwe/mv_susie_mwe/result/geneTpmResidualsAgeGenderAdj_rename.ENSG00000265148.transformed_XY.RData\")"
   ]
  },
  {
   "cell_type": "code",
   "execution_count": null,
   "metadata": {},
   "outputs": [],
   "source": [
    "a = attach(\"/home/hs3163/Project/mwe/mv_susie_mwe/result/geneTpmResidualsAgeGenderAdj_rename.ENSG00000265148.mv_susie.model.cv_diag.RData\")"
   ]
  },
  {
   "cell_type": "code",
   "execution_count": 12,
   "metadata": {},
   "outputs": [
    {
     "name": "stderr",
     "output_type": "stream",
     "text": [
      "Attempting to load the environment ‘package:purrr’\n",
      "\n"
     ]
    }
   ],
   "source": [
    "total = attach(\"~/Project/Alz/muti_mp_3/mv_cv.RData\")"
   ]
  },
  {
   "cell_type": "code",
   "execution_count": 67,
   "metadata": {},
   "outputs": [],
   "source": [
    "data = total$output\n",
    "working = data%>%select(-path)\n",
    "working = working%>%mutate(\n",
    "  n_of_cs = map_dbl(model,~.x$sets$cs_index%>%length()),\n",
    "  hsq_ac = map_dbl(model,~.x$hsq[1]),\n",
    "  hsq_PCC = map_dbl(model,~.x$hsq[2]),\n",
    "  hsq_DLPFC = map_dbl(model,~.x$hsq[3]),\n",
    "  total_cs_size = map_dbl(model,(~.x$sets$cs%>%unlist()%>%length())),\n",
    "  mean_cs_size = total_cs_size/n_of_cs\n",
    ")\n",
    "working = working%>%mutate(\n",
    "  rmse_ac = map_dbl(model,~.x$rmse[1]),\n",
    "  rmse_PCC = map_dbl(model,~.x$rmse[2]),\n",
    "  rmse_DLPFC = map_dbl(model,~.x$rmse[3]),\n",
    "  r2_ac = map_dbl(model,~.x$r2[1]%>%round(3)),\n",
    "  r2_PCC = map_dbl(model,~.x$r2[2]%>%round(3)),\n",
    "  r2_DLPFC = map_dbl(model,~.x$r2[3]%>%round(3)),\n",
    " pval_ac = map_dbl(model,~.x$pval[1]),\n",
    " pval_PCC = map_dbl(model,~.x$pval[2]),\n",
    " pval_DLPFC = map_dbl(model,~.x$pval[3])\n",
    ")"
   ]
  },
  {
   "cell_type": "code",
   "execution_count": 58,
   "metadata": {},
   "outputs": [
    {
     "data": {
      "text/html": [
       "<style>\n",
       ".dl-inline {width: auto; margin:0; padding: 0}\n",
       ".dl-inline>dt, .dl-inline>dd {float: none; width: auto; display: inline-block}\n",
       ".dl-inline>dt::after {content: \":\\0020\"; padding-right: .5ex}\n",
       ".dl-inline>dt:not(:first-of-type) {padding-left: .5ex}\n",
       "</style><dl class=dl-inline><dt>V1</dt><dd>0.567853317277389</dd><dt>V2</dt><dd>0.567853317277389</dd><dt>V3</dt><dd>0.567853317277389</dd></dl>\n"
      ],
      "text/latex": [
       "\\begin{description*}\n",
       "\\item[V1] 0.567853317277389\n",
       "\\item[V2] 0.567853317277389\n",
       "\\item[V3] 0.567853317277389\n",
       "\\end{description*}\n"
      ],
      "text/markdown": [
       "V1\n",
       ":   0.567853317277389V2\n",
       ":   0.567853317277389V3\n",
       ":   0.567853317277389\n",
       "\n"
      ],
      "text/plain": [
       "       V1        V2        V3 \n",
       "0.5678533 0.5678533 0.5678533 "
      ]
     },
     "metadata": {},
     "output_type": "display_data"
    }
   ],
   "source": [
    "a = working$model[[1]]\n",
    "a$pval%>%p.adjust( method = \"fdr\")"
   ]
  },
  {
   "cell_type": "code",
   "execution_count": 16,
   "metadata": {},
   "outputs": [
    {
     "ename": "ERROR",
     "evalue": "Error in ID %in% gene[[1]]: object 'gene' not found\n",
     "output_type": "error",
     "traceback": [
      "Error in ID %in% gene[[1]]: object 'gene' not found\nTraceback:\n",
      "1. working %>% filter(ID %in% gene[[1]]) %>% select(ID, n_of_cs, \n .     pval_ac, pval_PCC, pval_DLPFC, r2_ac, r2_PCC, r2_DLPFC) %>% \n .     arrange(-r2_DLPFC) %>% select(-ID) %>% colMeans",
      "2. withVisible(eval(quote(`_fseq`(`_lhs`)), env, env))",
      "3. eval(quote(`_fseq`(`_lhs`)), env, env)",
      "4. eval(quote(`_fseq`(`_lhs`)), env, env)",
      "5. `_fseq`(`_lhs`)",
      "6. freduce(value, `_function_list`)",
      "7. function_list[[i]](value)",
      "8. filter(., ID %in% gene[[1]])",
      "9. filter.tbl_df(., ID %in% gene[[1]])",
      "10. filter_impl(.data, quo)",
      "11. ID %in% gene[[1]]"
     ]
    }
   ],
   "source": [
    "working%>%filter(ID %in% gene[[1]] )%>%select(ID,n_of_cs,pval_ac,pval_PCC,pval_DLPFC,r2_ac,r2_PCC,r2_DLPFC)%>%arrange(-r2_DLPFC)%>%select(-ID)%>%colMeans\n",
    "working%>%filter(ID %in% gene[[2]] )%>%select(ID,n_of_cs,pval_ac,pval_PCC,pval_DLPFC,r2_ac,r2_PCC,r2_DLPFC)%>%arrange(-r2_DLPFC)%>%select(-ID)%>%colMeans\n",
    "working%>%filter(ID %in% gene[[3]] )%>%select(ID,n_of_cs,pval_ac,pval_PCC,pval_DLPFC,r2_ac,r2_PCC,r2_DLPFC)%>%arrange(-r2_DLPFC)%>%select(-ID)%>%colMeans\n",
    "\n",
    "\n",
    "(working%>%filter(ID %in% gene[[1]])%>%select(ID,n_of_cs,pval_ac,pval_PCC,pval_DLPFC,r2_ac,r2_PCC,r2_DLPFC))[,8]%>%as.matrix()%>%median"
   ]
  },
  {
   "cell_type": "code",
   "execution_count": 68,
   "metadata": {},
   "outputs": [
    {
     "name": "stderr",
     "output_type": "stream",
     "text": [
      "Parsed with column specification:\n",
      "cols(\n",
      "  .default = col_character()\n",
      ")\n",
      "\n",
      "See spec(...) for full column specifications.\n",
      "\n",
      "Parsed with column specification:\n",
      "cols(\n",
      "  .default = col_character()\n",
      ")\n",
      "\n",
      "See spec(...) for full column specifications.\n",
      "\n",
      "Parsed with column specification:\n",
      "cols(\n",
      "  .default = col_character()\n",
      ")\n",
      "\n",
      "See spec(...) for full column specifications.\n",
      "\n",
      "Parsed with column specification:\n",
      "cols(\n",
      "  .default = col_character()\n",
      ")\n",
      "\n",
      "See spec(...) for full column specifications.\n",
      "\n",
      "Parsed with column specification:\n",
      "cols(\n",
      "  .default = col_character()\n",
      ")\n",
      "\n",
      "See spec(...) for full column specifications.\n",
      "\n",
      "Parsed with column specification:\n",
      "cols(\n",
      "  .default = col_character()\n",
      ")\n",
      "\n",
      "See spec(...) for full column specifications.\n",
      "\n"
     ]
    }
   ],
   "source": [
    "dir = \"~/Project/Alz/\"\n",
    "Proj = c(\"Alz_AC_SNP\",\"Alz_DLPFC_SNP\",\"Alz_PCC_SNP\")\n",
    "tmp = tibble(\n",
    "  Proj_Name = Proj\n",
    ")\n",
    "analysis = tmp%>%mutate(\n",
    "  result_data = map(Proj_Name,~read_delim(paste(dir,.x,\"/result/all_result.txt\",sep = \"\"),delim = \"\\t\")%>%filter(FILE!=\"FILE\")),\n",
    "  result_data_TWAS = map(result_data,~.x%>%filter(!is.na(BEST.GWAS.ID))%>%select(-FILE)%>%mutate(\n",
    "      MODELCV.R2 = as.numeric(MODELCV.R2),\n",
    "      MODELCV.PV = as.numeric(MODELCV.PV) ,TWAS.P.Adj = p.adjust(TWAS.P, method = \"fdr\"))),\n",
    "        twas_gene = map(result_data_TWAS,~.x$ID),\n",
    "        psed_gene = map(result_data_TWAS,~.x%>%filter(TWAS.P.Adj<0.05)),\n",
    "        r2 = map(result_data_TWAS,~.x%>%pull(MODELCV.R2)%>%as.numeric%>%na.omit()%>%mean()),\n",
    "        pval = map(result_data_TWAS,~.x%>%pull(MODELCV.PV)%>%as.numeric%>%na.omit()%>%mean())\n",
    ")\n",
    "\n",
    "\n",
    "\n",
    "analysis_arch = tmp%>%mutate(\n",
    "  result_data = map(Proj_Name,~read_delim(paste(dir,.x,\"/result_arch/all_result.txt\",sep = \"\"),delim = \"\\t\")%>%filter(FILE!=\"FILE\")),\n",
    "  result_data_TWAS = map(result_data,~.x%>%filter(!is.na(BEST.GWAS.ID))%>%select(-FILE)%>%mutate(\n",
    "      MODELCV.R2 = as.numeric(MODELCV.R2),\n",
    "      MODELCV.PV = p.adjust(as.numeric(MODELCV.PV), method = \"fdr\") ,TWAS.P.Adj = p.adjust(TWAS.P, method = \"fdr\"))),\n",
    "        twas_gene = map(result_data_TWAS,~.x$ID),\n",
    "        psed_gene = map(result_data_TWAS,~.x%>%filter(TWAS.P.Adj<0.05)),\n",
    "        r2 = map(result_data_TWAS,~.x%>%pull(MODELCV.R2)%>%as.numeric%>%na.omit()%>%mean()),\n",
    "        pval = map(result_data_TWAS,~.x%>%pull(MODELCV.PV)%>%as.numeric%>%na.omit()%>%mean())\n",
    ")\n",
    "\n"
   ]
  },
  {
   "cell_type": "code",
   "execution_count": 157,
   "metadata": {},
   "outputs": [
    {
     "data": {
      "text/html": [
       "<ol>\n",
       "\t<li>0.134381632653061</li>\n",
       "</ol>\n"
      ],
      "text/latex": [
       "\\begin{enumerate}\n",
       "\\item 0.134381632653061\n",
       "\\end{enumerate}\n"
      ],
      "text/markdown": [
       "1. 0.134381632653061\n",
       "\n",
       "\n"
      ],
      "text/plain": [
       "[[1]]\n",
       "[1] 0.1343816\n"
      ]
     },
     "metadata": {},
     "output_type": "display_data"
    }
   ],
   "source": []
  },
  {
   "cell_type": "code",
   "execution_count": 69,
   "metadata": {},
   "outputs": [
    {
     "data": {
      "text/html": [
       "<table>\n",
       "<caption>A tibble: 3 × 5</caption>\n",
       "<thead>\n",
       "\t<tr><th scope=col>Proj_Name</th><th scope=col>r2</th><th scope=col>pval</th><th scope=col>susie_r2</th><th scope=col>susie_pval</th></tr>\n",
       "\t<tr><th scope=col>&lt;chr&gt;</th><th scope=col>&lt;list&gt;</th><th scope=col>&lt;list&gt;</th><th scope=col>&lt;dbl&gt;</th><th scope=col>&lt;dbl&gt;</th></tr>\n",
       "</thead>\n",
       "<tbody>\n",
       "\t<tr><td>Alz_AC_SNP   </td><td>0.1343816</td><td>0.055669</td><td>0.0755</td><td>0.011189665</td></tr>\n",
       "\t<tr><td>Alz_DLPFC_SNP</td><td>0.1318</td><td>0.04779832</td><td>0.0610</td><td>0.028067794</td></tr>\n",
       "\t<tr><td>Alz_PCC_SNP  </td><td>0.126025</td><td>0.05630469</td><td>0.0910</td><td>0.008328628</td></tr>\n",
       "</tbody>\n",
       "</table>\n"
      ],
      "text/latex": [
       "A tibble: 3 × 5\n",
       "\\begin{tabular}{lllll}\n",
       " Proj\\_Name & r2 & pval & susie\\_r2 & susie\\_pval\\\\\n",
       " <chr> & <list> & <list> & <dbl> & <dbl>\\\\\n",
       "\\hline\n",
       "\t Alz\\_AC\\_SNP    & 0.1343816 & 0.055669 & 0.0755 & 0.011189665\\\\\n",
       "\t Alz\\_DLPFC\\_SNP & 0.1318 & 0.04779832 & 0.0610 & 0.028067794\\\\\n",
       "\t Alz\\_PCC\\_SNP   & 0.126025 & 0.05630469 & 0.0910 & 0.008328628\\\\\n",
       "\\end{tabular}\n"
      ],
      "text/markdown": [
       "\n",
       "A tibble: 3 × 5\n",
       "\n",
       "| Proj_Name &lt;chr&gt; | r2 &lt;list&gt; | pval &lt;list&gt; | susie_r2 &lt;dbl&gt; | susie_pval &lt;dbl&gt; |\n",
       "|---|---|---|---|---|\n",
       "| Alz_AC_SNP    | 0.1343816 | 0.055669 | 0.0755 | 0.011189665 |\n",
       "| Alz_DLPFC_SNP | 0.1318 | 0.04779832 | 0.0610 | 0.028067794 |\n",
       "| Alz_PCC_SNP   | 0.126025 | 0.05630469 | 0.0910 | 0.008328628 |\n",
       "\n"
      ],
      "text/plain": [
       "  Proj_Name     r2        pval       susie_r2 susie_pval \n",
       "1 Alz_AC_SNP    0.1343816 0.055669   0.0755   0.011189665\n",
       "2 Alz_DLPFC_SNP 0.1318    0.04779832 0.0610   0.028067794\n",
       "3 Alz_PCC_SNP   0.126025  0.05630469 0.0910   0.008328628"
      ]
     },
     "metadata": {},
     "output_type": "display_data"
    }
   ],
   "source": [
    "# Median\n",
    "analysis%>%select(Proj_Name,twas_gene,r2,pval)%>%mutate(\n",
    "    idx = c(1),\n",
    "    susie_r2 = map2_dbl(twas_gene,idx, ~ ((working%>%filter(ID %in% .x)%>%select(ID,n_of_cs,pval_ac,pval_PCC,pval_DLPFC,r2_ac,r2_PCC,r2_DLPFC))[,2+3+.y]%>%as.matrix()%>%median)),\n",
    "    susie_pval = map2_dbl(twas_gene,idx, ~ ((working%>%filter(ID %in% .x)%>%select(ID,n_of_cs,pval_ac,pval_PCC,pval_DLPFC,r2_ac,r2_PCC,r2_DLPFC))[,2+.y]%>%as.matrix()%>%median))\n",
    "    )%>%select(-twas_gene,-idx)\n"
   ]
  },
  {
   "cell_type": "code",
   "execution_count": 70,
   "metadata": {},
   "outputs": [
    {
     "data": {
      "text/html": [
       "<table>\n",
       "<caption>A tibble: 3 × 5</caption>\n",
       "<thead>\n",
       "\t<tr><th scope=col>Proj_Name</th><th scope=col>r2</th><th scope=col>pval</th><th scope=col>susie_r2</th><th scope=col>susie_pval</th></tr>\n",
       "\t<tr><th scope=col>&lt;chr&gt;</th><th scope=col>&lt;list&gt;</th><th scope=col>&lt;list&gt;</th><th scope=col>&lt;dbl&gt;</th><th scope=col>&lt;dbl&gt;</th></tr>\n",
       "</thead>\n",
       "<tbody>\n",
       "\t<tr><td>Alz_AC_SNP   </td><td>0.1343816</td><td>0.055669</td><td>0.1256522</td><td>0.06482153</td></tr>\n",
       "\t<tr><td>Alz_DLPFC_SNP</td><td>0.1318</td><td>0.04779832</td><td>0.1215714</td><td>0.10422136</td></tr>\n",
       "\t<tr><td>Alz_PCC_SNP  </td><td>0.126025</td><td>0.05630469</td><td>0.1301795</td><td>0.07965006</td></tr>\n",
       "</tbody>\n",
       "</table>\n"
      ],
      "text/latex": [
       "A tibble: 3 × 5\n",
       "\\begin{tabular}{lllll}\n",
       " Proj\\_Name & r2 & pval & susie\\_r2 & susie\\_pval\\\\\n",
       " <chr> & <list> & <list> & <dbl> & <dbl>\\\\\n",
       "\\hline\n",
       "\t Alz\\_AC\\_SNP    & 0.1343816 & 0.055669 & 0.1256522 & 0.06482153\\\\\n",
       "\t Alz\\_DLPFC\\_SNP & 0.1318 & 0.04779832 & 0.1215714 & 0.10422136\\\\\n",
       "\t Alz\\_PCC\\_SNP   & 0.126025 & 0.05630469 & 0.1301795 & 0.07965006\\\\\n",
       "\\end{tabular}\n"
      ],
      "text/markdown": [
       "\n",
       "A tibble: 3 × 5\n",
       "\n",
       "| Proj_Name &lt;chr&gt; | r2 &lt;list&gt; | pval &lt;list&gt; | susie_r2 &lt;dbl&gt; | susie_pval &lt;dbl&gt; |\n",
       "|---|---|---|---|---|\n",
       "| Alz_AC_SNP    | 0.1343816 | 0.055669 | 0.1256522 | 0.06482153 |\n",
       "| Alz_DLPFC_SNP | 0.1318 | 0.04779832 | 0.1215714 | 0.10422136 |\n",
       "| Alz_PCC_SNP   | 0.126025 | 0.05630469 | 0.1301795 | 0.07965006 |\n",
       "\n"
      ],
      "text/plain": [
       "  Proj_Name     r2        pval       susie_r2  susie_pval\n",
       "1 Alz_AC_SNP    0.1343816 0.055669   0.1256522 0.06482153\n",
       "2 Alz_DLPFC_SNP 0.1318    0.04779832 0.1215714 0.10422136\n",
       "3 Alz_PCC_SNP   0.126025  0.05630469 0.1301795 0.07965006"
      ]
     },
     "metadata": {},
     "output_type": "display_data"
    }
   ],
   "source": [
    "# Mean\n",
    "analysis%>%select(Proj_Name,twas_gene,r2,pval)%>%mutate(\n",
    "    idx = c(1),\n",
    "    susie_r2 = map2_dbl(twas_gene,idx, ~ ((working%>%filter(ID %in% .x)%>%select(ID,n_of_cs,pval_ac,pval_PCC,pval_DLPFC,r2_ac,r2_PCC,r2_DLPFC))[,2+3+.y]%>%as.matrix()%>%mean)),\n",
    "    susie_pval = map2_dbl(twas_gene,idx, ~ ((working%>%filter(ID %in% .x)%>%select(ID,n_of_cs,pval_ac,pval_PCC,pval_DLPFC,r2_ac,r2_PCC,r2_DLPFC))[,2+.y]%>%as.matrix()%>%mean))\n",
    "    )%>%select(-twas_gene,-idx)\n",
    "\n"
   ]
  },
  {
   "cell_type": "code",
   "execution_count": 71,
   "metadata": {},
   "outputs": [
    {
     "name": "stderr",
     "output_type": "stream",
     "text": [
      "`stat_bin()` using `bins = 30`. Pick better value with `binwidth`.\n",
      "\n",
      "Warning message:\n",
      "“Removed 2 rows containing non-finite values (stat_bin).”\n"
     ]
    },
    {
     "data": {
      "image/png": "[encoded data removed]",
      "text/plain": [
       "plot without title"
      ]
     },
     "metadata": {
      "image/png": {
       "height": 420,
       "width": 420
      }
     },
     "output_type": "display_data"
    }
   ],
   "source": [
    "working_plot = working%>%select(ID,n_of_cs,pval_ac,pval_PCC,pval_DLPFC,r2_ac,r2_PCC,r2_DLPFC)\n",
    "working_plot%>%ggplot(aes(x = pval_ac ))+geom_histogram()+ggtitle(\"Distribution for AC mv_susie Pval\")"
   ]
  },
  {
   "cell_type": "code",
   "execution_count": 72,
   "metadata": {},
   "outputs": [
    {
     "name": "stderr",
     "output_type": "stream",
     "text": [
      "`stat_bin()` using `bins = 30`. Pick better value with `binwidth`.\n",
      "\n"
     ]
    },
    {
     "data": {
      "image/png": "[encoded data removed]",
      "text/plain": [
       "plot without title"
      ]
     },
     "metadata": {
      "image/png": {
       "height": 420,
       "width": 420
      }
     },
     "output_type": "display_data"
    }
   ],
   "source": [
    "(analysis%>%pull(result_data_TWAS))[[1]]%>%ggplot(aes(x = MODELCV.PV%>%as.numeric()))+geom_histogram()+ggtitle(\"Distribution for AC fusion Pval\")"
   ]
  },
  {
   "cell_type": "code",
   "execution_count": null,
   "metadata": {},
   "outputs": [],
   "source": []
  },
  {
   "cell_type": "code",
   "execution_count": 85,
   "metadata": {},
   "outputs": [
    {
     "name": "stderr",
     "output_type": "stream",
     "text": [
      "Joining, by = \"ID\"\n",
      "\n",
      "Joining, by = \"ID\"\n",
      "\n",
      "Joining, by = \"ID\"\n",
      "\n",
      "Joining, by = \"ID\"\n",
      "\n",
      "Joining, by = \"ID\"\n",
      "\n",
      "Joining, by = \"ID\"\n",
      "\n"
     ]
    },
    {
     "data": {
      "text/html": [
       "<table>\n",
       "<caption>A tibble: 3 × 4</caption>\n",
       "<thead>\n",
       "\t<tr><th scope=col>tissue</th><th scope=col>pcnt_pv_win</th><th scope=col>pcnt_r2_win</th><th scope=col>pcnt_both_win</th></tr>\n",
       "\t<tr><th scope=col>&lt;chr&gt;</th><th scope=col>&lt;dbl&gt;</th><th scope=col>&lt;dbl&gt;</th><th scope=col>&lt;dbl&gt;</th></tr>\n",
       "</thead>\n",
       "<tbody>\n",
       "\t<tr><td>AC   </td><td>0.4347826</td><td>0.5434783</td><td>0.3913043</td></tr>\n",
       "\t<tr><td>DLPFC</td><td>0.2653061</td><td>0.5102041</td><td>0.2244898</td></tr>\n",
       "\t<tr><td>PCC  </td><td>0.5128205</td><td>0.4615385</td><td>0.3333333</td></tr>\n",
       "</tbody>\n",
       "</table>\n"
      ],
      "text/latex": [
       "A tibble: 3 × 4\n",
       "\\begin{tabular}{llll}\n",
       " tissue & pcnt\\_pv\\_win & pcnt\\_r2\\_win & pcnt\\_both\\_win\\\\\n",
       " <chr> & <dbl> & <dbl> & <dbl>\\\\\n",
       "\\hline\n",
       "\t AC    & 0.4347826 & 0.5434783 & 0.3913043\\\\\n",
       "\t DLPFC & 0.2653061 & 0.5102041 & 0.2244898\\\\\n",
       "\t PCC   & 0.5128205 & 0.4615385 & 0.3333333\\\\\n",
       "\\end{tabular}\n"
      ],
      "text/markdown": [
       "\n",
       "A tibble: 3 × 4\n",
       "\n",
       "| tissue &lt;chr&gt; | pcnt_pv_win &lt;dbl&gt; | pcnt_r2_win &lt;dbl&gt; | pcnt_both_win &lt;dbl&gt; |\n",
       "|---|---|---|---|\n",
       "| AC    | 0.4347826 | 0.5434783 | 0.3913043 |\n",
       "| DLPFC | 0.2653061 | 0.5102041 | 0.2244898 |\n",
       "| PCC   | 0.5128205 | 0.4615385 | 0.3333333 |\n",
       "\n"
      ],
      "text/plain": [
       "  tissue pcnt_pv_win pcnt_r2_win pcnt_both_win\n",
       "1 AC     0.4347826   0.5434783   0.3913043    \n",
       "2 DLPFC  0.2653061   0.5102041   0.2244898    \n",
       "3 PCC    0.5128205   0.4615385   0.3333333    "
      ]
     },
     "metadata": {},
     "output_type": "display_data"
    },
    {
     "name": "stderr",
     "output_type": "stream",
     "text": [
      "Joining, by = \"ID\"\n",
      "\n",
      "Joining, by = \"ID\"\n",
      "\n",
      "Joining, by = \"ID\"\n",
      "\n",
      "Joining, by = \"ID\"\n",
      "\n",
      "Joining, by = \"ID\"\n",
      "\n",
      "Joining, by = \"ID\"\n",
      "\n"
     ]
    },
    {
     "data": {
      "text/html": [
       "<table>\n",
       "<caption>A tibble: 3 × 4</caption>\n",
       "<thead>\n",
       "\t<tr><th scope=col>Proj_Name</th><th scope=col>pcnt_pv_win</th><th scope=col>pcnt_r2_win</th><th scope=col>pcnt_both_win</th></tr>\n",
       "\t<tr><th scope=col>&lt;chr&gt;</th><th scope=col>&lt;dbl&gt;</th><th scope=col>&lt;dbl&gt;</th><th scope=col>&lt;dbl&gt;</th></tr>\n",
       "</thead>\n",
       "<tbody>\n",
       "\t<tr><td>Alz_AC_SNP   </td><td>0.6739130</td><td>0.5434783</td><td>0.5434783</td></tr>\n",
       "\t<tr><td>Alz_DLPFC_SNP</td><td>0.6000000</td><td>0.7400000</td><td>0.5400000</td></tr>\n",
       "\t<tr><td>Alz_PCC_SNP  </td><td>0.7619048</td><td>0.7142857</td><td>0.6046512</td></tr>\n",
       "</tbody>\n",
       "</table>\n"
      ],
      "text/latex": [
       "A tibble: 3 × 4\n",
       "\\begin{tabular}{llll}\n",
       " Proj\\_Name & pcnt\\_pv\\_win & pcnt\\_r2\\_win & pcnt\\_both\\_win\\\\\n",
       " <chr> & <dbl> & <dbl> & <dbl>\\\\\n",
       "\\hline\n",
       "\t Alz\\_AC\\_SNP    & 0.6739130 & 0.5434783 & 0.5434783\\\\\n",
       "\t Alz\\_DLPFC\\_SNP & 0.6000000 & 0.7400000 & 0.5400000\\\\\n",
       "\t Alz\\_PCC\\_SNP   & 0.7619048 & 0.7142857 & 0.6046512\\\\\n",
       "\\end{tabular}\n"
      ],
      "text/markdown": [
       "\n",
       "A tibble: 3 × 4\n",
       "\n",
       "| Proj_Name &lt;chr&gt; | pcnt_pv_win &lt;dbl&gt; | pcnt_r2_win &lt;dbl&gt; | pcnt_both_win &lt;dbl&gt; |\n",
       "|---|---|---|---|\n",
       "| Alz_AC_SNP    | 0.6739130 | 0.5434783 | 0.5434783 |\n",
       "| Alz_DLPFC_SNP | 0.6000000 | 0.7400000 | 0.5400000 |\n",
       "| Alz_PCC_SNP   | 0.7619048 | 0.7142857 | 0.6046512 |\n",
       "\n"
      ],
      "text/plain": [
       "  Proj_Name     pcnt_pv_win pcnt_r2_win pcnt_both_win\n",
       "1 Alz_AC_SNP    0.6739130   0.5434783   0.5434783    \n",
       "2 Alz_DLPFC_SNP 0.6000000   0.7400000   0.5400000    \n",
       "3 Alz_PCC_SNP   0.7619048   0.7142857   0.6046512    "
      ]
     },
     "metadata": {},
     "output_type": "display_data"
    }
   ],
   "source": [
    "analysis_comp = analysis%>%select(Proj_Name,twas_gene,result_data_TWAS,r2,pval)%>%mutate(\n",
    "    idx = c(1,3,2),\n",
    "    susie_r2 = map2(twas_gene,idx, ~ ((working%>%filter(ID %in% .x)%>%select(ID,n_of_cs,pval_ac,pval_PCC,pval_DLPFC,r2_ac,r2_PCC,r2_DLPFC))[,c(1,2+3+.y)])),\n",
    "    susie_pval = map2(twas_gene,idx, ~ ((working%>%filter(ID %in% .x)%>%select(ID,n_of_cs,pval_ac,pval_PCC,pval_DLPFC,r2_ac,r2_PCC,r2_DLPFC))[,c(1,2+.y)])),\n",
    "    sum_data = map2(result_data_TWAS,susie_r2, ~ inner_join(.x,.y )%>%\n",
    "                    mutate(r2_more = .[,ncol(.)] >= MODELCV.R2%>%as.numeric() )),\n",
    "    sum_data = map2(sum_data,susie_pval, ~ inner_join(.x,.y )%>%\n",
    "                    mutate(pv_less = .[,ncol(.)] <= MODELCV.PV%>%as.numeric() )),\n",
    "    sum_data = map(sum_data,~.x%>%\n",
    "                   mutate(both_win = (r2_more & pv_less) ) ),\n",
    "    pcnt_pv_win = map_dbl(sum_data, ~.x%>%pull(pv_less)%>%na.omit%>%mean()  ),\n",
    "    pcnt_r2_win = map_dbl(sum_data, ~.x%>%pull(r2_more)%>%na.omit%>%mean()  ),\n",
    "    pcnt_both_win = map_dbl(sum_data, ~.x%>%filter(both_win )%>%nrow()/nrow(.x) )\n",
    "    )%>%select(-twas_gene,-idx)\n",
    "analysis_comp%>%mutate(tissue =  c(\"AC\",\"DLPFC\",\"PCC\"))%>%select(tissue,pcnt_pv_win,pcnt_r2_win,pcnt_both_win)\n",
    "\n",
    "\n",
    "\n",
    "analysis_comp_arch = analysis_arch%>%select(Proj_Name,twas_gene,result_data_TWAS,r2,pval)%>%mutate(\n",
    "    idx = c(1,3,2),\n",
    "    susie_r2 = map2(twas_gene,idx, ~ ((working%>%filter(ID %in% .x)%>%select(ID,n_of_cs,pval_ac,pval_PCC,pval_DLPFC,r2_ac,r2_PCC,r2_DLPFC))[,c(1,2+3+.y)])),\n",
    "    susie_pval = map2(twas_gene,idx, ~ ((working%>%filter(ID %in% .x)%>%select(ID,n_of_cs,pval_ac,pval_PCC,pval_DLPFC,r2_ac,r2_PCC,r2_DLPFC))[,c(1,2+.y)])),\n",
    "    sum_data = map2(result_data_TWAS,susie_r2, ~ inner_join(.x,.y )%>%\n",
    "                    mutate(r2_more = .[,ncol(.)] >=  MODELCV.R2%>%as.numeric() )),\n",
    "    sum_data = map2(sum_data,susie_pval, ~ inner_join(.x,.y )%>%\n",
    "                    mutate(pv_less = .[,ncol(.)]  <= MODELCV.PV%>%as.numeric() )),\n",
    "    sum_data = map(sum_data,~.x%>%\n",
    "                   mutate(both_win = (r2_more & pv_less) ) ),\n",
    "    pcnt_pv_win = map_dbl(sum_data, ~.x%>%pull(pv_less)%>%na.omit%>%mean()  ),\n",
    "    pcnt_r2_win = map_dbl(sum_data, ~.x%>%pull(r2_more)%>%na.omit%>%mean()  ),\n",
    "    pcnt_both_win = map_dbl(sum_data, ~.x%>%filter(both_win )%>%nrow()/nrow(.x) )\n",
    "    )%>%select(-twas_gene,-idx)\n",
    "analysis_comp_arch%>%select(Proj_Name,pcnt_pv_win,pcnt_r2_win,pcnt_both_win)"
   ]
  },
  {
   "cell_type": "code",
   "execution_count": null,
   "metadata": {},
   "outputs": [],
   "source": []
  },
  {
   "cell_type": "code",
   "execution_count": 96,
   "metadata": {},
   "outputs": [
    {
     "name": "stderr",
     "output_type": "stream",
     "text": [
      "`stat_bin()` using `bins = 30`. Pick better value with `binwidth`.\n",
      "\n",
      "`stat_bin()` using `bins = 30`. Pick better value with `binwidth`.\n",
      "\n"
     ]
    },
    {
     "data": {
      "image/png": "[encoded data removed]",
      "text/plain": [
       "plot without title"
      ]
     },
     "metadata": {
      "image/png": {
       "height": 420,
       "width": 420
      }
     },
     "output_type": "display_data"
    },
    {
     "name": "stderr",
     "output_type": "stream",
     "text": [
      "`stat_bin()` using `bins = 30`. Pick better value with `binwidth`.\n",
      "\n"
     ]
    },
    {
     "data": {
      "image/png": "[encoded data removed]",
      "text/plain": [
       "plot without title"
      ]
     },
     "metadata": {
      "image/png": {
       "height": 420,
       "width": 420
      }
     },
     "output_type": "display_data"
    },
    {
     "name": "stderr",
     "output_type": "stream",
     "text": [
      "`stat_bin()` using `bins = 30`. Pick better value with `binwidth`.\n",
      "\n"
     ]
    },
    {
     "data": {
      "image/png": "[encoded data removed]",
      "text/plain": [
       "plot without title"
      ]
     },
     "metadata": {
      "image/png": {
       "height": 420,
       "width": 420
      }
     },
     "output_type": "display_data"
    },
    {
     "data": {
      "image/png": "[encoded data removed]",
      "text/plain": [
       "plot without title"
      ]
     },
     "metadata": {
      "image/png": {
       "height": 420,
       "width": 420
      }
     },
     "output_type": "display_data"
    }
   ],
   "source": [
    "analysis_comp$sum_data[[2]]%>%filter()%>%ggplot(aes(x = pval_DLPFC,fill = both_win ))+geom_histogram()+ggtitle(\"Distribution of MV_susie CV P value for PCC gene\")\n",
    "analysis_comp$sum_data[[3]]%>%filter()%>%ggplot(aes(x = pval_PCC,fill = pv_less ))+geom_histogram()+\n",
    "ggtitle(\"Distribution of MvSuSiE CV P value for PCC\")+xlab(\"CV P value for Gene expression\")+labs(fill = \"MvSuSiE with lower P value\")\n",
    "\n",
    "analysis_comp$sum_data[[1]]%>%filter()%>%ggplot(aes(x = pval_ac,fill = pv_less ))+geom_histogram()+\n",
    "ggtitle(\"Distribution of MvSuSiE CV P value for AC\")+xlab(\"CV P value for Gene expression\")+labs(fill = \"MvSuSiE with lower P value\")\n",
    "\n",
    "analysis_comp$sum_data[[2]]%>%filter()%>%ggplot(aes(x = pval_DLPFC,fill = pv_less ))+geom_histogram()+\n",
    "ggtitle(\"Distribution of MvSuSiE CV P value for DLPFC\")+xlab(\"CV P value for Gene expression\")+labs(fill = \"MvSuSiE with lower P value\")\n"
   ]
  },
  {
   "cell_type": "code",
   "execution_count": 78,
   "metadata": {},
   "outputs": [
    {
     "name": "stderr",
     "output_type": "stream",
     "text": [
      "`stat_bin()` using `bins = 30`. Pick better value with `binwidth`.\n",
      "\n",
      "`stat_bin()` using `bins = 30`. Pick better value with `binwidth`.\n",
      "\n"
     ]
    },
    {
     "data": {
      "image/png": "[encoded data removed]",
      "text/plain": [
       "plot without title"
      ]
     },
     "metadata": {
      "image/png": {
       "height": 420,
       "width": 420
      }
     },
     "output_type": "display_data"
    },
    {
     "data": {
      "image/png": "[encoded data removed]",
      "text/plain": [
       "plot without title"
      ]
     },
     "metadata": {
      "image/png": {
       "height": 420,
       "width": 420
      }
     },
     "output_type": "display_data"
    }
   ],
   "source": [
    "analysis_comp$sum_data[[3]]%>%filter()%>%ggplot(aes(x = MODELCV.PV, fill = pv_less))+geom_histogram()+ggtitle(\"Distribution of Fusion CV P value for PCC gene\")\n",
    "analysis_comp$sum_data[[3]]%>%filter()%>%ggplot(aes(x = pval_PCC, fill = pv_less))+geom_histogram()+ggtitle(\"Distribution of Fusion CV P value for PCC gene\")\n"
   ]
  },
  {
   "cell_type": "code",
   "execution_count": 46,
   "metadata": {},
   "outputs": [
    {
     "name": "stderr",
     "output_type": "stream",
     "text": [
      "`stat_bin()` using `bins = 30`. Pick better value with `binwidth`.\n",
      "\n",
      "`stat_bin()` using `bins = 30`. Pick better value with `binwidth`.\n",
      "\n"
     ]
    },
    {
     "data": {
      "image/png": "[encoded data removed]",
      "text/plain": [
       "plot without title"
      ]
     },
     "metadata": {
      "image/png": {
       "height": 420,
       "width": 420
      }
     },
     "output_type": "display_data"
    },
    {
     "data": {
      "image/png": "[encoded data removed]",
      "text/plain": [
       "plot without title"
      ]
     },
     "metadata": {
      "image/png": {
       "height": 420,
       "width": 420
      }
     },
     "output_type": "display_data"
    }
   ],
   "source": [
    "analysis_comp$sum_data[[2]]%>%filter()%>%ggplot(aes(x = MODELCV.R2, fill = both_win))+geom_histogram()+ggtitle(\"Distribution of Fusion CV r2 for AC gene\")\n",
    "analysis_comp$sum_data[[2]]%>%filter()%>%ggplot(aes(x = r2_DLPFC,fill = both_win ))+geom_histogram()+ggtitle(\"Distribution of MV_susie CV r2 for AC gene\")"
   ]
  },
  {
   "cell_type": "code",
   "execution_count": 432,
   "metadata": {},
   "outputs": [
    {
     "ename": "ERROR",
     "evalue": "Error in a[[1]]: wrong arguments for subsetting an environment\n",
     "output_type": "error",
     "traceback": [
      "Error in a[[1]]: wrong arguments for subsetting an environment\nTraceback:\n",
      "1. analysis_comp$sum_data[[1]][analysis_comp$sum_data[[1]]$both_win == \n .     a[[1]]$both_win, ]",
      "2. `[.spec_tbl_df`(analysis_comp$sum_data[[1]], analysis_comp$sum_data[[1]]$both_win == \n .     a[[1]]$both_win, )",
      "3. NextMethod(`[`)",
      "4. `[.tbl_df`(analysis_comp$sum_data[[1]], analysis_comp$sum_data[[1]]$both_win == \n .     a[[1]]$both_win, )"
     ]
    }
   ],
   "source": []
  },
  {
   "cell_type": "code",
   "execution_count": 433,
   "metadata": {},
   "outputs": [
    {
     "ename": "ERROR",
     "evalue": "Error in a[[1]]: wrong arguments for subsetting an environment\n",
     "output_type": "error",
     "traceback": [
      "Error in a[[1]]: wrong arguments for subsetting an environment\nTraceback:\n",
      "1. a[[1]]$pv_less %>% sum()",
      "2. eval(lhs, parent, parent)",
      "3. eval(lhs, parent, parent)"
     ]
    }
   ],
   "source": []
  },
  {
   "cell_type": "code",
   "execution_count": 47,
   "metadata": {},
   "outputs": [
    {
     "data": {
      "image/png": "[encoded data removed]",
      "text/plain": [
       "plot without title"
      ]
     },
     "metadata": {
      "image/png": {
       "height": 420,
       "width": 420
      }
     },
     "output_type": "display_data"
    }
   ],
   "source": [
    "analysis_comp$sum_data[[1]]%>%filter()%>%ggplot(aes(x = MODEL, fill = both_win))+geom_bar()+ggtitle(\"Distribution of best performing model for AC gene before correction\")"
   ]
  },
  {
   "cell_type": "code",
   "execution_count": 48,
   "metadata": {},
   "outputs": [
    {
     "data": {
      "image/png": "[encoded data removed]",
      "text/plain": [
       "plot without title"
      ]
     },
     "metadata": {
      "image/png": {
       "height": 420,
       "width": 420
      }
     },
     "output_type": "display_data"
    }
   ],
   "source": [
    "analysis_comp$sum_data[[1]]%>%filter()%>%ggplot(aes(x = MODEL, fill = both_win))+geom_bar()+ggtitle(\"Distribution of best performing model for PCC gene before correction\")"
   ]
  },
  {
   "cell_type": "code",
   "execution_count": 49,
   "metadata": {},
   "outputs": [
    {
     "data": {
      "image/png": "[encoded data removed]",
      "text/plain": [
       "plot without title"
      ]
     },
     "metadata": {
      "image/png": {
       "height": 420,
       "width": 420
      }
     },
     "output_type": "display_data"
    },
    {
     "data": {
      "image/png": "[encoded data removed]",
      "text/plain": [
       "plot without title"
      ]
     },
     "metadata": {
      "image/png": {
       "height": 420,
       "width": 420
      }
     },
     "output_type": "display_data"
    },
    {
     "data": {
      "image/png": "[encoded data removed]",
      "text/plain": [
       "plot without title"
      ]
     },
     "metadata": {
      "image/png": {
       "height": 420,
       "width": 420
      }
     },
     "output_type": "display_data"
    }
   ],
   "source": [
    "analysis_comp_arch$sum_data[[2]]%>%filter()%>%ggplot(aes(x = MODEL, fill = pv_less))+geom_bar()+ggtitle(\"Distribution of best performing model for PCC gene after correction\")\n",
    "analysis_comp$sum_data[[3]]%>%filter()%>%ggplot(aes(x = MODEL, fill = both_win))+geom_bar()+ggtitle(\"Distribution of best performing model for PCC gene after correction\")\n",
    "analysis_comp_arch$sum_data[[2]]%>%filter()%>%ggplot(aes(x = MODEL, fill = both_win))+geom_bar()+ggtitle(\"Distribution of best performing model for DLPFC gene after correction\")\n",
    "\n"
   ]
  },
  {
   "cell_type": "code",
   "execution_count": 51,
   "metadata": {},
   "outputs": [
    {
     "data": {
      "text/html": [
       "<table>\n",
       "<caption>A spec_tbl_df: 46 × 24</caption>\n",
       "<thead>\n",
       "\t<tr><th scope=col>PANEL</th><th scope=col>ID</th><th scope=col>CHR</th><th scope=col>P0</th><th scope=col>P1</th><th scope=col>HSQ</th><th scope=col>BEST.GWAS.ID</th><th scope=col>BEST.GWAS.Z</th><th scope=col>EQTL.ID</th><th scope=col>EQTL.R2</th><th scope=col>⋯</th><th scope=col>MODEL</th><th scope=col>MODELCV.R2</th><th scope=col>MODELCV.PV</th><th scope=col>TWAS.Z</th><th scope=col>TWAS.P</th><th scope=col>TWAS.P.Adj</th><th scope=col>r2_ac</th><th scope=col>r2_more</th><th scope=col>pval_ac</th><th scope=col>pv_less</th></tr>\n",
       "\t<tr><th scope=col>&lt;chr&gt;</th><th scope=col>&lt;chr&gt;</th><th scope=col>&lt;chr&gt;</th><th scope=col>&lt;chr&gt;</th><th scope=col>&lt;chr&gt;</th><th scope=col>&lt;chr&gt;</th><th scope=col>&lt;chr&gt;</th><th scope=col>&lt;chr&gt;</th><th scope=col>&lt;chr&gt;</th><th scope=col>&lt;chr&gt;</th><th scope=col>⋯</th><th scope=col>&lt;chr&gt;</th><th scope=col>&lt;dbl&gt;</th><th scope=col>&lt;dbl&gt;</th><th scope=col>&lt;chr&gt;</th><th scope=col>&lt;chr&gt;</th><th scope=col>&lt;dbl&gt;</th><th scope=col>&lt;dbl&gt;</th><th scope=col>&lt;lgl[,1]&gt;</th><th scope=col>&lt;dbl&gt;</th><th scope=col>&lt;lgl[,1]&gt;</th></tr>\n",
       "</thead>\n",
       "<tbody>\n",
       "\t<tr><td>NA</td><td>ENSG00000158869</td><td>1 </td><td>161215234</td><td>161220699</td><td>0.0616</td><td>1:161155392_A_G</td><td> 6.37</td><td>1:161156033_A_C</td><td>0.03611  </td><td>⋯</td><td>top1 </td><td>0.0360</td><td>1.547368e-01</td><td>-6.22  </td><td>5.05e-10</td><td>8.248333e-09</td><td>0.029</td><td>FALSE</td><td>8.500597e-02</td><td> TRUE</td></tr>\n",
       "\t<tr><td>NA</td><td>ENSG00000203710</td><td>1 </td><td>207496147</td><td>207641765</td><td>0.0553</td><td>1:207786828_A_G</td><td>-8.88</td><td>1:207802552_A_C</td><td>0.00562  </td><td>⋯</td><td>lasso</td><td>0.0120</td><td>2.085106e-01</td><td> 7.15  </td><td>8.63e-13</td><td>2.114350e-11</td><td>0.022</td><td> TRUE</td><td>1.653224e-01</td><td> TRUE</td></tr>\n",
       "\t<tr><td>NA</td><td>ENSG00000110079</td><td>11</td><td>60185702 </td><td>60317944 </td><td>0.0655</td><td>11:59958380_A_C</td><td>-8.01</td><td>11:60097853_C_T</td><td>0.036    </td><td>⋯</td><td>top1 </td><td>0.0360</td><td>1.265833e-01</td><td>4.55   </td><td>5.29e-06</td><td>3.703000e-05</td><td>0.037</td><td> TRUE</td><td>9.472857e-02</td><td> TRUE</td></tr>\n",
       "\t<tr><td>NA</td><td>ENSG00000140090</td><td>14</td><td>92322581 </td><td>92501481 </td><td>0.0992</td><td>14:92938855_A_G</td><td>-6.42</td><td>14:92795364_A_G</td><td>0.00496  </td><td>⋯</td><td>bslmm</td><td>0.0490</td><td>2.638462e-02</td><td>-0.859 </td><td>0.39    </td><td>4.660976e-01</td><td>0.022</td><td>FALSE</td><td>1.891092e-01</td><td>FALSE</td></tr>\n",
       "\t<tr><td>NA</td><td>ENSG00000103642</td><td>15</td><td>63121833 </td><td>63142061 </td><td>0.0679</td><td>15:63517347_A_G</td><td> 5.21</td><td>15:63408320_A_G</td><td> 0.100775</td><td>⋯</td><td>top1 </td><td>0.1000</td><td>7.795455e-03</td><td> 2.65  </td><td>0.00817 </td><td>2.502063e-02</td><td>0.094</td><td>FALSE</td><td>8.328628e-03</td><td>FALSE</td></tr>\n",
       "\t<tr><td>NA</td><td>ENSG00000128923</td><td>15</td><td>58771192 </td><td>58861900 </td><td>0.0470</td><td>15:59022615_C_T</td><td>-6.08</td><td>15:59063144_A_C</td><td>-0.000478</td><td>⋯</td><td>enet </td><td>0.0092</td><td>2.600000e-01</td><td>-1.62  </td><td>0.10446 </td><td>1.765014e-01</td><td>0.018</td><td> TRUE</td><td>2.106953e-01</td><td> TRUE</td></tr>\n",
       "\t<tr><td>NA</td><td>ENSG00000140416</td><td>15</td><td>63042632 </td><td>63071915 </td><td>0.0516</td><td>15:63517347_A_G</td><td> 5.21</td><td>15:63370358_C_T</td><td> 0.030811</td><td>⋯</td><td>top1 </td><td>0.0310</td><td>1.265833e-01</td><td>-1.95  </td><td>0.05103 </td><td>9.415000e-02</td><td>0.036</td><td> TRUE</td><td>9.017499e-02</td><td> TRUE</td></tr>\n",
       "\t<tr><td>NA</td><td>ENSG00000103510</td><td>16</td><td>31114489 </td><td>31131393 </td><td>0.0822</td><td>16:31133100_A_G</td><td>-5.5 </td><td>16:31149142_A_G</td><td>0.0818   </td><td>⋯</td><td>top1 </td><td>0.0820</td><td>1.528800e-02</td><td>-4.57  </td><td>4.79e-06</td><td>3.703000e-05</td><td>0.091</td><td> TRUE</td><td>5.403043e-03</td><td> TRUE</td></tr>\n",
       "\t<tr><td>NA</td><td>ENSG00000178226</td><td>16</td><td>31138926 </td><td>31150083 </td><td>0.1212</td><td>16:31133100_A_G</td><td>-5.5 </td><td>16:31154358_A_G</td><td>0.1225   </td><td>⋯</td><td>top1 </td><td>0.1200</td><td>1.758235e-03</td><td>-5.31  </td><td>1.09e-07</td><td>1.254400e-06</td><td>0.123</td><td> TRUE</td><td>3.722607e-04</td><td> TRUE</td></tr>\n",
       "\t<tr><td>NA</td><td>ENSG00000196118</td><td>16</td><td>30757423 </td><td>30762221 </td><td>0.1033</td><td>16:31133100_A_G</td><td>-5.5 </td><td>16:30746822_A_C</td><td>0.1305   </td><td>⋯</td><td>blup </td><td>0.1300</td><td>3.094737e-03</td><td> 3.69  </td><td>2.28e-04</td><td>1.241333e-03</td><td>0.141</td><td> TRUE</td><td>7.720896e-04</td><td> TRUE</td></tr>\n",
       "\t<tr><td>NA</td><td>ENSG00000108509</td><td>17</td><td>4967992  </td><td>4987675  </td><td>0.0473</td><td>17:5138980_A_G </td><td>6.15 </td><td>17:4830121_A_G </td><td>0.0357   </td><td>⋯</td><td>top1 </td><td>0.0360</td><td>7.869697e-02</td><td>-1.170 </td><td>0.24196 </td><td>3.293344e-01</td><td>0.025</td><td>FALSE</td><td>1.683442e-01</td><td>FALSE</td></tr>\n",
       "\t<tr><td>NA</td><td>ENSG00000108523</td><td>17</td><td>4940008  </td><td>4945222  </td><td>0.1439</td><td>17:5138980_A_G </td><td>6.15 </td><td>17:4849635_A_G </td><td>0.1909   </td><td>⋯</td><td>top1 </td><td>0.1900</td><td>1.069091e-04</td><td>-0.636 </td><td>0.52509 </td><td>5.847593e-01</td><td>0.172</td><td>FALSE</td><td>1.545512e-04</td><td>FALSE</td></tr>\n",
       "\t<tr><td>NA</td><td>ENSG00000108559</td><td>17</td><td>5360963  </td><td>5419676  </td><td>0.0853</td><td>17:5138980_A_G </td><td>6.15 </td><td>17:5288018_A_G </td><td>0.0870   </td><td>⋯</td><td>top1 </td><td>0.0870</td><td>2.903704e-02</td><td>-2.666 </td><td>0.00768 </td><td>2.502063e-02</td><td>0.108</td><td> TRUE</td><td>2.453137e-03</td><td> TRUE</td></tr>\n",
       "\t<tr><td>NA</td><td>ENSG00000129204</td><td>17</td><td>5116032  </td><td>5175034  </td><td>0.6203</td><td>17:5138980_A_G </td><td>6.15 </td><td>17:5154016_A_G </td><td>0.2992   </td><td>⋯</td><td>enet </td><td>0.3500</td><td>3.307500e-08</td><td>-2.066 </td><td>0.03884 </td><td>8.274609e-02</td><td>0.317</td><td>FALSE</td><td>4.906435e-07</td><td>FALSE</td></tr>\n",
       "\t<tr><td>NA</td><td>ENSG00000161929</td><td>17</td><td>5208920  </td><td>5234860  </td><td>0.0926</td><td>17:5138980_A_G </td><td>6.15 </td><td>17:5125249_A_G </td><td>0.0730   </td><td>⋯</td><td>enet </td><td>0.0670</td><td>2.975000e-02</td><td> 2.258 </td><td>0.02397 </td><td>6.181737e-02</td><td>0.084</td><td> TRUE</td><td>8.987393e-03</td><td> TRUE</td></tr>\n",
       "\t<tr><td>NA</td><td>ENSG00000167840</td><td>17</td><td>5105541  </td><td>5123116  </td><td>0.2440</td><td>17:5138980_A_G </td><td>6.15 </td><td>17:5154016_A_G </td><td>0.1409   </td><td>⋯</td><td>enet </td><td>0.1600</td><td>7.043750e-04</td><td>-3.112 </td><td>0.00186 </td><td>7.595000e-03</td><td>0.156</td><td>FALSE</td><td>1.122116e-03</td><td>FALSE</td></tr>\n",
       "\t<tr><td>NA</td><td>ENSG00000196388</td><td>17</td><td>4988130  </td><td>4997610  </td><td>0.0757</td><td>17:5138980_A_G </td><td>6.15 </td><td>17:4939084_A_G </td><td>0.0170   </td><td>⋯</td><td>enet </td><td>0.0360</td><td>1.960000e-01</td><td> 1.049 </td><td>0.29404 </td><td>3.694349e-01</td><td>0.038</td><td> TRUE</td><td>1.114032e-01</td><td> TRUE</td></tr>\n",
       "\t<tr><td>NA</td><td>ENSG00000264538</td><td>17</td><td>30709299 </td><td>30790908 </td><td>0.3714</td><td>17:30903310_C_T</td><td>3.45 </td><td>17:30289176_C_T</td><td>0.2168   </td><td>⋯</td><td>top1 </td><td>0.2200</td><td>3.185000e-05</td><td> 1.219 </td><td>0.22280 </td><td>3.119200e-01</td><td>0.224</td><td> TRUE</td><td>7.054194e-06</td><td> TRUE</td></tr>\n",
       "\t<tr><td>NA</td><td>ENSG00000064666</td><td>19</td><td>1026586  </td><td>1039068  </td><td>0.1671</td><td>19:1050874_A_G </td><td>-6.2 </td><td>19:1021725_A_C </td><td>0.0281   </td><td>⋯</td><td>lasso</td><td>0.0890</td><td>1.043913e-02</td><td>-1.23  </td><td>2.21e-01</td><td>3.119200e-01</td><td>0.086</td><td>FALSE</td><td>1.038169e-02</td><td> TRUE</td></tr>\n",
       "\t<tr><td>NA</td><td>ENSG00000073008</td><td>19</td><td>44643798 </td><td>44666162 </td><td>0.1509</td><td>19:45165912_A_C</td><td>10.5 </td><td>19:45146402_C_T</td><td>0.0900   </td><td>⋯</td><td>enet </td><td>0.0960</td><td>1.163750e-02</td><td>-8.19  </td><td>2.57e-16</td><td>1.259300e-14</td><td>0.096</td><td>FALSE</td><td>6.811019e-03</td><td> TRUE</td></tr>\n",
       "\t<tr><td>NA</td><td>ENSG00000099817</td><td>19</td><td>1086574  </td><td>1095380  </td><td>0.2398</td><td>19:1050874_A_G </td><td>-6.2 </td><td>19:1090803_A_G </td><td>0.1534   </td><td>⋯</td><td>bslmm</td><td>0.1600</td><td>7.000000e-04</td><td> 3.23  </td><td>1.26e-03</td><td>5.612727e-03</td><td>0.154</td><td>FALSE</td><td>2.578862e-04</td><td> TRUE</td></tr>\n",
       "\t<tr><td>NA</td><td>ENSG00000179846</td><td>19</td><td>45149750 </td><td>45160815 </td><td>0.0452</td><td>19:45411941_C_T</td><td>52.5 </td><td>19:45587406_C_T</td><td>0.0240   </td><td>⋯</td><td>lasso</td><td>0.0240</td><td>1.709302e-01</td><td> 4.10  </td><td>4.16e-05</td><td>2.548000e-04</td><td>0.042</td><td> TRUE</td><td>7.987213e-02</td><td> TRUE</td></tr>\n",
       "\t<tr><td>NA</td><td>ENSG00000189114</td><td>19</td><td>45178784 </td><td>45216933 </td><td>0.0482</td><td>19:45411941_C_T</td><td>52.5 </td><td>19:45594842_C_T</td><td>0.0126   </td><td>⋯</td><td>enet </td><td>0.0340</td><td>1.709302e-01</td><td> 2.07  </td><td>3.87e-02</td><td>8.274609e-02</td><td>0.045</td><td> TRUE</td><td>5.973660e-02</td><td> TRUE</td></tr>\n",
       "\t<tr><td>NA</td><td>ENSG00000095970</td><td>6 </td><td>41158506 </td><td>41163186 </td><td>0.0615</td><td>6:41155000_A_G </td><td>-4.35</td><td>6:41162891_C_T </td><td>-0.00329 </td><td>⋯</td><td>bslmm</td><td>0.0085</td><td>1.960000e-01</td><td>-1.9348</td><td>5.30e-02</td><td>9.415000e-02</td><td>0.020</td><td> TRUE</td><td>1.903655e-01</td><td> TRUE</td></tr>\n",
       "\t<tr><td>NA</td><td>ENSG00000179344</td><td>6 </td><td>32659467 </td><td>32668383 </td><td>0.5322</td><td>6:32583813_A_G </td><td>-6.49</td><td>6:32629582_C_T </td><td> 0.43078 </td><td>⋯</td><td>lasso</td><td>0.6100</td><td>2.695000e-20</td><td> 1.9281</td><td>5.38e-02</td><td>9.415000e-02</td><td>0.616</td><td> TRUE</td><td>2.495357e-22</td><td> TRUE</td></tr>\n",
       "\t<tr><td>NA</td><td>ENSG00000196126</td><td>6 </td><td>32578769 </td><td>32589848 </td><td>0.3190</td><td>6:32583813_A_G </td><td>-6.49</td><td>6:32568595_C_T </td><td> 0.43933 </td><td>⋯</td><td>lasso</td><td>0.5300</td><td>1.796667e-18</td><td> 3.2460</td><td>1.17e-03</td><td>5.612727e-03</td><td>0.532</td><td> TRUE</td><td>9.615658e-20</td><td> TRUE</td></tr>\n",
       "\t<tr><td>NA</td><td>ENSG00000196735</td><td>6 </td><td>32628179 </td><td>32647062 </td><td>0.2216</td><td>6:32583813_A_G </td><td>-6.49</td><td>6:32614847_A_G </td><td> 0.28314 </td><td>⋯</td><td>bslmm</td><td>0.3100</td><td>2.450000e-07</td><td> 1.3855</td><td>1.66e-01</td><td>2.623871e-01</td><td>0.297</td><td>FALSE</td><td>1.754922e-07</td><td> TRUE</td></tr>\n",
       "\t<tr><td>NA</td><td>ENSG00000198087</td><td>6 </td><td>47477789 </td><td>47627263 </td><td>0.0380</td><td>6:47432637_C_T </td><td>-6.36</td><td>6:47432637_C_T </td><td> 0.00976 </td><td>⋯</td><td>lasso</td><td>0.0250</td><td>1.456757e-01</td><td> 5.2810</td><td>1.28e-07</td><td>1.254400e-06</td><td>0.018</td><td>FALSE</td><td>1.726613e-01</td><td>FALSE</td></tr>\n",
       "\t<tr><td>NA</td><td>ENSG00000198502</td><td>6 </td><td>32517353 </td><td>32530287 </td><td>0.6253</td><td>6:32583813_A_G </td><td>-6.49</td><td>6:32566577_C_T </td><td> 0.60001 </td><td>⋯</td><td>lasso</td><td>0.7400</td><td>4.312000e-34</td><td> 2.0913</td><td>3.65e-02</td><td>8.274609e-02</td><td>0.714</td><td>FALSE</td><td>2.870524e-31</td><td>FALSE</td></tr>\n",
       "\t<tr><td>NA</td><td>ENSG00000204267</td><td>6 </td><td>32821833 </td><td>32838770 </td><td>0.1124</td><td>6:32583813_A_G </td><td>-6.49</td><td>6:32796346_C_T </td><td> 0.02260 </td><td>⋯</td><td>enet </td><td>0.0240</td><td>1.709302e-01</td><td>-1.2812</td><td>2.00e-01</td><td>3.062500e-01</td><td>0.040</td><td> TRUE</td><td>8.622392e-02</td><td> TRUE</td></tr>\n",
       "\t<tr><td>NA</td><td>ENSG00000204301</td><td>6 </td><td>32194843 </td><td>32224067 </td><td>0.0384</td><td>6:32583813_A_G </td><td>-6.49</td><td>6:32191041_A_G </td><td> 0.05719 </td><td>⋯</td><td>top1 </td><td>0.0570</td><td>3.548276e-02</td><td> 1.2441</td><td>2.13e-01</td><td>3.119200e-01</td><td>0.050</td><td>FALSE</td><td>3.938570e-02</td><td>FALSE</td></tr>\n",
       "\t<tr><td>NA</td><td>ENSG00000204516</td><td>6 </td><td>31494881 </td><td>31511124 </td><td>0.0845</td><td>6:31111606_A_G </td><td>-4.34</td><td>6:31463926_C_T </td><td> 0.03717 </td><td>⋯</td><td>bslmm</td><td>0.0440</td><td>6.737500e-02</td><td>-1.0500</td><td>2.94e-01</td><td>3.694349e-01</td><td>0.045</td><td> TRUE</td><td>6.487317e-02</td><td> TRUE</td></tr>\n",
       "\t<tr><td>NA</td><td>ENSG00000223501</td><td>6 </td><td>33250272 </td><td>33272047 </td><td>0.0478</td><td>6:32787570_C_T </td><td> 4.23</td><td>6:33238892_C_T </td><td> 0.00762 </td><td>⋯</td><td>blup </td><td>0.0290</td><td>1.633333e-01</td><td> 0.0403</td><td>9.68e-01</td><td>9.680000e-01</td><td>0.016</td><td>FALSE</td><td>2.454349e-01</td><td>FALSE</td></tr>\n",
       "\t<tr><td>NA</td><td>ENSG00000224389</td><td>6 </td><td>32014795 </td><td>32035418 </td><td>0.2108</td><td>6:32395036_C_T </td><td>-6.20</td><td>6:32005304_A_G </td><td> 0.01102 </td><td>⋯</td><td>enet </td><td>0.1000</td><td>7.466667e-03</td><td> 0.8172</td><td>4.14e-01</td><td>4.830000e-01</td><td>0.052</td><td>FALSE</td><td>4.872509e-02</td><td>FALSE</td></tr>\n",
       "\t<tr><td>NA</td><td>ENSG00000240065</td><td>6 </td><td>32844136 </td><td>32859851 </td><td>0.0537</td><td>6:32583813_A_G </td><td>-6.49</td><td>6:32823257_C_T </td><td> 0.06190 </td><td>⋯</td><td>top1 </td><td>0.0620</td><td>3.756667e-02</td><td>-0.5045</td><td>6.14e-01</td><td>6.540435e-01</td><td>0.061</td><td>FALSE</td><td>2.806779e-02</td><td> TRUE</td></tr>\n",
       "\t<tr><td>NA</td><td>ENSG00000244731</td><td>6 </td><td>31982057 </td><td>32002681 </td><td>0.2422</td><td>6:32395036_C_T </td><td>-6.20</td><td>6:31870326_A_G </td><td> 0.20567 </td><td>⋯</td><td>blup </td><td>0.2300</td><td>1.578889e-06</td><td> 1.1125</td><td>2.66e-01</td><td>3.522703e-01</td><td>0.221</td><td>FALSE</td><td>4.128599e-04</td><td>FALSE</td></tr>\n",
       "\t<tr><td>NA</td><td>ENSG00000106261</td><td>7 </td><td>100015572</td><td>100041689</td><td>0.0376</td><td>7:99971834_A_G </td><td> 7.95</td><td>7:99949714_A_C </td><td>0.01425  </td><td>⋯</td><td>lasso</td><td>0.0150</td><td>2.023913e-01</td><td>-2.546 </td><td>0.01089 </td><td>3.138882e-02</td><td>0.023</td><td> TRUE</td><td>1.637263e-01</td><td> TRUE</td></tr>\n",
       "\t<tr><td>NA</td><td>ENSG00000121716</td><td>7 </td><td>100352176</td><td>100367733</td><td>0.1708</td><td>7:99971834_A_G </td><td> 7.95</td><td>7:99934192_C_T </td><td>0.26189  </td><td>⋯</td><td>enet </td><td>0.2700</td><td>3.266667e-07</td><td> 1.006 </td><td>0.31429 </td><td>3.850053e-01</td><td>0.283</td><td> TRUE</td><td>1.100599e-07</td><td> TRUE</td></tr>\n",
       "\t<tr><td>NA</td><td>ENSG00000146830</td><td>7 </td><td>100679507</td><td>100694037</td><td>0.0440</td><td>7:100179857_A_G</td><td> 5.03</td><td>7:100299028_C_T</td><td>0.01049  </td><td>⋯</td><td>lasso</td><td>0.0120</td><td>2.552083e-01</td><td>-2.382 </td><td>0.01721 </td><td>4.684944e-02</td><td>0.024</td><td> TRUE</td><td>1.668137e-01</td><td> TRUE</td></tr>\n",
       "\t<tr><td>NA</td><td>ENSG00000146834</td><td>7 </td><td>100428790</td><td>100434118</td><td>0.1338</td><td>7:99971834_A_G </td><td> 7.95</td><td>7:100025564_C_T</td><td>0.10468  </td><td>⋯</td><td>top1 </td><td>0.1000</td><td>4.410000e-03</td><td>-0.572 </td><td>0.56721 </td><td>6.176287e-01</td><td>0.101</td><td> TRUE</td><td>3.149829e-03</td><td> TRUE</td></tr>\n",
       "\t<tr><td>NA</td><td>ENSG00000166529</td><td>7 </td><td>100049774</td><td>100065040</td><td>0.1216</td><td>7:99971834_A_G </td><td> 7.95</td><td>7:99648267_A_G </td><td>0.09410  </td><td>⋯</td><td>lasso</td><td>0.1300</td><td>7.043750e-04</td><td> 1.947 </td><td>0.05149 </td><td>9.415000e-02</td><td>0.124</td><td>FALSE</td><td>1.444088e-03</td><td>FALSE</td></tr>\n",
       "\t<tr><td>NA</td><td>ENSG00000174469</td><td>7 </td><td>146116002</td><td>148420998</td><td>0.0814</td><td>7:146254508_A_G</td><td>-3.62</td><td>7:148095464_A_G</td><td>0.00156  </td><td>⋯</td><td>blup </td><td>0.0250</td><td>1.709302e-01</td><td> 0.278 </td><td>0.78139 </td><td>7.976690e-01</td><td>0.006</td><td>FALSE</td><td>3.855205e-01</td><td>FALSE</td></tr>\n",
       "\t<tr><td>NA</td><td>ENSG00000188186</td><td>7 </td><td>100148907</td><td>100155944</td><td>0.0843</td><td>7:99971834_A_G </td><td> 7.95</td><td>7:99735181_A_G </td><td>0.04781  </td><td>⋯</td><td>blup </td><td>0.0430</td><td>5.848387e-02</td><td> 2.869 </td><td>0.00412 </td><td>1.552923e-02</td><td>0.067</td><td> TRUE</td><td>1.199764e-02</td><td> TRUE</td></tr>\n",
       "\t<tr><td>NA</td><td>ENSG00000214309</td><td>7 </td><td>100126785</td><td>100128495</td><td>0.1777</td><td>7:99971834_A_G </td><td> 7.95</td><td>7:99646088_A_C </td><td>0.15092  </td><td>⋯</td><td>bslmm</td><td>0.1600</td><td>3.266667e-04</td><td> 1.958 </td><td>0.05022 </td><td>9.415000e-02</td><td>0.158</td><td>FALSE</td><td>2.719593e-03</td><td>FALSE</td></tr>\n",
       "\t<tr><td>NA</td><td>ENSG00000120915</td><td>8 </td><td>27490781 </td><td>27545564 </td><td>0.0531</td><td>8:27464929_A_G </td><td>9.05 </td><td>8:27390192_A_G </td><td>0.0372   </td><td>⋯</td><td>lasso</td><td>0.0360</td><td>1.124118e-01</td><td> 1.57  </td><td>0.1164  </td><td>1.901200e-01</td><td>0.037</td><td> TRUE</td><td>6.979688e-02</td><td> TRUE</td></tr>\n",
       "\t<tr><td>NA</td><td>ENSG00000147419</td><td>8 </td><td>27733316 </td><td>27772653 </td><td>0.0958</td><td>8:27464929_A_G </td><td>9.05 </td><td>8:27625974_A_C </td><td>0.1156   </td><td>⋯</td><td>top1 </td><td>0.1200</td><td>3.094737e-03</td><td>-2.20  </td><td>0.0275  </td><td>6.737500e-02</td><td>0.115</td><td>FALSE</td><td>1.027289e-03</td><td> TRUE</td></tr>\n",
       "</tbody>\n",
       "</table>\n"
      ],
      "text/latex": [
       "A spec\\_tbl\\_df: 46 × 24\n",
       "\\begin{tabular}{lllllllllllllllllllll}\n",
       " PANEL & ID & CHR & P0 & P1 & HSQ & BEST.GWAS.ID & BEST.GWAS.Z & EQTL.ID & EQTL.R2 & ⋯ & MODEL & MODELCV.R2 & MODELCV.PV & TWAS.Z & TWAS.P & TWAS.P.Adj & r2\\_ac & r2\\_more & pval\\_ac & pv\\_less\\\\\n",
       " <chr> & <chr> & <chr> & <chr> & <chr> & <chr> & <chr> & <chr> & <chr> & <chr> & ⋯ & <chr> & <dbl> & <dbl> & <chr> & <chr> & <dbl> & <dbl> & <lgl{[},1{]}> & <dbl> & <lgl{[},1{]}>\\\\\n",
       "\\hline\n",
       "\t NA & ENSG00000158869 & 1  & 161215234 & 161220699 & 0.0616 & 1:161155392\\_A\\_G &  6.37 & 1:161156033\\_A\\_C & 0.03611   & ⋯ & top1  & 0.0360 & 1.547368e-01 & -6.22   & 5.05e-10 & 8.248333e-09 & 0.029 & FALSE & 8.500597e-02 &  TRUE\\\\\n",
       "\t NA & ENSG00000203710 & 1  & 207496147 & 207641765 & 0.0553 & 1:207786828\\_A\\_G & -8.88 & 1:207802552\\_A\\_C & 0.00562   & ⋯ & lasso & 0.0120 & 2.085106e-01 &  7.15   & 8.63e-13 & 2.114350e-11 & 0.022 &  TRUE & 1.653224e-01 &  TRUE\\\\\n",
       "\t NA & ENSG00000110079 & 11 & 60185702  & 60317944  & 0.0655 & 11:59958380\\_A\\_C & -8.01 & 11:60097853\\_C\\_T & 0.036     & ⋯ & top1  & 0.0360 & 1.265833e-01 & 4.55    & 5.29e-06 & 3.703000e-05 & 0.037 &  TRUE & 9.472857e-02 &  TRUE\\\\\n",
       "\t NA & ENSG00000140090 & 14 & 92322581  & 92501481  & 0.0992 & 14:92938855\\_A\\_G & -6.42 & 14:92795364\\_A\\_G & 0.00496   & ⋯ & bslmm & 0.0490 & 2.638462e-02 & -0.859  & 0.39     & 4.660976e-01 & 0.022 & FALSE & 1.891092e-01 & FALSE\\\\\n",
       "\t NA & ENSG00000103642 & 15 & 63121833  & 63142061  & 0.0679 & 15:63517347\\_A\\_G &  5.21 & 15:63408320\\_A\\_G &  0.100775 & ⋯ & top1  & 0.1000 & 7.795455e-03 &  2.65   & 0.00817  & 2.502063e-02 & 0.094 & FALSE & 8.328628e-03 & FALSE\\\\\n",
       "\t NA & ENSG00000128923 & 15 & 58771192  & 58861900  & 0.0470 & 15:59022615\\_C\\_T & -6.08 & 15:59063144\\_A\\_C & -0.000478 & ⋯ & enet  & 0.0092 & 2.600000e-01 & -1.62   & 0.10446  & 1.765014e-01 & 0.018 &  TRUE & 2.106953e-01 &  TRUE\\\\\n",
       "\t NA & ENSG00000140416 & 15 & 63042632  & 63071915  & 0.0516 & 15:63517347\\_A\\_G &  5.21 & 15:63370358\\_C\\_T &  0.030811 & ⋯ & top1  & 0.0310 & 1.265833e-01 & -1.95   & 0.05103  & 9.415000e-02 & 0.036 &  TRUE & 9.017499e-02 &  TRUE\\\\\n",
       "\t NA & ENSG00000103510 & 16 & 31114489  & 31131393  & 0.0822 & 16:31133100\\_A\\_G & -5.5  & 16:31149142\\_A\\_G & 0.0818    & ⋯ & top1  & 0.0820 & 1.528800e-02 & -4.57   & 4.79e-06 & 3.703000e-05 & 0.091 &  TRUE & 5.403043e-03 &  TRUE\\\\\n",
       "\t NA & ENSG00000178226 & 16 & 31138926  & 31150083  & 0.1212 & 16:31133100\\_A\\_G & -5.5  & 16:31154358\\_A\\_G & 0.1225    & ⋯ & top1  & 0.1200 & 1.758235e-03 & -5.31   & 1.09e-07 & 1.254400e-06 & 0.123 &  TRUE & 3.722607e-04 &  TRUE\\\\\n",
       "\t NA & ENSG00000196118 & 16 & 30757423  & 30762221  & 0.1033 & 16:31133100\\_A\\_G & -5.5  & 16:30746822\\_A\\_C & 0.1305    & ⋯ & blup  & 0.1300 & 3.094737e-03 &  3.69   & 2.28e-04 & 1.241333e-03 & 0.141 &  TRUE & 7.720896e-04 &  TRUE\\\\\n",
       "\t NA & ENSG00000108509 & 17 & 4967992   & 4987675   & 0.0473 & 17:5138980\\_A\\_G  & 6.15  & 17:4830121\\_A\\_G  & 0.0357    & ⋯ & top1  & 0.0360 & 7.869697e-02 & -1.170  & 0.24196  & 3.293344e-01 & 0.025 & FALSE & 1.683442e-01 & FALSE\\\\\n",
       "\t NA & ENSG00000108523 & 17 & 4940008   & 4945222   & 0.1439 & 17:5138980\\_A\\_G  & 6.15  & 17:4849635\\_A\\_G  & 0.1909    & ⋯ & top1  & 0.1900 & 1.069091e-04 & -0.636  & 0.52509  & 5.847593e-01 & 0.172 & FALSE & 1.545512e-04 & FALSE\\\\\n",
       "\t NA & ENSG00000108559 & 17 & 5360963   & 5419676   & 0.0853 & 17:5138980\\_A\\_G  & 6.15  & 17:5288018\\_A\\_G  & 0.0870    & ⋯ & top1  & 0.0870 & 2.903704e-02 & -2.666  & 0.00768  & 2.502063e-02 & 0.108 &  TRUE & 2.453137e-03 &  TRUE\\\\\n",
       "\t NA & ENSG00000129204 & 17 & 5116032   & 5175034   & 0.6203 & 17:5138980\\_A\\_G  & 6.15  & 17:5154016\\_A\\_G  & 0.2992    & ⋯ & enet  & 0.3500 & 3.307500e-08 & -2.066  & 0.03884  & 8.274609e-02 & 0.317 & FALSE & 4.906435e-07 & FALSE\\\\\n",
       "\t NA & ENSG00000161929 & 17 & 5208920   & 5234860   & 0.0926 & 17:5138980\\_A\\_G  & 6.15  & 17:5125249\\_A\\_G  & 0.0730    & ⋯ & enet  & 0.0670 & 2.975000e-02 &  2.258  & 0.02397  & 6.181737e-02 & 0.084 &  TRUE & 8.987393e-03 &  TRUE\\\\\n",
       "\t NA & ENSG00000167840 & 17 & 5105541   & 5123116   & 0.2440 & 17:5138980\\_A\\_G  & 6.15  & 17:5154016\\_A\\_G  & 0.1409    & ⋯ & enet  & 0.1600 & 7.043750e-04 & -3.112  & 0.00186  & 7.595000e-03 & 0.156 & FALSE & 1.122116e-03 & FALSE\\\\\n",
       "\t NA & ENSG00000196388 & 17 & 4988130   & 4997610   & 0.0757 & 17:5138980\\_A\\_G  & 6.15  & 17:4939084\\_A\\_G  & 0.0170    & ⋯ & enet  & 0.0360 & 1.960000e-01 &  1.049  & 0.29404  & 3.694349e-01 & 0.038 &  TRUE & 1.114032e-01 &  TRUE\\\\\n",
       "\t NA & ENSG00000264538 & 17 & 30709299  & 30790908  & 0.3714 & 17:30903310\\_C\\_T & 3.45  & 17:30289176\\_C\\_T & 0.2168    & ⋯ & top1  & 0.2200 & 3.185000e-05 &  1.219  & 0.22280  & 3.119200e-01 & 0.224 &  TRUE & 7.054194e-06 &  TRUE\\\\\n",
       "\t NA & ENSG00000064666 & 19 & 1026586   & 1039068   & 0.1671 & 19:1050874\\_A\\_G  & -6.2  & 19:1021725\\_A\\_C  & 0.0281    & ⋯ & lasso & 0.0890 & 1.043913e-02 & -1.23   & 2.21e-01 & 3.119200e-01 & 0.086 & FALSE & 1.038169e-02 &  TRUE\\\\\n",
       "\t NA & ENSG00000073008 & 19 & 44643798  & 44666162  & 0.1509 & 19:45165912\\_A\\_C & 10.5  & 19:45146402\\_C\\_T & 0.0900    & ⋯ & enet  & 0.0960 & 1.163750e-02 & -8.19   & 2.57e-16 & 1.259300e-14 & 0.096 & FALSE & 6.811019e-03 &  TRUE\\\\\n",
       "\t NA & ENSG00000099817 & 19 & 1086574   & 1095380   & 0.2398 & 19:1050874\\_A\\_G  & -6.2  & 19:1090803\\_A\\_G  & 0.1534    & ⋯ & bslmm & 0.1600 & 7.000000e-04 &  3.23   & 1.26e-03 & 5.612727e-03 & 0.154 & FALSE & 2.578862e-04 &  TRUE\\\\\n",
       "\t NA & ENSG00000179846 & 19 & 45149750  & 45160815  & 0.0452 & 19:45411941\\_C\\_T & 52.5  & 19:45587406\\_C\\_T & 0.0240    & ⋯ & lasso & 0.0240 & 1.709302e-01 &  4.10   & 4.16e-05 & 2.548000e-04 & 0.042 &  TRUE & 7.987213e-02 &  TRUE\\\\\n",
       "\t NA & ENSG00000189114 & 19 & 45178784  & 45216933  & 0.0482 & 19:45411941\\_C\\_T & 52.5  & 19:45594842\\_C\\_T & 0.0126    & ⋯ & enet  & 0.0340 & 1.709302e-01 &  2.07   & 3.87e-02 & 8.274609e-02 & 0.045 &  TRUE & 5.973660e-02 &  TRUE\\\\\n",
       "\t NA & ENSG00000095970 & 6  & 41158506  & 41163186  & 0.0615 & 6:41155000\\_A\\_G  & -4.35 & 6:41162891\\_C\\_T  & -0.00329  & ⋯ & bslmm & 0.0085 & 1.960000e-01 & -1.9348 & 5.30e-02 & 9.415000e-02 & 0.020 &  TRUE & 1.903655e-01 &  TRUE\\\\\n",
       "\t NA & ENSG00000179344 & 6  & 32659467  & 32668383  & 0.5322 & 6:32583813\\_A\\_G  & -6.49 & 6:32629582\\_C\\_T  &  0.43078  & ⋯ & lasso & 0.6100 & 2.695000e-20 &  1.9281 & 5.38e-02 & 9.415000e-02 & 0.616 &  TRUE & 2.495357e-22 &  TRUE\\\\\n",
       "\t NA & ENSG00000196126 & 6  & 32578769  & 32589848  & 0.3190 & 6:32583813\\_A\\_G  & -6.49 & 6:32568595\\_C\\_T  &  0.43933  & ⋯ & lasso & 0.5300 & 1.796667e-18 &  3.2460 & 1.17e-03 & 5.612727e-03 & 0.532 &  TRUE & 9.615658e-20 &  TRUE\\\\\n",
       "\t NA & ENSG00000196735 & 6  & 32628179  & 32647062  & 0.2216 & 6:32583813\\_A\\_G  & -6.49 & 6:32614847\\_A\\_G  &  0.28314  & ⋯ & bslmm & 0.3100 & 2.450000e-07 &  1.3855 & 1.66e-01 & 2.623871e-01 & 0.297 & FALSE & 1.754922e-07 &  TRUE\\\\\n",
       "\t NA & ENSG00000198087 & 6  & 47477789  & 47627263  & 0.0380 & 6:47432637\\_C\\_T  & -6.36 & 6:47432637\\_C\\_T  &  0.00976  & ⋯ & lasso & 0.0250 & 1.456757e-01 &  5.2810 & 1.28e-07 & 1.254400e-06 & 0.018 & FALSE & 1.726613e-01 & FALSE\\\\\n",
       "\t NA & ENSG00000198502 & 6  & 32517353  & 32530287  & 0.6253 & 6:32583813\\_A\\_G  & -6.49 & 6:32566577\\_C\\_T  &  0.60001  & ⋯ & lasso & 0.7400 & 4.312000e-34 &  2.0913 & 3.65e-02 & 8.274609e-02 & 0.714 & FALSE & 2.870524e-31 & FALSE\\\\\n",
       "\t NA & ENSG00000204267 & 6  & 32821833  & 32838770  & 0.1124 & 6:32583813\\_A\\_G  & -6.49 & 6:32796346\\_C\\_T  &  0.02260  & ⋯ & enet  & 0.0240 & 1.709302e-01 & -1.2812 & 2.00e-01 & 3.062500e-01 & 0.040 &  TRUE & 8.622392e-02 &  TRUE\\\\\n",
       "\t NA & ENSG00000204301 & 6  & 32194843  & 32224067  & 0.0384 & 6:32583813\\_A\\_G  & -6.49 & 6:32191041\\_A\\_G  &  0.05719  & ⋯ & top1  & 0.0570 & 3.548276e-02 &  1.2441 & 2.13e-01 & 3.119200e-01 & 0.050 & FALSE & 3.938570e-02 & FALSE\\\\\n",
       "\t NA & ENSG00000204516 & 6  & 31494881  & 31511124  & 0.0845 & 6:31111606\\_A\\_G  & -4.34 & 6:31463926\\_C\\_T  &  0.03717  & ⋯ & bslmm & 0.0440 & 6.737500e-02 & -1.0500 & 2.94e-01 & 3.694349e-01 & 0.045 &  TRUE & 6.487317e-02 &  TRUE\\\\\n",
       "\t NA & ENSG00000223501 & 6  & 33250272  & 33272047  & 0.0478 & 6:32787570\\_C\\_T  &  4.23 & 6:33238892\\_C\\_T  &  0.00762  & ⋯ & blup  & 0.0290 & 1.633333e-01 &  0.0403 & 9.68e-01 & 9.680000e-01 & 0.016 & FALSE & 2.454349e-01 & FALSE\\\\\n",
       "\t NA & ENSG00000224389 & 6  & 32014795  & 32035418  & 0.2108 & 6:32395036\\_C\\_T  & -6.20 & 6:32005304\\_A\\_G  &  0.01102  & ⋯ & enet  & 0.1000 & 7.466667e-03 &  0.8172 & 4.14e-01 & 4.830000e-01 & 0.052 & FALSE & 4.872509e-02 & FALSE\\\\\n",
       "\t NA & ENSG00000240065 & 6  & 32844136  & 32859851  & 0.0537 & 6:32583813\\_A\\_G  & -6.49 & 6:32823257\\_C\\_T  &  0.06190  & ⋯ & top1  & 0.0620 & 3.756667e-02 & -0.5045 & 6.14e-01 & 6.540435e-01 & 0.061 & FALSE & 2.806779e-02 &  TRUE\\\\\n",
       "\t NA & ENSG00000244731 & 6  & 31982057  & 32002681  & 0.2422 & 6:32395036\\_C\\_T  & -6.20 & 6:31870326\\_A\\_G  &  0.20567  & ⋯ & blup  & 0.2300 & 1.578889e-06 &  1.1125 & 2.66e-01 & 3.522703e-01 & 0.221 & FALSE & 4.128599e-04 & FALSE\\\\\n",
       "\t NA & ENSG00000106261 & 7  & 100015572 & 100041689 & 0.0376 & 7:99971834\\_A\\_G  &  7.95 & 7:99949714\\_A\\_C  & 0.01425   & ⋯ & lasso & 0.0150 & 2.023913e-01 & -2.546  & 0.01089  & 3.138882e-02 & 0.023 &  TRUE & 1.637263e-01 &  TRUE\\\\\n",
       "\t NA & ENSG00000121716 & 7  & 100352176 & 100367733 & 0.1708 & 7:99971834\\_A\\_G  &  7.95 & 7:99934192\\_C\\_T  & 0.26189   & ⋯ & enet  & 0.2700 & 3.266667e-07 &  1.006  & 0.31429  & 3.850053e-01 & 0.283 &  TRUE & 1.100599e-07 &  TRUE\\\\\n",
       "\t NA & ENSG00000146830 & 7  & 100679507 & 100694037 & 0.0440 & 7:100179857\\_A\\_G &  5.03 & 7:100299028\\_C\\_T & 0.01049   & ⋯ & lasso & 0.0120 & 2.552083e-01 & -2.382  & 0.01721  & 4.684944e-02 & 0.024 &  TRUE & 1.668137e-01 &  TRUE\\\\\n",
       "\t NA & ENSG00000146834 & 7  & 100428790 & 100434118 & 0.1338 & 7:99971834\\_A\\_G  &  7.95 & 7:100025564\\_C\\_T & 0.10468   & ⋯ & top1  & 0.1000 & 4.410000e-03 & -0.572  & 0.56721  & 6.176287e-01 & 0.101 &  TRUE & 3.149829e-03 &  TRUE\\\\\n",
       "\t NA & ENSG00000166529 & 7  & 100049774 & 100065040 & 0.1216 & 7:99971834\\_A\\_G  &  7.95 & 7:99648267\\_A\\_G  & 0.09410   & ⋯ & lasso & 0.1300 & 7.043750e-04 &  1.947  & 0.05149  & 9.415000e-02 & 0.124 & FALSE & 1.444088e-03 & FALSE\\\\\n",
       "\t NA & ENSG00000174469 & 7  & 146116002 & 148420998 & 0.0814 & 7:146254508\\_A\\_G & -3.62 & 7:148095464\\_A\\_G & 0.00156   & ⋯ & blup  & 0.0250 & 1.709302e-01 &  0.278  & 0.78139  & 7.976690e-01 & 0.006 & FALSE & 3.855205e-01 & FALSE\\\\\n",
       "\t NA & ENSG00000188186 & 7  & 100148907 & 100155944 & 0.0843 & 7:99971834\\_A\\_G  &  7.95 & 7:99735181\\_A\\_G  & 0.04781   & ⋯ & blup  & 0.0430 & 5.848387e-02 &  2.869  & 0.00412  & 1.552923e-02 & 0.067 &  TRUE & 1.199764e-02 &  TRUE\\\\\n",
       "\t NA & ENSG00000214309 & 7  & 100126785 & 100128495 & 0.1777 & 7:99971834\\_A\\_G  &  7.95 & 7:99646088\\_A\\_C  & 0.15092   & ⋯ & bslmm & 0.1600 & 3.266667e-04 &  1.958  & 0.05022  & 9.415000e-02 & 0.158 & FALSE & 2.719593e-03 & FALSE\\\\\n",
       "\t NA & ENSG00000120915 & 8  & 27490781  & 27545564  & 0.0531 & 8:27464929\\_A\\_G  & 9.05  & 8:27390192\\_A\\_G  & 0.0372    & ⋯ & lasso & 0.0360 & 1.124118e-01 &  1.57   & 0.1164   & 1.901200e-01 & 0.037 &  TRUE & 6.979688e-02 &  TRUE\\\\\n",
       "\t NA & ENSG00000147419 & 8  & 27733316  & 27772653  & 0.0958 & 8:27464929\\_A\\_G  & 9.05  & 8:27625974\\_A\\_C  & 0.1156    & ⋯ & top1  & 0.1200 & 3.094737e-03 & -2.20   & 0.0275   & 6.737500e-02 & 0.115 & FALSE & 1.027289e-03 &  TRUE\\\\\n",
       "\\end{tabular}\n"
      ],
      "text/markdown": [
       "\n",
       "A spec_tbl_df: 46 × 24\n",
       "\n",
       "| PANEL &lt;chr&gt; | ID &lt;chr&gt; | CHR &lt;chr&gt; | P0 &lt;chr&gt; | P1 &lt;chr&gt; | HSQ &lt;chr&gt; | BEST.GWAS.ID &lt;chr&gt; | BEST.GWAS.Z &lt;chr&gt; | EQTL.ID &lt;chr&gt; | EQTL.R2 &lt;chr&gt; | ⋯ ⋯ | MODEL &lt;chr&gt; | MODELCV.R2 &lt;dbl&gt; | MODELCV.PV &lt;dbl&gt; | TWAS.Z &lt;chr&gt; | TWAS.P &lt;chr&gt; | TWAS.P.Adj &lt;dbl&gt; | r2_ac &lt;dbl&gt; | r2_more &lt;lgl[,1]&gt; | pval_ac &lt;dbl&gt; | pv_less &lt;lgl[,1]&gt; |\n",
       "|---|---|---|---|---|---|---|---|---|---|---|---|---|---|---|---|---|---|---|---|---|\n",
       "| NA | ENSG00000158869 | 1  | 161215234 | 161220699 | 0.0616 | 1:161155392_A_G |  6.37 | 1:161156033_A_C | 0.03611   | ⋯ | top1  | 0.0360 | 1.547368e-01 | -6.22   | 5.05e-10 | 8.248333e-09 | 0.029 | FALSE | 8.500597e-02 |  TRUE |\n",
       "| NA | ENSG00000203710 | 1  | 207496147 | 207641765 | 0.0553 | 1:207786828_A_G | -8.88 | 1:207802552_A_C | 0.00562   | ⋯ | lasso | 0.0120 | 2.085106e-01 |  7.15   | 8.63e-13 | 2.114350e-11 | 0.022 |  TRUE | 1.653224e-01 |  TRUE |\n",
       "| NA | ENSG00000110079 | 11 | 60185702  | 60317944  | 0.0655 | 11:59958380_A_C | -8.01 | 11:60097853_C_T | 0.036     | ⋯ | top1  | 0.0360 | 1.265833e-01 | 4.55    | 5.29e-06 | 3.703000e-05 | 0.037 |  TRUE | 9.472857e-02 |  TRUE |\n",
       "| NA | ENSG00000140090 | 14 | 92322581  | 92501481  | 0.0992 | 14:92938855_A_G | -6.42 | 14:92795364_A_G | 0.00496   | ⋯ | bslmm | 0.0490 | 2.638462e-02 | -0.859  | 0.39     | 4.660976e-01 | 0.022 | FALSE | 1.891092e-01 | FALSE |\n",
       "| NA | ENSG00000103642 | 15 | 63121833  | 63142061  | 0.0679 | 15:63517347_A_G |  5.21 | 15:63408320_A_G |  0.100775 | ⋯ | top1  | 0.1000 | 7.795455e-03 |  2.65   | 0.00817  | 2.502063e-02 | 0.094 | FALSE | 8.328628e-03 | FALSE |\n",
       "| NA | ENSG00000128923 | 15 | 58771192  | 58861900  | 0.0470 | 15:59022615_C_T | -6.08 | 15:59063144_A_C | -0.000478 | ⋯ | enet  | 0.0092 | 2.600000e-01 | -1.62   | 0.10446  | 1.765014e-01 | 0.018 |  TRUE | 2.106953e-01 |  TRUE |\n",
       "| NA | ENSG00000140416 | 15 | 63042632  | 63071915  | 0.0516 | 15:63517347_A_G |  5.21 | 15:63370358_C_T |  0.030811 | ⋯ | top1  | 0.0310 | 1.265833e-01 | -1.95   | 0.05103  | 9.415000e-02 | 0.036 |  TRUE | 9.017499e-02 |  TRUE |\n",
       "| NA | ENSG00000103510 | 16 | 31114489  | 31131393  | 0.0822 | 16:31133100_A_G | -5.5  | 16:31149142_A_G | 0.0818    | ⋯ | top1  | 0.0820 | 1.528800e-02 | -4.57   | 4.79e-06 | 3.703000e-05 | 0.091 |  TRUE | 5.403043e-03 |  TRUE |\n",
       "| NA | ENSG00000178226 | 16 | 31138926  | 31150083  | 0.1212 | 16:31133100_A_G | -5.5  | 16:31154358_A_G | 0.1225    | ⋯ | top1  | 0.1200 | 1.758235e-03 | -5.31   | 1.09e-07 | 1.254400e-06 | 0.123 |  TRUE | 3.722607e-04 |  TRUE |\n",
       "| NA | ENSG00000196118 | 16 | 30757423  | 30762221  | 0.1033 | 16:31133100_A_G | -5.5  | 16:30746822_A_C | 0.1305    | ⋯ | blup  | 0.1300 | 3.094737e-03 |  3.69   | 2.28e-04 | 1.241333e-03 | 0.141 |  TRUE | 7.720896e-04 |  TRUE |\n",
       "| NA | ENSG00000108509 | 17 | 4967992   | 4987675   | 0.0473 | 17:5138980_A_G  | 6.15  | 17:4830121_A_G  | 0.0357    | ⋯ | top1  | 0.0360 | 7.869697e-02 | -1.170  | 0.24196  | 3.293344e-01 | 0.025 | FALSE | 1.683442e-01 | FALSE |\n",
       "| NA | ENSG00000108523 | 17 | 4940008   | 4945222   | 0.1439 | 17:5138980_A_G  | 6.15  | 17:4849635_A_G  | 0.1909    | ⋯ | top1  | 0.1900 | 1.069091e-04 | -0.636  | 0.52509  | 5.847593e-01 | 0.172 | FALSE | 1.545512e-04 | FALSE |\n",
       "| NA | ENSG00000108559 | 17 | 5360963   | 5419676   | 0.0853 | 17:5138980_A_G  | 6.15  | 17:5288018_A_G  | 0.0870    | ⋯ | top1  | 0.0870 | 2.903704e-02 | -2.666  | 0.00768  | 2.502063e-02 | 0.108 |  TRUE | 2.453137e-03 |  TRUE |\n",
       "| NA | ENSG00000129204 | 17 | 5116032   | 5175034   | 0.6203 | 17:5138980_A_G  | 6.15  | 17:5154016_A_G  | 0.2992    | ⋯ | enet  | 0.3500 | 3.307500e-08 | -2.066  | 0.03884  | 8.274609e-02 | 0.317 | FALSE | 4.906435e-07 | FALSE |\n",
       "| NA | ENSG00000161929 | 17 | 5208920   | 5234860   | 0.0926 | 17:5138980_A_G  | 6.15  | 17:5125249_A_G  | 0.0730    | ⋯ | enet  | 0.0670 | 2.975000e-02 |  2.258  | 0.02397  | 6.181737e-02 | 0.084 |  TRUE | 8.987393e-03 |  TRUE |\n",
       "| NA | ENSG00000167840 | 17 | 5105541   | 5123116   | 0.2440 | 17:5138980_A_G  | 6.15  | 17:5154016_A_G  | 0.1409    | ⋯ | enet  | 0.1600 | 7.043750e-04 | -3.112  | 0.00186  | 7.595000e-03 | 0.156 | FALSE | 1.122116e-03 | FALSE |\n",
       "| NA | ENSG00000196388 | 17 | 4988130   | 4997610   | 0.0757 | 17:5138980_A_G  | 6.15  | 17:4939084_A_G  | 0.0170    | ⋯ | enet  | 0.0360 | 1.960000e-01 |  1.049  | 0.29404  | 3.694349e-01 | 0.038 |  TRUE | 1.114032e-01 |  TRUE |\n",
       "| NA | ENSG00000264538 | 17 | 30709299  | 30790908  | 0.3714 | 17:30903310_C_T | 3.45  | 17:30289176_C_T | 0.2168    | ⋯ | top1  | 0.2200 | 3.185000e-05 |  1.219  | 0.22280  | 3.119200e-01 | 0.224 |  TRUE | 7.054194e-06 |  TRUE |\n",
       "| NA | ENSG00000064666 | 19 | 1026586   | 1039068   | 0.1671 | 19:1050874_A_G  | -6.2  | 19:1021725_A_C  | 0.0281    | ⋯ | lasso | 0.0890 | 1.043913e-02 | -1.23   | 2.21e-01 | 3.119200e-01 | 0.086 | FALSE | 1.038169e-02 |  TRUE |\n",
       "| NA | ENSG00000073008 | 19 | 44643798  | 44666162  | 0.1509 | 19:45165912_A_C | 10.5  | 19:45146402_C_T | 0.0900    | ⋯ | enet  | 0.0960 | 1.163750e-02 | -8.19   | 2.57e-16 | 1.259300e-14 | 0.096 | FALSE | 6.811019e-03 |  TRUE |\n",
       "| NA | ENSG00000099817 | 19 | 1086574   | 1095380   | 0.2398 | 19:1050874_A_G  | -6.2  | 19:1090803_A_G  | 0.1534    | ⋯ | bslmm | 0.1600 | 7.000000e-04 |  3.23   | 1.26e-03 | 5.612727e-03 | 0.154 | FALSE | 2.578862e-04 |  TRUE |\n",
       "| NA | ENSG00000179846 | 19 | 45149750  | 45160815  | 0.0452 | 19:45411941_C_T | 52.5  | 19:45587406_C_T | 0.0240    | ⋯ | lasso | 0.0240 | 1.709302e-01 |  4.10   | 4.16e-05 | 2.548000e-04 | 0.042 |  TRUE | 7.987213e-02 |  TRUE |\n",
       "| NA | ENSG00000189114 | 19 | 45178784  | 45216933  | 0.0482 | 19:45411941_C_T | 52.5  | 19:45594842_C_T | 0.0126    | ⋯ | enet  | 0.0340 | 1.709302e-01 |  2.07   | 3.87e-02 | 8.274609e-02 | 0.045 |  TRUE | 5.973660e-02 |  TRUE |\n",
       "| NA | ENSG00000095970 | 6  | 41158506  | 41163186  | 0.0615 | 6:41155000_A_G  | -4.35 | 6:41162891_C_T  | -0.00329  | ⋯ | bslmm | 0.0085 | 1.960000e-01 | -1.9348 | 5.30e-02 | 9.415000e-02 | 0.020 |  TRUE | 1.903655e-01 |  TRUE |\n",
       "| NA | ENSG00000179344 | 6  | 32659467  | 32668383  | 0.5322 | 6:32583813_A_G  | -6.49 | 6:32629582_C_T  |  0.43078  | ⋯ | lasso | 0.6100 | 2.695000e-20 |  1.9281 | 5.38e-02 | 9.415000e-02 | 0.616 |  TRUE | 2.495357e-22 |  TRUE |\n",
       "| NA | ENSG00000196126 | 6  | 32578769  | 32589848  | 0.3190 | 6:32583813_A_G  | -6.49 | 6:32568595_C_T  |  0.43933  | ⋯ | lasso | 0.5300 | 1.796667e-18 |  3.2460 | 1.17e-03 | 5.612727e-03 | 0.532 |  TRUE | 9.615658e-20 |  TRUE |\n",
       "| NA | ENSG00000196735 | 6  | 32628179  | 32647062  | 0.2216 | 6:32583813_A_G  | -6.49 | 6:32614847_A_G  |  0.28314  | ⋯ | bslmm | 0.3100 | 2.450000e-07 |  1.3855 | 1.66e-01 | 2.623871e-01 | 0.297 | FALSE | 1.754922e-07 |  TRUE |\n",
       "| NA | ENSG00000198087 | 6  | 47477789  | 47627263  | 0.0380 | 6:47432637_C_T  | -6.36 | 6:47432637_C_T  |  0.00976  | ⋯ | lasso | 0.0250 | 1.456757e-01 |  5.2810 | 1.28e-07 | 1.254400e-06 | 0.018 | FALSE | 1.726613e-01 | FALSE |\n",
       "| NA | ENSG00000198502 | 6  | 32517353  | 32530287  | 0.6253 | 6:32583813_A_G  | -6.49 | 6:32566577_C_T  |  0.60001  | ⋯ | lasso | 0.7400 | 4.312000e-34 |  2.0913 | 3.65e-02 | 8.274609e-02 | 0.714 | FALSE | 2.870524e-31 | FALSE |\n",
       "| NA | ENSG00000204267 | 6  | 32821833  | 32838770  | 0.1124 | 6:32583813_A_G  | -6.49 | 6:32796346_C_T  |  0.02260  | ⋯ | enet  | 0.0240 | 1.709302e-01 | -1.2812 | 2.00e-01 | 3.062500e-01 | 0.040 |  TRUE | 8.622392e-02 |  TRUE |\n",
       "| NA | ENSG00000204301 | 6  | 32194843  | 32224067  | 0.0384 | 6:32583813_A_G  | -6.49 | 6:32191041_A_G  |  0.05719  | ⋯ | top1  | 0.0570 | 3.548276e-02 |  1.2441 | 2.13e-01 | 3.119200e-01 | 0.050 | FALSE | 3.938570e-02 | FALSE |\n",
       "| NA | ENSG00000204516 | 6  | 31494881  | 31511124  | 0.0845 | 6:31111606_A_G  | -4.34 | 6:31463926_C_T  |  0.03717  | ⋯ | bslmm | 0.0440 | 6.737500e-02 | -1.0500 | 2.94e-01 | 3.694349e-01 | 0.045 |  TRUE | 6.487317e-02 |  TRUE |\n",
       "| NA | ENSG00000223501 | 6  | 33250272  | 33272047  | 0.0478 | 6:32787570_C_T  |  4.23 | 6:33238892_C_T  |  0.00762  | ⋯ | blup  | 0.0290 | 1.633333e-01 |  0.0403 | 9.68e-01 | 9.680000e-01 | 0.016 | FALSE | 2.454349e-01 | FALSE |\n",
       "| NA | ENSG00000224389 | 6  | 32014795  | 32035418  | 0.2108 | 6:32395036_C_T  | -6.20 | 6:32005304_A_G  |  0.01102  | ⋯ | enet  | 0.1000 | 7.466667e-03 |  0.8172 | 4.14e-01 | 4.830000e-01 | 0.052 | FALSE | 4.872509e-02 | FALSE |\n",
       "| NA | ENSG00000240065 | 6  | 32844136  | 32859851  | 0.0537 | 6:32583813_A_G  | -6.49 | 6:32823257_C_T  |  0.06190  | ⋯ | top1  | 0.0620 | 3.756667e-02 | -0.5045 | 6.14e-01 | 6.540435e-01 | 0.061 | FALSE | 2.806779e-02 |  TRUE |\n",
       "| NA | ENSG00000244731 | 6  | 31982057  | 32002681  | 0.2422 | 6:32395036_C_T  | -6.20 | 6:31870326_A_G  |  0.20567  | ⋯ | blup  | 0.2300 | 1.578889e-06 |  1.1125 | 2.66e-01 | 3.522703e-01 | 0.221 | FALSE | 4.128599e-04 | FALSE |\n",
       "| NA | ENSG00000106261 | 7  | 100015572 | 100041689 | 0.0376 | 7:99971834_A_G  |  7.95 | 7:99949714_A_C  | 0.01425   | ⋯ | lasso | 0.0150 | 2.023913e-01 | -2.546  | 0.01089  | 3.138882e-02 | 0.023 |  TRUE | 1.637263e-01 |  TRUE |\n",
       "| NA | ENSG00000121716 | 7  | 100352176 | 100367733 | 0.1708 | 7:99971834_A_G  |  7.95 | 7:99934192_C_T  | 0.26189   | ⋯ | enet  | 0.2700 | 3.266667e-07 |  1.006  | 0.31429  | 3.850053e-01 | 0.283 |  TRUE | 1.100599e-07 |  TRUE |\n",
       "| NA | ENSG00000146830 | 7  | 100679507 | 100694037 | 0.0440 | 7:100179857_A_G |  5.03 | 7:100299028_C_T | 0.01049   | ⋯ | lasso | 0.0120 | 2.552083e-01 | -2.382  | 0.01721  | 4.684944e-02 | 0.024 |  TRUE | 1.668137e-01 |  TRUE |\n",
       "| NA | ENSG00000146834 | 7  | 100428790 | 100434118 | 0.1338 | 7:99971834_A_G  |  7.95 | 7:100025564_C_T | 0.10468   | ⋯ | top1  | 0.1000 | 4.410000e-03 | -0.572  | 0.56721  | 6.176287e-01 | 0.101 |  TRUE | 3.149829e-03 |  TRUE |\n",
       "| NA | ENSG00000166529 | 7  | 100049774 | 100065040 | 0.1216 | 7:99971834_A_G  |  7.95 | 7:99648267_A_G  | 0.09410   | ⋯ | lasso | 0.1300 | 7.043750e-04 |  1.947  | 0.05149  | 9.415000e-02 | 0.124 | FALSE | 1.444088e-03 | FALSE |\n",
       "| NA | ENSG00000174469 | 7  | 146116002 | 148420998 | 0.0814 | 7:146254508_A_G | -3.62 | 7:148095464_A_G | 0.00156   | ⋯ | blup  | 0.0250 | 1.709302e-01 |  0.278  | 0.78139  | 7.976690e-01 | 0.006 | FALSE | 3.855205e-01 | FALSE |\n",
       "| NA | ENSG00000188186 | 7  | 100148907 | 100155944 | 0.0843 | 7:99971834_A_G  |  7.95 | 7:99735181_A_G  | 0.04781   | ⋯ | blup  | 0.0430 | 5.848387e-02 |  2.869  | 0.00412  | 1.552923e-02 | 0.067 |  TRUE | 1.199764e-02 |  TRUE |\n",
       "| NA | ENSG00000214309 | 7  | 100126785 | 100128495 | 0.1777 | 7:99971834_A_G  |  7.95 | 7:99646088_A_C  | 0.15092   | ⋯ | bslmm | 0.1600 | 3.266667e-04 |  1.958  | 0.05022  | 9.415000e-02 | 0.158 | FALSE | 2.719593e-03 | FALSE |\n",
       "| NA | ENSG00000120915 | 8  | 27490781  | 27545564  | 0.0531 | 8:27464929_A_G  | 9.05  | 8:27390192_A_G  | 0.0372    | ⋯ | lasso | 0.0360 | 1.124118e-01 |  1.57   | 0.1164   | 1.901200e-01 | 0.037 |  TRUE | 6.979688e-02 |  TRUE |\n",
       "| NA | ENSG00000147419 | 8  | 27733316  | 27772653  | 0.0958 | 8:27464929_A_G  | 9.05  | 8:27625974_A_C  | 0.1156    | ⋯ | top1  | 0.1200 | 3.094737e-03 | -2.20   | 0.0275   | 6.737500e-02 | 0.115 | FALSE | 1.027289e-03 |  TRUE |\n",
       "\n"
      ],
      "text/plain": [
       "   PANEL ID              CHR P0        P1        HSQ    BEST.GWAS.ID   \n",
       "1  NA    ENSG00000158869 1   161215234 161220699 0.0616 1:161155392_A_G\n",
       "2  NA    ENSG00000203710 1   207496147 207641765 0.0553 1:207786828_A_G\n",
       "3  NA    ENSG00000110079 11  60185702  60317944  0.0655 11:59958380_A_C\n",
       "4  NA    ENSG00000140090 14  92322581  92501481  0.0992 14:92938855_A_G\n",
       "5  NA    ENSG00000103642 15  63121833  63142061  0.0679 15:63517347_A_G\n",
       "6  NA    ENSG00000128923 15  58771192  58861900  0.0470 15:59022615_C_T\n",
       "7  NA    ENSG00000140416 15  63042632  63071915  0.0516 15:63517347_A_G\n",
       "8  NA    ENSG00000103510 16  31114489  31131393  0.0822 16:31133100_A_G\n",
       "9  NA    ENSG00000178226 16  31138926  31150083  0.1212 16:31133100_A_G\n",
       "10 NA    ENSG00000196118 16  30757423  30762221  0.1033 16:31133100_A_G\n",
       "11 NA    ENSG00000108509 17  4967992   4987675   0.0473 17:5138980_A_G \n",
       "12 NA    ENSG00000108523 17  4940008   4945222   0.1439 17:5138980_A_G \n",
       "13 NA    ENSG00000108559 17  5360963   5419676   0.0853 17:5138980_A_G \n",
       "14 NA    ENSG00000129204 17  5116032   5175034   0.6203 17:5138980_A_G \n",
       "15 NA    ENSG00000161929 17  5208920   5234860   0.0926 17:5138980_A_G \n",
       "16 NA    ENSG00000167840 17  5105541   5123116   0.2440 17:5138980_A_G \n",
       "17 NA    ENSG00000196388 17  4988130   4997610   0.0757 17:5138980_A_G \n",
       "18 NA    ENSG00000264538 17  30709299  30790908  0.3714 17:30903310_C_T\n",
       "19 NA    ENSG00000064666 19  1026586   1039068   0.1671 19:1050874_A_G \n",
       "20 NA    ENSG00000073008 19  44643798  44666162  0.1509 19:45165912_A_C\n",
       "21 NA    ENSG00000099817 19  1086574   1095380   0.2398 19:1050874_A_G \n",
       "22 NA    ENSG00000179846 19  45149750  45160815  0.0452 19:45411941_C_T\n",
       "23 NA    ENSG00000189114 19  45178784  45216933  0.0482 19:45411941_C_T\n",
       "24 NA    ENSG00000095970 6   41158506  41163186  0.0615 6:41155000_A_G \n",
       "25 NA    ENSG00000179344 6   32659467  32668383  0.5322 6:32583813_A_G \n",
       "26 NA    ENSG00000196126 6   32578769  32589848  0.3190 6:32583813_A_G \n",
       "27 NA    ENSG00000196735 6   32628179  32647062  0.2216 6:32583813_A_G \n",
       "28 NA    ENSG00000198087 6   47477789  47627263  0.0380 6:47432637_C_T \n",
       "29 NA    ENSG00000198502 6   32517353  32530287  0.6253 6:32583813_A_G \n",
       "30 NA    ENSG00000204267 6   32821833  32838770  0.1124 6:32583813_A_G \n",
       "31 NA    ENSG00000204301 6   32194843  32224067  0.0384 6:32583813_A_G \n",
       "32 NA    ENSG00000204516 6   31494881  31511124  0.0845 6:31111606_A_G \n",
       "33 NA    ENSG00000223501 6   33250272  33272047  0.0478 6:32787570_C_T \n",
       "34 NA    ENSG00000224389 6   32014795  32035418  0.2108 6:32395036_C_T \n",
       "35 NA    ENSG00000240065 6   32844136  32859851  0.0537 6:32583813_A_G \n",
       "36 NA    ENSG00000244731 6   31982057  32002681  0.2422 6:32395036_C_T \n",
       "37 NA    ENSG00000106261 7   100015572 100041689 0.0376 7:99971834_A_G \n",
       "38 NA    ENSG00000121716 7   100352176 100367733 0.1708 7:99971834_A_G \n",
       "39 NA    ENSG00000146830 7   100679507 100694037 0.0440 7:100179857_A_G\n",
       "40 NA    ENSG00000146834 7   100428790 100434118 0.1338 7:99971834_A_G \n",
       "41 NA    ENSG00000166529 7   100049774 100065040 0.1216 7:99971834_A_G \n",
       "42 NA    ENSG00000174469 7   146116002 148420998 0.0814 7:146254508_A_G\n",
       "43 NA    ENSG00000188186 7   100148907 100155944 0.0843 7:99971834_A_G \n",
       "44 NA    ENSG00000214309 7   100126785 100128495 0.1777 7:99971834_A_G \n",
       "45 NA    ENSG00000120915 8   27490781  27545564  0.0531 8:27464929_A_G \n",
       "46 NA    ENSG00000147419 8   27733316  27772653  0.0958 8:27464929_A_G \n",
       "   BEST.GWAS.Z EQTL.ID         EQTL.R2   ⋯ MODEL MODELCV.R2 MODELCV.PV  \n",
       "1   6.37       1:161156033_A_C 0.03611   ⋯ top1  0.0360     1.547368e-01\n",
       "2  -8.88       1:207802552_A_C 0.00562   ⋯ lasso 0.0120     2.085106e-01\n",
       "3  -8.01       11:60097853_C_T 0.036     ⋯ top1  0.0360     1.265833e-01\n",
       "4  -6.42       14:92795364_A_G 0.00496   ⋯ bslmm 0.0490     2.638462e-02\n",
       "5   5.21       15:63408320_A_G  0.100775 ⋯ top1  0.1000     7.795455e-03\n",
       "6  -6.08       15:59063144_A_C -0.000478 ⋯ enet  0.0092     2.600000e-01\n",
       "7   5.21       15:63370358_C_T  0.030811 ⋯ top1  0.0310     1.265833e-01\n",
       "8  -5.5        16:31149142_A_G 0.0818    ⋯ top1  0.0820     1.528800e-02\n",
       "9  -5.5        16:31154358_A_G 0.1225    ⋯ top1  0.1200     1.758235e-03\n",
       "10 -5.5        16:30746822_A_C 0.1305    ⋯ blup  0.1300     3.094737e-03\n",
       "11 6.15        17:4830121_A_G  0.0357    ⋯ top1  0.0360     7.869697e-02\n",
       "12 6.15        17:4849635_A_G  0.1909    ⋯ top1  0.1900     1.069091e-04\n",
       "13 6.15        17:5288018_A_G  0.0870    ⋯ top1  0.0870     2.903704e-02\n",
       "14 6.15        17:5154016_A_G  0.2992    ⋯ enet  0.3500     3.307500e-08\n",
       "15 6.15        17:5125249_A_G  0.0730    ⋯ enet  0.0670     2.975000e-02\n",
       "16 6.15        17:5154016_A_G  0.1409    ⋯ enet  0.1600     7.043750e-04\n",
       "17 6.15        17:4939084_A_G  0.0170    ⋯ enet  0.0360     1.960000e-01\n",
       "18 3.45        17:30289176_C_T 0.2168    ⋯ top1  0.2200     3.185000e-05\n",
       "19 -6.2        19:1021725_A_C  0.0281    ⋯ lasso 0.0890     1.043913e-02\n",
       "20 10.5        19:45146402_C_T 0.0900    ⋯ enet  0.0960     1.163750e-02\n",
       "21 -6.2        19:1090803_A_G  0.1534    ⋯ bslmm 0.1600     7.000000e-04\n",
       "22 52.5        19:45587406_C_T 0.0240    ⋯ lasso 0.0240     1.709302e-01\n",
       "23 52.5        19:45594842_C_T 0.0126    ⋯ enet  0.0340     1.709302e-01\n",
       "24 -4.35       6:41162891_C_T  -0.00329  ⋯ bslmm 0.0085     1.960000e-01\n",
       "25 -6.49       6:32629582_C_T   0.43078  ⋯ lasso 0.6100     2.695000e-20\n",
       "26 -6.49       6:32568595_C_T   0.43933  ⋯ lasso 0.5300     1.796667e-18\n",
       "27 -6.49       6:32614847_A_G   0.28314  ⋯ bslmm 0.3100     2.450000e-07\n",
       "28 -6.36       6:47432637_C_T   0.00976  ⋯ lasso 0.0250     1.456757e-01\n",
       "29 -6.49       6:32566577_C_T   0.60001  ⋯ lasso 0.7400     4.312000e-34\n",
       "30 -6.49       6:32796346_C_T   0.02260  ⋯ enet  0.0240     1.709302e-01\n",
       "31 -6.49       6:32191041_A_G   0.05719  ⋯ top1  0.0570     3.548276e-02\n",
       "32 -4.34       6:31463926_C_T   0.03717  ⋯ bslmm 0.0440     6.737500e-02\n",
       "33  4.23       6:33238892_C_T   0.00762  ⋯ blup  0.0290     1.633333e-01\n",
       "34 -6.20       6:32005304_A_G   0.01102  ⋯ enet  0.1000     7.466667e-03\n",
       "35 -6.49       6:32823257_C_T   0.06190  ⋯ top1  0.0620     3.756667e-02\n",
       "36 -6.20       6:31870326_A_G   0.20567  ⋯ blup  0.2300     1.578889e-06\n",
       "37  7.95       7:99949714_A_C  0.01425   ⋯ lasso 0.0150     2.023913e-01\n",
       "38  7.95       7:99934192_C_T  0.26189   ⋯ enet  0.2700     3.266667e-07\n",
       "39  5.03       7:100299028_C_T 0.01049   ⋯ lasso 0.0120     2.552083e-01\n",
       "40  7.95       7:100025564_C_T 0.10468   ⋯ top1  0.1000     4.410000e-03\n",
       "41  7.95       7:99648267_A_G  0.09410   ⋯ lasso 0.1300     7.043750e-04\n",
       "42 -3.62       7:148095464_A_G 0.00156   ⋯ blup  0.0250     1.709302e-01\n",
       "43  7.95       7:99735181_A_G  0.04781   ⋯ blup  0.0430     5.848387e-02\n",
       "44  7.95       7:99646088_A_C  0.15092   ⋯ bslmm 0.1600     3.266667e-04\n",
       "45 9.05        8:27390192_A_G  0.0372    ⋯ lasso 0.0360     1.124118e-01\n",
       "46 9.05        8:27625974_A_C  0.1156    ⋯ top1  0.1200     3.094737e-03\n",
       "   TWAS.Z  TWAS.P   TWAS.P.Adj   r2_ac r2_more pval_ac      pv_less\n",
       "1  -6.22   5.05e-10 8.248333e-09 0.029 FALSE   8.500597e-02  TRUE  \n",
       "2   7.15   8.63e-13 2.114350e-11 0.022  TRUE   1.653224e-01  TRUE  \n",
       "3  4.55    5.29e-06 3.703000e-05 0.037  TRUE   9.472857e-02  TRUE  \n",
       "4  -0.859  0.39     4.660976e-01 0.022 FALSE   1.891092e-01 FALSE  \n",
       "5   2.65   0.00817  2.502063e-02 0.094 FALSE   8.328628e-03 FALSE  \n",
       "6  -1.62   0.10446  1.765014e-01 0.018  TRUE   2.106953e-01  TRUE  \n",
       "7  -1.95   0.05103  9.415000e-02 0.036  TRUE   9.017499e-02  TRUE  \n",
       "8  -4.57   4.79e-06 3.703000e-05 0.091  TRUE   5.403043e-03  TRUE  \n",
       "9  -5.31   1.09e-07 1.254400e-06 0.123  TRUE   3.722607e-04  TRUE  \n",
       "10  3.69   2.28e-04 1.241333e-03 0.141  TRUE   7.720896e-04  TRUE  \n",
       "11 -1.170  0.24196  3.293344e-01 0.025 FALSE   1.683442e-01 FALSE  \n",
       "12 -0.636  0.52509  5.847593e-01 0.172 FALSE   1.545512e-04 FALSE  \n",
       "13 -2.666  0.00768  2.502063e-02 0.108  TRUE   2.453137e-03  TRUE  \n",
       "14 -2.066  0.03884  8.274609e-02 0.317 FALSE   4.906435e-07 FALSE  \n",
       "15  2.258  0.02397  6.181737e-02 0.084  TRUE   8.987393e-03  TRUE  \n",
       "16 -3.112  0.00186  7.595000e-03 0.156 FALSE   1.122116e-03 FALSE  \n",
       "17  1.049  0.29404  3.694349e-01 0.038  TRUE   1.114032e-01  TRUE  \n",
       "18  1.219  0.22280  3.119200e-01 0.224  TRUE   7.054194e-06  TRUE  \n",
       "19 -1.23   2.21e-01 3.119200e-01 0.086 FALSE   1.038169e-02  TRUE  \n",
       "20 -8.19   2.57e-16 1.259300e-14 0.096 FALSE   6.811019e-03  TRUE  \n",
       "21  3.23   1.26e-03 5.612727e-03 0.154 FALSE   2.578862e-04  TRUE  \n",
       "22  4.10   4.16e-05 2.548000e-04 0.042  TRUE   7.987213e-02  TRUE  \n",
       "23  2.07   3.87e-02 8.274609e-02 0.045  TRUE   5.973660e-02  TRUE  \n",
       "24 -1.9348 5.30e-02 9.415000e-02 0.020  TRUE   1.903655e-01  TRUE  \n",
       "25  1.9281 5.38e-02 9.415000e-02 0.616  TRUE   2.495357e-22  TRUE  \n",
       "26  3.2460 1.17e-03 5.612727e-03 0.532  TRUE   9.615658e-20  TRUE  \n",
       "27  1.3855 1.66e-01 2.623871e-01 0.297 FALSE   1.754922e-07  TRUE  \n",
       "28  5.2810 1.28e-07 1.254400e-06 0.018 FALSE   1.726613e-01 FALSE  \n",
       "29  2.0913 3.65e-02 8.274609e-02 0.714 FALSE   2.870524e-31 FALSE  \n",
       "30 -1.2812 2.00e-01 3.062500e-01 0.040  TRUE   8.622392e-02  TRUE  \n",
       "31  1.2441 2.13e-01 3.119200e-01 0.050 FALSE   3.938570e-02 FALSE  \n",
       "32 -1.0500 2.94e-01 3.694349e-01 0.045  TRUE   6.487317e-02  TRUE  \n",
       "33  0.0403 9.68e-01 9.680000e-01 0.016 FALSE   2.454349e-01 FALSE  \n",
       "34  0.8172 4.14e-01 4.830000e-01 0.052 FALSE   4.872509e-02 FALSE  \n",
       "35 -0.5045 6.14e-01 6.540435e-01 0.061 FALSE   2.806779e-02  TRUE  \n",
       "36  1.1125 2.66e-01 3.522703e-01 0.221 FALSE   4.128599e-04 FALSE  \n",
       "37 -2.546  0.01089  3.138882e-02 0.023  TRUE   1.637263e-01  TRUE  \n",
       "38  1.006  0.31429  3.850053e-01 0.283  TRUE   1.100599e-07  TRUE  \n",
       "39 -2.382  0.01721  4.684944e-02 0.024  TRUE   1.668137e-01  TRUE  \n",
       "40 -0.572  0.56721  6.176287e-01 0.101  TRUE   3.149829e-03  TRUE  \n",
       "41  1.947  0.05149  9.415000e-02 0.124 FALSE   1.444088e-03 FALSE  \n",
       "42  0.278  0.78139  7.976690e-01 0.006 FALSE   3.855205e-01 FALSE  \n",
       "43  2.869  0.00412  1.552923e-02 0.067  TRUE   1.199764e-02  TRUE  \n",
       "44  1.958  0.05022  9.415000e-02 0.158 FALSE   2.719593e-03 FALSE  \n",
       "45  1.57   0.1164   1.901200e-01 0.037  TRUE   6.979688e-02  TRUE  \n",
       "46 -2.20   0.0275   6.737500e-02 0.115 FALSE   1.027289e-03  TRUE  "
      ]
     },
     "metadata": {},
     "output_type": "display_data"
    }
   ],
   "source": [
    "analysis_comp$sum_data[[1]]%>%select(-both_win)"
   ]
  },
  {
   "cell_type": "code",
   "execution_count": 539,
   "metadata": {},
   "outputs": [
    {
     "name": "stderr",
     "output_type": "stream",
     "text": [
      "The following objects are masked _by_ .GlobalEnv:\n",
      "\n",
      "    cv.performance, hsq, hsq.pv, N.tot, snps, wgt.matrix\n",
      "\n",
      "\n",
      "The following objects are masked from a:\n",
      "\n",
      "    cv.performance, hsq, hsq.pv, N.tot, snps, wgt.matrix\n",
      "\n",
      "\n",
      "The following objects are masked from file:~/Project/Alz/Alz_PCC_SNP/WEIGHTS/geneTpmResidualsAgeGenderAdj_rename.ENSG00000106330.wgt.RDat (pos = 5):\n",
      "\n",
      "    cv.performance, hsq, hsq.pv, N.tot, snps, wgt.matrix\n",
      "\n",
      "\n",
      "The following objects are masked from file:~/Project/Alz/Alz_PCC_SNP/WEIGHTS_Arch/geneTpmResidualsAgeGenderAdj_rename.ENSG00000106330.wgt.RDat (pos = 6):\n",
      "\n",
      "    cv.performance, hsq, hsq.pv, N.tot, snps, wgt.matrix\n",
      "\n",
      "\n",
      "The following objects are masked from file:~/Project/Alz/Alz_PCC_SNP/WEIGHTS/geneTpmResidualsAgeGenderAdj_rename.ENSG00000106330.wgt.RDat (pos = 7):\n",
      "\n",
      "    cv.performance, hsq, hsq.pv, N.tot, snps, wgt.matrix\n",
      "\n",
      "\n",
      "The following objects are masked from file:~/Project/Alz/Alz_DLPFC_SNP/WEIGHTS/geneTpmResidualsAgeGenderAdj_rename.ENSG00000007047.wgt.RDat:\n",
      "\n",
      "    cv.performance, hsq, hsq.pv, N.tot, snps, wgt.matrix\n",
      "\n",
      "\n"
     ]
    }
   ],
   "source": [
    "b = attach(\"~/Project/Alz/Alz_PCC_SNP/WEIGHTS_Arch/geneTpmResidualsAgeGenderAdj_rename.ENSG00000106330.wgt.RDat\")"
   ]
  },
  {
   "cell_type": "code",
   "execution_count": 540,
   "metadata": {},
   "outputs": [
    {
     "name": "stderr",
     "output_type": "stream",
     "text": [
      "The following objects are masked _by_ .GlobalEnv:\n",
      "\n",
      "    cv.performance, hsq, hsq.pv, N.tot, snps, wgt.matrix\n",
      "\n",
      "\n",
      "The following objects are masked from file:~/Project/Alz/Alz_PCC_SNP/WEIGHTS_Arch/geneTpmResidualsAgeGenderAdj_rename.ENSG00000106330.wgt.RDat (pos = 3):\n",
      "\n",
      "    cv.performance, hsq, hsq.pv, N.tot, snps, wgt.matrix\n",
      "\n",
      "\n",
      "The following objects are masked from a:\n",
      "\n",
      "    cv.performance, hsq, hsq.pv, N.tot, snps, wgt.matrix\n",
      "\n",
      "\n",
      "The following objects are masked from file:~/Project/Alz/Alz_PCC_SNP/WEIGHTS/geneTpmResidualsAgeGenderAdj_rename.ENSG00000106330.wgt.RDat (pos = 6):\n",
      "\n",
      "    cv.performance, hsq, hsq.pv, N.tot, snps, wgt.matrix\n",
      "\n",
      "\n",
      "The following objects are masked from file:~/Project/Alz/Alz_PCC_SNP/WEIGHTS_Arch/geneTpmResidualsAgeGenderAdj_rename.ENSG00000106330.wgt.RDat (pos = 7):\n",
      "\n",
      "    cv.performance, hsq, hsq.pv, N.tot, snps, wgt.matrix\n",
      "\n",
      "\n",
      "The following objects are masked from file:~/Project/Alz/Alz_PCC_SNP/WEIGHTS/geneTpmResidualsAgeGenderAdj_rename.ENSG00000106330.wgt.RDat (pos = 8):\n",
      "\n",
      "    cv.performance, hsq, hsq.pv, N.tot, snps, wgt.matrix\n",
      "\n",
      "\n",
      "The following objects are masked from file:~/Project/Alz/Alz_DLPFC_SNP/WEIGHTS/geneTpmResidualsAgeGenderAdj_rename.ENSG00000007047.wgt.RDat:\n",
      "\n",
      "    cv.performance, hsq, hsq.pv, N.tot, snps, wgt.matrix\n",
      "\n",
      "\n"
     ]
    }
   ],
   "source": [
    "a = attach(\"~/Project/Alz/Alz_PCC_SNP/WEIGHTS/geneTpmResidualsAgeGenderAdj_rename.ENSG00000106330.wgt.RDat\")"
   ]
  },
  {
   "cell_type": "code",
   "execution_count": 541,
   "metadata": {},
   "outputs": [
    {
     "data": {
      "text/html": [
       "<table>\n",
       "<caption>A matrix: 2 × 5 of type dbl</caption>\n",
       "<thead>\n",
       "\t<tr><th></th><th scope=col>bslmm</th><th scope=col>blup</th><th scope=col>lasso</th><th scope=col>top1</th><th scope=col>enet</th></tr>\n",
       "</thead>\n",
       "<tbody>\n",
       "\t<tr><th scope=row>rsq</th><td>0.01382222</td><td>0.01242691</td><td>0.03538084</td><td>-0.0006595748</td><td>-0.004367226</td></tr>\n",
       "\t<tr><th scope=row>pval</th><td>0.33546500</td><td>0.30731861</td><td>0.29131895</td><td> 0.4724055987</td><td> 0.589282223</td></tr>\n",
       "</tbody>\n",
       "</table>\n"
      ],
      "text/latex": [
       "A matrix: 2 × 5 of type dbl\n",
       "\\begin{tabular}{r|lllll}\n",
       "  & bslmm & blup & lasso & top1 & enet\\\\\n",
       "\\hline\n",
       "\trsq & 0.01382222 & 0.01242691 & 0.03538084 & -0.0006595748 & -0.004367226\\\\\n",
       "\tpval & 0.33546500 & 0.30731861 & 0.29131895 &  0.4724055987 &  0.589282223\\\\\n",
       "\\end{tabular}\n"
      ],
      "text/markdown": [
       "\n",
       "A matrix: 2 × 5 of type dbl\n",
       "\n",
       "| <!--/--> | bslmm | blup | lasso | top1 | enet |\n",
       "|---|---|---|---|---|---|\n",
       "| rsq | 0.01382222 | 0.01242691 | 0.03538084 | -0.0006595748 | -0.004367226 |\n",
       "| pval | 0.33546500 | 0.30731861 | 0.29131895 |  0.4724055987 |  0.589282223 |\n",
       "\n"
      ],
      "text/plain": [
       "     bslmm      blup       lasso      top1          enet        \n",
       "rsq  0.01382222 0.01242691 0.03538084 -0.0006595748 -0.004367226\n",
       "pval 0.33546500 0.30731861 0.29131895  0.4724055987  0.589282223"
      ]
     },
     "metadata": {},
     "output_type": "display_data"
    }
   ],
   "source": [
    "a$cv.performance"
   ]
  },
  {
   "cell_type": "code",
   "execution_count": 542,
   "metadata": {},
   "outputs": [
    {
     "data": {
      "text/html": [
       "<table>\n",
       "<caption>A matrix: 2 × 5 of type dbl</caption>\n",
       "<thead>\n",
       "\t<tr><th></th><th scope=col>bslmm</th><th scope=col>blup</th><th scope=col>lasso</th><th scope=col>top1</th><th scope=col>enet</th></tr>\n",
       "</thead>\n",
       "<tbody>\n",
       "\t<tr><th scope=row>rsq</th><td>0.0004160387</td><td>-0.0007215145</td><td>-0.001903618</td><td>-0.001247854</td><td>-0.001666375</td></tr>\n",
       "\t<tr><th scope=row>pval</th><td>0.2700770086</td><td> 0.4311216860</td><td> 0.980479105</td><td> 0.557525849</td><td> 0.723873812</td></tr>\n",
       "</tbody>\n",
       "</table>\n"
      ],
      "text/latex": [
       "A matrix: 2 × 5 of type dbl\n",
       "\\begin{tabular}{r|lllll}\n",
       "  & bslmm & blup & lasso & top1 & enet\\\\\n",
       "\\hline\n",
       "\trsq & 0.0004160387 & -0.0007215145 & -0.001903618 & -0.001247854 & -0.001666375\\\\\n",
       "\tpval & 0.2700770086 &  0.4311216860 &  0.980479105 &  0.557525849 &  0.723873812\\\\\n",
       "\\end{tabular}\n"
      ],
      "text/markdown": [
       "\n",
       "A matrix: 2 × 5 of type dbl\n",
       "\n",
       "| <!--/--> | bslmm | blup | lasso | top1 | enet |\n",
       "|---|---|---|---|---|---|\n",
       "| rsq | 0.0004160387 | -0.0007215145 | -0.001903618 | -0.001247854 | -0.001666375 |\n",
       "| pval | 0.2700770086 |  0.4311216860 |  0.980479105 |  0.557525849 |  0.723873812 |\n",
       "\n"
      ],
      "text/plain": [
       "     bslmm        blup          lasso        top1         enet        \n",
       "rsq  0.0004160387 -0.0007215145 -0.001903618 -0.001247854 -0.001666375\n",
       "pval 0.2700770086  0.4311216860  0.980479105  0.557525849  0.723873812"
      ]
     },
     "metadata": {},
     "output_type": "display_data"
    }
   ],
   "source": [
    "b$cv.performance"
   ]
  },
  {
   "cell_type": "code",
   "execution_count": 443,
   "metadata": {},
   "outputs": [
    {
     "name": "stderr",
     "output_type": "stream",
     "text": [
      "Parsed with column specification:\n",
      "cols(\n",
      "  .default = col_character()\n",
      ")\n",
      "\n",
      "See spec(...) for full column specifications.\n",
      "\n"
     ]
    }
   ],
   "source": [
    "c = read_delim(\"~/Project/Alz/Alz_PCC_SNP/result_Arch/all_result.txt\" , delim = \"\\t\")"
   ]
  },
  {
   "cell_type": "code",
   "execution_count": 494,
   "metadata": {},
   "outputs": [
    {
     "data": {
      "text/html": [
       "<table>\n",
       "<caption>A spec_tbl_df: 1 × 20</caption>\n",
       "<thead>\n",
       "\t<tr><th scope=col>PANEL</th><th scope=col>FILE</th><th scope=col>ID</th><th scope=col>CHR</th><th scope=col>P0</th><th scope=col>P1</th><th scope=col>HSQ</th><th scope=col>BEST.GWAS.ID</th><th scope=col>BEST.GWAS.Z</th><th scope=col>EQTL.ID</th><th scope=col>EQTL.R2</th><th scope=col>EQTL.Z</th><th scope=col>EQTL.GWAS.Z</th><th scope=col>NSNP</th><th scope=col>NWGT</th><th scope=col>MODEL</th><th scope=col>MODELCV.R2</th><th scope=col>MODELCV.PV</th><th scope=col>TWAS.Z</th><th scope=col>TWAS.P</th></tr>\n",
       "\t<tr><th scope=col>&lt;chr&gt;</th><th scope=col>&lt;chr&gt;</th><th scope=col>&lt;chr&gt;</th><th scope=col>&lt;chr&gt;</th><th scope=col>&lt;chr&gt;</th><th scope=col>&lt;chr&gt;</th><th scope=col>&lt;chr&gt;</th><th scope=col>&lt;chr&gt;</th><th scope=col>&lt;chr&gt;</th><th scope=col>&lt;chr&gt;</th><th scope=col>&lt;chr&gt;</th><th scope=col>&lt;chr&gt;</th><th scope=col>&lt;chr&gt;</th><th scope=col>&lt;chr&gt;</th><th scope=col>&lt;chr&gt;</th><th scope=col>&lt;chr&gt;</th><th scope=col>&lt;chr&gt;</th><th scope=col>&lt;chr&gt;</th><th scope=col>&lt;chr&gt;</th><th scope=col>&lt;chr&gt;</th></tr>\n",
       "</thead>\n",
       "<tbody>\n",
       "\t<tr><td>NA</td><td>///home/hs3163/Project/Alz/Alz_PCC_SNP/WEIGHTS/geneTpmResidualsAgeGenderAdj_rename.ENSG00000106330.wgt.RDat</td><td>ENSG00000106330</td><td>7</td><td>100612102</td><td>100615384</td><td>0.0859</td><td>7:100159567_A_G</td><td>5.95</td><td>7:100614851_C_T</td><td>-0.00125</td><td> 4.44</td><td> 0.0454</td><td>1261</td><td>1261</td><td>bslmm</td><td>0.00042</td><td>0.27</td><td>-0.326</td><td>7.45e-01</td></tr>\n",
       "</tbody>\n",
       "</table>\n"
      ],
      "text/latex": [
       "A spec\\_tbl\\_df: 1 × 20\n",
       "\\begin{tabular}{llllllllllllllllllll}\n",
       " PANEL & FILE & ID & CHR & P0 & P1 & HSQ & BEST.GWAS.ID & BEST.GWAS.Z & EQTL.ID & EQTL.R2 & EQTL.Z & EQTL.GWAS.Z & NSNP & NWGT & MODEL & MODELCV.R2 & MODELCV.PV & TWAS.Z & TWAS.P\\\\\n",
       " <chr> & <chr> & <chr> & <chr> & <chr> & <chr> & <chr> & <chr> & <chr> & <chr> & <chr> & <chr> & <chr> & <chr> & <chr> & <chr> & <chr> & <chr> & <chr> & <chr>\\\\\n",
       "\\hline\n",
       "\t NA & ///home/hs3163/Project/Alz/Alz\\_PCC\\_SNP/WEIGHTS/geneTpmResidualsAgeGenderAdj\\_rename.ENSG00000106330.wgt.RDat & ENSG00000106330 & 7 & 100612102 & 100615384 & 0.0859 & 7:100159567\\_A\\_G & 5.95 & 7:100614851\\_C\\_T & -0.00125 &  4.44 &  0.0454 & 1261 & 1261 & bslmm & 0.00042 & 0.27 & -0.326 & 7.45e-01\\\\\n",
       "\\end{tabular}\n"
      ],
      "text/markdown": [
       "\n",
       "A spec_tbl_df: 1 × 20\n",
       "\n",
       "| PANEL &lt;chr&gt; | FILE &lt;chr&gt; | ID &lt;chr&gt; | CHR &lt;chr&gt; | P0 &lt;chr&gt; | P1 &lt;chr&gt; | HSQ &lt;chr&gt; | BEST.GWAS.ID &lt;chr&gt; | BEST.GWAS.Z &lt;chr&gt; | EQTL.ID &lt;chr&gt; | EQTL.R2 &lt;chr&gt; | EQTL.Z &lt;chr&gt; | EQTL.GWAS.Z &lt;chr&gt; | NSNP &lt;chr&gt; | NWGT &lt;chr&gt; | MODEL &lt;chr&gt; | MODELCV.R2 &lt;chr&gt; | MODELCV.PV &lt;chr&gt; | TWAS.Z &lt;chr&gt; | TWAS.P &lt;chr&gt; |\n",
       "|---|---|---|---|---|---|---|---|---|---|---|---|---|---|---|---|---|---|---|---|\n",
       "| NA | ///home/hs3163/Project/Alz/Alz_PCC_SNP/WEIGHTS/geneTpmResidualsAgeGenderAdj_rename.ENSG00000106330.wgt.RDat | ENSG00000106330 | 7 | 100612102 | 100615384 | 0.0859 | 7:100159567_A_G | 5.95 | 7:100614851_C_T | -0.00125 |  4.44 |  0.0454 | 1261 | 1261 | bslmm | 0.00042 | 0.27 | -0.326 | 7.45e-01 |\n",
       "\n"
      ],
      "text/plain": [
       "  PANEL\n",
       "1 NA   \n",
       "  FILE                                                                                                       \n",
       "1 ///home/hs3163/Project/Alz/Alz_PCC_SNP/WEIGHTS/geneTpmResidualsAgeGenderAdj_rename.ENSG00000106330.wgt.RDat\n",
       "  ID              CHR P0        P1        HSQ    BEST.GWAS.ID    BEST.GWAS.Z\n",
       "1 ENSG00000106330 7   100612102 100615384 0.0859 7:100159567_A_G 5.95       \n",
       "  EQTL.ID         EQTL.R2  EQTL.Z EQTL.GWAS.Z NSNP NWGT MODEL MODELCV.R2\n",
       "1 7:100614851_C_T -0.00125  4.44   0.0454     1261 1261 bslmm 0.00042   \n",
       "  MODELCV.PV TWAS.Z TWAS.P  \n",
       "1 0.27       -0.326 7.45e-01"
      ]
     },
     "metadata": {},
     "output_type": "display_data"
    }
   ],
   "source": [
    "c%>%filter(ID == \"ENSG00000106330\")"
   ]
  },
  {
   "cell_type": "code",
   "execution_count": 495,
   "metadata": {},
   "outputs": [
    {
     "name": "stderr",
     "output_type": "stream",
     "text": [
      "Parsed with column specification:\n",
      "cols(\n",
      "  .default = col_character()\n",
      ")\n",
      "\n",
      "See spec(...) for full column specifications.\n",
      "\n"
     ]
    }
   ],
   "source": [
    "d = read_delim(\"~/Project/Alz/Alz_PCC_SNP/result/all_result.txt\" , delim = \"\\t\")"
   ]
  },
  {
   "cell_type": "code",
   "execution_count": 496,
   "metadata": {},
   "outputs": [
    {
     "data": {
      "text/html": [
       "<table>\n",
       "<caption>A spec_tbl_df: 1 × 20</caption>\n",
       "<thead>\n",
       "\t<tr><th scope=col>PANEL</th><th scope=col>FILE</th><th scope=col>ID</th><th scope=col>CHR</th><th scope=col>P0</th><th scope=col>P1</th><th scope=col>HSQ</th><th scope=col>BEST.GWAS.ID</th><th scope=col>BEST.GWAS.Z</th><th scope=col>EQTL.ID</th><th scope=col>EQTL.R2</th><th scope=col>EQTL.Z</th><th scope=col>EQTL.GWAS.Z</th><th scope=col>NSNP</th><th scope=col>NWGT</th><th scope=col>MODEL</th><th scope=col>MODELCV.R2</th><th scope=col>MODELCV.PV</th><th scope=col>TWAS.Z</th><th scope=col>TWAS.P</th></tr>\n",
       "\t<tr><th scope=col>&lt;chr&gt;</th><th scope=col>&lt;chr&gt;</th><th scope=col>&lt;chr&gt;</th><th scope=col>&lt;chr&gt;</th><th scope=col>&lt;chr&gt;</th><th scope=col>&lt;chr&gt;</th><th scope=col>&lt;chr&gt;</th><th scope=col>&lt;chr&gt;</th><th scope=col>&lt;chr&gt;</th><th scope=col>&lt;chr&gt;</th><th scope=col>&lt;chr&gt;</th><th scope=col>&lt;chr&gt;</th><th scope=col>&lt;chr&gt;</th><th scope=col>&lt;chr&gt;</th><th scope=col>&lt;chr&gt;</th><th scope=col>&lt;chr&gt;</th><th scope=col>&lt;chr&gt;</th><th scope=col>&lt;chr&gt;</th><th scope=col>&lt;chr&gt;</th><th scope=col>&lt;chr&gt;</th></tr>\n",
       "</thead>\n",
       "<tbody>\n",
       "\t<tr><td>NA</td><td>///home/hs3163/Project/Alz/Alz_PCC_SNP/WEIGHTS/geneTpmResidualsAgeGenderAdj_rename.ENSG00000106330.wgt.RDat</td><td>ENSG00000106330</td><td>7</td><td>100612102</td><td>100615384</td><td>0.0859</td><td>NA</td><td>  NA</td><td>NA</td><td>    NA</td><td>   NA</td><td>    NA</td><td>  0</td><td>  0</td><td>lasso</td><td>0.035</td><td>0.29</td><td>    NA</td><td>      NA</td></tr>\n",
       "</tbody>\n",
       "</table>\n"
      ],
      "text/latex": [
       "A spec\\_tbl\\_df: 1 × 20\n",
       "\\begin{tabular}{llllllllllllllllllll}\n",
       " PANEL & FILE & ID & CHR & P0 & P1 & HSQ & BEST.GWAS.ID & BEST.GWAS.Z & EQTL.ID & EQTL.R2 & EQTL.Z & EQTL.GWAS.Z & NSNP & NWGT & MODEL & MODELCV.R2 & MODELCV.PV & TWAS.Z & TWAS.P\\\\\n",
       " <chr> & <chr> & <chr> & <chr> & <chr> & <chr> & <chr> & <chr> & <chr> & <chr> & <chr> & <chr> & <chr> & <chr> & <chr> & <chr> & <chr> & <chr> & <chr> & <chr>\\\\\n",
       "\\hline\n",
       "\t NA & ///home/hs3163/Project/Alz/Alz\\_PCC\\_SNP/WEIGHTS/geneTpmResidualsAgeGenderAdj\\_rename.ENSG00000106330.wgt.RDat & ENSG00000106330 & 7 & 100612102 & 100615384 & 0.0859 & NA &   NA & NA &     NA &    NA &     NA &   0 &   0 & lasso & 0.035 & 0.29 &     NA &       NA\\\\\n",
       "\\end{tabular}\n"
      ],
      "text/markdown": [
       "\n",
       "A spec_tbl_df: 1 × 20\n",
       "\n",
       "| PANEL &lt;chr&gt; | FILE &lt;chr&gt; | ID &lt;chr&gt; | CHR &lt;chr&gt; | P0 &lt;chr&gt; | P1 &lt;chr&gt; | HSQ &lt;chr&gt; | BEST.GWAS.ID &lt;chr&gt; | BEST.GWAS.Z &lt;chr&gt; | EQTL.ID &lt;chr&gt; | EQTL.R2 &lt;chr&gt; | EQTL.Z &lt;chr&gt; | EQTL.GWAS.Z &lt;chr&gt; | NSNP &lt;chr&gt; | NWGT &lt;chr&gt; | MODEL &lt;chr&gt; | MODELCV.R2 &lt;chr&gt; | MODELCV.PV &lt;chr&gt; | TWAS.Z &lt;chr&gt; | TWAS.P &lt;chr&gt; |\n",
       "|---|---|---|---|---|---|---|---|---|---|---|---|---|---|---|---|---|---|---|---|\n",
       "| NA | ///home/hs3163/Project/Alz/Alz_PCC_SNP/WEIGHTS/geneTpmResidualsAgeGenderAdj_rename.ENSG00000106330.wgt.RDat | ENSG00000106330 | 7 | 100612102 | 100615384 | 0.0859 | NA |   NA | NA |     NA |    NA |     NA |   0 |   0 | lasso | 0.035 | 0.29 |     NA |       NA |\n",
       "\n"
      ],
      "text/plain": [
       "  PANEL\n",
       "1 NA   \n",
       "  FILE                                                                                                       \n",
       "1 ///home/hs3163/Project/Alz/Alz_PCC_SNP/WEIGHTS/geneTpmResidualsAgeGenderAdj_rename.ENSG00000106330.wgt.RDat\n",
       "  ID              CHR P0        P1        HSQ    BEST.GWAS.ID BEST.GWAS.Z\n",
       "1 ENSG00000106330 7   100612102 100615384 0.0859 NA             NA       \n",
       "  EQTL.ID EQTL.R2 EQTL.Z EQTL.GWAS.Z NSNP NWGT MODEL MODELCV.R2 MODELCV.PV\n",
       "1 NA          NA     NA      NA        0    0  lasso 0.035      0.29      \n",
       "  TWAS.Z TWAS.P  \n",
       "1     NA       NA"
      ]
     },
     "metadata": {},
     "output_type": "display_data"
    }
   ],
   "source": [
    "d%>%filter(ID == \"ENSG00000106330\")"
   ]
  },
  {
   "cell_type": "code",
   "execution_count": 497,
   "metadata": {},
   "outputs": [
    {
     "data": {
      "text/html": [
       "<style>\n",
       ".list-inline {list-style: none; margin:0; padding: 0}\n",
       ".list-inline>li {display: inline-block}\n",
       ".list-inline>li:not(:last-child)::after {content: \"\\00b7\"; padding: 0 .5ex}\n",
       "</style>\n",
       "<ol class=list-inline><li>'SNP'</li><li>'CHR'</li><li>'BP'</li><li>'A1'</li><li>'A2'</li><li>'SNP_rsID'</li><li>'Z'</li><li>'P'</li><li>'Nsum'</li><li>'Neff'</li><li>'dir'</li><li>'EAF'</li><li>'BETA'</li><li>'SE'</li></ol>\n"
      ],
      "text/latex": [
       "\\begin{enumerate*}\n",
       "\\item 'SNP'\n",
       "\\item 'CHR'\n",
       "\\item 'BP'\n",
       "\\item 'A1'\n",
       "\\item 'A2'\n",
       "\\item 'SNP\\_rsID'\n",
       "\\item 'Z'\n",
       "\\item 'P'\n",
       "\\item 'Nsum'\n",
       "\\item 'Neff'\n",
       "\\item 'dir'\n",
       "\\item 'EAF'\n",
       "\\item 'BETA'\n",
       "\\item 'SE'\n",
       "\\end{enumerate*}\n"
      ],
      "text/markdown": [
       "1. 'SNP'\n",
       "2. 'CHR'\n",
       "3. 'BP'\n",
       "4. 'A1'\n",
       "5. 'A2'\n",
       "6. 'SNP_rsID'\n",
       "7. 'Z'\n",
       "8. 'P'\n",
       "9. 'Nsum'\n",
       "10. 'Neff'\n",
       "11. 'dir'\n",
       "12. 'EAF'\n",
       "13. 'BETA'\n",
       "14. 'SE'\n",
       "\n",
       "\n"
      ],
      "text/plain": [
       " [1] \"SNP\"      \"CHR\"      \"BP\"       \"A1\"       \"A2\"       \"SNP_rsID\"\n",
       " [7] \"Z\"        \"P\"        \"Nsum\"     \"Neff\"     \"dir\"      \"EAF\"     \n",
       "[13] \"BETA\"     \"SE\"      "
      ]
     },
     "metadata": {},
     "output_type": "display_data"
    }
   ],
   "source": [
    "c(\"SNP\",\"CHR\",\"BP\",\"A1\",\"A2\",\"SNP_rsID\",\"Z\",\"P\",\"Nsum\",\"Neff\",\"dir\",\"EAF\",\"BETA\",\"SE\")"
   ]
  },
  {
   "cell_type": "code",
   "execution_count": 461,
   "metadata": {},
   "outputs": [
    {
     "name": "stderr",
     "output_type": "stream",
     "text": [
      "The following objects are masked _by_ .GlobalEnv:\n",
      "\n",
      "    cv.performance, hsq, hsq.pv, N.tot, snps, wgt.matrix\n",
      "\n",
      "\n",
      "The following objects are masked from file:~/Project/Alz/Alz_PCC_SNP/WEIGHTS/geneTpmResidualsAgeGenderAdj_rename.ENSG00000106330.wgt.RDat (pos = 3):\n",
      "\n",
      "    cv.performance, hsq, hsq.pv, N.tot, snps, wgt.matrix\n",
      "\n",
      "\n",
      "The following objects are masked from file:~/Project/Alz/Alz_PCC_SNP/WEIGHTS_Arch/geneTpmResidualsAgeGenderAdj_rename.ENSG00000106330.wgt.RDat:\n",
      "\n",
      "    cv.performance, hsq, hsq.pv, N.tot, snps, wgt.matrix\n",
      "\n",
      "\n",
      "The following objects are masked from file:~/Project/Alz/Alz_PCC_SNP/WEIGHTS/geneTpmResidualsAgeGenderAdj_rename.ENSG00000106330.wgt.RDat (pos = 5):\n",
      "\n",
      "    cv.performance, hsq, hsq.pv, N.tot, snps, wgt.matrix\n",
      "\n",
      "\n",
      "The following objects are masked from file:~/Project/Alz/Alz_DLPFC_SNP/WEIGHTS/geneTpmResidualsAgeGenderAdj_rename.ENSG00000007047.wgt.RDat:\n",
      "\n",
      "    cv.performance, hsq, hsq.pv, N.tot, snps, wgt.matrix\n",
      "\n",
      "\n"
     ]
    }
   ],
   "source": [
    "attach(a)"
   ]
  },
  {
   "cell_type": "code",
   "execution_count": 465,
   "metadata": {},
   "outputs": [
    {
     "ename": "ERROR",
     "evalue": "Error in match(snps[, 2], genos$bim[, 2]): object 'genos' not found\n",
     "output_type": "error",
     "traceback": [
      "Error in match(snps[, 2], genos$bim[, 2]): object 'genos' not found\nTraceback:\n",
      "1. match(snps[, 2], genos$bim[, 2])"
     ]
    }
   ],
   "source": []
  },
  {
   "cell_type": "code",
   "execution_count": 467,
   "metadata": {},
   "outputs": [
    {
     "ename": "ERROR",
     "evalue": "Error in read_plink(\"~/Project/Alz/Alz_PCC_SNP/cache/geneTpmResidualsAgeGenderAdj_rename.ENSG00000106330\", : could not find function \"read_plink\"\n",
     "output_type": "error",
     "traceback": [
      "Error in read_plink(\"~/Project/Alz/Alz_PCC_SNP/cache/geneTpmResidualsAgeGenderAdj_rename.ENSG00000106330\", : could not find function \"read_plink\"\nTraceback:\n"
     ]
    }
   ],
   "source": [
    "genos = read_plink(\"~/Project/Alz/muti_mp_3/result/geneTpmResidualsAgeGenderAdj_rename.ENSG00000106330.transformed_XY.RData\",impute=\"avg\")"
   ]
  },
  {
   "cell_type": "code",
   "execution_count": 468,
   "metadata": {},
   "outputs": [],
   "source": [
    "genos = attach(\"~/Project/Alz/muti_mp_3/result/geneTpmResidualsAgeGenderAdj_rename.ENSG00000106330.transformed_XY.RData\")"
   ]
  },
  {
   "cell_type": "code",
   "execution_count": 476,
   "metadata": {},
   "outputs": [],
   "source": [
    "geno = list()\n",
    "geno$bed = genos$scaled_ENSG00000106330[[1]]\n",
    "geno$fam = genos$scaled_ENSG00000106330[[2]]"
   ]
  },
  {
   "cell_type": "code",
   "execution_count": 473,
   "metadata": {},
   "outputs": [
    {
     "data": {
      "text/html": [
       "<table>\n",
       "<caption>A matrix: 898 × 1467 of type dbl</caption>\n",
       "<thead>\n",
       "\t<tr><th></th><th scope=col>7:100115878_A_G</th><th scope=col>7:100116424_A_T</th><th scope=col>7:100119315_C_T</th><th scope=col>7:100120585_C_T</th><th scope=col>7:100122680_G_T</th><th scope=col>7:100123279_C_T</th><th scope=col>7:100123523_G_T</th><th scope=col>7:100126835_A_G</th><th scope=col>7:100127558_A_G</th><th scope=col>7:100127777_A_C</th><th scope=col>⋯</th><th scope=col>7:101109690_A_C</th><th scope=col>7:101109705_A_G</th><th scope=col>7:101110975_C_T</th><th scope=col>7:101111102_A_C</th><th scope=col>7:101111182_A_G</th><th scope=col>7:101112721_A_G</th><th scope=col>7:101113348_A_G</th><th scope=col>7:101113729_C_T</th><th scope=col>7:101113835_C_T</th><th scope=col>7:101113905_C_T</th></tr>\n",
       "</thead>\n",
       "<tbody>\n",
       "\t<tr><th scope=row>MAP15387421:MAP15387421</th><td>-0.3950137</td><td>-0.3956908</td><td>-0.3956908</td><td>-0.4857991</td><td>-0.5130208</td><td>-0.7005453</td><td>-0.2367535</td><td>-0.5113133</td><td>-0.5130208</td><td>-0.6979925</td><td>⋯</td><td> 0.4711394</td><td> 0.4711394</td><td> 0.5701424</td><td> 0.5761753</td><td>-0.4184138</td><td>-0.2303661</td><td>-0.2552852</td><td> 0.07999652</td><td>-0.3218029</td><td> 0.5716329</td></tr>\n",
       "\t<tr><th scope=row>MAP22868024:MAP22868024</th><td> 2.2521676</td><td> 2.2170323</td><td> 2.2170323</td><td>-0.4857991</td><td>-0.5130208</td><td> 1.1123933</td><td>-0.2367535</td><td>-0.5113133</td><td>-0.5130208</td><td> 1.1083396</td><td>⋯</td><td> 1.9608688</td><td> 1.9608688</td><td> 2.0984644</td><td> 2.1115031</td><td>-0.4184138</td><td>-0.2303661</td><td>-0.2552852</td><td> 1.48856270</td><td>-0.3218029</td><td> 2.1039502</td></tr>\n",
       "\t<tr><th scope=row>MAP26637867:MAP26637867</th><td>-0.3950137</td><td>-0.3956908</td><td>-0.3956908</td><td> 1.7956763</td><td> 1.6600578</td><td> 1.1123933</td><td>-0.2367535</td><td> 1.6647973</td><td> 1.6600578</td><td> 1.1083396</td><td>⋯</td><td> 1.9608688</td><td> 1.9608688</td><td> 2.0984644</td><td> 2.1115031</td><td>-0.4184138</td><td>-0.2303661</td><td>-0.2552852</td><td> 1.48856270</td><td>-0.3218029</td><td> 2.1039502</td></tr>\n",
       "\t<tr><th scope=row>MAP29629849:MAP29629849</th><td>-0.3950137</td><td>-0.3956908</td><td>-0.3956908</td><td>-0.4857991</td><td>-0.5130208</td><td>-0.7005453</td><td>-0.2367535</td><td>-0.5113133</td><td>-0.5130208</td><td>-0.6979925</td><td>⋯</td><td> 1.9608688</td><td> 1.9608688</td><td> 2.0984644</td><td> 2.1115031</td><td>-0.4184138</td><td>-0.2303661</td><td>-0.2552852</td><td> 1.48856270</td><td>-0.3218029</td><td> 2.1039502</td></tr>\n",
       "\t<tr><th scope=row>MAP33332646:MAP33332646</th><td>-0.3950137</td><td>-0.3956908</td><td>-0.3956908</td><td>-0.4857991</td><td>-0.5130208</td><td>-0.7005453</td><td>-0.2367535</td><td>-0.5113133</td><td>-0.5130208</td><td>-0.6979925</td><td>⋯</td><td>-1.0185901</td><td>-1.0185901</td><td>-0.9581796</td><td>-0.9591524</td><td> 2.1728662</td><td>-0.2303661</td><td>-0.2552852</td><td> 0.07999652</td><td>-0.3218029</td><td>-0.9606845</td></tr>\n",
       "\t<tr><th scope=row>MAP34726040:MAP34726040</th><td>-0.3950137</td><td>-0.3956908</td><td>-0.3956908</td><td> 1.7956763</td><td> 1.6600578</td><td> 1.1123933</td><td>-0.2367535</td><td> 1.6647973</td><td> 1.6600578</td><td> 1.1083396</td><td>⋯</td><td> 0.4711394</td><td> 0.4711394</td><td> 0.5701424</td><td> 0.5761753</td><td>-0.4184138</td><td>-0.2303661</td><td>-0.2552852</td><td> 0.07999652</td><td>-0.3218029</td><td> 0.5716329</td></tr>\n",
       "\t<tr><th scope=row>MAP46246604:MAP46246604</th><td>-0.3950137</td><td>-0.3956908</td><td>-0.3956908</td><td> 1.7956763</td><td> 1.6600578</td><td> 1.1123933</td><td>-0.2367535</td><td> 1.6647973</td><td> 1.6600578</td><td> 1.1083396</td><td>⋯</td><td> 0.4711394</td><td> 0.4711394</td><td> 0.5701424</td><td> 0.5761753</td><td>-0.4184138</td><td>-0.2303661</td><td>-0.2552852</td><td> 0.07999652</td><td>-0.3218029</td><td> 0.5716329</td></tr>\n",
       "\t<tr><th scope=row>MAP46251007:MAP46251007</th><td>-0.3950137</td><td>-0.3956908</td><td>-0.3956908</td><td>-0.4857991</td><td>-0.5130208</td><td>-0.7005453</td><td>-0.2367535</td><td>-0.5113133</td><td>-0.5130208</td><td>-0.6979925</td><td>⋯</td><td> 0.4711394</td><td> 0.4711394</td><td> 0.5701424</td><td> 0.5761753</td><td>-0.4184138</td><td>-0.2303661</td><td>-0.2552852</td><td> 1.48856270</td><td> 2.9583925</td><td> 0.5716329</td></tr>\n",
       "\t<tr><th scope=row>MAP50104134:MAP50104134</th><td> 2.2521676</td><td> 2.2170323</td><td> 2.2170323</td><td>-0.4857991</td><td>-0.5130208</td><td> 1.1123933</td><td>-0.2367535</td><td>-0.5113133</td><td>-0.5130208</td><td> 1.1083396</td><td>⋯</td><td> 0.4711394</td><td> 0.4711394</td><td> 0.5701424</td><td> 0.5761753</td><td>-0.4184138</td><td>-0.2303661</td><td>-0.2552852</td><td> 0.07999652</td><td>-0.3218029</td><td> 0.5716329</td></tr>\n",
       "\t<tr><th scope=row>MAP50104846:MAP50104846</th><td>-0.3950137</td><td>-0.3956908</td><td>-0.3956908</td><td> 1.7956763</td><td> 1.6600578</td><td> 1.1123933</td><td>-0.2367535</td><td> 1.6647973</td><td> 1.6600578</td><td> 1.1083396</td><td>⋯</td><td> 0.4711394</td><td> 0.4711394</td><td> 0.5701424</td><td> 0.5761753</td><td>-0.4184138</td><td>-0.2303661</td><td> 3.9128256</td><td> 0.07999652</td><td>-0.3218029</td><td> 0.5716329</td></tr>\n",
       "\t<tr><th scope=row>MAP50106442:MAP50106442</th><td>-0.3950137</td><td>-0.3956908</td><td>-0.3956908</td><td> 1.7956763</td><td> 1.6600578</td><td> 1.1123933</td><td>-0.2367535</td><td> 1.6647973</td><td> 1.6600578</td><td> 1.1083396</td><td>⋯</td><td>-1.0185901</td><td>-1.0185901</td><td>-0.9581796</td><td>-0.9591524</td><td>-0.4184138</td><td>-0.2303661</td><td>-0.2552852</td><td>-1.32856966</td><td>-0.3218029</td><td>-0.9606845</td></tr>\n",
       "\t<tr><th scope=row>MAP50106992:MAP50106992</th><td>-0.3950137</td><td>-0.3956908</td><td>-0.3956908</td><td>-0.4857991</td><td>-0.5130208</td><td>-0.7005453</td><td>-0.2367535</td><td>-0.5113133</td><td>-0.5130208</td><td>-0.6979925</td><td>⋯</td><td> 0.4711394</td><td> 0.4711394</td><td> 0.5701424</td><td> 0.5761753</td><td> 2.1728662</td><td>-0.2303661</td><td>-0.2552852</td><td> 1.48856270</td><td>-0.3218029</td><td> 0.5716329</td></tr>\n",
       "\t<tr><th scope=row>MAP50108462:MAP50108462</th><td>-0.3950137</td><td>-0.3956908</td><td>-0.3956908</td><td>-0.4857991</td><td>-0.5130208</td><td>-0.7005453</td><td>-0.2367535</td><td>-0.5113133</td><td>-0.5130208</td><td>-0.6979925</td><td>⋯</td><td> 0.4711394</td><td> 0.4711394</td><td> 0.5701424</td><td> 0.5761753</td><td>-0.4184138</td><td>-0.2303661</td><td>-0.2552852</td><td> 0.07999652</td><td>-0.3218029</td><td> 0.5716329</td></tr>\n",
       "\t<tr><th scope=row>MAP50301099:MAP50301099</th><td>-0.3950137</td><td>-0.3956908</td><td>-0.3956908</td><td>-0.4857991</td><td>-0.5130208</td><td>-0.7005453</td><td>-0.2367535</td><td>-0.5113133</td><td>-0.5130208</td><td>-0.6979925</td><td>⋯</td><td>-1.0185901</td><td>-1.0185901</td><td>-0.9581796</td><td>-0.9591524</td><td>-0.4184138</td><td>-0.2303661</td><td>-0.2552852</td><td> 0.07999652</td><td> 2.9583925</td><td>-0.9606845</td></tr>\n",
       "\t<tr><th scope=row>MAP50302680:MAP50302680</th><td>-0.3950137</td><td>-0.3956908</td><td>-0.3956908</td><td> 1.7956763</td><td> 1.6600578</td><td> 1.1123933</td><td>-0.2367535</td><td> 1.6647973</td><td> 1.6600578</td><td> 1.1083396</td><td>⋯</td><td> 1.9608688</td><td> 1.9608688</td><td> 2.0984644</td><td> 2.1115031</td><td>-0.4184138</td><td>-0.2303661</td><td>-0.2552852</td><td> 1.48856270</td><td>-0.3218029</td><td> 2.1039502</td></tr>\n",
       "\t<tr><th scope=row>MAP61344957:MAP61344957</th><td>-0.3950137</td><td>-0.3956908</td><td>-0.3956908</td><td>-0.4857991</td><td>-0.5130208</td><td>-0.7005453</td><td>-0.2367535</td><td>-0.5113133</td><td>-0.5130208</td><td>-0.6979925</td><td>⋯</td><td>-1.0185901</td><td>-1.0185901</td><td>-0.9581796</td><td>-0.9591524</td><td> 2.1728662</td><td>-0.2303661</td><td>-0.2552852</td><td> 0.07999652</td><td>-0.3218029</td><td>-0.9606845</td></tr>\n",
       "\t<tr><th scope=row>MAP85980779:MAP85980779</th><td>-0.3950137</td><td>-0.3956908</td><td>-0.3956908</td><td>-0.4857991</td><td>-0.5130208</td><td>-0.7005453</td><td>-0.2367535</td><td>-0.5113133</td><td>-0.5130208</td><td>-0.6979925</td><td>⋯</td><td> 0.4711394</td><td> 0.4711394</td><td> 0.5701424</td><td> 0.5761753</td><td>-0.4184138</td><td>-0.2303661</td><td>-0.2552852</td><td> 0.07999652</td><td>-0.3218029</td><td> 0.5716329</td></tr>\n",
       "\t<tr><th scope=row>MAP87264456:MAP87264456</th><td> 2.2521676</td><td> 2.2170323</td><td> 2.2170323</td><td>-0.4857991</td><td>-0.5130208</td><td> 1.1123933</td><td>-0.2367535</td><td>-0.5113133</td><td>-0.5130208</td><td> 1.1083396</td><td>⋯</td><td>-1.0185901</td><td>-1.0185901</td><td>-0.9581796</td><td>-0.9591524</td><td>-0.4184138</td><td>-0.2303661</td><td>-0.2552852</td><td>-1.32856966</td><td>-0.3218029</td><td>-0.9606845</td></tr>\n",
       "\t<tr><th scope=row>MAP89164957:MAP89164957</th><td> 2.2521676</td><td> 2.2170323</td><td> 2.2170323</td><td>-0.4857991</td><td>-0.5130208</td><td> 1.1123933</td><td>-0.2367535</td><td>-0.5113133</td><td>-0.5130208</td><td> 1.1083396</td><td>⋯</td><td> 1.9608688</td><td> 1.9608688</td><td> 0.5701424</td><td> 0.5761753</td><td>-0.4184138</td><td> 3.9914451</td><td>-0.2552852</td><td> 1.48856270</td><td>-0.3218029</td><td> 0.5716329</td></tr>\n",
       "\t<tr><th scope=row>MAP93787649:MAP93787649</th><td>-0.3950137</td><td>-0.3956908</td><td>-0.3956908</td><td>-0.4857991</td><td>-0.5130208</td><td>-0.7005453</td><td>-0.2367535</td><td>-0.5113133</td><td>-0.5130208</td><td>-0.6979925</td><td>⋯</td><td>-1.0185901</td><td>-1.0185901</td><td>-0.9581796</td><td>-0.9591524</td><td> 2.1728662</td><td>-0.2303661</td><td>-0.2552852</td><td> 0.07999652</td><td>-0.3218029</td><td>-0.9606845</td></tr>\n",
       "\t<tr><th scope=row>ROS11430815:ROS11430815</th><td> 2.2521676</td><td> 2.2170323</td><td> 2.2170323</td><td>-0.4857991</td><td>-0.5130208</td><td> 1.1123933</td><td>-0.2367535</td><td>-0.5113133</td><td>-0.5130208</td><td> 1.1083396</td><td>⋯</td><td> 0.4711394</td><td> 0.4711394</td><td> 0.5701424</td><td> 0.5761753</td><td> 2.1728662</td><td>-0.2303661</td><td>-0.2552852</td><td> 1.48856270</td><td>-0.3218029</td><td> 0.5716329</td></tr>\n",
       "\t<tr><th scope=row>ROS11697592:ROS11697592</th><td>-0.3950137</td><td>-0.3956908</td><td>-0.3956908</td><td>-0.4857991</td><td>-0.5130208</td><td>-0.7005453</td><td>-0.2367535</td><td>-0.5113133</td><td>-0.5130208</td><td>-0.6979925</td><td>⋯</td><td>-1.0185901</td><td>-1.0185901</td><td>-0.9581796</td><td>-0.9591524</td><td>-0.4184138</td><td>-0.2303661</td><td>-0.2552852</td><td>-1.32856966</td><td>-0.3218029</td><td>-0.9606845</td></tr>\n",
       "\t<tr><th scope=row>ROS15114174:ROS15114174</th><td>-0.3950137</td><td>-0.3956908</td><td>-0.3956908</td><td>-0.4857991</td><td>-0.5130208</td><td>-0.7005453</td><td>-0.2367535</td><td>-0.5113133</td><td>-0.5130208</td><td>-0.6979925</td><td>⋯</td><td> 0.4711394</td><td> 0.4711394</td><td> 0.5701424</td><td> 0.5761753</td><td>-0.4184138</td><td>-0.2303661</td><td>-0.2552852</td><td> 1.48856270</td><td> 2.9583925</td><td> 0.5716329</td></tr>\n",
       "\t<tr><th scope=row>ROS15738428:ROS15738428</th><td>-0.3950137</td><td>-0.3956908</td><td>-0.3956908</td><td>-0.4857991</td><td>-0.5130208</td><td>-0.7005453</td><td>-0.2367535</td><td>-0.5113133</td><td>-0.5130208</td><td>-0.6979925</td><td>⋯</td><td> 0.4711394</td><td> 0.4711394</td><td> 0.5701424</td><td> 0.5761753</td><td>-0.4184138</td><td>-0.2303661</td><td>-0.2552852</td><td> 0.07999652</td><td>-0.3218029</td><td> 0.5716329</td></tr>\n",
       "\t<tr><th scope=row>ROS20251553:ROS20251553</th><td>-0.3950137</td><td>-0.3956908</td><td>-0.3956908</td><td>-0.4857991</td><td>-0.5130208</td><td>-0.7005453</td><td>-0.2367535</td><td>-0.5113133</td><td>-0.5130208</td><td>-0.6979925</td><td>⋯</td><td> 1.9608688</td><td> 1.9608688</td><td> 0.5701424</td><td> 0.5761753</td><td>-0.4184138</td><td> 3.9914451</td><td>-0.2552852</td><td> 1.48856270</td><td>-0.3218029</td><td> 0.5716329</td></tr>\n",
       "\t<tr><th scope=row>ROS20275399:ROS20275399</th><td>-0.3950137</td><td>-0.3956908</td><td>-0.3956908</td><td>-0.4857991</td><td>-0.5130208</td><td>-0.7005453</td><td>-0.2367535</td><td>-0.5113133</td><td>-0.5130208</td><td>-0.6979925</td><td>⋯</td><td>-1.0185901</td><td>-1.0185901</td><td>-0.9581796</td><td>-0.9591524</td><td> 2.1728662</td><td>-0.2303661</td><td>-0.2552852</td><td> 0.07999652</td><td>-0.3218029</td><td>-0.9606845</td></tr>\n",
       "\t<tr><th scope=row>ROS20376029:ROS20376029</th><td>-0.3950137</td><td>-0.3956908</td><td>-0.3956908</td><td>-0.4857991</td><td>-0.5130208</td><td>-0.7005453</td><td>-0.2367535</td><td>-0.5113133</td><td>-0.5130208</td><td>-0.6979925</td><td>⋯</td><td> 0.4711394</td><td> 0.4711394</td><td> 0.5701424</td><td> 0.5761753</td><td>-0.4184138</td><td>-0.2303661</td><td>-0.2552852</td><td> 1.48856270</td><td> 2.9583925</td><td> 0.5716329</td></tr>\n",
       "\t<tr><th scope=row>ROS20945666:ROS20945666</th><td>-0.3950137</td><td>-0.3956908</td><td>-0.3956908</td><td>-0.4857991</td><td>-0.5130208</td><td>-0.7005453</td><td>-0.2367535</td><td>-0.5113133</td><td>-0.5130208</td><td>-0.6979925</td><td>⋯</td><td>-1.0185901</td><td>-1.0185901</td><td>-0.9581796</td><td>-0.9591524</td><td>-0.4184138</td><td>-0.2303661</td><td>-0.2552852</td><td>-1.32856966</td><td>-0.3218029</td><td>-0.9606845</td></tr>\n",
       "\t<tr><th scope=row>ROS20946257:ROS20946257</th><td> 2.2521676</td><td> 2.2170323</td><td> 2.2170323</td><td>-0.4857991</td><td>-0.5130208</td><td> 1.1123933</td><td>-0.2367535</td><td>-0.5113133</td><td>-0.5130208</td><td> 1.1083396</td><td>⋯</td><td> 0.4711394</td><td> 0.4711394</td><td> 0.5701424</td><td> 0.5761753</td><td>-0.4184138</td><td>-0.2303661</td><td>-0.2552852</td><td> 0.07999652</td><td>-0.3218029</td><td> 0.5716329</td></tr>\n",
       "\t<tr><th scope=row>ROS20998065:ROS20998065</th><td>-0.3950137</td><td>-0.3956908</td><td>-0.3956908</td><td>-0.4857991</td><td>-0.5130208</td><td>-0.7005453</td><td>-0.2367535</td><td>-0.5113133</td><td>-0.5130208</td><td>-0.6979925</td><td>⋯</td><td>-1.0185901</td><td>-1.0185901</td><td>-0.9581796</td><td>-0.9591524</td><td> 4.7641463</td><td>-0.2303661</td><td>-0.2552852</td><td> 1.48856270</td><td>-0.3218029</td><td>-0.9606845</td></tr>\n",
       "\t<tr><th scope=row>⋮</th><td>⋮</td><td>⋮</td><td>⋮</td><td>⋮</td><td>⋮</td><td>⋮</td><td>⋮</td><td>⋮</td><td>⋮</td><td>⋮</td><td>⋱</td><td>⋮</td><td>⋮</td><td>⋮</td><td>⋮</td><td>⋮</td><td>⋮</td><td>⋮</td><td>⋮</td><td>⋮</td><td>⋮</td></tr>\n",
       "\t<tr><th scope=row>SM-CTEIP:SM-CTEIP</th><td>-0.3950137</td><td>-0.3956908</td><td>-0.3956908</td><td>-0.4857991</td><td>-0.5130208</td><td>-0.7005453</td><td>-0.2367535</td><td>-0.5113133</td><td>-0.5130208</td><td>-0.6979925</td><td>⋯</td><td>-1.0185901</td><td>-1.0185901</td><td>-0.9581796</td><td>-0.9591524</td><td>-0.4184138</td><td>-0.2303661</td><td>-0.2552852</td><td>-1.32856966</td><td>-0.3218029</td><td>-0.9606845</td></tr>\n",
       "\t<tr><th scope=row>SM-CTEIQ:SM-CTEIQ</th><td> 2.2521676</td><td> 2.2170323</td><td> 2.2170323</td><td>-0.4857991</td><td>-0.5130208</td><td> 1.1123933</td><td>-0.2367535</td><td>-0.5113133</td><td>-0.5130208</td><td> 1.1083396</td><td>⋯</td><td>-1.0185901</td><td>-1.0185901</td><td>-0.9581796</td><td>-0.9591524</td><td>-0.4184138</td><td>-0.2303661</td><td>-0.2552852</td><td>-1.32856966</td><td>-0.3218029</td><td>-0.9606845</td></tr>\n",
       "\t<tr><th scope=row>SM-CTEIR:SM-CTEIR</th><td>-0.3950137</td><td>-0.3956908</td><td>-0.3956908</td><td>-0.4857991</td><td>-0.5130208</td><td>-0.7005453</td><td>-0.2367535</td><td>-0.5113133</td><td>-0.5130208</td><td>-0.6979925</td><td>⋯</td><td>-1.0185901</td><td>-1.0185901</td><td>-0.9581796</td><td>-0.9591524</td><td> 4.7641463</td><td>-0.2303661</td><td>-0.2552852</td><td> 1.48856270</td><td>-0.3218029</td><td>-0.9606845</td></tr>\n",
       "\t<tr><th scope=row>SM-CTELS:SM-CTELS</th><td>-0.3950137</td><td>-0.3956908</td><td>-0.3956908</td><td>-0.4857991</td><td>-0.5130208</td><td>-0.7005453</td><td>-0.2367535</td><td>-0.5113133</td><td>-0.5130208</td><td>-0.6979925</td><td>⋯</td><td>-1.0185901</td><td>-1.0185901</td><td>-0.9581796</td><td>-0.9591524</td><td>-0.4184138</td><td>-0.2303661</td><td>-0.2552852</td><td>-1.32856966</td><td>-0.3218029</td><td>-0.9606845</td></tr>\n",
       "\t<tr><th scope=row>SM-CTELT:SM-CTELT</th><td>-0.3950137</td><td>-0.3956908</td><td>-0.3956908</td><td>-0.4857991</td><td>-0.5130208</td><td>-0.7005453</td><td>-0.2367535</td><td>-0.5113133</td><td>-0.5130208</td><td>-0.6979925</td><td>⋯</td><td>-1.0185901</td><td>-1.0185901</td><td>-0.9581796</td><td>-0.9591524</td><td>-0.4184138</td><td>-0.2303661</td><td>-0.2552852</td><td>-1.32856966</td><td>-0.3218029</td><td>-0.9606845</td></tr>\n",
       "\t<tr><th scope=row>SM-CTELU:SM-CTELU</th><td>-0.3950137</td><td>-0.3956908</td><td>-0.3956908</td><td>-0.4857991</td><td>-0.5130208</td><td>-0.7005453</td><td> 3.7701872</td><td>-0.5113133</td><td>-0.5130208</td><td>-0.6979925</td><td>⋯</td><td>-1.0185901</td><td>-1.0185901</td><td>-0.9581796</td><td>-0.9591524</td><td>-0.4184138</td><td>-0.2303661</td><td>-0.2552852</td><td>-1.32856966</td><td>-0.3218029</td><td>-0.9606845</td></tr>\n",
       "\t<tr><th scope=row>SM-CTELV:SM-CTELV</th><td>-0.3950137</td><td>-0.3956908</td><td>-0.3956908</td><td>-0.4857991</td><td>-0.5130208</td><td>-0.7005453</td><td>-0.2367535</td><td>-0.5113133</td><td>-0.5130208</td><td>-0.6979925</td><td>⋯</td><td>-1.0185901</td><td>-1.0185901</td><td>-0.9581796</td><td>-0.9591524</td><td> 2.1728662</td><td>-0.2303661</td><td>-0.2552852</td><td> 0.07999652</td><td>-0.3218029</td><td>-0.9606845</td></tr>\n",
       "\t<tr><th scope=row>SM-CTELW:SM-CTELW</th><td>-0.3950137</td><td>-0.3956908</td><td>-0.3956908</td><td>-0.4857991</td><td>-0.5130208</td><td>-0.7005453</td><td> 3.7701872</td><td>-0.5113133</td><td>-0.5130208</td><td>-0.6979925</td><td>⋯</td><td> 0.4711394</td><td> 0.4711394</td><td> 0.5701424</td><td> 0.5761753</td><td>-0.4184138</td><td>-0.2303661</td><td>-0.2552852</td><td> 0.07999652</td><td>-0.3218029</td><td> 0.5716329</td></tr>\n",
       "\t<tr><th scope=row>SM-CTEM2:SM-CTEM2</th><td> 2.2521676</td><td> 2.2170323</td><td> 2.2170323</td><td>-0.4857991</td><td>-0.5130208</td><td> 1.1123933</td><td>-0.2367535</td><td>-0.5113133</td><td>-0.5130208</td><td> 1.1083396</td><td>⋯</td><td> 0.4711394</td><td> 0.4711394</td><td>-0.9581796</td><td>-0.9591524</td><td>-0.4184138</td><td> 3.9914451</td><td>-0.2552852</td><td> 0.07999652</td><td>-0.3218029</td><td>-0.9606845</td></tr>\n",
       "\t<tr><th scope=row>SM-CTEM5:SM-CTEM5</th><td>-0.3950137</td><td>-0.3956908</td><td>-0.3956908</td><td>-0.4857991</td><td>-0.5130208</td><td>-0.7005453</td><td>-0.2367535</td><td>-0.5113133</td><td>-0.5130208</td><td>-0.6979925</td><td>⋯</td><td>-1.0185901</td><td>-1.0185901</td><td>-0.9581796</td><td>-0.9591524</td><td> 2.1728662</td><td>-0.2303661</td><td>-0.2552852</td><td> 0.07999652</td><td>-0.3218029</td><td>-0.9606845</td></tr>\n",
       "\t<tr><th scope=row>SM-CTEM6:SM-CTEM6</th><td>-0.3950137</td><td>-0.3956908</td><td>-0.3956908</td><td>-0.4857991</td><td>-0.5130208</td><td>-0.7005453</td><td>-0.2367535</td><td>-0.5113133</td><td>-0.5130208</td><td>-0.6979925</td><td>⋯</td><td>-1.0185901</td><td>-1.0185901</td><td>-0.9581796</td><td>-0.9591524</td><td> 2.1728662</td><td>-0.2303661</td><td>-0.2552852</td><td> 0.07999652</td><td>-0.3218029</td><td>-0.9606845</td></tr>\n",
       "\t<tr><th scope=row>SM-CTEMG:SM-CTEMG</th><td>-0.3950137</td><td>-0.3956908</td><td>-0.3956908</td><td>-0.4857991</td><td>-0.5130208</td><td>-0.7005453</td><td>-0.2367535</td><td>-0.5113133</td><td>-0.5130208</td><td>-0.6979925</td><td>⋯</td><td>-1.0185901</td><td>-1.0185901</td><td>-0.9581796</td><td>-0.9591524</td><td> 2.1728662</td><td>-0.2303661</td><td>-0.2552852</td><td> 0.07999652</td><td>-0.3218029</td><td>-0.9606845</td></tr>\n",
       "\t<tr><th scope=row>SM-CTEMJ:SM-CTEMJ</th><td>-0.3950137</td><td>-0.3956908</td><td>-0.3956908</td><td>-0.4857991</td><td>-0.5130208</td><td>-0.7005453</td><td>-0.2367535</td><td>-0.5113133</td><td>-0.5130208</td><td>-0.6979925</td><td>⋯</td><td> 0.4711394</td><td> 0.4711394</td><td> 0.5701424</td><td> 0.5761753</td><td>-0.4184138</td><td>-0.2303661</td><td>-0.2552852</td><td> 0.07999652</td><td>-0.3218029</td><td> 0.5716329</td></tr>\n",
       "\t<tr><th scope=row>SM-CTEMK:SM-CTEMK</th><td>-0.3950137</td><td>-0.3956908</td><td>-0.3956908</td><td>-0.4857991</td><td>-0.5130208</td><td>-0.7005453</td><td>-0.2367535</td><td>-0.5113133</td><td>-0.5130208</td><td>-0.6979925</td><td>⋯</td><td> 0.4711394</td><td> 0.4711394</td><td> 0.5701424</td><td> 0.5761753</td><td>-0.4184138</td><td>-0.2303661</td><td>-0.2552852</td><td> 0.07999652</td><td>-0.3218029</td><td> 0.5716329</td></tr>\n",
       "\t<tr><th scope=row>SM-CTEML:SM-CTEML</th><td> 2.2521676</td><td> 2.2170323</td><td> 2.2170323</td><td>-0.4857991</td><td>-0.5130208</td><td> 1.1123933</td><td>-0.2367535</td><td>-0.5113133</td><td>-0.5130208</td><td> 1.1083396</td><td>⋯</td><td> 0.4711394</td><td> 0.4711394</td><td> 0.5701424</td><td> 0.5761753</td><td>-0.4184138</td><td>-0.2303661</td><td>-0.2552852</td><td> 0.07999652</td><td>-0.3218029</td><td> 0.5716329</td></tr>\n",
       "\t<tr><th scope=row>SM-CTEMM:SM-CTEMM</th><td>-0.3950137</td><td>-0.3956908</td><td>-0.3956908</td><td>-0.4857991</td><td>-0.5130208</td><td>-0.7005453</td><td>-0.2367535</td><td>-0.5113133</td><td>-0.5130208</td><td>-0.6979925</td><td>⋯</td><td> 0.4711394</td><td> 0.4711394</td><td> 0.5701424</td><td> 0.5761753</td><td>-0.4184138</td><td>-0.2303661</td><td>-0.2552852</td><td> 0.07999652</td><td>-0.3218029</td><td> 0.5716329</td></tr>\n",
       "\t<tr><th scope=row>SM-CTEMO:SM-CTEMO</th><td>-0.3950137</td><td>-0.3956908</td><td>-0.3956908</td><td>-0.4857991</td><td>-0.5130208</td><td>-0.7005453</td><td>-0.2367535</td><td>-0.5113133</td><td>-0.5130208</td><td>-0.6979925</td><td>⋯</td><td> 0.4711394</td><td> 0.4711394</td><td> 0.5701424</td><td> 0.5761753</td><td>-0.4184138</td><td>-0.2303661</td><td>-0.2552852</td><td> 0.07999652</td><td>-0.3218029</td><td> 0.5716329</td></tr>\n",
       "\t<tr><th scope=row>SM-CTEMS:SM-CTEMS</th><td>-0.3950137</td><td>-0.3956908</td><td>-0.3956908</td><td> 1.7956763</td><td> 1.6600578</td><td> 1.1123933</td><td>-0.2367535</td><td> 1.6647973</td><td> 1.6600578</td><td> 1.1083396</td><td>⋯</td><td> 0.4711394</td><td> 0.4711394</td><td> 0.5701424</td><td> 0.5761753</td><td>-0.4184138</td><td>-0.2303661</td><td>-0.2552852</td><td> 0.07999652</td><td>-0.3218029</td><td> 0.5716329</td></tr>\n",
       "\t<tr><th scope=row>SM-CTEMU:SM-CTEMU</th><td>-0.3950137</td><td>-0.3956908</td><td>-0.3956908</td><td> 1.7956763</td><td> 1.6600578</td><td> 1.1123933</td><td>-0.2367535</td><td> 1.6647973</td><td> 1.6600578</td><td> 1.1083396</td><td>⋯</td><td>-1.0185901</td><td>-1.0185901</td><td>-0.9581796</td><td>-0.9591524</td><td>-0.4184138</td><td>-0.2303661</td><td>-0.2552852</td><td> 0.07999652</td><td> 2.9583925</td><td>-0.9606845</td></tr>\n",
       "\t<tr><th scope=row>SM-CTEMW:SM-CTEMW</th><td>-0.3950137</td><td>-0.3956908</td><td>-0.3956908</td><td>-0.4857991</td><td>-0.5130208</td><td>-0.7005453</td><td>-0.2367535</td><td>-0.5113133</td><td>-0.5130208</td><td>-0.6979925</td><td>⋯</td><td>-1.0185901</td><td>-1.0185901</td><td>-0.9581796</td><td>-0.9591524</td><td>-0.4184138</td><td>-0.2303661</td><td>-0.2552852</td><td>-1.32856966</td><td>-0.3218029</td><td>-0.9606845</td></tr>\n",
       "\t<tr><th scope=row>SM-CTEMX:SM-CTEMX</th><td>-0.3950137</td><td>-0.3956908</td><td>-0.3956908</td><td>-0.4857991</td><td>-0.5130208</td><td>-0.7005453</td><td>-0.2367535</td><td>-0.5113133</td><td>-0.5130208</td><td>-0.6979925</td><td>⋯</td><td>-1.0185901</td><td>-1.0185901</td><td>-0.9581796</td><td>-0.9591524</td><td> 2.1728662</td><td>-0.2303661</td><td>-0.2552852</td><td> 0.07999652</td><td>-0.3218029</td><td>-0.9606845</td></tr>\n",
       "\t<tr><th scope=row>SM-CTEMY:SM-CTEMY</th><td>-0.3950137</td><td>-0.3956908</td><td>-0.3956908</td><td>-0.4857991</td><td>-0.5130208</td><td>-0.7005453</td><td>-0.2367535</td><td>-0.5113133</td><td>-0.5130208</td><td>-0.6979925</td><td>⋯</td><td> 0.4711394</td><td> 0.4711394</td><td> 0.5701424</td><td> 0.5761753</td><td>-0.4184138</td><td>-0.2303661</td><td>-0.2552852</td><td> 0.07999652</td><td>-0.3218029</td><td> 0.5716329</td></tr>\n",
       "\t<tr><th scope=row>SM-CTEN2:SM-CTEN2</th><td>-0.3950137</td><td>-0.3956908</td><td>-0.3956908</td><td>-0.4857991</td><td>-0.5130208</td><td>-0.7005453</td><td>-0.2367535</td><td>-0.5113133</td><td>-0.5130208</td><td>-0.6979925</td><td>⋯</td><td>-1.0185901</td><td>-1.0185901</td><td>-0.9581796</td><td>-0.9591524</td><td> 2.1728662</td><td>-0.2303661</td><td>-0.2552852</td><td> 0.07999652</td><td>-0.3218029</td><td>-0.9606845</td></tr>\n",
       "\t<tr><th scope=row>SM-CTEN5:SM-CTEN5</th><td>-0.3950137</td><td>-0.3956908</td><td>-0.3956908</td><td>-0.4857991</td><td>-0.5130208</td><td>-0.7005453</td><td> 3.7701872</td><td>-0.5113133</td><td>-0.5130208</td><td>-0.6979925</td><td>⋯</td><td> 1.9608688</td><td> 1.9608688</td><td> 2.0984644</td><td> 2.1115031</td><td>-0.4184138</td><td>-0.2303661</td><td>-0.2552852</td><td> 1.48856270</td><td>-0.3218029</td><td> 2.1039502</td></tr>\n",
       "\t<tr><th scope=row>SM-CTEN7:SM-CTEN7</th><td>-0.3950137</td><td>-0.3956908</td><td>-0.3956908</td><td>-0.4857991</td><td>-0.5130208</td><td>-0.7005453</td><td>-0.2367535</td><td>-0.5113133</td><td>-0.5130208</td><td>-0.6979925</td><td>⋯</td><td> 0.4711394</td><td> 0.4711394</td><td> 0.5701424</td><td> 0.5761753</td><td>-0.4184138</td><td>-0.2303661</td><td> 3.9128256</td><td> 0.07999652</td><td>-0.3218029</td><td> 0.5716329</td></tr>\n",
       "\t<tr><th scope=row>SM-CTENC:SM-CTENC</th><td>-0.3950137</td><td>-0.3956908</td><td>-0.3956908</td><td> 1.7956763</td><td> 1.6600578</td><td> 1.1123933</td><td>-0.2367535</td><td> 1.6647973</td><td> 1.6600578</td><td> 1.1083396</td><td>⋯</td><td> 0.4711394</td><td> 0.4711394</td><td> 0.5701424</td><td> 0.5761753</td><td> 2.1728662</td><td>-0.2303661</td><td>-0.2552852</td><td> 1.48856270</td><td>-0.3218029</td><td> 0.5716329</td></tr>\n",
       "\t<tr><th scope=row>SM-CTEND:SM-CTEND</th><td>-0.3950137</td><td>-0.3956908</td><td>-0.3956908</td><td> 1.7956763</td><td> 1.6600578</td><td> 1.1123933</td><td>-0.2367535</td><td> 1.6647973</td><td> 1.6600578</td><td> 1.1083396</td><td>⋯</td><td>-1.0185901</td><td>-1.0185901</td><td>-0.9581796</td><td>-0.9591524</td><td>-0.4184138</td><td>-0.2303661</td><td>-0.2552852</td><td>-1.32856966</td><td>-0.3218029</td><td>-0.9606845</td></tr>\n",
       "\t<tr><th scope=row>SM-CTENE:SM-CTENE</th><td>-0.3950137</td><td>-0.3956908</td><td>-0.3956908</td><td>-0.4857991</td><td>-0.5130208</td><td>-0.7005453</td><td>-0.2367535</td><td>-0.5113133</td><td>-0.5130208</td><td>-0.6979925</td><td>⋯</td><td> 0.4711394</td><td> 0.4711394</td><td> 0.5701424</td><td> 0.5761753</td><td> 2.1728662</td><td>-0.2303661</td><td>-0.2552852</td><td> 1.48856270</td><td>-0.3218029</td><td> 0.5716329</td></tr>\n",
       "\t<tr><th scope=row>SM-CTENF:SM-CTENF</th><td>-0.3950137</td><td>-0.3956908</td><td>-0.3956908</td><td> 1.7956763</td><td> 1.6600578</td><td> 1.1123933</td><td>-0.2367535</td><td> 1.6647973</td><td> 1.6600578</td><td> 1.1083396</td><td>⋯</td><td> 0.4711394</td><td> 0.4711394</td><td>-0.9581796</td><td>-0.9591524</td><td>-0.4184138</td><td> 3.9914451</td><td>-0.2552852</td><td> 0.07999652</td><td>-0.3218029</td><td>-0.9606845</td></tr>\n",
       "\t<tr><th scope=row>SM-CTENG:SM-CTENG</th><td> 2.2521676</td><td> 2.2170323</td><td> 2.2170323</td><td>-0.4857991</td><td>-0.5130208</td><td> 1.1123933</td><td>-0.2367535</td><td>-0.5113133</td><td>-0.5130208</td><td> 1.1083396</td><td>⋯</td><td> 0.4711394</td><td> 0.4711394</td><td> 0.5701424</td><td> 0.5761753</td><td> 2.1728662</td><td>-0.2303661</td><td>-0.2552852</td><td> 1.48856270</td><td>-0.3218029</td><td> 0.5716329</td></tr>\n",
       "</tbody>\n",
       "</table>\n"
      ],
      "text/latex": [
       "A matrix: 898 × 1467 of type dbl\n",
       "\\begin{tabular}{r|lllllllllllllllllllll}\n",
       "  & 7:100115878\\_A\\_G & 7:100116424\\_A\\_T & 7:100119315\\_C\\_T & 7:100120585\\_C\\_T & 7:100122680\\_G\\_T & 7:100123279\\_C\\_T & 7:100123523\\_G\\_T & 7:100126835\\_A\\_G & 7:100127558\\_A\\_G & 7:100127777\\_A\\_C & ⋯ & 7:101109690\\_A\\_C & 7:101109705\\_A\\_G & 7:101110975\\_C\\_T & 7:101111102\\_A\\_C & 7:101111182\\_A\\_G & 7:101112721\\_A\\_G & 7:101113348\\_A\\_G & 7:101113729\\_C\\_T & 7:101113835\\_C\\_T & 7:101113905\\_C\\_T\\\\\n",
       "\\hline\n",
       "\tMAP15387421:MAP15387421 & -0.3950137 & -0.3956908 & -0.3956908 & -0.4857991 & -0.5130208 & -0.7005453 & -0.2367535 & -0.5113133 & -0.5130208 & -0.6979925 & ⋯ &  0.4711394 &  0.4711394 &  0.5701424 &  0.5761753 & -0.4184138 & -0.2303661 & -0.2552852 &  0.07999652 & -0.3218029 &  0.5716329\\\\\n",
       "\tMAP22868024:MAP22868024 &  2.2521676 &  2.2170323 &  2.2170323 & -0.4857991 & -0.5130208 &  1.1123933 & -0.2367535 & -0.5113133 & -0.5130208 &  1.1083396 & ⋯ &  1.9608688 &  1.9608688 &  2.0984644 &  2.1115031 & -0.4184138 & -0.2303661 & -0.2552852 &  1.48856270 & -0.3218029 &  2.1039502\\\\\n",
       "\tMAP26637867:MAP26637867 & -0.3950137 & -0.3956908 & -0.3956908 &  1.7956763 &  1.6600578 &  1.1123933 & -0.2367535 &  1.6647973 &  1.6600578 &  1.1083396 & ⋯ &  1.9608688 &  1.9608688 &  2.0984644 &  2.1115031 & -0.4184138 & -0.2303661 & -0.2552852 &  1.48856270 & -0.3218029 &  2.1039502\\\\\n",
       "\tMAP29629849:MAP29629849 & -0.3950137 & -0.3956908 & -0.3956908 & -0.4857991 & -0.5130208 & -0.7005453 & -0.2367535 & -0.5113133 & -0.5130208 & -0.6979925 & ⋯ &  1.9608688 &  1.9608688 &  2.0984644 &  2.1115031 & -0.4184138 & -0.2303661 & -0.2552852 &  1.48856270 & -0.3218029 &  2.1039502\\\\\n",
       "\tMAP33332646:MAP33332646 & -0.3950137 & -0.3956908 & -0.3956908 & -0.4857991 & -0.5130208 & -0.7005453 & -0.2367535 & -0.5113133 & -0.5130208 & -0.6979925 & ⋯ & -1.0185901 & -1.0185901 & -0.9581796 & -0.9591524 &  2.1728662 & -0.2303661 & -0.2552852 &  0.07999652 & -0.3218029 & -0.9606845\\\\\n",
       "\tMAP34726040:MAP34726040 & -0.3950137 & -0.3956908 & -0.3956908 &  1.7956763 &  1.6600578 &  1.1123933 & -0.2367535 &  1.6647973 &  1.6600578 &  1.1083396 & ⋯ &  0.4711394 &  0.4711394 &  0.5701424 &  0.5761753 & -0.4184138 & -0.2303661 & -0.2552852 &  0.07999652 & -0.3218029 &  0.5716329\\\\\n",
       "\tMAP46246604:MAP46246604 & -0.3950137 & -0.3956908 & -0.3956908 &  1.7956763 &  1.6600578 &  1.1123933 & -0.2367535 &  1.6647973 &  1.6600578 &  1.1083396 & ⋯ &  0.4711394 &  0.4711394 &  0.5701424 &  0.5761753 & -0.4184138 & -0.2303661 & -0.2552852 &  0.07999652 & -0.3218029 &  0.5716329\\\\\n",
       "\tMAP46251007:MAP46251007 & -0.3950137 & -0.3956908 & -0.3956908 & -0.4857991 & -0.5130208 & -0.7005453 & -0.2367535 & -0.5113133 & -0.5130208 & -0.6979925 & ⋯ &  0.4711394 &  0.4711394 &  0.5701424 &  0.5761753 & -0.4184138 & -0.2303661 & -0.2552852 &  1.48856270 &  2.9583925 &  0.5716329\\\\\n",
       "\tMAP50104134:MAP50104134 &  2.2521676 &  2.2170323 &  2.2170323 & -0.4857991 & -0.5130208 &  1.1123933 & -0.2367535 & -0.5113133 & -0.5130208 &  1.1083396 & ⋯ &  0.4711394 &  0.4711394 &  0.5701424 &  0.5761753 & -0.4184138 & -0.2303661 & -0.2552852 &  0.07999652 & -0.3218029 &  0.5716329\\\\\n",
       "\tMAP50104846:MAP50104846 & -0.3950137 & -0.3956908 & -0.3956908 &  1.7956763 &  1.6600578 &  1.1123933 & -0.2367535 &  1.6647973 &  1.6600578 &  1.1083396 & ⋯ &  0.4711394 &  0.4711394 &  0.5701424 &  0.5761753 & -0.4184138 & -0.2303661 &  3.9128256 &  0.07999652 & -0.3218029 &  0.5716329\\\\\n",
       "\tMAP50106442:MAP50106442 & -0.3950137 & -0.3956908 & -0.3956908 &  1.7956763 &  1.6600578 &  1.1123933 & -0.2367535 &  1.6647973 &  1.6600578 &  1.1083396 & ⋯ & -1.0185901 & -1.0185901 & -0.9581796 & -0.9591524 & -0.4184138 & -0.2303661 & -0.2552852 & -1.32856966 & -0.3218029 & -0.9606845\\\\\n",
       "\tMAP50106992:MAP50106992 & -0.3950137 & -0.3956908 & -0.3956908 & -0.4857991 & -0.5130208 & -0.7005453 & -0.2367535 & -0.5113133 & -0.5130208 & -0.6979925 & ⋯ &  0.4711394 &  0.4711394 &  0.5701424 &  0.5761753 &  2.1728662 & -0.2303661 & -0.2552852 &  1.48856270 & -0.3218029 &  0.5716329\\\\\n",
       "\tMAP50108462:MAP50108462 & -0.3950137 & -0.3956908 & -0.3956908 & -0.4857991 & -0.5130208 & -0.7005453 & -0.2367535 & -0.5113133 & -0.5130208 & -0.6979925 & ⋯ &  0.4711394 &  0.4711394 &  0.5701424 &  0.5761753 & -0.4184138 & -0.2303661 & -0.2552852 &  0.07999652 & -0.3218029 &  0.5716329\\\\\n",
       "\tMAP50301099:MAP50301099 & -0.3950137 & -0.3956908 & -0.3956908 & -0.4857991 & -0.5130208 & -0.7005453 & -0.2367535 & -0.5113133 & -0.5130208 & -0.6979925 & ⋯ & -1.0185901 & -1.0185901 & -0.9581796 & -0.9591524 & -0.4184138 & -0.2303661 & -0.2552852 &  0.07999652 &  2.9583925 & -0.9606845\\\\\n",
       "\tMAP50302680:MAP50302680 & -0.3950137 & -0.3956908 & -0.3956908 &  1.7956763 &  1.6600578 &  1.1123933 & -0.2367535 &  1.6647973 &  1.6600578 &  1.1083396 & ⋯ &  1.9608688 &  1.9608688 &  2.0984644 &  2.1115031 & -0.4184138 & -0.2303661 & -0.2552852 &  1.48856270 & -0.3218029 &  2.1039502\\\\\n",
       "\tMAP61344957:MAP61344957 & -0.3950137 & -0.3956908 & -0.3956908 & -0.4857991 & -0.5130208 & -0.7005453 & -0.2367535 & -0.5113133 & -0.5130208 & -0.6979925 & ⋯ & -1.0185901 & -1.0185901 & -0.9581796 & -0.9591524 &  2.1728662 & -0.2303661 & -0.2552852 &  0.07999652 & -0.3218029 & -0.9606845\\\\\n",
       "\tMAP85980779:MAP85980779 & -0.3950137 & -0.3956908 & -0.3956908 & -0.4857991 & -0.5130208 & -0.7005453 & -0.2367535 & -0.5113133 & -0.5130208 & -0.6979925 & ⋯ &  0.4711394 &  0.4711394 &  0.5701424 &  0.5761753 & -0.4184138 & -0.2303661 & -0.2552852 &  0.07999652 & -0.3218029 &  0.5716329\\\\\n",
       "\tMAP87264456:MAP87264456 &  2.2521676 &  2.2170323 &  2.2170323 & -0.4857991 & -0.5130208 &  1.1123933 & -0.2367535 & -0.5113133 & -0.5130208 &  1.1083396 & ⋯ & -1.0185901 & -1.0185901 & -0.9581796 & -0.9591524 & -0.4184138 & -0.2303661 & -0.2552852 & -1.32856966 & -0.3218029 & -0.9606845\\\\\n",
       "\tMAP89164957:MAP89164957 &  2.2521676 &  2.2170323 &  2.2170323 & -0.4857991 & -0.5130208 &  1.1123933 & -0.2367535 & -0.5113133 & -0.5130208 &  1.1083396 & ⋯ &  1.9608688 &  1.9608688 &  0.5701424 &  0.5761753 & -0.4184138 &  3.9914451 & -0.2552852 &  1.48856270 & -0.3218029 &  0.5716329\\\\\n",
       "\tMAP93787649:MAP93787649 & -0.3950137 & -0.3956908 & -0.3956908 & -0.4857991 & -0.5130208 & -0.7005453 & -0.2367535 & -0.5113133 & -0.5130208 & -0.6979925 & ⋯ & -1.0185901 & -1.0185901 & -0.9581796 & -0.9591524 &  2.1728662 & -0.2303661 & -0.2552852 &  0.07999652 & -0.3218029 & -0.9606845\\\\\n",
       "\tROS11430815:ROS11430815 &  2.2521676 &  2.2170323 &  2.2170323 & -0.4857991 & -0.5130208 &  1.1123933 & -0.2367535 & -0.5113133 & -0.5130208 &  1.1083396 & ⋯ &  0.4711394 &  0.4711394 &  0.5701424 &  0.5761753 &  2.1728662 & -0.2303661 & -0.2552852 &  1.48856270 & -0.3218029 &  0.5716329\\\\\n",
       "\tROS11697592:ROS11697592 & -0.3950137 & -0.3956908 & -0.3956908 & -0.4857991 & -0.5130208 & -0.7005453 & -0.2367535 & -0.5113133 & -0.5130208 & -0.6979925 & ⋯ & -1.0185901 & -1.0185901 & -0.9581796 & -0.9591524 & -0.4184138 & -0.2303661 & -0.2552852 & -1.32856966 & -0.3218029 & -0.9606845\\\\\n",
       "\tROS15114174:ROS15114174 & -0.3950137 & -0.3956908 & -0.3956908 & -0.4857991 & -0.5130208 & -0.7005453 & -0.2367535 & -0.5113133 & -0.5130208 & -0.6979925 & ⋯ &  0.4711394 &  0.4711394 &  0.5701424 &  0.5761753 & -0.4184138 & -0.2303661 & -0.2552852 &  1.48856270 &  2.9583925 &  0.5716329\\\\\n",
       "\tROS15738428:ROS15738428 & -0.3950137 & -0.3956908 & -0.3956908 & -0.4857991 & -0.5130208 & -0.7005453 & -0.2367535 & -0.5113133 & -0.5130208 & -0.6979925 & ⋯ &  0.4711394 &  0.4711394 &  0.5701424 &  0.5761753 & -0.4184138 & -0.2303661 & -0.2552852 &  0.07999652 & -0.3218029 &  0.5716329\\\\\n",
       "\tROS20251553:ROS20251553 & -0.3950137 & -0.3956908 & -0.3956908 & -0.4857991 & -0.5130208 & -0.7005453 & -0.2367535 & -0.5113133 & -0.5130208 & -0.6979925 & ⋯ &  1.9608688 &  1.9608688 &  0.5701424 &  0.5761753 & -0.4184138 &  3.9914451 & -0.2552852 &  1.48856270 & -0.3218029 &  0.5716329\\\\\n",
       "\tROS20275399:ROS20275399 & -0.3950137 & -0.3956908 & -0.3956908 & -0.4857991 & -0.5130208 & -0.7005453 & -0.2367535 & -0.5113133 & -0.5130208 & -0.6979925 & ⋯ & -1.0185901 & -1.0185901 & -0.9581796 & -0.9591524 &  2.1728662 & -0.2303661 & -0.2552852 &  0.07999652 & -0.3218029 & -0.9606845\\\\\n",
       "\tROS20376029:ROS20376029 & -0.3950137 & -0.3956908 & -0.3956908 & -0.4857991 & -0.5130208 & -0.7005453 & -0.2367535 & -0.5113133 & -0.5130208 & -0.6979925 & ⋯ &  0.4711394 &  0.4711394 &  0.5701424 &  0.5761753 & -0.4184138 & -0.2303661 & -0.2552852 &  1.48856270 &  2.9583925 &  0.5716329\\\\\n",
       "\tROS20945666:ROS20945666 & -0.3950137 & -0.3956908 & -0.3956908 & -0.4857991 & -0.5130208 & -0.7005453 & -0.2367535 & -0.5113133 & -0.5130208 & -0.6979925 & ⋯ & -1.0185901 & -1.0185901 & -0.9581796 & -0.9591524 & -0.4184138 & -0.2303661 & -0.2552852 & -1.32856966 & -0.3218029 & -0.9606845\\\\\n",
       "\tROS20946257:ROS20946257 &  2.2521676 &  2.2170323 &  2.2170323 & -0.4857991 & -0.5130208 &  1.1123933 & -0.2367535 & -0.5113133 & -0.5130208 &  1.1083396 & ⋯ &  0.4711394 &  0.4711394 &  0.5701424 &  0.5761753 & -0.4184138 & -0.2303661 & -0.2552852 &  0.07999652 & -0.3218029 &  0.5716329\\\\\n",
       "\tROS20998065:ROS20998065 & -0.3950137 & -0.3956908 & -0.3956908 & -0.4857991 & -0.5130208 & -0.7005453 & -0.2367535 & -0.5113133 & -0.5130208 & -0.6979925 & ⋯ & -1.0185901 & -1.0185901 & -0.9581796 & -0.9591524 &  4.7641463 & -0.2303661 & -0.2552852 &  1.48856270 & -0.3218029 & -0.9606845\\\\\n",
       "\t⋮ & ⋮ & ⋮ & ⋮ & ⋮ & ⋮ & ⋮ & ⋮ & ⋮ & ⋮ & ⋮ & ⋱ & ⋮ & ⋮ & ⋮ & ⋮ & ⋮ & ⋮ & ⋮ & ⋮ & ⋮ & ⋮\\\\\n",
       "\tSM-CTEIP:SM-CTEIP & -0.3950137 & -0.3956908 & -0.3956908 & -0.4857991 & -0.5130208 & -0.7005453 & -0.2367535 & -0.5113133 & -0.5130208 & -0.6979925 & ⋯ & -1.0185901 & -1.0185901 & -0.9581796 & -0.9591524 & -0.4184138 & -0.2303661 & -0.2552852 & -1.32856966 & -0.3218029 & -0.9606845\\\\\n",
       "\tSM-CTEIQ:SM-CTEIQ &  2.2521676 &  2.2170323 &  2.2170323 & -0.4857991 & -0.5130208 &  1.1123933 & -0.2367535 & -0.5113133 & -0.5130208 &  1.1083396 & ⋯ & -1.0185901 & -1.0185901 & -0.9581796 & -0.9591524 & -0.4184138 & -0.2303661 & -0.2552852 & -1.32856966 & -0.3218029 & -0.9606845\\\\\n",
       "\tSM-CTEIR:SM-CTEIR & -0.3950137 & -0.3956908 & -0.3956908 & -0.4857991 & -0.5130208 & -0.7005453 & -0.2367535 & -0.5113133 & -0.5130208 & -0.6979925 & ⋯ & -1.0185901 & -1.0185901 & -0.9581796 & -0.9591524 &  4.7641463 & -0.2303661 & -0.2552852 &  1.48856270 & -0.3218029 & -0.9606845\\\\\n",
       "\tSM-CTELS:SM-CTELS & -0.3950137 & -0.3956908 & -0.3956908 & -0.4857991 & -0.5130208 & -0.7005453 & -0.2367535 & -0.5113133 & -0.5130208 & -0.6979925 & ⋯ & -1.0185901 & -1.0185901 & -0.9581796 & -0.9591524 & -0.4184138 & -0.2303661 & -0.2552852 & -1.32856966 & -0.3218029 & -0.9606845\\\\\n",
       "\tSM-CTELT:SM-CTELT & -0.3950137 & -0.3956908 & -0.3956908 & -0.4857991 & -0.5130208 & -0.7005453 & -0.2367535 & -0.5113133 & -0.5130208 & -0.6979925 & ⋯ & -1.0185901 & -1.0185901 & -0.9581796 & -0.9591524 & -0.4184138 & -0.2303661 & -0.2552852 & -1.32856966 & -0.3218029 & -0.9606845\\\\\n",
       "\tSM-CTELU:SM-CTELU & -0.3950137 & -0.3956908 & -0.3956908 & -0.4857991 & -0.5130208 & -0.7005453 &  3.7701872 & -0.5113133 & -0.5130208 & -0.6979925 & ⋯ & -1.0185901 & -1.0185901 & -0.9581796 & -0.9591524 & -0.4184138 & -0.2303661 & -0.2552852 & -1.32856966 & -0.3218029 & -0.9606845\\\\\n",
       "\tSM-CTELV:SM-CTELV & -0.3950137 & -0.3956908 & -0.3956908 & -0.4857991 & -0.5130208 & -0.7005453 & -0.2367535 & -0.5113133 & -0.5130208 & -0.6979925 & ⋯ & -1.0185901 & -1.0185901 & -0.9581796 & -0.9591524 &  2.1728662 & -0.2303661 & -0.2552852 &  0.07999652 & -0.3218029 & -0.9606845\\\\\n",
       "\tSM-CTELW:SM-CTELW & -0.3950137 & -0.3956908 & -0.3956908 & -0.4857991 & -0.5130208 & -0.7005453 &  3.7701872 & -0.5113133 & -0.5130208 & -0.6979925 & ⋯ &  0.4711394 &  0.4711394 &  0.5701424 &  0.5761753 & -0.4184138 & -0.2303661 & -0.2552852 &  0.07999652 & -0.3218029 &  0.5716329\\\\\n",
       "\tSM-CTEM2:SM-CTEM2 &  2.2521676 &  2.2170323 &  2.2170323 & -0.4857991 & -0.5130208 &  1.1123933 & -0.2367535 & -0.5113133 & -0.5130208 &  1.1083396 & ⋯ &  0.4711394 &  0.4711394 & -0.9581796 & -0.9591524 & -0.4184138 &  3.9914451 & -0.2552852 &  0.07999652 & -0.3218029 & -0.9606845\\\\\n",
       "\tSM-CTEM5:SM-CTEM5 & -0.3950137 & -0.3956908 & -0.3956908 & -0.4857991 & -0.5130208 & -0.7005453 & -0.2367535 & -0.5113133 & -0.5130208 & -0.6979925 & ⋯ & -1.0185901 & -1.0185901 & -0.9581796 & -0.9591524 &  2.1728662 & -0.2303661 & -0.2552852 &  0.07999652 & -0.3218029 & -0.9606845\\\\\n",
       "\tSM-CTEM6:SM-CTEM6 & -0.3950137 & -0.3956908 & -0.3956908 & -0.4857991 & -0.5130208 & -0.7005453 & -0.2367535 & -0.5113133 & -0.5130208 & -0.6979925 & ⋯ & -1.0185901 & -1.0185901 & -0.9581796 & -0.9591524 &  2.1728662 & -0.2303661 & -0.2552852 &  0.07999652 & -0.3218029 & -0.9606845\\\\\n",
       "\tSM-CTEMG:SM-CTEMG & -0.3950137 & -0.3956908 & -0.3956908 & -0.4857991 & -0.5130208 & -0.7005453 & -0.2367535 & -0.5113133 & -0.5130208 & -0.6979925 & ⋯ & -1.0185901 & -1.0185901 & -0.9581796 & -0.9591524 &  2.1728662 & -0.2303661 & -0.2552852 &  0.07999652 & -0.3218029 & -0.9606845\\\\\n",
       "\tSM-CTEMJ:SM-CTEMJ & -0.3950137 & -0.3956908 & -0.3956908 & -0.4857991 & -0.5130208 & -0.7005453 & -0.2367535 & -0.5113133 & -0.5130208 & -0.6979925 & ⋯ &  0.4711394 &  0.4711394 &  0.5701424 &  0.5761753 & -0.4184138 & -0.2303661 & -0.2552852 &  0.07999652 & -0.3218029 &  0.5716329\\\\\n",
       "\tSM-CTEMK:SM-CTEMK & -0.3950137 & -0.3956908 & -0.3956908 & -0.4857991 & -0.5130208 & -0.7005453 & -0.2367535 & -0.5113133 & -0.5130208 & -0.6979925 & ⋯ &  0.4711394 &  0.4711394 &  0.5701424 &  0.5761753 & -0.4184138 & -0.2303661 & -0.2552852 &  0.07999652 & -0.3218029 &  0.5716329\\\\\n",
       "\tSM-CTEML:SM-CTEML &  2.2521676 &  2.2170323 &  2.2170323 & -0.4857991 & -0.5130208 &  1.1123933 & -0.2367535 & -0.5113133 & -0.5130208 &  1.1083396 & ⋯ &  0.4711394 &  0.4711394 &  0.5701424 &  0.5761753 & -0.4184138 & -0.2303661 & -0.2552852 &  0.07999652 & -0.3218029 &  0.5716329\\\\\n",
       "\tSM-CTEMM:SM-CTEMM & -0.3950137 & -0.3956908 & -0.3956908 & -0.4857991 & -0.5130208 & -0.7005453 & -0.2367535 & -0.5113133 & -0.5130208 & -0.6979925 & ⋯ &  0.4711394 &  0.4711394 &  0.5701424 &  0.5761753 & -0.4184138 & -0.2303661 & -0.2552852 &  0.07999652 & -0.3218029 &  0.5716329\\\\\n",
       "\tSM-CTEMO:SM-CTEMO & -0.3950137 & -0.3956908 & -0.3956908 & -0.4857991 & -0.5130208 & -0.7005453 & -0.2367535 & -0.5113133 & -0.5130208 & -0.6979925 & ⋯ &  0.4711394 &  0.4711394 &  0.5701424 &  0.5761753 & -0.4184138 & -0.2303661 & -0.2552852 &  0.07999652 & -0.3218029 &  0.5716329\\\\\n",
       "\tSM-CTEMS:SM-CTEMS & -0.3950137 & -0.3956908 & -0.3956908 &  1.7956763 &  1.6600578 &  1.1123933 & -0.2367535 &  1.6647973 &  1.6600578 &  1.1083396 & ⋯ &  0.4711394 &  0.4711394 &  0.5701424 &  0.5761753 & -0.4184138 & -0.2303661 & -0.2552852 &  0.07999652 & -0.3218029 &  0.5716329\\\\\n",
       "\tSM-CTEMU:SM-CTEMU & -0.3950137 & -0.3956908 & -0.3956908 &  1.7956763 &  1.6600578 &  1.1123933 & -0.2367535 &  1.6647973 &  1.6600578 &  1.1083396 & ⋯ & -1.0185901 & -1.0185901 & -0.9581796 & -0.9591524 & -0.4184138 & -0.2303661 & -0.2552852 &  0.07999652 &  2.9583925 & -0.9606845\\\\\n",
       "\tSM-CTEMW:SM-CTEMW & -0.3950137 & -0.3956908 & -0.3956908 & -0.4857991 & -0.5130208 & -0.7005453 & -0.2367535 & -0.5113133 & -0.5130208 & -0.6979925 & ⋯ & -1.0185901 & -1.0185901 & -0.9581796 & -0.9591524 & -0.4184138 & -0.2303661 & -0.2552852 & -1.32856966 & -0.3218029 & -0.9606845\\\\\n",
       "\tSM-CTEMX:SM-CTEMX & -0.3950137 & -0.3956908 & -0.3956908 & -0.4857991 & -0.5130208 & -0.7005453 & -0.2367535 & -0.5113133 & -0.5130208 & -0.6979925 & ⋯ & -1.0185901 & -1.0185901 & -0.9581796 & -0.9591524 &  2.1728662 & -0.2303661 & -0.2552852 &  0.07999652 & -0.3218029 & -0.9606845\\\\\n",
       "\tSM-CTEMY:SM-CTEMY & -0.3950137 & -0.3956908 & -0.3956908 & -0.4857991 & -0.5130208 & -0.7005453 & -0.2367535 & -0.5113133 & -0.5130208 & -0.6979925 & ⋯ &  0.4711394 &  0.4711394 &  0.5701424 &  0.5761753 & -0.4184138 & -0.2303661 & -0.2552852 &  0.07999652 & -0.3218029 &  0.5716329\\\\\n",
       "\tSM-CTEN2:SM-CTEN2 & -0.3950137 & -0.3956908 & -0.3956908 & -0.4857991 & -0.5130208 & -0.7005453 & -0.2367535 & -0.5113133 & -0.5130208 & -0.6979925 & ⋯ & -1.0185901 & -1.0185901 & -0.9581796 & -0.9591524 &  2.1728662 & -0.2303661 & -0.2552852 &  0.07999652 & -0.3218029 & -0.9606845\\\\\n",
       "\tSM-CTEN5:SM-CTEN5 & -0.3950137 & -0.3956908 & -0.3956908 & -0.4857991 & -0.5130208 & -0.7005453 &  3.7701872 & -0.5113133 & -0.5130208 & -0.6979925 & ⋯ &  1.9608688 &  1.9608688 &  2.0984644 &  2.1115031 & -0.4184138 & -0.2303661 & -0.2552852 &  1.48856270 & -0.3218029 &  2.1039502\\\\\n",
       "\tSM-CTEN7:SM-CTEN7 & -0.3950137 & -0.3956908 & -0.3956908 & -0.4857991 & -0.5130208 & -0.7005453 & -0.2367535 & -0.5113133 & -0.5130208 & -0.6979925 & ⋯ &  0.4711394 &  0.4711394 &  0.5701424 &  0.5761753 & -0.4184138 & -0.2303661 &  3.9128256 &  0.07999652 & -0.3218029 &  0.5716329\\\\\n",
       "\tSM-CTENC:SM-CTENC & -0.3950137 & -0.3956908 & -0.3956908 &  1.7956763 &  1.6600578 &  1.1123933 & -0.2367535 &  1.6647973 &  1.6600578 &  1.1083396 & ⋯ &  0.4711394 &  0.4711394 &  0.5701424 &  0.5761753 &  2.1728662 & -0.2303661 & -0.2552852 &  1.48856270 & -0.3218029 &  0.5716329\\\\\n",
       "\tSM-CTEND:SM-CTEND & -0.3950137 & -0.3956908 & -0.3956908 &  1.7956763 &  1.6600578 &  1.1123933 & -0.2367535 &  1.6647973 &  1.6600578 &  1.1083396 & ⋯ & -1.0185901 & -1.0185901 & -0.9581796 & -0.9591524 & -0.4184138 & -0.2303661 & -0.2552852 & -1.32856966 & -0.3218029 & -0.9606845\\\\\n",
       "\tSM-CTENE:SM-CTENE & -0.3950137 & -0.3956908 & -0.3956908 & -0.4857991 & -0.5130208 & -0.7005453 & -0.2367535 & -0.5113133 & -0.5130208 & -0.6979925 & ⋯ &  0.4711394 &  0.4711394 &  0.5701424 &  0.5761753 &  2.1728662 & -0.2303661 & -0.2552852 &  1.48856270 & -0.3218029 &  0.5716329\\\\\n",
       "\tSM-CTENF:SM-CTENF & -0.3950137 & -0.3956908 & -0.3956908 &  1.7956763 &  1.6600578 &  1.1123933 & -0.2367535 &  1.6647973 &  1.6600578 &  1.1083396 & ⋯ &  0.4711394 &  0.4711394 & -0.9581796 & -0.9591524 & -0.4184138 &  3.9914451 & -0.2552852 &  0.07999652 & -0.3218029 & -0.9606845\\\\\n",
       "\tSM-CTENG:SM-CTENG &  2.2521676 &  2.2170323 &  2.2170323 & -0.4857991 & -0.5130208 &  1.1123933 & -0.2367535 & -0.5113133 & -0.5130208 &  1.1083396 & ⋯ &  0.4711394 &  0.4711394 &  0.5701424 &  0.5761753 &  2.1728662 & -0.2303661 & -0.2552852 &  1.48856270 & -0.3218029 &  0.5716329\\\\\n",
       "\\end{tabular}\n"
      ],
      "text/markdown": [
       "\n",
       "A matrix: 898 × 1467 of type dbl\n",
       "\n",
       "| <!--/--> | 7:100115878_A_G | 7:100116424_A_T | 7:100119315_C_T | 7:100120585_C_T | 7:100122680_G_T | 7:100123279_C_T | 7:100123523_G_T | 7:100126835_A_G | 7:100127558_A_G | 7:100127777_A_C | ⋯ | 7:101109690_A_C | 7:101109705_A_G | 7:101110975_C_T | 7:101111102_A_C | 7:101111182_A_G | 7:101112721_A_G | 7:101113348_A_G | 7:101113729_C_T | 7:101113835_C_T | 7:101113905_C_T |\n",
       "|---|---|---|---|---|---|---|---|---|---|---|---|---|---|---|---|---|---|---|---|---|---|\n",
       "| MAP15387421:MAP15387421 | -0.3950137 | -0.3956908 | -0.3956908 | -0.4857991 | -0.5130208 | -0.7005453 | -0.2367535 | -0.5113133 | -0.5130208 | -0.6979925 | ⋯ |  0.4711394 |  0.4711394 |  0.5701424 |  0.5761753 | -0.4184138 | -0.2303661 | -0.2552852 |  0.07999652 | -0.3218029 |  0.5716329 |\n",
       "| MAP22868024:MAP22868024 |  2.2521676 |  2.2170323 |  2.2170323 | -0.4857991 | -0.5130208 |  1.1123933 | -0.2367535 | -0.5113133 | -0.5130208 |  1.1083396 | ⋯ |  1.9608688 |  1.9608688 |  2.0984644 |  2.1115031 | -0.4184138 | -0.2303661 | -0.2552852 |  1.48856270 | -0.3218029 |  2.1039502 |\n",
       "| MAP26637867:MAP26637867 | -0.3950137 | -0.3956908 | -0.3956908 |  1.7956763 |  1.6600578 |  1.1123933 | -0.2367535 |  1.6647973 |  1.6600578 |  1.1083396 | ⋯ |  1.9608688 |  1.9608688 |  2.0984644 |  2.1115031 | -0.4184138 | -0.2303661 | -0.2552852 |  1.48856270 | -0.3218029 |  2.1039502 |\n",
       "| MAP29629849:MAP29629849 | -0.3950137 | -0.3956908 | -0.3956908 | -0.4857991 | -0.5130208 | -0.7005453 | -0.2367535 | -0.5113133 | -0.5130208 | -0.6979925 | ⋯ |  1.9608688 |  1.9608688 |  2.0984644 |  2.1115031 | -0.4184138 | -0.2303661 | -0.2552852 |  1.48856270 | -0.3218029 |  2.1039502 |\n",
       "| MAP33332646:MAP33332646 | -0.3950137 | -0.3956908 | -0.3956908 | -0.4857991 | -0.5130208 | -0.7005453 | -0.2367535 | -0.5113133 | -0.5130208 | -0.6979925 | ⋯ | -1.0185901 | -1.0185901 | -0.9581796 | -0.9591524 |  2.1728662 | -0.2303661 | -0.2552852 |  0.07999652 | -0.3218029 | -0.9606845 |\n",
       "| MAP34726040:MAP34726040 | -0.3950137 | -0.3956908 | -0.3956908 |  1.7956763 |  1.6600578 |  1.1123933 | -0.2367535 |  1.6647973 |  1.6600578 |  1.1083396 | ⋯ |  0.4711394 |  0.4711394 |  0.5701424 |  0.5761753 | -0.4184138 | -0.2303661 | -0.2552852 |  0.07999652 | -0.3218029 |  0.5716329 |\n",
       "| MAP46246604:MAP46246604 | -0.3950137 | -0.3956908 | -0.3956908 |  1.7956763 |  1.6600578 |  1.1123933 | -0.2367535 |  1.6647973 |  1.6600578 |  1.1083396 | ⋯ |  0.4711394 |  0.4711394 |  0.5701424 |  0.5761753 | -0.4184138 | -0.2303661 | -0.2552852 |  0.07999652 | -0.3218029 |  0.5716329 |\n",
       "| MAP46251007:MAP46251007 | -0.3950137 | -0.3956908 | -0.3956908 | -0.4857991 | -0.5130208 | -0.7005453 | -0.2367535 | -0.5113133 | -0.5130208 | -0.6979925 | ⋯ |  0.4711394 |  0.4711394 |  0.5701424 |  0.5761753 | -0.4184138 | -0.2303661 | -0.2552852 |  1.48856270 |  2.9583925 |  0.5716329 |\n",
       "| MAP50104134:MAP50104134 |  2.2521676 |  2.2170323 |  2.2170323 | -0.4857991 | -0.5130208 |  1.1123933 | -0.2367535 | -0.5113133 | -0.5130208 |  1.1083396 | ⋯ |  0.4711394 |  0.4711394 |  0.5701424 |  0.5761753 | -0.4184138 | -0.2303661 | -0.2552852 |  0.07999652 | -0.3218029 |  0.5716329 |\n",
       "| MAP50104846:MAP50104846 | -0.3950137 | -0.3956908 | -0.3956908 |  1.7956763 |  1.6600578 |  1.1123933 | -0.2367535 |  1.6647973 |  1.6600578 |  1.1083396 | ⋯ |  0.4711394 |  0.4711394 |  0.5701424 |  0.5761753 | -0.4184138 | -0.2303661 |  3.9128256 |  0.07999652 | -0.3218029 |  0.5716329 |\n",
       "| MAP50106442:MAP50106442 | -0.3950137 | -0.3956908 | -0.3956908 |  1.7956763 |  1.6600578 |  1.1123933 | -0.2367535 |  1.6647973 |  1.6600578 |  1.1083396 | ⋯ | -1.0185901 | -1.0185901 | -0.9581796 | -0.9591524 | -0.4184138 | -0.2303661 | -0.2552852 | -1.32856966 | -0.3218029 | -0.9606845 |\n",
       "| MAP50106992:MAP50106992 | -0.3950137 | -0.3956908 | -0.3956908 | -0.4857991 | -0.5130208 | -0.7005453 | -0.2367535 | -0.5113133 | -0.5130208 | -0.6979925 | ⋯ |  0.4711394 |  0.4711394 |  0.5701424 |  0.5761753 |  2.1728662 | -0.2303661 | -0.2552852 |  1.48856270 | -0.3218029 |  0.5716329 |\n",
       "| MAP50108462:MAP50108462 | -0.3950137 | -0.3956908 | -0.3956908 | -0.4857991 | -0.5130208 | -0.7005453 | -0.2367535 | -0.5113133 | -0.5130208 | -0.6979925 | ⋯ |  0.4711394 |  0.4711394 |  0.5701424 |  0.5761753 | -0.4184138 | -0.2303661 | -0.2552852 |  0.07999652 | -0.3218029 |  0.5716329 |\n",
       "| MAP50301099:MAP50301099 | -0.3950137 | -0.3956908 | -0.3956908 | -0.4857991 | -0.5130208 | -0.7005453 | -0.2367535 | -0.5113133 | -0.5130208 | -0.6979925 | ⋯ | -1.0185901 | -1.0185901 | -0.9581796 | -0.9591524 | -0.4184138 | -0.2303661 | -0.2552852 |  0.07999652 |  2.9583925 | -0.9606845 |\n",
       "| MAP50302680:MAP50302680 | -0.3950137 | -0.3956908 | -0.3956908 |  1.7956763 |  1.6600578 |  1.1123933 | -0.2367535 |  1.6647973 |  1.6600578 |  1.1083396 | ⋯ |  1.9608688 |  1.9608688 |  2.0984644 |  2.1115031 | -0.4184138 | -0.2303661 | -0.2552852 |  1.48856270 | -0.3218029 |  2.1039502 |\n",
       "| MAP61344957:MAP61344957 | -0.3950137 | -0.3956908 | -0.3956908 | -0.4857991 | -0.5130208 | -0.7005453 | -0.2367535 | -0.5113133 | -0.5130208 | -0.6979925 | ⋯ | -1.0185901 | -1.0185901 | -0.9581796 | -0.9591524 |  2.1728662 | -0.2303661 | -0.2552852 |  0.07999652 | -0.3218029 | -0.9606845 |\n",
       "| MAP85980779:MAP85980779 | -0.3950137 | -0.3956908 | -0.3956908 | -0.4857991 | -0.5130208 | -0.7005453 | -0.2367535 | -0.5113133 | -0.5130208 | -0.6979925 | ⋯ |  0.4711394 |  0.4711394 |  0.5701424 |  0.5761753 | -0.4184138 | -0.2303661 | -0.2552852 |  0.07999652 | -0.3218029 |  0.5716329 |\n",
       "| MAP87264456:MAP87264456 |  2.2521676 |  2.2170323 |  2.2170323 | -0.4857991 | -0.5130208 |  1.1123933 | -0.2367535 | -0.5113133 | -0.5130208 |  1.1083396 | ⋯ | -1.0185901 | -1.0185901 | -0.9581796 | -0.9591524 | -0.4184138 | -0.2303661 | -0.2552852 | -1.32856966 | -0.3218029 | -0.9606845 |\n",
       "| MAP89164957:MAP89164957 |  2.2521676 |  2.2170323 |  2.2170323 | -0.4857991 | -0.5130208 |  1.1123933 | -0.2367535 | -0.5113133 | -0.5130208 |  1.1083396 | ⋯ |  1.9608688 |  1.9608688 |  0.5701424 |  0.5761753 | -0.4184138 |  3.9914451 | -0.2552852 |  1.48856270 | -0.3218029 |  0.5716329 |\n",
       "| MAP93787649:MAP93787649 | -0.3950137 | -0.3956908 | -0.3956908 | -0.4857991 | -0.5130208 | -0.7005453 | -0.2367535 | -0.5113133 | -0.5130208 | -0.6979925 | ⋯ | -1.0185901 | -1.0185901 | -0.9581796 | -0.9591524 |  2.1728662 | -0.2303661 | -0.2552852 |  0.07999652 | -0.3218029 | -0.9606845 |\n",
       "| ROS11430815:ROS11430815 |  2.2521676 |  2.2170323 |  2.2170323 | -0.4857991 | -0.5130208 |  1.1123933 | -0.2367535 | -0.5113133 | -0.5130208 |  1.1083396 | ⋯ |  0.4711394 |  0.4711394 |  0.5701424 |  0.5761753 |  2.1728662 | -0.2303661 | -0.2552852 |  1.48856270 | -0.3218029 |  0.5716329 |\n",
       "| ROS11697592:ROS11697592 | -0.3950137 | -0.3956908 | -0.3956908 | -0.4857991 | -0.5130208 | -0.7005453 | -0.2367535 | -0.5113133 | -0.5130208 | -0.6979925 | ⋯ | -1.0185901 | -1.0185901 | -0.9581796 | -0.9591524 | -0.4184138 | -0.2303661 | -0.2552852 | -1.32856966 | -0.3218029 | -0.9606845 |\n",
       "| ROS15114174:ROS15114174 | -0.3950137 | -0.3956908 | -0.3956908 | -0.4857991 | -0.5130208 | -0.7005453 | -0.2367535 | -0.5113133 | -0.5130208 | -0.6979925 | ⋯ |  0.4711394 |  0.4711394 |  0.5701424 |  0.5761753 | -0.4184138 | -0.2303661 | -0.2552852 |  1.48856270 |  2.9583925 |  0.5716329 |\n",
       "| ROS15738428:ROS15738428 | -0.3950137 | -0.3956908 | -0.3956908 | -0.4857991 | -0.5130208 | -0.7005453 | -0.2367535 | -0.5113133 | -0.5130208 | -0.6979925 | ⋯ |  0.4711394 |  0.4711394 |  0.5701424 |  0.5761753 | -0.4184138 | -0.2303661 | -0.2552852 |  0.07999652 | -0.3218029 |  0.5716329 |\n",
       "| ROS20251553:ROS20251553 | -0.3950137 | -0.3956908 | -0.3956908 | -0.4857991 | -0.5130208 | -0.7005453 | -0.2367535 | -0.5113133 | -0.5130208 | -0.6979925 | ⋯ |  1.9608688 |  1.9608688 |  0.5701424 |  0.5761753 | -0.4184138 |  3.9914451 | -0.2552852 |  1.48856270 | -0.3218029 |  0.5716329 |\n",
       "| ROS20275399:ROS20275399 | -0.3950137 | -0.3956908 | -0.3956908 | -0.4857991 | -0.5130208 | -0.7005453 | -0.2367535 | -0.5113133 | -0.5130208 | -0.6979925 | ⋯ | -1.0185901 | -1.0185901 | -0.9581796 | -0.9591524 |  2.1728662 | -0.2303661 | -0.2552852 |  0.07999652 | -0.3218029 | -0.9606845 |\n",
       "| ROS20376029:ROS20376029 | -0.3950137 | -0.3956908 | -0.3956908 | -0.4857991 | -0.5130208 | -0.7005453 | -0.2367535 | -0.5113133 | -0.5130208 | -0.6979925 | ⋯ |  0.4711394 |  0.4711394 |  0.5701424 |  0.5761753 | -0.4184138 | -0.2303661 | -0.2552852 |  1.48856270 |  2.9583925 |  0.5716329 |\n",
       "| ROS20945666:ROS20945666 | -0.3950137 | -0.3956908 | -0.3956908 | -0.4857991 | -0.5130208 | -0.7005453 | -0.2367535 | -0.5113133 | -0.5130208 | -0.6979925 | ⋯ | -1.0185901 | -1.0185901 | -0.9581796 | -0.9591524 | -0.4184138 | -0.2303661 | -0.2552852 | -1.32856966 | -0.3218029 | -0.9606845 |\n",
       "| ROS20946257:ROS20946257 |  2.2521676 |  2.2170323 |  2.2170323 | -0.4857991 | -0.5130208 |  1.1123933 | -0.2367535 | -0.5113133 | -0.5130208 |  1.1083396 | ⋯ |  0.4711394 |  0.4711394 |  0.5701424 |  0.5761753 | -0.4184138 | -0.2303661 | -0.2552852 |  0.07999652 | -0.3218029 |  0.5716329 |\n",
       "| ROS20998065:ROS20998065 | -0.3950137 | -0.3956908 | -0.3956908 | -0.4857991 | -0.5130208 | -0.7005453 | -0.2367535 | -0.5113133 | -0.5130208 | -0.6979925 | ⋯ | -1.0185901 | -1.0185901 | -0.9581796 | -0.9591524 |  4.7641463 | -0.2303661 | -0.2552852 |  1.48856270 | -0.3218029 | -0.9606845 |\n",
       "| ⋮ | ⋮ | ⋮ | ⋮ | ⋮ | ⋮ | ⋮ | ⋮ | ⋮ | ⋮ | ⋮ | ⋱ | ⋮ | ⋮ | ⋮ | ⋮ | ⋮ | ⋮ | ⋮ | ⋮ | ⋮ | ⋮ |\n",
       "| SM-CTEIP:SM-CTEIP | -0.3950137 | -0.3956908 | -0.3956908 | -0.4857991 | -0.5130208 | -0.7005453 | -0.2367535 | -0.5113133 | -0.5130208 | -0.6979925 | ⋯ | -1.0185901 | -1.0185901 | -0.9581796 | -0.9591524 | -0.4184138 | -0.2303661 | -0.2552852 | -1.32856966 | -0.3218029 | -0.9606845 |\n",
       "| SM-CTEIQ:SM-CTEIQ |  2.2521676 |  2.2170323 |  2.2170323 | -0.4857991 | -0.5130208 |  1.1123933 | -0.2367535 | -0.5113133 | -0.5130208 |  1.1083396 | ⋯ | -1.0185901 | -1.0185901 | -0.9581796 | -0.9591524 | -0.4184138 | -0.2303661 | -0.2552852 | -1.32856966 | -0.3218029 | -0.9606845 |\n",
       "| SM-CTEIR:SM-CTEIR | -0.3950137 | -0.3956908 | -0.3956908 | -0.4857991 | -0.5130208 | -0.7005453 | -0.2367535 | -0.5113133 | -0.5130208 | -0.6979925 | ⋯ | -1.0185901 | -1.0185901 | -0.9581796 | -0.9591524 |  4.7641463 | -0.2303661 | -0.2552852 |  1.48856270 | -0.3218029 | -0.9606845 |\n",
       "| SM-CTELS:SM-CTELS | -0.3950137 | -0.3956908 | -0.3956908 | -0.4857991 | -0.5130208 | -0.7005453 | -0.2367535 | -0.5113133 | -0.5130208 | -0.6979925 | ⋯ | -1.0185901 | -1.0185901 | -0.9581796 | -0.9591524 | -0.4184138 | -0.2303661 | -0.2552852 | -1.32856966 | -0.3218029 | -0.9606845 |\n",
       "| SM-CTELT:SM-CTELT | -0.3950137 | -0.3956908 | -0.3956908 | -0.4857991 | -0.5130208 | -0.7005453 | -0.2367535 | -0.5113133 | -0.5130208 | -0.6979925 | ⋯ | -1.0185901 | -1.0185901 | -0.9581796 | -0.9591524 | -0.4184138 | -0.2303661 | -0.2552852 | -1.32856966 | -0.3218029 | -0.9606845 |\n",
       "| SM-CTELU:SM-CTELU | -0.3950137 | -0.3956908 | -0.3956908 | -0.4857991 | -0.5130208 | -0.7005453 |  3.7701872 | -0.5113133 | -0.5130208 | -0.6979925 | ⋯ | -1.0185901 | -1.0185901 | -0.9581796 | -0.9591524 | -0.4184138 | -0.2303661 | -0.2552852 | -1.32856966 | -0.3218029 | -0.9606845 |\n",
       "| SM-CTELV:SM-CTELV | -0.3950137 | -0.3956908 | -0.3956908 | -0.4857991 | -0.5130208 | -0.7005453 | -0.2367535 | -0.5113133 | -0.5130208 | -0.6979925 | ⋯ | -1.0185901 | -1.0185901 | -0.9581796 | -0.9591524 |  2.1728662 | -0.2303661 | -0.2552852 |  0.07999652 | -0.3218029 | -0.9606845 |\n",
       "| SM-CTELW:SM-CTELW | -0.3950137 | -0.3956908 | -0.3956908 | -0.4857991 | -0.5130208 | -0.7005453 |  3.7701872 | -0.5113133 | -0.5130208 | -0.6979925 | ⋯ |  0.4711394 |  0.4711394 |  0.5701424 |  0.5761753 | -0.4184138 | -0.2303661 | -0.2552852 |  0.07999652 | -0.3218029 |  0.5716329 |\n",
       "| SM-CTEM2:SM-CTEM2 |  2.2521676 |  2.2170323 |  2.2170323 | -0.4857991 | -0.5130208 |  1.1123933 | -0.2367535 | -0.5113133 | -0.5130208 |  1.1083396 | ⋯ |  0.4711394 |  0.4711394 | -0.9581796 | -0.9591524 | -0.4184138 |  3.9914451 | -0.2552852 |  0.07999652 | -0.3218029 | -0.9606845 |\n",
       "| SM-CTEM5:SM-CTEM5 | -0.3950137 | -0.3956908 | -0.3956908 | -0.4857991 | -0.5130208 | -0.7005453 | -0.2367535 | -0.5113133 | -0.5130208 | -0.6979925 | ⋯ | -1.0185901 | -1.0185901 | -0.9581796 | -0.9591524 |  2.1728662 | -0.2303661 | -0.2552852 |  0.07999652 | -0.3218029 | -0.9606845 |\n",
       "| SM-CTEM6:SM-CTEM6 | -0.3950137 | -0.3956908 | -0.3956908 | -0.4857991 | -0.5130208 | -0.7005453 | -0.2367535 | -0.5113133 | -0.5130208 | -0.6979925 | ⋯ | -1.0185901 | -1.0185901 | -0.9581796 | -0.9591524 |  2.1728662 | -0.2303661 | -0.2552852 |  0.07999652 | -0.3218029 | -0.9606845 |\n",
       "| SM-CTEMG:SM-CTEMG | -0.3950137 | -0.3956908 | -0.3956908 | -0.4857991 | -0.5130208 | -0.7005453 | -0.2367535 | -0.5113133 | -0.5130208 | -0.6979925 | ⋯ | -1.0185901 | -1.0185901 | -0.9581796 | -0.9591524 |  2.1728662 | -0.2303661 | -0.2552852 |  0.07999652 | -0.3218029 | -0.9606845 |\n",
       "| SM-CTEMJ:SM-CTEMJ | -0.3950137 | -0.3956908 | -0.3956908 | -0.4857991 | -0.5130208 | -0.7005453 | -0.2367535 | -0.5113133 | -0.5130208 | -0.6979925 | ⋯ |  0.4711394 |  0.4711394 |  0.5701424 |  0.5761753 | -0.4184138 | -0.2303661 | -0.2552852 |  0.07999652 | -0.3218029 |  0.5716329 |\n",
       "| SM-CTEMK:SM-CTEMK | -0.3950137 | -0.3956908 | -0.3956908 | -0.4857991 | -0.5130208 | -0.7005453 | -0.2367535 | -0.5113133 | -0.5130208 | -0.6979925 | ⋯ |  0.4711394 |  0.4711394 |  0.5701424 |  0.5761753 | -0.4184138 | -0.2303661 | -0.2552852 |  0.07999652 | -0.3218029 |  0.5716329 |\n",
       "| SM-CTEML:SM-CTEML |  2.2521676 |  2.2170323 |  2.2170323 | -0.4857991 | -0.5130208 |  1.1123933 | -0.2367535 | -0.5113133 | -0.5130208 |  1.1083396 | ⋯ |  0.4711394 |  0.4711394 |  0.5701424 |  0.5761753 | -0.4184138 | -0.2303661 | -0.2552852 |  0.07999652 | -0.3218029 |  0.5716329 |\n",
       "| SM-CTEMM:SM-CTEMM | -0.3950137 | -0.3956908 | -0.3956908 | -0.4857991 | -0.5130208 | -0.7005453 | -0.2367535 | -0.5113133 | -0.5130208 | -0.6979925 | ⋯ |  0.4711394 |  0.4711394 |  0.5701424 |  0.5761753 | -0.4184138 | -0.2303661 | -0.2552852 |  0.07999652 | -0.3218029 |  0.5716329 |\n",
       "| SM-CTEMO:SM-CTEMO | -0.3950137 | -0.3956908 | -0.3956908 | -0.4857991 | -0.5130208 | -0.7005453 | -0.2367535 | -0.5113133 | -0.5130208 | -0.6979925 | ⋯ |  0.4711394 |  0.4711394 |  0.5701424 |  0.5761753 | -0.4184138 | -0.2303661 | -0.2552852 |  0.07999652 | -0.3218029 |  0.5716329 |\n",
       "| SM-CTEMS:SM-CTEMS | -0.3950137 | -0.3956908 | -0.3956908 |  1.7956763 |  1.6600578 |  1.1123933 | -0.2367535 |  1.6647973 |  1.6600578 |  1.1083396 | ⋯ |  0.4711394 |  0.4711394 |  0.5701424 |  0.5761753 | -0.4184138 | -0.2303661 | -0.2552852 |  0.07999652 | -0.3218029 |  0.5716329 |\n",
       "| SM-CTEMU:SM-CTEMU | -0.3950137 | -0.3956908 | -0.3956908 |  1.7956763 |  1.6600578 |  1.1123933 | -0.2367535 |  1.6647973 |  1.6600578 |  1.1083396 | ⋯ | -1.0185901 | -1.0185901 | -0.9581796 | -0.9591524 | -0.4184138 | -0.2303661 | -0.2552852 |  0.07999652 |  2.9583925 | -0.9606845 |\n",
       "| SM-CTEMW:SM-CTEMW | -0.3950137 | -0.3956908 | -0.3956908 | -0.4857991 | -0.5130208 | -0.7005453 | -0.2367535 | -0.5113133 | -0.5130208 | -0.6979925 | ⋯ | -1.0185901 | -1.0185901 | -0.9581796 | -0.9591524 | -0.4184138 | -0.2303661 | -0.2552852 | -1.32856966 | -0.3218029 | -0.9606845 |\n",
       "| SM-CTEMX:SM-CTEMX | -0.3950137 | -0.3956908 | -0.3956908 | -0.4857991 | -0.5130208 | -0.7005453 | -0.2367535 | -0.5113133 | -0.5130208 | -0.6979925 | ⋯ | -1.0185901 | -1.0185901 | -0.9581796 | -0.9591524 |  2.1728662 | -0.2303661 | -0.2552852 |  0.07999652 | -0.3218029 | -0.9606845 |\n",
       "| SM-CTEMY:SM-CTEMY | -0.3950137 | -0.3956908 | -0.3956908 | -0.4857991 | -0.5130208 | -0.7005453 | -0.2367535 | -0.5113133 | -0.5130208 | -0.6979925 | ⋯ |  0.4711394 |  0.4711394 |  0.5701424 |  0.5761753 | -0.4184138 | -0.2303661 | -0.2552852 |  0.07999652 | -0.3218029 |  0.5716329 |\n",
       "| SM-CTEN2:SM-CTEN2 | -0.3950137 | -0.3956908 | -0.3956908 | -0.4857991 | -0.5130208 | -0.7005453 | -0.2367535 | -0.5113133 | -0.5130208 | -0.6979925 | ⋯ | -1.0185901 | -1.0185901 | -0.9581796 | -0.9591524 |  2.1728662 | -0.2303661 | -0.2552852 |  0.07999652 | -0.3218029 | -0.9606845 |\n",
       "| SM-CTEN5:SM-CTEN5 | -0.3950137 | -0.3956908 | -0.3956908 | -0.4857991 | -0.5130208 | -0.7005453 |  3.7701872 | -0.5113133 | -0.5130208 | -0.6979925 | ⋯ |  1.9608688 |  1.9608688 |  2.0984644 |  2.1115031 | -0.4184138 | -0.2303661 | -0.2552852 |  1.48856270 | -0.3218029 |  2.1039502 |\n",
       "| SM-CTEN7:SM-CTEN7 | -0.3950137 | -0.3956908 | -0.3956908 | -0.4857991 | -0.5130208 | -0.7005453 | -0.2367535 | -0.5113133 | -0.5130208 | -0.6979925 | ⋯ |  0.4711394 |  0.4711394 |  0.5701424 |  0.5761753 | -0.4184138 | -0.2303661 |  3.9128256 |  0.07999652 | -0.3218029 |  0.5716329 |\n",
       "| SM-CTENC:SM-CTENC | -0.3950137 | -0.3956908 | -0.3956908 |  1.7956763 |  1.6600578 |  1.1123933 | -0.2367535 |  1.6647973 |  1.6600578 |  1.1083396 | ⋯ |  0.4711394 |  0.4711394 |  0.5701424 |  0.5761753 |  2.1728662 | -0.2303661 | -0.2552852 |  1.48856270 | -0.3218029 |  0.5716329 |\n",
       "| SM-CTEND:SM-CTEND | -0.3950137 | -0.3956908 | -0.3956908 |  1.7956763 |  1.6600578 |  1.1123933 | -0.2367535 |  1.6647973 |  1.6600578 |  1.1083396 | ⋯ | -1.0185901 | -1.0185901 | -0.9581796 | -0.9591524 | -0.4184138 | -0.2303661 | -0.2552852 | -1.32856966 | -0.3218029 | -0.9606845 |\n",
       "| SM-CTENE:SM-CTENE | -0.3950137 | -0.3956908 | -0.3956908 | -0.4857991 | -0.5130208 | -0.7005453 | -0.2367535 | -0.5113133 | -0.5130208 | -0.6979925 | ⋯ |  0.4711394 |  0.4711394 |  0.5701424 |  0.5761753 |  2.1728662 | -0.2303661 | -0.2552852 |  1.48856270 | -0.3218029 |  0.5716329 |\n",
       "| SM-CTENF:SM-CTENF | -0.3950137 | -0.3956908 | -0.3956908 |  1.7956763 |  1.6600578 |  1.1123933 | -0.2367535 |  1.6647973 |  1.6600578 |  1.1083396 | ⋯ |  0.4711394 |  0.4711394 | -0.9581796 | -0.9591524 | -0.4184138 |  3.9914451 | -0.2552852 |  0.07999652 | -0.3218029 | -0.9606845 |\n",
       "| SM-CTENG:SM-CTENG |  2.2521676 |  2.2170323 |  2.2170323 | -0.4857991 | -0.5130208 |  1.1123933 | -0.2367535 | -0.5113133 | -0.5130208 |  1.1083396 | ⋯ |  0.4711394 |  0.4711394 |  0.5701424 |  0.5761753 |  2.1728662 | -0.2303661 | -0.2552852 |  1.48856270 | -0.3218029 |  0.5716329 |\n",
       "\n"
      ],
      "text/plain": [
       "                        7:100115878_A_G 7:100116424_A_T 7:100119315_C_T\n",
       "MAP15387421:MAP15387421 -0.3950137      -0.3956908      -0.3956908     \n",
       "MAP22868024:MAP22868024  2.2521676       2.2170323       2.2170323     \n",
       "MAP26637867:MAP26637867 -0.3950137      -0.3956908      -0.3956908     \n",
       "MAP29629849:MAP29629849 -0.3950137      -0.3956908      -0.3956908     \n",
       "MAP33332646:MAP33332646 -0.3950137      -0.3956908      -0.3956908     \n",
       "MAP34726040:MAP34726040 -0.3950137      -0.3956908      -0.3956908     \n",
       "MAP46246604:MAP46246604 -0.3950137      -0.3956908      -0.3956908     \n",
       "MAP46251007:MAP46251007 -0.3950137      -0.3956908      -0.3956908     \n",
       "MAP50104134:MAP50104134  2.2521676       2.2170323       2.2170323     \n",
       "MAP50104846:MAP50104846 -0.3950137      -0.3956908      -0.3956908     \n",
       "MAP50106442:MAP50106442 -0.3950137      -0.3956908      -0.3956908     \n",
       "MAP50106992:MAP50106992 -0.3950137      -0.3956908      -0.3956908     \n",
       "MAP50108462:MAP50108462 -0.3950137      -0.3956908      -0.3956908     \n",
       "MAP50301099:MAP50301099 -0.3950137      -0.3956908      -0.3956908     \n",
       "MAP50302680:MAP50302680 -0.3950137      -0.3956908      -0.3956908     \n",
       "MAP61344957:MAP61344957 -0.3950137      -0.3956908      -0.3956908     \n",
       "MAP85980779:MAP85980779 -0.3950137      -0.3956908      -0.3956908     \n",
       "MAP87264456:MAP87264456  2.2521676       2.2170323       2.2170323     \n",
       "MAP89164957:MAP89164957  2.2521676       2.2170323       2.2170323     \n",
       "MAP93787649:MAP93787649 -0.3950137      -0.3956908      -0.3956908     \n",
       "ROS11430815:ROS11430815  2.2521676       2.2170323       2.2170323     \n",
       "ROS11697592:ROS11697592 -0.3950137      -0.3956908      -0.3956908     \n",
       "ROS15114174:ROS15114174 -0.3950137      -0.3956908      -0.3956908     \n",
       "ROS15738428:ROS15738428 -0.3950137      -0.3956908      -0.3956908     \n",
       "ROS20251553:ROS20251553 -0.3950137      -0.3956908      -0.3956908     \n",
       "ROS20275399:ROS20275399 -0.3950137      -0.3956908      -0.3956908     \n",
       "ROS20376029:ROS20376029 -0.3950137      -0.3956908      -0.3956908     \n",
       "ROS20945666:ROS20945666 -0.3950137      -0.3956908      -0.3956908     \n",
       "ROS20946257:ROS20946257  2.2521676       2.2170323       2.2170323     \n",
       "ROS20998065:ROS20998065 -0.3950137      -0.3956908      -0.3956908     \n",
       "⋮                       ⋮               ⋮               ⋮              \n",
       "SM-CTEIP:SM-CTEIP       -0.3950137      -0.3956908      -0.3956908     \n",
       "SM-CTEIQ:SM-CTEIQ        2.2521676       2.2170323       2.2170323     \n",
       "SM-CTEIR:SM-CTEIR       -0.3950137      -0.3956908      -0.3956908     \n",
       "SM-CTELS:SM-CTELS       -0.3950137      -0.3956908      -0.3956908     \n",
       "SM-CTELT:SM-CTELT       -0.3950137      -0.3956908      -0.3956908     \n",
       "SM-CTELU:SM-CTELU       -0.3950137      -0.3956908      -0.3956908     \n",
       "SM-CTELV:SM-CTELV       -0.3950137      -0.3956908      -0.3956908     \n",
       "SM-CTELW:SM-CTELW       -0.3950137      -0.3956908      -0.3956908     \n",
       "SM-CTEM2:SM-CTEM2        2.2521676       2.2170323       2.2170323     \n",
       "SM-CTEM5:SM-CTEM5       -0.3950137      -0.3956908      -0.3956908     \n",
       "SM-CTEM6:SM-CTEM6       -0.3950137      -0.3956908      -0.3956908     \n",
       "SM-CTEMG:SM-CTEMG       -0.3950137      -0.3956908      -0.3956908     \n",
       "SM-CTEMJ:SM-CTEMJ       -0.3950137      -0.3956908      -0.3956908     \n",
       "SM-CTEMK:SM-CTEMK       -0.3950137      -0.3956908      -0.3956908     \n",
       "SM-CTEML:SM-CTEML        2.2521676       2.2170323       2.2170323     \n",
       "SM-CTEMM:SM-CTEMM       -0.3950137      -0.3956908      -0.3956908     \n",
       "SM-CTEMO:SM-CTEMO       -0.3950137      -0.3956908      -0.3956908     \n",
       "SM-CTEMS:SM-CTEMS       -0.3950137      -0.3956908      -0.3956908     \n",
       "SM-CTEMU:SM-CTEMU       -0.3950137      -0.3956908      -0.3956908     \n",
       "SM-CTEMW:SM-CTEMW       -0.3950137      -0.3956908      -0.3956908     \n",
       "SM-CTEMX:SM-CTEMX       -0.3950137      -0.3956908      -0.3956908     \n",
       "SM-CTEMY:SM-CTEMY       -0.3950137      -0.3956908      -0.3956908     \n",
       "SM-CTEN2:SM-CTEN2       -0.3950137      -0.3956908      -0.3956908     \n",
       "SM-CTEN5:SM-CTEN5       -0.3950137      -0.3956908      -0.3956908     \n",
       "SM-CTEN7:SM-CTEN7       -0.3950137      -0.3956908      -0.3956908     \n",
       "SM-CTENC:SM-CTENC       -0.3950137      -0.3956908      -0.3956908     \n",
       "SM-CTEND:SM-CTEND       -0.3950137      -0.3956908      -0.3956908     \n",
       "SM-CTENE:SM-CTENE       -0.3950137      -0.3956908      -0.3956908     \n",
       "SM-CTENF:SM-CTENF       -0.3950137      -0.3956908      -0.3956908     \n",
       "SM-CTENG:SM-CTENG        2.2521676       2.2170323       2.2170323     \n",
       "                        7:100120585_C_T 7:100122680_G_T 7:100123279_C_T\n",
       "MAP15387421:MAP15387421 -0.4857991      -0.5130208      -0.7005453     \n",
       "MAP22868024:MAP22868024 -0.4857991      -0.5130208       1.1123933     \n",
       "MAP26637867:MAP26637867  1.7956763       1.6600578       1.1123933     \n",
       "MAP29629849:MAP29629849 -0.4857991      -0.5130208      -0.7005453     \n",
       "MAP33332646:MAP33332646 -0.4857991      -0.5130208      -0.7005453     \n",
       "MAP34726040:MAP34726040  1.7956763       1.6600578       1.1123933     \n",
       "MAP46246604:MAP46246604  1.7956763       1.6600578       1.1123933     \n",
       "MAP46251007:MAP46251007 -0.4857991      -0.5130208      -0.7005453     \n",
       "MAP50104134:MAP50104134 -0.4857991      -0.5130208       1.1123933     \n",
       "MAP50104846:MAP50104846  1.7956763       1.6600578       1.1123933     \n",
       "MAP50106442:MAP50106442  1.7956763       1.6600578       1.1123933     \n",
       "MAP50106992:MAP50106992 -0.4857991      -0.5130208      -0.7005453     \n",
       "MAP50108462:MAP50108462 -0.4857991      -0.5130208      -0.7005453     \n",
       "MAP50301099:MAP50301099 -0.4857991      -0.5130208      -0.7005453     \n",
       "MAP50302680:MAP50302680  1.7956763       1.6600578       1.1123933     \n",
       "MAP61344957:MAP61344957 -0.4857991      -0.5130208      -0.7005453     \n",
       "MAP85980779:MAP85980779 -0.4857991      -0.5130208      -0.7005453     \n",
       "MAP87264456:MAP87264456 -0.4857991      -0.5130208       1.1123933     \n",
       "MAP89164957:MAP89164957 -0.4857991      -0.5130208       1.1123933     \n",
       "MAP93787649:MAP93787649 -0.4857991      -0.5130208      -0.7005453     \n",
       "ROS11430815:ROS11430815 -0.4857991      -0.5130208       1.1123933     \n",
       "ROS11697592:ROS11697592 -0.4857991      -0.5130208      -0.7005453     \n",
       "ROS15114174:ROS15114174 -0.4857991      -0.5130208      -0.7005453     \n",
       "ROS15738428:ROS15738428 -0.4857991      -0.5130208      -0.7005453     \n",
       "ROS20251553:ROS20251553 -0.4857991      -0.5130208      -0.7005453     \n",
       "ROS20275399:ROS20275399 -0.4857991      -0.5130208      -0.7005453     \n",
       "ROS20376029:ROS20376029 -0.4857991      -0.5130208      -0.7005453     \n",
       "ROS20945666:ROS20945666 -0.4857991      -0.5130208      -0.7005453     \n",
       "ROS20946257:ROS20946257 -0.4857991      -0.5130208       1.1123933     \n",
       "ROS20998065:ROS20998065 -0.4857991      -0.5130208      -0.7005453     \n",
       "⋮                       ⋮               ⋮               ⋮              \n",
       "SM-CTEIP:SM-CTEIP       -0.4857991      -0.5130208      -0.7005453     \n",
       "SM-CTEIQ:SM-CTEIQ       -0.4857991      -0.5130208       1.1123933     \n",
       "SM-CTEIR:SM-CTEIR       -0.4857991      -0.5130208      -0.7005453     \n",
       "SM-CTELS:SM-CTELS       -0.4857991      -0.5130208      -0.7005453     \n",
       "SM-CTELT:SM-CTELT       -0.4857991      -0.5130208      -0.7005453     \n",
       "SM-CTELU:SM-CTELU       -0.4857991      -0.5130208      -0.7005453     \n",
       "SM-CTELV:SM-CTELV       -0.4857991      -0.5130208      -0.7005453     \n",
       "SM-CTELW:SM-CTELW       -0.4857991      -0.5130208      -0.7005453     \n",
       "SM-CTEM2:SM-CTEM2       -0.4857991      -0.5130208       1.1123933     \n",
       "SM-CTEM5:SM-CTEM5       -0.4857991      -0.5130208      -0.7005453     \n",
       "SM-CTEM6:SM-CTEM6       -0.4857991      -0.5130208      -0.7005453     \n",
       "SM-CTEMG:SM-CTEMG       -0.4857991      -0.5130208      -0.7005453     \n",
       "SM-CTEMJ:SM-CTEMJ       -0.4857991      -0.5130208      -0.7005453     \n",
       "SM-CTEMK:SM-CTEMK       -0.4857991      -0.5130208      -0.7005453     \n",
       "SM-CTEML:SM-CTEML       -0.4857991      -0.5130208       1.1123933     \n",
       "SM-CTEMM:SM-CTEMM       -0.4857991      -0.5130208      -0.7005453     \n",
       "SM-CTEMO:SM-CTEMO       -0.4857991      -0.5130208      -0.7005453     \n",
       "SM-CTEMS:SM-CTEMS        1.7956763       1.6600578       1.1123933     \n",
       "SM-CTEMU:SM-CTEMU        1.7956763       1.6600578       1.1123933     \n",
       "SM-CTEMW:SM-CTEMW       -0.4857991      -0.5130208      -0.7005453     \n",
       "SM-CTEMX:SM-CTEMX       -0.4857991      -0.5130208      -0.7005453     \n",
       "SM-CTEMY:SM-CTEMY       -0.4857991      -0.5130208      -0.7005453     \n",
       "SM-CTEN2:SM-CTEN2       -0.4857991      -0.5130208      -0.7005453     \n",
       "SM-CTEN5:SM-CTEN5       -0.4857991      -0.5130208      -0.7005453     \n",
       "SM-CTEN7:SM-CTEN7       -0.4857991      -0.5130208      -0.7005453     \n",
       "SM-CTENC:SM-CTENC        1.7956763       1.6600578       1.1123933     \n",
       "SM-CTEND:SM-CTEND        1.7956763       1.6600578       1.1123933     \n",
       "SM-CTENE:SM-CTENE       -0.4857991      -0.5130208      -0.7005453     \n",
       "SM-CTENF:SM-CTENF        1.7956763       1.6600578       1.1123933     \n",
       "SM-CTENG:SM-CTENG       -0.4857991      -0.5130208       1.1123933     \n",
       "                        7:100123523_G_T 7:100126835_A_G 7:100127558_A_G\n",
       "MAP15387421:MAP15387421 -0.2367535      -0.5113133      -0.5130208     \n",
       "MAP22868024:MAP22868024 -0.2367535      -0.5113133      -0.5130208     \n",
       "MAP26637867:MAP26637867 -0.2367535       1.6647973       1.6600578     \n",
       "MAP29629849:MAP29629849 -0.2367535      -0.5113133      -0.5130208     \n",
       "MAP33332646:MAP33332646 -0.2367535      -0.5113133      -0.5130208     \n",
       "MAP34726040:MAP34726040 -0.2367535       1.6647973       1.6600578     \n",
       "MAP46246604:MAP46246604 -0.2367535       1.6647973       1.6600578     \n",
       "MAP46251007:MAP46251007 -0.2367535      -0.5113133      -0.5130208     \n",
       "MAP50104134:MAP50104134 -0.2367535      -0.5113133      -0.5130208     \n",
       "MAP50104846:MAP50104846 -0.2367535       1.6647973       1.6600578     \n",
       "MAP50106442:MAP50106442 -0.2367535       1.6647973       1.6600578     \n",
       "MAP50106992:MAP50106992 -0.2367535      -0.5113133      -0.5130208     \n",
       "MAP50108462:MAP50108462 -0.2367535      -0.5113133      -0.5130208     \n",
       "MAP50301099:MAP50301099 -0.2367535      -0.5113133      -0.5130208     \n",
       "MAP50302680:MAP50302680 -0.2367535       1.6647973       1.6600578     \n",
       "MAP61344957:MAP61344957 -0.2367535      -0.5113133      -0.5130208     \n",
       "MAP85980779:MAP85980779 -0.2367535      -0.5113133      -0.5130208     \n",
       "MAP87264456:MAP87264456 -0.2367535      -0.5113133      -0.5130208     \n",
       "MAP89164957:MAP89164957 -0.2367535      -0.5113133      -0.5130208     \n",
       "MAP93787649:MAP93787649 -0.2367535      -0.5113133      -0.5130208     \n",
       "ROS11430815:ROS11430815 -0.2367535      -0.5113133      -0.5130208     \n",
       "ROS11697592:ROS11697592 -0.2367535      -0.5113133      -0.5130208     \n",
       "ROS15114174:ROS15114174 -0.2367535      -0.5113133      -0.5130208     \n",
       "ROS15738428:ROS15738428 -0.2367535      -0.5113133      -0.5130208     \n",
       "ROS20251553:ROS20251553 -0.2367535      -0.5113133      -0.5130208     \n",
       "ROS20275399:ROS20275399 -0.2367535      -0.5113133      -0.5130208     \n",
       "ROS20376029:ROS20376029 -0.2367535      -0.5113133      -0.5130208     \n",
       "ROS20945666:ROS20945666 -0.2367535      -0.5113133      -0.5130208     \n",
       "ROS20946257:ROS20946257 -0.2367535      -0.5113133      -0.5130208     \n",
       "ROS20998065:ROS20998065 -0.2367535      -0.5113133      -0.5130208     \n",
       "⋮                       ⋮               ⋮               ⋮              \n",
       "SM-CTEIP:SM-CTEIP       -0.2367535      -0.5113133      -0.5130208     \n",
       "SM-CTEIQ:SM-CTEIQ       -0.2367535      -0.5113133      -0.5130208     \n",
       "SM-CTEIR:SM-CTEIR       -0.2367535      -0.5113133      -0.5130208     \n",
       "SM-CTELS:SM-CTELS       -0.2367535      -0.5113133      -0.5130208     \n",
       "SM-CTELT:SM-CTELT       -0.2367535      -0.5113133      -0.5130208     \n",
       "SM-CTELU:SM-CTELU        3.7701872      -0.5113133      -0.5130208     \n",
       "SM-CTELV:SM-CTELV       -0.2367535      -0.5113133      -0.5130208     \n",
       "SM-CTELW:SM-CTELW        3.7701872      -0.5113133      -0.5130208     \n",
       "SM-CTEM2:SM-CTEM2       -0.2367535      -0.5113133      -0.5130208     \n",
       "SM-CTEM5:SM-CTEM5       -0.2367535      -0.5113133      -0.5130208     \n",
       "SM-CTEM6:SM-CTEM6       -0.2367535      -0.5113133      -0.5130208     \n",
       "SM-CTEMG:SM-CTEMG       -0.2367535      -0.5113133      -0.5130208     \n",
       "SM-CTEMJ:SM-CTEMJ       -0.2367535      -0.5113133      -0.5130208     \n",
       "SM-CTEMK:SM-CTEMK       -0.2367535      -0.5113133      -0.5130208     \n",
       "SM-CTEML:SM-CTEML       -0.2367535      -0.5113133      -0.5130208     \n",
       "SM-CTEMM:SM-CTEMM       -0.2367535      -0.5113133      -0.5130208     \n",
       "SM-CTEMO:SM-CTEMO       -0.2367535      -0.5113133      -0.5130208     \n",
       "SM-CTEMS:SM-CTEMS       -0.2367535       1.6647973       1.6600578     \n",
       "SM-CTEMU:SM-CTEMU       -0.2367535       1.6647973       1.6600578     \n",
       "SM-CTEMW:SM-CTEMW       -0.2367535      -0.5113133      -0.5130208     \n",
       "SM-CTEMX:SM-CTEMX       -0.2367535      -0.5113133      -0.5130208     \n",
       "SM-CTEMY:SM-CTEMY       -0.2367535      -0.5113133      -0.5130208     \n",
       "SM-CTEN2:SM-CTEN2       -0.2367535      -0.5113133      -0.5130208     \n",
       "SM-CTEN5:SM-CTEN5        3.7701872      -0.5113133      -0.5130208     \n",
       "SM-CTEN7:SM-CTEN7       -0.2367535      -0.5113133      -0.5130208     \n",
       "SM-CTENC:SM-CTENC       -0.2367535       1.6647973       1.6600578     \n",
       "SM-CTEND:SM-CTEND       -0.2367535       1.6647973       1.6600578     \n",
       "SM-CTENE:SM-CTENE       -0.2367535      -0.5113133      -0.5130208     \n",
       "SM-CTENF:SM-CTENF       -0.2367535       1.6647973       1.6600578     \n",
       "SM-CTENG:SM-CTENG       -0.2367535      -0.5113133      -0.5130208     \n",
       "                        7:100127777_A_C ⋯ 7:101109690_A_C 7:101109705_A_G\n",
       "MAP15387421:MAP15387421 -0.6979925      ⋯  0.4711394       0.4711394     \n",
       "MAP22868024:MAP22868024  1.1083396      ⋯  1.9608688       1.9608688     \n",
       "MAP26637867:MAP26637867  1.1083396      ⋯  1.9608688       1.9608688     \n",
       "MAP29629849:MAP29629849 -0.6979925      ⋯  1.9608688       1.9608688     \n",
       "MAP33332646:MAP33332646 -0.6979925      ⋯ -1.0185901      -1.0185901     \n",
       "MAP34726040:MAP34726040  1.1083396      ⋯  0.4711394       0.4711394     \n",
       "MAP46246604:MAP46246604  1.1083396      ⋯  0.4711394       0.4711394     \n",
       "MAP46251007:MAP46251007 -0.6979925      ⋯  0.4711394       0.4711394     \n",
       "MAP50104134:MAP50104134  1.1083396      ⋯  0.4711394       0.4711394     \n",
       "MAP50104846:MAP50104846  1.1083396      ⋯  0.4711394       0.4711394     \n",
       "MAP50106442:MAP50106442  1.1083396      ⋯ -1.0185901      -1.0185901     \n",
       "MAP50106992:MAP50106992 -0.6979925      ⋯  0.4711394       0.4711394     \n",
       "MAP50108462:MAP50108462 -0.6979925      ⋯  0.4711394       0.4711394     \n",
       "MAP50301099:MAP50301099 -0.6979925      ⋯ -1.0185901      -1.0185901     \n",
       "MAP50302680:MAP50302680  1.1083396      ⋯  1.9608688       1.9608688     \n",
       "MAP61344957:MAP61344957 -0.6979925      ⋯ -1.0185901      -1.0185901     \n",
       "MAP85980779:MAP85980779 -0.6979925      ⋯  0.4711394       0.4711394     \n",
       "MAP87264456:MAP87264456  1.1083396      ⋯ -1.0185901      -1.0185901     \n",
       "MAP89164957:MAP89164957  1.1083396      ⋯  1.9608688       1.9608688     \n",
       "MAP93787649:MAP93787649 -0.6979925      ⋯ -1.0185901      -1.0185901     \n",
       "ROS11430815:ROS11430815  1.1083396      ⋯  0.4711394       0.4711394     \n",
       "ROS11697592:ROS11697592 -0.6979925      ⋯ -1.0185901      -1.0185901     \n",
       "ROS15114174:ROS15114174 -0.6979925      ⋯  0.4711394       0.4711394     \n",
       "ROS15738428:ROS15738428 -0.6979925      ⋯  0.4711394       0.4711394     \n",
       "ROS20251553:ROS20251553 -0.6979925      ⋯  1.9608688       1.9608688     \n",
       "ROS20275399:ROS20275399 -0.6979925      ⋯ -1.0185901      -1.0185901     \n",
       "ROS20376029:ROS20376029 -0.6979925      ⋯  0.4711394       0.4711394     \n",
       "ROS20945666:ROS20945666 -0.6979925      ⋯ -1.0185901      -1.0185901     \n",
       "ROS20946257:ROS20946257  1.1083396      ⋯  0.4711394       0.4711394     \n",
       "ROS20998065:ROS20998065 -0.6979925      ⋯ -1.0185901      -1.0185901     \n",
       "⋮                       ⋮               ⋱ ⋮               ⋮              \n",
       "SM-CTEIP:SM-CTEIP       -0.6979925      ⋯ -1.0185901      -1.0185901     \n",
       "SM-CTEIQ:SM-CTEIQ        1.1083396      ⋯ -1.0185901      -1.0185901     \n",
       "SM-CTEIR:SM-CTEIR       -0.6979925      ⋯ -1.0185901      -1.0185901     \n",
       "SM-CTELS:SM-CTELS       -0.6979925      ⋯ -1.0185901      -1.0185901     \n",
       "SM-CTELT:SM-CTELT       -0.6979925      ⋯ -1.0185901      -1.0185901     \n",
       "SM-CTELU:SM-CTELU       -0.6979925      ⋯ -1.0185901      -1.0185901     \n",
       "SM-CTELV:SM-CTELV       -0.6979925      ⋯ -1.0185901      -1.0185901     \n",
       "SM-CTELW:SM-CTELW       -0.6979925      ⋯  0.4711394       0.4711394     \n",
       "SM-CTEM2:SM-CTEM2        1.1083396      ⋯  0.4711394       0.4711394     \n",
       "SM-CTEM5:SM-CTEM5       -0.6979925      ⋯ -1.0185901      -1.0185901     \n",
       "SM-CTEM6:SM-CTEM6       -0.6979925      ⋯ -1.0185901      -1.0185901     \n",
       "SM-CTEMG:SM-CTEMG       -0.6979925      ⋯ -1.0185901      -1.0185901     \n",
       "SM-CTEMJ:SM-CTEMJ       -0.6979925      ⋯  0.4711394       0.4711394     \n",
       "SM-CTEMK:SM-CTEMK       -0.6979925      ⋯  0.4711394       0.4711394     \n",
       "SM-CTEML:SM-CTEML        1.1083396      ⋯  0.4711394       0.4711394     \n",
       "SM-CTEMM:SM-CTEMM       -0.6979925      ⋯  0.4711394       0.4711394     \n",
       "SM-CTEMO:SM-CTEMO       -0.6979925      ⋯  0.4711394       0.4711394     \n",
       "SM-CTEMS:SM-CTEMS        1.1083396      ⋯  0.4711394       0.4711394     \n",
       "SM-CTEMU:SM-CTEMU        1.1083396      ⋯ -1.0185901      -1.0185901     \n",
       "SM-CTEMW:SM-CTEMW       -0.6979925      ⋯ -1.0185901      -1.0185901     \n",
       "SM-CTEMX:SM-CTEMX       -0.6979925      ⋯ -1.0185901      -1.0185901     \n",
       "SM-CTEMY:SM-CTEMY       -0.6979925      ⋯  0.4711394       0.4711394     \n",
       "SM-CTEN2:SM-CTEN2       -0.6979925      ⋯ -1.0185901      -1.0185901     \n",
       "SM-CTEN5:SM-CTEN5       -0.6979925      ⋯  1.9608688       1.9608688     \n",
       "SM-CTEN7:SM-CTEN7       -0.6979925      ⋯  0.4711394       0.4711394     \n",
       "SM-CTENC:SM-CTENC        1.1083396      ⋯  0.4711394       0.4711394     \n",
       "SM-CTEND:SM-CTEND        1.1083396      ⋯ -1.0185901      -1.0185901     \n",
       "SM-CTENE:SM-CTENE       -0.6979925      ⋯  0.4711394       0.4711394     \n",
       "SM-CTENF:SM-CTENF        1.1083396      ⋯  0.4711394       0.4711394     \n",
       "SM-CTENG:SM-CTENG        1.1083396      ⋯  0.4711394       0.4711394     \n",
       "                        7:101110975_C_T 7:101111102_A_C 7:101111182_A_G\n",
       "MAP15387421:MAP15387421  0.5701424       0.5761753      -0.4184138     \n",
       "MAP22868024:MAP22868024  2.0984644       2.1115031      -0.4184138     \n",
       "MAP26637867:MAP26637867  2.0984644       2.1115031      -0.4184138     \n",
       "MAP29629849:MAP29629849  2.0984644       2.1115031      -0.4184138     \n",
       "MAP33332646:MAP33332646 -0.9581796      -0.9591524       2.1728662     \n",
       "MAP34726040:MAP34726040  0.5701424       0.5761753      -0.4184138     \n",
       "MAP46246604:MAP46246604  0.5701424       0.5761753      -0.4184138     \n",
       "MAP46251007:MAP46251007  0.5701424       0.5761753      -0.4184138     \n",
       "MAP50104134:MAP50104134  0.5701424       0.5761753      -0.4184138     \n",
       "MAP50104846:MAP50104846  0.5701424       0.5761753      -0.4184138     \n",
       "MAP50106442:MAP50106442 -0.9581796      -0.9591524      -0.4184138     \n",
       "MAP50106992:MAP50106992  0.5701424       0.5761753       2.1728662     \n",
       "MAP50108462:MAP50108462  0.5701424       0.5761753      -0.4184138     \n",
       "MAP50301099:MAP50301099 -0.9581796      -0.9591524      -0.4184138     \n",
       "MAP50302680:MAP50302680  2.0984644       2.1115031      -0.4184138     \n",
       "MAP61344957:MAP61344957 -0.9581796      -0.9591524       2.1728662     \n",
       "MAP85980779:MAP85980779  0.5701424       0.5761753      -0.4184138     \n",
       "MAP87264456:MAP87264456 -0.9581796      -0.9591524      -0.4184138     \n",
       "MAP89164957:MAP89164957  0.5701424       0.5761753      -0.4184138     \n",
       "MAP93787649:MAP93787649 -0.9581796      -0.9591524       2.1728662     \n",
       "ROS11430815:ROS11430815  0.5701424       0.5761753       2.1728662     \n",
       "ROS11697592:ROS11697592 -0.9581796      -0.9591524      -0.4184138     \n",
       "ROS15114174:ROS15114174  0.5701424       0.5761753      -0.4184138     \n",
       "ROS15738428:ROS15738428  0.5701424       0.5761753      -0.4184138     \n",
       "ROS20251553:ROS20251553  0.5701424       0.5761753      -0.4184138     \n",
       "ROS20275399:ROS20275399 -0.9581796      -0.9591524       2.1728662     \n",
       "ROS20376029:ROS20376029  0.5701424       0.5761753      -0.4184138     \n",
       "ROS20945666:ROS20945666 -0.9581796      -0.9591524      -0.4184138     \n",
       "ROS20946257:ROS20946257  0.5701424       0.5761753      -0.4184138     \n",
       "ROS20998065:ROS20998065 -0.9581796      -0.9591524       4.7641463     \n",
       "⋮                       ⋮               ⋮               ⋮              \n",
       "SM-CTEIP:SM-CTEIP       -0.9581796      -0.9591524      -0.4184138     \n",
       "SM-CTEIQ:SM-CTEIQ       -0.9581796      -0.9591524      -0.4184138     \n",
       "SM-CTEIR:SM-CTEIR       -0.9581796      -0.9591524       4.7641463     \n",
       "SM-CTELS:SM-CTELS       -0.9581796      -0.9591524      -0.4184138     \n",
       "SM-CTELT:SM-CTELT       -0.9581796      -0.9591524      -0.4184138     \n",
       "SM-CTELU:SM-CTELU       -0.9581796      -0.9591524      -0.4184138     \n",
       "SM-CTELV:SM-CTELV       -0.9581796      -0.9591524       2.1728662     \n",
       "SM-CTELW:SM-CTELW        0.5701424       0.5761753      -0.4184138     \n",
       "SM-CTEM2:SM-CTEM2       -0.9581796      -0.9591524      -0.4184138     \n",
       "SM-CTEM5:SM-CTEM5       -0.9581796      -0.9591524       2.1728662     \n",
       "SM-CTEM6:SM-CTEM6       -0.9581796      -0.9591524       2.1728662     \n",
       "SM-CTEMG:SM-CTEMG       -0.9581796      -0.9591524       2.1728662     \n",
       "SM-CTEMJ:SM-CTEMJ        0.5701424       0.5761753      -0.4184138     \n",
       "SM-CTEMK:SM-CTEMK        0.5701424       0.5761753      -0.4184138     \n",
       "SM-CTEML:SM-CTEML        0.5701424       0.5761753      -0.4184138     \n",
       "SM-CTEMM:SM-CTEMM        0.5701424       0.5761753      -0.4184138     \n",
       "SM-CTEMO:SM-CTEMO        0.5701424       0.5761753      -0.4184138     \n",
       "SM-CTEMS:SM-CTEMS        0.5701424       0.5761753      -0.4184138     \n",
       "SM-CTEMU:SM-CTEMU       -0.9581796      -0.9591524      -0.4184138     \n",
       "SM-CTEMW:SM-CTEMW       -0.9581796      -0.9591524      -0.4184138     \n",
       "SM-CTEMX:SM-CTEMX       -0.9581796      -0.9591524       2.1728662     \n",
       "SM-CTEMY:SM-CTEMY        0.5701424       0.5761753      -0.4184138     \n",
       "SM-CTEN2:SM-CTEN2       -0.9581796      -0.9591524       2.1728662     \n",
       "SM-CTEN5:SM-CTEN5        2.0984644       2.1115031      -0.4184138     \n",
       "SM-CTEN7:SM-CTEN7        0.5701424       0.5761753      -0.4184138     \n",
       "SM-CTENC:SM-CTENC        0.5701424       0.5761753       2.1728662     \n",
       "SM-CTEND:SM-CTEND       -0.9581796      -0.9591524      -0.4184138     \n",
       "SM-CTENE:SM-CTENE        0.5701424       0.5761753       2.1728662     \n",
       "SM-CTENF:SM-CTENF       -0.9581796      -0.9591524      -0.4184138     \n",
       "SM-CTENG:SM-CTENG        0.5701424       0.5761753       2.1728662     \n",
       "                        7:101112721_A_G 7:101113348_A_G 7:101113729_C_T\n",
       "MAP15387421:MAP15387421 -0.2303661      -0.2552852       0.07999652    \n",
       "MAP22868024:MAP22868024 -0.2303661      -0.2552852       1.48856270    \n",
       "MAP26637867:MAP26637867 -0.2303661      -0.2552852       1.48856270    \n",
       "MAP29629849:MAP29629849 -0.2303661      -0.2552852       1.48856270    \n",
       "MAP33332646:MAP33332646 -0.2303661      -0.2552852       0.07999652    \n",
       "MAP34726040:MAP34726040 -0.2303661      -0.2552852       0.07999652    \n",
       "MAP46246604:MAP46246604 -0.2303661      -0.2552852       0.07999652    \n",
       "MAP46251007:MAP46251007 -0.2303661      -0.2552852       1.48856270    \n",
       "MAP50104134:MAP50104134 -0.2303661      -0.2552852       0.07999652    \n",
       "MAP50104846:MAP50104846 -0.2303661       3.9128256       0.07999652    \n",
       "MAP50106442:MAP50106442 -0.2303661      -0.2552852      -1.32856966    \n",
       "MAP50106992:MAP50106992 -0.2303661      -0.2552852       1.48856270    \n",
       "MAP50108462:MAP50108462 -0.2303661      -0.2552852       0.07999652    \n",
       "MAP50301099:MAP50301099 -0.2303661      -0.2552852       0.07999652    \n",
       "MAP50302680:MAP50302680 -0.2303661      -0.2552852       1.48856270    \n",
       "MAP61344957:MAP61344957 -0.2303661      -0.2552852       0.07999652    \n",
       "MAP85980779:MAP85980779 -0.2303661      -0.2552852       0.07999652    \n",
       "MAP87264456:MAP87264456 -0.2303661      -0.2552852      -1.32856966    \n",
       "MAP89164957:MAP89164957  3.9914451      -0.2552852       1.48856270    \n",
       "MAP93787649:MAP93787649 -0.2303661      -0.2552852       0.07999652    \n",
       "ROS11430815:ROS11430815 -0.2303661      -0.2552852       1.48856270    \n",
       "ROS11697592:ROS11697592 -0.2303661      -0.2552852      -1.32856966    \n",
       "ROS15114174:ROS15114174 -0.2303661      -0.2552852       1.48856270    \n",
       "ROS15738428:ROS15738428 -0.2303661      -0.2552852       0.07999652    \n",
       "ROS20251553:ROS20251553  3.9914451      -0.2552852       1.48856270    \n",
       "ROS20275399:ROS20275399 -0.2303661      -0.2552852       0.07999652    \n",
       "ROS20376029:ROS20376029 -0.2303661      -0.2552852       1.48856270    \n",
       "ROS20945666:ROS20945666 -0.2303661      -0.2552852      -1.32856966    \n",
       "ROS20946257:ROS20946257 -0.2303661      -0.2552852       0.07999652    \n",
       "ROS20998065:ROS20998065 -0.2303661      -0.2552852       1.48856270    \n",
       "⋮                       ⋮               ⋮               ⋮              \n",
       "SM-CTEIP:SM-CTEIP       -0.2303661      -0.2552852      -1.32856966    \n",
       "SM-CTEIQ:SM-CTEIQ       -0.2303661      -0.2552852      -1.32856966    \n",
       "SM-CTEIR:SM-CTEIR       -0.2303661      -0.2552852       1.48856270    \n",
       "SM-CTELS:SM-CTELS       -0.2303661      -0.2552852      -1.32856966    \n",
       "SM-CTELT:SM-CTELT       -0.2303661      -0.2552852      -1.32856966    \n",
       "SM-CTELU:SM-CTELU       -0.2303661      -0.2552852      -1.32856966    \n",
       "SM-CTELV:SM-CTELV       -0.2303661      -0.2552852       0.07999652    \n",
       "SM-CTELW:SM-CTELW       -0.2303661      -0.2552852       0.07999652    \n",
       "SM-CTEM2:SM-CTEM2        3.9914451      -0.2552852       0.07999652    \n",
       "SM-CTEM5:SM-CTEM5       -0.2303661      -0.2552852       0.07999652    \n",
       "SM-CTEM6:SM-CTEM6       -0.2303661      -0.2552852       0.07999652    \n",
       "SM-CTEMG:SM-CTEMG       -0.2303661      -0.2552852       0.07999652    \n",
       "SM-CTEMJ:SM-CTEMJ       -0.2303661      -0.2552852       0.07999652    \n",
       "SM-CTEMK:SM-CTEMK       -0.2303661      -0.2552852       0.07999652    \n",
       "SM-CTEML:SM-CTEML       -0.2303661      -0.2552852       0.07999652    \n",
       "SM-CTEMM:SM-CTEMM       -0.2303661      -0.2552852       0.07999652    \n",
       "SM-CTEMO:SM-CTEMO       -0.2303661      -0.2552852       0.07999652    \n",
       "SM-CTEMS:SM-CTEMS       -0.2303661      -0.2552852       0.07999652    \n",
       "SM-CTEMU:SM-CTEMU       -0.2303661      -0.2552852       0.07999652    \n",
       "SM-CTEMW:SM-CTEMW       -0.2303661      -0.2552852      -1.32856966    \n",
       "SM-CTEMX:SM-CTEMX       -0.2303661      -0.2552852       0.07999652    \n",
       "SM-CTEMY:SM-CTEMY       -0.2303661      -0.2552852       0.07999652    \n",
       "SM-CTEN2:SM-CTEN2       -0.2303661      -0.2552852       0.07999652    \n",
       "SM-CTEN5:SM-CTEN5       -0.2303661      -0.2552852       1.48856270    \n",
       "SM-CTEN7:SM-CTEN7       -0.2303661       3.9128256       0.07999652    \n",
       "SM-CTENC:SM-CTENC       -0.2303661      -0.2552852       1.48856270    \n",
       "SM-CTEND:SM-CTEND       -0.2303661      -0.2552852      -1.32856966    \n",
       "SM-CTENE:SM-CTENE       -0.2303661      -0.2552852       1.48856270    \n",
       "SM-CTENF:SM-CTENF        3.9914451      -0.2552852       0.07999652    \n",
       "SM-CTENG:SM-CTENG       -0.2303661      -0.2552852       1.48856270    \n",
       "                        7:101113835_C_T 7:101113905_C_T\n",
       "MAP15387421:MAP15387421 -0.3218029       0.5716329     \n",
       "MAP22868024:MAP22868024 -0.3218029       2.1039502     \n",
       "MAP26637867:MAP26637867 -0.3218029       2.1039502     \n",
       "MAP29629849:MAP29629849 -0.3218029       2.1039502     \n",
       "MAP33332646:MAP33332646 -0.3218029      -0.9606845     \n",
       "MAP34726040:MAP34726040 -0.3218029       0.5716329     \n",
       "MAP46246604:MAP46246604 -0.3218029       0.5716329     \n",
       "MAP46251007:MAP46251007  2.9583925       0.5716329     \n",
       "MAP50104134:MAP50104134 -0.3218029       0.5716329     \n",
       "MAP50104846:MAP50104846 -0.3218029       0.5716329     \n",
       "MAP50106442:MAP50106442 -0.3218029      -0.9606845     \n",
       "MAP50106992:MAP50106992 -0.3218029       0.5716329     \n",
       "MAP50108462:MAP50108462 -0.3218029       0.5716329     \n",
       "MAP50301099:MAP50301099  2.9583925      -0.9606845     \n",
       "MAP50302680:MAP50302680 -0.3218029       2.1039502     \n",
       "MAP61344957:MAP61344957 -0.3218029      -0.9606845     \n",
       "MAP85980779:MAP85980779 -0.3218029       0.5716329     \n",
       "MAP87264456:MAP87264456 -0.3218029      -0.9606845     \n",
       "MAP89164957:MAP89164957 -0.3218029       0.5716329     \n",
       "MAP93787649:MAP93787649 -0.3218029      -0.9606845     \n",
       "ROS11430815:ROS11430815 -0.3218029       0.5716329     \n",
       "ROS11697592:ROS11697592 -0.3218029      -0.9606845     \n",
       "ROS15114174:ROS15114174  2.9583925       0.5716329     \n",
       "ROS15738428:ROS15738428 -0.3218029       0.5716329     \n",
       "ROS20251553:ROS20251553 -0.3218029       0.5716329     \n",
       "ROS20275399:ROS20275399 -0.3218029      -0.9606845     \n",
       "ROS20376029:ROS20376029  2.9583925       0.5716329     \n",
       "ROS20945666:ROS20945666 -0.3218029      -0.9606845     \n",
       "ROS20946257:ROS20946257 -0.3218029       0.5716329     \n",
       "ROS20998065:ROS20998065 -0.3218029      -0.9606845     \n",
       "⋮                       ⋮               ⋮              \n",
       "SM-CTEIP:SM-CTEIP       -0.3218029      -0.9606845     \n",
       "SM-CTEIQ:SM-CTEIQ       -0.3218029      -0.9606845     \n",
       "SM-CTEIR:SM-CTEIR       -0.3218029      -0.9606845     \n",
       "SM-CTELS:SM-CTELS       -0.3218029      -0.9606845     \n",
       "SM-CTELT:SM-CTELT       -0.3218029      -0.9606845     \n",
       "SM-CTELU:SM-CTELU       -0.3218029      -0.9606845     \n",
       "SM-CTELV:SM-CTELV       -0.3218029      -0.9606845     \n",
       "SM-CTELW:SM-CTELW       -0.3218029       0.5716329     \n",
       "SM-CTEM2:SM-CTEM2       -0.3218029      -0.9606845     \n",
       "SM-CTEM5:SM-CTEM5       -0.3218029      -0.9606845     \n",
       "SM-CTEM6:SM-CTEM6       -0.3218029      -0.9606845     \n",
       "SM-CTEMG:SM-CTEMG       -0.3218029      -0.9606845     \n",
       "SM-CTEMJ:SM-CTEMJ       -0.3218029       0.5716329     \n",
       "SM-CTEMK:SM-CTEMK       -0.3218029       0.5716329     \n",
       "SM-CTEML:SM-CTEML       -0.3218029       0.5716329     \n",
       "SM-CTEMM:SM-CTEMM       -0.3218029       0.5716329     \n",
       "SM-CTEMO:SM-CTEMO       -0.3218029       0.5716329     \n",
       "SM-CTEMS:SM-CTEMS       -0.3218029       0.5716329     \n",
       "SM-CTEMU:SM-CTEMU        2.9583925      -0.9606845     \n",
       "SM-CTEMW:SM-CTEMW       -0.3218029      -0.9606845     \n",
       "SM-CTEMX:SM-CTEMX       -0.3218029      -0.9606845     \n",
       "SM-CTEMY:SM-CTEMY       -0.3218029       0.5716329     \n",
       "SM-CTEN2:SM-CTEN2       -0.3218029      -0.9606845     \n",
       "SM-CTEN5:SM-CTEN5       -0.3218029       2.1039502     \n",
       "SM-CTEN7:SM-CTEN7       -0.3218029       0.5716329     \n",
       "SM-CTENC:SM-CTENC       -0.3218029       0.5716329     \n",
       "SM-CTEND:SM-CTEND       -0.3218029      -0.9606845     \n",
       "SM-CTENE:SM-CTENE       -0.3218029       0.5716329     \n",
       "SM-CTENF:SM-CTENF       -0.3218029      -0.9606845     \n",
       "SM-CTENG:SM-CTENG       -0.3218029       0.5716329     "
      ]
     },
     "metadata": {},
     "output_type": "display_data"
    }
   ],
   "source": [
    "geno$bed"
   ]
  },
  {
   "cell_type": "code",
   "execution_count": 477,
   "metadata": {},
   "outputs": [
    {
     "name": "stderr",
     "output_type": "stream",
     "text": [
      "Parsed with column specification:\n",
      "cols(\n",
      "  .default = col_character()\n",
      ")\n",
      "\n",
      "See spec(...) for full column specifications.\n",
      "\n"
     ]
    }
   ],
   "source": [
    " a = read_delim(\"~/Project/Alz/Alz_AC_SNP/result/all_result.txt\",delim = \"\\t\")\n"
   ]
  },
  {
   "cell_type": "code",
   "execution_count": 478,
   "metadata": {},
   "outputs": [
    {
     "data": {
      "text/html": [
       "<table>\n",
       "<caption>A spec_tbl_df: 61 × 20</caption>\n",
       "<thead>\n",
       "\t<tr><th scope=col>PANEL</th><th scope=col>FILE</th><th scope=col>ID</th><th scope=col>CHR</th><th scope=col>P0</th><th scope=col>P1</th><th scope=col>HSQ</th><th scope=col>BEST.GWAS.ID</th><th scope=col>BEST.GWAS.Z</th><th scope=col>EQTL.ID</th><th scope=col>EQTL.R2</th><th scope=col>EQTL.Z</th><th scope=col>EQTL.GWAS.Z</th><th scope=col>NSNP</th><th scope=col>NWGT</th><th scope=col>MODEL</th><th scope=col>MODELCV.R2</th><th scope=col>MODELCV.PV</th><th scope=col>TWAS.Z</th><th scope=col>TWAS.P</th></tr>\n",
       "\t<tr><th scope=col>&lt;chr&gt;</th><th scope=col>&lt;chr&gt;</th><th scope=col>&lt;chr&gt;</th><th scope=col>&lt;chr&gt;</th><th scope=col>&lt;chr&gt;</th><th scope=col>&lt;chr&gt;</th><th scope=col>&lt;chr&gt;</th><th scope=col>&lt;chr&gt;</th><th scope=col>&lt;chr&gt;</th><th scope=col>&lt;chr&gt;</th><th scope=col>&lt;chr&gt;</th><th scope=col>&lt;chr&gt;</th><th scope=col>&lt;chr&gt;</th><th scope=col>&lt;chr&gt;</th><th scope=col>&lt;chr&gt;</th><th scope=col>&lt;chr&gt;</th><th scope=col>&lt;chr&gt;</th><th scope=col>&lt;chr&gt;</th><th scope=col>&lt;chr&gt;</th><th scope=col>&lt;chr&gt;</th></tr>\n",
       "</thead>\n",
       "<tbody>\n",
       "\t<tr><td>NA   </td><td>///home/hs3163/Project/Alz/Alz_AC_SNP/WEIGHTS/geneTpmResidualsAgeGenderAdj_rename.ENSG00000158869.wgt.RDat</td><td>ENSG00000158869</td><td>1  </td><td>161215234</td><td>161220699</td><td>0.0616</td><td>1:161155392_A_G</td><td> 6.37      </td><td>1:161156033_A_C</td><td>0.03611  </td><td>-5.53 </td><td> 6.22      </td><td>1236</td><td>1   </td><td>top1 </td><td>0.036     </td><td>0.12      </td><td>-6.22 </td><td>5.05e-10</td></tr>\n",
       "\t<tr><td>NA   </td><td>///home/hs3163/Project/Alz/Alz_AC_SNP/WEIGHTS/geneTpmResidualsAgeGenderAdj_rename.ENSG00000203710.wgt.RDat</td><td>ENSG00000203710</td><td>1  </td><td>207496147</td><td>207641765</td><td>0.0553</td><td>1:207786828_A_G</td><td>-8.88      </td><td>1:207802552_A_C</td><td>0.00562  </td><td>-4.16 </td><td>-8.57      </td><td>1168</td><td>8   </td><td>lasso</td><td>0.012     </td><td>0.2       </td><td> 7.15 </td><td>8.63e-13</td></tr>\n",
       "\t<tr><td>PANEL</td><td>FILE                                                                                                      </td><td>ID             </td><td>CHR</td><td>P0       </td><td>P1       </td><td>HSQ   </td><td>BEST.GWAS.ID   </td><td>BEST.GWAS.Z</td><td>EQTL.ID        </td><td>EQTL.R2  </td><td>EQTL.Z</td><td>EQTL.GWAS.Z</td><td>NSNP</td><td>NWGT</td><td>MODEL</td><td>MODELCV.R2</td><td>MODELCV.PV</td><td>TWAS.Z</td><td>TWAS.P  </td></tr>\n",
       "\t<tr><td>NA   </td><td>///home/hs3163/Project/Alz/Alz_AC_SNP/WEIGHTS/geneTpmResidualsAgeGenderAdj_rename.ENSG00000134463.wgt.RDat</td><td>ENSG00000134463</td><td>10 </td><td>11742366 </td><td>11764070 </td><td>0.495 </td><td>NA             </td><td>NA         </td><td>NA             </td><td>NA       </td><td>NA    </td><td>NA         </td><td>0   </td><td>0   </td><td>lasso</td><td>0.4       </td><td>5.3e-12   </td><td>NA    </td><td>NA      </td></tr>\n",
       "\t<tr><td>PANEL</td><td>FILE                                                                                                      </td><td>ID             </td><td>CHR</td><td>P0       </td><td>P1       </td><td>HSQ   </td><td>BEST.GWAS.ID   </td><td>BEST.GWAS.Z</td><td>EQTL.ID        </td><td>EQTL.R2  </td><td>EQTL.Z</td><td>EQTL.GWAS.Z</td><td>NSNP</td><td>NWGT</td><td>MODEL</td><td>MODELCV.R2</td><td>MODELCV.PV</td><td>TWAS.Z</td><td>TWAS.P  </td></tr>\n",
       "\t<tr><td>NA   </td><td>///home/hs3163/Project/Alz/Alz_AC_SNP/WEIGHTS/geneTpmResidualsAgeGenderAdj_rename.ENSG00000110079.wgt.RDat</td><td>ENSG00000110079</td><td>11 </td><td>60185702 </td><td>60317944 </td><td>0.0655</td><td>11:59958380_A_C</td><td>-8.01      </td><td>11:60097853_C_T</td><td>0.036    </td><td>5.56  </td><td>4.55       </td><td>1364</td><td>1   </td><td>top1 </td><td>0.036     </td><td>0.091     </td><td>4.55  </td><td>5.29e-06</td></tr>\n",
       "\t<tr><td>PANEL</td><td>FILE                                                                                                      </td><td>ID             </td><td>CHR</td><td>P0       </td><td>P1       </td><td>HSQ   </td><td>BEST.GWAS.ID   </td><td>BEST.GWAS.Z</td><td>EQTL.ID        </td><td>EQTL.R2  </td><td>EQTL.Z</td><td>EQTL.GWAS.Z</td><td>NSNP</td><td>NWGT</td><td>MODEL</td><td>MODELCV.R2</td><td>MODELCV.PV</td><td>TWAS.Z</td><td>TWAS.P  </td></tr>\n",
       "\t<tr><td>NA   </td><td>///home/hs3163/Project/Alz/Alz_AC_SNP/WEIGHTS/geneTpmResidualsAgeGenderAdj_rename.ENSG00000140090.wgt.RDat</td><td>ENSG00000140090</td><td>14 </td><td>92322581 </td><td>92501481 </td><td>0.0992</td><td>14:92938855_A_G</td><td>-6.42      </td><td>14:92795364_A_G</td><td>0.00496  </td><td>4.63  </td><td>-0.84      </td><td>1721</td><td>1721</td><td>bslmm</td><td>0.049     </td><td>0.014     </td><td>-0.859</td><td>0.39    </td></tr>\n",
       "\t<tr><td>PANEL</td><td>FILE                                                                                                      </td><td>ID             </td><td>CHR</td><td>P0       </td><td>P1       </td><td>HSQ   </td><td>BEST.GWAS.ID   </td><td>BEST.GWAS.Z</td><td>EQTL.ID        </td><td>EQTL.R2  </td><td>EQTL.Z</td><td>EQTL.GWAS.Z</td><td>NSNP</td><td>NWGT</td><td>MODEL</td><td>MODELCV.R2</td><td>MODELCV.PV</td><td>TWAS.Z</td><td>TWAS.P  </td></tr>\n",
       "\t<tr><td>NA   </td><td>///home/hs3163/Project/Alz/Alz_AC_SNP/WEIGHTS/geneTpmResidualsAgeGenderAdj_rename.ENSG00000103642.wgt.RDat</td><td>ENSG00000103642</td><td>15 </td><td>63121833 </td><td>63142061 </td><td>0.0679</td><td>15:63517347_A_G</td><td> 5.21      </td><td>15:63408320_A_G</td><td> 0.100775</td><td>8.18  </td><td> 2.65      </td><td>1323</td><td> 1  </td><td>top1 </td><td>0.1       </td><td>0.0035    </td><td> 2.65 </td><td>0.00817 </td></tr>\n",
       "\t<tr><td>NA   </td><td>///home/hs3163/Project/Alz/Alz_AC_SNP/WEIGHTS/geneTpmResidualsAgeGenderAdj_rename.ENSG00000128923.wgt.RDat</td><td>ENSG00000128923</td><td>15 </td><td>58771192 </td><td>58861900 </td><td>0.0470</td><td>15:59022615_C_T</td><td>-6.08      </td><td>15:59063144_A_C</td><td>-0.000478</td><td>4.39  </td><td>-3.19      </td><td>1393</td><td>10  </td><td>enet </td><td>0.0092    </td><td>0.26      </td><td>-1.62 </td><td>0.10446 </td></tr>\n",
       "\t<tr><td>NA   </td><td>///home/hs3163/Project/Alz/Alz_AC_SNP/WEIGHTS/geneTpmResidualsAgeGenderAdj_rename.ENSG00000140416.wgt.RDat</td><td>ENSG00000140416</td><td>15 </td><td>63042632 </td><td>63071915 </td><td>0.0516</td><td>15:63517347_A_G</td><td> 5.21      </td><td>15:63370358_C_T</td><td> 0.030811</td><td>5.36  </td><td>-1.95      </td><td>1362</td><td> 1  </td><td>top1 </td><td>0.031     </td><td>0.093     </td><td>-1.95 </td><td>0.05103 </td></tr>\n",
       "\t<tr><td>PANEL</td><td>FILE                                                                                                      </td><td>ID             </td><td>CHR</td><td>P0       </td><td>P1       </td><td>HSQ   </td><td>BEST.GWAS.ID   </td><td>BEST.GWAS.Z</td><td>EQTL.ID        </td><td>EQTL.R2  </td><td>EQTL.Z</td><td>EQTL.GWAS.Z</td><td>NSNP</td><td>NWGT</td><td>MODEL</td><td>MODELCV.R2</td><td>MODELCV.PV</td><td>TWAS.Z</td><td>TWAS.P  </td></tr>\n",
       "\t<tr><td>NA   </td><td>///home/hs3163/Project/Alz/Alz_AC_SNP/WEIGHTS/geneTpmResidualsAgeGenderAdj_rename.ENSG00000103510.wgt.RDat</td><td>ENSG00000103510</td><td>16 </td><td>31114489 </td><td>31131393 </td><td>0.0822</td><td>16:31133100_A_G</td><td>-5.5       </td><td>16:31149142_A_G</td><td>0.0818   </td><td> 7.79 </td><td>-4.57      </td><td>638 </td><td>  1 </td><td>top1 </td><td>0.082     </td><td>0.0078    </td><td>-4.57 </td><td>4.79e-06</td></tr>\n",
       "\t<tr><td>NA   </td><td>///home/hs3163/Project/Alz/Alz_AC_SNP/WEIGHTS/geneTpmResidualsAgeGenderAdj_rename.ENSG00000178226.wgt.RDat</td><td>ENSG00000178226</td><td>16 </td><td>31138926 </td><td>31150083 </td><td>0.1212</td><td>16:31133100_A_G</td><td>-5.5       </td><td>16:31154358_A_G</td><td>0.1225   </td><td> 9.08 </td><td>-5.31      </td><td>637 </td><td>  1 </td><td>top1 </td><td>0.12      </td><td>0.00061   </td><td>-5.31 </td><td>1.09e-07</td></tr>\n",
       "\t<tr><td>NA   </td><td>///home/hs3163/Project/Alz/Alz_AC_SNP/WEIGHTS/geneTpmResidualsAgeGenderAdj_rename.ENSG00000196118.wgt.RDat</td><td>ENSG00000196118</td><td>16 </td><td>30757423 </td><td>30762221 </td><td>0.1033</td><td>16:31133100_A_G</td><td>-5.5       </td><td>16:30746822_A_C</td><td>0.1305   </td><td>-9.66 </td><td>-4.11      </td><td>466 </td><td>466 </td><td>blup </td><td>0.13      </td><td>0.0012    </td><td> 3.69 </td><td>2.28e-04</td></tr>\n",
       "\t<tr><td>PANEL</td><td>FILE                                                                                                      </td><td>ID             </td><td>CHR</td><td>P0       </td><td>P1       </td><td>HSQ   </td><td>BEST.GWAS.ID   </td><td>BEST.GWAS.Z</td><td>EQTL.ID        </td><td>EQTL.R2  </td><td>EQTL.Z</td><td>EQTL.GWAS.Z</td><td>NSNP</td><td>NWGT</td><td>MODEL</td><td>MODELCV.R2</td><td>MODELCV.PV</td><td>TWAS.Z</td><td>TWAS.P  </td></tr>\n",
       "\t<tr><td>NA   </td><td>///home/hs3163/Project/Alz/Alz_AC_SNP/WEIGHTS/geneTpmResidualsAgeGenderAdj_rename.ENSG00000108509.wgt.RDat</td><td>ENSG00000108509</td><td>17 </td><td>4967992  </td><td>4987675  </td><td>0.0473</td><td>17:5138980_A_G </td><td>6.15       </td><td>17:4830121_A_G </td><td>0.0357   </td><td>  5.24</td><td>-1.170     </td><td>1528</td><td> 1  </td><td>top1 </td><td>0.036     </td><td>0.053     </td><td>-1.170</td><td>0.24196 </td></tr>\n",
       "\t<tr><td>NA   </td><td>///home/hs3163/Project/Alz/Alz_AC_SNP/WEIGHTS/geneTpmResidualsAgeGenderAdj_rename.ENSG00000108523.wgt.RDat</td><td>ENSG00000108523</td><td>17 </td><td>4940008  </td><td>4945222  </td><td>0.1439</td><td>17:5138980_A_G </td><td>6.15       </td><td>17:4849635_A_G </td><td>0.1909   </td><td>-11.05</td><td> 0.636     </td><td>1483</td><td> 1  </td><td>top1 </td><td>0.19      </td><td>2.4e-05   </td><td>-0.636</td><td>0.52509 </td></tr>\n",
       "\t<tr><td>NA   </td><td>///home/hs3163/Project/Alz/Alz_AC_SNP/WEIGHTS/geneTpmResidualsAgeGenderAdj_rename.ENSG00000108559.wgt.RDat</td><td>ENSG00000108559</td><td>17 </td><td>5360963  </td><td>5419676  </td><td>0.0853</td><td>17:5138980_A_G </td><td>6.15       </td><td>17:5288018_A_G </td><td>0.0870   </td><td> -8.65</td><td> 2.666     </td><td>1717</td><td> 1  </td><td>top1 </td><td>0.087     </td><td>0.016     </td><td>-2.666</td><td>0.00768 </td></tr>\n",
       "\t<tr><td>NA   </td><td>///home/hs3163/Project/Alz/Alz_AC_SNP/WEIGHTS/geneTpmResidualsAgeGenderAdj_rename.ENSG00000129204.wgt.RDat</td><td>ENSG00000129204</td><td>17 </td><td>5116032  </td><td>5175034  </td><td>0.6203</td><td>17:5138980_A_G </td><td>6.15       </td><td>17:5154016_A_G </td><td>0.2992   </td><td> 14.18</td><td>-1.960     </td><td>1601</td><td>91  </td><td>enet </td><td>0.35      </td><td>2.7e-09   </td><td>-2.066</td><td>0.03884 </td></tr>\n",
       "\t<tr><td>NA   </td><td>///home/hs3163/Project/Alz/Alz_AC_SNP/WEIGHTS/geneTpmResidualsAgeGenderAdj_rename.ENSG00000161929.wgt.RDat</td><td>ENSG00000161929</td><td>17 </td><td>5208920  </td><td>5234860  </td><td>0.0926</td><td>17:5138980_A_G </td><td>6.15       </td><td>17:5125249_A_G </td><td>0.0730   </td><td> -7.54</td><td>-1.425     </td><td>1602</td><td>13  </td><td>enet </td><td>0.067     </td><td>0.017     </td><td> 2.258</td><td>0.02397 </td></tr>\n",
       "\t<tr><td>NA   </td><td>///home/hs3163/Project/Alz/Alz_AC_SNP/WEIGHTS/geneTpmResidualsAgeGenderAdj_rename.ENSG00000167840.wgt.RDat</td><td>ENSG00000167840</td><td>17 </td><td>5105541  </td><td>5123116  </td><td>0.2440</td><td>17:5138980_A_G </td><td>6.15       </td><td>17:5154016_A_G </td><td>0.1409   </td><td>  9.96</td><td>-1.960     </td><td>1542</td><td>23  </td><td>enet </td><td>0.16      </td><td>0.00023   </td><td>-3.112</td><td>0.00186 </td></tr>\n",
       "\t<tr><td>NA   </td><td>///home/hs3163/Project/Alz/Alz_AC_SNP/WEIGHTS/geneTpmResidualsAgeGenderAdj_rename.ENSG00000196388.wgt.RDat</td><td>ENSG00000196388</td><td>17 </td><td>4988130  </td><td>4997610  </td><td>0.0757</td><td>17:5138980_A_G </td><td>6.15       </td><td>17:4939084_A_G </td><td>0.0170   </td><td> -5.65</td><td>-2.100     </td><td>1496</td><td>37  </td><td>enet </td><td>0.036     </td><td>0.18      </td><td> 1.049</td><td>0.29404 </td></tr>\n",
       "\t<tr><td>NA   </td><td>///home/hs3163/Project/Alz/Alz_AC_SNP/WEIGHTS/geneTpmResidualsAgeGenderAdj_rename.ENSG00000264538.wgt.RDat</td><td>ENSG00000264538</td><td>17 </td><td>30709299 </td><td>30790908 </td><td>0.3714</td><td>17:30903310_C_T</td><td>3.45       </td><td>17:30289176_C_T</td><td>0.2168   </td><td>-12.04</td><td>-1.219     </td><td> 896</td><td> 1  </td><td>top1 </td><td>0.22      </td><td>6.5e-06   </td><td> 1.219</td><td>0.22280 </td></tr>\n",
       "\t<tr><td>PANEL</td><td>FILE                                                                                                      </td><td>ID             </td><td>CHR</td><td>P0       </td><td>P1       </td><td>HSQ   </td><td>BEST.GWAS.ID   </td><td>BEST.GWAS.Z</td><td>EQTL.ID        </td><td>EQTL.R2  </td><td>EQTL.Z</td><td>EQTL.GWAS.Z</td><td>NSNP</td><td>NWGT</td><td>MODEL</td><td>MODELCV.R2</td><td>MODELCV.PV</td><td>TWAS.Z</td><td>TWAS.P  </td></tr>\n",
       "\t<tr><td>NA   </td><td>///home/hs3163/Project/Alz/Alz_AC_SNP/WEIGHTS/geneTpmResidualsAgeGenderAdj_rename.ENSG00000064666.wgt.RDat</td><td>ENSG00000064666</td><td>19 </td><td>1026586  </td><td>1039068  </td><td>0.1671</td><td>19:1050874_A_G </td><td>-6.2       </td><td>19:1021725_A_C </td><td>0.0281   </td><td> -6.16</td><td> 1.55      </td><td>1870</td><td>   8</td><td>lasso</td><td>0.089     </td><td>0.0049    </td><td>-1.23 </td><td>2.21e-01</td></tr>\n",
       "\t<tr><td>NA   </td><td>///home/hs3163/Project/Alz/Alz_AC_SNP/WEIGHTS/geneTpmResidualsAgeGenderAdj_rename.ENSG00000065268.wgt.RDat</td><td>ENSG00000065268</td><td>19 </td><td>984332   </td><td>998438   </td><td>0.2658</td><td>NA             </td><td>  NA       </td><td>NA             </td><td>    NA   </td><td>    NA</td><td>   NA      </td><td>   0</td><td>   0</td><td>lasso</td><td>0.27      </td><td>7.6e-08   </td><td>   NA </td><td>      NA</td></tr>\n",
       "\t<tr><td>NA   </td><td>///home/hs3163/Project/Alz/Alz_AC_SNP/WEIGHTS/geneTpmResidualsAgeGenderAdj_rename.ENSG00000073008.wgt.RDat</td><td>ENSG00000073008</td><td>19 </td><td>44643798 </td><td>44666162 </td><td>0.1509</td><td>19:45165912_A_C</td><td>10.5       </td><td>19:45146402_C_T</td><td>0.0900   </td><td>  8.23</td><td>-7.51      </td><td>1412</td><td>  25</td><td>enet </td><td>0.096     </td><td>0.0057    </td><td>-8.19 </td><td>2.57e-16</td></tr>\n",
       "\t<tr><td>NA   </td><td>///home/hs3163/Project/Alz/Alz_AC_SNP/WEIGHTS/geneTpmResidualsAgeGenderAdj_rename.ENSG00000099817.wgt.RDat</td><td>ENSG00000099817</td><td>19 </td><td>1086574  </td><td>1095380  </td><td>0.2398</td><td>19:1050874_A_G </td><td>-6.2       </td><td>19:1090803_A_G </td><td>0.1534   </td><td>-10.20</td><td>-3.61      </td><td>1746</td><td>1746</td><td>bslmm</td><td>0.16      </td><td>2e-04     </td><td> 3.23 </td><td>1.26e-03</td></tr>\n",
       "\t<tr><td>⋮</td><td>⋮</td><td>⋮</td><td>⋮</td><td>⋮</td><td>⋮</td><td>⋮</td><td>⋮</td><td>⋮</td><td>⋮</td><td>⋮</td><td>⋮</td><td>⋮</td><td>⋮</td><td>⋮</td><td>⋮</td><td>⋮</td><td>⋮</td><td>⋮</td><td>⋮</td></tr>\n",
       "\t<tr><td>NA   </td><td>///home/hs3163/Project/Alz/Alz_AC_SNP/WEIGHTS/geneTpmResidualsAgeGenderAdj_rename.ENSG00000179846.wgt.RDat</td><td>ENSG00000179846</td><td>19 </td><td>45149750 </td><td>45160815 </td><td>0.0452</td><td>19:45411941_C_T</td><td>52.5       </td><td>19:45587406_C_T</td><td>0.0240  </td><td> -5.43</td><td>-5.29      </td><td>1381</td><td>   9</td><td>lasso</td><td>0.024     </td><td>0.15      </td><td> 4.10  </td><td>4.16e-05</td></tr>\n",
       "\t<tr><td>NA   </td><td>///home/hs3163/Project/Alz/Alz_AC_SNP/WEIGHTS/geneTpmResidualsAgeGenderAdj_rename.ENSG00000189114.wgt.RDat</td><td>ENSG00000189114</td><td>19 </td><td>45178784 </td><td>45216933 </td><td>0.0482</td><td>19:45411941_C_T</td><td>52.5       </td><td>19:45594842_C_T</td><td>0.0126  </td><td> -4.79</td><td>-4.09      </td><td>1445</td><td>  16</td><td>enet </td><td>0.034     </td><td>0.15      </td><td> 2.07  </td><td>3.87e-02</td></tr>\n",
       "\t<tr><td>PANEL</td><td>FILE                                                                                                      </td><td>ID             </td><td>CHR</td><td>P0       </td><td>P1       </td><td>HSQ   </td><td>BEST.GWAS.ID   </td><td>BEST.GWAS.Z</td><td>EQTL.ID        </td><td>EQTL.R2 </td><td>EQTL.Z</td><td>EQTL.GWAS.Z</td><td>NSNP</td><td>NWGT</td><td>MODEL</td><td>MODELCV.R2</td><td>MODELCV.PV</td><td>TWAS.Z </td><td>TWAS.P  </td></tr>\n",
       "\t<tr><td>NA   </td><td>///home/hs3163/Project/Alz/Alz_AC_SNP/WEIGHTS/geneTpmResidualsAgeGenderAdj_rename.ENSG00000095970.wgt.RDat</td><td>ENSG00000095970</td><td>6  </td><td>41158506 </td><td>41163186 </td><td>0.0615</td><td>6:41155000_A_G </td><td>-4.35      </td><td>6:41162891_C_T </td><td>-0.00329</td><td>  3.79</td><td>-3.797     </td><td>1352</td><td>1352</td><td>bslmm</td><td>0.0085    </td><td>0.18      </td><td>-1.9348</td><td>5.30e-02</td></tr>\n",
       "\t<tr><td>NA   </td><td>///home/hs3163/Project/Alz/Alz_AC_SNP/WEIGHTS/geneTpmResidualsAgeGenderAdj_rename.ENSG00000179344.wgt.RDat</td><td>ENSG00000179344</td><td>6  </td><td>32659467 </td><td>32668383 </td><td>0.5322</td><td>6:32583813_A_G </td><td>-6.49      </td><td>6:32629582_C_T </td><td> 0.43078</td><td>-17.33</td><td>-1.117     </td><td>7687</td><td>  21</td><td>lasso</td><td>0.61      </td><td>1.1e-21   </td><td> 1.9281</td><td>5.38e-02</td></tr>\n",
       "\t<tr><td>NA   </td><td>///home/hs3163/Project/Alz/Alz_AC_SNP/WEIGHTS/geneTpmResidualsAgeGenderAdj_rename.ENSG00000196126.wgt.RDat</td><td>ENSG00000196126</td><td>6  </td><td>32578769 </td><td>32589848 </td><td>0.3190</td><td>6:32583813_A_G </td><td>-6.49      </td><td>6:32568595_C_T </td><td> 0.43933</td><td>-17.50</td><td>-2.387     </td><td>7456</td><td>  19</td><td>lasso</td><td>0.53      </td><td>1.1e-19   </td><td> 3.2460</td><td>1.17e-03</td></tr>\n",
       "\t<tr><td>NA   </td><td>///home/hs3163/Project/Alz/Alz_AC_SNP/WEIGHTS/geneTpmResidualsAgeGenderAdj_rename.ENSG00000196735.wgt.RDat</td><td>ENSG00000196735</td><td>6  </td><td>32628179 </td><td>32647062 </td><td>0.2216</td><td>6:32583813_A_G </td><td>-6.49      </td><td>6:32614847_A_G </td><td> 0.28314</td><td>-14.20</td><td>-1.225     </td><td>7694</td><td>7694</td><td>bslmm</td><td>0.31      </td><td>2.5e-08   </td><td> 1.3855</td><td>1.66e-01</td></tr>\n",
       "\t<tr><td>NA   </td><td>///home/hs3163/Project/Alz/Alz_AC_SNP/WEIGHTS/geneTpmResidualsAgeGenderAdj_rename.ENSG00000198087.wgt.RDat</td><td>ENSG00000198087</td><td>6  </td><td>47477789 </td><td>47627263 </td><td>0.0380</td><td>6:47432637_C_T </td><td>-6.36      </td><td>6:47432637_C_T </td><td> 0.00976</td><td> -4.77</td><td>-6.362     </td><td>1515</td><td>   7</td><td>lasso</td><td>0.025     </td><td>0.11      </td><td> 5.2810</td><td>1.28e-07</td></tr>\n",
       "\t<tr><td>NA   </td><td>///home/hs3163/Project/Alz/Alz_AC_SNP/WEIGHTS/geneTpmResidualsAgeGenderAdj_rename.ENSG00000198502.wgt.RDat</td><td>ENSG00000198502</td><td>6  </td><td>32517353 </td><td>32530287 </td><td>0.6253</td><td>6:32583813_A_G </td><td>-6.49      </td><td>6:32566577_C_T </td><td> 0.60001</td><td>-20.10</td><td>-2.946     </td><td>7047</td><td>  25</td><td>lasso</td><td>0.74      </td><td>8.8e-36   </td><td> 2.0913</td><td>3.65e-02</td></tr>\n",
       "\t<tr><td>NA   </td><td>///home/hs3163/Project/Alz/Alz_AC_SNP/WEIGHTS/geneTpmResidualsAgeGenderAdj_rename.ENSG00000204267.wgt.RDat</td><td>ENSG00000204267</td><td>6  </td><td>32821833 </td><td>32838770 </td><td>0.1124</td><td>6:32583813_A_G </td><td>-6.49      </td><td>6:32796346_C_T </td><td> 0.02260</td><td> -5.48</td><td> 3.350     </td><td>7337</td><td>  35</td><td>enet </td><td>0.024     </td><td>0.15      </td><td>-1.2812</td><td>2.00e-01</td></tr>\n",
       "\t<tr><td>NA   </td><td>///home/hs3163/Project/Alz/Alz_AC_SNP/WEIGHTS/geneTpmResidualsAgeGenderAdj_rename.ENSG00000204301.wgt.RDat</td><td>ENSG00000204301</td><td>6  </td><td>32194843 </td><td>32224067 </td><td>0.0384</td><td>6:32583813_A_G </td><td>-6.49      </td><td>6:32191041_A_G </td><td> 0.05719</td><td> -6.28</td><td>-1.244     </td><td>6191</td><td>   1</td><td>top1 </td><td>0.057     </td><td>0.021     </td><td> 1.2441</td><td>2.13e-01</td></tr>\n",
       "\t<tr><td>NA   </td><td>///home/hs3163/Project/Alz/Alz_AC_SNP/WEIGHTS/geneTpmResidualsAgeGenderAdj_rename.ENSG00000204516.wgt.RDat</td><td>ENSG00000204516</td><td>6  </td><td>31494881 </td><td>31511124 </td><td>0.0845</td><td>6:31111606_A_G </td><td>-4.34      </td><td>6:31463926_C_T </td><td> 0.03717</td><td> -5.88</td><td> 0.434     </td><td>4954</td><td>4954</td><td>bslmm</td><td>0.044     </td><td>0.044     </td><td>-1.0500</td><td>2.94e-01</td></tr>\n",
       "\t<tr><td>NA   </td><td>///home/hs3163/Project/Alz/Alz_AC_SNP/WEIGHTS/geneTpmResidualsAgeGenderAdj_rename.ENSG00000223501.wgt.RDat</td><td>ENSG00000223501</td><td>6  </td><td>33250272 </td><td>33272047 </td><td>0.0478</td><td>6:32787570_C_T </td><td> 4.23      </td><td>6:33238892_C_T </td><td> 0.00762</td><td> -4.79</td><td>-0.660     </td><td>2731</td><td>2731</td><td>blup </td><td>0.029     </td><td>0.13      </td><td> 0.0403</td><td>9.68e-01</td></tr>\n",
       "\t<tr><td>NA   </td><td>///home/hs3163/Project/Alz/Alz_AC_SNP/WEIGHTS/geneTpmResidualsAgeGenderAdj_rename.ENSG00000224389.wgt.RDat</td><td>ENSG00000224389</td><td>6  </td><td>32014795 </td><td>32035418 </td><td>0.2108</td><td>6:32395036_C_T </td><td>-6.20      </td><td>6:32005304_A_G </td><td> 0.01102</td><td> -5.51</td><td>-0.238     </td><td>2833</td><td>  55</td><td>enet </td><td>0.1       </td><td>0.0032    </td><td> 0.8172</td><td>4.14e-01</td></tr>\n",
       "\t<tr><td>NA   </td><td>///home/hs3163/Project/Alz/Alz_AC_SNP/WEIGHTS/geneTpmResidualsAgeGenderAdj_rename.ENSG00000240065.wgt.RDat</td><td>ENSG00000240065</td><td>6  </td><td>32844136 </td><td>32859851 </td><td>0.0537</td><td>6:32583813_A_G </td><td>-6.49      </td><td>6:32823257_C_T </td><td> 0.06190</td><td>  6.57</td><td>-0.505     </td><td>7281</td><td>   1</td><td>top1 </td><td>0.062     </td><td>0.023     </td><td>-0.5045</td><td>6.14e-01</td></tr>\n",
       "\t<tr><td>NA   </td><td>///home/hs3163/Project/Alz/Alz_AC_SNP/WEIGHTS/geneTpmResidualsAgeGenderAdj_rename.ENSG00000244731.wgt.RDat</td><td>ENSG00000244731</td><td>6  </td><td>31982057 </td><td>32002681 </td><td>0.2422</td><td>6:32395036_C_T </td><td>-6.20      </td><td>6:31870326_A_G </td><td> 0.20567</td><td>-11.99</td><td>-0.823     </td><td>2508</td><td>2508</td><td>blup </td><td>0.23      </td><td>2.8e-07   </td><td> 1.1125</td><td>2.66e-01</td></tr>\n",
       "\t<tr><td>PANEL</td><td>FILE                                                                                                      </td><td>ID             </td><td>CHR</td><td>P0       </td><td>P1       </td><td>HSQ   </td><td>BEST.GWAS.ID   </td><td>BEST.GWAS.Z</td><td>EQTL.ID        </td><td>EQTL.R2 </td><td>EQTL.Z</td><td>EQTL.GWAS.Z</td><td>NSNP</td><td>NWGT</td><td>MODEL</td><td>MODELCV.R2</td><td>MODELCV.PV</td><td>TWAS.Z </td><td>TWAS.P  </td></tr>\n",
       "\t<tr><td>NA   </td><td>///home/hs3163/Project/Alz/Alz_AC_SNP/WEIGHTS/geneTpmResidualsAgeGenderAdj_rename.ENSG00000106261.wgt.RDat</td><td>ENSG00000106261</td><td>7  </td><td>100015572</td><td>100041689</td><td>0.0376</td><td>7:99971834_A_G </td><td> 7.95      </td><td>7:99949714_A_C </td><td>0.01425 </td><td> -4.61</td><td> 1.643     </td><td> 841</td><td>   5</td><td>lasso</td><td>0.015     </td><td>0.19      </td><td>-2.546 </td><td>0.01089 </td></tr>\n",
       "\t<tr><td>NA   </td><td>///home/hs3163/Project/Alz/Alz_AC_SNP/WEIGHTS/geneTpmResidualsAgeGenderAdj_rename.ENSG00000121716.wgt.RDat</td><td>ENSG00000121716</td><td>7  </td><td>100352176</td><td>100367733</td><td>0.1708</td><td>7:99971834_A_G </td><td> 7.95      </td><td>7:99934192_C_T </td><td>0.26189 </td><td> 13.63</td><td> 1.265     </td><td> 882</td><td>  33</td><td>enet </td><td>0.27      </td><td>4e-08     </td><td> 1.006 </td><td>0.31429 </td></tr>\n",
       "\t<tr><td>NA   </td><td>///home/hs3163/Project/Alz/Alz_AC_SNP/WEIGHTS/geneTpmResidualsAgeGenderAdj_rename.ENSG00000146830.wgt.RDat</td><td>ENSG00000146830</td><td>7  </td><td>100679507</td><td>100694037</td><td>0.0440</td><td>7:100179857_A_G</td><td> 5.03      </td><td>7:100299028_C_T</td><td>0.01049 </td><td> -4.95</td><td> 2.312     </td><td>1405</td><td>   5</td><td>lasso</td><td>0.012     </td><td>0.25      </td><td>-2.382 </td><td>0.01721 </td></tr>\n",
       "\t<tr><td>NA   </td><td>///home/hs3163/Project/Alz/Alz_AC_SNP/WEIGHTS/geneTpmResidualsAgeGenderAdj_rename.ENSG00000146834.wgt.RDat</td><td>ENSG00000146834</td><td>7  </td><td>100428790</td><td>100434118</td><td>0.1338</td><td>7:99971834_A_G </td><td> 7.95      </td><td>7:100025564_C_T</td><td>0.10468 </td><td> -8.39</td><td> 0.572     </td><td> 983</td><td>   1</td><td>top1 </td><td>0.1       </td><td>0.0018    </td><td>-0.572 </td><td>0.56721 </td></tr>\n",
       "\t<tr><td>NA   </td><td>///home/hs3163/Project/Alz/Alz_AC_SNP/WEIGHTS/geneTpmResidualsAgeGenderAdj_rename.ENSG00000166529.wgt.RDat</td><td>ENSG00000166529</td><td>7  </td><td>100049774</td><td>100065040</td><td>0.1216</td><td>7:99971834_A_G </td><td> 7.95      </td><td>7:99648267_A_G </td><td>0.09410 </td><td> -8.86</td><td>-2.871     </td><td> 807</td><td>   6</td><td>lasso</td><td>0.13      </td><td>0.00022   </td><td> 1.947 </td><td>0.05149 </td></tr>\n",
       "\t<tr><td>NA   </td><td>///home/hs3163/Project/Alz/Alz_AC_SNP/WEIGHTS/geneTpmResidualsAgeGenderAdj_rename.ENSG00000174469.wgt.RDat</td><td>ENSG00000174469</td><td>7  </td><td>146116002</td><td>148420998</td><td>0.0814</td><td>7:146254508_A_G</td><td>-3.62      </td><td>7:148095464_A_G</td><td>0.00156 </td><td>  4.16</td><td> 0.465     </td><td>4753</td><td>4753</td><td>blup </td><td>0.025     </td><td>0.14      </td><td> 0.278 </td><td>0.78139 </td></tr>\n",
       "\t<tr><td>NA   </td><td>///home/hs3163/Project/Alz/Alz_AC_SNP/WEIGHTS/geneTpmResidualsAgeGenderAdj_rename.ENSG00000188186.wgt.RDat</td><td>ENSG00000188186</td><td>7  </td><td>100148907</td><td>100155944</td><td>0.0843</td><td>7:99971834_A_G </td><td> 7.95      </td><td>7:99735181_A_G </td><td>0.04781 </td><td> -6.70</td><td>-2.490     </td><td> 771</td><td> 769</td><td>blup </td><td>0.043     </td><td>0.037     </td><td> 2.869 </td><td>0.00412 </td></tr>\n",
       "\t<tr><td>NA   </td><td>///home/hs3163/Project/Alz/Alz_AC_SNP/WEIGHTS/geneTpmResidualsAgeGenderAdj_rename.ENSG00000213214.wgt.RDat</td><td>ENSG00000213214</td><td>7  </td><td>144186083</td><td>144195833</td><td>0.2227</td><td>7:144667647_C_T</td><td> 3.23      </td><td>7:143872036_A_G</td><td>0.28703 </td><td>-14.35</td><td>-0.414     </td><td>1021</td><td>1021</td><td>bslmm</td><td>0.31      </td><td>2.9e-07   </td><td> 0.307 </td><td>0.75859 </td></tr>\n",
       "\t<tr><td>NA   </td><td>///home/hs3163/Project/Alz/Alz_AC_SNP/WEIGHTS/geneTpmResidualsAgeGenderAdj_rename.ENSG00000214309.wgt.RDat</td><td>ENSG00000214309</td><td>7  </td><td>100126785</td><td>100128495</td><td>0.1777</td><td>7:99971834_A_G </td><td> 7.95      </td><td>7:99646088_A_C </td><td>0.15092 </td><td> 10.29</td><td> 1.379     </td><td> 762</td><td> 760</td><td>bslmm</td><td>0.16      </td><td>8e-05     </td><td> 1.958 </td><td>0.05022 </td></tr>\n",
       "\t<tr><td>NA   </td><td>///home/hs3163/Project/Alz/Alz_AC_SNP/WEIGHTS/geneTpmResidualsAgeGenderAdj_rename.ENSG00000243896.wgt.RDat</td><td>ENSG00000243896</td><td>7  </td><td>144257663</td><td>144264792</td><td>0.1458</td><td>7:144667647_C_T</td><td> 3.23      </td><td>7:143952443_C_T</td><td>0.11541 </td><td>  8.79</td><td> 0.491     </td><td>1007</td><td>1007</td><td>bslmm</td><td>0.15      </td><td>0.00011   </td><td> 0.776 </td><td>0.43794 </td></tr>\n",
       "\t<tr><td>PANEL</td><td>FILE                                                                                                      </td><td>ID             </td><td>CHR</td><td>P0       </td><td>P1       </td><td>HSQ   </td><td>BEST.GWAS.ID   </td><td>BEST.GWAS.Z</td><td>EQTL.ID        </td><td>EQTL.R2 </td><td>EQTL.Z</td><td>EQTL.GWAS.Z</td><td>NSNP</td><td>NWGT</td><td>MODEL</td><td>MODELCV.R2</td><td>MODELCV.PV</td><td>TWAS.Z </td><td>TWAS.P  </td></tr>\n",
       "\t<tr><td>NA   </td><td>///home/hs3163/Project/Alz/Alz_AC_SNP/WEIGHTS/geneTpmResidualsAgeGenderAdj_rename.ENSG00000120915.wgt.RDat</td><td>ENSG00000120915</td><td>8  </td><td>27490781 </td><td>27545564 </td><td>0.0531</td><td>8:27464929_A_G </td><td>9.05       </td><td>8:27390192_A_G </td><td>0.0372  </td><td> 5.56 </td><td>1.82       </td><td>1471</td><td>2   </td><td>lasso</td><td>0.036     </td><td>0.078     </td><td> 1.57  </td><td>0.1164  </td></tr>\n",
       "\t<tr><td>NA   </td><td>///home/hs3163/Project/Alz/Alz_AC_SNP/WEIGHTS/geneTpmResidualsAgeGenderAdj_rename.ENSG00000147419.wgt.RDat</td><td>ENSG00000147419</td><td>8  </td><td>27733316 </td><td>27772653 </td><td>0.0958</td><td>8:27464929_A_G </td><td>9.05       </td><td>8:27625974_A_C </td><td>0.1156  </td><td>-8.87 </td><td>2.20       </td><td>1469</td><td>1   </td><td>top1 </td><td>0.12      </td><td>0.0012    </td><td>-2.20  </td><td>0.0275  </td></tr>\n",
       "</tbody>\n",
       "</table>\n"
      ],
      "text/latex": [
       "A spec\\_tbl\\_df: 61 × 20\n",
       "\\begin{tabular}{llllllllllllllllllll}\n",
       " PANEL & FILE & ID & CHR & P0 & P1 & HSQ & BEST.GWAS.ID & BEST.GWAS.Z & EQTL.ID & EQTL.R2 & EQTL.Z & EQTL.GWAS.Z & NSNP & NWGT & MODEL & MODELCV.R2 & MODELCV.PV & TWAS.Z & TWAS.P\\\\\n",
       " <chr> & <chr> & <chr> & <chr> & <chr> & <chr> & <chr> & <chr> & <chr> & <chr> & <chr> & <chr> & <chr> & <chr> & <chr> & <chr> & <chr> & <chr> & <chr> & <chr>\\\\\n",
       "\\hline\n",
       "\t NA    & ///home/hs3163/Project/Alz/Alz\\_AC\\_SNP/WEIGHTS/geneTpmResidualsAgeGenderAdj\\_rename.ENSG00000158869.wgt.RDat & ENSG00000158869 & 1   & 161215234 & 161220699 & 0.0616 & 1:161155392\\_A\\_G &  6.37       & 1:161156033\\_A\\_C & 0.03611   & -5.53  &  6.22       & 1236 & 1    & top1  & 0.036      & 0.12       & -6.22  & 5.05e-10\\\\\n",
       "\t NA    & ///home/hs3163/Project/Alz/Alz\\_AC\\_SNP/WEIGHTS/geneTpmResidualsAgeGenderAdj\\_rename.ENSG00000203710.wgt.RDat & ENSG00000203710 & 1   & 207496147 & 207641765 & 0.0553 & 1:207786828\\_A\\_G & -8.88       & 1:207802552\\_A\\_C & 0.00562   & -4.16  & -8.57       & 1168 & 8    & lasso & 0.012      & 0.2        &  7.15  & 8.63e-13\\\\\n",
       "\t PANEL & FILE                                                                                                       & ID              & CHR & P0        & P1        & HSQ    & BEST.GWAS.ID    & BEST.GWAS.Z & EQTL.ID         & EQTL.R2   & EQTL.Z & EQTL.GWAS.Z & NSNP & NWGT & MODEL & MODELCV.R2 & MODELCV.PV & TWAS.Z & TWAS.P  \\\\\n",
       "\t NA    & ///home/hs3163/Project/Alz/Alz\\_AC\\_SNP/WEIGHTS/geneTpmResidualsAgeGenderAdj\\_rename.ENSG00000134463.wgt.RDat & ENSG00000134463 & 10  & 11742366  & 11764070  & 0.495  & NA              & NA          & NA              & NA        & NA     & NA          & 0    & 0    & lasso & 0.4        & 5.3e-12    & NA     & NA      \\\\\n",
       "\t PANEL & FILE                                                                                                       & ID              & CHR & P0        & P1        & HSQ    & BEST.GWAS.ID    & BEST.GWAS.Z & EQTL.ID         & EQTL.R2   & EQTL.Z & EQTL.GWAS.Z & NSNP & NWGT & MODEL & MODELCV.R2 & MODELCV.PV & TWAS.Z & TWAS.P  \\\\\n",
       "\t NA    & ///home/hs3163/Project/Alz/Alz\\_AC\\_SNP/WEIGHTS/geneTpmResidualsAgeGenderAdj\\_rename.ENSG00000110079.wgt.RDat & ENSG00000110079 & 11  & 60185702  & 60317944  & 0.0655 & 11:59958380\\_A\\_C & -8.01       & 11:60097853\\_C\\_T & 0.036     & 5.56   & 4.55        & 1364 & 1    & top1  & 0.036      & 0.091      & 4.55   & 5.29e-06\\\\\n",
       "\t PANEL & FILE                                                                                                       & ID              & CHR & P0        & P1        & HSQ    & BEST.GWAS.ID    & BEST.GWAS.Z & EQTL.ID         & EQTL.R2   & EQTL.Z & EQTL.GWAS.Z & NSNP & NWGT & MODEL & MODELCV.R2 & MODELCV.PV & TWAS.Z & TWAS.P  \\\\\n",
       "\t NA    & ///home/hs3163/Project/Alz/Alz\\_AC\\_SNP/WEIGHTS/geneTpmResidualsAgeGenderAdj\\_rename.ENSG00000140090.wgt.RDat & ENSG00000140090 & 14  & 92322581  & 92501481  & 0.0992 & 14:92938855\\_A\\_G & -6.42       & 14:92795364\\_A\\_G & 0.00496   & 4.63   & -0.84       & 1721 & 1721 & bslmm & 0.049      & 0.014      & -0.859 & 0.39    \\\\\n",
       "\t PANEL & FILE                                                                                                       & ID              & CHR & P0        & P1        & HSQ    & BEST.GWAS.ID    & BEST.GWAS.Z & EQTL.ID         & EQTL.R2   & EQTL.Z & EQTL.GWAS.Z & NSNP & NWGT & MODEL & MODELCV.R2 & MODELCV.PV & TWAS.Z & TWAS.P  \\\\\n",
       "\t NA    & ///home/hs3163/Project/Alz/Alz\\_AC\\_SNP/WEIGHTS/geneTpmResidualsAgeGenderAdj\\_rename.ENSG00000103642.wgt.RDat & ENSG00000103642 & 15  & 63121833  & 63142061  & 0.0679 & 15:63517347\\_A\\_G &  5.21       & 15:63408320\\_A\\_G &  0.100775 & 8.18   &  2.65       & 1323 &  1   & top1  & 0.1        & 0.0035     &  2.65  & 0.00817 \\\\\n",
       "\t NA    & ///home/hs3163/Project/Alz/Alz\\_AC\\_SNP/WEIGHTS/geneTpmResidualsAgeGenderAdj\\_rename.ENSG00000128923.wgt.RDat & ENSG00000128923 & 15  & 58771192  & 58861900  & 0.0470 & 15:59022615\\_C\\_T & -6.08       & 15:59063144\\_A\\_C & -0.000478 & 4.39   & -3.19       & 1393 & 10   & enet  & 0.0092     & 0.26       & -1.62  & 0.10446 \\\\\n",
       "\t NA    & ///home/hs3163/Project/Alz/Alz\\_AC\\_SNP/WEIGHTS/geneTpmResidualsAgeGenderAdj\\_rename.ENSG00000140416.wgt.RDat & ENSG00000140416 & 15  & 63042632  & 63071915  & 0.0516 & 15:63517347\\_A\\_G &  5.21       & 15:63370358\\_C\\_T &  0.030811 & 5.36   & -1.95       & 1362 &  1   & top1  & 0.031      & 0.093      & -1.95  & 0.05103 \\\\\n",
       "\t PANEL & FILE                                                                                                       & ID              & CHR & P0        & P1        & HSQ    & BEST.GWAS.ID    & BEST.GWAS.Z & EQTL.ID         & EQTL.R2   & EQTL.Z & EQTL.GWAS.Z & NSNP & NWGT & MODEL & MODELCV.R2 & MODELCV.PV & TWAS.Z & TWAS.P  \\\\\n",
       "\t NA    & ///home/hs3163/Project/Alz/Alz\\_AC\\_SNP/WEIGHTS/geneTpmResidualsAgeGenderAdj\\_rename.ENSG00000103510.wgt.RDat & ENSG00000103510 & 16  & 31114489  & 31131393  & 0.0822 & 16:31133100\\_A\\_G & -5.5        & 16:31149142\\_A\\_G & 0.0818    &  7.79  & -4.57       & 638  &   1  & top1  & 0.082      & 0.0078     & -4.57  & 4.79e-06\\\\\n",
       "\t NA    & ///home/hs3163/Project/Alz/Alz\\_AC\\_SNP/WEIGHTS/geneTpmResidualsAgeGenderAdj\\_rename.ENSG00000178226.wgt.RDat & ENSG00000178226 & 16  & 31138926  & 31150083  & 0.1212 & 16:31133100\\_A\\_G & -5.5        & 16:31154358\\_A\\_G & 0.1225    &  9.08  & -5.31       & 637  &   1  & top1  & 0.12       & 0.00061    & -5.31  & 1.09e-07\\\\\n",
       "\t NA    & ///home/hs3163/Project/Alz/Alz\\_AC\\_SNP/WEIGHTS/geneTpmResidualsAgeGenderAdj\\_rename.ENSG00000196118.wgt.RDat & ENSG00000196118 & 16  & 30757423  & 30762221  & 0.1033 & 16:31133100\\_A\\_G & -5.5        & 16:30746822\\_A\\_C & 0.1305    & -9.66  & -4.11       & 466  & 466  & blup  & 0.13       & 0.0012     &  3.69  & 2.28e-04\\\\\n",
       "\t PANEL & FILE                                                                                                       & ID              & CHR & P0        & P1        & HSQ    & BEST.GWAS.ID    & BEST.GWAS.Z & EQTL.ID         & EQTL.R2   & EQTL.Z & EQTL.GWAS.Z & NSNP & NWGT & MODEL & MODELCV.R2 & MODELCV.PV & TWAS.Z & TWAS.P  \\\\\n",
       "\t NA    & ///home/hs3163/Project/Alz/Alz\\_AC\\_SNP/WEIGHTS/geneTpmResidualsAgeGenderAdj\\_rename.ENSG00000108509.wgt.RDat & ENSG00000108509 & 17  & 4967992   & 4987675   & 0.0473 & 17:5138980\\_A\\_G  & 6.15        & 17:4830121\\_A\\_G  & 0.0357    &   5.24 & -1.170      & 1528 &  1   & top1  & 0.036      & 0.053      & -1.170 & 0.24196 \\\\\n",
       "\t NA    & ///home/hs3163/Project/Alz/Alz\\_AC\\_SNP/WEIGHTS/geneTpmResidualsAgeGenderAdj\\_rename.ENSG00000108523.wgt.RDat & ENSG00000108523 & 17  & 4940008   & 4945222   & 0.1439 & 17:5138980\\_A\\_G  & 6.15        & 17:4849635\\_A\\_G  & 0.1909    & -11.05 &  0.636      & 1483 &  1   & top1  & 0.19       & 2.4e-05    & -0.636 & 0.52509 \\\\\n",
       "\t NA    & ///home/hs3163/Project/Alz/Alz\\_AC\\_SNP/WEIGHTS/geneTpmResidualsAgeGenderAdj\\_rename.ENSG00000108559.wgt.RDat & ENSG00000108559 & 17  & 5360963   & 5419676   & 0.0853 & 17:5138980\\_A\\_G  & 6.15        & 17:5288018\\_A\\_G  & 0.0870    &  -8.65 &  2.666      & 1717 &  1   & top1  & 0.087      & 0.016      & -2.666 & 0.00768 \\\\\n",
       "\t NA    & ///home/hs3163/Project/Alz/Alz\\_AC\\_SNP/WEIGHTS/geneTpmResidualsAgeGenderAdj\\_rename.ENSG00000129204.wgt.RDat & ENSG00000129204 & 17  & 5116032   & 5175034   & 0.6203 & 17:5138980\\_A\\_G  & 6.15        & 17:5154016\\_A\\_G  & 0.2992    &  14.18 & -1.960      & 1601 & 91   & enet  & 0.35       & 2.7e-09    & -2.066 & 0.03884 \\\\\n",
       "\t NA    & ///home/hs3163/Project/Alz/Alz\\_AC\\_SNP/WEIGHTS/geneTpmResidualsAgeGenderAdj\\_rename.ENSG00000161929.wgt.RDat & ENSG00000161929 & 17  & 5208920   & 5234860   & 0.0926 & 17:5138980\\_A\\_G  & 6.15        & 17:5125249\\_A\\_G  & 0.0730    &  -7.54 & -1.425      & 1602 & 13   & enet  & 0.067      & 0.017      &  2.258 & 0.02397 \\\\\n",
       "\t NA    & ///home/hs3163/Project/Alz/Alz\\_AC\\_SNP/WEIGHTS/geneTpmResidualsAgeGenderAdj\\_rename.ENSG00000167840.wgt.RDat & ENSG00000167840 & 17  & 5105541   & 5123116   & 0.2440 & 17:5138980\\_A\\_G  & 6.15        & 17:5154016\\_A\\_G  & 0.1409    &   9.96 & -1.960      & 1542 & 23   & enet  & 0.16       & 0.00023    & -3.112 & 0.00186 \\\\\n",
       "\t NA    & ///home/hs3163/Project/Alz/Alz\\_AC\\_SNP/WEIGHTS/geneTpmResidualsAgeGenderAdj\\_rename.ENSG00000196388.wgt.RDat & ENSG00000196388 & 17  & 4988130   & 4997610   & 0.0757 & 17:5138980\\_A\\_G  & 6.15        & 17:4939084\\_A\\_G  & 0.0170    &  -5.65 & -2.100      & 1496 & 37   & enet  & 0.036      & 0.18       &  1.049 & 0.29404 \\\\\n",
       "\t NA    & ///home/hs3163/Project/Alz/Alz\\_AC\\_SNP/WEIGHTS/geneTpmResidualsAgeGenderAdj\\_rename.ENSG00000264538.wgt.RDat & ENSG00000264538 & 17  & 30709299  & 30790908  & 0.3714 & 17:30903310\\_C\\_T & 3.45        & 17:30289176\\_C\\_T & 0.2168    & -12.04 & -1.219      &  896 &  1   & top1  & 0.22       & 6.5e-06    &  1.219 & 0.22280 \\\\\n",
       "\t PANEL & FILE                                                                                                       & ID              & CHR & P0        & P1        & HSQ    & BEST.GWAS.ID    & BEST.GWAS.Z & EQTL.ID         & EQTL.R2   & EQTL.Z & EQTL.GWAS.Z & NSNP & NWGT & MODEL & MODELCV.R2 & MODELCV.PV & TWAS.Z & TWAS.P  \\\\\n",
       "\t NA    & ///home/hs3163/Project/Alz/Alz\\_AC\\_SNP/WEIGHTS/geneTpmResidualsAgeGenderAdj\\_rename.ENSG00000064666.wgt.RDat & ENSG00000064666 & 19  & 1026586   & 1039068   & 0.1671 & 19:1050874\\_A\\_G  & -6.2        & 19:1021725\\_A\\_C  & 0.0281    &  -6.16 &  1.55       & 1870 &    8 & lasso & 0.089      & 0.0049     & -1.23  & 2.21e-01\\\\\n",
       "\t NA    & ///home/hs3163/Project/Alz/Alz\\_AC\\_SNP/WEIGHTS/geneTpmResidualsAgeGenderAdj\\_rename.ENSG00000065268.wgt.RDat & ENSG00000065268 & 19  & 984332    & 998438    & 0.2658 & NA              &   NA        & NA              &     NA    &     NA &    NA       &    0 &    0 & lasso & 0.27       & 7.6e-08    &    NA  &       NA\\\\\n",
       "\t NA    & ///home/hs3163/Project/Alz/Alz\\_AC\\_SNP/WEIGHTS/geneTpmResidualsAgeGenderAdj\\_rename.ENSG00000073008.wgt.RDat & ENSG00000073008 & 19  & 44643798  & 44666162  & 0.1509 & 19:45165912\\_A\\_C & 10.5        & 19:45146402\\_C\\_T & 0.0900    &   8.23 & -7.51       & 1412 &   25 & enet  & 0.096      & 0.0057     & -8.19  & 2.57e-16\\\\\n",
       "\t NA    & ///home/hs3163/Project/Alz/Alz\\_AC\\_SNP/WEIGHTS/geneTpmResidualsAgeGenderAdj\\_rename.ENSG00000099817.wgt.RDat & ENSG00000099817 & 19  & 1086574   & 1095380   & 0.2398 & 19:1050874\\_A\\_G  & -6.2        & 19:1090803\\_A\\_G  & 0.1534    & -10.20 & -3.61       & 1746 & 1746 & bslmm & 0.16       & 2e-04      &  3.23  & 1.26e-03\\\\\n",
       "\t ⋮ & ⋮ & ⋮ & ⋮ & ⋮ & ⋮ & ⋮ & ⋮ & ⋮ & ⋮ & ⋮ & ⋮ & ⋮ & ⋮ & ⋮ & ⋮ & ⋮ & ⋮ & ⋮ & ⋮\\\\\n",
       "\t NA    & ///home/hs3163/Project/Alz/Alz\\_AC\\_SNP/WEIGHTS/geneTpmResidualsAgeGenderAdj\\_rename.ENSG00000179846.wgt.RDat & ENSG00000179846 & 19  & 45149750  & 45160815  & 0.0452 & 19:45411941\\_C\\_T & 52.5        & 19:45587406\\_C\\_T & 0.0240   &  -5.43 & -5.29       & 1381 &    9 & lasso & 0.024      & 0.15       &  4.10   & 4.16e-05\\\\\n",
       "\t NA    & ///home/hs3163/Project/Alz/Alz\\_AC\\_SNP/WEIGHTS/geneTpmResidualsAgeGenderAdj\\_rename.ENSG00000189114.wgt.RDat & ENSG00000189114 & 19  & 45178784  & 45216933  & 0.0482 & 19:45411941\\_C\\_T & 52.5        & 19:45594842\\_C\\_T & 0.0126   &  -4.79 & -4.09       & 1445 &   16 & enet  & 0.034      & 0.15       &  2.07   & 3.87e-02\\\\\n",
       "\t PANEL & FILE                                                                                                       & ID              & CHR & P0        & P1        & HSQ    & BEST.GWAS.ID    & BEST.GWAS.Z & EQTL.ID         & EQTL.R2  & EQTL.Z & EQTL.GWAS.Z & NSNP & NWGT & MODEL & MODELCV.R2 & MODELCV.PV & TWAS.Z  & TWAS.P  \\\\\n",
       "\t NA    & ///home/hs3163/Project/Alz/Alz\\_AC\\_SNP/WEIGHTS/geneTpmResidualsAgeGenderAdj\\_rename.ENSG00000095970.wgt.RDat & ENSG00000095970 & 6   & 41158506  & 41163186  & 0.0615 & 6:41155000\\_A\\_G  & -4.35       & 6:41162891\\_C\\_T  & -0.00329 &   3.79 & -3.797      & 1352 & 1352 & bslmm & 0.0085     & 0.18       & -1.9348 & 5.30e-02\\\\\n",
       "\t NA    & ///home/hs3163/Project/Alz/Alz\\_AC\\_SNP/WEIGHTS/geneTpmResidualsAgeGenderAdj\\_rename.ENSG00000179344.wgt.RDat & ENSG00000179344 & 6   & 32659467  & 32668383  & 0.5322 & 6:32583813\\_A\\_G  & -6.49       & 6:32629582\\_C\\_T  &  0.43078 & -17.33 & -1.117      & 7687 &   21 & lasso & 0.61       & 1.1e-21    &  1.9281 & 5.38e-02\\\\\n",
       "\t NA    & ///home/hs3163/Project/Alz/Alz\\_AC\\_SNP/WEIGHTS/geneTpmResidualsAgeGenderAdj\\_rename.ENSG00000196126.wgt.RDat & ENSG00000196126 & 6   & 32578769  & 32589848  & 0.3190 & 6:32583813\\_A\\_G  & -6.49       & 6:32568595\\_C\\_T  &  0.43933 & -17.50 & -2.387      & 7456 &   19 & lasso & 0.53       & 1.1e-19    &  3.2460 & 1.17e-03\\\\\n",
       "\t NA    & ///home/hs3163/Project/Alz/Alz\\_AC\\_SNP/WEIGHTS/geneTpmResidualsAgeGenderAdj\\_rename.ENSG00000196735.wgt.RDat & ENSG00000196735 & 6   & 32628179  & 32647062  & 0.2216 & 6:32583813\\_A\\_G  & -6.49       & 6:32614847\\_A\\_G  &  0.28314 & -14.20 & -1.225      & 7694 & 7694 & bslmm & 0.31       & 2.5e-08    &  1.3855 & 1.66e-01\\\\\n",
       "\t NA    & ///home/hs3163/Project/Alz/Alz\\_AC\\_SNP/WEIGHTS/geneTpmResidualsAgeGenderAdj\\_rename.ENSG00000198087.wgt.RDat & ENSG00000198087 & 6   & 47477789  & 47627263  & 0.0380 & 6:47432637\\_C\\_T  & -6.36       & 6:47432637\\_C\\_T  &  0.00976 &  -4.77 & -6.362      & 1515 &    7 & lasso & 0.025      & 0.11       &  5.2810 & 1.28e-07\\\\\n",
       "\t NA    & ///home/hs3163/Project/Alz/Alz\\_AC\\_SNP/WEIGHTS/geneTpmResidualsAgeGenderAdj\\_rename.ENSG00000198502.wgt.RDat & ENSG00000198502 & 6   & 32517353  & 32530287  & 0.6253 & 6:32583813\\_A\\_G  & -6.49       & 6:32566577\\_C\\_T  &  0.60001 & -20.10 & -2.946      & 7047 &   25 & lasso & 0.74       & 8.8e-36    &  2.0913 & 3.65e-02\\\\\n",
       "\t NA    & ///home/hs3163/Project/Alz/Alz\\_AC\\_SNP/WEIGHTS/geneTpmResidualsAgeGenderAdj\\_rename.ENSG00000204267.wgt.RDat & ENSG00000204267 & 6   & 32821833  & 32838770  & 0.1124 & 6:32583813\\_A\\_G  & -6.49       & 6:32796346\\_C\\_T  &  0.02260 &  -5.48 &  3.350      & 7337 &   35 & enet  & 0.024      & 0.15       & -1.2812 & 2.00e-01\\\\\n",
       "\t NA    & ///home/hs3163/Project/Alz/Alz\\_AC\\_SNP/WEIGHTS/geneTpmResidualsAgeGenderAdj\\_rename.ENSG00000204301.wgt.RDat & ENSG00000204301 & 6   & 32194843  & 32224067  & 0.0384 & 6:32583813\\_A\\_G  & -6.49       & 6:32191041\\_A\\_G  &  0.05719 &  -6.28 & -1.244      & 6191 &    1 & top1  & 0.057      & 0.021      &  1.2441 & 2.13e-01\\\\\n",
       "\t NA    & ///home/hs3163/Project/Alz/Alz\\_AC\\_SNP/WEIGHTS/geneTpmResidualsAgeGenderAdj\\_rename.ENSG00000204516.wgt.RDat & ENSG00000204516 & 6   & 31494881  & 31511124  & 0.0845 & 6:31111606\\_A\\_G  & -4.34       & 6:31463926\\_C\\_T  &  0.03717 &  -5.88 &  0.434      & 4954 & 4954 & bslmm & 0.044      & 0.044      & -1.0500 & 2.94e-01\\\\\n",
       "\t NA    & ///home/hs3163/Project/Alz/Alz\\_AC\\_SNP/WEIGHTS/geneTpmResidualsAgeGenderAdj\\_rename.ENSG00000223501.wgt.RDat & ENSG00000223501 & 6   & 33250272  & 33272047  & 0.0478 & 6:32787570\\_C\\_T  &  4.23       & 6:33238892\\_C\\_T  &  0.00762 &  -4.79 & -0.660      & 2731 & 2731 & blup  & 0.029      & 0.13       &  0.0403 & 9.68e-01\\\\\n",
       "\t NA    & ///home/hs3163/Project/Alz/Alz\\_AC\\_SNP/WEIGHTS/geneTpmResidualsAgeGenderAdj\\_rename.ENSG00000224389.wgt.RDat & ENSG00000224389 & 6   & 32014795  & 32035418  & 0.2108 & 6:32395036\\_C\\_T  & -6.20       & 6:32005304\\_A\\_G  &  0.01102 &  -5.51 & -0.238      & 2833 &   55 & enet  & 0.1        & 0.0032     &  0.8172 & 4.14e-01\\\\\n",
       "\t NA    & ///home/hs3163/Project/Alz/Alz\\_AC\\_SNP/WEIGHTS/geneTpmResidualsAgeGenderAdj\\_rename.ENSG00000240065.wgt.RDat & ENSG00000240065 & 6   & 32844136  & 32859851  & 0.0537 & 6:32583813\\_A\\_G  & -6.49       & 6:32823257\\_C\\_T  &  0.06190 &   6.57 & -0.505      & 7281 &    1 & top1  & 0.062      & 0.023      & -0.5045 & 6.14e-01\\\\\n",
       "\t NA    & ///home/hs3163/Project/Alz/Alz\\_AC\\_SNP/WEIGHTS/geneTpmResidualsAgeGenderAdj\\_rename.ENSG00000244731.wgt.RDat & ENSG00000244731 & 6   & 31982057  & 32002681  & 0.2422 & 6:32395036\\_C\\_T  & -6.20       & 6:31870326\\_A\\_G  &  0.20567 & -11.99 & -0.823      & 2508 & 2508 & blup  & 0.23       & 2.8e-07    &  1.1125 & 2.66e-01\\\\\n",
       "\t PANEL & FILE                                                                                                       & ID              & CHR & P0        & P1        & HSQ    & BEST.GWAS.ID    & BEST.GWAS.Z & EQTL.ID         & EQTL.R2  & EQTL.Z & EQTL.GWAS.Z & NSNP & NWGT & MODEL & MODELCV.R2 & MODELCV.PV & TWAS.Z  & TWAS.P  \\\\\n",
       "\t NA    & ///home/hs3163/Project/Alz/Alz\\_AC\\_SNP/WEIGHTS/geneTpmResidualsAgeGenderAdj\\_rename.ENSG00000106261.wgt.RDat & ENSG00000106261 & 7   & 100015572 & 100041689 & 0.0376 & 7:99971834\\_A\\_G  &  7.95       & 7:99949714\\_A\\_C  & 0.01425  &  -4.61 &  1.643      &  841 &    5 & lasso & 0.015      & 0.19       & -2.546  & 0.01089 \\\\\n",
       "\t NA    & ///home/hs3163/Project/Alz/Alz\\_AC\\_SNP/WEIGHTS/geneTpmResidualsAgeGenderAdj\\_rename.ENSG00000121716.wgt.RDat & ENSG00000121716 & 7   & 100352176 & 100367733 & 0.1708 & 7:99971834\\_A\\_G  &  7.95       & 7:99934192\\_C\\_T  & 0.26189  &  13.63 &  1.265      &  882 &   33 & enet  & 0.27       & 4e-08      &  1.006  & 0.31429 \\\\\n",
       "\t NA    & ///home/hs3163/Project/Alz/Alz\\_AC\\_SNP/WEIGHTS/geneTpmResidualsAgeGenderAdj\\_rename.ENSG00000146830.wgt.RDat & ENSG00000146830 & 7   & 100679507 & 100694037 & 0.0440 & 7:100179857\\_A\\_G &  5.03       & 7:100299028\\_C\\_T & 0.01049  &  -4.95 &  2.312      & 1405 &    5 & lasso & 0.012      & 0.25       & -2.382  & 0.01721 \\\\\n",
       "\t NA    & ///home/hs3163/Project/Alz/Alz\\_AC\\_SNP/WEIGHTS/geneTpmResidualsAgeGenderAdj\\_rename.ENSG00000146834.wgt.RDat & ENSG00000146834 & 7   & 100428790 & 100434118 & 0.1338 & 7:99971834\\_A\\_G  &  7.95       & 7:100025564\\_C\\_T & 0.10468  &  -8.39 &  0.572      &  983 &    1 & top1  & 0.1        & 0.0018     & -0.572  & 0.56721 \\\\\n",
       "\t NA    & ///home/hs3163/Project/Alz/Alz\\_AC\\_SNP/WEIGHTS/geneTpmResidualsAgeGenderAdj\\_rename.ENSG00000166529.wgt.RDat & ENSG00000166529 & 7   & 100049774 & 100065040 & 0.1216 & 7:99971834\\_A\\_G  &  7.95       & 7:99648267\\_A\\_G  & 0.09410  &  -8.86 & -2.871      &  807 &    6 & lasso & 0.13       & 0.00022    &  1.947  & 0.05149 \\\\\n",
       "\t NA    & ///home/hs3163/Project/Alz/Alz\\_AC\\_SNP/WEIGHTS/geneTpmResidualsAgeGenderAdj\\_rename.ENSG00000174469.wgt.RDat & ENSG00000174469 & 7   & 146116002 & 148420998 & 0.0814 & 7:146254508\\_A\\_G & -3.62       & 7:148095464\\_A\\_G & 0.00156  &   4.16 &  0.465      & 4753 & 4753 & blup  & 0.025      & 0.14       &  0.278  & 0.78139 \\\\\n",
       "\t NA    & ///home/hs3163/Project/Alz/Alz\\_AC\\_SNP/WEIGHTS/geneTpmResidualsAgeGenderAdj\\_rename.ENSG00000188186.wgt.RDat & ENSG00000188186 & 7   & 100148907 & 100155944 & 0.0843 & 7:99971834\\_A\\_G  &  7.95       & 7:99735181\\_A\\_G  & 0.04781  &  -6.70 & -2.490      &  771 &  769 & blup  & 0.043      & 0.037      &  2.869  & 0.00412 \\\\\n",
       "\t NA    & ///home/hs3163/Project/Alz/Alz\\_AC\\_SNP/WEIGHTS/geneTpmResidualsAgeGenderAdj\\_rename.ENSG00000213214.wgt.RDat & ENSG00000213214 & 7   & 144186083 & 144195833 & 0.2227 & 7:144667647\\_C\\_T &  3.23       & 7:143872036\\_A\\_G & 0.28703  & -14.35 & -0.414      & 1021 & 1021 & bslmm & 0.31       & 2.9e-07    &  0.307  & 0.75859 \\\\\n",
       "\t NA    & ///home/hs3163/Project/Alz/Alz\\_AC\\_SNP/WEIGHTS/geneTpmResidualsAgeGenderAdj\\_rename.ENSG00000214309.wgt.RDat & ENSG00000214309 & 7   & 100126785 & 100128495 & 0.1777 & 7:99971834\\_A\\_G  &  7.95       & 7:99646088\\_A\\_C  & 0.15092  &  10.29 &  1.379      &  762 &  760 & bslmm & 0.16       & 8e-05      &  1.958  & 0.05022 \\\\\n",
       "\t NA    & ///home/hs3163/Project/Alz/Alz\\_AC\\_SNP/WEIGHTS/geneTpmResidualsAgeGenderAdj\\_rename.ENSG00000243896.wgt.RDat & ENSG00000243896 & 7   & 144257663 & 144264792 & 0.1458 & 7:144667647\\_C\\_T &  3.23       & 7:143952443\\_C\\_T & 0.11541  &   8.79 &  0.491      & 1007 & 1007 & bslmm & 0.15       & 0.00011    &  0.776  & 0.43794 \\\\\n",
       "\t PANEL & FILE                                                                                                       & ID              & CHR & P0        & P1        & HSQ    & BEST.GWAS.ID    & BEST.GWAS.Z & EQTL.ID         & EQTL.R2  & EQTL.Z & EQTL.GWAS.Z & NSNP & NWGT & MODEL & MODELCV.R2 & MODELCV.PV & TWAS.Z  & TWAS.P  \\\\\n",
       "\t NA    & ///home/hs3163/Project/Alz/Alz\\_AC\\_SNP/WEIGHTS/geneTpmResidualsAgeGenderAdj\\_rename.ENSG00000120915.wgt.RDat & ENSG00000120915 & 8   & 27490781  & 27545564  & 0.0531 & 8:27464929\\_A\\_G  & 9.05        & 8:27390192\\_A\\_G  & 0.0372   &  5.56  & 1.82        & 1471 & 2    & lasso & 0.036      & 0.078      &  1.57   & 0.1164  \\\\\n",
       "\t NA    & ///home/hs3163/Project/Alz/Alz\\_AC\\_SNP/WEIGHTS/geneTpmResidualsAgeGenderAdj\\_rename.ENSG00000147419.wgt.RDat & ENSG00000147419 & 8   & 27733316  & 27772653  & 0.0958 & 8:27464929\\_A\\_G  & 9.05        & 8:27625974\\_A\\_C  & 0.1156   & -8.87  & 2.20        & 1469 & 1    & top1  & 0.12       & 0.0012     & -2.20   & 0.0275  \\\\\n",
       "\\end{tabular}\n"
      ],
      "text/markdown": [
       "\n",
       "A spec_tbl_df: 61 × 20\n",
       "\n",
       "| PANEL &lt;chr&gt; | FILE &lt;chr&gt; | ID &lt;chr&gt; | CHR &lt;chr&gt; | P0 &lt;chr&gt; | P1 &lt;chr&gt; | HSQ &lt;chr&gt; | BEST.GWAS.ID &lt;chr&gt; | BEST.GWAS.Z &lt;chr&gt; | EQTL.ID &lt;chr&gt; | EQTL.R2 &lt;chr&gt; | EQTL.Z &lt;chr&gt; | EQTL.GWAS.Z &lt;chr&gt; | NSNP &lt;chr&gt; | NWGT &lt;chr&gt; | MODEL &lt;chr&gt; | MODELCV.R2 &lt;chr&gt; | MODELCV.PV &lt;chr&gt; | TWAS.Z &lt;chr&gt; | TWAS.P &lt;chr&gt; |\n",
       "|---|---|---|---|---|---|---|---|---|---|---|---|---|---|---|---|---|---|---|---|\n",
       "| NA    | ///home/hs3163/Project/Alz/Alz_AC_SNP/WEIGHTS/geneTpmResidualsAgeGenderAdj_rename.ENSG00000158869.wgt.RDat | ENSG00000158869 | 1   | 161215234 | 161220699 | 0.0616 | 1:161155392_A_G |  6.37       | 1:161156033_A_C | 0.03611   | -5.53  |  6.22       | 1236 | 1    | top1  | 0.036      | 0.12       | -6.22  | 5.05e-10 |\n",
       "| NA    | ///home/hs3163/Project/Alz/Alz_AC_SNP/WEIGHTS/geneTpmResidualsAgeGenderAdj_rename.ENSG00000203710.wgt.RDat | ENSG00000203710 | 1   | 207496147 | 207641765 | 0.0553 | 1:207786828_A_G | -8.88       | 1:207802552_A_C | 0.00562   | -4.16  | -8.57       | 1168 | 8    | lasso | 0.012      | 0.2        |  7.15  | 8.63e-13 |\n",
       "| PANEL | FILE                                                                                                       | ID              | CHR | P0        | P1        | HSQ    | BEST.GWAS.ID    | BEST.GWAS.Z | EQTL.ID         | EQTL.R2   | EQTL.Z | EQTL.GWAS.Z | NSNP | NWGT | MODEL | MODELCV.R2 | MODELCV.PV | TWAS.Z | TWAS.P   |\n",
       "| NA    | ///home/hs3163/Project/Alz/Alz_AC_SNP/WEIGHTS/geneTpmResidualsAgeGenderAdj_rename.ENSG00000134463.wgt.RDat | ENSG00000134463 | 10  | 11742366  | 11764070  | 0.495  | NA              | NA          | NA              | NA        | NA     | NA          | 0    | 0    | lasso | 0.4        | 5.3e-12    | NA     | NA       |\n",
       "| PANEL | FILE                                                                                                       | ID              | CHR | P0        | P1        | HSQ    | BEST.GWAS.ID    | BEST.GWAS.Z | EQTL.ID         | EQTL.R2   | EQTL.Z | EQTL.GWAS.Z | NSNP | NWGT | MODEL | MODELCV.R2 | MODELCV.PV | TWAS.Z | TWAS.P   |\n",
       "| NA    | ///home/hs3163/Project/Alz/Alz_AC_SNP/WEIGHTS/geneTpmResidualsAgeGenderAdj_rename.ENSG00000110079.wgt.RDat | ENSG00000110079 | 11  | 60185702  | 60317944  | 0.0655 | 11:59958380_A_C | -8.01       | 11:60097853_C_T | 0.036     | 5.56   | 4.55        | 1364 | 1    | top1  | 0.036      | 0.091      | 4.55   | 5.29e-06 |\n",
       "| PANEL | FILE                                                                                                       | ID              | CHR | P0        | P1        | HSQ    | BEST.GWAS.ID    | BEST.GWAS.Z | EQTL.ID         | EQTL.R2   | EQTL.Z | EQTL.GWAS.Z | NSNP | NWGT | MODEL | MODELCV.R2 | MODELCV.PV | TWAS.Z | TWAS.P   |\n",
       "| NA    | ///home/hs3163/Project/Alz/Alz_AC_SNP/WEIGHTS/geneTpmResidualsAgeGenderAdj_rename.ENSG00000140090.wgt.RDat | ENSG00000140090 | 14  | 92322581  | 92501481  | 0.0992 | 14:92938855_A_G | -6.42       | 14:92795364_A_G | 0.00496   | 4.63   | -0.84       | 1721 | 1721 | bslmm | 0.049      | 0.014      | -0.859 | 0.39     |\n",
       "| PANEL | FILE                                                                                                       | ID              | CHR | P0        | P1        | HSQ    | BEST.GWAS.ID    | BEST.GWAS.Z | EQTL.ID         | EQTL.R2   | EQTL.Z | EQTL.GWAS.Z | NSNP | NWGT | MODEL | MODELCV.R2 | MODELCV.PV | TWAS.Z | TWAS.P   |\n",
       "| NA    | ///home/hs3163/Project/Alz/Alz_AC_SNP/WEIGHTS/geneTpmResidualsAgeGenderAdj_rename.ENSG00000103642.wgt.RDat | ENSG00000103642 | 15  | 63121833  | 63142061  | 0.0679 | 15:63517347_A_G |  5.21       | 15:63408320_A_G |  0.100775 | 8.18   |  2.65       | 1323 |  1   | top1  | 0.1        | 0.0035     |  2.65  | 0.00817  |\n",
       "| NA    | ///home/hs3163/Project/Alz/Alz_AC_SNP/WEIGHTS/geneTpmResidualsAgeGenderAdj_rename.ENSG00000128923.wgt.RDat | ENSG00000128923 | 15  | 58771192  | 58861900  | 0.0470 | 15:59022615_C_T | -6.08       | 15:59063144_A_C | -0.000478 | 4.39   | -3.19       | 1393 | 10   | enet  | 0.0092     | 0.26       | -1.62  | 0.10446  |\n",
       "| NA    | ///home/hs3163/Project/Alz/Alz_AC_SNP/WEIGHTS/geneTpmResidualsAgeGenderAdj_rename.ENSG00000140416.wgt.RDat | ENSG00000140416 | 15  | 63042632  | 63071915  | 0.0516 | 15:63517347_A_G |  5.21       | 15:63370358_C_T |  0.030811 | 5.36   | -1.95       | 1362 |  1   | top1  | 0.031      | 0.093      | -1.95  | 0.05103  |\n",
       "| PANEL | FILE                                                                                                       | ID              | CHR | P0        | P1        | HSQ    | BEST.GWAS.ID    | BEST.GWAS.Z | EQTL.ID         | EQTL.R2   | EQTL.Z | EQTL.GWAS.Z | NSNP | NWGT | MODEL | MODELCV.R2 | MODELCV.PV | TWAS.Z | TWAS.P   |\n",
       "| NA    | ///home/hs3163/Project/Alz/Alz_AC_SNP/WEIGHTS/geneTpmResidualsAgeGenderAdj_rename.ENSG00000103510.wgt.RDat | ENSG00000103510 | 16  | 31114489  | 31131393  | 0.0822 | 16:31133100_A_G | -5.5        | 16:31149142_A_G | 0.0818    |  7.79  | -4.57       | 638  |   1  | top1  | 0.082      | 0.0078     | -4.57  | 4.79e-06 |\n",
       "| NA    | ///home/hs3163/Project/Alz/Alz_AC_SNP/WEIGHTS/geneTpmResidualsAgeGenderAdj_rename.ENSG00000178226.wgt.RDat | ENSG00000178226 | 16  | 31138926  | 31150083  | 0.1212 | 16:31133100_A_G | -5.5        | 16:31154358_A_G | 0.1225    |  9.08  | -5.31       | 637  |   1  | top1  | 0.12       | 0.00061    | -5.31  | 1.09e-07 |\n",
       "| NA    | ///home/hs3163/Project/Alz/Alz_AC_SNP/WEIGHTS/geneTpmResidualsAgeGenderAdj_rename.ENSG00000196118.wgt.RDat | ENSG00000196118 | 16  | 30757423  | 30762221  | 0.1033 | 16:31133100_A_G | -5.5        | 16:30746822_A_C | 0.1305    | -9.66  | -4.11       | 466  | 466  | blup  | 0.13       | 0.0012     |  3.69  | 2.28e-04 |\n",
       "| PANEL | FILE                                                                                                       | ID              | CHR | P0        | P1        | HSQ    | BEST.GWAS.ID    | BEST.GWAS.Z | EQTL.ID         | EQTL.R2   | EQTL.Z | EQTL.GWAS.Z | NSNP | NWGT | MODEL | MODELCV.R2 | MODELCV.PV | TWAS.Z | TWAS.P   |\n",
       "| NA    | ///home/hs3163/Project/Alz/Alz_AC_SNP/WEIGHTS/geneTpmResidualsAgeGenderAdj_rename.ENSG00000108509.wgt.RDat | ENSG00000108509 | 17  | 4967992   | 4987675   | 0.0473 | 17:5138980_A_G  | 6.15        | 17:4830121_A_G  | 0.0357    |   5.24 | -1.170      | 1528 |  1   | top1  | 0.036      | 0.053      | -1.170 | 0.24196  |\n",
       "| NA    | ///home/hs3163/Project/Alz/Alz_AC_SNP/WEIGHTS/geneTpmResidualsAgeGenderAdj_rename.ENSG00000108523.wgt.RDat | ENSG00000108523 | 17  | 4940008   | 4945222   | 0.1439 | 17:5138980_A_G  | 6.15        | 17:4849635_A_G  | 0.1909    | -11.05 |  0.636      | 1483 |  1   | top1  | 0.19       | 2.4e-05    | -0.636 | 0.52509  |\n",
       "| NA    | ///home/hs3163/Project/Alz/Alz_AC_SNP/WEIGHTS/geneTpmResidualsAgeGenderAdj_rename.ENSG00000108559.wgt.RDat | ENSG00000108559 | 17  | 5360963   | 5419676   | 0.0853 | 17:5138980_A_G  | 6.15        | 17:5288018_A_G  | 0.0870    |  -8.65 |  2.666      | 1717 |  1   | top1  | 0.087      | 0.016      | -2.666 | 0.00768  |\n",
       "| NA    | ///home/hs3163/Project/Alz/Alz_AC_SNP/WEIGHTS/geneTpmResidualsAgeGenderAdj_rename.ENSG00000129204.wgt.RDat | ENSG00000129204 | 17  | 5116032   | 5175034   | 0.6203 | 17:5138980_A_G  | 6.15        | 17:5154016_A_G  | 0.2992    |  14.18 | -1.960      | 1601 | 91   | enet  | 0.35       | 2.7e-09    | -2.066 | 0.03884  |\n",
       "| NA    | ///home/hs3163/Project/Alz/Alz_AC_SNP/WEIGHTS/geneTpmResidualsAgeGenderAdj_rename.ENSG00000161929.wgt.RDat | ENSG00000161929 | 17  | 5208920   | 5234860   | 0.0926 | 17:5138980_A_G  | 6.15        | 17:5125249_A_G  | 0.0730    |  -7.54 | -1.425      | 1602 | 13   | enet  | 0.067      | 0.017      |  2.258 | 0.02397  |\n",
       "| NA    | ///home/hs3163/Project/Alz/Alz_AC_SNP/WEIGHTS/geneTpmResidualsAgeGenderAdj_rename.ENSG00000167840.wgt.RDat | ENSG00000167840 | 17  | 5105541   | 5123116   | 0.2440 | 17:5138980_A_G  | 6.15        | 17:5154016_A_G  | 0.1409    |   9.96 | -1.960      | 1542 | 23   | enet  | 0.16       | 0.00023    | -3.112 | 0.00186  |\n",
       "| NA    | ///home/hs3163/Project/Alz/Alz_AC_SNP/WEIGHTS/geneTpmResidualsAgeGenderAdj_rename.ENSG00000196388.wgt.RDat | ENSG00000196388 | 17  | 4988130   | 4997610   | 0.0757 | 17:5138980_A_G  | 6.15        | 17:4939084_A_G  | 0.0170    |  -5.65 | -2.100      | 1496 | 37   | enet  | 0.036      | 0.18       |  1.049 | 0.29404  |\n",
       "| NA    | ///home/hs3163/Project/Alz/Alz_AC_SNP/WEIGHTS/geneTpmResidualsAgeGenderAdj_rename.ENSG00000264538.wgt.RDat | ENSG00000264538 | 17  | 30709299  | 30790908  | 0.3714 | 17:30903310_C_T | 3.45        | 17:30289176_C_T | 0.2168    | -12.04 | -1.219      |  896 |  1   | top1  | 0.22       | 6.5e-06    |  1.219 | 0.22280  |\n",
       "| PANEL | FILE                                                                                                       | ID              | CHR | P0        | P1        | HSQ    | BEST.GWAS.ID    | BEST.GWAS.Z | EQTL.ID         | EQTL.R2   | EQTL.Z | EQTL.GWAS.Z | NSNP | NWGT | MODEL | MODELCV.R2 | MODELCV.PV | TWAS.Z | TWAS.P   |\n",
       "| NA    | ///home/hs3163/Project/Alz/Alz_AC_SNP/WEIGHTS/geneTpmResidualsAgeGenderAdj_rename.ENSG00000064666.wgt.RDat | ENSG00000064666 | 19  | 1026586   | 1039068   | 0.1671 | 19:1050874_A_G  | -6.2        | 19:1021725_A_C  | 0.0281    |  -6.16 |  1.55       | 1870 |    8 | lasso | 0.089      | 0.0049     | -1.23  | 2.21e-01 |\n",
       "| NA    | ///home/hs3163/Project/Alz/Alz_AC_SNP/WEIGHTS/geneTpmResidualsAgeGenderAdj_rename.ENSG00000065268.wgt.RDat | ENSG00000065268 | 19  | 984332    | 998438    | 0.2658 | NA              |   NA        | NA              |     NA    |     NA |    NA       |    0 |    0 | lasso | 0.27       | 7.6e-08    |    NA  |       NA |\n",
       "| NA    | ///home/hs3163/Project/Alz/Alz_AC_SNP/WEIGHTS/geneTpmResidualsAgeGenderAdj_rename.ENSG00000073008.wgt.RDat | ENSG00000073008 | 19  | 44643798  | 44666162  | 0.1509 | 19:45165912_A_C | 10.5        | 19:45146402_C_T | 0.0900    |   8.23 | -7.51       | 1412 |   25 | enet  | 0.096      | 0.0057     | -8.19  | 2.57e-16 |\n",
       "| NA    | ///home/hs3163/Project/Alz/Alz_AC_SNP/WEIGHTS/geneTpmResidualsAgeGenderAdj_rename.ENSG00000099817.wgt.RDat | ENSG00000099817 | 19  | 1086574   | 1095380   | 0.2398 | 19:1050874_A_G  | -6.2        | 19:1090803_A_G  | 0.1534    | -10.20 | -3.61       | 1746 | 1746 | bslmm | 0.16       | 2e-04      |  3.23  | 1.26e-03 |\n",
       "| ⋮ | ⋮ | ⋮ | ⋮ | ⋮ | ⋮ | ⋮ | ⋮ | ⋮ | ⋮ | ⋮ | ⋮ | ⋮ | ⋮ | ⋮ | ⋮ | ⋮ | ⋮ | ⋮ | ⋮ |\n",
       "| NA    | ///home/hs3163/Project/Alz/Alz_AC_SNP/WEIGHTS/geneTpmResidualsAgeGenderAdj_rename.ENSG00000179846.wgt.RDat | ENSG00000179846 | 19  | 45149750  | 45160815  | 0.0452 | 19:45411941_C_T | 52.5        | 19:45587406_C_T | 0.0240   |  -5.43 | -5.29       | 1381 |    9 | lasso | 0.024      | 0.15       |  4.10   | 4.16e-05 |\n",
       "| NA    | ///home/hs3163/Project/Alz/Alz_AC_SNP/WEIGHTS/geneTpmResidualsAgeGenderAdj_rename.ENSG00000189114.wgt.RDat | ENSG00000189114 | 19  | 45178784  | 45216933  | 0.0482 | 19:45411941_C_T | 52.5        | 19:45594842_C_T | 0.0126   |  -4.79 | -4.09       | 1445 |   16 | enet  | 0.034      | 0.15       |  2.07   | 3.87e-02 |\n",
       "| PANEL | FILE                                                                                                       | ID              | CHR | P0        | P1        | HSQ    | BEST.GWAS.ID    | BEST.GWAS.Z | EQTL.ID         | EQTL.R2  | EQTL.Z | EQTL.GWAS.Z | NSNP | NWGT | MODEL | MODELCV.R2 | MODELCV.PV | TWAS.Z  | TWAS.P   |\n",
       "| NA    | ///home/hs3163/Project/Alz/Alz_AC_SNP/WEIGHTS/geneTpmResidualsAgeGenderAdj_rename.ENSG00000095970.wgt.RDat | ENSG00000095970 | 6   | 41158506  | 41163186  | 0.0615 | 6:41155000_A_G  | -4.35       | 6:41162891_C_T  | -0.00329 |   3.79 | -3.797      | 1352 | 1352 | bslmm | 0.0085     | 0.18       | -1.9348 | 5.30e-02 |\n",
       "| NA    | ///home/hs3163/Project/Alz/Alz_AC_SNP/WEIGHTS/geneTpmResidualsAgeGenderAdj_rename.ENSG00000179344.wgt.RDat | ENSG00000179344 | 6   | 32659467  | 32668383  | 0.5322 | 6:32583813_A_G  | -6.49       | 6:32629582_C_T  |  0.43078 | -17.33 | -1.117      | 7687 |   21 | lasso | 0.61       | 1.1e-21    |  1.9281 | 5.38e-02 |\n",
       "| NA    | ///home/hs3163/Project/Alz/Alz_AC_SNP/WEIGHTS/geneTpmResidualsAgeGenderAdj_rename.ENSG00000196126.wgt.RDat | ENSG00000196126 | 6   | 32578769  | 32589848  | 0.3190 | 6:32583813_A_G  | -6.49       | 6:32568595_C_T  |  0.43933 | -17.50 | -2.387      | 7456 |   19 | lasso | 0.53       | 1.1e-19    |  3.2460 | 1.17e-03 |\n",
       "| NA    | ///home/hs3163/Project/Alz/Alz_AC_SNP/WEIGHTS/geneTpmResidualsAgeGenderAdj_rename.ENSG00000196735.wgt.RDat | ENSG00000196735 | 6   | 32628179  | 32647062  | 0.2216 | 6:32583813_A_G  | -6.49       | 6:32614847_A_G  |  0.28314 | -14.20 | -1.225      | 7694 | 7694 | bslmm | 0.31       | 2.5e-08    |  1.3855 | 1.66e-01 |\n",
       "| NA    | ///home/hs3163/Project/Alz/Alz_AC_SNP/WEIGHTS/geneTpmResidualsAgeGenderAdj_rename.ENSG00000198087.wgt.RDat | ENSG00000198087 | 6   | 47477789  | 47627263  | 0.0380 | 6:47432637_C_T  | -6.36       | 6:47432637_C_T  |  0.00976 |  -4.77 | -6.362      | 1515 |    7 | lasso | 0.025      | 0.11       |  5.2810 | 1.28e-07 |\n",
       "| NA    | ///home/hs3163/Project/Alz/Alz_AC_SNP/WEIGHTS/geneTpmResidualsAgeGenderAdj_rename.ENSG00000198502.wgt.RDat | ENSG00000198502 | 6   | 32517353  | 32530287  | 0.6253 | 6:32583813_A_G  | -6.49       | 6:32566577_C_T  |  0.60001 | -20.10 | -2.946      | 7047 |   25 | lasso | 0.74       | 8.8e-36    |  2.0913 | 3.65e-02 |\n",
       "| NA    | ///home/hs3163/Project/Alz/Alz_AC_SNP/WEIGHTS/geneTpmResidualsAgeGenderAdj_rename.ENSG00000204267.wgt.RDat | ENSG00000204267 | 6   | 32821833  | 32838770  | 0.1124 | 6:32583813_A_G  | -6.49       | 6:32796346_C_T  |  0.02260 |  -5.48 |  3.350      | 7337 |   35 | enet  | 0.024      | 0.15       | -1.2812 | 2.00e-01 |\n",
       "| NA    | ///home/hs3163/Project/Alz/Alz_AC_SNP/WEIGHTS/geneTpmResidualsAgeGenderAdj_rename.ENSG00000204301.wgt.RDat | ENSG00000204301 | 6   | 32194843  | 32224067  | 0.0384 | 6:32583813_A_G  | -6.49       | 6:32191041_A_G  |  0.05719 |  -6.28 | -1.244      | 6191 |    1 | top1  | 0.057      | 0.021      |  1.2441 | 2.13e-01 |\n",
       "| NA    | ///home/hs3163/Project/Alz/Alz_AC_SNP/WEIGHTS/geneTpmResidualsAgeGenderAdj_rename.ENSG00000204516.wgt.RDat | ENSG00000204516 | 6   | 31494881  | 31511124  | 0.0845 | 6:31111606_A_G  | -4.34       | 6:31463926_C_T  |  0.03717 |  -5.88 |  0.434      | 4954 | 4954 | bslmm | 0.044      | 0.044      | -1.0500 | 2.94e-01 |\n",
       "| NA    | ///home/hs3163/Project/Alz/Alz_AC_SNP/WEIGHTS/geneTpmResidualsAgeGenderAdj_rename.ENSG00000223501.wgt.RDat | ENSG00000223501 | 6   | 33250272  | 33272047  | 0.0478 | 6:32787570_C_T  |  4.23       | 6:33238892_C_T  |  0.00762 |  -4.79 | -0.660      | 2731 | 2731 | blup  | 0.029      | 0.13       |  0.0403 | 9.68e-01 |\n",
       "| NA    | ///home/hs3163/Project/Alz/Alz_AC_SNP/WEIGHTS/geneTpmResidualsAgeGenderAdj_rename.ENSG00000224389.wgt.RDat | ENSG00000224389 | 6   | 32014795  | 32035418  | 0.2108 | 6:32395036_C_T  | -6.20       | 6:32005304_A_G  |  0.01102 |  -5.51 | -0.238      | 2833 |   55 | enet  | 0.1        | 0.0032     |  0.8172 | 4.14e-01 |\n",
       "| NA    | ///home/hs3163/Project/Alz/Alz_AC_SNP/WEIGHTS/geneTpmResidualsAgeGenderAdj_rename.ENSG00000240065.wgt.RDat | ENSG00000240065 | 6   | 32844136  | 32859851  | 0.0537 | 6:32583813_A_G  | -6.49       | 6:32823257_C_T  |  0.06190 |   6.57 | -0.505      | 7281 |    1 | top1  | 0.062      | 0.023      | -0.5045 | 6.14e-01 |\n",
       "| NA    | ///home/hs3163/Project/Alz/Alz_AC_SNP/WEIGHTS/geneTpmResidualsAgeGenderAdj_rename.ENSG00000244731.wgt.RDat | ENSG00000244731 | 6   | 31982057  | 32002681  | 0.2422 | 6:32395036_C_T  | -6.20       | 6:31870326_A_G  |  0.20567 | -11.99 | -0.823      | 2508 | 2508 | blup  | 0.23       | 2.8e-07    |  1.1125 | 2.66e-01 |\n",
       "| PANEL | FILE                                                                                                       | ID              | CHR | P0        | P1        | HSQ    | BEST.GWAS.ID    | BEST.GWAS.Z | EQTL.ID         | EQTL.R2  | EQTL.Z | EQTL.GWAS.Z | NSNP | NWGT | MODEL | MODELCV.R2 | MODELCV.PV | TWAS.Z  | TWAS.P   |\n",
       "| NA    | ///home/hs3163/Project/Alz/Alz_AC_SNP/WEIGHTS/geneTpmResidualsAgeGenderAdj_rename.ENSG00000106261.wgt.RDat | ENSG00000106261 | 7   | 100015572 | 100041689 | 0.0376 | 7:99971834_A_G  |  7.95       | 7:99949714_A_C  | 0.01425  |  -4.61 |  1.643      |  841 |    5 | lasso | 0.015      | 0.19       | -2.546  | 0.01089  |\n",
       "| NA    | ///home/hs3163/Project/Alz/Alz_AC_SNP/WEIGHTS/geneTpmResidualsAgeGenderAdj_rename.ENSG00000121716.wgt.RDat | ENSG00000121716 | 7   | 100352176 | 100367733 | 0.1708 | 7:99971834_A_G  |  7.95       | 7:99934192_C_T  | 0.26189  |  13.63 |  1.265      |  882 |   33 | enet  | 0.27       | 4e-08      |  1.006  | 0.31429  |\n",
       "| NA    | ///home/hs3163/Project/Alz/Alz_AC_SNP/WEIGHTS/geneTpmResidualsAgeGenderAdj_rename.ENSG00000146830.wgt.RDat | ENSG00000146830 | 7   | 100679507 | 100694037 | 0.0440 | 7:100179857_A_G |  5.03       | 7:100299028_C_T | 0.01049  |  -4.95 |  2.312      | 1405 |    5 | lasso | 0.012      | 0.25       | -2.382  | 0.01721  |\n",
       "| NA    | ///home/hs3163/Project/Alz/Alz_AC_SNP/WEIGHTS/geneTpmResidualsAgeGenderAdj_rename.ENSG00000146834.wgt.RDat | ENSG00000146834 | 7   | 100428790 | 100434118 | 0.1338 | 7:99971834_A_G  |  7.95       | 7:100025564_C_T | 0.10468  |  -8.39 |  0.572      |  983 |    1 | top1  | 0.1        | 0.0018     | -0.572  | 0.56721  |\n",
       "| NA    | ///home/hs3163/Project/Alz/Alz_AC_SNP/WEIGHTS/geneTpmResidualsAgeGenderAdj_rename.ENSG00000166529.wgt.RDat | ENSG00000166529 | 7   | 100049774 | 100065040 | 0.1216 | 7:99971834_A_G  |  7.95       | 7:99648267_A_G  | 0.09410  |  -8.86 | -2.871      |  807 |    6 | lasso | 0.13       | 0.00022    |  1.947  | 0.05149  |\n",
       "| NA    | ///home/hs3163/Project/Alz/Alz_AC_SNP/WEIGHTS/geneTpmResidualsAgeGenderAdj_rename.ENSG00000174469.wgt.RDat | ENSG00000174469 | 7   | 146116002 | 148420998 | 0.0814 | 7:146254508_A_G | -3.62       | 7:148095464_A_G | 0.00156  |   4.16 |  0.465      | 4753 | 4753 | blup  | 0.025      | 0.14       |  0.278  | 0.78139  |\n",
       "| NA    | ///home/hs3163/Project/Alz/Alz_AC_SNP/WEIGHTS/geneTpmResidualsAgeGenderAdj_rename.ENSG00000188186.wgt.RDat | ENSG00000188186 | 7   | 100148907 | 100155944 | 0.0843 | 7:99971834_A_G  |  7.95       | 7:99735181_A_G  | 0.04781  |  -6.70 | -2.490      |  771 |  769 | blup  | 0.043      | 0.037      |  2.869  | 0.00412  |\n",
       "| NA    | ///home/hs3163/Project/Alz/Alz_AC_SNP/WEIGHTS/geneTpmResidualsAgeGenderAdj_rename.ENSG00000213214.wgt.RDat | ENSG00000213214 | 7   | 144186083 | 144195833 | 0.2227 | 7:144667647_C_T |  3.23       | 7:143872036_A_G | 0.28703  | -14.35 | -0.414      | 1021 | 1021 | bslmm | 0.31       | 2.9e-07    |  0.307  | 0.75859  |\n",
       "| NA    | ///home/hs3163/Project/Alz/Alz_AC_SNP/WEIGHTS/geneTpmResidualsAgeGenderAdj_rename.ENSG00000214309.wgt.RDat | ENSG00000214309 | 7   | 100126785 | 100128495 | 0.1777 | 7:99971834_A_G  |  7.95       | 7:99646088_A_C  | 0.15092  |  10.29 |  1.379      |  762 |  760 | bslmm | 0.16       | 8e-05      |  1.958  | 0.05022  |\n",
       "| NA    | ///home/hs3163/Project/Alz/Alz_AC_SNP/WEIGHTS/geneTpmResidualsAgeGenderAdj_rename.ENSG00000243896.wgt.RDat | ENSG00000243896 | 7   | 144257663 | 144264792 | 0.1458 | 7:144667647_C_T |  3.23       | 7:143952443_C_T | 0.11541  |   8.79 |  0.491      | 1007 | 1007 | bslmm | 0.15       | 0.00011    |  0.776  | 0.43794  |\n",
       "| PANEL | FILE                                                                                                       | ID              | CHR | P0        | P1        | HSQ    | BEST.GWAS.ID    | BEST.GWAS.Z | EQTL.ID         | EQTL.R2  | EQTL.Z | EQTL.GWAS.Z | NSNP | NWGT | MODEL | MODELCV.R2 | MODELCV.PV | TWAS.Z  | TWAS.P   |\n",
       "| NA    | ///home/hs3163/Project/Alz/Alz_AC_SNP/WEIGHTS/geneTpmResidualsAgeGenderAdj_rename.ENSG00000120915.wgt.RDat | ENSG00000120915 | 8   | 27490781  | 27545564  | 0.0531 | 8:27464929_A_G  | 9.05        | 8:27390192_A_G  | 0.0372   |  5.56  | 1.82        | 1471 | 2    | lasso | 0.036      | 0.078      |  1.57   | 0.1164   |\n",
       "| NA    | ///home/hs3163/Project/Alz/Alz_AC_SNP/WEIGHTS/geneTpmResidualsAgeGenderAdj_rename.ENSG00000147419.wgt.RDat | ENSG00000147419 | 8   | 27733316  | 27772653  | 0.0958 | 8:27464929_A_G  | 9.05        | 8:27625974_A_C  | 0.1156   | -8.87  | 2.20        | 1469 | 1    | top1  | 0.12       | 0.0012     | -2.20   | 0.0275   |\n",
       "\n"
      ],
      "text/plain": [
       "   PANEL\n",
       "1  NA   \n",
       "2  NA   \n",
       "3  PANEL\n",
       "4  NA   \n",
       "5  PANEL\n",
       "6  NA   \n",
       "7  PANEL\n",
       "8  NA   \n",
       "9  PANEL\n",
       "10 NA   \n",
       "11 NA   \n",
       "12 NA   \n",
       "13 PANEL\n",
       "14 NA   \n",
       "15 NA   \n",
       "16 NA   \n",
       "17 PANEL\n",
       "18 NA   \n",
       "19 NA   \n",
       "20 NA   \n",
       "21 NA   \n",
       "22 NA   \n",
       "23 NA   \n",
       "24 NA   \n",
       "25 NA   \n",
       "26 PANEL\n",
       "27 NA   \n",
       "28 NA   \n",
       "29 NA   \n",
       "30 NA   \n",
       "⋮  ⋮    \n",
       "32 NA   \n",
       "33 NA   \n",
       "34 PANEL\n",
       "35 NA   \n",
       "36 NA   \n",
       "37 NA   \n",
       "38 NA   \n",
       "39 NA   \n",
       "40 NA   \n",
       "41 NA   \n",
       "42 NA   \n",
       "43 NA   \n",
       "44 NA   \n",
       "45 NA   \n",
       "46 NA   \n",
       "47 NA   \n",
       "48 PANEL\n",
       "49 NA   \n",
       "50 NA   \n",
       "51 NA   \n",
       "52 NA   \n",
       "53 NA   \n",
       "54 NA   \n",
       "55 NA   \n",
       "56 NA   \n",
       "57 NA   \n",
       "58 NA   \n",
       "59 PANEL\n",
       "60 NA   \n",
       "61 NA   \n",
       "   FILE                                                                                                      \n",
       "1  ///home/hs3163/Project/Alz/Alz_AC_SNP/WEIGHTS/geneTpmResidualsAgeGenderAdj_rename.ENSG00000158869.wgt.RDat\n",
       "2  ///home/hs3163/Project/Alz/Alz_AC_SNP/WEIGHTS/geneTpmResidualsAgeGenderAdj_rename.ENSG00000203710.wgt.RDat\n",
       "3  FILE                                                                                                      \n",
       "4  ///home/hs3163/Project/Alz/Alz_AC_SNP/WEIGHTS/geneTpmResidualsAgeGenderAdj_rename.ENSG00000134463.wgt.RDat\n",
       "5  FILE                                                                                                      \n",
       "6  ///home/hs3163/Project/Alz/Alz_AC_SNP/WEIGHTS/geneTpmResidualsAgeGenderAdj_rename.ENSG00000110079.wgt.RDat\n",
       "7  FILE                                                                                                      \n",
       "8  ///home/hs3163/Project/Alz/Alz_AC_SNP/WEIGHTS/geneTpmResidualsAgeGenderAdj_rename.ENSG00000140090.wgt.RDat\n",
       "9  FILE                                                                                                      \n",
       "10 ///home/hs3163/Project/Alz/Alz_AC_SNP/WEIGHTS/geneTpmResidualsAgeGenderAdj_rename.ENSG00000103642.wgt.RDat\n",
       "11 ///home/hs3163/Project/Alz/Alz_AC_SNP/WEIGHTS/geneTpmResidualsAgeGenderAdj_rename.ENSG00000128923.wgt.RDat\n",
       "12 ///home/hs3163/Project/Alz/Alz_AC_SNP/WEIGHTS/geneTpmResidualsAgeGenderAdj_rename.ENSG00000140416.wgt.RDat\n",
       "13 FILE                                                                                                      \n",
       "14 ///home/hs3163/Project/Alz/Alz_AC_SNP/WEIGHTS/geneTpmResidualsAgeGenderAdj_rename.ENSG00000103510.wgt.RDat\n",
       "15 ///home/hs3163/Project/Alz/Alz_AC_SNP/WEIGHTS/geneTpmResidualsAgeGenderAdj_rename.ENSG00000178226.wgt.RDat\n",
       "16 ///home/hs3163/Project/Alz/Alz_AC_SNP/WEIGHTS/geneTpmResidualsAgeGenderAdj_rename.ENSG00000196118.wgt.RDat\n",
       "17 FILE                                                                                                      \n",
       "18 ///home/hs3163/Project/Alz/Alz_AC_SNP/WEIGHTS/geneTpmResidualsAgeGenderAdj_rename.ENSG00000108509.wgt.RDat\n",
       "19 ///home/hs3163/Project/Alz/Alz_AC_SNP/WEIGHTS/geneTpmResidualsAgeGenderAdj_rename.ENSG00000108523.wgt.RDat\n",
       "20 ///home/hs3163/Project/Alz/Alz_AC_SNP/WEIGHTS/geneTpmResidualsAgeGenderAdj_rename.ENSG00000108559.wgt.RDat\n",
       "21 ///home/hs3163/Project/Alz/Alz_AC_SNP/WEIGHTS/geneTpmResidualsAgeGenderAdj_rename.ENSG00000129204.wgt.RDat\n",
       "22 ///home/hs3163/Project/Alz/Alz_AC_SNP/WEIGHTS/geneTpmResidualsAgeGenderAdj_rename.ENSG00000161929.wgt.RDat\n",
       "23 ///home/hs3163/Project/Alz/Alz_AC_SNP/WEIGHTS/geneTpmResidualsAgeGenderAdj_rename.ENSG00000167840.wgt.RDat\n",
       "24 ///home/hs3163/Project/Alz/Alz_AC_SNP/WEIGHTS/geneTpmResidualsAgeGenderAdj_rename.ENSG00000196388.wgt.RDat\n",
       "25 ///home/hs3163/Project/Alz/Alz_AC_SNP/WEIGHTS/geneTpmResidualsAgeGenderAdj_rename.ENSG00000264538.wgt.RDat\n",
       "26 FILE                                                                                                      \n",
       "27 ///home/hs3163/Project/Alz/Alz_AC_SNP/WEIGHTS/geneTpmResidualsAgeGenderAdj_rename.ENSG00000064666.wgt.RDat\n",
       "28 ///home/hs3163/Project/Alz/Alz_AC_SNP/WEIGHTS/geneTpmResidualsAgeGenderAdj_rename.ENSG00000065268.wgt.RDat\n",
       "29 ///home/hs3163/Project/Alz/Alz_AC_SNP/WEIGHTS/geneTpmResidualsAgeGenderAdj_rename.ENSG00000073008.wgt.RDat\n",
       "30 ///home/hs3163/Project/Alz/Alz_AC_SNP/WEIGHTS/geneTpmResidualsAgeGenderAdj_rename.ENSG00000099817.wgt.RDat\n",
       "⋮  ⋮                                                                                                         \n",
       "32 ///home/hs3163/Project/Alz/Alz_AC_SNP/WEIGHTS/geneTpmResidualsAgeGenderAdj_rename.ENSG00000179846.wgt.RDat\n",
       "33 ///home/hs3163/Project/Alz/Alz_AC_SNP/WEIGHTS/geneTpmResidualsAgeGenderAdj_rename.ENSG00000189114.wgt.RDat\n",
       "34 FILE                                                                                                      \n",
       "35 ///home/hs3163/Project/Alz/Alz_AC_SNP/WEIGHTS/geneTpmResidualsAgeGenderAdj_rename.ENSG00000095970.wgt.RDat\n",
       "36 ///home/hs3163/Project/Alz/Alz_AC_SNP/WEIGHTS/geneTpmResidualsAgeGenderAdj_rename.ENSG00000179344.wgt.RDat\n",
       "37 ///home/hs3163/Project/Alz/Alz_AC_SNP/WEIGHTS/geneTpmResidualsAgeGenderAdj_rename.ENSG00000196126.wgt.RDat\n",
       "38 ///home/hs3163/Project/Alz/Alz_AC_SNP/WEIGHTS/geneTpmResidualsAgeGenderAdj_rename.ENSG00000196735.wgt.RDat\n",
       "39 ///home/hs3163/Project/Alz/Alz_AC_SNP/WEIGHTS/geneTpmResidualsAgeGenderAdj_rename.ENSG00000198087.wgt.RDat\n",
       "40 ///home/hs3163/Project/Alz/Alz_AC_SNP/WEIGHTS/geneTpmResidualsAgeGenderAdj_rename.ENSG00000198502.wgt.RDat\n",
       "41 ///home/hs3163/Project/Alz/Alz_AC_SNP/WEIGHTS/geneTpmResidualsAgeGenderAdj_rename.ENSG00000204267.wgt.RDat\n",
       "42 ///home/hs3163/Project/Alz/Alz_AC_SNP/WEIGHTS/geneTpmResidualsAgeGenderAdj_rename.ENSG00000204301.wgt.RDat\n",
       "43 ///home/hs3163/Project/Alz/Alz_AC_SNP/WEIGHTS/geneTpmResidualsAgeGenderAdj_rename.ENSG00000204516.wgt.RDat\n",
       "44 ///home/hs3163/Project/Alz/Alz_AC_SNP/WEIGHTS/geneTpmResidualsAgeGenderAdj_rename.ENSG00000223501.wgt.RDat\n",
       "45 ///home/hs3163/Project/Alz/Alz_AC_SNP/WEIGHTS/geneTpmResidualsAgeGenderAdj_rename.ENSG00000224389.wgt.RDat\n",
       "46 ///home/hs3163/Project/Alz/Alz_AC_SNP/WEIGHTS/geneTpmResidualsAgeGenderAdj_rename.ENSG00000240065.wgt.RDat\n",
       "47 ///home/hs3163/Project/Alz/Alz_AC_SNP/WEIGHTS/geneTpmResidualsAgeGenderAdj_rename.ENSG00000244731.wgt.RDat\n",
       "48 FILE                                                                                                      \n",
       "49 ///home/hs3163/Project/Alz/Alz_AC_SNP/WEIGHTS/geneTpmResidualsAgeGenderAdj_rename.ENSG00000106261.wgt.RDat\n",
       "50 ///home/hs3163/Project/Alz/Alz_AC_SNP/WEIGHTS/geneTpmResidualsAgeGenderAdj_rename.ENSG00000121716.wgt.RDat\n",
       "51 ///home/hs3163/Project/Alz/Alz_AC_SNP/WEIGHTS/geneTpmResidualsAgeGenderAdj_rename.ENSG00000146830.wgt.RDat\n",
       "52 ///home/hs3163/Project/Alz/Alz_AC_SNP/WEIGHTS/geneTpmResidualsAgeGenderAdj_rename.ENSG00000146834.wgt.RDat\n",
       "53 ///home/hs3163/Project/Alz/Alz_AC_SNP/WEIGHTS/geneTpmResidualsAgeGenderAdj_rename.ENSG00000166529.wgt.RDat\n",
       "54 ///home/hs3163/Project/Alz/Alz_AC_SNP/WEIGHTS/geneTpmResidualsAgeGenderAdj_rename.ENSG00000174469.wgt.RDat\n",
       "55 ///home/hs3163/Project/Alz/Alz_AC_SNP/WEIGHTS/geneTpmResidualsAgeGenderAdj_rename.ENSG00000188186.wgt.RDat\n",
       "56 ///home/hs3163/Project/Alz/Alz_AC_SNP/WEIGHTS/geneTpmResidualsAgeGenderAdj_rename.ENSG00000213214.wgt.RDat\n",
       "57 ///home/hs3163/Project/Alz/Alz_AC_SNP/WEIGHTS/geneTpmResidualsAgeGenderAdj_rename.ENSG00000214309.wgt.RDat\n",
       "58 ///home/hs3163/Project/Alz/Alz_AC_SNP/WEIGHTS/geneTpmResidualsAgeGenderAdj_rename.ENSG00000243896.wgt.RDat\n",
       "59 FILE                                                                                                      \n",
       "60 ///home/hs3163/Project/Alz/Alz_AC_SNP/WEIGHTS/geneTpmResidualsAgeGenderAdj_rename.ENSG00000120915.wgt.RDat\n",
       "61 ///home/hs3163/Project/Alz/Alz_AC_SNP/WEIGHTS/geneTpmResidualsAgeGenderAdj_rename.ENSG00000147419.wgt.RDat\n",
       "   ID              CHR P0        P1        HSQ    BEST.GWAS.ID    BEST.GWAS.Z\n",
       "1  ENSG00000158869 1   161215234 161220699 0.0616 1:161155392_A_G  6.37      \n",
       "2  ENSG00000203710 1   207496147 207641765 0.0553 1:207786828_A_G -8.88      \n",
       "3  ID              CHR P0        P1        HSQ    BEST.GWAS.ID    BEST.GWAS.Z\n",
       "4  ENSG00000134463 10  11742366  11764070  0.495  NA              NA         \n",
       "5  ID              CHR P0        P1        HSQ    BEST.GWAS.ID    BEST.GWAS.Z\n",
       "6  ENSG00000110079 11  60185702  60317944  0.0655 11:59958380_A_C -8.01      \n",
       "7  ID              CHR P0        P1        HSQ    BEST.GWAS.ID    BEST.GWAS.Z\n",
       "8  ENSG00000140090 14  92322581  92501481  0.0992 14:92938855_A_G -6.42      \n",
       "9  ID              CHR P0        P1        HSQ    BEST.GWAS.ID    BEST.GWAS.Z\n",
       "10 ENSG00000103642 15  63121833  63142061  0.0679 15:63517347_A_G  5.21      \n",
       "11 ENSG00000128923 15  58771192  58861900  0.0470 15:59022615_C_T -6.08      \n",
       "12 ENSG00000140416 15  63042632  63071915  0.0516 15:63517347_A_G  5.21      \n",
       "13 ID              CHR P0        P1        HSQ    BEST.GWAS.ID    BEST.GWAS.Z\n",
       "14 ENSG00000103510 16  31114489  31131393  0.0822 16:31133100_A_G -5.5       \n",
       "15 ENSG00000178226 16  31138926  31150083  0.1212 16:31133100_A_G -5.5       \n",
       "16 ENSG00000196118 16  30757423  30762221  0.1033 16:31133100_A_G -5.5       \n",
       "17 ID              CHR P0        P1        HSQ    BEST.GWAS.ID    BEST.GWAS.Z\n",
       "18 ENSG00000108509 17  4967992   4987675   0.0473 17:5138980_A_G  6.15       \n",
       "19 ENSG00000108523 17  4940008   4945222   0.1439 17:5138980_A_G  6.15       \n",
       "20 ENSG00000108559 17  5360963   5419676   0.0853 17:5138980_A_G  6.15       \n",
       "21 ENSG00000129204 17  5116032   5175034   0.6203 17:5138980_A_G  6.15       \n",
       "22 ENSG00000161929 17  5208920   5234860   0.0926 17:5138980_A_G  6.15       \n",
       "23 ENSG00000167840 17  5105541   5123116   0.2440 17:5138980_A_G  6.15       \n",
       "24 ENSG00000196388 17  4988130   4997610   0.0757 17:5138980_A_G  6.15       \n",
       "25 ENSG00000264538 17  30709299  30790908  0.3714 17:30903310_C_T 3.45       \n",
       "26 ID              CHR P0        P1        HSQ    BEST.GWAS.ID    BEST.GWAS.Z\n",
       "27 ENSG00000064666 19  1026586   1039068   0.1671 19:1050874_A_G  -6.2       \n",
       "28 ENSG00000065268 19  984332    998438    0.2658 NA                NA       \n",
       "29 ENSG00000073008 19  44643798  44666162  0.1509 19:45165912_A_C 10.5       \n",
       "30 ENSG00000099817 19  1086574   1095380   0.2398 19:1050874_A_G  -6.2       \n",
       "⋮  ⋮               ⋮   ⋮         ⋮         ⋮      ⋮               ⋮          \n",
       "32 ENSG00000179846 19  45149750  45160815  0.0452 19:45411941_C_T 52.5       \n",
       "33 ENSG00000189114 19  45178784  45216933  0.0482 19:45411941_C_T 52.5       \n",
       "34 ID              CHR P0        P1        HSQ    BEST.GWAS.ID    BEST.GWAS.Z\n",
       "35 ENSG00000095970 6   41158506  41163186  0.0615 6:41155000_A_G  -4.35      \n",
       "36 ENSG00000179344 6   32659467  32668383  0.5322 6:32583813_A_G  -6.49      \n",
       "37 ENSG00000196126 6   32578769  32589848  0.3190 6:32583813_A_G  -6.49      \n",
       "38 ENSG00000196735 6   32628179  32647062  0.2216 6:32583813_A_G  -6.49      \n",
       "39 ENSG00000198087 6   47477789  47627263  0.0380 6:47432637_C_T  -6.36      \n",
       "40 ENSG00000198502 6   32517353  32530287  0.6253 6:32583813_A_G  -6.49      \n",
       "41 ENSG00000204267 6   32821833  32838770  0.1124 6:32583813_A_G  -6.49      \n",
       "42 ENSG00000204301 6   32194843  32224067  0.0384 6:32583813_A_G  -6.49      \n",
       "43 ENSG00000204516 6   31494881  31511124  0.0845 6:31111606_A_G  -4.34      \n",
       "44 ENSG00000223501 6   33250272  33272047  0.0478 6:32787570_C_T   4.23      \n",
       "45 ENSG00000224389 6   32014795  32035418  0.2108 6:32395036_C_T  -6.20      \n",
       "46 ENSG00000240065 6   32844136  32859851  0.0537 6:32583813_A_G  -6.49      \n",
       "47 ENSG00000244731 6   31982057  32002681  0.2422 6:32395036_C_T  -6.20      \n",
       "48 ID              CHR P0        P1        HSQ    BEST.GWAS.ID    BEST.GWAS.Z\n",
       "49 ENSG00000106261 7   100015572 100041689 0.0376 7:99971834_A_G   7.95      \n",
       "50 ENSG00000121716 7   100352176 100367733 0.1708 7:99971834_A_G   7.95      \n",
       "51 ENSG00000146830 7   100679507 100694037 0.0440 7:100179857_A_G  5.03      \n",
       "52 ENSG00000146834 7   100428790 100434118 0.1338 7:99971834_A_G   7.95      \n",
       "53 ENSG00000166529 7   100049774 100065040 0.1216 7:99971834_A_G   7.95      \n",
       "54 ENSG00000174469 7   146116002 148420998 0.0814 7:146254508_A_G -3.62      \n",
       "55 ENSG00000188186 7   100148907 100155944 0.0843 7:99971834_A_G   7.95      \n",
       "56 ENSG00000213214 7   144186083 144195833 0.2227 7:144667647_C_T  3.23      \n",
       "57 ENSG00000214309 7   100126785 100128495 0.1777 7:99971834_A_G   7.95      \n",
       "58 ENSG00000243896 7   144257663 144264792 0.1458 7:144667647_C_T  3.23      \n",
       "59 ID              CHR P0        P1        HSQ    BEST.GWAS.ID    BEST.GWAS.Z\n",
       "60 ENSG00000120915 8   27490781  27545564  0.0531 8:27464929_A_G  9.05       \n",
       "61 ENSG00000147419 8   27733316  27772653  0.0958 8:27464929_A_G  9.05       \n",
       "   EQTL.ID         EQTL.R2   EQTL.Z EQTL.GWAS.Z NSNP NWGT MODEL MODELCV.R2\n",
       "1  1:161156033_A_C 0.03611   -5.53   6.22       1236 1    top1  0.036     \n",
       "2  1:207802552_A_C 0.00562   -4.16  -8.57       1168 8    lasso 0.012     \n",
       "3  EQTL.ID         EQTL.R2   EQTL.Z EQTL.GWAS.Z NSNP NWGT MODEL MODELCV.R2\n",
       "4  NA              NA        NA     NA          0    0    lasso 0.4       \n",
       "5  EQTL.ID         EQTL.R2   EQTL.Z EQTL.GWAS.Z NSNP NWGT MODEL MODELCV.R2\n",
       "6  11:60097853_C_T 0.036     5.56   4.55        1364 1    top1  0.036     \n",
       "7  EQTL.ID         EQTL.R2   EQTL.Z EQTL.GWAS.Z NSNP NWGT MODEL MODELCV.R2\n",
       "8  14:92795364_A_G 0.00496   4.63   -0.84       1721 1721 bslmm 0.049     \n",
       "9  EQTL.ID         EQTL.R2   EQTL.Z EQTL.GWAS.Z NSNP NWGT MODEL MODELCV.R2\n",
       "10 15:63408320_A_G  0.100775 8.18    2.65       1323  1   top1  0.1       \n",
       "11 15:59063144_A_C -0.000478 4.39   -3.19       1393 10   enet  0.0092    \n",
       "12 15:63370358_C_T  0.030811 5.36   -1.95       1362  1   top1  0.031     \n",
       "13 EQTL.ID         EQTL.R2   EQTL.Z EQTL.GWAS.Z NSNP NWGT MODEL MODELCV.R2\n",
       "14 16:31149142_A_G 0.0818     7.79  -4.57       638    1  top1  0.082     \n",
       "15 16:31154358_A_G 0.1225     9.08  -5.31       637    1  top1  0.12      \n",
       "16 16:30746822_A_C 0.1305    -9.66  -4.11       466  466  blup  0.13      \n",
       "17 EQTL.ID         EQTL.R2   EQTL.Z EQTL.GWAS.Z NSNP NWGT MODEL MODELCV.R2\n",
       "18 17:4830121_A_G  0.0357      5.24 -1.170      1528  1   top1  0.036     \n",
       "19 17:4849635_A_G  0.1909    -11.05  0.636      1483  1   top1  0.19      \n",
       "20 17:5288018_A_G  0.0870     -8.65  2.666      1717  1   top1  0.087     \n",
       "21 17:5154016_A_G  0.2992     14.18 -1.960      1601 91   enet  0.35      \n",
       "22 17:5125249_A_G  0.0730     -7.54 -1.425      1602 13   enet  0.067     \n",
       "23 17:5154016_A_G  0.1409      9.96 -1.960      1542 23   enet  0.16      \n",
       "24 17:4939084_A_G  0.0170     -5.65 -2.100      1496 37   enet  0.036     \n",
       "25 17:30289176_C_T 0.2168    -12.04 -1.219       896  1   top1  0.22      \n",
       "26 EQTL.ID         EQTL.R2   EQTL.Z EQTL.GWAS.Z NSNP NWGT MODEL MODELCV.R2\n",
       "27 19:1021725_A_C  0.0281     -6.16  1.55       1870    8 lasso 0.089     \n",
       "28 NA                  NA        NA    NA          0    0 lasso 0.27      \n",
       "29 19:45146402_C_T 0.0900      8.23 -7.51       1412   25 enet  0.096     \n",
       "30 19:1090803_A_G  0.1534    -10.20 -3.61       1746 1746 bslmm 0.16      \n",
       "⋮  ⋮               ⋮         ⋮      ⋮           ⋮    ⋮    ⋮     ⋮         \n",
       "32 19:45587406_C_T 0.0240     -5.43 -5.29       1381    9 lasso 0.024     \n",
       "33 19:45594842_C_T 0.0126     -4.79 -4.09       1445   16 enet  0.034     \n",
       "34 EQTL.ID         EQTL.R2   EQTL.Z EQTL.GWAS.Z NSNP NWGT MODEL MODELCV.R2\n",
       "35 6:41162891_C_T  -0.00329    3.79 -3.797      1352 1352 bslmm 0.0085    \n",
       "36 6:32629582_C_T   0.43078  -17.33 -1.117      7687   21 lasso 0.61      \n",
       "37 6:32568595_C_T   0.43933  -17.50 -2.387      7456   19 lasso 0.53      \n",
       "38 6:32614847_A_G   0.28314  -14.20 -1.225      7694 7694 bslmm 0.31      \n",
       "39 6:47432637_C_T   0.00976   -4.77 -6.362      1515    7 lasso 0.025     \n",
       "40 6:32566577_C_T   0.60001  -20.10 -2.946      7047   25 lasso 0.74      \n",
       "41 6:32796346_C_T   0.02260   -5.48  3.350      7337   35 enet  0.024     \n",
       "42 6:32191041_A_G   0.05719   -6.28 -1.244      6191    1 top1  0.057     \n",
       "43 6:31463926_C_T   0.03717   -5.88  0.434      4954 4954 bslmm 0.044     \n",
       "44 6:33238892_C_T   0.00762   -4.79 -0.660      2731 2731 blup  0.029     \n",
       "45 6:32005304_A_G   0.01102   -5.51 -0.238      2833   55 enet  0.1       \n",
       "46 6:32823257_C_T   0.06190    6.57 -0.505      7281    1 top1  0.062     \n",
       "47 6:31870326_A_G   0.20567  -11.99 -0.823      2508 2508 blup  0.23      \n",
       "48 EQTL.ID         EQTL.R2   EQTL.Z EQTL.GWAS.Z NSNP NWGT MODEL MODELCV.R2\n",
       "49 7:99949714_A_C  0.01425    -4.61  1.643       841    5 lasso 0.015     \n",
       "50 7:99934192_C_T  0.26189    13.63  1.265       882   33 enet  0.27      \n",
       "51 7:100299028_C_T 0.01049    -4.95  2.312      1405    5 lasso 0.012     \n",
       "52 7:100025564_C_T 0.10468    -8.39  0.572       983    1 top1  0.1       \n",
       "53 7:99648267_A_G  0.09410    -8.86 -2.871       807    6 lasso 0.13      \n",
       "54 7:148095464_A_G 0.00156     4.16  0.465      4753 4753 blup  0.025     \n",
       "55 7:99735181_A_G  0.04781    -6.70 -2.490       771  769 blup  0.043     \n",
       "56 7:143872036_A_G 0.28703   -14.35 -0.414      1021 1021 bslmm 0.31      \n",
       "57 7:99646088_A_C  0.15092    10.29  1.379       762  760 bslmm 0.16      \n",
       "58 7:143952443_C_T 0.11541     8.79  0.491      1007 1007 bslmm 0.15      \n",
       "59 EQTL.ID         EQTL.R2   EQTL.Z EQTL.GWAS.Z NSNP NWGT MODEL MODELCV.R2\n",
       "60 8:27390192_A_G  0.0372     5.56  1.82        1471 2    lasso 0.036     \n",
       "61 8:27625974_A_C  0.1156    -8.87  2.20        1469 1    top1  0.12      \n",
       "   MODELCV.PV TWAS.Z  TWAS.P  \n",
       "1  0.12       -6.22   5.05e-10\n",
       "2  0.2         7.15   8.63e-13\n",
       "3  MODELCV.PV TWAS.Z  TWAS.P  \n",
       "4  5.3e-12    NA      NA      \n",
       "5  MODELCV.PV TWAS.Z  TWAS.P  \n",
       "6  0.091      4.55    5.29e-06\n",
       "7  MODELCV.PV TWAS.Z  TWAS.P  \n",
       "8  0.014      -0.859  0.39    \n",
       "9  MODELCV.PV TWAS.Z  TWAS.P  \n",
       "10 0.0035      2.65   0.00817 \n",
       "11 0.26       -1.62   0.10446 \n",
       "12 0.093      -1.95   0.05103 \n",
       "13 MODELCV.PV TWAS.Z  TWAS.P  \n",
       "14 0.0078     -4.57   4.79e-06\n",
       "15 0.00061    -5.31   1.09e-07\n",
       "16 0.0012      3.69   2.28e-04\n",
       "17 MODELCV.PV TWAS.Z  TWAS.P  \n",
       "18 0.053      -1.170  0.24196 \n",
       "19 2.4e-05    -0.636  0.52509 \n",
       "20 0.016      -2.666  0.00768 \n",
       "21 2.7e-09    -2.066  0.03884 \n",
       "22 0.017       2.258  0.02397 \n",
       "23 0.00023    -3.112  0.00186 \n",
       "24 0.18        1.049  0.29404 \n",
       "25 6.5e-06     1.219  0.22280 \n",
       "26 MODELCV.PV TWAS.Z  TWAS.P  \n",
       "27 0.0049     -1.23   2.21e-01\n",
       "28 7.6e-08       NA         NA\n",
       "29 0.0057     -8.19   2.57e-16\n",
       "30 2e-04       3.23   1.26e-03\n",
       "⋮  ⋮          ⋮       ⋮       \n",
       "32 0.15        4.10   4.16e-05\n",
       "33 0.15        2.07   3.87e-02\n",
       "34 MODELCV.PV TWAS.Z  TWAS.P  \n",
       "35 0.18       -1.9348 5.30e-02\n",
       "36 1.1e-21     1.9281 5.38e-02\n",
       "37 1.1e-19     3.2460 1.17e-03\n",
       "38 2.5e-08     1.3855 1.66e-01\n",
       "39 0.11        5.2810 1.28e-07\n",
       "40 8.8e-36     2.0913 3.65e-02\n",
       "41 0.15       -1.2812 2.00e-01\n",
       "42 0.021       1.2441 2.13e-01\n",
       "43 0.044      -1.0500 2.94e-01\n",
       "44 0.13        0.0403 9.68e-01\n",
       "45 0.0032      0.8172 4.14e-01\n",
       "46 0.023      -0.5045 6.14e-01\n",
       "47 2.8e-07     1.1125 2.66e-01\n",
       "48 MODELCV.PV TWAS.Z  TWAS.P  \n",
       "49 0.19       -2.546  0.01089 \n",
       "50 4e-08       1.006  0.31429 \n",
       "51 0.25       -2.382  0.01721 \n",
       "52 0.0018     -0.572  0.56721 \n",
       "53 0.00022     1.947  0.05149 \n",
       "54 0.14        0.278  0.78139 \n",
       "55 0.037       2.869  0.00412 \n",
       "56 2.9e-07     0.307  0.75859 \n",
       "57 8e-05       1.958  0.05022 \n",
       "58 0.00011     0.776  0.43794 \n",
       "59 MODELCV.PV TWAS.Z  TWAS.P  \n",
       "60 0.078       1.57   0.1164  \n",
       "61 0.0012     -2.20   0.0275  "
      ]
     },
     "metadata": {},
     "output_type": "display_data"
    }
   ],
   "source": [
    "a"
   ]
  },
  {
   "cell_type": "code",
   "execution_count": null,
   "metadata": {},
   "outputs": [],
   "source": [
    "\n",
    "\n",
    "\n",
    "sumstat = read.table(\"~/Project/Alz/data/AD_sumstats_Jansenetal_2019sept_chr7.txt\",head=F,as.is=T)\n",
    "genos = read_plink(\"~/Project/Alz/Alz_PCC_SNP/cache_arch/geneTpmResidualsAgeGenderAdj_rename.ENSG00000106330\")\n",
    "load(\"~/Project/Alz/Alz_PCC_SNP/WEIGHTS/geneTpmResidualsAgeGenderAdj_rename.ENSG00000106330.wgt.RDat\")\n",
    "N = 1\n",
    "chr = 7\n",
    "out.tbl = data.frame( \"PANEL\" = rep(NA,N) , \"FILE\" = character(N) , \"ID\" = character(N) , \"CHR\" = numeric(N) , \"P0\" = character(N) , \"P1\" = character(N) ,\"HSQ\" = numeric(N) , \"BEST.GWAS.ID\" = character(N) , \"BEST.GWAS.Z\" = numeric(N) , \"EQTL.ID\" = character(N) , \"EQTL.R2\" = numeric(N) , \"EQTL.Z\" = numeric(N) , \"EQTL.GWAS.Z\" = numeric(N) , \"NSNP\" = numeric(N) , \"NWGT\" = numeric(N) , \"MODEL\" = character(N) , \"MODELCV.R2\" = character(N) , \"MODELCV.PV\" = character(N) , \"TWAS.Z\" = numeric(N) , \"TWAS.P\" = numeric(N) , stringsAsFactors=FALSE )\n",
    "colnames(sumstat) = c(\"SNP\",\"CHR\",\"BP\",\"A1\",\"A2\",\"SNP_rsID\",\"Z\",\"P\",\"Nsum\",\"Neff\",\"dir\",\"EAF\",\"BETA\",\"SE\")\n",
    "\n",
    "m = match( genos$bim[,2] , sumstat$SNP )\n",
    "sum.missing = is.na(m)\n",
    "sumstat = sumstat[m,]\n",
    "sumstat$SNP = genos$bim[,2]\n",
    "sumstat$A1[ sum.missing ] = genos$bim[sum.missing,5]\n",
    "sumstat$A2[ sum.missing ] = genos$bim[sum.missing,6]\n",
    "\n",
    "sum(!qc$keep)\n",
    "if ( sum(!qc$keep) > 0 ) {\n",
    "genos$bim = genos$bim[qc$keep,]\n",
    "genos$bed = genos$bed[,qc$keep]\n",
    "sumstat = sumstat[qc$keep,]\n",
    "}\n",
    "sum(is.na(genos$ed))\n",
    "sum(is.na(genos$bed))\n",
    "genos$bed[,qc$keep]\n",
    "qc$keep\n",
    "wgt.matrix[is.na(wgt.matrix)] = 0\n",
    "m = match( snps[,2] , genos$bim[,2] )\n",
    "m\n",
    "m.keep = !is.na(m)\n",
    "m.keep\n",
    "snps = snps[m.keep,]\n",
    "snps\n",
    "wgt.matrix = wgt.matrix[m.keep,,drop=F]\n",
    "cur.genos = scale(genos$bed[,m[m.keep]])\n",
    "cur.genos\n",
    "cur.bim = genos$bim[m[m.keep],]\n",
    "qc = allele.qc( snps[,5] , snps[,6] , cur.bim[,5] , cur.bim[,6] )\n",
    "wgt.matrix[qc$flip,] = -1 * wgt.matrix[qc$flip,]\n",
    "cur.FAIL = FALSE\n",
    "m = match(cur.bim[,2] , sumstat$SNP)\n",
    "m\n",
    "cur.Z = sumstat$Z[m]\n",
    "row.rsq = grep( \"rsq\" , rownames(cv.performance) )\n",
    "row.pval = grep( \"pval\" , rownames(cv.performance) )\n",
    "mod.best = which.min(apply(cv.performance[row.pval,,drop=F],2,min,na.rm=T))\n",
    "mod.best\n",
    "wgt.matrix\n",
    "cv.performance\n",
    "\n",
    "\n",
    "\n",
    "\n",
    "\n",
    "\n"
   ]
  },
  {
   "cell_type": "markdown",
   "metadata": {},
   "source": [
    "# Record of data generation"
   ]
  },
  {
   "cell_type": "code",
   "execution_count": null,
   "metadata": {},
   "outputs": [],
   "source": [
    "# First run\n",
    "nohup sos run ~/GIT/neuro-twas/Workflow/twas_fusion_susie.ipynb twas_fusion --gwas_sumstat /home/hs3163/Project/Alz/data/AD_sumstats_Jansenetal_2019sept.txt --molecular-pheno /home/hs3163/Project/Rosmap/data/gene_exp/PCC/geneTpmResidualsAgeGenderAdj_rename.txt --wd /home/hs3163/Project/Alz/Alz_PCC_SNP/ --genotype_list /home/hs3163/Project/Rosmap/data/Rosmap_wgs_genotype_list.txt --region_list /home/hs3163/Project/Alz/data/RSM_Alz_region_list_PCC.txt --region_name 1 --data_start 2 --window 500000 --weights_path /home/hs3163/Project/Alz/Alz_PCC_SNP/WEIGHTS --weights_list /home/hs3163/Project/Alz/Alz_PCC_SNP/WEIGHTS/All_wgt_list.txt --container /mnt/mfs/statgen/containers/twas_latest.sif --job_size 1 --asso_mem \"30G\" -J 50 -q csg -c /home/hs3163/GIT/neuro-twas/template/csg.yml -s build\n",
    "nohup sos run ~/GIT/neuro-twas/Workflow/twas_fusion_susie.ipynb twas_fusion --gwas_sumstat /home/hs3163/Project/Alz/data/AD_sumstats_Jansenetal_2019sept.txt --molecular-pheno /home/hs3163/Project/Rosmap/data/gene_exp/DLPFC/geneTpmResidualsAgeGenderAdj_rename.txt --wd /home/hs3163/Project/Alz/Alz_DLPFC_SNP/ --genotype_list /home/hs3163/Project/Rosmap/data/Rosmap_wgs_genotype_list.txt --region_list /home/hs3163/Project/Alz/data/RSM_Alz_region_list_DLPFC.txt --region_name 1 --data_start 2 --window 500000 --weights_path /home/hs3163/Project/Alz/Alz_DLPFC_SNP/WEIGHTS --weights_list /home/hs3163/Project/Alz/Alz_DLPFC_SNP/WEIGHTS/All_wgt_list.txt --container /mnt/mfs/statgen/containers/twas_latest.sif --job_size 1 --asso_mem \"30G\" -J 50 -q csg -c /home/hs3163/GIT/neuro-twas/template/csg.yml -s build &\n",
    "nohup sos run ~/GIT/neuro-twas/Workflow/twas_fusion_susie.ipynb twas_fusion --gwas_sumstat /home/hs3163/Project/Alz/data/AD_sumstats_Jansenetal_2019sept.txt --molecular-pheno /home/hs3163/Project/Rosmap/data/gene_exp/AC/geneTpmResidualsAgeGenderAdj_rename.txt --wd /home/hs3163/Project/Alz/Alz_AC_SNP/ --genotype_list /home/hs3163/Project/Rosmap/data/Rosmap_wgs_genotype_list.txt --region_list /home/hs3163/Project/Alz/data/RSM_Alz_region_list_AC.txt --region_name 1 --data_start 2 --window 500000 --weights_path /home/hs3163/Project/Alz/Alz_AC_SNP/WEIGHTS --weights_list /home/hs3163/Project/Alz/Alz_AC_SNP/WEIGHTS/All_wgt_list.txt --container /mnt/mfs/statgen/containers/twas_latest.sif --job_size 1 --asso_mem \"30G\" -J 50 -q csg -c /home/hs3163/GIT/neuro-twas/template/csg.yml -s build &\n",
    "\n",
    "\n",
    "# Second run\n",
    "nohup sos run ~/GIT/neuro-twas/Workflow/twas_fusion_susie.ipynb twas_fusion --gwas_sumstat /home/hs3163/Project/Alz/data/AD_sumstats_Jansenetal_2019sept.txt --molecular-pheno /home/hs3163/Project/Rosmap/data/gene_exp/PCC/geneTpmResidualsAgeGenderAdj_rename.txt --wd /home/hs3163/Project/Alz/Alz_PCC_SNP/ --genotype_list /home/hs3163/Project/Rosmap/data/Rosmap_wgs_genotype_list.txt --region_list /home/hs3163/Project/Alz/data/RSM_Alz_region_list_PCC.txt --region_name 1 --data_start 2 --window 500000 --weights_path /home/hs3163/Project/Alz/Alz_PCC_SNP/WEIGHTS --weights_list /home/hs3163/Project/Alz/Alz_PCC_SNP/WEIGHTS/All_wgt_list.txt --container /mnt/mfs/statgen/containers/twas_latest.sif --job_size 1 --asso_mem \"30G\" -J 50 -q csg -c /home/hs3163/GIT/neuro-twas/template/csg.yml -s build\n",
    "nohup sos run ~/GIT/neuro-twas/Workflow/twas_fusion_susie.ipynb twas_fusion --gwas_sumstat /home/hs3163/Project/Alz/data/AD_sumstats_Jansenetal_2019sept.txt --molecular-pheno /home/hs3163/Project/Rosmap/data/gene_exp/DLPFC/geneTpmResidualsAgeGenderAdj_rename.txt --wd /home/hs3163/Project/Alz/Alz_DLPFC_SNP/ --genotype_list /home/hs3163/Project/Rosmap/data/Rosmap_wgs_genotype_list.txt --region_list /home/hs3163/Project/Alz/data/RSM_Alz_region_list_DLPFC.txt --region_name 1 --data_start 2 --window 500000 --weights_path /home/hs3163/Project/Alz/Alz_DLPFC_SNP/WEIGHTS --weights_list /home/hs3163/Project/Alz/Alz_DLPFC_SNP/WEIGHTS/All_wgt_list.txt --container /mnt/mfs/statgen/containers/twas_latest.sif --job_size 1 --asso_mem \"30G\" -J 50 -q csg -c /home/hs3163/GIT/neuro-twas/template/csg.yml -s build &\n",
    "nohup sos run ~/GIT/neuro-twas/Workflow/twas_fusion_susie.ipynb twas_fusion --gwas_sumstat /home/hs3163/Project/Alz/data/AD_sumstats_Jansenetal_2019sept.txt --molecular-pheno /home/hs3163/Project/Rosmap/data/gene_exp/AC/geneTpmResidualsAgeGenderAdj_rename.txt --wd /home/hs3163/Project/Alz/Alz_AC_SNP/ --genotype_list /home/hs3163/Project/Rosmap/data/Rosmap_wgs_genotype_list.txt --region_list /home/hs3163/Project/Alz/data/RSM_Alz_region_list_AC.txt --region_name 1 --data_start 2 --window 500000 --weights_path /home/hs3163/Project/Alz/Alz_AC_SNP/WEIGHTS --weights_list /home/hs3163/Project/Alz/Alz_AC_SNP/WEIGHTS/All_wgt_list.txt --container /mnt/mfs/statgen/containers/twas_latest.sif --job_size 1 --asso_mem \"30G\" -J 50 -q csg -c /home/hs3163/GIT/neuro-twas/template/csg.yml -s build &\n",
    "\n"
   ]
  },
  {
   "cell_type": "code",
   "execution_count": null,
   "metadata": {},
   "outputs": [],
   "source": []
  },
  {
   "cell_type": "code",
   "execution_count": null,
   "metadata": {},
   "outputs": [],
   "source": []
  },
  {
   "cell_type": "code",
   "execution_count": 2,
   "metadata": {},
   "outputs": [],
   "source": [
    "\n",
    "diag = attach(\"/mnt/mfs/statgen/neuro-twas/mv_wg/result/geneTpmResidualsAgeGenderAdj_rename.ENSG00000076864.mv_susie.model.cv_diag.RData\")"
   ]
  },
  {
   "cell_type": "code",
   "execution_count": 10,
   "metadata": {},
   "outputs": [],
   "source": [
    "diag$cv_df$weight"
   ]
  },
  {
   "cell_type": "code",
   "execution_count": 107,
   "metadata": {},
   "outputs": [
    {
     "data": {
      "text/html": [
       "9"
      ],
      "text/latex": [
       "9"
      ],
      "text/markdown": [
       "9"
      ],
      "text/plain": [
       "[1] 9"
      ]
     },
     "metadata": {},
     "output_type": "display_data"
    },
    {
     "data": {
      "text/html": [
       "5"
      ],
      "text/latex": [
       "5"
      ],
      "text/markdown": [
       "5"
      ],
      "text/plain": [
       "[1] 5"
      ]
     },
     "metadata": {},
     "output_type": "display_data"
    },
    {
     "data": {
      "text/html": [
       "12"
      ],
      "text/latex": [
       "12"
      ],
      "text/markdown": [
       "12"
      ],
      "text/plain": [
       "[1] 12"
      ]
     },
     "metadata": {},
     "output_type": "display_data"
    }
   ],
   "source": [
    "analysis_comp$sum_data[[1]]%>%filter(MODELCV.PV < 0.05)%>%pull(pv_less)%>%sum\n",
    "analysis_comp$sum_data[[2]]%>%filter(MODELCV.PV < 0.05)%>%pull(pv_less)%>%sum\n",
    "analysis_comp$sum_data[[3]]%>%filter(MODELCV.PV < 0.05)%>%pull(pv_less)%>%sum"
   ]
  },
  {
   "cell_type": "code",
   "execution_count": 108,
   "metadata": {},
   "outputs": [
    {
     "data": {
      "text/html": [
       "11"
      ],
      "text/latex": [
       "11"
      ],
      "text/markdown": [
       "11"
      ],
      "text/plain": [
       "[1] 11"
      ]
     },
     "metadata": {},
     "output_type": "display_data"
    },
    {
     "data": {
      "text/html": [
       "8"
      ],
      "text/latex": [
       "8"
      ],
      "text/markdown": [
       "8"
      ],
      "text/plain": [
       "[1] 8"
      ]
     },
     "metadata": {},
     "output_type": "display_data"
    },
    {
     "data": {
      "text/html": [
       "8"
      ],
      "text/latex": [
       "8"
      ],
      "text/markdown": [
       "8"
      ],
      "text/plain": [
       "[1] 8"
      ]
     },
     "metadata": {},
     "output_type": "display_data"
    }
   ],
   "source": [
    "analysis_comp$sum_data[[1]]%>%filter(MODELCV.PV >= 0.05)%>%pull(pv_less)%>%sum\n",
    "analysis_comp$sum_data[[2]]%>%filter(MODELCV.PV >= 0.05)%>%pull(pv_less)%>%sum\n",
    "analysis_comp$sum_data[[3]]%>%filter(MODELCV.PV >= 0.05)%>%pull(pv_less)%>%sum"
   ]
  },
  {
   "cell_type": "code",
   "execution_count": 109,
   "metadata": {},
   "outputs": [],
   "source": [
    "analysis_comp$sum_data%>%saveRDS(\"~/analysis_sum_data.RDS\")"
   ]
  },
  {
   "cell_type": "code",
   "execution_count": null,
   "metadata": {},
   "outputs": [],
   "source": []
  }
 ],
 "metadata": {
  "kernelspec": {
   "display_name": "R",
   "language": "R",
   "name": "ir"
  },
  "language_info": {
   "codemirror_mode": "r",
   "file_extension": ".r",
   "mimetype": "text/x-r-source",
   "name": "R",
   "pygments_lexer": "r",
   "version": "3.6.3"
  }
 },
 "nbformat": 4,
 "nbformat_minor": 4
}
