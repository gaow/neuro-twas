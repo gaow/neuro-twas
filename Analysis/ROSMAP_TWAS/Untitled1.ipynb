{
 "cells": [
  {
   "cell_type": "code",
   "execution_count": 1,
   "metadata": {},
   "outputs": [
    {
     "name": "stderr",
     "output_type": "stream",
     "text": [
      "Warning message in install.packages(c(\"tweenr\", \"polyclip\", \"ggforce\")):\n",
      "“installation of package ‘tweenr’ had non-zero exit status”\n",
      "Warning message in install.packages(c(\"tweenr\", \"polyclip\", \"ggforce\")):\n",
      "“installation of package ‘polyclip’ had non-zero exit status”\n",
      "Warning message in install.packages(c(\"tweenr\", \"polyclip\", \"ggforce\")):\n",
      "“installation of package ‘ggforce’ had non-zero exit status”\n",
      "Updating HTML index of packages in '.Library'\n",
      "\n",
      "Making 'packages.html' ...\n",
      " done\n",
      "\n"
     ]
    }
   ],
   "source": [
    "install.packages(c(\"tweenr\",\"polyclip\",\"ggforce\"))"
   ]
  },
  {
   "cell_type": "code",
   "execution_count": null,
   "metadata": {},
   "outputs": [],
   "source": []
  }
 ],
 "metadata": {
  "kernelspec": {
   "display_name": "R",
   "language": "R",
   "name": "ir"
  },
  "language_info": {
   "codemirror_mode": "r",
   "file_extension": ".r",
   "mimetype": "text/x-r-source",
   "name": "R",
   "pygments_lexer": "r",
   "version": "4.0.1"
  }
 },
 "nbformat": 4,
 "nbformat_minor": 4
}
