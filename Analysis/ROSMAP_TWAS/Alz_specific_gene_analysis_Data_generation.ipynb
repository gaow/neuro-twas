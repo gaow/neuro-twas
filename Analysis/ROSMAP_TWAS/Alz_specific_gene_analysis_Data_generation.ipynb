{
 "cells": [
  {
   "cell_type": "markdown",
   "metadata": {
    "kernel": "SoS"
   },
   "source": [
    "# Alz specific gene analysis\n",
    "A recent research on Alzheimer disease at 2019 identified 198 unique genes of interest from both table 1 and supplementary table 13. They are\n",
    "\n",
    "34 genes from \n",
    "   >Table 1: Significantly associated regions identified in the GWAS of AD case-control status, AD-by-proxy phenotype, and meta-analysis\n",
    "\n",
    "192 genes from \n",
    "   >Supplementary Table 13: Genes implicated by positional mapping, eQTL or chromatin interaction mapping of significant GWAS SNPs.\n",
    "\n",
    "Among them, 6 genes in Table 1 are not covered in S_Table 13, making a total of 198 genes.\n",
    "\n",
    "This analysis take these regions, cross reference them with the genes that were sequenced in the ROSMAP data set, and then compute the weight and Association stats for it. \n"
   ]
  },
  {
   "cell_type": "markdown",
   "metadata": {
    "kernel": "SoS"
   },
   "source": [
    "## Method\n",
    "### Data wrangling and Region list extraction.\n",
    "Before started,two csv format gene list was extracted from both table 1,via microsoft word OCR, and the downloaded supplemanty table 13 of the paper.\n",
    "\n",
    "The code used for extractng a region list is shown below. \n",
    "\n",
    "The first section correct various mistake in Table 1 that can inhibit the annotation and matching process. Then ensemble ID are attched to table 1 based using \"hsapiens_gene_ensembl\" data base as table 13 already have ensemble ID comming with it. The checking of both gene name and ensemble ID ensure there is no duplication of genes. \n",
    "\n",
    "The genes are then used to compared with both the DLPFC and the PCC.  \n",
    "\n",
    "162 out of 192 genes are included in the ROSMAP DLPFC gene expression files and 160 are in that of PCC, both are stored for follow up analysis. For the excluded genes, please see:https://github.com/cumc/neuro-twas/issues/20\n",
    "\n",
    "    The following codes are meant to be ran in a R enviorment with package collection tidyverse installed."
   ]
  },
  {
   "cell_type": "code",
   "execution_count": 4,
   "metadata": {
    "kernel": "R"
   },
   "outputs": [
    {
     "name": "stderr",
     "output_type": "stream",
     "text": [
      "Parsed with column specification:\n",
      "cols(\n",
      "  .default = col_double(),\n",
      "  Gene = \u001b[31mcol_character()\u001b[39m,\n",
      "  `Ensembl ID` = \u001b[31mcol_character()\u001b[39m,\n",
      "  `eqtlMap Tissues` = \u001b[31mcol_character()\u001b[39m,\n",
      "  `eqtlMap Direction` = \u001b[31mcol_character()\u001b[39m,\n",
      "  ciMap = \u001b[31mcol_character()\u001b[39m,\n",
      "  `ciMap Tissues` = \u001b[31mcol_character()\u001b[39m,\n",
      "  IndSigSNPs = \u001b[31mcol_character()\u001b[39m,\n",
      "  `TWAS P` = \u001b[31mcol_character()\u001b[39m,\n",
      "  `TWAS Tissue` = \u001b[31mcol_character()\u001b[39m,\n",
      "  `Additional TWAS Tissues` = \u001b[31mcol_character()\u001b[39m\n",
      ")\n",
      "\n",
      "See spec(...) for full column specifications.\n",
      "\n",
      "Warning message:\n",
      "“Missing column names filled in: 'X1' [1]”\n",
      "Warning message:\n",
      "“Duplicated column names deduplicated: 'SNP' => 'SNP_1' [7], 'P' => 'P_1' [8], 'SNP' => 'SNP_2' [9], 'P' => 'P_2' [15]”\n",
      "Parsed with column specification:\n",
      "cols(\n",
      "  X1 = \u001b[33mcol_logical()\u001b[39m,\n",
      "  Locus = \u001b[31mcol_character()\u001b[39m,\n",
      "  Chr = \u001b[32mcol_double()\u001b[39m,\n",
      "  Gene = \u001b[31mcol_character()\u001b[39m,\n",
      "  SNP = \u001b[31mcol_character()\u001b[39m,\n",
      "  P = \u001b[31mcol_character()\u001b[39m,\n",
      "  SNP_1 = \u001b[31mcol_character()\u001b[39m,\n",
      "  P_1 = \u001b[31mcol_character()\u001b[39m,\n",
      "  SNP_2 = \u001b[31mcol_character()\u001b[39m,\n",
      "  bp = \u001b[32mcol_double()\u001b[39m,\n",
      "  A1 = \u001b[31mcol_character()\u001b[39m,\n",
      "  A2 = \u001b[31mcol_character()\u001b[39m,\n",
      "  MAF = \u001b[31mcol_character()\u001b[39m,\n",
      "  Z = \u001b[31mcol_character()\u001b[39m,\n",
      "  P_2 = \u001b[31mcol_character()\u001b[39m,\n",
      "  Direction = \u001b[31mcol_character()\u001b[39m\n",
      ")\n",
      "\n"
     ]
    },
    {
     "data": {
      "text/html": [
       "<table>\n",
       "<caption>A tibble: 9 × 3</caption>\n",
       "<thead>\n",
       "\t<tr><th scope=col>chr</th><th scope=col>gene</th><th scope=col>snp</th></tr>\n",
       "\t<tr><th scope=col>&lt;chr&gt;</th><th scope=col>&lt;chr&gt;</th><th scope=col>&lt;chr&gt;</th></tr>\n",
       "</thead>\n",
       "<tbody>\n",
       "\t<tr><td>4 </td><td>CLNK       </td><td>1</td></tr>\n",
       "\t<tr><td>4 </td><td>HS3ST1     </td><td>1</td></tr>\n",
       "\t<tr><td>6 </td><td>HLA-DRB1   </td><td>1</td></tr>\n",
       "\t<tr><td>10</td><td>ECHDC3     </td><td>1</td></tr>\n",
       "\t<tr><td>16</td><td>KAT8       </td><td>1</td></tr>\n",
       "\t<tr><td>17</td><td>ABI3       </td><td>1</td></tr>\n",
       "\t<tr><td>17</td><td>TSPOAP1-AS1</td><td>1</td></tr>\n",
       "\t<tr><td>18</td><td>SUZ12P1    </td><td>1</td></tr>\n",
       "\t<tr><td>19</td><td>BHMG1      </td><td>1</td></tr>\n",
       "</tbody>\n",
       "</table>\n"
      ],
      "text/latex": [
       "A tibble: 9 × 3\n",
       "\\begin{tabular}{lll}\n",
       " chr & gene & snp\\\\\n",
       " <chr> & <chr> & <chr>\\\\\n",
       "\\hline\n",
       "\t 4  & CLNK        & 1\\\\\n",
       "\t 4  & HS3ST1      & 1\\\\\n",
       "\t 6  & HLA-DRB1    & 1\\\\\n",
       "\t 10 & ECHDC3      & 1\\\\\n",
       "\t 16 & KAT8        & 1\\\\\n",
       "\t 17 & ABI3        & 1\\\\\n",
       "\t 17 & TSPOAP1-AS1 & 1\\\\\n",
       "\t 18 & SUZ12P1     & 1\\\\\n",
       "\t 19 & BHMG1       & 1\\\\\n",
       "\\end{tabular}\n"
      ],
      "text/markdown": [
       "\n",
       "A tibble: 9 × 3\n",
       "\n",
       "| chr &lt;chr&gt; | gene &lt;chr&gt; | snp &lt;chr&gt; |\n",
       "|---|---|---|\n",
       "| 4  | CLNK        | 1 |\n",
       "| 4  | HS3ST1      | 1 |\n",
       "| 6  | HLA-DRB1    | 1 |\n",
       "| 10 | ECHDC3      | 1 |\n",
       "| 16 | KAT8        | 1 |\n",
       "| 17 | ABI3        | 1 |\n",
       "| 17 | TSPOAP1-AS1 | 1 |\n",
       "| 18 | SUZ12P1     | 1 |\n",
       "| 19 | BHMG1       | 1 |\n",
       "\n"
      ],
      "text/plain": [
       "  chr gene        snp\n",
       "1 4   CLNK        1  \n",
       "2 4   HS3ST1      1  \n",
       "3 6   HLA-DRB1    1  \n",
       "4 10  ECHDC3      1  \n",
       "5 16  KAT8        1  \n",
       "6 17  ABI3        1  \n",
       "7 17  TSPOAP1-AS1 1  \n",
       "8 18  SUZ12P1     1  \n",
       "9 19  BHMG1       1  "
      ]
     },
     "metadata": {},
     "output_type": "display_data"
    },
    {
     "data": {
      "text/html": [
       "<table>\n",
       "<caption>A tibble: 0 × 3</caption>\n",
       "<thead>\n",
       "\t<tr><th scope=col>gene</th><th scope=col>ensembl_id</th><th scope=col>chr</th></tr>\n",
       "\t<tr><th scope=col>&lt;chr&gt;</th><th scope=col>&lt;chr&gt;</th><th scope=col>&lt;chr&gt;</th></tr>\n",
       "</thead>\n",
       "<tbody>\n",
       "</tbody>\n",
       "</table>\n"
      ],
      "text/latex": [
       "A tibble: 0 × 3\n",
       "\\begin{tabular}{lll}\n",
       " gene & ensembl\\_id & chr\\\\\n",
       " <chr> & <chr> & <chr>\\\\\n",
       "\\hline\n",
       "\\end{tabular}\n"
      ],
      "text/markdown": [
       "\n",
       "A tibble: 0 × 3\n",
       "\n",
       "| gene &lt;chr&gt; | ensembl_id &lt;chr&gt; | chr &lt;chr&gt; |\n",
       "|---|---|---|\n",
       "\n"
      ],
      "text/plain": [
       "     gene ensembl_id chr"
      ]
     },
     "metadata": {},
     "output_type": "display_data"
    },
    {
     "ename": "ERROR",
     "evalue": "Error in stri_detect_regex(string, pattern, negate = negate, opts_regex = opts(pattern)): 找不到对象'Name'\n",
     "output_type": "error",
     "traceback": [
      "Error in stri_detect_regex(string, pattern, negate = negate, opts_regex = opts(pattern)): 找不到对象'Name'\nTraceback:\n",
      "1. str_detect(Name, \"\\\\*\")",
      "2. stri_detect_regex(string, pattern, negate = negate, opts_regex = opts(pattern))"
     ]
    }
   ],
   "source": [
    "library(dplyr)\n",
    "library(readr)\n",
    "library(tibble)\n",
    "library(ggplot2)\n",
    "library(stringr)\n",
    "library(\"biomaRt\")\n",
    "table_13 = read_csv(\"/Users/haosun/Documents/WG_Reasearch_Assisstant/Fusion/Project/table_13.csv\",skip = 3)%>%janitor::clean_names()%>%dplyr::select(chr,gene,ensembl_id)\n",
    "table_1 = read_csv(\"/Users/haosun/Documents/WG_Reasearch_Assisstant/Fusion/Project/table_1.csv\",skip = 2)%>%janitor::clean_names()%>%dplyr::select(chr,gene,snp)\n",
    "table_13 = table_13[1:192,]\n",
    "table_1[,3]=1\n",
    "table_1 = table_1%>%na.omit()\n",
    "# Manual change the error in table_1\n",
    "#Typo in the paper\n",
    "table_1$gene[table_1$gene == \"INPPD5\"] = \"INPP5D\"\n",
    "#Alternative name for same genes\n",
    "table_1$gene[table_1$gene == \"AC074212.3\"] = \"BHMG1\"\n",
    "table_1$gene[table_1$gene == \"BZRAP1-AS1\"] = \"TSPOAP1-AS1\"\n",
    "#Two genes putted together\n",
    "table_1$gene[table_1$gene == \"CLU/PTK2B\"] = \"CLU\"\n",
    "table_1 = rbind(table_1,c(8,\"PTK2B\",1))\n",
    "\n",
    "table_1%>%filter(!gene%in%table_13$gene)\n",
    "\n",
    "# Annotated the ID for table_1\n",
    "ensembl = useDataset(\"hsapiens_gene_ensembl\",mart=useMart(\"ENSEMBL_MART_ENSEMBL\"))\n",
    "ensembl_df <- getBM(attributes=c(\"ensembl_gene_id\",\"chromosome_name\", \"start_position\", \"end_position\",\"external_gene_name\"),mart=ensembl)%>%filter(!str_detect(chromosome_name,\"CHR\"))\n",
    "table_1_anno = left_join(x = table_1, y = ensembl_df, by = c(\"gene\" = \"external_gene_name\"))%>%dplyr::select(gene,\"ensembl_id\" = ensembl_gene_id,chr)\n",
    "table_1_anno[is.na(table_1_anno$ensembl_id),]\n",
    "\n",
    "# Remove the * in table_13\n",
    "str_detect(Name,\"\\\\*\")\n",
    "table_13[str_detect(table_13$gene,\"\\\\*\"),] = table_13%>%filter(str_detect(gene,\"\\\\*\"))%>%mutate(gene = str_sub(gene,end=-2))\n",
    "\n",
    "\n",
    "# combined the two table and remove the duplicated. table 1 bring 7 additional genes to table 13\n",
    "Alz_gene = rbind(table_1_anno,table_13)%>%filter(!duplicated(gene))\n",
    "Alz_gene\n",
    "\n",
    "# Find if all the genes present in the ROSMAP dataset\n",
    "\n",
    "#DLPFC\n",
    "RSM_DLPFC_gene_list = readr::read_delim(\"/Users/haosun/Documents/WG_Reasearch_Assisstant/Rosmap/Data/gene_exp/DLPFC/geneCountsResidualsPlusBaselineAgeGenderAdj_rename.txt\",\"\\t\")\n",
    "# A total of 162 genes are present in the DLPFC gene exp\n",
    "Alz_gene_notIn_DLPFC = Alz_gene%>%filter(!ensembl_id%in%RSM_DLPFC_gene_list$gene_ID)\n",
    "\n",
    "#PCC\n",
    "\n",
    "readr::read_delim(\"/Users/haosun/Documents/WG_Reasearch_Assisstant/Rosmap/Data/geneTpmResidualsAgeGenderAdj_rename_region_list.txt\",\"\\t\")\n",
    "\n",
    "RSM_PCC_gene_list = readr::read_delim(\"/Users/haosun/Documents/WG_Reasearch_Assisstant/Rosmap/Data/gene_exp/PCC/geneTpmResidualsAgeGenderAdj_rename.txt\",\"\\t\")\n",
    "Alz_gene_notIn_PCC = Alz_gene%>%filter(!ensembl_id%in%RSM_PCC_gene_list$gene_ID)\n",
    "\n",
    "\n",
    "Alz_gene_notIn_PCC[!Alz_gene_notIn_PCC$gene%in%Alz_gene_notIn_DLPFC$gene,]\n",
    "\n",
    "#AC\n",
    "RSM_AC_gene_list = readr::read_delim(\"/Users/haosun/Documents/WG_Reasearch_Assisstant/Rosmap/Data/geneCountsResidualsAgeGenderAdj.txt\",\" \")\n",
    "Alz_gene_notIn_AC = Alz_gene%>%filter(!ensembl_id%in%RSM_AC_gene_list$gene_ID)\n",
    "\n",
    "# Gene that are only excluded from AC \n",
    "Alz_gene_notIn_AC[!Alz_gene_notIn_AC$gene%in%Alz_gene_notIn_PCC$gene,]\n",
    "\n",
    "# Gene that are excluded from PCC and DLPFC only\n",
    "Alz_gene_notIn_PCC[!Alz_gene_notIn_PCC$gene%in%Alz_gene_notIn_AC$gene,]\n",
    "\n",
    "#See what gene from table 1 are excluded, both gene_set\n",
    "table_1_anno[table_1_anno$ensembl_id%in%Alz_gene_notIn_PCC$ensembl_id,] \n",
    "table_1[table_1$gene%in%Alz_gene_notIn_AC$gene,]\n",
    "\n",
    "#See what gene from table 13 are excluded\n",
    "table_13[table_13$gene%in%Alz_gene_notIn_PCC$gene,]%>%filter(gene == \"EXOC3L2\")\n",
    "table_13[table_13$gene%in%Alz_gene_notIn_AC$gene,]\n",
    "\n",
    "#Check if the excluded gene have alternative ensemble ID in PCC and DLPFC, and if it was presented(No)\n",
    "ensembl_df%>%filter(external_gene_name%in%Alz_gene_notIn_PCC$gene,!ensembl_gene_id%in%Alz_gene_notIn_PCC$ensembl_id)\n",
    "RSM_DLPFC_gene_list%>%filter(gene_ID%in%Alz_gene$ensembl_id)%>%filter(gene_ID == \"ENSG00000283632\")\n",
    "RSM_PCC_gene_list%>%filter(gene_ID%in%Alz_gene$ensembl_id)%>%filter(gene_ID == \"ENSG00000283632\")\n",
    "#Check if the excluded gene have alternative ensemble ID in AC, and if it was presented(No)\n",
    "ensembl_df%>%filter(external_gene_name%in%Alz_gene_notIn_AC$gene,!ensembl_gene_id%in%Alz_gene_notIn_AC$ensembl_id)\n",
    "RSM_AC_gene_list%>%filter(gene_ID%in%Alz_gene$ensembl_id)%>%filter(gene_ID == \"ENSG00000283632\")\n",
    "\n",
    "\n",
    "# Export the region list for DLPFC and PCC, AC\n",
    "RSM_ALZ_gene_DLPFC = RSM_DLPFC_gene_list%>%filter(gene_ID%in%Alz_gene$ensembl_id)\n",
    "RSM_ALZ_gene_DLPFC%>%write_delim(\"/Users/haosun/Documents/WG_Reasearch_Assisstant/Rosmap/Data/DLPFC/RSM_Alz_region_list.txt\",delim = \"\\t\")\n",
    "\n",
    "RSM_ALZ_gene_PCC = RSM_PCC_gene_list%>%filter(gene_ID%in%Alz_gene$ensembl_id)\n",
    "RSM_ALZ_gene_PCC%>%write_delim(\"/Users/haosun/Documents/WG_Reasearch_Assisstant/Rosmap/Data/PCC/RSM_Alz_region_list.txt\",delim = \"\\t\")\n",
    "\n",
    "RSM_ALZ_gene_AC = RSM_AC_gene_list%>%filter(gene_ID%in%Alz_gene$ensembl_id)\n",
    "RSM_ALZ_gene_AC%>%write_delim(\"/Users/haosun/Documents/WG_Reasearch_Assisstant/Rosmap/Data/AC/RSM_Alz_region_list.txt\",delim = \"\\t\")\n",
    "\n"
   ]
  },
  {
   "attachments": {
    "0e5ccaf1-4c16-4d67-a075-a6e14832bc33.png": {
     "image/png": "[encoded data removed]"
    }
   },
   "cell_type": "markdown",
   "metadata": {
    "kernel": "R"
   },
   "source": [
    "## Weight Computation and association testing\n",
    "Since the region extracted and the sum stat are availble at the moments. The weight computation and association testing are performed on one go. A workflow are ran for both the DLPFC, PCC and AC for both all the SNVs in the WGS dataset(with a surfix: FULL) and also a selection of SNVs that have GWAS score with Alz disease reported. \n",
    "\n",
    "![image.png](attachment:0e5ccaf1-4c16-4d67-a075-a6e14832bc33.png)\n",
    "\n",
    "\n",
    "\n",
    "For the study, most parameters are ran using the standard twas_fusion workflow, with the following specifications for the weight computation steps:\n",
    "\n",
    "    All five models are used.\n",
    "    A window of 10000 bp beforee and after the gene was used.\n",
    "   >Positional mapping maps SNPs to genes based on physical distance (within a 10-kb window) from known protein-coding genes in the human reference assembly (GRCh37/hg19).\n",
    "    \n",
    "    The cut off p.value of heritability is 0.01\n"
   ]
  },
  {
   "cell_type": "code",
   "execution_count": null,
   "metadata": {
    "kernel": "Bash"
   },
   "outputs": [],
   "source": [
    "#DLPFC, Full \n",
    "nohup sos run ~/GIT/neuro-twas/Workflow/twas_fusion.ipynb twas_fusion  \\\n",
    "  --gwas_sumstat /home/hs3163/Project/Alz/data/AD_sumstats_Jansenetal_2019sept.txt \\\n",
    "  --molecular-pheno  /home/hs3163/Project/Rosmap/data/gene_exp/DLPFC/geneTpmResidualsAgeGenderAdj_rename.txt  \\\n",
    "  --wd /home/hs3163/Project/Alz/Alz_DLPFC_FULL_2 \\\n",
    "  --genotype_list /home/hs3163/Project/Rosmap/data/Rosmap_wgs_genotype_list.txt \\\n",
    "  --region_list /home/hs3163/Project/Alz/data/RSM_Alz_region_list_DLPFC.txt \\\n",
    "  --region_name 1 \\\n",
    "  --data_start 2 \\\n",
    "  --window 10000 \\\n",
    "  --container /mnt/mfs/statgen/containers/twas_latest.sif \\\n",
    "  --model bslmm blup lasso top1 enet \\\n",
    "  --job_size 1\\\n",
    "  --asso_mem \"60G\" \\\n",
    "  --exclude_snp ~/Project/Alz/data/pb_snp \\\n",
    "  -J 50 -q csg -c /mnt/mfs/statgen/pbs_template/csg.yml -s build &\n",
    "\n",
    "#DLPFC, SNP \n",
    "nohup sos run ~/GIT/neuro-twas/Workflow/twas_fusion.ipynb twas_fusion  \\\n",
    "  --gwas_sumstat /home/hs3163/Project/Alz/data/AD_sumstats_Jansenetal_2019sept.txt \\\n",
    "  --molecular-pheno  /home/hs3163/Project/Rosmap/data/gene_exp/DLPFC/geneTpmResidualsAgeGenderAdj_rename.txt  \\\n",
    "  --wd /home/hs3163/Project/Alz/Alz_DLPFC_SNP \\\n",
    "  --genotype_list /home/hs3163/Project/Rosmap/data/Rosmap_wgs_genotype_list.txt \\\n",
    "  --region_list /home/hs3163/Project/Alz/data/RSM_Alz_region_list_DLPFC.txt \\\n",
    "  --region_name 1 \\\n",
    "  --data_start 2 \\\n",
    "  --window 500000 \\\n",
    "  --container /mnt/mfs/statgen/containers/twas_latest.sif \\\n",
    "  --model bslmm blup lasso top1 enet \\\n",
    "  --job_size 1\\\n",
    "  --asso_mem \"60G\" \\\n",
    "  --extract_snp ~/Project/Alz/data/AD_sumstats_SNP \\\n",
    "  -J 6 -q csg -c /mnt/mfs/statgen/pbs_template/csg.yml -s build &\n",
    "\n",
    "\n",
    "\n",
    "\n",
    "\n",
    "#PCC, Full\n",
    "nohup sos run ~/GIT/neuro-twas/Workflow/twas_fusion.ipynb twas_fusion  \\\n",
    "  --gwas_sumstat /home/hs3163/Project/Alz/data/AD_sumstats_Jansenetal_2019sept_2.txt \\\n",
    "  --molecular-pheno  /home/hs3163/Project/Rosmap/data/gene_exp/PCC/geneTpmResidualsAgeGenderAdj_rename.txt  \\\n",
    "  --wd /home/hs3163/Project/Alz/Alz_PCC_Full \\\n",
    "  --genotype_list /home/hs3163/Project/Rosmap/data/Rosmap_wgs_genotype_list.txt \\\n",
    "  --region_list /home/hs3163/Project/Alz/data/RSM_Alz_region_list_PCC.txt \\\n",
    "  --region_name 1 \\\n",
    "  --data_start 2 \\\n",
    "  --window 500000 \\\n",
    "  --container /mnt/mfs/statgen/containers/twas_latest.sif \\\n",
    "  --model bslmm blup lasso top1 enet \\\n",
    "  --job_size 1\\\n",
    "  --asso_mem \"60G\" \\\n",
    "  --exclude_snp ~/Project/Alz/data/pb_snp \\\n",
    "  -J 50 -q csg -c /mnt/mfs/statgen/pbs_template/csg.yml -s build &\n",
    "\n",
    "#PCC, AD SNP\n",
    "\n",
    "nohup sos run ~/GIT/neuro-twas/Workflow/twas_fusion.ipynb twas_fusion  \\\n",
    "  --gwas_sumstat /home/hs3163/Project/Alz/data/AD_sumstats_Jansenetal_2019sept.txt \\\n",
    "  --molecular-pheno  /home/hs3163/Project/Rosmap/data/gene_exp/PCC/geneTpmResidualsAgeGenderAdj_rename.txt  \\\n",
    "  --wd /home/hs3163/Project/Alz/Alz_PCC_SNP \\\n",
    "  --genotype_list /home/hs3163/Project/Rosmap/data/Rosmap_wgs_genotype_list.txt \\\n",
    "  --region_list /home/hs3163/Project/Alz/data/RSM_Alz_region_list_PCC.txt \\\n",
    "  --region_name 1 \\\n",
    "  --data_start 2 \\\n",
    "  --window 500000 \\\n",
    "  --container /mnt/mfs/statgen/containers/twas_latest.sif \\\n",
    "  --model bslmm blup lasso top1 enet \\\n",
    "  --job_size 1\\\n",
    "  --asso_mem \"60G\" \\\n",
    "  --extract_snp ~/Project/Alz/data/AD_sumstats_SNP \\\n",
    "  -J 50 -q csg -c /mnt/mfs/statgen/pbs_template/csg.yml -s build &\n",
    "\n",
    "\n",
    "\n",
    "\n",
    "#AC, FULL\n",
    "\n",
    "nohup sos run ~/GIT/neuro-twas/Workflow/twas_fusion.ipynb twas_fusion  \\\n",
    "  --gwas_sumstat /home/hs3163/Project/Alz/data/AD_sumstats_Jansenetal_2019sept_2.txt \\\n",
    "  --molecular-pheno  /home/hs3163/Project/Rosmap/data/gene_exp/AC/geneTpmResidualsAgeGenderAdj_rename.txt  \\\n",
    "  --wd /home/hs3163/Project/Alz/Alz_AC_FULL \\\n",
    "  --genotype_list /home/hs3163/Project/Rosmap/data/Rosmap_wgs_genotype_list.txt \\\n",
    "  --region_list /home/hs3163/Project/Alz/data/RSM_Alz_region_list_AC.txt \\\n",
    "  --region_name 1 \\\n",
    "  --data_start 2 \\\n",
    "  --window 500000 \\\n",
    "  --container /mnt/mfs/statgen/containers/twas_latest.sif \\\n",
    "  --model bslmm blup lasso top1 enet \\\n",
    "  --job_size 1\\\n",
    "  --asso_mem \"60G\" \\\n",
    "  --exclude_snp ~/Project/Alz/data/pb_snp \\\n",
    "  -J 50 -q csg -c /mnt/mfs/statgen/pbs_template/csg.yml -s build &\n",
    "\n",
    "\n",
    "\n",
    "#AC, AD SNP\n",
    "\n",
    "nohup sos run ~/GIT/neuro-twas/Workflow/twas_fusion.ipynb twas_fusion  \\\n",
    "  --gwas_sumstat /home/hs3163/Project/Alz/data/AD_sumstats_Jansenetal_2019sept.txt \\\n",
    "  --molecular-pheno  /home/hs3163/Project/Rosmap/data/gene_exp/AC/geneTpmResidualsAgeGenderAdj_rename.txt  \\\n",
    "  --wd /home/hs3163/Project/Alz/Alz_AC_SNP \\\n",
    "  --genotype_list /home/hs3163/Project/Rosmap/data/Rosmap_wgs_genotype_list.txt \\\n",
    "  --region_list /home/hs3163/Project/Alz/data/RSM_Alz_region_list_AC.txt \\\n",
    "  --region_name 1 \\\n",
    "  --data_start 2 \\\n",
    "  --window 500000 \\\n",
    "  --container /mnt/mfs/statgen/containers/twas_latest.sif \\\n",
    "  --model bslmm blup lasso top1 enet \\\n",
    "  --job_size 1\\\n",
    "  --asso_mem \"60G\" \\\n",
    "  --extract_snp ~/Project/Alz/data/AD_sumstats_SNP \\\n",
    "  -J 50 -q csg -c /mnt/mfs/statgen/pbs_template/csg.yml -s build &"
   ]
  },
  {
   "cell_type": "markdown",
   "metadata": {
    "kernel": "R"
   },
   "source": [
    "## Hsq estimation and weight computation using susieR\n",
    "To achieve more transparancy and preparing justification for multivariate analysis using Susie. SusieR is used to re-estimate the weights and the hsq of each tissue."
   ]
  },
  {
   "cell_type": "code",
   "execution_count": null,
   "metadata": {
    "kernel": "SoS"
   },
   "outputs": [],
   "source": [
    "#DLPFC, Full \n",
    "nohup sos run ~/GIT/neuro-twas/Workflow/twas_fusion_susie.ipynb susie  \\\n",
    "  --gwas_sumstat /home/hs3163/Project/Alz/data/AD_sumstats_Jansenetal_2019sept.txt \\\n",
    "  --molecular-pheno  /home/hs3163/Project/Rosmap/data/gene_exp/DLPFC/geneTpmResidualsAgeGenderAdj_rename.txt  \\\n",
    "  --wd /home/hs3163/Project/Alz/Alz_DLPFC_FULL_2 \\\n",
    "  --genotype_list /home/hs3163/Project/Rosmap/data/Rosmap_wgs_genotype_list.txt \\\n",
    "  --region_list /home/hs3163/Project/Alz/data/RSM_Alz_region_list_DLPFC.txt \\\n",
    "  --region_name 1 \\\n",
    "  --data_start 2 \\\n",
    "  --window 500000 \\\n",
    "  --container /mnt/mfs/statgen/containers/twas_latest.sif \\\n",
    "  --model bslmm blup lasso top1 enet \\\n",
    "  --job_size 1\\\n",
    "  --asso_mem \"60G\" \\\n",
    "  --exclude_snp ~/Project/Alz/data/pb_snp \\\n",
    "  -J 50 -q csg -c /mnt/mfs/statgen/pbs_template/csg.yml &\n",
    "\n",
    "#DLPFC, SNP \n",
    "nohup sos run ~/GIT/neuro-twas/Workflow/twas_fusion_susie.ipynb susie  \\\n",
    "  --gwas_sumstat /home/hs3163/Project/Alz/data/AD_sumstats_Jansenetal_2019sept.txt \\\n",
    "  --molecular-pheno  /home/hs3163/Project/Rosmap/data/gene_exp/DLPFC/geneTpmResidualsAgeGenderAdj_rename.txt  \\\n",
    "  --wd /home/hs3163/Project/Alz/Alz_DLPFC_SNP \\\n",
    "  --genotype_list /home/hs3163/Project/Rosmap/data/Rosmap_wgs_genotype_list.txt \\\n",
    "  --region_list /home/hs3163/Project/Alz/data/RSM_Alz_region_list_DLPFC.txt \\\n",
    "  --region_name 1 \\\n",
    "  --data_start 2 \\\n",
    "  --window 500000 \\\n",
    "  --container /mnt/mfs/statgen/containers/twas_latest.sif \\\n",
    "  --model bslmm blup lasso top1 enet \\\n",
    "  --job_size 1\\\n",
    "  --asso_mem \"60G\" \\\n",
    "  --extract_snp ~/Project/Alz/data/AD_sumstats_SNP \\\n",
    "  -J 6 -q csg -c /mnt/mfs/statgen/pbs_template/csg.yml &\n",
    "\n",
    "\n",
    "\n",
    "\n",
    "\n",
    "#PCC, Full\n",
    "nohup sos run ~/GIT/neuro-twas/Workflow/twas_fusion_susie.ipynb susie  \\\n",
    "  --gwas_sumstat /home/hs3163/Project/Alz/data/AD_sumstats_Jansenetal_2019sept.txt \\\n",
    "  --molecular-pheno  /home/hs3163/Project/Rosmap/data/gene_exp/PCC/geneTpmResidualsAgeGenderAdj_rename.txt  \\\n",
    "  --wd /home/hs3163/Project/Alz/Alz_PCC_Full \\\n",
    "  --genotype_list /home/hs3163/Project/Rosmap/data/Rosmap_wgs_genotype_list.txt \\\n",
    "  --region_list /home/hs3163/Project/Alz/data/RSM_Alz_region_list_PCC.txt \\\n",
    "  --region_name 1 \\\n",
    "  --data_start 2 \\\n",
    "  --window 500000 \\\n",
    "  --container /mnt/mfs/statgen/containers/twas_latest.sif \\\n",
    "  --model bslmm blup lasso top1 enet \\\n",
    "  --job_size 1\\\n",
    "  --asso_mem \"60G\" \\\n",
    "  --exclude_snp ~/Project/Alz/data/pb_snp \\\n",
    "  -J 50 -q csg -c /mnt/mfs/statgen/pbs_template/csg.yml -s build &\n",
    "\n",
    "\n",
    "\n",
    "\n",
    "\n",
    "\n",
    "#AC, FULL\n",
    "\n",
    "nohup sos run ~/GIT/neuro-twas/Workflow/twas_fusion_susie.ipynb susie  \\\n",
    "  --gwas_sumstat /home/hs3163/Project/Alz/data/AD_sumstats_Jansenetal_2019sept.txt \\\n",
    "  --molecular-pheno  /home/hs3163/Project/Rosmap/data/gene_exp/AC/geneTpmResidualsAgeGenderAdj_rename.txt  \\\n",
    "  --wd /home/hs3163/Project/Alz/Alz_AC_FULL \\\n",
    "  --genotype_list /home/hs3163/Project/Rosmap/data/Rosmap_wgs_genotype_list.txt \\\n",
    "  --region_list /home/hs3163/Project/Alz/data/RSM_Alz_region_list_AC.txt \\\n",
    "  --region_name 1 \\\n",
    "  --data_start 2 \\\n",
    "  --window 500000 \\\n",
    "  --container /mnt/mfs/statgen/containers/twas_latest.sif \\\n",
    "  --model bslmm blup lasso top1 enet \\\n",
    "  --job_size 1\\\n",
    "  --asso_mem \"60G\" \\\n",
    "  --exclude_snp ~/Project/Alz/data/pb_snp \\\n",
    "  -J 50 -q csg -c /mnt/mfs/statgen/pbs_template/csg.yml &\n",
    "\n",
    "\n",
    "ENSG00000159784\n",
    "#AC, AD SNP\n",
    "\n",
    "nohup sos run ~/GIT/neuro-twas/Workflow/twas_fusion_susie.ipynb susie  \\\n",
    "  --gwas_sumstat /home/hs3163/Project/Alz/data/AD_sumstats_Jansenetal_2019sept.txt \\\n",
    "  --molecular-pheno  /home/hs3163/Project/Rosmap/data/gene_exp/AC/geneTpmResidualsAgeGenderAdj_rename.txt  \\\n",
    "  --wd /home/hs3163/Project/Alz/Alz_AC_SNP \\\n",
    "  --genotype_list /home/hs3163/Project/Rosmap/data/Rosmap_wgs_genotype_list.txt \\\n",
    "  --region_list /home/hs3163/Project/Alz/data/RSM_Alz_region_list_AC.txt \\\n",
    "  --region_name 1 \\\n",
    "  --data_start 2 \\\n",
    "  --window 500000 \\\n",
    "  --container /mnt/mfs/statgen/containers/twas_latest.sif \\\n",
    "  --model bslmm blup lasso top1 enet \\\n",
    "  --job_size 1\\\n",
    "  --asso_mem \"60G\" \\\n",
    "  --extract_snp ~/Project/Alz/data/AD_sumstats_SNP \\\n",
    "  -J 50 -q csg -c /mnt/mfs/statgen/pbs_template/csg.yml -s build &\n",
    "\n",
    "\n",
    "#PCC, AD SNP\n",
    "\n",
    "nohup sos run ~/GIT/neuro-twas/Workflow/twas_fusion_susie.ipynb susie  \\\n",
    "  --gwas_sumstat /home/hs3163/Project/Alz/data/AD_sumstats_Jansenetal_2019sept.txt \\\n",
    "  --molecular-pheno  /home/hs3163/Project/Rosmap/data/gene_exp/PCC/geneTpmResidualsAgeGenderAdj_rename.txt  \\\n",
    "  --wd /home/hs3163/Project/Alz/Alz_PCC_SNP \\\n",
    "  --genotype_list /home/hs3163/Project/Rosmap/data/Rosmap_wgs_genotype_list.txt \\\n",
    "  --region_list /home/hs3163/Project/Alz/data/RSM_Alz_region_list_PCC.txt \\\n",
    "  --region_name 1 \\\n",
    "  --data_start 2 \\\n",
    "  --window 500000 \\\n",
    "  --container /mnt/mfs/statgen/containers/twas_latest.sif \\\n",
    "  --model bslmm blup lasso top1 enet \\\n",
    "  --job_size 1\\\n",
    "  --asso_mem \"60G\" \\\n",
    "  --extract_snp ~/Project/Alz/data/AD_sumstats_SNP \\\n",
    "  -J 50 -q csg -c /mnt/mfs/statgen/pbs_template/csg.yml&"
   ]
  },
  {
   "cell_type": "markdown",
   "metadata": {
    "kernel": "R"
   },
   "source": [
    "library(dplyr)\n",
    "Chr7 = readr::read_delim(\"/mnt/mfs/ctcn/datasets/rosmap/wgs/ampad/variants/snvCombinedPlink/chr7.bim\",delim = \"\\t\")\n",
    "colnames(Chr7)[4] = \"Pos\"\n",
    "Chr7%>%filter(Pos>100562228,Pos<100596129)## Result\n",
    "\n",
    "### Gene exclusion\n",
    "At the second step of the workflow, two genes are excluded in the plink stages for DLPFC due to the reason of \"All variants excluded\". They are ENSG00000077454 and ENSG00000205307. A \"All variants excluded\" in plink stand for:\n",
    "\n",
    ">The filtering flags you specified caused every last sample or every last variant to be excluded from the analysis.\n",
    "\n",
    "Indeed there are no SNP in the chr7: 100562228 ~ 100596129 where ENSG00000205307 and ENSG00000077454 located.\n",
    "\n",
    "As the ENSG00000205307 is not in the dataset of PCC, only one gene: ENSG00000077454 are excluded in the PCC run.\n",
    "\n",
    "The following codes, ran in the cluster, are used to achieved the aforementioned results"
   ]
  },
  {
   "cell_type": "code",
   "execution_count": null,
   "metadata": {
    "kernel": "R"
   },
   "outputs": [],
   "source": [
    "library(dplyr)\n",
    "Chr7 = readr::read_delim(\"/mnt/mfs/ctcn/datasets/rosmap/wgs/ampad/variants/snvCombinedPlink/chr7.bim\",delim = \"\\t\")\n",
    "colnames(Chr7)[4] = \"Pos\"\n",
    "Chr7%>%filter(Pos>100562228,Pos<100596129)"
   ]
  },
  {
   "cell_type": "code",
   "execution_count": null,
   "metadata": {
    "kernel": "SoS"
   },
   "outputs": [],
   "source": [
    "### Significant TWAS genes\n"
   ]
  },
  {
   "cell_type": "code",
   "execution_count": null,
   "metadata": {
    "kernel": "SoS"
   },
   "outputs": [],
   "source": []
  },
  {
   "cell_type": "markdown",
   "metadata": {
    "kernel": "SoS"
   },
   "source": [
    "### Result in Weight computation\n",
    "#### Distribution of Hsq\n",
    "##### Preliminary result\n",
    "Using the aforementioned criteria, there 30 genes out of 160 passed the filtering criteria, a alternative run indicates that when using a window of region +/- 5E6 bp, only 1 additional genes passed the hsq cut off.  \n",
    "\n",
    "Out of the genes whose weight are not computed, there are only 91 of them have their heritability calculated. The rest (130-91) are excluded due to the the error \n",
    "   >\"GCTA could not converge, skipping gene\"\n",
    "\n",
    "which actually stand for the fail to to converge in REML algorithm. The author of TWAS/FUSION indicates in https://github.com/gusevlab/fusion_twas/issues/11 that\n",
    "\n",
    ">the lack of REML convergence is a complicated issue that depends on the scale and complexity of the data. If you are seeing this consistently across phenotypes it likely means your sample size is insufficient to build predictors. \n",
    "\n",
    "All the hsq file was combined to produce a hsq table for analysis.\n",
    "\n",
    "Among all the genes, there are 32 genes that have a pval smaller than 0.01, however 2 of them have negative heritability: ENSG00000106351 and ENSG00000106336. Both located at chromosome 7. Among the rest of them, there are still 26 genes with negative heritability.\n",
    "\n",
    "There is one gene,ENSG00000213654, with a estimated heritability of 62.4 which have a pval of 0.5, indicating errors from various source. This gene was removed as a outlier in the analysis of the heritability.\n"
   ]
  },
  {
   "cell_type": "code",
   "execution_count": null,
   "metadata": {
    "kernel": "R"
   },
   "outputs": [],
   "source": [
    "DLPFC_hsq = read_delim(\"/Users/haosun/Documents/WG_Reasearch_Assisstant/Fusion/Project/Alz/DLPFC/all_hsq.txt\",delim = \"\\t\")\n",
    "PCC_hsq = read_delim(\"/Users/haosun/Documents/WG_Reasearch_Assisstant/Fusion/Project/Alz/PCC/all_hsq.txt\",delim = \" \")"
   ]
  },
  {
   "cell_type": "code",
   "execution_count": 2,
   "metadata": {
    "kernel": "R"
   },
   "outputs": [
    {
     "ename": "SyntaxError",
     "evalue": "invalid syntax (<ipython-input-2-a481824c2454>, line 1)",
     "output_type": "error",
     "traceback": [
      "\u001b[0;36m  File \u001b[0;32m\"<ipython-input-2-a481824c2454>\"\u001b[0;36m, line \u001b[0;32m1\u001b[0m\n\u001b[0;31m    hsq = DLPFC_hsq%>%filter(heritability >= 0, heritability <= 1)\u001b[0m\n\u001b[0m                    ^\u001b[0m\n\u001b[0;31mSyntaxError\u001b[0m\u001b[0;31m:\u001b[0m invalid syntax\n"
     ]
    }
   ],
   "source": [
    "hsq = DLPFC_hsq%>%filter(heritability >= 0, heritability <= 1)\n",
    "summ = tibble(\n",
    "  data = c(\"heritability\", \"h_SE\", \"pval\"),\n",
    "  mean = c(\n",
    "    hsq%>%pull(heritability)%>%mean(),\n",
    "    hsq%>%pull(h_SE)%>%mean(),\n",
    "    hsq%>%pull(pval)%>%mean()\n",
    "  ),\n",
    "  median = c(\n",
    "    hsq%>%pull(heritability)%>%median(),\n",
    "    hsq%>%pull(h_SE)%>%median(),\n",
    "    hsq%>%pull(pval)%>%median()\n",
    "    ),\n",
    "  var = c(\n",
    "    hsq%>%pull(heritability)%>%var(),\n",
    "    hsq%>%pull(h_SE)%>%var(),\n",
    "    hsq%>%pull(pval)%>%var()\n",
    "  ))\n",
    "summ\n",
    "hsq%>%ggplot(aes(x = pval))+geom_histogram()+geom_vline(xintercept = 0.05)+geom_vline(xintercept = 0.01)+ggtitle(\"Distribution of p value\")\n",
    "hsq%>%filter(heritability >= 0, heritability <= 1)%>%ggplot(aes(x = heritability))+geom_density()+ggtitle(\"Distribution of heritability\")\n",
    "hsq%>%filter(heritability >= 0, heritability <= 1)%>%ggplot(aes(x = heritability,y = pval))+geom_point()"
   ]
  },
  {
   "cell_type": "markdown",
   "metadata": {
    "kernel": "R"
   },
   "source": [
    "#### Distribution of Hsq in PCC\n",
    "Rather surprisingly, despite of having more converged GCTA result: 115 hsq file, only 6 gene passed the heritability cut off, again All the hsq file was combined to produce a hsq table for analysis. \n"
   ]
  },
  {
   "cell_type": "code",
   "execution_count": 49,
   "metadata": {
    "kernel": "R"
   },
   "outputs": [
    {
     "data": {
      "text/html": [
       "<table>\n",
       "<caption>A tibble: 3 × 4</caption>\n",
       "<thead>\n",
       "\t<tr><th scope=col>data</th><th scope=col>mean</th><th scope=col>median</th><th scope=col>var</th></tr>\n",
       "\t<tr><th scope=col>&lt;chr&gt;</th><th scope=col>&lt;dbl&gt;</th><th scope=col>&lt;dbl&gt;</th><th scope=col>&lt;dbl&gt;</th></tr>\n",
       "</thead>\n",
       "<tbody>\n",
       "\t<tr><td>heritability</td><td>0.2560357</td><td>0.199877</td><td>0.05057330</td></tr>\n",
       "\t<tr><td>h_SE        </td><td>0.2922191</td><td>0.287332</td><td>0.01173138</td></tr>\n",
       "\t<tr><td>pval        </td><td>0.2295823</td><td>0.237730</td><td>0.02371846</td></tr>\n",
       "</tbody>\n",
       "</table>\n"
      ],
      "text/latex": [
       "A tibble: 3 × 4\n",
       "\\begin{tabular}{llll}\n",
       " data & mean & median & var\\\\\n",
       " <chr> & <dbl> & <dbl> & <dbl>\\\\\n",
       "\\hline\n",
       "\t heritability & 0.2560357 & 0.199877 & 0.05057330\\\\\n",
       "\t h\\_SE         & 0.2922191 & 0.287332 & 0.01173138\\\\\n",
       "\t pval         & 0.2295823 & 0.237730 & 0.02371846\\\\\n",
       "\\end{tabular}\n"
      ],
      "text/markdown": [
       "\n",
       "A tibble: 3 × 4\n",
       "\n",
       "| data &lt;chr&gt; | mean &lt;dbl&gt; | median &lt;dbl&gt; | var &lt;dbl&gt; |\n",
       "|---|---|---|---|\n",
       "| heritability | 0.2560357 | 0.199877 | 0.05057330 |\n",
       "| h_SE         | 0.2922191 | 0.287332 | 0.01173138 |\n",
       "| pval         | 0.2295823 | 0.237730 | 0.02371846 |\n",
       "\n"
      ],
      "text/plain": [
       "  data         mean      median   var       \n",
       "1 heritability 0.2560357 0.199877 0.05057330\n",
       "2 h_SE         0.2922191 0.287332 0.01173138\n",
       "3 pval         0.2295823 0.237730 0.02371846"
      ]
     },
     "metadata": {},
     "output_type": "display_data"
    },
    {
     "name": "stderr",
     "output_type": "stream",
     "text": [
      "`stat_bin()` using `bins = 30`. Pick better value with `binwidth`.\n",
      "\n"
     ]
    },
    {
     "data": {
      "image/png": "[encoded data removed]",
      "text/plain": [
       "plot without title"
      ]
     },
     "metadata": {
      "image/png": {
       "height": 420,
       "width": 420
      },
      "text/plain": {
       "height": 420,
       "width": 420
      }
     },
     "output_type": "display_data"
    },
    {
     "data": {
      "image/png": "[encoded data removed]",
      "text/plain": [
       "plot without title"
      ]
     },
     "metadata": {
      "image/png": {
       "height": 420,
       "width": 420
      },
      "text/plain": {
       "height": 420,
       "width": 420
      }
     },
     "output_type": "display_data"
    },
    {
     "data": {
      "image/png": "[encoded data removed]",
      "text/plain": [
       "plot without title"
      ]
     },
     "metadata": {
      "image/png": {
       "height": 420,
       "width": 420
      },
      "text/plain": {
       "height": 420,
       "width": 420
      }
     },
     "output_type": "display_data"
    }
   ],
   "source": [
    "hsq = PCC_hsq%>%filter(heritability >= 0, heritability <= 1)\n",
    "summ = tibble(\n",
    "  data = c(\"heritability\", \"h_SE\", \"pval\"),\n",
    "  mean = c(\n",
    "    hsq%>%pull(heritability)%>%mean(),\n",
    "    hsq%>%pull(h_SE)%>%mean(),\n",
    "    hsq%>%pull(pval)%>%mean()\n",
    "  ),\n",
    "  median = c(\n",
    "    hsq%>%pull(heritability)%>%median(),\n",
    "    hsq%>%pull(h_SE)%>%median(),\n",
    "    hsq%>%pull(pval)%>%median()\n",
    "    ),\n",
    "  var = c(\n",
    "    hsq%>%pull(heritability)%>%var(),\n",
    "    hsq%>%pull(h_SE)%>%var(),\n",
    "    hsq%>%pull(pval)%>%var()\n",
    "  ))\n",
    "summ\n",
    "hsq%>%ggplot(aes(x = pval))+geom_histogram()+geom_vline(xintercept = 0.05)+geom_vline(xintercept = 0.01)+ggtitle(\"Distribution of p value\")\n",
    "hsq%>%filter(heritability >= 0, heritability <= 1)%>%ggplot(aes(x = heritability))+geom_density()+ggtitle(\"Distribution of heritability\")\n",
    "hsq%>%filter(heritability >= 0, heritability <= 1)%>%ggplot(aes(x = heritability,y = pval))+geom_point()\n",
    "\n",
    "\n",
    "\n",
    "\n"
   ]
  },
  {
   "cell_type": "code",
   "execution_count": 1,
   "metadata": {
    "kernel": "R"
   },
   "outputs": [
    {
     "name": "stderr",
     "output_type": "stream",
     "text": [
      "\n",
      "Attaching package: ‘dplyr’\n",
      "\n",
      "\n",
      "The following objects are masked from ‘package:stats’:\n",
      "\n",
      "    filter, lag\n",
      "\n",
      "\n",
      "The following objects are masked from ‘package:base’:\n",
      "\n",
      "    intersect, setdiff, setequal, union\n",
      "\n",
      "\n",
      "Warning message:\n",
      "“package ‘RVenn’ was built under R version 4.0.2”\n",
      "\n",
      "Attaching package: ‘RVenn’\n",
      "\n",
      "\n",
      "The following object is masked from ‘package:tidyr’:\n",
      "\n",
      "    unite\n",
      "\n",
      "\n"
     ]
    }
   ],
   "source": [
    "library(dplyr)\n",
    "library(tibble)\n",
    "library(readr)\n",
    "library(ggplot2)\n",
    "library(purrr)\n",
    "library(stringr)\n",
    "library(tidyr)\n",
    "library(RVenn)"
   ]
  },
  {
   "cell_type": "code",
   "execution_count": 20,
   "metadata": {},
   "outputs": [],
   "source": [
    "invisible(lapply(paste0('package:', names(sessionInfo()$otherPkgs)), detach, character.only=TRUE, unload=TRUE))\n",
    "\n"
   ]
  },
  {
   "cell_type": "markdown",
   "metadata": {
    "kernel": "R"
   },
   "source": [
    "#### Distribution of HSQ with SusieR\n",
    "The Hsq and weights of each genes in each tissues were recomputed using SusieR. all the hsq results are organized into one tibble with the following code blocks: "
   ]
  },
  {
   "cell_type": "code",
   "execution_count": 10,
   "metadata": {
    "kernel": "R"
   },
   "outputs": [
    {
     "name": "stderr",
     "output_type": "stream",
     "text": [
      "Parsed with column specification:\n",
      "cols(\n",
      "  filename = \u001b[31mcol_character()\u001b[39m,\n",
      "  heritability = \u001b[32mcol_double()\u001b[39m,\n",
      "  h_SE = \u001b[32mcol_double()\u001b[39m,\n",
      "  pval = \u001b[32mcol_double()\u001b[39m\n",
      ")\n",
      "\n",
      "Parsed with column specification:\n",
      "cols(\n",
      "  filename = \u001b[31mcol_character()\u001b[39m,\n",
      "  heritability = \u001b[32mcol_double()\u001b[39m,\n",
      "  h_SE = \u001b[32mcol_double()\u001b[39m,\n",
      "  pval = \u001b[32mcol_double()\u001b[39m\n",
      ")\n",
      "\n",
      "Parsed with column specification:\n",
      "cols(\n",
      "  filename = \u001b[31mcol_character()\u001b[39m,\n",
      "  heritability = \u001b[32mcol_double()\u001b[39m,\n",
      "  h_SE = \u001b[32mcol_double()\u001b[39m,\n",
      "  pval = \u001b[32mcol_double()\u001b[39m\n",
      ")\n",
      "\n",
      "Parsed with column specification:\n",
      "cols(\n",
      "  filename = \u001b[31mcol_character()\u001b[39m,\n",
      "  heritability = \u001b[32mcol_double()\u001b[39m,\n",
      "  h_SE = \u001b[32mcol_double()\u001b[39m,\n",
      "  pval = \u001b[32mcol_double()\u001b[39m\n",
      ")\n",
      "\n",
      "Parsed with column specification:\n",
      "cols(\n",
      "  filename = \u001b[31mcol_character()\u001b[39m,\n",
      "  heritability = \u001b[32mcol_double()\u001b[39m,\n",
      "  h_SE = \u001b[32mcol_double()\u001b[39m,\n",
      "  pval = \u001b[32mcol_double()\u001b[39m\n",
      ")\n",
      "\n",
      "Parsed with column specification:\n",
      "cols(\n",
      "  filename = \u001b[31mcol_character()\u001b[39m,\n",
      "  heritability = \u001b[32mcol_double()\u001b[39m,\n",
      "  h_SE = \u001b[32mcol_double()\u001b[39m,\n",
      "  pval = \u001b[32mcol_double()\u001b[39m\n",
      ")\n",
      "\n",
      "Parsed with column specification:\n",
      "cols(\n",
      "  filename = \u001b[31mcol_character()\u001b[39m,\n",
      "  heritability = \u001b[32mcol_double()\u001b[39m,\n",
      "  h_SE = \u001b[32mcol_double()\u001b[39m,\n",
      "  pval = \u001b[32mcol_double()\u001b[39m\n",
      ")\n",
      "\n",
      "Parsed with column specification:\n",
      "cols(\n",
      "  filename = \u001b[31mcol_character()\u001b[39m,\n",
      "  heritability = \u001b[32mcol_double()\u001b[39m,\n",
      "  h_SE = \u001b[32mcol_double()\u001b[39m,\n",
      "  pval = \u001b[32mcol_double()\u001b[39m\n",
      ")\n",
      "\n",
      "Parsed with column specification:\n",
      "cols(\n",
      "  filename = \u001b[31mcol_character()\u001b[39m,\n",
      "  heritability = \u001b[32mcol_double()\u001b[39m,\n",
      "  h_SE = \u001b[32mcol_double()\u001b[39m,\n",
      "  pval = \u001b[32mcol_double()\u001b[39m\n",
      ")\n",
      "\n",
      "Parsed with column specification:\n",
      "cols(\n",
      "  filename = \u001b[31mcol_character()\u001b[39m,\n",
      "  heritability = \u001b[32mcol_double()\u001b[39m,\n",
      "  h_SE = \u001b[32mcol_double()\u001b[39m,\n",
      "  pval = \u001b[32mcol_double()\u001b[39m\n",
      ")\n",
      "\n",
      "Parsed with column specification:\n",
      "cols(\n",
      "  filename = \u001b[31mcol_character()\u001b[39m,\n",
      "  heritability = \u001b[32mcol_double()\u001b[39m,\n",
      "  h_SE = \u001b[32mcol_double()\u001b[39m,\n",
      "  pval = \u001b[32mcol_double()\u001b[39m\n",
      ")\n",
      "\n",
      "Parsed with column specification:\n",
      "cols(\n",
      "  filename = \u001b[31mcol_character()\u001b[39m,\n",
      "  heritability = \u001b[32mcol_double()\u001b[39m,\n",
      "  h_SE = \u001b[32mcol_double()\u001b[39m,\n",
      "  pval = \u001b[32mcol_double()\u001b[39m\n",
      ")\n",
      "\n",
      "Parsed with column specification:\n",
      "cols(\n",
      "  .default = col_character()\n",
      ")\n",
      "\n",
      "See spec(...) for full column specifications.\n",
      "\n",
      "Parsed with column specification:\n",
      "cols(\n",
      "  .default = col_character()\n",
      ")\n",
      "\n",
      "See spec(...) for full column specifications.\n",
      "\n",
      "Parsed with column specification:\n",
      "cols(\n",
      "  .default = col_character()\n",
      ")\n",
      "\n",
      "See spec(...) for full column specifications.\n",
      "\n",
      "Parsed with column specification:\n",
      "cols(\n",
      "  .default = col_character()\n",
      ")\n",
      "\n",
      "See spec(...) for full column specifications.\n",
      "\n",
      "Parsed with column specification:\n",
      "cols(\n",
      "  .default = col_character()\n",
      ")\n",
      "\n",
      "See spec(...) for full column specifications.\n",
      "\n",
      "Parsed with column specification:\n",
      "cols(\n",
      "  .default = col_character()\n",
      ")\n",
      "\n",
      "See spec(...) for full column specifications.\n",
      "\n",
      "Parsed with column specification:\n",
      "cols(\n",
      "  file = \u001b[31mcol_character()\u001b[39m,\n",
      "  region = \u001b[31mcol_character()\u001b[39m,\n",
      "  CS_size = \u001b[32mcol_double()\u001b[39m,\n",
      "  hsq_full_sample = \u001b[32mcol_double()\u001b[39m,\n",
      "  top_snp_full_sample = \u001b[31mcol_character()\u001b[39m,\n",
      "  hsq_full_snp = \u001b[32mcol_double()\u001b[39m,\n",
      "  hsq_neither = \u001b[32mcol_double()\u001b[39m,\n",
      "  hsq_naive = \u001b[32mcol_double()\u001b[39m,\n",
      "  top_snp_naive = \u001b[31mcol_character()\u001b[39m\n",
      ")\n",
      "\n",
      "Parsed with column specification:\n",
      "cols(\n",
      "  file = \u001b[31mcol_character()\u001b[39m,\n",
      "  region = \u001b[31mcol_character()\u001b[39m,\n",
      "  CS_size = \u001b[32mcol_double()\u001b[39m,\n",
      "  hsq_full_sample = \u001b[32mcol_double()\u001b[39m,\n",
      "  top_snp_full_sample = \u001b[31mcol_character()\u001b[39m,\n",
      "  hsq_full_snp = \u001b[32mcol_double()\u001b[39m,\n",
      "  hsq_neither = \u001b[32mcol_double()\u001b[39m,\n",
      "  hsq_naive = \u001b[32mcol_double()\u001b[39m,\n",
      "  top_snp_naive = \u001b[31mcol_character()\u001b[39m\n",
      ")\n",
      "\n",
      "Parsed with column specification:\n",
      "cols(\n",
      "  file = \u001b[31mcol_character()\u001b[39m,\n",
      "  region = \u001b[31mcol_character()\u001b[39m,\n",
      "  CS_size = \u001b[32mcol_double()\u001b[39m,\n",
      "  hsq_full_sample = \u001b[32mcol_double()\u001b[39m,\n",
      "  top_snp_full_sample = \u001b[31mcol_character()\u001b[39m,\n",
      "  hsq_full_snp = \u001b[32mcol_double()\u001b[39m,\n",
      "  hsq_neither = \u001b[32mcol_double()\u001b[39m,\n",
      "  hsq_naive = \u001b[32mcol_double()\u001b[39m,\n",
      "  top_snp_naive = \u001b[31mcol_character()\u001b[39m\n",
      ")\n",
      "\n",
      "Parsed with column specification:\n",
      "cols(\n",
      "  file = \u001b[31mcol_character()\u001b[39m,\n",
      "  region = \u001b[31mcol_character()\u001b[39m,\n",
      "  CS_size = \u001b[32mcol_double()\u001b[39m,\n",
      "  hsq_full_sample = \u001b[32mcol_double()\u001b[39m,\n",
      "  top_snp_full_sample = \u001b[31mcol_character()\u001b[39m,\n",
      "  hsq_full_snp = \u001b[32mcol_double()\u001b[39m,\n",
      "  hsq_neither = \u001b[32mcol_double()\u001b[39m,\n",
      "  hsq_naive = \u001b[32mcol_double()\u001b[39m,\n",
      "  top_snp_naive = \u001b[31mcol_character()\u001b[39m\n",
      ")\n",
      "\n",
      "Parsed with column specification:\n",
      "cols(\n",
      "  file = \u001b[31mcol_character()\u001b[39m,\n",
      "  region = \u001b[31mcol_character()\u001b[39m,\n",
      "  CS_size = \u001b[32mcol_double()\u001b[39m,\n",
      "  hsq_full_sample = \u001b[32mcol_double()\u001b[39m,\n",
      "  top_snp_full_sample = \u001b[31mcol_character()\u001b[39m,\n",
      "  hsq_full_snp = \u001b[32mcol_double()\u001b[39m,\n",
      "  hsq_neither = \u001b[32mcol_double()\u001b[39m,\n",
      "  hsq_naive = \u001b[32mcol_double()\u001b[39m,\n",
      "  top_snp_naive = \u001b[31mcol_character()\u001b[39m\n",
      ")\n",
      "\n",
      "Parsed with column specification:\n",
      "cols(\n",
      "  file = \u001b[31mcol_character()\u001b[39m,\n",
      "  region = \u001b[31mcol_character()\u001b[39m,\n",
      "  CS_size = \u001b[32mcol_double()\u001b[39m,\n",
      "  hsq_full_sample = \u001b[32mcol_double()\u001b[39m,\n",
      "  top_snp_full_sample = \u001b[31mcol_character()\u001b[39m,\n",
      "  hsq_full_snp = \u001b[32mcol_double()\u001b[39m,\n",
      "  hsq_neither = \u001b[32mcol_double()\u001b[39m,\n",
      "  hsq_naive = \u001b[32mcol_double()\u001b[39m,\n",
      "  top_snp_naive = \u001b[31mcol_character()\u001b[39m\n",
      ")\n",
      "\n",
      "Joining, by = c(\"Proj_Name\", \"region\")\n",
      "\n",
      "Adding missing grouping variables: `region`, `Proj_Name`\n",
      "\n",
      "Adding missing grouping variables: `region`, `Proj_Name`\n",
      "\n",
      "Parsed with column specification:\n",
      "cols(\n",
      "  gene = \u001b[31mcol_character()\u001b[39m,\n",
      "  ensembl_id = \u001b[31mcol_character()\u001b[39m,\n",
      "  chr = \u001b[32mcol_double()\u001b[39m\n",
      ")\n",
      "\n",
      "Adding missing grouping variables: `Proj_Name`\n",
      "\n"
     ]
    }
   ],
   "source": [
    "oldw <- getOption(\"warn\")\n",
    "options(warn = -1,message = FALSE)\n",
    "\n",
    "dir = \"/Users/haosun/Documents/WG_Reasearch_Assisstant/Remote_Proj/Alz/\"\n",
    "Proj = c(\"Alz_AC_SNP\",\"Alz_AC_FULL\",\"Alz_DLPFC_SNP\",\"Alz_DLPFC_FULL_2\",\"Alz_PCC_SNP\",\"Alz_PCC_Full\")\n",
    "\n",
    "tmp = tibble(\n",
    "  Proj_Name = Proj\n",
    ")\n",
    "\n",
    "sum_hsq = function(hsq){\n",
    "  summ = tibble(\n",
    "    data = c(\"heritability\", \"h_SE\", \"pval\"),\n",
    "    mean = c(\n",
    "      hsq%>%pull(heritability)%>%mean(),\n",
    "      hsq%>%pull(h_SE)%>%mean(),\n",
    "      hsq%>%pull(pval)%>%mean()\n",
    "    ),\n",
    "    median = c(\n",
    "      hsq%>%pull(heritability)%>%median(),\n",
    "      hsq%>%pull(h_SE)%>%median(),\n",
    "      hsq%>%pull(pval)%>%median()\n",
    "    ),\n",
    "    var = c(\n",
    "      hsq%>%pull(heritability)%>%var(),\n",
    "      hsq%>%pull(h_SE)%>%var(),\n",
    "      hsq%>%pull(pval)%>%var()\n",
    "    ))\n",
    "  \n",
    "  return(summ)\n",
    "}\n",
    "\n",
    "\n",
    "analysis = tmp%>%mutate(\n",
    "  hsq_data = map(Proj_Name,~read_delim(paste(dir,.x,\"/WEIGHTS/all_hsq.txt\",sep = \"\"),delim = \" \")%>%filter(heritability >= 0, heritability <= 1)%>%mutate(region = str_replace(filename,\".*\\\\.\", \"\"))),\n",
    "  hsq_rw_data = map(Proj_Name,~read_delim(paste(dir,.x,\"/WEIGHTS/all_hsq.txt\",sep = \"\"),delim = \" \")%>%mutate(region = str_replace(filename,\".*\\\\.\", \"\"))),\n",
    "  sum_hsq = map(hsq_data,~sum_hsq(.x)),\n",
    "  hsq_dist = map(hsq_data,~filter(.x,heritability >= 0, heritability <= 1)%>%ggplot(aes(x = heritability))+geom_density()+ggtitle(\"Distribution of heritability\")),\n",
    "  pval_dist = map(hsq_data,~(.x%>%ggplot(aes(x = pval))+geom_histogram()+geom_vline(xintercept = 0.05)+geom_vline(xintercept = 0.01)+ggtitle(\"Distribution of p value\"))),\n",
    "  pval_point = map(hsq_data,~(.x%>%filter(heritability >= 0, heritability <= 1)%>%ggplot(aes(x = heritability,y = pval))+geom_point()+ggtitle(\"Scatter point of p value\"))),\n",
    "  result_data = map(Proj_Name,~read_delim(paste(dir,.x,\"/result/all_result.txt\",sep = \"\"),delim = \"\\t\")%>%filter(FILE!=\"FILE\")),\n",
    "  result_data_TWAS = map(result_data,~.x%>%filter(!is.na(BEST.GWAS.ID))),\n",
    "  result_model_count = map(result_data,~.x%>%group_by(MODEL)%>%count()),\n",
    ")%>%mutate(\n",
    "  result_model_dist = map(result_model_count,~.x%>%ggplot(aes(x = MODEL, y=n ))+geom_col()+ggtitle(\"distribution of models\"))\n",
    ")%>%suppressWarnings()\n",
    "\n",
    "analysis_susie = analysis%>%mutate(\n",
    "  hsq_susie_data = map(Proj_Name,~read_delim(paste(dir,.x,\"/susie/all_hsq.txt\",sep = \"\"),delim = \"\\t\")%>%select(-file))\n",
    ")%>%mutate(\n",
    "  hsq_susie_dist = map(hsq_susie_data,~.x%>%ggplot(aes(x = hsq_full_sample))+geom_boxplot()+ggtitle(\"Distribution of heritability\")))%>%suppressWarnings()\n",
    "\n",
    "analysis_susie_ftr = analysis_susie%>%mutate(hsq_susie_data_ftr = map(hsq_susie_data,~.x%>%filter(CS_size > 0)))\n",
    "analysis_join = full_join(\n",
    "analysis_susie_ftr%>%select(Proj_Name,hsq_rw_data)%>%unnest()%>%select(-filename),\n",
    "analysis_susie_ftr%>%select(Proj_Name,hsq_susie_data)%>%unnest())\n",
    "acting = analysis_join%>%select(Proj_Name,heritability,pval,region,CS_size,hsq_full_sample,hsq_naive)\n",
    "t_fusion = acting%>%filter(heritability> 0,heritability < 1,pval < 0.01)%>%ungroup()%>%group_by(region,Proj_Name)%>%select(hsq_fusion = heritability,hsq_susie = hsq_full_sample,hsq_naive )%>%pivot_longer(cols =hsq_fusion:hsq_naive,names_to = \"hsq_type\", values_to = \"hsq\" )\n",
    "t_susie = acting%>%filter(CS_size > 0 )%>%ungroup()%>%group_by(region,Proj_Name)%>%select(hsq_fusion = heritability,hsq_susie = hsq_full_sample,hsq_naive )%>%pivot_longer(cols =hsq_fusion:hsq_naive,names_to = \"hsq_type\", values_to = \"hsq\" )\n",
    "Alz_gene = read_delim(\"/Users/haosun/Documents/WG_Reasearch_Assisstant/Rosmap/Data/Alz_gene_list.txt\",delim = \"\\t\")\n",
    "\n",
    "## Acquir the TWAS result\n",
    "analysis_sc_result = analysis%>%dplyr::select(Proj_Name,result_data_TWAS)%>%unnest()%>%group_by(Proj_Name)\n",
    "Top_TWAS_gene = analysis_sc_result%>%arrange(TWAS.P)%>%dplyr::select(ID,CHR,HSQ,BEST.GWAS.ID,BEST.GWAS.Z,EQTL.ID,EQTL.Z,EQTL.GWAS.Z,TWAS.Z,TWAS.P)\n",
    "Top_TWAS_gene = Top_TWAS_gene%>%mutate(logTWAS.P = -log10(as.numeric(TWAS.P)))\n",
    "Top_TWAS_gene = inner_join(x = Top_TWAS_gene, y = Alz_gene, by = c(\"ID\" = \"ensembl_id\") )\n",
    "\n",
    "options(warn = oldw)\n"
   ]
  },
  {
   "cell_type": "markdown",
   "metadata": {
    "kernel": "Bash"
   },
   "source": [
    "There are four filtering after heritability was estimated by REML of GCTA in the fusion workflow:\n",
    "\n",
    "    Convergence: GCTA need to converge\n",
    "    \n",
    "    Positivity: Estimated hsq > 0 and < 1\n",
    "    \n",
    "    Significance: Pvalue of Estimated hsq < 0.01\n",
    "\n",
    "The number of genes after each steps are as followed:\n",
    "To put things in percepective, an addtional column CS indicating the amount of gene with at least one CS given by susieR."
   ]
  },
  {
   "cell_type": "code",
   "execution_count": 7,
   "metadata": {
    "kernel": "R"
   },
   "outputs": [
    {
     "data": {
      "text/html": [
       "<table>\n",
       "<caption>A tibble: 6 × 6</caption>\n",
       "<thead>\n",
       "\t<tr><th scope=col>Proj_Name</th><th scope=col>starting_gene</th><th scope=col>Convergence</th><th scope=col>Positivity</th><th scope=col>Significance</th><th scope=col>CS</th></tr>\n",
       "\t<tr><th scope=col>&lt;chr&gt;</th><th scope=col>&lt;dbl&gt;</th><th scope=col>&lt;dbl&gt;</th><th scope=col>&lt;dbl&gt;</th><th scope=col>&lt;dbl&gt;</th><th scope=col>&lt;dbl&gt;</th></tr>\n",
       "</thead>\n",
       "<tbody>\n",
       "\t<tr><td>Alz_AC_SNP      </td><td>162</td><td>150</td><td>125</td><td>51</td><td>57</td></tr>\n",
       "\t<tr><td>Alz_AC_FULL     </td><td>162</td><td>154</td><td>127</td><td>54</td><td>55</td></tr>\n",
       "\t<tr><td>Alz_DLPFC_SNP   </td><td>162</td><td>148</td><td>129</td><td>41</td><td>56</td></tr>\n",
       "\t<tr><td>Alz_DLPFC_FULL_2</td><td>162</td><td> 78</td><td> 54</td><td>29</td><td>55</td></tr>\n",
       "\t<tr><td>Alz_PCC_SNP     </td><td>160</td><td>147</td><td>106</td><td>43</td><td>38</td></tr>\n",
       "\t<tr><td>Alz_PCC_Full    </td><td>160</td><td>152</td><td>112</td><td>46</td><td>38</td></tr>\n",
       "</tbody>\n",
       "</table>\n"
      ],
      "text/latex": [
       "A tibble: 6 × 6\n",
       "\\begin{tabular}{llllll}\n",
       " Proj\\_Name & starting\\_gene & Convergence & Positivity & Significance & CS\\\\\n",
       " <chr> & <dbl> & <dbl> & <dbl> & <dbl> & <dbl>\\\\\n",
       "\\hline\n",
       "\t Alz\\_AC\\_SNP       & 162 & 150 & 125 & 51 & 57\\\\\n",
       "\t Alz\\_AC\\_FULL      & 162 & 154 & 127 & 54 & 55\\\\\n",
       "\t Alz\\_DLPFC\\_SNP    & 162 & 148 & 129 & 41 & 56\\\\\n",
       "\t Alz\\_DLPFC\\_FULL\\_2 & 162 &  78 &  54 & 29 & 55\\\\\n",
       "\t Alz\\_PCC\\_SNP      & 160 & 147 & 106 & 43 & 38\\\\\n",
       "\t Alz\\_PCC\\_Full     & 160 & 152 & 112 & 46 & 38\\\\\n",
       "\\end{tabular}\n"
      ],
      "text/markdown": [
       "\n",
       "A tibble: 6 × 6\n",
       "\n",
       "| Proj_Name &lt;chr&gt; | starting_gene &lt;dbl&gt; | Convergence &lt;dbl&gt; | Positivity &lt;dbl&gt; | Significance &lt;dbl&gt; | CS &lt;dbl&gt; |\n",
       "|---|---|---|---|---|---|\n",
       "| Alz_AC_SNP       | 162 | 150 | 125 | 51 | 57 |\n",
       "| Alz_AC_FULL      | 162 | 154 | 127 | 54 | 55 |\n",
       "| Alz_DLPFC_SNP    | 162 | 148 | 129 | 41 | 56 |\n",
       "| Alz_DLPFC_FULL_2 | 162 |  78 |  54 | 29 | 55 |\n",
       "| Alz_PCC_SNP      | 160 | 147 | 106 | 43 | 38 |\n",
       "| Alz_PCC_Full     | 160 | 152 | 112 | 46 | 38 |\n",
       "\n"
      ],
      "text/plain": [
       "  Proj_Name        starting_gene Convergence Positivity Significance CS\n",
       "1 Alz_AC_SNP       162           150         125        51           57\n",
       "2 Alz_AC_FULL      162           154         127        54           55\n",
       "3 Alz_DLPFC_SNP    162           148         129        41           56\n",
       "4 Alz_DLPFC_FULL_2 162            78          54        29           55\n",
       "5 Alz_PCC_SNP      160           147         106        43           38\n",
       "6 Alz_PCC_Full     160           152         112        46           38"
      ]
     },
     "metadata": {},
     "output_type": "display_data"
    }
   ],
   "source": [
    "analysis_susie%>%mutate(starting_gene = map_dbl(hsq_susie_data,~nrow(.x)), \n",
    "                        Convergence =  map_dbl(hsq_rw_data,~nrow(.x)),\n",
    "                        Positivity =  map_dbl(hsq_data,~nrow(.x)),\n",
    "                        Significance = map_dbl(result_data,~nrow(.x)),\n",
    "                        CS = map_dbl(hsq_susie_data,~.x%>%filter(CS_size > 0)%>%nrow())\n",
    "                        )%>%select(Proj_Name,starting_gene,Convergence,Positivity,Significance,CS)"
   ]
  },
  {
   "cell_type": "markdown",
   "metadata": {
    "kernel": "R"
   },
   "source": [
    "#### The distribution of average Hsq:\n",
    "The mean of Hsq among the genes that passed the significance treshold is sysmetically a little bit higher than the Hsq compute by Susie in the tissues of  AC and DLPFC, but not the PCC. The variance of hsq estimated by susie is on par with that of the fusion."
   ]
  },
  {
   "cell_type": "code",
   "execution_count": 8,
   "metadata": {
    "kernel": "R"
   },
   "outputs": [
    {
     "name": "stderr",
     "output_type": "stream",
     "text": [
      "`summarise()` ungrouping output (override with `.groups` argument)\n",
      "\n",
      "`summarise()` ungrouping output (override with `.groups` argument)\n",
      "\n",
      "Joining, by = \"Proj_Name\"\n",
      "\n"
     ]
    },
    {
     "data": {
      "text/html": [
       "<table>\n",
       "<caption>A tibble: 6 × 10</caption>\n",
       "<thead>\n",
       "\t<tr><th scope=col>Proj_Name</th><th scope=col>n_hsq_susie</th><th scope=col>n_hsq</th><th scope=col>mean_hsq_susie</th><th scope=col>mean_hsq</th><th scope=col>mean_hsq_naive</th><th scope=col>Qt_hsq_susie</th><th scope=col>Qt_hsq</th><th scope=col>var_hsq_susie</th><th scope=col>var_hsq</th></tr>\n",
       "\t<tr><th scope=col>&lt;chr&gt;</th><th scope=col>&lt;int&gt;</th><th scope=col>&lt;int&gt;</th><th scope=col>&lt;dbl&gt;</th><th scope=col>&lt;dbl&gt;</th><th scope=col>&lt;dbl&gt;</th><th scope=col>&lt;chr&gt;</th><th scope=col>&lt;chr&gt;</th><th scope=col>&lt;dbl&gt;</th><th scope=col>&lt;dbl&gt;</th></tr>\n",
       "</thead>\n",
       "<tbody>\n",
       "\t<tr><td>Alz_AC_FULL     </td><td>55</td><td>54</td><td>0.1507397</td><td>0.1622208</td><td>0.1303161</td><td>0.019,0.045,0.097,0.215,0.766</td><td>0.021,0.053,0.104,0.229,0.66 </td><td>0.02467171</td><td>0.02344888</td></tr>\n",
       "\t<tr><td>Alz_AC_SNP      </td><td>57</td><td>51</td><td>0.1399740</td><td>0.1595784</td><td>0.1236560</td><td>0.02,0.045,0.091,0.17,0.752  </td><td>0.038,0.058,0.099,0.216,0.625</td><td>0.02271515</td><td>0.02167711</td></tr>\n",
       "\t<tr><td>Alz_DLPFC_FULL_2</td><td>55</td><td>29</td><td>0.1299464</td><td>0.1560646</td><td>0.1152291</td><td>0.019,0.034,0.064,0.16,0.788 </td><td>0.017,0.066,0.119,0.172,0.558</td><td>0.02515941</td><td>0.01934301</td></tr>\n",
       "\t<tr><td>Alz_DLPFC_SNP   </td><td>56</td><td>50</td><td>0.1225468</td><td>0.1436298</td><td>0.1115788</td><td>0.018,0.033,0.062,0.162,0.775</td><td>0.016,0.046,0.085,0.191,0.756</td><td>0.02257364</td><td>0.02546813</td></tr>\n",
       "\t<tr><td>Alz_PCC_Full    </td><td>38</td><td>46</td><td>0.1578710</td><td>0.1533610</td><td>0.1456015</td><td>0.039,0.077,0.099,0.153,0.734</td><td>0.034,0.064,0.104,0.178,0.766</td><td>0.02813914</td><td>0.02289217</td></tr>\n",
       "\t<tr><td>Alz_PCC_SNP     </td><td>38</td><td>43</td><td>0.1550482</td><td>0.1524417</td><td>0.1434427</td><td>0.04,0.073,0.101,0.151,0.736 </td><td>0.034,0.06,0.104,0.18,0.684  </td><td>0.02631249</td><td>0.02180619</td></tr>\n",
       "</tbody>\n",
       "</table>\n"
      ],
      "text/latex": [
       "A tibble: 6 × 10\n",
       "\\begin{tabular}{llllllllll}\n",
       " Proj\\_Name & n\\_hsq\\_susie & n\\_hsq & mean\\_hsq\\_susie & mean\\_hsq & mean\\_hsq\\_naive & Qt\\_hsq\\_susie & Qt\\_hsq & var\\_hsq\\_susie & var\\_hsq\\\\\n",
       " <chr> & <int> & <int> & <dbl> & <dbl> & <dbl> & <chr> & <chr> & <dbl> & <dbl>\\\\\n",
       "\\hline\n",
       "\t Alz\\_AC\\_FULL      & 55 & 54 & 0.1507397 & 0.1622208 & 0.1303161 & 0.019,0.045,0.097,0.215,0.766 & 0.021,0.053,0.104,0.229,0.66  & 0.02467171 & 0.02344888\\\\\n",
       "\t Alz\\_AC\\_SNP       & 57 & 51 & 0.1399740 & 0.1595784 & 0.1236560 & 0.02,0.045,0.091,0.17,0.752   & 0.038,0.058,0.099,0.216,0.625 & 0.02271515 & 0.02167711\\\\\n",
       "\t Alz\\_DLPFC\\_FULL\\_2 & 55 & 29 & 0.1299464 & 0.1560646 & 0.1152291 & 0.019,0.034,0.064,0.16,0.788  & 0.017,0.066,0.119,0.172,0.558 & 0.02515941 & 0.01934301\\\\\n",
       "\t Alz\\_DLPFC\\_SNP    & 56 & 50 & 0.1225468 & 0.1436298 & 0.1115788 & 0.018,0.033,0.062,0.162,0.775 & 0.016,0.046,0.085,0.191,0.756 & 0.02257364 & 0.02546813\\\\\n",
       "\t Alz\\_PCC\\_Full     & 38 & 46 & 0.1578710 & 0.1533610 & 0.1456015 & 0.039,0.077,0.099,0.153,0.734 & 0.034,0.064,0.104,0.178,0.766 & 0.02813914 & 0.02289217\\\\\n",
       "\t Alz\\_PCC\\_SNP      & 38 & 43 & 0.1550482 & 0.1524417 & 0.1434427 & 0.04,0.073,0.101,0.151,0.736  & 0.034,0.06,0.104,0.18,0.684   & 0.02631249 & 0.02180619\\\\\n",
       "\\end{tabular}\n"
      ],
      "text/markdown": [
       "\n",
       "A tibble: 6 × 10\n",
       "\n",
       "| Proj_Name &lt;chr&gt; | n_hsq_susie &lt;int&gt; | n_hsq &lt;int&gt; | mean_hsq_susie &lt;dbl&gt; | mean_hsq &lt;dbl&gt; | mean_hsq_naive &lt;dbl&gt; | Qt_hsq_susie &lt;chr&gt; | Qt_hsq &lt;chr&gt; | var_hsq_susie &lt;dbl&gt; | var_hsq &lt;dbl&gt; |\n",
       "|---|---|---|---|---|---|---|---|---|---|\n",
       "| Alz_AC_FULL      | 55 | 54 | 0.1507397 | 0.1622208 | 0.1303161 | 0.019,0.045,0.097,0.215,0.766 | 0.021,0.053,0.104,0.229,0.66  | 0.02467171 | 0.02344888 |\n",
       "| Alz_AC_SNP       | 57 | 51 | 0.1399740 | 0.1595784 | 0.1236560 | 0.02,0.045,0.091,0.17,0.752   | 0.038,0.058,0.099,0.216,0.625 | 0.02271515 | 0.02167711 |\n",
       "| Alz_DLPFC_FULL_2 | 55 | 29 | 0.1299464 | 0.1560646 | 0.1152291 | 0.019,0.034,0.064,0.16,0.788  | 0.017,0.066,0.119,0.172,0.558 | 0.02515941 | 0.01934301 |\n",
       "| Alz_DLPFC_SNP    | 56 | 50 | 0.1225468 | 0.1436298 | 0.1115788 | 0.018,0.033,0.062,0.162,0.775 | 0.016,0.046,0.085,0.191,0.756 | 0.02257364 | 0.02546813 |\n",
       "| Alz_PCC_Full     | 38 | 46 | 0.1578710 | 0.1533610 | 0.1456015 | 0.039,0.077,0.099,0.153,0.734 | 0.034,0.064,0.104,0.178,0.766 | 0.02813914 | 0.02289217 |\n",
       "| Alz_PCC_SNP      | 38 | 43 | 0.1550482 | 0.1524417 | 0.1434427 | 0.04,0.073,0.101,0.151,0.736  | 0.034,0.06,0.104,0.18,0.684   | 0.02631249 | 0.02180619 |\n",
       "\n"
      ],
      "text/plain": [
       "  Proj_Name        n_hsq_susie n_hsq mean_hsq_susie mean_hsq  mean_hsq_naive\n",
       "1 Alz_AC_FULL      55          54    0.1507397      0.1622208 0.1303161     \n",
       "2 Alz_AC_SNP       57          51    0.1399740      0.1595784 0.1236560     \n",
       "3 Alz_DLPFC_FULL_2 55          29    0.1299464      0.1560646 0.1152291     \n",
       "4 Alz_DLPFC_SNP    56          50    0.1225468      0.1436298 0.1115788     \n",
       "5 Alz_PCC_Full     38          46    0.1578710      0.1533610 0.1456015     \n",
       "6 Alz_PCC_SNP      38          43    0.1550482      0.1524417 0.1434427     \n",
       "  Qt_hsq_susie                  Qt_hsq                        var_hsq_susie\n",
       "1 0.019,0.045,0.097,0.215,0.766 0.021,0.053,0.104,0.229,0.66  0.02467171   \n",
       "2 0.02,0.045,0.091,0.17,0.752   0.038,0.058,0.099,0.216,0.625 0.02271515   \n",
       "3 0.019,0.034,0.064,0.16,0.788  0.017,0.066,0.119,0.172,0.558 0.02515941   \n",
       "4 0.018,0.033,0.062,0.162,0.775 0.016,0.046,0.085,0.191,0.756 0.02257364   \n",
       "5 0.039,0.077,0.099,0.153,0.734 0.034,0.064,0.104,0.178,0.766 0.02813914   \n",
       "6 0.04,0.073,0.101,0.151,0.736  0.034,0.06,0.104,0.18,0.684   0.02631249   \n",
       "  var_hsq   \n",
       "1 0.02344888\n",
       "2 0.02167711\n",
       "3 0.01934301\n",
       "4 0.02546813\n",
       "5 0.02289217\n",
       "6 0.02180619"
      ]
     },
     "metadata": {},
     "output_type": "display_data"
    }
   ],
   "source": [
    "# Sum stat for susie \n",
    "analysis_susie_sum = analysis_susie%>%unnest(cols = hsq_susie_data )%>%filter(CS_size > 0)%>%unnest(c(sum_hsq))%>%filter(data == \"heritability\")%>%group_by(Proj_Name)%>%summarise(Qt_hsq_susie = quantile(hsq_full_sample)%>%round( digits = 3)%>%paste(collapse = \",\"), n_hsq_susie = n(),mean_hsq_susie = mean(hsq_full_sample),var_hsq_susie =  var(hsq_full_sample),mean_hsq_naive = mean(hsq_naive))\n",
    "# Sum stat for fusion\n",
    "analysis_fusion_sum = analysis_susie%>%unnest(cols = hsq_data )%>%filter(pval < 0.01)%>%group_by(Proj_Name)%>%summarise(n_hsq = n(),mean_hsq = mean(heritability ),Qt_hsq = quantile(heritability )%>%round( digits = 3)%>%paste(collapse = \",\"),var_hsq = var(heritability ))\n",
    "# Merge the two dataset\n",
    "inner_join(analysis_susie_sum,analysis_fusion_sum)%>%select(Proj_Name,n_hsq_susie,n_hsq,mean_hsq_susie,mean_hsq,mean_hsq_naive,Qt_hsq_susie,Qt_hsq,var_hsq_susie,var_hsq)"
   ]
  },
  {
   "cell_type": "markdown",
   "metadata": {
    "kernel": "R"
   },
   "source": [
    "#### Significant genes in each tissues's SNP data\n",
    "The genes with a significant Fusion Hsq is not completly identicle with the genes that have a susie CS. As shown below. ~15 genes have only significant "
   ]
  },
  {
   "cell_type": "code",
   "execution_count": 9,
   "metadata": {
    "kernel": "R"
   },
   "outputs": [
    {
     "ename": "ERROR",
     "evalue": "Error in library.dynam(lib, package, package.lib): shared object ‘polyclip.dylib’ not found\n",
     "output_type": "error",
     "traceback": [
      "Error in library.dynam(lib, package, package.lib): shared object ‘polyclip.dylib’ not found\nTraceback:\n",
      "1. Venn(list(susie = t_susie %>% pull(region) %>% unique(), fusion = t_fusion %>% \n .     pull(region) %>% unique())) %>% ggvenn()",
      "2. withVisible(eval(quote(`_fseq`(`_lhs`)), env, env))",
      "3. eval(quote(`_fseq`(`_lhs`)), env, env)",
      "4. eval(quote(`_fseq`(`_lhs`)), env, env)",
      "5. `_fseq`(`_lhs`)",
      "6. freduce(value, `_function_list`)",
      "7. withVisible(function_list[[k]](value))",
      "8. function_list[[k]](value)",
      "9. ggvenn(.)",
      "10. ggvenn(.)",
      "11. ggforce::geom_circle",
      "12. getExportedValue(pkg, name)",
      "13. asNamespace(ns)",
      "14. getNamespace(ns)",
      "15. loadNamespace(name)",
      "16. namespaceImportFrom(ns, loadNamespace(j <- i[[1L]], c(lib.loc, \n  .     .libPaths()), versionCheck = vI[[j]]), i[[2L]], from = package)",
      "17. asNamespace(ns)",
      "18. loadNamespace(j <- i[[1L]], c(lib.loc, .libPaths()), versionCheck = vI[[j]])",
      "19. library.dynam(lib, package, package.lib)",
      "20. stop(gettextf(\"shared object %s not found\", sQuote(chname1)), \n  .     domain = NA)"
     ]
    }
   ],
   "source": [
    "Venn(list(susie = t_susie%>%pull(region)%>%unique(), fusion = t_fusion%>%pull(region)%>%unique()))%>%ggvenn()"
   ]
  },
  {
   "cell_type": "code",
   "execution_count": 62,
   "metadata": {
    "kernel": "R"
   },
   "outputs": [
    {
     "name": "stderr",
     "output_type": "stream",
     "text": [
      "Updating HTML index of packages in '.Library'\n",
      "\n",
      "Making 'packages.html' ...\n",
      " done\n",
      "\n"
     ]
    }
   ],
   "source": []
  },
  {
   "cell_type": "code",
   "execution_count": 67,
   "metadata": {
    "kernel": "R"
   },
   "outputs": [
    {
     "data": {
      "text/plain": [
       "An object of class \"Venn\"\n",
       "Slot \"sets\":\n",
       "$Set_1\n",
       "[1] 1\n",
       "\n",
       "$Set_2\n",
       "[1] 2\n",
       "\n",
       "$Set_3\n",
       "[1] 3\n",
       "\n",
       "$Set_4\n",
       "[1] 4\n",
       "\n",
       "\n",
       "Slot \"names\":\n",
       "[1] \"Set_1\" \"Set_2\" \"Set_3\" \"Set_4\"\n"
      ]
     },
     "metadata": {},
     "output_type": "display_data"
    }
   ],
   "source": []
  },
  {
   "cell_type": "code",
   "execution_count": 61,
   "metadata": {
    "kernel": "R"
   },
   "outputs": [
    {
     "ename": "ERROR",
     "evalue": "Error: package or namespace load failed for ‘polyclip’ in library.dynam(lib, package, package.lib):\n shared object ‘polyclip.dylib’ not found\n",
     "output_type": "error",
     "traceback": [
      "Error: package or namespace load failed for ‘polyclip’ in library.dynam(lib, package, package.lib):\n shared object ‘polyclip.dylib’ not found\nTraceback:\n",
      "1. library(polyclip)",
      "2. tryCatch({\n .     attr(package, \"LibPath\") <- which.lib.loc\n .     ns <- loadNamespace(package, lib.loc)\n .     env <- attachNamespace(ns, pos = pos, deps, exclude, include.only)\n . }, error = function(e) {\n .     P <- if (!is.null(cc <- conditionCall(e))) \n .         paste(\" in\", deparse(cc)[1L])\n .     else \"\"\n .     msg <- gettextf(\"package or namespace load failed for %s%s:\\n %s\", \n .         sQuote(package), P, conditionMessage(e))\n .     if (logical.return) \n .         message(paste(\"Error:\", msg), domain = NA)\n .     else stop(msg, call. = FALSE, domain = NA)\n . })",
      "3. tryCatchList(expr, classes, parentenv, handlers)",
      "4. tryCatchOne(expr, names, parentenv, handlers[[1L]])",
      "5. value[[3L]](cond)",
      "6. stop(msg, call. = FALSE, domain = NA)"
     ]
    }
   ],
   "source": []
  },
  {
   "cell_type": "markdown",
   "metadata": {
    "kernel": "R"
   },
   "source": [
    "#### Overlap of credible sets\n",
    "For each genes, each credible sets stands for the possible candidates of one of the SNVs that are responsible for the expression of the genes. To justify multivariate analysis, one should observed that the CS in each tissues shall not be be partially overlaped. Because a complete overlap stands for no difference across tissues while a none overlap stands for there is no similartiy among the tissues. Additional information can only be obtained by the partially overlap scenarios. \n",
    "\n",
    "Because each cs enssentially only indicating the potential candidates for one eQTL, pooling all the candidates together to form a CS inidicating all the possibile candidates for eQTL of particular genes shall be a valid operation. Therefore, All the SNVs in the CS of each tissues are pooled together.\n",
    "\n",
    "Using the genes that have credible set for at least two tissues, the SNPs that are shared by all the tissues with availble tissues are shown as followed."
   ]
  },
  {
   "cell_type": "code",
   "execution_count": 23,
   "metadata": {
    "kernel": "R"
   },
   "outputs": [
    {
     "name": "stderr",
     "output_type": "stream",
     "text": [
      "Parsed with column specification:\n",
      "cols(\n",
      "  gene = \u001b[31mcol_character()\u001b[39m,\n",
      "  ensembl_id = \u001b[31mcol_character()\u001b[39m,\n",
      "  chr = \u001b[32mcol_double()\u001b[39m\n",
      ")\n",
      "\n",
      "The following object is masked from file:/Users/haosun/Documents/WG_Reasearch_Assisstant/Remote_Proj/cs.RData (pos = 3):\n",
      "\n",
      "    b\n",
      "\n",
      "\n",
      "Adding missing grouping variables: `Proj_Name`\n",
      "\n"
     ]
    }
   ],
   "source": [
    "# This code block is what allowed the construction of the targeted data object\n",
    "## susie filter by cs\n",
    "Alz_gene = read_delim(\"/Users/haosun/Documents/WG_Reasearch_Assisstant/Rosmap/Data/Alz_gene_list.txt\",delim = \"\\t\")\n",
    "a = attach(\"/Users/haosun/Documents/WG_Reasearch_Assisstant/Remote_Proj/cs.RData\")\n",
    "working = a$b%>%select(-path)\n",
    "working = working%>%mutate(cs_po = map(cs,~unlist(.x)),\n",
    "                           cs_name = map2(.x = env,.y = cs_po,~(.x$fitted1$lbf_variable%>%colnames())[.y])\n",
    "                          )\n",
    "gene_2cs = working%>%group_by(region)%>%count()%>%filter(n==2)%>%pull(region)\n",
    "gene_3cs = working%>%group_by(region)%>%count()%>%filter(n==3)%>%pull(region)\n",
    "temp = working%>%select(region,cs_po,cs,cs_name,Proj_Name,hsq_susie)%>%pivot_wider(names_prefix = \"cs_\",names_from = Proj_Name,values_from = c(hsq_susie,cs_po,cs_name,cs))\n",
    "temp = temp%>%filter(region%in%c(gene_2cs,gene_3cs))\n",
    "Venn_tbl = temp%>%mutate(Venn_cs = pmap(list(cs_name_cs_Alz_AC_SNP,cs_name_cs_Alz_PCC_SNP, cs_name_cs_Alz_DLPFC_SNP),function(first, second, third)(list(AC = first,PCC = second,DLPFC = third)%>%Venn())))\n",
    "Venn_tbl  = Venn_tbl%>%mutate( \n",
    "  overlap = map(Venn_cs,~.x%>%overlap),\n",
    "  perc_overlap = pmap_dbl(list(cs_name_cs_Alz_AC_SNP,cs_name_cs_Alz_PCC_SNP, cs_name_cs_Alz_DLPFC_SNP,overlap),function(first, second, third,forth)(length(forth)/length(c(first, second, third)%>%unlist()%>%unique()))),\n",
    "#  Venn_diagram = map(Venn_cs,~.x%>%ggvenn),\n",
    "  cs_name_cs_Alz_AC_SNP = cs_name_cs_Alz_AC_SNP%>%map(~.x%>%paste(collapse=\",\")),\n",
    "  cs_name_cs_Alz_PCC_SNP = cs_name_cs_Alz_PCC_SNP%>%map(~.x%>%paste(collapse=\",\")),\n",
    "  cs_name_cs_Alz_DLPFC_SNP = cs_name_cs_Alz_DLPFC_SNP%>%map(~.x%>%paste(collapse=\",\")))%>%unnest(cols = c(cs_name_cs_Alz_AC_SNP,cs_name_cs_Alz_PCC_SNP, cs_name_cs_Alz_DLPFC_SNP))\n",
    "Venn_tbl = Venn_tbl%>%mutate(\n",
    "  overl_c = map(overlap,~.x%>%paste(collapse=\",\"))\n",
    ")%>%unnest(overl_c)\n",
    "Top_TWAS_gene_rf = Top_TWAS_gene%>%select(ID,gene,chr,logTWAS.P)%>%filter(str_detect(Proj_Name,\"SNP\"))%>%arrange(-logTWAS.P)%>%pivot_wider(names_prefix = \"logTWAS.P_\",names_from = Proj_Name,values_from = logTWAS.P)\n",
    "result = inner_join(Top_TWAS_gene_rf,Venn_tbl,by = c(\"ID\" =\"region\"))%>%arrange(-perc_overlap)%>%select(ID:cs_name_cs_Alz_PCC_SNP,overl_c,perc_overlap)%>%mutate(Three_tissues = ID%in%gene_3cs)"
   ]
  },
  {
   "cell_type": "code",
   "execution_count": 37,
   "metadata": {
    "kernel": "R"
   },
   "outputs": [
    {
     "data": {
      "text/html": [
       "32"
      ],
      "text/latex": [
       "32"
      ],
      "text/markdown": [
       "32"
      ],
      "text/plain": [
       "[1] 32"
      ]
     },
     "metadata": {},
     "output_type": "display_data"
    },
    {
     "data": {
      "text/html": [
       "11"
      ],
      "text/latex": [
       "11"
      ],
      "text/markdown": [
       "11"
      ],
      "text/plain": [
       "[1] 11"
      ]
     },
     "metadata": {},
     "output_type": "display_data"
    },
    {
     "data": {
      "text/html": [
       "<style>\n",
       ".list-inline {list-style: none; margin:0; padding: 0}\n",
       ".list-inline>li {display: inline-block}\n",
       ".list-inline>li:not(:last-child)::after {content: \"\\00b7\"; padding: 0 .5ex}\n",
       "</style>\n",
       "<ol class=list-inline><li>'ID'</li><li>'gene'</li><li>'chr'</li><li>'logTWAS.P_Alz_DLPFC_SNP'</li><li>'logTWAS.P_Alz_PCC_SNP'</li><li>'logTWAS.P_Alz_AC_SNP'</li><li>'hsq_susie_cs_Alz_AC_SNP'</li><li>'hsq_susie_cs_Alz_DLPFC_SNP'</li><li>'hsq_susie_cs_Alz_PCC_SNP'</li><li>'cs_po_cs_Alz_AC_SNP'</li><li>'cs_po_cs_Alz_DLPFC_SNP'</li><li>'cs_po_cs_Alz_PCC_SNP'</li><li>'cs_name_cs_Alz_AC_SNP'</li><li>'cs_name_cs_Alz_DLPFC_SNP'</li><li>'cs_name_cs_Alz_PCC_SNP'</li><li>'overl_c'</li><li>'perc_overlap'</li><li>'Three_tissues'</li></ol>\n"
      ],
      "text/latex": [
       "\\begin{enumerate*}\n",
       "\\item 'ID'\n",
       "\\item 'gene'\n",
       "\\item 'chr'\n",
       "\\item 'logTWAS.P\\_Alz\\_DLPFC\\_SNP'\n",
       "\\item 'logTWAS.P\\_Alz\\_PCC\\_SNP'\n",
       "\\item 'logTWAS.P\\_Alz\\_AC\\_SNP'\n",
       "\\item 'hsq\\_susie\\_cs\\_Alz\\_AC\\_SNP'\n",
       "\\item 'hsq\\_susie\\_cs\\_Alz\\_DLPFC\\_SNP'\n",
       "\\item 'hsq\\_susie\\_cs\\_Alz\\_PCC\\_SNP'\n",
       "\\item 'cs\\_po\\_cs\\_Alz\\_AC\\_SNP'\n",
       "\\item 'cs\\_po\\_cs\\_Alz\\_DLPFC\\_SNP'\n",
       "\\item 'cs\\_po\\_cs\\_Alz\\_PCC\\_SNP'\n",
       "\\item 'cs\\_name\\_cs\\_Alz\\_AC\\_SNP'\n",
       "\\item 'cs\\_name\\_cs\\_Alz\\_DLPFC\\_SNP'\n",
       "\\item 'cs\\_name\\_cs\\_Alz\\_PCC\\_SNP'\n",
       "\\item 'overl\\_c'\n",
       "\\item 'perc\\_overlap'\n",
       "\\item 'Three\\_tissues'\n",
       "\\end{enumerate*}\n"
      ],
      "text/markdown": [
       "1. 'ID'\n",
       "2. 'gene'\n",
       "3. 'chr'\n",
       "4. 'logTWAS.P_Alz_DLPFC_SNP'\n",
       "5. 'logTWAS.P_Alz_PCC_SNP'\n",
       "6. 'logTWAS.P_Alz_AC_SNP'\n",
       "7. 'hsq_susie_cs_Alz_AC_SNP'\n",
       "8. 'hsq_susie_cs_Alz_DLPFC_SNP'\n",
       "9. 'hsq_susie_cs_Alz_PCC_SNP'\n",
       "10. 'cs_po_cs_Alz_AC_SNP'\n",
       "11. 'cs_po_cs_Alz_DLPFC_SNP'\n",
       "12. 'cs_po_cs_Alz_PCC_SNP'\n",
       "13. 'cs_name_cs_Alz_AC_SNP'\n",
       "14. 'cs_name_cs_Alz_DLPFC_SNP'\n",
       "15. 'cs_name_cs_Alz_PCC_SNP'\n",
       "16. 'overl_c'\n",
       "17. 'perc_overlap'\n",
       "18. 'Three_tissues'\n",
       "\n",
       "\n"
      ],
      "text/plain": [
       " [1] \"ID\"                         \"gene\"                      \n",
       " [3] \"chr\"                        \"logTWAS.P_Alz_DLPFC_SNP\"   \n",
       " [5] \"logTWAS.P_Alz_PCC_SNP\"      \"logTWAS.P_Alz_AC_SNP\"      \n",
       " [7] \"hsq_susie_cs_Alz_AC_SNP\"    \"hsq_susie_cs_Alz_DLPFC_SNP\"\n",
       " [9] \"hsq_susie_cs_Alz_PCC_SNP\"   \"cs_po_cs_Alz_AC_SNP\"       \n",
       "[11] \"cs_po_cs_Alz_DLPFC_SNP\"     \"cs_po_cs_Alz_PCC_SNP\"      \n",
       "[13] \"cs_name_cs_Alz_AC_SNP\"      \"cs_name_cs_Alz_DLPFC_SNP\"  \n",
       "[15] \"cs_name_cs_Alz_PCC_SNP\"     \"overl_c\"                   \n",
       "[17] \"perc_overlap\"               \"Three_tissues\"             "
      ]
     },
     "metadata": {},
     "output_type": "display_data"
    },
    {
     "data": {
      "text/html": [
       "<table>\n",
       "<caption>A tibble: 42 × 7</caption>\n",
       "<thead>\n",
       "\t<tr><th scope=col>ID</th><th scope=col>gene</th><th scope=col>logTWAS.P_Alz_DLPFC_SNP</th><th scope=col>logTWAS.P_Alz_PCC_SNP</th><th scope=col>logTWAS.P_Alz_AC_SNP</th><th scope=col>Three_tissues</th><th scope=col>perc_overlap</th></tr>\n",
       "\t<tr><th scope=col>&lt;chr&gt;</th><th scope=col>&lt;chr&gt;</th><th scope=col>&lt;dbl&gt;</th><th scope=col>&lt;dbl&gt;</th><th scope=col>&lt;dbl&gt;</th><th scope=col>&lt;lgl&gt;</th><th scope=col>&lt;dbl&gt;</th></tr>\n",
       "</thead>\n",
       "<tbody>\n",
       "\t<tr><td>ENSG00000161929</td><td>SCIMP   </td><td> 3.62160210</td><td> 0.838631998</td><td> 0.81211282</td><td>FALSE</td><td>1.00000000</td></tr>\n",
       "\t<tr><td>ENSG00000099817</td><td>POLR2E  </td><td> 3.52143350</td><td> 3.521433504</td><td> 2.86012091</td><td> TRUE</td><td>1.00000000</td></tr>\n",
       "\t<tr><td>ENSG00000007047</td><td>MARK4   </td><td> 3.01863449</td><td>          NA</td><td>         NA</td><td> TRUE</td><td>1.00000000</td></tr>\n",
       "\t<tr><td>ENSG00000180448</td><td>HMHA1   </td><td> 1.85078089</td><td> 0.906578315</td><td>         NA</td><td> TRUE</td><td>1.00000000</td></tr>\n",
       "\t<tr><td>ENSG00000264538</td><td>SUZ12P1 </td><td> 0.43062609</td><td> 0.651695137</td><td> 0.51533010</td><td> TRUE</td><td>1.00000000</td></tr>\n",
       "\t<tr><td>ENSG00000073008</td><td>PVR     </td><td>11.05998184</td><td>13.436518915</td><td>15.54515514</td><td> TRUE</td><td>0.85714286</td></tr>\n",
       "\t<tr><td>ENSG00000214309</td><td>MBLAC1  </td><td>         NA</td><td> 0.774690718</td><td>         NA</td><td> TRUE</td><td>0.85000000</td></tr>\n",
       "\t<tr><td>ENSG00000140416</td><td>TPM1    </td><td> 1.51855737</td><td>          NA</td><td> 1.29217443</td><td>FALSE</td><td>0.83333333</td></tr>\n",
       "\t<tr><td>ENSG00000121716</td><td>PILRB   </td><td>         NA</td><td> 0.442492798</td><td>         NA</td><td> TRUE</td><td>0.77777778</td></tr>\n",
       "\t<tr><td>ENSG00000240065</td><td>PSMB9   </td><td> 0.29242982</td><td> 0.128427064</td><td> 0.07831352</td><td>FALSE</td><td>0.76923077</td></tr>\n",
       "\t<tr><td>ENSG00000110079</td><td>MS4A4A  </td><td> 8.32882716</td><td>          NA</td><td> 5.27654433</td><td>FALSE</td><td>0.76470588</td></tr>\n",
       "\t<tr><td>ENSG00000103496</td><td>STX4    </td><td> 2.06671523</td><td> 2.735182177</td><td>         NA</td><td> TRUE</td><td>0.76190476</td></tr>\n",
       "\t<tr><td>ENSG00000189114</td><td>BLOC1S3 </td><td> 0.40782324</td><td>          NA</td><td> 1.41228903</td><td>FALSE</td><td>0.75000000</td></tr>\n",
       "\t<tr><td>ENSG00000108523</td><td>RNF167  </td><td>         NA</td><td> 0.369572125</td><td> 0.27976625</td><td>FALSE</td><td>0.75000000</td></tr>\n",
       "\t<tr><td>ENSG00000146834</td><td>MEPCE   </td><td>         NA</td><td> 0.787812396</td><td>         NA</td><td> TRUE</td><td>0.72972973</td></tr>\n",
       "\t<tr><td>ENSG00000108559</td><td>NUP88   </td><td> 1.85387196</td><td> 1.578396073</td><td> 2.11463878</td><td> TRUE</td><td>0.70769231</td></tr>\n",
       "\t<tr><td>ENSG00000204267</td><td>TAP2    </td><td> 4.87942607</td><td> 0.331614083</td><td> 3.09205148</td><td> TRUE</td><td>0.66666667</td></tr>\n",
       "\t<tr><td>ENSG00000196118</td><td>C16orf93</td><td>         NA</td><td>          NA</td><td> 4.39902710</td><td>FALSE</td><td>0.51724138</td></tr>\n",
       "\t<tr><td>ENSG00000103642</td><td>LACTB   </td><td> 0.52258931</td><td> 3.627087997</td><td> 2.08777794</td><td> TRUE</td><td>0.50000000</td></tr>\n",
       "\t<tr><td>ENSG00000129204</td><td>USP6    </td><td> 1.09636748</td><td> 0.007888512</td><td> 1.40241450</td><td> TRUE</td><td>0.50000000</td></tr>\n",
       "\t<tr><td>ENSG00000196126</td><td>HLA-DRB1</td><td> 3.27736608</td><td> 4.806875402</td><td> 2.73282827</td><td> TRUE</td><td>0.44347826</td></tr>\n",
       "\t<tr><td>ENSG00000103549</td><td>RNF40   </td><td> 3.21896306</td><td> 0.721246399</td><td>         NA</td><td> TRUE</td><td>0.42857143</td></tr>\n",
       "\t<tr><td>ENSG00000244731</td><td>C4A     </td><td> 1.07365755</td><td> 0.698970004</td><td> 0.42021640</td><td> TRUE</td><td>0.40909091</td></tr>\n",
       "\t<tr><td>ENSG00000085514</td><td>PILRA   </td><td>         NA</td><td> 0.368556231</td><td>         NA</td><td>FALSE</td><td>0.35000000</td></tr>\n",
       "\t<tr><td>ENSG00000203710</td><td>CR1     </td><td>17.08407279</td><td>16.995678626</td><td> 3.96257350</td><td> TRUE</td><td>0.31250000</td></tr>\n",
       "\t<tr><td>ENSG00000108556</td><td>CHRNE   </td><td> 4.96657624</td><td> 4.756961951</td><td>         NA</td><td>FALSE</td><td>0.27272727</td></tr>\n",
       "\t<tr><td>ENSG00000178226</td><td>PRSS36  </td><td>         NA</td><td>          NA</td><td> 6.96257350</td><td> TRUE</td><td>0.20000000</td></tr>\n",
       "\t<tr><td>ENSG00000064666</td><td>CNN2    </td><td> 0.69680394</td><td> 0.498940738</td><td> 0.65560773</td><td> TRUE</td><td>0.20000000</td></tr>\n",
       "\t<tr><td>ENSG00000160862</td><td>AZGP1   </td><td>         NA</td><td> 4.939302160</td><td>         NA</td><td>FALSE</td><td>0.18181818</td></tr>\n",
       "\t<tr><td>ENSG00000103510</td><td>KAT8    </td><td> 3.66554625</td><td> 8.636388020</td><td> 5.35066514</td><td> TRUE</td><td>0.14285714</td></tr>\n",
       "\t<tr><td>ENSG00000196735</td><td>HLA-DQA1</td><td> 0.85387196</td><td> 0.692503962</td><td> 0.73518218</td><td> TRUE</td><td>0.11313869</td></tr>\n",
       "\t<tr><td>ENSG00000147419</td><td>CCDC25  </td><td> 1.62708800</td><td> 2.329754147</td><td> 1.56066731</td><td> TRUE</td><td>0.09803922</td></tr>\n",
       "\t<tr><td>ENSG00000167840</td><td>ZNF232  </td><td> 2.64975198</td><td> 3.168130226</td><td> 2.73048706</td><td> TRUE</td><td>0.01694915</td></tr>\n",
       "\t<tr><td>ENSG00000198502</td><td>HLA-DRB5</td><td> 1.50307035</td><td> 1.519993057</td><td> 0.68824614</td><td> TRUE</td><td>0.01556420</td></tr>\n",
       "\t<tr><td>ENSG00000179344</td><td>HLA-DQB1</td><td> 1.20620962</td><td> 0.970616222</td><td> 1.27002571</td><td> TRUE</td><td>0.01000000</td></tr>\n",
       "\t<tr><td>ENSG00000065268</td><td>WDR18   </td><td> 1.26520017</td><td> 1.357535480</td><td> 2.18508682</td><td> TRUE</td><td>0.00000000</td></tr>\n",
       "\t<tr><td>ENSG00000196388</td><td>INCA1   </td><td> 1.74472749</td><td> 0.414539270</td><td> 0.50369319</td><td> TRUE</td><td>0.00000000</td></tr>\n",
       "\t<tr><td>ENSG00000134463</td><td>ECHDC3  </td><td> 1.40011693</td><td> 0.712198270</td><td> 0.21467016</td><td> TRUE</td><td>0.00000000</td></tr>\n",
       "\t<tr><td>ENSG00000204301</td><td>NOTCH4  </td><td> 0.01818139</td><td> 1.094743951</td><td> 0.67162040</td><td>FALSE</td><td>0.00000000</td></tr>\n",
       "\t<tr><td>ENSG00000204516</td><td>MICB    </td><td> 0.83564714</td><td> 0.414539270</td><td> 0.17783192</td><td> TRUE</td><td>0.00000000</td></tr>\n",
       "\t<tr><td>ENSG00000142252</td><td>GEMIN7  </td><td> 0.42481216</td><td>          NA</td><td>         NA</td><td> TRUE</td><td>0.00000000</td></tr>\n",
       "\t<tr><td>ENSG00000166529</td><td>ZSCAN21 </td><td>         NA</td><td> 0.219682688</td><td>         NA</td><td> TRUE</td><td>0.00000000</td></tr>\n",
       "</tbody>\n",
       "</table>\n"
      ],
      "text/latex": [
       "A tibble: 42 × 7\n",
       "\\begin{tabular}{lllllll}\n",
       " ID & gene & logTWAS.P\\_Alz\\_DLPFC\\_SNP & logTWAS.P\\_Alz\\_PCC\\_SNP & logTWAS.P\\_Alz\\_AC\\_SNP & Three\\_tissues & perc\\_overlap\\\\\n",
       " <chr> & <chr> & <dbl> & <dbl> & <dbl> & <lgl> & <dbl>\\\\\n",
       "\\hline\n",
       "\t ENSG00000161929 & SCIMP    &  3.62160210 &  0.838631998 &  0.81211282 & FALSE & 1.00000000\\\\\n",
       "\t ENSG00000099817 & POLR2E   &  3.52143350 &  3.521433504 &  2.86012091 &  TRUE & 1.00000000\\\\\n",
       "\t ENSG00000007047 & MARK4    &  3.01863449 &           NA &          NA &  TRUE & 1.00000000\\\\\n",
       "\t ENSG00000180448 & HMHA1    &  1.85078089 &  0.906578315 &          NA &  TRUE & 1.00000000\\\\\n",
       "\t ENSG00000264538 & SUZ12P1  &  0.43062609 &  0.651695137 &  0.51533010 &  TRUE & 1.00000000\\\\\n",
       "\t ENSG00000073008 & PVR      & 11.05998184 & 13.436518915 & 15.54515514 &  TRUE & 0.85714286\\\\\n",
       "\t ENSG00000214309 & MBLAC1   &          NA &  0.774690718 &          NA &  TRUE & 0.85000000\\\\\n",
       "\t ENSG00000140416 & TPM1     &  1.51855737 &           NA &  1.29217443 & FALSE & 0.83333333\\\\\n",
       "\t ENSG00000121716 & PILRB    &          NA &  0.442492798 &          NA &  TRUE & 0.77777778\\\\\n",
       "\t ENSG00000240065 & PSMB9    &  0.29242982 &  0.128427064 &  0.07831352 & FALSE & 0.76923077\\\\\n",
       "\t ENSG00000110079 & MS4A4A   &  8.32882716 &           NA &  5.27654433 & FALSE & 0.76470588\\\\\n",
       "\t ENSG00000103496 & STX4     &  2.06671523 &  2.735182177 &          NA &  TRUE & 0.76190476\\\\\n",
       "\t ENSG00000189114 & BLOC1S3  &  0.40782324 &           NA &  1.41228903 & FALSE & 0.75000000\\\\\n",
       "\t ENSG00000108523 & RNF167   &          NA &  0.369572125 &  0.27976625 & FALSE & 0.75000000\\\\\n",
       "\t ENSG00000146834 & MEPCE    &          NA &  0.787812396 &          NA &  TRUE & 0.72972973\\\\\n",
       "\t ENSG00000108559 & NUP88    &  1.85387196 &  1.578396073 &  2.11463878 &  TRUE & 0.70769231\\\\\n",
       "\t ENSG00000204267 & TAP2     &  4.87942607 &  0.331614083 &  3.09205148 &  TRUE & 0.66666667\\\\\n",
       "\t ENSG00000196118 & C16orf93 &          NA &           NA &  4.39902710 & FALSE & 0.51724138\\\\\n",
       "\t ENSG00000103642 & LACTB    &  0.52258931 &  3.627087997 &  2.08777794 &  TRUE & 0.50000000\\\\\n",
       "\t ENSG00000129204 & USP6     &  1.09636748 &  0.007888512 &  1.40241450 &  TRUE & 0.50000000\\\\\n",
       "\t ENSG00000196126 & HLA-DRB1 &  3.27736608 &  4.806875402 &  2.73282827 &  TRUE & 0.44347826\\\\\n",
       "\t ENSG00000103549 & RNF40    &  3.21896306 &  0.721246399 &          NA &  TRUE & 0.42857143\\\\\n",
       "\t ENSG00000244731 & C4A      &  1.07365755 &  0.698970004 &  0.42021640 &  TRUE & 0.40909091\\\\\n",
       "\t ENSG00000085514 & PILRA    &          NA &  0.368556231 &          NA & FALSE & 0.35000000\\\\\n",
       "\t ENSG00000203710 & CR1      & 17.08407279 & 16.995678626 &  3.96257350 &  TRUE & 0.31250000\\\\\n",
       "\t ENSG00000108556 & CHRNE    &  4.96657624 &  4.756961951 &          NA & FALSE & 0.27272727\\\\\n",
       "\t ENSG00000178226 & PRSS36   &          NA &           NA &  6.96257350 &  TRUE & 0.20000000\\\\\n",
       "\t ENSG00000064666 & CNN2     &  0.69680394 &  0.498940738 &  0.65560773 &  TRUE & 0.20000000\\\\\n",
       "\t ENSG00000160862 & AZGP1    &          NA &  4.939302160 &          NA & FALSE & 0.18181818\\\\\n",
       "\t ENSG00000103510 & KAT8     &  3.66554625 &  8.636388020 &  5.35066514 &  TRUE & 0.14285714\\\\\n",
       "\t ENSG00000196735 & HLA-DQA1 &  0.85387196 &  0.692503962 &  0.73518218 &  TRUE & 0.11313869\\\\\n",
       "\t ENSG00000147419 & CCDC25   &  1.62708800 &  2.329754147 &  1.56066731 &  TRUE & 0.09803922\\\\\n",
       "\t ENSG00000167840 & ZNF232   &  2.64975198 &  3.168130226 &  2.73048706 &  TRUE & 0.01694915\\\\\n",
       "\t ENSG00000198502 & HLA-DRB5 &  1.50307035 &  1.519993057 &  0.68824614 &  TRUE & 0.01556420\\\\\n",
       "\t ENSG00000179344 & HLA-DQB1 &  1.20620962 &  0.970616222 &  1.27002571 &  TRUE & 0.01000000\\\\\n",
       "\t ENSG00000065268 & WDR18    &  1.26520017 &  1.357535480 &  2.18508682 &  TRUE & 0.00000000\\\\\n",
       "\t ENSG00000196388 & INCA1    &  1.74472749 &  0.414539270 &  0.50369319 &  TRUE & 0.00000000\\\\\n",
       "\t ENSG00000134463 & ECHDC3   &  1.40011693 &  0.712198270 &  0.21467016 &  TRUE & 0.00000000\\\\\n",
       "\t ENSG00000204301 & NOTCH4   &  0.01818139 &  1.094743951 &  0.67162040 & FALSE & 0.00000000\\\\\n",
       "\t ENSG00000204516 & MICB     &  0.83564714 &  0.414539270 &  0.17783192 &  TRUE & 0.00000000\\\\\n",
       "\t ENSG00000142252 & GEMIN7   &  0.42481216 &           NA &          NA &  TRUE & 0.00000000\\\\\n",
       "\t ENSG00000166529 & ZSCAN21  &          NA &  0.219682688 &          NA &  TRUE & 0.00000000\\\\\n",
       "\\end{tabular}\n"
      ],
      "text/markdown": [
       "\n",
       "A tibble: 42 × 7\n",
       "\n",
       "| ID &lt;chr&gt; | gene &lt;chr&gt; | logTWAS.P_Alz_DLPFC_SNP &lt;dbl&gt; | logTWAS.P_Alz_PCC_SNP &lt;dbl&gt; | logTWAS.P_Alz_AC_SNP &lt;dbl&gt; | Three_tissues &lt;lgl&gt; | perc_overlap &lt;dbl&gt; |\n",
       "|---|---|---|---|---|---|---|\n",
       "| ENSG00000161929 | SCIMP    |  3.62160210 |  0.838631998 |  0.81211282 | FALSE | 1.00000000 |\n",
       "| ENSG00000099817 | POLR2E   |  3.52143350 |  3.521433504 |  2.86012091 |  TRUE | 1.00000000 |\n",
       "| ENSG00000007047 | MARK4    |  3.01863449 |           NA |          NA |  TRUE | 1.00000000 |\n",
       "| ENSG00000180448 | HMHA1    |  1.85078089 |  0.906578315 |          NA |  TRUE | 1.00000000 |\n",
       "| ENSG00000264538 | SUZ12P1  |  0.43062609 |  0.651695137 |  0.51533010 |  TRUE | 1.00000000 |\n",
       "| ENSG00000073008 | PVR      | 11.05998184 | 13.436518915 | 15.54515514 |  TRUE | 0.85714286 |\n",
       "| ENSG00000214309 | MBLAC1   |          NA |  0.774690718 |          NA |  TRUE | 0.85000000 |\n",
       "| ENSG00000140416 | TPM1     |  1.51855737 |           NA |  1.29217443 | FALSE | 0.83333333 |\n",
       "| ENSG00000121716 | PILRB    |          NA |  0.442492798 |          NA |  TRUE | 0.77777778 |\n",
       "| ENSG00000240065 | PSMB9    |  0.29242982 |  0.128427064 |  0.07831352 | FALSE | 0.76923077 |\n",
       "| ENSG00000110079 | MS4A4A   |  8.32882716 |           NA |  5.27654433 | FALSE | 0.76470588 |\n",
       "| ENSG00000103496 | STX4     |  2.06671523 |  2.735182177 |          NA |  TRUE | 0.76190476 |\n",
       "| ENSG00000189114 | BLOC1S3  |  0.40782324 |           NA |  1.41228903 | FALSE | 0.75000000 |\n",
       "| ENSG00000108523 | RNF167   |          NA |  0.369572125 |  0.27976625 | FALSE | 0.75000000 |\n",
       "| ENSG00000146834 | MEPCE    |          NA |  0.787812396 |          NA |  TRUE | 0.72972973 |\n",
       "| ENSG00000108559 | NUP88    |  1.85387196 |  1.578396073 |  2.11463878 |  TRUE | 0.70769231 |\n",
       "| ENSG00000204267 | TAP2     |  4.87942607 |  0.331614083 |  3.09205148 |  TRUE | 0.66666667 |\n",
       "| ENSG00000196118 | C16orf93 |          NA |           NA |  4.39902710 | FALSE | 0.51724138 |\n",
       "| ENSG00000103642 | LACTB    |  0.52258931 |  3.627087997 |  2.08777794 |  TRUE | 0.50000000 |\n",
       "| ENSG00000129204 | USP6     |  1.09636748 |  0.007888512 |  1.40241450 |  TRUE | 0.50000000 |\n",
       "| ENSG00000196126 | HLA-DRB1 |  3.27736608 |  4.806875402 |  2.73282827 |  TRUE | 0.44347826 |\n",
       "| ENSG00000103549 | RNF40    |  3.21896306 |  0.721246399 |          NA |  TRUE | 0.42857143 |\n",
       "| ENSG00000244731 | C4A      |  1.07365755 |  0.698970004 |  0.42021640 |  TRUE | 0.40909091 |\n",
       "| ENSG00000085514 | PILRA    |          NA |  0.368556231 |          NA | FALSE | 0.35000000 |\n",
       "| ENSG00000203710 | CR1      | 17.08407279 | 16.995678626 |  3.96257350 |  TRUE | 0.31250000 |\n",
       "| ENSG00000108556 | CHRNE    |  4.96657624 |  4.756961951 |          NA | FALSE | 0.27272727 |\n",
       "| ENSG00000178226 | PRSS36   |          NA |           NA |  6.96257350 |  TRUE | 0.20000000 |\n",
       "| ENSG00000064666 | CNN2     |  0.69680394 |  0.498940738 |  0.65560773 |  TRUE | 0.20000000 |\n",
       "| ENSG00000160862 | AZGP1    |          NA |  4.939302160 |          NA | FALSE | 0.18181818 |\n",
       "| ENSG00000103510 | KAT8     |  3.66554625 |  8.636388020 |  5.35066514 |  TRUE | 0.14285714 |\n",
       "| ENSG00000196735 | HLA-DQA1 |  0.85387196 |  0.692503962 |  0.73518218 |  TRUE | 0.11313869 |\n",
       "| ENSG00000147419 | CCDC25   |  1.62708800 |  2.329754147 |  1.56066731 |  TRUE | 0.09803922 |\n",
       "| ENSG00000167840 | ZNF232   |  2.64975198 |  3.168130226 |  2.73048706 |  TRUE | 0.01694915 |\n",
       "| ENSG00000198502 | HLA-DRB5 |  1.50307035 |  1.519993057 |  0.68824614 |  TRUE | 0.01556420 |\n",
       "| ENSG00000179344 | HLA-DQB1 |  1.20620962 |  0.970616222 |  1.27002571 |  TRUE | 0.01000000 |\n",
       "| ENSG00000065268 | WDR18    |  1.26520017 |  1.357535480 |  2.18508682 |  TRUE | 0.00000000 |\n",
       "| ENSG00000196388 | INCA1    |  1.74472749 |  0.414539270 |  0.50369319 |  TRUE | 0.00000000 |\n",
       "| ENSG00000134463 | ECHDC3   |  1.40011693 |  0.712198270 |  0.21467016 |  TRUE | 0.00000000 |\n",
       "| ENSG00000204301 | NOTCH4   |  0.01818139 |  1.094743951 |  0.67162040 | FALSE | 0.00000000 |\n",
       "| ENSG00000204516 | MICB     |  0.83564714 |  0.414539270 |  0.17783192 |  TRUE | 0.00000000 |\n",
       "| ENSG00000142252 | GEMIN7   |  0.42481216 |           NA |          NA |  TRUE | 0.00000000 |\n",
       "| ENSG00000166529 | ZSCAN21  |          NA |  0.219682688 |          NA |  TRUE | 0.00000000 |\n",
       "\n"
      ],
      "text/plain": [
       "   ID              gene     logTWAS.P_Alz_DLPFC_SNP logTWAS.P_Alz_PCC_SNP\n",
       "1  ENSG00000161929 SCIMP     3.62160210              0.838631998         \n",
       "2  ENSG00000099817 POLR2E    3.52143350              3.521433504         \n",
       "3  ENSG00000007047 MARK4     3.01863449                       NA         \n",
       "4  ENSG00000180448 HMHA1     1.85078089              0.906578315         \n",
       "5  ENSG00000264538 SUZ12P1   0.43062609              0.651695137         \n",
       "6  ENSG00000073008 PVR      11.05998184             13.436518915         \n",
       "7  ENSG00000214309 MBLAC1            NA              0.774690718         \n",
       "8  ENSG00000140416 TPM1      1.51855737                       NA         \n",
       "9  ENSG00000121716 PILRB             NA              0.442492798         \n",
       "10 ENSG00000240065 PSMB9     0.29242982              0.128427064         \n",
       "11 ENSG00000110079 MS4A4A    8.32882716                       NA         \n",
       "12 ENSG00000103496 STX4      2.06671523              2.735182177         \n",
       "13 ENSG00000189114 BLOC1S3   0.40782324                       NA         \n",
       "14 ENSG00000108523 RNF167            NA              0.369572125         \n",
       "15 ENSG00000146834 MEPCE             NA              0.787812396         \n",
       "16 ENSG00000108559 NUP88     1.85387196              1.578396073         \n",
       "17 ENSG00000204267 TAP2      4.87942607              0.331614083         \n",
       "18 ENSG00000196118 C16orf93          NA                       NA         \n",
       "19 ENSG00000103642 LACTB     0.52258931              3.627087997         \n",
       "20 ENSG00000129204 USP6      1.09636748              0.007888512         \n",
       "21 ENSG00000196126 HLA-DRB1  3.27736608              4.806875402         \n",
       "22 ENSG00000103549 RNF40     3.21896306              0.721246399         \n",
       "23 ENSG00000244731 C4A       1.07365755              0.698970004         \n",
       "24 ENSG00000085514 PILRA             NA              0.368556231         \n",
       "25 ENSG00000203710 CR1      17.08407279             16.995678626         \n",
       "26 ENSG00000108556 CHRNE     4.96657624              4.756961951         \n",
       "27 ENSG00000178226 PRSS36            NA                       NA         \n",
       "28 ENSG00000064666 CNN2      0.69680394              0.498940738         \n",
       "29 ENSG00000160862 AZGP1             NA              4.939302160         \n",
       "30 ENSG00000103510 KAT8      3.66554625              8.636388020         \n",
       "31 ENSG00000196735 HLA-DQA1  0.85387196              0.692503962         \n",
       "32 ENSG00000147419 CCDC25    1.62708800              2.329754147         \n",
       "33 ENSG00000167840 ZNF232    2.64975198              3.168130226         \n",
       "34 ENSG00000198502 HLA-DRB5  1.50307035              1.519993057         \n",
       "35 ENSG00000179344 HLA-DQB1  1.20620962              0.970616222         \n",
       "36 ENSG00000065268 WDR18     1.26520017              1.357535480         \n",
       "37 ENSG00000196388 INCA1     1.74472749              0.414539270         \n",
       "38 ENSG00000134463 ECHDC3    1.40011693              0.712198270         \n",
       "39 ENSG00000204301 NOTCH4    0.01818139              1.094743951         \n",
       "40 ENSG00000204516 MICB      0.83564714              0.414539270         \n",
       "41 ENSG00000142252 GEMIN7    0.42481216                       NA         \n",
       "42 ENSG00000166529 ZSCAN21           NA              0.219682688         \n",
       "   logTWAS.P_Alz_AC_SNP Three_tissues perc_overlap\n",
       "1   0.81211282          FALSE         1.00000000  \n",
       "2   2.86012091           TRUE         1.00000000  \n",
       "3           NA           TRUE         1.00000000  \n",
       "4           NA           TRUE         1.00000000  \n",
       "5   0.51533010           TRUE         1.00000000  \n",
       "6  15.54515514           TRUE         0.85714286  \n",
       "7           NA           TRUE         0.85000000  \n",
       "8   1.29217443          FALSE         0.83333333  \n",
       "9           NA           TRUE         0.77777778  \n",
       "10  0.07831352          FALSE         0.76923077  \n",
       "11  5.27654433          FALSE         0.76470588  \n",
       "12          NA           TRUE         0.76190476  \n",
       "13  1.41228903          FALSE         0.75000000  \n",
       "14  0.27976625          FALSE         0.75000000  \n",
       "15          NA           TRUE         0.72972973  \n",
       "16  2.11463878           TRUE         0.70769231  \n",
       "17  3.09205148           TRUE         0.66666667  \n",
       "18  4.39902710          FALSE         0.51724138  \n",
       "19  2.08777794           TRUE         0.50000000  \n",
       "20  1.40241450           TRUE         0.50000000  \n",
       "21  2.73282827           TRUE         0.44347826  \n",
       "22          NA           TRUE         0.42857143  \n",
       "23  0.42021640           TRUE         0.40909091  \n",
       "24          NA          FALSE         0.35000000  \n",
       "25  3.96257350           TRUE         0.31250000  \n",
       "26          NA          FALSE         0.27272727  \n",
       "27  6.96257350           TRUE         0.20000000  \n",
       "28  0.65560773           TRUE         0.20000000  \n",
       "29          NA          FALSE         0.18181818  \n",
       "30  5.35066514           TRUE         0.14285714  \n",
       "31  0.73518218           TRUE         0.11313869  \n",
       "32  1.56066731           TRUE         0.09803922  \n",
       "33  2.73048706           TRUE         0.01694915  \n",
       "34  0.68824614           TRUE         0.01556420  \n",
       "35  1.27002571           TRUE         0.01000000  \n",
       "36  2.18508682           TRUE         0.00000000  \n",
       "37  0.50369319           TRUE         0.00000000  \n",
       "38  0.21467016           TRUE         0.00000000  \n",
       "39  0.67162040          FALSE         0.00000000  \n",
       "40  0.17783192           TRUE         0.00000000  \n",
       "41          NA           TRUE         0.00000000  \n",
       "42          NA           TRUE         0.00000000  "
      ]
     },
     "metadata": {},
     "output_type": "display_data"
    }
   ],
   "source": [
    "## Showing the result\n",
    "length(gene_3cs)\n",
    "length(gene_2cs)\n",
    "colnames(result)\n",
    "result%>%select(ID,gene,'logTWAS.P_Alz_DLPFC_SNP','logTWAS.P_Alz_PCC_SNP','logTWAS.P_Alz_AC_SNP',Three_tissues,perc_overlap)%>%arrange(-perc_overlap)\n"
   ]
  },
  {
   "cell_type": "code",
   "execution_count": 25,
   "metadata": {
    "kernel": "R"
   },
   "outputs": [
    {
     "data": {
      "text/html": [
       "<table>\n",
       "<caption>A matrix: 4 × 1 of type chr</caption>\n",
       "<tbody>\n",
       "\t<tr><th scope=row>cs_name_cs_Alz_AC_SNP</th><td>17:5124877_C_T,17:5125249_A_G,17:5125333_A_T,17:5126207_A_G,17:5126224_G_T,17:5126674_A_G,17:5128482_A_G,17:5133734_C_T,17:5133807_A_G,17:5134814_A_G</td></tr>\n",
       "\t<tr><th scope=row>cs_name_cs_Alz_DLPFC_SNP</th><td>                                                                                                                                                     </td></tr>\n",
       "\t<tr><th scope=row>cs_name_cs_Alz_PCC_SNP</th><td>17:5124877_C_T,17:5125249_A_G,17:5125333_A_T,17:5126207_A_G,17:5126224_G_T,17:5126674_A_G,17:5128482_A_G,17:5133734_C_T,17:5133807_A_G,17:5134814_A_G</td></tr>\n",
       "\t<tr><th scope=row>overl_c</th><td>17:5124877_C_T,17:5125249_A_G,17:5125333_A_T,17:5126207_A_G,17:5126224_G_T,17:5126674_A_G,17:5128482_A_G,17:5133734_C_T,17:5133807_A_G,17:5134814_A_G</td></tr>\n",
       "</tbody>\n",
       "</table>\n"
      ],
      "text/latex": [
       "A matrix: 4 × 1 of type chr\n",
       "\\begin{tabular}{r|l}\n",
       "\tcs\\_name\\_cs\\_Alz\\_AC\\_SNP & 17:5124877\\_C\\_T,17:5125249\\_A\\_G,17:5125333\\_A\\_T,17:5126207\\_A\\_G,17:5126224\\_G\\_T,17:5126674\\_A\\_G,17:5128482\\_A\\_G,17:5133734\\_C\\_T,17:5133807\\_A\\_G,17:5134814\\_A\\_G\\\\\n",
       "\tcs\\_name\\_cs\\_Alz\\_DLPFC\\_SNP &                                                                                                                                                      \\\\\n",
       "\tcs\\_name\\_cs\\_Alz\\_PCC\\_SNP & 17:5124877\\_C\\_T,17:5125249\\_A\\_G,17:5125333\\_A\\_T,17:5126207\\_A\\_G,17:5126224\\_G\\_T,17:5126674\\_A\\_G,17:5128482\\_A\\_G,17:5133734\\_C\\_T,17:5133807\\_A\\_G,17:5134814\\_A\\_G\\\\\n",
       "\toverl\\_c & 17:5124877\\_C\\_T,17:5125249\\_A\\_G,17:5125333\\_A\\_T,17:5126207\\_A\\_G,17:5126224\\_G\\_T,17:5126674\\_A\\_G,17:5128482\\_A\\_G,17:5133734\\_C\\_T,17:5133807\\_A\\_G,17:5134814\\_A\\_G\\\\\n",
       "\\end{tabular}\n"
      ],
      "text/markdown": [
       "\n",
       "A matrix: 4 × 1 of type chr\n",
       "\n",
       "| cs_name_cs_Alz_AC_SNP | 17:5124877_C_T,17:5125249_A_G,17:5125333_A_T,17:5126207_A_G,17:5126224_G_T,17:5126674_A_G,17:5128482_A_G,17:5133734_C_T,17:5133807_A_G,17:5134814_A_G |\n",
       "| cs_name_cs_Alz_DLPFC_SNP | <!----> |\n",
       "| cs_name_cs_Alz_PCC_SNP | 17:5124877_C_T,17:5125249_A_G,17:5125333_A_T,17:5126207_A_G,17:5126224_G_T,17:5126674_A_G,17:5128482_A_G,17:5133734_C_T,17:5133807_A_G,17:5134814_A_G |\n",
       "| overl_c | 17:5124877_C_T,17:5125249_A_G,17:5125333_A_T,17:5126207_A_G,17:5126224_G_T,17:5126674_A_G,17:5128482_A_G,17:5133734_C_T,17:5133807_A_G,17:5134814_A_G |\n",
       "\n"
      ],
      "text/plain": [
       "                         [,1]                                                                                                                                                 \n",
       "cs_name_cs_Alz_AC_SNP    17:5124877_C_T,17:5125249_A_G,17:5125333_A_T,17:5126207_A_G,17:5126224_G_T,17:5126674_A_G,17:5128482_A_G,17:5133734_C_T,17:5133807_A_G,17:5134814_A_G\n",
       "cs_name_cs_Alz_DLPFC_SNP                                                                                                                                                      \n",
       "cs_name_cs_Alz_PCC_SNP   17:5124877_C_T,17:5125249_A_G,17:5125333_A_T,17:5126207_A_G,17:5126224_G_T,17:5126674_A_G,17:5128482_A_G,17:5133734_C_T,17:5133807_A_G,17:5134814_A_G\n",
       "overl_c                  17:5124877_C_T,17:5125249_A_G,17:5125333_A_T,17:5126207_A_G,17:5126224_G_T,17:5126674_A_G,17:5128482_A_G,17:5133734_C_T,17:5133807_A_G,17:5134814_A_G"
      ]
     },
     "metadata": {},
     "output_type": "display_data"
    }
   ],
   "source": [
    "#### To looks at the overlap between each genes of interest\n",
    "gene_ID = \"ENSG00000161929\"\n",
    "result%>%filter(ID %in%  gene_ID)%>%select(cs_name_cs_Alz_AC_SNP,cs_name_cs_Alz_DLPFC_SNP,cs_name_cs_Alz_PCC_SNP,overl_c)%>%t()\n"
   ]
  },
  {
   "cell_type": "code",
   "execution_count": null,
   "metadata": {
    "kernel": "R"
   },
   "outputs": [],
   "source": []
  },
  {
   "cell_type": "markdown",
   "metadata": {
    "kernel": "R"
   },
   "source": [
    "#### Visualization of targeted genes\n",
    "Since both ggvenn and susie R are not availble in jupyterLab, the following visualization are done in RStudio\n"
   ]
  },
  {
   "cell_type": "markdown",
   "metadata": {
    "kernel": "R"
   },
   "source": []
  },
  {
   "cell_type": "code",
   "execution_count": null,
   "metadata": {
    "kernel": "R"
   },
   "outputs": [],
   "source": [
    "Venn_diag  = Venn_tbl%>%filter(region %in%  gene_ID)%>%mutate(Venn_diagram = map(Venn_cs,~.x%>%ggvenn))\n",
    "working%>%filter(region %in%  gene_ID)%>%mutate(susie_plot = map(env,~.x$fitted1%>%susie_plot(y = \"PIP\",b = b)))\n",
    "Venn_diag$Venn_diagram"
   ]
  },
  {
   "cell_type": "markdown",
   "metadata": {
    "kernel": "R"
   },
   "source": [
    "#### Distribution of number of overlaped CS in each tissues\n",
    "It turn out that most of the genes have only one overlapped CS, the only one with 2 CS is "
   ]
  },
  {
   "cell_type": "code",
   "execution_count": 26,
   "metadata": {
    "kernel": "R"
   },
   "outputs": [
    {
     "name": "stderr",
     "output_type": "stream",
     "text": [
      "Joining, by = \"region\"\n",
      "\n",
      "`summarise()` regrouping output by 'Proj_Name' (override with `.groups` argument)\n",
      "\n"
     ]
    },
    {
     "data": {
      "text/html": [
       "<table>\n",
       "<caption>A grouped_df: 9 × 3</caption>\n",
       "<thead>\n",
       "\t<tr><th scope=col>Proj_Name</th><th scope=col>n_ovl_cs</th><th scope=col>n()</th></tr>\n",
       "\t<tr><th scope=col>&lt;chr&gt;</th><th scope=col>&lt;dbl&gt;</th><th scope=col>&lt;int&gt;</th></tr>\n",
       "</thead>\n",
       "<tbody>\n",
       "\t<tr><td>Alz_AC_SNP   </td><td>0</td><td> 7</td></tr>\n",
       "\t<tr><td>Alz_AC_SNP   </td><td>1</td><td>32</td></tr>\n",
       "\t<tr><td>Alz_AC_SNP   </td><td>2</td><td> 1</td></tr>\n",
       "\t<tr><td>Alz_DLPFC_SNP</td><td>0</td><td> 7</td></tr>\n",
       "\t<tr><td>Alz_DLPFC_SNP</td><td>1</td><td>32</td></tr>\n",
       "\t<tr><td>Alz_DLPFC_SNP</td><td>2</td><td> 1</td></tr>\n",
       "\t<tr><td>Alz_PCC_SNP  </td><td>0</td><td> 6</td></tr>\n",
       "\t<tr><td>Alz_PCC_SNP  </td><td>1</td><td>31</td></tr>\n",
       "\t<tr><td>Alz_PCC_SNP  </td><td>2</td><td> 1</td></tr>\n",
       "</tbody>\n",
       "</table>\n"
      ],
      "text/latex": [
       "A grouped\\_df: 9 × 3\n",
       "\\begin{tabular}{lll}\n",
       " Proj\\_Name & n\\_ovl\\_cs & n()\\\\\n",
       " <chr> & <dbl> & <int>\\\\\n",
       "\\hline\n",
       "\t Alz\\_AC\\_SNP    & 0 &  7\\\\\n",
       "\t Alz\\_AC\\_SNP    & 1 & 32\\\\\n",
       "\t Alz\\_AC\\_SNP    & 2 &  1\\\\\n",
       "\t Alz\\_DLPFC\\_SNP & 0 &  7\\\\\n",
       "\t Alz\\_DLPFC\\_SNP & 1 & 32\\\\\n",
       "\t Alz\\_DLPFC\\_SNP & 2 &  1\\\\\n",
       "\t Alz\\_PCC\\_SNP   & 0 &  6\\\\\n",
       "\t Alz\\_PCC\\_SNP   & 1 & 31\\\\\n",
       "\t Alz\\_PCC\\_SNP   & 2 &  1\\\\\n",
       "\\end{tabular}\n"
      ],
      "text/markdown": [
       "\n",
       "A grouped_df: 9 × 3\n",
       "\n",
       "| Proj_Name &lt;chr&gt; | n_ovl_cs &lt;dbl&gt; | n() &lt;int&gt; |\n",
       "|---|---|---|\n",
       "| Alz_AC_SNP    | 0 |  7 |\n",
       "| Alz_AC_SNP    | 1 | 32 |\n",
       "| Alz_AC_SNP    | 2 |  1 |\n",
       "| Alz_DLPFC_SNP | 0 |  7 |\n",
       "| Alz_DLPFC_SNP | 1 | 32 |\n",
       "| Alz_DLPFC_SNP | 2 |  1 |\n",
       "| Alz_PCC_SNP   | 0 |  6 |\n",
       "| Alz_PCC_SNP   | 1 | 31 |\n",
       "| Alz_PCC_SNP   | 2 |  1 |\n",
       "\n"
      ],
      "text/plain": [
       "  Proj_Name     n_ovl_cs n()\n",
       "1 Alz_AC_SNP    0         7 \n",
       "2 Alz_AC_SNP    1        32 \n",
       "3 Alz_AC_SNP    2         1 \n",
       "4 Alz_DLPFC_SNP 0         7 \n",
       "5 Alz_DLPFC_SNP 1        32 \n",
       "6 Alz_DLPFC_SNP 2         1 \n",
       "7 Alz_PCC_SNP   0         6 \n",
       "8 Alz_PCC_SNP   1        31 \n",
       "9 Alz_PCC_SNP   2         1 "
      ]
     },
     "metadata": {},
     "output_type": "display_data"
    },
    {
     "name": "stderr",
     "output_type": "stream",
     "text": [
      "`summarise()` regrouping output by 'Proj_Name' (override with `.groups` argument)\n",
      "\n"
     ]
    },
    {
     "data": {
      "text/html": [
       "<table>\n",
       "<caption>A grouped_df: 13 × 3</caption>\n",
       "<thead>\n",
       "\t<tr><th scope=col>Proj_Name</th><th scope=col>CS_size</th><th scope=col>n()</th></tr>\n",
       "\t<tr><th scope=col>&lt;chr&gt;</th><th scope=col>&lt;dbl&gt;</th><th scope=col>&lt;int&gt;</th></tr>\n",
       "</thead>\n",
       "<tbody>\n",
       "\t<tr><td>Alz_AC_SNP   </td><td>1</td><td>31</td></tr>\n",
       "\t<tr><td>Alz_AC_SNP   </td><td>2</td><td> 6</td></tr>\n",
       "\t<tr><td>Alz_AC_SNP   </td><td>4</td><td> 2</td></tr>\n",
       "\t<tr><td>Alz_AC_SNP   </td><td>5</td><td> 1</td></tr>\n",
       "\t<tr><td>Alz_DLPFC_SNP</td><td>1</td><td>29</td></tr>\n",
       "\t<tr><td>Alz_DLPFC_SNP</td><td>2</td><td> 7</td></tr>\n",
       "\t<tr><td>Alz_DLPFC_SNP</td><td>3</td><td> 2</td></tr>\n",
       "\t<tr><td>Alz_DLPFC_SNP</td><td>4</td><td> 1</td></tr>\n",
       "\t<tr><td>Alz_DLPFC_SNP</td><td>7</td><td> 1</td></tr>\n",
       "\t<tr><td>Alz_PCC_SNP  </td><td>1</td><td>33</td></tr>\n",
       "\t<tr><td>Alz_PCC_SNP  </td><td>2</td><td> 3</td></tr>\n",
       "\t<tr><td>Alz_PCC_SNP  </td><td>3</td><td> 1</td></tr>\n",
       "\t<tr><td>Alz_PCC_SNP  </td><td>5</td><td> 1</td></tr>\n",
       "</tbody>\n",
       "</table>\n"
      ],
      "text/latex": [
       "A grouped\\_df: 13 × 3\n",
       "\\begin{tabular}{lll}\n",
       " Proj\\_Name & CS\\_size & n()\\\\\n",
       " <chr> & <dbl> & <int>\\\\\n",
       "\\hline\n",
       "\t Alz\\_AC\\_SNP    & 1 & 31\\\\\n",
       "\t Alz\\_AC\\_SNP    & 2 &  6\\\\\n",
       "\t Alz\\_AC\\_SNP    & 4 &  2\\\\\n",
       "\t Alz\\_AC\\_SNP    & 5 &  1\\\\\n",
       "\t Alz\\_DLPFC\\_SNP & 1 & 29\\\\\n",
       "\t Alz\\_DLPFC\\_SNP & 2 &  7\\\\\n",
       "\t Alz\\_DLPFC\\_SNP & 3 &  2\\\\\n",
       "\t Alz\\_DLPFC\\_SNP & 4 &  1\\\\\n",
       "\t Alz\\_DLPFC\\_SNP & 7 &  1\\\\\n",
       "\t Alz\\_PCC\\_SNP   & 1 & 33\\\\\n",
       "\t Alz\\_PCC\\_SNP   & 2 &  3\\\\\n",
       "\t Alz\\_PCC\\_SNP   & 3 &  1\\\\\n",
       "\t Alz\\_PCC\\_SNP   & 5 &  1\\\\\n",
       "\\end{tabular}\n"
      ],
      "text/markdown": [
       "\n",
       "A grouped_df: 13 × 3\n",
       "\n",
       "| Proj_Name &lt;chr&gt; | CS_size &lt;dbl&gt; | n() &lt;int&gt; |\n",
       "|---|---|---|\n",
       "| Alz_AC_SNP    | 1 | 31 |\n",
       "| Alz_AC_SNP    | 2 |  6 |\n",
       "| Alz_AC_SNP    | 4 |  2 |\n",
       "| Alz_AC_SNP    | 5 |  1 |\n",
       "| Alz_DLPFC_SNP | 1 | 29 |\n",
       "| Alz_DLPFC_SNP | 2 |  7 |\n",
       "| Alz_DLPFC_SNP | 3 |  2 |\n",
       "| Alz_DLPFC_SNP | 4 |  1 |\n",
       "| Alz_DLPFC_SNP | 7 |  1 |\n",
       "| Alz_PCC_SNP   | 1 | 33 |\n",
       "| Alz_PCC_SNP   | 2 |  3 |\n",
       "| Alz_PCC_SNP   | 3 |  1 |\n",
       "| Alz_PCC_SNP   | 5 |  1 |\n",
       "\n"
      ],
      "text/plain": [
       "   Proj_Name     CS_size n()\n",
       "1  Alz_AC_SNP    1       31 \n",
       "2  Alz_AC_SNP    2        6 \n",
       "3  Alz_AC_SNP    4        2 \n",
       "4  Alz_AC_SNP    5        1 \n",
       "5  Alz_DLPFC_SNP 1       29 \n",
       "6  Alz_DLPFC_SNP 2        7 \n",
       "7  Alz_DLPFC_SNP 3        2 \n",
       "8  Alz_DLPFC_SNP 4        1 \n",
       "9  Alz_DLPFC_SNP 7        1 \n",
       "10 Alz_PCC_SNP   1       33 \n",
       "11 Alz_PCC_SNP   2        3 \n",
       "12 Alz_PCC_SNP   3        1 \n",
       "13 Alz_PCC_SNP   5        1 "
      ]
     },
     "metadata": {},
     "output_type": "display_data"
    }
   ],
   "source": [
    "anchor = function(list,number){\n",
    "  l = integer()\n",
    "  for (i in list ){\n",
    "    l = c(l, (sum(i%>%unlist() %in% number)>0))\n",
    "  }\n",
    "  return(list[l])\n",
    "}\n",
    "\n",
    "Venn_tbl_SNP = Venn_tbl%>%select(region,overlap)\n",
    "Working = inner_join(working,Venn_tbl_SNP)\n",
    "Working = Working%>%mutate(ovl_pos = map2(.x = env,.y = overlap,~which(.x$fitted1$mu%>%colnames() %in% .y) ))\n",
    "cs_overl = Working%>%mutate(ovl_cs = map2(cs,ovl_pos,~anchor(.x,.y)),\n",
    "                 n_ovl_cs = map_dbl(ovl_cs, ~length(.x)),\n",
    "                p_ovl_cs  = n_ovl_cs/CS_size)\n",
    "cs_overl%>%group_by(Proj_Name,n_ovl_cs)%>%summarise(n())\n",
    "cs_overl%>%group_by(Proj_Name,CS_size)%>%summarise(n())"
   ]
  },
  {
   "cell_type": "code",
   "execution_count": 27,
   "metadata": {
    "kernel": "R"
   },
   "outputs": [
    {
     "data": {
      "text/html": [
       "'ENSG00000196126'"
      ],
      "text/latex": [
       "'ENSG00000196126'"
      ],
      "text/markdown": [
       "'ENSG00000196126'"
      ],
      "text/plain": [
       "[1] \"ENSG00000196126\""
      ]
     },
     "metadata": {},
     "output_type": "display_data"
    }
   ],
   "source": [
    "(cs_overl%>%filter(n_ovl_cs == 2)%>%pull(region))[1]"
   ]
  },
  {
   "cell_type": "code",
   "execution_count": 35,
   "metadata": {
    "kernel": "R"
   },
   "outputs": [
    {
     "data": {
      "text/html": [
       "<table>\n",
       "<caption>A tibble: 1 × 11</caption>\n",
       "<thead>\n",
       "\t<tr><th scope=col>ID</th><th scope=col>gene</th><th scope=col>chr</th><th scope=col>logTWAS.P_Alz_DLPFC_SNP</th><th scope=col>logTWAS.P_Alz_PCC_SNP</th><th scope=col>logTWAS.P_Alz_AC_SNP</th><th scope=col>hsq_susie_cs_Alz_AC_SNP</th><th scope=col>hsq_susie_cs_Alz_DLPFC_SNP</th><th scope=col>hsq_susie_cs_Alz_PCC_SNP</th><th scope=col>perc_overlap</th><th scope=col>Three_tissues</th></tr>\n",
       "\t<tr><th scope=col>&lt;chr&gt;</th><th scope=col>&lt;chr&gt;</th><th scope=col>&lt;dbl&gt;</th><th scope=col>&lt;dbl&gt;</th><th scope=col>&lt;dbl&gt;</th><th scope=col>&lt;dbl&gt;</th><th scope=col>&lt;dbl&gt;</th><th scope=col>&lt;dbl&gt;</th><th scope=col>&lt;dbl&gt;</th><th scope=col>&lt;dbl&gt;</th><th scope=col>&lt;lgl&gt;</th></tr>\n",
       "</thead>\n",
       "<tbody>\n",
       "\t<tr><td>ENSG00000196126</td><td>HLA-DRB1</td><td>6</td><td>3.277366</td><td>4.806875</td><td>2.732828</td><td>0.5356601</td><td>0.5554409</td><td>0.5969172</td><td>0.4434783</td><td>TRUE</td></tr>\n",
       "</tbody>\n",
       "</table>\n"
      ],
      "text/latex": [
       "A tibble: 1 × 11\n",
       "\\begin{tabular}{lllllllllll}\n",
       " ID & gene & chr & logTWAS.P\\_Alz\\_DLPFC\\_SNP & logTWAS.P\\_Alz\\_PCC\\_SNP & logTWAS.P\\_Alz\\_AC\\_SNP & hsq\\_susie\\_cs\\_Alz\\_AC\\_SNP & hsq\\_susie\\_cs\\_Alz\\_DLPFC\\_SNP & hsq\\_susie\\_cs\\_Alz\\_PCC\\_SNP & perc\\_overlap & Three\\_tissues\\\\\n",
       " <chr> & <chr> & <dbl> & <dbl> & <dbl> & <dbl> & <dbl> & <dbl> & <dbl> & <dbl> & <lgl>\\\\\n",
       "\\hline\n",
       "\t ENSG00000196126 & HLA-DRB1 & 6 & 3.277366 & 4.806875 & 2.732828 & 0.5356601 & 0.5554409 & 0.5969172 & 0.4434783 & TRUE\\\\\n",
       "\\end{tabular}\n"
      ],
      "text/markdown": [
       "\n",
       "A tibble: 1 × 11\n",
       "\n",
       "| ID &lt;chr&gt; | gene &lt;chr&gt; | chr &lt;dbl&gt; | logTWAS.P_Alz_DLPFC_SNP &lt;dbl&gt; | logTWAS.P_Alz_PCC_SNP &lt;dbl&gt; | logTWAS.P_Alz_AC_SNP &lt;dbl&gt; | hsq_susie_cs_Alz_AC_SNP &lt;dbl&gt; | hsq_susie_cs_Alz_DLPFC_SNP &lt;dbl&gt; | hsq_susie_cs_Alz_PCC_SNP &lt;dbl&gt; | perc_overlap &lt;dbl&gt; | Three_tissues &lt;lgl&gt; |\n",
       "|---|---|---|---|---|---|---|---|---|---|---|\n",
       "| ENSG00000196126 | HLA-DRB1 | 6 | 3.277366 | 4.806875 | 2.732828 | 0.5356601 | 0.5554409 | 0.5969172 | 0.4434783 | TRUE |\n",
       "\n"
      ],
      "text/plain": [
       "  ID              gene     chr logTWAS.P_Alz_DLPFC_SNP logTWAS.P_Alz_PCC_SNP\n",
       "1 ENSG00000196126 HLA-DRB1 6   3.277366                4.806875             \n",
       "  logTWAS.P_Alz_AC_SNP hsq_susie_cs_Alz_AC_SNP hsq_susie_cs_Alz_DLPFC_SNP\n",
       "1 2.732828             0.5356601               0.5554409                 \n",
       "  hsq_susie_cs_Alz_PCC_SNP perc_overlap Three_tissues\n",
       "1 0.5969172                0.4434783    TRUE         "
      ]
     },
     "metadata": {},
     "output_type": "display_data"
    },
    {
     "data": {
      "text/html": [
       "<style>\n",
       ".list-inline {list-style: none; margin:0; padding: 0}\n",
       ".list-inline>li {display: inline-block}\n",
       ".list-inline>li:not(:last-child)::after {content: \"\\00b7\"; padding: 0 .5ex}\n",
       "</style>\n",
       "<ol class=list-inline><li>'ID'</li><li>'gene'</li><li>'chr'</li><li>'logTWAS.P_Alz_DLPFC_SNP'</li><li>'logTWAS.P_Alz_PCC_SNP'</li><li>'logTWAS.P_Alz_AC_SNP'</li><li>'hsq_susie_cs_Alz_AC_SNP'</li><li>'hsq_susie_cs_Alz_DLPFC_SNP'</li><li>'hsq_susie_cs_Alz_PCC_SNP'</li><li>'cs_po_cs_Alz_AC_SNP'</li><li>'cs_po_cs_Alz_DLPFC_SNP'</li><li>'cs_po_cs_Alz_PCC_SNP'</li><li>'cs_name_cs_Alz_AC_SNP'</li><li>'cs_name_cs_Alz_DLPFC_SNP'</li><li>'cs_name_cs_Alz_PCC_SNP'</li><li>'overl_c'</li><li>'perc_overlap'</li><li>'Three_tissues'</li></ol>\n"
      ],
      "text/latex": [
       "\\begin{enumerate*}\n",
       "\\item 'ID'\n",
       "\\item 'gene'\n",
       "\\item 'chr'\n",
       "\\item 'logTWAS.P\\_Alz\\_DLPFC\\_SNP'\n",
       "\\item 'logTWAS.P\\_Alz\\_PCC\\_SNP'\n",
       "\\item 'logTWAS.P\\_Alz\\_AC\\_SNP'\n",
       "\\item 'hsq\\_susie\\_cs\\_Alz\\_AC\\_SNP'\n",
       "\\item 'hsq\\_susie\\_cs\\_Alz\\_DLPFC\\_SNP'\n",
       "\\item 'hsq\\_susie\\_cs\\_Alz\\_PCC\\_SNP'\n",
       "\\item 'cs\\_po\\_cs\\_Alz\\_AC\\_SNP'\n",
       "\\item 'cs\\_po\\_cs\\_Alz\\_DLPFC\\_SNP'\n",
       "\\item 'cs\\_po\\_cs\\_Alz\\_PCC\\_SNP'\n",
       "\\item 'cs\\_name\\_cs\\_Alz\\_AC\\_SNP'\n",
       "\\item 'cs\\_name\\_cs\\_Alz\\_DLPFC\\_SNP'\n",
       "\\item 'cs\\_name\\_cs\\_Alz\\_PCC\\_SNP'\n",
       "\\item 'overl\\_c'\n",
       "\\item 'perc\\_overlap'\n",
       "\\item 'Three\\_tissues'\n",
       "\\end{enumerate*}\n"
      ],
      "text/markdown": [
       "1. 'ID'\n",
       "2. 'gene'\n",
       "3. 'chr'\n",
       "4. 'logTWAS.P_Alz_DLPFC_SNP'\n",
       "5. 'logTWAS.P_Alz_PCC_SNP'\n",
       "6. 'logTWAS.P_Alz_AC_SNP'\n",
       "7. 'hsq_susie_cs_Alz_AC_SNP'\n",
       "8. 'hsq_susie_cs_Alz_DLPFC_SNP'\n",
       "9. 'hsq_susie_cs_Alz_PCC_SNP'\n",
       "10. 'cs_po_cs_Alz_AC_SNP'\n",
       "11. 'cs_po_cs_Alz_DLPFC_SNP'\n",
       "12. 'cs_po_cs_Alz_PCC_SNP'\n",
       "13. 'cs_name_cs_Alz_AC_SNP'\n",
       "14. 'cs_name_cs_Alz_DLPFC_SNP'\n",
       "15. 'cs_name_cs_Alz_PCC_SNP'\n",
       "16. 'overl_c'\n",
       "17. 'perc_overlap'\n",
       "18. 'Three_tissues'\n",
       "\n",
       "\n"
      ],
      "text/plain": [
       " [1] \"ID\"                         \"gene\"                      \n",
       " [3] \"chr\"                        \"logTWAS.P_Alz_DLPFC_SNP\"   \n",
       " [5] \"logTWAS.P_Alz_PCC_SNP\"      \"logTWAS.P_Alz_AC_SNP\"      \n",
       " [7] \"hsq_susie_cs_Alz_AC_SNP\"    \"hsq_susie_cs_Alz_DLPFC_SNP\"\n",
       " [9] \"hsq_susie_cs_Alz_PCC_SNP\"   \"cs_po_cs_Alz_AC_SNP\"       \n",
       "[11] \"cs_po_cs_Alz_DLPFC_SNP\"     \"cs_po_cs_Alz_PCC_SNP\"      \n",
       "[13] \"cs_name_cs_Alz_AC_SNP\"      \"cs_name_cs_Alz_DLPFC_SNP\"  \n",
       "[15] \"cs_name_cs_Alz_PCC_SNP\"     \"overl_c\"                   \n",
       "[17] \"perc_overlap\"               \"Three_tissues\"             "
      ]
     },
     "metadata": {},
     "output_type": "display_data"
    }
   ],
   "source": [
    "result%>%filter(ID == \"ENSG00000196126\")%>%select(ID:hsq_susie_cs_Alz_PCC_SNP,'perc_overlap','Three_tissues')\n",
    "colnames(result)"
   ]
  },
  {
   "cell_type": "markdown",
   "metadata": {
    "kernel": "R"
   },
   "source": [
    "## MV Susie\n"
   ]
  },
  {
   "cell_type": "code",
   "execution_count": null,
   "metadata": {
    "kernel": "R"
   },
   "outputs": [],
   "source": []
  },
  {
   "cell_type": "code",
   "execution_count": null,
   "metadata": {
    "kernel": "R"
   },
   "outputs": [],
   "source": []
  },
  {
   "cell_type": "markdown",
   "metadata": {
    "kernel": "R"
   },
   "source": [
    "## Association testing result\n",
    "The association with the TWAS was produced using the following code.For the DLPFC, there are 22 skipped genes out of the 30 genes. Making a total of 8 genes with TWAS Z score.\n",
    "\n",
    "For the PCC, there are 5 skipped gene out of six genes.\n",
    "\n",
    "The error produced for the skipped genes is along the line of\n",
    ">had 42 / 78 non-overlapping GWAS Z-scores, skipping this gene.\n",
    "\n",
    "which stand for the fraction of snp in the WGS but not have a sums stat is larger than the  maximum fraction of SNPs allowed to be missing per gene (will be imputed using LD).\n",
    "\n",
    "\n",
    "TODO：more in depth analysis, including both the strategy for future analysis.\n"
   ]
  },
  {
   "cell_type": "code",
   "execution_count": 1,
   "metadata": {
    "kernel": "R"
   },
   "outputs": [
    {
     "ename": "NameError",
     "evalue": "name 'tibble' is not defined",
     "output_type": "error",
     "traceback": [
      "\u001b[0;31m---------------------------------------------------------------------------\u001b[0m",
      "\u001b[0;31mNameError\u001b[0m                                 Traceback (most recent call last)",
      "\u001b[0;32m<ipython-input-1-ac6b6b66b5d5>\u001b[0m in \u001b[0;36m<module>\u001b[0;34m\u001b[0m\n\u001b[0;32m----> 1\u001b[0;31m \u001b[0ma\u001b[0m \u001b[0;34m=\u001b[0m \u001b[0mtibble\u001b[0m\u001b[0;34m(\u001b[0m\u001b[0ma\u001b[0m \u001b[0;34m=\u001b[0m \u001b[0;36m1\u001b[0m \u001b[0;34m,\u001b[0m \u001b[0mb\u001b[0m \u001b[0;34m=\u001b[0m \u001b[0;36m2\u001b[0m\u001b[0;34m)\u001b[0m\u001b[0;34m\u001b[0m\u001b[0;34m\u001b[0m\u001b[0m\n\u001b[0m\u001b[1;32m      2\u001b[0m \u001b[0mread_delim\u001b[0m\u001b[0;34m(\u001b[0m\u001b[0;34m\"/Users/haosun/Documents/WG_Reasearch_Assisstant/Fusion/Project/Alz/DLPFC/all_hsq.txt\"\u001b[0m\u001b[0;34m)\u001b[0m\u001b[0;34m\u001b[0m\u001b[0;34m\u001b[0m\u001b[0m\n\u001b[1;32m      3\u001b[0m \u001b[0;34m\u001b[0m\u001b[0m\n",
      "\u001b[0;31mNameError\u001b[0m: name 'tibble' is not defined"
     ]
    }
   ],
   "source": [
    "a = tibble(a = 1 , b = 2)\n",
    "read_delim(\"/Users/haosun/Documents/WG_Reasearch_Assisstant/Fusion/Project/Alz/DLPFC/all_hsq.txt\")\n",
    "\n"
   ]
  },
  {
   "cell_type": "code",
   "execution_count": null,
   "metadata": {
    "kernel": "R"
   },
   "outputs": [],
   "source": []
  },
  {
   "cell_type": "code",
   "execution_count": null,
   "metadata": {
    "kernel": "R"
   },
   "outputs": [],
   "source": []
  },
  {
   "cell_type": "code",
   "execution_count": null,
   "metadata": {
    "kernel": "R"
   },
   "outputs": [],
   "source": [
    "# Supplementary\n",
    "This section contains analysis that may provide insights.\n",
    "\n"
   ]
  },
  {
   "cell_type": "code",
   "execution_count": null,
   "metadata": {
    "kernel": "R"
   },
   "outputs": [],
   "source": []
  },
  {
   "cell_type": "code",
   "execution_count": null,
   "metadata": {
    "kernel": "R"
   },
   "outputs": [],
   "source": [
    "# To see what happened in the window of 500000\n",
    "nohup sos run ~/GIT/neuro-twas/Workflow/twas_fusion.ipynb compute_wgt  \\\n",
    "  --gwas_sumstat /home/hs3163/Project/Alz/data/AD_sumstats_Jansenetal_2019sept.txt \\\n",
    "  --molecular-pheno  /home/hs3163/Project/Rosmap/data/gene_exp/DLPFC/geneTpmResidualsAgeGenderAdj_rename.txt  \\\n",
    "  --wd /home/hs3163/Project/Alz_5E6/ \\\n",
    "  --genotype_list /home/hs3163/Project/Rosmap/data/Rosmap_wgs_genotype_list.txt \\\n",
    "  --region_list /home/hs3163/Project/Alz/data/RSM_Alz_region_list.txt \\\n",
    "  --region_name 1 \\\n",
    "  --data_start 2 \\\n",
    "  --output_path /home/hs3163/Project/Alz \\\n",
    "  --window 500000 \\\n",
    "  --container /mnt/mfs/statgen/containers/twas_latest.sif \\\n",
    "  --model bslmm blup lasso top1 enet \\\n",
    "  --job_size 1\\\n",
    "  --asso_mem \"60G\" \\\n",
    "  -J 10 -q csg -c /mnt/mfs/statgen/pbs_template/csg.yml -s build &"
   ]
  },
  {
   "cell_type": "code",
   "execution_count": null,
   "metadata": {
    "kernel": "R"
   },
   "outputs": [],
   "source": [
    "# To see what happened in the hsq cut off of 0.05\n",
    "nohup sos run ~/GIT/neuro-twas/Workflow/twas_fusion.ipynb compute_wgt  \\\n",
    "  --gwas_sumstat /home/hs3163/Project/Alz/data/AD_sumstats_Jansenetal_2019sept.txt \\\n",
    "  --molecular-pheno  /home/hs3163/Project/Rosmap/data/gene_exp/DLPFC/geneTpmResidualsAgeGenderAdj_rename.txt  \\\n",
    "  --wd /home/hs3163/Project/Alz_005_correct \\\n",
    "  --genotype_list /home/hs3163/Project/Rosmap/data/Rosmap_wgs_genotype_list.txt \\\n",
    "  --region_list /home/hs3163/Project/Alz/data/RSM_Alz_region_list.txt \\\n",
    "  --region_name 1 \\\n",
    "  --data_start 2 \\\n",
    "  --output_path /home/hs3163/Project/Alz \\\n",
    "  --window 10000 \\\n",
    "  --container /mnt/mfs/statgen/containers/twas_latest.sif \\\n",
    "  --model bslmm blup lasso top1 enet \\\n",
    "  --asso_mem \"60G\" \\\n",
    "  --job_size 1\\\n",
    "  --hsq_p 0.05 \\\n",
    "  -J 10 -q csg -c /mnt/mfs/statgen/pbs_template/csg.yml -s build &"
   ]
  },
  {
   "cell_type": "markdown",
   "metadata": {
    "kernel": "R"
   },
   "source": [
    "nohup sos run ~/GIT/neuro-twas/Workflow/twas_fusion.ipynb association_test  \\\n",
    "  --gwas_sumstat /home/hs3163/Project/Alz/data/AD_sumstats_Jansenetal_2019sept.txt \\\n",
    "  --molecular-pheno  /home/hs3163/Project/Rosmap/data/gene_exp/DLPFC/geneTpmResidualsAgeGenderAdj_rename.txt  \\\n",
    "  --wd /home/hs3163/Project/Alz \\\n",
    "  --genotype_list /home/hs3163/fake_Rosmap_wgs_genotype_list.txt \\\n",
    "  --region_list /home/hs3163/Project/Alz/data/Alz_passed_gene_region_list.txt \\\n",
    "  --region_name 1 \\\n",
    "  --data_start 2 \\\n",
    "  --output_path /home/hs3163/Project/Alz \\\n",
    "  --window 500000 \\\n",
    "  --container /home/hs3163/system_file/twas_latest.sif \\\n",
    "  --model bslmm blup lasso top1 enet \\\n",
    "  --asso_mem \"60G\" \\\n",
    "  --job_size 1\\\n",
    "  --weights_list /home/hs3163/fake_weight_list.txt \\\n",
    "  -J 6 -q csg -c ~/GIT/neuro-twas/template/csg.yml -s build &"
   ]
  },
  {
   "cell_type": "code",
   "execution_count": null,
   "metadata": {
    "kernel": "R"
   },
   "outputs": [],
   "source": []
  },
  {
   "cell_type": "code",
   "execution_count": null,
   "metadata": {
    "kernel": "R"
   },
   "outputs": [],
   "source": []
  },
  {
   "cell_type": "code",
   "execution_count": null,
   "metadata": {
    "kernel": "R"
   },
   "outputs": [],
   "source": [
    "library(dplyr)\n",
    "library(plink2R)\n",
    "\n",
    "\n",
    "wgt_list = read.table(\"/Users/haosun/Documents/WG_Reasearch_Assisstant/Remote_Proj/Alz/Alz_PCC_SNP/WEIGHTS/geneTpmResidualsAgeGenderAdj_rename.weights_list.txt\",header = T)\n",
    "wgt_list$WGT\n",
    "chr = unique(wgt_list$CHR)\n",
    "N = nrow(wgt_list)\n",
    "\n",
    "\n",
    "wgt.file = paste(wgt_list$WGT[wgt_list$CHR == 7])\n",
    "wgt.file =\"/Users/haosun/Documents/WG_Reasearch_Assisstant/Remote_Proj/Alz/Alz_PCC_SNP/WEIGHTS/geneTpmResidualsAgeGenderAdj_rename.ENSG00000085514.wgt.RDat\"\n",
    "wgt_info = attach(wgt.file)\n",
    "\n",
    "wgt_info$wgt.matrix[,]\n",
    "wgt_info$wgt.matrix[,wgt_info$mod.best\n",
    "\n",
    "row.pval = grep( \"pval\" , rownames(wgt_info$cv.performance) )\n",
    "mod.best = which.min(apply(wgt_info$cv.performance[row.pval,,drop=F],2,min,na.rm=T))\n",
    "cur.twasr2pred = wgt.matrix[,mod.best] %*% cur.LD %*% wgt.matrix[,mod.best]\n",
    "\n",
    "\n",
    "\n",
    "wgt_info$wgt.matrix[,mod.best]\n",
    "\n",
    "\n",
    "genos = read_plink(\"\",impute=\"avg\")\n",
    "?read_plink\n",
    "cur.LD = t(cur.genos) %*% cur.genos / (nrow(cur.genos)-1)\n",
    "\n",
    "\n",
    "wgt_info\n"
   ]
  },
  {
   "cell_type": "code",
   "execution_count": null,
   "metadata": {
    "kernel": "R"
   },
   "outputs": [],
   "source": [
    "## MV Susie\n",
    "nohup sos run ~/GIT/neuro-twas/Workflow/mv_susie.ipynb mv_susie  \\\n",
    "  --molecular_pheno_dir \"/home/hs3163/Project/Alz/multi/molecular_phenotype_list\" \\\n",
    "  --region_list \"/home/hs3163/Project/Alz/multi/mv_susie_gene_list.txt\" \\\n",
    "  --wd \"/home/hs3163/Project/Alz/multi\" \\\n",
    "  --name_prefix \"geneTpmResidualsAgeGenderAdj_rename\" \\\n",
    "  --container /mnt/mfs/statgen/containers/twas_latest.sif \\\n",
    "  --job_size 1\\\n",
    "  -J 6 -q csg -c /mnt/mfs/statgen/pbs_template/csg.yml &\n",
    "\n",
    "sos dryrun ~/GIT/neuro-twas/Workflow/mv_susie.ipynb mv_susie  \\\n",
    "  --molecular_pheno_dir \"/home/hs3163/Project/Alz/multi/molecular_phenotype_list\" \\\n",
    "  --region_list \"/home/hs3163/Project/Alz/multi/mv_susie_gene_list.txt\" \\\n",
    "  --wd \"/home/hs3163/Project/Alz/multi\" \\\n",
    "  --name_prefix \"geneTpmResidualsAgeGenderAdj_rename\" \\\n",
    "  --container /mnt/mfs/statgen/containers/twas_latest.sif \\\n",
    "  --job_size 1\n"
   ]
  },
  {
   "cell_type": "code",
   "execution_count": null,
   "metadata": {
    "kernel": "R"
   },
   "outputs": [],
   "source": []
  },
  {
   "cell_type": "markdown",
   "metadata": {
    "kernel": "R"
   },
   "source": [
    "# Citation\n",
    "    1.Jansen IE, Savage JE, Watanabe K, Bryois J, Williams DM, Steinberg S, Sealock J, Karlsson IK, Hägg S, Athanasiu L, Voyle N, Proitsi P, Witoelar A, Stringer S, Aarsland D, Almdahl IS, Andersen F, Bergh S, Bettella F, Bjornsson S, Brækhus A, Bråthen G, de Leeuw C, Desikan RS, Djurovic S, Dumitrescu L, Fladby T, Hohman TJ, Jonsson PV, Kiddle SJ, Rongve A, Saltvedt I, Sando SB, Selbæk G, Shoai M, Skene NG, Snaedal J, Stordal E, Ulstein ID, Wang Y, White LR, Hardy J, Hjerling-Leffler J, Sullivan PF, van der Flier WM, Dobson R, Davis LK, Stefansson H, Stefansson K, Pedersen NL, Ripke S, Andreassen OA, Posthuma D. Genome-wide meta-analysis identifies new loci and functional pathways influencing Alzheimer’s disease risk  Nature Genetics, 2019 Mar;51(3):404-413. doi: 10.1038/s41588-018-0311-9"
   ]
  },
  {
   "cell_type": "code",
   "execution_count": null,
   "metadata": {
    "kernel": "R"
   },
   "outputs": [],
   "source": []
  },
  {
   "cell_type": "code",
   "execution_count": null,
   "metadata": {
    "kernel": "R"
   },
   "outputs": [],
   "source": []
  },
  {
   "cell_type": "code",
   "execution_count": null,
   "metadata": {
    "kernel": "R"
   },
   "outputs": [],
   "source": [
    "\n"
   ]
  },
  {
   "cell_type": "code",
   "execution_count": 1,
   "metadata": {
    "kernel": "R"
   },
   "outputs": [
    {
     "name": "stderr",
     "output_type": "stream",
     "text": [
      "Loading required package: Rcpp\n",
      "\n",
      "Loading required package: RcppEigen\n",
      "\n"
     ]
    }
   ],
   "source": []
  }
 ],
 "metadata": {
  "kernelspec": {
   "display_name": "R",
   "language": "R",
   "name": "ir"
  },
  "language_info": {
   "codemirror_mode": "r",
   "file_extension": ".r",
   "mimetype": "text/x-r-source",
   "name": "R",
   "pygments_lexer": "r",
   "version": "4.0.1"
  },
  "sos": {
   "kernels": [
    [
     "Bash",
     "calysto_bash",
     "Bash",
     "#E6EEFF",
     ""
    ],
    [
     "R",
     "ir",
     "R",
     "#DCDCDA",
     "r"
    ],
    [
     "SoS",
     "sos",
     "",
     "",
     "sos"
    ]
   ],
   "version": "0.20.1"
  },
  "toc-autonumbering": true,
  "toc-showcode": false,
  "toc-showmarkdowntxt": false,
  "toc-showtags": false
 },
 "nbformat": 4,
 "nbformat_minor": 4
}
