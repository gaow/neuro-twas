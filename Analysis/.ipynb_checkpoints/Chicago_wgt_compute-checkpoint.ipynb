{
 "cells": [
  {
   "cell_type": "markdown",
   "metadata": {
    "kernel": "SoS"
   },
   "source": [
    "# Chicago Data TWAS\n",
    "## Motivation\n",
    "Before actual analysis of our own data, the pipeline shall first be used to try to reproduce the work that are done previously. So that the result can be compared.\n",
    "\n",
    "## Data set\n",
    "The data set is the gene expresion data from African population got from chicago university. It contains the expression profile of 50 genes from 89 individuals. The gene expression is processed by STAR and recorded as RPKM. "
   ]
  },
  {
   "cell_type": "markdown",
   "metadata": {
    "kernel": "SoS"
   },
   "source": [
    "## Tools\n",
    "The tools used in this analysis is the \"SOS_weight_cpt_template\" pipeline, with the options outlined as followed. Developed on the fusion foundation, this pipeline takes in gene expression data ans SNP to compute the weight for the follow ups Correlation analysis. association testing are then conducted by the standard Fusion scripts"
   ]
  },
  {
   "cell_type": "code",
   "execution_count": 3,
   "metadata": {
    "kernel": "Bash"
   },
   "outputs": [
    {
     "name": "stdout",
     "output_type": "stream",
     "text": [
      "No help information is available for script run: Failed to locate SOS_weight_cpt_template.ipynb.sos\n",
      "\n"
     ]
    }
   ],
   "source": [
    "sos run SOS_weight_cpt_template.ipynb -h"
   ]
  },
  {
   "cell_type": "code",
   "execution_count": 13,
   "metadata": {
    "kernel": "Bash"
   },
   "outputs": [
    {
     "name": "stderr",
     "output_type": "stream",
     "text": [
      "Keyboard Interrupt\n"
     ]
    }
   ],
   "source": [
    "## Test pipeline with test data\n",
    "sos_pipeline=\"../Workflow/SOS_weight_cpt_template.ipynb\"\n",
    "\n",
    "sos run ../Workflow/SOS_weight_cpt_template.ipynb \\\n",
    "  --GCTA \"/Users/haosun/Documents/WG_Reasearch_Assisstant/Fusion/install/fusion_twas-master/gcta_1.93.2beta_mac/gcta64\" \\\n",
    "  --PLINK `which plink` \\\n",
    "  --GEMMA `which gemma` \\\n",
    "  --compute_weight_rscp  \"/Users/haosun/Documents/WG_Reasearch_Assisstant/GIT/twas-dev/Workflow/FUSION.compute_weights.R\" \\\n",
    "  --gene_exp_file \"/Users/haosun/Documents/WG_Reasearch_Assisstant/Fusion/Project/test/GD462.hsq_succ.test.txt\" \\\n",
    "  --wd  \"/Users/haosun/Documents/WG_Reasearch_Assisstant/Fusion/Project/test/Working\" \\\n",
    "  --genotype_file_directory  \"/Users/haosun/Documents/WG_Reasearch_Assisstant/Fusion/Project/test/LDREF\" \\\n",
    "  --genotype_prefix \"1000G.EUR\" \\\n",
    "  --chrom 3 \\\n",
    "  --gene_name 1 \\\n",
    "  --gene_start 4 \\\n",
    "  --gene_end 4 \\\n",
    "  --window 500000"
   ]
  },
  {
   "cell_type": "markdown",
   "metadata": {
    "kernel": "Bash"
   },
   "source": [
    "# Data wrangling\n",
    "Before conducting analysis on the chicago data, the following issues needed to be fixed via the data wrangling steps:\n",
    "1. The sample ID is not equal to the bfile ID\n",
    "Note: Please disregard the warning message that"
   ]
  },
  {
   "cell_type": "code",
   "execution_count": 14,
   "metadata": {
    "kernel": "R"
   },
   "outputs": [
    {
     "name": "stderr",
     "output_type": "stream",
     "text": [
      "\n",
      "Attaching package: ‘dplyr’\n",
      "\n",
      "\n",
      "The following objects are masked from ‘package:stats’:\n",
      "\n",
      "    filter, lag\n",
      "\n",
      "\n",
      "The following objects are masked from ‘package:base’:\n",
      "\n",
      "    intersect, setdiff, setequal, union\n",
      "\n",
      "\n",
      "Parsed with column specification:\n",
      "cols(\n",
      "  .default = col_double(),\n",
      "  `#Chr` = \u001b[31mcol_character()\u001b[39m,\n",
      "  ID = \u001b[31mcol_character()\u001b[39m\n",
      ")\n",
      "\n",
      "See spec(...) for full column specifications.\n",
      "\n"
     ]
    },
    {
     "data": {
      "text/html": [
       "<style>\n",
       ".list-inline {list-style: none; margin:0; padding: 0}\n",
       ".list-inline>li {display: inline-block}\n",
       ".list-inline>li:not(:last-child)::after {content: \"\\00b7\"; padding: 0 .5ex}\n",
       "</style>\n",
       "<ol class=list-inline><li>'#Chr'</li><li>'start'</li><li>'end'</li><li>'ID'</li><li>'NA18486'</li><li>'NA18487'</li><li>'NA18488'</li><li>'NA18489'</li><li>'NA18498'</li><li>'NA18499'</li><li>'NA18502'</li><li>'NA18505'</li><li>'NA18508'</li><li>'NA18510'</li><li>'NA18511'</li><li>'NA18517'</li><li>'NA18519'</li><li>'NA18520'</li><li>'NA18858'</li><li>'NA18861'</li><li>'NA18867'</li><li>'NA18868'</li><li>'NA18870'</li><li>'NA18873'</li><li>'NA18907'</li><li>'NA18909'</li><li>'NA18910'</li><li>'NA18912'</li><li>'NA18916'</li><li>'NA18917'</li><li>'NA18923'</li><li>'NA18933'</li><li>'NA18934'</li><li>'NA19093'</li><li>'NA19095'</li><li>'NA19096'</li><li>'NA19098'</li><li>'NA19099'</li><li>'NA19102'</li><li>'NA19107'</li><li>'NA19108'</li><li>'NA19113'</li><li>'NA19114'</li><li>'NA19116'</li><li>'NA19117'</li><li>'NA19118'</li><li>'NA19119'</li><li>'NA19121'</li><li>'NA19129'</li><li>'NA19130'</li><li>'NA19131'</li><li>'NA19137'</li><li>'NA19138'</li><li>'NA19141'</li><li>'NA19143'</li><li>'NA19144'</li><li>'NA19146'</li><li>'NA19147'</li><li>'NA19149'</li><li>'NA19150'</li><li>'NA19152'</li><li>'NA19153'</li><li>'NA19159'</li><li>'NA19171'</li><li>'NA19172'</li><li>'NA19175'</li><li>'NA19184'</li><li>'NA19185'</li><li>'NA19189'</li><li>'NA19190'</li><li>'NA19197'</li><li>'NA19198'</li><li>'NA19200'</li><li>'NA19201'</li><li>'NA19204'</li><li>'NA19206'</li><li>'NA19207'</li><li>'NA19209'</li><li>'NA19210'</li><li>'NA19213'</li><li>'NA19222'</li><li>'NA19223'</li><li>'NA19225'</li><li>'NA19235'</li><li>'NA19236'</li><li>'NA19247'</li><li>'NA19248'</li><li>'NA19256'</li><li>'NA19257'</li></ol>\n"
      ],
      "text/latex": [
       "\\begin{enumerate*}\n",
       "\\item '\\#Chr'\n",
       "\\item 'start'\n",
       "\\item 'end'\n",
       "\\item 'ID'\n",
       "\\item 'NA18486'\n",
       "\\item 'NA18487'\n",
       "\\item 'NA18488'\n",
       "\\item 'NA18489'\n",
       "\\item 'NA18498'\n",
       "\\item 'NA18499'\n",
       "\\item 'NA18502'\n",
       "\\item 'NA18505'\n",
       "\\item 'NA18508'\n",
       "\\item 'NA18510'\n",
       "\\item 'NA18511'\n",
       "\\item 'NA18517'\n",
       "\\item 'NA18519'\n",
       "\\item 'NA18520'\n",
       "\\item 'NA18858'\n",
       "\\item 'NA18861'\n",
       "\\item 'NA18867'\n",
       "\\item 'NA18868'\n",
       "\\item 'NA18870'\n",
       "\\item 'NA18873'\n",
       "\\item 'NA18907'\n",
       "\\item 'NA18909'\n",
       "\\item 'NA18910'\n",
       "\\item 'NA18912'\n",
       "\\item 'NA18916'\n",
       "\\item 'NA18917'\n",
       "\\item 'NA18923'\n",
       "\\item 'NA18933'\n",
       "\\item 'NA18934'\n",
       "\\item 'NA19093'\n",
       "\\item 'NA19095'\n",
       "\\item 'NA19096'\n",
       "\\item 'NA19098'\n",
       "\\item 'NA19099'\n",
       "\\item 'NA19102'\n",
       "\\item 'NA19107'\n",
       "\\item 'NA19108'\n",
       "\\item 'NA19113'\n",
       "\\item 'NA19114'\n",
       "\\item 'NA19116'\n",
       "\\item 'NA19117'\n",
       "\\item 'NA19118'\n",
       "\\item 'NA19119'\n",
       "\\item 'NA19121'\n",
       "\\item 'NA19129'\n",
       "\\item 'NA19130'\n",
       "\\item 'NA19131'\n",
       "\\item 'NA19137'\n",
       "\\item 'NA19138'\n",
       "\\item 'NA19141'\n",
       "\\item 'NA19143'\n",
       "\\item 'NA19144'\n",
       "\\item 'NA19146'\n",
       "\\item 'NA19147'\n",
       "\\item 'NA19149'\n",
       "\\item 'NA19150'\n",
       "\\item 'NA19152'\n",
       "\\item 'NA19153'\n",
       "\\item 'NA19159'\n",
       "\\item 'NA19171'\n",
       "\\item 'NA19172'\n",
       "\\item 'NA19175'\n",
       "\\item 'NA19184'\n",
       "\\item 'NA19185'\n",
       "\\item 'NA19189'\n",
       "\\item 'NA19190'\n",
       "\\item 'NA19197'\n",
       "\\item 'NA19198'\n",
       "\\item 'NA19200'\n",
       "\\item 'NA19201'\n",
       "\\item 'NA19204'\n",
       "\\item 'NA19206'\n",
       "\\item 'NA19207'\n",
       "\\item 'NA19209'\n",
       "\\item 'NA19210'\n",
       "\\item 'NA19213'\n",
       "\\item 'NA19222'\n",
       "\\item 'NA19223'\n",
       "\\item 'NA19225'\n",
       "\\item 'NA19235'\n",
       "\\item 'NA19236'\n",
       "\\item 'NA19247'\n",
       "\\item 'NA19248'\n",
       "\\item 'NA19256'\n",
       "\\item 'NA19257'\n",
       "\\end{enumerate*}\n"
      ],
      "text/markdown": [
       "1. '#Chr'\n",
       "2. 'start'\n",
       "3. 'end'\n",
       "4. 'ID'\n",
       "5. 'NA18486'\n",
       "6. 'NA18487'\n",
       "7. 'NA18488'\n",
       "8. 'NA18489'\n",
       "9. 'NA18498'\n",
       "10. 'NA18499'\n",
       "11. 'NA18502'\n",
       "12. 'NA18505'\n",
       "13. 'NA18508'\n",
       "14. 'NA18510'\n",
       "15. 'NA18511'\n",
       "16. 'NA18517'\n",
       "17. 'NA18519'\n",
       "18. 'NA18520'\n",
       "19. 'NA18858'\n",
       "20. 'NA18861'\n",
       "21. 'NA18867'\n",
       "22. 'NA18868'\n",
       "23. 'NA18870'\n",
       "24. 'NA18873'\n",
       "25. 'NA18907'\n",
       "26. 'NA18909'\n",
       "27. 'NA18910'\n",
       "28. 'NA18912'\n",
       "29. 'NA18916'\n",
       "30. 'NA18917'\n",
       "31. 'NA18923'\n",
       "32. 'NA18933'\n",
       "33. 'NA18934'\n",
       "34. 'NA19093'\n",
       "35. 'NA19095'\n",
       "36. 'NA19096'\n",
       "37. 'NA19098'\n",
       "38. 'NA19099'\n",
       "39. 'NA19102'\n",
       "40. 'NA19107'\n",
       "41. 'NA19108'\n",
       "42. 'NA19113'\n",
       "43. 'NA19114'\n",
       "44. 'NA19116'\n",
       "45. 'NA19117'\n",
       "46. 'NA19118'\n",
       "47. 'NA19119'\n",
       "48. 'NA19121'\n",
       "49. 'NA19129'\n",
       "50. 'NA19130'\n",
       "51. 'NA19131'\n",
       "52. 'NA19137'\n",
       "53. 'NA19138'\n",
       "54. 'NA19141'\n",
       "55. 'NA19143'\n",
       "56. 'NA19144'\n",
       "57. 'NA19146'\n",
       "58. 'NA19147'\n",
       "59. 'NA19149'\n",
       "60. 'NA19150'\n",
       "61. 'NA19152'\n",
       "62. 'NA19153'\n",
       "63. 'NA19159'\n",
       "64. 'NA19171'\n",
       "65. 'NA19172'\n",
       "66. 'NA19175'\n",
       "67. 'NA19184'\n",
       "68. 'NA19185'\n",
       "69. 'NA19189'\n",
       "70. 'NA19190'\n",
       "71. 'NA19197'\n",
       "72. 'NA19198'\n",
       "73. 'NA19200'\n",
       "74. 'NA19201'\n",
       "75. 'NA19204'\n",
       "76. 'NA19206'\n",
       "77. 'NA19207'\n",
       "78. 'NA19209'\n",
       "79. 'NA19210'\n",
       "80. 'NA19213'\n",
       "81. 'NA19222'\n",
       "82. 'NA19223'\n",
       "83. 'NA19225'\n",
       "84. 'NA19235'\n",
       "85. 'NA19236'\n",
       "86. 'NA19247'\n",
       "87. 'NA19248'\n",
       "88. 'NA19256'\n",
       "89. 'NA19257'\n",
       "\n",
       "\n"
      ],
      "text/plain": [
       " [1] \"#Chr\"    \"start\"   \"end\"     \"ID\"      \"NA18486\" \"NA18487\" \"NA18488\"\n",
       " [8] \"NA18489\" \"NA18498\" \"NA18499\" \"NA18502\" \"NA18505\" \"NA18508\" \"NA18510\"\n",
       "[15] \"NA18511\" \"NA18517\" \"NA18519\" \"NA18520\" \"NA18858\" \"NA18861\" \"NA18867\"\n",
       "[22] \"NA18868\" \"NA18870\" \"NA18873\" \"NA18907\" \"NA18909\" \"NA18910\" \"NA18912\"\n",
       "[29] \"NA18916\" \"NA18917\" \"NA18923\" \"NA18933\" \"NA18934\" \"NA19093\" \"NA19095\"\n",
       "[36] \"NA19096\" \"NA19098\" \"NA19099\" \"NA19102\" \"NA19107\" \"NA19108\" \"NA19113\"\n",
       "[43] \"NA19114\" \"NA19116\" \"NA19117\" \"NA19118\" \"NA19119\" \"NA19121\" \"NA19129\"\n",
       "[50] \"NA19130\" \"NA19131\" \"NA19137\" \"NA19138\" \"NA19141\" \"NA19143\" \"NA19144\"\n",
       "[57] \"NA19146\" \"NA19147\" \"NA19149\" \"NA19150\" \"NA19152\" \"NA19153\" \"NA19159\"\n",
       "[64] \"NA19171\" \"NA19172\" \"NA19175\" \"NA19184\" \"NA19185\" \"NA19189\" \"NA19190\"\n",
       "[71] \"NA19197\" \"NA19198\" \"NA19200\" \"NA19201\" \"NA19204\" \"NA19206\" \"NA19207\"\n",
       "[78] \"NA19209\" \"NA19210\" \"NA19213\" \"NA19222\" \"NA19223\" \"NA19225\" \"NA19235\"\n",
       "[85] \"NA19236\" \"NA19247\" \"NA19248\" \"NA19256\" \"NA19257\""
      ]
     },
     "metadata": {},
     "output_type": "display_data"
    }
   ],
   "source": [
    "##Ad hoc Data wrangling for the chicago data\n",
    "library(\"dplyr\")\n",
    "to_fix = readr::read_delim(\"/Users/haosun/Documents/WG_Reasearch_Assisstant/Fusion/Project/Chicago/Data/fastqtl_qqnorm_RNAseqGeuvadis_phase2.txt\",delim = \"\\t\")\n",
    "colnames(to_fix)[5:ncol(to_fix)] = paste(\"NA\",colnames(to_fix)[5:ncol(to_fix)])%>%gsub(\" \",\"\",.)\n",
    "to_fix%>%readr::write_tsv( path = \"/Users/haosun/Documents/WG_Reasearch_Assisstant/Fusion/Project/Chicago/Data/fastqtl_qqnorm_RNAseqGeuvadis_phase2_fixed.txt\", na = \"NA\", append = FALSE, col_names = TRUE, quote_escape = \"double\")\n",
    "colnames(to_fix)"
   ]
  },
  {
   "cell_type": "markdown",
   "metadata": {
    "kernel": "R"
   },
   "source": []
  },
  {
   "cell_type": "markdown",
   "metadata": {
    "kernel": "R"
   },
   "source": [
    "## Running the workflow\n",
    "The workflow is a 5 step process which take in the gene expression level, genotype, and gwas sumstat to produce a Gene-disease association file that indicates the relationship between expression of the gene and disease risk. The customized weight are also computed "
   ]
  },
  {
   "cell_type": "code",
   "execution_count": 5,
   "metadata": {
    "kernel": "Bash"
   },
   "outputs": [
    {
     "name": "stderr",
     "output_type": "stream",
     "text": [
      "Keyboard Interrupt\n"
     ]
    }
   ],
   "source": [
    "\n",
    "## Run pipeline with chicago data\n",
    "sos_pipeline=\"../Workflow/SOS_weight_cpt_template.ipynb\"\n",
    "sos run ../Workflow/SOS_weight_cpt_template.ipynb \\\n",
    "  --GCTA \"/Users/haosun/Documents/WG_Reasearch_Assisstant/Fusion/install/fusion_twas-master/gcta_1.93.2beta_mac/gcta64\" \\\n",
    "  --PLINK `which plink` \\\n",
    "  --GEMMA `which gemma` \\\n",
    "  --compute_weight_rscp  \"/Users/haosun/Documents/WG_Reasearch_Assisstant/GIT/twas-dev/Workflow/FUSION.compute_weights.R\" \\\n",
    "  --gene_exp_file \"/Users/haosun/Documents/WG_Reasearch_Assisstant/Fusion/Project/Chicago/Data/fastqtl_qqnorm_RNAseqGeuvadis_phase2_fixed.txt\" \\\n",
    "  --wd  \"/Users/haosun/Documents/WG_Reasearch_Assisstant/Fusion/Project/Chicago/Working\" \\\n",
    "  --genotype_file_directory  \"/Users/haosun/Documents/WG_Reasearch_Assisstant/Fusion/Project/Chicago/Data/genotype_plink_bfiles\" \\\n",
    "  --genotype_prefix \"YRI.120samples.hg19\" \\\n",
    "  --chrom 1 \\\n",
    "  --gene_name 4 \\\n",
    "  --gene_start 2 \\\n",
    "  --gene_end 3 \\\n",
    "  --window 1000 \n"
   ]
  },
  {
   "cell_type": "markdown",
   "metadata": {
    "kernel": "SoS"
   },
   "source": [
    "## Result\n",
    "The above scripts was ran 3 times before the desired output was generated.\n",
    "\n",
    "When scanning 1000bp before and after the gene region. Out of 50 genes, 10 of them passed the heritability test and can be passed down toward the followup analysis.\n",
    "\n",
    "When scanning 500000bp before and after the gene starting site, out of 50 genes, 4 of them passed the heritability test and can be passed down toward the followup analysis."
   ]
  },
  {
   "cell_type": "code",
   "execution_count": null,
   "metadata": {
    "kernel": "Bash"
   },
   "outputs": [],
   "source": [
    "## Potential graphing with the hsq distribution"
   ]
  },
  {
   "cell_type": "markdown",
   "metadata": {
    "kernel": "SoS"
   },
   "source": [
    "# Association testing\n",
    "Association testing shall be done using the following scripts"
   ]
  },
  {
   "cell_type": "code",
   "execution_count": 13,
   "metadata": {
    "kernel": "SoS"
   },
   "outputs": [
    {
     "data": {
      "text/html": [
       "<div class=\"sos_logging sos_info\">INFO: Running <span class=\"sos_highlight\">example</span>: \n",
       "</div>"
      ]
     },
     "metadata": {},
     "output_type": "display_data"
    },
    {
     "name": "stdout",
     "output_type": "stream",
     "text": [
      "\u001b[91mERROR\u001b[0m: \u001b[91m[example]: [example]: Output target $a.txt does not exist after the completion of step example\u001b[0m\n"
     ]
    }
   ],
   "source": []
  },
  {
   "cell_type": "code",
   "execution_count": null,
   "metadata": {
    "kernel": "Python3"
   },
   "outputs": [],
   "source": []
  },
  {
   "cell_type": "code",
   "execution_count": null,
   "metadata": {
    "kernel": "R"
   },
   "outputs": [],
   "source": []
  },
  {
   "cell_type": "code",
   "execution_count": 5,
   "metadata": {
    "kernel": "Bash"
   },
   "outputs": [
    {
     "name": "stdout",
     "output_type": "stream",
     "text": [
      "\u001b[91mERROR\u001b[0m: \u001b[91mFailed to locate SOS_weight_cpt_template.ipynb.sos\u001b[0m\n",
      "\n"
     ]
    }
   ],
   "source": []
  },
  {
   "cell_type": "code",
   "execution_count": 7,
   "metadata": {
    "kernel": "Bash"
   },
   "outputs": [
    {
     "name": "stdout",
     "output_type": "stream",
     "text": [
      "/Users/haosun/Documents/WG_Reasearch_Assisstant/GIT/twas-dev/Analysis\n",
      "Chicago_wgt_compute.ipynb\n",
      "\n"
     ]
    }
   ],
   "source": []
  },
  {
   "cell_type": "code",
   "execution_count": 9,
   "metadata": {
    "kernel": "Bash"
   },
   "outputs": [
    {
     "name": "stdout",
     "output_type": "stream",
     "text": [
      "\n"
     ]
    }
   ],
   "source": []
  },
  {
   "cell_type": "code",
   "execution_count": null,
   "metadata": {
    "kernel": "Bash"
   },
   "outputs": [],
   "source": []
  },
  {
   "cell_type": "code",
   "execution_count": null,
   "metadata": {
    "kernel": "Python3"
   },
   "outputs": [],
   "source": []
  }
 ],
 "metadata": {
  "kernelspec": {
   "display_name": "SoS",
   "language": "sos",
   "name": "sos"
  },
  "language_info": {
   "codemirror_mode": "sos",
   "file_extension": ".sos",
   "mimetype": "text/x-sos",
   "name": "sos",
   "nbconvert_exporter": "sos_notebook.converter.SoS_Exporter",
   "pygments_lexer": "sos"
  },
  "sos": {
   "kernels": [
    [
     "Bash",
     "calysto_bash",
     "Bash",
     "#E6EEFF",
     ""
    ],
    [
     "Python3",
     "python3",
     "Python3",
     "#FFD91A",
     {
      "name": "ipython",
      "version": 3
     }
    ],
    [
     "R",
     "ir",
     "R",
     "#DCDCDA",
     "r"
    ],
    [
     "SoS",
     "sos",
     "",
     "",
     "sos"
    ]
   ],
   "version": "0.20.1"
  }
 },
 "nbformat": 4,
 "nbformat_minor": 4
}
