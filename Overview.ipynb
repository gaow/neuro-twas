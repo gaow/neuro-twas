{
 "cells": [
  {
   "cell_type": "markdown",
   "metadata": {},
   "source": [
    "# Welcome to Multi-tissue brain TWAS!"
   ]
  },
  {
   "cell_type": "markdown",
   "metadata": {},
   "source": [
    "#### This project leverages available molecular phenotype data in brains to perform TWAS for Alzheimer's Disease(AD) in various AD cohorts.\n",
    "\n",
    "#### Currently, the established benchmark of TWAS analysis is the FUSION pipeline, which computes the associations between genotypes and expressions using various models and calculates the TWAS effect size using the results from the best performing one.\n",
    "\n",
    "#### In this repo, we have constructed two workflows. [TWAS-fusion](http://https://hsun3163.github.io/neuro-twas/workflow/twas_fusion.html) connects the steps for FUSION analysis into a ready-to-use pipeline. On the other hand, our implementation of TWAS analysis, multivariate susie, [mv-susie](https://hsun3163.github.io/neuro-twas/workflow/complete_mv_susie_workflow.html), can train models that predicted various molecular phenotypes, i.e., gene expression, alternative splicing, APA, methylation, histone acetylation, simultaneously.\n",
    "\n",
    "#### A pilot study with ~1000 samples and three brain regions have demonstrated the performance and feasibility of mv-susie using a set of published risk locus. In two out of the three tissues, multivariate susie workflows outperform FUSION benchmark in terms of imputation accuracy for more than 40% of genes and can identify more higher number of TWAS significant genes.\n",
    "\n",
    "#### A whole-genome study aiming to identify further TWAS Significant genes using more brain tissues is ongoing.\n"
   ]
  },
  {
   "cell_type": "code",
   "execution_count": null,
   "metadata": {},
   "outputs": [],
   "source": []
  }
 ],
 "metadata": {
  "kernelspec": {
   "display_name": "Python 3",
   "language": "python",
   "name": "python3"
  },
  "language_info": {
   "codemirror_mode": {
    "name": "ipython",
    "version": 3
   },
   "file_extension": ".py",
   "mimetype": "text/x-python",
   "name": "python",
   "nbconvert_exporter": "python",
   "pygments_lexer": "ipython3",
   "version": "3.8.6"
  }
 },
 "nbformat": 4,
 "nbformat_minor": 4
}
