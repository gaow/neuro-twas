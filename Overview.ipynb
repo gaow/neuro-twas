{
 "cells": [
  {
   "cell_type": "markdown",
   "metadata": {},
   "source": [
    "# Welcome to Multi-tissue brain TWAS!"
   ]
  },
  {
   "cell_type": "markdown",
   "metadata": {},
   "source": [
    "This project leverages available molecular phenotype data in brains to perform TWAS for AD, in a variety of AD cohorts.\n",
    "\n",
    "Using multi-omics data from brains for >1000 individuals, we train models for predicting from genotypes molecular phenotypes, ie, gene expression, alternative splicing, APA, methylation, histone acetylation, etc. We will also leverage genomic annotations obtained for different brain tissues and cell types to improve the predictions. Prediction of molecular phenotypes using models trained will be applied to multi-ethnic AD cohorts, to perform association testing for a number of AD related phenotypes including age at onset and cognitive memory functions.\n",
    "\n",
    "We will also explore the possibility to predict one molecular phenotype from others and to complete missing values in these phenotypes.\n",
    "\n",
    "\n",
    "This project aims to incorporate transcription information in predicting the risk of Alzheimer's disease based on individuals' genotypes. Currently, the established benchmark of TWAS analysis is the FUSION pipeline, which computes the associations between genotypes and expressions using five different models. The best performing one is used to calculate the TWAS effect size.\n",
    "\n",
    "After preliminary analysis using the Fusion/TWAS pipeline, the student builds a customized multivariate sum of single effect(SuSiE) analysis workflow using python, bash, and R. \n",
    "\n",
    "Based on the ROSMAP dataset, constituted of three brain tissues, these workflows compute the mixture prior via factor analysis based on a univariate association and conduct multivariate Bayesian-based regression to impute expression and calculate each gene's TWAS effect size.\n",
    "\n",
    "Among the selected risk locus, the workflows outperform the established FUSION benchmark in terms of imputation accuracy and the number of significant TWAS genes.\n"
   ]
  }
 ],
 "metadata": {
  "kernelspec": {
   "display_name": "Python 3",
   "language": "python",
   "name": "python3"
  },
  "language_info": {
   "codemirror_mode": {
    "name": "ipython",
    "version": 3
   },
   "file_extension": ".py",
   "mimetype": "text/x-python",
   "name": "python",
   "nbconvert_exporter": "python",
   "pygments_lexer": "ipython3",
   "version": "3.8.6"
  }
 },
 "nbformat": 4,
 "nbformat_minor": 4
}
