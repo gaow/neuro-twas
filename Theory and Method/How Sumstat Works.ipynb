{
 "cells": [
  {
   "cell_type": "markdown",
   "metadata": {
    "kernel": "SoS"
   },
   "source": [
    "# Models For TWAS in Fusion\n",
    "\n",
    "## Univariate Model\n",
    "\n",
    "    The following model is based on the information provided in:\n",
    "\n",
    "    Gusev et al. “Integrative approaches for large-scale transcriptome-wide association studies” 2016 Nature Genetics\n",
    "\n",
    "    Maier \"A practical introduction to some theoretical concepts in quantitative genetics.\" 2017 https://rawgit.com/uqrmaie1/statgen_equations/master/statgen_equations.html#summary-of-equations\n",
    "\n",
    "\n",
    "For each genes, the Z score after TWAS are noted as $Z_{\\text{twas}}$,\n",
    "\n",
    "$$\\mathbf{Z}_{\\mathbf{\\text{twas}}} = \\frac{\\mathbf{W}\\mathbf{Z}_{\\mathbf{\\text{gwas}}}}{\\sqrt{\\mathbf{\\text{Var}}\\left( {\\mathbf{W}\\mathbf{Z}}_{\\mathbf{\\text{gwas}}} \\right)}}\\mathbf{=}\\frac{\\mathbf{W}\\mathbf{Z}_{\\mathbf{\\text{gwas}}}}{\\sqrt{\\mathbf{W*Var}\\left( \\mathbf{Z}_{\\mathbf{\\text{gwas}}} \\right)\\mathbf{*}\\mathbf{W}^{\\mathbf{T}}}}$$\n",
    "\n",
    "Where **W** is\n",
    "$\\mathbf{\\Sigma}_{\\mathbf{e,s}}\\mathbf{\\Sigma}_{\\mathbf{s,s}}^{\\mathbf{- 1}}$**,**\n",
    "$\\mathbf{\\Sigma}_{\\mathbf{e,s}}$ is the covariate matrix between SNP and\n",
    "gene expression, which are populated by various different algorithm in\n",
    "Fusion_Weight_Compute.R. $\\mathbf{\\Sigma}_{\\mathbf{s,s}}^{}$ is the LD\n",
    "matrix for all SNPs.\n",
    "\n",
    "$\\mathbf{Z}_{\\mathbf{\\text{gwas}}}$ *is a vector of N elements\n",
    "containing the GWAS association statistics for each of the SNP of said\n",
    "genes* $\\mathbf{Z}_{\\mathbf{j,}\\mathbf{\\text{gwas}}}$\n",
    "\n",
    "$$\\mathbf{Z}_{\\mathbf{j}\\mathbf{,}\\mathbf{\\text{gwas}}}\\mathbf{=}\\frac{\\beta_{j,gwas}}{\\text{SE}\\left( \\beta_{j,gwas} \\right)}$$\n",
    "\n",
    "*The exact components that specify*\n",
    "$\\mathbf{Z}_{\\mathbf{j}\\mathbf{,}\\mathbf{\\text{gwas}}}$ *vary based on\n",
    "how* $\\beta$ *was estimated, under the case of GWAS between one SNP and\n",
    "the phenotype,*\n",
    "\n",
    "$$\\beta_{j,gwas} = \\frac{X_{j}^{T}y}{{X_{j}}^{T}X_{j}}\\text{\\ \\ }$$\n",
    "\n",
    "$$\\text{SE}\\left( \\beta_{j,gwas} \\right) = \\sqrt{\\frac{\\left( \\text{Var}\\left( y \\right) - Var\\left( X_{j} \\right)*\\ \\beta_{j,gwas}^{2}\\  \\right)}{{Var(X}_{j})*N}}$$\n",
    "\n",
    "*Where* $y$ *is the phenotype of interests, N is the total number of\n",
    "SNP, and* $\\mathbf{X}_{\\mathbf{j}}$*is the a vector of the population\n",
    "base mean centered genotype for the*$\\ j^{\\text{th}}$ *SNP corresponding\n",
    "to* $y$*.*\n",
    "\n",
    "*With the assumption that*\n",
    "$\\mathbf{Z}_{\\mathbf{\\text{gwas}}}\\sim N(0\\mathbf{,}\\Sigma_{s,s})$*,\n",
    "this bring the full model into:*\n",
    "\n",
    "$$Z_{\\text{twas}}\\mathbf{=}\\frac{\\mathbf{\\Sigma}_{\\mathbf{e,s}}\\mathbf{\\Sigma}_{\\mathbf{s}\\mathbf{,}\\mathbf{s}}^{\\mathbf{- 1}}\\left\\{ \\frac{\\frac{X_{j}^{T}y}{{X_{j}}^{T}X_{j}}}{\\sqrt{\\frac{\\left( \\text{Var}\\left( y \\right) - Var\\left( \\mathbf{X}_{\\mathbf{j}} \\right)*\\left( \\frac{\\mathbf{X}_{\\mathbf{j}}^{\\mathbf{T}}y}{{\\mathbf{X}_{\\mathbf{j}}}^{\\mathbf{T}}\\mathbf{X}_{\\mathbf{j}}} \\right)^{2}\\  \\right)}{{Var(\\mathbf{X}}_{j})*N}}} \\right\\}}{\\sqrt{\\mathbf{\\Sigma}_{\\mathbf{e,s}}\\mathbf{\\Sigma}_{\\mathbf{s}\\mathbf{,}\\mathbf{s}}^{\\mathbf{- 1}}\\mathbf{*}\\mathbf{\\Sigma}_{\\mathbf{s,s}}\\mathbf{*}\\left( \\mathbf{\\Sigma}_{\\mathbf{e,s}}\\mathbf{\\Sigma}_{\\mathbf{s}\\mathbf{,}\\mathbf{s}}^{\\mathbf{- 1}} \\right)^{\\mathbf{T}}}}$$\n",
    "\n",
    "Under further assumptions that\n",
    "\n",
    "1.  Each SNP only explained negligible portion of the total variance,\n",
    "    $\\text{Var}\\left( \\mathbf{X}_{\\mathbf{j}} \\right)*\\left( \\frac{\\mathbf{X}_{\\mathbf{j}}^{\\mathbf{T}}y}{{\\mathbf{X}_{\\mathbf{j}}}^{\\mathbf{T}}\\mathbf{X}_{\\mathbf{j}}} \\right)^{2} \\approx 0$\n",
    "\n",
    "2.  Phenotypes assumed to be Var(y) = 1\n",
    "\n",
    "3.  Genotypes are standardized such that Var($X_{j}$) = 1\n",
    "\n",
    "$$Z_{\\text{twas}}\\mathbf{=}\\frac{\\mathbf{\\Sigma}_{\\mathbf{e,s}}\\mathbf{\\Sigma}_{\\mathbf{s}\\mathbf{,}\\mathbf{s}}^{\\mathbf{- 1}}\\left\\{ \\left( \\frac{\\mathbf{X}_{\\mathbf{j}}^{\\mathbf{T}}y}{{\\mathbf{X}_{\\mathbf{j}}}^{\\mathbf{T}}\\mathbf{X}_{\\mathbf{j}}} \\right)\\mathbf{*}\\sqrt{N} \\right\\}}{\\sqrt{\\mathbf{\\Sigma}_{\\mathbf{e,s}}\\mathbf{\\Sigma}_{\\mathbf{s}\\mathbf{,}\\mathbf{s}}^{\\mathbf{- 1}}\\mathbf{*}\\mathbf{\\Sigma}_{\\mathbf{s,s}}\\mathbf{*}\\left( \\mathbf{\\Sigma}_{\\mathbf{e,s}}\\mathbf{\\Sigma}_{\\mathbf{s}\\mathbf{,}\\mathbf{s}}^{\\mathbf{- 1}} \\right)^{\\mathbf{T}}}}$$\n"
   ]
  },
  {
   "cell_type": "markdown",
   "metadata": {
    "kernel": "SoS"
   },
   "source": [
    "## Multivariate Model\n",
    "\n"
   ]
  },
  {
   "cell_type": "markdown",
   "metadata": {
    "kernel": "SoS"
   },
   "source": [
    "To be derived"
   ]
  }
 ],
 "metadata": {
  "kernelspec": {
   "display_name": "SoS",
   "language": "sos",
   "name": "sos"
  },
  "language_info": {
   "codemirror_mode": "sos",
   "file_extension": ".sos",
   "mimetype": "text/x-sos",
   "name": "sos",
   "nbconvert_exporter": "sos_notebook.converter.SoS_Exporter",
   "pygments_lexer": "sos"
  },
  "sos": {
   "kernels": [
    [
     "SoS",
     "sos",
     "",
     ""
    ]
   ],
   "version": "0.20.1"
  }
 },
 "nbformat": 4,
 "nbformat_minor": 4
}
