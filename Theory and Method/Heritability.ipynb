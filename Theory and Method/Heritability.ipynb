{
 "cells": [
  {
   "cell_type": "markdown",
   "metadata": {
    "kernel": "SoS"
   },
   "source": [
    "# Heritability\n",
    "A recurring issues that limited the amount of genes in our analysis is the Heriatbility. Around 15~30% of the genes of intersted were screened out because the GCTA software decided that the heritability of those genes are too low. In the notebook, how GCTA determined the heritability and what are the concensus in this issue will be recorded."
   ]
  },
  {
   "cell_type": "markdown",
   "metadata": {
    "kernel": "SoS"
   },
   "source": [
    "## Definition of Heritability\n",
    "Generally speaking, heritability is the porpotion of the variance that were explained by the genomics component. Namely Var(G)/Var(Y), where Y is the trait of interst and G is the genetics variance. "
   ]
  },
  {
   "cell_type": "markdown",
   "metadata": {
    "kernel": "SoS"
   },
   "source": [
    "## GCTA Algorithm\n",
    "The GCTA used REML(restricted maximum likelihood) Algorithm onto a GRM (genetic relationship matrix) to estimate the variance explained by all the SNPs. This section is based on:\n",
    "    Yang J, Lee SH, Goddard ME, Visscher PM. GCTA: a tool for genome-wide complex trait analysis. Am J Hum Genet. 2011; 88:76–82. [PubMed: 21167468]\n",
    "\n",
    "### GRM\n",
    "The genetic relationship matrix is basically estimating how closely two individuals,j and k, in the study are related. \n",
    "\n",
    "\n",
    "$$\\mathbf{A}_{\\mathbf{\\text{jk}}}\\mathbf{=}\\frac{\\mathbf{1}}{\\mathbf{N}}\\mathbf{\\Sigma}_{i = 1}^{Ν}\\frac{\\left( \\left( x_{\\text{ij}} - 2p_{i} \\right)\\left( x_{\\text{ik}} - 2pi \\right) \\right)}{2pi\\left( 1 - pi \\right)}$$\n",
    "\n",
    "***The nature of xij and pi are not specified and yet to be found out.***\n",
    "\n",
    "\n",
    "### REML\n",
    "The GRM generated from the previous step was then fitted into a mixed linear model:\n",
    "\n",
    "\n",
    "$$\\mathbf{y = X}\\mathbf{\\beta +}\\mathbf{\\Sigma}_{\\mathbf{i = 1}}^{\\mathbf{r}}\\mathbf{g}_{\\mathbf{i}}\\mathbf{+}\\mathbf{\\varepsilon}$$\n",
    "\n",
    "Where gi is a vector of random genetic effects for a particular regions(From a gene to a chromosome to a whole genome). In other word, it is the amount of y that are contributed by the said region.\n",
    "\n",
    "The variance of the model is thus\n",
    "\n",
    "$V = \\Sigma_{i = 1}^{r}A_{i}\\sigma_{i}^{2} + I\\sigma_{\\varepsilon}^{2}$\n",
    "\n",
    "where $A_{i}\\sigma_{i}^{2}$ is the variance of genetics effect for\n",
    "one unit and Ai is the GRM correspond to that unit.\n",
    "\n",
    "For example, if the chromosomal heritability is to be estimated. Then $A_{i}$ will be how closely the samples related in this particular\n",
    "chromosome and the $\\sigma_{i}^{2}\\$ will be the variance of the phenotype that are explained by each chromosome.\n",
    "\n",
    "\n",
    "\n",
    "heritability then is therefore simply the ratio between the estimated $\\sigma_{i}^{2}\\ and V\n",
    "\n",
    "The estimated heritability is then compared with zero with a likelyhood \n"
   ]
  },
  {
   "cell_type": "code",
   "execution_count": null,
   "metadata": {
    "kernel": "SoS"
   },
   "outputs": [],
   "source": []
  }
 ],
 "metadata": {
  "kernelspec": {
   "display_name": "SoS",
   "language": "sos",
   "name": "sos"
  },
  "language_info": {
   "codemirror_mode": "sos",
   "file_extension": ".sos",
   "mimetype": "text/x-sos",
   "name": "sos",
   "nbconvert_exporter": "sos_notebook.converter.SoS_Exporter",
   "pygments_lexer": "sos"
  },
  "sos": {
   "kernels": [
    [
     "SoS",
     "sos",
     "",
     ""
    ]
   ],
   "version": "0.20.1"
  }
 },
 "nbformat": 4,
 "nbformat_minor": 4
}
