{
 "cells": [
  {
   "cell_type": "markdown",
   "metadata": {
    "kernel": "SoS"
   },
   "source": [
    "## Diag of MV susie\n",
    "This notebooks rerun one of the the alzheimer disease gene to ensure the MVSuSiE works with the gene  \n",
    "ENSG00000196126\n",
    "ENSG00000203710\n"
   ]
  },
  {
   "cell_type": "code",
   "execution_count": null,
   "metadata": {
    "kernel": "SoS"
   },
   "outputs": [],
   "source": [
    "nohup sos run ~/GIT/neuro-twas/workflow/mv_susie.ipynb mv_susie_cv \\\n",
    "--molecular_pheno_dir \"/mnt/mfs/statgen/neuro-twas/mv_wg/molecular_phenotype_list\" \\\n",
    "--region_list /mnt/mfs/statgen/neuro-twas/mv_s_diag/wg_rds_list_final \\\n",
    "--wd \"/mnt/mfs/statgen/neuro-twas/mv_s_diag/\" \\\n",
    "--name_prefix \"geneTpmResidualsAgeGenderAdj_rename\" \\\n",
    "--container /mnt/mfs/statgen/containers/twas_latest.sif \\\n",
    "--impute TRUE --job_size 1 \\\n",
    "--cv_times 100 \\\n",
    "--extract_snp \"~/Project/Alz/data/AD_sumstats_SNP\" \\\n",
    "--mixture_prior '/home/hs3163/Project/Genome_prior/mixture_prior/output/susie.teem.rds' \\\n",
    "-J 200 -q csg -c ~/GIT/neuro-twas/code/csg.yml -s build &"
   ]
  },
  {
   "cell_type": "code",
   "execution_count": 1,
   "metadata": {
    "kernel": "R"
   },
   "outputs": [
    {
     "name": "stderr",
     "output_type": "stream",
     "text": [
      "\n",
      "Attaching package: ‘dplyr’\n",
      "\n",
      "\n",
      "The following objects are masked from ‘package:stats’:\n",
      "\n",
      "    filter, lag\n",
      "\n",
      "\n",
      "The following objects are masked from ‘package:base’:\n",
      "\n",
      "    intersect, setdiff, setequal, union\n",
      "\n",
      "\n"
     ]
    }
   ],
   "source": [
    "library(dplyr)\n",
    "library(tibble)\n",
    "library(readr)\n",
    "library(ggplot2)\n",
    "library(purrr)\n",
    "library(tidyr)"
   ]
  },
  {
   "cell_type": "code",
   "execution_count": 3,
   "metadata": {
    "kernel": "R"
   },
   "outputs": [
    {
     "name": "stderr",
     "output_type": "stream",
     "text": [
      "The following object is masked from file:/mnt/mfs/statgen/neuro-twas/mv_s_diag/result/geneTpmResidualsAgeGenderAdj_rename.ENSG00000203710.mv_susie.model.cv.RData (pos = 3):\n",
      "\n",
      "    full_model\n",
      "\n",
      "\n"
     ]
    }
   ],
   "source": [
    "a = attach(\"/mnt/mfs/statgen/neuro-twas/mv_s_diag/result/geneTpmResidualsAgeGenderAdj_rename.ENSG00000203710.mv_susie.model.cv.RData\")"
   ]
  },
  {
   "cell_type": "code",
   "execution_count": 13,
   "metadata": {
    "kernel": "R"
   },
   "outputs": [],
   "source": [
    "names(a$full_model$pval) = c(\"AC\",\"PCC\",\"DLPFC\")\n",
    "names(b$full_model$pval) = c(\"AC\",\"PCC\",\"DLPFC\")"
   ]
  },
  {
   "cell_type": "code",
   "execution_count": 10,
   "metadata": {
    "kernel": "R"
   },
   "outputs": [
    {
     "name": "stderr",
     "output_type": "stream",
     "text": [
      "The following object is masked from file:/mnt/mfs/statgen/neuro-twas/mv_wg/result/geneTpmResidualsAgeGenderAdj_rename.ENSG00000203710.mv_susie.model.cv.RData:\n",
      "\n",
      "    full_model\n",
      "\n",
      "\n",
      "The following object is masked from file:/mnt/mfs/statgen/neuro-twas/mv_s_diag/result/geneTpmResidualsAgeGenderAdj_rename.ENSG00000203710.mv_susie.model.cv.RData (pos = 4):\n",
      "\n",
      "    full_model\n",
      "\n",
      "\n",
      "The following object is masked from file:/mnt/mfs/statgen/neuro-twas/mv_s_diag/result/geneTpmResidualsAgeGenderAdj_rename.ENSG00000203710.mv_susie.model.cv.RData (pos = 5):\n",
      "\n",
      "    full_model\n",
      "\n",
      "\n"
     ]
    }
   ],
   "source": [
    "b = attach(\"/mnt/mfs/statgen/neuro-twas/mv_s_diag/result/geneTpmResidualsAgeGenderAdj_rename.ENSG00000196126.mv_susie.model.cv.RData\")"
   ]
  },
  {
   "cell_type": "code",
   "execution_count": 4,
   "metadata": {
    "kernel": "R"
   },
   "outputs": [
    {
     "name": "stderr",
     "output_type": "stream",
     "text": [
      "The following object is masked from file:/mnt/mfs/statgen/neuro-twas/mv_s_diag/result/geneTpmResidualsAgeGenderAdj_rename.ENSG00000203710.mv_susie.model.cv.RData (pos = 3):\n",
      "\n",
      "    full_model\n",
      "\n",
      "\n",
      "The following object is masked from file:/mnt/mfs/statgen/neuro-twas/mv_s_diag/result/geneTpmResidualsAgeGenderAdj_rename.ENSG00000203710.mv_susie.model.cv.RData (pos = 4):\n",
      "\n",
      "    full_model\n",
      "\n",
      "\n"
     ]
    }
   ],
   "source": [
    "mb_a = attach(\"/mnt/mfs/statgen/neuro-twas/mv_wg/result/geneTpmResidualsAgeGenderAdj_rename.ENSG00000203710.mv_susie.model.cv.RData\")"
   ]
  },
  {
   "cell_type": "code",
   "execution_count": 11,
   "metadata": {
    "kernel": "R"
   },
   "outputs": [
    {
     "name": "stderr",
     "output_type": "stream",
     "text": [
      "The following object is masked from file:/mnt/mfs/statgen/neuro-twas/mv_s_diag/result/geneTpmResidualsAgeGenderAdj_rename.ENSG00000196126.mv_susie.model.cv.RData:\n",
      "\n",
      "    full_model\n",
      "\n",
      "\n",
      "The following object is masked from file:/mnt/mfs/statgen/neuro-twas/mv_wg/result/geneTpmResidualsAgeGenderAdj_rename.ENSG00000203710.mv_susie.model.cv.RData:\n",
      "\n",
      "    full_model\n",
      "\n",
      "\n",
      "The following object is masked from file:/mnt/mfs/statgen/neuro-twas/mv_s_diag/result/geneTpmResidualsAgeGenderAdj_rename.ENSG00000203710.mv_susie.model.cv.RData (pos = 5):\n",
      "\n",
      "    full_model\n",
      "\n",
      "\n",
      "The following object is masked from file:/mnt/mfs/statgen/neuro-twas/mv_s_diag/result/geneTpmResidualsAgeGenderAdj_rename.ENSG00000203710.mv_susie.model.cv.RData (pos = 6):\n",
      "\n",
      "    full_model\n",
      "\n",
      "\n"
     ]
    }
   ],
   "source": [
    "mb_b = attach(\"/mnt/mfs/statgen/neuro-twas/mv_wg/result/geneTpmResidualsAgeGenderAdj_rename.ENSG00000196126.mv_susie.model.cv.RData\")"
   ]
  },
  {
   "cell_type": "code",
   "execution_count": 14,
   "metadata": {
    "kernel": "R"
   },
   "outputs": [],
   "source": [
    "names(mb_a$full_model$pval) = c(\"AC\",\"PCC\",\"DLPFC\")\n",
    "names(mb_b$full_model$pval) = c(\"AC\",\"PCC\",\"DLPFC\")"
   ]
  },
  {
   "cell_type": "code",
   "execution_count": 12,
   "metadata": {
    "kernel": "R"
   },
   "outputs": [
    {
     "data": {
      "text/html": [
       "<style>\n",
       ".dl-inline {width: auto; margin:0; padding: 0}\n",
       ".dl-inline>dt, .dl-inline>dd {float: none; width: auto; display: inline-block}\n",
       ".dl-inline>dt::after {content: \":\\0020\"; padding-right: .5ex}\n",
       ".dl-inline>dt:not(:first-of-type) {padding-left: .5ex}\n",
       "</style><dl class=dl-inline><dt>V1</dt><dd>0.15195576845172</dd><dt>V2</dt><dd>0.057784070345216</dd><dt>V3</dt><dd>3.23153595482286e-05</dd></dl>\n"
      ],
      "text/latex": [
       "\\begin{description*}\n",
       "\\item[V1] 0.15195576845172\n",
       "\\item[V2] 0.057784070345216\n",
       "\\item[V3] 3.23153595482286e-05\n",
       "\\end{description*}\n"
      ],
      "text/markdown": [
       "V1\n",
       ":   0.15195576845172V2\n",
       ":   0.057784070345216V3\n",
       ":   3.23153595482286e-05\n",
       "\n"
      ],
      "text/plain": [
       "          V1           V2           V3 \n",
       "1.519558e-01 5.778407e-02 3.231536e-05 "
      ]
     },
     "metadata": {},
     "output_type": "display_data"
    }
   ],
   "source": [
    "mb_a$full_model$pval"
   ]
  },
  {
   "cell_type": "code",
   "execution_count": 13,
   "metadata": {
    "kernel": "R"
   },
   "outputs": [
    {
     "data": {
      "text/html": [
       "1371"
      ],
      "text/latex": [
       "1371"
      ],
      "text/markdown": [
       "1371"
      ],
      "text/plain": [
       "[1] 1371"
      ]
     },
     "metadata": {},
     "output_type": "display_data"
    },
    {
     "data": {
      "text/html": [
       "1092"
      ],
      "text/latex": [
       "1092"
      ],
      "text/markdown": [
       "1092"
      ],
      "text/plain": [
       "[1] 1092"
      ]
     },
     "metadata": {},
     "output_type": "display_data"
    },
    {
     "data": {
      "text/html": [
       "8346"
      ],
      "text/latex": [
       "8346"
      ],
      "text/markdown": [
       "8346"
      ],
      "text/plain": [
       "[1] 8346"
      ]
     },
     "metadata": {},
     "output_type": "display_data"
    },
    {
     "data": {
      "text/html": [
       "8272"
      ],
      "text/latex": [
       "8272"
      ],
      "text/markdown": [
       "8272"
      ],
      "text/plain": [
       "[1] 8272"
      ]
     },
     "metadata": {},
     "output_type": "display_data"
    }
   ],
   "source": [
    "mb_a$full_model$snps%>%length\n",
    "a$full_model$snps%>%length\n",
    "\n",
    "mb_b$full_model$snps%>%length\n",
    "b$full_model$snps%>%length"
   ]
  },
  {
   "cell_type": "code",
   "execution_count": 25,
   "metadata": {
    "kernel": "R"
   },
   "outputs": [],
   "source": [
    "ENSG00000203710 = cbind(mmbr_pv = mb_a$full_model$pval,mvs_pv = a$full_model$pval)\n",
    "ENSG00000196126 = cbind(mmbr_pv = mb_b$full_model$pval,mvs_pv = b$full_model$pval)"
   ]
  },
  {
   "cell_type": "code",
   "execution_count": 26,
   "metadata": {
    "kernel": "R"
   },
   "outputs": [
    {
     "data": {
      "text/html": [
       "<table class=\"dataframe\">\n",
       "<caption>A matrix: 3 × 2 of type dbl</caption>\n",
       "<thead>\n",
       "\t<tr><th></th><th scope=col>mmbr_pv</th><th scope=col>mvs_pv</th></tr>\n",
       "</thead>\n",
       "<tbody>\n",
       "\t<tr><th scope=row>AC</th><td>1.519558e-01</td><td>0.29752638</td></tr>\n",
       "\t<tr><th scope=row>PCC</th><td>5.778407e-02</td><td>0.25016801</td></tr>\n",
       "\t<tr><th scope=row>DLPFC</th><td>3.231536e-05</td><td>0.04151472</td></tr>\n",
       "</tbody>\n",
       "</table>\n"
      ],
      "text/latex": [
       "A matrix: 3 × 2 of type dbl\n",
       "\\begin{tabular}{r|ll}\n",
       "  & mmbr\\_pv & mvs\\_pv\\\\\n",
       "\\hline\n",
       "\tAC & 1.519558e-01 & 0.29752638\\\\\n",
       "\tPCC & 5.778407e-02 & 0.25016801\\\\\n",
       "\tDLPFC & 3.231536e-05 & 0.04151472\\\\\n",
       "\\end{tabular}\n"
      ],
      "text/markdown": [
       "\n",
       "A matrix: 3 × 2 of type dbl\n",
       "\n",
       "| <!--/--> | mmbr_pv | mvs_pv |\n",
       "|---|---|---|\n",
       "| AC | 1.519558e-01 | 0.29752638 |\n",
       "| PCC | 5.778407e-02 | 0.25016801 |\n",
       "| DLPFC | 3.231536e-05 | 0.04151472 |\n",
       "\n"
      ],
      "text/plain": [
       "      mmbr_pv      mvs_pv    \n",
       "AC    1.519558e-01 0.29752638\n",
       "PCC   5.778407e-02 0.25016801\n",
       "DLPFC 3.231536e-05 0.04151472"
      ]
     },
     "metadata": {},
     "output_type": "display_data"
    },
    {
     "data": {
      "text/html": [
       "<table class=\"dataframe\">\n",
       "<caption>A matrix: 3 × 2 of type dbl</caption>\n",
       "<thead>\n",
       "\t<tr><th></th><th scope=col>mmbr_pv</th><th scope=col>mvs_pv</th></tr>\n",
       "</thead>\n",
       "<tbody>\n",
       "\t<tr><th scope=row>AC</th><td>1.419125e-18</td><td>4.087482e-13</td></tr>\n",
       "\t<tr><th scope=row>PCC</th><td>1.913424e-16</td><td>6.452358e-12</td></tr>\n",
       "\t<tr><th scope=row>DLPFC</th><td>3.083466e-22</td><td>1.699365e-15</td></tr>\n",
       "</tbody>\n",
       "</table>\n"
      ],
      "text/latex": [
       "A matrix: 3 × 2 of type dbl\n",
       "\\begin{tabular}{r|ll}\n",
       "  & mmbr\\_pv & mvs\\_pv\\\\\n",
       "\\hline\n",
       "\tAC & 1.419125e-18 & 4.087482e-13\\\\\n",
       "\tPCC & 1.913424e-16 & 6.452358e-12\\\\\n",
       "\tDLPFC & 3.083466e-22 & 1.699365e-15\\\\\n",
       "\\end{tabular}\n"
      ],
      "text/markdown": [
       "\n",
       "A matrix: 3 × 2 of type dbl\n",
       "\n",
       "| <!--/--> | mmbr_pv | mvs_pv |\n",
       "|---|---|---|\n",
       "| AC | 1.419125e-18 | 4.087482e-13 |\n",
       "| PCC | 1.913424e-16 | 6.452358e-12 |\n",
       "| DLPFC | 3.083466e-22 | 1.699365e-15 |\n",
       "\n"
      ],
      "text/plain": [
       "      mmbr_pv      mvs_pv      \n",
       "AC    1.419125e-18 4.087482e-13\n",
       "PCC   1.913424e-16 6.452358e-12\n",
       "DLPFC 3.083466e-22 1.699365e-15"
      ]
     },
     "metadata": {},
     "output_type": "display_data"
    }
   ],
   "source": [
    "ENSG00000203710\n",
    "ENSG00000196126"
   ]
  },
  {
   "cell_type": "code",
   "execution_count": 9,
   "metadata": {
    "kernel": "R"
   },
   "outputs": [
    {
     "name": "stderr",
     "output_type": "stream",
     "text": [
      "\n",
      "\u001b[36m──\u001b[39m \u001b[1m\u001b[1mColumn specification\u001b[1m\u001b[22m \u001b[36m────────────────────────────────────────────────────────\u001b[39m\n",
      "cols(\n",
      "  gene = \u001b[31mcol_character()\u001b[39m,\n",
      "  ensembl_id = \u001b[31mcol_character()\u001b[39m,\n",
      "  chr = \u001b[32mcol_double()\u001b[39m\n",
      ")\n",
      "\n",
      "\n"
     ]
    }
   ],
   "source": [
    "gene_name = \"~/Project/Alz/data/Alz_gene_list.txt\"\n",
    "gene = read_delim(gene_name, delim = \"\\t\" ) "
   ]
  },
  {
   "cell_type": "code",
   "execution_count": 11,
   "metadata": {
    "kernel": "R"
   },
   "outputs": [
    {
     "name": "stderr",
     "output_type": "stream",
     "text": [
      "\n",
      "\u001b[36m──\u001b[39m \u001b[1m\u001b[1mColumn specification\u001b[1m\u001b[22m \u001b[36m────────────────────────────────────────────────────────\u001b[39m\n",
      "cols(\n",
      "  .default = col_character()\n",
      ")\n",
      "\u001b[36mℹ\u001b[39m Use \u001b[30m\u001b[47m\u001b[30m\u001b[47m`spec()`\u001b[47m\u001b[30m\u001b[49m\u001b[39m for the full column specifications.\n",
      "\n",
      "\n",
      "\n",
      "\u001b[36m──\u001b[39m \u001b[1m\u001b[1mColumn specification\u001b[1m\u001b[22m \u001b[36m────────────────────────────────────────────────────────\u001b[39m\n",
      "cols(\n",
      "  .default = col_character()\n",
      ")\n",
      "\u001b[36mℹ\u001b[39m Use \u001b[30m\u001b[47m\u001b[30m\u001b[47m`spec()`\u001b[47m\u001b[30m\u001b[49m\u001b[39m for the full column specifications.\n",
      "\n",
      "\n",
      "\n",
      "\u001b[36m──\u001b[39m \u001b[1m\u001b[1mColumn specification\u001b[1m\u001b[22m \u001b[36m────────────────────────────────────────────────────────\u001b[39m\n",
      "cols(\n",
      "  .default = col_character()\n",
      ")\n",
      "\u001b[36mℹ\u001b[39m Use \u001b[30m\u001b[47m\u001b[30m\u001b[47m`spec()`\u001b[47m\u001b[30m\u001b[49m\u001b[39m for the full column specifications.\n",
      "\n",
      "\n"
     ]
    }
   ],
   "source": [
    "dir = \"/mnt/mfs/statgen/neuro-twas/mv_wg/wgt/\"\n",
    "Proj = c(\"DLPFC\",\"AC\",\"PCC\")\n",
    "tmp = tibble(\n",
    "  Proj_Name = Proj\n",
    ")\n",
    "analysis = tmp%>%mutate(\n",
    "  result_data = map(Proj_Name,~read_delim(paste(dir,.x,\"/result/all_result.txt\",sep = \"\"),delim = \"\\t\")%>%filter(FILE!=\"FILE\")),\n",
    "  result_data_TWAS = map(result_data,~.x%>%filter(!TWAS.P %in% \"     NA\")%>%select(-FILE)%>%mutate(\n",
    "      MODELCV.R2 = as.numeric(MODELCV.R2),\n",
    "      MODELCV.PV = p.adjust(as.numeric(MODELCV.PV), method = \"fdr\") ,\n",
    "      TWAS.P = as.numeric(TWAS.P),\n",
    "      TWAS.P.Adj = p.adjust(TWAS.P, method = \"fdr\"))%>%filter()),\n",
    "        twas_gene = map(result_data_TWAS,~.x$ID),\n",
    "        psed_gene = map(result_data_TWAS,~.x%>%filter(TWAS.P.Adj<0.05)),\n",
    "        r2 = map(result_data_TWAS,~.x%>%pull(MODELCV.R2)%>%as.numeric%>%na.omit()%>%mean()),\n",
    "        pval = map(result_data_TWAS,~.x%>%pull(MODELCV.PV)%>%as.numeric%>%na.omit()%>%mean())\n",
    ")\n",
    "exp = analysis%>%unnest(result_data_TWAS)%>%filter(ID %in% gene$ensembl_id )%>%select(-psed_gene,-result_data,-twas_gene)%>%filter(ID %in% c(\"ENSG00000196126\",\"ENSG00000203710\") )"
   ]
  },
  {
   "cell_type": "code",
   "execution_count": 17,
   "metadata": {
    "kernel": "R"
   },
   "outputs": [
    {
     "data": {
      "text/html": [
       "<table class=\"dataframe\">\n",
       "<caption>A tibble: 6 × 5</caption>\n",
       "<thead>\n",
       "\t<tr><th scope=col>Proj_Name</th><th scope=col>ID</th><th scope=col>CHR</th><th scope=col>MODELCV.PV</th><th scope=col>New.PV</th></tr>\n",
       "\t<tr><th scope=col>&lt;chr&gt;</th><th scope=col>&lt;chr&gt;</th><th scope=col>&lt;chr&gt;</th><th scope=col>&lt;dbl&gt;</th><th scope=col>&lt;dbl&gt;</th></tr>\n",
       "</thead>\n",
       "<tbody>\n",
       "\t<tr><td>DLPFC</td><td>ENSG00000203710</td><td>1</td><td>9.920000e-04</td><td>4.151472e-02</td></tr>\n",
       "\t<tr><td>DLPFC</td><td>ENSG00000196126</td><td>6</td><td>2.883000e-20</td><td>1.699365e-15</td></tr>\n",
       "\t<tr><td>AC   </td><td>ENSG00000203710</td><td>1</td><td>5.166667e-01</td><td>2.975264e-01</td></tr>\n",
       "\t<tr><td>AC   </td><td>ENSG00000196126</td><td>6</td><td>1.302000e-16</td><td>4.087482e-13</td></tr>\n",
       "\t<tr><td>PCC  </td><td>ENSG00000203710</td><td>1</td><td>4.727500e-01</td><td>2.501680e-01</td></tr>\n",
       "\t<tr><td>PCC  </td><td>ENSG00000196126</td><td>6</td><td>1.767000e-14</td><td>6.452358e-12</td></tr>\n",
       "</tbody>\n",
       "</table>\n"
      ],
      "text/latex": [
       "A tibble: 6 × 5\n",
       "\\begin{tabular}{lllll}\n",
       " Proj\\_Name & ID & CHR & MODELCV.PV & New.PV\\\\\n",
       " <chr> & <chr> & <chr> & <dbl> & <dbl>\\\\\n",
       "\\hline\n",
       "\t DLPFC & ENSG00000203710 & 1 & 9.920000e-04 & 4.151472e-02\\\\\n",
       "\t DLPFC & ENSG00000196126 & 6 & 2.883000e-20 & 1.699365e-15\\\\\n",
       "\t AC    & ENSG00000203710 & 1 & 5.166667e-01 & 2.975264e-01\\\\\n",
       "\t AC    & ENSG00000196126 & 6 & 1.302000e-16 & 4.087482e-13\\\\\n",
       "\t PCC   & ENSG00000203710 & 1 & 4.727500e-01 & 2.501680e-01\\\\\n",
       "\t PCC   & ENSG00000196126 & 6 & 1.767000e-14 & 6.452358e-12\\\\\n",
       "\\end{tabular}\n"
      ],
      "text/markdown": [
       "\n",
       "A tibble: 6 × 5\n",
       "\n",
       "| Proj_Name &lt;chr&gt; | ID &lt;chr&gt; | CHR &lt;chr&gt; | MODELCV.PV &lt;dbl&gt; | New.PV &lt;dbl&gt; |\n",
       "|---|---|---|---|---|\n",
       "| DLPFC | ENSG00000203710 | 1 | 9.920000e-04 | 4.151472e-02 |\n",
       "| DLPFC | ENSG00000196126 | 6 | 2.883000e-20 | 1.699365e-15 |\n",
       "| AC    | ENSG00000203710 | 1 | 5.166667e-01 | 2.975264e-01 |\n",
       "| AC    | ENSG00000196126 | 6 | 1.302000e-16 | 4.087482e-13 |\n",
       "| PCC   | ENSG00000203710 | 1 | 4.727500e-01 | 2.501680e-01 |\n",
       "| PCC   | ENSG00000196126 | 6 | 1.767000e-14 | 6.452358e-12 |\n",
       "\n"
      ],
      "text/plain": [
       "  Proj_Name ID              CHR MODELCV.PV   New.PV      \n",
       "1 DLPFC     ENSG00000203710 1   9.920000e-04 4.151472e-02\n",
       "2 DLPFC     ENSG00000196126 6   2.883000e-20 1.699365e-15\n",
       "3 AC        ENSG00000203710 1   5.166667e-01 2.975264e-01\n",
       "4 AC        ENSG00000196126 6   1.302000e-16 4.087482e-13\n",
       "5 PCC       ENSG00000203710 1   4.727500e-01 2.501680e-01\n",
       "6 PCC       ENSG00000196126 6   1.767000e-14 6.452358e-12"
      ]
     },
     "metadata": {},
     "output_type": "display_data"
    }
   ],
   "source": [
    "exp%>%select(Proj_Name,ID,CHR,MODELCV.PV)%>%mutate(New.PV = c(a$full_model$pval[3],b$full_model$pval[3],a$full_model$pval[1],b$full_model$pval[1],a$full_model$pval[2],b$full_model$pval[2]))"
   ]
  },
  {
   "cell_type": "code",
   "execution_count": 15,
   "metadata": {
    "kernel": "R"
   },
   "outputs": [
    {
     "data": {
      "text/html": [
       "<style>\n",
       ".dl-inline {width: auto; margin:0; padding: 0}\n",
       ".dl-inline>dt, .dl-inline>dd {float: none; width: auto; display: inline-block}\n",
       ".dl-inline>dt::after {content: \":\\0020\"; padding-right: .5ex}\n",
       ".dl-inline>dt:not(:first-of-type) {padding-left: .5ex}\n",
       "</style><dl class=dl-inline><dt>V3</dt><dd>0.0415147212073617</dd><dt>V3</dt><dd>1.69936539362998e-15</dd><dt>V1</dt><dd>0.29752637500769</dd><dt>V1</dt><dd>4.08748248310163e-13</dd><dt>V2</dt><dd>0.25016800918185</dd><dt>V2</dt><dd>6.45235817531924e-12</dd></dl>\n"
      ],
      "text/latex": [
       "\\begin{description*}\n",
       "\\item[V3] 0.0415147212073617\n",
       "\\item[V3] 1.69936539362998e-15\n",
       "\\item[V1] 0.29752637500769\n",
       "\\item[V1] 4.08748248310163e-13\n",
       "\\item[V2] 0.25016800918185\n",
       "\\item[V2] 6.45235817531924e-12\n",
       "\\end{description*}\n"
      ],
      "text/markdown": [
       "V3\n",
       ":   0.0415147212073617V3\n",
       ":   1.69936539362998e-15V1\n",
       ":   0.29752637500769V1\n",
       ":   4.08748248310163e-13V2\n",
       ":   0.25016800918185V2\n",
       ":   6.45235817531924e-12\n",
       "\n"
      ],
      "text/plain": [
       "          V3           V3           V1           V1           V2           V2 \n",
       "4.151472e-02 1.699365e-15 2.975264e-01 4.087482e-13 2.501680e-01 6.452358e-12 "
      ]
     },
     "metadata": {},
     "output_type": "display_data"
    }
   ],
   "source": [
    "dir = \"/mnt/mfs/statgen/neuro-twas/whole_genome_0504/wgt/\"\n",
    "Proj = c(\"DLPFC\",\"AC\",\"PCC\")\n",
    "tmp = tibble(\n",
    "  Proj_Name = Proj\n",
    ")\n",
    "analysis = tmp%>%mutate(\n",
    "  result_data = map(Proj_Name,~read_delim(paste(dir,.x,\"/result/all_result.txt\",sep = \"\"),delim = \"\\t\")%>%filter(FILE!=\"FILE\")),\n",
    "  result_data_TWAS = map(result_data,~.x%>%filter(!TWAS.P %in% \"     NA\")%>%select(-FILE)%>%mutate(\n",
    "      MODELCV.R2 = as.numeric(MODELCV.R2),\n",
    "      MODELCV.PV = p.adjust(as.numeric(MODELCV.PV), method = \"fdr\") ,\n",
    "      TWAS.P = as.numeric(TWAS.P),\n",
    "      TWAS.P.Adj = p.adjust(TWAS.P, method = \"fdr\"))%>%filter()),\n",
    "        twas_gene = map(result_data_TWAS,~.x$ID),\n",
    "        psed_gene = map(result_data_TWAS,~.x%>%filter(TWAS.P.Adj<0.05)),\n",
    "        r2 = map(result_data_TWAS,~.x%>%pull(MODELCV.R2)%>%as.numeric%>%na.omit()%>%mean()),\n",
    "        pval = map(result_data_TWAS,~.x%>%pull(MODELCV.PV)%>%as.numeric%>%na.omit()%>%mean())\n",
    ")\n",
    "exp = analysis%>%unnest(result_data_TWAS)%>%filter(ID %in% gene$ensembl_id )%>%select(-psed_gene,-result_data,-twas_gene)%>%filter(ID %in% c(\"ENSG00000196126\",\"ENSG00000203710\") )"
   ]
  },
  {
   "cell_type": "code",
   "execution_count": null,
   "metadata": {
    "kernel": "R"
   },
   "outputs": [],
   "source": []
  },
  {
   "cell_type": "code",
   "execution_count": null,
   "metadata": {
    "kernel": "R"
   },
   "outputs": [],
   "source": []
  },
  {
   "cell_type": "code",
   "execution_count": null,
   "metadata": {
    "kernel": "R"
   },
   "outputs": [],
   "source": []
  },
  {
   "cell_type": "markdown",
   "metadata": {
    "kernel": "R"
   },
   "source": [
    "## Rerun pilot with new MV_SUSIE packages"
   ]
  },
  {
   "cell_type": "code",
   "execution_count": null,
   "metadata": {
    "kernel": "R"
   },
   "outputs": [],
   "source": [
    "nohup sos run ~/GIT/neuro-twas/workflow/mv_susie.ipynb mv_susie_cv \\\n",
    "--molecular_pheno_dir \"/mnt/mfs/statgen/neuro-twas/mv_wg/molecular_phenotype_list\" \\\n",
    "--region_list  /home/hs3163/Project/Alz/multi_susie_pilot/cand_rgs_ftr.txt \\\n",
    "--wd \"/mnt/mfs/statgen/neuro-twas/mv_s_diag/\" \\\n",
    "--name_prefix \"geneTpmResidualsAgeGenderAdj_rename\" \\\n",
    "--container /mnt/mfs/statgen/containers/twas_latest.sif \\\n",
    "--impute TRUE --job_size 1 \\\n",
    "--cv_times 100 \\\n",
    "--extract_snp \"~/Project/Alz/data/AD_sumstats_SNP\" \\\n",
    "--mixture_prior '/home/hs3163/Project/Genome_prior/mixture_prior/output/susie.teem.rds' \\\n",
    "-J 200 -q csg -c ~/GIT/neuro-twas/code/csg.yml -s build &"
   ]
  },
  {
   "cell_type": "markdown",
   "metadata": {
    "kernel": "R"
   },
   "source": [
    "## Loading of the original pilot"
   ]
  },
  {
   "cell_type": "code",
   "execution_count": 14,
   "metadata": {
    "kernel": "R"
   },
   "outputs": [],
   "source": [
    "total_ori = attach(\"~/Project/Alz/multi_susie_pilot/mv_cv.RData\")$output \n",
    "susie_data_ori = total_ori%>%select(-path)%>%mutate( \n",
    "  n_of_cs = map_dbl(model,~.x$sets$cs_index%>%length()),\n",
    "  rmse_ac = map_dbl(model,~.x$rmse[1]),\n",
    "  rmse_PCC = map_dbl(model,~.x$rmse[2]),\n",
    "  rmse_DLPFC = map_dbl(model,~.x$rmse[3]),\n",
    "  r2_ac = map_dbl(model,~.x$r2[1]%>%round(3)),\n",
    "  r2_PCC = map_dbl(model,~.x$r2[2]%>%round(3)),\n",
    "  r2_DLPFC = map_dbl(model,~.x$r2[3]%>%round(3)),\n",
    " pval_ac = map_dbl(model,~.x$pval[1]),\n",
    " pval_PCC = map_dbl(model,~.x$pval[2]),\n",
    " pval_DLPFC = map_dbl(model,~.x$pval[3])\n",
    ")"
   ]
  },
  {
   "cell_type": "code",
   "execution_count": 15,
   "metadata": {},
   "outputs": [],
   "source": [
    "susie_data_ori = susie_data_ori%>%mutate(n = map_dbl(model,~.x$snps%>%length))"
   ]
  },
  {
   "cell_type": "code",
   "execution_count": 17,
   "metadata": {},
   "outputs": [
    {
     "data": {
      "text/html": [
       "<table class=\"dataframe\">\n",
       "<caption>A tibble: 158 × 2</caption>\n",
       "<thead>\n",
       "\t<tr><th scope=col>ID</th><th scope=col>n</th></tr>\n",
       "\t<tr><th scope=col>&lt;chr&gt;</th><th scope=col>&lt;dbl&gt;</th></tr>\n",
       "</thead>\n",
       "<tbody>\n",
       "\t<tr><td>ENSG00000002587</td><td>2006</td></tr>\n",
       "\t<tr><td>ENSG00000007047</td><td>1951</td></tr>\n",
       "\t<tr><td>ENSG00000007255</td><td>1639</td></tr>\n",
       "\t<tr><td>ENSG00000022277</td><td>1903</td></tr>\n",
       "\t<tr><td>ENSG00000029725</td><td>2016</td></tr>\n",
       "\t<tr><td>ENSG00000064666</td><td>2195</td></tr>\n",
       "\t<tr><td>ENSG00000064687</td><td>2195</td></tr>\n",
       "\t<tr><td>ENSG00000065268</td><td>2233</td></tr>\n",
       "\t<tr><td>ENSG00000066923</td><td> 977</td></tr>\n",
       "\t<tr><td>ENSG00000069399</td><td>1620</td></tr>\n",
       "\t<tr><td>ENSG00000070388</td><td>2251</td></tr>\n",
       "\t<tr><td>ENSG00000073008</td><td>1660</td></tr>\n",
       "\t<tr><td>ENSG00000073921</td><td>1816</td></tr>\n",
       "\t<tr><td>ENSG00000077454</td><td>1409</td></tr>\n",
       "\t<tr><td>ENSG00000078487</td><td>1126</td></tr>\n",
       "\t<tr><td>ENSG00000085514</td><td>1077</td></tr>\n",
       "\t<tr><td>ENSG00000087589</td><td>1914</td></tr>\n",
       "\t<tr><td>ENSG00000095970</td><td>1601</td></tr>\n",
       "\t<tr><td>ENSG00000099365</td><td> 623</td></tr>\n",
       "\t<tr><td>ENSG00000099377</td><td> 613</td></tr>\n",
       "\t<tr><td>ENSG00000099817</td><td>2044</td></tr>\n",
       "\t<tr><td>ENSG00000100599</td><td>2057</td></tr>\n",
       "\t<tr><td>ENSG00000101138</td><td>1855</td></tr>\n",
       "\t<tr><td>ENSG00000103496</td><td> 621</td></tr>\n",
       "\t<tr><td>ENSG00000103507</td><td> 686</td></tr>\n",
       "\t<tr><td>ENSG00000103510</td><td> 703</td></tr>\n",
       "\t<tr><td>ENSG00000103549</td><td> 530</td></tr>\n",
       "\t<tr><td>ENSG00000103642</td><td>1560</td></tr>\n",
       "\t<tr><td>ENSG00000104228</td><td>2037</td></tr>\n",
       "\t<tr><td>ENSG00000104853</td><td>1668</td></tr>\n",
       "\t<tr><td>⋮</td><td>⋮</td></tr>\n",
       "\t<tr><td>ENSG00000197093</td><td> 894</td></tr>\n",
       "\t<tr><td>ENSG00000198087</td><td>1788</td></tr>\n",
       "\t<tr><td>ENSG00000198502</td><td>7863</td></tr>\n",
       "\t<tr><td>ENSG00000198740</td><td>1374</td></tr>\n",
       "\t<tr><td>ENSG00000203710</td><td>1371</td></tr>\n",
       "\t<tr><td>ENSG00000204264</td><td>8121</td></tr>\n",
       "\t<tr><td>ENSG00000204267</td><td>8193</td></tr>\n",
       "\t<tr><td>ENSG00000204287</td><td>7477</td></tr>\n",
       "\t<tr><td>ENSG00000204301</td><td>6865</td></tr>\n",
       "\t<tr><td>ENSG00000204304</td><td>6378</td></tr>\n",
       "\t<tr><td>ENSG00000204305</td><td>6291</td></tr>\n",
       "\t<tr><td>ENSG00000204308</td><td>6258</td></tr>\n",
       "\t<tr><td>ENSG00000204310</td><td>6218</td></tr>\n",
       "\t<tr><td>ENSG00000204314</td><td>5802</td></tr>\n",
       "\t<tr><td>ENSG00000204516</td><td>5736</td></tr>\n",
       "\t<tr><td>ENSG00000205710</td><td>1600</td></tr>\n",
       "\t<tr><td>ENSG00000213420</td><td> 894</td></tr>\n",
       "\t<tr><td>ENSG00000213654</td><td>6502</td></tr>\n",
       "\t<tr><td>ENSG00000214309</td><td> 875</td></tr>\n",
       "\t<tr><td>ENSG00000221838</td><td> 873</td></tr>\n",
       "\t<tr><td>ENSG00000223501</td><td>3193</td></tr>\n",
       "\t<tr><td>ENSG00000224389</td><td>3093</td></tr>\n",
       "\t<tr><td>ENSG00000234906</td><td>1601</td></tr>\n",
       "\t<tr><td>ENSG00000240065</td><td>8126</td></tr>\n",
       "\t<tr><td>ENSG00000241404</td><td>6071</td></tr>\n",
       "\t<tr><td>ENSG00000244731</td><td>2777</td></tr>\n",
       "\t<tr><td>ENSG00000256294</td><td>1905</td></tr>\n",
       "\t<tr><td>ENSG00000258388</td><td>6135</td></tr>\n",
       "\t<tr><td>ENSG00000264538</td><td>1036</td></tr>\n",
       "\t<tr><td>ENSG00000265148</td><td> 653</td></tr>\n",
       "</tbody>\n",
       "</table>\n"
      ],
      "text/latex": [
       "A tibble: 158 × 2\n",
       "\\begin{tabular}{ll}\n",
       " ID & n\\\\\n",
       " <chr> & <dbl>\\\\\n",
       "\\hline\n",
       "\t ENSG00000002587 & 2006\\\\\n",
       "\t ENSG00000007047 & 1951\\\\\n",
       "\t ENSG00000007255 & 1639\\\\\n",
       "\t ENSG00000022277 & 1903\\\\\n",
       "\t ENSG00000029725 & 2016\\\\\n",
       "\t ENSG00000064666 & 2195\\\\\n",
       "\t ENSG00000064687 & 2195\\\\\n",
       "\t ENSG00000065268 & 2233\\\\\n",
       "\t ENSG00000066923 &  977\\\\\n",
       "\t ENSG00000069399 & 1620\\\\\n",
       "\t ENSG00000070388 & 2251\\\\\n",
       "\t ENSG00000073008 & 1660\\\\\n",
       "\t ENSG00000073921 & 1816\\\\\n",
       "\t ENSG00000077454 & 1409\\\\\n",
       "\t ENSG00000078487 & 1126\\\\\n",
       "\t ENSG00000085514 & 1077\\\\\n",
       "\t ENSG00000087589 & 1914\\\\\n",
       "\t ENSG00000095970 & 1601\\\\\n",
       "\t ENSG00000099365 &  623\\\\\n",
       "\t ENSG00000099377 &  613\\\\\n",
       "\t ENSG00000099817 & 2044\\\\\n",
       "\t ENSG00000100599 & 2057\\\\\n",
       "\t ENSG00000101138 & 1855\\\\\n",
       "\t ENSG00000103496 &  621\\\\\n",
       "\t ENSG00000103507 &  686\\\\\n",
       "\t ENSG00000103510 &  703\\\\\n",
       "\t ENSG00000103549 &  530\\\\\n",
       "\t ENSG00000103642 & 1560\\\\\n",
       "\t ENSG00000104228 & 2037\\\\\n",
       "\t ENSG00000104853 & 1668\\\\\n",
       "\t ⋮ & ⋮\\\\\n",
       "\t ENSG00000197093 &  894\\\\\n",
       "\t ENSG00000198087 & 1788\\\\\n",
       "\t ENSG00000198502 & 7863\\\\\n",
       "\t ENSG00000198740 & 1374\\\\\n",
       "\t ENSG00000203710 & 1371\\\\\n",
       "\t ENSG00000204264 & 8121\\\\\n",
       "\t ENSG00000204267 & 8193\\\\\n",
       "\t ENSG00000204287 & 7477\\\\\n",
       "\t ENSG00000204301 & 6865\\\\\n",
       "\t ENSG00000204304 & 6378\\\\\n",
       "\t ENSG00000204305 & 6291\\\\\n",
       "\t ENSG00000204308 & 6258\\\\\n",
       "\t ENSG00000204310 & 6218\\\\\n",
       "\t ENSG00000204314 & 5802\\\\\n",
       "\t ENSG00000204516 & 5736\\\\\n",
       "\t ENSG00000205710 & 1600\\\\\n",
       "\t ENSG00000213420 &  894\\\\\n",
       "\t ENSG00000213654 & 6502\\\\\n",
       "\t ENSG00000214309 &  875\\\\\n",
       "\t ENSG00000221838 &  873\\\\\n",
       "\t ENSG00000223501 & 3193\\\\\n",
       "\t ENSG00000224389 & 3093\\\\\n",
       "\t ENSG00000234906 & 1601\\\\\n",
       "\t ENSG00000240065 & 8126\\\\\n",
       "\t ENSG00000241404 & 6071\\\\\n",
       "\t ENSG00000244731 & 2777\\\\\n",
       "\t ENSG00000256294 & 1905\\\\\n",
       "\t ENSG00000258388 & 6135\\\\\n",
       "\t ENSG00000264538 & 1036\\\\\n",
       "\t ENSG00000265148 &  653\\\\\n",
       "\\end{tabular}\n"
      ],
      "text/markdown": [
       "\n",
       "A tibble: 158 × 2\n",
       "\n",
       "| ID &lt;chr&gt; | n &lt;dbl&gt; |\n",
       "|---|---|\n",
       "| ENSG00000002587 | 2006 |\n",
       "| ENSG00000007047 | 1951 |\n",
       "| ENSG00000007255 | 1639 |\n",
       "| ENSG00000022277 | 1903 |\n",
       "| ENSG00000029725 | 2016 |\n",
       "| ENSG00000064666 | 2195 |\n",
       "| ENSG00000064687 | 2195 |\n",
       "| ENSG00000065268 | 2233 |\n",
       "| ENSG00000066923 |  977 |\n",
       "| ENSG00000069399 | 1620 |\n",
       "| ENSG00000070388 | 2251 |\n",
       "| ENSG00000073008 | 1660 |\n",
       "| ENSG00000073921 | 1816 |\n",
       "| ENSG00000077454 | 1409 |\n",
       "| ENSG00000078487 | 1126 |\n",
       "| ENSG00000085514 | 1077 |\n",
       "| ENSG00000087589 | 1914 |\n",
       "| ENSG00000095970 | 1601 |\n",
       "| ENSG00000099365 |  623 |\n",
       "| ENSG00000099377 |  613 |\n",
       "| ENSG00000099817 | 2044 |\n",
       "| ENSG00000100599 | 2057 |\n",
       "| ENSG00000101138 | 1855 |\n",
       "| ENSG00000103496 |  621 |\n",
       "| ENSG00000103507 |  686 |\n",
       "| ENSG00000103510 |  703 |\n",
       "| ENSG00000103549 |  530 |\n",
       "| ENSG00000103642 | 1560 |\n",
       "| ENSG00000104228 | 2037 |\n",
       "| ENSG00000104853 | 1668 |\n",
       "| ⋮ | ⋮ |\n",
       "| ENSG00000197093 |  894 |\n",
       "| ENSG00000198087 | 1788 |\n",
       "| ENSG00000198502 | 7863 |\n",
       "| ENSG00000198740 | 1374 |\n",
       "| ENSG00000203710 | 1371 |\n",
       "| ENSG00000204264 | 8121 |\n",
       "| ENSG00000204267 | 8193 |\n",
       "| ENSG00000204287 | 7477 |\n",
       "| ENSG00000204301 | 6865 |\n",
       "| ENSG00000204304 | 6378 |\n",
       "| ENSG00000204305 | 6291 |\n",
       "| ENSG00000204308 | 6258 |\n",
       "| ENSG00000204310 | 6218 |\n",
       "| ENSG00000204314 | 5802 |\n",
       "| ENSG00000204516 | 5736 |\n",
       "| ENSG00000205710 | 1600 |\n",
       "| ENSG00000213420 |  894 |\n",
       "| ENSG00000213654 | 6502 |\n",
       "| ENSG00000214309 |  875 |\n",
       "| ENSG00000221838 |  873 |\n",
       "| ENSG00000223501 | 3193 |\n",
       "| ENSG00000224389 | 3093 |\n",
       "| ENSG00000234906 | 1601 |\n",
       "| ENSG00000240065 | 8126 |\n",
       "| ENSG00000241404 | 6071 |\n",
       "| ENSG00000244731 | 2777 |\n",
       "| ENSG00000256294 | 1905 |\n",
       "| ENSG00000258388 | 6135 |\n",
       "| ENSG00000264538 | 1036 |\n",
       "| ENSG00000265148 |  653 |\n",
       "\n"
      ],
      "text/plain": [
       "    ID              n   \n",
       "1   ENSG00000002587 2006\n",
       "2   ENSG00000007047 1951\n",
       "3   ENSG00000007255 1639\n",
       "4   ENSG00000022277 1903\n",
       "5   ENSG00000029725 2016\n",
       "6   ENSG00000064666 2195\n",
       "7   ENSG00000064687 2195\n",
       "8   ENSG00000065268 2233\n",
       "9   ENSG00000066923  977\n",
       "10  ENSG00000069399 1620\n",
       "11  ENSG00000070388 2251\n",
       "12  ENSG00000073008 1660\n",
       "13  ENSG00000073921 1816\n",
       "14  ENSG00000077454 1409\n",
       "15  ENSG00000078487 1126\n",
       "16  ENSG00000085514 1077\n",
       "17  ENSG00000087589 1914\n",
       "18  ENSG00000095970 1601\n",
       "19  ENSG00000099365  623\n",
       "20  ENSG00000099377  613\n",
       "21  ENSG00000099817 2044\n",
       "22  ENSG00000100599 2057\n",
       "23  ENSG00000101138 1855\n",
       "24  ENSG00000103496  621\n",
       "25  ENSG00000103507  686\n",
       "26  ENSG00000103510  703\n",
       "27  ENSG00000103549  530\n",
       "28  ENSG00000103642 1560\n",
       "29  ENSG00000104228 2037\n",
       "30  ENSG00000104853 1668\n",
       "⋮   ⋮               ⋮   \n",
       "129 ENSG00000197093  894\n",
       "130 ENSG00000198087 1788\n",
       "131 ENSG00000198502 7863\n",
       "132 ENSG00000198740 1374\n",
       "133 ENSG00000203710 1371\n",
       "134 ENSG00000204264 8121\n",
       "135 ENSG00000204267 8193\n",
       "136 ENSG00000204287 7477\n",
       "137 ENSG00000204301 6865\n",
       "138 ENSG00000204304 6378\n",
       "139 ENSG00000204305 6291\n",
       "140 ENSG00000204308 6258\n",
       "141 ENSG00000204310 6218\n",
       "142 ENSG00000204314 5802\n",
       "143 ENSG00000204516 5736\n",
       "144 ENSG00000205710 1600\n",
       "145 ENSG00000213420  894\n",
       "146 ENSG00000213654 6502\n",
       "147 ENSG00000214309  875\n",
       "148 ENSG00000221838  873\n",
       "149 ENSG00000223501 3193\n",
       "150 ENSG00000224389 3093\n",
       "151 ENSG00000234906 1601\n",
       "152 ENSG00000240065 8126\n",
       "153 ENSG00000241404 6071\n",
       "154 ENSG00000244731 2777\n",
       "155 ENSG00000256294 1905\n",
       "156 ENSG00000258388 6135\n",
       "157 ENSG00000264538 1036\n",
       "158 ENSG00000265148  653"
      ]
     },
     "metadata": {},
     "output_type": "display_data"
    }
   ],
   "source": [
    "susie_data_ori%>%select(ID,n)"
   ]
  },
  {
   "cell_type": "code",
   "execution_count": 67,
   "metadata": {
    "kernel": "R"
   },
   "outputs": [],
   "source": [
    "susie_data_ori_pva_vis = susie_data_ori%>%select(ID,r2_ac,r2_PCC,r2_DLPFC)%>%pivot_longer(names_to = \"tissue\", names_prefix = \"r2_\",values_to = \"r2\",cols = r2_ac:r2_DLPFC)"
   ]
  },
  {
   "cell_type": "code",
   "execution_count": 68,
   "metadata": {
    "kernel": "R"
   },
   "outputs": [
    {
     "name": "stderr",
     "output_type": "stream",
     "text": [
      "`stat_bin()` using `bins = 30`. Pick better value with `binwidth`.\n",
      "\n",
      "Warning message:\n",
      "“Removed 6 rows containing non-finite values (stat_bin).”\n"
     ]
    },
    {
     "data": {
      "image/png": "[encoded data removed]",
      "text/plain": [
       "plot without title"
      ]
     },
     "metadata": {
      "image/png": {
       "height": 420,
       "width": 420
      }
     },
     "output_type": "display_data"
    }
   ],
   "source": [
    "susie_data_ori_pva_vis%>%ggplot(aes(x = r2))+geom_histogram()+facet_grid(~tissue)"
   ]
  },
  {
   "cell_type": "code",
   "execution_count": null,
   "metadata": {
    "kernel": "R"
   },
   "outputs": [],
   "source": []
  },
  {
   "cell_type": "markdown",
   "metadata": {
    "kernel": "R"
   },
   "source": [
    "## Loading of the new pilot"
   ]
  },
  {
   "cell_type": "code",
   "execution_count": 18,
   "metadata": {
    "kernel": "R"
   },
   "outputs": [
    {
     "name": "stderr",
     "output_type": "stream",
     "text": [
      "The following object is masked from file:~/Project/Alz/multi_susie_pilot/mv_cv.RData:\n",
      "\n",
      "    output\n",
      "\n",
      "\n"
     ]
    }
   ],
   "source": [
    "total_new = attach(\"/mnt/mfs/statgen/neuro-twas/mv_s_diag/mv_cv.RData\")$output \n",
    "susie_data = total_new%>%select(-path)%>%mutate( \n",
    "  n_of_cs = map_dbl(model,~.x$sets$cs_index%>%length()),\n",
    "  rmse_ac = map_dbl(model,~.x$rmse[1]),\n",
    "  rmse_PCC = map_dbl(model,~.x$rmse[2]),\n",
    "  rmse_DLPFC = map_dbl(model,~.x$rmse[3]),\n",
    "  r2_ac = map_dbl(model,~.x$r2[1]%>%round(3)),\n",
    "  r2_PCC = map_dbl(model,~.x$r2[2]%>%round(3)),\n",
    "  r2_DLPFC = map_dbl(model,~.x$r2[3]%>%round(3)),\n",
    " pval_ac = map_dbl(model,~.x$pval[1]),\n",
    " pval_PCC = map_dbl(model,~.x$pval[2]),\n",
    " pval_DLPFC = map_dbl(model,~.x$pval[3]),\n",
    " n = map_dbl(model,~.x$snps%>%length)\n",
    ")"
   ]
  },
  {
   "cell_type": "code",
   "execution_count": 64,
   "metadata": {
    "kernel": "R"
   },
   "outputs": [],
   "source": [
    "susie_data_pva_vis = susie_data%>%select(ID,r2_ac,r2_PCC,r2_DLPFC)%>%pivot_longer(names_to = \"tissue\", names_prefix = \"r2_\",values_to = \"r2\",cols = r2_ac:r2_DLPFC)"
   ]
  },
  {
   "cell_type": "code",
   "execution_count": 20,
   "metadata": {
    "kernel": "R"
   },
   "outputs": [
    {
     "name": "stderr",
     "output_type": "stream",
     "text": [
      "Joining, by = \"ID\"\n",
      "\n"
     ]
    },
    {
     "data": {
      "text/html": [
       "<table class=\"dataframe\">\n",
       "<caption>A tibble: 156 × 3</caption>\n",
       "<thead>\n",
       "\t<tr><th scope=col>ID</th><th scope=col>n</th><th scope=col>n1</th></tr>\n",
       "\t<tr><th scope=col>&lt;chr&gt;</th><th scope=col>&lt;dbl&gt;</th><th scope=col>&lt;dbl&gt;</th></tr>\n",
       "</thead>\n",
       "<tbody>\n",
       "\t<tr><td>ENSG00000002587</td><td>2006</td><td>1913</td></tr>\n",
       "\t<tr><td>ENSG00000007047</td><td>1951</td><td>1594</td></tr>\n",
       "\t<tr><td>ENSG00000007255</td><td>1639</td><td>1623</td></tr>\n",
       "\t<tr><td>ENSG00000022277</td><td>1903</td><td>1835</td></tr>\n",
       "\t<tr><td>ENSG00000029725</td><td>2016</td><td>1825</td></tr>\n",
       "\t<tr><td>ENSG00000064666</td><td>2195</td><td>2159</td></tr>\n",
       "\t<tr><td>ENSG00000064687</td><td>2195</td><td>2161</td></tr>\n",
       "\t<tr><td>ENSG00000065268</td><td>2233</td><td>2201</td></tr>\n",
       "\t<tr><td>ENSG00000066923</td><td> 977</td><td> 890</td></tr>\n",
       "\t<tr><td>ENSG00000069399</td><td>1620</td><td>1609</td></tr>\n",
       "\t<tr><td>ENSG00000070388</td><td>2251</td><td>2242</td></tr>\n",
       "\t<tr><td>ENSG00000073008</td><td>1660</td><td>1630</td></tr>\n",
       "\t<tr><td>ENSG00000073921</td><td>1816</td><td>1626</td></tr>\n",
       "\t<tr><td>ENSG00000077454</td><td>1409</td><td>1386</td></tr>\n",
       "\t<tr><td>ENSG00000078487</td><td>1126</td><td>1062</td></tr>\n",
       "\t<tr><td>ENSG00000085514</td><td>1077</td><td>1021</td></tr>\n",
       "\t<tr><td>ENSG00000087589</td><td>1914</td><td>1842</td></tr>\n",
       "\t<tr><td>ENSG00000095970</td><td>1601</td><td>1596</td></tr>\n",
       "\t<tr><td>ENSG00000099365</td><td> 623</td><td> 612</td></tr>\n",
       "\t<tr><td>ENSG00000099377</td><td> 613</td><td> 612</td></tr>\n",
       "\t<tr><td>ENSG00000099817</td><td>2044</td><td>2038</td></tr>\n",
       "\t<tr><td>ENSG00000100599</td><td>2057</td><td>1741</td></tr>\n",
       "\t<tr><td>ENSG00000101138</td><td>1855</td><td>1835</td></tr>\n",
       "\t<tr><td>ENSG00000103496</td><td> 621</td><td> 602</td></tr>\n",
       "\t<tr><td>ENSG00000103507</td><td> 686</td><td> 678</td></tr>\n",
       "\t<tr><td>ENSG00000103510</td><td> 703</td><td> 683</td></tr>\n",
       "\t<tr><td>ENSG00000103549</td><td> 530</td><td> 514</td></tr>\n",
       "\t<tr><td>ENSG00000103642</td><td>1560</td><td>1538</td></tr>\n",
       "\t<tr><td>ENSG00000104228</td><td>2037</td><td>1986</td></tr>\n",
       "\t<tr><td>ENSG00000104853</td><td>1668</td><td>1599</td></tr>\n",
       "\t<tr><td>⋮</td><td>⋮</td><td>⋮</td></tr>\n",
       "\t<tr><td>ENSG00000197093</td><td> 894</td><td> 887</td></tr>\n",
       "\t<tr><td>ENSG00000198087</td><td>1788</td><td>1595</td></tr>\n",
       "\t<tr><td>ENSG00000198502</td><td>7863</td><td>7738</td></tr>\n",
       "\t<tr><td>ENSG00000198740</td><td>1374</td><td>1289</td></tr>\n",
       "\t<tr><td>ENSG00000203710</td><td>1371</td><td>1092</td></tr>\n",
       "\t<tr><td>ENSG00000204264</td><td>8121</td><td>8117</td></tr>\n",
       "\t<tr><td>ENSG00000204267</td><td>8193</td><td>8165</td></tr>\n",
       "\t<tr><td>ENSG00000204287</td><td>7477</td><td>7463</td></tr>\n",
       "\t<tr><td>ENSG00000204301</td><td>6865</td><td>6485</td></tr>\n",
       "\t<tr><td>ENSG00000204304</td><td>6378</td><td>6289</td></tr>\n",
       "\t<tr><td>ENSG00000204305</td><td>6291</td><td>6259</td></tr>\n",
       "\t<tr><td>ENSG00000204308</td><td>6258</td><td>6216</td></tr>\n",
       "\t<tr><td>ENSG00000204310</td><td>6218</td><td>6067</td></tr>\n",
       "\t<tr><td>ENSG00000204314</td><td>5802</td><td>5662</td></tr>\n",
       "\t<tr><td>ENSG00000204516</td><td>5736</td><td>5718</td></tr>\n",
       "\t<tr><td>ENSG00000205710</td><td>1600</td><td>1598</td></tr>\n",
       "\t<tr><td>ENSG00000213420</td><td> 894</td><td> 888</td></tr>\n",
       "\t<tr><td>ENSG00000213654</td><td>6502</td><td>6383</td></tr>\n",
       "\t<tr><td>ENSG00000214309</td><td> 875</td><td> 871</td></tr>\n",
       "\t<tr><td>ENSG00000221838</td><td> 873</td><td> 864</td></tr>\n",
       "\t<tr><td>ENSG00000223501</td><td>3193</td><td>3144</td></tr>\n",
       "\t<tr><td>ENSG00000224389</td><td>3093</td><td>2865</td></tr>\n",
       "\t<tr><td>ENSG00000234906</td><td>1601</td><td>1597</td></tr>\n",
       "\t<tr><td>ENSG00000240065</td><td>8126</td><td>8101</td></tr>\n",
       "\t<tr><td>ENSG00000241404</td><td>6071</td><td>5992</td></tr>\n",
       "\t<tr><td>ENSG00000244731</td><td>2777</td><td>2694</td></tr>\n",
       "\t<tr><td>ENSG00000256294</td><td>1905</td><td>1879</td></tr>\n",
       "\t<tr><td>ENSG00000258388</td><td>6135</td><td>5819</td></tr>\n",
       "\t<tr><td>ENSG00000264538</td><td>1036</td><td> 937</td></tr>\n",
       "\t<tr><td>ENSG00000265148</td><td> 653</td><td> 508</td></tr>\n",
       "</tbody>\n",
       "</table>\n"
      ],
      "text/latex": [
       "A tibble: 156 × 3\n",
       "\\begin{tabular}{lll}\n",
       " ID & n & n1\\\\\n",
       " <chr> & <dbl> & <dbl>\\\\\n",
       "\\hline\n",
       "\t ENSG00000002587 & 2006 & 1913\\\\\n",
       "\t ENSG00000007047 & 1951 & 1594\\\\\n",
       "\t ENSG00000007255 & 1639 & 1623\\\\\n",
       "\t ENSG00000022277 & 1903 & 1835\\\\\n",
       "\t ENSG00000029725 & 2016 & 1825\\\\\n",
       "\t ENSG00000064666 & 2195 & 2159\\\\\n",
       "\t ENSG00000064687 & 2195 & 2161\\\\\n",
       "\t ENSG00000065268 & 2233 & 2201\\\\\n",
       "\t ENSG00000066923 &  977 &  890\\\\\n",
       "\t ENSG00000069399 & 1620 & 1609\\\\\n",
       "\t ENSG00000070388 & 2251 & 2242\\\\\n",
       "\t ENSG00000073008 & 1660 & 1630\\\\\n",
       "\t ENSG00000073921 & 1816 & 1626\\\\\n",
       "\t ENSG00000077454 & 1409 & 1386\\\\\n",
       "\t ENSG00000078487 & 1126 & 1062\\\\\n",
       "\t ENSG00000085514 & 1077 & 1021\\\\\n",
       "\t ENSG00000087589 & 1914 & 1842\\\\\n",
       "\t ENSG00000095970 & 1601 & 1596\\\\\n",
       "\t ENSG00000099365 &  623 &  612\\\\\n",
       "\t ENSG00000099377 &  613 &  612\\\\\n",
       "\t ENSG00000099817 & 2044 & 2038\\\\\n",
       "\t ENSG00000100599 & 2057 & 1741\\\\\n",
       "\t ENSG00000101138 & 1855 & 1835\\\\\n",
       "\t ENSG00000103496 &  621 &  602\\\\\n",
       "\t ENSG00000103507 &  686 &  678\\\\\n",
       "\t ENSG00000103510 &  703 &  683\\\\\n",
       "\t ENSG00000103549 &  530 &  514\\\\\n",
       "\t ENSG00000103642 & 1560 & 1538\\\\\n",
       "\t ENSG00000104228 & 2037 & 1986\\\\\n",
       "\t ENSG00000104853 & 1668 & 1599\\\\\n",
       "\t ⋮ & ⋮ & ⋮\\\\\n",
       "\t ENSG00000197093 &  894 &  887\\\\\n",
       "\t ENSG00000198087 & 1788 & 1595\\\\\n",
       "\t ENSG00000198502 & 7863 & 7738\\\\\n",
       "\t ENSG00000198740 & 1374 & 1289\\\\\n",
       "\t ENSG00000203710 & 1371 & 1092\\\\\n",
       "\t ENSG00000204264 & 8121 & 8117\\\\\n",
       "\t ENSG00000204267 & 8193 & 8165\\\\\n",
       "\t ENSG00000204287 & 7477 & 7463\\\\\n",
       "\t ENSG00000204301 & 6865 & 6485\\\\\n",
       "\t ENSG00000204304 & 6378 & 6289\\\\\n",
       "\t ENSG00000204305 & 6291 & 6259\\\\\n",
       "\t ENSG00000204308 & 6258 & 6216\\\\\n",
       "\t ENSG00000204310 & 6218 & 6067\\\\\n",
       "\t ENSG00000204314 & 5802 & 5662\\\\\n",
       "\t ENSG00000204516 & 5736 & 5718\\\\\n",
       "\t ENSG00000205710 & 1600 & 1598\\\\\n",
       "\t ENSG00000213420 &  894 &  888\\\\\n",
       "\t ENSG00000213654 & 6502 & 6383\\\\\n",
       "\t ENSG00000214309 &  875 &  871\\\\\n",
       "\t ENSG00000221838 &  873 &  864\\\\\n",
       "\t ENSG00000223501 & 3193 & 3144\\\\\n",
       "\t ENSG00000224389 & 3093 & 2865\\\\\n",
       "\t ENSG00000234906 & 1601 & 1597\\\\\n",
       "\t ENSG00000240065 & 8126 & 8101\\\\\n",
       "\t ENSG00000241404 & 6071 & 5992\\\\\n",
       "\t ENSG00000244731 & 2777 & 2694\\\\\n",
       "\t ENSG00000256294 & 1905 & 1879\\\\\n",
       "\t ENSG00000258388 & 6135 & 5819\\\\\n",
       "\t ENSG00000264538 & 1036 &  937\\\\\n",
       "\t ENSG00000265148 &  653 &  508\\\\\n",
       "\\end{tabular}\n"
      ],
      "text/markdown": [
       "\n",
       "A tibble: 156 × 3\n",
       "\n",
       "| ID &lt;chr&gt; | n &lt;dbl&gt; | n1 &lt;dbl&gt; |\n",
       "|---|---|---|\n",
       "| ENSG00000002587 | 2006 | 1913 |\n",
       "| ENSG00000007047 | 1951 | 1594 |\n",
       "| ENSG00000007255 | 1639 | 1623 |\n",
       "| ENSG00000022277 | 1903 | 1835 |\n",
       "| ENSG00000029725 | 2016 | 1825 |\n",
       "| ENSG00000064666 | 2195 | 2159 |\n",
       "| ENSG00000064687 | 2195 | 2161 |\n",
       "| ENSG00000065268 | 2233 | 2201 |\n",
       "| ENSG00000066923 |  977 |  890 |\n",
       "| ENSG00000069399 | 1620 | 1609 |\n",
       "| ENSG00000070388 | 2251 | 2242 |\n",
       "| ENSG00000073008 | 1660 | 1630 |\n",
       "| ENSG00000073921 | 1816 | 1626 |\n",
       "| ENSG00000077454 | 1409 | 1386 |\n",
       "| ENSG00000078487 | 1126 | 1062 |\n",
       "| ENSG00000085514 | 1077 | 1021 |\n",
       "| ENSG00000087589 | 1914 | 1842 |\n",
       "| ENSG00000095970 | 1601 | 1596 |\n",
       "| ENSG00000099365 |  623 |  612 |\n",
       "| ENSG00000099377 |  613 |  612 |\n",
       "| ENSG00000099817 | 2044 | 2038 |\n",
       "| ENSG00000100599 | 2057 | 1741 |\n",
       "| ENSG00000101138 | 1855 | 1835 |\n",
       "| ENSG00000103496 |  621 |  602 |\n",
       "| ENSG00000103507 |  686 |  678 |\n",
       "| ENSG00000103510 |  703 |  683 |\n",
       "| ENSG00000103549 |  530 |  514 |\n",
       "| ENSG00000103642 | 1560 | 1538 |\n",
       "| ENSG00000104228 | 2037 | 1986 |\n",
       "| ENSG00000104853 | 1668 | 1599 |\n",
       "| ⋮ | ⋮ | ⋮ |\n",
       "| ENSG00000197093 |  894 |  887 |\n",
       "| ENSG00000198087 | 1788 | 1595 |\n",
       "| ENSG00000198502 | 7863 | 7738 |\n",
       "| ENSG00000198740 | 1374 | 1289 |\n",
       "| ENSG00000203710 | 1371 | 1092 |\n",
       "| ENSG00000204264 | 8121 | 8117 |\n",
       "| ENSG00000204267 | 8193 | 8165 |\n",
       "| ENSG00000204287 | 7477 | 7463 |\n",
       "| ENSG00000204301 | 6865 | 6485 |\n",
       "| ENSG00000204304 | 6378 | 6289 |\n",
       "| ENSG00000204305 | 6291 | 6259 |\n",
       "| ENSG00000204308 | 6258 | 6216 |\n",
       "| ENSG00000204310 | 6218 | 6067 |\n",
       "| ENSG00000204314 | 5802 | 5662 |\n",
       "| ENSG00000204516 | 5736 | 5718 |\n",
       "| ENSG00000205710 | 1600 | 1598 |\n",
       "| ENSG00000213420 |  894 |  888 |\n",
       "| ENSG00000213654 | 6502 | 6383 |\n",
       "| ENSG00000214309 |  875 |  871 |\n",
       "| ENSG00000221838 |  873 |  864 |\n",
       "| ENSG00000223501 | 3193 | 3144 |\n",
       "| ENSG00000224389 | 3093 | 2865 |\n",
       "| ENSG00000234906 | 1601 | 1597 |\n",
       "| ENSG00000240065 | 8126 | 8101 |\n",
       "| ENSG00000241404 | 6071 | 5992 |\n",
       "| ENSG00000244731 | 2777 | 2694 |\n",
       "| ENSG00000256294 | 1905 | 1879 |\n",
       "| ENSG00000258388 | 6135 | 5819 |\n",
       "| ENSG00000264538 | 1036 |  937 |\n",
       "| ENSG00000265148 |  653 |  508 |\n",
       "\n"
      ],
      "text/plain": [
       "    ID              n    n1  \n",
       "1   ENSG00000002587 2006 1913\n",
       "2   ENSG00000007047 1951 1594\n",
       "3   ENSG00000007255 1639 1623\n",
       "4   ENSG00000022277 1903 1835\n",
       "5   ENSG00000029725 2016 1825\n",
       "6   ENSG00000064666 2195 2159\n",
       "7   ENSG00000064687 2195 2161\n",
       "8   ENSG00000065268 2233 2201\n",
       "9   ENSG00000066923  977  890\n",
       "10  ENSG00000069399 1620 1609\n",
       "11  ENSG00000070388 2251 2242\n",
       "12  ENSG00000073008 1660 1630\n",
       "13  ENSG00000073921 1816 1626\n",
       "14  ENSG00000077454 1409 1386\n",
       "15  ENSG00000078487 1126 1062\n",
       "16  ENSG00000085514 1077 1021\n",
       "17  ENSG00000087589 1914 1842\n",
       "18  ENSG00000095970 1601 1596\n",
       "19  ENSG00000099365  623  612\n",
       "20  ENSG00000099377  613  612\n",
       "21  ENSG00000099817 2044 2038\n",
       "22  ENSG00000100599 2057 1741\n",
       "23  ENSG00000101138 1855 1835\n",
       "24  ENSG00000103496  621  602\n",
       "25  ENSG00000103507  686  678\n",
       "26  ENSG00000103510  703  683\n",
       "27  ENSG00000103549  530  514\n",
       "28  ENSG00000103642 1560 1538\n",
       "29  ENSG00000104228 2037 1986\n",
       "30  ENSG00000104853 1668 1599\n",
       "⋮   ⋮               ⋮    ⋮   \n",
       "127 ENSG00000197093  894  887\n",
       "128 ENSG00000198087 1788 1595\n",
       "129 ENSG00000198502 7863 7738\n",
       "130 ENSG00000198740 1374 1289\n",
       "131 ENSG00000203710 1371 1092\n",
       "132 ENSG00000204264 8121 8117\n",
       "133 ENSG00000204267 8193 8165\n",
       "134 ENSG00000204287 7477 7463\n",
       "135 ENSG00000204301 6865 6485\n",
       "136 ENSG00000204304 6378 6289\n",
       "137 ENSG00000204305 6291 6259\n",
       "138 ENSG00000204308 6258 6216\n",
       "139 ENSG00000204310 6218 6067\n",
       "140 ENSG00000204314 5802 5662\n",
       "141 ENSG00000204516 5736 5718\n",
       "142 ENSG00000205710 1600 1598\n",
       "143 ENSG00000213420  894  888\n",
       "144 ENSG00000213654 6502 6383\n",
       "145 ENSG00000214309  875  871\n",
       "146 ENSG00000221838  873  864\n",
       "147 ENSG00000223501 3193 3144\n",
       "148 ENSG00000224389 3093 2865\n",
       "149 ENSG00000234906 1601 1597\n",
       "150 ENSG00000240065 8126 8101\n",
       "151 ENSG00000241404 6071 5992\n",
       "152 ENSG00000244731 2777 2694\n",
       "153 ENSG00000256294 1905 1879\n",
       "154 ENSG00000258388 6135 5819\n",
       "155 ENSG00000264538 1036  937\n",
       "156 ENSG00000265148  653  508"
      ]
     },
     "metadata": {},
     "output_type": "display_data"
    }
   ],
   "source": [
    "inner_join(susie_data_ori%>%select(ID,n),susie_data%>%select(ID,n1 = n))"
   ]
  },
  {
   "cell_type": "code",
   "execution_count": 63,
   "metadata": {
    "kernel": "R"
   },
   "outputs": [
    {
     "data": {
      "text/html": [
       "<style>\n",
       ".list-inline {list-style: none; margin:0; padding: 0}\n",
       ".list-inline>li {display: inline-block}\n",
       ".list-inline>li:not(:last-child)::after {content: \"\\00b7\"; padding: 0 .5ex}\n",
       "</style>\n",
       "<ol class=list-inline><li>'ID'</li><li>'env'</li><li>'tb_name'</li><li>'model'</li><li>'n_of_cs'</li><li>'rmse_ac'</li><li>'rmse_PCC'</li><li>'rmse_DLPFC'</li><li>'r2_ac'</li><li>'r2_PCC'</li><li>'r2_DLPFC'</li><li>'pval_ac'</li><li>'pval_PCC'</li><li>'pval_DLPFC'</li></ol>\n"
      ],
      "text/latex": [
       "\\begin{enumerate*}\n",
       "\\item 'ID'\n",
       "\\item 'env'\n",
       "\\item 'tb\\_name'\n",
       "\\item 'model'\n",
       "\\item 'n\\_of\\_cs'\n",
       "\\item 'rmse\\_ac'\n",
       "\\item 'rmse\\_PCC'\n",
       "\\item 'rmse\\_DLPFC'\n",
       "\\item 'r2\\_ac'\n",
       "\\item 'r2\\_PCC'\n",
       "\\item 'r2\\_DLPFC'\n",
       "\\item 'pval\\_ac'\n",
       "\\item 'pval\\_PCC'\n",
       "\\item 'pval\\_DLPFC'\n",
       "\\end{enumerate*}\n"
      ],
      "text/markdown": [
       "1. 'ID'\n",
       "2. 'env'\n",
       "3. 'tb_name'\n",
       "4. 'model'\n",
       "5. 'n_of_cs'\n",
       "6. 'rmse_ac'\n",
       "7. 'rmse_PCC'\n",
       "8. 'rmse_DLPFC'\n",
       "9. 'r2_ac'\n",
       "10. 'r2_PCC'\n",
       "11. 'r2_DLPFC'\n",
       "12. 'pval_ac'\n",
       "13. 'pval_PCC'\n",
       "14. 'pval_DLPFC'\n",
       "\n",
       "\n"
      ],
      "text/plain": [
       " [1] \"ID\"         \"env\"        \"tb_name\"    \"model\"      \"n_of_cs\"   \n",
       " [6] \"rmse_ac\"    \"rmse_PCC\"   \"rmse_DLPFC\" \"r2_ac\"      \"r2_PCC\"    \n",
       "[11] \"r2_DLPFC\"   \"pval_ac\"    \"pval_PCC\"   \"pval_DLPFC\""
      ]
     },
     "metadata": {},
     "output_type": "display_data"
    }
   ],
   "source": [
    "susie_data%>%colnames"
   ]
  },
  {
   "cell_type": "code",
   "execution_count": null,
   "metadata": {
    "kernel": "R"
   },
   "outputs": [],
   "source": []
  },
  {
   "cell_type": "code",
   "execution_count": 69,
   "metadata": {
    "kernel": "R"
   },
   "outputs": [
    {
     "name": "stderr",
     "output_type": "stream",
     "text": [
      "`stat_bin()` using `bins = 30`. Pick better value with `binwidth`.\n",
      "\n"
     ]
    },
    {
     "data": {
      "image/png": "[encoded data removed]",
      "text/plain": [
       "plot without title"
      ]
     },
     "metadata": {
      "image/png": {
       "height": 420,
       "width": 420
      }
     },
     "output_type": "display_data"
    }
   ],
   "source": [
    "susie_data_pva_vis%>%ggplot(aes(x = r2))+geom_histogram()+facet_grid(~tissue)"
   ]
  },
  {
   "cell_type": "code",
   "execution_count": null,
   "metadata": {
    "kernel": "R"
   },
   "outputs": [],
   "source": [
    "## Relationships between the two datasets"
   ]
  },
  {
   "cell_type": "code",
   "execution_count": 70,
   "metadata": {
    "kernel": "R"
   },
   "outputs": [],
   "source": [
    "pval_comp = inner_join(susie_data_pva_vis,susie_data_ori_pva_vis,by = c(\"ID\",\"tissue\") )%>%select(ID,tissue,mvsusieR_pv = r2.x, mmbr_pv = r2.y)"
   ]
  },
  {
   "cell_type": "code",
   "execution_count": 71,
   "metadata": {
    "kernel": "R"
   },
   "outputs": [
    {
     "data": {
      "text/html": [
       "<table class=\"dataframe\">\n",
       "<caption>A tibble: 468 × 4</caption>\n",
       "<thead>\n",
       "\t<tr><th scope=col>ID</th><th scope=col>tissue</th><th scope=col>mvsusieR_pv</th><th scope=col>mmbr_pv</th></tr>\n",
       "\t<tr><th scope=col>&lt;chr&gt;</th><th scope=col>&lt;chr&gt;</th><th scope=col>&lt;dbl&gt;</th><th scope=col>&lt;dbl&gt;</th></tr>\n",
       "</thead>\n",
       "<tbody>\n",
       "\t<tr><td>ENSG00000002587</td><td>ac   </td><td>0.303</td><td> 0.002</td></tr>\n",
       "\t<tr><td>ENSG00000002587</td><td>PCC  </td><td>0.301</td><td>-0.003</td></tr>\n",
       "\t<tr><td>ENSG00000002587</td><td>DLPFC</td><td>0.303</td><td>-0.002</td></tr>\n",
       "\t<tr><td>ENSG00000007047</td><td>ac   </td><td>0.363</td><td> 0.044</td></tr>\n",
       "\t<tr><td>ENSG00000007047</td><td>PCC  </td><td>0.362</td><td> 0.095</td></tr>\n",
       "\t<tr><td>ENSG00000007047</td><td>DLPFC</td><td>0.364</td><td> 0.096</td></tr>\n",
       "\t<tr><td>ENSG00000007255</td><td>ac   </td><td>0.240</td><td> 0.004</td></tr>\n",
       "\t<tr><td>ENSG00000007255</td><td>PCC  </td><td>0.239</td><td>-0.003</td></tr>\n",
       "\t<tr><td>ENSG00000007255</td><td>DLPFC</td><td>0.238</td><td>-0.003</td></tr>\n",
       "\t<tr><td>ENSG00000022277</td><td>ac   </td><td>0.267</td><td>-0.001</td></tr>\n",
       "\t<tr><td>ENSG00000022277</td><td>PCC  </td><td>0.267</td><td>-0.003</td></tr>\n",
       "\t<tr><td>ENSG00000022277</td><td>DLPFC</td><td>0.267</td><td> 0.001</td></tr>\n",
       "\t<tr><td>ENSG00000029725</td><td>ac   </td><td>0.021</td><td> 0.008</td></tr>\n",
       "\t<tr><td>ENSG00000029725</td><td>PCC  </td><td>0.024</td><td> 0.016</td></tr>\n",
       "\t<tr><td>ENSG00000029725</td><td>DLPFC</td><td>0.034</td><td> 0.050</td></tr>\n",
       "\t<tr><td>ENSG00000064666</td><td>ac   </td><td>0.031</td><td> 0.086</td></tr>\n",
       "\t<tr><td>ENSG00000064666</td><td>PCC  </td><td>0.045</td><td> 0.106</td></tr>\n",
       "\t<tr><td>ENSG00000064666</td><td>DLPFC</td><td>0.033</td><td> 0.101</td></tr>\n",
       "\t<tr><td>ENSG00000064687</td><td>ac   </td><td>0.048</td><td> 0.023</td></tr>\n",
       "\t<tr><td>ENSG00000064687</td><td>PCC  </td><td>0.048</td><td> 0.007</td></tr>\n",
       "\t<tr><td>ENSG00000064687</td><td>DLPFC</td><td>0.051</td><td> 0.014</td></tr>\n",
       "\t<tr><td>ENSG00000065268</td><td>ac   </td><td>0.146</td><td> 0.229</td></tr>\n",
       "\t<tr><td>ENSG00000065268</td><td>PCC  </td><td>0.134</td><td> 0.205</td></tr>\n",
       "\t<tr><td>ENSG00000065268</td><td>DLPFC</td><td>0.041</td><td> 0.062</td></tr>\n",
       "\t<tr><td>ENSG00000066923</td><td>ac   </td><td>0.186</td><td> 0.000</td></tr>\n",
       "\t<tr><td>ENSG00000066923</td><td>PCC  </td><td>0.187</td><td> 0.012</td></tr>\n",
       "\t<tr><td>ENSG00000066923</td><td>DLPFC</td><td>0.186</td><td>-0.001</td></tr>\n",
       "\t<tr><td>ENSG00000069399</td><td>ac   </td><td>0.258</td><td>-0.003</td></tr>\n",
       "\t<tr><td>ENSG00000069399</td><td>PCC  </td><td>0.259</td><td>-0.003</td></tr>\n",
       "\t<tr><td>ENSG00000069399</td><td>DLPFC</td><td>0.259</td><td>-0.003</td></tr>\n",
       "\t<tr><td>⋮</td><td>⋮</td><td>⋮</td><td>⋮</td></tr>\n",
       "\t<tr><td>ENSG00000223501</td><td>ac   </td><td>0.130</td><td> 0.016</td></tr>\n",
       "\t<tr><td>ENSG00000223501</td><td>PCC  </td><td>0.126</td><td> 0.000</td></tr>\n",
       "\t<tr><td>ENSG00000223501</td><td>DLPFC</td><td>0.126</td><td> 0.001</td></tr>\n",
       "\t<tr><td>ENSG00000224389</td><td>ac   </td><td>0.027</td><td> 0.052</td></tr>\n",
       "\t<tr><td>ENSG00000224389</td><td>PCC  </td><td>0.025</td><td> 0.046</td></tr>\n",
       "\t<tr><td>ENSG00000224389</td><td>DLPFC</td><td>0.010</td><td> 0.017</td></tr>\n",
       "\t<tr><td>ENSG00000234906</td><td>ac   </td><td>0.193</td><td> 0.037</td></tr>\n",
       "\t<tr><td>ENSG00000234906</td><td>PCC  </td><td>0.188</td><td>-0.001</td></tr>\n",
       "\t<tr><td>ENSG00000234906</td><td>DLPFC</td><td>0.188</td><td>-0.001</td></tr>\n",
       "\t<tr><td>ENSG00000240065</td><td>ac   </td><td>0.054</td><td> 0.061</td></tr>\n",
       "\t<tr><td>ENSG00000240065</td><td>PCC  </td><td>0.063</td><td> 0.065</td></tr>\n",
       "\t<tr><td>ENSG00000240065</td><td>DLPFC</td><td>0.046</td><td> 0.023</td></tr>\n",
       "\t<tr><td>ENSG00000241404</td><td>ac   </td><td>0.035</td><td>-0.001</td></tr>\n",
       "\t<tr><td>ENSG00000241404</td><td>PCC  </td><td>0.044</td><td> 0.012</td></tr>\n",
       "\t<tr><td>ENSG00000241404</td><td>DLPFC</td><td>0.038</td><td> 0.004</td></tr>\n",
       "\t<tr><td>ENSG00000244731</td><td>ac   </td><td>0.150</td><td> 0.221</td></tr>\n",
       "\t<tr><td>ENSG00000244731</td><td>PCC  </td><td>0.088</td><td> 0.141</td></tr>\n",
       "\t<tr><td>ENSG00000244731</td><td>DLPFC</td><td>0.047</td><td> 0.060</td></tr>\n",
       "\t<tr><td>ENSG00000256294</td><td>ac   </td><td>0.256</td><td>-0.002</td></tr>\n",
       "\t<tr><td>ENSG00000256294</td><td>PCC  </td><td>0.256</td><td>-0.003</td></tr>\n",
       "\t<tr><td>ENSG00000256294</td><td>DLPFC</td><td>0.256</td><td> 0.000</td></tr>\n",
       "\t<tr><td>ENSG00000258388</td><td>ac   </td><td>0.386</td><td> 0.001</td></tr>\n",
       "\t<tr><td>ENSG00000258388</td><td>PCC  </td><td>0.387</td><td>-0.004</td></tr>\n",
       "\t<tr><td>ENSG00000258388</td><td>DLPFC</td><td>0.388</td><td> 0.001</td></tr>\n",
       "\t<tr><td>ENSG00000264538</td><td>ac   </td><td>0.057</td><td> 0.224</td></tr>\n",
       "\t<tr><td>ENSG00000264538</td><td>PCC  </td><td>0.055</td><td> 0.238</td></tr>\n",
       "\t<tr><td>ENSG00000264538</td><td>DLPFC</td><td>0.059</td><td> 0.254</td></tr>\n",
       "\t<tr><td>ENSG00000265148</td><td>ac   </td><td>0.376</td><td>-0.003</td></tr>\n",
       "\t<tr><td>ENSG00000265148</td><td>PCC  </td><td>0.375</td><td>-0.003</td></tr>\n",
       "\t<tr><td>ENSG00000265148</td><td>DLPFC</td><td>0.376</td><td>-0.001</td></tr>\n",
       "</tbody>\n",
       "</table>\n"
      ],
      "text/latex": [
       "A tibble: 468 × 4\n",
       "\\begin{tabular}{llll}\n",
       " ID & tissue & mvsusieR\\_pv & mmbr\\_pv\\\\\n",
       " <chr> & <chr> & <dbl> & <dbl>\\\\\n",
       "\\hline\n",
       "\t ENSG00000002587 & ac    & 0.303 &  0.002\\\\\n",
       "\t ENSG00000002587 & PCC   & 0.301 & -0.003\\\\\n",
       "\t ENSG00000002587 & DLPFC & 0.303 & -0.002\\\\\n",
       "\t ENSG00000007047 & ac    & 0.363 &  0.044\\\\\n",
       "\t ENSG00000007047 & PCC   & 0.362 &  0.095\\\\\n",
       "\t ENSG00000007047 & DLPFC & 0.364 &  0.096\\\\\n",
       "\t ENSG00000007255 & ac    & 0.240 &  0.004\\\\\n",
       "\t ENSG00000007255 & PCC   & 0.239 & -0.003\\\\\n",
       "\t ENSG00000007255 & DLPFC & 0.238 & -0.003\\\\\n",
       "\t ENSG00000022277 & ac    & 0.267 & -0.001\\\\\n",
       "\t ENSG00000022277 & PCC   & 0.267 & -0.003\\\\\n",
       "\t ENSG00000022277 & DLPFC & 0.267 &  0.001\\\\\n",
       "\t ENSG00000029725 & ac    & 0.021 &  0.008\\\\\n",
       "\t ENSG00000029725 & PCC   & 0.024 &  0.016\\\\\n",
       "\t ENSG00000029725 & DLPFC & 0.034 &  0.050\\\\\n",
       "\t ENSG00000064666 & ac    & 0.031 &  0.086\\\\\n",
       "\t ENSG00000064666 & PCC   & 0.045 &  0.106\\\\\n",
       "\t ENSG00000064666 & DLPFC & 0.033 &  0.101\\\\\n",
       "\t ENSG00000064687 & ac    & 0.048 &  0.023\\\\\n",
       "\t ENSG00000064687 & PCC   & 0.048 &  0.007\\\\\n",
       "\t ENSG00000064687 & DLPFC & 0.051 &  0.014\\\\\n",
       "\t ENSG00000065268 & ac    & 0.146 &  0.229\\\\\n",
       "\t ENSG00000065268 & PCC   & 0.134 &  0.205\\\\\n",
       "\t ENSG00000065268 & DLPFC & 0.041 &  0.062\\\\\n",
       "\t ENSG00000066923 & ac    & 0.186 &  0.000\\\\\n",
       "\t ENSG00000066923 & PCC   & 0.187 &  0.012\\\\\n",
       "\t ENSG00000066923 & DLPFC & 0.186 & -0.001\\\\\n",
       "\t ENSG00000069399 & ac    & 0.258 & -0.003\\\\\n",
       "\t ENSG00000069399 & PCC   & 0.259 & -0.003\\\\\n",
       "\t ENSG00000069399 & DLPFC & 0.259 & -0.003\\\\\n",
       "\t ⋮ & ⋮ & ⋮ & ⋮\\\\\n",
       "\t ENSG00000223501 & ac    & 0.130 &  0.016\\\\\n",
       "\t ENSG00000223501 & PCC   & 0.126 &  0.000\\\\\n",
       "\t ENSG00000223501 & DLPFC & 0.126 &  0.001\\\\\n",
       "\t ENSG00000224389 & ac    & 0.027 &  0.052\\\\\n",
       "\t ENSG00000224389 & PCC   & 0.025 &  0.046\\\\\n",
       "\t ENSG00000224389 & DLPFC & 0.010 &  0.017\\\\\n",
       "\t ENSG00000234906 & ac    & 0.193 &  0.037\\\\\n",
       "\t ENSG00000234906 & PCC   & 0.188 & -0.001\\\\\n",
       "\t ENSG00000234906 & DLPFC & 0.188 & -0.001\\\\\n",
       "\t ENSG00000240065 & ac    & 0.054 &  0.061\\\\\n",
       "\t ENSG00000240065 & PCC   & 0.063 &  0.065\\\\\n",
       "\t ENSG00000240065 & DLPFC & 0.046 &  0.023\\\\\n",
       "\t ENSG00000241404 & ac    & 0.035 & -0.001\\\\\n",
       "\t ENSG00000241404 & PCC   & 0.044 &  0.012\\\\\n",
       "\t ENSG00000241404 & DLPFC & 0.038 &  0.004\\\\\n",
       "\t ENSG00000244731 & ac    & 0.150 &  0.221\\\\\n",
       "\t ENSG00000244731 & PCC   & 0.088 &  0.141\\\\\n",
       "\t ENSG00000244731 & DLPFC & 0.047 &  0.060\\\\\n",
       "\t ENSG00000256294 & ac    & 0.256 & -0.002\\\\\n",
       "\t ENSG00000256294 & PCC   & 0.256 & -0.003\\\\\n",
       "\t ENSG00000256294 & DLPFC & 0.256 &  0.000\\\\\n",
       "\t ENSG00000258388 & ac    & 0.386 &  0.001\\\\\n",
       "\t ENSG00000258388 & PCC   & 0.387 & -0.004\\\\\n",
       "\t ENSG00000258388 & DLPFC & 0.388 &  0.001\\\\\n",
       "\t ENSG00000264538 & ac    & 0.057 &  0.224\\\\\n",
       "\t ENSG00000264538 & PCC   & 0.055 &  0.238\\\\\n",
       "\t ENSG00000264538 & DLPFC & 0.059 &  0.254\\\\\n",
       "\t ENSG00000265148 & ac    & 0.376 & -0.003\\\\\n",
       "\t ENSG00000265148 & PCC   & 0.375 & -0.003\\\\\n",
       "\t ENSG00000265148 & DLPFC & 0.376 & -0.001\\\\\n",
       "\\end{tabular}\n"
      ],
      "text/markdown": [
       "\n",
       "A tibble: 468 × 4\n",
       "\n",
       "| ID &lt;chr&gt; | tissue &lt;chr&gt; | mvsusieR_pv &lt;dbl&gt; | mmbr_pv &lt;dbl&gt; |\n",
       "|---|---|---|---|\n",
       "| ENSG00000002587 | ac    | 0.303 |  0.002 |\n",
       "| ENSG00000002587 | PCC   | 0.301 | -0.003 |\n",
       "| ENSG00000002587 | DLPFC | 0.303 | -0.002 |\n",
       "| ENSG00000007047 | ac    | 0.363 |  0.044 |\n",
       "| ENSG00000007047 | PCC   | 0.362 |  0.095 |\n",
       "| ENSG00000007047 | DLPFC | 0.364 |  0.096 |\n",
       "| ENSG00000007255 | ac    | 0.240 |  0.004 |\n",
       "| ENSG00000007255 | PCC   | 0.239 | -0.003 |\n",
       "| ENSG00000007255 | DLPFC | 0.238 | -0.003 |\n",
       "| ENSG00000022277 | ac    | 0.267 | -0.001 |\n",
       "| ENSG00000022277 | PCC   | 0.267 | -0.003 |\n",
       "| ENSG00000022277 | DLPFC | 0.267 |  0.001 |\n",
       "| ENSG00000029725 | ac    | 0.021 |  0.008 |\n",
       "| ENSG00000029725 | PCC   | 0.024 |  0.016 |\n",
       "| ENSG00000029725 | DLPFC | 0.034 |  0.050 |\n",
       "| ENSG00000064666 | ac    | 0.031 |  0.086 |\n",
       "| ENSG00000064666 | PCC   | 0.045 |  0.106 |\n",
       "| ENSG00000064666 | DLPFC | 0.033 |  0.101 |\n",
       "| ENSG00000064687 | ac    | 0.048 |  0.023 |\n",
       "| ENSG00000064687 | PCC   | 0.048 |  0.007 |\n",
       "| ENSG00000064687 | DLPFC | 0.051 |  0.014 |\n",
       "| ENSG00000065268 | ac    | 0.146 |  0.229 |\n",
       "| ENSG00000065268 | PCC   | 0.134 |  0.205 |\n",
       "| ENSG00000065268 | DLPFC | 0.041 |  0.062 |\n",
       "| ENSG00000066923 | ac    | 0.186 |  0.000 |\n",
       "| ENSG00000066923 | PCC   | 0.187 |  0.012 |\n",
       "| ENSG00000066923 | DLPFC | 0.186 | -0.001 |\n",
       "| ENSG00000069399 | ac    | 0.258 | -0.003 |\n",
       "| ENSG00000069399 | PCC   | 0.259 | -0.003 |\n",
       "| ENSG00000069399 | DLPFC | 0.259 | -0.003 |\n",
       "| ⋮ | ⋮ | ⋮ | ⋮ |\n",
       "| ENSG00000223501 | ac    | 0.130 |  0.016 |\n",
       "| ENSG00000223501 | PCC   | 0.126 |  0.000 |\n",
       "| ENSG00000223501 | DLPFC | 0.126 |  0.001 |\n",
       "| ENSG00000224389 | ac    | 0.027 |  0.052 |\n",
       "| ENSG00000224389 | PCC   | 0.025 |  0.046 |\n",
       "| ENSG00000224389 | DLPFC | 0.010 |  0.017 |\n",
       "| ENSG00000234906 | ac    | 0.193 |  0.037 |\n",
       "| ENSG00000234906 | PCC   | 0.188 | -0.001 |\n",
       "| ENSG00000234906 | DLPFC | 0.188 | -0.001 |\n",
       "| ENSG00000240065 | ac    | 0.054 |  0.061 |\n",
       "| ENSG00000240065 | PCC   | 0.063 |  0.065 |\n",
       "| ENSG00000240065 | DLPFC | 0.046 |  0.023 |\n",
       "| ENSG00000241404 | ac    | 0.035 | -0.001 |\n",
       "| ENSG00000241404 | PCC   | 0.044 |  0.012 |\n",
       "| ENSG00000241404 | DLPFC | 0.038 |  0.004 |\n",
       "| ENSG00000244731 | ac    | 0.150 |  0.221 |\n",
       "| ENSG00000244731 | PCC   | 0.088 |  0.141 |\n",
       "| ENSG00000244731 | DLPFC | 0.047 |  0.060 |\n",
       "| ENSG00000256294 | ac    | 0.256 | -0.002 |\n",
       "| ENSG00000256294 | PCC   | 0.256 | -0.003 |\n",
       "| ENSG00000256294 | DLPFC | 0.256 |  0.000 |\n",
       "| ENSG00000258388 | ac    | 0.386 |  0.001 |\n",
       "| ENSG00000258388 | PCC   | 0.387 | -0.004 |\n",
       "| ENSG00000258388 | DLPFC | 0.388 |  0.001 |\n",
       "| ENSG00000264538 | ac    | 0.057 |  0.224 |\n",
       "| ENSG00000264538 | PCC   | 0.055 |  0.238 |\n",
       "| ENSG00000264538 | DLPFC | 0.059 |  0.254 |\n",
       "| ENSG00000265148 | ac    | 0.376 | -0.003 |\n",
       "| ENSG00000265148 | PCC   | 0.375 | -0.003 |\n",
       "| ENSG00000265148 | DLPFC | 0.376 | -0.001 |\n",
       "\n"
      ],
      "text/plain": [
       "    ID              tissue mvsusieR_pv mmbr_pv\n",
       "1   ENSG00000002587 ac     0.303        0.002 \n",
       "2   ENSG00000002587 PCC    0.301       -0.003 \n",
       "3   ENSG00000002587 DLPFC  0.303       -0.002 \n",
       "4   ENSG00000007047 ac     0.363        0.044 \n",
       "5   ENSG00000007047 PCC    0.362        0.095 \n",
       "6   ENSG00000007047 DLPFC  0.364        0.096 \n",
       "7   ENSG00000007255 ac     0.240        0.004 \n",
       "8   ENSG00000007255 PCC    0.239       -0.003 \n",
       "9   ENSG00000007255 DLPFC  0.238       -0.003 \n",
       "10  ENSG00000022277 ac     0.267       -0.001 \n",
       "11  ENSG00000022277 PCC    0.267       -0.003 \n",
       "12  ENSG00000022277 DLPFC  0.267        0.001 \n",
       "13  ENSG00000029725 ac     0.021        0.008 \n",
       "14  ENSG00000029725 PCC    0.024        0.016 \n",
       "15  ENSG00000029725 DLPFC  0.034        0.050 \n",
       "16  ENSG00000064666 ac     0.031        0.086 \n",
       "17  ENSG00000064666 PCC    0.045        0.106 \n",
       "18  ENSG00000064666 DLPFC  0.033        0.101 \n",
       "19  ENSG00000064687 ac     0.048        0.023 \n",
       "20  ENSG00000064687 PCC    0.048        0.007 \n",
       "21  ENSG00000064687 DLPFC  0.051        0.014 \n",
       "22  ENSG00000065268 ac     0.146        0.229 \n",
       "23  ENSG00000065268 PCC    0.134        0.205 \n",
       "24  ENSG00000065268 DLPFC  0.041        0.062 \n",
       "25  ENSG00000066923 ac     0.186        0.000 \n",
       "26  ENSG00000066923 PCC    0.187        0.012 \n",
       "27  ENSG00000066923 DLPFC  0.186       -0.001 \n",
       "28  ENSG00000069399 ac     0.258       -0.003 \n",
       "29  ENSG00000069399 PCC    0.259       -0.003 \n",
       "30  ENSG00000069399 DLPFC  0.259       -0.003 \n",
       "⋮   ⋮               ⋮      ⋮           ⋮      \n",
       "439 ENSG00000223501 ac     0.130        0.016 \n",
       "440 ENSG00000223501 PCC    0.126        0.000 \n",
       "441 ENSG00000223501 DLPFC  0.126        0.001 \n",
       "442 ENSG00000224389 ac     0.027        0.052 \n",
       "443 ENSG00000224389 PCC    0.025        0.046 \n",
       "444 ENSG00000224389 DLPFC  0.010        0.017 \n",
       "445 ENSG00000234906 ac     0.193        0.037 \n",
       "446 ENSG00000234906 PCC    0.188       -0.001 \n",
       "447 ENSG00000234906 DLPFC  0.188       -0.001 \n",
       "448 ENSG00000240065 ac     0.054        0.061 \n",
       "449 ENSG00000240065 PCC    0.063        0.065 \n",
       "450 ENSG00000240065 DLPFC  0.046        0.023 \n",
       "451 ENSG00000241404 ac     0.035       -0.001 \n",
       "452 ENSG00000241404 PCC    0.044        0.012 \n",
       "453 ENSG00000241404 DLPFC  0.038        0.004 \n",
       "454 ENSG00000244731 ac     0.150        0.221 \n",
       "455 ENSG00000244731 PCC    0.088        0.141 \n",
       "456 ENSG00000244731 DLPFC  0.047        0.060 \n",
       "457 ENSG00000256294 ac     0.256       -0.002 \n",
       "458 ENSG00000256294 PCC    0.256       -0.003 \n",
       "459 ENSG00000256294 DLPFC  0.256        0.000 \n",
       "460 ENSG00000258388 ac     0.386        0.001 \n",
       "461 ENSG00000258388 PCC    0.387       -0.004 \n",
       "462 ENSG00000258388 DLPFC  0.388        0.001 \n",
       "463 ENSG00000264538 ac     0.057        0.224 \n",
       "464 ENSG00000264538 PCC    0.055        0.238 \n",
       "465 ENSG00000264538 DLPFC  0.059        0.254 \n",
       "466 ENSG00000265148 ac     0.376       -0.003 \n",
       "467 ENSG00000265148 PCC    0.375       -0.003 \n",
       "468 ENSG00000265148 DLPFC  0.376       -0.001 "
      ]
     },
     "metadata": {},
     "output_type": "display_data"
    }
   ],
   "source": [
    "pval_comp%>%na.omit"
   ]
  },
  {
   "cell_type": "code",
   "execution_count": 72,
   "metadata": {
    "kernel": "R"
   },
   "outputs": [
    {
     "data": {
      "text/plain": [
       "\n",
       "Call:\n",
       "lm(formula = mvsusieR_pv ~ mmbr_pv, data = pval_comp %>% filter(tissue == \n",
       "    \"ac\"))\n",
       "\n",
       "Residuals:\n",
       "     Min       1Q   Median       3Q      Max \n",
       "-0.16998 -0.10248 -0.01494  0.07949  0.34769 \n",
       "\n",
       "Coefficients:\n",
       "            Estimate Std. Error t value Pr(>|t|)    \n",
       "(Intercept)  0.18069    0.01061  17.037   <2e-16 ***\n",
       "mmbr_pv      0.14933    0.09425   1.584    0.115    \n",
       "---\n",
       "Signif. codes:  0 ‘***’ 0.001 ‘**’ 0.01 ‘*’ 0.05 ‘.’ 0.1 ‘ ’ 1\n",
       "\n",
       "Residual standard error: 0.1216 on 154 degrees of freedom\n",
       "Multiple R-squared:  0.01604,\tAdjusted R-squared:  0.009648 \n",
       "F-statistic:  2.51 on 1 and 154 DF,  p-value: 0.1152\n"
      ]
     },
     "metadata": {},
     "output_type": "display_data"
    }
   ],
   "source": [
    "lm(data = pval_comp%>%filter(tissue == \"ac\"),mvsusieR_pv ~ mmbr_pv)%>%summary"
   ]
  },
  {
   "cell_type": "code",
   "execution_count": 73,
   "metadata": {
    "kernel": "R"
   },
   "outputs": [
    {
     "data": {
      "text/plain": [
       "\n",
       "Call:\n",
       "lm(formula = mvsusieR_pv ~ mmbr_pv, data = pval_comp %>% filter(tissue == \n",
       "    \"DLPFC\"))\n",
       "\n",
       "Residuals:\n",
       "     Min       1Q   Median       3Q      Max \n",
       "-0.17194 -0.10554 -0.01255  0.08185  0.35470 \n",
       "\n",
       "Coefficients:\n",
       "            Estimate Std. Error t value Pr(>|t|)    \n",
       "(Intercept)  0.17926    0.01060  16.905   <2e-16 ***\n",
       "mmbr_pv      0.15787    0.09546   1.654      0.1    \n",
       "---\n",
       "Signif. codes:  0 ‘***’ 0.001 ‘**’ 0.01 ‘*’ 0.05 ‘.’ 0.1 ‘ ’ 1\n",
       "\n",
       "Residual standard error: 0.1225 on 154 degrees of freedom\n",
       "Multiple R-squared:  0.01745,\tAdjusted R-squared:  0.01107 \n",
       "F-statistic: 2.735 on 1 and 154 DF,  p-value: 0.1002\n"
      ]
     },
     "metadata": {},
     "output_type": "display_data"
    }
   ],
   "source": [
    "lm(data = pval_comp%>%filter(tissue == \"DLPFC\"),mvsusieR_pv ~ mmbr_pv)%>%summary"
   ]
  },
  {
   "cell_type": "code",
   "execution_count": 74,
   "metadata": {
    "kernel": "R"
   },
   "outputs": [
    {
     "data": {
      "text/plain": [
       "\n",
       "Call:\n",
       "lm(formula = mvsusieR_pv ~ mmbr_pv, data = pval_comp %>% filter(tissue == \n",
       "    \"PCC\"))\n",
       "\n",
       "Residuals:\n",
       "     Min       1Q   Median       3Q      Max \n",
       "-0.17758 -0.10657 -0.01171  0.08440  0.29150 \n",
       "\n",
       "Coefficients:\n",
       "            Estimate Std. Error t value Pr(>|t|)    \n",
       "(Intercept)  0.17657    0.01052  16.780   <2e-16 ***\n",
       "mmbr_pv      0.23537    0.09885   2.381   0.0185 *  \n",
       "---\n",
       "Signif. codes:  0 ‘***’ 0.001 ‘**’ 0.01 ‘*’ 0.05 ‘.’ 0.1 ‘ ’ 1\n",
       "\n",
       "Residual standard error: 0.1224 on 154 degrees of freedom\n",
       "Multiple R-squared:  0.03551,\tAdjusted R-squared:  0.02925 \n",
       "F-statistic:  5.67 on 1 and 154 DF,  p-value: 0.01848\n"
      ]
     },
     "metadata": {},
     "output_type": "display_data"
    }
   ],
   "source": [
    "lm(data = pval_comp%>%filter(tissue == \"PCC\"),mvsusieR_pv ~ mmbr_pv)%>%summary"
   ]
  },
  {
   "cell_type": "code",
   "execution_count": 75,
   "metadata": {
    "kernel": "R"
   },
   "outputs": [
    {
     "name": "stdout",
     "output_type": "stream",
     "text": [
      "\n",
      "\tWelch Two Sample t-test\n",
      "\n",
      "data:  pval_comp %>% filter(tissue == i) %>% pull(mvsusieR_pv) and pval_comp %>% filter(tissue == i) %>% pull(mmbr_pv)\n",
      "t = 11.531, df = 295.84, p-value < 2.2e-16\n",
      "alternative hypothesis: true difference in means is greater than 0\n",
      "95 percent confidence interval:\n",
      " 0.1258946       Inf\n",
      "sample estimates:\n",
      " mean of x  mean of y \n",
      "0.18569231 0.03877564 \n",
      "\n",
      "\n",
      "\tWelch Two Sample t-test\n",
      "\n",
      "data:  pval_comp %>% filter(tissue == i) %>% pull(mvsusieR_pv) and pval_comp %>% filter(tissue == i) %>% pull(mmbr_pv)\n",
      "t = 11.173, df = 300.65, p-value < 2.2e-16\n",
      "alternative hypothesis: true difference in means is greater than 0\n",
      "95 percent confidence interval:\n",
      " 0.1224344       Inf\n",
      "sample estimates:\n",
      " mean of x  mean of y \n",
      "0.18593590 0.04228846 \n",
      "\n",
      "\n",
      "\tWelch Two Sample t-test\n",
      "\n",
      "data:  pval_comp %>% filter(tissue == i) %>% pull(mvsusieR_pv) and pval_comp %>% filter(tissue == i) %>% pull(mmbr_pv)\n",
      "t = 11.126, df = 301.95, p-value < 2.2e-16\n",
      "alternative hypothesis: true difference in means is greater than 0\n",
      "95 percent confidence interval:\n",
      " 0.1215534       Inf\n",
      "sample estimates:\n",
      " mean of x  mean of y \n",
      "0.18735897 0.04464103 \n",
      "\n"
     ]
    }
   ],
   "source": [
    "for(i in c(\"PCC\",\"DLPFC\",\"ac\")){\n",
    "    t.test(pval_comp%>%filter(tissue == i)%>%pull(mvsusieR_pv),pval_comp%>%filter(tissue == i)%>%pull(mmbr_pv),alternative = \"g\")%>%print    \n",
    "}\n"
   ]
  },
  {
   "cell_type": "code",
   "execution_count": 15,
   "metadata": {
    "kernel": "R"
   },
   "outputs": [
    {
     "data": {
      "text/html": [
       "<table class=\"dataframe\">\n",
       "<caption>A tibble: 158 × 3</caption>\n",
       "<thead>\n",
       "\t<tr><th scope=col>pval_ac</th><th scope=col>pval_PCC</th><th scope=col>pval_DLPFC</th></tr>\n",
       "\t<tr><th scope=col>&lt;dbl&gt;</th><th scope=col>&lt;dbl&gt;</th><th scope=col>&lt;dbl&gt;</th></tr>\n",
       "</thead>\n",
       "<tbody>\n",
       "\t<tr><td>4.425608e-01</td><td>5.678533e-01</td><td>5.510751e-01</td></tr>\n",
       "\t<tr><td>6.211649e-02</td><td>1.286271e-02</td><td>2.899548e-03</td></tr>\n",
       "\t<tr><td>3.733568e-01</td><td>5.536063e-01</td><td>5.806568e-01</td></tr>\n",
       "\t<tr><td>5.464645e-01</td><td>5.750159e-01</td><td>4.506037e-01</td></tr>\n",
       "\t<tr><td>3.435592e-01</td><td>2.483677e-01</td><td>3.818580e-02</td></tr>\n",
       "\t<tr><td>1.038169e-02</td><td>5.333433e-03</td><td>1.682692e-03</td></tr>\n",
       "\t<tr><td>1.144427e-01</td><td>3.836240e-01</td><td>2.000749e-01</td></tr>\n",
       "\t<tr><td>1.025171e-06</td><td>7.510045e-05</td><td>9.025211e-03</td></tr>\n",
       "\t<tr><td>4.741720e-01</td><td>3.154219e-01</td><td>5.371908e-01</td></tr>\n",
       "\t<tr><td>5.874498e-01</td><td>5.404216e-01</td><td>6.036468e-01</td></tr>\n",
       "\t<tr><td>2.821426e-01</td><td>4.346576e-01</td><td>2.709960e-01</td></tr>\n",
       "\t<tr><td>6.811019e-03</td><td>2.171802e-02</td><td>1.148262e-02</td></tr>\n",
       "\t<tr><td>4.889252e-01</td><td>4.315607e-01</td><td>4.074572e-01</td></tr>\n",
       "\t<tr><td>4.603156e-01</td><td>5.529516e-01</td><td>3.500035e-01</td></tr>\n",
       "\t<tr><td>3.079530e-01</td><td>3.963772e-01</td><td>1.537527e-02</td></tr>\n",
       "\t<tr><td>3.107940e-01</td><td>1.042641e-01</td><td>4.518922e-09</td></tr>\n",
       "\t<tr><td>4.881353e-01</td><td>5.795644e-01</td><td>5.471564e-01</td></tr>\n",
       "\t<tr><td>1.903655e-01</td><td>4.395745e-01</td><td>3.058677e-01</td></tr>\n",
       "\t<tr><td>4.492151e-01</td><td>4.652524e-01</td><td>3.864627e-01</td></tr>\n",
       "\t<tr><td>5.624515e-01</td><td>5.556673e-01</td><td>3.221032e-01</td></tr>\n",
       "\t<tr><td>2.578862e-04</td><td>3.385371e-02</td><td>5.994573e-05</td></tr>\n",
       "\t<tr><td>4.760606e-01</td><td>3.956530e-01</td><td>2.495076e-01</td></tr>\n",
       "\t<tr><td>5.389215e-01</td><td>3.896507e-01</td><td>4.816528e-01</td></tr>\n",
       "\t<tr><td>6.611386e-02</td><td>4.276323e-02</td><td>1.130364e-01</td></tr>\n",
       "\t<tr><td>4.936638e-01</td><td>4.611124e-01</td><td>5.993497e-01</td></tr>\n",
       "\t<tr><td>5.403043e-03</td><td>2.809294e-02</td><td>7.390556e-03</td></tr>\n",
       "\t<tr><td>2.215532e-01</td><td>8.299918e-02</td><td>2.232716e-02</td></tr>\n",
       "\t<tr><td>8.328628e-03</td><td>2.724763e-02</td><td>1.276203e-02</td></tr>\n",
       "\t<tr><td>1.405100e-01</td><td>2.290990e-01</td><td>8.795300e-02</td></tr>\n",
       "\t<tr><td>5.071219e-01</td><td>5.284171e-01</td><td>5.559980e-01</td></tr>\n",
       "\t<tr><td>⋮</td><td>⋮</td><td>⋮</td></tr>\n",
       "\t<tr><td>4.849826e-01</td><td>4.848652e-01</td><td>6.467739e-01</td></tr>\n",
       "\t<tr><td>1.726613e-01</td><td>2.763784e-01</td><td>4.843897e-01</td></tr>\n",
       "\t<tr><td>2.870524e-31</td><td>2.814056e-18</td><td>9.266063e-40</td></tr>\n",
       "\t<tr><td>4.968577e-01</td><td>5.306668e-01</td><td>4.943366e-01</td></tr>\n",
       "\t<tr><td>1.653224e-01</td><td>8.159978e-02</td><td>2.892200e-03</td></tr>\n",
       "\t<tr><td>3.150443e-01</td><td>4.588210e-01</td><td>2.712655e-01</td></tr>\n",
       "\t<tr><td>8.622392e-02</td><td>6.913409e-02</td><td>2.968494e-03</td></tr>\n",
       "\t<tr><td>5.627842e-01</td><td>3.697623e-01</td><td>4.087150e-01</td></tr>\n",
       "\t<tr><td>3.938570e-02</td><td>1.365605e-01</td><td>2.028571e-02</td></tr>\n",
       "\t<tr><td>3.064343e-01</td><td>3.810728e-01</td><td>5.187092e-01</td></tr>\n",
       "\t<tr><td>5.750069e-01</td><td>5.376787e-01</td><td>5.254956e-01</td></tr>\n",
       "\t<tr><td>4.996719e-01</td><td>3.952434e-01</td><td>4.455514e-01</td></tr>\n",
       "\t<tr><td>4.110623e-01</td><td>5.683226e-01</td><td>5.451101e-01</td></tr>\n",
       "\t<tr><td>5.542067e-01</td><td>2.767753e-01</td><td>5.524346e-01</td></tr>\n",
       "\t<tr><td>6.487317e-02</td><td>4.295520e-03</td><td>4.054076e-05</td></tr>\n",
       "\t<tr><td>4.106151e-01</td><td>4.753104e-01</td><td>1.618212e-01</td></tr>\n",
       "\t<tr><td>2.573536e-01</td><td>2.568665e-01</td><td>5.628799e-02</td></tr>\n",
       "\t<tr><td>4.803213e-01</td><td>3.980673e-01</td><td>2.645405e-01</td></tr>\n",
       "\t<tr><td>2.719593e-03</td><td>2.421092e-02</td><td>9.798849e-03</td></tr>\n",
       "\t<tr><td>4.292904e-01</td><td>2.415611e-01</td><td>5.838805e-01</td></tr>\n",
       "\t<tr><td>2.454349e-01</td><td>4.824166e-01</td><td>4.704828e-01</td></tr>\n",
       "\t<tr><td>4.872509e-02</td><td>1.273038e-01</td><td>2.199583e-01</td></tr>\n",
       "\t<tr><td>9.180601e-02</td><td>5.133869e-01</td><td>5.596068e-01</td></tr>\n",
       "\t<tr><td>2.806779e-02</td><td>6.773158e-02</td><td>1.280178e-01</td></tr>\n",
       "\t<tr><td>5.075989e-01</td><td>3.307021e-01</td><td>3.766948e-01</td></tr>\n",
       "\t<tr><td>4.128599e-04</td><td>5.620000e-03</td><td>1.944645e-02</td></tr>\n",
       "\t<tr><td>5.536190e-01</td><td>5.550188e-01</td><td>4.859276e-01</td></tr>\n",
       "\t<tr><td>4.393752e-01</td><td>5.642275e-01</td><td>4.602183e-01</td></tr>\n",
       "\t<tr><td>7.054194e-06</td><td>4.827048e-05</td><td>2.432053e-07</td></tr>\n",
       "\t<tr><td>5.864947e-01</td><td>5.647270e-01</td><td>5.032327e-01</td></tr>\n",
       "</tbody>\n",
       "</table>\n"
      ],
      "text/latex": [
       "A tibble: 158 × 3\n",
       "\\begin{tabular}{lll}\n",
       " pval\\_ac & pval\\_PCC & pval\\_DLPFC\\\\\n",
       " <dbl> & <dbl> & <dbl>\\\\\n",
       "\\hline\n",
       "\t 4.425608e-01 & 5.678533e-01 & 5.510751e-01\\\\\n",
       "\t 6.211649e-02 & 1.286271e-02 & 2.899548e-03\\\\\n",
       "\t 3.733568e-01 & 5.536063e-01 & 5.806568e-01\\\\\n",
       "\t 5.464645e-01 & 5.750159e-01 & 4.506037e-01\\\\\n",
       "\t 3.435592e-01 & 2.483677e-01 & 3.818580e-02\\\\\n",
       "\t 1.038169e-02 & 5.333433e-03 & 1.682692e-03\\\\\n",
       "\t 1.144427e-01 & 3.836240e-01 & 2.000749e-01\\\\\n",
       "\t 1.025171e-06 & 7.510045e-05 & 9.025211e-03\\\\\n",
       "\t 4.741720e-01 & 3.154219e-01 & 5.371908e-01\\\\\n",
       "\t 5.874498e-01 & 5.404216e-01 & 6.036468e-01\\\\\n",
       "\t 2.821426e-01 & 4.346576e-01 & 2.709960e-01\\\\\n",
       "\t 6.811019e-03 & 2.171802e-02 & 1.148262e-02\\\\\n",
       "\t 4.889252e-01 & 4.315607e-01 & 4.074572e-01\\\\\n",
       "\t 4.603156e-01 & 5.529516e-01 & 3.500035e-01\\\\\n",
       "\t 3.079530e-01 & 3.963772e-01 & 1.537527e-02\\\\\n",
       "\t 3.107940e-01 & 1.042641e-01 & 4.518922e-09\\\\\n",
       "\t 4.881353e-01 & 5.795644e-01 & 5.471564e-01\\\\\n",
       "\t 1.903655e-01 & 4.395745e-01 & 3.058677e-01\\\\\n",
       "\t 4.492151e-01 & 4.652524e-01 & 3.864627e-01\\\\\n",
       "\t 5.624515e-01 & 5.556673e-01 & 3.221032e-01\\\\\n",
       "\t 2.578862e-04 & 3.385371e-02 & 5.994573e-05\\\\\n",
       "\t 4.760606e-01 & 3.956530e-01 & 2.495076e-01\\\\\n",
       "\t 5.389215e-01 & 3.896507e-01 & 4.816528e-01\\\\\n",
       "\t 6.611386e-02 & 4.276323e-02 & 1.130364e-01\\\\\n",
       "\t 4.936638e-01 & 4.611124e-01 & 5.993497e-01\\\\\n",
       "\t 5.403043e-03 & 2.809294e-02 & 7.390556e-03\\\\\n",
       "\t 2.215532e-01 & 8.299918e-02 & 2.232716e-02\\\\\n",
       "\t 8.328628e-03 & 2.724763e-02 & 1.276203e-02\\\\\n",
       "\t 1.405100e-01 & 2.290990e-01 & 8.795300e-02\\\\\n",
       "\t 5.071219e-01 & 5.284171e-01 & 5.559980e-01\\\\\n",
       "\t ⋮ & ⋮ & ⋮\\\\\n",
       "\t 4.849826e-01 & 4.848652e-01 & 6.467739e-01\\\\\n",
       "\t 1.726613e-01 & 2.763784e-01 & 4.843897e-01\\\\\n",
       "\t 2.870524e-31 & 2.814056e-18 & 9.266063e-40\\\\\n",
       "\t 4.968577e-01 & 5.306668e-01 & 4.943366e-01\\\\\n",
       "\t 1.653224e-01 & 8.159978e-02 & 2.892200e-03\\\\\n",
       "\t 3.150443e-01 & 4.588210e-01 & 2.712655e-01\\\\\n",
       "\t 8.622392e-02 & 6.913409e-02 & 2.968494e-03\\\\\n",
       "\t 5.627842e-01 & 3.697623e-01 & 4.087150e-01\\\\\n",
       "\t 3.938570e-02 & 1.365605e-01 & 2.028571e-02\\\\\n",
       "\t 3.064343e-01 & 3.810728e-01 & 5.187092e-01\\\\\n",
       "\t 5.750069e-01 & 5.376787e-01 & 5.254956e-01\\\\\n",
       "\t 4.996719e-01 & 3.952434e-01 & 4.455514e-01\\\\\n",
       "\t 4.110623e-01 & 5.683226e-01 & 5.451101e-01\\\\\n",
       "\t 5.542067e-01 & 2.767753e-01 & 5.524346e-01\\\\\n",
       "\t 6.487317e-02 & 4.295520e-03 & 4.054076e-05\\\\\n",
       "\t 4.106151e-01 & 4.753104e-01 & 1.618212e-01\\\\\n",
       "\t 2.573536e-01 & 2.568665e-01 & 5.628799e-02\\\\\n",
       "\t 4.803213e-01 & 3.980673e-01 & 2.645405e-01\\\\\n",
       "\t 2.719593e-03 & 2.421092e-02 & 9.798849e-03\\\\\n",
       "\t 4.292904e-01 & 2.415611e-01 & 5.838805e-01\\\\\n",
       "\t 2.454349e-01 & 4.824166e-01 & 4.704828e-01\\\\\n",
       "\t 4.872509e-02 & 1.273038e-01 & 2.199583e-01\\\\\n",
       "\t 9.180601e-02 & 5.133869e-01 & 5.596068e-01\\\\\n",
       "\t 2.806779e-02 & 6.773158e-02 & 1.280178e-01\\\\\n",
       "\t 5.075989e-01 & 3.307021e-01 & 3.766948e-01\\\\\n",
       "\t 4.128599e-04 & 5.620000e-03 & 1.944645e-02\\\\\n",
       "\t 5.536190e-01 & 5.550188e-01 & 4.859276e-01\\\\\n",
       "\t 4.393752e-01 & 5.642275e-01 & 4.602183e-01\\\\\n",
       "\t 7.054194e-06 & 4.827048e-05 & 2.432053e-07\\\\\n",
       "\t 5.864947e-01 & 5.647270e-01 & 5.032327e-01\\\\\n",
       "\\end{tabular}\n"
      ],
      "text/markdown": [
       "\n",
       "A tibble: 158 × 3\n",
       "\n",
       "| pval_ac &lt;dbl&gt; | pval_PCC &lt;dbl&gt; | pval_DLPFC &lt;dbl&gt; |\n",
       "|---|---|---|\n",
       "| 4.425608e-01 | 5.678533e-01 | 5.510751e-01 |\n",
       "| 6.211649e-02 | 1.286271e-02 | 2.899548e-03 |\n",
       "| 3.733568e-01 | 5.536063e-01 | 5.806568e-01 |\n",
       "| 5.464645e-01 | 5.750159e-01 | 4.506037e-01 |\n",
       "| 3.435592e-01 | 2.483677e-01 | 3.818580e-02 |\n",
       "| 1.038169e-02 | 5.333433e-03 | 1.682692e-03 |\n",
       "| 1.144427e-01 | 3.836240e-01 | 2.000749e-01 |\n",
       "| 1.025171e-06 | 7.510045e-05 | 9.025211e-03 |\n",
       "| 4.741720e-01 | 3.154219e-01 | 5.371908e-01 |\n",
       "| 5.874498e-01 | 5.404216e-01 | 6.036468e-01 |\n",
       "| 2.821426e-01 | 4.346576e-01 | 2.709960e-01 |\n",
       "| 6.811019e-03 | 2.171802e-02 | 1.148262e-02 |\n",
       "| 4.889252e-01 | 4.315607e-01 | 4.074572e-01 |\n",
       "| 4.603156e-01 | 5.529516e-01 | 3.500035e-01 |\n",
       "| 3.079530e-01 | 3.963772e-01 | 1.537527e-02 |\n",
       "| 3.107940e-01 | 1.042641e-01 | 4.518922e-09 |\n",
       "| 4.881353e-01 | 5.795644e-01 | 5.471564e-01 |\n",
       "| 1.903655e-01 | 4.395745e-01 | 3.058677e-01 |\n",
       "| 4.492151e-01 | 4.652524e-01 | 3.864627e-01 |\n",
       "| 5.624515e-01 | 5.556673e-01 | 3.221032e-01 |\n",
       "| 2.578862e-04 | 3.385371e-02 | 5.994573e-05 |\n",
       "| 4.760606e-01 | 3.956530e-01 | 2.495076e-01 |\n",
       "| 5.389215e-01 | 3.896507e-01 | 4.816528e-01 |\n",
       "| 6.611386e-02 | 4.276323e-02 | 1.130364e-01 |\n",
       "| 4.936638e-01 | 4.611124e-01 | 5.993497e-01 |\n",
       "| 5.403043e-03 | 2.809294e-02 | 7.390556e-03 |\n",
       "| 2.215532e-01 | 8.299918e-02 | 2.232716e-02 |\n",
       "| 8.328628e-03 | 2.724763e-02 | 1.276203e-02 |\n",
       "| 1.405100e-01 | 2.290990e-01 | 8.795300e-02 |\n",
       "| 5.071219e-01 | 5.284171e-01 | 5.559980e-01 |\n",
       "| ⋮ | ⋮ | ⋮ |\n",
       "| 4.849826e-01 | 4.848652e-01 | 6.467739e-01 |\n",
       "| 1.726613e-01 | 2.763784e-01 | 4.843897e-01 |\n",
       "| 2.870524e-31 | 2.814056e-18 | 9.266063e-40 |\n",
       "| 4.968577e-01 | 5.306668e-01 | 4.943366e-01 |\n",
       "| 1.653224e-01 | 8.159978e-02 | 2.892200e-03 |\n",
       "| 3.150443e-01 | 4.588210e-01 | 2.712655e-01 |\n",
       "| 8.622392e-02 | 6.913409e-02 | 2.968494e-03 |\n",
       "| 5.627842e-01 | 3.697623e-01 | 4.087150e-01 |\n",
       "| 3.938570e-02 | 1.365605e-01 | 2.028571e-02 |\n",
       "| 3.064343e-01 | 3.810728e-01 | 5.187092e-01 |\n",
       "| 5.750069e-01 | 5.376787e-01 | 5.254956e-01 |\n",
       "| 4.996719e-01 | 3.952434e-01 | 4.455514e-01 |\n",
       "| 4.110623e-01 | 5.683226e-01 | 5.451101e-01 |\n",
       "| 5.542067e-01 | 2.767753e-01 | 5.524346e-01 |\n",
       "| 6.487317e-02 | 4.295520e-03 | 4.054076e-05 |\n",
       "| 4.106151e-01 | 4.753104e-01 | 1.618212e-01 |\n",
       "| 2.573536e-01 | 2.568665e-01 | 5.628799e-02 |\n",
       "| 4.803213e-01 | 3.980673e-01 | 2.645405e-01 |\n",
       "| 2.719593e-03 | 2.421092e-02 | 9.798849e-03 |\n",
       "| 4.292904e-01 | 2.415611e-01 | 5.838805e-01 |\n",
       "| 2.454349e-01 | 4.824166e-01 | 4.704828e-01 |\n",
       "| 4.872509e-02 | 1.273038e-01 | 2.199583e-01 |\n",
       "| 9.180601e-02 | 5.133869e-01 | 5.596068e-01 |\n",
       "| 2.806779e-02 | 6.773158e-02 | 1.280178e-01 |\n",
       "| 5.075989e-01 | 3.307021e-01 | 3.766948e-01 |\n",
       "| 4.128599e-04 | 5.620000e-03 | 1.944645e-02 |\n",
       "| 5.536190e-01 | 5.550188e-01 | 4.859276e-01 |\n",
       "| 4.393752e-01 | 5.642275e-01 | 4.602183e-01 |\n",
       "| 7.054194e-06 | 4.827048e-05 | 2.432053e-07 |\n",
       "| 5.864947e-01 | 5.647270e-01 | 5.032327e-01 |\n",
       "\n"
      ],
      "text/plain": [
       "    pval_ac      pval_PCC     pval_DLPFC  \n",
       "1   4.425608e-01 5.678533e-01 5.510751e-01\n",
       "2   6.211649e-02 1.286271e-02 2.899548e-03\n",
       "3   3.733568e-01 5.536063e-01 5.806568e-01\n",
       "4   5.464645e-01 5.750159e-01 4.506037e-01\n",
       "5   3.435592e-01 2.483677e-01 3.818580e-02\n",
       "6   1.038169e-02 5.333433e-03 1.682692e-03\n",
       "7   1.144427e-01 3.836240e-01 2.000749e-01\n",
       "8   1.025171e-06 7.510045e-05 9.025211e-03\n",
       "9   4.741720e-01 3.154219e-01 5.371908e-01\n",
       "10  5.874498e-01 5.404216e-01 6.036468e-01\n",
       "11  2.821426e-01 4.346576e-01 2.709960e-01\n",
       "12  6.811019e-03 2.171802e-02 1.148262e-02\n",
       "13  4.889252e-01 4.315607e-01 4.074572e-01\n",
       "14  4.603156e-01 5.529516e-01 3.500035e-01\n",
       "15  3.079530e-01 3.963772e-01 1.537527e-02\n",
       "16  3.107940e-01 1.042641e-01 4.518922e-09\n",
       "17  4.881353e-01 5.795644e-01 5.471564e-01\n",
       "18  1.903655e-01 4.395745e-01 3.058677e-01\n",
       "19  4.492151e-01 4.652524e-01 3.864627e-01\n",
       "20  5.624515e-01 5.556673e-01 3.221032e-01\n",
       "21  2.578862e-04 3.385371e-02 5.994573e-05\n",
       "22  4.760606e-01 3.956530e-01 2.495076e-01\n",
       "23  5.389215e-01 3.896507e-01 4.816528e-01\n",
       "24  6.611386e-02 4.276323e-02 1.130364e-01\n",
       "25  4.936638e-01 4.611124e-01 5.993497e-01\n",
       "26  5.403043e-03 2.809294e-02 7.390556e-03\n",
       "27  2.215532e-01 8.299918e-02 2.232716e-02\n",
       "28  8.328628e-03 2.724763e-02 1.276203e-02\n",
       "29  1.405100e-01 2.290990e-01 8.795300e-02\n",
       "30  5.071219e-01 5.284171e-01 5.559980e-01\n",
       "⋮   ⋮            ⋮            ⋮           \n",
       "129 4.849826e-01 4.848652e-01 6.467739e-01\n",
       "130 1.726613e-01 2.763784e-01 4.843897e-01\n",
       "131 2.870524e-31 2.814056e-18 9.266063e-40\n",
       "132 4.968577e-01 5.306668e-01 4.943366e-01\n",
       "133 1.653224e-01 8.159978e-02 2.892200e-03\n",
       "134 3.150443e-01 4.588210e-01 2.712655e-01\n",
       "135 8.622392e-02 6.913409e-02 2.968494e-03\n",
       "136 5.627842e-01 3.697623e-01 4.087150e-01\n",
       "137 3.938570e-02 1.365605e-01 2.028571e-02\n",
       "138 3.064343e-01 3.810728e-01 5.187092e-01\n",
       "139 5.750069e-01 5.376787e-01 5.254956e-01\n",
       "140 4.996719e-01 3.952434e-01 4.455514e-01\n",
       "141 4.110623e-01 5.683226e-01 5.451101e-01\n",
       "142 5.542067e-01 2.767753e-01 5.524346e-01\n",
       "143 6.487317e-02 4.295520e-03 4.054076e-05\n",
       "144 4.106151e-01 4.753104e-01 1.618212e-01\n",
       "145 2.573536e-01 2.568665e-01 5.628799e-02\n",
       "146 4.803213e-01 3.980673e-01 2.645405e-01\n",
       "147 2.719593e-03 2.421092e-02 9.798849e-03\n",
       "148 4.292904e-01 2.415611e-01 5.838805e-01\n",
       "149 2.454349e-01 4.824166e-01 4.704828e-01\n",
       "150 4.872509e-02 1.273038e-01 2.199583e-01\n",
       "151 9.180601e-02 5.133869e-01 5.596068e-01\n",
       "152 2.806779e-02 6.773158e-02 1.280178e-01\n",
       "153 5.075989e-01 3.307021e-01 3.766948e-01\n",
       "154 4.128599e-04 5.620000e-03 1.944645e-02\n",
       "155 5.536190e-01 5.550188e-01 4.859276e-01\n",
       "156 4.393752e-01 5.642275e-01 4.602183e-01\n",
       "157 7.054194e-06 4.827048e-05 2.432053e-07\n",
       "158 5.864947e-01 5.647270e-01 5.032327e-01"
      ]
     },
     "metadata": {},
     "output_type": "display_data"
    }
   ],
   "source": [
    "susie_data_ori%>%select(pval_ac,pval_PCC,pval_DLPFC)"
   ]
  },
  {
   "cell_type": "code",
   "execution_count": null,
   "metadata": {
    "kernel": "R"
   },
   "outputs": [],
   "source": []
  }
 ],
 "metadata": {
  "kernelspec": {
   "display_name": "R",
   "language": "R",
   "name": "ir"
  },
  "language_info": {
   "codemirror_mode": "r",
   "file_extension": ".r",
   "mimetype": "text/x-r-source",
   "name": "R",
   "pygments_lexer": "r",
   "version": "3.6.3"
  },
  "sos": {
   "kernels": [
    [
     "R",
     "ir",
     "R",
     "#DCDCDA",
     "r"
    ],
    [
     "SoS",
     "sos",
     "",
     "",
     "sos"
    ]
   ],
   "version": "0.20.1"
  }
 },
 "nbformat": 4,
 "nbformat_minor": 4
}
