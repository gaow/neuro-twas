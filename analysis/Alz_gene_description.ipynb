{
 "cells": [
  {
   "cell_type": "code",
   "execution_count": null,
   "metadata": {
    "kernel": "SoS"
   },
   "outputs": [],
   "source": [
    "nohup sos run ~/GIT/neuro-twas/Workflow/mv_susie.ipynb mv_susie    --molecular_pheno_dir \"/home/hs3163/Project/Alz/multi/molecular_phenotype_list\"   --region_list \"/home/hs3163/Project/Alz/multi/mv_susie_gene_list.txt\"   --wd \"/home/hs3163/Project/Alz/multi_2\"   --name_prefix \"geneTpmResidualsAgeGenderAdj_rename\"   --container /mnt/mfs/statgen/containers/twas_latest.sif   --job_size 1  -J 6 -q csg -c /mnt/mfs/statgen/pbs_template/csg.yml -s build &\n"
   ]
  }
 ],
 "metadata": {
  "kernelspec": {
   "display_name": "SoS",
   "language": "sos",
   "name": "sos"
  },
  "language_info": {
   "codemirror_mode": "sos",
   "file_extension": ".sos",
   "mimetype": "text/x-sos",
   "name": "sos",
   "nbconvert_exporter": "sos_notebook.converter.SoS_Exporter",
   "pygments_lexer": "sos"
  },
  "sos": {
   "kernels": [
    [
     "SoS",
     "sos",
     "",
     ""
    ]
   ],
   "version": "0.20.1"
  }
 },
 "nbformat": 4,
 "nbformat_minor": 4
}
