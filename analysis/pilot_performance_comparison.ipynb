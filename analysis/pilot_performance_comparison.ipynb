{
 "cells": [
  {
   "cell_type": "markdown",
   "metadata": {},
   "source": [
    "# Pilot Study: Performance comparison between MV SuSiE and FUSION\n",
    "Comparison on the crossvalidation p-value accuracy of gene expression imputed by MV SuSiE and FUSION. "
   ]
  },
  {
   "cell_type": "code",
   "execution_count": 1,
   "metadata": {},
   "outputs": [
    {
     "name": "stderr",
     "output_type": "stream",
     "text": [
      "\n",
      "Attaching package: ‘dplyr’\n",
      "\n",
      "\n",
      "The following objects are masked from ‘package:stats’:\n",
      "\n",
      "    filter, lag\n",
      "\n",
      "\n",
      "The following objects are masked from ‘package:base’:\n",
      "\n",
      "    intersect, setdiff, setequal, union\n",
      "\n",
      "\n",
      "Registered S3 methods overwritten by 'ggplot2':\n",
      "  method         from \n",
      "  [.quosures     rlang\n",
      "  c.quosures     rlang\n",
      "  print.quosures rlang\n",
      "\n"
     ]
    }
   ],
   "source": [
    "library(dplyr)\n",
    "library(tibble)\n",
    "library(readr)\n",
    "library(ggplot2)\n",
    "library(purrr)\n",
    "library(tidyr)"
   ]
  },
  {
   "cell_type": "markdown",
   "metadata": {},
   "source": [
    "## Data Processing \n",
    "### TWAS-FUSION Data"
   ]
  },
  {
   "cell_type": "code",
   "execution_count": 2,
   "metadata": {},
   "outputs": [
    {
     "name": "stderr",
     "output_type": "stream",
     "text": [
      "Parsed with column specification:\n",
      "cols(\n",
      "  .default = col_character()\n",
      ")\n",
      "\n",
      "See spec(...) for full column specifications.\n",
      "\n",
      "Parsed with column specification:\n",
      "cols(\n",
      "  .default = col_character()\n",
      ")\n",
      "\n",
      "See spec(...) for full column specifications.\n",
      "\n",
      "Parsed with column specification:\n",
      "cols(\n",
      "  .default = col_character()\n",
      ")\n",
      "\n",
      "See spec(...) for full column specifications.\n",
      "\n"
     ]
    }
   ],
   "source": [
    "dir = \"~/Project/Alz/\"\n",
    "Proj = c(\"Alz_AC_SNP\",\"Alz_DLPFC_SNP\",\"Alz_PCC_SNP\")\n",
    "tmp = tibble(\n",
    "  Proj_Name = Proj\n",
    ")\n",
    "fusion_data = tmp%>%mutate(\n",
    "  result_data = map(Proj_Name,~read_delim(paste(dir,.x,\"/result/all_result.txt\",sep = \"\"),delim = \"\\t\")%>%filter(FILE!=\"FILE\")),\n",
    "  result_data_TWAS = map(result_data,~.x%>%filter(!is.na(BEST.GWAS.ID))%>%select(-FILE)%>%mutate(\n",
    "      MODELCV.R2 = as.numeric(MODELCV.R2),\n",
    "      MODELCV.PV = p.adjust(as.numeric(MODELCV.PV), method = \"fdr\") ,TWAS.P.Adj = p.adjust(TWAS.P, method = \"fdr\"))%>%filter()\n",
    "                        ),\n",
    "        twas_gene = map(result_data_TWAS,~.x$ID),\n",
    "        psed_gene = map(result_data_TWAS,~.x%>%filter(TWAS.P.Adj<0.05)),\n",
    "        r2 = map(result_data_TWAS,~.x%>%pull(MODELCV.R2)%>%as.numeric%>%na.omit()%>%mean()),\n",
    "        pval = map(result_data_TWAS,~.x%>%pull(MODELCV.PV)%>%as.numeric%>%na.omit()%>%mean())\n",
    ")\n"
   ]
  },
  {
   "cell_type": "markdown",
   "metadata": {},
   "source": [
    "### Weight estimation for mv susie"
   ]
  },
  {
   "cell_type": "code",
   "execution_count": 3,
   "metadata": {},
   "outputs": [],
   "source": [
    "total = attach(\"~/Project/Alz/multi_susie_pilot/mv_cv.RData\")$output \n",
    "susie_data = total%>%select(-path)%>%mutate( \n",
    "  n_of_cs = map_dbl(model,~.x$sets$cs_index%>%length()),\n",
    "  rmse_ac = map_dbl(model,~.x$rmse[1]),\n",
    "  rmse_PCC = map_dbl(model,~.x$rmse[2]),\n",
    "  rmse_DLPFC = map_dbl(model,~.x$rmse[3]),\n",
    "  r2_ac = map_dbl(model,~.x$r2[1]%>%round(3)),\n",
    "  r2_PCC = map_dbl(model,~.x$r2[2]%>%round(3)),\n",
    "  r2_DLPFC = map_dbl(model,~.x$r2[3]%>%round(3)),\n",
    " pval_ac = map_dbl(model,~.x$pval[1]),\n",
    " pval_PCC = map_dbl(model,~.x$pval[2]),\n",
    " pval_DLPFC = map_dbl(model,~.x$pval[3])\n",
    ")"
   ]
  },
  {
   "cell_type": "markdown",
   "metadata": {},
   "source": [
    "### Merging of data "
   ]
  },
  {
   "cell_type": "code",
   "execution_count": 4,
   "metadata": {},
   "outputs": [
    {
     "name": "stderr",
     "output_type": "stream",
     "text": [
      "Joining, by = \"ID\"\n",
      "\n",
      "Joining, by = \"ID\"\n",
      "\n",
      "Joining, by = \"ID\"\n",
      "\n",
      "Joining, by = \"ID\"\n",
      "\n",
      "Joining, by = \"ID\"\n",
      "\n",
      "Joining, by = \"ID\"\n",
      "\n"
     ]
    }
   ],
   "source": [
    "merged_data = fusion_data%>%select(Proj_Name,twas_gene,result_data_TWAS,r2,pval)%>%mutate(\n",
    "    idx = c(1,3,2),\n",
    "    susie_r2 = map2(twas_gene,idx, ~ ((susie_data%>%filter(ID %in% .x)%>%select(ID,n_of_cs,pval_ac,pval_PCC,pval_DLPFC,r2_ac,r2_PCC,r2_DLPFC))[,c(1,2+3+.y)])),\n",
    "    susie_pval = map2(twas_gene,idx, ~ ((susie_data%>%filter(ID %in% .x)%>%select(ID,n_of_cs,pval_ac,pval_PCC,pval_DLPFC,r2_ac,r2_PCC,r2_DLPFC))[,c(1,2+.y)])),\n",
    "    sum_data = map2(result_data_TWAS,susie_r2, ~ inner_join(.x,.y )%>%\n",
    "                    mutate(r2_more = .[,ncol(.)] >= MODELCV.R2%>%as.numeric() )),\n",
    "    sum_data = map2(sum_data,susie_pval, ~ inner_join(.x,.y )%>%\n",
    "                    mutate(pv_less = .[,ncol(.)] <= MODELCV.PV%>%as.numeric() )),\n",
    "    sum_data = map(sum_data,~.x%>%\n",
    "                   mutate(both_win = (r2_more & pv_less) )),\n",
    "    pcnt_pv_win = map_dbl(sum_data, ~.x%>%pull(pv_less)%>%na.omit%>%mean()  ),\n",
    "    pcnt_r2_win = map_dbl(sum_data, ~.x%>%pull(r2_more)%>%na.omit%>%mean()  ),\n",
    "    pcnt_both_win = map_dbl(sum_data, ~.x%>%filter(both_win )%>%nrow()/nrow(.x) )\n",
    "    )%>%select(-twas_gene,-idx)"
   ]
  },
  {
   "cell_type": "code",
   "execution_count": 5,
   "metadata": {},
   "outputs": [],
   "source": [
    "merged_data%>%saveRDS(\"~/merged_dat.RDS\")"
   ]
  },
  {
   "cell_type": "markdown",
   "metadata": {},
   "source": [
    "## Data Visualization \n",
    "### Distribution of MvSuSIE CV P value \n",
    "#### PCC"
   ]
  },
  {
   "cell_type": "code",
   "execution_count": 28,
   "metadata": {},
   "outputs": [
    {
     "name": "stderr",
     "output_type": "stream",
     "text": [
      "`stat_bin()` using `bins = 30`. Pick better value with `binwidth`.\n",
      "\n"
     ]
    },
    {
     "data": {
      "image/png": "[encoded data removed]",
      "text/plain": [
       "plot without title"
      ]
     },
     "metadata": {
      "image/png": {
       "height": 420,
       "width": 420
      }
     },
     "output_type": "display_data"
    }
   ],
   "source": [
    "merged_data$sum_data[[3]]%>%filter()%>%ggplot(aes(x = pval_PCC,fill = pv_less ))+geom_histogram()+\n",
    "ggtitle(\"Distribution of MvSuSiE CV P value for PCC\")+xlab(\"CV P value for Gene expression\")+labs(fill = \"MvSuSiE with lower P value\")"
   ]
  },
  {
   "cell_type": "markdown",
   "metadata": {},
   "source": [
    "#### DLPFC"
   ]
  },
  {
   "cell_type": "code",
   "execution_count": 29,
   "metadata": {},
   "outputs": [
    {
     "name": "stderr",
     "output_type": "stream",
     "text": [
      "`stat_bin()` using `bins = 30`. Pick better value with `binwidth`.\n",
      "\n"
     ]
    },
    {
     "data": {
      "image/png": "[encoded data removed]",
      "text/plain": [
       "plot without title"
      ]
     },
     "metadata": {
      "image/png": {
       "height": 420,
       "width": 420
      }
     },
     "output_type": "display_data"
    }
   ],
   "source": [
    "merged_data$sum_data[[2]]%>%filter()%>%ggplot(aes(x = pval_DLPFC,fill = pv_less ))+geom_histogram()+\n",
    "ggtitle(\"Distribution of MvSuSiE CV P value for DLPFC\")+xlab(\"CV P value for Gene expression\")+labs(fill = \"MvSuSiE with lower P value\")"
   ]
  },
  {
   "cell_type": "markdown",
   "metadata": {},
   "source": [
    "#### AC"
   ]
  },
  {
   "cell_type": "code",
   "execution_count": 31,
   "metadata": {},
   "outputs": [
    {
     "name": "stderr",
     "output_type": "stream",
     "text": [
      "`stat_bin()` using `bins = 30`. Pick better value with `binwidth`.\n",
      "\n"
     ]
    },
    {
     "data": {
      "image/png": "[encoded data removed]",
      "text/plain": [
       "plot without title"
      ]
     },
     "metadata": {
      "image/png": {
       "height": 420,
       "width": 420
      }
     },
     "output_type": "display_data"
    }
   ],
   "source": [
    "merged_data$sum_data[[1]]%>%filter()%>%ggplot(aes(x = pval_ac,fill = pv_less ))+geom_histogram()+\n",
    "ggtitle(\"Distribution of MvSuSiE CV P value for AC\")+xlab(\"CV P value for Gene expression\")+labs(fill = \"MvSuSiE with lower P value\")"
   ]
  },
  {
   "cell_type": "markdown",
   "metadata": {},
   "source": [
    "## Summary Statistics Comparison "
   ]
  },
  {
   "cell_type": "code",
   "execution_count": 71,
   "metadata": {},
   "outputs": [
    {
     "data": {
      "text/plain": [
       "\n",
       "\n",
       "|tissue | mean_susie_pv| median_susie_pv| var_susie_pv| mean_fusion_pv| median_fusion_pv| var_fusion_pv|\n",
       "|:------|-------------:|---------------:|------------:|--------------:|----------------:|-------------:|\n",
       "|AC     |        0.0648|          0.0112|       0.0076|         0.0709|           0.0277|        0.0070|\n",
       "|DLPFC  |        0.0486|          0.0108|       0.0058|         0.0566|           0.0180|        0.0069|\n",
       "|PCC    |        0.0724|          0.0272|       0.0090|         0.0717|           0.0446|        0.0061|"
      ]
     },
     "metadata": {},
     "output_type": "display_data"
    }
   ],
   "source": [
    "dat = data.frame()\n",
    "for(i in 1:3){\n",
    "    colnames(merged_data$sum_data[[i]])[23] = \"susie_cv_pv\"\n",
    "             }\n",
    "\n",
    "merged_data%>%mutate(tissue = c(\"AC\",\"DLPFC\",\"PCC\"))%>%\n",
    "                            select(tissue, sum_data)%>%\n",
    "                                    unnest(sum_data)%>%\n",
    "                                    group_by(tissue)%>%\n",
    "                                    summarise(mean_susie_pv = mean(susie_cv_pv)%>%round(4),\n",
    "                                              median_susie_pv = median(susie_cv_pv)%>%round(4),\n",
    "                                              var_susie_pv = var(susie_cv_pv)%>%round(4),\n",
    "                                              mean_fusion_pv = mean(MODELCV.PV)%>%round(4),\n",
    "                                              median_fusion_pv = median(MODELCV.PV)%>%round(4),\n",
    "                                              var_fusion_pv = var(MODELCV.PV)%>%round(4)\n",
    "                                             )%>%knitr::kable()"
   ]
  },
  {
   "cell_type": "code",
   "execution_count": null,
   "metadata": {},
   "outputs": [],
   "source": []
  }
 ],
 "metadata": {
  "kernelspec": {
   "display_name": "R",
   "language": "R",
   "name": "ir"
  },
  "language_info": {
   "codemirror_mode": "r",
   "file_extension": ".r",
   "mimetype": "text/x-r-source",
   "name": "R",
   "pygments_lexer": "r",
   "version": "4.0.0"
  }
 },
 "nbformat": 4,
 "nbformat_minor": 4
}
