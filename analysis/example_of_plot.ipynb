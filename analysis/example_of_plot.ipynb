{
 "cells": [
  {
   "cell_type": "markdown",
   "metadata": {},
   "source": [
    "# Making of a image panel\n",
    "Documenting an example of combining three different plot into one for report"
   ]
  },
  {
   "cell_type": "code",
   "execution_count": null,
   "metadata": {},
   "outputs": [],
   "source": [
    "library(dplyr)\n",
    "library(readr)\n",
    "library(tibble)\n",
    "library(ggplot2)\n",
    "library(purrr)\n",
    "library(tidyr)\n",
    "library(\"ggpubr\")"
   ]
  },
  {
   "cell_type": "markdown",
   "metadata": {},
   "source": [
    "## Loading of data"
   ]
  },
  {
   "cell_type": "code",
   "execution_count": 6,
   "metadata": {},
   "outputs": [],
   "source": [
    "plot19_dat = readRDS(\"~/Project/plot_19_pcnt.rds\")\n",
    "plot20_dat = readRDS(\"~/Project/plot_img20_overlap.rds\")\n",
    "Mengyu_plt_dat = readRDS(\"~/Project/plot_mengyu_result.rds\")"
   ]
  },
  {
   "cell_type": "code",
   "execution_count": null,
   "metadata": {},
   "outputs": [],
   "source": []
  },
  {
   "cell_type": "markdown",
   "metadata": {},
   "source": [
    "## Plotting individual plot"
   ]
  },
  {
   "cell_type": "code",
   "execution_count": 17,
   "metadata": {},
   "outputs": [],
   "source": [
    "level = c(\"FUSION\",\"MvSuSiE\")\n",
    "theme = theme(axis.text.x = element_text(color = \"grey20\", size = 16, angle = 0, hjust = .5, vjust = .5, face = \"plain\"),\n",
    "              axis.text.y = element_text(color = \"grey20\", size = 16, angle = 0, hjust = 1, vjust = 0, face = \"plain\"),  \n",
    "              axis.title.x = element_text(color = \"grey20\", size = 20, angle = 0, hjust = .5, vjust = 0, face = \"plain\"),\n",
    "              axis.title.y = element_text(color = \"grey20\", size = 20, angle = 90, hjust = .5, vjust = .5, face = \"plain\"),\n",
    "              title = element_text(color = \"grey20\", size = 20, angle = 0, hjust = .5, vjust = 0, face = \"plain\"),\n",
    "              legend.position=\"NONE\",\n",
    "              legend.title = element_blank(),\n",
    "              panel.background = element_rect(fill = \"white\",\n",
    "                                              colour = \"black\",\n",
    "                                              size = 0.2, linetype = \"solid\"),\n",
    "              text = element_text(size = 20)) "
   ]
  },
  {
   "cell_type": "code",
   "execution_count": 16,
   "metadata": {},
   "outputs": [
    {
     "name": "stderr",
     "output_type": "stream",
     "text": [
      "`summarise()` has grouped output by 'Tissue'. You can override using the `.groups` argument.\n",
      "\n"
     ]
    }
   ],
   "source": [
    "plot_a = plot20_dat%>%ggplot(aes(x = Tissue, y = n,fill = Model  ))+geom_col(size=.1)+scale_fill_manual(values = c(\"#F9766D\",\"79A4F8\",\"#00BFC4\"))+ylab(\"Number of genes\")+#ggtitle(\"Number of significant TWAS\")+\n",
    "  theme_bw()+theme\n",
    "\n",
    "\n",
    "plot_b = plot19_dat%>%mutate( winner = map_chr(pv_less,~level[.x+1] ) )%>%mutate(Tissue = factor(Tissue,levels = c(\"DLPFC\",\"AC\",\"PCC\")))%>%\n",
    "  group_by(Tissue,winner)%>%summarise(count = n() )%>%\n",
    "  mutate(pcnt = count/sum(count),Winner = factor(winner, levels = c(\"MvSuSiE\",\"FUSION\") ) )%>%\n",
    "  ggplot(aes(x = Tissue,y = pcnt,fill = Winner))+geom_col(size=.1)+ylab(\"Ratio\")+labs(fill = \"Winner\")+scale_fill_manual(values = c(\"#F9766D\",\"#00BFC4\"))+#ggtitle(\"Ratio of genes with the better model\")+\n",
    "  theme_bw()+theme\n",
    "\n",
    "\n",
    "\n",
    "plot_c = Mengyu_plt_dat %>%   \n",
    "  ggplot(aes(x = Model, y = R2, fill=Betas)) +\n",
    "  geom_bar(stat=\"identity\",position = \"dodge\") +\n",
    "  scale_fill_manual(values = c(\"grey\", \"#F9766D\" ,\"#00BFC4\")) +\n",
    "  theme_bw() +\n",
    "  coord_cartesian(ylim = c(0.15, 0.3))+theme"
   ]
  },
  {
   "cell_type": "markdown",
   "metadata": {},
   "source": [
    "## Combining the plots"
   ]
  },
  {
   "cell_type": "code",
   "execution_count": 20,
   "metadata": {},
   "outputs": [],
   "source": [
    "plot_list = list(A = plot_a, B = plot_b, C = plot_c) \n",
    "plot = ggarrange(plotlist = plot_list, ncol = 3, widths = c(1.6,1.6,2) )"
   ]
  },
  {
   "cell_type": "code",
   "execution_count": 21,
   "metadata": {},
   "outputs": [
    {
     "data": {
      "image/png": "[encoded data removed]",
      "text/plain": [
       "plot without title"
      ]
     },
     "metadata": {
      "image/png": {
       "height": 420,
       "width": 420
      }
     },
     "output_type": "display_data"
    }
   ],
   "source": [
    "plot"
   ]
  }
 ],
 "metadata": {
  "kernelspec": {
   "display_name": "R",
   "language": "R",
   "name": "ir"
  },
  "language_info": {
   "codemirror_mode": "r",
   "file_extension": ".r",
   "mimetype": "text/x-r-source",
   "name": "R",
   "pygments_lexer": "r",
   "version": "3.6.3"
  }
 },
 "nbformat": 4,
 "nbformat_minor": 4
}
