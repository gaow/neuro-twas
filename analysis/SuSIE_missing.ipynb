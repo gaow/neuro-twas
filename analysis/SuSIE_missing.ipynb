{
 "cells": [
  {
   "cell_type": "markdown",
   "id": "0583aeeb-5657-42d9-8be0-2c4e9ecec0fc",
   "metadata": {},
   "source": []
  },
  {
   "cell_type": "markdown",
   "id": "6376d9c7-78a5-49b0-8c23-1c8d5864ffb2",
   "metadata": {},
   "source": [
    "## Result"
   ]
  },
  {
   "cell_type": "markdown",
   "id": "23116974-c9ff-4104-ae0e-b020bd61e8f2",
   "metadata": {},
   "source": [
    "### Univariate Result"
   ]
  },
  {
   "cell_type": "code",
   "execution_count": null,
   "id": "c5003555-9b53-499f-bf49-739f81068e83",
   "metadata": {},
   "outputs": [],
   "source": []
  }
 ],
 "metadata": {
  "kernelspec": {
   "display_name": "R",
   "language": "R",
   "name": "ir"
  },
  "language_info": {
   "codemirror_mode": "r",
   "file_extension": ".r",
   "mimetype": "text/x-r-source",
   "name": "R",
   "pygments_lexer": "r",
   "version": "4.0.0"
  }
 },
 "nbformat": 4,
 "nbformat_minor": 5
}
