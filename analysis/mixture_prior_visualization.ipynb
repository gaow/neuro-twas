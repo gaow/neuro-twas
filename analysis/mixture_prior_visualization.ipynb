{
 "cells": [
  {
   "cell_type": "markdown",
   "metadata": {},
   "source": [
    "# Mixture Prior analysis for ROSMAP\n",
    "Visualization of the mixture prior generated for ROSMAP"
   ]
  },
  {
   "cell_type": "markdown",
   "metadata": {},
   "source": [
    "## Context\n",
    "\n",
    "Mixture prior for multivariate SuSiE is produced by the [mixture_prior](https://hsun3163.github.io/neuro-twas/workflow/mixture_prior.html) pipeline. For each gene, the pipeline performs factor analysis on normalized molecular weights for SNVs with strongest univariate signals on three tissues to acquir a list of factors that partially reflect the whole genome covariance strucure for normalized molecular weights. The proportion of genome explained by each of the factor are estimated by extreme deconvolution(ED). Three implementation of ED are used: TEEM, UDR(ed), and mashR(ed_brovy). The mixture priors generated are visualized in this notebook "
   ]
  },
  {
   "cell_type": "markdown",
   "metadata": {},
   "source": [
    "## Prepration"
   ]
  },
  {
   "cell_type": "code",
   "execution_count": 152,
   "metadata": {},
   "outputs": [
    {
     "name": "stderr",
     "output_type": "stream",
     "text": [
      "Warning message in gzfile(file, \"rb\"):\n",
      "“cannot open compressed file '/home/hs3163/Project/Genome_prior/mixture_prior/output/susie.ed.rds', probable reason 'No such file or directory'”\n"
     ]
    },
    {
     "ename": "ERROR",
     "evalue": "Error in gzfile(file, \"rb\"): cannot open the connection\n",
     "output_type": "error",
     "traceback": [
      "Error in gzfile(file, \"rb\"): cannot open the connection\nTraceback:\n",
      "1. readRDS(\"/home/hs3163/Project/Genome_prior/mixture_prior/output/susie.ed.rds\")",
      "2. gzfile(file, \"rb\")"
     ]
    }
   ],
   "source": [
    "library(\"dplyr\")\n",
    "library(\"purrr\")\n",
    "library(\"tibble\") \n",
    "library(\"tidyr\")\n",
    "library(\"ggplot2\") \n",
    "\n",
    "plot_sharing = function(X, to_cor=FALSE, title=\"\", remove_names=F) {\n",
    "    clrs <- colorRampPalette(rev(c(\"#D73027\",\"#FC8D59\",\"#FEE090\",\"#FFFFBF\",\n",
    "                                   \"#E0F3F8\",\"#91BFDB\",\"#4575B4\")))(128)\n",
    "    if (to_cor) lat <- cov2cor(X)\n",
    "    else lat = X/max(diag(X))\n",
    "    lat[lower.tri(lat)] <- NA\n",
    "    n <- nrow(lat)\n",
    "    if (remove_names) {\n",
    "      colnames(lat) = NULL\n",
    "      rownames(lat) = NULL\n",
    "    }\n",
    "    return(lattice::levelplot(lat[n:1,],col.regions = clrs,\n",
    "                            xlab = \"\",ylab = \"\", main=title,\n",
    "                            colorkey = TRUE,at = seq(-1,1,length.out = 128),\n",
    "                            scales = list(cex = 0.6,x = list(rot = 45))))\n",
    "} \n",
    "\n",
    "dir = \"/home/hs3163/Project/Genome_prior/mixture_prior/output/susie.\"\n",
    "model = c(\"ed_bovy\", \"ed\",\"teem\")\n",
    "susie_edbovy = readRDS(\"/home/hs3163/Project/Genome_prior/mixture_prior/output/susie.ed_bovy.rds\")\n",
    "susie_ed = readRDS(\"/home/hs3163/Project/Genome_prior/mixture_prior/output/susie.ed.rds\")\n",
    "susie_teem = readRDS(\"/home/hs3163/Project/Genome_prior/mixture_prior/output/susie.teem.rds\")"
   ]
  },
  {
   "cell_type": "markdown",
   "metadata": {},
   "source": [
    "## Distribution of Weights"
   ]
  },
  {
   "cell_type": "code",
   "execution_count": 80,
   "metadata": {},
   "outputs": [],
   "source": [
    "# Loading the three rds into one meta table\n",
    "dat =  tibble(model = model)%>%\n",
    "            mutate(rds = map(model,~readRDS(paste(dir,.x,\".rds\",sep = \"\"))),\n",
    "                  meta = map2(rds,model,~data.frame(names(.x$U), .x$w, stringsAsFactors=F))\n",
    "                  )\n",
    "meta = dat%>%select(model,meta)%>%unnest\n",
    "colnames(meta) = c(\"Model\",\"Components\",\"Weights\")"
   ]
  },
  {
   "cell_type": "code",
   "execution_count": 81,
   "metadata": {},
   "outputs": [
    {
     "data": {
      "image/png": "[encoded data removed]",
      "text/plain": [
       "plot without title"
      ]
     },
     "metadata": {
      "image/png": {
       "height": 420,
       "width": 420
      }
     },
     "output_type": "display_data"
    }
   ],
   "source": [
    "meta%>%ggplot(aes(x = Components, y = Weights,fill = Model ))+geom_col(position = \"dodge\")+coord_flip()+\n",
    "            ggtitle(\"Distribution of Weights for each components for each mode\")"
   ]
  },
  {
   "cell_type": "code",
   "execution_count": 147,
   "metadata": {},
   "outputs": [
    {
     "data": {
      "image/png": "[encoded data removed]",
      "text/plain": [
       "plot without title"
      ]
     },
     "metadata": {
      "image/png": {
       "height": 420,
       "width": 420
      }
     },
     "output_type": "display_data"
    }
   ],
   "source": [
    "susie_can = readRDS(\"/home/hs3163/Project/Genome_prior/mixture_prior/output/susie.canonical.rds\")\n",
    "colnames(susie_can$identity) = c(\"A\",\"B\",\"C\")\n",
    "rownames(susie_can$identity) = c(\"A\",\"B\",\"C\")\n",
    "plot_sharing(susie_can$identity)\n",
    "\n",
    "\n"
   ]
  },
  {
   "cell_type": "markdown",
   "metadata": {},
   "source": [
    "## Visualization of component of interest \n",
    "### Extreme Deconvolution via UDR"
   ]
  },
  {
   "cell_type": "code",
   "execution_count": null,
   "metadata": {},
   "outputs": [],
   "source": []
  },
  {
   "cell_type": "markdown",
   "metadata": {},
   "source": [
    "### Extreme Deconvolution via UDR-TEEM"
   ]
  },
  {
   "cell_type": "code",
   "execution_count": null,
   "metadata": {},
   "outputs": [],
   "source": []
  },
  {
   "cell_type": "markdown",
   "metadata": {},
   "source": [
    "### Extreme Deconvolution via mashr package, bovy method"
   ]
  },
  {
   "cell_type": "code",
   "execution_count": null,
   "metadata": {},
   "outputs": [],
   "source": []
  }
 ],
 "metadata": {
  "kernelspec": {
   "display_name": "R",
   "language": "R",
   "name": "ir"
  },
  "language_info": {
   "codemirror_mode": "r",
   "file_extension": ".r",
   "mimetype": "text/x-r-source",
   "name": "R",
   "pygments_lexer": "r",
   "version": "3.6.3"
  }
 },
 "nbformat": 4,
 "nbformat_minor": 4
}
