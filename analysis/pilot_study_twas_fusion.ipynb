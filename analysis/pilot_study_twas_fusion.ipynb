{
 "cells": [
  {
   "cell_type": "markdown",
   "metadata": {
    "kernel": "SoS"
   },
   "source": [
    "# Pilot Study: TWAS/FUSION for Alzheimer risk locus \n",
    "Result for analzing the output of Fusion TWAS result"
   ]
  },
  {
   "cell_type": "markdown",
   "metadata": {},
   "source": [
    "## Background \n",
    "A recent research on Alzheimer disease at 2019 identified 198 unique genes of interest from both table 1 and supplementary table 13. They are\n",
    "\n",
    "34 genes from \n",
    "   >Table 1: Significantly associated regions identified in the GWAS of AD case-control status, AD-by-proxy phenotype, and meta-analysis\n",
    "\n",
    "192 genes from \n",
    "   >Supplementary Table 13: Genes implicated by positional mapping, eQTL or chromatin interaction mapping of significant GWAS SNPs.\n",
    "\n",
    "Among them, 6 genes in Table 1 are not covered in S_Table 13, making a total of 198 genes.\n",
    "\n",
    "This analysis take these regions, cross reference them with the genes that were sequenced in the ROSMAP data set, and then compute the weight and Association stats for it. "
   ]
  },
  {
   "cell_type": "markdown",
   "metadata": {
    "kernel": "SoS"
   },
   "source": [
    "## Method\n",
    "### Data wrangling and Region list extraction.\n",
    "Before started,two csv format gene list was extracted from both table 1,via microsoft word OCR, and the downloaded supplemanty table 13 of the paper.\n",
    "\n",
    "The code used for extractng a region list is shown below. \n",
    "\n",
    "The first section correct various mistake in Table 1 that can inhibit the annotation and matching process. Then ensemble ID are attched to table 1 based using \"hsapiens_gene_ensembl\" data base as table 13 already have ensemble ID comming with it. The checking of both gene name and ensemble ID ensure there is no duplication of genes. \n",
    "\n",
    "The genes are then used to compared with both the DLPFC and the PCC.  \n",
    "\n",
    "162 out of 192 genes are included in the ROSMAP DLPFC gene expression files and 160 are in that of PCC, both are stored for follow up analysis. For the excluded genes, please see:https://github.com/cumc/neuro-twas/issues/20\n",
    "\n",
    "    The following codes are meant to be ran in a R enviorment with package collection tidyverse installed."
   ]
  },
  {
   "cell_type": "code",
   "execution_count": null,
   "metadata": {
    "kernel": "R"
   },
   "outputs": [],
   "source": [
    "library(dplyr)\n",
    "library(readr)\n",
    "library(tibble)\n",
    "library(ggplot2)\n",
    "library(stringr)\n",
    "library(\"biomaRt\")\n",
    "table_13 = read_csv(\"/Users/haosun/Documents/WG_Reasearch_Assisstant/Fusion/Project/table_13.csv\",skip = 3)%>%janitor::clean_names()%>%dplyr::select(chr,gene,ensembl_id)\n",
    "table_1 = read_csv(\"/Users/haosun/Documents/WG_Reasearch_Assisstant/Fusion/Project/table_1.csv\",skip = 2)%>%janitor::clean_names()%>%dplyr::select(chr,gene,snp)\n",
    "table_13 = table_13[1:192,]\n",
    "table_1[,3]=1\n",
    "table_1 = table_1%>%na.omit()\n",
    "# Manual change the error in table_1\n",
    "#Typo in the paper\n",
    "table_1$gene[table_1$gene == \"INPPD5\"] = \"INPP5D\"\n",
    "#Alternative name for same genes\n",
    "table_1$gene[table_1$gene == \"AC074212.3\"] = \"BHMG1\"\n",
    "table_1$gene[table_1$gene == \"BZRAP1-AS1\"] = \"TSPOAP1-AS1\"\n",
    "#Two genes putted together\n",
    "table_1$gene[table_1$gene == \"CLU/PTK2B\"] = \"CLU\"\n",
    "table_1 = rbind(table_1,c(8,\"PTK2B\",1))\n",
    "\n",
    "table_1%>%filter(!gene%in%table_13$gene)\n",
    "\n",
    "# Annotated the ID for table_1\n",
    "ensembl = useDataset(\"hsapiens_gene_ensembl\",mart=useMart(\"ENSEMBL_MART_ENSEMBL\"))\n",
    "ensembl_df <- getBM(attributes=c(\"ensembl_gene_id\",\"chromosome_name\", \"start_position\", \"end_position\",\"external_gene_name\"),mart=ensembl)%>%filter(!str_detect(chromosome_name,\"CHR\"))\n",
    "table_1_anno = left_join(x = table_1, y = ensembl_df, by = c(\"gene\" = \"external_gene_name\"))%>%dplyr::select(gene,\"ensembl_id\" = ensembl_gene_id,chr)\n",
    "table_1_anno[is.na(table_1_anno$ensembl_id),]\n",
    "\n",
    "# Remove the * in table_13\n",
    "str_detect(Name,\"\\\\*\")\n",
    "table_13[str_detect(table_13$gene,\"\\\\*\"),] = table_13%>%filter(str_detect(gene,\"\\\\*\"))%>%mutate(gene = str_sub(gene,end=-2))\n",
    "\n",
    "\n",
    "# combined the two table and remove the duplicated. table 1 bring 7 additional genes to table 13\n",
    "Alz_gene = rbind(table_1_anno,table_13)%>%filter(!duplicated(gene))\n",
    "Alz_gene\n",
    "\n",
    "# Find if all the genes present in the ROSMAP dataset\n",
    "\n",
    "#DLPFC\n",
    "RSM_DLPFC_gene_list = readr::read_delim(\"/Users/haosun/Documents/WG_Reasearch_Assisstant/Rosmap/Data/gene_exp/DLPFC/geneCountsResidualsPlusBaselineAgeGenderAdj_rename.txt\",\"\\t\")\n",
    "# A total of 162 genes are present in the DLPFC gene exp\n",
    "Alz_gene_notIn_DLPFC = Alz_gene%>%filter(!ensembl_id%in%RSM_DLPFC_gene_list$gene_ID)\n",
    "\n",
    "#PCC\n",
    "\n",
    "readr::read_delim(\"/Users/haosun/Documents/WG_Reasearch_Assisstant/Rosmap/Data/geneTpmResidualsAgeGenderAdj_rename_region_list.txt\",\"\\t\")\n",
    "\n",
    "RSM_PCC_gene_list = readr::read_delim(\"/Users/haosun/Documents/WG_Reasearch_Assisstant/Rosmap/Data/gene_exp/PCC/geneTpmResidualsAgeGenderAdj_rename.txt\",\"\\t\")\n",
    "Alz_gene_notIn_PCC = Alz_gene%>%filter(!ensembl_id%in%RSM_PCC_gene_list$gene_ID)\n",
    "\n",
    "\n",
    "Alz_gene_notIn_PCC[!Alz_gene_notIn_PCC$gene%in%Alz_gene_notIn_DLPFC$gene,]\n",
    "\n",
    "#AC\n",
    "RSM_AC_gene_list = readr::read_delim(\"/Users/haosun/Documents/WG_Reasearch_Assisstant/Rosmap/Data/geneCountsResidualsAgeGenderAdj.txt\",\" \")\n",
    "Alz_gene_notIn_AC = Alz_gene%>%filter(!ensembl_id%in%RSM_AC_gene_list$gene_ID)\n",
    "\n",
    "# Gene that are only excluded from AC \n",
    "Alz_gene_notIn_AC[!Alz_gene_notIn_AC$gene%in%Alz_gene_notIn_PCC$gene,]\n",
    "\n",
    "# Gene that are excluded from PCC and DLPFC only\n",
    "Alz_gene_notIn_PCC[!Alz_gene_notIn_PCC$gene%in%Alz_gene_notIn_AC$gene,]\n",
    "\n",
    "#See what gene from table 1 are excluded, both gene_set\n",
    "table_1_anno[table_1_anno$ensembl_id%in%Alz_gene_notIn_PCC$ensembl_id,] \n",
    "table_1[table_1$gene%in%Alz_gene_notIn_AC$gene,]\n",
    "\n",
    "#See what gene from table 13 are excluded\n",
    "table_13[table_13$gene%in%Alz_gene_notIn_PCC$gene,]%>%filter(gene == \"EXOC3L2\")\n",
    "table_13[table_13$gene%in%Alz_gene_notIn_AC$gene,]\n",
    "\n",
    "#Check if the excluded gene have alternative ensemble ID in PCC and DLPFC, and if it was presented(No)\n",
    "ensembl_df%>%filter(external_gene_name%in%Alz_gene_notIn_PCC$gene,!ensembl_gene_id%in%Alz_gene_notIn_PCC$ensembl_id)\n",
    "RSM_DLPFC_gene_list%>%filter(gene_ID%in%Alz_gene$ensembl_id)%>%filter(gene_ID == \"ENSG00000283632\")\n",
    "RSM_PCC_gene_list%>%filter(gene_ID%in%Alz_gene$ensembl_id)%>%filter(gene_ID == \"ENSG00000283632\")\n",
    "#Check if the excluded gene have alternative ensemble ID in AC, and if it was presented(No)\n",
    "ensembl_df%>%filter(external_gene_name%in%Alz_gene_notIn_AC$gene,!ensembl_gene_id%in%Alz_gene_notIn_AC$ensembl_id)\n",
    "RSM_AC_gene_list%>%filter(gene_ID%in%Alz_gene$ensembl_id)%>%filter(gene_ID == \"ENSG00000283632\")\n",
    "\n",
    "\n",
    "# Export the region list for DLPFC and PCC, AC\n",
    "RSM_ALZ_gene_DLPFC = RSM_DLPFC_gene_list%>%filter(gene_ID%in%Alz_gene$ensembl_id)\n",
    "RSM_ALZ_gene_DLPFC%>%write_delim(\"/Users/haosun/Documents/WG_Reasearch_Assisstant/Rosmap/Data/DLPFC/RSM_Alz_region_list.txt\",delim = \"\\t\")\n",
    "\n",
    "RSM_ALZ_gene_PCC = RSM_PCC_gene_list%>%filter(gene_ID%in%Alz_gene$ensembl_id)\n",
    "RSM_ALZ_gene_PCC%>%write_delim(\"/Users/haosun/Documents/WG_Reasearch_Assisstant/Rosmap/Data/PCC/RSM_Alz_region_list.txt\",delim = \"\\t\")\n",
    "\n",
    "RSM_ALZ_gene_AC = RSM_AC_gene_list%>%filter(gene_ID%in%Alz_gene$ensembl_id)\n",
    "RSM_ALZ_gene_AC%>%write_delim(\"/Users/haosun/Documents/WG_Reasearch_Assisstant/Rosmap/Data/AC/RSM_Alz_region_list.txt\",delim = \"\\t\")\n",
    "\n",
    "\n"
   ]
  },
  {
   "cell_type": "markdown",
   "metadata": {
    "kernel": "R"
   },
   "source": [
    "### Weight Computation, HSQ estimation,and association testing\n",
    "Since the region extracted and the sum stat are availble at the moments. The weight computation and association testing are performed on one go. A workflow are ran for both the DLPFC, PCC and AC for both all the SNVs in the WGS dataset(with a surfix: FULL) and also a selection of SNVs that have GWAS score with Alz disease reported. \n",
    "\n",
    "For the study, most parameters are ran using the standard twas_fusion workflow, with the following specifications for the weight computation steps:\n",
    "\n",
    "    All five models are used.\n",
    "    A window of 10000 bp beforee and after the gene was used.\n",
    "   >Positional mapping maps SNPs to genes based on physical distance (within a 10-kb window) from known protein-coding genes in the human reference assembly (GRCh37/hg19).\n",
    "    \n",
    "    The cut off p.value of heritability is 0.01\n"
   ]
  },
  {
   "cell_type": "code",
   "execution_count": null,
   "metadata": {
    "kernel": "Bash"
   },
   "outputs": [],
   "source": [
    "#DLPFC, SNP \n",
    "nohup sos run ~/GIT/neuro-twas/Workflow/twas_fusion.ipynb twas_fusion  \\\n",
    "  --gwas_sumstat /home/hs3163/Project/Alz/data/AD_sumstats_Jansenetal_2019sept.txt \\\n",
    "  --molecular-pheno  /home/hs3163/Project/Rosmap/data/gene_exp/DLPFC/geneTpmResidualsAgeGenderAdj_rename.txt  \\\n",
    "  --wd /home/hs3163/Project/Alz/Alz_DLPFC_SNP \\\n",
    "  --genotype_list /home/hs3163/Project/Rosmap/data/Rosmap_wgs_genotype_list.txt \\\n",
    "  --region_list /home/hs3163/Project/Alz/data/RSM_Alz_region_list_DLPFC.txt \\\n",
    "  --region_name 1 \\\n",
    "  --data_start 2 \\\n",
    "  --window 500000 \\\n",
    "  --container /mnt/mfs/statgen/containers/twas_latest.sif \\\n",
    "  --model bslmm blup lasso top1 enet \\\n",
    "  --job_size 1\\\n",
    "  --asso_mem \"60G\" \\\n",
    "  --extract_snp ~/Project/Alz/data/AD_sumstats_SNP \\\n",
    "  -J 6 -q csg -c /mnt/mfs/statgen/pbs_template/csg.yml -s build &\n",
    "\n",
    "#PCC, AD SNP\n",
    "\n",
    "nohup sos run ~/GIT/neuro-twas/Workflow/twas_fusion.ipynb twas_fusion  \\\n",
    "  --gwas_sumstat /home/hs3163/Project/Alz/data/AD_sumstats_Jansenetal_2019sept.txt \\\n",
    "  --molecular-pheno  /home/hs3163/Project/Rosmap/data/gene_exp/PCC/geneTpmResidualsAgeGenderAdj_rename.txt  \\\n",
    "  --wd /home/hs3163/Project/Alz/Alz_PCC_SNP \\\n",
    "  --genotype_list /home/hs3163/Project/Rosmap/data/Rosmap_wgs_genotype_list.txt \\\n",
    "  --region_list /home/hs3163/Project/Alz/data/RSM_Alz_region_list_PCC.txt \\\n",
    "  --region_name 1 \\\n",
    "  --data_start 2 \\\n",
    "  --window 500000 \\\n",
    "  --container /mnt/mfs/statgen/containers/twas_latest.sif \\\n",
    "  --model bslmm blup lasso top1 enet \\\n",
    "  --job_size 1\\\n",
    "  --asso_mem \"60G\" \\\n",
    "  --extract_snp ~/Project/Alz/data/AD_sumstats_SNP \\\n",
    "  -J 50 -q csg -c /mnt/mfs/statgen/pbs_template/csg.yml -s build &\n",
    "\n",
    "#AC, AD SNP\n",
    "\n",
    "nohup sos run ~/GIT/neuro-twas/Workflow/twas_fusion.ipynb twas_fusion  \\\n",
    "  --gwas_sumstat /home/hs3163/Project/Alz/data/AD_sumstats_Jansenetal_2019sept.txt \\\n",
    "  --molecular-pheno  /home/hs3163/Project/Rosmap/data/gene_exp/AC/geneTpmResidualsAgeGenderAdj_rename.txt  \\\n",
    "  --wd /home/hs3163/Project/Alz/Alz_AC_SNP \\\n",
    "  --genotype_list /home/hs3163/Project/Rosmap/data/Rosmap_wgs_genotype_list.txt \\\n",
    "  --region_list /home/hs3163/Project/Alz/data/RSM_Alz_region_list_AC.txt \\\n",
    "  --region_name 1 \\\n",
    "  --data_start 2 \\\n",
    "  --window 500000 \\\n",
    "  --container /mnt/mfs/statgen/containers/twas_latest.sif \\\n",
    "  --model bslmm blup lasso top1 enet \\\n",
    "  --job_size 1\\\n",
    "  --asso_mem \"60G\" \\\n",
    "  --extract_snp ~/Project/Alz/data/AD_sumstats_SNP \\\n",
    "  -J 50 -q csg -c /mnt/mfs/statgen/pbs_template/csg.yml -s build &"
   ]
  },
  {
   "cell_type": "markdown",
   "metadata": {
    "kernel": "R"
   },
   "source": [
    "### Gene exclusion\n",
    "At the second step of the workflow, two genes are excluded in the plink stages for DLPFC due to the reason of \"All variants excluded\". They are ENSG00000077454 and ENSG00000205307. A \"All variants excluded\" in plink stand for:\n",
    "\n",
    ">The filtering flags you specified caused every last sample or every last variant to be excluded from the analysis.\n",
    "\n",
    "Indeed there are no SNP in the chr7: 100562228 ~ 100596129 where ENSG00000205307 and ENSG00000077454 located.\n",
    "\n",
    "As the ENSG00000205307 is not in the dataset of PCC, only one gene: ENSG00000077454 are excluded in the PCC run.\n",
    "\n",
    "The following codes, ran in the cluster, are used to achieved the aforementioned results"
   ]
  },
  {
   "cell_type": "code",
   "execution_count": null,
   "metadata": {
    "kernel": "R"
   },
   "outputs": [],
   "source": [
    "library(dplyr)\n",
    "Chr7 = readr::read_delim(\"/mnt/mfs/ctcn/datasets/rosmap/wgs/ampad/variants/snvCombinedPlink/chr7.bim\",delim = \"\\t\")\n",
    "colnames(Chr7)[4] = \"Pos\"\n",
    "Chr7%>%filter(Pos>100562228,Pos<100596129)"
   ]
  },
  {
   "cell_type": "markdown",
   "metadata": {
    "kernel": "SoS"
   },
   "source": [
    "## Result\n",
    "### Distribution of Hsq\n",
    "Using the aforementioned criteria, there 30 genes out of 160 passed the filtering criteria, a alternative run indicates that when using a window of region +/- 5E6 bp, only 1 additional genes passed the hsq cut off.  \n",
    "\n",
    "Out of the genes whose weight are not computed, there are only 91 of them have their heritability calculated. The rest (130-91) are excluded due to the the error \n",
    "   >\"GCTA could not converge, skipping gene\"\n",
    "\n",
    "which actually stand for the fail to to converge in REML algorithm. The author of TWAS/FUSION indicates in https://github.com/gusevlab/fusion_twas/issues/11 that\n",
    "\n",
    ">the lack of REML convergence is a complicated issue that depends on the scale and complexity of the data. If you are seeing this consistently across phenotypes it likely means your sample size is insufficient to build predictors. \n",
    "\n",
    "All the hsq file was combined to produce a hsq table for analysis.\n",
    "\n",
    "Among all the genes, there are 32 genes that have a pval smaller than 0.01, however 2 of them have negative heritability: ENSG00000106351 and ENSG00000106336. Both located at chromosome 7. Among the rest of them, there are still 26 genes with negative heritability.\n",
    "\n",
    "There is one gene,ENSG00000213654, with a estimated heritability of 62.4 which have a pval of 0.5, indicating errors from various source. This gene was removed as a outlier in the analysis of the heritability.\n"
   ]
  },
  {
   "cell_type": "code",
   "execution_count": null,
   "metadata": {
    "kernel": "R"
   },
   "outputs": [],
   "source": [
    "library(dplyr)\n",
    "library(tibble)\n",
    "library(readr)\n",
    "library(ggplot2)\n",
    "library(purrr)\n",
    "library(stringr)\n",
    "library(tidyr)\n",
    "DLPFC_hsq = read_delim(\"~/Project/Alz/Alz_DLPFC_SNP/WEIGHTS/all_hsq.txt\",delim = \" \")\n",
    "PCC_hsq = read_delim(\"~/Project/Alz/Alz_PCC_SNP/WEIGHTS/all_hsq.txt\",delim = \" \")\n",
    "AC_hsq = read_delim(\"~/Project/Alz/Alz_AC_SNP/WEIGHTS/all_hsq.txt\",delim = \" \")"
   ]
  },
  {
   "cell_type": "markdown",
   "metadata": {},
   "source": [
    "#### Distribution of Hsq in DLPFC"
   ]
  },
  {
   "cell_type": "code",
   "execution_count": 22,
   "metadata": {
    "kernel": "R"
   },
   "outputs": [
    {
     "data": {
      "text/html": [
       "<table>\n",
       "<caption>A tibble: 3 × 4</caption>\n",
       "<thead>\n",
       "\t<tr><th scope=col>data</th><th scope=col>mean</th><th scope=col>median</th><th scope=col>var</th></tr>\n",
       "\t<tr><th scope=col>&lt;chr&gt;</th><th scope=col>&lt;dbl&gt;</th><th scope=col>&lt;dbl&gt;</th><th scope=col>&lt;dbl&gt;</th></tr>\n",
       "</thead>\n",
       "<tbody>\n",
       "\t<tr><td>heritability</td><td>0.06428275</td><td>0.0250625</td><td>0.0134875471</td></tr>\n",
       "\t<tr><td>h_SE        </td><td>0.02242054</td><td>0.0191535</td><td>0.0001445365</td></tr>\n",
       "\t<tr><td>pval        </td><td>0.10872261</td><td>0.0242575</td><td>0.0202806518</td></tr>\n",
       "</tbody>\n",
       "</table>\n"
      ],
      "text/latex": [
       "A tibble: 3 × 4\n",
       "\\begin{tabular}{llll}\n",
       " data & mean & median & var\\\\\n",
       " <chr> & <dbl> & <dbl> & <dbl>\\\\\n",
       "\\hline\n",
       "\t heritability & 0.06428275 & 0.0250625 & 0.0134875471\\\\\n",
       "\t h\\_SE         & 0.02242054 & 0.0191535 & 0.0001445365\\\\\n",
       "\t pval         & 0.10872261 & 0.0242575 & 0.0202806518\\\\\n",
       "\\end{tabular}\n"
      ],
      "text/markdown": [
       "\n",
       "A tibble: 3 × 4\n",
       "\n",
       "| data &lt;chr&gt; | mean &lt;dbl&gt; | median &lt;dbl&gt; | var &lt;dbl&gt; |\n",
       "|---|---|---|---|\n",
       "| heritability | 0.06428275 | 0.0250625 | 0.0134875471 |\n",
       "| h_SE         | 0.02242054 | 0.0191535 | 0.0001445365 |\n",
       "| pval         | 0.10872261 | 0.0242575 | 0.0202806518 |\n",
       "\n"
      ],
      "text/plain": [
       "  data         mean       median    var         \n",
       "1 heritability 0.06428275 0.0250625 0.0134875471\n",
       "2 h_SE         0.02242054 0.0191535 0.0001445365\n",
       "3 pval         0.10872261 0.0242575 0.0202806518"
      ]
     },
     "metadata": {},
     "output_type": "display_data"
    },
    {
     "name": "stderr",
     "output_type": "stream",
     "text": [
      "`stat_bin()` using `bins = 30`. Pick better value with `binwidth`.\n",
      "\n"
     ]
    },
    {
     "data": {
      "image/png": "[encoded data removed]",
      "text/plain": [
       "plot without title"
      ]
     },
     "metadata": {
      "image/png": {
       "height": 420,
       "width": 420
      }
     },
     "output_type": "display_data"
    }
   ],
   "source": [
    "hsq = DLPFC_hsq%>%filter(heritability >= 0, heritability <= 1)\n",
    "summ = tibble(\n",
    "  data = c(\"heritability\", \"h_SE\", \"pval\"),\n",
    "  mean = c(\n",
    "    hsq%>%pull(heritability)%>%mean(),\n",
    "    hsq%>%pull(h_SE)%>%mean(),\n",
    "    hsq%>%pull(pval)%>%mean()\n",
    "  ),\n",
    "  median = c(\n",
    "    hsq%>%pull(heritability)%>%median(),\n",
    "    hsq%>%pull(h_SE)%>%median(),\n",
    "    hsq%>%pull(pval)%>%median()\n",
    "    ),\n",
    "  var = c(\n",
    "    hsq%>%pull(heritability)%>%var(),\n",
    "    hsq%>%pull(h_SE)%>%var(),\n",
    "    hsq%>%pull(pval)%>%var()\n",
    "  ))\n",
    "summ\n",
    "hsq%>%ggplot(aes(x = pval))+geom_histogram()+geom_vline(xintercept = 0.05)+geom_vline(xintercept = 0.01)+ggtitle(\"Distribution of hsq p value in DLPFC\")"
   ]
  },
  {
   "cell_type": "markdown",
   "metadata": {
    "kernel": "R"
   },
   "source": [
    "#### Distribution of Hsq in PCC\n",
    "Rather surprisingly, despite of having more converged GCTA result: 115 hsq file, only 6 gene passed the heritability cut off, again All the hsq file was combined to produce a hsq table for analysis. \n"
   ]
  },
  {
   "cell_type": "code",
   "execution_count": 21,
   "metadata": {
    "kernel": "R"
   },
   "outputs": [
    {
     "data": {
      "text/html": [
       "<table>\n",
       "<caption>A tibble: 3 × 4</caption>\n",
       "<thead>\n",
       "\t<tr><th scope=col>data</th><th scope=col>mean</th><th scope=col>median</th><th scope=col>var</th></tr>\n",
       "\t<tr><th scope=col>&lt;chr&gt;</th><th scope=col>&lt;dbl&gt;</th><th scope=col>&lt;dbl&gt;</th><th scope=col>&lt;dbl&gt;</th></tr>\n",
       "</thead>\n",
       "<tbody>\n",
       "\t<tr><td>heritability</td><td>0.07639709</td><td>0.038822</td><td>0.0127929594</td></tr>\n",
       "\t<tr><td>h_SE        </td><td>0.03290833</td><td>0.029905</td><td>0.0001773041</td></tr>\n",
       "\t<tr><td>pval        </td><td>0.10562240</td><td>0.035524</td><td>0.0212703595</td></tr>\n",
       "</tbody>\n",
       "</table>\n"
      ],
      "text/latex": [
       "A tibble: 3 × 4\n",
       "\\begin{tabular}{llll}\n",
       " data & mean & median & var\\\\\n",
       " <chr> & <dbl> & <dbl> & <dbl>\\\\\n",
       "\\hline\n",
       "\t heritability & 0.07639709 & 0.038822 & 0.0127929594\\\\\n",
       "\t h\\_SE         & 0.03290833 & 0.029905 & 0.0001773041\\\\\n",
       "\t pval         & 0.10562240 & 0.035524 & 0.0212703595\\\\\n",
       "\\end{tabular}\n"
      ],
      "text/markdown": [
       "\n",
       "A tibble: 3 × 4\n",
       "\n",
       "| data &lt;chr&gt; | mean &lt;dbl&gt; | median &lt;dbl&gt; | var &lt;dbl&gt; |\n",
       "|---|---|---|---|\n",
       "| heritability | 0.07639709 | 0.038822 | 0.0127929594 |\n",
       "| h_SE         | 0.03290833 | 0.029905 | 0.0001773041 |\n",
       "| pval         | 0.10562240 | 0.035524 | 0.0212703595 |\n",
       "\n"
      ],
      "text/plain": [
       "  data         mean       median   var         \n",
       "1 heritability 0.07639709 0.038822 0.0127929594\n",
       "2 h_SE         0.03290833 0.029905 0.0001773041\n",
       "3 pval         0.10562240 0.035524 0.0212703595"
      ]
     },
     "metadata": {},
     "output_type": "display_data"
    },
    {
     "name": "stderr",
     "output_type": "stream",
     "text": [
      "`stat_bin()` using `bins = 30`. Pick better value with `binwidth`.\n",
      "\n"
     ]
    },
    {
     "data": {
      "image/png": "[encoded data removed]",
      "text/plain": [
       "plot without title"
      ]
     },
     "metadata": {
      "image/png": {
       "height": 420,
       "width": 420
      }
     },
     "output_type": "display_data"
    }
   ],
   "source": [
    "hsq = PCC_hsq%>%filter(heritability >= 0, heritability <= 1)\n",
    "summ = tibble(\n",
    "  data = c(\"heritability\", \"h_SE\", \"pval\"),\n",
    "  mean = c(\n",
    "    hsq%>%pull(heritability)%>%mean(),\n",
    "    hsq%>%pull(h_SE)%>%mean(),\n",
    "    hsq%>%pull(pval)%>%mean()\n",
    "  ),\n",
    "  median = c(\n",
    "    hsq%>%pull(heritability)%>%median(),\n",
    "    hsq%>%pull(h_SE)%>%median(),\n",
    "    hsq%>%pull(pval)%>%median()\n",
    "    ),\n",
    "  var = c(\n",
    "    hsq%>%pull(heritability)%>%var(),\n",
    "    hsq%>%pull(h_SE)%>%var(),\n",
    "    hsq%>%pull(pval)%>%var()\n",
    "  ))\n",
    "summ\n",
    "hsq%>%ggplot(aes(x = pval))+geom_histogram()+geom_vline(xintercept = 0.05)+geom_vline(xintercept = 0.01)+ggtitle(\"Distribution of hsq p value in PCC\")\n"
   ]
  },
  {
   "cell_type": "markdown",
   "metadata": {
    "kernel": "R"
   },
   "source": [
    "#### Distribution of Hsq in AC\n",
    "Rather surprisingly, despite of having more converged GCTA result: 115 hsq file, only 6 gene passed the heritability cut off, again All the hsq file was combined to produce a hsq table for analysis. "
   ]
  },
  {
   "cell_type": "code",
   "execution_count": 20,
   "metadata": {},
   "outputs": [
    {
     "data": {
      "text/html": [
       "<table>\n",
       "<caption>A tibble: 3 × 4</caption>\n",
       "<thead>\n",
       "\t<tr><th scope=col>data</th><th scope=col>mean</th><th scope=col>median</th><th scope=col>var</th></tr>\n",
       "\t<tr><th scope=col>&lt;chr&gt;</th><th scope=col>&lt;dbl&gt;</th><th scope=col>&lt;dbl&gt;</th><th scope=col>&lt;dbl&gt;</th></tr>\n",
       "</thead>\n",
       "<tbody>\n",
       "\t<tr><td>heritability</td><td>0.07673237</td><td>0.0326850</td><td>0.0137633551</td></tr>\n",
       "\t<tr><td>h_SE        </td><td>0.02850045</td><td>0.0249800</td><td>0.0001623329</td></tr>\n",
       "\t<tr><td>pval        </td><td>0.11077778</td><td>0.0314285</td><td>0.0203034027</td></tr>\n",
       "</tbody>\n",
       "</table>\n"
      ],
      "text/latex": [
       "A tibble: 3 × 4\n",
       "\\begin{tabular}{llll}\n",
       " data & mean & median & var\\\\\n",
       " <chr> & <dbl> & <dbl> & <dbl>\\\\\n",
       "\\hline\n",
       "\t heritability & 0.07673237 & 0.0326850 & 0.0137633551\\\\\n",
       "\t h\\_SE         & 0.02850045 & 0.0249800 & 0.0001623329\\\\\n",
       "\t pval         & 0.11077778 & 0.0314285 & 0.0203034027\\\\\n",
       "\\end{tabular}\n"
      ],
      "text/markdown": [
       "\n",
       "A tibble: 3 × 4\n",
       "\n",
       "| data &lt;chr&gt; | mean &lt;dbl&gt; | median &lt;dbl&gt; | var &lt;dbl&gt; |\n",
       "|---|---|---|---|\n",
       "| heritability | 0.07673237 | 0.0326850 | 0.0137633551 |\n",
       "| h_SE         | 0.02850045 | 0.0249800 | 0.0001623329 |\n",
       "| pval         | 0.11077778 | 0.0314285 | 0.0203034027 |\n",
       "\n"
      ],
      "text/plain": [
       "  data         mean       median    var         \n",
       "1 heritability 0.07673237 0.0326850 0.0137633551\n",
       "2 h_SE         0.02850045 0.0249800 0.0001623329\n",
       "3 pval         0.11077778 0.0314285 0.0203034027"
      ]
     },
     "metadata": {},
     "output_type": "display_data"
    },
    {
     "name": "stderr",
     "output_type": "stream",
     "text": [
      "`stat_bin()` using `bins = 30`. Pick better value with `binwidth`.\n",
      "\n"
     ]
    },
    {
     "data": {
      "image/png": "[encoded data removed]",
      "text/plain": [
       "plot without title"
      ]
     },
     "metadata": {
      "image/png": {
       "height": 420,
       "width": 420
      }
     },
     "output_type": "display_data"
    }
   ],
   "source": [
    "hsq = AC_hsq%>%filter(heritability >= 0, heritability <= 1)\n",
    "summ = tibble(\n",
    "  data = c(\"heritability\", \"h_SE\", \"pval\"),\n",
    "  mean = c(\n",
    "    hsq%>%pull(heritability)%>%mean(),\n",
    "    hsq%>%pull(h_SE)%>%mean(),\n",
    "    hsq%>%pull(pval)%>%mean()\n",
    "  ),\n",
    "  median = c(\n",
    "    hsq%>%pull(heritability)%>%median(),\n",
    "    hsq%>%pull(h_SE)%>%median(),\n",
    "    hsq%>%pull(pval)%>%median()\n",
    "    ),\n",
    "  var = c(\n",
    "    hsq%>%pull(heritability)%>%var(),\n",
    "    hsq%>%pull(h_SE)%>%var(),\n",
    "    hsq%>%pull(pval)%>%var()\n",
    "  ))\n",
    "summ\n",
    "hsq%>%ggplot(aes(x = pval))+geom_histogram()+geom_vline(xintercept = 0.05)+geom_vline(xintercept = 0.01)+ggtitle(\"Distribution of hsq p value in AC\")\n",
    "\n",
    "\n"
   ]
  },
  {
   "cell_type": "markdown",
   "metadata": {
    "kernel": "Bash"
   },
   "source": [
    "There are four filtering after heritability was estimated by REML of GCTA in the fusion workflow:\n",
    "\n",
    "    Convergence: GCTA need to converge\n",
    "    \n",
    "    Positivity: Estimated hsq > 0 and < 1\n",
    "    \n",
    "    Significance: Pvalue of Estimated hsq < 0.01\n",
    "\n",
    "The number of genes after each steps are as followed:\n",
    "To put things in percepective, an addtional column CS indicating the amount of gene with at least one CS given by susieR."
   ]
  },
  {
   "cell_type": "markdown",
   "metadata": {},
   "source": [
    "## Associaltion testing\n",
    "### Distribution of Best performing models\n",
    "Among the pilot TWAS Significant genes after adjusting for multiple testing, the best performing models is predominiantly top1, indicating a sparse model and therefore support the usage of the sparse SuSiE models"
   ]
  },
  {
   "cell_type": "code",
   "execution_count": 9,
   "metadata": {},
   "outputs": [
    {
     "data": {
      "image/png": "[encoded data removed]",
      "text/plain": [
       "plot without title"
      ]
     },
     "metadata": {
      "image/png": {
       "height": 420,
       "width": 420
      },
      "text/plain": {
       "height": 420,
       "width": 420
      }
     },
     "output_type": "display_data"
    },
    {
     "data": {
      "image/png": "[encoded data removed]",
      "text/plain": [
       "plot without title"
      ]
     },
     "metadata": {
      "image/png": {
       "height": 420,
       "width": 420
      },
      "text/plain": {
       "height": 420,
       "width": 420
      }
     },
     "output_type": "display_data"
    }
   ],
   "source": [
    "Top_TWAS_gene%>%mutate(TWAS.P = as.numeric(TWAS.P))%>%filter(TWAS.P < 0.05/45)%>%filter(str_detect(Proj_Name,\"SNP\"))%>%ggplot(aes(x = MODEL))+geom_bar()+facet_grid(~Proj_Name)\n",
    "Top_TWAS_gene%>%mutate(TWAS.P = as.numeric(TWAS.P))%>%filter(TWAS.P < 0.05/45/3)%>%filter(str_detect(Proj_Name,\"SNP\"))%>%ggplot(aes(x = MODEL))+geom_bar()"
   ]
  },
  {
   "cell_type": "markdown",
   "metadata": {
    "kernel": "R"
   },
   "source": [
    "# Citation\n",
    "    1.Jansen IE, Savage JE, Watanabe K, Bryois J, Williams DM, Steinberg S, Sealock J, Karlsson IK, Hägg S, Athanasiu L, Voyle N, Proitsi P, Witoelar A, Stringer S, Aarsland D, Almdahl IS, Andersen F, Bergh S, Bettella F, Bjornsson S, Brækhus A, Bråthen G, de Leeuw C, Desikan RS, Djurovic S, Dumitrescu L, Fladby T, Hohman TJ, Jonsson PV, Kiddle SJ, Rongve A, Saltvedt I, Sando SB, Selbæk G, Shoai M, Skene NG, Snaedal J, Stordal E, Ulstein ID, Wang Y, White LR, Hardy J, Hjerling-Leffler J, Sullivan PF, van der Flier WM, Dobson R, Davis LK, Stefansson H, Stefansson K, Pedersen NL, Ripke S, Andreassen OA, Posthuma D. Genome-wide meta-analysis identifies new loci and functional pathways influencing Alzheimer’s disease risk  Nature Genetics, 2019 Mar;51(3):404-413. doi: 10.1038/s41588-018-0311-9"
   ]
  }
 ],
 "metadata": {
  "kernelspec": {
   "display_name": "R",
   "language": "R",
   "name": "ir"
  },
  "language_info": {
   "codemirror_mode": "r",
   "file_extension": ".r",
   "mimetype": "text/x-r-source",
   "name": "R",
   "pygments_lexer": "r",
   "version": "4.0.0"
  },
  "sos": {
   "kernels": [
    [
     "Bash",
     "calysto_bash",
     "Bash",
     "#E6EEFF",
     ""
    ],
    [
     "R",
     "ir",
     "R",
     "#DCDCDA",
     "r"
    ],
    [
     "SoS",
     "sos",
     "",
     "",
     "sos"
    ]
   ],
   "version": "0.20.1"
  },
  "toc-autonumbering": true,
  "toc-showcode": false,
  "toc-showmarkdowntxt": false,
  "toc-showtags": false
 },
 "nbformat": 4,
 "nbformat_minor": 4
}
